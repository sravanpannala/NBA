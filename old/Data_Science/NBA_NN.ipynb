{
 "cells": [
  {
   "cell_type": "code",
   "execution_count": null,
   "source": [
    "import pandas as pd\r\n",
    "import numpy as np\r\n",
    "from sklearn.utils import shuffle\r\n",
    "from sklearn.preprocessing import MinMaxScaler\r\n",
    "import seaborn as sns\r\n",
    "import matplotlib.pyplot as plt"
   ],
   "outputs": [],
   "metadata": {}
  },
  {
   "cell_type": "code",
   "execution_count": null,
   "source": [
    "import tensorflow as tf\r\n",
    "from tensorflow import keras\r\n",
    "from tensorflow.keras.models import Sequential\r\n",
    "from tensorflow.keras.layers import Activation, Dense\r\n",
    "from tensorflow.keras.optimizers import Adam\r\n",
    "from tensorflow.keras.metrics import categorical_crossentropy\r\n",
    "from tensorflow.keras.wrappers.scikit_learn import KerasRegressor\r\n",
    "from sklearn.model_selection import cross_val_score\r\n",
    "from sklearn.model_selection import KFold"
   ],
   "outputs": [],
   "metadata": {}
  },
  {
   "cell_type": "code",
   "execution_count": null,
   "source": [
    "df = pd.read_csv('NBA_NN_Data_Basic_2020_2021.csv')\r\n",
    "df = df[df['MIN']>10]\r\n",
    "df.pop('PLAYER_ID')\r\n",
    "df.pop('PLAYER_NAME')\r\n",
    "df.head()\r\n",
    "len(df)"
   ],
   "outputs": [],
   "metadata": {}
  },
  {
   "cell_type": "code",
   "execution_count": null,
   "source": [
    "# sns.pairplot(df)"
   ],
   "outputs": [],
   "metadata": {}
  },
  {
   "cell_type": "code",
   "execution_count": null,
   "source": [
    "train_outputs = df.pop('RAPM')\r\n",
    "train_inputs = df\r\n",
    "train_inputs = np.array(train_inputs)\r\n",
    "train_outputs = np.array(train_outputs)\r\n",
    "scaler = MinMaxScaler(feature_range=(0,1))\r\n",
    "train_inputs = scaler.fit_transform(train_inputs)\r\n",
    "train_outputs = scaler.fit_transform(train_outputs.reshape(-1,1))\r\n",
    "# train_outputs = train_outputs.reshape(-1,1)\r\n",
    "train_outputs, train_inputs = shuffle(train_outputs, train_inputs)"
   ],
   "outputs": [],
   "metadata": {}
  },
  {
   "cell_type": "code",
   "execution_count": null,
   "source": [
    "X = train_inputs\r\n",
    "Y = train_outputs"
   ],
   "outputs": [],
   "metadata": {}
  },
  {
   "cell_type": "code",
   "execution_count": null,
   "source": [
    "np.shape(Y)"
   ],
   "outputs": [],
   "metadata": {}
  },
  {
   "cell_type": "code",
   "execution_count": null,
   "source": [
    "def baseline_model():\r\n",
    "\t# create model\r\n",
    "\tmodel = Sequential()\r\n",
    "\tmodel.add(Dense(21, input_dim=21, kernel_initializer='normal', activation='relu'))\r\n",
    "\tmodel.add(Dense(10, kernel_initializer='normal', activation='relu'))\r\n",
    "\tmodel.add(Dense(10, kernel_initializer='normal', activation='relu'))\r\n",
    "\tmodel.add(Dense(1, kernel_initializer='normal'))\r\n",
    "\t# Compile model\r\n",
    "\tmodel.compile(loss='mean_squared_error', optimizer=Adam(learning_rate=0.0001),metrics=['mae','accuracy'])\r\n",
    "\treturn model"
   ],
   "outputs": [],
   "metadata": {}
  },
  {
   "cell_type": "code",
   "execution_count": null,
   "source": [
    "# baseline_model().summary()\r\n",
    "estimator = KerasRegressor(build_fn=baseline_model, epochs=100, batch_size=20, verbose=1)\r\n",
    "results=estimator.fit(X,Y)"
   ],
   "outputs": [],
   "metadata": {}
  },
  {
   "cell_type": "code",
   "execution_count": null,
   "source": [
    "predictions = estimator.predict(X)"
   ],
   "outputs": [],
   "metadata": {}
  },
  {
   "cell_type": "code",
   "execution_count": null,
   "source": [
    "Y_p = predictions.reshape(-1,1)"
   ],
   "outputs": [],
   "metadata": {}
  },
  {
   "cell_type": "code",
   "execution_count": null,
   "source": [
    "arr = np.concatenate([Y,Y_p],axis=1)\r\n",
    "rdf=pd.DataFrame(arr,columns=['Y','Y_p'])\r\n",
    "rdf.head()"
   ],
   "outputs": [],
   "metadata": {}
  },
  {
   "cell_type": "code",
   "execution_count": null,
   "source": [
    "sns.scatterplot(x=rdf['Y'],y=rdf['Y_p'])\r\n",
    "plt.show()"
   ],
   "outputs": [],
   "metadata": {}
  }
 ],
 "metadata": {
  "orig_nbformat": 4,
  "language_info": {
   "name": "python"
  }
 },
 "nbformat": 4,
 "nbformat_minor": 2
}