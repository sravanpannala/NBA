{
 "cells": [
  {
   "cell_type": "markdown",
   "source": [
    "# [Keras Tutorial from freeCodeCamp.org](https://www.youtube.com/watch?v=qFJeN9V1ZsI)"
   ],
   "metadata": {}
  },
  {
   "cell_type": "markdown",
   "source": [
    "## Data processing\r\n",
    "* Data set of samples (inputs or input data) along with the corresponding labels (targets or target data) for those samples\r\n",
    "* Sequential Model receives data from fit function: expects x and y data. \r\n",
    "* Start with Numpy array. x and y should be in the same format.\r\n",
    "* Data standardization or normalization are important\r\n",
    "\r\n",
    "\r\n",
    "\r\n"
   ],
   "metadata": {}
  },
  {
   "cell_type": "code",
   "execution_count": null,
   "source": [
    "import numpy as np\r\n",
    "from random import randint\r\n",
    "from sklearn.utils import shuffle\r\n",
    "from sklearn.preprocessing import MinMaxScaler"
   ],
   "outputs": [],
   "metadata": {}
  },
  {
   "cell_type": "markdown",
   "source": [
    "## Data Processing"
   ],
   "metadata": {}
  },
  {
   "cell_type": "code",
   "execution_count": null,
   "source": [
    "train_samples = []\r\n",
    "train_labels  = []"
   ],
   "outputs": [],
   "metadata": {}
  },
  {
   "cell_type": "code",
   "execution_count": null,
   "source": [
    "for i in range(50):\r\n",
    "    # The ~5% of younger individuals who did experience side effects\r\n",
    "    random_younger = randint(13,64)\r\n",
    "    train_samples.append(random_younger)\r\n",
    "    train_labels.append(1)\r\n",
    "\r\n",
    "    # The ~5% of older individuals who did not experience side effects\r\n",
    "    random_older = randint(65,100)\r\n",
    "    train_samples.append(random_older)\r\n",
    "    train_labels.append(0)\r\n",
    "\r\n",
    "for i in range(1000):\r\n",
    "    # The ~95% of younger individuals who did not experience side effects\r\n",
    "    random_younger = randint(13,64)\r\n",
    "    train_samples.append(random_younger)\r\n",
    "    train_labels.append(0)\r\n",
    "\r\n",
    "    # The ~95% of older individuals who did experience side effects\r\n",
    "    random_older = randint(65,100)\r\n",
    "    train_samples.append(random_older)\r\n",
    "    train_labels.append(1)"
   ],
   "outputs": [],
   "metadata": {}
  },
  {
   "cell_type": "code",
   "execution_count": null,
   "source": [
    "train_labels = np.array(train_labels)\r\n",
    "train_samples = np.array(train_samples)\r\n",
    "train_labels, train_samples = shuffle(train_labels,train_samples)\r\n"
   ],
   "outputs": [],
   "metadata": {}
  },
  {
   "cell_type": "code",
   "execution_count": null,
   "source": [
    "scaler = MinMaxScaler(feature_range=(0,1))\r\n",
    "scaled_train_samples = scaler.fit_transform(train_samples.reshape(-1,1))\r\n"
   ],
   "outputs": [],
   "metadata": {}
  },
  {
   "cell_type": "markdown",
   "source": [
    "## Simple tf.keras Sequential Model"
   ],
   "metadata": {}
  },
  {
   "cell_type": "code",
   "execution_count": null,
   "source": [
    "import tensorflow as tf \r\n",
    "from tensorflow import keras\r\n",
    "from tensorflow.keras.models import Sequential\r\n",
    "from tensorflow.keras.layers import Activation, Dense\r\n",
    "from tensorflow.keras.optimizers import Adam"
   ],
   "outputs": [],
   "metadata": {}
  },
  {
   "cell_type": "code",
   "execution_count": null,
   "source": [
    "model = Sequential([\r\n",
    "    Dense(units=16, input_shape=(1,), activation='relu'),\r\n",
    "    Dense(units=32, activation='relu'),\r\n",
    "    Dense(units=2, activation='softmax')\r\n",
    "])"
   ],
   "outputs": [],
   "metadata": {}
  },
  {
   "cell_type": "code",
   "execution_count": null,
   "source": [
    "model.summary()"
   ],
   "outputs": [],
   "metadata": {}
  },
  {
   "cell_type": "markdown",
   "source": [
    "## Train the Model"
   ],
   "metadata": {}
  },
  {
   "cell_type": "code",
   "execution_count": null,
   "source": [
    "model.compile(optimizer=Adam(learning_rate=0.0001), loss='sparse_categorical_crossentropy', metrics=['accuracy'])"
   ],
   "outputs": [],
   "metadata": {}
  },
  {
   "cell_type": "code",
   "execution_count": null,
   "source": [
    "model.fit(x=scaled_train_samples, y=train_labels, batch_size=10, epochs=30, verbose=2)"
   ],
   "outputs": [],
   "metadata": {}
  },
  {
   "cell_type": "markdown",
   "source": [
    "## Building a Validation Set\r\n",
    "Keras can create it for us"
   ],
   "metadata": {}
  },
  {
   "cell_type": "code",
   "execution_count": null,
   "source": [
    "model.fit(\r\n",
    "      x=scaled_train_samples\r\n",
    "    , y=train_labels\r\n",
    "    , validation_split=0.1\r\n",
    "    , batch_size=10\r\n",
    "    , epochs=30\r\n",
    "    , verbose=2\r\n",
    ")"
   ],
   "outputs": [],
   "metadata": {}
  },
  {
   "cell_type": "markdown",
   "source": [
    "## Neural Network Predictions"
   ],
   "metadata": {}
  },
  {
   "cell_type": "code",
   "execution_count": null,
   "source": [],
   "outputs": [],
   "metadata": {}
  }
 ],
 "metadata": {
  "orig_nbformat": 4,
  "language_info": {
   "name": "python"
  }
 },
 "nbformat": 4,
 "nbformat_minor": 2
}