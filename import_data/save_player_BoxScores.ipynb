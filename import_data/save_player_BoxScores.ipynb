{
 "cells": [
  {
   "cell_type": "markdown",
   "metadata": {},
   "source": [
    "# Save Player Cumulative Season BoxScores "
   ]
  },
  {
   "cell_type": "code",
   "execution_count": 1,
   "metadata": {},
   "outputs": [],
   "source": [
    "import os, sys\n",
    "\n",
    "sys.path.append(os.path.dirname(os.path.dirname(os.path.abspath(\"__file__\"))))\n",
    "from nbafuns import *\n",
    "from nba_api.stats.endpoints import leaguedashplayerstats\n",
    "\n",
    "export_DIR = \"../fdata/\""
   ]
  },
  {
   "cell_type": "code",
   "execution_count": 16,
   "metadata": {},
   "outputs": [],
   "source": [
    "season_start = 2000\n",
    "season_end = 2024\n",
    "seasons = np.arange(season_start,season_end,1).astype(str)\n",
    "\n",
    "league = \"NBA\""
   ]
  },
  {
   "cell_type": "markdown",
   "metadata": {},
   "source": [
    "# Standard Boxscores"
   ]
  },
  {
   "cell_type": "code",
   "execution_count": 37,
   "metadata": {},
   "outputs": [],
   "source": [
    "for season in seasons:\n",
    "    season_str = season + \"-\" + str(int(season)+1)[-2:]\n",
    "    stats = leaguedashplayerstats.LeagueDashPlayerStats(\n",
    "        measure_type_detailed_defense=\"Base\", per_mode_detailed=\"PerGame\",season = season_str\n",
    "    )\n",
    "    df1 = stats.get_data_frames()[0]\n",
    "    df = df1.iloc[:,:32]\n",
    "    df.to_parquet(export_DIR+league +\"_Player_BoxScores_Standard_\"+season+\".parquet\")"
   ]
  },
  {
   "cell_type": "markdown",
   "metadata": {},
   "source": [
    "# Advanced Boxscores"
   ]
  },
  {
   "cell_type": "code",
   "execution_count": 17,
   "metadata": {},
   "outputs": [],
   "source": [
    "for season in seasons:\n",
    "    season_str = season + \"-\" + str(int(season)+1)[-2:]\n",
    "    stats = leaguedashplayerstats.LeagueDashPlayerStats(\n",
    "        measure_type_detailed_defense=\"Advanced\", per_mode_detailed=\"Per100Possessions\",season = season_str\n",
    "    )\n",
    "    df1 = stats.get_data_frames()[0]\n",
    "    df = df1.iloc[:,:43]\n",
    "    df.to_parquet(export_DIR+league +\"_Player_BoxScores_Adv_\"+season+\".parquet\")"
   ]
  },
  {
   "cell_type": "code",
   "execution_count": 20,
   "metadata": {},
   "outputs": [],
   "source": [
    "for season in seasons:\n",
    "    season_str = season + \"-\" + str(int(season)+1)[-2:]\n",
    "    stats = leaguedashplayerstats.LeagueDashPlayerStats(\n",
    "        measure_type_detailed_defense=\"Misc\", per_mode_detailed=\"PerGame\",season = season_str\n",
    "    )\n",
    "    df1 = stats.get_data_frames()[0]\n",
    "    df = df1.iloc[:,:43]\n",
    "    df.to_parquet(export_DIR+league +\"_Player_BoxScores_Misc_\"+season+\".parquet\")"
   ]
  },
  {
   "cell_type": "code",
   "execution_count": 21,
   "metadata": {},
   "outputs": [],
   "source": [
    "for season in seasons:\n",
    "    season_str = season + \"-\" + str(int(season)+1)[-2:]\n",
    "    stats = leaguedashplayerstats.LeagueDashPlayerStats(\n",
    "        measure_type_detailed_defense=\"Scoring\", per_mode_detailed=\"PerGame\",season = season_str\n",
    "    )\n",
    "    df1 = stats.get_data_frames()[0]\n",
    "    df = df1.iloc[:,:43]\n",
    "    df.to_parquet(export_DIR+league +\"_Player_BoxScores_Scoring_\"+season+\".parquet\")"
   ]
  }
 ],
 "metadata": {
  "kernelspec": {
   "display_name": "nba-ub9Z_EQq-py3.11",
   "language": "python",
   "name": "python3"
  },
  "language_info": {
   "codemirror_mode": {
    "name": "ipython",
    "version": 3
   },
   "file_extension": ".py",
   "mimetype": "text/x-python",
   "name": "python",
   "nbconvert_exporter": "python",
   "pygments_lexer": "ipython3",
   "version": "3.11.6"
  }
 },
 "nbformat": 4,
 "nbformat_minor": 2
}
