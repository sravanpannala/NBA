{
 "cells": [
  {
   "cell_type": "markdown",
   "metadata": {},
   "source": [
    "# Save Player Cumulative Season BoxScores "
   ]
  },
  {
   "cell_type": "code",
   "execution_count": null,
   "metadata": {},
   "outputs": [],
   "source": [
    "import os, sys\n",
    "\n",
    "sys.path.append(os.path.dirname(os.path.dirname(os.path.abspath(\"__file__\"))))\n",
    "from nbafuns import *\n",
    "from nba_api.stats.endpoints import leaguedashplayerstats\n",
    "\n",
    "export_DIR = \"../fdata/\""
   ]
  },
  {
   "cell_type": "code",
   "execution_count": null,
   "metadata": {},
   "outputs": [],
   "source": [
    "season_start = 2000\n",
    "season_end = 2024\n",
    "seasons = np.arange(season_start,season_end,1).astype(str)\n",
    "\n",
    "league = \"NBA\""
   ]
  },
  {
   "cell_type": "markdown",
   "metadata": {},
   "source": [
    "# Standard Boxscores"
   ]
  },
  {
   "cell_type": "code",
   "execution_count": 1,
   "metadata": {},
   "outputs": [],
   "source": [
    "def update_player_boxscores(seasons, measure = \"Base\", n= 32):\n",
    "    if measure == \"Advanced\":\n",
    "        per_mode = \"Per100Possessions\"\n",
    "    else:\n",
    "        per_mode = \"PerGame\"\n",
    "    for season in seasons:\n",
    "        season_str = season + \"-\" + str(int(season)+1)[-2:]\n",
    "        stats = leaguedashplayerstats.LeagueDashPlayerStats(\n",
    "            measure_type_detailed_defense=measure, per_mode_detailed=per_mode,season = season_str\n",
    "        )\n",
    "        df1 = stats.get_data_frames()[0]\n",
    "        df = df1.iloc[:,:n]\n",
    "        df.to_parquet(export_DIR + league +f\"_Player_BoxScores_{measure}_\"+season+\".parquet\")"
   ]
  },
  {
   "cell_type": "code",
   "execution_count": null,
   "metadata": {},
   "outputs": [],
   "source": [
    "update_player_boxscores(seasons, measure = \"Base\", n= 32)\n",
    "update_player_boxscores(seasons, measure = \"Advanced\", n= 43)\n",
    "update_player_boxscores(seasons, measure = \"Misc\", n= 23)\n",
    "update_player_boxscores(seasons, measure = \"Scoring\", n= 29)"
   ]
  },
  {
   "cell_type": "markdown",
   "metadata": {},
   "source": [
    "# Individual Game BoxScores"
   ]
  },
  {
   "cell_type": "code",
   "execution_count": null,
   "metadata": {},
   "outputs": [],
   "source": [
    "def update_individual_boxscores(seasons):\n",
    "    for season in seasons:\n",
    "        print(season)\n",
    "        stats = leaguegamelog.LeagueGameLog(\n",
    "            player_or_team_abbreviation=\"P\",\n",
    "            season=season,\n",
    "            season_type_all_star=\"Regular Season\",\n",
    "        )\n",
    "        df = stats.get_data_frames()[0]\n",
    "        df.to_parquet(export_DIR + league + \"_Player_BoxScores_\" + \"Indv\" + \"_\" + season + \".parquet\")"
   ]
  },
  {
   "cell_type": "code",
   "execution_count": null,
   "metadata": {},
   "outputs": [],
   "source": [
    "update_individual_boxscores(seasons)"
   ]
  }
 ],
 "metadata": {
  "kernelspec": {
   "display_name": "nba-ub9Z_EQq-py3.11",
   "language": "python",
   "name": "python3"
  },
  "language_info": {
   "codemirror_mode": {
    "name": "ipython",
    "version": 3
   },
   "file_extension": ".py",
   "mimetype": "text/x-python",
   "name": "python",
   "nbconvert_exporter": "python",
   "pygments_lexer": "ipython3",
   "version": "3.11.6"
  }
 },
 "nbformat": 4,
 "nbformat_minor": 2
}
