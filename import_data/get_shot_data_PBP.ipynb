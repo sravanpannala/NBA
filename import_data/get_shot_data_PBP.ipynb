{
 "cells": [
  {
   "cell_type": "code",
   "execution_count": null,
   "metadata": {},
   "outputs": [],
   "source": [
    "import os, sys\n",
    "\n",
    "sys.path.append(os.path.dirname(os.path.dirname(os.path.abspath(\"__file__\"))))\n",
    "from nbafuns import *\n",
    "from pbpstats.resources.enhanced_pbp import FieldGoal\n",
    "\n",
    "data_DIR = \"../Shot_Charts/ShotLocationData/\""
   ]
  },
  {
   "cell_type": "code",
   "execution_count": null,
   "metadata": {},
   "outputs": [],
   "source": [
    "# vars1 = [attr for attr in dir(possession_event) if not callable(getattr(possession_event,attr)) and not attr.startswith(\"_\")]\n",
    "shot_variables = [\n",
    "    \"game_id\",\n",
    "    \"clock\",\n",
    "    \"player1_id\",\n",
    "    \"team_id\",\n",
    "    \"distance\",\n",
    "    \"locX\",\n",
    "    \"locY\",\n",
    "    \"shot_value\",\n",
    "    \"shot_type\",\n",
    "    \"is_and1\",\n",
    "    \"is_assisted\",\n",
    "    \"is_blocked\",\n",
    "    \"is_corner_3\",\n",
    "    \"is_heave\",\n",
    "    \"is_made\",\n",
    "    \"is_putback\",\n",
    "    \"player2_id\",\n",
    "    \"period\",\n",
    "    \"score_margin\",\n",
    "    \"seconds_remaining\",\n",
    "    \"seconds_since_previous_event\",\n",
    "]"
   ]
  },
  {
   "cell_type": "code",
   "execution_count": null,
   "metadata": {},
   "outputs": [],
   "source": [
    "def set_dtypes(df):\n",
    "    for col in df.columns:\n",
    "        if \"is_\" in col:\n",
    "            df[col] = df[col].astype(bool)\n",
    "        elif \"_id\" in col:\n",
    "            df[col] = df[col].astype(int)\n",
    "    if df[\"clock\"].dtype == 'O':\n",
    "        mask = ~df[\"clock\"].str.contains('\\.')\n",
    "        df.loc[mask,\"clock\"] = df.loc[mask,\"clock\"].apply(lambda x: x + \".0\")\n",
    "        df[\"clock\"] = pd.to_datetime(df[\"clock\"],format=\"%M:%S.%f\").dt.time\n",
    "    return df"
   ]
  },
  {
   "cell_type": "code",
   "execution_count": null,
   "metadata": {
    "tags": []
   },
   "outputs": [],
   "source": [
    "def get_loc_data(games_list, player_dict):\n",
    "    pos_store = []\n",
    "    for game in tqdm(games_list):\n",
    "        for possession in game.possessions.items:\n",
    "            for possession_event in possession.events:\n",
    "                if isinstance(possession_event, FieldGoal):\n",
    "                    poss = {}\n",
    "                    for var in shot_variables:\n",
    "                        try:\n",
    "                            poss[var] = getattr(possession_event, var)\n",
    "                        except:\n",
    "                            poss[var] = 0\n",
    "                    pos_store.append(poss)\n",
    "    df = pd.DataFrame(pos_store)\n",
    "    df = df.rename(columns={\"player1_id\": \"player_id\", \"player2_id\": \"player_ast_id\"})\n",
    "    df[\"player_name\"] = df[\"player_id\"].map(player_dict)\n",
    "    df[\"player_ast_name\"] = df[\"player_ast_id\"].map(player_dict)\n",
    "    return df"
   ]
  },
  {
   "cell_type": "code",
   "execution_count": null,
   "metadata": {},
   "outputs": [],
   "source": [
    "league = \"NBA\"\n",
    "season_type = \"Regular Season\"\n",
    "seasons = np.arange(2023, 2024, 1).astype(str)\n",
    "for season in seasons:\n",
    "    print(season)\n",
    "    if int(season) > 2021:\n",
    "        data_provider = \"data_nba\"\n",
    "    else:\n",
    "        data_provider = \"stats_nba\"\n",
    "    games_id = pbp_season(\n",
    "        league=league,\n",
    "        season_yr=season,\n",
    "        season_type=season_type,\n",
    "        data_provider=data_provider,\n",
    "    )\n",
    "    games_list = pbp_games(games_id, data_provider=data_provider)\n",
    "    player_dict = get_players_pbp(league=league)\n",
    "    data = get_loc_data(games_list, player_dict)\n",
    "    data = set_dtypes(data)\n",
    "    # data.to_csv(data_DIR + f\"{league}_Shot_Loc_\" + season + \".csv\", index=False)\n",
    "    # data.to_pickle(data_DIR + f\"{league}_Shot_Loc_\" + season + \".pkl.zst\")\n",
    "    data.to_parquet(data_DIR + f\"{league}_Shot_Loc_\" + season + \".parquet\")"
   ]
  }
 ],
 "metadata": {
  "interpreter": {
   "hash": "761d0843975b951240ed3f8c006d1f1501cd2a4c66c1dd99cea9ed75b2c1e460"
  },
  "kernelspec": {
   "display_name": "Python 3.9.6 64-bit ('nba-dIF8YUVF-py3.9': poetry)",
   "name": "python3"
  },
  "language_info": {
   "codemirror_mode": {
    "name": "ipython",
    "version": 3
   },
   "file_extension": ".py",
   "mimetype": "text/x-python",
   "name": "python",
   "nbconvert_exporter": "python",
   "pygments_lexer": "ipython3",
   "version": "3.11.6"
  },
  "orig_nbformat": 4
 },
 "nbformat": 4,
 "nbformat_minor": 2
}
