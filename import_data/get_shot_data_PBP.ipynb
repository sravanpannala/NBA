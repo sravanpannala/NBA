{
 "cells": [
  {
   "cell_type": "code",
   "execution_count": null,
   "metadata": {},
   "outputs": [],
   "source": [
    "import os, sys\n",
    "sys.path.append(os.path.dirname(os.path.dirname(os.path.abspath(\"__file__\"))))\n",
    "from nbafuns import *\n",
    "from pbpstats.resources.enhanced_pbp import FieldGoal\n",
    "\n",
    "data_DIR = \"../Shot_Charts/ShotLocationData/\""
   ]
  },
  {
   "cell_type": "code",
   "execution_count": null,
   "metadata": {},
   "outputs": [],
   "source": [
    "# vars1 = [attr for attr in dir(possession_event) if not callable(getattr(possession_event,attr)) and not attr.startswith(\"_\")]\n",
    "shot_variables = ['game_id','clock','player1_id','team_id','distance','locX','locY','shot_value','shot_type','is_and1','is_assisted','is_blocked','is_corner_3','is_heave','is_made','is_putback','player2_id','period','score_margin','seconds_remaining','seconds_since_previous_event']"
   ]
  },
  {
   "cell_type": "code",
   "execution_count": null,
   "metadata": {
    "tags": []
   },
   "outputs": [],
   "source": [
    "def get_loc_data(games_list,player_dict,team_dict):\n",
    "    pos_store = []\n",
    "    for game in tqdm(games_list):\n",
    "        for possession in game.possessions.items:\n",
    "            for possession_event in possession.events:\n",
    "                if isinstance(possession_event, FieldGoal):    \n",
    "                    poss = {}\n",
    "                    for var in shot_variables:\n",
    "                        try:\n",
    "                            poss[var] = getattr(possession_event,var)\n",
    "                        except:\n",
    "                            poss[var] = 0\n",
    "                    pos_store.append(poss)\n",
    "    df = pd.DataFrame(pos_store)\n",
    "    df = df.rename(columns = {\"player1_id\":\"player_id\",\"player2_id\":\"player_ast_id\"})\n",
    "    df[\"player_name\"] = df[\"player_id\"].map(player_dict)\n",
    "    df[\"player_ast_name\"] = df[\"player_ast_id\"].map(player_dict)\n",
    "    return df"
   ]
  },
  {
   "cell_type": "code",
   "execution_count": null,
   "metadata": {},
   "outputs": [],
   "source": [
    "data_provider = \"data_nba\"\n",
    "league = \"NBA\"\n",
    "season_type = \"Regular Season\"\n",
    "seasons = np.arange(2023,2024,1).astype(str)\n",
    "for season in seasons:\n",
    "    print(season)\n",
    "    games_id = pbp_season(league=league,season_yr=season,season_type=season_type,data_provider=data_provider)\n",
    "    games_list = pbp_games(games_id,data_provider=data_provider)\n",
    "    player_dict = get_players_pbp(league=league)\n",
    "    team_dict = teams.get_teams()\n",
    "    team_dict = get_teams(league = league)\n",
    "    data = get_loc_data(games_list,player_dict,team_dict)\n",
    "    data.to_csv(data_DIR+f\"{league}_Shot_Loc_\"+season+\".csv\",index=False)"
   ]
  }
 ],
 "metadata": {
  "interpreter": {
   "hash": "761d0843975b951240ed3f8c006d1f1501cd2a4c66c1dd99cea9ed75b2c1e460"
  },
  "kernelspec": {
   "display_name": "Python 3.9.6 64-bit ('nba-dIF8YUVF-py3.9': poetry)",
   "name": "python3"
  },
  "language_info": {
   "codemirror_mode": {
    "name": "ipython",
    "version": 3
   },
   "file_extension": ".py",
   "mimetype": "text/x-python",
   "name": "python",
   "nbconvert_exporter": "python",
   "pygments_lexer": "ipython3",
   "version": "3.11.6"
  },
  "orig_nbformat": 4
 },
 "nbformat": 4,
 "nbformat_minor": 2
}
