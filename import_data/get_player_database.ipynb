{
 "cells": [
  {
   "cell_type": "markdown",
   "metadata": {},
   "source": [
    "# Create NBA Players database"
   ]
  },
  {
   "cell_type": "code",
   "execution_count": null,
   "metadata": {},
   "outputs": [],
   "source": [
    "import time\n",
    "\n",
    "import numpy as np\n",
    "import pandas as pd\n",
    "from IPython.display import clear_output\n",
    "from nba_api.stats.endpoints import commonallplayers as player_info"
   ]
  },
  {
   "cell_type": "code",
   "execution_count": null,
   "metadata": {},
   "outputs": [],
   "source": [
    "league_id = \"00\"\n",
    "league = \"NBA\"\n",
    "# league_id = '10'\n",
    "# league = 'WNBA'\n",
    "# league_id = '20'\n",
    "# league = 'GLeague'\n",
    "season = \"2024\"\n",
    "response = player_info.CommonAllPlayers(\n",
    "    is_only_current_season=[\"0\"], league_id=league_id, season=season\n",
    ").get_data_frames()[0]\n",
    "response[\"PERSON_ID\"] = response[\"PERSON_ID\"].astype(int)\n",
    "response[\"FROM_YEAR\"] = response[\"FROM_YEAR\"].astype(int)\n",
    "response[\"TO_YEAR\"] = response[\"TO_YEAR\"].astype(int)\n",
    "response = response.rename(\n",
    "    columns={\n",
    "        \"PERSON_ID\": \"pID\",\n",
    "        \"DISPLAY_FIRST_LAST\": \"Name\",\n",
    "        \"FROM_YEAR\": \"From\",\n",
    "        \"TO_YEAR\": \"To\",\n",
    "    }\n",
    ")\n",
    "data = response[[\"pID\", \"Name\", \"From\", \"To\"]]\n",
    "data.head()"
   ]
  },
  {
   "cell_type": "code",
   "execution_count": null,
   "metadata": {},
   "outputs": [],
   "source": [
    "data.to_csv(f\"../data/{league}_players_database.csv\", index=False)"
   ]
  }
 ],
 "metadata": {
  "interpreter": {
   "hash": "761d0843975b951240ed3f8c006d1f1501cd2a4c66c1dd99cea9ed75b2c1e460"
  },
  "kernelspec": {
   "display_name": "Python 3.9.7 64-bit ('nba-dIF8YUVF-py3.9': poetry)",
   "name": "python3"
  },
  "language_info": {
   "codemirror_mode": {
    "name": "ipython",
    "version": 3
   },
   "file_extension": ".py",
   "mimetype": "text/x-python",
   "name": "python",
   "nbconvert_exporter": "python",
   "pygments_lexer": "ipython3",
   "version": "3.11.6"
  },
  "orig_nbformat": 2
 },
 "nbformat": 4,
 "nbformat_minor": 2
}
