{
 "cells": [
  {
   "cell_type": "code",
   "execution_count": null,
   "metadata": {},
   "outputs": [],
   "source": [
    "import time\n",
    "from itertools import product\n",
    "\n",
    "import numpy as np\n",
    "import pandas as pd\n",
    "from nba_api.stats.endpoints import synergyplaytypes\n",
    "from tqdm import tqdm\n",
    "\n",
    "export_DIR = \"../fdata/synergy/\""
   ]
  },
  {
   "cell_type": "code",
   "execution_count": null,
   "metadata": {},
   "outputs": [],
   "source": [
    "playtypes = [\"Transition\",\"Isolation\",\"PRBallHandler\",\"PRRollman\",\"Postup\",\"Spotup\",\"Handoff\",\"Cut\",\"OffScreen\",\"OffRebound\",\"Misc\"]\n",
    "typegrouping = [\"offensive\",\"defensive\"]"
   ]
  },
  {
   "cell_type": "code",
   "execution_count": null,
   "metadata": {},
   "outputs": [],
   "source": [
    "season_start = 2023\n",
    "season_end = 2024\n",
    "seasons = np.arange(season_start, season_end, 1).astype(str)"
   ]
  },
  {
   "cell_type": "code",
   "execution_count": null,
   "metadata": {},
   "outputs": [],
   "source": [
    "dfl = []\n",
    "for season in tqdm(seasons):    \n",
    "    dfa = []\n",
    "    for typeg,typep in product(typegrouping,playtypes):\n",
    "        # print(typeg,typep)\n",
    "        for ii in range(5):\n",
    "            try:\n",
    "                stats = synergyplaytypes.SynergyPlayTypes(\n",
    "                    league_id = \"00\",\n",
    "                    per_mode_simple = \"PerGame\",\n",
    "                    player_or_team_abbreviation\t= \"T\",\n",
    "                    season_type_all_star = \"Regular Season\",\n",
    "                    season = season,\n",
    "                    type_grouping_nullable= typeg,\n",
    "                    play_type_nullable= typep,\n",
    "                )\n",
    "                df1 = stats.get_data_frames()[0]\n",
    "                dfa.append(df1)\n",
    "                break\n",
    "            except Exception as error:\n",
    "                print(season)\n",
    "                print(error)\n",
    "                time.sleep(0.6)\n",
    "                continue\n",
    "    df = pd.concat(dfa)\n",
    "    df.to_parquet(export_DIR +f\"NBA_Synergy_Team_PG_{season}.parquet\")\n",
    "    dfl.append(df)"
   ]
  },
  {
   "cell_type": "code",
   "execution_count": null,
   "metadata": {},
   "outputs": [],
   "source": [
    "dfl = []\n",
    "dfal = []\n",
    "for season in tqdm(seasons):    \n",
    "    dfa = []\n",
    "    for typeg,typep in product(typegrouping,playtypes):\n",
    "        # print(typeg,typep)\n",
    "        for ii in range(5):\n",
    "            try:\n",
    "                stats = synergyplaytypes.SynergyPlayTypes(\n",
    "                    league_id = \"00\",\n",
    "                    per_mode_simple = \"PerGame\",\n",
    "                    player_or_team_abbreviation\t= \"P\",\n",
    "                    season_type_all_star = \"Regular Season\",\n",
    "                    season = season,\n",
    "                    type_grouping_nullable= typeg,\n",
    "                    play_type_nullable= typep,\n",
    "                )\n",
    "                df1 = stats.get_data_frames()[0]\n",
    "                dfa.append(df1)\n",
    "                break\n",
    "            except Exception as error:\n",
    "                print(season)\n",
    "                print(error)\n",
    "                time.sleep(0.6)\n",
    "                continue\n",
    "    dfa1 = [df2 for df2 in dfa if not df2.empty]\n",
    "    df = pd.concat(dfa1)\n",
    "    df.to_parquet(export_DIR +f\"NBA_Synergy_Player_PG_{season}.parquet\")\n",
    "    dfl.append(df)\n",
    "    dfal.append(dfa)"
   ]
  },
  {
   "cell_type": "code",
   "execution_count": null,
   "metadata": {},
   "outputs": [],
   "source": [
    "dfl = []\n",
    "for season in tqdm(seasons):    \n",
    "    dfa = []\n",
    "    for typeg,typep in product(typegrouping,playtypes):\n",
    "        # print(typeg,typep)\n",
    "        for ii in range(5):\n",
    "            try:\n",
    "                stats = synergyplaytypes.SynergyPlayTypes(\n",
    "                    league_id = \"00\",\n",
    "                    per_mode_simple = \"Totals\",\n",
    "                    player_or_team_abbreviation\t= \"T\",\n",
    "                    season_type_all_star = \"Regular Season\",\n",
    "                    season = season,\n",
    "                    type_grouping_nullable= typeg,\n",
    "                    play_type_nullable= typep,\n",
    "                )\n",
    "                df1 = stats.get_data_frames()[0]\n",
    "                dfa.append(df1)\n",
    "                break\n",
    "            except Exception as error:\n",
    "                print(season)\n",
    "                print(error)\n",
    "                time.sleep(0.6)\n",
    "                continue\n",
    "    df = pd.concat(dfa)\n",
    "    df.to_parquet(export_DIR +f\"NBA_Synergy_Team_Tot_{season}.parquet\")\n",
    "    dfl.append(df)"
   ]
  },
  {
   "cell_type": "code",
   "execution_count": null,
   "metadata": {},
   "outputs": [],
   "source": [
    "dfl = []\n",
    "dfal = []\n",
    "for season in tqdm(seasons):    \n",
    "    dfa = []\n",
    "    for typeg,typep in product(typegrouping,playtypes):\n",
    "        # print(typeg,typep)\n",
    "        for ii in range(5):\n",
    "            try:\n",
    "                stats = synergyplaytypes.SynergyPlayTypes(\n",
    "                    league_id = \"00\",\n",
    "                    per_mode_simple = \"Totals\",\n",
    "                    player_or_team_abbreviation\t= \"P\",\n",
    "                    season_type_all_star = \"Regular Season\",\n",
    "                    season = season,\n",
    "                    type_grouping_nullable= typeg,\n",
    "                    play_type_nullable= typep,\n",
    "                )\n",
    "                df1 = stats.get_data_frames()[0]\n",
    "                dfa.append(df1)\n",
    "                break\n",
    "            except Exception as error:\n",
    "                print(season)\n",
    "                print(error)\n",
    "                time.sleep(0.6)\n",
    "                continue\n",
    "    dfa1 = [df2 for df2 in dfa if not df2.empty]\n",
    "    df = pd.concat(dfa1)\n",
    "    df.to_parquet(export_DIR +f\"NBA_Synergy_Player_Tot_{season}.parquet\")\n",
    "    dfl.append(df)\n",
    "    dfal.append(dfa)"
   ]
  }
 ],
 "metadata": {
  "kernelspec": {
   "display_name": "nba-ub9Z_EQq-py3.11",
   "language": "python",
   "name": "python3"
  },
  "language_info": {
   "codemirror_mode": {
    "name": "ipython",
    "version": 3
   },
   "file_extension": ".py",
   "mimetype": "text/x-python",
   "name": "python",
   "nbconvert_exporter": "python",
   "pygments_lexer": "ipython3",
   "version": "3.11.6"
  }
 },
 "nbformat": 4,
 "nbformat_minor": 2
}
