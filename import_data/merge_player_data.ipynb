{
 "cells": [
  {
   "cell_type": "markdown",
   "metadata": {},
   "source": [
    "# Merge Data for Several Years \n",
    "## Run after get_player_data.ipynb"
   ]
  },
  {
   "cell_type": "code",
   "execution_count": 5,
   "metadata": {},
   "outputs": [],
   "source": [
    "import pandas as pd\n",
    "\n",
    "year = 2020"
   ]
  },
  {
   "cell_type": "code",
   "execution_count": null,
   "metadata": {},
   "outputs": [],
   "source": [
    "league, league_id, season = \"NBA\", \"00\", str(year) + \"-\" + str(year + 1)[-2:]\n",
    "\n",
    "df1 = pd.read_csv(f\"fdata/NBA_BS_Stats_{year}_{year+1}.csv\")\n",
    "\n",
    "df2 = pd.read_csv(f\"fdata/NBA_BS_Shot_{year}_{year+1}.csv\")\n",
    "\n",
    "df3 = pd.read_csv(f\"fdata/NBA_BS_Def_{year}_{year+1}.csv\")\n",
    "\n",
    "df4 = pd.read_csv(f\"fdata/NBA_BS_Hus_{year}_{year+1}.csv\")"
   ]
  },
  {
   "cell_type": "code",
   "execution_count": null,
   "metadata": {},
   "outputs": [],
   "source": [
    "df5 = pd.read_csv(f\"fdata/NBA_RAPM_3Y_{year-2}_{year+1}.csv\")\n",
    "\n",
    "df5 = df5[[\"PLAYER_ID\", \"RAPM\"]]\n",
    "\n",
    "df5.head()"
   ]
  },
  {
   "cell_type": "code",
   "execution_count": null,
   "metadata": {},
   "outputs": [],
   "source": [
    "df = pd.merge(df1, df2, how=\"inner\", on=[\"PLAYER_ID\"])\n",
    "\n",
    "df = pd.merge(df, df3, how=\"inner\", on=[\"PLAYER_ID\"])\n",
    "\n",
    "df = pd.merge(df, df4, how=\"inner\", on=[\"PLAYER_ID\"])\n",
    "\n",
    "df = pd.merge(df, df5, how=\"inner\", on=[\"PLAYER_ID\"])\n",
    "\n",
    "\n",
    "df.to_csv(f\"fdata/NBA_NN_Data_2020_2021.csv\", index=False)"
   ]
  },
  {
   "cell_type": "code",
   "execution_count": 7,
   "metadata": {},
   "outputs": [],
   "source": [
    "df1 = pd.read_csv(f\"fdata/NBA_NN_Data_Basic_2020_2021.csv\")\n",
    "\n",
    "df2 = pd.read_csv(f\"fdata/NBA_RAPM_3Y_{year-2}_{year+1}.csv\")\n",
    "\n",
    "df2 = df2[[\"PLAYER_ID\", \"RAPM\"]]\n",
    "\n",
    "df = pd.merge(df1, df2, how=\"inner\", on=[\"PLAYER_ID\"])\n",
    "\n",
    "df.to_csv(f\"fdata/NBA_NN_Data_Basic_2020_2021.csv\", index=False)"
   ]
  }
 ],
 "metadata": {
  "language_info": {
   "name": "python"
  },
  "orig_nbformat": 4
 },
 "nbformat": 4,
 "nbformat_minor": 2
}
