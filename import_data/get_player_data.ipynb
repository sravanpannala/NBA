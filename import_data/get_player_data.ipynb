{
 "cells": [
  {
   "cell_type": "markdown",
   "metadata": {},
   "source": [
    "# Deprecated Code\n",
    "# Get Player Related Data from NBA API"
   ]
  },
  {
   "cell_type": "code",
   "execution_count": null,
   "metadata": {},
   "outputs": [],
   "source": [
    "import itertools\n",
    "import time\n",
    "\n",
    "import numpy as np\n",
    "import pandas as pd\n",
    "from IPython.display import clear_output\n",
    "from nba_api.stats.endpoints import (LeagueDashPlayerBioStats,\n",
    "                                     LeagueDashPlayerPtShot,\n",
    "                                     LeagueDashPlayerStats, LeagueDashPtDefend,\n",
    "                                     LeagueHustleStatsPlayer)"
   ]
  },
  {
   "cell_type": "code",
   "execution_count": null,
   "metadata": {},
   "outputs": [],
   "source": [
    "# years = range(2016,2021,1)\n",
    "years = [2020]"
   ]
  },
  {
   "cell_type": "code",
   "execution_count": null,
   "metadata": {},
   "outputs": [],
   "source": [
    "for year in years:\n",
    "    league, league_id, season = \"NBA\", \"00\", str(year) + \"-\" + str(year + 1)[-2:]\n",
    "    response = LeagueDashPlayerStats(\n",
    "        per_mode_detailed=\"PerGame\",\n",
    "        measure_type_detailed_defense=\"Base\",\n",
    "        season=season,\n",
    "        league_id_nullable=league_id,\n",
    "    ).get_data_frames()\n",
    "    resp = response[0]\n",
    "    resp.columns\n",
    "    data = resp[\n",
    "        [\n",
    "            \"PLAYER_ID\",\n",
    "            \"PLAYER_NAME\",\n",
    "            \"MIN\",\n",
    "            \"FGM\",\n",
    "            \"FGA\",\n",
    "            \"FG_PCT\",\n",
    "            \"FG3M\",\n",
    "            \"FG3A\",\n",
    "            \"FG3_PCT\",\n",
    "            \"FTM\",\n",
    "            \"FTA\",\n",
    "            \"FT_PCT\",\n",
    "            \"OREB\",\n",
    "            \"DREB\",\n",
    "            \"REB\",\n",
    "            \"AST\",\n",
    "            \"TOV\",\n",
    "            \"STL\",\n",
    "            \"BLK\",\n",
    "            \"BLKA\",\n",
    "            \"PF\",\n",
    "            \"PTS\",\n",
    "            \"PLUS_MINUS\",\n",
    "        ]\n",
    "    ]\n",
    "    time.sleep(0.6)\n",
    "    data.to_csv(f\"fdata/NBA_NN_Data_Basic_{year}_{year+1}.csv\", index=False)"
   ]
  },
  {
   "cell_type": "code",
   "execution_count": null,
   "metadata": {},
   "outputs": [],
   "source": [
    "for year in years:\n",
    "    league, league_id, season = \"NBA\", \"00\", str(year) + \"-\" + str(year + 1)[-2:]\n",
    "    response = LeagueDashPlayerStats(\n",
    "        per_mode_detailed=\"PerGame\",\n",
    "        measure_type_detailed_defense=\"Base\",\n",
    "        season=season,\n",
    "        league_id_nullable=league_id,\n",
    "    ).get_data_frames()\n",
    "    resp = response[0]\n",
    "    data = resp[\n",
    "        [\n",
    "            \"PLAYER_ID\",\n",
    "            \"PLAYER_NAME\",\n",
    "            \"MIN\",\n",
    "            \"FTM\",\n",
    "            \"FTA\",\n",
    "            \"FT_PCT\",\n",
    "            \"OREB\",\n",
    "            \"DREB\",\n",
    "            \"REB\",\n",
    "            \"AST\",\n",
    "            \"TOV\",\n",
    "            \"STL\",\n",
    "            \"BLK\",\n",
    "            \"BLKA\",\n",
    "            \"PF\",\n",
    "            \"PTS\",\n",
    "            \"PLUS_MINUS\",\n",
    "        ]\n",
    "    ]\n",
    "    time.sleep(0.6)\n",
    "    data.to_csv(f\"fdata/NBA_BS_Stats_{year}_{year+1}.csv\", index=False)"
   ]
  },
  {
   "cell_type": "markdown",
   "metadata": {},
   "source": [
    "## Stats"
   ]
  },
  {
   "cell_type": "code",
   "execution_count": null,
   "metadata": {},
   "outputs": [],
   "source": [
    "for year in years:\n",
    "    league, league_id, season = \"NBA\", \"00\", str(year) + \"-\" + str(year + 1)[-2:]\n",
    "    response = LeagueDashPlayerStats(\n",
    "        per_mode_detailed=\"PerGame\",\n",
    "        measure_type_detailed_defense=\"Base\",\n",
    "        season=season,\n",
    "        league_id_nullable=league_id,\n",
    "    ).get_data_frames()\n",
    "    resp = response[0]\n",
    "    data = resp[\n",
    "        [\n",
    "            \"PLAYER_ID\",\n",
    "            \"PLAYER_NAME\",\n",
    "            \"MIN\",\n",
    "            \"FTM\",\n",
    "            \"FTA\",\n",
    "            \"FT_PCT\",\n",
    "            \"OREB\",\n",
    "            \"DREB\",\n",
    "            \"REB\",\n",
    "            \"AST\",\n",
    "            \"TOV\",\n",
    "            \"STL\",\n",
    "            \"BLK\",\n",
    "            \"BLKA\",\n",
    "            \"PF\",\n",
    "            \"PTS\",\n",
    "            \"PLUS_MINUS\",\n",
    "        ]\n",
    "    ]\n",
    "    time.sleep(0.6)\n",
    "    data.to_csv(f\"fdata/NBA_BS_Stats_{year}_{year+1}.csv\", index=False)"
   ]
  },
  {
   "cell_type": "markdown",
   "metadata": {},
   "source": [
    "## Advanced Stats"
   ]
  },
  {
   "cell_type": "code",
   "execution_count": null,
   "metadata": {},
   "outputs": [],
   "source": [
    "for year in years:\n",
    "    league, league_id, season = \"NBA\", \"00\", str(year) + \"-\" + str(year + 1)[-2:]\n",
    "    response = LeagueDashPlayerStats(\n",
    "        per_mode_detailed=\"PerGame\",\n",
    "        measure_type_detailed_defense=\"Advanced\",\n",
    "        season=season,\n",
    "        league_id_nullable=league_id,\n",
    "    ).get_data_frames()\n",
    "    resp = response[0]\n",
    "    data = resp[[\"PLAYER_ID\", \"EFG_PCT\", \"TS_PCT\", \"USG_PCT\"]]\n",
    "    time.sleep(0.6)\n",
    "    data.to_csv(f\"fdata/NBA_BS_AdvStats_{year}_{year+1}.csv\", index=False)"
   ]
  },
  {
   "cell_type": "markdown",
   "metadata": {},
   "source": [
    "## Shooting"
   ]
  },
  {
   "cell_type": "code",
   "execution_count": null,
   "metadata": {},
   "outputs": [],
   "source": [
    "for year in years:\n",
    "    league, league_id, season = \"NBA\", \"00\", str(year) + \"-\" + str(year + 1)[-2:]\n",
    "    response = LeagueDashPlayerPtShot(\n",
    "        per_mode_simple=\"PerGame\", season=season, league_id=league_id\n",
    "    ).get_data_frames()\n",
    "    resp = response[0]\n",
    "    data = resp[\n",
    "        [\n",
    "            \"PLAYER_ID\",\n",
    "            \"FG2A_FREQUENCY\",\n",
    "            \"FG2M\",\n",
    "            \"FG2A\",\n",
    "            \"FG2_PCT\",\n",
    "            \"FG3A_FREQUENCY\",\n",
    "            \"FG3M\",\n",
    "            \"FG3A\",\n",
    "            \"FG3_PCT\",\n",
    "        ]\n",
    "    ]\n",
    "    time.sleep(0.6)\n",
    "    data.to_csv(f\"fdata/NBA_BS_Shot_{year}_{year+1}.csv\", index=False)"
   ]
  },
  {
   "cell_type": "markdown",
   "metadata": {},
   "source": [
    "## Defense"
   ]
  },
  {
   "cell_type": "code",
   "execution_count": null,
   "metadata": {},
   "outputs": [],
   "source": [
    "for year in years:\n",
    "    league, league_id, season = \"NBA\", \"00\", str(year) + \"-\" + str(year + 1)[-2:]\n",
    "    response = LeagueDashPtDefend(\n",
    "        per_mode_simple=\"PerGame\", season=season, league_id=league_id\n",
    "    ).get_data_frames()\n",
    "    resp = response[0]\n",
    "    data = resp[[\"CLOSE_DEF_PERSON_ID\", \"D_FGM\", \"D_FGA\", \"D_FG_PCT\"]]\n",
    "    data = data.rename(columns={\"CLOSE_DEF_PERSON_ID\": \"PLAYER_ID\"})\n",
    "    time.sleep(0.6)\n",
    "    data.to_csv(f\"fdata/NBA_BS_Def_{year}_{year+1}.csv\", index=False)"
   ]
  },
  {
   "cell_type": "markdown",
   "metadata": {},
   "source": [
    "## Hustle Stats"
   ]
  },
  {
   "cell_type": "code",
   "execution_count": null,
   "metadata": {},
   "outputs": [],
   "source": [
    "for year in years:\n",
    "    league, league_id, season = \"NBA\", \"00\", str(year) + \"-\" + str(year + 1)[-2:]\n",
    "    response = LeagueHustleStatsPlayer(\n",
    "        per_mode_time=\"PerGame\", season=season, league_id_nullable=league_id\n",
    "    ).get_data_frames()\n",
    "    resp = response[0]\n",
    "    data = resp[\n",
    "        [\n",
    "            \"PLAYER_ID\",\n",
    "            \"CONTESTED_SHOTS\",\n",
    "            \"DEFLECTIONS\",\n",
    "            \"CHARGES_DRAWN\",\n",
    "            \"SCREEN_ASSISTS\",\n",
    "            \"LOOSE_BALLS_RECOVERED\",\n",
    "            \"BOX_OUTS\",\n",
    "        ]\n",
    "    ]\n",
    "    time.sleep(0.6)\n",
    "    data.to_csv(f\"fdata/NBA_BS_Hus_{year}_{year+1}.csv\", index=False)"
   ]
  },
  {
   "cell_type": "code",
   "execution_count": null,
   "metadata": {},
   "outputs": [],
   "source": [
    "response = LeagueHustleStatsPlayer(\n",
    "    per_mode_time=\"PerGame\", season=season, league_id_nullable=league_id\n",
    ").get_data_frames()\n",
    "resp = response[0]"
   ]
  },
  {
   "cell_type": "code",
   "execution_count": null,
   "metadata": {},
   "outputs": [],
   "source": [
    "resp.columns"
   ]
  },
  {
   "cell_type": "code",
   "execution_count": null,
   "metadata": {},
   "outputs": [],
   "source": [
    "resp.head()"
   ]
  }
 ],
 "metadata": {
  "interpreter": {
   "hash": "db2ffdd2fa3280b0b06d6e60ebb32d8dd74e69e88849db114a808c9d7fbf6c89"
  },
  "kernelspec": {
   "display_name": "Python 3.9.5 64-bit ('NBA-O70mvEYv': pipenv)",
   "name": "python3"
  },
  "language_info": {
   "codemirror_mode": {
    "name": "ipython",
    "version": 3
   },
   "file_extension": ".py",
   "mimetype": "text/x-python",
   "name": "python",
   "nbconvert_exporter": "python",
   "pygments_lexer": "ipython3",
   "version": "3.11.6"
  },
  "orig_nbformat": 2
 },
 "nbformat": 4,
 "nbformat_minor": 2
}
