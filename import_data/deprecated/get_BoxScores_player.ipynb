{
 "cells": [
  {
   "cell_type": "markdown",
   "metadata": {},
   "source": [
    "# Save Player Cumulative Season BoxScores "
   ]
  },
  {
   "cell_type": "code",
   "execution_count": null,
   "metadata": {},
   "outputs": [],
   "source": [
    "import numpy as np\n",
    "import pandas as pd\n",
    "\n",
    "from tqdm import tqdm\n",
    "import time\n",
    "from nba_api.stats.endpoints import leaguedashplayerstats, leaguegamelog\n",
    "\n",
    "box_DIR = \"../../data/box/\""
   ]
  },
  {
   "cell_type": "code",
   "execution_count": null,
   "metadata": {},
   "outputs": [],
   "source": [
    "season_start = 1991\n",
    "season_end = 1992\n",
    "seasons = np.arange(season_start,season_end,1).astype(str)\n",
    "\n",
    "league = \"NBA\""
   ]
  },
  {
   "cell_type": "markdown",
   "metadata": {},
   "source": [
    "# Cumulative Boxscores"
   ]
  },
  {
   "cell_type": "code",
   "execution_count": null,
   "metadata": {},
   "outputs": [],
   "source": [
    "def get_box_p_cum(seasons, measure=\"Base\", n=32):\n",
    "    if measure == \"Advanced\":\n",
    "        per_mode = \"Per100Possessions\"\n",
    "    else:\n",
    "        per_mode = \"PerGame\"\n",
    "    for season in tqdm(seasons):\n",
    "        # try:\n",
    "            season_str = season + \"-\" + str(int(season) + 1)[-2:]\n",
    "            stats = leaguedashplayerstats.LeagueDashPlayerStats(\n",
    "                measure_type_detailed_defense=measure,\n",
    "                per_mode_detailed=per_mode,\n",
    "                season=season_str,\n",
    "            )\n",
    "            df1 = stats.get_data_frames()[0]\n",
    "            df = df1.iloc[:, :n]\n",
    "            if measure == \"Advanced\":\n",
    "                measure1 = \"Adv\"\n",
    "            else:\n",
    "                 measure1 = measure\n",
    "            df.to_parquet(box_DIR + \"NBA_Box_P_Cum_\" + measure1 + \"_\" + season + \".parquet\")\n",
    "            time.sleep(0.6)\n",
    "        # except Exception as error:\n",
    "        #     continue"
   ]
  },
  {
   "cell_type": "code",
   "execution_count": null,
   "metadata": {},
   "outputs": [],
   "source": [
    "def update_box_p_cum(seasons):\n",
    "    print(\"Base\")\n",
    "    get_box_p_cum(seasons, measure=\"Base\", n=32)\n",
    "    print(\"Advanced\")\n",
    "    get_box_p_cum(seasons, measure=\"Advanced\", n=43)\n",
    "    print(\"Misc\")\n",
    "    get_box_p_cum(seasons, measure=\"Misc\", n=23)\n",
    "    print(\"Scoring\")\n",
    "    get_box_p_cum(seasons, measure=\"Scoring\", n=29)"
   ]
  },
  {
   "cell_type": "code",
   "execution_count": null,
   "metadata": {},
   "outputs": [],
   "source": [
    "update_box_p_cum(seasons)"
   ]
  },
  {
   "cell_type": "markdown",
   "metadata": {},
   "source": [
    "# Individual Game BoxScores"
   ]
  },
  {
   "cell_type": "code",
   "execution_count": null,
   "metadata": {},
   "outputs": [],
   "source": [
    "def update_box_base_p(seasons):\n",
    "    for season in tqdm(seasons):\n",
    "        try:\n",
    "            stats = leaguegamelog.LeagueGameLog(\n",
    "                player_or_team_abbreviation=\"P\",\n",
    "                season=season,\n",
    "                season_type_all_star=\"Regular Season\",\n",
    "            )\n",
    "            df = stats.get_data_frames()[0]\n",
    "            df.to_parquet(box_DIR + \"NBA_Box_P_\" + \"Base\" + \"_\" + season + \".parquet\")\n",
    "            time.sleep(0.6)\n",
    "        except Exception as error:\n",
    "            continue"
   ]
  },
  {
   "cell_type": "code",
   "execution_count": null,
   "metadata": {},
   "outputs": [],
   "source": [
    "update_box_base_p(seasons)"
   ]
  },
  {
   "cell_type": "code",
   "execution_count": null,
   "metadata": {},
   "outputs": [],
   "source": [
    "dfa = []\n",
    "for year in range(1946,2024):\n",
    "    df1 = pd.read_parquet(box_DIR + \"NBA_Box_P_\" + \"Base\" + \"_\" + str(year) + \".parquet\")\n",
    "    df1[df1[\"WL\"] == 0][\"WL\"] = \"L\"\n",
    "    df1[\"season\"] = year+1\n",
    "    df1 = df1.fillna(0)\n",
    "    dfa.append(df1)\n",
    "df = pd.concat(dfa)\n",
    "df.loc[df[df[\"WL\"] == 0].index,\"WL\"] = \"L\"\n",
    "df.to_parquet(box_DIR + \"NBA_Box_P_\" + \"Base\" + \"_\" + \"All\" + \".parquet\")"
   ]
  },
  {
   "cell_type": "code",
   "execution_count": null,
   "metadata": {},
   "outputs": [],
   "source": [
    "df = pd.read_parquet(box_DIR + \"NBA_Box_P_\" + \"Base\" + \"_\" + \"All\" + \".parquet\")\n",
    "df.columns = map(str.lower, df.columns)"
   ]
  }
 ],
 "metadata": {
  "kernelspec": {
   "display_name": "nba-ub9Z_EQq-py3.11",
   "language": "python",
   "name": "python3"
  },
  "language_info": {
   "codemirror_mode": {
    "name": "ipython",
    "version": 3
   },
   "file_extension": ".py",
   "mimetype": "text/x-python",
   "name": "python",
   "nbconvert_exporter": "python",
   "pygments_lexer": "ipython3",
   "version": "3.11.6"
  }
 },
 "nbformat": 4,
 "nbformat_minor": 2
}
