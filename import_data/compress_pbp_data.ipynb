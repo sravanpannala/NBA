{
 "cells": [
  {
   "cell_type": "markdown",
   "metadata": {},
   "source": [
    "# Code to Compress and Save PBP Data for faster loading\n",
    "## Uses `dill` for pickling and `zstandard` for compression"
   ]
  },
  {
   "cell_type": "code",
   "execution_count": null,
   "metadata": {},
   "outputs": [],
   "source": [
    "import os, sys\n",
    "\n",
    "sys.path.append(os.path.dirname(os.path.dirname(os.path.abspath(\"__file__\"))))\n",
    "from nbafuns import *\n",
    "\n",
    "fig_DIR = \"../figs/pbp_related/\"\n",
    "export_DIR = \"../fdata/\"\n",
    "source = \"pbpstats\""
   ]
  },
  {
   "cell_type": "code",
   "execution_count": null,
   "metadata": {},
   "outputs": [],
   "source": [
    "league = \"NBA\"\n",
    "season_start = 2000\n",
    "season_end = 2024\n",
    "seasons = np.arange(season_start,season_end,1).astype(str)\n",
    "season_type = \"Regular Season\"\n",
    "for season in seasons:\n",
    "    print(season)\n",
    "    if int(season) > 2021:\n",
    "        data_provider = \"data_nba\"\n",
    "    else:\n",
    "        data_provider = \"stats_nba\"\n",
    "    player_dict = get_players_pbp(league=league)  # Creating Player Dictionary\n",
    "    team_dict = nba_teams.get_teams()  # Creating Team Dictionary\n",
    "    games_id = pbp_season(\n",
    "        league=league,\n",
    "        season_yr=season,\n",
    "        season_type=season_type,\n",
    "        data_provider=data_provider,\n",
    "    )\n",
    "    games_list = pbp_games(games_id, data_provider=data_provider)\n",
    "    with zstd.open(export_DIR + league + \"_PBPdata_\" + season + \".pkl.zst\",\"wb\") as f:\n",
    "        dill.dump(games_list,f)"
   ]
  }
 ],
 "metadata": {
  "kernelspec": {
   "display_name": "nba-ub9Z_EQq-py3.11",
   "language": "python",
   "name": "python3"
  },
  "language_info": {
   "codemirror_mode": {
    "name": "ipython",
    "version": 3
   },
   "file_extension": ".py",
   "mimetype": "text/x-python",
   "name": "python",
   "nbconvert_exporter": "python",
   "pygments_lexer": "ipython3",
   "version": "3.11.6"
  }
 },
 "nbformat": 4,
 "nbformat_minor": 2
}
