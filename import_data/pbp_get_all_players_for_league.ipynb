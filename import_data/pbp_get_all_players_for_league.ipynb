{
 "cells": [
  {
   "cell_type": "markdown",
   "id": "1b339d7f-bf00-4796-8552-dd2217e6ef02",
   "metadata": {},
   "source": [
    "This endpoint gives us a dictionary mapping the player id to the player name for all players that are in the database for the league"
   ]
  },
  {
   "cell_type": "code",
   "execution_count": 1,
   "id": "8d00f84e-b83a-40d8-8270-a4c977ca04d5",
   "metadata": {},
   "outputs": [],
   "source": [
    "import requests\n",
    "import json\n",
    "\n",
    "data_DIR = \"../data/\""
   ]
  },
  {
   "cell_type": "markdown",
   "id": "98322f05-0fa6-4b1e-9dc7-9ac4d4a8b05b",
   "metadata": {},
   "source": [
    "## NBA"
   ]
  },
  {
   "cell_type": "code",
   "execution_count": 15,
   "id": "56a0cd61-7d75-48dd-b403-fc6144f52ae0",
   "metadata": {},
   "outputs": [],
   "source": [
    "players_response = requests.get(\n",
    "    \"https://api.pbpstats.com/get-all-players-for-league/nba\"\n",
    ")\n",
    "players = players_response.json()\n",
    "with open(data_DIR + \"NBA.json\", \"w\") as outfile:\n",
    "    json.dump(players, outfile)"
   ]
  },
  {
   "cell_type": "markdown",
   "id": "784ccc0d-9c0c-42b5-820e-dab949a0ac8f",
   "metadata": {},
   "source": [
    "## WNBA"
   ]
  },
  {
   "cell_type": "code",
   "execution_count": 16,
   "id": "b0aecbe4-06f3-452b-853c-c185e0e83f3b",
   "metadata": {},
   "outputs": [],
   "source": [
    "players_response = requests.get(\n",
    "    \"https://api.pbpstats.com/get-all-players-for-league/wnba\"\n",
    ")\n",
    "players = players_response.json()\n",
    "players[\"players\"]\n",
    "with open(data_DIR + \"WNBA.json\", \"w\") as outfile:\n",
    "    json.dump(players, outfile)"
   ]
  },
  {
   "cell_type": "markdown",
   "id": "cec1903b",
   "metadata": {},
   "source": [
    "## GLeague"
   ]
  },
  {
   "cell_type": "code",
   "execution_count": 2,
   "id": "a42b1f0d-aaa5-473f-904f-750848307f15",
   "metadata": {},
   "outputs": [],
   "source": [
    "players_response = requests.get(\n",
    "    \"https://api.pbpstats.com/get-all-players-for-league/gleague\"\n",
    ")\n",
    "players = players_response.json()\n",
    "players[\"players\"]\n",
    "with open(data_DIR + \"GLeague.json\", \"w\") as outfile:\n",
    "    json.dump(players, outfile)"
   ]
  }
 ],
 "metadata": {
  "kernelspec": {
   "display_name": ".venv",
   "language": "python",
   "name": "python3"
  },
  "language_info": {
   "codemirror_mode": {
    "name": "ipython",
    "version": 3
   },
   "file_extension": ".py",
   "mimetype": "text/x-python",
   "name": "python",
   "nbconvert_exporter": "python",
   "pygments_lexer": "ipython3",
   "version": "3.9.7"
  }
 },
 "nbformat": 4,
 "nbformat_minor": 5
}
