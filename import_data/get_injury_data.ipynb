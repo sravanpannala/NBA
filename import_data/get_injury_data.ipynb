{
 "cells": [
  {
   "cell_type": "markdown",
   "metadata": {},
   "source": [
    "# Scrape Injury Data from https://www.prosportstransactions.com/\n",
    "### Credits to @gboogy on github for scraping code. You can find his repo at https://github.com/gboogy/nba-injury-data-scraper"
   ]
  },
  {
   "cell_type": "code",
   "execution_count": null,
   "metadata": {},
   "outputs": [],
   "source": [
    "import numpy as np\n",
    "import pandas as pd\n",
    "import re\n",
    "import requests\n",
    "from bs4 import BeautifulSoup\n",
    "import datetime\n",
    "\n",
    "pd.options.mode.chained_assignment =  None"
   ]
  },
  {
   "cell_type": "code",
   "execution_count": null,
   "metadata": {},
   "outputs": [],
   "source": [
    "def replace_all(text, dic):\n",
    "    '''\n",
    "    This function will replace characters in text given a dictionary of characters to seach for and replace\n",
    "    '''\n",
    "    rc = re.compile('|'.join(map(re.escape, dic)))\n",
    "\n",
    "    def translate(match):\n",
    "        return dic[match.group(0)]\n",
    "    return rc.sub(translate, text)\n",
    "\n",
    "\n",
    "# Dictionary of characters to remove from text\n",
    "char_replace = {' • ': ''}\n",
    "\n",
    "# Create list of records read from webscrapper\n",
    "list_of_rows = []\n",
    "\n",
    "start_date = \"2023-06-01\"\n",
    "\n",
    "# Loop through webpage table, scrap data, and store lists\n",
    "for i in range(0, 25*50, 25):\n",
    "    url = 'https://www.prosportstransactions.com/basketball/Search/SearchResults.php?Player=&Team=&BeginDate={}&EndDate=&ILChkBx=yes&InjuriesChkBx=yes&PersonalChkBx=yes&Submit=Search&start={}'.format(start_date,i)\n",
    "    response = requests.get(url)\n",
    "    html = response.content\n",
    "\n",
    "    soup = BeautifulSoup(html, 'lxml')\n",
    "\n",
    "    table = soup.find('table', attrs={'class': 'datatable center'})\n",
    "\n",
    "    for row in table.findAll('tr', attrs={'align': 'left'}):\n",
    "        list_of_cells = []\n",
    "\n",
    "        for cell in row.findAll('td'):\n",
    "            text = replace_all(cell.text, char_replace)\n",
    "            text = text.strip()\n",
    "            list_of_cells.append(text)\n",
    "        list_of_rows.append(list_of_cells)\n",
    "\n",
    "# Store data in a dataframe for manipulation\n",
    "injuries_df = pd.DataFrame(list_of_rows, columns=[\n",
    "                           'Date', 'Team', 'Acquired', 'Relinquished', 'Notes'])\n",
    "\n",
    "acq = injuries_df['Acquired']\n",
    "rel = injuries_df['Relinquished']\n",
    "\n",
    "# Remove instances where value is like \"Name 1/ Name 2\"\n",
    "injuries_df['Acquired'] = np.where(\n",
    "    acq.str.contains('/'), acq.str.split('/ ').str[1], acq)\n",
    "injuries_df['Relinquished'] = np.where(\n",
    "    rel.str.contains('/'), rel.str.split('/ ').str[1], rel)\n",
    "\n",
    "# Remove instances where value is like \"(some text)\"\n",
    "injuries_df['Acquired'] = injuries_df.Acquired.str.replace(\n",
    "    r\"[\\(\\[].*?[\\)\\]]\", \"\")\n",
    "injuries_df['Relinquished'] = injuries_df.Relinquished.str.replace(\n",
    "    r\"[\\(\\[].*?[\\)\\]]\", \"\")\n",
    "\n",
    "# Write contents to csv file\n",
    "injuries_df"
   ]
  },
  {
   "cell_type": "code",
   "execution_count": null,
   "metadata": {},
   "outputs": [],
   "source": [
    "injuries_df"
   ]
  },
  {
   "cell_type": "code",
   "execution_count": null,
   "metadata": {},
   "outputs": [],
   "source": [
    "df = injuries_df.copy()\n",
    "df[\"Act\"]  = (df[\"Acquired\"] != \"\")\n",
    "df[\"DAct\"]  = (df[\"Relinquished\"] != \"\")\n",
    "df[\"Player\"] = df[\"Acquired\"] + df[\"Relinquished\"]\n",
    "df[\"Date\"] = pd.to_datetime(df[\"Date\"], format=\"%Y-%m-%d\")\n",
    "df = df[[\"Date\",\"Team\",\"Player\",\"Act\",\"DAct\",\"Notes\"]]\n",
    "df = df[df[\"Player\"].str.istitle()].reset_index(drop=True)\n",
    "df.to_csv('../fdata/NBA_prosptran_injuries_2023.csv', index=False)\n",
    "df.to_parquet('../fdata/NBA_prosptran_injuries_2023.parquet')"
   ]
  },
  {
   "cell_type": "code",
   "execution_count": null,
   "metadata": {},
   "outputs": [],
   "source": [
    "dfp = df.query(\"Player == 'Nikola Jokic'\").reset_index(drop=True)"
   ]
  },
  {
   "cell_type": "code",
   "execution_count": null,
   "metadata": {},
   "outputs": [],
   "source": [
    "dfp"
   ]
  },
  {
   "cell_type": "markdown",
   "metadata": {},
   "source": [
    "Did Herro Miss the game on 1st December?"
   ]
  },
  {
   "cell_type": "code",
   "execution_count": null,
   "metadata": {},
   "outputs": [],
   "source": [
    "game_date = pd.to_datetime(datetime.date(2023,11,1))\n",
    "dfp[\"Comp\"] = dfp[\"Date\"] <= game_date\n",
    "idxi = dfp[dfp[\"Comp\"]].index\n",
    "if len(idxi) > 0:\n",
    "    idx = idxi[-1]\n",
    "    missed_game = dfp[\"DAct\"].loc[idx]\n",
    "else:\n",
    "    missed_game = False\n",
    "missed_game"
   ]
  },
  {
   "cell_type": "code",
   "execution_count": null,
   "metadata": {},
   "outputs": [],
   "source": []
  },
  {
   "cell_type": "code",
   "execution_count": null,
   "metadata": {},
   "outputs": [],
   "source": []
  }
 ],
 "metadata": {
  "kernelspec": {
   "display_name": "nba-ub9Z_EQq-py3.11",
   "language": "python",
   "name": "python3"
  },
  "language_info": {
   "codemirror_mode": {
    "name": "ipython",
    "version": 3
   },
   "file_extension": ".py",
   "mimetype": "text/x-python",
   "name": "python",
   "nbconvert_exporter": "python",
   "pygments_lexer": "ipython3",
   "version": "3.11.6"
  }
 },
 "nbformat": 4,
 "nbformat_minor": 2
}
