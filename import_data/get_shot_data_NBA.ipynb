{
 "cells": [
  {
   "cell_type": "code",
   "execution_count": null,
   "metadata": {},
   "outputs": [],
   "source": [
    "import numpy as np\n",
    "import matplotlib.pyplot as plt\n",
    "import pandas as pd\n",
    "import os\n",
    "import requests\n",
    "from nba_api.stats.endpoints.shotchartdetail import ShotChartDetail\n",
    "import os, sys\n",
    "from time import perf_counter\n",
    "\n",
    "sys.path.append(os.path.dirname(os.path.dirname(os.path.abspath(\"__file__\"))))\n",
    "from nbafuns import *\n",
    "\n",
    "export_DIR = \"../Shot_Charts/ShotLocationData/\""
   ]
  },
  {
   "cell_type": "code",
   "execution_count": null,
   "metadata": {},
   "outputs": [],
   "source": [
    "# Only 1 season\n",
    "year = 2023\n",
    "league, league_id, season = \"NBA\", \"00\", str(year) + \"-\" + str(year + 1)[-2:]\n",
    "player_dict = get_players(league=league, from_year=year, to_year=year)\n",
    "player_ids = [player[\"pID\"] for player in player_dict]\n",
    "len(player_ids)"
   ]
  },
  {
   "cell_type": "code",
   "execution_count": null,
   "metadata": {},
   "outputs": [],
   "source": [
    "shota = []\n",
    "for player_id in tqdm(player_ids):\n",
    "    for ii in range(5):\n",
    "        # time.sleep(0.6)\n",
    "        try:\n",
    "            player_shotchart = ShotChartDetail(\n",
    "                league_id=league_id,\n",
    "                team_id=0,\n",
    "                player_id=player_id,\n",
    "                context_measure_simple=\"FGA\",\n",
    "                season_nullable=season,\n",
    "            )\n",
    "            shots_df = player_shotchart.get_data_frames()[0]\n",
    "            shots_df[\"LOC_X\"] = -shots_df[\"LOC_X\"]\n",
    "            shota.append(shots_df)\n",
    "            break\n",
    "        except Exception as error:\n",
    "            print(player_id)\n",
    "            print(error)\n",
    "            time.sleep(0.6)\n",
    "            continue\n",
    "shots = pd.concat(shota)\n",
    "# shots.to_csv(export_DIR+ league + f\"_Shot_Details_{year}.csv\", index=False)\n",
    "shots.to_parquet(export_DIR+ league + f\"_Shot_Details_{year}.parquet\")"
   ]
  },
  {
   "cell_type": "code",
   "execution_count": null,
   "metadata": {},
   "outputs": [],
   "source": [
    "league = \"NBA\"\n",
    "for year in range(2000,2024):\n",
    "    # shots = pd.read_csv( export_DIR + league + f\"_Shot_Details_{year}.csv\")\n",
    "    shots = pd.read_parquet(export_DIR + league + f\"_Shot_Details_{year}.parquet\")"
   ]
  }
 ],
 "metadata": {
  "kernelspec": {
   "display_name": "nba-ub9Z_EQq-py3.11",
   "language": "python",
   "name": "python3"
  },
  "language_info": {
   "codemirror_mode": {
    "name": "ipython",
    "version": 3
   },
   "file_extension": ".py",
   "mimetype": "text/x-python",
   "name": "python",
   "nbconvert_exporter": "python",
   "pygments_lexer": "ipython3",
   "version": "3.11.6"
  }
 },
 "nbformat": 4,
 "nbformat_minor": 2
}
