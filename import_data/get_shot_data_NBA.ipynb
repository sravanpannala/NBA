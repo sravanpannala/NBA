{
 "cells": [
  {
   "cell_type": "code",
   "execution_count": null,
   "metadata": {},
   "outputs": [],
   "source": [
    "import time\n",
    "\n",
    "import matplotlib.pyplot as plt\n",
    "import numpy as np\n",
    "import pandas as pd\n",
    "from nba_api.stats.endpoints.shotchartdetail import ShotChartDetail\n",
    "from tqdm import tqdm\n",
    "\n",
    "data_DIR = \"../data/\"\n",
    "export_DIR = \"../fdata/ShotLocationData/\""
   ]
  },
  {
   "cell_type": "code",
   "execution_count": null,
   "metadata": {},
   "outputs": [],
   "source": [
    "# Only 1 season\n",
    "year = 2023\n",
    "league, league_id, season = \"NBA\", \"00\", str(year) + \"-\" + str(year + 1)[-2:]\n",
    "data = pd.read_csv(data_DIR + f\"{league}_players_database.csv\")\n",
    "player_data = data[(data[\"From\"] <= year) & (data[\"To\"] >= year)]\n",
    "player_data = player_data.reset_index(drop=True)\n",
    "player_dict = player_data.to_dict(orient=\"records\")\n",
    "player_ids = [player[\"pID\"] for player in player_dict]\n",
    "len(player_ids)"
   ]
  },
  {
   "cell_type": "code",
   "execution_count": null,
   "metadata": {},
   "outputs": [],
   "source": [
    "shota = []\n",
    "for player_id in tqdm(player_ids):\n",
    "    for ii in range(5):\n",
    "        # time.sleep(0.6)\n",
    "        try:\n",
    "            player_shotchart = ShotChartDetail(\n",
    "                league_id=league_id,\n",
    "                team_id=0,\n",
    "                player_id=player_id,\n",
    "                context_measure_simple=\"FGA\",\n",
    "                season_nullable=season,\n",
    "            )\n",
    "            shots_df = player_shotchart.get_data_frames()[0]\n",
    "            shots_df[\"LOC_X\"] = -shots_df[\"LOC_X\"]\n",
    "            shota.append(shots_df)\n",
    "            break\n",
    "        except Exception as error:\n",
    "            print(player_id)\n",
    "            print(error)\n",
    "            time.sleep(0.6)\n",
    "            continue\n",
    "shots = pd.concat(shota)\n",
    "# shots.to_csv(export_DIR+ league + f\"_Shot_Details_{year}.csv\", index=False)\n",
    "shots.to_parquet(export_DIR+ league + f\"_Shot_Details_{year}.parquet\")"
   ]
  }
 ],
 "metadata": {
  "kernelspec": {
   "display_name": "nba-ub9Z_EQq-py3.11",
   "language": "python",
   "name": "python3"
  },
  "language_info": {
   "codemirror_mode": {
    "name": "ipython",
    "version": 3
   },
   "file_extension": ".py",
   "mimetype": "text/x-python",
   "name": "python",
   "nbconvert_exporter": "python",
   "pygments_lexer": "ipython3",
   "version": "3.11.6"
  }
 },
 "nbformat": 4,
 "nbformat_minor": 2
}
