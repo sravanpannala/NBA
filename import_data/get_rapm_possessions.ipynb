{
 "cells": [
  {
   "cell_type": "markdown",
   "metadata": {},
   "source": [
    "# Import all possessions of a season using PBP API"
   ]
  },
  {
   "cell_type": "code",
   "execution_count": 1,
   "metadata": {},
   "outputs": [],
   "source": [
    "import dill\n",
    "import numpy as np\n",
    "import pandas as pd\n",
    "import zstandard as zstd\n",
    "from tqdm import tqdm\n",
    "\n",
    "export_DIR = \"../data/rapm/\"\n",
    "data_DIR = \"../data/pbpdata/\""
   ]
  },
  {
   "cell_type": "code",
   "execution_count": 12,
   "metadata": {},
   "outputs": [],
   "source": [
    "class Poss:\n",
    "    def __init__(self,gi=0,ot=0,dt=0,o1=0,o2=0,o3=0,o4=0,o5=0,d1=0,d2=0,d3=0,d4=0,d5=0,pts=0,des=0,evtyp=0):\n",
    "        self.gid  = gi\n",
    "        self.offt = ot\n",
    "        self.deft = dt\n",
    "        self.off1 = o1\n",
    "        self.off2 = o2\n",
    "        self.off3 = o3\n",
    "        self.off4 = o4\n",
    "        self.off5 = o5\n",
    "        self.def1 = d1\n",
    "        self.def2 = d2\n",
    "        self.def3 = d3\n",
    "        self.def4 = d4\n",
    "        self.def5 = d5\n",
    "        self.pts = pts\n",
    "\n",
    "        self.description = des\n",
    "        self.event_type = evtyp\n",
    "\n",
    "\n",
    "ovars = [\"off1\",\"off2\",\"off3\",\"off4\",\"off5\"]\n",
    "dvars = [\"def1\",\"def2\",\"def3\",\"def4\",\"def5\"]"
   ]
  },
  {
   "cell_type": "code",
   "execution_count": 13,
   "metadata": {},
   "outputs": [],
   "source": [
    "def get_rapm_possessions(games_list):\n",
    "    poss_list, points, poss_store = [], [], []\n",
    "    for game in tqdm(games_list):\n",
    "        hmscr, rdscr = [], []\n",
    "        tems = list(game.possessions.items[0].events[0].current_players.keys())\n",
    "        for possession in game.possessions.items:\n",
    "            for possession_event in possession.events:\n",
    "                if possession_event.count_as_possession: # and possession_event.event_type in (1, 3, 4, 5):\n",
    "                    if possession_event.description == \"Game End\":\n",
    "                        continue\n",
    "                    off_id = possession_event.get_offense_team_id()\n",
    "                    if not bool(off_id):\n",
    "                        continue\n",
    "                    p = Poss()\n",
    "                    setattr(p,\"gid\",possession_event.game_id)\n",
    "                    for te in tems:\n",
    "                        if te == off_id:\n",
    "                            for i,var in enumerate(ovars):\n",
    "                                setattr(p,var,possession_event.current_players[te][i])\n",
    "                                setattr(p,\"offt\",te)\n",
    "                        else:\n",
    "                            for i,var in enumerate(dvars):\n",
    "                                setattr(p,var,possession_event.current_players[te][i])             \n",
    "                                setattr(p,\"deft\",te)\n",
    "                    p.description = possession_event.description\n",
    "                    p.event_type = possession_event.event_type\n",
    "                    hmscr.append(possession_event.score[tems[0]]) #possession_event.home_score\n",
    "                    rdscr.append(possession_event.score[tems[1]]) #possession_event.away_score\n",
    "                    poss_list.append(p)\n",
    "                    poss_store.append(possession_event)\n",
    "        hm_pts = []\n",
    "        rd_pts = []\n",
    "        for i in range(len(hmscr) - 1):\n",
    "            hm_pts.append(hmscr[i + 1] - hmscr[i])\n",
    "            rd_pts.append(rdscr[i + 1] - rdscr[i])\n",
    "        pts = []\n",
    "        pts.append(max(hmscr[0], rdscr[0]))\n",
    "        for i in range(len(hmscr) - 1):\n",
    "            pts.append(max(hm_pts[i], rd_pts[i]))\n",
    "        points.extend(pts)\n",
    "    data = pd.DataFrame([vars(p) for p in poss_list])\n",
    "    data[\"pts\"] = points\n",
    "    return data,poss_store"
   ]
  },
  {
   "cell_type": "code",
   "execution_count": 16,
   "metadata": {},
   "outputs": [
    {
     "name": "stdout",
     "output_type": "stream",
     "text": [
      "2000\n"
     ]
    },
    {
     "name": "stderr",
     "output_type": "stream",
     "text": [
      "100%|██████████| 1189/1189 [00:34<00:00, 34.00it/s]\n"
     ]
    },
    {
     "name": "stdout",
     "output_type": "stream",
     "text": [
      "2001\n"
     ]
    },
    {
     "name": "stderr",
     "output_type": "stream",
     "text": [
      "100%|██████████| 1189/1189 [00:47<00:00, 25.30it/s]\n"
     ]
    },
    {
     "name": "stdout",
     "output_type": "stream",
     "text": [
      "2002\n"
     ]
    },
    {
     "name": "stderr",
     "output_type": "stream",
     "text": [
      "100%|██████████| 1189/1189 [00:50<00:00, 23.75it/s]\n"
     ]
    },
    {
     "name": "stdout",
     "output_type": "stream",
     "text": [
      "2003\n"
     ]
    },
    {
     "name": "stderr",
     "output_type": "stream",
     "text": [
      "100%|██████████| 1189/1189 [00:46<00:00, 25.43it/s]\n"
     ]
    },
    {
     "name": "stdout",
     "output_type": "stream",
     "text": [
      "2004\n"
     ]
    },
    {
     "name": "stderr",
     "output_type": "stream",
     "text": [
      "100%|██████████| 1230/1230 [00:55<00:00, 22.32it/s]\n"
     ]
    },
    {
     "name": "stdout",
     "output_type": "stream",
     "text": [
      "2005\n"
     ]
    },
    {
     "name": "stderr",
     "output_type": "stream",
     "text": [
      "100%|██████████| 1230/1230 [00:49<00:00, 24.86it/s]\n"
     ]
    },
    {
     "name": "stdout",
     "output_type": "stream",
     "text": [
      "2006\n"
     ]
    },
    {
     "name": "stderr",
     "output_type": "stream",
     "text": [
      "100%|██████████| 1230/1230 [00:43<00:00, 28.08it/s]\n"
     ]
    },
    {
     "name": "stdout",
     "output_type": "stream",
     "text": [
      "2007\n"
     ]
    },
    {
     "name": "stderr",
     "output_type": "stream",
     "text": [
      "100%|██████████| 1230/1230 [00:52<00:00, 23.62it/s]\n"
     ]
    },
    {
     "name": "stdout",
     "output_type": "stream",
     "text": [
      "2008\n"
     ]
    },
    {
     "name": "stderr",
     "output_type": "stream",
     "text": [
      "100%|██████████| 1230/1230 [00:44<00:00, 27.71it/s]\n"
     ]
    },
    {
     "name": "stdout",
     "output_type": "stream",
     "text": [
      "2009\n"
     ]
    },
    {
     "name": "stderr",
     "output_type": "stream",
     "text": [
      "100%|██████████| 1230/1230 [00:42<00:00, 29.13it/s]\n"
     ]
    },
    {
     "name": "stdout",
     "output_type": "stream",
     "text": [
      "2010\n"
     ]
    },
    {
     "name": "stderr",
     "output_type": "stream",
     "text": [
      "100%|██████████| 1230/1230 [00:41<00:00, 29.42it/s]\n"
     ]
    },
    {
     "name": "stdout",
     "output_type": "stream",
     "text": [
      "2011\n"
     ]
    },
    {
     "name": "stderr",
     "output_type": "stream",
     "text": [
      "100%|██████████| 990/990 [00:29<00:00, 34.06it/s]\n"
     ]
    },
    {
     "name": "stdout",
     "output_type": "stream",
     "text": [
      "2012\n"
     ]
    },
    {
     "name": "stderr",
     "output_type": "stream",
     "text": [
      "100%|██████████| 1229/1229 [00:35<00:00, 34.49it/s]\n"
     ]
    },
    {
     "name": "stdout",
     "output_type": "stream",
     "text": [
      "2013\n"
     ]
    },
    {
     "name": "stderr",
     "output_type": "stream",
     "text": [
      "100%|██████████| 1230/1230 [00:41<00:00, 29.93it/s]\n"
     ]
    },
    {
     "name": "stdout",
     "output_type": "stream",
     "text": [
      "2014\n"
     ]
    },
    {
     "name": "stderr",
     "output_type": "stream",
     "text": [
      "100%|██████████| 1230/1230 [00:41<00:00, 29.43it/s]\n"
     ]
    },
    {
     "name": "stdout",
     "output_type": "stream",
     "text": [
      "2015\n"
     ]
    },
    {
     "name": "stderr",
     "output_type": "stream",
     "text": [
      "100%|██████████| 1230/1230 [00:40<00:00, 30.19it/s]\n"
     ]
    },
    {
     "name": "stdout",
     "output_type": "stream",
     "text": [
      "2016\n"
     ]
    },
    {
     "name": "stderr",
     "output_type": "stream",
     "text": [
      "100%|██████████| 1230/1230 [00:40<00:00, 30.34it/s]\n"
     ]
    },
    {
     "name": "stdout",
     "output_type": "stream",
     "text": [
      "2017\n"
     ]
    },
    {
     "name": "stderr",
     "output_type": "stream",
     "text": [
      "100%|██████████| 1230/1230 [00:40<00:00, 30.35it/s]\n"
     ]
    },
    {
     "name": "stdout",
     "output_type": "stream",
     "text": [
      "2018\n"
     ]
    },
    {
     "name": "stderr",
     "output_type": "stream",
     "text": [
      "100%|██████████| 1230/1230 [00:43<00:00, 28.08it/s]\n"
     ]
    },
    {
     "name": "stdout",
     "output_type": "stream",
     "text": [
      "2019\n"
     ]
    },
    {
     "name": "stderr",
     "output_type": "stream",
     "text": [
      "100%|██████████| 1059/1059 [00:41<00:00, 25.49it/s]\n"
     ]
    },
    {
     "name": "stdout",
     "output_type": "stream",
     "text": [
      "2020\n"
     ]
    },
    {
     "name": "stderr",
     "output_type": "stream",
     "text": [
      "100%|██████████| 1080/1080 [00:37<00:00, 28.79it/s]\n"
     ]
    },
    {
     "name": "stdout",
     "output_type": "stream",
     "text": [
      "2021\n"
     ]
    },
    {
     "name": "stderr",
     "output_type": "stream",
     "text": [
      "100%|██████████| 1228/1228 [00:46<00:00, 26.64it/s]\n"
     ]
    },
    {
     "name": "stdout",
     "output_type": "stream",
     "text": [
      "2022\n"
     ]
    },
    {
     "name": "stderr",
     "output_type": "stream",
     "text": [
      "100%|██████████| 1226/1226 [00:41<00:00, 29.48it/s]\n"
     ]
    },
    {
     "name": "stdout",
     "output_type": "stream",
     "text": [
      "2023\n"
     ]
    },
    {
     "name": "stderr",
     "output_type": "stream",
     "text": [
      "100%|██████████| 393/393 [00:13<00:00, 30.21it/s]\n"
     ]
    }
   ],
   "source": [
    "league = \"NBA\"\n",
    "season_start = 2000\n",
    "season_end = 2024\n",
    "seasons = np.arange(season_start, season_end, 1).astype(str)\n",
    "for season in seasons:\n",
    "    print(season)\n",
    "    with zstd.open(data_DIR + league + \"_PBPdata_\" + season + \".pkl.zst\",\"rb\") as f:\n",
    "        games_list = dill.load(f)\n",
    "    data,poss_store = get_rapm_possessions(games_list)\n",
    "    # data.iloc[:,:-2].to_csv(export_DIR+league +\"_rapm_possessions_\"+season+\".csv\",index=False)\n",
    "    data.iloc[:,:-2].to_parquet(export_DIR+league +\"_rapm_possessions_\"+season+\".parquet\")"
   ]
  },
  {
   "cell_type": "code",
   "execution_count": 15,
   "metadata": {},
   "outputs": [
    {
     "data": {
      "text/html": [
       "<div>\n",
       "<style scoped>\n",
       "    .dataframe tbody tr th:only-of-type {\n",
       "        vertical-align: middle;\n",
       "    }\n",
       "\n",
       "    .dataframe tbody tr th {\n",
       "        vertical-align: top;\n",
       "    }\n",
       "\n",
       "    .dataframe thead th {\n",
       "        text-align: right;\n",
       "    }\n",
       "</style>\n",
       "<table border=\"1\" class=\"dataframe\">\n",
       "  <thead>\n",
       "    <tr style=\"text-align: right;\">\n",
       "      <th></th>\n",
       "      <th>gid</th>\n",
       "      <th>offt</th>\n",
       "      <th>deft</th>\n",
       "      <th>off1</th>\n",
       "      <th>off2</th>\n",
       "      <th>off3</th>\n",
       "      <th>off4</th>\n",
       "      <th>off5</th>\n",
       "      <th>def1</th>\n",
       "      <th>def2</th>\n",
       "      <th>def3</th>\n",
       "      <th>def4</th>\n",
       "      <th>def5</th>\n",
       "      <th>pts</th>\n",
       "    </tr>\n",
       "  </thead>\n",
       "  <tbody>\n",
       "    <tr>\n",
       "      <th>0</th>\n",
       "      <td>0022300061</td>\n",
       "      <td>1610612747</td>\n",
       "      <td>1610612743</td>\n",
       "      <td>2544</td>\n",
       "      <td>203076</td>\n",
       "      <td>1626156</td>\n",
       "      <td>1627752</td>\n",
       "      <td>1630559</td>\n",
       "      <td>203999</td>\n",
       "      <td>1627750</td>\n",
       "      <td>1629008</td>\n",
       "      <td>203932</td>\n",
       "      <td>203484</td>\n",
       "      <td>2</td>\n",
       "    </tr>\n",
       "    <tr>\n",
       "      <th>1</th>\n",
       "      <td>0022300061</td>\n",
       "      <td>1610612743</td>\n",
       "      <td>1610612747</td>\n",
       "      <td>203999</td>\n",
       "      <td>1627750</td>\n",
       "      <td>1629008</td>\n",
       "      <td>203932</td>\n",
       "      <td>203484</td>\n",
       "      <td>2544</td>\n",
       "      <td>203076</td>\n",
       "      <td>1626156</td>\n",
       "      <td>1627752</td>\n",
       "      <td>1630559</td>\n",
       "      <td>2</td>\n",
       "    </tr>\n",
       "    <tr>\n",
       "      <th>2</th>\n",
       "      <td>0022300061</td>\n",
       "      <td>1610612747</td>\n",
       "      <td>1610612743</td>\n",
       "      <td>2544</td>\n",
       "      <td>203076</td>\n",
       "      <td>1626156</td>\n",
       "      <td>1627752</td>\n",
       "      <td>1630559</td>\n",
       "      <td>203999</td>\n",
       "      <td>1627750</td>\n",
       "      <td>1629008</td>\n",
       "      <td>203932</td>\n",
       "      <td>203484</td>\n",
       "      <td>3</td>\n",
       "    </tr>\n",
       "    <tr>\n",
       "      <th>3</th>\n",
       "      <td>0022300061</td>\n",
       "      <td>1610612743</td>\n",
       "      <td>1610612747</td>\n",
       "      <td>203999</td>\n",
       "      <td>1627750</td>\n",
       "      <td>1629008</td>\n",
       "      <td>203932</td>\n",
       "      <td>203484</td>\n",
       "      <td>2544</td>\n",
       "      <td>203076</td>\n",
       "      <td>1626156</td>\n",
       "      <td>1627752</td>\n",
       "      <td>1630559</td>\n",
       "      <td>2</td>\n",
       "    </tr>\n",
       "    <tr>\n",
       "      <th>4</th>\n",
       "      <td>0022300061</td>\n",
       "      <td>1610612747</td>\n",
       "      <td>1610612743</td>\n",
       "      <td>2544</td>\n",
       "      <td>203076</td>\n",
       "      <td>1626156</td>\n",
       "      <td>1627752</td>\n",
       "      <td>1630559</td>\n",
       "      <td>203999</td>\n",
       "      <td>1627750</td>\n",
       "      <td>1629008</td>\n",
       "      <td>203932</td>\n",
       "      <td>203484</td>\n",
       "      <td>3</td>\n",
       "    </tr>\n",
       "    <tr>\n",
       "      <th>...</th>\n",
       "      <td>...</td>\n",
       "      <td>...</td>\n",
       "      <td>...</td>\n",
       "      <td>...</td>\n",
       "      <td>...</td>\n",
       "      <td>...</td>\n",
       "      <td>...</td>\n",
       "      <td>...</td>\n",
       "      <td>...</td>\n",
       "      <td>...</td>\n",
       "      <td>...</td>\n",
       "      <td>...</td>\n",
       "      <td>...</td>\n",
       "      <td>...</td>\n",
       "    </tr>\n",
       "    <tr>\n",
       "      <th>78465</th>\n",
       "      <td>0022300363</td>\n",
       "      <td>1610612757</td>\n",
       "      <td>1610612756</td>\n",
       "      <td>1629014</td>\n",
       "      <td>1629028</td>\n",
       "      <td>203924</td>\n",
       "      <td>1627763</td>\n",
       "      <td>1630703</td>\n",
       "      <td>201569</td>\n",
       "      <td>1626164</td>\n",
       "      <td>1628960</td>\n",
       "      <td>201142</td>\n",
       "      <td>203994</td>\n",
       "      <td>0</td>\n",
       "    </tr>\n",
       "    <tr>\n",
       "      <th>78466</th>\n",
       "      <td>0022300363</td>\n",
       "      <td>1610612756</td>\n",
       "      <td>1610612757</td>\n",
       "      <td>201569</td>\n",
       "      <td>1626164</td>\n",
       "      <td>1628960</td>\n",
       "      <td>201142</td>\n",
       "      <td>203994</td>\n",
       "      <td>1629014</td>\n",
       "      <td>1629028</td>\n",
       "      <td>203924</td>\n",
       "      <td>1627763</td>\n",
       "      <td>1630703</td>\n",
       "      <td>2</td>\n",
       "    </tr>\n",
       "    <tr>\n",
       "      <th>78467</th>\n",
       "      <td>0022300363</td>\n",
       "      <td>1610612757</td>\n",
       "      <td>1610612756</td>\n",
       "      <td>1629014</td>\n",
       "      <td>1629028</td>\n",
       "      <td>203924</td>\n",
       "      <td>1627763</td>\n",
       "      <td>1630703</td>\n",
       "      <td>201569</td>\n",
       "      <td>1626164</td>\n",
       "      <td>1628960</td>\n",
       "      <td>201142</td>\n",
       "      <td>203994</td>\n",
       "      <td>2</td>\n",
       "    </tr>\n",
       "    <tr>\n",
       "      <th>78468</th>\n",
       "      <td>0022300363</td>\n",
       "      <td>1610612756</td>\n",
       "      <td>1610612757</td>\n",
       "      <td>201569</td>\n",
       "      <td>1626164</td>\n",
       "      <td>1628960</td>\n",
       "      <td>201142</td>\n",
       "      <td>203994</td>\n",
       "      <td>1629014</td>\n",
       "      <td>1629028</td>\n",
       "      <td>203924</td>\n",
       "      <td>1627763</td>\n",
       "      <td>1630703</td>\n",
       "      <td>0</td>\n",
       "    </tr>\n",
       "    <tr>\n",
       "      <th>78469</th>\n",
       "      <td>0022300363</td>\n",
       "      <td>1610612757</td>\n",
       "      <td>1610612756</td>\n",
       "      <td>1629014</td>\n",
       "      <td>1629028</td>\n",
       "      <td>203924</td>\n",
       "      <td>1627763</td>\n",
       "      <td>1630703</td>\n",
       "      <td>201569</td>\n",
       "      <td>1626164</td>\n",
       "      <td>1628960</td>\n",
       "      <td>201142</td>\n",
       "      <td>203994</td>\n",
       "      <td>0</td>\n",
       "    </tr>\n",
       "  </tbody>\n",
       "</table>\n",
       "<p>78470 rows × 14 columns</p>\n",
       "</div>"
      ],
      "text/plain": [
       "              gid        offt        deft     off1     off2     off3     off4  \\\n",
       "0      0022300061  1610612747  1610612743     2544   203076  1626156  1627752   \n",
       "1      0022300061  1610612743  1610612747   203999  1627750  1629008   203932   \n",
       "2      0022300061  1610612747  1610612743     2544   203076  1626156  1627752   \n",
       "3      0022300061  1610612743  1610612747   203999  1627750  1629008   203932   \n",
       "4      0022300061  1610612747  1610612743     2544   203076  1626156  1627752   \n",
       "...           ...         ...         ...      ...      ...      ...      ...   \n",
       "78465  0022300363  1610612757  1610612756  1629014  1629028   203924  1627763   \n",
       "78466  0022300363  1610612756  1610612757   201569  1626164  1628960   201142   \n",
       "78467  0022300363  1610612757  1610612756  1629014  1629028   203924  1627763   \n",
       "78468  0022300363  1610612756  1610612757   201569  1626164  1628960   201142   \n",
       "78469  0022300363  1610612757  1610612756  1629014  1629028   203924  1627763   \n",
       "\n",
       "          off5     def1     def2     def3     def4     def5  pts  \n",
       "0      1630559   203999  1627750  1629008   203932   203484    2  \n",
       "1       203484     2544   203076  1626156  1627752  1630559    2  \n",
       "2      1630559   203999  1627750  1629008   203932   203484    3  \n",
       "3       203484     2544   203076  1626156  1627752  1630559    2  \n",
       "4      1630559   203999  1627750  1629008   203932   203484    3  \n",
       "...        ...      ...      ...      ...      ...      ...  ...  \n",
       "78465  1630703   201569  1626164  1628960   201142   203994    0  \n",
       "78466   203994  1629014  1629028   203924  1627763  1630703    2  \n",
       "78467  1630703   201569  1626164  1628960   201142   203994    2  \n",
       "78468   203994  1629014  1629028   203924  1627763  1630703    0  \n",
       "78469  1630703   201569  1626164  1628960   201142   203994    0  \n",
       "\n",
       "[78470 rows x 14 columns]"
      ]
     },
     "execution_count": 15,
     "metadata": {},
     "output_type": "execute_result"
    }
   ],
   "source": [
    "data.iloc[:,:-2]"
   ]
  }
 ],
 "metadata": {
  "interpreter": {
   "hash": "da7f6a1acbed3bc069371c7f8227ce1cf086c50bd8dde580a5e5a3ae6d907b7f"
  },
  "kernelspec": {
   "display_name": "Python 3.9.7 64-bit ('NBA-O70mvEYv': pipenv)",
   "name": "python3"
  },
  "language_info": {
   "codemirror_mode": {
    "name": "ipython",
    "version": 3
   },
   "file_extension": ".py",
   "mimetype": "text/x-python",
   "name": "python",
   "nbconvert_exporter": "python",
   "pygments_lexer": "ipython3",
   "version": "3.11.6"
  }
 },
 "nbformat": 4,
 "nbformat_minor": 2
}
