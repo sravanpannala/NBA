{
 "cells": [
  {
   "cell_type": "markdown",
   "metadata": {},
   "source": [
    "# Not working yet"
   ]
  },
  {
   "cell_type": "code",
   "execution_count": 1,
   "metadata": {},
   "outputs": [],
   "source": [
    "import os\n",
    "import time\n",
    "import json\n",
    "\n",
    "import numpy as np\n",
    "import pandas as pd\n",
    "import pygsheets"
   ]
  },
  {
   "cell_type": "code",
   "execution_count": null,
   "metadata": {},
   "outputs": [],
   "source": [
    "gc = pygsheets.authorize(service_file = \"../.vscode/gsheets.json\")"
   ]
  },
  {
   "cell_type": "code",
   "execution_count": 3,
   "metadata": {},
   "outputs": [],
   "source": [
    "with open(\"../secret-data.json\") as f:\n",
    "        secret = json.load(f)"
   ]
  },
  {
   "cell_type": "code",
   "execution_count": 6,
   "metadata": {},
   "outputs": [],
   "source": [
    "sheet = secret[\"bballindex_sheet\"]\n",
    "# sheet_ids = [\n",
    "#                 1248640713, 862835849, 740375327, 1461969555 , 1567964800, 259897766,\n",
    "#                 1269590563, 105554811, 42349330, 500156976, 851852901, 1569090958,\n",
    "#                 325057184, 509933697, 875686680, 251689526, 12252229, 55955873,\n",
    "#                 747161150, 1618674711, 1887958960, 269508398, 958205921, 549800948,\n",
    "#                 1797079481, 1939279048, 1372503717, 639635678, 593489217, 441414230,\n",
    "#                 1902747682, 67067818, 1564221539, 1017868663, 867790363, 1768060274\n",
    "#             ]\n",
    "\n",
    "sheet_id = 1248640713\n",
    "\n",
    "url = f'https://docs.google.com/spreadsheets/d/{sheet}/gviz/tq?tqx=out:csv&gid={sheet_id}'\n",
    "# sht1 = gc.open_by_key(sheet)\n",
    "# df = pd.read_csv(url)\n",
    "# df.head()"
   ]
  },
  {
   "cell_type": "code",
   "execution_count": 7,
   "metadata": {},
   "outputs": [],
   "source": [
    "df = pd.read_csv(url)"
   ]
  }
 ],
 "metadata": {
  "kernelspec": {
   "display_name": "nba-ub9Z_EQq-py3.11",
   "language": "python",
   "name": "python3"
  },
  "language_info": {
   "codemirror_mode": {
    "name": "ipython",
    "version": 3
   },
   "file_extension": ".py",
   "mimetype": "text/x-python",
   "name": "python",
   "nbconvert_exporter": "python",
   "pygments_lexer": "ipython3",
   "version": "3.11.6"
  }
 },
 "nbformat": 4,
 "nbformat_minor": 2
}
