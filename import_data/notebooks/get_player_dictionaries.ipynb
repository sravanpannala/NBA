{
 "cells": [
  {
   "cell_type": "markdown",
   "id": "1b339d7f-bf00-4796-8552-dd2217e6ef02",
   "metadata": {},
   "source": [
    "# Update Player Dictionaries for Mapping IDs"
   ]
  },
  {
   "cell_type": "code",
   "execution_count": 2,
   "id": "8d00f84e-b83a-40d8-8270-a4c977ca04d5",
   "metadata": {},
   "outputs": [],
   "source": [
    "import json\n",
    "\n",
    "import requests\n",
    "\n",
    "export_DIR = \"../../data/\"\n"
   ]
  },
  {
   "cell_type": "markdown",
   "id": "98322f05-0fa6-4b1e-9dc7-9ac4d4a8b05b",
   "metadata": {},
   "source": [
    "## NBA"
   ]
  },
  {
   "cell_type": "code",
   "execution_count": null,
   "id": "56a0cd61-7d75-48dd-b403-fc6144f52ae0",
   "metadata": {},
   "outputs": [],
   "source": [
    "players_response = requests.get(\n",
    "    \"https://api.pbpstats.com/get-all-players-for-league/nba\"\n",
    ")\n",
    "players = players_response.json()\n",
    "players = players[\"players\"]\n",
    "with open(export_DIR + \"NBA.json\", \"w\") as outfile:\n",
    "    json.dump(players, outfile, indent=4)\n",
    "df1 = players"
   ]
  },
  {
   "cell_type": "markdown",
   "id": "784ccc0d-9c0c-42b5-820e-dab949a0ac8f",
   "metadata": {},
   "source": [
    "## WNBA"
   ]
  },
  {
   "cell_type": "code",
   "execution_count": null,
   "id": "b0aecbe4-06f3-452b-853c-c185e0e83f3b",
   "metadata": {},
   "outputs": [],
   "source": [
    "players_response = requests.get(\n",
    "    \"https://api.pbpstats.com/get-all-players-for-league/wnba\"\n",
    ")\n",
    "players = players_response.json()\n",
    "players = players[\"players\"]\n",
    "with open(export_DIR + \"WNBA.json\", \"w\") as outfile:\n",
    "    json.dump(players, outfile, indent=4)\n",
    "df2 = players"
   ]
  },
  {
   "cell_type": "markdown",
   "id": "cec1903b",
   "metadata": {},
   "source": [
    "## GLeague"
   ]
  },
  {
   "cell_type": "code",
   "execution_count": null,
   "id": "a42b1f0d-aaa5-473f-904f-750848307f15",
   "metadata": {},
   "outputs": [],
   "source": [
    "players_response = requests.get(\n",
    "    \"https://api.pbpstats.com/get-all-players-for-league/gleague\"\n",
    ")\n",
    "players = players_response.json()\n",
    "players = players[\"players\"]\n",
    "with open(export_DIR + \"GLeague.json\", \"w\") as outfile:\n",
    "    json.dump(players, outfile, indent=4)\n",
    "df3 = players"
   ]
  },
  {
   "cell_type": "markdown",
   "id": "5f17b8e9",
   "metadata": {},
   "source": [
    "# All"
   ]
  },
  {
   "cell_type": "code",
   "execution_count": null,
   "id": "f7650313",
   "metadata": {},
   "outputs": [],
   "source": [
    "df1.update(df2)\n",
    "df1.update(df3)"
   ]
  },
  {
   "cell_type": "code",
   "execution_count": null,
   "id": "291039bb",
   "metadata": {},
   "outputs": [],
   "source": [
    "with open(export_DIR + \"ALL.json\", \"w\") as outfile:\n",
    "    json.dump(df1, outfile, indent=4)"
   ]
  }
 ],
 "metadata": {
  "kernelspec": {
   "display_name": ".venv",
   "language": "python",
   "name": "python3"
  },
  "language_info": {
   "codemirror_mode": {
    "name": "ipython",
    "version": 3
   },
   "file_extension": ".py",
   "mimetype": "text/x-python",
   "name": "python",
   "nbconvert_exporter": "python",
   "pygments_lexer": "ipython3",
   "version": "3.11.6"
  }
 },
 "nbformat": 4,
 "nbformat_minor": 5
}
