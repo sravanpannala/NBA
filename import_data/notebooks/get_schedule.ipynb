{
 "cells": [
  {
   "cell_type": "code",
   "execution_count": 1,
   "metadata": {},
   "outputs": [],
   "source": [
    "import requests\n",
    "import json\n",
    "import time\n",
    "\n",
    "data_DIR = \"../../data/schedule/\""
   ]
  },
  {
   "cell_type": "code",
   "execution_count": 2,
   "metadata": {},
   "outputs": [],
   "source": [
    "for season in range(2024,2025):\n",
    "    time.sleep(1)\n",
    "    r = requests.get(f\"http://data.nba.com/data/10s/v2015/json/mobile_teams/nba/{season}/league/00_full_schedule.json\")\n",
    "    rj = r.json()\n",
    "    with open(data_DIR + f\"NBA_Schedule_{season}.json\", \"w\") as outfile:\n",
    "            json.dump(rj, outfile, indent=2)"
   ]
  },
  {
   "cell_type": "markdown",
   "metadata": {},
   "source": [
    "\"https://stats.nba.com/stats/scheduleleaguev2?Season=2024-25&LeagueID=00\"\n",
    "\"http://data.nba.com/data/10s/v2015/json/mobile_teams/nba/2018/league/00_full_schedule.json\""
   ]
  }
 ],
 "metadata": {
  "kernelspec": {
   "display_name": "dav-ub9Z_EQq-py3.12",
   "language": "python",
   "name": "python3"
  },
  "language_info": {
   "codemirror_mode": {
    "name": "ipython",
    "version": 3
   },
   "file_extension": ".py",
   "mimetype": "text/x-python",
   "name": "python",
   "nbconvert_exporter": "python",
   "pygments_lexer": "ipython3",
   "version": "3.12.0"
  }
 },
 "nbformat": 4,
 "nbformat_minor": 2
}
