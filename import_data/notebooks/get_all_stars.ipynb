{
 "cells": [
  {
   "cell_type": "code",
   "execution_count": null,
   "metadata": {},
   "outputs": [],
   "source": [
    "import numpy as np\n",
    "import pandas as pd\n",
    "import requests\n",
    "from bs4 import BeautifulSoup\n",
    "import time\n",
    "import datetime as dt\n",
    "from tqdm import tqdm\n",
    "import json\n",
    "from thefuzz import fuzz, process\n",
    "from tenacity import retry\n",
    "from tenacity import stop_after_attempt, wait_fixed, Retrying\n",
    "\n",
    "from nba_api.stats.endpoints import leaguedashteamstats, playerawards\n",
    "\n",
    "pd.options.mode.chained_assignment =  None\n",
    "\n",
    "data_DIR = \"../../data/misc/\""
   ]
  },
  {
   "cell_type": "code",
   "execution_count": null,
   "metadata": {},
   "outputs": [],
   "source": [
    "dfp = pd.read_csv(\"../../data/NBA_players_database.csv\")\n",
    "dfp = dfp.sort_values([\"To\",\"pID\"],ascending=[False,True]).reset_index(drop=True)"
   ]
  },
  {
   "cell_type": "code",
   "execution_count": null,
   "metadata": {},
   "outputs": [],
   "source": [
    "pID_dict = dict(zip(dfp[\"Name\"],dfp[\"pID\"]))\n",
    "player_dict = dict(zip(dfp[\"pID\"],dfp[\"Name\"]))\n",
    "pID_list = dfp[\"pID\"].to_list()"
   ]
  },
  {
   "cell_type": "code",
   "execution_count": null,
   "metadata": {},
   "outputs": [],
   "source": [
    "@retry(stop=stop_after_attempt(5),wait=wait_fixed(1))\n",
    "def get_player_award(id):\n",
    "    time.sleep(1)\n",
    "    stats = playerawards.PlayerAwards(player_id=id)\n",
    "    df21 = stats.get_data_frames()[0]\n",
    "    return df21"
   ]
  },
  {
   "cell_type": "code",
   "execution_count": null,
   "metadata": {},
   "outputs": [],
   "source": [
    "dfa = []\n",
    "eID = []\n",
    "for id in tqdm(pID_list):\n",
    "    try:\n",
    "        df21 = get_player_award(id)\n",
    "        dfa.append(df21)\n",
    "    except Exception as e:\n",
    "        eID.append(id)\n",
    "        print(e)\n",
    "df3 = pd.concat(dfa)"
   ]
  },
  {
   "cell_type": "code",
   "execution_count": null,
   "metadata": {},
   "outputs": [],
   "source": [
    "df3.to_parquet(data_DIR+\"NBA_Awards_2024.parquet\")"
   ]
  },
  {
   "cell_type": "code",
   "execution_count": null,
   "metadata": {},
   "outputs": [],
   "source": [
    "fgdgf"
   ]
  },
  {
   "cell_type": "code",
   "execution_count": null,
   "metadata": {},
   "outputs": [],
   "source": [
    "def get_missing_pId(player,player_dict):\n",
    "    pId = process.extract(player,player_dict,limit=1, scorer=fuzz.partial_ratio)[0][2]\n",
    "    return pId"
   ]
  },
  {
   "cell_type": "code",
   "execution_count": null,
   "metadata": {},
   "outputs": [],
   "source": [
    "url = \"https://en.wikipedia.org/wiki/List_of_NBA_All-Stars\"\n",
    "df = pd.read_html(url)"
   ]
  },
  {
   "cell_type": "code",
   "execution_count": null,
   "metadata": {},
   "outputs": [],
   "source": [
    "df1 = df[1]\n",
    "df1[\"Player\"] = df1[\"Player\"].str.replace(r\"*\", \"\")\n",
    "df1[\"Player\"] = df1[\"Player\"].str.replace(r\"^\", \"\")\n",
    "df1[\"Player\"] = df1[\"Player\"].str.replace(r\"[a]\", \"\")\n",
    "df1[\"Player\"] = df1[\"Player\"].str.replace(r\"[b]\", \"\")\n",
    "df1[\"Player\"] = df1[\"Player\"].str.replace(r\"[c]\", \"\")\n",
    "df1[\"Player\"] = df1[\"Player\"].str.replace(r\"[d]\", \"\")\n",
    "df1[\"Player\"] = df1[\"Player\"].str.replace(r\"†\", \"\")\n",
    "df1[\"Player\"] = df1[\"Player\"].str.replace(r\"§\", \"\")\n",
    "df1[\"Player\"] = df1[\"Player\"].str.replace(\"Penny Hardaway\", \"Anfernee Hardaway\")\n",
    "df1[\"Player\"] = df1[\"Player\"].str.replace(\"Steve Smith\", \"Steven Smith\")\n",
    "df1[\"pID\"] = df1[\"Player\"].map(pID_dict)\n",
    "df1.loc[df1[\"pID\"].isna(),\"pID\"] = df1.loc[df1[\"pID\"].isna(),\"Player\"].apply(lambda x: get_missing_pId(x, player_dict))\n",
    "df1[\"pID\"] = df1[\"pID\"].astype(int)\n",
    "# df1[\"Player2\"] = df1[\"pID\"].map(player_dict)\n",
    "# df1[\"Verify\"]  = df1[\"Player2\"] != df1[\"Player\"]\n",
    "pIDs = df1[\"pID\"].unique()"
   ]
  },
  {
   "cell_type": "code",
   "execution_count": null,
   "metadata": {},
   "outputs": [],
   "source": [
    "dfa = []\n",
    "for id in tqdm(pIDs):\n",
    "    try:\n",
    "        stats = playerawards.PlayerAwards(player_id=id)\n",
    "        df21 = stats.get_data_frames()[0]\n",
    "        dfa.append(df21)\n",
    "    except Exception as e:\n",
    "        print(e)\n",
    "    time.sleep(1)\n",
    "df2 = pd.concat(dfa)"
   ]
  },
  {
   "cell_type": "code",
   "execution_count": null,
   "metadata": {},
   "outputs": [],
   "source": []
  }
 ],
 "metadata": {
  "kernelspec": {
   "display_name": "dav-ub9Z_EQq-py3.12",
   "language": "python",
   "name": "python3"
  },
  "language_info": {
   "codemirror_mode": {
    "name": "ipython",
    "version": 3
   },
   "file_extension": ".py",
   "mimetype": "text/x-python",
   "name": "python",
   "nbconvert_exporter": "python",
   "pygments_lexer": "ipython3",
   "version": "3.12.0"
  }
 },
 "nbformat": 4,
 "nbformat_minor": 2
}
