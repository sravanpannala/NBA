{
 "cells": [
  {
   "cell_type": "code",
   "execution_count": 3,
   "metadata": {},
   "outputs": [],
   "source": [
    "import pandas as pd\n",
    "from nba_api.stats.endpoints import teamplayeronoffsummary\n",
    "import numpy as np\n",
    "import time\n",
    "from tqdm import tqdm\n",
    "\n",
    "box_DIR = \"../../data/box/\"\n",
    "\n",
    "pd.options.mode.chained_assignment =  None"
   ]
  },
  {
   "cell_type": "code",
   "execution_count": 4,
   "metadata": {},
   "outputs": [],
   "source": [
    "dft = pd.read_csv(\"../../data/NBA_teams_database.csv\")\n",
    "teams = dft[\"TeamID\"].to_list()"
   ]
  },
  {
   "cell_type": "code",
   "execution_count": null,
   "metadata": {},
   "outputs": [],
   "source": [
    "dfa = []\n",
    "for year in range(2007,2023):\n",
    "    print(year)\n",
    "    season_str = str(year) + \"-\" + str(year+1)[-2:]\n",
    "    df1,df2,df3,df4 = [],[],[],[]\n",
    "    for team in tqdm(teams):\n",
    "        try:               \n",
    "            stats = teamplayeronoffsummary.TeamPlayerOnOffSummary(\n",
    "                    measure_type_detailed_defense=\"Advanced\",\n",
    "                    per_mode_detailed=\"PerGame\",\n",
    "                    season_type_all_star=\"Regular Season\",\n",
    "                    team_id=team,\n",
    "                    season=season_str,\n",
    "            )\n",
    "            # time.sleep(0.6)\n",
    "            df1.append(stats.get_data_frames()[1])\n",
    "            df2.append(stats.get_data_frames()[2])\n",
    "            stats = teamplayeronoffsummary.TeamPlayerOnOffSummary(\n",
    "                    measure_type_detailed_defense=\"Advanced\",\n",
    "                    per_mode_detailed=\"PerGame\",\n",
    "                    season_type_all_star=\"Playoffs\",\n",
    "                    team_id=team,\n",
    "                    season=season_str,\n",
    "            )\n",
    "            # time.sleep(0.6)\n",
    "            df3.append(stats.get_data_frames()[1])\n",
    "            df4.append(stats.get_data_frames()[2])\n",
    "        except Exception as error:\n",
    "                print(f\"{team}, {year}\")\n",
    "                print(error)\n",
    "                pass\n",
    "    df1 = pd.concat(df1)\n",
    "    df2 = pd.concat(df2)\n",
    "    df3 = pd.concat(df3)\n",
    "    df4 = pd.concat(df4)\n",
    "    df1.to_parquet(box_DIR + f\"NBA_Box_P_Cum_Adv_On_{year}.parquet\")\n",
    "    df2.to_parquet(box_DIR + f\"NBA_Box_P_Cum_Adv_Off_{year}.parquet\")    \n",
    "    df3.to_parquet(box_DIR + f\"NBA_Box_P_Cum_Adv_On_{year}_PS.parquet\")\n",
    "    df4.to_parquet(box_DIR + f\"NBA_Box_P_Cum_Adv_Off_{year}_PS.parquet\")\n",
    "#     clear_output(wait=True)"
   ]
  }
 ],
 "metadata": {
  "kernelspec": {
   "display_name": "nba-ub9Z_EQq-py3.11",
   "language": "python",
   "name": "python3"
  },
  "language_info": {
   "codemirror_mode": {
    "name": "ipython",
    "version": 3
   },
   "file_extension": ".py",
   "mimetype": "text/x-python",
   "name": "python",
   "nbconvert_exporter": "python",
   "pygments_lexer": "ipython3",
   "version": "3.11.6"
  }
 },
 "nbformat": 4,
 "nbformat_minor": 2
}
