{
 "cells": [
  {
   "cell_type": "code",
   "execution_count": null,
   "metadata": {},
   "outputs": [],
   "source": [
    "import shutil\n",
    "import requests\n",
    "import json\n",
    "import time\n",
    "from tqdm import tqdm\n",
    "import matplotlib.pyplot as plt\n",
    "\n",
    "img_DIR_P = \"../../data/images/players/\"\n",
    "img_DIR_T = \"../../data/images/teams/\""
   ]
  },
  {
   "cell_type": "code",
   "execution_count": null,
   "metadata": {},
   "outputs": [],
   "source": [
    "with open(\"../../data/NBA.json\") as f:\n",
    "    players = json.load(f)\n",
    "player_list = list(players.keys())"
   ]
  },
  {
   "cell_type": "code",
   "execution_count": null,
   "metadata": {},
   "outputs": [],
   "source": [
    "url = f\"https://cdn.nba.com/headshots/nba/latest/260x190/fallback.png\"\n",
    "response = requests.get(url)\n",
    "with open(img_DIR_P + \"fallback.png\", \"wb\") as f:\n",
    "    f.write(response.content)"
   ]
  },
  {
   "cell_type": "code",
   "execution_count": null,
   "metadata": {},
   "outputs": [],
   "source": [
    "for player_id in tqdm(player_list):\n",
    "    img = img_DIR_P + f\"{player_id}.png\"\n",
    "    url = f\"https://cdn.nba.com/headshots/nba/latest/260x190/{player_id}.png\"\n",
    "    try: \n",
    "        plt.imread(img)\n",
    "    except:\n",
    "        response = requests.get(url)\n",
    "        with open(img, \"wb\") as f:\n",
    "            f.write(response.content)\n",
    "        time.sleep(0.6)"
   ]
  },
  {
   "cell_type": "code",
   "execution_count": null,
   "metadata": {},
   "outputs": [],
   "source": [
    "for player_id in tqdm(player_list):\n",
    "    img = img_DIR_P + f\"{player_id}.png\"\n",
    "    try: \n",
    "        plt.imread(img)\n",
    "    except:\n",
    "        shutil.copy2(img_DIR_P + \"fallback.png\",img)    \n",
    "    "
   ]
  },
  {
   "cell_type": "code",
   "execution_count": null,
   "metadata": {},
   "outputs": [],
   "source": [
    "from PIL import Image"
   ]
  },
  {
   "cell_type": "code",
   "execution_count": null,
   "metadata": {},
   "outputs": [],
   "source": [
    "team = \"Charlotte Bobcats\"\n",
    "url = \"https://loodibee.com/wp-content/uploads/charlotte-bobcats-2008-2012.png\"\n",
    "response = requests.get(url)\n",
    "with open(img_DIR_T + team + \".png\", \"wb\") as f:\n",
    "    f.write(response.content)\n",
    "img = Image.open(img_DIR_T + team + \".png\")\n",
    "new_image = img.resize((400, 400))\n",
    "new_image.save(img_DIR_T + team + \".png\")"
   ]
  }
 ],
 "metadata": {
  "kernelspec": {
   "display_name": "nba-ub9Z_EQq-py3.11",
   "language": "python",
   "name": "python3"
  },
  "language_info": {
   "codemirror_mode": {
    "name": "ipython",
    "version": 3
   },
   "file_extension": ".py",
   "mimetype": "text/x-python",
   "name": "python",
   "nbconvert_exporter": "python",
   "pygments_lexer": "ipython3",
   "version": "3.11.6"
  }
 },
 "nbformat": 4,
 "nbformat_minor": 2
}
