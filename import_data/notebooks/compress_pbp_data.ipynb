{
 "cells": [
  {
   "cell_type": "markdown",
   "metadata": {},
   "source": [
    "# Code to Compress and Save PBP Data for faster loading\n",
    "## Uses `dill` for pickling and `zstandard` for compression"
   ]
  },
  {
   "cell_type": "code",
   "execution_count": null,
   "metadata": {},
   "outputs": [],
   "source": [
    "import numpy as np\n",
    "import pandas as pd\n",
    "from tqdm import tqdm\n",
    "import dill\n",
    "import zstandard as zstd\n",
    "from time import perf_counter\n",
    "\n",
    "from pbpstats.client import Client\n",
    "\n",
    "fig_DIR = \"../figs/pbp_related/\"\n",
    "export_DIR = \"../../data/pbpdata/\"\n",
    "\n",
    "pbp_DIR = \"../../pbpdata/\"\n",
    "# pbp_DIR = \"../../data/pbpdata/\""
   ]
  },
  {
   "cell_type": "code",
   "execution_count": null,
   "metadata": {},
   "outputs": [],
   "source": [
    "# pbp function to get all games list for a season\n",
    "def pbp_season(\n",
    "    league=\"NBA\",\n",
    "    season_yr=\"2023\",\n",
    "    season_type=\"Regular Season\",\n",
    "    data_provider=\"data_nba\",\n",
    "):\n",
    "    settings = {\n",
    "        \"Games\": {\"source\": \"file\", \"data_provider\": data_provider},\n",
    "        \"dir\": pbp_DIR + data_provider,\n",
    "    }\n",
    "    client = Client(settings)\n",
    "    season = client.Season(league, season_yr, season_type)\n",
    "    games_id = []\n",
    "    for final_game in season.games.final_games:\n",
    "        games_id.append(final_game[\"game_id\"])\n",
    "    print(\"Number of games: \", len(games_id))\n",
    "    return games_id\n",
    "\n",
    "\n",
    "# function to get all games pbp data for a season\n",
    "def pbp_games(games_id, data_provider=\"data_nba\"):\n",
    "    settings = {\n",
    "        \"Boxscore\": {\"source\": \"file\", \"data_provider\": data_provider},\n",
    "        \"Possessions\": {\"source\": \"file\", \"data_provider\": data_provider},\n",
    "        \"dir\": pbp_DIR + data_provider,\n",
    "    }\n",
    "    client = Client(settings)\n",
    "    games_list = []\n",
    "    bad_games_list = []\n",
    "    for gameid in tqdm(games_id):\n",
    "        try:\n",
    "            games_list.append(client.Game(gameid))\n",
    "        except:\n",
    "            bad_games_list.append(gameid)\n",
    "            continue\n",
    "    print(\"Number of bad games: \", len(bad_games_list))\n",
    "\n",
    "    return games_list"
   ]
  },
  {
   "cell_type": "code",
   "execution_count": null,
   "metadata": {},
   "outputs": [],
   "source": [
    "league = \"NBA\"\n",
    "season_start = 2021\n",
    "season_end = 2022\n",
    "seasons = np.arange(season_start,season_end,1).astype(str)\n",
    "season_type = \"Regular Season\"\n",
    "for season in seasons:\n",
    "    print(season)\n",
    "    if int(season) > 2015:\n",
    "        data_provider = \"data_nba\"\n",
    "    else:\n",
    "        data_provider = \"stats_nba\"\n",
    "    games_id = pbp_season(\n",
    "        league=league,\n",
    "        season_yr=season,\n",
    "        season_type=season_type,\n",
    "        data_provider=data_provider,\n",
    "    )\n",
    "    games_list = pbp_games(games_id, data_provider=data_provider)\n",
    "    t1 = perf_counter()\n",
    "    with zstd.open(export_DIR + league + \"_PBPdata_\" + season + \".pkl.zst\",\"wb\") as f:\n",
    "        dill.dump(games_list,f)\n",
    "    t2 = perf_counter()\n",
    "    round(t2-t1)"
   ]
  },
  {
   "cell_type": "code",
   "execution_count": null,
   "metadata": {},
   "outputs": [],
   "source": [
    "league = \"WNBA\"\n",
    "season_start = 2015\n",
    "season_end = 2023\n",
    "seasons = np.arange(season_start,season_end,1).astype(str)\n",
    "season_type = \"Regular Season\"\n",
    "for season in seasons:\n",
    "    print(season)\n",
    "\n",
    "    data_provider = \"stats_nba\"\n",
    "\n",
    "    games_id = pbp_season(\n",
    "        league=league,\n",
    "        season_yr=season,\n",
    "        season_type=season_type,\n",
    "        data_provider=data_provider,\n",
    "    )\n",
    "    games_list = pbp_games(games_id, data_provider=data_provider)\n",
    "    with zstd.open(export_DIR + league + \"_PBPdata_\" + season + \".pkl.zst\",\"wb\") as f:\n",
    "        dill.dump(games_list,f)"
   ]
  }
 ],
 "metadata": {
  "kernelspec": {
   "display_name": "Python 3 (ipykernel)",
   "language": "python",
   "name": "python3"
  },
  "language_info": {
   "codemirror_mode": {
    "name": "ipython",
    "version": 3
   },
   "file_extension": ".py",
   "mimetype": "text/x-python",
   "name": "python",
   "nbconvert_exporter": "python",
   "pygments_lexer": "ipython3",
   "version": "3.12.9"
  }
 },
 "nbformat": 4,
 "nbformat_minor": 4
}
