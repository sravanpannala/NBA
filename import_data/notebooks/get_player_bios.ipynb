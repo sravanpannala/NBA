{
 "cells": [
  {
   "cell_type": "code",
   "execution_count": 2,
   "metadata": {},
   "outputs": [],
   "source": [
    "import pandas as pd\n",
    "from nba_api.stats.endpoints import commonallplayers, playerindex, cumestatsplayer, commonplayerinfo, commonteamroster\n",
    "import numpy as np\n",
    "import time\n",
    "from tqdm import tqdm\n",
    "from IPython.display import clear_output\n",
    "\n",
    "data_DIR = \"../../data/\"\n",
    "export_DIR = data_DIR + \"rosters/\"\n",
    "pd.options.mode.chained_assignment =  None"
   ]
  },
  {
   "cell_type": "code",
   "execution_count": 3,
   "metadata": {},
   "outputs": [],
   "source": [
    "team_data = pd.read_csv(data_DIR + \"NBA_teams_database.csv\")\n",
    "teams_list = team_data[\"TeamID\"].tolist()"
   ]
  },
  {
   "cell_type": "code",
   "execution_count": 4,
   "metadata": {},
   "outputs": [],
   "source": [
    "def get_ss(year):\n",
    "    season_str = str(year) + \"-\" + str(year+1)[-2:]\n",
    "    return season_str"
   ]
  },
  {
   "cell_type": "code",
   "execution_count": 5,
   "metadata": {},
   "outputs": [
    {
     "name": "stderr",
     "output_type": "stream",
     "text": [
      "  0%|          | 0/21 [00:00<?, ?it/s]"
     ]
    },
    {
     "name": "stderr",
     "output_type": "stream",
     "text": [
      "100%|██████████| 21/21 [25:43<00:00, 73.52s/it]\n"
     ]
    }
   ],
   "source": [
    "dfa = []\n",
    "for season in tqdm(range(2004,2025)):\n",
    "    for team_id in teams_list:\n",
    "        time.sleep(2)\n",
    "        stats = commonteamroster.CommonTeamRoster(\n",
    "                league_id_nullable=\"00\",\n",
    "                season=get_ss(season),\n",
    "                team_id=team_id,\n",
    "            )\n",
    "        df1 = stats.get_data_frames()[0]\n",
    "        dfa.append(df1)"
   ]
  }
 ],
 "metadata": {
  "kernelspec": {
   "display_name": "dav-ub9Z_EQq-py3.12",
   "language": "python",
   "name": "python3"
  },
  "language_info": {
   "codemirror_mode": {
    "name": "ipython",
    "version": 3
   },
   "file_extension": ".py",
   "mimetype": "text/x-python",
   "name": "python",
   "nbconvert_exporter": "python",
   "pygments_lexer": "ipython3",
   "version": "3.12.0"
  }
 },
 "nbformat": 4,
 "nbformat_minor": 2
}
