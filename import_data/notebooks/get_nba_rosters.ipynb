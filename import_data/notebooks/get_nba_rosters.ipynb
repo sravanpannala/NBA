{
 "cells": [
  {
   "cell_type": "code",
   "execution_count": null,
   "metadata": {},
   "outputs": [],
   "source": [
    "import pandas as pd\n",
    "from nba_api.stats.endpoints import commonallplayers, playerindex, cumestatsplayer\n",
    "import numpy as np\n",
    "import time\n",
    "from tqdm import tqdm\n",
    "export_DIR = \"../../data/rosters/\"\n",
    "\n",
    "pd.options.mode.chained_assignment =  None"
   ]
  },
  {
   "cell_type": "code",
   "execution_count": null,
   "metadata": {},
   "outputs": [],
   "source": [
    "year = 2023"
   ]
  },
  {
   "cell_type": "code",
   "execution_count": null,
   "metadata": {},
   "outputs": [],
   "source": [
    "stats = commonallplayers.CommonAllPlayers(league_id = \"00\", season =year, is_only_current_season=True)\n",
    "df = stats.get_data_frames()[0]\n",
    "df = df.query(\"ROSTERSTATUS == 1\").reset_index(drop=True)"
   ]
  },
  {
   "cell_type": "code",
   "execution_count": null,
   "metadata": {},
   "outputs": [],
   "source": [
    "# df.to_csv(export_DIR + \"NBA_Team_Rosters\" + \"_\" + str(year) + \".csv\")\n",
    "df.to_parquet(export_DIR + \"NBA_Team_Rosters\" + \"_\" + str(year) + \".parquet\")"
   ]
  },
  {
   "cell_type": "code",
   "execution_count": null,
   "metadata": {},
   "outputs": [],
   "source": [
    "season_str = \"2023-24\"\n",
    "stats = playerindex.PlayerIndex(league_id = \"00\", season =season_str)\n",
    "df = stats.get_data_frames()[0]\n",
    "df = df[(~df[\"PTS\"].isna()) & (df[\"ROSTER_STATUS\"] == 1)].reset_index(drop=True)"
   ]
  },
  {
   "cell_type": "code",
   "execution_count": null,
   "metadata": {},
   "outputs": [],
   "source": [
    "cols = ['PERSON_ID', 'PLAYER_LAST_NAME', 'PLAYER_FIRST_NAME', 'TEAM_CITY', 'TEAM_NAME',\n",
    "       'TEAM_ABBREVIATION', 'POSITION','ROSTER_STATUS', 'JERSEY_NUMBER']"
   ]
  },
  {
   "cell_type": "code",
   "execution_count": null,
   "metadata": {},
   "outputs": [],
   "source": [
    "season_start = 2022\n",
    "season_end = season_start+1\n",
    "seasons = np.arange(season_start, season_end, 1).astype(str)\n",
    "dfa = []\n",
    "for season in tqdm(seasons):\n",
    "    season_str = season + \"-\" + str(int(season) + 1)[-2:]\n",
    "    stats = playerindex.PlayerIndex(\n",
    "        league_id = \"00\", \n",
    "        # season =season_str,\n",
    "        season=\"2011\",\n",
    "        historical_nullable=1,\n",
    "        # active_nullable=0,\n",
    "    )\n",
    "    df = stats.get_data_frames()[0]\n",
    "    # df = df[(~df[\"PTS\"].isna()) & (df[\"ROSTER_STATUS\"] == 1)].reset_index(drop=True)\n",
    "    df1 = df[cols]\n",
    "    df1[\"Season\"] = int(season)+1\n",
    "    dfa.append(df1)\n",
    "    time.sleep(0.6)"
   ]
  },
  {
   "cell_type": "code",
   "execution_count": null,
   "metadata": {},
   "outputs": [],
   "source": [
    "df[['PLAYER_SLUG','JERSEY_NUMBER']]"
   ]
  },
  {
   "cell_type": "code",
   "execution_count": null,
   "metadata": {},
   "outputs": [],
   "source": [
    "df[\"JERSEY_NUMBER\"]"
   ]
  },
  {
   "cell_type": "code",
   "execution_count": null,
   "metadata": {},
   "outputs": [],
   "source": [
    "stats = cumestatsplayer.CumeStatsPlayer(league_id=\"00\",season=\"2021-22\")"
   ]
  },
  {
   "cell_type": "code",
   "execution_count": null,
   "metadata": {},
   "outputs": [],
   "source": [
    "stats.get_data_frames()[0]"
   ]
  },
  {
   "cell_type": "code",
   "execution_count": null,
   "metadata": {},
   "outputs": [],
   "source": [
    "dfb = pd.concat(dfa)"
   ]
  },
  {
   "cell_type": "code",
   "execution_count": null,
   "metadata": {},
   "outputs": [],
   "source": [
    "export_DIR1 = \"../../data/misc/\"\n",
    "dfb.to_csv(export_DIR1 + \"jersey_numbers.csv\")"
   ]
  },
  {
   "cell_type": "code",
   "execution_count": null,
   "metadata": {},
   "outputs": [],
   "source": [
    "dfb.query(\"Season == 2012\")"
   ]
  },
  {
   "cell_type": "code",
   "execution_count": null,
   "metadata": {},
   "outputs": [],
   "source": [
    "df.head()"
   ]
  },
  {
   "cell_type": "code",
   "execution_count": null,
   "metadata": {},
   "outputs": [],
   "source": [
    "df.columns"
   ]
  },
  {
   "cell_type": "markdown",
   "metadata": {},
   "source": [
    "# Draft History"
   ]
  },
  {
   "cell_type": "code",
   "execution_count": null,
   "metadata": {},
   "outputs": [],
   "source": [
    "from nba_api.stats.endpoints import drafthistory"
   ]
  },
  {
   "cell_type": "code",
   "execution_count": null,
   "metadata": {},
   "outputs": [],
   "source": [
    "stats = drafthistory.DraftHistory(league_id='00')\n",
    "df = stats.get_data_frames()[0]\n",
    "df.to_parquet(export_DIR + \"NBA_Draft_History\" + \".parquet\")"
   ]
  },
  {
   "cell_type": "code",
   "execution_count": null,
   "metadata": {},
   "outputs": [],
   "source": [
    "from nba_api.stats.endpoints import draftcombinestats"
   ]
  },
  {
   "cell_type": "code",
   "execution_count": null,
   "metadata": {},
   "outputs": [],
   "source": [
    "stats = draftcombinestats.DraftCombineStats(league_id='00',season_all_time=\"All Time\")\n",
    "df = stats.get_data_frames()[0]\n",
    "df.to_parquet(export_DIR + \"NBA_Draft_Combine\" + \".parquet\")"
   ]
  },
  {
   "cell_type": "code",
   "execution_count": null,
   "metadata": {},
   "outputs": [],
   "source": [
    "from nba_api.stats.endpoints import commonplayerinfo"
   ]
  },
  {
   "cell_type": "code",
   "execution_count": null,
   "metadata": {},
   "outputs": [],
   "source": [
    "stats = commonplayerinfo.CommonPlayerInfo(player_id=\"2544\")"
   ]
  },
  {
   "cell_type": "code",
   "execution_count": null,
   "metadata": {},
   "outputs": [],
   "source": [
    "df = stats.get_data_frames()[0]"
   ]
  },
  {
   "cell_type": "code",
   "execution_count": null,
   "metadata": {},
   "outputs": [],
   "source": [
    "stats.get_data_frames()[3]"
   ]
  },
  {
   "cell_type": "code",
   "execution_count": null,
   "metadata": {},
   "outputs": [],
   "source": [
    "from nba_api.stats.endpoints import commonteamroster"
   ]
  },
  {
   "cell_type": "code",
   "execution_count": null,
   "metadata": {},
   "outputs": [],
   "source": [
    "stats = commonteamroster.CommonTeamRoster(team_id=1610612747, season=2022)"
   ]
  },
  {
   "cell_type": "code",
   "execution_count": null,
   "metadata": {},
   "outputs": [],
   "source": [
    "stats.get_data_frames()[0]"
   ]
  }
 ],
 "metadata": {
  "kernelspec": {
   "display_name": "nba-ub9Z_EQq-py3.11",
   "language": "python",
   "name": "python3"
  },
  "language_info": {
   "codemirror_mode": {
    "name": "ipython",
    "version": 3
   },
   "file_extension": ".py",
   "mimetype": "text/x-python",
   "name": "python",
   "nbconvert_exporter": "python",
   "pygments_lexer": "ipython3",
   "version": "3.11.6"
  }
 },
 "nbformat": 4,
 "nbformat_minor": 2
}
