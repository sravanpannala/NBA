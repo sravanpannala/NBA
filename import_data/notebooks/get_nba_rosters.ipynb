{
 "cells": [
  {
   "cell_type": "code",
   "execution_count": 1,
   "metadata": {},
   "outputs": [],
   "source": [
    "import pandas as pd\n",
    "from nba_api.stats.endpoints import commonallplayers, playerindex, cumestatsplayer\n",
    "import numpy as np\n",
    "import time\n",
    "from tqdm import tqdm\n",
    "export_DIR = \"../../data/rosters/\"\n",
    "\n",
    "pd.options.mode.chained_assignment =  None"
   ]
  },
  {
   "cell_type": "code",
   "execution_count": null,
   "metadata": {},
   "outputs": [],
   "source": [
    "year = 2023"
   ]
  },
  {
   "cell_type": "code",
   "execution_count": 16,
   "metadata": {},
   "outputs": [
    {
     "ename": "KeyError",
     "evalue": "'resultSet'",
     "output_type": "error",
     "traceback": [
      "\u001b[1;31m---------------------------------------------------------------------------\u001b[0m",
      "\u001b[1;31mKeyError\u001b[0m                                  Traceback (most recent call last)",
      "Cell \u001b[1;32mIn[16], line 1\u001b[0m\n\u001b[1;32m----> 1\u001b[0m stats \u001b[38;5;241m=\u001b[39m \u001b[43mcommonallplayers\u001b[49m\u001b[38;5;241;43m.\u001b[39;49m\u001b[43mCommonAllPlayers\u001b[49m\u001b[43m(\u001b[49m\u001b[43mleague_id\u001b[49m\u001b[43m \u001b[49m\u001b[38;5;241;43m=\u001b[39;49m\u001b[43m \u001b[49m\u001b[38;5;124;43m\"\u001b[39;49m\u001b[38;5;124;43m00\u001b[39;49m\u001b[38;5;124;43m\"\u001b[39;49m\u001b[43m,\u001b[49m\u001b[43m \u001b[49m\u001b[43mseason\u001b[49m\u001b[43m \u001b[49m\u001b[38;5;241;43m=\u001b[39;49m\u001b[43myear\u001b[49m\u001b[43m,\u001b[49m\u001b[43m \u001b[49m\u001b[43mis_only_current_season\u001b[49m\u001b[38;5;241;43m=\u001b[39;49m\u001b[38;5;28;43;01mTrue\u001b[39;49;00m\u001b[43m)\u001b[49m\n\u001b[0;32m      2\u001b[0m df \u001b[38;5;241m=\u001b[39m stats\u001b[38;5;241m.\u001b[39mget_data_frames()[\u001b[38;5;241m0\u001b[39m]\n\u001b[0;32m      3\u001b[0m df \u001b[38;5;241m=\u001b[39m df\u001b[38;5;241m.\u001b[39mquery(\u001b[38;5;124m\"\u001b[39m\u001b[38;5;124mROSTERSTATUS == 1\u001b[39m\u001b[38;5;124m\"\u001b[39m)\u001b[38;5;241m.\u001b[39mreset_index(drop\u001b[38;5;241m=\u001b[39m\u001b[38;5;28;01mTrue\u001b[39;00m)\n",
      "File \u001b[1;32mc:\\Users\\pansr\\AppData\\Local\\pypoetry\\Cache\\virtualenvs\\nba-ub9Z_EQq-py3.11\\Lib\\site-packages\\nba_api\\stats\\endpoints\\commonallplayers.py:53\u001b[0m, in \u001b[0;36mCommonAllPlayers.__init__\u001b[1;34m(self, is_only_current_season, league_id, season, proxy, headers, timeout, get_request)\u001b[0m\n\u001b[0;32m     47\u001b[0m \u001b[38;5;28mself\u001b[39m\u001b[38;5;241m.\u001b[39mparameters \u001b[38;5;241m=\u001b[39m {\n\u001b[0;32m     48\u001b[0m     \u001b[38;5;124m\"\u001b[39m\u001b[38;5;124mIsOnlyCurrentSeason\u001b[39m\u001b[38;5;124m\"\u001b[39m: is_only_current_season,\n\u001b[0;32m     49\u001b[0m     \u001b[38;5;124m\"\u001b[39m\u001b[38;5;124mLeagueID\u001b[39m\u001b[38;5;124m\"\u001b[39m: league_id,\n\u001b[0;32m     50\u001b[0m     \u001b[38;5;124m\"\u001b[39m\u001b[38;5;124mSeason\u001b[39m\u001b[38;5;124m\"\u001b[39m: season,\n\u001b[0;32m     51\u001b[0m }\n\u001b[0;32m     52\u001b[0m \u001b[38;5;28;01mif\u001b[39;00m get_request:\n\u001b[1;32m---> 53\u001b[0m     \u001b[38;5;28;43mself\u001b[39;49m\u001b[38;5;241;43m.\u001b[39;49m\u001b[43mget_request\u001b[49m\u001b[43m(\u001b[49m\u001b[43m)\u001b[49m\n",
      "File \u001b[1;32mc:\\Users\\pansr\\AppData\\Local\\pypoetry\\Cache\\virtualenvs\\nba-ub9Z_EQq-py3.11\\Lib\\site-packages\\nba_api\\stats\\endpoints\\commonallplayers.py:63\u001b[0m, in \u001b[0;36mCommonAllPlayers.get_request\u001b[1;34m(self)\u001b[0m\n\u001b[0;32m     55\u001b[0m \u001b[38;5;28;01mdef\u001b[39;00m \u001b[38;5;21mget_request\u001b[39m(\u001b[38;5;28mself\u001b[39m):\n\u001b[0;32m     56\u001b[0m     \u001b[38;5;28mself\u001b[39m\u001b[38;5;241m.\u001b[39mnba_response \u001b[38;5;241m=\u001b[39m NBAStatsHTTP()\u001b[38;5;241m.\u001b[39msend_api_request(\n\u001b[0;32m     57\u001b[0m         endpoint\u001b[38;5;241m=\u001b[39m\u001b[38;5;28mself\u001b[39m\u001b[38;5;241m.\u001b[39mendpoint,\n\u001b[0;32m     58\u001b[0m         parameters\u001b[38;5;241m=\u001b[39m\u001b[38;5;28mself\u001b[39m\u001b[38;5;241m.\u001b[39mparameters,\n\u001b[1;32m   (...)\u001b[0m\n\u001b[0;32m     61\u001b[0m         timeout\u001b[38;5;241m=\u001b[39m\u001b[38;5;28mself\u001b[39m\u001b[38;5;241m.\u001b[39mtimeout,\n\u001b[0;32m     62\u001b[0m     )\n\u001b[1;32m---> 63\u001b[0m     \u001b[38;5;28;43mself\u001b[39;49m\u001b[38;5;241;43m.\u001b[39;49m\u001b[43mload_response\u001b[49m\u001b[43m(\u001b[49m\u001b[43m)\u001b[49m\n",
      "File \u001b[1;32mc:\\Users\\pansr\\AppData\\Local\\pypoetry\\Cache\\virtualenvs\\nba-ub9Z_EQq-py3.11\\Lib\\site-packages\\nba_api\\stats\\endpoints\\commonallplayers.py:66\u001b[0m, in \u001b[0;36mCommonAllPlayers.load_response\u001b[1;34m(self)\u001b[0m\n\u001b[0;32m     65\u001b[0m \u001b[38;5;28;01mdef\u001b[39;00m \u001b[38;5;21mload_response\u001b[39m(\u001b[38;5;28mself\u001b[39m):\n\u001b[1;32m---> 66\u001b[0m     data_sets \u001b[38;5;241m=\u001b[39m \u001b[38;5;28;43mself\u001b[39;49m\u001b[38;5;241;43m.\u001b[39;49m\u001b[43mnba_response\u001b[49m\u001b[38;5;241;43m.\u001b[39;49m\u001b[43mget_data_sets\u001b[49m\u001b[43m(\u001b[49m\u001b[43m)\u001b[49m\n\u001b[0;32m     67\u001b[0m     \u001b[38;5;28mself\u001b[39m\u001b[38;5;241m.\u001b[39mdata_sets \u001b[38;5;241m=\u001b[39m [\n\u001b[0;32m     68\u001b[0m         Endpoint\u001b[38;5;241m.\u001b[39mDataSet(data\u001b[38;5;241m=\u001b[39mdata_set)\n\u001b[0;32m     69\u001b[0m         \u001b[38;5;28;01mfor\u001b[39;00m data_set_name, data_set \u001b[38;5;129;01min\u001b[39;00m data_sets\u001b[38;5;241m.\u001b[39mitems()\n\u001b[0;32m     70\u001b[0m     ]\n\u001b[0;32m     71\u001b[0m     \u001b[38;5;28mself\u001b[39m\u001b[38;5;241m.\u001b[39mcommon_all_players \u001b[38;5;241m=\u001b[39m Endpoint\u001b[38;5;241m.\u001b[39mDataSet(data\u001b[38;5;241m=\u001b[39mdata_sets[\u001b[38;5;124m\"\u001b[39m\u001b[38;5;124mCommonAllPlayers\u001b[39m\u001b[38;5;124m\"\u001b[39m])\n",
      "File \u001b[1;32mc:\\Users\\pansr\\AppData\\Local\\pypoetry\\Cache\\virtualenvs\\nba-ub9Z_EQq-py3.11\\Lib\\site-packages\\nba_api\\stats\\library\\http.py:129\u001b[0m, in \u001b[0;36mNBAStatsResponse.get_data_sets\u001b[1;34m(self, endpoint)\u001b[0m\n\u001b[0;32m    127\u001b[0m     results \u001b[38;5;241m=\u001b[39m raw_dict[\u001b[38;5;124m\"\u001b[39m\u001b[38;5;124mresultSets\u001b[39m\u001b[38;5;124m\"\u001b[39m]\n\u001b[0;32m    128\u001b[0m \u001b[38;5;28;01melse\u001b[39;00m:\n\u001b[1;32m--> 129\u001b[0m     results \u001b[38;5;241m=\u001b[39m \u001b[43mraw_dict\u001b[49m\u001b[43m[\u001b[49m\u001b[38;5;124;43m\"\u001b[39;49m\u001b[38;5;124;43mresultSet\u001b[39;49m\u001b[38;5;124;43m\"\u001b[39;49m\u001b[43m]\u001b[49m\n\u001b[0;32m    130\u001b[0m \u001b[38;5;28;01mif\u001b[39;00m \u001b[38;5;28misinstance\u001b[39m(results, \u001b[38;5;28mdict\u001b[39m):\n\u001b[0;32m    131\u001b[0m     \u001b[38;5;28;01mif\u001b[39;00m \u001b[38;5;124m\"\u001b[39m\u001b[38;5;124mname\u001b[39m\u001b[38;5;124m\"\u001b[39m \u001b[38;5;129;01mnot\u001b[39;00m \u001b[38;5;129;01min\u001b[39;00m results:\n",
      "\u001b[1;31mKeyError\u001b[0m: 'resultSet'"
     ]
    }
   ],
   "source": [
    "stats = commonallplayers.CommonAllPlayers(league_id = \"00\", season =year, is_only_current_season=True)\n",
    "df = stats.get_data_frames()[0]\n",
    "df = df.query(\"ROSTERSTATUS == 1\").reset_index(drop=True)"
   ]
  },
  {
   "cell_type": "code",
   "execution_count": null,
   "metadata": {},
   "outputs": [],
   "source": [
    "# df.to_csv(export_DIR + \"NBA_Team_Rosters\" + \"_\" + str(year) + \".csv\")\n",
    "df.to_parquet(export_DIR + \"NBA_Team_Rosters\" + \"_\" + str(year) + \".parquet\")"
   ]
  },
  {
   "cell_type": "code",
   "execution_count": 14,
   "metadata": {},
   "outputs": [],
   "source": [
    "season_str = \"2022-23\"\n",
    "stats = playerindex.PlayerIndex(league_id = \"00\", season =season_str)\n",
    "df = stats.get_data_frames()[0]\n",
    "df = df[(~df[\"PTS\"].isna()) & (df[\"ROSTER_STATUS\"] == 1)].reset_index(drop=True)"
   ]
  },
  {
   "cell_type": "code",
   "execution_count": null,
   "metadata": {},
   "outputs": [],
   "source": [
    "cols = ['PERSON_ID', 'PLAYER_LAST_NAME', 'PLAYER_FIRST_NAME', 'TEAM_CITY', 'TEAM_NAME',\n",
    "       'TEAM_ABBREVIATION', 'POSITION','ROSTER_STATUS', 'JERSEY_NUMBER']"
   ]
  },
  {
   "cell_type": "code",
   "execution_count": null,
   "metadata": {},
   "outputs": [],
   "source": [
    "season_start = 2022\n",
    "season_end = season_start+1\n",
    "seasons = np.arange(season_start, season_end, 1).astype(str)\n",
    "dfa = []\n",
    "for season in tqdm(seasons):\n",
    "    season_str = season + \"-\" + str(int(season) + 1)[-2:]\n",
    "    stats = playerindex.PlayerIndex(\n",
    "        league_id = \"00\", \n",
    "        # season =season_str,\n",
    "        season=\"2011\",\n",
    "        historical_nullable=1,\n",
    "        # active_nullable=0,\n",
    "    )\n",
    "    df = stats.get_data_frames()[0]\n",
    "    # df = df[(~df[\"PTS\"].isna()) & (df[\"ROSTER_STATUS\"] == 1)].reset_index(drop=True)\n",
    "    df1 = df[cols]\n",
    "    df1[\"Season\"] = int(season)+1\n",
    "    dfa.append(df1)\n",
    "    time.sleep(0.6)"
   ]
  },
  {
   "cell_type": "code",
   "execution_count": null,
   "metadata": {},
   "outputs": [],
   "source": [
    "df[['PLAYER_SLUG','JERSEY_NUMBER']]"
   ]
  },
  {
   "cell_type": "code",
   "execution_count": null,
   "metadata": {},
   "outputs": [],
   "source": [
    "df[\"JERSEY_NUMBER\"]"
   ]
  },
  {
   "cell_type": "code",
   "execution_count": 13,
   "metadata": {},
   "outputs": [
    {
     "ename": "TypeError",
     "evalue": "CumeStatsPlayer.__init__() missing 2 required positional arguments: 'player_id' and 'game_ids'",
     "output_type": "error",
     "traceback": [
      "\u001b[1;31m---------------------------------------------------------------------------\u001b[0m",
      "\u001b[1;31mTypeError\u001b[0m                                 Traceback (most recent call last)",
      "Cell \u001b[1;32mIn[13], line 1\u001b[0m\n\u001b[1;32m----> 1\u001b[0m stats \u001b[38;5;241m=\u001b[39m \u001b[43mcumestatsplayer\u001b[49m\u001b[38;5;241;43m.\u001b[39;49m\u001b[43mCumeStatsPlayer\u001b[49m\u001b[43m(\u001b[49m\u001b[43mleague_id\u001b[49m\u001b[38;5;241;43m=\u001b[39;49m\u001b[38;5;124;43m\"\u001b[39;49m\u001b[38;5;124;43m00\u001b[39;49m\u001b[38;5;124;43m\"\u001b[39;49m\u001b[43m,\u001b[49m\u001b[43mseason\u001b[49m\u001b[38;5;241;43m=\u001b[39;49m\u001b[38;5;124;43m\"\u001b[39;49m\u001b[38;5;124;43m2021-22\u001b[39;49m\u001b[38;5;124;43m\"\u001b[39;49m\u001b[43m)\u001b[49m\n",
      "\u001b[1;31mTypeError\u001b[0m: CumeStatsPlayer.__init__() missing 2 required positional arguments: 'player_id' and 'game_ids'"
     ]
    }
   ],
   "source": [
    "stats = cumestatsplayer.CumeStatsPlayer(league_id=\"00\",season=\"2021-22\")"
   ]
  },
  {
   "cell_type": "code",
   "execution_count": null,
   "metadata": {},
   "outputs": [],
   "source": [
    "stats.get_data_frames()[0]"
   ]
  },
  {
   "cell_type": "code",
   "execution_count": null,
   "metadata": {},
   "outputs": [],
   "source": [
    "dfb = pd.concat(dfa)"
   ]
  },
  {
   "cell_type": "code",
   "execution_count": null,
   "metadata": {},
   "outputs": [],
   "source": [
    "export_DIR1 = \"../../data/misc/\"\n",
    "dfb.to_csv(export_DIR1 + \"jersey_numbers.csv\")"
   ]
  },
  {
   "cell_type": "code",
   "execution_count": null,
   "metadata": {},
   "outputs": [],
   "source": [
    "dfb.query(\"Season == 2012\")"
   ]
  },
  {
   "cell_type": "code",
   "execution_count": null,
   "metadata": {},
   "outputs": [],
   "source": [
    "df.head()"
   ]
  },
  {
   "cell_type": "code",
   "execution_count": null,
   "metadata": {},
   "outputs": [],
   "source": [
    "df.columns"
   ]
  },
  {
   "cell_type": "markdown",
   "metadata": {},
   "source": [
    "# Draft History"
   ]
  },
  {
   "cell_type": "code",
   "execution_count": 2,
   "metadata": {},
   "outputs": [],
   "source": [
    "from nba_api.stats.endpoints import drafthistory"
   ]
  },
  {
   "cell_type": "code",
   "execution_count": 3,
   "metadata": {},
   "outputs": [],
   "source": [
    "stats = drafthistory.DraftHistory(league_id='00')\n",
    "df = stats.get_data_frames()[0]\n",
    "df.to_parquet(export_DIR + \"NBA_Draft_History\" + \".parquet\")"
   ]
  },
  {
   "cell_type": "code",
   "execution_count": 4,
   "metadata": {},
   "outputs": [],
   "source": [
    "from nba_api.stats.endpoints import draftcombinestats"
   ]
  },
  {
   "cell_type": "code",
   "execution_count": 5,
   "metadata": {},
   "outputs": [],
   "source": [
    "stats = draftcombinestats.DraftCombineStats(league_id='00',season_all_time=\"All Time\")\n",
    "df = stats.get_data_frames()[0]\n",
    "df.to_parquet(export_DIR + \"NBA_Draft_Combine\" + \".parquet\")"
   ]
  },
  {
   "cell_type": "code",
   "execution_count": null,
   "metadata": {},
   "outputs": [],
   "source": [
    "from nba_api.stats.endpoints import commonplayerinfo"
   ]
  },
  {
   "cell_type": "code",
   "execution_count": null,
   "metadata": {},
   "outputs": [],
   "source": [
    "stats = commonplayerinfo.CommonPlayerInfo(player_id=\"2544\")"
   ]
  },
  {
   "cell_type": "code",
   "execution_count": null,
   "metadata": {},
   "outputs": [],
   "source": [
    "df = stats.get_data_frames()[0]"
   ]
  },
  {
   "cell_type": "code",
   "execution_count": null,
   "metadata": {},
   "outputs": [],
   "source": [
    "stats.get_data_frames()[3]"
   ]
  },
  {
   "cell_type": "code",
   "execution_count": null,
   "metadata": {},
   "outputs": [],
   "source": [
    "from nba_api.stats.endpoints import commonteamroster"
   ]
  },
  {
   "cell_type": "code",
   "execution_count": null,
   "metadata": {},
   "outputs": [],
   "source": [
    "stats = commonteamroster.CommonTeamRoster(team_id=1610612747, season=2022)"
   ]
  },
  {
   "cell_type": "code",
   "execution_count": null,
   "metadata": {},
   "outputs": [],
   "source": [
    "stats.get_data_frames()[0]"
   ]
  }
 ],
 "metadata": {
  "kernelspec": {
   "display_name": "nba-ub9Z_EQq-py3.11",
   "language": "python",
   "name": "python3"
  },
  "language_info": {
   "codemirror_mode": {
    "name": "ipython",
    "version": 3
   },
   "file_extension": ".py",
   "mimetype": "text/x-python",
   "name": "python",
   "nbconvert_exporter": "python",
   "pygments_lexer": "ipython3",
   "version": "3.11.6"
  }
 },
 "nbformat": 4,
 "nbformat_minor": 2
}
