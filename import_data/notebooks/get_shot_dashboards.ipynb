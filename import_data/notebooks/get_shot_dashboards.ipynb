{
 "cells": [
  {
   "cell_type": "code",
   "execution_count": null,
   "metadata": {},
   "outputs": [],
   "source": [
    "from itertools import product\n",
    "import time\n",
    "import numpy as np\n",
    "import pandas as pd\n",
    "from nba_api.stats.endpoints import leaguedashplayerptshot, playerdashptshots, leaguedashteamptshot\n",
    "from tenacity import RetryError, Retrying, stop_after_attempt, wait_fixed\n",
    "from tqdm import tqdm\n",
    "\n",
    "pd.options.mode.chained_assignment = None\n",
    "\n",
    "data_DIR = \"../../data/shots/\""
   ]
  },
  {
   "cell_type": "markdown",
   "metadata": {},
   "source": [
    "# Each Dash Type Separately"
   ]
  },
  {
   "cell_type": "code",
   "execution_count": null,
   "metadata": {},
   "outputs": [],
   "source": [
    "league, league_id = \"NBA\", \"00\"\n",
    "season_start = 2023\n",
    "season_end = 2024\n",
    "seasons = np.arange(season_start, season_end, 1).astype(str)\n",
    "dash_types = [\"overall\",\"shot_type\",\"shot_clock\",\"dribble\",\"closest_def\",\"closest_def_10\",\"touch_time\"]\n",
    "for season in tqdm(seasons):\n",
    "    season_str = season + \"-\" + str(int(season)+1)[-2:]\n",
    "    stats = playerdashptshots.PlayerDashPtShots(league_id = league_id,team_id = 0,player_id = 0,season=season_str).get_data_frames()\n",
    "    for i,d in enumerate(dash_types):\n",
    "        df = stats[i].drop(columns=[\"SORT_ORDER\",\"FGA_FREQUENCY\",\"FG2A_FREQUENCY\",\"FG3A_FREQUENCY\"])\n",
    "        df.to_parquet(data_DIR + f\"{league}_Shots_{season}_{d}.parquet\")"
   ]
  },
  {
   "cell_type": "markdown",
   "metadata": {},
   "source": [
    "# Bin Shots by Condition"
   ]
  },
  {
   "cell_type": "code",
   "execution_count": null,
   "metadata": {},
   "outputs": [],
   "source": [
    "general_range = ['Catch and Shoot', 'Pullups', 'Less Than 10 ft']\n",
    "shot_clock = ['24-22', '22-18 Very Early', '18-15 Early', '15-7 Average', '7-4 Late', '4-0 Very Late']\n",
    "dribbles = ['0 Dribbles', '1 Dribble', '2 Dribbles', '3-6 Dribbles', '7+ Dribbles']\n",
    "closest_def = ['0-2 Feet - Very Tight', '2-4 Feet - Tight', '4-6 Feet - Open', '6+ Feet - Wide Open']\n",
    "touch_time = ['Touch < 2 Seconds', 'Touch 2-6 Seconds', 'Touch 6+ Seconds']"
   ]
  },
  {
   "cell_type": "code",
   "execution_count": null,
   "metadata": {},
   "outputs": [],
   "source": [
    "league, league_id = \"NBA\", \"00\"\n",
    "season_start = 2024\n",
    "season_end = 2025\n",
    "seasons = np.arange(season_start, season_end, 1).astype(str)"
   ]
  },
  {
   "cell_type": "code",
   "execution_count": null,
   "metadata": {},
   "outputs": [],
   "source": [
    "for season in seasons:\n",
    "    season_str = season + \"-\" + str(int(season)+1)[-2:]\n",
    "    n = 0\n",
    "    for a, b, c in product(general_range,closest_def, touch_time):\n",
    "        n+=1\n",
    "    dfa = []\n",
    "    for a, b, c in tqdm(product(general_range,closest_def, touch_time),total=n):\n",
    "        for i in Retrying(stop=stop_after_attempt(5), wait=wait_fixed(0.6)):\n",
    "            try:\n",
    "                stats = leaguedashplayerptshot.LeagueDashPlayerPtShot(\n",
    "                    league_id = league_id,\n",
    "                    season=season_str,\n",
    "                    season_type_all_star = \"Regular Season\",\n",
    "                    general_range_nullable = a,\n",
    "                    close_def_dist_range_nullable= b,\n",
    "                    touch_time_range_nullable = c, \n",
    "                    # dribble_range_nullable =  d,\n",
    "                ).get_data_frames()\n",
    "                df1 = stats[0]\n",
    "                df1[\"general_range\"] = a\n",
    "                df1[\"closest_def\"] = b\n",
    "                df1[\"touch_time\"] = c\n",
    "                dfa.append(df1)\n",
    "                break\n",
    "            except Exception as error:\n",
    "                print(error)\n",
    "                continue\n",
    "    dfa1 = [df2 for df2 in dfa if not df2.empty]\n",
    "    df = pd.concat(dfa1)\n",
    "    # df.to_parquet(data_DIR + f\"{league}_Shots_{season}_All.parquet\")"
   ]
  },
  {
   "cell_type": "code",
   "execution_count": null,
   "metadata": {},
   "outputs": [],
   "source": [
    "dfa1 = [df2 for df2 in dfa if not df2.empty]"
   ]
  },
  {
   "cell_type": "code",
   "execution_count": null,
   "metadata": {},
   "outputs": [],
   "source": [
    "len(dfa1)"
   ]
  },
  {
   "cell_type": "code",
   "execution_count": null,
   "metadata": {},
   "outputs": [],
   "source": [
    "for i in range(len(dfa1)):\n",
    "    if len(dfa1[i])<5:\n",
    "        display(dfa1[i])"
   ]
  },
  {
   "cell_type": "code",
   "execution_count": null,
   "metadata": {},
   "outputs": [],
   "source": [
    "dfa1 = [df2.fillna(0) for df2 in dfa if not df2.empty]"
   ]
  },
  {
   "cell_type": "code",
   "execution_count": null,
   "metadata": {},
   "outputs": [],
   "source": [
    "df2[\"FG3_PCT\"] = 0"
   ]
  },
  {
   "cell_type": "code",
   "execution_count": null,
   "metadata": {},
   "outputs": [],
   "source": [
    "dfa1 = [df2.infer_objects(copy=False).fillna(0) for df2 in dfa if not df2.empty]\n",
    "df = pd.concat(dfa1)"
   ]
  },
  {
   "cell_type": "code",
   "execution_count": null,
   "metadata": {},
   "outputs": [],
   "source": [
    "df = pd.concat(dfa1)\n"
   ]
  },
  {
   "cell_type": "markdown",
   "metadata": {},
   "source": [
    "## Team"
   ]
  },
  {
   "cell_type": "code",
   "execution_count": null,
   "metadata": {},
   "outputs": [],
   "source": [
    "for season in seasons:\n",
    "    season_str = season + \"-\" + str(int(season)+1)[-2:]\n",
    "    n = 0\n",
    "    for a, b, c in product(general_range,closest_def, touch_time):\n",
    "        n+=1\n",
    "    dfa = []\n",
    "    for a, b, c in tqdm(product(general_range,closest_def, touch_time),total=n):\n",
    "        for i in Retrying(stop=stop_after_attempt(5), wait=wait_fixed(0.6)):\n",
    "            try:\n",
    "                stats = leaguedashteamptshot.LeagueDashTeamPtShot(\n",
    "                    league_id = league_id,\n",
    "                    season=season_str,\n",
    "                    season_type_all_star = \"Regular Season\",\n",
    "                    general_range_nullable = a,\n",
    "                    close_def_dist_range_nullable= b,\n",
    "                    touch_time_range_nullable = c, \n",
    "                    # dribble_range_nullable =  d,\n",
    "                ).get_data_frames()\n",
    "                df1 = stats[0]\n",
    "                df1[\"general_range\"] = a\n",
    "                df1[\"closest_def\"] = b\n",
    "                df1[\"touch_time\"] = c\n",
    "                dfa.append(df1)\n",
    "                break\n",
    "            except Exception as error:\n",
    "                print(error)\n",
    "                continue\n",
    "    dfa1 = [df2 for df2 in dfa if not df2.empty]\n",
    "    df = pd.concat(dfa1)\n",
    "    df.to_parquet(data_DIR + f\"{league}_Shots_T_{season}_All.parquet\")"
   ]
  },
  {
   "cell_type": "code",
   "execution_count": null,
   "metadata": {},
   "outputs": [],
   "source": [
    "df.to_parquet(data_DIR + f\"{league}_Shots_T_{season}_All.parquet\")"
   ]
  },
  {
   "cell_type": "markdown",
   "metadata": {},
   "source": [
    "# By Date"
   ]
  },
  {
   "cell_type": "code",
   "execution_count": null,
   "metadata": {},
   "outputs": [],
   "source": [
    "season = \"2023\"\n",
    "league, league_id = \"NBA\", \"00\"\n",
    "general_range0 = ['Catch and Shoot']\n",
    "general_range = ['Pullups', 'Less Than 10 ft']\n",
    "closest_def = [\n",
    "    \"0-2 Feet - Very Tight\",\n",
    "    \"2-4 Feet - Tight\",\n",
    "    \"4-6 Feet - Open\",\n",
    "    \"6+ Feet - Wide Open\",\n",
    "]\n",
    "touch_time0 = [\"Touch < 2 Seconds\"]\n",
    "touch_time = [\"Touch < 2 Seconds\",\"Touch 2-6 Seconds\", \"Touch 6+ Seconds\"]\n",
    "\n",
    "season_str = season + \"-\" + str(int(season) + 1)[-2:]\n",
    "n = 0\n",
    "for a, b, c in product(general_range, closest_def, touch_time):\n",
    "    n += 1\n",
    "dfa = []\n",
    "from datetime import date, timedelta\n",
    "\n",
    "d1 = date(2023,10,24)\n",
    "d2 = date.today()\n",
    "\n",
    "# this will give you a list containing all of the dates\n",
    "dd = [d1 + timedelta(days=x) for x in range((d2-d1).days + 1)]\n",
    "for d in tqdm(dd):\n",
    "    for a, b, c in product(general_range0, closest_def, touch_time0):\n",
    "        for i in range(5):\n",
    "            try:\n",
    "                stats = leaguedashplayerptshot.LeagueDashPlayerPtShot(\n",
    "                    league_id=league_id,\n",
    "                    season=season_str,\n",
    "                    general_range_nullable=a,\n",
    "                    close_def_dist_range_nullable=b,\n",
    "                    touch_time_range_nullable=c,\n",
    "                    date_from_nullable = d.strftime(\"%Y-%m-%d\"),\n",
    "                    date_to_nullable = d.strftime(\"%Y-%m-%d\"),\n",
    "\n",
    "                ).get_data_frames()\n",
    "                df1 = stats[0]\n",
    "                df1[\"general_range\"] = a\n",
    "                df1[\"closest_def\"] = b\n",
    "                df1[\"touch_time\"] = c\n",
    "                df1[\"Date\"]=d.strftime(\"%Y-%m-%d\")\n",
    "                dfa.append(df1)\n",
    "                time.sleep(0.6)\n",
    "                break\n",
    "            except Exception as error:\n",
    "                print(error)\n",
    "                # continue\n",
    "    for a, b, c in product(general_range, closest_def, touch_time):\n",
    "        for i in range(5):\n",
    "            try:\n",
    "                stats = leaguedashplayerptshot.LeagueDashPlayerPtShot(\n",
    "                    league_id=league_id,\n",
    "                    season=season_str,\n",
    "                    general_range_nullable=a,\n",
    "                    close_def_dist_range_nullable=b,\n",
    "                    touch_time_range_nullable=c,\n",
    "                    date_from_nullable = d.strftime(\"%Y-%m-%d\"),\n",
    "                    date_to_nullable = d.strftime(\"%Y-%m-%d\"),\n",
    "\n",
    "                ).get_data_frames()\n",
    "                df1 = stats[0]\n",
    "                df1[\"general_range\"] = a\n",
    "                df1[\"closest_def\"] = b\n",
    "                df1[\"touch_time\"] = c\n",
    "                df1[\"Date\"]=d.strftime(\"%Y-%m-%d\")\n",
    "                dfa.append(df1)\n",
    "                time.sleep(0.6)\n",
    "                break\n",
    "            except Exception as error:\n",
    "                print(error)\n",
    "                # continue\n",
    "dfa1 = [df2.fillna(0) for df2 in dfa if not df2.empty]\n",
    "df = pd.concat(dfa1)"
   ]
  },
  {
   "cell_type": "code",
   "execution_count": null,
   "metadata": {},
   "outputs": [],
   "source": [
    "dfa1 = [df2.fillna(0) for df2 in dfa if not df2.empty]\n",
    "df = pd.concat(dfa1)"
   ]
  },
  {
   "cell_type": "code",
   "execution_count": null,
   "metadata": {},
   "outputs": [],
   "source": [
    "df[df[\"Date\"] == \"2023-10-24\"][\"general_range\"].unique()"
   ]
  },
  {
   "cell_type": "code",
   "execution_count": null,
   "metadata": {},
   "outputs": [],
   "source": [
    "df.to_parquet(data_DIR + f\"{league}_Shots_{season}_All_Date.parquet\")"
   ]
  },
  {
   "cell_type": "code",
   "execution_count": null,
   "metadata": {},
   "outputs": [],
   "source": [
    "df"
   ]
  }
 ],
 "metadata": {
  "kernelspec": {
   "display_name": "dav-ub9Z_EQq-py3.12",
   "language": "python",
   "name": "python3"
  },
  "language_info": {
   "codemirror_mode": {
    "name": "ipython",
    "version": 3
   },
   "file_extension": ".py",
   "mimetype": "text/x-python",
   "name": "python",
   "nbconvert_exporter": "python",
   "pygments_lexer": "ipython3",
   "version": "3.12.0"
  }
 },
 "nbformat": 4,
 "nbformat_minor": 2
}
