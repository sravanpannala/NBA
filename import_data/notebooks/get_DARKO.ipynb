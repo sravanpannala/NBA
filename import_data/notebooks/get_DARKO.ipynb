{
 "cells": [
  {
   "cell_type": "markdown",
   "metadata": {},
   "source": [
    "# Code to Scrape DARKO and BPM\n"
   ]
  },
  {
   "cell_type": "code",
   "execution_count": 1,
   "metadata": {},
   "outputs": [],
   "source": [
    "import os\n",
    "import time\n",
    "import json\n",
    "import requests\n",
    "\n",
    "import numpy as np\n",
    "import pandas as pd\n",
    "\n",
    "os.environ[\"R_HOME\"] = \"C:\\\\Program Files\\\\R\\\\R-4.3.2\\\\\"\n",
    "import rpy2.robjects as robjects\n",
    "from rpy2.robjects import pandas2ri\n",
    "from rpy2.robjects.packages import importr\n",
    "\n",
    "\n",
    "export_DIR1 = \"../../data/bbref/\"\n",
    "export_DIR2 = \"../../data/all_in_one_metrics/\""
   ]
  },
  {
   "cell_type": "markdown",
   "metadata": {},
   "source": [
    "# Python Method"
   ]
  },
  {
   "cell_type": "markdown",
   "metadata": {},
   "source": [
    "## All Darko from Parquet"
   ]
  },
  {
   "cell_type": "code",
   "execution_count": null,
   "metadata": {},
   "outputs": [],
   "source": [
    "with open(\"../secret-data.json\") as f:\n",
    "        secret = json.load(f)\n",
    "url = secret[\"darko_parquet\"]\n",
    "response = requests.get(url)\n",
    "with open(export_DIR2 + \"NBA_DARKO_FULL.parquet\", 'wb') as f:\n",
    "    f.write(response.content)"
   ]
  },
  {
   "cell_type": "markdown",
   "metadata": {},
   "source": [
    "## Darko from Google Sheet"
   ]
  },
  {
   "cell_type": "code",
   "execution_count": 2,
   "metadata": {},
   "outputs": [],
   "source": [
    "sheet = \"1mhwOLqPu2F9026EQiVxFPIN1t9RGafGpl-dokaIsm9c\"\n",
    "sheet_ids = [1064086941, 142925152, 284274620, 923517192 , 1503564342]\n",
    "dfa = []\n",
    "for sheet_id in sheet_ids:\n",
    "    url = f'https://docs.google.com/spreadsheets/d/{sheet}/gviz/tq?tqx=out:csv&gid={sheet_id}'\n",
    "    df = pd.read_csv(url)\n",
    "    dfa.append(df)\n",
    "    time.sleep(0.5)\n",
    "df1 = dfa[0]\n",
    "df1.columns = [\"idPlayerNBA\",\"namePlayer\",\"position\",\"age\",\"dpm\",\"o_dpm\",\"d_dpm\",\"box_odpm\",\"box_ddpm\",\"on_off_odpm\",\"on_off_ddpm\"]\n",
    "df1.to_csv(export_DIR2 + \"NBA_DARKO_Current.csv\")\n",
    "df1.to_parquet(export_DIR2 + \"NBA_DARKO_Current.parquet\")\n",
    "df2 = dfa[1]\n",
    "df2 = df2.rename(columns={\"nba_id\":\"idPlayerNBA\", \"player_name\":\"namePlayer\"})\n",
    "df2.to_csv(export_DIR2 + \"NBA_DARKO_History.csv\")\n",
    "df2.to_parquet(export_DIR2 + \"NBA_DARKO_History.parquet\")\n",
    "df3 = dfa[2]\n",
    "df3 = df3.rename(columns={\"nba_id\":\"idPlayerNBA\", \"player_name\":\"namePlayer\"})\n",
    "df3.to_csv(export_DIR2 + \"NBA_DARKO_BoxScore_Talent.csv\")\n",
    "df3.to_parquet(export_DIR2 + \"NBA_DARKO_BoxScore_Talent.parquet\")\n",
    "df4 = dfa[3]\n",
    "df4 = df4.rename(columns={\"nba_id\":\"idPlayerNBA\", \"player_name\":\"namePlayer\"})\n",
    "df4.to_csv(export_DIR2 + \"NBA_DARKO_Time_Decay_RAPM.csv\")\n",
    "df4.to_parquet(export_DIR2 + \"NBA_DARKO_Time_Decay_RAPM.parquet\")\n",
    "df5 = dfa[4]\n",
    "df5 = df5.rename(columns={\"nba_id\":\"idPlayerNBA\", \"player_name\":\"namePlayer\"})\n",
    "df5.to_csv(export_DIR2 + \"NBA_DARKO_Time_Decay_RAPM_Pace.csv\")\n",
    "df5.to_parquet(export_DIR2 + \"NBA_DARKO_Time_Decay_RAPM_Pace.parquet\")"
   ]
  },
  {
   "cell_type": "code",
   "execution_count": 7,
   "metadata": {},
   "outputs": [
    {
     "data": {
      "text/html": [
       "<div>\n",
       "<style scoped>\n",
       "    .dataframe tbody tr th:only-of-type {\n",
       "        vertical-align: middle;\n",
       "    }\n",
       "\n",
       "    .dataframe tbody tr th {\n",
       "        vertical-align: top;\n",
       "    }\n",
       "\n",
       "    .dataframe thead th {\n",
       "        text-align: right;\n",
       "    }\n",
       "</style>\n",
       "<table border=\"1\" class=\"dataframe\">\n",
       "  <thead>\n",
       "    <tr style=\"text-align: right;\">\n",
       "      <th></th>\n",
       "      <th>count</th>\n",
       "      <th>mean</th>\n",
       "      <th>std</th>\n",
       "      <th>min</th>\n",
       "      <th>25%</th>\n",
       "      <th>50%</th>\n",
       "      <th>75%</th>\n",
       "      <th>max</th>\n",
       "    </tr>\n",
       "  </thead>\n",
       "  <tbody>\n",
       "    <tr>\n",
       "      <th>idPlayerNBA</th>\n",
       "      <td>524.0</td>\n",
       "      <td>1363430.64</td>\n",
       "      <td>558740.00</td>\n",
       "      <td>2544.00</td>\n",
       "      <td>1627757.25</td>\n",
       "      <td>1629664.00</td>\n",
       "      <td>1630647.50</td>\n",
       "      <td>1641931.00</td>\n",
       "    </tr>\n",
       "    <tr>\n",
       "      <th>age</th>\n",
       "      <td>524.0</td>\n",
       "      <td>26.26</td>\n",
       "      <td>4.31</td>\n",
       "      <td>19.10</td>\n",
       "      <td>23.18</td>\n",
       "      <td>25.40</td>\n",
       "      <td>28.90</td>\n",
       "      <td>39.00</td>\n",
       "    </tr>\n",
       "    <tr>\n",
       "      <th>dpm</th>\n",
       "      <td>524.0</td>\n",
       "      <td>-0.63</td>\n",
       "      <td>1.76</td>\n",
       "      <td>-4.46</td>\n",
       "      <td>-1.89</td>\n",
       "      <td>-0.90</td>\n",
       "      <td>0.28</td>\n",
       "      <td>6.76</td>\n",
       "    </tr>\n",
       "    <tr>\n",
       "      <th>o_dpm</th>\n",
       "      <td>524.0</td>\n",
       "      <td>-0.62</td>\n",
       "      <td>1.54</td>\n",
       "      <td>-3.62</td>\n",
       "      <td>-1.65</td>\n",
       "      <td>-0.97</td>\n",
       "      <td>0.10</td>\n",
       "      <td>5.24</td>\n",
       "    </tr>\n",
       "    <tr>\n",
       "      <th>d_dpm</th>\n",
       "      <td>524.0</td>\n",
       "      <td>-0.01</td>\n",
       "      <td>0.91</td>\n",
       "      <td>-2.27</td>\n",
       "      <td>-0.59</td>\n",
       "      <td>-0.17</td>\n",
       "      <td>0.53</td>\n",
       "      <td>3.83</td>\n",
       "    </tr>\n",
       "    <tr>\n",
       "      <th>box_odpm</th>\n",
       "      <td>524.0</td>\n",
       "      <td>-0.58</td>\n",
       "      <td>1.50</td>\n",
       "      <td>-3.55</td>\n",
       "      <td>-1.65</td>\n",
       "      <td>-0.90</td>\n",
       "      <td>0.24</td>\n",
       "      <td>5.75</td>\n",
       "    </tr>\n",
       "    <tr>\n",
       "      <th>box_ddpm</th>\n",
       "      <td>524.0</td>\n",
       "      <td>-0.06</td>\n",
       "      <td>0.93</td>\n",
       "      <td>-2.80</td>\n",
       "      <td>-0.68</td>\n",
       "      <td>-0.17</td>\n",
       "      <td>0.50</td>\n",
       "      <td>3.28</td>\n",
       "    </tr>\n",
       "    <tr>\n",
       "      <th>on_off_odpm</th>\n",
       "      <td>524.0</td>\n",
       "      <td>-0.69</td>\n",
       "      <td>1.60</td>\n",
       "      <td>-4.11</td>\n",
       "      <td>-1.78</td>\n",
       "      <td>-1.06</td>\n",
       "      <td>0.07</td>\n",
       "      <td>5.44</td>\n",
       "    </tr>\n",
       "    <tr>\n",
       "      <th>on_off_ddpm</th>\n",
       "      <td>524.0</td>\n",
       "      <td>-0.14</td>\n",
       "      <td>1.00</td>\n",
       "      <td>-2.27</td>\n",
       "      <td>-0.84</td>\n",
       "      <td>-0.31</td>\n",
       "      <td>0.46</td>\n",
       "      <td>4.06</td>\n",
       "    </tr>\n",
       "  </tbody>\n",
       "</table>\n",
       "</div>"
      ],
      "text/plain": [
       "             count        mean        std      min         25%         50%  \\\n",
       "idPlayerNBA  524.0  1363430.64  558740.00  2544.00  1627757.25  1629664.00   \n",
       "age          524.0       26.26       4.31    19.10       23.18       25.40   \n",
       "dpm          524.0       -0.63       1.76    -4.46       -1.89       -0.90   \n",
       "o_dpm        524.0       -0.62       1.54    -3.62       -1.65       -0.97   \n",
       "d_dpm        524.0       -0.01       0.91    -2.27       -0.59       -0.17   \n",
       "box_odpm     524.0       -0.58       1.50    -3.55       -1.65       -0.90   \n",
       "box_ddpm     524.0       -0.06       0.93    -2.80       -0.68       -0.17   \n",
       "on_off_odpm  524.0       -0.69       1.60    -4.11       -1.78       -1.06   \n",
       "on_off_ddpm  524.0       -0.14       1.00    -2.27       -0.84       -0.31   \n",
       "\n",
       "                    75%         max  \n",
       "idPlayerNBA  1630647.50  1641931.00  \n",
       "age               28.90       39.00  \n",
       "dpm                0.28        6.76  \n",
       "o_dpm              0.10        5.24  \n",
       "d_dpm              0.53        3.83  \n",
       "box_odpm           0.24        5.75  \n",
       "box_ddpm           0.50        3.28  \n",
       "on_off_odpm        0.07        5.44  \n",
       "on_off_ddpm        0.46        4.06  "
      ]
     },
     "execution_count": 7,
     "metadata": {},
     "output_type": "execute_result"
    }
   ],
   "source": [
    "df1.describe().T.round(2)"
   ]
  },
  {
   "cell_type": "markdown",
   "metadata": {},
   "source": [
    "## Basketball Ref"
   ]
  },
  {
   "cell_type": "code",
   "execution_count": null,
   "metadata": {},
   "outputs": [],
   "source": [
    "nbastatR = importr('nbastatR')\n",
    "robjects.r('''\n",
    "                Sys.setenv(\"VROOM_CONNECTION_SIZE\" = 131072 * 2)\n",
    "        ''')"
   ]
  },
  {
   "cell_type": "code",
   "execution_count": null,
   "metadata": {},
   "outputs": [],
   "source": [
    "def update_bbref(seasons):\n",
    "    for season in seasons:\n",
    "        season1 = str(int(season)+1)\n",
    "        print(season1)\n",
    "        r_df = nbastatR.bref_players_stats(\n",
    "                seasons = season1,\n",
    "                tables = \"advanced\",\n",
    "                include_all_nba = False,\n",
    "                only_totals = False,\n",
    "                nest_data = False,\n",
    "                assign_to_environment = True,\n",
    "                widen_data = True,\n",
    "                join_data = True,\n",
    "                return_message = True\n",
    "        )\n",
    "        with (robjects.default_converter + pandas2ri.converter).context():\n",
    "            bpm = robjects.conversion.get_conversion().rpy2py(r_df)\n",
    "        vars = ['urlPlayerThumbnail','urlPlayerHeadshot', 'urlPlayerPhoto', 'urlPlayerStats','urlPlayerActionPhoto']\n",
    "        bpm[vars] = bpm[vars].astype(str)\n",
    "        bpm.to_csv(export_DIR1 + f\"NBA_bbref_Player_Adv_{season}.csv\")\n",
    "        bpm.to_parquet(export_DIR1 + f\"NBA_bbref_Player_Adv_{season}.parquet\")\n",
    "        time.sleep(5)"
   ]
  },
  {
   "cell_type": "code",
   "execution_count": null,
   "metadata": {},
   "outputs": [],
   "source": [
    "season_start = 2000\n",
    "season_end = 2024\n",
    "seasons = np.arange(season_start, season_end, 1).astype(str)\n",
    "update_bbref(seasons)"
   ]
  },
  {
   "cell_type": "markdown",
   "metadata": {},
   "source": [
    "# Deprecated Code \n",
    "## using R for scraping Data\n",
    "### Credits to Krishna Narsu for the DARKO R code"
   ]
  },
  {
   "cell_type": "code",
   "execution_count": null,
   "metadata": {},
   "outputs": [],
   "source": [
    "sdasdasdas"
   ]
  },
  {
   "cell_type": "code",
   "execution_count": null,
   "metadata": {},
   "outputs": [],
   "source": [
    "%reload_ext rpy2.ipython"
   ]
  },
  {
   "cell_type": "code",
   "execution_count": null,
   "metadata": {},
   "outputs": [],
   "source": [
    "df_R = []"
   ]
  },
  {
   "cell_type": "code",
   "execution_count": null,
   "metadata": {},
   "outputs": [],
   "source": [
    "bpm,dpm,dpmhistory = [],[],[]"
   ]
  },
  {
   "cell_type": "code",
   "execution_count": null,
   "metadata": {},
   "outputs": [],
   "source": [
    "%%R -o bpm,dpm,dpmhistory\n",
    "library(tidyverse)\n",
    "library(nbastatR)\n",
    "library(googlesheets4)\n",
    "library(googledrive)\n",
    "library(tidyverse)\n",
    "\n",
    "Sys.setenv(\"VROOM_CONNECTION_SIZE\" = 131072 * 2)\n",
    "season <- 2024\n",
    "\n",
    "bpm <- bref_players_stats(\n",
    "  seasons = season,\n",
    "  tables = \"advanced\",\n",
    "  include_all_nba = FALSE,\n",
    "  only_totals = FALSE,\n",
    "  nest_data = FALSE,\n",
    "  assign_to_environment = TRUE,\n",
    "  widen_data = TRUE,\n",
    "  join_data = TRUE,\n",
    "  return_message = TRUE\n",
    ")\n",
    "\n",
    "#Drive authentication\n",
    "drive_auth(email = \"sra.djoker@gmail.com\")\n",
    "#DPM\n",
    "dpm <- googlesheets4::read_sheet(ss = \"1mhwOLqPu2F9026EQiVxFPIN1t9RGafGpl-dokaIsm9c\",\n",
    "                                 sheet = \"Current DPM Ranks\") %>% data.frame()\n",
    "\n",
    "dpmhistory <- googlesheets4::read_sheet(ss = \"1mhwOLqPu2F9026EQiVxFPIN1t9RGafGpl-dokaIsm9c\",\n",
    "                                        sheet = \"Full DPM History\") %>% data.frame()"
   ]
  },
  {
   "cell_type": "code",
   "execution_count": null,
   "metadata": {},
   "outputs": [],
   "source": [
    "bpm.to_csv(export_DIR1 + \"NBA_bbref_Player_Adv_2023.csv\")\n",
    "bpm.to_parquet(export_DIR1 + \"NBA_bbref_Player_Adv_2023.parquet\")\n",
    "dfb = bpm[[\"idPlayerNBA\",'ratioOBPM', 'ratioDBPM', 'ratioBPM']].reset_index(drop=True)\n",
    "dfb[\"idPlayerNBA\"] = dfb[\"idPlayerNBA\"].astype(int)\n",
    "dfb = dfb.query(\"idPlayerNBA > 0\")"
   ]
  },
  {
   "cell_type": "code",
   "execution_count": null,
   "metadata": {},
   "outputs": [],
   "source": [
    "dfd= dpm.rename(columns={\"NBA.ID\":\"idPlayerNBA\",\"Player.Name\":\"namePlayer\"})\n",
    "dfd.columns = ['idPlayerNBA', 'namePlayer', 'Position', 'age', 'dpm','o_dpm', 'd_dpm', 'box_odpm', 'box_ddpm', 'on_off_odpm', 'on_off_ddpm']\n",
    "dfd[\"idPlayerNBA\"] = dfd[\"idPlayerNBA\"].astype(int)\n",
    "dfd.columns = dfd.columns.str.replace(\"Offensive\",\"O\")\n",
    "dfd.columns = dfd.columns.str.replace(\"Defensive\",\"D\")\n",
    "dfd.columns = dfd.columns.str.replace(\".\",\"-\")\n",
    "dfd.to_csv(export_DIR2 + \"NBA_DARKO_Current.csv\")\n",
    "dfd.to_parquet(export_DIR2 + \"NBA_DARKO_Current.parquet\")\n",
    "dfd = dfd.drop(columns=[\"Position\"])"
   ]
  },
  {
   "cell_type": "code",
   "execution_count": null,
   "metadata": {},
   "outputs": [],
   "source": [
    "df1 = pd.merge(dfd,dfb, on = \"idPlayerNBA\", how=\"right\")"
   ]
  },
  {
   "cell_type": "code",
   "execution_count": null,
   "metadata": {},
   "outputs": [],
   "source": [
    "print(len(dfd))\n",
    "print(len(dfb))\n",
    "print(len(df1))"
   ]
  },
  {
   "cell_type": "code",
   "execution_count": null,
   "metadata": {},
   "outputs": [],
   "source": [
    "dfdh= dpmhistory.rename(columns={\"nba_id\":\"idPlayerNBA\",\"player_name\":\"namePlayer\"})\n",
    "dfdh[\"idPlayerNBA\"] = dfdh[\"idPlayerNBA\"].astype(int)\n",
    "dfdh.to_csv(export_DIR2 + \"NBA_DARKO_History.csv\")\n",
    "dfdh.to_parquet(export_DIR2 + \"NBA_DARKO_History.parquet\")\n",
    "dfdh =dfdh.drop(columns=[\"tm_id\",\"team_name\"])\n",
    "dfdh = dfdh.query(\"season == 2024\")\n",
    "dfdh = dfdh.drop(columns=[\"season\"])"
   ]
  },
  {
   "cell_type": "code",
   "execution_count": null,
   "metadata": {},
   "outputs": [],
   "source": [
    "nan_rows = df1.isna().any(axis=1)"
   ]
  },
  {
   "cell_type": "code",
   "execution_count": null,
   "metadata": {},
   "outputs": [],
   "source": [
    "missing_players = df1[\"idPlayerNBA\"][nan_rows].to_list()"
   ]
  },
  {
   "cell_type": "code",
   "execution_count": null,
   "metadata": {},
   "outputs": [],
   "source": [
    "df2 = dfdh[dfdh[\"idPlayerNBA\"].isin(missing_players)].reset_index(drop=True)"
   ]
  },
  {
   "cell_type": "code",
   "execution_count": null,
   "metadata": {},
   "outputs": [],
   "source": [
    "df1nan = df1[nan_rows].sort_values(\"idPlayerNBA\").reset_index(drop=True)\n",
    "df1nan = df1nan.drop(columns = [ 'namePlayer', 'age', 'dpm','o_dpm', 'd_dpm', 'box_odpm', 'box_ddpm', 'on_off_odpm', 'on_off_ddpm'])"
   ]
  },
  {
   "cell_type": "code",
   "execution_count": null,
   "metadata": {},
   "outputs": [],
   "source": [
    "df1n = df1.dropna()"
   ]
  },
  {
   "cell_type": "code",
   "execution_count": null,
   "metadata": {},
   "outputs": [],
   "source": [
    "df3 = pd.merge(df2,df1nan,on=\"idPlayerNBA\")"
   ]
  },
  {
   "cell_type": "code",
   "execution_count": null,
   "metadata": {},
   "outputs": [],
   "source": [
    "df4 = pd.concat([df1n,df3])"
   ]
  },
  {
   "cell_type": "code",
   "execution_count": null,
   "metadata": {},
   "outputs": [],
   "source": [
    "df4.to_csv(export_DIR2 + \"NBA_DARKO_Processed.csv\")"
   ]
  }
 ],
 "metadata": {
  "kernelspec": {
   "display_name": "nba-ub9Z_EQq-py3.11",
   "language": "python",
   "name": "python3"
  },
  "language_info": {
   "codemirror_mode": {
    "name": "ipython",
    "version": 3
   },
   "file_extension": ".py",
   "mimetype": "text/x-python",
   "name": "python",
   "nbconvert_exporter": "python",
   "pygments_lexer": "ipython3",
   "version": "3.11.6"
  }
 },
 "nbformat": 4,
 "nbformat_minor": 2
}
