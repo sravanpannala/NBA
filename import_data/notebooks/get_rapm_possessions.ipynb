{
 "cells": [
  {
   "cell_type": "markdown",
   "metadata": {},
   "source": [
    "# Import all possessions of a season using PBP API"
   ]
  },
  {
   "cell_type": "code",
   "execution_count": 44,
   "metadata": {},
   "outputs": [],
   "source": [
    "import dill\n",
    "import numpy as np\n",
    "import pandas as pd\n",
    "import zstandard as zstd\n",
    "from tqdm import tqdm\n",
    "\n",
    "export_DIR = \"../../data/rapm/\"\n",
    "pbp_DIR = \"../../data/pbpdata/\"\n",
    "box_DIR = \"../../data/box/\""
   ]
  },
  {
   "cell_type": "code",
   "execution_count": 4,
   "metadata": {},
   "outputs": [],
   "source": [
    "class Poss:\n",
    "    def __init__(self,gi=0,ot=0,dt=0,o1=0,o2=0,o3=0,o4=0,o5=0,d1=0,d2=0,d3=0,d4=0,d5=0,pts=0,home=0,away=0,length=0,secs=0,tidh=0,tida=0,des=0,evtyp=0):\n",
    "        self.gid  = gi\n",
    "        self.offt = ot\n",
    "        self.deft = dt\n",
    "        self.off1 = o1\n",
    "        self.off2 = o2\n",
    "        self.off3 = o3\n",
    "        self.off4 = o4\n",
    "        self.off5 = o5\n",
    "        self.def1 = d1\n",
    "        self.def2 = d2\n",
    "        self.def3 = d3\n",
    "        self.def4 = d4\n",
    "        self.def5 = d5\n",
    "        self.pts = pts\n",
    "\n",
    "        self.home = home\n",
    "        self.away = away\n",
    "        self.margin = home - away\n",
    "        self.length = length\n",
    "        self.secs = secs\n",
    "        self.tidh = tidh\n",
    "        self.tida = tida\n",
    "        self.description = des\n",
    "        self.event_type = evtyp\n",
    "\n",
    "\n",
    "ovars = [\"off1\",\"off2\",\"off3\",\"off4\",\"off5\"]\n",
    "dvars = [\"def1\",\"def2\",\"def3\",\"def4\",\"def5\"]"
   ]
  },
  {
   "cell_type": "code",
   "execution_count": null,
   "metadata": {},
   "outputs": [],
   "source": [
    "def get_rapm_possessions(games_list):\n",
    "    poss_list, points, poss_store = [], [], []\n",
    "    for game in tqdm(games_list):\n",
    "        hmscr, rdscr = [], []\n",
    "        tems = list(game.possessions.items[0].events[0].current_players.keys())\n",
    "        tidh = game.boxscore.team_home \n",
    "        for possession in game.possessions.items:\n",
    "            for possession_event in possession.events:\n",
    "                if possession_event.count_as_possession: # and possession_event.event_type in (1, 3, 4, 5):\n",
    "                    if possession_event.description == \"Game End\":\n",
    "                        continue\n",
    "                    off_id = possession_event.get_offense_team_id()\n",
    "                    if not bool(off_id):\n",
    "                        continue\n",
    "                    p = Poss()\n",
    "                    setattr(p,\"gid\",possession_event.game_id)\n",
    "                    for te in tems:\n",
    "                        if te == off_id:\n",
    "                            for i,var in enumerate(ovars):\n",
    "                                setattr(p,var,possession_event.current_players[te][i])\n",
    "                                setattr(p,\"offt\",te)\n",
    "                        else:\n",
    "                            for i,var in enumerate(dvars):\n",
    "                                setattr(p,var,possession_event.current_players[te][i])             \n",
    "                                setattr(p,\"deft\",te)\n",
    "                    for te in tems:\n",
    "                        if te == tidh:\n",
    "                            p.home = possession_event.score[te]\n",
    "                            hmscr.append(p.home) #possession_event.home_score\n",
    "                        else:\n",
    "                            p.away = possession_event.score[te]\n",
    "                            rdscr.append(p.away) #possession_event.away_score\n",
    "                    p.margin = p.home - p.away\n",
    "                    p.length = possession_event.seconds_since_previous_event\n",
    "                    if possession_event.period <=4:\n",
    "                        secs_rem = possession_event.seconds_remaining + 12*60*(4-possession_event.period)\n",
    "                    else:\n",
    "                        secs_rem = possession_event.seconds_remaining\n",
    "                    p.secs = secs_rem - p.length\n",
    "                    p.tidh = tems[0]\n",
    "                    p.tida = tems[1]\n",
    "                    p.description = possession_event.description\n",
    "                    p.event_type = possession_event.event_type\n",
    "                    poss_list.append(p)\n",
    "        hm_pts = []\n",
    "        rd_pts = []\n",
    "        for i in range(len(hmscr) - 1):\n",
    "            hm_pts.append(hmscr[i + 1] - hmscr[i])\n",
    "            rd_pts.append(rdscr[i + 1] - rdscr[i])\n",
    "        pts = []\n",
    "        pts.append(max(hmscr[0], rdscr[0]))\n",
    "        for i in range(len(hmscr) - 1):\n",
    "            pts.append(max(hm_pts[i], rd_pts[i]))\n",
    "        points.extend(pts)\n",
    "    data = pd.DataFrame([vars(p) for p in poss_list])\n",
    "    data[\"pts\"] = points\n",
    "    return data,poss_store"
   ]
  },
  {
   "cell_type": "code",
   "execution_count": 54,
   "metadata": {},
   "outputs": [
    {
     "name": "stdout",
     "output_type": "stream",
     "text": [
      "2018\n"
     ]
    },
    {
     "name": "stderr",
     "output_type": "stream",
     "text": [
      "100%|██████████| 1230/1230 [00:56<00:00, 21.81it/s]\n"
     ]
    },
    {
     "name": "stdout",
     "output_type": "stream",
     "text": [
      "2019\n"
     ]
    },
    {
     "name": "stderr",
     "output_type": "stream",
     "text": [
      "100%|██████████| 1059/1059 [00:59<00:00, 17.76it/s]\n"
     ]
    },
    {
     "name": "stdout",
     "output_type": "stream",
     "text": [
      "2020\n"
     ]
    },
    {
     "name": "stderr",
     "output_type": "stream",
     "text": [
      "100%|██████████| 1080/1080 [00:41<00:00, 25.88it/s]\n"
     ]
    },
    {
     "name": "stdout",
     "output_type": "stream",
     "text": [
      "2021\n"
     ]
    },
    {
     "name": "stderr",
     "output_type": "stream",
     "text": [
      "100%|██████████| 1228/1228 [01:00<00:00, 20.20it/s]\n"
     ]
    },
    {
     "name": "stdout",
     "output_type": "stream",
     "text": [
      "2022\n"
     ]
    },
    {
     "name": "stderr",
     "output_type": "stream",
     "text": [
      "100%|██████████| 1230/1230 [01:16<00:00, 16.11it/s]\n"
     ]
    },
    {
     "name": "stdout",
     "output_type": "stream",
     "text": [
      "2023\n"
     ]
    },
    {
     "name": "stderr",
     "output_type": "stream",
     "text": [
      "100%|██████████| 1230/1230 [01:25<00:00, 14.34it/s]\n"
     ]
    }
   ],
   "source": [
    "league = \"NBA\"\n",
    "season_start = 2017\n",
    "season_end = 2024\n",
    "seasons = np.arange(season_start, season_end, 1).astype(str)\n",
    "for season in seasons:\n",
    "    print(season)\n",
    "    with zstd.open(pbp_DIR + league + \"_PBPdata_\" + season + \".pkl.zst\",\"rb\") as f:\n",
    "        games_list = dill.load(f)\n",
    "    box = pd.read_parquet(box_DIR + league + \"_Box_T_Base_\" + season + \".parquet\")\n",
    "    box = box[[\"GAME_ID\",\"TEAM_ID\"]].rename(columns={\"GAME_ID\":\"game_id\",\"TEAM_ID\":\"tidh\"})\n",
    "    for game in games_list:\n",
    "        id = game.game_id\n",
    "        game.boxscore.team_home = box.query(f\"game_id == '{id}'\").iloc[0,1]\n",
    "    data,poss_store = get_rapm_possessions(games_list)\n",
    "    # data.iloc[:,:-2].to_csv(export_DIR+league +\"_rapm_possessions_\"+season+\".csv\",index=False)\n",
    "    data.iloc[:,:-2].to_parquet(export_DIR+league +\"_rapm_possessions_\"+season+\".parquet\")"
   ]
  }
 ],
 "metadata": {
  "kernelspec": {
   "display_name": "dav-ub9Z_EQq-py3.12",
   "language": "python",
   "name": "python3"
  },
  "language_info": {
   "codemirror_mode": {
    "name": "ipython",
    "version": 3
   },
   "file_extension": ".py",
   "mimetype": "text/x-python",
   "name": "python",
   "nbconvert_exporter": "python",
   "pygments_lexer": "ipython3",
   "version": "3.12.0"
  }
 },
 "nbformat": 4,
 "nbformat_minor": 2
}
