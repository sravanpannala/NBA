{
 "cells": [
  {
   "cell_type": "markdown",
   "metadata": {},
   "source": [
    "# Code to Update PBP data from pbpstats API\n",
    "Read data directory setup instructions [here](https://pbpstats.readthedocs.io/en/latest/quickstart.html)\n"
   ]
  },
  {
   "cell_type": "code",
   "execution_count": null,
   "metadata": {},
   "outputs": [],
   "source": [
    "from itertools import product, chain\n",
    "\n",
    "from tqdm import tqdm\n",
    "import numpy as np\n",
    "from pbpstats.client import Client\n",
    "\n",
    "data_provider = \"data_nba\"\n",
    "pbp_DIR = \"../../pbpdata/\""
   ]
  },
  {
   "cell_type": "code",
   "execution_count": null,
   "metadata": {},
   "outputs": [],
   "source": [
    "def update_pbp(seasons):\n",
    "    season_types = [\"Regular Season\"] # Post Season\n",
    "    leagues = [\"nba\"] # wnba\n",
    "    for season_yr, league, season_type in product(seasons, leagues, season_types):\n",
    "        if int(season_yr) > 2021:\n",
    "            data_provider = \"data_nba\"\n",
    "        else:\n",
    "            data_provider = \"stats_nba\"\n",
    "        print(f\"{season_yr},{league},{season_type}\")\n",
    "        settings = {\n",
    "            \"Games\": {\"source\": \"web\", \"data_provider\": data_provider},\n",
    "            \"dir\": pbp_DIR + data_provider,\n",
    "        }\n",
    "        client = Client(settings)\n",
    "        season = client.Season(league, season_yr, season_type)\n",
    "        games_id = []\n",
    "        for final_game in season.games.final_games:\n",
    "            games_id.append(final_game[\"game_id\"])\n",
    "        print(\"Number of games: \", len(games_id))\n",
    "        settings = {\n",
    "            \"Boxscore\": {\"source\": \"file\", \"data_provider\": data_provider},\n",
    "            \"Possessions\": {\"source\": \"file\", \"data_provider\": data_provider},\n",
    "            \"dir\": pbp_DIR + data_provider,\n",
    "        }\n",
    "        client = Client(settings)\n",
    "        games_list_online = []\n",
    "        error_list = []\n",
    "        bad_games_list = []\n",
    "        for gameid in tqdm(games_id):\n",
    "            try:\n",
    "                client.Game(gameid)\n",
    "            except Exception as error:\n",
    "                if \"does not exist\" in error.args[0]:\n",
    "                    games_list_online.append(gameid)\n",
    "                elif \"pstsg\" in error.args[0]:\n",
    "                    games_list_online.append(gameid)\n",
    "                    error_list.append(error.args[0])\n",
    "                else:\n",
    "                    bad_games_list.append(gameid)\n",
    "                    error_list.append(error.args[0])\n",
    "                continue\n",
    "        # print(error_list)\n",
    "        print(\"Number of bad games: \", len(bad_games_list))\n",
    "        print(\"Number of missing games: \", len(games_list_online))\n",
    "        settings = {\n",
    "            \"Boxscore\": {\"source\": \"web\", \"data_provider\": data_provider},\n",
    "            \"Possessions\": {\"source\": \"web\", \"data_provider\": data_provider},\n",
    "            \"dir\": pbp_DIR + data_provider,\n",
    "        }\n",
    "        client = Client(settings)\n",
    "        for gameid in tqdm(games_list_online):\n",
    "            try:\n",
    "                client.Game(gameid)\n",
    "            except Exception as error:\n",
    "                continue"
   ]
  },
  {
   "cell_type": "code",
   "execution_count": null,
   "metadata": {},
   "outputs": [],
   "source": [
    "season_start = 2023\n",
    "season_end = 2024\n",
    "seasons = np.arange(season_start, season_end, 1).astype(str)"
   ]
  },
  {
   "cell_type": "code",
   "execution_count": null,
   "metadata": {},
   "outputs": [],
   "source": [
    "update_pbp(seasons)"
   ]
  },
  {
   "cell_type": "code",
   "execution_count": null,
   "metadata": {},
   "outputs": [],
   "source": [
    "def update_pbp(seasons):\n",
    "    season_types = [\"Regular Season\"] # Post Season\n",
    "    leagues = [\"wnba\"] # wnba\n",
    "    for season_yr, league, season_type in product(seasons, leagues, season_types):\n",
    "        data_provider = \"stats_nba\"\n",
    "        print(f\"{season_yr},{league},{season_type}\")\n",
    "        settings = {\n",
    "            \"Games\": {\"source\": \"web\", \"data_provider\": data_provider},\n",
    "            \"dir\": pbp_DIR + data_provider,\n",
    "        }\n",
    "        client = Client(settings)\n",
    "        season = client.Season(league, season_yr, season_type)\n",
    "        games_id = []\n",
    "        for final_game in season.games.final_games:\n",
    "            games_id.append(final_game[\"game_id\"])\n",
    "        print(\"Number of games: \", len(games_id))\n",
    "        settings = {\n",
    "            \"Boxscore\": {\"source\": \"file\", \"data_provider\": data_provider},\n",
    "            \"Possessions\": {\"source\": \"file\", \"data_provider\": data_provider},\n",
    "            \"dir\": pbp_DIR + data_provider,\n",
    "        }\n",
    "        client = Client(settings)\n",
    "        games_list_online = []\n",
    "        error_list = []\n",
    "        bad_games_list = []\n",
    "        for gameid in tqdm(games_id):\n",
    "            try:\n",
    "                client.Game(gameid)\n",
    "            except Exception as error:\n",
    "                if len(error.args)<1:\n",
    "                    print(error.args)\n",
    "                    games_list_online.append(gameid)\n",
    "                elif \"does not exist\" in error.args:\n",
    "                    games_list_online.append(gameid)\n",
    "                elif \"pstsg\" in error.args:\n",
    "                    games_list_online.append(gameid)\n",
    "                    error_list.append(error.args)\n",
    "                else:\n",
    "                    bad_games_list.append(gameid)\n",
    "                    error_list.append(error.args)\n",
    "                continue\n",
    "        # print(error_list)\n",
    "        print(\"Number of bad games: \", len(bad_games_list))\n",
    "        print(\"Number of missing games: \", len(games_list_online))\n",
    "        settings = {\n",
    "            \"Boxscore\": {\"source\": \"web\", \"data_provider\": data_provider},\n",
    "            \"Possessions\": {\"source\": \"web\", \"data_provider\": data_provider},\n",
    "            \"dir\": pbp_DIR + data_provider,\n",
    "        }\n",
    "        client = Client(settings)\n",
    "        for gameid in tqdm(games_list_online):\n",
    "            try:\n",
    "                client.Game(gameid)\n",
    "            except Exception as error:\n",
    "                continue"
   ]
  },
  {
   "cell_type": "code",
   "execution_count": null,
   "metadata": {},
   "outputs": [],
   "source": [
    "season_start = 1997\n",
    "season_end = 2023\n",
    "seasons = np.arange(season_start, season_end, 1).astype(str)"
   ]
  },
  {
   "cell_type": "code",
   "execution_count": null,
   "metadata": {},
   "outputs": [],
   "source": [
    "update_pbp(seasons)"
   ]
  }
 ],
 "metadata": {
  "kernelspec": {
   "display_name": "nba-ub9Z_EQq-py3.11",
   "language": "python",
   "name": "python3"
  },
  "language_info": {
   "codemirror_mode": {
    "name": "ipython",
    "version": 3
   },
   "file_extension": ".py",
   "mimetype": "text/x-python",
   "name": "python",
   "nbconvert_exporter": "python",
   "pygments_lexer": "ipython3",
   "version": "3.11.6"
  }
 },
 "nbformat": 4,
 "nbformat_minor": 2
}
