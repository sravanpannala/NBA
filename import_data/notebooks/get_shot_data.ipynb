{
 "cells": [
  {
   "cell_type": "code",
   "execution_count": null,
   "metadata": {},
   "outputs": [],
   "source": [
    "import time\n",
    "\n",
    "import matplotlib.pyplot as plt\n",
    "import numpy as np\n",
    "import pandas as pd\n",
    "from nba_api.stats.endpoints.shotchartdetail import ShotChartDetail\n",
    "from tqdm import tqdm\n",
    "\n",
    "data_DIR = \"../../data/\"\n",
    "export_DIR = \"../../data/ShotLocationData/\""
   ]
  },
  {
   "cell_type": "code",
   "execution_count": null,
   "metadata": {},
   "outputs": [],
   "source": [
    "\n",
    "league, league_id = \"NBA\", \"00\""
   ]
  },
  {
   "cell_type": "code",
   "execution_count": null,
   "metadata": {},
   "outputs": [],
   "source": [
    "for year in tqdm(range(1996,2010)):\n",
    "    season = str(year) + \"-\" + str(year + 1)[-2:]\n",
    "    player_shotchart = ShotChartDetail(\n",
    "        league_id=league_id,\n",
    "        team_id=0,\n",
    "        player_id=0,\n",
    "        context_measure_simple=\"FGA\",\n",
    "        season_nullable=season,\n",
    "        season_type_all_star=\"Playoffs\"\n",
    "    )\n",
    "    shots = player_shotchart.get_data_frames()[0]\n",
    "    shots[\"LOC_X\"] = -shots[\"LOC_X\"]\n",
    "    # shots.to_csv(export_DIR+ league + f\"_Shot_Details_{year}.csv\", index=False)\n",
    "    shots.to_parquet(export_DIR+ league + f\"_Shot_Details_{year}_PS.parquet\")\n",
    "    time.sleep(0.6)"
   ]
  }
 ],
 "metadata": {
  "kernelspec": {
   "display_name": "nba-ub9Z_EQq-py3.11",
   "language": "python",
   "name": "python3"
  },
  "language_info": {
   "codemirror_mode": {
    "name": "ipython",
    "version": 3
   },
   "file_extension": ".py",
   "mimetype": "text/x-python",
   "name": "python",
   "nbconvert_exporter": "python",
   "pygments_lexer": "ipython3",
   "version": "3.11.6"
  }
 },
 "nbformat": 4,
 "nbformat_minor": 2
}
