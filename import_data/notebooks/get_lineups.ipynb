{
 "cells": [
  {
   "cell_type": "code",
   "execution_count": null,
   "metadata": {},
   "outputs": [],
   "source": [
    "import time\n",
    "import requests\n",
    "import pandas as pd\n",
    "from tqdm import tqdm\n",
    "import random\n",
    "from nba_api.stats.endpoints import leaguedashlineups"
   ]
  },
  {
   "cell_type": "code",
   "execution_count": null,
   "metadata": {},
   "outputs": [],
   "source": [
    "data_DIR = \"../../data/\"\n",
    "box_DIR = \"../../data/box/\"\n",
    "shiny_DIR = data_DIR + \"shiny/\"\n",
    "shiny_export_DIR1 = \"C:/Users/pansr/Documents/shinyNBA/data/\""
   ]
  },
  {
   "cell_type": "markdown",
   "metadata": {},
   "source": [
    "## V1"
   ]
  },
  {
   "cell_type": "code",
   "execution_count": null,
   "metadata": {},
   "outputs": [],
   "source": [
    "teams_response = requests.get(\"https://api.pbpstats.com/get-teams/nba\")\n",
    "teams = teams_response.json()\n",
    "teams_dict = teams[\"teams\"]\n",
    "df_teams = pd.DataFrame(teams_dict)\n",
    "df_teams = df_teams.rename(columns={\"text\":\"team\"})\n",
    "teams_list = df_teams[\"id\"].to_list()\n",
    "dfa = []\n",
    "for year in range(2024,2025):\n",
    "    season = str(year) + '-' + str(year+1)[-2:]\n",
    "    for team in tqdm(teams_list):\n",
    "        print(team)\n",
    "        url = \"https://api.pbpstats.com/get-team-players-for-season?S\"\n",
    "        params = {\n",
    "            \"Season\": season, # To get for multiple seasons, separate seasons by comma\n",
    "            \"SeasonType\": \"Regular Season\",\n",
    "            \"TeamId\": team,\n",
    "        }\n",
    "        response = requests.get(url, params=params)\n",
    "        response_json = response.json()\n",
    "        players = response_json[\"players\"]\n",
    "        df_players1 = pd.DataFrame.from_dict(players,orient=\"index\",columns=[\"player\"]).reset_index()\n",
    "        df_players1 = df_players1.rename(columns={\"index\":\"id\"})\n",
    "        df_players1[\"team\"] = team\n",
    "        df_players1[\"season\"] = season\n",
    "        time.sleep(3)\n",
    "        dfa.append(df_players1)\n",
    "df_players = pd.concat(dfa)\n",
    "df_players = pd.merge(df_players,df_teams,left_on=\"team\", right_on=\"id\")\n",
    "df_players = df_players.rename(columns={\"id_x\":\"pid\",\"id_y\":\"tid\",\"team_y\":\"team\"})\n",
    "df_players = df_players.drop(columns=[\"team_x\"]) \n",
    "# df_players.to_parquet(shiny_DIR + \"lineup_data.parquet\")\n",
    "# df_players.to_parquet(shiny_export_DIR1 + \"lineup_data.parquet\")"
   ]
  },
  {
   "cell_type": "markdown",
   "metadata": {},
   "source": [
    "## V2"
   ]
  },
  {
   "cell_type": "code",
   "execution_count": null,
   "metadata": {},
   "outputs": [],
   "source": [
    "df_teams = pd.read_csv(data_DIR+\"NBA_teams_database.csv\")\n",
    "df_teams.columns = [\"tid\",\"team\"]\n",
    "teams_list = df_teams[\"tid\"].to_list()\n",
    "df_players = pd.read_parquet(box_DIR + \"NBA_Box_P_Base_2024.parquet\")\n",
    "df_players = df_players[['PLAYER_ID', 'PLAYER_NAME', 'TEAM_ID',]]\n",
    "df_players.columns = ['pid', 'player', 'tid']\n",
    "df_players = pd.merge(df_players,df_teams,on=\"tid\")\n",
    "df_players.to_parquet(shiny_DIR + \"lineup_data.parquet\")\n",
    "df_players.to_parquet(shiny_export_DIR1 + \"lineup_data.parquet\")"
   ]
  },
  {
   "cell_type": "code",
   "execution_count": null,
   "metadata": {},
   "outputs": [],
   "source": [
    "stats = leaguedashlineups.LeagueDashLineups(\n",
    "    group_quantity=5,\n",
    "    measure_type_detailed_defense=\"Base\",\n",
    "    per_mode_detailed=\"Totals\",\n",
    "    pace_adjust=\"Y\",\n",
    "    plus_minus=\"Y\",\n",
    "    rank=\"Y\",\n",
    "    season_type_all_star=\"Regular Season\"\n",
    ")\n",
    "df = stats.get_data_frames()[0]\n",
    "df.iloc[:,9:]  = df.iloc[:,9:].round(3)"
   ]
  },
  {
   "cell_type": "code",
   "execution_count": null,
   "metadata": {},
   "outputs": [],
   "source": [
    "df1 = df.copy()\n",
    "df1.columns = map(str.lower,df1.columns)\n",
    "df1 = df1[['team_id','group_name','gp','min',]]\n",
    "df1 = df1.rename(columns={\"team_id\":\"tid\"})\n",
    "df2 = pd.merge(df_teams,df1)\n",
    "df2 = df2.drop(columns=[\"tid\"])\n",
    "df2.to_parquet(shiny_DIR + \"lineup_list_data.parquet\")\n",
    "df2.to_parquet(shiny_export_DIR1 + \"lineup_list_data.parquet\")"
   ]
  },
  {
   "cell_type": "code",
   "execution_count": null,
   "metadata": {},
   "outputs": [],
   "source": [
    "df2"
   ]
  }
 ],
 "metadata": {
  "kernelspec": {
   "display_name": "dav-ub9Z_EQq-py3.12",
   "language": "python",
   "name": "python3"
  },
  "language_info": {
   "codemirror_mode": {
    "name": "ipython",
    "version": 3
   },
   "file_extension": ".py",
   "mimetype": "text/x-python",
   "name": "python",
   "nbconvert_exporter": "python",
   "pygments_lexer": "ipython3",
   "version": "3.12.0"
  }
 },
 "nbformat": 4,
 "nbformat_minor": 2
}
