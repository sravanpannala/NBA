{
 "cells": [
  {
   "cell_type": "code",
   "execution_count": 1,
   "metadata": {},
   "outputs": [],
   "source": [
    "import time\n",
    "import requests\n",
    "import pandas as pd\n",
    "from tqdm import tqdm"
   ]
  },
  {
   "cell_type": "code",
   "execution_count": 4,
   "metadata": {},
   "outputs": [],
   "source": [
    "data_DIR = \"../../data/\"\n",
    "shiny_DIR = data_DIR + \"shiny/\"\n",
    "shiny_export_DIR1 = \"C:/Users/pansr/Documents/shinyNBA/data/\""
   ]
  },
  {
   "cell_type": "code",
   "execution_count": 11,
   "metadata": {},
   "outputs": [
    {
     "name": "stderr",
     "output_type": "stream",
     "text": [
      "100%|██████████| 30/30 [01:41<00:00,  3.37s/it]\n"
     ]
    }
   ],
   "source": [
    "\n",
    "teams_response = requests.get(\"https://api.pbpstats.com/get-teams/nba\")\n",
    "teams = teams_response.json()\n",
    "teams_dict = teams[\"teams\"]\n",
    "df_teams = pd.DataFrame(teams_dict)\n",
    "df_teams = df_teams.rename(columns={\"text\":\"team\"})\n",
    "teams_list = df_teams[\"id\"].to_list()\n",
    "dfa = []\n",
    "for year in range(2024,2025):\n",
    "    season = str(year) + '-' + str(year+1)[-2:]\n",
    "    for team in tqdm(teams_list):\n",
    "        url = \"https://api.pbpstats.com/get-team-players-for-season?S\"\n",
    "        params = {\n",
    "            \"Season\": season, # To get for multiple seasons, separate seasons by comma\n",
    "            \"SeasonType\": \"Regular Season\",\n",
    "            \"TeamId\": team,\n",
    "        }\n",
    "        response = requests.get(url, params=params)\n",
    "        response_json = response.json()\n",
    "        players = response_json[\"players\"]\n",
    "        df_players1 = pd.DataFrame.from_dict(players,orient=\"index\",columns=[\"player\"]).reset_index()\n",
    "        df_players1 = df_players1.rename(columns={\"index\":\"id\"})\n",
    "        df_players1[\"team\"] = team\n",
    "        df_players1[\"season\"] = season\n",
    "        time.sleep(3)\n",
    "        dfa.append(df_players1)\n",
    "df_players = pd.concat(dfa)\n",
    "df_players = pd.merge(df_players,df_teams,left_on=\"team\", right_on=\"id\")\n",
    "df_players = df_players.rename(columns={\"id_x\":\"pid\",\"id_y\":\"tid\",\"team_y\":\"team\"})\n",
    "df_players = df_players.drop(columns=[\"team_x\"]) \n",
    "# df_players.to_parquet(shiny_DIR + \"lineup_data.parquet\")\n",
    "# df_players.to_parquet(shiny_export_DIR1 + \"lineup_data.parquet\")"
   ]
  }
 ],
 "metadata": {
  "kernelspec": {
   "display_name": "dav-ub9Z_EQq-py3.12",
   "language": "python",
   "name": "python3"
  },
  "language_info": {
   "codemirror_mode": {
    "name": "ipython",
    "version": 3
   },
   "file_extension": ".py",
   "mimetype": "text/x-python",
   "name": "python",
   "nbconvert_exporter": "python",
   "pygments_lexer": "ipython3",
   "version": "3.12.0"
  }
 },
 "nbformat": 4,
 "nbformat_minor": 2
}
