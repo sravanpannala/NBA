{
 "cells": [
  {
   "cell_type": "code",
   "execution_count": 5,
   "metadata": {},
   "outputs": [],
   "source": [
    "import pandas as pd\n",
    "from tqdm import tqdm\n",
    "\n",
    "data_DIR = \"../../data/\"\n",
    "\n",
    "box_DIR = data_DIR + \"box/\"\n",
    "shiny_DIR = data_DIR + \"shiny/\"\n",
    "track_DIR = data_DIR + \"tracking/\""
   ]
  },
  {
   "cell_type": "code",
   "execution_count": 6,
   "metadata": {},
   "outputs": [],
   "source": [
    "cols1 = ['PLAYER_ID', 'PLAYER_NAME', 'TEAM_ID', 'TEAM_ABBREVIATION', 'GAME_ID', 'GAME_DATE','MIN', 'FGM',\n",
    "       'FGA', 'FG_PCT', 'FG3M', 'FG3A', 'FG3_PCT', 'FTM', 'FTA', 'FT_PCT',\n",
    "       'OREB', 'DREB', 'REB', 'AST', 'STL', 'BLK', 'TOV', 'PF', 'PTS', 'PLUS_MINUS']\n",
    "cols2 = ['gameId', 'teamId', 'personId',\"position\",'estimatedOffensiveRating', 'offensiveRating',\n",
    "       'estimatedDefensiveRating', 'defensiveRating', 'estimatedNetRating',\n",
    "       'netRating', 'assistPercentage', 'assistToTurnover', 'assistRatio',\n",
    "       'offensiveReboundPercentage', 'defensiveReboundPercentage',\n",
    "       'reboundPercentage', 'turnoverRatio', 'effectiveFieldGoalPercentage',\n",
    "       'trueShootingPercentage', 'usagePercentage', 'estimatedUsagePercentage',\n",
    "       'estimatedPace', 'pace', 'pacePer40', 'possessions', 'PIE']\n",
    "cols3 = ['game_id', 'player_id', 'team_id',\n",
    "       'off_poss', 'def_poss', 'drives', 'drive_fgm', 'drive_fga', 'drive_ftm',\n",
    "       'drive_fta', 'drive_points', 'drive_passes', 'drive_assists',\n",
    "       'drive_turnovers', 'drive_fouls', 'passes_made', 'passes_received',\n",
    "       'ft_assists', 'secondary_assists', 'potential_assists',\n",
    "       'adj_assists', 'assist_pts', 'def_rim_fgm',\n",
    "       'def_rim_fga', 'touches', 'front_court_touches', 'time_of_poss',\n",
    "       'seconds_per_touch', 'dribbles_per_touch', 'elbow_touches',\n",
    "       'elbow_touch_fgm', 'elbow_touch_fga', 'elbow_touch_ftm',\n",
    "       'elbow_touch_fta', 'elbow_touch_points', 'elbow_touch_passes',\n",
    "       'elbow_touch_assists', 'elbow_touch_turnovers', 'elbow_touch_fouls',\n",
    "       'paint_touches', 'paint_touch_fgm', 'paint_touch_fga',\n",
    "       'paint_touch_ftm', 'paint_touch_fta', 'paint_touch_points',\n",
    "       'paint_touch_passes', 'paint_touch_assists', 'paint_touch_turnovers',\n",
    "       'paint_touch_fouls', 'post_touches', 'post_touch_fgm', 'post_touch_fga',\n",
    "       'post_touch_ftm', 'post_touch_fta', 'post_touch_points',\n",
    "       'post_touch_passes', 'post_touch_assists', 'post_touch_turnovers',\n",
    "       'post_touch_fouls', 'oreb_contest', 'oreb_uncontest',\n",
    "       'oreb_chances', 'oreb_chance_defer', 'dreb_contest',\n",
    "       'dreb_uncontest', 'dreb_chances', 'dreb_chance_defer', 'feet', 'miles',\n",
    "       'miles_off', 'miles_def', 'avg_speed', 'avg_speed_off',\n",
    "       'avg_speed_def']"
   ]
  },
  {
   "cell_type": "code",
   "execution_count": 7,
   "metadata": {},
   "outputs": [
    {
     "name": "stderr",
     "output_type": "stream",
     "text": [
      "  0%|          | 0/20 [00:00<?, ?it/s]"
     ]
    },
    {
     "name": "stderr",
     "output_type": "stream",
     "text": [
      "100%|██████████| 20/20 [00:33<00:00,  1.68s/it]\n"
     ]
    }
   ],
   "source": [
    "dfa = []\n",
    "# for season in seasons:\n",
    "#     year = int(season)\n",
    "for year in tqdm(range(2004,2024)):\n",
    "    season = str(year)\n",
    "    df1 = pd.read_parquet(box_DIR + \"NBA_Box_P_\" + \"Base_\"  + season + \".parquet\", columns = cols1)\n",
    "    df1[\"GAME_ID\"] = df1[\"GAME_ID\"].astype(int)\n",
    "    df2 = pd.read_parquet(box_DIR + \"NBA_Box_P_\" + \"Adv_\"  + season + \".parquet\", columns = cols2)\n",
    "    dfm1 = pd.merge(df1,df2,left_on=['PLAYER_ID','TEAM_ID','GAME_ID'], right_on=['personId', 'teamId','gameId'], how=\"left\")\n",
    "    df3 = pd.read_parquet(track_DIR + \"NBA_PBP_\" + \"Tracking_\"  + season + \".parquet\", columns = cols3)\n",
    "    dfm = pd.merge(dfm1,df3,left_on=['PLAYER_ID','TEAM_ID','GAME_ID'], right_on=['player_id', 'team_id','game_id'], how=\"left\")\n",
    "    dfm = dfm.fillna(0)\n",
    "    dfm = dfm.drop(columns=['player_id', 'team_id','game_id'])\n",
    "    dfm[\"Season\"] = year +1\n",
    "    dfg = dfm.groupby(\"PLAYER_ID\")\n",
    "    keys = list(dfg.groups)\n",
    "    dfb = []\n",
    "    for key in keys:\n",
    "        dfgg = dfg.get_group(key)\n",
    "        dfgg = dfgg.reset_index(drop=True).reset_index()\n",
    "        dfgg = dfgg.rename(columns={\"index\":\"Games Played\"})\n",
    "        dfgg[\"Games Played\"] +=1\n",
    "        dfa.append(dfgg)"
   ]
  },
  {
   "cell_type": "code",
   "execution_count": 38,
   "metadata": {},
   "outputs": [],
   "source": [
    "df = pd.concat(dfa)\n",
    "df = df.reset_index(drop=True)\n",
    "df[df.columns[53:76]]  = df[df.columns[53:76]].astype(int)\n",
    "df[df.columns[79:118]] = df[df.columns[79:118]].astype(int)"
   ]
  }
 ],
 "metadata": {
  "kernelspec": {
   "display_name": "nba-ub9Z_EQq-py3.11",
   "language": "python",
   "name": "python3"
  },
  "language_info": {
   "codemirror_mode": {
    "name": "ipython",
    "version": 3
   },
   "file_extension": ".py",
   "mimetype": "text/x-python",
   "name": "python",
   "nbconvert_exporter": "python",
   "pygments_lexer": "ipython3",
   "version": "3.11.6"
  }
 },
 "nbformat": 4,
 "nbformat_minor": 2
}
