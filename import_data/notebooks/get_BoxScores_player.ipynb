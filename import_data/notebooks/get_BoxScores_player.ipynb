{
 "cells": [
  {
   "cell_type": "markdown",
   "metadata": {},
   "source": [
    "# Save Player Cumulative Season BoxScores "
   ]
  },
  {
   "cell_type": "code",
   "execution_count": null,
   "metadata": {},
   "outputs": [],
   "source": [
    "import numpy as np\n",
    "import pandas as pd\n",
    "\n",
    "from tqdm import tqdm\n",
    "import time\n",
    "from nba_api.stats.endpoints import leaguedashplayerstats, leaguegamelog\n",
    "\n",
    "box_DIR = \"../../data/box/\"\n",
    "shiny_DIR = \"../../data/shiny/\""
   ]
  },
  {
   "cell_type": "code",
   "execution_count": null,
   "metadata": {},
   "outputs": [],
   "source": [
    "season_start = 1996\n",
    "season_end = 2024\n",
    "seasons = np.arange(season_start,season_end,1).astype(str)\n",
    "\n",
    "league = \"NBA\""
   ]
  },
  {
   "cell_type": "markdown",
   "metadata": {},
   "source": [
    "# Cumulative Boxscores"
   ]
  },
  {
   "cell_type": "code",
   "execution_count": null,
   "metadata": {},
   "outputs": [],
   "source": [
    "def get_box_p_cum(seasons, measure=\"Base\", n=32):\n",
    "    if measure == \"Advanced\":\n",
    "        per_mode = \"Per100Possessions\"\n",
    "    else:\n",
    "        per_mode = \"PerGame\"\n",
    "    for season in tqdm(seasons):\n",
    "        # try:\n",
    "            season_str = season + \"-\" + str(int(season) + 1)[-2:]\n",
    "            stats = leaguedashplayerstats.LeagueDashPlayerStats(\n",
    "                measure_type_detailed_defense=measure,\n",
    "                per_mode_detailed=per_mode,\n",
    "                season=season_str,\n",
    "            )\n",
    "            df1 = stats.get_data_frames()[0]\n",
    "            df = df1.iloc[:, :n]\n",
    "            if measure == \"Advanced\":\n",
    "                measure1 = \"Adv\"\n",
    "            else:\n",
    "                 measure1 = measure\n",
    "            df.to_parquet(box_DIR + \"NBA_Box_P_Cum_\" + measure1 + \"_\" + season + \".parquet\")\n",
    "            time.sleep(0.6)\n",
    "        # except Exception as error:\n",
    "        #     continue"
   ]
  },
  {
   "cell_type": "code",
   "execution_count": null,
   "metadata": {},
   "outputs": [],
   "source": [
    "def update_box_p_cum(seasons):\n",
    "    print(\"Base\")\n",
    "    get_box_p_cum(seasons, measure=\"Base\", n=32)\n",
    "    # print(\"Advanced\")\n",
    "    # get_box_p_cum(seasons, measure=\"Advanced\", n=43)\n",
    "    # print(\"Misc\")\n",
    "    # get_box_p_cum(seasons, measure=\"Misc\", n=23)\n",
    "    # print(\"Scoring\")\n",
    "    # get_box_p_cum(seasons, measure=\"Scoring\", n=29)"
   ]
  },
  {
   "cell_type": "code",
   "execution_count": null,
   "metadata": {},
   "outputs": [],
   "source": [
    "update_box_p_cum(seasons)"
   ]
  },
  {
   "cell_type": "markdown",
   "metadata": {},
   "source": [
    "# Individual Game BoxScores"
   ]
  },
  {
   "cell_type": "code",
   "execution_count": null,
   "metadata": {},
   "outputs": [],
   "source": [
    "def update_box_base_p(seasons):\n",
    "    for season in tqdm(seasons):\n",
    "        try:\n",
    "            stats = leaguegamelog.LeagueGameLog(\n",
    "                player_or_team_abbreviation=\"P\",\n",
    "                season=season,\n",
    "                season_type_all_star=\"Regular Season\",\n",
    "            )\n",
    "            df = stats.get_data_frames()[0]\n",
    "            df.to_parquet(box_DIR + \"NBA_Box_P_\" + \"Base\" + \"_\" + season + \".parquet\")\n",
    "            time.sleep(0.6)\n",
    "        except Exception as error:\n",
    "            continue"
   ]
  },
  {
   "cell_type": "code",
   "execution_count": null,
   "metadata": {},
   "outputs": [],
   "source": [
    "update_box_base_p(seasons)"
   ]
  },
  {
   "cell_type": "code",
   "execution_count": null,
   "metadata": {},
   "outputs": [],
   "source": [
    "def update_box_base_p_w(seasons):\n",
    "    for season in tqdm(seasons):\n",
    "        try:\n",
    "            stats = leaguegamelog.LeagueGameLog(\n",
    "                league_id = \"10\",\n",
    "                player_or_team_abbreviation=\"P\",\n",
    "                season=season,\n",
    "                season_type_all_star=\"Regular Season\",\n",
    "            )\n",
    "            df = stats.get_data_frames()[0]\n",
    "            df.to_parquet(box_DIR + \"WNBA_Box_P_\" + \"Base\" + \"_\" + season + \".parquet\")\n",
    "            time.sleep(0.6)\n",
    "        except Exception as error:\n",
    "            continue"
   ]
  },
  {
   "cell_type": "code",
   "execution_count": null,
   "metadata": {},
   "outputs": [],
   "source": [
    "update_box_base_p_w(seasons)"
   ]
  },
  {
   "cell_type": "code",
   "execution_count": null,
   "metadata": {},
   "outputs": [],
   "source": [
    "dfa = []\n",
    "for year in range(1946,2024):\n",
    "    df1 = pd.read_parquet(box_DIR + \"NBA_Box_P_\" + \"Base\" + \"_\" + str(year) + \".parquet\")\n",
    "    df1[df1[\"WL\"] == 0][\"WL\"] = \"L\"\n",
    "    df1[\"season\"] = year+1\n",
    "    df1 = df1.fillna(0)\n",
    "    dfa.append(df1)\n",
    "df = pd.concat(dfa)\n",
    "df.loc[df[df[\"WL\"] == 0].index,\"WL\"] = \"L\"\n",
    "df.to_parquet(box_DIR + \"NBA_Box_P_\" + \"Base\" + \"_\" + \"All\" + \".parquet\")\n",
    "df.to_parquet(shiny_DIR + \"NBA_Box_P_\" + \"Base\" + \"_\" + \"All\" + \".parquet\")"
   ]
  },
  {
   "cell_type": "code",
   "execution_count": null,
   "metadata": {},
   "outputs": [],
   "source": [
    "dfa = []\n",
    "for year in range(1997,2024):\n",
    "    df1 = pd.read_parquet(box_DIR + \"WNBA_Box_P_\" + \"Base\" + \"_\" + str(year) + \".parquet\")\n",
    "    df1[df1[\"WL\"] == 0][\"WL\"] = \"L\"\n",
    "    df1[\"season\"] = year+1\n",
    "    df1 = df1.fillna(0)\n",
    "    dfa.append(df1)\n",
    "df = pd.concat(dfa)\n",
    "df.loc[df[df[\"WL\"] == 0].index,\"WL\"] = \"L\"\n",
    "df.to_parquet(box_DIR + \"WNBA_Box_P_\" + \"Base\" + \"_\" + \"All\" + \".parquet\")\n",
    "df.to_parquet(shiny_DIR + \"WNBA_Box_P_\" + \"Base\" + \"_\" + \"All\" + \".parquet\")"
   ]
  },
  {
   "cell_type": "code",
   "execution_count": null,
   "metadata": {},
   "outputs": [],
   "source": [
    "df = pd.read_parquet(box_DIR + \"NBA_Box_P_\" + \"Base\" + \"_\" + \"All\" + \".parquet\")\n",
    "df.columns = map(str.lower, df.columns)"
   ]
  },
  {
   "cell_type": "code",
   "execution_count": null,
   "metadata": {},
   "outputs": [],
   "source": [
    "df = pd.read_parquet(box_DIR + \"NBA_Box_P_\" + \"Base\" + \"_\" + \"All\" + \".parquet\")\n",
    "df1 = df[~df.duplicated(keep=\"last\")].reset_index(drop=True)\n",
    "df.to_parquet(box_DIR + \"NBA_Box_P_\" + \"Base\" + \"_\" + \"All\" + \".parquet\")"
   ]
  },
  {
   "cell_type": "code",
   "execution_count": null,
   "metadata": {},
   "outputs": [],
   "source": [
    "df.to_parquet(shiny_DIR + \"NBA_Box_P_\" + \"Base\" + \"_\" + \"All\" + \".parquet\")"
   ]
  },
  {
   "cell_type": "code",
   "execution_count": null,
   "metadata": {},
   "outputs": [],
   "source": [
    "pd.options.mode.chained_assignment =  None"
   ]
  },
  {
   "cell_type": "code",
   "execution_count": null,
   "metadata": {},
   "outputs": [],
   "source": [
    "cols_i = ['GP', 'W', 'L', 'MIN', 'FGM', 'FGA', 'FG_PCT', \n",
    "        'FG3M', 'FG3A', 'FG3_PCT', 'FTM', 'FTA', 'FT_PCT','OREB', 'DREB', 'REB', \n",
    "        'AST', 'STL', 'BLK', 'TOV', 'PF', 'PTS','PLUS_MINUS']"
   ]
  },
  {
   "cell_type": "code",
   "execution_count": null,
   "metadata": {},
   "outputs": [],
   "source": [
    "dfa = []\n",
    "for year in tqdm(range(1946,2024)):\n",
    "    df1 = pd.read_parquet(box_DIR + \"NBA_Box_P_\" + \"Base\" + \"_\" + str(year) + \".parquet\")\n",
    "    df1 = df1.fillna(0)\n",
    "    df1[df1[\"WL\"] == 0][\"WL\"] = \"L\"\n",
    "    df1g = df1.groupby([\"PLAYER_ID\",\"PLAYER_NAME\",\"TEAM_ID\",\"TEAM_NAME\"])\n",
    "    keys = list(df1g.groups)\n",
    "    dfb = []\n",
    "    for key in keys:\n",
    "        dfi = df1g.get_group(key)\n",
    "        dfi[\"GP\"] = 1\n",
    "        dfi[\"W\"] = np.where(dfi[\"WL\"] == \"W\",1,0)\n",
    "        dfi[\"L\"] = np.where(dfi[\"WL\"] == \"L\",1,0)\n",
    "        dfi1 = dfi[cols_i]\n",
    "        dfii = pd.DataFrame(dfi1.sum()).T\n",
    "        dfii.iloc[:,3:] = dfii.iloc[:,3:]/dfii[\"GP\"][0]\n",
    "        dfii.iloc[:,3:] = dfii.iloc[:,3:].round(2)\n",
    "        dfii[\"FG_PCT\"] = round(dfii[\"FGM\"]/dfii[\"FGA\"],3)\n",
    "        dfii[\"FG3_PCT\"] = round(dfii[\"FG3M\"]/dfii[\"FG3A\"],3)\n",
    "        dfii[\"FT_PCT\"] = round(dfii[\"FTM\"]/dfii[\"FTA\"],3)\n",
    "        dfii[[\"PLAYER_ID\", \"PLAYER_NAME\", \"TEAM_ID\", \"TEAM_NAME\"]] = list(key)\n",
    "        dfb.append(dfii)\n",
    "    dfb = pd.concat(dfb)\n",
    "    dfb[\"season\"] = year + 1\n",
    "    dfa.append(dfb)\n",
    "dfa = pd.concat(dfa)\n",
    "dfs = dfa.replace([np.inf, -np.inf], np.nan)\n",
    "dfs = dfs.fillna(0).reset_index(drop=True)\n",
    "dfs.to_parquet(shiny_DIR+\"NBA_Box_P_Cum_Base_All.parquet\")"
   ]
  },
  {
   "cell_type": "code",
   "execution_count": null,
   "metadata": {},
   "outputs": [],
   "source": [
    "dfa = []\n",
    "for year in tqdm(range(1997,2024)):\n",
    "    df1 = pd.read_parquet(box_DIR + \"WNBA_Box_P_\" + \"Base\" + \"_\" + str(year) + \".parquet\")\n",
    "    df1 = df1.fillna(0)\n",
    "    df1[df1[\"WL\"] == 0][\"WL\"] = \"L\"\n",
    "    df1g = df1.groupby([\"PLAYER_ID\",\"PLAYER_NAME\",\"TEAM_ID\",\"TEAM_NAME\"])\n",
    "    keys = list(df1g.groups)\n",
    "    dfb = []\n",
    "    for key in keys:\n",
    "        dfi = df1g.get_group(key)\n",
    "        dfi[\"GP\"] = 1\n",
    "        dfi[\"W\"] = np.where(dfi[\"WL\"] == \"W\",1,0)\n",
    "        dfi[\"L\"] = np.where(dfi[\"WL\"] == \"L\",1,0)\n",
    "        dfi1 = dfi[cols_i]\n",
    "        dfii = pd.DataFrame(dfi1.sum()).T\n",
    "        dfii.iloc[:,3:] = dfii.iloc[:,3:]/dfii[\"GP\"][0]\n",
    "        dfii.iloc[:,3:] = dfii.iloc[:,3:].round(2)\n",
    "        dfii[\"FG_PCT\"] = round(dfii[\"FGM\"]/dfii[\"FGA\"],3)\n",
    "        dfii[\"FG3_PCT\"] = round(dfii[\"FG3M\"]/dfii[\"FG3A\"],3)\n",
    "        dfii[\"FT_PCT\"] = round(dfii[\"FTM\"]/dfii[\"FTA\"],3)\n",
    "        dfii[[\"PLAYER_ID\", \"PLAYER_NAME\", \"TEAM_ID\", \"TEAM_NAME\"]] = list(key)\n",
    "        dfb.append(dfii)\n",
    "    dfb = pd.concat(dfb)\n",
    "    dfb[\"season\"] = year + 1\n",
    "    dfa.append(dfb)\n",
    "dfa = pd.concat(dfa)\n",
    "dfs = dfa.replace([np.inf, -np.inf], np.nan)\n",
    "dfs = dfs.fillna(0).reset_index(drop=True)\n",
    "dfs.to_parquet(shiny_DIR+\"WNBA_Box_P_Cum_Base_All.parquet\")"
   ]
  },
  {
   "cell_type": "code",
   "execution_count": null,
   "metadata": {},
   "outputs": [],
   "source": [
    "dfs.query(\"PLAYER_NAME == 'LeBron James'\")"
   ]
  },
  {
   "cell_type": "code",
   "execution_count": null,
   "metadata": {},
   "outputs": [],
   "source": [
    "from nba_api.stats.endpoints import leagueleaders"
   ]
  },
  {
   "cell_type": "code",
   "execution_count": null,
   "metadata": {},
   "outputs": [],
   "source": [
    "def get_season_leaders(year):\n",
    "    season_str = str(year) + \"-\" + str(year+1)[-2:]\n",
    "    stats = leagueleaders.LeagueLeaders(\n",
    "        league_id=\"00\",\n",
    "        per_mode48=\"PerGame\",\n",
    "        scope=\"RS\",\n",
    "        season=season_str,\n",
    "        season_type_all_star=\"Regular Season\",\n",
    "        stat_category_abbreviation=\"PTS\"\n",
    "    )\n",
    "    df = stats.get_data_frames()[0]\n",
    "    df.to_parquet(box_DIR+ f\"NBA_BOX_P_Lead_Base_{year}.parquet\")"
   ]
  },
  {
   "cell_type": "code",
   "execution_count": null,
   "metadata": {},
   "outputs": [],
   "source": [
    "for year in range(1946,2024):\n",
    "    get_season_leaders(year)\n",
    "    time.sleep(0.6)"
   ]
  },
  {
   "cell_type": "code",
   "execution_count": null,
   "metadata": {},
   "outputs": [],
   "source": [
    "year = 2017\n",
    "df1 = pd.read_parquet(box_DIR + \"NBA_Box_P_\" + \"Base\" + \"_\" + str(year) + \".parquet\")\n",
    "len(df1[\"PLAYER_ID\"].unique())"
   ]
  }
 ],
 "metadata": {
  "kernelspec": {
   "display_name": "nba-ub9Z_EQq-py3.11",
   "language": "python",
   "name": "python3"
  },
  "language_info": {
   "codemirror_mode": {
    "name": "ipython",
    "version": 3
   },
   "file_extension": ".py",
   "mimetype": "text/x-python",
   "name": "python",
   "nbconvert_exporter": "python",
   "pygments_lexer": "ipython3",
   "version": "3.11.6"
  }
 },
 "nbformat": 4,
 "nbformat_minor": 2
}
