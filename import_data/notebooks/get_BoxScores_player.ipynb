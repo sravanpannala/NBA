{
 "cells": [
  {
   "cell_type": "markdown",
   "metadata": {},
   "source": [
    "# Save Player Cumulative Season BoxScores "
   ]
  },
  {
   "cell_type": "code",
   "execution_count": 1,
   "metadata": {
    "metadata": {}
   },
   "outputs": [],
   "source": [
    "import numpy as np\n",
    "import pandas as pd\n",
    "\n",
    "from tqdm import tqdm\n",
    "import time\n",
    "from nba_api.stats.endpoints import leaguedashplayerstats, leaguegamelog\n",
    "from tenacity import retry, stop_after_attempt, wait_fixed\n",
    "\n",
    "box_DIR = \"../../data/box/\"\n",
    "shiny_DIR = \"../../data/shiny/\""
   ]
  },
  {
   "cell_type": "code",
   "execution_count": 3,
   "metadata": {
    "metadata": {}
   },
   "outputs": [],
   "source": [
    "season_start = 2023\n",
    "season_end = 2025\n",
    "seasons = np.arange(season_start,season_end,1).astype(str)\n",
    "\n",
    "league = \"NBA\""
   ]
  },
  {
   "cell_type": "markdown",
   "metadata": {},
   "source": [
    "# Cumulative Boxscores"
   ]
  },
  {
   "cell_type": "code",
   "execution_count": null,
   "metadata": {},
   "outputs": [],
   "source": [
    "def get_box_p_cum(seasons, measure=\"Base\", n=32):\n",
    "    if measure == \"Advanced\":\n",
    "        per_mode = \"Per100Possessions\"\n",
    "    else:\n",
    "        per_mode = \"PerGame\"\n",
    "    for season in tqdm(seasons):\n",
    "        # try:\n",
    "            season_str = season + \"-\" + str(int(season) + 1)[-2:]\n",
    "            stats = leaguedashplayerstats.LeagueDashPlayerStats(\n",
    "                measure_type_detailed_defense=measure,\n",
    "                per_mode_detailed=per_mode,\n",
    "                season=season_str,\n",
    "            )\n",
    "            df1 = stats.get_data_frames()[0]\n",
    "            df = df1.iloc[:, :n]\n",
    "            if measure == \"Advanced\":\n",
    "                measure1 = \"Adv\"\n",
    "            else:\n",
    "                 measure1 = measure\n",
    "            df.to_parquet(box_DIR + \"NBA_Box_P_Cum_\" + measure1 + \"_\" + season + \".parquet\")\n",
    "            time.sleep(0.6)\n",
    "        # except Exception as error:\n",
    "        #     continue"
   ]
  },
  {
   "cell_type": "code",
   "execution_count": null,
   "metadata": {},
   "outputs": [],
   "source": [
    "def update_box_p_cum(seasons):\n",
    "    print(\"Base\")\n",
    "    get_box_p_cum(seasons, measure=\"Base\", n=32)\n",
    "    # print(\"Advanced\")\n",
    "    # get_box_p_cum(seasons, measure=\"Advanced\", n=43)\n",
    "    # print(\"Misc\")\n",
    "    # get_box_p_cum(seasons, measure=\"Misc\", n=23)\n",
    "    # print(\"Scoring\")\n",
    "    # get_box_p_cum(seasons, measure=\"Scoring\", n=29)"
   ]
  },
  {
   "cell_type": "code",
   "execution_count": null,
   "metadata": {},
   "outputs": [],
   "source": [
    "update_box_p_cum(seasons)"
   ]
  },
  {
   "cell_type": "markdown",
   "metadata": {},
   "source": [
    "# Individual Game BoxScores"
   ]
  },
  {
   "cell_type": "code",
   "execution_count": null,
   "metadata": {
    "metadata": {}
   },
   "outputs": [],
   "source": [
    "def update_box_base_p(seasons):\n",
    "    for season in tqdm(seasons):\n",
    "        try:\n",
    "            stats = leaguegamelog.LeagueGameLog(\n",
    "                player_or_team_abbreviation=\"P\",\n",
    "                season=season,\n",
    "                season_type_all_star=\"Regular Season\",\n",
    "            )\n",
    "            df = stats.get_data_frames()[0]\n",
    "            df.to_parquet(box_DIR + \"NBA_Box_P_\" + \"Base\" + \"_\" + season + \".parquet\")\n",
    "            time.sleep(0.6)\n",
    "        except Exception as error:\n",
    "            continue"
   ]
  },
  {
   "cell_type": "code",
   "execution_count": null,
   "metadata": {},
   "outputs": [],
   "source": [
    "update_box_base_p(seasons)"
   ]
  },
  {
   "cell_type": "code",
   "execution_count": 4,
   "metadata": {},
   "outputs": [],
   "source": [
    "def update_box_base_p_w(seasons):\n",
    "    for season in tqdm(seasons):\n",
    "        try:\n",
    "            stats = leaguegamelog.LeagueGameLog(\n",
    "                league_id = \"10\",\n",
    "                player_or_team_abbreviation=\"P\",\n",
    "                season=season,\n",
    "                season_type_all_star=\"Regular Season\",\n",
    "            )\n",
    "            df = stats.get_data_frames()[0]\n",
    "            df.to_parquet(box_DIR + \"WNBA_Box_P_\" + \"Base\" + \"_\" + season + \".parquet\")\n",
    "            time.sleep(0.6)\n",
    "        except Exception as error:\n",
    "            continue"
   ]
  },
  {
   "cell_type": "code",
   "execution_count": 5,
   "metadata": {},
   "outputs": [
    {
     "name": "stderr",
     "output_type": "stream",
     "text": [
      "100%|██████████| 2/2 [00:03<00:00,  1.59s/it]\n"
     ]
    }
   ],
   "source": [
    "update_box_base_p_w(seasons)"
   ]
  },
  {
   "cell_type": "code",
   "execution_count": null,
   "metadata": {},
   "outputs": [],
   "source": [
    "dfa = []\n",
    "for year in range(1946,2024):\n",
    "    df1 = pd.read_parquet(box_DIR + \"NBA_Box_P_\" + \"Base\" + \"_\" + str(year) + \".parquet\")\n",
    "    df1[df1[\"WL\"] == 0][\"WL\"] = \"L\"\n",
    "    df1[\"season\"] = year+1\n",
    "    df1 = df1.fillna(0)\n",
    "    dfa.append(df1)\n",
    "df = pd.concat(dfa)\n",
    "df.loc[df[df[\"WL\"] == 0].index,\"WL\"] = \"L\"\n",
    "df.to_parquet(box_DIR + \"NBA_Box_P_\" + \"Base\" + \"_\" + \"All\" + \".parquet\")\n",
    "df.to_parquet(shiny_DIR + \"NBA_Box_P_\" + \"Base\" + \"_\" + \"All\" + \".parquet\")"
   ]
  },
  {
   "cell_type": "code",
   "execution_count": 6,
   "metadata": {},
   "outputs": [
    {
     "name": "stderr",
     "output_type": "stream",
     "text": [
      "C:\\Users\\pansr\\AppData\\Local\\Temp\\ipykernel_122140\\1919177614.py:6: FutureWarning: Downcasting object dtype arrays on .fillna, .ffill, .bfill is deprecated and will change in a future version. Call result.infer_objects(copy=False) instead. To opt-in to the future behavior, set `pd.set_option('future.no_silent_downcasting', True)`\n",
      "  df1 = df1.fillna(0)\n",
      "C:\\Users\\pansr\\AppData\\Local\\Temp\\ipykernel_122140\\1919177614.py:6: FutureWarning: Downcasting object dtype arrays on .fillna, .ffill, .bfill is deprecated and will change in a future version. Call result.infer_objects(copy=False) instead. To opt-in to the future behavior, set `pd.set_option('future.no_silent_downcasting', True)`\n",
      "  df1 = df1.fillna(0)\n",
      "C:\\Users\\pansr\\AppData\\Local\\Temp\\ipykernel_122140\\1919177614.py:6: FutureWarning: Downcasting object dtype arrays on .fillna, .ffill, .bfill is deprecated and will change in a future version. Call result.infer_objects(copy=False) instead. To opt-in to the future behavior, set `pd.set_option('future.no_silent_downcasting', True)`\n",
      "  df1 = df1.fillna(0)\n",
      "C:\\Users\\pansr\\AppData\\Local\\Temp\\ipykernel_122140\\1919177614.py:6: FutureWarning: Downcasting object dtype arrays on .fillna, .ffill, .bfill is deprecated and will change in a future version. Call result.infer_objects(copy=False) instead. To opt-in to the future behavior, set `pd.set_option('future.no_silent_downcasting', True)`\n",
      "  df1 = df1.fillna(0)\n"
     ]
    }
   ],
   "source": [
    "dfa = []\n",
    "for year in range(1997,2025):\n",
    "    df1 = pd.read_parquet(box_DIR + \"WNBA_Box_P_\" + \"Base\" + \"_\" + str(year) + \".parquet\")\n",
    "    df1[df1[\"WL\"] == 0][\"WL\"] = \"L\"\n",
    "    df1[\"season\"] = year+1\n",
    "    df1 = df1.fillna(0)\n",
    "    dfa.append(df1)\n",
    "df = pd.concat(dfa)\n",
    "df.loc[df[df[\"WL\"] == 0].index,\"WL\"] = \"L\"\n",
    "df.to_parquet(box_DIR + \"WNBA_Box_P_\" + \"Base\" + \"_\" + \"All\" + \".parquet\")\n",
    "df.to_parquet(shiny_DIR + \"WNBA_Box_P_\" + \"Base\" + \"_\" + \"All\" + \".parquet\")"
   ]
  },
  {
   "cell_type": "code",
   "execution_count": 7,
   "metadata": {},
   "outputs": [],
   "source": [
    "df = pd.read_parquet(box_DIR + \"NBA_Box_P_\" + \"Base\" + \"_\" + \"All\" + \".parquet\")\n",
    "df.columns = map(str.lower, df.columns)"
   ]
  },
  {
   "cell_type": "code",
   "execution_count": 8,
   "metadata": {},
   "outputs": [],
   "source": [
    "df = pd.read_parquet(box_DIR + \"NBA_Box_P_\" + \"Base\" + \"_\" + \"All\" + \".parquet\")\n",
    "df1 = df[~df.duplicated(keep=\"last\")].reset_index(drop=True)\n",
    "df.to_parquet(box_DIR + \"NBA_Box_P_\" + \"Base\" + \"_\" + \"All\" + \".parquet\")"
   ]
  },
  {
   "cell_type": "code",
   "execution_count": 9,
   "metadata": {},
   "outputs": [],
   "source": [
    "df.to_parquet(shiny_DIR + \"NBA_Box_P_\" + \"Base\" + \"_\" + \"All\" + \".parquet\")"
   ]
  },
  {
   "cell_type": "code",
   "execution_count": 10,
   "metadata": {},
   "outputs": [],
   "source": [
    "pd.options.mode.chained_assignment =  None"
   ]
  },
  {
   "cell_type": "code",
   "execution_count": 11,
   "metadata": {},
   "outputs": [],
   "source": [
    "cols_i = ['GP', 'W', 'L', 'MIN', 'FGM', 'FGA', 'FG_PCT', \n",
    "        'FG3M', 'FG3A', 'FG3_PCT', 'FTM', 'FTA', 'FT_PCT','OREB', 'DREB', 'REB', \n",
    "        'AST', 'STL', 'BLK', 'TOV', 'PF', 'PTS','PLUS_MINUS']"
   ]
  },
  {
   "cell_type": "code",
   "execution_count": null,
   "metadata": {},
   "outputs": [
    {
     "name": "stderr",
     "output_type": "stream",
     "text": [
      "  0%|          | 0/78 [00:00<?, ?it/s]C:\\Users\\pansr\\AppData\\Local\\Temp\\ipykernel_122140\\2698142536.py:4: FutureWarning: Downcasting object dtype arrays on .fillna, .ffill, .bfill is deprecated and will change in a future version. Call result.infer_objects(copy=False) instead. To opt-in to the future behavior, set `pd.set_option('future.no_silent_downcasting', True)`\n",
      "  df1 = df1.fillna(0)\n",
      "  1%|▏         | 1/78 [00:01<01:49,  1.43s/it]C:\\Users\\pansr\\AppData\\Local\\Temp\\ipykernel_122140\\2698142536.py:4: FutureWarning: Downcasting object dtype arrays on .fillna, .ffill, .bfill is deprecated and will change in a future version. Call result.infer_objects(copy=False) instead. To opt-in to the future behavior, set `pd.set_option('future.no_silent_downcasting', True)`\n",
      "  df1 = df1.fillna(0)\n",
      "  3%|▎         | 2/78 [00:02<01:28,  1.16s/it]C:\\Users\\pansr\\AppData\\Local\\Temp\\ipykernel_122140\\2698142536.py:4: FutureWarning: Downcasting object dtype arrays on .fillna, .ffill, .bfill is deprecated and will change in a future version. Call result.infer_objects(copy=False) instead. To opt-in to the future behavior, set `pd.set_option('future.no_silent_downcasting', True)`\n",
      "  df1 = df1.fillna(0)\n",
      "  4%|▍         | 3/78 [00:03<01:39,  1.33s/it]C:\\Users\\pansr\\AppData\\Local\\Temp\\ipykernel_122140\\2698142536.py:4: FutureWarning: Downcasting object dtype arrays on .fillna, .ffill, .bfill is deprecated and will change in a future version. Call result.infer_objects(copy=False) instead. To opt-in to the future behavior, set `pd.set_option('future.no_silent_downcasting', True)`\n",
      "  df1 = df1.fillna(0)\n",
      "  5%|▌         | 4/78 [00:05<01:49,  1.48s/it]C:\\Users\\pansr\\AppData\\Local\\Temp\\ipykernel_122140\\2698142536.py:4: FutureWarning: Downcasting object dtype arrays on .fillna, .ffill, .bfill is deprecated and will change in a future version. Call result.infer_objects(copy=False) instead. To opt-in to the future behavior, set `pd.set_option('future.no_silent_downcasting', True)`\n",
      "  df1 = df1.fillna(0)\n",
      "  6%|▋         | 5/78 [00:06<01:35,  1.30s/it]C:\\Users\\pansr\\AppData\\Local\\Temp\\ipykernel_122140\\2698142536.py:4: FutureWarning: Downcasting object dtype arrays on .fillna, .ffill, .bfill is deprecated and will change in a future version. Call result.infer_objects(copy=False) instead. To opt-in to the future behavior, set `pd.set_option('future.no_silent_downcasting', True)`\n",
      "  df1 = df1.fillna(0)\n",
      "  8%|▊         | 6/78 [00:07<01:19,  1.10s/it]"
     ]
    }
   ],
   "source": [
    "dfa = []\n",
    "for year in tqdm(range(1946,2024)):\n",
    "    df1 = pd.read_parquet(box_DIR + \"NBA_Box_P_\" + \"Base\" + \"_\" + str(year) + \".parquet\")\n",
    "    df1 = df1.fillna(0)\n",
    "    df1[df1[\"WL\"] == 0][\"WL\"] = \"L\"\n",
    "    df1g = df1.groupby([\"PLAYER_ID\",\"PLAYER_NAME\",\"TEAM_ID\",\"TEAM_NAME\"])\n",
    "    keys = list(df1g.groups)\n",
    "    dfb = []\n",
    "    for key in keys:\n",
    "        dfi = df1g.get_group(key)\n",
    "        dfi[\"GP\"] = 1\n",
    "        dfi[\"W\"] = np.where(dfi[\"WL\"] == \"W\",1,0)\n",
    "        dfi[\"L\"] = np.where(dfi[\"WL\"] == \"L\",1,0)\n",
    "        dfi1 = dfi[cols_i]\n",
    "        dfii = pd.DataFrame(dfi1.sum()).T\n",
    "        dfii.iloc[:,3:] = dfii.iloc[:,3:]/dfii[\"GP\"][0]\n",
    "        dfii.iloc[:,3:] = dfii.iloc[:,3:].round(2)\n",
    "        dfii[\"FG_PCT\"] = round(dfii[\"FGM\"]/dfii[\"FGA\"],3)\n",
    "        dfii[\"FG3_PCT\"] = round(dfii[\"FG3M\"]/dfii[\"FG3A\"],3)\n",
    "        dfii[\"FT_PCT\"] = round(dfii[\"FTM\"]/dfii[\"FTA\"],3)\n",
    "        dfii[[\"PLAYER_ID\", \"PLAYER_NAME\", \"TEAM_ID\", \"TEAM_NAME\"]] = list(key)\n",
    "        dfb.append(dfii)\n",
    "    dfb = pd.concat(dfb)\n",
    "    dfb[\"season\"] = year + 1\n",
    "    dfa.append(dfb)\n",
    "dfa = pd.concat(dfa)\n",
    "dfs = dfa.replace([np.inf, -np.inf], np.nan)\n",
    "dfs = dfs.fillna(0).reset_index(drop=True)\n",
    "dfs.to_parquet(shiny_DIR+\"NBA_Box_P_Cum_Base_All.parquet\")"
   ]
  },
  {
   "cell_type": "code",
   "execution_count": null,
   "metadata": {},
   "outputs": [],
   "source": [
    "dfa = []\n",
    "for year in tqdm(range(1997,2024)):\n",
    "    df1 = pd.read_parquet(box_DIR + \"WNBA_Box_P_\" + \"Base\" + \"_\" + str(year) + \".parquet\")\n",
    "    df1 = df1.fillna(0)\n",
    "    df1[df1[\"WL\"] == 0][\"WL\"] = \"L\"\n",
    "    df1g = df1.groupby([\"PLAYER_ID\",\"PLAYER_NAME\",\"TEAM_ID\",\"TEAM_NAME\"])\n",
    "    keys = list(df1g.groups)\n",
    "    dfb = []\n",
    "    for key in keys:\n",
    "        dfi = df1g.get_group(key)\n",
    "        dfi[\"GP\"] = 1\n",
    "        dfi[\"W\"] = np.where(dfi[\"WL\"] == \"W\",1,0)\n",
    "        dfi[\"L\"] = np.where(dfi[\"WL\"] == \"L\",1,0)\n",
    "        dfi1 = dfi[cols_i]\n",
    "        dfii = pd.DataFrame(dfi1.sum()).T\n",
    "        dfii.iloc[:,3:] = dfii.iloc[:,3:]/dfii[\"GP\"][0]\n",
    "        dfii.iloc[:,3:] = dfii.iloc[:,3:].round(2)\n",
    "        dfii[\"FG_PCT\"] = round(dfii[\"FGM\"]/dfii[\"FGA\"],3)\n",
    "        dfii[\"FG3_PCT\"] = round(dfii[\"FG3M\"]/dfii[\"FG3A\"],3)\n",
    "        dfii[\"FT_PCT\"] = round(dfii[\"FTM\"]/dfii[\"FTA\"],3)\n",
    "        dfii[[\"PLAYER_ID\", \"PLAYER_NAME\", \"TEAM_ID\", \"TEAM_NAME\"]] = list(key)\n",
    "        dfb.append(dfii)\n",
    "    dfb = pd.concat(dfb)\n",
    "    dfb[\"season\"] = year + 1\n",
    "    dfa.append(dfb)\n",
    "dfa = pd.concat(dfa)\n",
    "dfs = dfa.replace([np.inf, -np.inf], np.nan)\n",
    "dfs = dfs.fillna(0).reset_index(drop=True)\n",
    "dfs.to_parquet(shiny_DIR+\"WNBA_Box_P_Cum_Base_All.parquet\")"
   ]
  },
  {
   "cell_type": "code",
   "execution_count": null,
   "metadata": {},
   "outputs": [],
   "source": [
    "dfs.query(\"PLAYER_NAME == 'LeBron James'\")"
   ]
  },
  {
   "cell_type": "code",
   "execution_count": null,
   "metadata": {},
   "outputs": [],
   "source": [
    "from nba_api.stats.endpoints import leagueleaders"
   ]
  },
  {
   "cell_type": "code",
   "execution_count": null,
   "metadata": {},
   "outputs": [],
   "source": [
    "def get_season_leaders(year):\n",
    "    season_str = str(year) + \"-\" + str(year+1)[-2:]\n",
    "    stats = leagueleaders.LeagueLeaders(\n",
    "        league_id=\"00\",\n",
    "        per_mode48=\"PerGame\",\n",
    "        scope=\"RS\",\n",
    "        season=season_str,\n",
    "        season_type_all_star=\"Regular Season\",\n",
    "        stat_category_abbreviation=\"PTS\"\n",
    "    )\n",
    "    df = stats.get_data_frames()[0]\n",
    "    df.to_parquet(box_DIR+ f\"NBA_BOX_P_Lead_Base_{year}.parquet\")"
   ]
  },
  {
   "cell_type": "code",
   "execution_count": null,
   "metadata": {},
   "outputs": [],
   "source": [
    "for year in range(1946,2024):\n",
    "    get_season_leaders(year)\n",
    "    time.sleep(0.6)"
   ]
  },
  {
   "cell_type": "code",
   "execution_count": null,
   "metadata": {},
   "outputs": [],
   "source": [
    "year = 2017\n",
    "df1 = pd.read_parquet(box_DIR + \"NBA_Box_P_\" + \"Base\" + \"_\" + str(year) + \".parquet\")\n",
    "len(df1[\"PLAYER_ID\"].unique())"
   ]
  },
  {
   "cell_type": "markdown",
   "metadata": {},
   "source": [
    "# Playoffs"
   ]
  },
  {
   "cell_type": "code",
   "execution_count": null,
   "metadata": {
    "metadata": {}
   },
   "outputs": [],
   "source": [
    "# Update BoxScores\n",
    "def get_gameids(season, name):\n",
    "    df = pd.read_parquet(\n",
    "        box_DIR + \"NBA_Box_T_\" + \"Base\" + \"_\" + season + \"_PS.parquet\"\n",
    "    )\n",
    "    game_ids1 = df[\"GAME_ID\"].tolist()\n",
    "    game_ids1 = np.unique(game_ids1)\n",
    "    try:\n",
    "        dfr1 = pd.read_parquet(\n",
    "            box_DIR + \"NBA_Box_T_\" + name + \"_\" + season + \"_PS.parquet\"\n",
    "        )\n",
    "        dfr2 = pd.read_parquet(\n",
    "            box_DIR + \"NBA_Box_P_\" + name + \"_\" + season + \"_PS.parquet\"\n",
    "        )\n",
    "        game_ids3 = dfr1[\"gameId\"].tolist()\n",
    "        game_ids2 = np.unique(game_ids3)\n",
    "        game_ids2 = [\"00\" + str(s) for s in game_ids2]\n",
    "        game_ids = list(set(game_ids1).difference(game_ids2))\n",
    "    except Exception as error:\n",
    "        print(error)\n",
    "        game_ids = game_ids1\n",
    "        dfr1 = pd.DataFrame()\n",
    "        dfr2 = pd.DataFrame()\n",
    "    return game_ids, dfr1, dfr2\n",
    "\n",
    "@retry(stop=stop_after_attempt(5), wait=wait_fixed(0.6))\n",
    "def get_game_box(game_id, fun):\n",
    "    try:\n",
    "        t1 = time.perf_counter()\n",
    "        stats = fun(game_id=game_id)\n",
    "        df = stats.get_data_frames()\n",
    "        t2 = time.perf_counter() - t1\n",
    "        tsleep = 0.6\n",
    "        if (t2)<0.6:\n",
    "            time.sleep(tsleep)\n",
    "    except Exception as error:\n",
    "        print(error)\n",
    "        df = pd.DataFrame()\n",
    "        pass\n",
    "    return df\n",
    "\n",
    "def get_games_box(game_ids, fun):\n",
    "    df_ap1, df_ap2 = [], []\n",
    "    for game_id in tqdm(game_ids):\n",
    "        try:\n",
    "            df0 = get_game_box(game_id, fun)\n",
    "            df1 = df0[1]\n",
    "            df2 = df0[0]\n",
    "        except Exception as error:\n",
    "            print(error)\n",
    "            df1 = pd.DataFrame()\n",
    "            df2 = pd.DataFrame()\n",
    "        df_ap1.append(df1)\n",
    "        df_ap2.append(df2)\n",
    "    return df_ap1, df_ap2\n",
    "\n",
    "\n",
    "def update_boxscores_idv(season, fun, name):\n",
    "    game_ids, dfr1, dfr2 = get_gameids(season, name)\n",
    "    try:\n",
    "        df_ap1, df_ap2 = get_games_box(game_ids, fun)\n",
    "        df1 = pd.concat(df_ap1)\n",
    "        df2 = pd.concat(df_ap2)\n",
    "        df3 = pd.concat([dfr1, df1])\n",
    "        df3[\"gameId\"] = df3[\"gameId\"].astype(int)\n",
    "        df3 = df3.sort_values(by=[\"gameId\"]).reset_index(drop=True)\n",
    "        df3.to_parquet(\n",
    "            box_DIR + \"NBA_Box_T_\" + name + \"_\" + season + \"_PS.parquet\"\n",
    "        )\n",
    "        df4 = pd.concat([dfr2, df2])\n",
    "        df4[\"gameId\"] = df4[\"gameId\"].astype(int)\n",
    "        df4 = df4.sort_values(by=[\"gameId\"]).reset_index(drop=True)\n",
    "        df4.to_parquet(box_DIR+ \"NBA_Box_P_\"+ name + \"_\"+ season+ \"_PS.parquet\")\n",
    "    except Exception as error:\n",
    "        print(error)\n",
    "        pass"
   ]
  },
  {
   "cell_type": "code",
   "execution_count": null,
   "metadata": {
    "metadata": {}
   },
   "outputs": [],
   "source": [
    "from nba_api.stats.endpoints import (\n",
    "    boxscoreadvancedv3,\n",
    "    boxscorefourfactorsv3,\n",
    "    boxscorehustlev2,\n",
    "    boxscoremiscv3,\n",
    "    boxscoreplayertrackv3,\n",
    "    boxscorescoringv3,\n",
    "    leaguegamelog,\n",
    "    leaguedashplayerstats,\n",
    ")"
   ]
  },
  {
   "cell_type": "code",
   "execution_count": null,
   "metadata": {
    "metadata": {}
   },
   "outputs": [],
   "source": [
    "boxscores = [\n",
    "    {\n",
    "        \"name\": \"Adv\",\n",
    "        \"fun\": boxscoreadvancedv3.BoxScoreAdvancedV3,\n",
    "    },\n",
    "    {\n",
    "        \"name\": \"4Factor\",\n",
    "        \"fun\": boxscorefourfactorsv3.BoxScoreFourFactorsV3,\n",
    "    },\n",
    "    {\n",
    "        \"name\": \"Misc\",\n",
    "        \"fun\": boxscoremiscv3.BoxScoreMiscV3,\n",
    "    },\n",
    "    {\n",
    "        \"name\": \"Scoring\", \n",
    "        \"fun\": boxscorescoringv3.BoxScoreScoringV3\n",
    "    },\n",
    "    {\n",
    "        \"name\": \"Track\",\n",
    "        \"fun\": boxscoreplayertrackv3.BoxScorePlayerTrackV3,\n",
    "    },\n",
    "    {\n",
    "        \"name\": \"Hustle\",\n",
    "        \"fun\": boxscorehustlev2.BoxScoreHustleV2,\n",
    "    },\n",
    "]"
   ]
  },
  {
   "cell_type": "code",
   "execution_count": null,
   "metadata": {
    "metadata": {}
   },
   "outputs": [],
   "source": [
    "game_ids, dfr1, dfr2 = get_gameids(\"2023\", \"Adv\")"
   ]
  },
  {
   "cell_type": "code",
   "execution_count": null,
   "metadata": {
    "metadata": {}
   },
   "outputs": [],
   "source": [
    "stats = leaguegamelog.LeagueGameLog(\n",
    "    player_or_team_abbreviation=\"T\",\n",
    "    season=2023,\n",
    "    season_type_all_star=\"Playoffs\",\n",
    ")\n",
    "df = stats.get_data_frames()[0]\n",
    "df[\"GAME_DATE\"] = pd.to_datetime(df[\"GAME_DATE\"], format=\"%Y-%m-%d\")\n",
    "df.to_parquet(box_DIR + \"NBA_Box_T_\" + \"Base\" + \"_\" + str(2023) + \"_PS.parquet\")"
   ]
  },
  {
   "cell_type": "code",
   "execution_count": null,
   "metadata": {
    "metadata": {}
   },
   "outputs": [],
   "source": [
    "season_start = 2023\n",
    "season_end = 2024\n",
    "seasons = np.arange(season_start,season_end,1).astype(str)\n",
    "\n",
    "league = \"NBA\""
   ]
  },
  {
   "cell_type": "code",
   "execution_count": null,
   "metadata": {
    "metadata": {}
   },
   "outputs": [
    {
     "name": "stderr",
     "output_type": "stream",
     "text": [
      "100%|██████████| 1/1 [00:02<00:00,  2.65s/it]\n"
     ]
    }
   ],
   "source": [
    "def update_box_base_p(seasons):\n",
    "    for season in tqdm(seasons):\n",
    "        try:\n",
    "            stats = leaguegamelog.LeagueGameLog(\n",
    "                player_or_team_abbreviation=\"P\",\n",
    "                season=season,\n",
    "                season_type_all_star=\"Playoffs\",\n",
    "            )\n",
    "            df = stats.get_data_frames()[0]\n",
    "            df.to_parquet(box_DIR + \"NBA_Box_P_\" + \"Base\" + \"_\" + season + \"_PS.parquet\")\n",
    "            time.sleep(0.6)\n",
    "        except Exception as error:\n",
    "            continue\n",
    "update_box_base_p(seasons)"
   ]
  },
  {
   "cell_type": "code",
   "execution_count": null,
   "metadata": {
    "metadata": {}
   },
   "outputs": [],
   "source": [
    "for year in range(2023,2024):\n",
    "    for boxscore in boxscores[:1]:\n",
    "        print(\"BoxScore \" + boxscore[\"name\"])\n",
    "        update_boxscores_idv(str(year), boxscore[\"fun\"], boxscore[\"name\"])"
   ]
  },
  {
   "cell_type": "code",
   "execution_count": null,
   "metadata": {
    "metadata": {}
   },
   "outputs": [],
   "source": [
    "for year in range(1996,2013):\n",
    "    for boxscore in boxscores[:1]:\n",
    "        print(\"BoxScore \" + boxscore[\"name\"])\n",
    "        update_boxscores_idv(str(year), boxscore[\"fun\"], boxscore[\"name\"])"
   ]
  },
  {
   "cell_type": "code",
   "execution_count": null,
   "metadata": {
    "metadata": {}
   },
   "outputs": [],
   "source": [
    "for year in range(2013,2023):\n",
    "    for boxscore in boxscores[1:]:\n",
    "        print(\"BoxScore \" + boxscore[\"name\"])\n",
    "        update_boxscores_idv(str(year), boxscore[\"fun\"], boxscore[\"name\"])"
   ]
  }
 ],
 "metadata": {
  "kernelspec": {
   "display_name": "dav-ub9Z_EQq-py3.12",
   "language": "python",
   "name": "python3"
  },
  "language_info": {
   "codemirror_mode": {
    "name": "ipython",
    "version": 3
   },
   "file_extension": ".py",
   "mimetype": "text/x-python",
   "name": "python",
   "nbconvert_exporter": "python",
   "pygments_lexer": "ipython3",
   "version": "3.12.0"
  }
 },
 "nbformat": 4,
 "nbformat_minor": 2
}
