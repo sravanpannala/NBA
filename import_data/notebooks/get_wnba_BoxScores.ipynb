{
 "cells": [
  {
   "cell_type": "markdown",
   "metadata": {},
   "source": [
    "# Save Player Cumulative Season BoxScores "
   ]
  },
  {
   "cell_type": "code",
   "execution_count": 1,
   "metadata": {
    "metadata": {}
   },
   "outputs": [],
   "source": [
    "import numpy as np\n",
    "import pandas as pd\n",
    "\n",
    "from tqdm import tqdm\n",
    "import time\n",
    "from nba_api.stats.endpoints import leaguedashplayerstats, leaguegamelog\n",
    "from tenacity import retry, stop_after_attempt, wait_fixed\n",
    "\n",
    "pd.options.mode.chained_assignment =  None\n",
    "\n",
    "box_DIR = \"../../data/box/\"\n",
    "shiny_DIR = \"../../data/shiny/\""
   ]
  },
  {
   "cell_type": "code",
   "execution_count": 5,
   "metadata": {
    "metadata": {}
   },
   "outputs": [],
   "source": [
    "season_start = 2024\n",
    "season_end = 2025\n",
    "seasons = np.arange(season_start,season_end,1).astype(str)"
   ]
  },
  {
   "cell_type": "markdown",
   "metadata": {},
   "source": [
    "# Cumulative Boxscores"
   ]
  },
  {
   "cell_type": "code",
   "execution_count": 3,
   "metadata": {},
   "outputs": [],
   "source": [
    "def update_box_base_p_w(seasons):\n",
    "    for season in tqdm(seasons):\n",
    "        try:\n",
    "            stats = leaguegamelog.LeagueGameLog(\n",
    "                league_id = \"10\",\n",
    "                player_or_team_abbreviation=\"P\",\n",
    "                season=season,\n",
    "                season_type_all_star=\"Regular Season\",\n",
    "            )\n",
    "            df = stats.get_data_frames()[0]\n",
    "            df.to_parquet(box_DIR + \"WNBA_Box_P_\" + \"Base\" + \"_\" + season + \".parquet\")\n",
    "            time.sleep(0.6)\n",
    "        except Exception as error:\n",
    "            continue"
   ]
  },
  {
   "cell_type": "code",
   "execution_count": 4,
   "metadata": {},
   "outputs": [
    {
     "name": "stderr",
     "output_type": "stream",
     "text": [
      "100%|██████████| 2/2 [00:02<00:00,  1.23s/it]\n"
     ]
    }
   ],
   "source": [
    "update_box_base_p_w(seasons)"
   ]
  },
  {
   "cell_type": "code",
   "execution_count": 13,
   "metadata": {},
   "outputs": [],
   "source": [
    "dfa = []\n",
    "for year in range(1997,season_end):\n",
    "    df1 = pd.read_parquet(box_DIR + \"WNBA_Box_P_\" + \"Base\" + \"_\" + str(year) + \".parquet\")\n",
    "    df1[df1[\"WL\"] == 0][\"WL\"] = \"L\"\n",
    "    df1[\"season\"] = year+1\n",
    "    with pd.option_context(\"future.no_silent_downcasting\", True):\n",
    "        df1 = df1.fillna(0).infer_objects(copy=False)\n",
    "    dfa.append(df1)\n",
    "df = pd.concat(dfa)\n",
    "df.loc[df[df[\"WL\"] == 0].index,\"WL\"] = \"L\"\n",
    "df[\"TS_PCT\"] = round(df[\"PTS\"]*0.5/((df[\"FGA\"]+0.44*df[\"FTA\"])),3)\n",
    "df.to_parquet(box_DIR + \"WNBA_Box_P_\" + \"Base\" + \"_\" + \"All\" + \".parquet\")\n",
    "df.to_parquet(shiny_DIR + \"WNBA_Box_P_\" + \"Base\" + \"_\" + \"All\" + \".parquet\")"
   ]
  },
  {
   "cell_type": "code",
   "execution_count": 8,
   "metadata": {},
   "outputs": [],
   "source": [
    "cols_i = ['GP', 'W', 'L', 'MIN', 'FGM', 'FGA', 'FG_PCT', \n",
    "        'FG3M', 'FG3A', 'FG3_PCT', 'FTM', 'FTA', 'FT_PCT','OREB', 'DREB', 'REB', \n",
    "        'AST', 'STL', 'BLK', 'TOV', 'PF', 'PTS','PLUS_MINUS']"
   ]
  },
  {
   "cell_type": "code",
   "execution_count": 10,
   "metadata": {},
   "outputs": [
    {
     "name": "stderr",
     "output_type": "stream",
     "text": [
      "100%|██████████| 28/28 [01:07<00:00,  2.40s/it]\n"
     ]
    }
   ],
   "source": [
    "dfa = []\n",
    "for year in tqdm(range(1997,season_end)):\n",
    "    df1 = pd.read_parquet(box_DIR + \"WNBA_Box_P_\" + \"Base\" + \"_\" + str(year) + \".parquet\")\n",
    "    with pd.option_context(\"future.no_silent_downcasting\", True):\n",
    "        df1 = df1.fillna(0).infer_objects(copy=False)\n",
    "    df1[df1[\"WL\"] == 0][\"WL\"] = \"L\"\n",
    "    df1g = df1.groupby([\"PLAYER_ID\",\"PLAYER_NAME\",\"TEAM_ID\",\"TEAM_NAME\"])\n",
    "    keys = list(df1g.groups)\n",
    "    dfb = []\n",
    "    for key in keys:\n",
    "        dfi = df1g.get_group(key)\n",
    "        dfi[\"GP\"] = 1\n",
    "        dfi[\"W\"] = np.where(dfi[\"WL\"] == \"W\",1,0)\n",
    "        dfi[\"L\"] = np.where(dfi[\"WL\"] == \"L\",1,0)\n",
    "        dfi1 = dfi[cols_i]\n",
    "        dfii = pd.DataFrame(dfi1.sum()).T\n",
    "        dfii.iloc[:,3:] = dfii.iloc[:,3:]/dfii[\"GP\"][0]\n",
    "        dfii.iloc[:,3:] = dfii.iloc[:,3:].round(2)\n",
    "        dfii[\"FG_PCT\"] = round(dfii[\"FGM\"]/dfii[\"FGA\"],3)\n",
    "        dfii[\"FG3_PCT\"] = round(dfii[\"FG3M\"]/dfii[\"FG3A\"],3)\n",
    "        dfii[\"FT_PCT\"] = round(dfii[\"FTM\"]/dfii[\"FTA\"],3)\n",
    "        dfii[\"TS_PCT\"] = round(dfii[\"PTS\"]*0.5/((dfii[\"FGA\"]+0.44*dfii[\"FTA\"])),3)\n",
    "        dfii[[\"PLAYER_ID\", \"PLAYER_NAME\", \"TEAM_ID\", \"TEAM_NAME\"]] = list(key)\n",
    "        dfb.append(dfii)\n",
    "    dfb = pd.concat(dfb)\n",
    "    dfb[\"season\"] = year + 1\n",
    "    dfa.append(dfb)\n",
    "dfa = pd.concat(dfa)\n",
    "dfs = dfa.replace([np.inf, -np.inf], np.nan)\n",
    "dfs = dfs.fillna(0).reset_index(drop=True)\n",
    "dfs.to_parquet(shiny_DIR+\"WNBA_Box_P_Cum_Base_All.parquet\")"
   ]
  }
 ],
 "metadata": {
  "kernelspec": {
   "display_name": "dav-ub9Z_EQq-py3.12",
   "language": "python",
   "name": "python3"
  },
  "language_info": {
   "codemirror_mode": {
    "name": "ipython",
    "version": 3
   },
   "file_extension": ".py",
   "mimetype": "text/x-python",
   "name": "python",
   "nbconvert_exporter": "python",
   "pygments_lexer": "ipython3",
   "version": "3.12.0"
  }
 },
 "nbformat": 4,
 "nbformat_minor": 2
}
