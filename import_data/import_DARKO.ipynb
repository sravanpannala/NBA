{
 "cells": [
  {
   "cell_type": "markdown",
   "metadata": {},
   "source": [
    "# Code to Scrape DARKO and BPM\n",
    "### Credits to Krishna Narsu for the DARKO R code"
   ]
  },
  {
   "cell_type": "code",
   "execution_count": null,
   "metadata": {},
   "outputs": [],
   "source": [
    "import os, sys\n",
    "\n",
    "sys.path.append(os.path.dirname(os.path.dirname(os.path.abspath(\"__file__\"))))\n",
    "from nbafuns import *\n",
    "\n",
    "export_DIR1 = \"../fdata/bbref/\"\n",
    "export_DIR2 = \"../fdata/all_in_one_metrics/\""
   ]
  },
  {
   "cell_type": "code",
   "execution_count": null,
   "metadata": {},
   "outputs": [],
   "source": [
    "%reload_ext rpy2.ipython"
   ]
  },
  {
   "cell_type": "code",
   "execution_count": null,
   "metadata": {},
   "outputs": [],
   "source": [
    "df_R = []"
   ]
  },
  {
   "cell_type": "code",
   "execution_count": null,
   "metadata": {},
   "outputs": [],
   "source": [
    "bpm,dpm,dpmhistory = [],[],[]"
   ]
  },
  {
   "cell_type": "code",
   "execution_count": null,
   "metadata": {},
   "outputs": [],
   "source": [
    "%%R -o bpm,dpm,dpmhistory\n",
    "library(tidyverse)\n",
    "library(nbastatR)\n",
    "library(googlesheets4)\n",
    "library(googledrive)\n",
    "library(tidyverse)\n",
    "\n",
    "Sys.setenv(\"VROOM_CONNECTION_SIZE\" = 131072 * 2)\n",
    "season <- 2024\n",
    "\n",
    "bpm <- bref_players_stats(\n",
    "  seasons = season,\n",
    "  tables = \"advanced\",\n",
    "  include_all_nba = FALSE,\n",
    "  only_totals = FALSE,\n",
    "  nest_data = FALSE,\n",
    "  assign_to_environment = TRUE,\n",
    "  widen_data = TRUE,\n",
    "  join_data = TRUE,\n",
    "  return_message = TRUE\n",
    ")\n",
    "\n",
    "#Drive authentication\n",
    "drive_auth(email = \"sra.djoker@gmail.com\")\n",
    "#DPM\n",
    "dpm <- googlesheets4::read_sheet(ss = \"1mhwOLqPu2F9026EQiVxFPIN1t9RGafGpl-dokaIsm9c\",\n",
    "                                 sheet = \"Current DPM Ranks\") %>% data.frame()\n",
    "\n",
    "dpmhistory <- googlesheets4::read_sheet(ss = \"1mhwOLqPu2F9026EQiVxFPIN1t9RGafGpl-dokaIsm9c\",\n",
    "                                        sheet = \"Full DPM History\") %>% data.frame()"
   ]
  },
  {
   "cell_type": "code",
   "execution_count": null,
   "metadata": {},
   "outputs": [],
   "source": [
    "bpm.to_csv(export_DIR1 + \"NBA_bbref_Player_Adv_2023.csv\")\n",
    "bpm.to_parquet(export_DIR1 + \"NBA_bbref_Player_Adv_2023.parquet\")\n",
    "dfb = bpm[[\"idPlayerNBA\",'ratioOBPM', 'ratioDBPM', 'ratioBPM']].reset_index(drop=True)\n",
    "dfb[\"idPlayerNBA\"] = dfb[\"idPlayerNBA\"].astype(int)\n",
    "dfb = dfb.query(\"idPlayerNBA > 0\")"
   ]
  },
  {
   "cell_type": "code",
   "execution_count": null,
   "metadata": {},
   "outputs": [],
   "source": [
    "dfd= dpm.rename(columns={\"NBA.ID\":\"idPlayerNBA\",\"Player.Name\":\"namePlayer\"})\n",
    "dfd.columns = ['idPlayerNBA', 'namePlayer', 'Position', 'age', 'dpm','o_dpm', 'd_dpm', 'box_odpm', 'box_ddpm', 'on_off_odpm', 'on_off_ddpm']\n",
    "dfd[\"idPlayerNBA\"] = dfd[\"idPlayerNBA\"].astype(int)\n",
    "dfd.columns = dfd.columns.str.replace(\"Offensive\",\"O\")\n",
    "dfd.columns = dfd.columns.str.replace(\"Defensive\",\"D\")\n",
    "dfd.columns = dfd.columns.str.replace(\".\",\"-\")\n",
    "dfd.to_csv(export_DIR2 + \"NBA_DARKO_Current.csv\")\n",
    "dfd.to_parquet(export_DIR2 + \"NBA_DARKO_Current.parquet\")\n",
    "dfd = dfd.drop(columns=[\"Position\"])"
   ]
  },
  {
   "cell_type": "code",
   "execution_count": null,
   "metadata": {},
   "outputs": [],
   "source": [
    "df1 = pd.merge(dfd,dfb, on = \"idPlayerNBA\", how=\"right\")"
   ]
  },
  {
   "cell_type": "code",
   "execution_count": null,
   "metadata": {},
   "outputs": [],
   "source": [
    "print(len(dfd))\n",
    "print(len(dfb))\n",
    "print(len(df1))"
   ]
  },
  {
   "cell_type": "code",
   "execution_count": null,
   "metadata": {},
   "outputs": [],
   "source": [
    "dfdh= dpmhistory.rename(columns={\"nba_id\":\"idPlayerNBA\",\"player_name\":\"namePlayer\"})\n",
    "dfdh[\"idPlayerNBA\"] = dfdh[\"idPlayerNBA\"].astype(int)\n",
    "dfdh.to_csv(export_DIR2 + \"NBA_DARKO_History.csv\")\n",
    "dfdh.to_parquet(export_DIR2 + \"NBA_DARKO_History.parquet\")\n",
    "dfdh =dfdh.drop(columns=[\"tm_id\",\"team_name\"])\n",
    "dfdh = dfdh.query(\"season == 2024\")\n",
    "dfdh = dfdh.drop(columns=[\"season\"])"
   ]
  },
  {
   "cell_type": "code",
   "execution_count": null,
   "metadata": {},
   "outputs": [],
   "source": [
    "nan_rows = df1.isna().any(axis=1)"
   ]
  },
  {
   "cell_type": "code",
   "execution_count": null,
   "metadata": {},
   "outputs": [],
   "source": [
    "missing_players = df1[\"idPlayerNBA\"][nan_rows].to_list()"
   ]
  },
  {
   "cell_type": "code",
   "execution_count": null,
   "metadata": {},
   "outputs": [],
   "source": [
    "df2 = dfdh[dfdh[\"idPlayerNBA\"].isin(missing_players)].reset_index(drop=True)"
   ]
  },
  {
   "cell_type": "code",
   "execution_count": null,
   "metadata": {},
   "outputs": [],
   "source": [
    "df1nan = df1[nan_rows].sort_values(\"idPlayerNBA\").reset_index(drop=True)\n",
    "df1nan = df1nan.drop(columns = [ 'namePlayer', 'age', 'dpm','o_dpm', 'd_dpm', 'box_odpm', 'box_ddpm', 'on_off_odpm', 'on_off_ddpm'])"
   ]
  },
  {
   "cell_type": "code",
   "execution_count": null,
   "metadata": {},
   "outputs": [],
   "source": [
    "df1n = df1.dropna()"
   ]
  },
  {
   "cell_type": "code",
   "execution_count": null,
   "metadata": {},
   "outputs": [],
   "source": [
    "df3 = pd.merge(df2,df1nan,on=\"idPlayerNBA\")"
   ]
  },
  {
   "cell_type": "code",
   "execution_count": null,
   "metadata": {},
   "outputs": [],
   "source": [
    "df4 = pd.concat([df1n,df3])"
   ]
  },
  {
   "cell_type": "code",
   "execution_count": null,
   "metadata": {},
   "outputs": [],
   "source": [
    "df4.to_csv(export_DIR2 + \"NBA_DARKO_Processed.csv\")"
   ]
  }
 ],
 "metadata": {
  "kernelspec": {
   "display_name": "nba-ub9Z_EQq-py3.11",
   "language": "python",
   "name": "python3"
  },
  "language_info": {
   "codemirror_mode": {
    "name": "ipython",
    "version": 3
   },
   "file_extension": ".py",
   "mimetype": "text/x-python",
   "name": "python",
   "nbconvert_exporter": "python",
   "pygments_lexer": "ipython3",
   "version": "3.11.6"
  }
 },
 "nbformat": 4,
 "nbformat_minor": 2
}
