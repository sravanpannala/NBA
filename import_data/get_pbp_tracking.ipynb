{
 "cells": [
  {
   "cell_type": "code",
   "execution_count": 35,
   "metadata": {},
   "outputs": [],
   "source": [
    "import requests\n",
    "import pandas as pd\n",
    "import numpy as np\n",
    "import time\n",
    "from io import StringIO\n",
    "\n",
    "track_DIR = \"../data/tracking/\""
   ]
  },
  {
   "cell_type": "code",
   "execution_count": 37,
   "metadata": {},
   "outputs": [],
   "source": [
    "token_headers = {\"Content-Type\": \"application/json\"}\n",
    "payload = {\"username\": \"tracking_read_only\", \"password\": \"0YfUDRfUYb2Tr8dS\"}\n",
    "token_request = requests.post(\"https://tracking.pbpstats.com/auth\", headers=token_headers, json=payload)\n",
    "access_token = token_request.json()[\"access_token\"]\n",
    "headers = {\"Authorization\": f\"JWT {access_token}\"}\n"
   ]
  },
  {
   "cell_type": "code",
   "execution_count": 38,
   "metadata": {},
   "outputs": [],
   "source": [
    "seasons = np.arange(2013,2024).astype(str)"
   ]
  },
  {
   "cell_type": "code",
   "execution_count": 39,
   "metadata": {},
   "outputs": [],
   "source": [
    "for season in seasons:\n",
    "    season_str = season + \"-\" + str(int(season)+1)[-2:]\n",
    "    params = {\"Season\": season_str, \"SeasonType\": \"RegularSeason\", \"Type\": \"game_logs\"}\n",
    "    tracking_csv = requests.get(\"https://tracking.pbpstats.com/get-tracking-csv\", params=params, headers=headers)\n",
    "    txt = StringIO(tracking_csv.text)\n",
    "    df = pd.read_csv(txt)\n",
    "    df.to_csv(track_DIR + f\"NBA_PBP_Tracking_{season}.csv\")\n",
    "    df.to_parquet(track_DIR + f\"NBA_PBP_Tracking_{season}.parquet\")\n",
    "    time.sleep(1)"
   ]
  },
  {
   "cell_type": "code",
   "execution_count": null,
   "metadata": {},
   "outputs": [],
   "source": [
    "# csv_names = [\"get-tracking-csv\",\"get-matchup-csv\"]"
   ]
  }
 ],
 "metadata": {
  "kernelspec": {
   "display_name": "nba-ub9Z_EQq-py3.11",
   "language": "python",
   "name": "python3"
  },
  "language_info": {
   "codemirror_mode": {
    "name": "ipython",
    "version": 3
   },
   "file_extension": ".py",
   "mimetype": "text/x-python",
   "name": "python",
   "nbconvert_exporter": "python",
   "pygments_lexer": "ipython3",
   "version": "3.11.6"
  }
 },
 "nbformat": 4,
 "nbformat_minor": 2
}
