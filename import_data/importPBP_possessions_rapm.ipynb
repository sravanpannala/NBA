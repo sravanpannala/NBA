{
 "cells": [
  {
   "cell_type": "markdown",
   "metadata": {},
   "source": [
    "# Import all possessions of a season using PBP API"
   ]
  },
  {
   "cell_type": "code",
   "execution_count": null,
   "metadata": {},
   "outputs": [],
   "source": [
    "import dill\n",
    "import numpy as np\n",
    "import pandas as pd\n",
    "import zstandard as zstd\n",
    "from tqdm import tqdm\n",
    "\n",
    "export_DIR = \"../fdata/rapm/\"\n",
    "data_DIR = \"../fdata/pbpdata/\""
   ]
  },
  {
   "cell_type": "code",
   "execution_count": null,
   "metadata": {},
   "outputs": [],
   "source": [
    "class Poss:\n",
    "    def __init__(self, o1=0,o2=0,o3=0,o4=0,o5=0,d1=0,d2=0,d3=0,d4=0,d5=0,pts=0,des=0,evtyp=0):\n",
    "        self.off1 = o1\n",
    "        self.off2 = o2\n",
    "        self.off3 = o3\n",
    "        self.off4 = o4\n",
    "        self.off5 = o5\n",
    "        self.def1 = d1\n",
    "        self.def2 = d2\n",
    "        self.def3 = d3\n",
    "        self.def4 = d4\n",
    "        self.def5 = d5\n",
    "        self.pts = pts\n",
    "\n",
    "        self.description = des\n",
    "        self.event_type = evtyp\n",
    "\n",
    "\n",
    "ovars = [\"off1\",\"off2\",\"off3\",\"off4\",\"off5\"]\n",
    "dvars = [\"def1\",\"def2\",\"def3\",\"def4\",\"def5\"]"
   ]
  },
  {
   "cell_type": "code",
   "execution_count": null,
   "metadata": {},
   "outputs": [],
   "source": [
    "def get_rapm_possessions(games_list):\n",
    "    poss_list, points, poss_store = [], [], []\n",
    "    for game in tqdm(games_list):\n",
    "        hmscr, rdscr = [], []\n",
    "        tems = list(game.possessions.items[0].events[0].current_players.keys())\n",
    "        for possession in game.possessions.items:\n",
    "            for possession_event in possession.events:\n",
    "                if possession_event.count_as_possession: # and possession_event.event_type in (1, 3, 4, 5):\n",
    "                    if possession_event.description == \"Game End\":\n",
    "                        continue\n",
    "                    off_id = possession_event.get_offense_team_id()\n",
    "                    if not bool(off_id):\n",
    "                        continue\n",
    "                    p = Poss()\n",
    "                    for te in tems:\n",
    "                        if te == off_id:\n",
    "                            for i,var in enumerate(ovars):\n",
    "                                setattr(p,var,possession_event.current_players[te][i])\n",
    "                        else:\n",
    "                            for i,var in enumerate(dvars):\n",
    "                                setattr(p,var,possession_event.current_players[te][i])             \n",
    "                    p.description = possession_event.description\n",
    "                    p.event_type = possession_event.event_type\n",
    "                    hmscr.append(possession_event.score[tems[0]]) #possession_event.home_score\n",
    "                    rdscr.append(possession_event.score[tems[1]]) #possession_event.away_score\n",
    "                    poss_list.append(p)\n",
    "                    poss_store.append(possession_event)\n",
    "        hm_pts = []\n",
    "        rd_pts = []\n",
    "        for i in range(len(hmscr) - 1):\n",
    "            hm_pts.append(hmscr[i + 1] - hmscr[i])\n",
    "            rd_pts.append(rdscr[i + 1] - rdscr[i])\n",
    "        pts = []\n",
    "        pts.append(max(hmscr[0], rdscr[0]))\n",
    "        for i in range(len(hmscr) - 1):\n",
    "            pts.append(max(hm_pts[i], rd_pts[i]))\n",
    "        points.extend(pts)\n",
    "    data = pd.DataFrame([vars(p) for p in poss_list])\n",
    "    data[\"pts\"] = points\n",
    "    return data,poss_store"
   ]
  },
  {
   "cell_type": "code",
   "execution_count": null,
   "metadata": {},
   "outputs": [],
   "source": [
    "league = \"NBA\"\n",
    "season_start = 2000\n",
    "season_end = 2014\n",
    "seasons = np.arange(season_start, season_end, 1).astype(str)\n",
    "for season in seasons:\n",
    "    print(season)\n",
    "    with zstd.open(data_DIR + league + \"_PBPdata_\" + season + \".pkl.zst\",\"rb\") as f:\n",
    "        games_list = dill.load(f)\n",
    "    data,poss_store = get_rapm_possessions(games_list)\n",
    "    # data.iloc[:,:-2].to_csv(export_DIR+league +\"_rapm_possessions_\"+season+\".csv\",index=False)\n",
    "    # data.iloc[:,:-2].to_pickle(export_DIR+league +\"_rapm_possessions_\"+season+\".pkl.zst\")\n",
    "    data.iloc[:,:-2].to_parquet(export_DIR+league +\"_rapm_possessions_\"+season+\".parquet\")"
   ]
  }
 ],
 "metadata": {
  "interpreter": {
   "hash": "da7f6a1acbed3bc069371c7f8227ce1cf086c50bd8dde580a5e5a3ae6d907b7f"
  },
  "kernelspec": {
   "display_name": "Python 3.9.7 64-bit ('NBA-O70mvEYv': pipenv)",
   "name": "python3"
  },
  "language_info": {
   "codemirror_mode": {
    "name": "ipython",
    "version": 3
   },
   "file_extension": ".py",
   "mimetype": "text/x-python",
   "name": "python",
   "nbconvert_exporter": "python",
   "pygments_lexer": "ipython3",
   "version": "3.11.6"
  }
 },
 "nbformat": 4,
 "nbformat_minor": 2
}
