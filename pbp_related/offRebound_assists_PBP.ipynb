{
 "cells": [
  {
   "cell_type": "markdown",
   "metadata": {},
   "source": [
    "# Get Assists after Offensive rebounds using PBP data"
   ]
  },
  {
   "cell_type": "code",
   "execution_count": null,
   "metadata": {},
   "outputs": [],
   "source": [
    "import os, sys\n",
    "sys.path.append(os.path.dirname(os.path.dirname(os.path.abspath(\"__file__\"))))\n",
    "from nbafuns import *\n",
    "\n",
    "fig_DIR = \"../figs/\"\n",
    "\n",
    "league = \"NBA\"\n",
    "season_yr = \"2022\"\n",
    "season_type = \"Regular Season\"\n",
    "games_id = pbp_season(league=league,season_yr=season_yr,season_type=season_type)\n",
    "games_list = pbp_games(games_id)"
   ]
  },
  {
   "cell_type": "code",
   "execution_count": null,
   "metadata": {},
   "outputs": [],
   "source": [
    "year = int(season_yr)\n",
    "player_dict = get_players_pbp(league = league)"
   ]
  },
  {
   "cell_type": "code",
   "execution_count": null,
   "metadata": {},
   "outputs": [],
   "source": [
    "# Coast to Coast Assists\n",
    "from pbpstats.resources.enhanced_pbp import FieldGoal\n",
    "from pbpstats.resources.enhanced_pbp import Rebound\n",
    "pos_store = []\n",
    "Rebound_pID = []\n",
    "Assist_pID = []\n",
    "i = 0\n",
    "ii = 0\n",
    "for game in tqdm(games_list):\n",
    "    for possession in game.possessions.items:\n",
    "        for possession_event in possession.events:\n",
    "            if (isinstance(possession_event, FieldGoal) and possession_event.is_made and possession_event.is_assisted) and (isinstance(possession_event.previous_event, Rebound)) and possession_event.seconds_since_previous_event <= 5:\n",
    "                if possession_event.previous_event.player1_id == possession_event.player2_id:\n",
    "                    if possession_event.previous_event.oreb :\n",
    "                        pos_store.append(possession)\n",
    "                        Rebound_pID.append(possession_event.previous_event.player1_id)\n",
    "                        print (\"Rebound Player: {0}\".format(possession_event.previous_event.player1_id))\n",
    "                        Assist_pID.append(possession_event.player2_id)\n",
    "                        print (\"Assist Player: {0}\".format(possession_event.player2_id))\n",
    "                        ii += 1\n",
    "                        # print(\"ii = {0}\".format(ii))\n",
    "    i += 1\n",
    "    # print(\"i = {0}\".format(i))\n",
    "    clear_output(wait=True)"
   ]
  },
  {
   "cell_type": "code",
   "execution_count": null,
   "metadata": {},
   "outputs": [],
   "source": [
    "Assist_pID1, Assists = np.unique(Assist_pID, return_counts=True)  \n",
    "Player_Name = np.array([player_dict[x] for x in Assist_pID1])"
   ]
  },
  {
   "cell_type": "code",
   "execution_count": null,
   "metadata": {},
   "outputs": [],
   "source": [
    "data = pd.DataFrame({'Assist_pID':Assist_pID1,'Player_Name':Player_Name,'Assists':Assists})\n",
    "data = data.sort_values(by=['Assists'],ascending=False)\n",
    "data = data.reset_index(drop=True)\n",
    "data.head()"
   ]
  },
  {
   "cell_type": "code",
   "execution_count": null,
   "metadata": {},
   "outputs": [],
   "source": [
    "# data.to_csv ('OffRebounds_Assists_20_21.csv',index=False)"
   ]
  }
 ],
 "metadata": {
  "kernelspec": {
   "display_name": ".venv",
   "language": "python",
   "name": "python3"
  },
  "language_info": {
   "codemirror_mode": {
    "name": "ipython",
    "version": 3
   },
   "file_extension": ".py",
   "mimetype": "text/x-python",
   "name": "python",
   "nbconvert_exporter": "python",
   "pygments_lexer": "ipython3",
   "version": "3.9.7"
  },
  "orig_nbformat": 4
 },
 "nbformat": 4,
 "nbformat_minor": 2
}
