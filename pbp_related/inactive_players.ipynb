{
 "cells": [
  {
   "cell_type": "code",
   "execution_count": null,
   "metadata": {},
   "outputs": [],
   "source": [
    "import os, sys\n",
    "\n",
    "sys.path.append(os.path.dirname(os.path.dirname(os.path.abspath(\"__file__\"))))\n",
    "from nbafuns import *\n",
    "\n",
    "fig_DIR = \"../figs/pbp_related/\"\n",
    "img_DIR_P = \"../data/images/players/\"\n",
    "img_DIR_T = \"../data/images/teams/\"\n",
    "data_DIR = \"../data/pbpdata/\"\n",
    "box_DIR = \"../data/box/\"\n",
    "aio_DIR = \"../data/all_in_one_metrics/\"\n",
    "\n",
    "source = \"pbpstats\""
   ]
  },
  {
   "cell_type": "code",
   "execution_count": null,
   "metadata": {},
   "outputs": [],
   "source": [
    "league = \"NBA\"\n",
    "season = \"2024\"\n",
    "year = season + \"-\" + str(int(season)+1)[-2:]\n",
    "with zstd.open(data_DIR + league+\"_PBPdata_\" + season + \".pkl.zst\",\"rb\") as f:\n",
    "    games_list = dill.load(f)\n",
    "player_dict = get_players_pbp()\n",
    "teams_dict, teams_list = get_teams()\n",
    "len(games_list)"
   ]
  },
  {
   "cell_type": "code",
   "execution_count": null,
   "metadata": {},
   "outputs": [],
   "source": [
    "dfa = []\n",
    "for game in games_list:\n",
    "    df1 = pd.DataFrame(game.boxscore.player_items)\n",
    "    df1[\"game_id\"] = game.game_id\n",
    "    dfa.append(df1)\n",
    "df2 = pd.concat(dfa)"
   ]
  },
  {
   "cell_type": "code",
   "execution_count": null,
   "metadata": {},
   "outputs": [],
   "source": [
    "# df2.columns"
   ]
  },
  {
   "cell_type": "code",
   "execution_count": null,
   "metadata": {},
   "outputs": [],
   "source": [
    "cols = ['game_id','team_id', 'team_abbreviation', 'player_id','name', 'status', 'totsec']\n",
    "df3 = df2[cols]\n",
    "df3 = df3.rename(columns={\"name\":\"Name\"}).reset_index(drop=True)\n",
    "dfm1 = df3.query(\"status == 'I'\").reset_index(drop=True)"
   ]
  },
  {
   "cell_type": "code",
   "execution_count": null,
   "metadata": {},
   "outputs": [],
   "source": [
    "cols2 = ['PLAYER_ID', 'G', 'Minutes', 'LEBRON', 'LEBRON_WAR', 'multiLEBRON',]\n",
    "dflb = pd.read_csv(aio_DIR + \"NBA_LEBRON_\"+ season + \".csv\")\n",
    "dflb = dflb[cols2]\n",
    "dflb = dflb.rename(columns={\"PLAYER_ID\":\"player_id\"})\n",
    "dflb = dflb.dropna()\n",
    "dflb[\"Min\"] = dflb[\"Minutes\"]/dflb[\"G\"]\n",
    "dflb[\"LBWAR_PG\"] = round(dflb[\"LEBRON_WAR\"]/dflb[\"G\"],4)\n",
    "dflm = dflb[[\"player_id\",\"LBWAR_PG\",\"Min\"]]"
   ]
  },
  {
   "cell_type": "code",
   "execution_count": null,
   "metadata": {},
   "outputs": [],
   "source": [
    "dfm = pd.merge(dfm1,dflm,on=\"player_id\")\n",
    "dfm = dfm[~dfm.duplicated(keep=\"last\")].reset_index(drop=True)"
   ]
  },
  {
   "cell_type": "code",
   "execution_count": null,
   "metadata": {},
   "outputs": [],
   "source": [
    "len(dfm)-len(dfm1)"
   ]
  },
  {
   "cell_type": "code",
   "execution_count": null,
   "metadata": {},
   "outputs": [],
   "source": [
    "df0 = pd.read_parquet(box_DIR + f\"NBA_BOX_T_Base_{season}.parquet\")\n",
    "df0= df0[[\"GAME_ID\",\"TEAM_ID\",\"GAME_DATE\",\"MATCHUP\",\"WL\",\"PLUS_MINUS\"]]\n",
    "df0 = df0.rename(columns={\"GAME_ID\":\"game_id\",\"TEAM_ID\":\"team_id\"})"
   ]
  },
  {
   "cell_type": "code",
   "execution_count": null,
   "metadata": {},
   "outputs": [],
   "source": [
    "team = \"IND\"\n",
    "dfmt =  (\n",
    "    dfm\n",
    "    .query(f\"team_abbreviation == '{team}'\")\n",
    "    .groupby([\"Name\"])[[\"Name\",\"LBWAR_PG\",\"Min\"]]\n",
    "    .agg({\"Name\":[\"count\"],\"Min\":[\"sum\"],\"LBWAR_PG\":[\"sum\"]})\n",
    ")\n",
    "dfmt.columns = [\"Games\",\"Min\",\"WAR\"]\n",
    "dfmt = dfmt.sort_values(\"Games\",ascending=False).reset_index()\n",
    "dfmt"
   ]
  },
  {
   "cell_type": "code",
   "execution_count": null,
   "metadata": {},
   "outputs": [],
   "source": [
    "dfmg =  (\n",
    "    dfm\n",
    "    .groupby([\"game_id\",\"team_id\"])[[\"player_id\",\"LBWAR_PG\",\"Min\"]]\n",
    "    .agg({\"player_id\":[\"count\"],\"Min\":[\"sum\"],\"LBWAR_PG\":[\"sum\"]})\n",
    ")\n",
    "dfmg.columns = [\"Games_Missed\",\"Minutes_Missed\",\"LEBRON_WAR_Missed\"]\n",
    "dfmg = dfmg.reset_index()\n",
    "# merge team boxscores to get game details like date and matchup\n",
    "dfmf = pd.merge(df0,dfmg,on=[\"game_id\",\"team_id\"])\n",
    "dfmf[\"Team\"] = dfmf[\"team_id\"].map(teams_dict)\n",
    "dfmf = dfmf.drop(columns=[\"team_id\",\"team_id\"])\n",
    "dfmf.insert(1,\"Team\",dfmf.pop(\"Team\"))\n",
    "df_x = dfmf.groupby(\"Team\").agg({\"Games_Missed\":[\"sum\"],\"Minutes_Missed\":[\"sum\"],\"LEBRON_WAR_Missed\":[\"sum\"]})\n",
    "df_x.columns = [\"Games_Missed\",\"Minutes_Missed\",\"LEBRON_WAR_Missed\"]\n",
    "df_x = (df_x\n",
    "        .reset_index()\n",
    "        .sort_values(\"LEBRON_WAR_Missed\",ascending=False)\n",
    "        .reset_index(drop=True)\n",
    "    )\n",
    "df_x[\"LEBRON_WAR_Missed\"] = df_x[\"LEBRON_WAR_Missed\"].round(2)\n",
    "df_x[\"Minutes_Missed\"] = df_x[\"Minutes_Missed\"].astype(int)\n",
    "df_x[\"image\"]= df_x[\"Team\"]\n",
    "df_x.insert(0,\"image\",df_x.pop(\"image\"))"
   ]
  },
  {
   "cell_type": "code",
   "execution_count": null,
   "metadata": {},
   "outputs": [],
   "source": [
    "data = df_x.reset_index()\n",
    "data[\"index\"] +=1\n",
    "t = (\n",
    "        GT(data)\n",
    "        .tab_header(\n",
    "            title = md(\"**NBA WAR Missed Leaderboard 2024-25**\"),\n",
    "            subtitle = md(\"Players listed as Inactive: Missed the game<br />WAR calculated using LEBRON\")  \n",
    "        )\n",
    "        .tab_source_note(source_note=\"bsky:@sradjoker.cc | x:@SravanNBA | source: bball-index, pbpstats\")\n",
    "        .cols_label(\n",
    "            index = \"#\",\n",
    "            image = \"\",\n",
    "            Games_Missed = \"Games Missed\",\n",
    "            Minutes_Missed = \"Minutes Missed\",\n",
    "            LEBRON_WAR_Missed=\"LEBRON WAR\"\n",
    "        )\n",
    "        .data_color(\n",
    "            columns=['Games_Missed','Minutes_Missed','LEBRON_WAR_Missed'],\n",
    "            palette=\"RdYlGn\",\n",
    "            reverse=\"True\"\n",
    "        )\n",
    "        .fmt_image(\n",
    "            columns=\"image\",\n",
    "            path = img_DIR_T,\n",
    "            file_pattern=\"{}.png\"\n",
    "        )\n",
    "        .cols_align(align=\"center\")\n",
    "        .cols_align(align=\"left\", columns=\"Team\")\n",
    "        .tab_options(\n",
    "            heading_title_font_size=\"150%\",\n",
    "            heading_subtitle_font_size=\"110%\",\n",
    "            # heading_title_font_weight='bold',\n",
    "            table_background_color=\"floralwhite\",\n",
    "            column_labels_font_size=\"105%\",\n",
    "            column_labels_font_weight='bold',\n",
    "            row_group_font_weight='bold',\n",
    "            row_group_background_color=\"#E5E1D8\",\n",
    "            table_font_size=10,\n",
    "            table_font_names=\"Consolas\", \n",
    "            data_row_padding = \"0.5px\",\n",
    "            # table_margin_left = 7,\n",
    "            # table_margin_right = 0,\n",
    "        )\n",
    "    )\n",
    "t.save(fig_DIR + f\"NBA_WAR_Missed_{season}.png\",scale=3,web_driver=\"firefox\")\n",
    "t"
   ]
  },
  {
   "cell_type": "code",
   "execution_count": null,
   "metadata": {},
   "outputs": [],
   "source": [
    "df_teams = pd.read_csv(\"../data/\" + \"NBA_teams_colors_logos.csv\")\n",
    "df_teams[\"Team\"] = df_teams[\"nameTeam\"]\n",
    "df_teams = df_teams[[\"Team\",\"colorsTeam\"]]\n",
    "df_y = pd.merge(df_x, df_teams, on=\"Team\")"
   ]
  },
  {
   "cell_type": "code",
   "execution_count": null,
   "metadata": {},
   "outputs": [],
   "source": [
    "df_avg = df_y.iloc[:,2:-1].mean()\n",
    "df_avg = pd.DataFrame(df_avg).T\n",
    "df_avg[\"Games_Missed\"] = df_avg[\"Games_Missed\"].round(0)\n",
    "df_avg[\"Minutes_Missed\"] = df_avg[\"Minutes_Missed\"].round(1)\n",
    "df_avg[\"LEBRON_WAR_Missed\"] = df_avg[\"LEBRON_WAR_Missed\"].round(2)\n",
    "df_avg[\"Team\"] = \"League Average\"\n",
    "df_avg[\"colorsTeam\"]  = \"#000000\""
   ]
  },
  {
   "cell_type": "code",
   "execution_count": null,
   "metadata": {},
   "outputs": [],
   "source": [
    "df_z = pd.concat([df_y,df_avg]).sort_values(\"LEBRON_WAR_Missed\",ascending=False).reset_index(drop=True)"
   ]
  },
  {
   "cell_type": "code",
   "execution_count": null,
   "metadata": {},
   "outputs": [],
   "source": [
    "teams = df_z[\"Team\"].to_list()\n",
    "teams.reverse()\n",
    "df_z[\"image\"]= img_DIR_T + df_z[\"Team\"] + \".png\"\n",
    "df_z[\"Team\"] = pd.Categorical(df_z['Team'], categories=teams)"
   ]
  },
  {
   "cell_type": "code",
   "execution_count": null,
   "metadata": {},
   "outputs": [],
   "source": [
    "from plotnine import theme_classic"
   ]
  },
  {
   "cell_type": "code",
   "execution_count": null,
   "metadata": {},
   "outputs": [],
   "source": [
    "df = df_z\n",
    "lb_mean = df[\"LEBRON_WAR_Missed\"].mean()\n",
    "lb_mean = round(lb_mean,2)\n",
    "# df1 = df.copy()\n",
    "# df1[\"LEBRON_WAR_Missed\"] = df1[\"LEBRON_WAR_Missed\"] - lb_mean\n",
    "# df1[\"LEBRON_WAR_Missed\"] = df1[\"LEBRON_WAR_Missed\"].round(3)\n",
    "p = (\n",
    "    ggplot(df, aes(x='Team', y='LEBRON_WAR_Missed', image=\"image\"))\n",
    "    + geom_bar(aes(fill=\"colorsTeam\"),stat=\"identity\", alpha=0.9,show_legend=False)\n",
    "    + coord_flip()\n",
    "    + scale_color_identity(aesthetics=[\"fill\"])\n",
    "    + scale_y_continuous(breaks=np.arange(0,8,1))\n",
    "    + geom_image(aes(y=-0.2), size=0.05)\n",
    "    + geom_hline(yintercept=lb_mean, linetype=\"dashed\")\n",
    "    # + theme_538(base_size=12)\n",
    "    + theme_classic(base_size=12)\n",
    "    + theme(\n",
    "        figure_size=(10,10),\n",
    "        plot_title=element_text(size=20, weight=\"bold\"),\n",
    "    )\n",
    "    + labs(\n",
    "        title=\"LEBRON WAR Missed as of \"+ datetime.today().strftime(\"%Y-%m-%d\"),\n",
    "        subtitle=f\"Players missing the game due to being Inactive\",\n",
    "        caption=\"bsky:@sradjoker.cc | x:@SravanNBA | Source: pbpstats, bball-index\",\n",
    "        y= \"LEBRON WAR Missed\",\n",
    "        x=\"\",\n",
    "    )\n",
    ")\n",
    "p.save(fig_DIR + f\"LEBRON_WAR_Missed_{season}\",dpi=300,verbose=False)\n",
    "p"
   ]
  },
  {
   "cell_type": "code",
   "execution_count": null,
   "metadata": {},
   "outputs": [],
   "source": [
    "lb_mean"
   ]
  }
 ],
 "metadata": {
  "kernelspec": {
   "display_name": "dav-ub9Z_EQq-py3.12",
   "language": "python",
   "name": "python3"
  },
  "language_info": {
   "codemirror_mode": {
    "name": "ipython",
    "version": 3
   },
   "file_extension": ".py",
   "mimetype": "text/x-python",
   "name": "python",
   "nbconvert_exporter": "python",
   "pygments_lexer": "ipython3",
   "version": "3.12.0"
  }
 },
 "nbformat": 4,
 "nbformat_minor": 2
}
