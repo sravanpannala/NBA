{
 "cells": [
  {
   "cell_type": "markdown",
   "metadata": {},
   "source": [
    "Westbrook:defensive rebound to an unassisted basket within five seconds and within three feet of the rim  \n",
    "Unseld: defensive rebound to an assist within three seconds and within three feet of the rim  \n",
    "Chase-down: block within five seconds of a possession change and within five feet of the rim  "
   ]
  },
  {
   "cell_type": "code",
   "execution_count": null,
   "metadata": {},
   "outputs": [],
   "source": [
    "import os, sys\n",
    "sys.path.append(os.path.dirname(os.path.dirname(os.path.abspath(\"__file__\"))))\n",
    "from nbafuns import *\n",
    "from pbpstats.resources.enhanced_pbp import Foul\n",
    "from pbpstats.resources.enhanced_pbp import Turnover\n",
    "from pbpstats.resources.enhanced_pbp import FieldGoal\n",
    "from pbpstats.resources.enhanced_pbp import Rebound\n",
    "import gzip\n",
    "import dill as pickle\n",
    "from time import perf_counter\n",
    "\n",
    "fig_DIR = \"../figs/pbp_related/\"\n",
    "source = \"pbpstats\""
   ]
  },
  {
   "cell_type": "code",
   "execution_count": null,
   "metadata": {},
   "outputs": [],
   "source": [
    "league = \"NBA\"\n",
    "year = 2022\n",
    "season_type = \"Regular Season\"\n",
    "if league == \"NBA\":\n",
    "    season = str(year)+'-'+str(year+1)[-2:]\n",
    "else:\n",
    "    season = str(year)\n",
    "player_dict = get_players_pbp(league = league) # Creating Player Dictionary\n",
    "team_dict = teams.get_teams() # Creating Team Dictionary\n",
    "# t0 = perf_counter()\n",
    "# games_id = pbp_season(league=league,season_yr=str(year),season_type=season_type)\n",
    "# games_list = pbp_games(games_id)\n",
    "# t1 = perf_counter()\n",
    "fp=gzip.open(f\"{league}_{year}_PBP.data.gz\",'rb') # This assumes that primes.data is already packed with gzip\n",
    "games_list=pickle.load(fp)\n",
    "fp.close()\n",
    "# t2 = perf_counter()\n",
    "# print(t1-t0)\n",
    "# print(t2-t1)"
   ]
  },
  {
   "cell_type": "code",
   "execution_count": null,
   "metadata": {},
   "outputs": [],
   "source": [
    "# years = [2017,2018,2019,2020,2021,2022,2023]\n",
    "# games_list = []\n",
    "# for year in years:\n",
    "#     games_id = pbp_season(league=league,season_yr=str(year),season_type=season_type)\n",
    "#     games_list1 = pbp_games(games_id)\n",
    "#     games_list += games_list1\n",
    "#     fp.close()"
   ]
  },
  {
   "cell_type": "markdown",
   "metadata": {},
   "source": [
    "# Chasedown Blocks"
   ]
  },
  {
   "cell_type": "code",
   "execution_count": null,
   "metadata": {},
   "outputs": [],
   "source": [
    "t = 5\n",
    "dist = 5\n",
    "pos_store,Block_pID,FGA_pID = [],[],[]\n",
    "for game in tqdm(games_list):\n",
    "    for possession in game.possessions.items:\n",
    "        for possession_event in possession.events:\n",
    "            if (isinstance(possession_event, FieldGoal) and not possession_event.is_made) and possession_event.is_blocked  and possession_event.seconds_since_previous_event <= t and possession_event.distance<=dist :\n",
    "                        if isinstance(possession_event.previous_event, Rebound) and possession_event.previous_event.oreb:\n",
    "                              pass\n",
    "                        else:\n",
    "                            pos_store.append(possession)\n",
    "                            Block_pID.append(possession_event.player3_id)\n",
    "                            FGA_pID.append(possession_event.player1_id)"
   ]
  },
  {
   "cell_type": "code",
   "execution_count": null,
   "metadata": {},
   "outputs": [],
   "source": [
    "data_cb = rank_data_pbp(Block_pID,player_dict,team_dict,sort=\"Player\",var=\"BLK\")"
   ]
  },
  {
   "cell_type": "code",
   "execution_count": null,
   "metadata": {},
   "outputs": [],
   "source": [
    "title = \"Chasedown Blocks \" + season\n",
    "footer = \" \"\n",
    "fig = plot_table_rank(data_cb,\"BLK\",title=title,footer=footer,source=\"pbpstats\")\n",
    "fig.write_image(fig_DIR+f\"{league}_chasedown_{year}.png\", scale=3)"
   ]
  }
 ],
 "metadata": {
  "kernelspec": {
   "display_name": ".venv",
   "language": "python",
   "name": "python3"
  },
  "language_info": {
   "codemirror_mode": {
    "name": "ipython",
    "version": 3
   },
   "file_extension": ".py",
   "mimetype": "text/x-python",
   "name": "python",
   "nbconvert_exporter": "python",
   "pygments_lexer": "ipython3",
   "version": "3.9.7"
  }
 },
 "nbformat": 4,
 "nbformat_minor": 2
}
