{
 "cells": [
  {
   "cell_type": "code",
   "execution_count": null,
   "metadata": {},
   "outputs": [],
   "source": [
    "import os, sys\n",
    "\n",
    "sys.path.append(os.path.dirname(os.path.dirname(os.path.abspath(\"__file__\"))))\n",
    "from nbafuns import *\n",
    "\n",
    "fig_DIR = \"../figs/pbp_related/\"\n",
    "img_DIR_P = \"../data/images/players/\"\n",
    "data_DIR = \"../data/pbpdata/\"\n",
    "box_DIR = \"../data/box/\"\n",
    "export_DIR = \"./fdata/\"\n",
    "source = \"pbpstats\""
   ]
  },
  {
   "cell_type": "code",
   "execution_count": null,
   "metadata": {},
   "outputs": [],
   "source": [
    "league = \"NBA\"\n",
    "season = \"2024\"\n",
    "year = season + \"-\" + str(int(season)+1)[-2:]\n",
    "with zstd.open(data_DIR + league+\"_PBPdata_\" + season + \".pkl.zst\",\"rb\") as f:\n",
    "    games_list = dill.load(f)"
   ]
  },
  {
   "cell_type": "code",
   "execution_count": null,
   "metadata": {},
   "outputs": [],
   "source": [
    "box1 = pd.read_parquet(box_DIR + league + \"_Box_T_Base_\" + season + \".parquet\")\n",
    "box1 = pd.read_parquet(box_DIR + league + \"_Box_T_Base_\" + season + \".parquet\")\n",
    "box1.columns = map(str.lower,box1.columns)"
   ]
  },
  {
   "cell_type": "code",
   "execution_count": null,
   "metadata": {},
   "outputs": [],
   "source": [
    "box1.query(f\"game_id == '{id}'\")"
   ]
  },
  {
   "cell_type": "code",
   "execution_count": null,
   "metadata": {},
   "outputs": [],
   "source": [
    "box = pd.read_parquet(box_DIR + league + \"_Box_T_Base_\" + season + \".parquet\")\n",
    "box.columns = map(str.lower,box.columns)\n",
    "box.loc[box.query(f\"game_id == '0022400633' & team_id == 1610612759\").index,\"matchup\"] = \"SAS vs. IND\"\n",
    "box.loc[box.query(f\"game_id == '0022400621' & team_id == 1610612754\").index,\"matchup\"] = \"IND vs. SAS\"\n",
    "box.loc[box.query(f\"game_id == '0022400147' & team_id == 1610612764\").index,\"matchup\"] = \"WAS vs. MIA\"\n",
    "box.loc[box.query(f\"game_id == '0022401229' & team_id == 1610612749\").index,\"matchup\"] = \"MIL vs. ATL\"\n",
    "box.loc[box.query(f\"game_id == '0022401230' & team_id == 1610612760\").index,\"matchup\"] = \"OKC vs. HOU\"\n",
    "box.loc[box.query(f\"game_id == '0022401229' & team_id == 1610612749\").index,\"matchup\"] = \"MIL vs. ATL\"\n",
    "box.loc[box.query(f\"game_id == '0022401229' & team_id == 1610612749\").index,\"matchup\"] = \"MIL vs. ATL\"\n",
    "\n",
    "\n",
    "box = box.loc[box[\"matchup\"].str.contains(\" vs. \")]\n",
    "# box[\"matchup\"] = box[\"matchup\"].str.replace(\" \",\"\")\n",
    "box[\"matchup\"] = box[\"matchup\"].str.split(\" vs. \",expand=True)[1]\n",
    "box = box.rename(columns={\"team_abbreviation\":\"home\", \"matchup\":\"away\"})\n",
    "box = box[[\"game_id\",\"team_id\",\"game_date\",\"home\",\"away\"]]\n",
    "box = box.reset_index(drop=True)"
   ]
  },
  {
   "cell_type": "code",
   "execution_count": null,
   "metadata": {},
   "outputs": [],
   "source": [
    "# box = box[[\"GAME_ID\",\"TEAM_ID\"]].rename(columns={\"GAME_ID\":\"game_id\",\"TEAM_ID\":\"tidh\"})\n",
    "for game in games_list:\n",
    "    id = game.game_id\n",
    "    game.boxscore.team_home = box.query(f\"game_id == '{id}'\").iloc[0,1]\n",
    "player_dict = get_players_pbp(league=league)  # Creating Player Dictionary\n",
    "team_dict = nba_teams.get_teams()  # Creating Team Dictionary"
   ]
  },
  {
   "cell_type": "code",
   "execution_count": null,
   "metadata": {},
   "outputs": [],
   "source": [
    "poss_list, points, poss_store = [], [], []\n",
    "for game in tqdm(games_list):\n",
    "    hmscr, rdscr = [], []\n",
    "    tems = list(game.possessions.items[0].events[0].current_players.keys())\n",
    "    tidh = game.boxscore.team_home\n",
    "    for t in tems:\n",
    "        if t!=tidh:\n",
    "            game.boxscore.team_away = t\n",
    "    game.boxscore.game_id = game.game_id\n",
    "    game.boxscore.hpc = 0\n",
    "    game.boxscore.apc = 0\n",
    "    for possession in game.possessions.items:\n",
    "        for possession_event in possession.events:\n",
    "            if possession_event.count_as_possession:\n",
    "                off_id = possession_event.get_offense_team_id()\n",
    "                if tidh == off_id:\n",
    "                    game.boxscore.hpc+=1\n",
    "                else:\n",
    "                    game.boxscore.apc+=1"
   ]
  },
  {
   "cell_type": "code",
   "execution_count": null,
   "metadata": {},
   "outputs": [],
   "source": [
    "boxscores = []\n",
    "for game in tqdm(games_list):\n",
    "    bb = game.boxscore\n",
    "    boxscores.append([bb.game_id,bb.team_home,bb.team_away,bb.hpc,bb.apc])"
   ]
  },
  {
   "cell_type": "code",
   "execution_count": null,
   "metadata": {},
   "outputs": [],
   "source": [
    "df1 =  pd.DataFrame(boxscores,columns=[\"game_id\",'tid_home',\"tid_away\",\"poss_off_home\",\"poss_def_home\"])\n",
    "df2 = pd.merge(box,df1)\n",
    "df2.to_csv(\"../data/share/\"+ \"NBA_poss_counts_v2_2024.csv\")"
   ]
  },
  {
   "cell_type": "code",
   "execution_count": null,
   "metadata": {},
   "outputs": [],
   "source": []
  }
 ],
 "metadata": {
  "kernelspec": {
   "display_name": "dav-ub9Z_EQq-py3.12",
   "language": "python",
   "name": "python3"
  },
  "language_info": {
   "codemirror_mode": {
    "name": "ipython",
    "version": 3
   },
   "file_extension": ".py",
   "mimetype": "text/x-python",
   "name": "python",
   "nbconvert_exporter": "python",
   "pygments_lexer": "ipython3",
   "version": "3.12.0"
  }
 },
 "nbformat": 4,
 "nbformat_minor": 2
}
