{
 "cells": [
  {
   "cell_type": "markdown",
   "metadata": {},
   "source": [
    "# Code to analyze pbp data for fouls, assists etc"
   ]
  },
  {
   "cell_type": "code",
   "execution_count": null,
   "metadata": {},
   "outputs": [],
   "source": [
    "import os, sys\n",
    "sys.path.append(os.path.dirname(os.path.dirname(os.path.abspath(\"__file__\"))))\n",
    "from nbafuns import *\n",
    "from pbpstats.resources.enhanced_pbp import Foul\n",
    "from pbpstats.resources.enhanced_pbp import Turnover\n",
    "from pbpstats.resources.enhanced_pbp import FieldGoal\n",
    "from pbpstats.resources.enhanced_pbp import Rebound\n",
    "\n",
    "fig_DIR = \"../figs/pbp_related/\""
   ]
  },
  {
   "cell_type": "code",
   "execution_count": null,
   "metadata": {},
   "outputs": [],
   "source": [
    "league = \"NBA\"\n",
    "year = 2022\n",
    "season_type = \"Regular Season\"\n",
    "if league == \"NBA\":\n",
    "    season = str(year)+'-'+str(year+1)[-2:]\n",
    "else:\n",
    "    season = str(year)\n",
    "player_dict = get_players_pbp(league = league) # Creating Player Dictionary\n",
    "team_dict = teams.get_teams() # Creating Team Dictionary\n",
    "games_id = pbp_season(league=league,season_yr=str(year),season_type=season_type)\n",
    "games_list = pbp_games(games_id)"
   ]
  },
  {
   "cell_type": "markdown",
   "metadata": {},
   "source": [
    "# Frustration Fouls and Euro Fouls"
   ]
  },
  {
   "cell_type": "markdown",
   "metadata": {},
   "source": [
    "## Estimate Euro Fouls"
   ]
  },
  {
   "cell_type": "code",
   "execution_count": 53,
   "metadata": {},
   "outputs": [
    {
     "name": "stderr",
     "output_type": "stream",
     "text": [
      "100%|██████████| 1197/1197 [00:00<00:00, 4903.04it/s]\n"
     ]
    }
   ],
   "source": [
    "pos_store, TO_Miss_pID, Foul_pID,Foul_tID = [], [], [], []\n",
    "# i, ii = 0, 0\n",
    "for game in tqdm(games_list):\n",
    "    for possession in game.possessions.items:\n",
    "        for possession_event in possession.events:\n",
    "            if isinstance(possession_event, Foul) and (isinstance(possession_event.previous_event, Turnover) or  (isinstance(possession_event.previous_event, FieldGoal) and not possession_event.previous_event.is_made)) and possession_event.seconds_since_previous_event <= 5:\n",
    "                pos_store.append(possession)\n",
    "                TO_Miss_pID.append(possession_event.previous_event.player1_id)\n",
    "                # print (\"Turnover/Missed Shot Player: {0}\".format(possession_event.previous_event.player1_id))\n",
    "                Foul_pID.append(possession_event.player1_id)\n",
    "                Foul_tID.append(possession_event.team_id)\n",
    "                # print (\"Foul Player: {0}\".format(possession_event.player1_id))\n",
    "                # ii += 1\n",
    "                # print(\"ii = {0}\".format(ii))\n",
    "    # i += 1\n",
    "    # print(\"i = {0}\".format(i))\n",
    "    # clear_output(wait=True)"
   ]
  },
  {
   "cell_type": "code",
   "execution_count": null,
   "metadata": {},
   "outputs": [],
   "source": [
    "data_euro = rank_data_pbp(Foul_tID,player_dict,team_dict,sort=\"Team\",var=\"Fouls\")"
   ]
  },
  {
   "cell_type": "markdown",
   "metadata": {},
   "source": [
    "## Estimate Frustration Fouls"
   ]
  },
  {
   "cell_type": "code",
   "execution_count": null,
   "metadata": {},
   "outputs": [],
   "source": [
    "FFoul_pID =[]\n",
    "for i in range(len(TO_Miss_pID)):\n",
    "    if TO_Miss_pID[i] == Foul_pID[i]:\n",
    "        FFoul_pID.append(Foul_pID[i])"
   ]
  },
  {
   "cell_type": "code",
   "execution_count": null,
   "metadata": {},
   "outputs": [],
   "source": [
    "data_frust = rank_data_pbp(FFoul_pID,player_dict,team_dict,sort=\"Player\",var=\"Fouls\")"
   ]
  },
  {
   "cell_type": "code",
   "execution_count": null,
   "metadata": {},
   "outputs": [],
   "source": [
    "title = \"Frustration Fouls \"+season\n",
    "fig = plot_table_rank(data_frust,\"Fouls\",sort=\"Player\",title=title,col_width=15)\n",
    "fig.write_image(fig_DIR+f\"{league}_frust_foul_{year}.png\", scale=3)"
   ]
  },
  {
   "cell_type": "code",
   "execution_count": null,
   "metadata": {},
   "outputs": [],
   "source": [
    "title = \"Euro Fouls \"+season\n",
    "fig = plot_table_rank(data_euro,\"Fouls\",sort=\"Team\",title=title,col_width=15)\n",
    "fig.write_image(fig_DIR+f\"{league}_euro_foul_{year}.png\", scale=3)"
   ]
  },
  {
   "cell_type": "markdown",
   "metadata": {},
   "source": [
    "# Coast to Coast Analysis"
   ]
  },
  {
   "cell_type": "markdown",
   "metadata": {},
   "source": [
    "In basketball we say that whenever someone grabs a rebound, dribbles the ball up the court quickly and scores the basket, that the player is going coast to coast.\n",
    "I came up with a method to estimate these events. I divide these events into two, coast-to-coast buckets i.e. when the player scores by themselves and coast-to-coast assists i.e when the player assists another player to score the ball. I have slightly different criterion for these two events.\n",
    "For coast to coast buckets I have a cutoff of 8 seconds i.e. the player has to score within 8 secs of grabbing the rebound.\n",
    "For coast-to-coast assists I have a slightly stringent cutoff of 5 secs. This is because the ball moves faster than the man and having higher cutoff means that the data is noisy."
   ]
  },
  {
   "cell_type": "markdown",
   "metadata": {},
   "source": [
    "## Coast to Coast Assists"
   ]
  },
  {
   "cell_type": "code",
   "execution_count": null,
   "metadata": {},
   "outputs": [],
   "source": [
    "ast_time = 5\n",
    "pos_store, Rebound_pID, Assist_pID = [],[],[]\n",
    "i, ii = 0, 0\n",
    "for game in tqdm(games_list):\n",
    "    for possession in game.possessions.items:\n",
    "        for possession_event in possession.events:\n",
    "            if (isinstance(possession_event, FieldGoal) and possession_event.is_made and possession_event.is_assisted) and (isinstance(possession_event.previous_event, Rebound)) and possession_event.seconds_since_previous_event <= ast_time:\n",
    "                if possession_event.previous_event.player1_id == possession_event.player2_id:\n",
    "                    if not possession_event.previous_event.oreb :\n",
    "                        pos_store.append(possession)\n",
    "                        Rebound_pID.append(possession_event.previous_event.player1_id)\n",
    "                        Assist_pID.append(possession_event.player2_id)\n"
   ]
  },
  {
   "cell_type": "code",
   "execution_count": null,
   "metadata": {},
   "outputs": [],
   "source": [
    "data_ca = rank_data_pbp(Assist_pID,player_dict,team_dict,sort=\"Player\",var=\"AST\")"
   ]
  },
  {
   "cell_type": "markdown",
   "metadata": {},
   "source": [
    "## Coast to Coast Buckets"
   ]
  },
  {
   "cell_type": "code",
   "execution_count": null,
   "metadata": {},
   "outputs": [],
   "source": [
    "buck_time = 8\n",
    "pos_store,Rebound_pID,FGM_pID = [],[],[]\n",
    "for game in tqdm(games_list):\n",
    "    for possession in game.possessions.items:\n",
    "        for possession_event in possession.events:\n",
    "            if (isinstance(possession_event, FieldGoal) and possession_event.is_made and not possession_event.is_assisted) and (isinstance(possession_event.previous_event, Rebound)) and possession_event.seconds_since_previous_event <= buck_time:\n",
    "                if possession_event.previous_event.player1_id == possession_event.player1_id:\n",
    "                    if not possession_event.previous_event.oreb :\n",
    "                        pos_store.append(possession)\n",
    "                        Rebound_pID.append(possession_event.previous_event.player1_id)\n",
    "                        FGM_pID.append(possession_event.player1_id)"
   ]
  },
  {
   "cell_type": "code",
   "execution_count": null,
   "metadata": {},
   "outputs": [],
   "source": [
    "data_cb = rank_data_pbp(FGM_pID,player_dict,team_dict,sort=\"Player\",var=\"FGM\")"
   ]
  },
  {
   "cell_type": "code",
   "execution_count": null,
   "metadata": {},
   "outputs": [],
   "source": [
    "title = \"Coast to Coast Buckets \" + season\n",
    "footer = \"Player scores within 8s of grabbing rebound\"\n",
    "fig = plot_table_rank(data_cb,\"FGM\",title=title,title_shift=0.02,title_font=14,footer=footer,col_width=15)\n",
    "fig.write_image(fig_DIR+f\"{league}_coast_buckets_{year}.png\", scale=3)"
   ]
  },
  {
   "cell_type": "code",
   "execution_count": null,
   "metadata": {},
   "outputs": [],
   "source": [
    "title = \"Coast to Coast Assists \" + season\n",
    "footer = \"Player assists within 5s of grabbing rebound\"\n",
    "fig = plot_table_rank(data_ca,\"AST\",title=title,footer=footer,col_width=15)\n",
    "fig.write_image(fig_DIR+f\"{league}_coast_assists_{year}.png\", scale=3)"
   ]
  },
  {
   "cell_type": "markdown",
   "metadata": {},
   "source": [
    "# Assists after Offensive rebounds"
   ]
  },
  {
   "cell_type": "code",
   "execution_count": null,
   "metadata": {},
   "outputs": [],
   "source": [
    "ast_time = 14\n",
    "pos_store, Rebound_pID, Assist_pID = [], [], []\n",
    "for game in tqdm(games_list):\n",
    "    for possession in game.possessions.items:\n",
    "        for possession_event in possession.events:\n",
    "            if (isinstance(possession_event, FieldGoal) and possession_event.is_made and possession_event.is_assisted) and (isinstance(possession_event.previous_event, Rebound)):\n",
    "                if possession_event.previous_event.player1_id == possession_event.player2_id:\n",
    "                    if possession_event.previous_event.oreb :\n",
    "                        pos_store.append(possession)\n",
    "                        Rebound_pID.append(possession_event.previous_event.player1_id)\n",
    "                        Assist_pID.append(possession_event.player2_id)"
   ]
  },
  {
   "cell_type": "code",
   "execution_count": null,
   "metadata": {},
   "outputs": [],
   "source": [
    "data_oa = rank_data_pbp(Assist_pID,player_dict,team_dict,sort=\"Player\",var=\"AST\")"
   ]
  },
  {
   "cell_type": "code",
   "execution_count": null,
   "metadata": {},
   "outputs": [],
   "source": [
    "title = \"Off Reb Assists \" + season\n",
    "footer = \"Player assists after grabbing off rebound\"\n",
    "fig = plot_table_rank(data_oa,\"AST\",title=title,footer=footer,col_width=15)\n",
    "fig.write_image(fig_DIR+f\"{league}_oreb_assists_{year}.png\", scale=3)"
   ]
  }
 ],
 "metadata": {
  "interpreter": {
   "hash": "761d0843975b951240ed3f8c006d1f1501cd2a4c66c1dd99cea9ed75b2c1e460"
  },
  "kernelspec": {
   "display_name": "Python 3.9.7 64-bit ('nba-dIF8YUVF-py3.9': poetry)",
   "name": "python3"
  },
  "language_info": {
   "codemirror_mode": {
    "name": "ipython",
    "version": 3
   },
   "file_extension": ".py",
   "mimetype": "text/x-python",
   "name": "python",
   "nbconvert_exporter": "python",
   "pygments_lexer": "ipython3",
   "version": "3.9.7"
  },
  "orig_nbformat": 2
 },
 "nbformat": 4,
 "nbformat_minor": 2
}
