{
 "cells": [
  {
   "cell_type": "code",
   "execution_count": null,
   "metadata": {},
   "outputs": [],
   "source": [
    "import os, sys\n",
    "\n",
    "sys.path.append(os.path.dirname(os.path.dirname(os.path.abspath(\"__file__\"))))\n",
    "from nbafuns import *\n",
    "\n",
    "fig_DIR = \"../figs/pbp_related/\"\n",
    "data_DIR = \"../data/pbpdata/\"\n",
    "source = \"pbpstats\"\n",
    "exp_DIR = \"../data/misc/\"\n",
    "box_DIR = \"../data/box/\"\n",
    "\n",
    "from pbpstats.resources.enhanced_pbp import Timeout"
   ]
  },
  {
   "cell_type": "code",
   "execution_count": null,
   "metadata": {},
   "outputs": [],
   "source": [
    "league = \"NBA\"\n",
    "season = \"2023\"\n",
    "year = season + \"-\" + str(int(season)+1)[-2:]\n",
    "with zstd.open(data_DIR + league+\"_PBPdata_\" + season + \".pkl.zst\",\"rb\") as f:\n",
    "    games_list = dill.load(f)\n",
    "player_dict = get_players_pbp(league=league)  # Creating Player Dictionary\n",
    "team_dict, team_list = get_teams(league=league)  # Creating Team Dictionary"
   ]
  },
  {
   "cell_type": "code",
   "execution_count": null,
   "metadata": {},
   "outputs": [],
   "source": [
    "dft = pd.read_parquet(box_DIR + \"NBA_Box_T_Base_\" + season + \".parquet\")"
   ]
  },
  {
   "cell_type": "code",
   "execution_count": null,
   "metadata": {},
   "outputs": [],
   "source": [
    "df_bucks = dft.query(\"TEAM_ABBREVIATION == 'MIL'\").reset_index()"
   ]
  },
  {
   "cell_type": "code",
   "execution_count": null,
   "metadata": {},
   "outputs": [],
   "source": [
    "bf_glenn = df_bucks[\"GAME_ID\"].iloc[:46].to_list()\n",
    "af_glenn = df_bucks[\"GAME_ID\"].iloc[46:].to_list()"
   ]
  },
  {
   "cell_type": "code",
   "execution_count": null,
   "metadata": {},
   "outputs": [],
   "source": [
    "df_ft = pd.read_parquet(box_DIR + \"NBA_Box_P_Cum_Base_\" + season + \".parquet\", columns = [\"PLAYER_ID\",\"FT_PCT\"])\n",
    "df_ft = df_ft.set_index(\"PLAYER_ID\")\n",
    "ft_dict = df_ft.to_dict()\n",
    "ft_dict = ft_dict[\"FT_PCT\"]"
   ]
  },
  {
   "cell_type": "code",
   "execution_count": null,
   "metadata": {},
   "outputs": [],
   "source": [
    "games_list_bf = [game for game in games_list  if game.game_id in bf_glenn]\n",
    "games_list_af = [game for game in games_list  if game.game_id in af_glenn]"
   ]
  },
  {
   "cell_type": "code",
   "execution_count": null,
   "metadata": {},
   "outputs": [],
   "source": [
    "len(games_list_bf)"
   ]
  },
  {
   "cell_type": "code",
   "execution_count": null,
   "metadata": {},
   "outputs": [],
   "source": [
    "possessions = [game.possessions.items for game in games_list_af]\n",
    "possession_events = list(chain(*[possession.events for possession in list(chain(*possessions))]))"
   ]
  },
  {
   "cell_type": "code",
   "execution_count": null,
   "metadata": {},
   "outputs": [],
   "source": [
    "poss = []\n",
    "idx = []\n",
    "for i,possession_event in enumerate(possession_events):\n",
    "    if (\n",
    "        isinstance(possession_event, Timeout)\n",
    "    ):\n",
    "        idx.append(i)\n",
    "idx.append(len(possession_events))"
   ]
  },
  {
   "cell_type": "code",
   "execution_count": null,
   "metadata": {},
   "outputs": [],
   "source": [
    "idxi = []\n",
    "idxj = []\n",
    "for j in range(len(idx)-1):\n",
    "    for ii in range(idx[j]+1,idx[j+1]):\n",
    "        poss = possession_events[ii]\n",
    "        if ((isinstance(poss, FieldGoal)) or (isinstance(poss, Turnover))) or (isinstance(poss, Foul) and poss.is_shooting_foul):\n",
    "            idxi.append(ii)\n",
    "            idxj.append(idx[j])\n",
    "            break"
   ]
  },
  {
   "cell_type": "code",
   "execution_count": null,
   "metadata": {},
   "outputs": [],
   "source": [
    "i = 20\n",
    "poss1 = possession_events[idxj[i]] \n",
    "poss2 = possession_events[idxi[i]]\n",
    "print(poss1)\n",
    "print(poss2)\n",
    "print(poss2.team_id)"
   ]
  },
  {
   "cell_type": "code",
   "execution_count": null,
   "metadata": {},
   "outputs": [],
   "source": [
    "pts = []\n",
    "team = []\n",
    "possa = []\n",
    "possc = []\n",
    "for i in idxi:\n",
    "    poss = possession_events[i]\n",
    "    \n",
    "    possa.append(poss.description)\n",
    "    if isinstance(poss, FieldGoal):\n",
    "        team.append(poss.team_id)\n",
    "        if poss.is_made:\n",
    "            pts.append(poss.opt1)\n",
    "        else:\n",
    "            pts.append(0)\n",
    "    elif isinstance(poss, Turnover):\n",
    "        team.append(poss.team_id)\n",
    "        pts.append(0)\n",
    "    elif isinstance(poss, Foul):\n",
    "        team.append(poss.offense_team_id)\n",
    "        fta = poss.number_of_fta_for_foul\n",
    "        ftpct = ft_dict[poss.player3_id]\n",
    "        pts.append(fta*ftpct)\n",
    "        possc.append(poss)\n",
    "possb = []\n",
    "for i in idxj:\n",
    "    poss = possession_events[i]\n",
    "    possb.append(poss.description)"
   ]
  },
  {
   "cell_type": "code",
   "execution_count": null,
   "metadata": {},
   "outputs": [],
   "source": [
    "df = pd.DataFrame({\"teamID\":team,\"pts\":pts,\"timeout\":possb,\"desc\":possa})"
   ]
  },
  {
   "cell_type": "code",
   "execution_count": null,
   "metadata": {},
   "outputs": [],
   "source": [
    "df[\"team\"] = df[\"teamID\"].map(team_dict)"
   ]
  },
  {
   "cell_type": "code",
   "execution_count": null,
   "metadata": {},
   "outputs": [],
   "source": [
    "df = df[[\"team\",\"pts\"]]"
   ]
  },
  {
   "cell_type": "code",
   "execution_count": null,
   "metadata": {},
   "outputs": [],
   "source": [
    "dfg = df.groupby(\"team\")[[\"pts\"]].agg({\"pts\":[\"count\",\"sum\"]})"
   ]
  },
  {
   "cell_type": "code",
   "execution_count": null,
   "metadata": {},
   "outputs": [],
   "source": [
    "dfg = dfg.reset_index()\n",
    "dfg.columns = [\"team\",\"poss\",\"pts\"]"
   ]
  },
  {
   "cell_type": "code",
   "execution_count": null,
   "metadata": {},
   "outputs": [],
   "source": [
    "dfg[\"ORtg\"] = round(dfg[\"pts\"]/dfg[\"poss\"],2)"
   ]
  },
  {
   "cell_type": "code",
   "execution_count": null,
   "metadata": {},
   "outputs": [],
   "source": [
    "dfg = dfg.sort_values(by=[\"ORtg\"],ascending=False).reset_index(drop=True)\n",
    "dfg.index +=1"
   ]
  },
  {
   "cell_type": "code",
   "execution_count": null,
   "metadata": {},
   "outputs": [],
   "source": [
    "dfg"
   ]
  }
 ],
 "metadata": {
  "kernelspec": {
   "display_name": "nba-ub9Z_EQq-py3.11",
   "language": "python",
   "name": "python3"
  },
  "language_info": {
   "codemirror_mode": {
    "name": "ipython",
    "version": 3
   },
   "file_extension": ".py",
   "mimetype": "text/x-python",
   "name": "python",
   "nbconvert_exporter": "python",
   "pygments_lexer": "ipython3",
   "version": "3.11.6"
  }
 },
 "nbformat": 4,
 "nbformat_minor": 2
}
