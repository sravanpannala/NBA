{
 "cells": [
  {
   "cell_type": "markdown",
   "metadata": {},
   "source": [
    "# Get Lineup Trends"
   ]
  },
  {
   "cell_type": "code",
   "execution_count": null,
   "metadata": {},
   "outputs": [],
   "source": [
    "import json\n",
    "import requests\n",
    "import pandas as pd\n",
    "import time\n",
    "from tqdm import tqdm\n",
    "\n",
    "export_DIR = \"../data/shiny/\"\n",
    "shiny_export_DIR = \"C:/Users/pansr/Documents/shinyNBA/data/\""
   ]
  },
  {
   "cell_type": "code",
   "execution_count": null,
   "metadata": {},
   "outputs": [],
   "source": [
    "teams_response = requests.get(\"https://api.pbpstats.com/get-teams/nba\")\n",
    "teams = teams_response.json()\n",
    "teams_dict = teams[\"teams\"]\n",
    "df_teams = pd.DataFrame(teams_dict)\n",
    "df_teams = df_teams.rename(columns={\"text\":\"team\"})\n",
    "teams_list = df_teams[\"id\"].to_list()"
   ]
  },
  {
   "cell_type": "code",
   "execution_count": null,
   "metadata": {},
   "outputs": [],
   "source": [
    "dfa = []\n",
    "for year in range(2023,2024):\n",
    "    season = str(year) + '-' + str(year+1)[-2:]\n",
    "    for team in tqdm(teams_list):\n",
    "        url = \"https://api.pbpstats.com/get-team-players-for-season?S\"\n",
    "        params = {\n",
    "            \"Season\": season, # To get for multiple seasons, separate seasons by comma\n",
    "            \"SeasonType\": \"Regular Season\",\n",
    "            \"TeamId\": team,\n",
    "        }\n",
    "        response = requests.get(url, params=params)\n",
    "        response_json = response.json()\n",
    "        players = response_json[\"players\"]\n",
    "        df_players1 = pd.DataFrame.from_dict(players,orient=\"index\",columns=[\"player\"]).reset_index()\n",
    "        df_players1 = df_players1.rename(columns={\"index\":\"id\"})\n",
    "        df_players1[\"team\"] = team\n",
    "        df_players1[\"season\"] = season\n",
    "        time.sleep(0.5)\n",
    "        dfa.append(df_players1)\n"
   ]
  },
  {
   "cell_type": "code",
   "execution_count": null,
   "metadata": {},
   "outputs": [],
   "source": [
    "df_players = pd.concat(dfa)\n",
    "df_players = pd.merge(df_players,df_teams,left_on=\"team\", right_on=\"id\")\n",
    "df_players = df_players.rename(columns={\"id_x\":\"pid\",\"id_y\":\"tid\",\"team_y\":\"team\"})\n",
    "df_players = df_players.drop(columns=[\"team_x\"])"
   ]
  },
  {
   "cell_type": "code",
   "execution_count": null,
   "metadata": {},
   "outputs": [],
   "source": [
    "df_players.to_parquet(export_DIR + \"lineup_data.parquet\")\n",
    "df_players.to_parquet(shiny_export_DIR + \"lineup_data.parquet\")"
   ]
  },
  {
   "cell_type": "code",
   "execution_count": null,
   "metadata": {},
   "outputs": [],
   "source": [
    "dff = df_players.query(f'team == \"ATL\"')"
   ]
  },
  {
   "cell_type": "code",
   "execution_count": null,
   "metadata": {},
   "outputs": [],
   "source": [
    "dff_t = dff[[\"pid\",\"player\"]]\n",
    "dff_t = dff_t.set_index(\"pid\")\n",
    "player_dict = dff_t.to_dict('dict')['player']"
   ]
  },
  {
   "cell_type": "code",
   "execution_count": null,
   "metadata": {},
   "outputs": [],
   "source": [
    "url = \"https://api.pbpstats.com/get-game-logs/nba\"\n",
    "params = {\n",
    "    \"Season\": \"2023-24\", # To get for multiple seasons, separate seasons by comma\n",
    "    \"SeasonType\": \"Regular Season\",\n",
    "    \"EntityId\": \"1626156-1627752-1630559-203076-2544\",\n",
    "    \"EntityType\": \"Lineup\" # Use LineupOpponent to get opponent stats\n",
    "}\n",
    "response = requests.get(url, params=params)\n",
    "response_json = response.json()\n",
    "totals = response_json['single_row_table_data']\n",
    "game_logs = response_json['multi_row_table_data']"
   ]
  },
  {
   "cell_type": "code",
   "execution_count": null,
   "metadata": {},
   "outputs": [],
   "source": [
    "lineup_in = [\"203076\",\"2544\",\"1626156\",\"1627752\",\"1630559\"]"
   ]
  },
  {
   "cell_type": "code",
   "execution_count": null,
   "metadata": {},
   "outputs": [],
   "source": [
    "s = \"\"\n",
    "for ll in lineup_in:\n",
    "    s += ll\n",
    "    s += \"-\"\n",
    "s[:-1]"
   ]
  },
  {
   "cell_type": "code",
   "execution_count": null,
   "metadata": {},
   "outputs": [],
   "source": [
    "df = pd.DataFrame(game_logs)"
   ]
  },
  {
   "cell_type": "code",
   "execution_count": null,
   "metadata": {},
   "outputs": [],
   "source": [
    "def get_game_logs(lineup):\n",
    "    url = \"https://api.pbpstats.com/get-game-logs/nba\"\n",
    "    params = {\n",
    "        \"Season\": \"2023-24\", # To get for multiple seasons, separate seasons by comma\n",
    "        \"SeasonType\": \"Regular Season\",\n",
    "        \"EntityId\": lineup,\n",
    "        \"EntityType\": \"Lineup\" # Use LineupOpponent to get opponent stats\n",
    "    }\n",
    "    response = requests.get(url, params=params)\n",
    "    response_json = response.json()\n",
    "    totals = response_json['single_row_table_data']\n",
    "    game_logs = response_json['multi_row_table_data']\n",
    "    df_gl = pd.DataFrame(game_logs)\n",
    "    return df_gl,totals\n"
   ]
  },
  {
   "cell_type": "code",
   "execution_count": null,
   "metadata": {},
   "outputs": [],
   "source": [
    "df,totals = get_game_logs(\"1627759-1628369-1628401-201950-204001\")"
   ]
  },
  {
   "cell_type": "code",
   "execution_count": null,
   "metadata": {},
   "outputs": [],
   "source": [
    "totals['Minutes']/20"
   ]
  },
  {
   "cell_type": "code",
   "execution_count": null,
   "metadata": {},
   "outputs": [],
   "source": [
    "import datetime as dt"
   ]
  },
  {
   "cell_type": "code",
   "execution_count": null,
   "metadata": {},
   "outputs": [],
   "source": [
    "td = dt.timedelta(minutes=16.05)"
   ]
  },
  {
   "cell_type": "code",
   "execution_count": null,
   "metadata": {},
   "outputs": [],
   "source": [
    "td"
   ]
  },
  {
   "cell_type": "code",
   "execution_count": null,
   "metadata": {},
   "outputs": [],
   "source": [
    "pd.to_datetime(td, format=\"%H:%M:%S\")"
   ]
  },
  {
   "cell_type": "code",
   "execution_count": null,
   "metadata": {},
   "outputs": [],
   "source": [
    "len(df)"
   ]
  },
  {
   "cell_type": "code",
   "execution_count": null,
   "metadata": {},
   "outputs": [],
   "source": [
    "import matplotlib.pyplot as plt"
   ]
  },
  {
   "cell_type": "code",
   "execution_count": null,
   "metadata": {},
   "outputs": [],
   "source": [
    "plot = plt.figure()"
   ]
  },
  {
   "cell_type": "code",
   "execution_count": null,
   "metadata": {},
   "outputs": [],
   "source": [
    "cols_all = list(df.columns)"
   ]
  },
  {
   "cell_type": "code",
   "execution_count": null,
   "metadata": {},
   "outputs": [],
   "source": [
    "cols_all"
   ]
  },
  {
   "cell_type": "code",
   "execution_count": null,
   "metadata": {},
   "outputs": [],
   "source": [
    "cols_all = list(df.columns)\n",
    "cols_remove = []\n",
    "remove_str = ['Penalty','SecondChance','Heave','Lost','BallTurnover','TakeFoul','Excluding','PtRebound','Free Throw','Blocked','ShootingFoulsDrawn','Assisted','ReboundPct']\n",
    "for col in cols_all:\n",
    "    if any(c in col for c in remove_str):\n",
    "        cols_remove.append(col)"
   ]
  },
  {
   "cell_type": "code",
   "execution_count": null,
   "metadata": {},
   "outputs": [],
   "source": [
    "len(cols_remove)"
   ]
  },
  {
   "cell_type": "code",
   "execution_count": null,
   "metadata": {},
   "outputs": [],
   "source": [
    "cols = list(set(cols_all) - set(cols_remove))"
   ]
  },
  {
   "cell_type": "code",
   "execution_count": null,
   "metadata": {},
   "outputs": [],
   "source": [
    "basic_a = [\n",
    "    'PlusMinus',\n",
    "    'TsPct',\n",
    "    'EfgPct',\n",
    "    'Minutes',\n",
    "    'TotalPoss',\n",
    "    'ShotQualityAvg',\n",
    "    'Points',\n",
    "    'Pace',\n",
    "    'Rebounds',\n",
    "    'Assists',\n",
    "    'Steals',\n",
    "    'Blocks',\n",
    "    'FG2A',\n",
    "    'FG2M',\n",
    "    'Fg2Pct',\n",
    "    'FG3A',\n",
    "    'FG3M',\n",
    "    'Fg3Pct',\n",
    "    'Turnovers',\n",
    "    'Fouls',\n",
    "    'DefRebounds',\n",
    "    'OffRebounds',\n",
    "    'FTA',\n",
    "    'FtPoints',\n",
    "]\n",
    "\n",
    "shooting_a = [\n",
    "    'AtRimFGA',\n",
    "    'AtRimFGM',\n",
    "    'AtRimAccuracy',\n",
    "    'AtRimFrequency',\n",
    "    'ShortMidRangeFGA',\n",
    "    'ShortMidRangeFGM',\n",
    "    'ShortMidRangeAccuracy',\n",
    "    'ShortMidRangeFrequency',\n",
    "    'LongMidRangeFGA',\n",
    "    'LongMidRangeFGM',\n",
    "    'LongMidRangeAccuracy',\n",
    "    'LongMidRangeFrequency',\n",
    "    'Corner3FGA',\n",
    "    'Corner3FGM',\n",
    "    'Corner3Accuracy',\n",
    "    'Corner3Frequency',\n",
    "    'Arc3FGA',\n",
    "    'Arc3FGM',\n",
    "    'Arc3Accuracy',\n",
    "    'Arc3Frequency',\n",
    "]\n",
    "\n",
    "misc_a = [\n",
    "    'AssistPoints',\n",
    "    'AtRimAssists',\n",
    "    'Corner3Assists',\n",
    "    'FoulsDrawn',\n",
    "    'SecondsPerPossDef',\n",
    "    'SecondsPerPossOff',\n",
    "]"
   ]
  }
 ],
 "metadata": {
  "kernelspec": {
   "display_name": "nba-ub9Z_EQq-py3.11",
   "language": "python",
   "name": "python3"
  },
  "language_info": {
   "codemirror_mode": {
    "name": "ipython",
    "version": 3
   },
   "file_extension": ".py",
   "mimetype": "text/x-python",
   "name": "python",
   "nbconvert_exporter": "python",
   "pygments_lexer": "ipython3",
   "version": "3.11.6"
  }
 },
 "nbformat": 4,
 "nbformat_minor": 2
}
