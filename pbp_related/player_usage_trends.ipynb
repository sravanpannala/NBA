{
 "cells": [
  {
   "cell_type": "code",
   "execution_count": 1,
   "metadata": {},
   "outputs": [],
   "source": [
    "import os, sys\n",
    "sys.path.append(os.path.dirname(os.path.dirname(os.path.abspath(\"__file__\"))))\n",
    "from nbafuns import *\n",
    "fig_DIR = \"../figs/pbp_related/\""
   ]
  },
  {
   "cell_type": "code",
   "execution_count": 27,
   "metadata": {},
   "outputs": [
    {
     "name": "stderr",
     "output_type": "stream",
     "text": [
      "c:\\Users\\pansr\\Documents\\NBA\\.venv\\lib\\site-packages\\rpy2\\robjects\\packages.py:367: UserWarning: The symbol 'quartz' is not in this R namespace/package.\n",
      "  warnings.warn(\n"
     ]
    }
   ],
   "source": [
    "import os\n",
    "os.environ[\"R_HOME\"] = \"C:\\\\Program Files\\\\R\\\\R-4.3.2\\\\\"\n",
    "%reload_ext rpy2.ipython"
   ]
  },
  {
   "cell_type": "code",
   "execution_count": 5,
   "metadata": {},
   "outputs": [],
   "source": [
    "url = \"https://api.pbpstats.com/get-game-logs/nba\"\n",
    "params = {\n",
    "    # \"Season\": \"2019,2020,2021,2022,2023\", # To get for multiple seasons, separate seasons by comma\n",
    "    \"Season\": \"2023-24\",\n",
    "    \"SeasonType\": \"Regular Season\",\n",
    "    \"EntityId\": \"201566\",\n",
    "    \"EntityType\": \"Player\" # Use Opponent to get opponent stats\n",
    "}\n",
    "response = requests.get(url, params=params)\n",
    "response_json = response.json()\n",
    "totals = response_json['single_row_table_data']\n",
    "game_logs = response_json['multi_row_table_data']"
   ]
  },
  {
   "cell_type": "code",
   "execution_count": 44,
   "metadata": {},
   "outputs": [],
   "source": [
    "seasons = [\"2016-17\",\"2017-18\",\"2018-19\",\"2019-20\",\"2020-21\",\"2021-22\",\"2022-23\",\"2023-24\"]\n",
    "Date, Usage, Team = [],[],[]\n",
    "for season in seasons:\n",
    "    params[\"Season\"]=season\n",
    "    response = requests.get(url, params=params)\n",
    "    response_json = response.json()\n",
    "    totals = response_json['single_row_table_data']\n",
    "    game_logs = response_json['multi_row_table_data']\n",
    "    Dates = [game[\"Date\"] for game in game_logs]\n",
    "    Usages = [game[\"Usage\"] for game in game_logs]\n",
    "    Teams = [game[\"Team\"] for game in game_logs]\n",
    "    Date += Dates\n",
    "    Usage += Usages\n",
    "    Team +=Teams"
   ]
  },
  {
   "cell_type": "code",
   "execution_count": 62,
   "metadata": {},
   "outputs": [
    {
     "data": {
      "text/html": [
       "<div>\n",
       "<style scoped>\n",
       "    .dataframe tbody tr th:only-of-type {\n",
       "        vertical-align: middle;\n",
       "    }\n",
       "\n",
       "    .dataframe tbody tr th {\n",
       "        vertical-align: top;\n",
       "    }\n",
       "\n",
       "    .dataframe thead th {\n",
       "        text-align: right;\n",
       "    }\n",
       "</style>\n",
       "<table border=\"1\" class=\"dataframe\">\n",
       "  <thead>\n",
       "    <tr style=\"text-align: right;\">\n",
       "      <th></th>\n",
       "      <th>index</th>\n",
       "      <th>Date</th>\n",
       "      <th>Team</th>\n",
       "      <th>Usage</th>\n",
       "      <th>Games</th>\n",
       "    </tr>\n",
       "  </thead>\n",
       "  <tbody>\n",
       "    <tr>\n",
       "      <th>0</th>\n",
       "      <td>0</td>\n",
       "      <td>2016-10-26</td>\n",
       "      <td>OKC</td>\n",
       "      <td>31.818182</td>\n",
       "      <td>1</td>\n",
       "    </tr>\n",
       "    <tr>\n",
       "      <th>1</th>\n",
       "      <td>1</td>\n",
       "      <td>2016-10-28</td>\n",
       "      <td>OKC</td>\n",
       "      <td>50.000000</td>\n",
       "      <td>2</td>\n",
       "    </tr>\n",
       "    <tr>\n",
       "      <th>2</th>\n",
       "      <td>2</td>\n",
       "      <td>2016-10-30</td>\n",
       "      <td>OKC</td>\n",
       "      <td>35.294118</td>\n",
       "      <td>3</td>\n",
       "    </tr>\n",
       "    <tr>\n",
       "      <th>3</th>\n",
       "      <td>3</td>\n",
       "      <td>2016-11-02</td>\n",
       "      <td>OKC</td>\n",
       "      <td>54.320988</td>\n",
       "      <td>4</td>\n",
       "    </tr>\n",
       "    <tr>\n",
       "      <th>4</th>\n",
       "      <td>4</td>\n",
       "      <td>2016-11-03</td>\n",
       "      <td>OKC</td>\n",
       "      <td>38.028169</td>\n",
       "      <td>5</td>\n",
       "    </tr>\n",
       "    <tr>\n",
       "      <th>...</th>\n",
       "      <td>...</td>\n",
       "      <td>...</td>\n",
       "      <td>...</td>\n",
       "      <td>...</td>\n",
       "      <td>...</td>\n",
       "    </tr>\n",
       "    <tr>\n",
       "      <th>508</th>\n",
       "      <td>508</td>\n",
       "      <td>2023-10-27</td>\n",
       "      <td>LAC</td>\n",
       "      <td>11.250000</td>\n",
       "      <td>509</td>\n",
       "    </tr>\n",
       "    <tr>\n",
       "      <th>509</th>\n",
       "      <td>509</td>\n",
       "      <td>2023-10-29</td>\n",
       "      <td>LAC</td>\n",
       "      <td>25.806452</td>\n",
       "      <td>510</td>\n",
       "    </tr>\n",
       "    <tr>\n",
       "      <th>510</th>\n",
       "      <td>510</td>\n",
       "      <td>2023-10-31</td>\n",
       "      <td>LAC</td>\n",
       "      <td>24.691358</td>\n",
       "      <td>511</td>\n",
       "    </tr>\n",
       "    <tr>\n",
       "      <th>511</th>\n",
       "      <td>511</td>\n",
       "      <td>2023-11-01</td>\n",
       "      <td>LAC</td>\n",
       "      <td>28.155340</td>\n",
       "      <td>512</td>\n",
       "    </tr>\n",
       "    <tr>\n",
       "      <th>512</th>\n",
       "      <td>512</td>\n",
       "      <td>2023-11-06</td>\n",
       "      <td>LAC</td>\n",
       "      <td>25.000000</td>\n",
       "      <td>513</td>\n",
       "    </tr>\n",
       "  </tbody>\n",
       "</table>\n",
       "<p>513 rows × 5 columns</p>\n",
       "</div>"
      ],
      "text/plain": [
       "     index        Date Team      Usage  Games\n",
       "0        0  2016-10-26  OKC  31.818182      1\n",
       "1        1  2016-10-28  OKC  50.000000      2\n",
       "2        2  2016-10-30  OKC  35.294118      3\n",
       "3        3  2016-11-02  OKC  54.320988      4\n",
       "4        4  2016-11-03  OKC  38.028169      5\n",
       "..     ...         ...  ...        ...    ...\n",
       "508    508  2023-10-27  LAC  11.250000    509\n",
       "509    509  2023-10-29  LAC  25.806452    510\n",
       "510    510  2023-10-31  LAC  24.691358    511\n",
       "511    511  2023-11-01  LAC  28.155340    512\n",
       "512    512  2023-11-06  LAC  25.000000    513\n",
       "\n",
       "[513 rows x 5 columns]"
      ]
     },
     "execution_count": 62,
     "metadata": {},
     "output_type": "execute_result"
    }
   ],
   "source": [
    "df"
   ]
  },
  {
   "cell_type": "code",
   "execution_count": 65,
   "metadata": {},
   "outputs": [],
   "source": [
    "df = pd.DataFrame({\"Date\":Date,\"Team\":Team,\"Usage\":Usage})\n",
    "df = df[df[\"Team\"] != \"OKC\" ] \n",
    "df.reset_index(drop=False,inplace=True)\n",
    "df[\"Games\"]=df[\"index\"]+1"
   ]
  },
  {
   "cell_type": "code",
   "execution_count": 82,
   "metadata": {},
   "outputs": [
    {
     "name": "stdout",
     "output_type": "stream",
     "text": [
      "`geom_smooth()` using formula = 'y ~ x'\n"
     ]
    }
   ],
   "source": [
    "%%R -i df -w 5 -h 4 --units in -r 150\n",
    "library(ggplot2)\n",
    "library(dplyr)\n",
    "library(nbastatR)\n",
    "\n",
    "# custom ggplot2 theme\n",
    "theme_owen <- function () { \n",
    "  theme_minimal(base_size=9, base_family=\"Consolas\") %+replace% \n",
    "    theme(\n",
    "      panel.grid.minor = element_blank(),\n",
    "      plot.background = element_rect(fill = 'floralwhite', color = \"floralwhite\")\n",
    "    )\n",
    "}\n",
    "\n",
    "df$Date <- as.Date(df$Date)\n",
    "df$Team <- factor(df$Team, levels = c(\"HOU\", \"WAS\", \"LAL\",\"LAC\"))\n",
    "# Most basic bubble plot\n",
    "p <- ggplot(df, aes(x=Games, y=Usage,color=Team)) +\n",
    "  # geom_line() + \n",
    "  geom_point() +\n",
    "  geom_smooth(method=\"loess\") +\n",
    "  # geom_text(aes(label=Team), size=3) +\n",
    "  geom_hline(yintercept=30, linetype=\"dashed\", color=\"black\", size=0.5) +\n",
    "  scale_color_manual(values = c(\"#CE1141\", \"#002B5C\", \"#552582\",\"#006BB6\")) +\n",
    "  theme_owen() +\n",
    "  theme(plot.title.position = 'plot', \n",
    "        plot.title = element_text(face = 'bold'), \n",
    "        plot.margin = margin(10, 10, 15, 10)) +\n",
    "  theme(axis.text.x = element_text(size=10, face=\"bold\", color = \"black\"),\n",
    "        axis.text.y = element_text(size=10, face=\"bold\", color = \"black\"),\n",
    "        axis.title.x = element_text(size=12, face=\"bold\", colour = \"black\"),\n",
    "        axis.title.y = element_text(size=12, face=\"bold\", colour = \"black\")) +\n",
    "  labs(x = \"Games Played Since Houston\", \n",
    "       y = \"Usage\", \n",
    "       title = \"Russell Westbrook Usage Trends Since Houston\",\n",
    "       subtitle = \"Was Westbrook not given a chance to be productive with the Lakers?\")\n",
    "\n",
    "ggsave(\"../figs/R/Russ_Usage_Trends.png\", p, w = 8, h = 5, dpi = 600)"
   ]
  }
 ],
 "metadata": {
  "kernelspec": {
   "display_name": ".venv",
   "language": "python",
   "name": "python3"
  },
  "language_info": {
   "codemirror_mode": {
    "name": "ipython",
    "version": 3
   },
   "file_extension": ".py",
   "mimetype": "text/x-python",
   "name": "python",
   "nbconvert_exporter": "python",
   "pygments_lexer": "ipython3",
   "version": "3.9.7"
  }
 },
 "nbformat": 4,
 "nbformat_minor": 2
}
