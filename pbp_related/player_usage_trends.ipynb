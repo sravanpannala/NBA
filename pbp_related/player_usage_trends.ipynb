{
 "cells": [
  {
   "cell_type": "code",
   "execution_count": null,
   "metadata": {},
   "outputs": [],
   "source": [
    "import os, sys\n",
    "\n",
    "sys.path.append(os.path.dirname(os.path.dirname(os.path.abspath(\"__file__\"))))\n",
    "from nbafuns import *\n",
    "from plotnine import (\n",
    "    ggplot,\n",
    "    aes,\n",
    "    geom_line,\n",
    "    geom_point,\n",
    "    geom_smooth,\n",
    "    geom_hline,\n",
    "    scale_color_manual,\n",
    "    ggsave,\n",
    "    themes,\n",
    "    labs,\n",
    "    element_rect,\n",
    "    element_blank,\n",
    "    theme,\n",
    "    element_text,\n",
    "    scale_y_date,\n",
    "    scale_y_continuous,\n",
    ")\n",
    "\n",
    "theme_sra = themes.theme_minimal(base_size=9, base_family=\"Tahoma\")\n",
    "import os\n",
    "\n",
    "os.environ[\"R_HOME\"] = \"C:\\\\Program Files\\\\R\\\\R-4.3.2\\\\\"\n",
    "%reload_ext rpy2.ipython\n",
    "\n",
    "fig_DIR = \"../figs/pbp_related/\""
   ]
  },
  {
   "cell_type": "markdown",
   "metadata": {},
   "source": [
    "# Game Logs"
   ]
  },
  {
   "cell_type": "code",
   "execution_count": null,
   "metadata": {},
   "outputs": [],
   "source": [
    "def get_game_logs_player(player, season=\"2023-24\"):\n",
    "    url = \"https://api.pbpstats.com/get-game-logs/nba\"\n",
    "    pID = get_pID(player)\n",
    "    params = {\n",
    "        \"Season\": season,\n",
    "        \"SeasonType\": \"Regular Season\",\n",
    "        \"EntityId\": pID,\n",
    "        \"EntityType\": \"Player\",\n",
    "    }\n",
    "    response = requests.get(url, params=params)\n",
    "    response_json = response.json()\n",
    "    totals = response_json[\"single_row_table_data\"]\n",
    "    game_logs = response_json[\"multi_row_table_data\"]\n",
    "    data = pd.json_normalize(game_logs)\n",
    "    df = data\n",
    "    df[\"Games\"] = df.reset_index().index + 1\n",
    "    df[\"Minutes\"] = pd.to_datetime(df[\"Minutes\"], format=\"%M:%S\")\n",
    "    return df, totals"
   ]
  },
  {
   "cell_type": "markdown",
   "metadata": {},
   "source": [
    "## Usage"
   ]
  },
  {
   "cell_type": "markdown",
   "metadata": {},
   "source": [
    "### Westbrook Usage"
   ]
  },
  {
   "cell_type": "code",
   "execution_count": null,
   "metadata": {},
   "outputs": [],
   "source": [
    "player = \"Russell Westbrook\"\n",
    "season = \"2019-20,2020-21,2021-22,2022-23,2023-24\"\n",
    "df, totals = get_game_logs_player(player, season=season)"
   ]
  },
  {
   "cell_type": "code",
   "execution_count": null,
   "metadata": {},
   "outputs": [],
   "source": [
    "# df2 = df.assign(values = pd.Categorical(df1[\"Team\"], [\"HOU\",\"WAS\",\"LAL\",\"LAC\"]))\n",
    "# df2[\"Team\"] = df2[\"values\"]\n",
    "print(df.filter(regex=\"FG2A\").columns)"
   ]
  },
  {
   "cell_type": "code",
   "execution_count": null,
   "metadata": {},
   "outputs": [],
   "source": [
    "%%R -i df -w 5 -h 4 --units in -r 150\n",
    "library(ggplot2)\n",
    "library(dplyr)\n",
    "library(nbastatR)\n",
    "\n",
    "# custom ggplot2 theme\n",
    "theme_owen <- function () { \n",
    "  theme_minimal(base_size=9, base_family=\"Consolas\") %+replace% \n",
    "    theme(\n",
    "      panel.grid.minor = element_blank(),\n",
    "      plot.background = element_rect(fill = 'ghostwhite', color = \"ghostwhite\")\n",
    "    )\n",
    "}\n",
    "\n",
    "df$Date <- as.Date(df$Date)\n",
    "df$Team <- factor(df$Team, levels = c(\"HOU\", \"WAS\", \"LAL\",\"LAC\"))\n",
    "# Most basic bubble plot\n",
    "p <- ggplot(df, aes(x=Games, y=Usage,color=Team)) +\n",
    "  # geom_line() + \n",
    "  geom_point() +\n",
    "  geom_smooth(method=\"loess\") +\n",
    "  # geom_text(aes(label=Team), size=3) +\n",
    "  geom_hline(yintercept=30, linetype=\"dashed\", color=\"black\", linewidth=0.5) +\n",
    "  scale_color_manual(values = c(\"#CE1141\", \"#002B5C\", \"#FDB927\",\"#006BB6\")) +\n",
    "  theme_owen() +\n",
    "  theme(plot.title.position = 'plot', \n",
    "        plot.title = element_text(face = 'bold'), \n",
    "        plot.margin = margin(10, 10, 15, 10)) +\n",
    "  theme(axis.text.x = element_text(size=10, face=\"bold\", color = \"black\"),\n",
    "        axis.text.y = element_text(size=10, face=\"bold\", color = \"black\"),\n",
    "        axis.title.x = element_text(size=12, face=\"bold\", colour = \"black\"),\n",
    "        axis.title.y = element_text(size=12, face=\"bold\", colour = \"black\")) +\n",
    "  labs(x = \"Games Played Since Houston\", \n",
    "       y = \"Usage\", \n",
    "       title = \"Russell Westbrook Usage Trends Since Houston\",\n",
    "       subtitle = \"Was Westbrook not given a chance to be productive with the Lakers?\")\n",
    "\n",
    "ggsave(\"../figs/pbp_related/Russ_Usage_Trends.png\", p, w = 8, h = 5, dpi = 600)"
   ]
  },
  {
   "cell_type": "code",
   "execution_count": null,
   "metadata": {},
   "outputs": [],
   "source": [
    "player = \"Scottie Barnes\"\n",
    "season = \"2019-20,2020-21,2021-22,2022-23,2023-24\"\n",
    "df, totals = get_game_logs_player(player, season=season)\n",
    "p = (\n",
    "    ggplot(df1)  # What data to use\n",
    "    + aes(x=\"Games\", y=\"Usage\")  # What variable to use\n",
    "    # + geom_line()  # Geometric object to use for drawing\n",
    "    + geom_point(color=\"#CE1141\")\n",
    "    + geom_smooth(method=\"loess\", color=\"Black\", size=2)\n",
    "    + labs(\n",
    "        x=\"Games Played\",\n",
    "        y=\"Usage\",\n",
    "        title=\"Scottie Barnes Usage Trends\",\n",
    "    )\n",
    "    + theme_sra\n",
    "    + theme(\n",
    "        panel_grid_minor=element_blank(),\n",
    "        plot_background=element_rect(fill=\"ghostwhite\", color=\"ghostwhite\"),\n",
    "    )\n",
    "    + theme(plot_title=element_text(face=\"bold\", size=14))\n",
    "    + theme(\n",
    "        axis_text_x=element_text(size=10, face=\"bold\", color=\"black\"),\n",
    "        axis_text_y=element_text(size=10, face=\"bold\", color=\"black\"),\n",
    "        axis_title_x=element_text(size=12, face=\"bold\", colour=\"black\"),\n",
    "        axis_title_y=element_text(size=12, face=\"bold\", colour=\"black\"),\n",
    "    )\n",
    "    # + geom_hline(yintercept=30, linetype=\"dashed\", color=\"black\", size=0.5)\n",
    ")\n",
    "p.save(fig_DIR + \"Scottie_Usage.png\", width=8, height=5, dpi=600)\n",
    "p.draw()"
   ]
  },
  {
   "cell_type": "markdown",
   "metadata": {},
   "source": [
    "## 2PT FGA Trends"
   ]
  },
  {
   "cell_type": "code",
   "execution_count": null,
   "metadata": {},
   "outputs": [],
   "source": [
    "def get_season_str(start, end):\n",
    "    seasons = np.arange(start, end, 1)\n",
    "    seasons_str = \"\"\n",
    "    for season in seasons:\n",
    "        season_str = str(season) + \"-\" + str(season + 1)[-2:]\n",
    "        seasons_str += season_str + \",\"\n",
    "    return seasons_str[:-1]"
   ]
  },
  {
   "cell_type": "code",
   "execution_count": null,
   "metadata": {},
   "outputs": [],
   "source": [
    "player = \"LeBron James\"\n",
    "season = get_season_str(2003, 2024)\n",
    "df, totals = get_game_logs_player(player, season=season)"
   ]
  },
  {
   "cell_type": "code",
   "execution_count": null,
   "metadata": {},
   "outputs": [],
   "source": [
    "print(df.filter(regex=\"As\").columns)"
   ]
  },
  {
   "cell_type": "code",
   "execution_count": null,
   "metadata": {},
   "outputs": [],
   "source": [
    "var, y = \"AssistPoints\", \"AssistPoints\"\n",
    "# var,y = \"Minutes\", \"Minutes Played\"\n",
    "title = player + \" \" + y\n",
    "p = (\n",
    "    ggplot(df)  # What data to use\n",
    "    + aes(x=\"Games\", y=var)  # What variable to use\n",
    "    # + geom_line()  # Geometric object to use for drawing\n",
    "    # + scale_y_continuous( breaks = [10,20,30,40,50,60] )\n",
    "    + geom_point(color=\"#CE1141\")\n",
    "    + geom_smooth(method=\"loess\", color=\"black\")\n",
    "    # + scale_y_date(date_labels = \"%M:%S\")\n",
    "    # + geom_hline(yintercept=0.575, linetype=\"dashed\", color=\"black\", size=0.5)\n",
    "    + labs(\n",
    "        x=\"Games Played Since 2003-04\",\n",
    "        y=y,\n",
    "        title=title,\n",
    "        caption=\"@SravanNBA | source: pbpstats\",\n",
    "    )\n",
    "    + themes.theme_xkcd(base_size=14)\n",
    "    + theme(plot_title=element_text(face=\"bold\", size=20), plot_margin=0.025)\n",
    ")\n",
    "p.save(fig_DIR + player + \"_\" + var + \".png\", dpi=300)  # ,height=4,width=5)\n",
    "p.draw()"
   ]
  },
  {
   "cell_type": "code",
   "execution_count": null,
   "metadata": {},
   "outputs": [],
   "source": [
    "p = (\n",
    "    ggplot(df)  # What data to use\n",
    "    + aes(x=\"Games\", y=\"FG2A\")  # What variable to use\n",
    "    # + geom_line()  # Geometric object to use for drawing\n",
    "    + geom_point(color=\"#CE1141\")\n",
    "    + geom_smooth(method=\"loess\", color=\"#CE1141\")\n",
    "    + labs(\n",
    "        x=\"Games Played Since 2019-20\",\n",
    "        y=\"Attempts\",\n",
    "        title=\"LeBron James 2PT Field Goal Attempts since 2019-20\",\n",
    "    )\n",
    "    + theme_sra\n",
    "    + theme(\n",
    "        panel_grid_minor=element_blank(),\n",
    "        plot_background=element_rect(fill=\"floralwhite\", color=\"floralwhite\"),\n",
    "    )\n",
    "    + theme(\n",
    "        plot_title=element_text(face=\"bold\", size=14),\n",
    "        # plot_margin = [10, 10, 15, 10]\n",
    "    )\n",
    "    + theme(\n",
    "        axis_text_x=element_text(size=10, face=\"bold\", color=\"black\"),\n",
    "        axis_text_y=element_text(size=10, face=\"bold\", color=\"black\"),\n",
    "        axis_title_x=element_text(size=12, face=\"bold\", colour=\"black\"),\n",
    "        axis_title_y=element_text(size=12, face=\"bold\", colour=\"black\"),\n",
    "    )\n",
    "    # + geom_hline(yintercept=30, linetype=\"dashed\", color=\"black\", size=0.5)\n",
    ")\n",
    "p.save(fig_DIR + \"lebron_2FGA.png\", dpi=600)\n",
    "p.draw()"
   ]
  },
  {
   "cell_type": "markdown",
   "metadata": {},
   "source": [
    "## True Shooting Trends"
   ]
  },
  {
   "cell_type": "code",
   "execution_count": null,
   "metadata": {},
   "outputs": [],
   "source": [
    "player = \"Taurean Prince\"\n",
    "season = \"2023-24\"\n",
    "df, totals = get_game_logs_player(player, season=season)\n",
    "df.head(1)"
   ]
  },
  {
   "cell_type": "code",
   "execution_count": null,
   "metadata": {},
   "outputs": [],
   "source": [
    "# print(df.filter(regex='3').columns)"
   ]
  },
  {
   "cell_type": "code",
   "execution_count": null,
   "metadata": {},
   "outputs": [],
   "source": [
    "var, y = \"TsPct\", \"True Shooting %\"\n",
    "var,y = \"Minutes\", \"Minutes Played\"\n",
    "var, y = \"Fg3Pct\", \"3PT%\"\n",
    "title = player + \" \" + y\n",
    "p = (\n",
    "    ggplot(df)  # What data to use\n",
    "    + aes(x=\"Games\", y=var)  # What variable to use\n",
    "    # + geom_line()  # Geometric object to use for drawing\n",
    "    + geom_point(color=\"#CE1141\")\n",
    "    + geom_smooth(color=\"black\", se=False,method=\"lm\") \n",
    "    # + scale_y_date(date_labels = \"%M:%S\")\n",
    "    # + scale_x_continuous(breaks = range(0,30,5))\n",
    "    # + geom_hline(yintercept=0.575, linetype=\"dashed\", color=\"black\", size=0.5)\n",
    "    + labs(\n",
    "        x=\"Games Played This Season\",\n",
    "        y=y,\n",
    "        title=title,\n",
    "        caption=\"@SravanNBA | source: pbpstats\",\n",
    "    )\n",
    "    + themes.theme_xkcd(base_size=14)\n",
    ")\n",
    "p.save(fig_DIR + player + \"_\" + var + \".png\", verbose = False, dpi=300)\n",
    "p.draw()"
   ]
  },
  {
   "cell_type": "code",
   "execution_count": null,
   "metadata": {},
   "outputs": [],
   "source": [
    "xcvxc"
   ]
  },
  {
   "cell_type": "markdown",
   "metadata": {},
   "source": [
    "# Get All Season Stats"
   ]
  },
  {
   "cell_type": "code",
   "execution_count": null,
   "metadata": {},
   "outputs": [],
   "source": [
    "def get_all_seasons_player(player):\n",
    "    url = \"https://api.pbpstats.com/get-all-season-stats/nba\"\n",
    "    pID = get_pID(player)\n",
    "    params = {\"EntityId\": pID, \"EntityType\": \"Player\"}\n",
    "    response = requests.get(url, params=params)\n",
    "    response_json = response.json()\n",
    "    data = pd.json_normalize(response_json)\n",
    "    df_playoffs = pd.json_normalize(data[\"results.Playoffs\"][0])\n",
    "    df_regular = pd.json_normalize(data[\"results.Regular Season\"][0])\n",
    "\n",
    "    return df_regular, df_playoffs"
   ]
  },
  {
   "cell_type": "code",
   "execution_count": null,
   "metadata": {},
   "outputs": [],
   "source": [
    "theme_sra = themes.theme_minimal(base_size=9, base_family=\"Tahoma\")\n",
    "theme_sra += theme(\n",
    "    panel_grid_minor=element_blank(),\n",
    "    plot_background=element_rect(fill=\"ghostwhite\", color=\"ghostwhite\"),\n",
    "    plot_title=element_text(face=\"bold\", size=14),\n",
    "    axis_text_x=element_text(size=10, face=\"bold\", color=\"black\"),\n",
    "    axis_text_y=element_text(size=10, face=\"bold\", color=\"black\"),\n",
    "    axis_title_x=element_text(size=12, face=\"bold\", colour=\"black\"),\n",
    "    axis_title_y=element_text(size=12, face=\"bold\", colour=\"black\"),\n",
    ")"
   ]
  },
  {
   "cell_type": "code",
   "execution_count": null,
   "metadata": {},
   "outputs": [],
   "source": [
    "player = \"Russell Westbrook\"\n",
    "df_regular, df_playoffs = get_all_seasons_player(player)\n",
    "df_regular.drop(df_regular.index[-2], axis=0, inplace=True)"
   ]
  },
  {
   "cell_type": "code",
   "execution_count": null,
   "metadata": {},
   "outputs": [],
   "source": [
    "var = \"Usage\"\n",
    "p = (\n",
    "    ggplot(df_regular)  # What data to use\n",
    "    + aes(x=\"Season\", y=var)  # What variable to use\n",
    "    + geom_line(group=1)  # Geometric object to use for drawing\n",
    "    + geom_point(color=\"#CE1141\", size=5)\n",
    "    + labs(\n",
    "        x=\"Season\",\n",
    "        y=var,\n",
    "        title=player,\n",
    "    )\n",
    "    + theme_sra\n",
    "    # + geom_hline(yintercept=30, linetype=\"dashed\", color=\"black\", size=0.5)\n",
    ")\n",
    "p.save(fig_DIR + f\"{player}_{var}.png\", height=5, width=12, dpi=600, verbose=False)\n",
    "p.draw()"
   ]
  }
 ],
 "metadata": {
  "kernelspec": {
   "display_name": ".venv",
   "language": "python",
   "name": "python3"
  },
  "language_info": {
   "codemirror_mode": {
    "name": "ipython",
    "version": 3
   },
   "file_extension": ".py",
   "mimetype": "text/x-python",
   "name": "python",
   "nbconvert_exporter": "python",
   "pygments_lexer": "ipython3",
   "version": "3.11.6"
  }
 },
 "nbformat": 4,
 "nbformat_minor": 2
}
