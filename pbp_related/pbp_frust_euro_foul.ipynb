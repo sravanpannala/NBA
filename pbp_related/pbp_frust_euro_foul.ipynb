{
 "cells": [
  {
   "cell_type": "markdown",
   "metadata": {},
   "source": [
    "# Code for Euro Fouls and Frustration Fouls Blog"
   ]
  },
  {
   "cell_type": "code",
   "execution_count": 1,
   "metadata": {},
   "outputs": [],
   "source": [
    "import os, sys\n",
    "\n",
    "sys.path.append(os.path.dirname(os.path.dirname(os.path.abspath(\"__file__\"))))\n",
    "from nbafuns import *\n",
    "\n",
    "fig_DIR = \"../figs/pbp_related/\"\n",
    "data_DIR = \"../fdata/pbpdata/\"\n",
    "export_DIR = \"./fdata/\"\n",
    "source = \"pbpstats\""
   ]
  },
  {
   "cell_type": "code",
   "execution_count": null,
   "metadata": {},
   "outputs": [],
   "source": [
    "def get_fouls(games_list):\n",
    "    possessions = [game.possessions.items for game in games_list]\n",
    "    possession_events = list(chain(*[possession.events for possession in list(chain(*possessions))]))\n",
    "    t = 5\n",
    "    TO_Miss_pID, TO_Miss_tID, Foul_pID, Foul_tID = [], [], [], []\n",
    "    for possession_event in possession_events:\n",
    "        if (\n",
    "            isinstance(possession_event, Foul)\n",
    "            and (\n",
    "                isinstance(possession_event.previous_event, Turnover)\n",
    "                or (\n",
    "                    isinstance(possession_event.previous_event, FieldGoal)\n",
    "                    and not possession_event.previous_event.is_made\n",
    "                )\n",
    "            )\n",
    "            and possession_event.seconds_since_previous_event <= t\n",
    "        ):\n",
    "            TO_Miss_pID.append(possession_event.previous_event.player1_id)\n",
    "            TO_Miss_tID.append(possession_event.previous_event.team_id)\n",
    "            Foul_pID.append(possession_event.player1_id)\n",
    "            Foul_tID.append(possession_event.team_id)\n",
    "            \n",
    "    return TO_Miss_pID, TO_Miss_tID, Foul_pID, Foul_tID"
   ]
  },
  {
   "cell_type": "code",
   "execution_count": null,
   "metadata": {},
   "outputs": [],
   "source": [
    "league = \"NBA\"\n",
    "season_type = \"Regular Season\"\n",
    "season_start = 2010\n",
    "season_end = 2024\n",
    "seasons = np.arange(season_start, season_end, 1).astype(str)\n",
    "for season in seasons:\n",
    "    year = season + \"-\" + str(int(season)+1)[-2:]\n",
    "    with zstd.open(data_DIR + league + \"_PBPdata_\" + season + \".pkl.zst\",\"rb\") as f:\n",
    "        games_list = dill.load(f)\n",
    "    player_dict = get_players_pbp(league=league)  # Creating Player Dictionary\n",
    "    team_dict = nba_teams.get_teams()  # Creating Team Dictionary\n",
    "    TO_Miss_pID, TO_Miss_tID, Foul_pID, Foul_tID = get_fouls(games_list)\n",
    "    EFoul_tID, EFoul_pID, FFoul_pID = [], [], []\n",
    "    for i in range(len(TO_Miss_tID)):\n",
    "        if TO_Miss_tID[i] == Foul_tID[i]:\n",
    "            EFoul_tID.append(Foul_tID[i])\n",
    "        if TO_Miss_pID[i] == Foul_pID[i]:\n",
    "            EFoul_pID.append(Foul_pID[i])\n",
    "        if TO_Miss_pID[i] == Foul_pID[i]:\n",
    "            FFoul_pID.append(Foul_pID[i])\n",
    "    data_euro = rank_data_pbp(\n",
    "        EFoul_tID, player_dict, team_dict, sort=\"Team\", var=\"Fouls\"\n",
    "    )\n",
    "    data_euro.to_csv(export_DIR + \"NBA_Euro_fouls_\" + season + \".csv\", index=False)\n",
    "    data_euroP = rank_data_pbp(\n",
    "        EFoul_pID, player_dict, team_dict, sort=\"Player\", var=\"Fouls\"\n",
    "    )\n",
    "    data_euroP.to_csv(export_DIR + \"NBA_player_Euro_fouls_\" + season + \".csv\", index=False)\n",
    "    data_frust = rank_data_pbp(\n",
    "        FFoul_pID, player_dict, team_dict, sort=\"Player\", var=\"Fouls\"\n",
    "    )\n",
    "    data_frust.to_csv(export_DIR + \"NBA_player_Frustration_fouls_\" + season + \".csv\", index=False)\n",
    "    games_list = []"
   ]
  },
  {
   "cell_type": "code",
   "execution_count": null,
   "metadata": {},
   "outputs": [],
   "source": [
    "dfa = {}\n",
    "for year in range(2010, 2024):\n",
    "    dfa[year] = pd.read_csv(export_DIR + \"NBA_Euro_fouls_{year}.csv\")\n",
    "    dfa[year] = dfa[year].drop(columns=[\"#\"])"
   ]
  },
  {
   "cell_type": "code",
   "execution_count": null,
   "metadata": {},
   "outputs": [],
   "source": [
    "season_len = {\n",
    "    2011: 1230,\n",
    "    2012: 990,\n",
    "    2013: 1230,\n",
    "    2014: 1230,\n",
    "    2015: 1230,\n",
    "    2016: 1230,\n",
    "    2017: 1230,\n",
    "    2018: 1230,\n",
    "    2019: 1230,\n",
    "    2020: 1059,\n",
    "    2021: 1080,\n",
    "    2022: 1230,\n",
    "    2023: 1230,\n",
    "    2024: 244,\n",
    "}"
   ]
  },
  {
   "cell_type": "code",
   "execution_count": null,
   "metadata": {},
   "outputs": [],
   "source": [
    "start_year = 2010\n",
    "year = start_year\n",
    "df = pd.merge(\n",
    "    dfa[year], dfa[year + 1], on=\"Team\", suffixes=(f\"_{year+1}\", f\"_{year+2}\")\n",
    ")\n",
    "for year in range(start_year + 1, 2023):\n",
    "    df = pd.merge(df, dfa[year + 1], on=\"Team\", suffixes=(f\"_{year+1}\", f\"_{year+2}\"))\n",
    "# df = df.rename(columns={\"Fouls\":\"Fouls_2023\"})\n",
    "df.columns = df.columns.str.replace(\"Fouls_\", \"\")\n",
    "df = df.set_index(\"Team\")"
   ]
  },
  {
   "cell_type": "code",
   "execution_count": null,
   "metadata": {},
   "outputs": [],
   "source": [
    "dfT = df.T\n",
    "dfT = dfT.reset_index()\n",
    "dfT.columns = dfT.columns.to_list()\n",
    "dfT = dfT.rename(columns={\"index\": \"Year\"})"
   ]
  },
  {
   "cell_type": "code",
   "execution_count": null,
   "metadata": {},
   "outputs": [],
   "source": [
    "total_fouls, fouls_PG = [], []\n",
    "years = range(2013, 2025)\n",
    "for year in years:\n",
    "    tfouls = df[f\"{year}\"].sum()\n",
    "    total_fouls.append(tfouls)\n",
    "    fouls_PG.append(tfouls / season_len[year])"
   ]
  },
  {
   "cell_type": "code",
   "execution_count": null,
   "metadata": {},
   "outputs": [],
   "source": [
    "df[\"2014-18\"] = df.iloc[:, 4:8].sum(axis=1)\n",
    "df[\"2018-22\"] = df.iloc[:, 8:12].sum(axis=1)\n",
    "df_agg = df.drop(df.iloc[:, :12], axis=1)\n",
    "league = \"NBA\""
   ]
  },
  {
   "cell_type": "code",
   "execution_count": null,
   "metadata": {},
   "outputs": [],
   "source": [
    "year = \"2023\"\n",
    "title = \"Euro Fouls \" + year\n",
    "df1 = df_agg.sort_values(by=year, ascending=False).reset_index()\n",
    "df1[\"#\"] = df1.index + 1\n",
    "df1 = df1[[\"#\", \"Team\", year]]\n",
    "fig = plot_table_rank(df1, year, sort=\"Team\", title=title, source=\"pbpstats\")\n",
    "fig.write_image(fig_DIR + f\"{league}_euro_foul_{year}.png\", scale=3)"
   ]
  },
  {
   "cell_type": "code",
   "execution_count": null,
   "metadata": {},
   "outputs": [],
   "source": [
    "import seaborn as sns\n",
    "\n",
    "sns.set_style(\"whitegrid\")"
   ]
  },
  {
   "cell_type": "code",
   "execution_count": null,
   "metadata": {},
   "outputs": [],
   "source": [
    "fig, ax = plt.subplots(1, 1)\n",
    "ax.plot(years[:-1], total_fouls[:-1], \"o-\", color=\"red\")\n",
    "ax.vlines(x=2019 - 0.5, ymin=2000, ymax=3100, linestyle=\"--\", color=\"black\")\n",
    "ax.vlines(x=2023 - 0.5, ymin=2000, ymax=3100, linestyle=\"--\", color=\"black\")\n",
    "ax.set_xlabel(\"NBA Season\")\n",
    "ax.set_ylabel(\"Euro Fouls\")\n",
    "ax.set_title(\"Total Euro Fouls per NBA Season since 2015-16\")\n",
    "ax.text(s=\"Clear Path\", x=2018.5, y=3100, horizontalalignment=\"right\")\n",
    "ax.text(s=\"Transition Take\", x=2022.5, y=3100, horizontalalignment=\"right\")\n",
    "# ax.set_xticks(range(2013,2024))"
   ]
  },
  {
   "cell_type": "code",
   "execution_count": null,
   "metadata": {},
   "outputs": [],
   "source": [
    "fig, ax = plt.subplots(1, 1)\n",
    "ax.plot(years, fouls_PG, \"o-\", color=\"red\")\n",
    "ax.vlines(x=2019 - 0.5, ymin=1.7, ymax=2.5, linestyle=\"--\", color=\"black\")\n",
    "ax.vlines(x=2023 - 0.5, ymin=1.7, ymax=2.5, linestyle=\"--\", color=\"black\")\n",
    "ax.set_xlabel(\"NBA Season\", weight=\"bold\")\n",
    "ax.set_ylabel(\"Euro Fouls per game\", weight=\"bold\")\n",
    "ax.set_title(\"Euro Fouls Per Game since 2012-13\", fontsize=\"16\", weight=\"bold\")\n",
    "# ax.set_xticks(range(2013,2025))\n",
    "ax.text(\n",
    "    s=\"Clear Path Rule Change\",\n",
    "    x=2019.5,\n",
    "    y=2.5,\n",
    "    horizontalalignment=\"right\",\n",
    "    weight=\"bold\",\n",
    ")\n",
    "ax.text(\n",
    "    s=\"Transition Take Rule\", x=2024, y=2.5, horizontalalignment=\"right\", weight=\"bold\"\n",
    ")\n",
    "ax.text(s=\"@SravanNBA\", x=2012.5, y=1.55, horizontalalignment=\"left\", fontsize=10)\n",
    "plt.savefig(fig_DIR + \"eurofouls_pergame.png\", dpi=300)"
   ]
  }
 ],
 "metadata": {
  "interpreter": {
   "hash": "761d0843975b951240ed3f8c006d1f1501cd2a4c66c1dd99cea9ed75b2c1e460"
  },
  "kernelspec": {
   "display_name": "Python 3.9.7 64-bit ('nba-dIF8YUVF-py3.9': poetry)",
   "name": "python3"
  },
  "language_info": {
   "codemirror_mode": {
    "name": "ipython",
    "version": 3
   },
   "file_extension": ".py",
   "mimetype": "text/x-python",
   "name": "python",
   "nbconvert_exporter": "python",
   "pygments_lexer": "ipython3",
   "version": "3.11.6"
  },
  "orig_nbformat": 2
 },
 "nbformat": 4,
 "nbformat_minor": 2
}
