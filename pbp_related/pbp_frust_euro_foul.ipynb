{
 "cells": [
  {
   "cell_type": "markdown",
   "metadata": {},
   "source": [
    "# Code for Euro Fouls and Frustration Fouls Blog"
   ]
  },
  {
   "cell_type": "code",
   "execution_count": 1,
   "metadata": {},
   "outputs": [],
   "source": [
    "import os, sys\n",
    "sys.path.append(os.path.dirname(os.path.dirname(os.path.abspath(\"__file__\"))))\n",
    "from nbafuns import *\n",
    "from pbpstats.resources.enhanced_pbp import Foul\n",
    "from pbpstats.resources.enhanced_pbp import Turnover\n",
    "from pbpstats.resources.enhanced_pbp import FieldGoal\n",
    "from pbpstats.resources.enhanced_pbp import Rebound\n",
    "\n",
    "fig_DIR = \"../figs/pbp_related/\"\n",
    "source = \"pbpstats\""
   ]
  },
  {
   "cell_type": "code",
   "execution_count": 2,
   "metadata": {},
   "outputs": [],
   "source": [
    "def get_fouls(games_list):\n",
    "    t = 5\n",
    "    pos_store, TO_Miss_pID, TO_Miss_tID, Foul_pID,Foul_tID = [], [], [], [], []\n",
    "    for game in tqdm(games_list):\n",
    "        for possession in game.possessions.items:\n",
    "            for possession_event in possession.events:\n",
    "                if isinstance(possession_event, Foul) and (isinstance(possession_event.previous_event, Turnover) or  (isinstance(possession_event.previous_event, FieldGoal) and not possession_event.previous_event.is_made)) and possession_event.seconds_since_previous_event <= t:\n",
    "                    pos_store.append(possession)\n",
    "                    TO_Miss_pID.append(possession_event.previous_event.player1_id)\n",
    "                    TO_Miss_tID.append(possession_event.previous_event.team_id)\n",
    "                    Foul_pID.append(possession_event.player1_id)\n",
    "                    Foul_tID.append(possession_event.team_id)\n",
    "    return TO_Miss_pID,TO_Miss_tID,Foul_pID,Foul_tID"
   ]
  },
  {
   "cell_type": "code",
   "execution_count": 4,
   "metadata": {},
   "outputs": [
    {
     "name": "stdout",
     "output_type": "stream",
     "text": [
      "2023\n",
      "Number of games:  244\n"
     ]
    },
    {
     "name": "stderr",
     "output_type": "stream",
     "text": [
      "100%|██████████| 244/244 [00:16<00:00, 15.05it/s]\n"
     ]
    },
    {
     "name": "stdout",
     "output_type": "stream",
     "text": [
      "Number of bad games:  0\n"
     ]
    },
    {
     "name": "stderr",
     "output_type": "stream",
     "text": [
      "100%|██████████| 244/244 [00:00<00:00, 6240.91it/s]\n"
     ]
    }
   ],
   "source": [
    "league = \"NBA\"\n",
    "season_type = \"Regular Season\"\n",
    "for year in range(2023,2024):\n",
    "    print(year)\n",
    "    if league == \"NBA\":\n",
    "        season = str(year)+'-'+str(year+1)[-2:]\n",
    "    else:\n",
    "        season = str(year)\n",
    "    if year >2021:\n",
    "        data_provider = \"data_nba\"\n",
    "    else:\n",
    "        data_provider = \"stats_nba\"\n",
    "    player_dict = get_players_pbp(league = league) # Creating Player Dictionary\n",
    "    team_dict = teams.get_teams() # Creating Team Dictionary\n",
    "    games_id = pbp_season(league=league,season_yr=str(year),season_type=season_type,data_provider=data_provider)\n",
    "    games_list = pbp_games(games_id,data_provider=data_provider)\n",
    "    TO_Miss_pID,TO_Miss_tID,Foul_pID,Foul_tID = get_fouls(games_list)\n",
    "    EFoul_tID, EFoul_pID, FFoul_pID = [], [], []\n",
    "    for i in range(len(TO_Miss_tID)):\n",
    "        if TO_Miss_tID[i] == Foul_tID[i]:\n",
    "            EFoul_tID.append(Foul_tID[i])\n",
    "        if TO_Miss_pID[i] == Foul_pID[i]:\n",
    "            EFoul_pID.append(Foul_pID[i])\n",
    "        if TO_Miss_pID[i] == Foul_pID[i]:\n",
    "            FFoul_pID.append(Foul_pID[i])\n",
    "    data_euro = rank_data_pbp(EFoul_tID,player_dict,team_dict,sort=\"Team\",var=\"Fouls\")\n",
    "    data_euro.to_csv(f\"./fdata/NBA_Euro_fouls_{year}.csv\",index=False)\n",
    "    data_euroP = rank_data_pbp(EFoul_pID,player_dict,team_dict,sort=\"Player\",var=\"Fouls\")\n",
    "    data_euroP.to_csv(f\"./fdata/NBA_player_Euro_fouls_{year}.csv\",index=False)\n",
    "    data_frust = rank_data_pbp(FFoul_pID,player_dict,team_dict,sort=\"Player\",var=\"Fouls\")\n",
    "    data_frust.to_csv(f\"./fdata/NBA_player_Frustration_fouls_{year}.csv\",index=False)\n",
    "    games_list = []"
   ]
  },
  {
   "cell_type": "code",
   "execution_count": 2,
   "metadata": {},
   "outputs": [],
   "source": [
    "dfa = {}\n",
    "for year in range(2010,2024):\n",
    "    dfa[year]  = pd.read_csv(f\"./fdata/NBA_Euro_fouls_{year}.csv\")\n",
    "    dfa[year] = dfa[year].drop(columns = [\"#\"])"
   ]
  },
  {
   "cell_type": "code",
   "execution_count": 3,
   "metadata": {},
   "outputs": [],
   "source": [
    "season_len = {\n",
    "    2011:  1230,\n",
    "    2012:  990,\n",
    "    2013:  1230,\n",
    "    2014:  1230,\n",
    "    2015:  1230,\n",
    "    2016:  1230,\n",
    "    2017:  1230,\n",
    "    2018:  1230,\n",
    "    2019:  1230,\n",
    "    2020:  1059,\n",
    "    2021:  1080,\n",
    "    2022:  1230,\n",
    "    2023:  1230,\n",
    "    2024:  244,\n",
    "}"
   ]
  },
  {
   "cell_type": "code",
   "execution_count": 20,
   "metadata": {},
   "outputs": [],
   "source": [
    "start_year = 2010\n",
    "year = start_year\n",
    "df = pd.merge(dfa[year],dfa[year+1],on=\"Team\",suffixes=(f\"_{year+1}\",f\"_{year+2}\"))\n",
    "for year in range(start_year+1,2023):\n",
    "    df = pd.merge(df,dfa[year+1],on=\"Team\",suffixes=(f\"_{year+1}\",f\"_{year+2}\"))\n",
    "# df = df.rename(columns={\"Fouls\":\"Fouls_2023\"})\n",
    "df.columns = df.columns.str.replace(\"Fouls_\",\"\")\n",
    "df = df.set_index(\"Team\")"
   ]
  },
  {
   "cell_type": "code",
   "execution_count": 21,
   "metadata": {},
   "outputs": [],
   "source": [
    "dfT = df.T\n",
    "dfT = dfT.reset_index()\n",
    "dfT.columns = dfT.columns.to_list()\n",
    "dfT = dfT.rename(columns={\"index\":\"Year\"})"
   ]
  },
  {
   "cell_type": "code",
   "execution_count": 22,
   "metadata": {},
   "outputs": [],
   "source": [
    "total_fouls, fouls_PG = [], []\n",
    "years = range(2013,2025)\n",
    "for year in years:\n",
    "    tfouls = df[f\"{year}\"].sum()\n",
    "    total_fouls.append(tfouls)\n",
    "    fouls_PG.append(tfouls/season_len[year])"
   ]
  },
  {
   "cell_type": "code",
   "execution_count": 52,
   "metadata": {},
   "outputs": [],
   "source": [
    "df[\"2014-18\"]=df.iloc[:,4:8].sum(axis=1)\n",
    "df[\"2018-22\"]=df.iloc[:,8:12].sum(axis=1)\n",
    "df_agg = df.drop(df.iloc[:,:12],axis=1)\n",
    "league = \"NBA\""
   ]
  },
  {
   "cell_type": "code",
   "execution_count": 55,
   "metadata": {},
   "outputs": [
    {
     "data": {
      "application/vnd.plotly.v1+json": {
       "config": {
        "plotlyServerURL": "https://plot.ly"
       },
       "data": [
        {
         "cells": {
          "align": [
           "center",
           "left",
           "center"
          ],
          "fill": {
           "color": "lavender"
          },
          "height": 23,
          "line": {
           "color": "grey"
          },
          "values": [
           [
            1,
            2,
            3,
            4,
            5,
            6,
            7,
            8,
            9,
            10
           ],
           [
            "Orlando Magic",
            "Utah Jazz",
            "Minnesota Timberwolves",
            "Milwaukee Bucks",
            "Houston Rockets",
            "Portland Trail Blazers",
            "New York Knicks",
            "Golden State Warriors",
            "Indiana Pacers",
            "Miami Heat"
           ],
           [
            92,
            85,
            84,
            84,
            82,
            81,
            80,
            78,
            78,
            77
           ]
          ]
         },
         "columnwidth": [
          5,
          40,
          15
         ],
         "header": {
          "align": [
           "center",
           "left",
           "center"
          ],
          "fill": {
           "color": "blue"
          },
          "font": {
           "color": "snow",
           "size": 12
          },
          "line": {
           "color": "grey"
          },
          "values": [
           "<b>#<b>",
           "<b>Team<b>",
           "<b>2023<b>"
          ]
         },
         "type": "table"
        }
       ],
       "layout": {
        "annotations": [
         {
          "font": {
           "size": 10
          },
          "showarrow": false,
          "text": "@SravanNBA",
          "x": 0,
          "xshift": 1,
          "y": 0,
          "yshift": 1
         },
         {
          "font": {
           "size": 10
          },
          "showarrow": false,
          "text": "Source: pbpstats",
          "x": 1,
          "xshift": 1,
          "y": 0,
          "yshift": 1
         }
        ],
        "height": 305,
        "margin": {
         "b": 1,
         "l": 1,
         "r": 1,
         "t": 25
        },
        "template": {
         "data": {
          "bar": [
           {
            "error_x": {
             "color": "#2a3f5f"
            },
            "error_y": {
             "color": "#2a3f5f"
            },
            "marker": {
             "line": {
              "color": "#E5ECF6",
              "width": 0.5
             },
             "pattern": {
              "fillmode": "overlay",
              "size": 10,
              "solidity": 0.2
             }
            },
            "type": "bar"
           }
          ],
          "barpolar": [
           {
            "marker": {
             "line": {
              "color": "#E5ECF6",
              "width": 0.5
             },
             "pattern": {
              "fillmode": "overlay",
              "size": 10,
              "solidity": 0.2
             }
            },
            "type": "barpolar"
           }
          ],
          "carpet": [
           {
            "aaxis": {
             "endlinecolor": "#2a3f5f",
             "gridcolor": "white",
             "linecolor": "white",
             "minorgridcolor": "white",
             "startlinecolor": "#2a3f5f"
            },
            "baxis": {
             "endlinecolor": "#2a3f5f",
             "gridcolor": "white",
             "linecolor": "white",
             "minorgridcolor": "white",
             "startlinecolor": "#2a3f5f"
            },
            "type": "carpet"
           }
          ],
          "choropleth": [
           {
            "colorbar": {
             "outlinewidth": 0,
             "ticks": ""
            },
            "type": "choropleth"
           }
          ],
          "contour": [
           {
            "colorbar": {
             "outlinewidth": 0,
             "ticks": ""
            },
            "colorscale": [
             [
              0,
              "#0d0887"
             ],
             [
              0.1111111111111111,
              "#46039f"
             ],
             [
              0.2222222222222222,
              "#7201a8"
             ],
             [
              0.3333333333333333,
              "#9c179e"
             ],
             [
              0.4444444444444444,
              "#bd3786"
             ],
             [
              0.5555555555555556,
              "#d8576b"
             ],
             [
              0.6666666666666666,
              "#ed7953"
             ],
             [
              0.7777777777777778,
              "#fb9f3a"
             ],
             [
              0.8888888888888888,
              "#fdca26"
             ],
             [
              1,
              "#f0f921"
             ]
            ],
            "type": "contour"
           }
          ],
          "contourcarpet": [
           {
            "colorbar": {
             "outlinewidth": 0,
             "ticks": ""
            },
            "type": "contourcarpet"
           }
          ],
          "heatmap": [
           {
            "colorbar": {
             "outlinewidth": 0,
             "ticks": ""
            },
            "colorscale": [
             [
              0,
              "#0d0887"
             ],
             [
              0.1111111111111111,
              "#46039f"
             ],
             [
              0.2222222222222222,
              "#7201a8"
             ],
             [
              0.3333333333333333,
              "#9c179e"
             ],
             [
              0.4444444444444444,
              "#bd3786"
             ],
             [
              0.5555555555555556,
              "#d8576b"
             ],
             [
              0.6666666666666666,
              "#ed7953"
             ],
             [
              0.7777777777777778,
              "#fb9f3a"
             ],
             [
              0.8888888888888888,
              "#fdca26"
             ],
             [
              1,
              "#f0f921"
             ]
            ],
            "type": "heatmap"
           }
          ],
          "heatmapgl": [
           {
            "colorbar": {
             "outlinewidth": 0,
             "ticks": ""
            },
            "colorscale": [
             [
              0,
              "#0d0887"
             ],
             [
              0.1111111111111111,
              "#46039f"
             ],
             [
              0.2222222222222222,
              "#7201a8"
             ],
             [
              0.3333333333333333,
              "#9c179e"
             ],
             [
              0.4444444444444444,
              "#bd3786"
             ],
             [
              0.5555555555555556,
              "#d8576b"
             ],
             [
              0.6666666666666666,
              "#ed7953"
             ],
             [
              0.7777777777777778,
              "#fb9f3a"
             ],
             [
              0.8888888888888888,
              "#fdca26"
             ],
             [
              1,
              "#f0f921"
             ]
            ],
            "type": "heatmapgl"
           }
          ],
          "histogram": [
           {
            "marker": {
             "pattern": {
              "fillmode": "overlay",
              "size": 10,
              "solidity": 0.2
             }
            },
            "type": "histogram"
           }
          ],
          "histogram2d": [
           {
            "colorbar": {
             "outlinewidth": 0,
             "ticks": ""
            },
            "colorscale": [
             [
              0,
              "#0d0887"
             ],
             [
              0.1111111111111111,
              "#46039f"
             ],
             [
              0.2222222222222222,
              "#7201a8"
             ],
             [
              0.3333333333333333,
              "#9c179e"
             ],
             [
              0.4444444444444444,
              "#bd3786"
             ],
             [
              0.5555555555555556,
              "#d8576b"
             ],
             [
              0.6666666666666666,
              "#ed7953"
             ],
             [
              0.7777777777777778,
              "#fb9f3a"
             ],
             [
              0.8888888888888888,
              "#fdca26"
             ],
             [
              1,
              "#f0f921"
             ]
            ],
            "type": "histogram2d"
           }
          ],
          "histogram2dcontour": [
           {
            "colorbar": {
             "outlinewidth": 0,
             "ticks": ""
            },
            "colorscale": [
             [
              0,
              "#0d0887"
             ],
             [
              0.1111111111111111,
              "#46039f"
             ],
             [
              0.2222222222222222,
              "#7201a8"
             ],
             [
              0.3333333333333333,
              "#9c179e"
             ],
             [
              0.4444444444444444,
              "#bd3786"
             ],
             [
              0.5555555555555556,
              "#d8576b"
             ],
             [
              0.6666666666666666,
              "#ed7953"
             ],
             [
              0.7777777777777778,
              "#fb9f3a"
             ],
             [
              0.8888888888888888,
              "#fdca26"
             ],
             [
              1,
              "#f0f921"
             ]
            ],
            "type": "histogram2dcontour"
           }
          ],
          "mesh3d": [
           {
            "colorbar": {
             "outlinewidth": 0,
             "ticks": ""
            },
            "type": "mesh3d"
           }
          ],
          "parcoords": [
           {
            "line": {
             "colorbar": {
              "outlinewidth": 0,
              "ticks": ""
             }
            },
            "type": "parcoords"
           }
          ],
          "pie": [
           {
            "automargin": true,
            "type": "pie"
           }
          ],
          "scatter": [
           {
            "fillpattern": {
             "fillmode": "overlay",
             "size": 10,
             "solidity": 0.2
            },
            "type": "scatter"
           }
          ],
          "scatter3d": [
           {
            "line": {
             "colorbar": {
              "outlinewidth": 0,
              "ticks": ""
             }
            },
            "marker": {
             "colorbar": {
              "outlinewidth": 0,
              "ticks": ""
             }
            },
            "type": "scatter3d"
           }
          ],
          "scattercarpet": [
           {
            "marker": {
             "colorbar": {
              "outlinewidth": 0,
              "ticks": ""
             }
            },
            "type": "scattercarpet"
           }
          ],
          "scattergeo": [
           {
            "marker": {
             "colorbar": {
              "outlinewidth": 0,
              "ticks": ""
             }
            },
            "type": "scattergeo"
           }
          ],
          "scattergl": [
           {
            "marker": {
             "colorbar": {
              "outlinewidth": 0,
              "ticks": ""
             }
            },
            "type": "scattergl"
           }
          ],
          "scattermapbox": [
           {
            "marker": {
             "colorbar": {
              "outlinewidth": 0,
              "ticks": ""
             }
            },
            "type": "scattermapbox"
           }
          ],
          "scatterpolar": [
           {
            "marker": {
             "colorbar": {
              "outlinewidth": 0,
              "ticks": ""
             }
            },
            "type": "scatterpolar"
           }
          ],
          "scatterpolargl": [
           {
            "marker": {
             "colorbar": {
              "outlinewidth": 0,
              "ticks": ""
             }
            },
            "type": "scatterpolargl"
           }
          ],
          "scatterternary": [
           {
            "marker": {
             "colorbar": {
              "outlinewidth": 0,
              "ticks": ""
             }
            },
            "type": "scatterternary"
           }
          ],
          "surface": [
           {
            "colorbar": {
             "outlinewidth": 0,
             "ticks": ""
            },
            "colorscale": [
             [
              0,
              "#0d0887"
             ],
             [
              0.1111111111111111,
              "#46039f"
             ],
             [
              0.2222222222222222,
              "#7201a8"
             ],
             [
              0.3333333333333333,
              "#9c179e"
             ],
             [
              0.4444444444444444,
              "#bd3786"
             ],
             [
              0.5555555555555556,
              "#d8576b"
             ],
             [
              0.6666666666666666,
              "#ed7953"
             ],
             [
              0.7777777777777778,
              "#fb9f3a"
             ],
             [
              0.8888888888888888,
              "#fdca26"
             ],
             [
              1,
              "#f0f921"
             ]
            ],
            "type": "surface"
           }
          ],
          "table": [
           {
            "cells": {
             "fill": {
              "color": "#EBF0F8"
             },
             "line": {
              "color": "white"
             }
            },
            "header": {
             "fill": {
              "color": "#C8D4E3"
             },
             "line": {
              "color": "white"
             }
            },
            "type": "table"
           }
          ]
         },
         "layout": {
          "annotationdefaults": {
           "arrowcolor": "#2a3f5f",
           "arrowhead": 0,
           "arrowwidth": 1
          },
          "autotypenumbers": "strict",
          "coloraxis": {
           "colorbar": {
            "outlinewidth": 0,
            "ticks": ""
           }
          },
          "colorscale": {
           "diverging": [
            [
             0,
             "#8e0152"
            ],
            [
             0.1,
             "#c51b7d"
            ],
            [
             0.2,
             "#de77ae"
            ],
            [
             0.3,
             "#f1b6da"
            ],
            [
             0.4,
             "#fde0ef"
            ],
            [
             0.5,
             "#f7f7f7"
            ],
            [
             0.6,
             "#e6f5d0"
            ],
            [
             0.7,
             "#b8e186"
            ],
            [
             0.8,
             "#7fbc41"
            ],
            [
             0.9,
             "#4d9221"
            ],
            [
             1,
             "#276419"
            ]
           ],
           "sequential": [
            [
             0,
             "#0d0887"
            ],
            [
             0.1111111111111111,
             "#46039f"
            ],
            [
             0.2222222222222222,
             "#7201a8"
            ],
            [
             0.3333333333333333,
             "#9c179e"
            ],
            [
             0.4444444444444444,
             "#bd3786"
            ],
            [
             0.5555555555555556,
             "#d8576b"
            ],
            [
             0.6666666666666666,
             "#ed7953"
            ],
            [
             0.7777777777777778,
             "#fb9f3a"
            ],
            [
             0.8888888888888888,
             "#fdca26"
            ],
            [
             1,
             "#f0f921"
            ]
           ],
           "sequentialminus": [
            [
             0,
             "#0d0887"
            ],
            [
             0.1111111111111111,
             "#46039f"
            ],
            [
             0.2222222222222222,
             "#7201a8"
            ],
            [
             0.3333333333333333,
             "#9c179e"
            ],
            [
             0.4444444444444444,
             "#bd3786"
            ],
            [
             0.5555555555555556,
             "#d8576b"
            ],
            [
             0.6666666666666666,
             "#ed7953"
            ],
            [
             0.7777777777777778,
             "#fb9f3a"
            ],
            [
             0.8888888888888888,
             "#fdca26"
            ],
            [
             1,
             "#f0f921"
            ]
           ]
          },
          "colorway": [
           "#636efa",
           "#EF553B",
           "#00cc96",
           "#ab63fa",
           "#FFA15A",
           "#19d3f3",
           "#FF6692",
           "#B6E880",
           "#FF97FF",
           "#FECB52"
          ],
          "font": {
           "color": "#2a3f5f"
          },
          "geo": {
           "bgcolor": "white",
           "lakecolor": "white",
           "landcolor": "#E5ECF6",
           "showlakes": true,
           "showland": true,
           "subunitcolor": "white"
          },
          "hoverlabel": {
           "align": "left"
          },
          "hovermode": "closest",
          "mapbox": {
           "style": "light"
          },
          "paper_bgcolor": "white",
          "plot_bgcolor": "#E5ECF6",
          "polar": {
           "angularaxis": {
            "gridcolor": "white",
            "linecolor": "white",
            "ticks": ""
           },
           "bgcolor": "#E5ECF6",
           "radialaxis": {
            "gridcolor": "white",
            "linecolor": "white",
            "ticks": ""
           }
          },
          "scene": {
           "xaxis": {
            "backgroundcolor": "#E5ECF6",
            "gridcolor": "white",
            "gridwidth": 2,
            "linecolor": "white",
            "showbackground": true,
            "ticks": "",
            "zerolinecolor": "white"
           },
           "yaxis": {
            "backgroundcolor": "#E5ECF6",
            "gridcolor": "white",
            "gridwidth": 2,
            "linecolor": "white",
            "showbackground": true,
            "ticks": "",
            "zerolinecolor": "white"
           },
           "zaxis": {
            "backgroundcolor": "#E5ECF6",
            "gridcolor": "white",
            "gridwidth": 2,
            "linecolor": "white",
            "showbackground": true,
            "ticks": "",
            "zerolinecolor": "white"
           }
          },
          "shapedefaults": {
           "line": {
            "color": "#2a3f5f"
           }
          },
          "ternary": {
           "aaxis": {
            "gridcolor": "white",
            "linecolor": "white",
            "ticks": ""
           },
           "baxis": {
            "gridcolor": "white",
            "linecolor": "white",
            "ticks": ""
           },
           "bgcolor": "#E5ECF6",
           "caxis": {
            "gridcolor": "white",
            "linecolor": "white",
            "ticks": ""
           }
          },
          "title": {
           "x": 0.05
          },
          "xaxis": {
           "automargin": true,
           "gridcolor": "white",
           "linecolor": "white",
           "ticks": "",
           "title": {
            "standoff": 15
           },
           "zerolinecolor": "white",
           "zerolinewidth": 2
          },
          "yaxis": {
           "automargin": true,
           "gridcolor": "white",
           "linecolor": "white",
           "ticks": "",
           "title": {
            "standoff": 15
           },
           "zerolinecolor": "white",
           "zerolinewidth": 2
          }
         }
        },
        "title": {
         "font": {
          "size": 15
         },
         "text": "<b>Euro Fouls 2023<b>",
         "x": 0.05,
         "y": 0.98
        },
        "width": 265
       }
      }
     },
     "metadata": {},
     "output_type": "display_data"
    }
   ],
   "source": [
    "year = \"2023\"\n",
    "title = \"Euro Fouls \"+ year\n",
    "df1 = df_agg.sort_values(by=year,ascending=False).reset_index()\n",
    "df1[\"#\"] = df1.index +1\n",
    "df1 = df1[[\"#\",\"Team\",year]]\n",
    "fig = plot_table_rank(df1,year,sort=\"Team\",title=title,source=\"pbpstats\")\n",
    "fig.write_image(fig_DIR+f\"{league}_euro_foul_{year}.png\", scale=3)"
   ]
  },
  {
   "cell_type": "code",
   "execution_count": 8,
   "metadata": {},
   "outputs": [],
   "source": [
    "import seaborn as sns\n",
    "sns.set_style(\"whitegrid\")"
   ]
  },
  {
   "cell_type": "code",
   "execution_count": 10,
   "metadata": {},
   "outputs": [
    {
     "data": {
      "text/plain": [
       "Text(2022.5, 3100, 'Transition Take')"
      ]
     },
     "execution_count": 10,
     "metadata": {},
     "output_type": "execute_result"
    },
    {
     "data": {
      "image/png": "[encoded data removed]",
      "text/plain": [
       "<Figure size 640x480 with 1 Axes>"
      ]
     },
     "metadata": {},
     "output_type": "display_data"
    }
   ],
   "source": [
    "fig,ax = plt.subplots(1,1)\n",
    "ax.plot(years[:-1],total_fouls[:-1],\"o-\",color=\"red\")\n",
    "ax.vlines(x=2019-0.5,ymin=2000,ymax=3100,linestyle=\"--\",color=\"black\")\n",
    "ax.vlines(x=2023-0.5,ymin=2000,ymax=3100,linestyle=\"--\",color=\"black\")\n",
    "ax.set_xlabel(\"NBA Season\")\n",
    "ax.set_ylabel(\"Euro Fouls\")\n",
    "ax.set_title(\"Total Euro Fouls per NBA Season since 2015-16\")\n",
    "ax.text(s=\"Clear Path\",x=2018.5,y=3100,horizontalalignment=\"right\")\n",
    "ax.text(s=\"Transition Take\",x=2022.5,y=3100,horizontalalignment=\"right\")\n",
    "# ax.set_xticks(range(2013,2024))"
   ]
  },
  {
   "cell_type": "code",
   "execution_count": 11,
   "metadata": {},
   "outputs": [
    {
     "data": {
      "image/png": "[encoded data removed]",
      "text/plain": [
       "<Figure size 640x480 with 1 Axes>"
      ]
     },
     "metadata": {},
     "output_type": "display_data"
    }
   ],
   "source": [
    "fig,ax = plt.subplots(1,1)\n",
    "ax.plot(years,fouls_PG,\"o-\",color=\"red\")\n",
    "ax.vlines(x=2019-0.5,ymin=1.7,ymax=2.5,linestyle=\"--\",color=\"black\")\n",
    "ax.vlines(x=2023-0.5,ymin=1.7,ymax=2.5,linestyle=\"--\",color=\"black\")\n",
    "ax.set_xlabel(\"Season\", weight='bold')\n",
    "ax.set_ylabel(\"Euro Fouls per game\", weight='bold')\n",
    "ax.set_title(\"Euro Fouls Per Game since 2012-13\",fontsize=\"16\", weight='bold')\n",
    "# ax.set_xticks(range(2013,2025))\n",
    "ax.text(s=\"Clear Path Rule Change\",x=2019.5,y=2.5,horizontalalignment=\"right\", weight='bold')\n",
    "ax.text(s=\"Transition Take Rule\",x=2024,y=2.5,horizontalalignment=\"right\", weight='bold')\n",
    "plt.savefig(fig_DIR+\"eurofouls_pergame.png\",dpi=300)"
   ]
  }
 ],
 "metadata": {
  "interpreter": {
   "hash": "761d0843975b951240ed3f8c006d1f1501cd2a4c66c1dd99cea9ed75b2c1e460"
  },
  "kernelspec": {
   "display_name": "Python 3.9.7 64-bit ('nba-dIF8YUVF-py3.9': poetry)",
   "name": "python3"
  },
  "language_info": {
   "codemirror_mode": {
    "name": "ipython",
    "version": 3
   },
   "file_extension": ".py",
   "mimetype": "text/x-python",
   "name": "python",
   "nbconvert_exporter": "python",
   "pygments_lexer": "ipython3",
   "version": "3.11.6"
  },
  "orig_nbformat": 2
 },
 "nbformat": 4,
 "nbformat_minor": 2
}
