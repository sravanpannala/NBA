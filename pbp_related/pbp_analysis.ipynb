{
 "cells": [
  {
   "cell_type": "markdown",
   "metadata": {},
   "source": [
    "# Code to analyze pbp data for fouls, assists etc"
   ]
  },
  {
   "cell_type": "code",
   "execution_count": null,
   "metadata": {},
   "outputs": [],
   "source": [
    "import os, sys\n",
    "\n",
    "sys.path.append(os.path.dirname(os.path.dirname(os.path.abspath(\"__file__\"))))\n",
    "from nbafuns import *\n",
    "\n",
    "fig_DIR = \"../figs/pbp_related/\"\n",
    "img_DIR_P = \"../data/images/players/\"\n",
    "data_DIR = \"../data/pbpdata/\"\n",
    "export_DIR = \"./fdata/\"\n",
    "source = \"pbpstats\""
   ]
  },
  {
   "cell_type": "code",
   "execution_count": null,
   "metadata": {},
   "outputs": [],
   "source": [
    "league = \"NBA\"\n",
    "season = \"2024\"\n",
    "year = season + \"-\" + str(int(season)+1)[-2:]\n",
    "with zstd.open(data_DIR + league+\"_PBPdata_\" + season + \".pkl.zst\",\"rb\") as f:\n",
    "    games_list = dill.load(f)\n",
    "player_dict = get_players_pbp(league=league)  # Creating Player Dictionary\n",
    "team_dict = nba_teams.get_teams()  # Creating Team Dictionary"
   ]
  },
  {
   "cell_type": "code",
   "execution_count": null,
   "metadata": {},
   "outputs": [],
   "source": [
    "def rank_data_pbp(IDs, player_dict, team_dict, sort=\"Player\", var=\"Fouls\"):\n",
    "    ID, items = np.unique(IDs, return_counts=True)\n",
    "    if sort == \"Player\":\n",
    "        ppl = np.array([player_dict.get(x, np.nan) for x in ID])\n",
    "    elif sort == \"Team\":\n",
    "        ppl = [\n",
    "            team[\"full_name\"] for team, tID in zip(team_dict, ID) if team[\"id\"] == tID\n",
    "        ]\n",
    "    df = pd.DataFrame({sort: ppl, \"pID\": ID,var: items})\n",
    "    df1 = df.sort_values(by=[var], ascending=False)\n",
    "    df1[\"pID\"] = df1[\"pID\"].astype(str)\n",
    "    df1 = df1.reset_index(drop=True).reset_index()\n",
    "    df1[\"index\"]+=1\n",
    "    df2 = df1[[\"index\",\"pID\", sort, var]]\n",
    "    return df2\n",
    "\n",
    "def plot_table_rank(data,title=\"\",subtitle=\"\",n=10):\n",
    "    t = (\n",
    "        GT(data.head(n))\n",
    "        .tab_header(\n",
    "            title=md(title),\n",
    "            subtitle=subtitle\n",
    "        )\n",
    "        .tab_source_note(source_note=\"bsky:@sradjoker.cc | x:@sradjoker | source:pbpstats\")\n",
    "        .cols_label(\n",
    "            index = \"#\",\n",
    "            pID = \"\",\n",
    "        )\n",
    "        .fmt_image(\n",
    "            columns=\"pID\",\n",
    "            path = img_DIR_P,\n",
    "            file_pattern=\"{}.png\"\n",
    "        )\n",
    "        .cols_align(align=\"center\")\n",
    "        .cols_align(align=\"left\", columns=\"Player\")\n",
    "        .tab_options(\n",
    "            heading_title_font_size=\"150%\",\n",
    "            heading_subtitle_font_size=\"110%\",\n",
    "            # heading_title_font_weight='bold',\n",
    "            table_background_color=\"floralwhite\",\n",
    "            column_labels_font_size=\"105%\",\n",
    "            column_labels_font_weight='bold',\n",
    "            row_group_font_weight='bold',\n",
    "            row_group_background_color=\"#E5E1D8\",\n",
    "            table_font_size=10,\n",
    "            table_font_names=\"Consolas\", \n",
    "            data_row_padding = \"3px\",\n",
    "            # table_margin_left = 7,\n",
    "            # table_margin_right = 0,\n",
    "        )\n",
    "    )\n",
    "    return t"
   ]
  },
  {
   "cell_type": "markdown",
   "metadata": {},
   "source": [
    "# Frustration Fouls and Euro Fouls"
   ]
  },
  {
   "cell_type": "markdown",
   "metadata": {},
   "source": [
    "## Estimate Euro Fouls"
   ]
  },
  {
   "cell_type": "code",
   "execution_count": null,
   "metadata": {},
   "outputs": [],
   "source": [
    "possessions = [game.possessions.items for game in games_list]\n",
    "possession_events = list(chain(*[possession.events for possession in list(chain(*possessions))]))"
   ]
  },
  {
   "cell_type": "code",
   "execution_count": null,
   "metadata": {},
   "outputs": [],
   "source": [
    "t = 5\n",
    "TO_Miss_pID, TO_Miss_tID, Foul_pID, Foul_tID = [], [], [], []\n",
    "for possession_event in possession_events:\n",
    "    if (\n",
    "        isinstance(possession_event, Foul)\n",
    "        and (\n",
    "            isinstance(possession_event.previous_event, Turnover)\n",
    "            or (\n",
    "                isinstance(possession_event.previous_event, FieldGoal)\n",
    "                and not possession_event.previous_event.is_made\n",
    "            )\n",
    "        )\n",
    "        and possession_event.seconds_since_previous_event <= t\n",
    "    ):\n",
    "        TO_Miss_pID.append(possession_event.previous_event.player1_id)\n",
    "        TO_Miss_tID.append(possession_event.previous_event.team_id)\n",
    "        Foul_pID.append(possession_event.player1_id)\n",
    "        Foul_tID.append(possession_event.team_id)"
   ]
  },
  {
   "cell_type": "code",
   "execution_count": null,
   "metadata": {},
   "outputs": [],
   "source": [
    "EFoul_tID, EFoul_pID = [], []\n",
    "for i in range(len(TO_Miss_tID)):\n",
    "    if TO_Miss_tID[i] == Foul_tID[i]:\n",
    "        EFoul_tID.append(Foul_tID[i])\n",
    "    if TO_Miss_pID[i] == Foul_pID[i]:\n",
    "        EFoul_pID.append(Foul_pID[i])"
   ]
  },
  {
   "cell_type": "code",
   "execution_count": null,
   "metadata": {},
   "outputs": [],
   "source": [
    "data_euro = rank_data_pbp(EFoul_tID, player_dict, team_dict, sort=\"Team\", var=\"Fouls\")\n",
    "data_euro.to_csv(export_DIR + \"NBA_Euro_fouls_\"+season+\".csv\", index=False)\n",
    "data_euroP = rank_data_pbp(\n",
    "    EFoul_pID, player_dict, team_dict, sort=\"Player\", var=\"Fouls\"\n",
    ")\n",
    "data_euroP.to_csv(export_DIR + \"NBA_player_Euro_fouls_\"+season+\".csv\", index=False)"
   ]
  },
  {
   "cell_type": "code",
   "execution_count": null,
   "metadata": {},
   "outputs": [],
   "source": [
    "title = \"Euro Fouls \" + get_ss(int(season))\n",
    "subtitle = \"\"\n",
    "t = plot_table_rank(data_euroP,title=title,subtitle=subtitle,n=10)\n",
    "t.save(fig_DIR + f\"{league}_euro_foul_\"+ season +\".png\",scale=3,web_driver=\"firefox\")\n",
    "t"
   ]
  },
  {
   "cell_type": "markdown",
   "metadata": {},
   "source": [
    "## Estimate Frustration Fouls"
   ]
  },
  {
   "cell_type": "code",
   "execution_count": null,
   "metadata": {},
   "outputs": [],
   "source": [
    "FFoul_pID = []\n",
    "for i in range(len(TO_Miss_pID)):\n",
    "    if TO_Miss_pID[i] == Foul_pID[i]:\n",
    "        FFoul_pID.append(Foul_pID[i])"
   ]
  },
  {
   "cell_type": "code",
   "execution_count": null,
   "metadata": {},
   "outputs": [],
   "source": [
    "data_frust = rank_data_pbp(\n",
    "    FFoul_pID, player_dict, team_dict, sort=\"Player\", var=\"Fouls\"\n",
    ")\n",
    "data_frust.to_csv(export_DIR + \"NBA_player_Frustration_fouls_\"+ season +\".csv\", index=False)"
   ]
  },
  {
   "cell_type": "code",
   "execution_count": null,
   "metadata": {},
   "outputs": [],
   "source": [
    "title = \"Frustration Fouls \" + get_ss(int(season))\n",
    "subtitle = \"\"\n",
    "t = plot_table_rank(data_frust,title=title,subtitle=subtitle,n=10)\n",
    "t.save(fig_DIR + f\"{league}_frust_foul_\"+ season +\".png\",scale=3,web_driver=\"firefox\")\n",
    "t"
   ]
  },
  {
   "cell_type": "markdown",
   "metadata": {},
   "source": [
    "# Coast to Coast Analysis"
   ]
  },
  {
   "cell_type": "markdown",
   "metadata": {},
   "source": [
    "In basketball we say that whenever someone grabs a rebound, dribbles the ball up the court quickly and scores the basket, that the player is going coast to coast.\n",
    "I came up with a method to estimate these events. I divide these events into two, coast-to-coast buckets i.e. when the player scores by themselves and coast-to-coast assists i.e when the player assists another player to score the ball.\n",
    "For both types of events I have the same time cutoff of 5 seconds i.e. the player has to score/assist with 5 secs of grabbing the rebound.\n",
    "Also for coast-to-coast buckets the FG has to bee within 5ft of the rim. NBA considers this distance as a rim attempt."
   ]
  },
  {
   "cell_type": "markdown",
   "metadata": {},
   "source": [
    "## Coast to Coast Assists"
   ]
  },
  {
   "cell_type": "code",
   "execution_count": null,
   "metadata": {},
   "outputs": [],
   "source": [
    "t = 5\n",
    "Rebound_pID, Assist_pID = [], []\n",
    "i, ii = 0, 0\n",
    "for possession_event in tqdm(possession_events):\n",
    "    if (\n",
    "        (\n",
    "            isinstance(possession_event, FieldGoal)\n",
    "            and possession_event.is_made\n",
    "            and possession_event.is_assisted\n",
    "        )\n",
    "        and (isinstance(possession_event.previous_event, Rebound))\n",
    "        and possession_event.seconds_since_previous_event <= t\n",
    "    ):\n",
    "        if (\n",
    "            possession_event.previous_event.player1_id\n",
    "            == possession_event.player2_id\n",
    "        ):\n",
    "            if not possession_event.previous_event.oreb:\n",
    "                Rebound_pID.append(possession_event.previous_event.player1_id)\n",
    "                Assist_pID.append(possession_event.player2_id)"
   ]
  },
  {
   "cell_type": "code",
   "execution_count": null,
   "metadata": {},
   "outputs": [],
   "source": [
    "data = rank_data_pbp(Assist_pID, player_dict, team_dict, sort=\"Player\", var=\"FGM\")\n",
    "title = \"Coast to Coast Assists \" + get_ss(int(season))\n",
    "subtitle = \"Player assists within 5s of grabbing rebound\"\n",
    "t = plot_table_rank(data,title=title,subtitle=subtitle,n=10)\n",
    "t.save(fig_DIR + f\"{league}_coast_assists_\"+ season +\".png\",scale=3,web_driver=\"firefox\")\n",
    "t"
   ]
  },
  {
   "cell_type": "markdown",
   "metadata": {},
   "source": [
    "## Coast to Coast Buckets"
   ]
  },
  {
   "cell_type": "code",
   "execution_count": null,
   "metadata": {},
   "outputs": [],
   "source": [
    "t = 5\n",
    "dist = 5\n",
    "Rebound_pID, FGM_pID = [], []\n",
    "for possession_event in tqdm(possession_events):\n",
    "    if (\n",
    "        (\n",
    "            isinstance(possession_event, FieldGoal)\n",
    "            and possession_event.is_made\n",
    "            and not possession_event.is_assisted\n",
    "        )\n",
    "        and (isinstance(possession_event.previous_event, Rebound))\n",
    "        and possession_event.seconds_since_previous_event <= t\n",
    "    ):\n",
    "        if (\n",
    "            not possession_event.previous_event.oreb\n",
    "            and possession_event.distance <= dist\n",
    "        ):\n",
    "            if not possession_event.previous_event.oreb:\n",
    "                Rebound_pID.append(possession_event.previous_event.player1_id)\n",
    "                FGM_pID.append(possession_event.player1_id)"
   ]
  },
  {
   "cell_type": "code",
   "execution_count": null,
   "metadata": {},
   "outputs": [],
   "source": [
    "data_cb = rank_data_pbp(FGM_pID, player_dict, team_dict, sort=\"Player\", var=\"FGM\")"
   ]
  },
  {
   "cell_type": "code",
   "execution_count": null,
   "metadata": {},
   "outputs": [],
   "source": [
    "data = rank_data_pbp(FGM_pID, player_dict, team_dict, sort=\"Player\", var=\"FGM\")\n",
    "title = \"Coast to Coast Buckets \" + get_ss(int(season))\n",
    "subtitle = \"Player scores <5ft within 5s of grabbing rebound\"\n",
    "t = plot_table_rank(data,title=title,subtitle=subtitle,n=10)\n",
    "t.save(fig_DIR + f\"{league}_coast_buckets_\"+ season +\".png\",scale=3,web_driver=\"firefox\")\n",
    "t"
   ]
  },
  {
   "cell_type": "markdown",
   "metadata": {},
   "source": [
    "# Assists after Offensive rebounds"
   ]
  },
  {
   "cell_type": "code",
   "execution_count": null,
   "metadata": {},
   "outputs": [],
   "source": [
    "ast_time = 14\n",
    "Rebound_pID, Assist_pID = [], []\n",
    "for possession_event in tqdm(possession_events):\n",
    "    if (\n",
    "        isinstance(possession_event, FieldGoal)\n",
    "        and possession_event.is_made\n",
    "        and possession_event.is_assisted\n",
    "    ) and (isinstance(possession_event.previous_event, Rebound)):\n",
    "        if (\n",
    "            possession_event.previous_event.player1_id\n",
    "            == possession_event.player2_id\n",
    "        ):\n",
    "            if possession_event.previous_event.oreb:\n",
    "                Rebound_pID.append(possession_event.previous_event.player1_id)\n",
    "                Assist_pID.append(possession_event.player2_id)"
   ]
  },
  {
   "cell_type": "code",
   "execution_count": null,
   "metadata": {},
   "outputs": [],
   "source": [
    "data_oa = rank_data_pbp(Assist_pID, player_dict, team_dict, sort=\"Player\", var=\"AST\")"
   ]
  },
  {
   "cell_type": "code",
   "execution_count": null,
   "metadata": {},
   "outputs": [],
   "source": [
    "title = \"Off Reb Assists \" + year\n",
    "footer = \"Player assists after grabbing off rebound\"\n",
    "fig = plot_table_rank(data_oa, \"AST\", title=title, footer=footer, source=\"pbpstats\")\n",
    "fig.write_image(fig_DIR + f\"{league}_oreb_assists_\"+ season +\".png\", scale=3)"
   ]
  },
  {
   "cell_type": "markdown",
   "metadata": {},
   "source": [
    "# Loose Ball Foul"
   ]
  },
  {
   "cell_type": "code",
   "execution_count": null,
   "metadata": {},
   "outputs": [],
   "source": [
    "possa = []\n",
    "Foul_pID = []\n",
    "for possession_event in possession_events:\n",
    "    if isinstance(possession_event, Foul):\n",
    "        if possession_event.is_loose_ball_foul:\n",
    "            possa.append(possession_event)\n",
    "            Foul_pID.append(possession_event.player1_id)"
   ]
  },
  {
   "cell_type": "code",
   "execution_count": null,
   "metadata": {},
   "outputs": [],
   "source": [
    "data_Foul = rank_data_pbp(\n",
    "    Foul_pID, player_dict, team_dict, sort=\"Player\", var=\"Fouls\"\n",
    ")\n",
    "title = \"Loose Ball Fouls \" + \"2023-24\"\n",
    "fig = plot_table_rank(data_Foul, \"Fouls\", sort=\"Player\", title=title, source=\"pbpstats\")\n",
    "fig.write_image(fig_DIR + f\"{league}_loose_foul_\"+ season +\".png\", scale=3)"
   ]
  },
  {
   "cell_type": "markdown",
   "metadata": {},
   "source": [
    "# Offensive Foul"
   ]
  },
  {
   "cell_type": "code",
   "execution_count": null,
   "metadata": {},
   "outputs": [],
   "source": [
    "possa = []\n",
    "Foul_pID = []\n",
    "for possession_event in possession_events:\n",
    "    if isinstance(possession_event, Foul):\n",
    "        if possession_event.is_offensive_foul:\n",
    "            possa.append(possession_event)\n",
    "            Foul_pID.append(possession_event.player1_id)"
   ]
  },
  {
   "cell_type": "code",
   "execution_count": null,
   "metadata": {},
   "outputs": [],
   "source": [
    "data_Foul = rank_data_pbp(\n",
    "    Foul_pID, player_dict, team_dict, sort=\"Player\", var=\"Fouls\"\n",
    ")\n",
    "title = \"Offensive Fouls \" + \"2023-24\"\n",
    "fig = plot_table_rank(data_Foul, \"Fouls\", sort=\"Player\", title=title, source=\"pbpstats\")\n",
    "fig.write_image(fig_DIR + f\"{league}_off_foul_\"+ season +\".png\", scale=3)"
   ]
  },
  {
   "cell_type": "markdown",
   "metadata": {},
   "source": [
    "# Chase Down Blocks"
   ]
  },
  {
   "cell_type": "code",
   "execution_count": null,
   "metadata": {},
   "outputs": [],
   "source": [
    "possessions = [game.possessions.items for game in games_list]\n",
    "possession_events = list(chain(*[possession.events for possession in list(chain(*possessions))]))\n",
    "t = 5\n",
    "dist = 5\n",
    "Block_pID, FGA_pID = [], []\n",
    "for possession_event in possession_events:\n",
    "    if (\n",
    "        (\n",
    "            isinstance(possession_event, FieldGoal)\n",
    "            and not possession_event.is_made\n",
    "        )\n",
    "        and possession_event.is_blocked\n",
    "        and possession_event.seconds_since_previous_event <= t\n",
    "        and possession_event.distance <= dist\n",
    "    ):\n",
    "        if (\n",
    "            isinstance(possession_event.previous_event, Rebound)\n",
    "            and possession_event.previous_event.oreb\n",
    "        ):\n",
    "            pass\n",
    "        else:\n",
    "            Block_pID.append(possession_event.player3_id)\n",
    "            FGA_pID.append(possession_event.player1_id)"
   ]
  },
  {
   "cell_type": "code",
   "execution_count": null,
   "metadata": {},
   "outputs": [],
   "source": [
    "data = rank_data_pbp(Block_pID, player_dict, team_dict, sort=\"Player\", var=\"Block\")\n",
    "title = \"Chase Down Blocks Leaders: 2024-25\"\n",
    "subtitle = \"Block <5 feet of rim and within 5s of poss change\"\n",
    "t = plot_table_rank(data,title=title,subtitle=subtitle,n=10)\n",
    "t.save(fig_DIR + f\"{league}_chasedown_\"+ season +\".png\",scale=3,web_driver=\"firefox\")\n",
    "t"
   ]
  },
  {
   "cell_type": "markdown",
   "metadata": {},
   "source": [
    "# Block and Score"
   ]
  },
  {
   "cell_type": "code",
   "execution_count": null,
   "metadata": {},
   "outputs": [],
   "source": [
    "possessions = [game.possessions.items for game in games_list]\n",
    "possession_events = list(chain(*[possession.events for possession in list(chain(*possessions))]))\n",
    "poss = []\n",
    "Block_pID, FGA_pID = [], []\n",
    "for possession_event in possession_events:\n",
    "    if (\n",
    "        (\n",
    "            isinstance(possession_event, FieldGoal)\n",
    "            and not possession_event.is_made\n",
    "        )\n",
    "        and possession_event.is_blocked\n",
    "    ):  \n",
    "        if (\n",
    "            isinstance(possession_event.next_event.next_event, FieldGoal)\n",
    "            and possession_event.next_event.next_event.is_made\n",
    "        ): \n",
    "            # print(possession_event.player3_id)\n",
    "            Block_pID.append(possession_event.player3_id)\n",
    "            FGA_pID.append(possession_event.next_event.next_event.player1_id)\n",
    "            poss.append(possession_event)\n",
    "        else:\n",
    "            pass"
   ]
  },
  {
   "cell_type": "code",
   "execution_count": null,
   "metadata": {},
   "outputs": [],
   "source": [
    "BScore_pID = []\n",
    "BScore_poss = []\n",
    "for i in range(len(Block_pID)):\n",
    "    if Block_pID[i] == FGA_pID[i]:\n",
    "        # print(Block_pID)\n",
    "        BScore_pID.append(Block_pID[i])\n",
    "        BScore_poss.append(poss[i])"
   ]
  },
  {
   "cell_type": "code",
   "execution_count": null,
   "metadata": {},
   "outputs": [],
   "source": [
    "data = rank_data_pbp(BScore_pID, player_dict, team_dict, sort=\"Player\", var=\"BLK\")\n",
    "title = \"Block + Score Immediately\" \n",
    "subtitle = get_ss(int(season)) + \" Season, as of \"+ datetime.today().strftime(\"%Y-%m-%d\")\n",
    "t = plot_table_rank(data,title=title,subtitle=subtitle,n=10)\n",
    "t.save(fig_DIR + f\"{league}_block_score_\"+ season +\".png\",scale=3,web_driver=\"firefox\")\n",
    "t"
   ]
  },
  {
   "cell_type": "markdown",
   "metadata": {},
   "source": [
    "# Steal and Score"
   ]
  },
  {
   "cell_type": "code",
   "execution_count": null,
   "metadata": {},
   "outputs": [],
   "source": [
    "possessions = [game.possessions.items for game in games_list]\n",
    "possession_events = list(chain(*[possession.events for possession in list(chain(*possessions))]))\n",
    "poss = []\n",
    "Steal_pID, FGA_pID = [], []\n",
    "for possession_event in possession_events:\n",
    "    if (\n",
    "        (\n",
    "            isinstance(possession_event, Turnover)\n",
    "        )\n",
    "        and possession_event.is_steal\n",
    "    ):  \n",
    "        if (\n",
    "            isinstance(possession_event.next_event, FieldGoal)\n",
    "            and possession_event.next_event.is_made\n",
    "            and not possession_event.next_event.is_assisted\n",
    "        ): \n",
    "            # print(possession_event.player3_id)\n",
    "            Steal_pID.append(possession_event.player3_id)\n",
    "            FGA_pID.append(possession_event.next_event.player1_id)\n",
    "            poss.append(possession_event)\n",
    "        else:\n",
    "            pass"
   ]
  },
  {
   "cell_type": "code",
   "execution_count": null,
   "metadata": {},
   "outputs": [],
   "source": [
    "SScore_pID = []\n",
    "SScore_poss = []\n",
    "for i in range(len(Steal_pID)):\n",
    "    if Steal_pID[i] == FGA_pID[i]:\n",
    "        # print(Steal_pID)\n",
    "        SScore_pID.append(Steal_pID[i])\n",
    "        SScore_poss.append(poss[i])"
   ]
  },
  {
   "cell_type": "code",
   "execution_count": null,
   "metadata": {},
   "outputs": [],
   "source": [
    "data = rank_data_pbp(SScore_pID, player_dict, team_dict, sort=\"Player\", var=\"STL\")\n",
    "title = \"Steal + Score Immediately\" \n",
    "subtitle = get_ss(int(season)) + \" Season, as of \"+ datetime.today().strftime(\"%Y-%m-%d\")\n",
    "t = plot_table_rank(data,title=title,subtitle=subtitle,n=10)\n",
    "# t.save(fig_DIR + f\"{league}_steal_score_\"+ season +\".png\",scale=3,web_driver=\"firefox\")\n",
    "t.save(fig_DIR + f\"{league}_steal_score_ua_\"+ season +\".png\",scale=3,web_driver=\"firefox\")\n",
    "t"
   ]
  }
 ],
 "metadata": {
  "kernelspec": {
   "display_name": "dav-ub9Z_EQq-py3.12",
   "language": "python",
   "name": "python3"
  },
  "language_info": {
   "codemirror_mode": {
    "name": "ipython",
    "version": 3
   },
   "file_extension": ".py",
   "mimetype": "text/x-python",
   "name": "python",
   "nbconvert_exporter": "python",
   "pygments_lexer": "ipython3",
   "version": "3.12.0"
  },
  "orig_nbformat": 2
 },
 "nbformat": 4,
 "nbformat_minor": 2
}
