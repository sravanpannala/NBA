{
 "cells": [
  {
   "cell_type": "code",
   "execution_count": 2,
   "metadata": {},
   "outputs": [],
   "source": [
    "import os, sys\n",
    "\n",
    "sys.path.append(os.path.dirname(os.path.dirname(os.path.abspath(\"__file__\"))))\n",
    "from nbafuns import *\n",
    "\n",
    "fig_DIR = \"../figs/pbp_related/\"\n",
    "img_DIR_P = \"../data/images/players/\"\n",
    "data_DIR = \"../data/pbpdata/\""
   ]
  },
  {
   "cell_type": "code",
   "execution_count": 4,
   "metadata": {},
   "outputs": [],
   "source": [
    "league = \"NBA\"\n",
    "season = \"2024\"\n",
    "player_dict = get_players_pbp(league=league)  # Creating Player Dictionary\n",
    "team_dict = nba_teams.get_teams()  # Creating Team Dictionary\n",
    "year = season + \"-\" + str(int(season)+1)[-2:]\n",
    "with zstd.open(data_DIR + league+\"_PBPdata_\" + season + \".pkl.zst\",\"rb\") as f:\n",
    "    games_list = dill.load(f)"
   ]
  },
  {
   "cell_type": "code",
   "execution_count": 8,
   "metadata": {},
   "outputs": [],
   "source": [
    "filepath = data_DIR + league+\"_PBPdata_\" + season + \".pkl.zst\"\n",
    "tstamp = os.path.getmtime(filepath)"
   ]
  },
  {
   "cell_type": "code",
   "execution_count": 12,
   "metadata": {},
   "outputs": [
    {
     "data": {
      "text/plain": [
       "'Thu 16 Jan, 2025 - 06:51:08'"
      ]
     },
     "execution_count": 12,
     "metadata": {},
     "output_type": "execute_result"
    }
   ],
   "source": [
    "datetime.fromtimestamp(tstamp).strftime('%a %d %b, %Y - %H:%M:%S')"
   ]
  },
  {
   "cell_type": "code",
   "execution_count": null,
   "metadata": {},
   "outputs": [
    {
     "ename": "",
     "evalue": "",
     "output_type": "error",
     "traceback": [
      "\u001b[1;31mnotebook controller is DISPOSED. \n",
      "\u001b[1;31mView Jupyter <a href='command:jupyter.viewOutput'>log</a> for further details."
     ]
    }
   ],
   "source": [
    "possessions = [game.possessions.items for game in games_list]\n",
    "possession_events = list(chain(*[possession.events for possession in list(chain(*possessions))]))"
   ]
  },
  {
   "cell_type": "code",
   "execution_count": null,
   "metadata": {},
   "outputs": [
    {
     "ename": "",
     "evalue": "",
     "output_type": "error",
     "traceback": [
      "\u001b[1;31mnotebook controller is DISPOSED. \n",
      "\u001b[1;31mView Jupyter <a href='command:jupyter.viewOutput'>log</a> for further details."
     ]
    }
   ],
   "source": [
    "poss = []\n",
    "for po in possession_events:\n",
    "    if (\n",
    "        isinstance(po, FieldGoal)\n",
    "        and po.is_blocked\n",
    "    ):\n",
    "        try:\n",
    "            poss.append(po.shot_data)\n",
    "        except:\n",
    "            pass"
   ]
  },
  {
   "cell_type": "code",
   "execution_count": null,
   "metadata": {},
   "outputs": [
    {
     "ename": "",
     "evalue": "",
     "output_type": "error",
     "traceback": [
      "\u001b[1;31mnotebook controller is DISPOSED. \n",
      "\u001b[1;31mView Jupyter <a href='command:jupyter.viewOutput'>log</a> for further details."
     ]
    }
   ],
   "source": [
    "df1 = pd.DataFrame(poss)\n",
    "df1[\"distance\"] = np.sqrt(df1[\"X\"]**2 + df1[\"Y\"]**2)/10"
   ]
  },
  {
   "cell_type": "code",
   "execution_count": null,
   "metadata": {},
   "outputs": [
    {
     "ename": "",
     "evalue": "",
     "output_type": "error",
     "traceback": [
      "\u001b[1;31mnotebook controller is DISPOSED. \n",
      "\u001b[1;31mView Jupyter <a href='command:jupyter.viewOutput'>log</a> for further details."
     ]
    }
   ],
   "source": [
    "df2 = df1.groupby([\"BlockPlayerId\"])[[\"distance\"]].agg([\"count\",\"mean\"])\n",
    "df2 = df2.reset_index()\n",
    "df2.columns = [\"pID\",\"Blocks\",\"Distance\"]\n",
    "df3 = df2.query(\"Blocks >=30\").sort_values(\"Distance\",ascending=False).reset_index(drop=True)\n",
    "df3[\"Player\"] = df3[\"pID\"].map(player_dict)\n",
    "df3"
   ]
  },
  {
   "cell_type": "code",
   "execution_count": null,
   "metadata": {},
   "outputs": [
    {
     "ename": "",
     "evalue": "",
     "output_type": "error",
     "traceback": [
      "\u001b[1;31mnotebook controller is DISPOSED. \n",
      "\u001b[1;31mView Jupyter <a href='command:jupyter.viewOutput'>log</a> for further details."
     ]
    }
   ],
   "source": [
    "p = (\n",
    "    ggplot(df2)\n",
    "    + aes(x=\"Blocks\",y=\"Distance\")\n",
    "    + geom_point()\n",
    "    + theme_idv\n",
    ")\n",
    "p"
   ]
  },
  {
   "cell_type": "code",
   "execution_count": null,
   "metadata": {},
   "outputs": [
    {
     "ename": "",
     "evalue": "",
     "output_type": "error",
     "traceback": [
      "\u001b[1;31mnotebook controller is DISPOSED. \n",
      "\u001b[1;31mView Jupyter <a href='command:jupyter.viewOutput'>log</a> for further details."
     ]
    }
   ],
   "source": [
    "p = (\n",
    "    ggplot(df3)\n",
    "    + aes(x=\"Blocks\",y=\"Distance\",label=\"Player\")\n",
    "    + geom_point()\n",
    "    + geom_text(adjust_text={ 'expand_points': (2, 2),'arrowprops': {'arrowstyle': '->','color': 'red'}})\n",
    "    + theme_idv\n",
    ")\n",
    "p"
   ]
  },
  {
   "cell_type": "code",
   "execution_count": null,
   "metadata": {},
   "outputs": [
    {
     "ename": "",
     "evalue": "",
     "output_type": "error",
     "traceback": [
      "\u001b[1;31mnotebook controller is DISPOSED. \n",
      "\u001b[1;31mView Jupyter <a href='command:jupyter.viewOutput'>log</a> for further details."
     ]
    }
   ],
   "source": []
  }
 ],
 "metadata": {
  "kernelspec": {
   "display_name": "dav-ub9Z_EQq-py3.12",
   "language": "python",
   "name": "python3"
  },
  "language_info": {
   "codemirror_mode": {
    "name": "ipython",
    "version": 3
   },
   "file_extension": ".py",
   "mimetype": "text/x-python",
   "name": "python",
   "nbconvert_exporter": "python",
   "pygments_lexer": "ipython3",
   "version": "3.12.0"
  }
 },
 "nbformat": 4,
 "nbformat_minor": 2
}
