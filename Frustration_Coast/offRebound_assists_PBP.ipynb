{
 "metadata": {
  "language_info": {
   "codemirror_mode": {
    "name": "ipython",
    "version": 3
   },
   "file_extension": ".py",
   "mimetype": "text/x-python",
   "name": "python",
   "nbconvert_exporter": "python",
   "pygments_lexer": "ipython3",
   "version": "3.8.6"
  },
  "orig_nbformat": 4,
  "kernelspec": {
   "name": "nba",
   "display_name": "Python 3.8.6 64-bit ('NBA-LJs_y2gm': pipenv)"
  },
  "interpreter": {
   "hash": "002f5fbc98c1af9c244d84d9c6f0810dde0bbcc72c1958dce795625246a0a69f"
  }
 },
 "nbformat": 4,
 "nbformat_minor": 2,
 "cells": [
  {
   "cell_type": "markdown",
   "source": [
    "# Get Assists after Offensive rebounds using PBP data"
   ],
   "metadata": {}
  },
  {
   "cell_type": "code",
   "execution_count": 1,
   "source": [
    "import pandas as pd\r\n",
    "import numpy as np\r\n",
    "import time\r\n",
    "import datetime\r\n",
    "from IPython.display import clear_output\r\n",
    "from collections import Counter\r\n",
    "from functools import reduce\r\n",
    "import itertools\r\n",
    "from nba_api.stats.static import teams\r\n",
    "from pbpstats.client import Client\r\n",
    "import os, sys\r\n",
    "sys.path.append(os.path.dirname(os.path.dirname(os.path.abspath(\"__file__\"))))\r\n",
    "from nbafuns import *"
   ],
   "outputs": [],
   "metadata": {}
  },
  {
   "cell_type": "code",
   "execution_count": null,
   "source": [
    "settings = {\r\n",
    "    \"Games\": {\"source\": \"web\", \"data_provider\": \"data_nba\"},\r\n",
    "     \"dir\": \"G:/My Drive/Sra_Coding/NBA/pbpdata\",\r\n",
    "}\r\n",
    "client = Client(settings)\r\n",
    "# ID of all games for 2020-21 Season\r\n",
    "season = client.Season(\"nba\", \"2020-21\", \"Regular Season\")\r\n",
    "games_id = []\r\n",
    "k = 0\r\n",
    "for final_game in season.games.final_games:\r\n",
    "    k += 1\r\n",
    "    clear_output(wait=True)\r\n",
    "    print(k)\r\n",
    "    games_id.append(final_game['game_id'])"
   ],
   "outputs": [],
   "metadata": {}
  },
  {
   "cell_type": "code",
   "execution_count": null,
   "source": [
    "settings = {\r\n",
    "    \"Boxscore\": {\"source\": \"file\", \"data_provider\": \"data_nba\"},\r\n",
    "    \"Possessions\": {\"source\": \"file\", \"data_provider\": \"data_nba\"},\r\n",
    "    \"dir\": \"G:/My Drive/Sra_Coding/NBA/pbpdata\",\r\n",
    "}\r\n",
    "client = Client(settings)\r\n",
    "games_list = []\r\n",
    "bad_games_list = []\r\n",
    "k = 0\r\n",
    "for gameid in games_id:\r\n",
    "    clear_output(wait=True)\r\n",
    "    k += 1\r\n",
    "    print(k)\r\n",
    "    try:\r\n",
    "        games_list.append(client.Game(gameid))\r\n",
    "    except:\r\n",
    "        print(gameid)\r\n",
    "        bad_games_list.append(gameid)\r\n",
    "        continue"
   ],
   "outputs": [],
   "metadata": {}
  },
  {
   "cell_type": "code",
   "execution_count": null,
   "source": [
    "len(bad_games_list)"
   ],
   "outputs": [],
   "metadata": {}
  },
  {
   "cell_type": "code",
   "execution_count": null,
   "source": [
    "year = 2020\r\n",
    "player_dict = get_players(league = 'NBA', from_year = year, to_year = year)"
   ],
   "outputs": [],
   "metadata": {}
  },
  {
   "cell_type": "code",
   "execution_count": null,
   "source": [
    "# Coast to Coast Assists\r\n",
    "from pbpstats.resources.enhanced_pbp import FieldGoal\r\n",
    "from pbpstats.resources.enhanced_pbp import Rebound\r\n",
    "pos_store = []\r\n",
    "Rebound_pID = []\r\n",
    "Assist_pID = []\r\n",
    "i = 0\r\n",
    "ii = 0\r\n",
    "for game in games_list:\r\n",
    "    for possession in game.possessions.items:\r\n",
    "        for possession_event in possession.events:\r\n",
    "            if (isinstance(possession_event, FieldGoal) and possession_event.is_made and possession_event.is_assisted) and (isinstance(possession_event.previous_event, Rebound)) and possession_event.seconds_since_previous_event <= 5:\r\n",
    "                if possession_event.previous_event.player1_id == possession_event.player2_id:\r\n",
    "                    if possession_event.previous_event.oreb :\r\n",
    "                        pos_store.append(possession)\r\n",
    "                        Rebound_pID.append(possession_event.previous_event.player1_id)\r\n",
    "                        print (\"Rebound Player: {0}\".format(possession_event.previous_event.player1_id))\r\n",
    "                        Assist_pID.append(possession_event.player2_id)\r\n",
    "                        print (\"Assist Player: {0}\".format(possession_event.player2_id))\r\n",
    "                        ii += 1\r\n",
    "                        print(\"ii = {0}\".format(ii))\r\n",
    "    i += 1\r\n",
    "    print(\"i = {0}\".format(i))\r\n",
    "    clear_output(wait=True)"
   ],
   "outputs": [],
   "metadata": {}
  },
  {
   "cell_type": "code",
   "execution_count": null,
   "source": [
    "Player_Name = []\n",
    "a = Assist_pID\n",
    "Assist_pID1, Assists = np.unique(a, return_counts=True)  \n",
    "for pID in Assist_pID1:\n",
    "    Player_Name.append([player['Name'] for player in player_dict if player['pID'] == pID]) \n",
    "Player_Name = list(itertools.chain(*Player_Name))"
   ],
   "outputs": [],
   "metadata": {}
  },
  {
   "cell_type": "code",
   "execution_count": null,
   "source": [
    "data = pd.DataFrame({'Assist_pID':Assist_pID1,'Player_Name':Player_Name,'Assists':Assists})\n",
    "data = data.sort_values(by=['Assists'],ascending=False)\n",
    "data = data.reset_index(drop=True)\n",
    "data.head()"
   ],
   "outputs": [],
   "metadata": {}
  },
  {
   "cell_type": "code",
   "execution_count": null,
   "source": [
    "data.to_csv ('OffRebounds_Assists_20_21.csv',index=False)"
   ],
   "outputs": [],
   "metadata": {}
  }
 ]
}