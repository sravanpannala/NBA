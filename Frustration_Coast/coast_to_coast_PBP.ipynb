{
 "cells": [
  {
   "cell_type": "markdown",
   "metadata": {},
   "source": [
    "# Get Coast to Coast Assists and Buckets using PBP data\n"
   ]
  },
  {
   "cell_type": "code",
   "execution_count": 1,
   "metadata": {},
   "outputs": [],
   "source": [
    "import pandas as pd\n",
    "import numpy as np\n",
    "import time\n",
    "import datetime\n",
    "from IPython.display import clear_output\n",
    "from collections import Counter\n",
    "from functools import reduce\n",
    "import itertools\n",
    "from nba_api.stats.static import teams\n",
    "from pbpstats.client import Client\n",
    "from tqdm import tqdm\n",
    "import os, sys\n",
    "sys.path.append(os.path.dirname(os.path.dirname(os.path.abspath(\"__file__\"))))\n",
    "from nbafuns import *"
   ]
  },
  {
   "cell_type": "code",
   "execution_count": null,
   "metadata": {},
   "outputs": [],
   "source": [
    "settings = {\n",
    "    \"Games\": {\"source\": \"web\", \"data_provider\": \"data_nba\"},\n",
    "     \"dir\": \"C:/Users/spannala/Documents/Sra_coding/NBA/pbpdata\",\n",
    "}\n",
    "client = Client(settings)\n",
    "# ID of all games for 2020-21 Season\n",
    "season = client.Season(\"nba\", \"2020-21\", \"Regular Season\")\n",
    "games_id = []\n",
    "k = 0\n",
    "for final_game in season.games.final_games:\n",
    "    k += 1\n",
    "    clear_output(wait=True)\n",
    "    print(k)\n",
    "    games_id.append(final_game['game_id'])"
   ]
  },
  {
   "cell_type": "code",
   "execution_count": null,
   "metadata": {},
   "outputs": [],
   "source": [
    "settings = {\n",
    "    \"Boxscore\": {\"source\": \"file\", \"data_provider\": \"data_nba\"},\n",
    "    \"Possessions\": {\"source\": \"file\", \"data_provider\": \"data_nba\"},\n",
    "    \"dir\": \"C:/Users/spannala/Documents/Sra_coding/NBA/pbpdata\"\n",
    "}\n",
    "client = Client(settings)\n",
    "games_list = []\n",
    "bad_games_list = []\n",
    "k = 0\n",
    "for gameid in tqdm(games_id):\n",
    "    clear_output(wait=True)\n",
    "    k += 1\n",
    "    # print(k)\n",
    "    try:\n",
    "        games_list.append(client.Game(gameid))\n",
    "    except:\n",
    "        print(gameid)\n",
    "        bad_games_list.append(gameid)\n",
    "        continue"
   ]
  },
  {
   "cell_type": "code",
   "execution_count": null,
   "metadata": {},
   "outputs": [],
   "source": [
    "len(bad_games_list)"
   ]
  },
  {
   "cell_type": "code",
   "execution_count": 2,
   "metadata": {},
   "outputs": [],
   "source": [
    "year = 2020\n",
    "player_dict = get_players(league = 'NBA', from_year = year, to_year = year)"
   ]
  },
  {
   "cell_type": "markdown",
   "metadata": {},
   "source": [
    "## Coast to Coast Assists"
   ]
  },
  {
   "cell_type": "code",
   "execution_count": null,
   "metadata": {},
   "outputs": [],
   "source": [
    "from pbpstats.resources.enhanced_pbp import FieldGoal\n",
    "from pbpstats.resources.enhanced_pbp import Rebound\n",
    "pos_store = []\n",
    "Rebound_pID = []\n",
    "Assist_pID = []\n",
    "i = 0\n",
    "ii = 0\n",
    "for game in tqdm(games_list):\n",
    "    for possession in game.possessions.items:\n",
    "        for possession_event in possession.events:\n",
    "            if (isinstance(possession_event, FieldGoal) and possession_event.is_made and possession_event.is_assisted) and (isinstance(possession_event.previous_event, Rebound)) and possession_event.seconds_since_previous_event <= 5:\n",
    "                if possession_event.previous_event.player1_id == possession_event.player2_id:\n",
    "                    if not possession_event.previous_event.oreb :\n",
    "                        pos_store.append(possession)\n",
    "                        Rebound_pID.append(possession_event.previous_event.player1_id)\n",
    "                        print (\"Rebound Player: {0}\".format(possession_event.previous_event.player1_id))\n",
    "                        Assist_pID.append(possession_event.player2_id)\n",
    "                        print (\"Assist Player: {0}\".format(possession_event.player2_id))\n",
    "                        ii += 1\n",
    "                        # print(\"ii = {0}\".format(ii))\n",
    "    i += 1\n",
    "    # print(\"i = {0}\".format(i))\n",
    "    clear_output(wait=True)"
   ]
  },
  {
   "cell_type": "code",
   "execution_count": null,
   "metadata": {},
   "outputs": [],
   "source": [
    "Player_Name = []\n",
    "a = Assist_pID\n",
    "Assist_pID1, Assists = np.unique(a, return_counts=True)  \n",
    "for pID in Assist_pID1:\n",
    "    Player_Name.append([player['Name'] for player in player_dict if player['pID'] == pID]) \n",
    "Player_Name = list(itertools.chain(*Player_Name))"
   ]
  },
  {
   "cell_type": "code",
   "execution_count": null,
   "metadata": {},
   "outputs": [],
   "source": [
    "data = pd.DataFrame({'Assist_pID':Assist_pID1,'Player_Name':Player_Name,'Assists':Assists})\n",
    "data = data.sort_values(by=['Assists'],ascending=False)\n",
    "data = data.reset_index(drop=True)\n",
    "data.head()"
   ]
  },
  {
   "cell_type": "code",
   "execution_count": null,
   "metadata": {},
   "outputs": [],
   "source": [
    "data.to_csv ('Coast_to_Coast_Assists_playoffs_20_21.csv',index=False)"
   ]
  },
  {
   "cell_type": "markdown",
   "metadata": {},
   "source": [
    "## Coast to Coast Buckets"
   ]
  },
  {
   "cell_type": "code",
   "execution_count": null,
   "metadata": {},
   "outputs": [],
   "source": [
    "pos_store = []\n",
    "Rebound_pID = []\n",
    "FGM_pID = []\n",
    "i = 0\n",
    "ii = 0\n",
    "for game in tqdm(games_list):\n",
    "    for possession in game.possessions.items:\n",
    "        for possession_event in possession.events:\n",
    "            if (isinstance(possession_event, FieldGoal) and possession_event.is_made and not possession_event.is_assisted) and (isinstance(possession_event.previous_event, Rebound)) and possession_event.seconds_since_previous_event <= 8:\n",
    "                if possession_event.previous_event.player1_id == possession_event.player1_id:\n",
    "                    if not possession_event.previous_event.oreb :\n",
    "                        pos_store.append(possession)\n",
    "                        Rebound_pID.append(possession_event.previous_event.player1_id)\n",
    "                        print (\"Rebound Player: {0}\".format(possession_event.previous_event.player1_id))\n",
    "                        FGM_pID.append(possession_event.player1_id)\n",
    "                        print (\"FGM Player: {0}\".format(possession_event.player1_id))\n",
    "                        ii += 1\n",
    "                        print(\"ii = {0}\".format(ii))\n",
    "    i += 1\n",
    "    # print(\"i = {0}\".format(i))\n",
    "    clear_output(wait=True)"
   ]
  },
  {
   "cell_type": "code",
   "execution_count": null,
   "metadata": {},
   "outputs": [],
   "source": [
    "Player_Name = []\n",
    "a = FGM_pID\n",
    "FGM_pID1, FGM = np.unique(a, return_counts=True)  \n",
    "for pID in FGM_pID1:\n",
    "    Player_Name.append([player['Name'] for player in player_dict if player['pID'] == pID]) \n",
    "Player_Name = list(itertools.chain(*Player_Name))"
   ]
  },
  {
   "cell_type": "code",
   "execution_count": null,
   "metadata": {},
   "outputs": [],
   "source": [
    "data = pd.DataFrame({'FGM_pID':FGM_pID1,'Player_Name':Player_Name,'FGM':FGM})\n",
    "data = data.sort_values(by=['FGM'],ascending=False)\n",
    "data = data.reset_index(drop=True)\n",
    "data.head()"
   ]
  },
  {
   "cell_type": "code",
   "execution_count": null,
   "metadata": {},
   "outputs": [],
   "source": [
    "data.to_csv ('Coast_to_Coast_Buckets_playoffs_20_21.csv',index=False)"
   ]
  }
 ],
 "metadata": {
  "kernelspec": {
   "display_name": "Python 3.8.6 64-bit ('NBA-LJs_y2gm': pipenv)",
   "name": "nba"
  },
  "language_info": {
   "codemirror_mode": {
    "name": "ipython",
    "version": 3
   },
   "file_extension": ".py",
   "mimetype": "text/x-python",
   "name": "python",
   "nbconvert_exporter": "python",
   "pygments_lexer": "ipython3",
   "version": "3.8.6"
  },
  "orig_nbformat": 2
 },
 "nbformat": 4,
 "nbformat_minor": 2
}
