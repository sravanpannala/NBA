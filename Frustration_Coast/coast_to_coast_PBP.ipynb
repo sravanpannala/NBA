{
 "cells": [
  {
   "cell_type": "markdown",
   "metadata": {},
   "source": [
    "# Get Coast to Coast Assists and Buckets using PBP data\n"
   ]
  },
  {
   "cell_type": "code",
   "execution_count": 34,
   "metadata": {},
   "outputs": [],
   "source": [
    "import pandas as pd\n",
    "import numpy as np\n",
    "import time\n",
    "import datetime\n",
    "from IPython.display import clear_output\n",
    "from collections import Counter\n",
    "from functools import reduce\n",
    "import itertools\n",
    "from nba_api.stats.static import teams\n",
    "from pbpstats.client import Client\n",
    "from tqdm import tqdm\n",
    "import os, sys\n",
    "sys.path.append(os.path.dirname(os.path.dirname(os.path.abspath(\"__file__\"))))\n",
    "from nbafuns import *"
   ]
  },
  {
   "cell_type": "code",
   "execution_count": 35,
   "metadata": {},
   "outputs": [
    {
     "name": "stdout",
     "output_type": "stream",
     "text": [
      "1230\n"
     ]
    }
   ],
   "source": [
    "settings = {\n",
    "    \"Games\": {\"source\": \"web\", \"data_provider\": \"data_nba\"},\n",
    "     \"dir\": \"C:/Users/pansr/Documents/Sra_Coding/NBA/pbpdata\",\n",
    "}\n",
    "client = Client(settings)\n",
    "# ID of all games for 2020-21 Season\n",
    "league = \"nba\"\n",
    "season_yr = \"2021\"\n",
    "season_type = \"Regular Season\"\n",
    "season = client.Season(league, season_yr, season_type)\n",
    "games_id = []\n",
    "\n",
    "for final_game in season.games.final_games:\n",
    "    games_id.append(final_game['game_id'])\n",
    "print(len(games_id))"
   ]
  },
  {
   "cell_type": "code",
   "execution_count": 36,
   "metadata": {},
   "outputs": [
    {
     "name": "stderr",
     "output_type": "stream",
     "text": [
      "100%|██████████| 1230/1230 [00:28<00:00, 43.40it/s]"
     ]
    },
    {
     "name": "stdout",
     "output_type": "stream",
     "text": [
      "312\n"
     ]
    },
    {
     "name": "stderr",
     "output_type": "stream",
     "text": [
      "\n"
     ]
    }
   ],
   "source": [
    "settings = {\n",
    "    \"Boxscore\": {\"source\": \"file\", \"data_provider\": \"data_nba\"},\n",
    "    \"Possessions\": {\"source\": \"file\", \"data_provider\": \"data_nba\"},\n",
    "    \"dir\": \"C:/Users/pansr/Documents/Sra_Coding/NBA/pbpdata\"\n",
    "}\n",
    "client = Client(settings)\n",
    "games_list = []\n",
    "bad_games_list = []\n",
    "for gameid in tqdm(games_id):\n",
    "    try:\n",
    "        games_list.append(client.Game(gameid))\n",
    "    except:\n",
    "        # print(gameid)\n",
    "        bad_games_list.append(gameid)\n",
    "        continue\n",
    "print(len(bad_games_list))"
   ]
  },
  {
   "cell_type": "code",
   "execution_count": 25,
   "metadata": {},
   "outputs": [
    {
     "data": {
      "text/plain": [
       "35"
      ]
     },
     "execution_count": 25,
     "metadata": {},
     "output_type": "execute_result"
    }
   ],
   "source": [
    "len(bad_games_list)"
   ]
  },
  {
   "cell_type": "code",
   "execution_count": 26,
   "metadata": {},
   "outputs": [],
   "source": [
    "year = int(season_yr)\n",
    "player_dict = get_players(league = 'NBA', from_year = year, to_year = year)\n",
    "team_dict = teams.get_teams() # Creating Team Dictionary\n",
    "team_id = [x['id'] for x in team_dict ]"
   ]
  },
  {
   "cell_type": "markdown",
   "metadata": {},
   "source": [
    "## Coast to Coast Assists"
   ]
  },
  {
   "cell_type": "code",
   "execution_count": 27,
   "metadata": {},
   "outputs": [
    {
     "name": "stderr",
     "output_type": "stream",
     "text": [
      "100%|██████████| 1195/1195 [00:05<00:00, 203.09it/s]\n"
     ]
    }
   ],
   "source": [
    "from pbpstats.resources.enhanced_pbp import FieldGoal\n",
    "from pbpstats.resources.enhanced_pbp import Rebound\n",
    "pos_store = []\n",
    "Rebound_pID = []\n",
    "Assist_pID = []\n",
    "i = 0\n",
    "ii = 0\n",
    "for game in tqdm(games_list):\n",
    "    for possession in game.possessions.items:\n",
    "        for possession_event in possession.events:\n",
    "            if (isinstance(possession_event, FieldGoal) and possession_event.is_made and possession_event.is_assisted) and (isinstance(possession_event.previous_event, Rebound)) and possession_event.seconds_since_previous_event <= 5:\n",
    "                if possession_event.previous_event.player1_id == possession_event.player2_id:\n",
    "                    if not possession_event.previous_event.oreb :\n",
    "                        pos_store.append(possession)\n",
    "                        Rebound_pID.append(possession_event.previous_event.player1_id)\n",
    "                        print (\"Rebound Player: {0}\".format(possession_event.previous_event.player1_id))\n",
    "                        Assist_pID.append(possession_event.player2_id)\n",
    "                        print (\"Assist Player: {0}\".format(possession_event.player2_id))\n",
    "                        ii += 1\n",
    "                        # print(\"ii = {0}\".format(ii))\n",
    "    i += 1\n",
    "    # print(\"i = {0}\".format(i))\n",
    "    clear_output(wait=True)"
   ]
  },
  {
   "cell_type": "code",
   "execution_count": 28,
   "metadata": {},
   "outputs": [],
   "source": [
    "Player_Name = []\n",
    "a = Assist_pID\n",
    "Assist_pID1, Assists = np.unique(a, return_counts=True)  \n",
    "for pID in Assist_pID1:\n",
    "    Player_Name.append([player['Name'] for player in player_dict if player['pID'] == pID]) \n",
    "Player_Name = list(itertools.chain(*Player_Name))"
   ]
  },
  {
   "cell_type": "code",
   "execution_count": 29,
   "metadata": {},
   "outputs": [
    {
     "data": {
      "text/html": [
       "<div>\n",
       "<style scoped>\n",
       "    .dataframe tbody tr th:only-of-type {\n",
       "        vertical-align: middle;\n",
       "    }\n",
       "\n",
       "    .dataframe tbody tr th {\n",
       "        vertical-align: top;\n",
       "    }\n",
       "\n",
       "    .dataframe thead th {\n",
       "        text-align: right;\n",
       "    }\n",
       "</style>\n",
       "<table border=\"1\" class=\"dataframe\">\n",
       "  <thead>\n",
       "    <tr style=\"text-align: right;\">\n",
       "      <th></th>\n",
       "      <th>Assist_pID</th>\n",
       "      <th>Player_Name</th>\n",
       "      <th>Assists</th>\n",
       "    </tr>\n",
       "  </thead>\n",
       "  <tbody>\n",
       "    <tr>\n",
       "      <th>0</th>\n",
       "      <td>203999</td>\n",
       "      <td>Nikola Jokic</td>\n",
       "      <td>55</td>\n",
       "    </tr>\n",
       "    <tr>\n",
       "      <th>1</th>\n",
       "      <td>1627734</td>\n",
       "      <td>Domantas Sabonis</td>\n",
       "      <td>39</td>\n",
       "    </tr>\n",
       "    <tr>\n",
       "      <th>2</th>\n",
       "      <td>2544</td>\n",
       "      <td>LeBron James</td>\n",
       "      <td>35</td>\n",
       "    </tr>\n",
       "    <tr>\n",
       "      <th>3</th>\n",
       "      <td>201566</td>\n",
       "      <td>Russell Westbrook</td>\n",
       "      <td>33</td>\n",
       "    </tr>\n",
       "    <tr>\n",
       "      <th>4</th>\n",
       "      <td>1628404</td>\n",
       "      <td>Josh Hart</td>\n",
       "      <td>33</td>\n",
       "    </tr>\n",
       "  </tbody>\n",
       "</table>\n",
       "</div>"
      ],
      "text/plain": [
       "   Assist_pID        Player_Name  Assists\n",
       "0      203999       Nikola Jokic       55\n",
       "1     1627734   Domantas Sabonis       39\n",
       "2        2544       LeBron James       35\n",
       "3      201566  Russell Westbrook       33\n",
       "4     1628404          Josh Hart       33"
      ]
     },
     "execution_count": 29,
     "metadata": {},
     "output_type": "execute_result"
    }
   ],
   "source": [
    "data = pd.DataFrame({'Assist_pID':Assist_pID1,'Player_Name':Player_Name,'Assists':Assists})\n",
    "data = data.sort_values(by=['Assists'],ascending=False)\n",
    "data = data.reset_index(drop=True)\n",
    "data.head()"
   ]
  },
  {
   "cell_type": "markdown",
   "metadata": {},
   "source": [
    "## Coast to Coast Buckets"
   ]
  },
  {
   "cell_type": "code",
   "execution_count": 31,
   "metadata": {},
   "outputs": [
    {
     "name": "stderr",
     "output_type": "stream",
     "text": [
      "100%|██████████| 1195/1195 [00:06<00:00, 187.86it/s]\n"
     ]
    }
   ],
   "source": [
    "pos_store = []\n",
    "Rebound_pID = []\n",
    "FGM_pID = []\n",
    "i = 0\n",
    "ii = 0\n",
    "for game in tqdm(games_list):\n",
    "    for possession in game.possessions.items:\n",
    "        for possession_event in possession.events:\n",
    "            if (isinstance(possession_event, FieldGoal) and possession_event.is_made and not possession_event.is_assisted) and (isinstance(possession_event.previous_event, Rebound)) and possession_event.seconds_since_previous_event <= 8:\n",
    "                if possession_event.previous_event.player1_id == possession_event.player1_id:\n",
    "                    if not possession_event.previous_event.oreb :\n",
    "                        pos_store.append(possession)\n",
    "                        Rebound_pID.append(possession_event.previous_event.player1_id)\n",
    "                        print (\"Rebound Player: {0}\".format(possession_event.previous_event.player1_id))\n",
    "                        FGM_pID.append(possession_event.player1_id)\n",
    "                        print (\"FGM Player: {0}\".format(possession_event.player1_id))\n",
    "                        ii += 1\n",
    "                        print(\"ii = {0}\".format(ii))\n",
    "    i += 1\n",
    "    # print(\"i = {0}\".format(i))\n",
    "    clear_output(wait=True)"
   ]
  },
  {
   "cell_type": "code",
   "execution_count": 32,
   "metadata": {},
   "outputs": [],
   "source": [
    "Player_Name = []\n",
    "a = FGM_pID\n",
    "FGM_pID1, FGM = np.unique(a, return_counts=True)  \n",
    "for pID in FGM_pID1:\n",
    "    Player_Name.append([player['Name'] for player in player_dict if player['pID'] == pID]) \n",
    "Player_Name = list(itertools.chain(*Player_Name))"
   ]
  },
  {
   "cell_type": "code",
   "execution_count": 33,
   "metadata": {},
   "outputs": [
    {
     "data": {
      "text/html": [
       "<div>\n",
       "<style scoped>\n",
       "    .dataframe tbody tr th:only-of-type {\n",
       "        vertical-align: middle;\n",
       "    }\n",
       "\n",
       "    .dataframe tbody tr th {\n",
       "        vertical-align: top;\n",
       "    }\n",
       "\n",
       "    .dataframe thead th {\n",
       "        text-align: right;\n",
       "    }\n",
       "</style>\n",
       "<table border=\"1\" class=\"dataframe\">\n",
       "  <thead>\n",
       "    <tr style=\"text-align: right;\">\n",
       "      <th></th>\n",
       "      <th>FGM_pID</th>\n",
       "      <th>Player_Name</th>\n",
       "      <th>FGM</th>\n",
       "    </tr>\n",
       "  </thead>\n",
       "  <tbody>\n",
       "    <tr>\n",
       "      <th>0</th>\n",
       "      <td>203507</td>\n",
       "      <td>Giannis Antetokounmpo</td>\n",
       "      <td>60</td>\n",
       "    </tr>\n",
       "    <tr>\n",
       "      <th>1</th>\n",
       "      <td>2544</td>\n",
       "      <td>LeBron James</td>\n",
       "      <td>45</td>\n",
       "    </tr>\n",
       "    <tr>\n",
       "      <th>2</th>\n",
       "      <td>1627759</td>\n",
       "      <td>Jaylen Brown</td>\n",
       "      <td>39</td>\n",
       "    </tr>\n",
       "    <tr>\n",
       "      <th>3</th>\n",
       "      <td>1630162</td>\n",
       "      <td>Anthony Edwards</td>\n",
       "      <td>35</td>\n",
       "    </tr>\n",
       "    <tr>\n",
       "      <th>4</th>\n",
       "      <td>1628983</td>\n",
       "      <td>Shai Gilgeous-Alexander</td>\n",
       "      <td>32</td>\n",
       "    </tr>\n",
       "  </tbody>\n",
       "</table>\n",
       "</div>"
      ],
      "text/plain": [
       "   FGM_pID              Player_Name  FGM\n",
       "0   203507    Giannis Antetokounmpo   60\n",
       "1     2544             LeBron James   45\n",
       "2  1627759             Jaylen Brown   39\n",
       "3  1630162          Anthony Edwards   35\n",
       "4  1628983  Shai Gilgeous-Alexander   32"
      ]
     },
     "execution_count": 33,
     "metadata": {},
     "output_type": "execute_result"
    }
   ],
   "source": [
    "data = pd.DataFrame({'FGM_pID':FGM_pID1,'Player_Name':Player_Name,'FGM':FGM})\n",
    "data = data.sort_values(by=['FGM'],ascending=False)\n",
    "data = data.reset_index(drop=True)\n",
    "data.head()"
   ]
  }
 ],
 "metadata": {
  "kernelspec": {
   "display_name": ".venv",
   "language": "python",
   "name": "python3"
  },
  "language_info": {
   "codemirror_mode": {
    "name": "ipython",
    "version": 3
   },
   "file_extension": ".py",
   "mimetype": "text/x-python",
   "name": "python",
   "nbconvert_exporter": "python",
   "pygments_lexer": "ipython3",
   "version": "3.9.7"
  },
  "orig_nbformat": 2
 },
 "nbformat": 4,
 "nbformat_minor": 2
}
