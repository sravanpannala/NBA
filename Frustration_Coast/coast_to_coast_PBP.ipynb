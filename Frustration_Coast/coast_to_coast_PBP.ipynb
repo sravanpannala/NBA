{
 "cells": [
  {
   "cell_type": "markdown",
   "metadata": {},
   "source": [
    "# Get Coast to Coast Assists and Buckets using PBP data\n"
   ]
  },
  {
   "cell_type": "code",
   "execution_count": null,
   "metadata": {},
   "outputs": [],
   "source": [
    "import os, sys\n",
    "sys.path.append(os.path.dirname(os.path.dirname(os.path.abspath(\"__file__\"))))\n",
    "from nbafuns import *\n",
    "\n",
    "fig_DIR = \"../figs/frustration_coast/\"\n",
    "\n",
    "league = \"NBA\"\n",
    "season_yr = \"2022\"\n",
    "season_type = \"Regular Season\"\n",
    "games_id = pbp_season(league=league,season_yr=season_yr ,season_type=season_type)\n",
    "games_list = pbp_games(games_id)"
   ]
  },
  {
   "cell_type": "code",
   "execution_count": null,
   "metadata": {},
   "outputs": [],
   "source": [
    "year = int(season_yr)\n",
    "# player_dict = get_players(league = 'NBA', from_year = year, to_year = year)\n",
    "player_dict = get_players_pbp(league = league)\n",
    "team_dict = teams.get_teams() # Creating Team Dictionary\n",
    "team_id = [x['id'] for x in team_dict ]"
   ]
  },
  {
   "cell_type": "markdown",
   "metadata": {},
   "source": [
    "## Coast to Coast Assists"
   ]
  },
  {
   "cell_type": "code",
   "execution_count": null,
   "metadata": {},
   "outputs": [],
   "source": [
    "from pbpstats.resources.enhanced_pbp import FieldGoal\n",
    "from pbpstats.resources.enhanced_pbp import Rebound\n",
    "pos_store = []\n",
    "Rebound_pID = []\n",
    "Assist_pID = []\n",
    "i = 0\n",
    "ii = 0\n",
    "for game in tqdm(games_list):\n",
    "    for possession in game.possessions.items:\n",
    "        for possession_event in possession.events:\n",
    "            if (isinstance(possession_event, FieldGoal) and possession_event.is_made and possession_event.is_assisted) and (isinstance(possession_event.previous_event, Rebound)) and possession_event.seconds_since_previous_event <= 5:\n",
    "                if possession_event.previous_event.player1_id == possession_event.player2_id:\n",
    "                    if not possession_event.previous_event.oreb :\n",
    "                        pos_store.append(possession)\n",
    "                        Rebound_pID.append(possession_event.previous_event.player1_id)\n",
    "                        print (\"Rebound Player: {0}\".format(possession_event.previous_event.player1_id))\n",
    "                        Assist_pID.append(possession_event.player2_id)\n",
    "                        print (\"Assist Player: {0}\".format(possession_event.player2_id))\n",
    "                        ii += 1\n",
    "                        # print(\"ii = {0}\".format(ii))\n",
    "    i += 1\n",
    "    # print(\"i = {0}\".format(i))\n",
    "    clear_output(wait=True)"
   ]
  },
  {
   "cell_type": "code",
   "execution_count": null,
   "metadata": {},
   "outputs": [],
   "source": [
    "## Code to figure out errors in player ID mapping\n",
    "# Player_Name = []\n",
    "# a = Assist_pID\n",
    "# wrong_id = []\n",
    "# Assist_pID1, Assists = np.unique(a, return_counts=True)  \n",
    "# for pID in Assist_pID1:\n",
    "#     abc = False\n",
    "#     for player in player_dict:\n",
    "#         if player['pID'] == pID:\n",
    "#             abc= True\n",
    "#             Player_Name.append(player['Name'])\n",
    "#     if not abc:\n",
    "#         wrong_id.append(pID)\n",
    "# print(len(Assist_pID1))\n",
    "# print(len(Player_Name))\n",
    "# print(len(wrong_id))"
   ]
  },
  {
   "cell_type": "code",
   "execution_count": null,
   "metadata": {},
   "outputs": [],
   "source": [
    "## Code to map pID to players using old format\n",
    "# Player_Name = []\n",
    "# a = Assist_pID\n",
    "# Assist_pID1, Assists = np.unique(a, return_counts=True)  \n",
    "# for pID in Assist_pID1:\n",
    "#     Player_Name.append([player['Name'] for player in player_dict if player['pID'] == pID]) \n",
    "# for i in range(len(Player_Name)):\n",
    "#     if not Player_Name[i]:\n",
    "#         Player_Name[i] =['abc']\n",
    "# Player_Name = list(itertools.chain(*Player_Name))"
   ]
  },
  {
   "cell_type": "code",
   "execution_count": null,
   "metadata": {},
   "outputs": [],
   "source": [
    "Assist_pID1, Assists = np.unique(Assist_pID, return_counts=True)\n",
    "Player_Name = np.array([player_dict[x] for x in Assist_pID1])"
   ]
  },
  {
   "cell_type": "code",
   "execution_count": null,
   "metadata": {},
   "outputs": [],
   "source": [
    "data_ca = pd.DataFrame({'Assist_pID':Assist_pID1,'Player':Player_Name,'AST':Assists})\n",
    "data_ca = data_ca.sort_values(by=['AST'],ascending=False)\n",
    "data_ca.reset_index(drop=True,inplace=True)\n",
    "data_ca.reset_index(drop=False,inplace=True)\n",
    "data_ca[\"#\"] = data_ca[\"index\"] +1\n",
    "data_ca = data_ca[[\"#\",\"Player\",\"AST\"]]\n",
    "data_ca = data_ca.head(10)"
   ]
  },
  {
   "cell_type": "markdown",
   "metadata": {},
   "source": [
    "## Coast to Coast Buckets"
   ]
  },
  {
   "cell_type": "code",
   "execution_count": null,
   "metadata": {},
   "outputs": [],
   "source": [
    "pos_store = []\n",
    "Rebound_pID = []\n",
    "FGM_pID = []\n",
    "i = 0\n",
    "ii = 0\n",
    "for game in tqdm(games_list):\n",
    "    for possession in game.possessions.items:\n",
    "        for possession_event in possession.events:\n",
    "            if (isinstance(possession_event, FieldGoal) and possession_event.is_made and not possession_event.is_assisted) and (isinstance(possession_event.previous_event, Rebound)) and possession_event.seconds_since_previous_event <= 8:\n",
    "                if possession_event.previous_event.player1_id == possession_event.player1_id:\n",
    "                    if not possession_event.previous_event.oreb :\n",
    "                        pos_store.append(possession)\n",
    "                        Rebound_pID.append(possession_event.previous_event.player1_id)\n",
    "                        print (\"Rebound Player: {0}\".format(possession_event.previous_event.player1_id))\n",
    "                        FGM_pID.append(possession_event.player1_id)\n",
    "                        print (\"FGM Player: {0}\".format(possession_event.player1_id))\n",
    "                        ii += 1\n",
    "                        print(\"ii = {0}\".format(ii))\n",
    "    i += 1\n",
    "    # print(\"i = {0}\".format(i))\n",
    "    clear_output(wait=True)"
   ]
  },
  {
   "cell_type": "code",
   "execution_count": null,
   "metadata": {},
   "outputs": [],
   "source": [
    "FGM_pID1, FGM = np.unique(FGM_pID, return_counts=True)  \n",
    "Player_Name = np.array([player_dict[x] for x in FGM_pID1])"
   ]
  },
  {
   "cell_type": "code",
   "execution_count": null,
   "metadata": {},
   "outputs": [],
   "source": [
    "data_cb = pd.DataFrame({'FGM_pID':FGM_pID1,'Player':Player_Name,'FGM':FGM})\n",
    "data_cb = data_cb.sort_values(by=['FGM'],ascending=False)\n",
    "data_cb.reset_index(drop=True,inplace=True)\n",
    "data_cb.reset_index(drop=False,inplace=True)\n",
    "data_cb[\"#\"] = data_cb[\"index\"] +1\n",
    "data_cb = data_cb[[\"#\",\"Player\",\"FGM\"]]\n",
    "data_cb = data_cb.head(10)"
   ]
  },
  {
   "cell_type": "code",
   "execution_count": null,
   "metadata": {},
   "outputs": [],
   "source": [
    "def plot_table(df,var,sort=\"Player\",title=\" \",footer=\" \",col_width=15):\n",
    "    fig = go.Figure(data=[go.Table(\n",
    "        columnwidth=[5,40,col_width],\n",
    "        header=dict(values=list(df.columns),\n",
    "                    fill_color='blue',\n",
    "                    align=['center','left','center'],\n",
    "                    font=dict(color='snow',family=\"Arial Black, monospace\", size=12),\n",
    "                    line_color=\"snow\"\n",
    "                    ),\n",
    "        cells=dict(values=[df[\"#\"],df[sort],df[var]],\n",
    "                fill_color='lavender',\n",
    "                align=['center','left','center'],\n",
    "                height=23,\n",
    "                line_color=\"grey\",#lightgrey\",\n",
    "                ),\n",
    "                # height=25\n",
    "        ),\n",
    "    ])\n",
    "    # fig.update_layout(title_text=title)\n",
    "    fig.update_layout(title=dict(text=title,y=0.98,x=0.02,font=dict(size=14,family=\"Arial Black, monospace\")))\n",
    "    tab_width = 250 + col_width\n",
    "    tab_height = 315\n",
    "    fig.update_layout(width=tab_width,height=tab_height,margin=dict(t=25,b=1,l=1,r=1))\n",
    "    fig.add_annotation(x=0.0, y=0.0,text=\"@SravanNBA\",showarrow=False,xshift=1,yshift=1,font=dict(size=10))\n",
    "    fig.add_annotation(x=1.0, y=0.0,text=\"Source: pbpstats\",showarrow=False,xshift=1,yshift=1,font=dict(size=10))\n",
    "    fig.add_annotation(x=0.1, y=0.0,text=footer,showarrow=False,xshift=0,yshift=15,font=dict(size=10))\n",
    "    # fig.update_layout(autosize=True)\n",
    "    fig.show()\n",
    "    # fig.write_image(fig_DIR+f\"{var}.png\", scale=2)\n",
    "    return fig"
   ]
  },
  {
   "cell_type": "code",
   "execution_count": null,
   "metadata": {},
   "outputs": [],
   "source": [
    "# Players with the most Coast to Coast Buckets this season (Player grabs a defensive rebound and scores within 8 seconds)"
   ]
  },
  {
   "cell_type": "code",
   "execution_count": null,
   "metadata": {},
   "outputs": [],
   "source": [
    "if league == \"NBA\":\n",
    "    title = f\"Coast to Coast Buckets {year}-{str(year+1)[2:]}\"\n",
    "elif league == \"WNBA\":\n",
    "    title = f\"Coast to Coast Buckets {year}\"\n",
    "footer = \"Player scores within 8s of rebounding\"\n",
    "fig = plot_table(data_cb,\"FGM\",title=title,footer=footer,col_width=15)\n",
    "fig.write_image(fig_DIR+f\"{league}_coast_buckets_{year}.png\", scale=3)"
   ]
  },
  {
   "cell_type": "code",
   "execution_count": null,
   "metadata": {},
   "outputs": [],
   "source": [
    "if league == \"NBA\":\n",
    "    title = f\"Coast to Coast Assists {year}-{str(year+1)[2:]}\"\n",
    "elif league == \"WNBA\":\n",
    "    title = f\"Coast to Coast Assists {year}\"\n",
    "footer = \"Player assists within 8s of rebounding\"\n",
    "fig = plot_table(data_ca,\"AST\",title=title,footer=footer,col_width=15)\n",
    "fig.write_image(fig_DIR+f\"{league}_coast_assists_{year}.png\", scale=3)"
   ]
  }
 ],
 "metadata": {
  "kernelspec": {
   "display_name": ".venv",
   "language": "python",
   "name": "python3"
  },
  "language_info": {
   "codemirror_mode": {
    "name": "ipython",
    "version": 3
   },
   "file_extension": ".py",
   "mimetype": "text/x-python",
   "name": "python",
   "nbconvert_exporter": "python",
   "pygments_lexer": "ipython3",
   "version": "3.9.7"
  },
  "orig_nbformat": 2
 },
 "nbformat": 4,
 "nbformat_minor": 2
}
