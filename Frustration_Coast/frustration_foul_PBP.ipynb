{
 "cells": [
  {
   "cell_type": "markdown",
   "metadata": {},
   "source": [
    "# Code to generate Frustration Fouls and Euro Fouls"
   ]
  },
  {
   "cell_type": "code",
   "execution_count": null,
   "metadata": {},
   "outputs": [],
   "source": [
    "import os, sys\n",
    "sys.path.append(os.path.dirname(os.path.dirname(os.path.abspath(\"__file__\"))))\n",
    "from nbafuns import *\n",
    "\n",
    "fig_DIR = \"../figs/frustration_coast/\""
   ]
  },
  {
   "cell_type": "code",
   "execution_count": null,
   "metadata": {},
   "outputs": [],
   "source": [
    "league = \"NBA\"\n",
    "season_yr = \"2019\"\n",
    "season_type = \"Regular Season\"\n",
    "games_id = pbp_season(league=league,season_yr=season_yr,season_type=season_type)\n",
    "games_list = pbp_games(games_id)"
   ]
  },
  {
   "cell_type": "code",
   "execution_count": null,
   "metadata": {},
   "outputs": [],
   "source": [
    "year = int(season_yr)\n",
    "# player_dict = get_players(league = 'NBA', from_year = year, to_year = year)\n",
    "player_dict = get_players_pbp(league = league)\n",
    "team_dict = teams.get_teams() # Creating Team Dictionary"
   ]
  },
  {
   "cell_type": "code",
   "execution_count": null,
   "metadata": {},
   "outputs": [],
   "source": [
    "from pbpstats.resources.enhanced_pbp import Foul\n",
    "from pbpstats.resources.enhanced_pbp import Turnover\n",
    "from pbpstats.resources.enhanced_pbp import FieldGoal\n",
    "pos_store = []\n",
    "TO_Miss_pID = []\n",
    "Foul_pID = []\n",
    "Foul_tID = []\n",
    "for game in tqdm(games_list):\n",
    "    for possession in game.possessions.items:\n",
    "        for possession_event in possession.events:\n",
    "            if isinstance(possession_event, Foul) and (isinstance(possession_event.previous_event, Turnover) or  (isinstance(possession_event.previous_event, FieldGoal) and not possession_event.previous_event.is_made)) and possession_event.seconds_since_previous_event <= 5:\n",
    "                pos_store.append(possession)\n",
    "                TO_Miss_pID.append(possession_event.previous_event.player1_id)\n",
    "                # print (\"Turnover/Missed Shot Player: {0}\".format(possession_event.previous_event.player1_id))\n",
    "                Foul_pID.append(possession_event.player1_id)\n",
    "                Foul_tID.append(possession_event.team_id)\n",
    "                # print (\"Foul Player: {0}\".format(possession_event.player1_id))"
   ]
  },
  {
   "cell_type": "code",
   "execution_count": null,
   "metadata": {},
   "outputs": [],
   "source": [
    "Foul_pID1, Fouls = np.unique(Foul_pID, return_counts=True)  \n",
    "Player_Name = np.array([player_dict.get(x,np.nan) for x in Foul_pID1])"
   ]
  },
  {
   "cell_type": "code",
   "execution_count": null,
   "metadata": {},
   "outputs": [],
   "source": [
    "data_euroP = pd.DataFrame({'Foul_pID':Foul_pID1,'Player_Name':Player_Name,'Fouls':Fouls})\n",
    "data_euroP = data_euroP[data_euroP['Player_Name'] != np.nan]\n",
    "# data_euroP.to_csv ('Fast_Fouls_20_21_updated.csv',index=False)"
   ]
  },
  {
   "cell_type": "code",
   "execution_count": null,
   "metadata": {},
   "outputs": [],
   "source": [
    "Foul_tID1, Fouls = np.unique(Foul_tID, return_counts=True)  \n",
    "Team_Name = [team['full_name'] for team, tID in zip(team_dict,Foul_tID1) if team['id'] ==tID]"
   ]
  },
  {
   "cell_type": "code",
   "execution_count": null,
   "metadata": {},
   "outputs": [],
   "source": [
    "np.sum(Fouls)"
   ]
  },
  {
   "cell_type": "code",
   "execution_count": null,
   "metadata": {},
   "outputs": [],
   "source": [
    "data_euroT = pd.DataFrame({'Foul_tID':Foul_tID1,'Team_Name':Team_Name,'Fouls':Fouls})\n",
    "# data_euroT.to_csv ('Fast_Fouls_20_21_teams_updated.csv',index=False)"
   ]
  },
  {
   "cell_type": "code",
   "execution_count": null,
   "metadata": {},
   "outputs": [],
   "source": [
    "FFoul_pID =[]\n",
    "k = 0\n",
    "for i in range(len(TO_Miss_pID)):\n",
    "    if TO_Miss_pID[i] == Foul_pID[i]:\n",
    "        FFoul_pID.append(Foul_pID[i])\n",
    "        k +=1\n",
    "        print(k)\n",
    "        clear_output(wait=True)"
   ]
  },
  {
   "cell_type": "code",
   "execution_count": null,
   "metadata": {},
   "outputs": [],
   "source": [
    "FFoul_pID1, Fouls = np.unique(FFoul_pID, return_counts=True)  \n",
    "Player_Name = np.array([player_dict.get(x,np.nan) for x in FFoul_pID1])"
   ]
  },
  {
   "cell_type": "code",
   "execution_count": null,
   "metadata": {},
   "outputs": [],
   "source": [
    "data_frust = pd.DataFrame({'FFoul_pID':FFoul_pID1,'Player':Player_Name,'Fouls':Fouls})\n",
    "data_frust = data_frust[data_frust['Player'] != np.nan]\n",
    "# data_frust.to_csv ('Frustration_Fouls_20_21_updated.csv',index=False)"
   ]
  },
  {
   "cell_type": "code",
   "execution_count": null,
   "metadata": {},
   "outputs": [],
   "source": [
    "data_frust['rank'] = data_frust['Fouls'].rank(ascending=False) \n",
    "data_frust = data_frust.sort_values(by=['rank'])\n",
    "data_frust_plot = data_frust.drop(columns=['FFoul_pID', 'rank'])\n",
    "data_frust_plot.reset_index(drop=True,inplace=True)\n",
    "data_frust_plot.reset_index(drop=False,inplace=True)\n",
    "data_frust_plot[\"#\"] = data_frust_plot[\"index\"] +1\n",
    "data_frust_plot = data_frust_plot[[\"#\",\"Player\",\"Fouls\"]]\n",
    "data_frust_plot = data_frust_plot.head(10)"
   ]
  },
  {
   "cell_type": "code",
   "execution_count": null,
   "metadata": {},
   "outputs": [],
   "source": [
    "def plot_table(df,var,sort=\"Player\",title=\" \",col_width=15):\n",
    "    fig = go.Figure(data=[go.Table(\n",
    "        columnwidth=[5,40,col_width],\n",
    "        header=dict(values=list(df.columns),\n",
    "                    fill_color='blue',\n",
    "                    align=['center','left','center'],\n",
    "                    font=dict(color='snow',family=\"Arial Black, monospace\", size=12),\n",
    "                    line_color=\"snow\"\n",
    "                    ),\n",
    "        cells=dict(values=[df[\"#\"],df[sort],df[var]],\n",
    "                fill_color='lavender',\n",
    "                align=['center','left','center'],\n",
    "                height=23,\n",
    "                line_color=\"grey\",#lightgrey\",\n",
    "                ),\n",
    "                # height=25\n",
    "        ),\n",
    "    ])\n",
    "    # fig.update_layout(title_text=title)\n",
    "    fig.update_layout(title=dict(text=title,y=0.98,x=0.1,font=dict(size=15,family=\"Arial Black, monospace\")))\n",
    "    tab_width = 250 + col_width\n",
    "    tab_height = 310\n",
    "    fig.update_layout(width=tab_width,height=tab_height,margin=dict(t=25,b=1,l=1,r=1))\n",
    "    fig.add_annotation(x=0.0, y=0.0,text=\"@SravanNBA\",showarrow=False,xshift=1,yshift=5)\n",
    "    fig.add_annotation(x=1.0, y=0.0,text=\"Source: pbpstats\",showarrow=False,xshift=1,yshift=5,font=dict(size=10))\n",
    "    # fig.update_layout(autosize=True)\n",
    "    fig.show()\n",
    "    # fig.write_image(fig_DIR+f\"{var}.png\", scale=2)\n",
    "    return fig"
   ]
  },
  {
   "cell_type": "code",
   "execution_count": null,
   "metadata": {},
   "outputs": [],
   "source": [
    "if league == \"NBA\":\n",
    "    title = f\"Frustration Fouls {year}-{year+1}\"\n",
    "elif league == \"WNBA\":\n",
    "    title = f\"Frustration Fouls {year}\"\n",
    "fig = plot_table(data_frust_plot,\"Fouls\",title=title,col_width=15)\n",
    "fig.write_image(fig_DIR+f\"{league}_frust_foul_{year}.png\", scale=3)"
   ]
  },
  {
   "cell_type": "code",
   "execution_count": null,
   "metadata": {},
   "outputs": [],
   "source": [
    "Foul_tID1, Fouls = np.unique(Foul_tID, return_counts=True)  \n",
    "Team_Name = [team['full_name'] for team, tID in zip(team_dict,Foul_tID1) if team['id'] ==tID]\n",
    "\n",
    "data_euro = pd.DataFrame({'Foul_tID':Foul_tID1,'Team':Team_Name,'Fouls':Fouls})\n",
    "data_euro['rank'] = data_euro['Fouls'].rank(ascending=False) \n",
    "data_euro = data_euro.sort_values(by=['rank'])\n",
    "data_euro_plot = data_euro.drop(columns=['Foul_tID', 'rank'])\n",
    "data_euro_plot.reset_index(drop=True,inplace=True)\n",
    "data_euro_plot.reset_index(drop=False,inplace=True)\n",
    "data_euro_plot[\"#\"] = data_euro_plot[\"index\"] +1\n",
    "data_euro_plot = data_euro_plot[[\"#\",\"Team\",\"Fouls\"]]\n",
    "data_euro_plot = data_euro_plot.head(10)"
   ]
  },
  {
   "cell_type": "code",
   "execution_count": null,
   "metadata": {},
   "outputs": [],
   "source": [
    "if league == \"NBA\":\n",
    "    title = f\"Euro Fouls {year}-{year+1}\"\n",
    "elif league == \"WNBA\":\n",
    "    title = f\"Euro Fouls {year}\"\n",
    "fig = plot_table(data_euro_plot,\"Fouls\",sort=\"Team\",title=title,col_width=15)\n",
    "fig.write_image(fig_DIR+f\"{league}_euro_foul_{year}.png\", scale=3)"
   ]
  }
 ],
 "metadata": {
  "interpreter": {
   "hash": "761d0843975b951240ed3f8c006d1f1501cd2a4c66c1dd99cea9ed75b2c1e460"
  },
  "kernelspec": {
   "display_name": "Python 3.9.7 64-bit ('nba-dIF8YUVF-py3.9': poetry)",
   "name": "python3"
  },
  "language_info": {
   "codemirror_mode": {
    "name": "ipython",
    "version": 3
   },
   "file_extension": ".py",
   "mimetype": "text/x-python",
   "name": "python",
   "nbconvert_exporter": "python",
   "pygments_lexer": "ipython3",
   "version": "3.9.7"
  },
  "orig_nbformat": 2
 },
 "nbformat": 4,
 "nbformat_minor": 2
}
