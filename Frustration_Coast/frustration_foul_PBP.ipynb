{
 "metadata": {
  "language_info": {
   "codemirror_mode": {
    "name": "ipython",
    "version": 3
   },
   "file_extension": ".py",
   "mimetype": "text/x-python",
   "name": "python",
   "nbconvert_exporter": "python",
   "pygments_lexer": "ipython3",
   "version": "3.8.6"
  },
  "orig_nbformat": 2,
  "kernelspec": {
   "name": "python386jvsc74a57bd069abaf9ba4075641c3af8c8176199ca30257e97ea4c7be29be239fe5610b3d43",
   "display_name": "Python 3.8.6 64-bit ('NBA-LJs_y2gm': pipenv)"
  }
 },
 "nbformat": 4,
 "nbformat_minor": 2,
 "cells": [
  {
   "cell_type": "markdown",
   "source": [
    "# Code to generate Frustration fouls and Euro Fouls"
   ],
   "metadata": {}
  },
  {
   "cell_type": "code",
   "execution_count": null,
   "source": [
    "import pandas as pd\r\n",
    "import numpy as np\r\n",
    "import time\r\n",
    "import datetime\r\n",
    "from IPython.display import clear_output\r\n",
    "from collections import Counter\r\n",
    "from functools import reduce\r\n",
    "import itertools\r\n",
    "from nba_api.stats.static import teams\r\n",
    "from pbpstats.client import Client\r\n",
    "import os, sys\r\n",
    "sys.path.append(os.path.dirname(os.path.dirname(os.path.abspath(\"__file__\"))))\r\n",
    "from nbafuns import *"
   ],
   "outputs": [],
   "metadata": {}
  },
  {
   "cell_type": "code",
   "execution_count": null,
   "source": [
    "from pbpstats.client import Client\r\n",
    "\r\n",
    "settings = {\r\n",
    "    \"Games\": {\"source\": \"web\", \"data_provider\": \"data_nba\"},\r\n",
    "     \"dir\": \"C:/Users/spannala/Documents/Sra_coding/NBA/pbpdata\",\r\n",
    "}\r\n",
    "client = Client(settings)\r\n",
    "# ID of all games for 2020-21 Season\r\n",
    "season = client.Season(\"nba\", \"2020-21\", \"Regular Season\")\r\n",
    "games_id = []\r\n",
    "k = 0\r\n",
    "for final_game in season.games.final_games:\r\n",
    "    k += 1\r\n",
    "    clear_output(wait=True)\r\n",
    "    print(k)\r\n",
    "    games_id.append(final_game['game_id'])"
   ],
   "outputs": [],
   "metadata": {
    "tags": []
   }
  },
  {
   "cell_type": "code",
   "execution_count": null,
   "source": [
    "settings = {\r\n",
    "    \"Boxscore\": {\"source\": \"web\", \"data_provider\": \"data_nba\"},\r\n",
    "    \"Possessions\": {\"source\": \"web\", \"data_provider\": \"data_nba\"},\r\n",
    "    \"dir\": \"C:/Users/spannala/Documents/Sra_coding/NBA/pbpdata\"\r\n",
    "}\r\n",
    "client = Client(settings)\r\n",
    "games_list = []\r\n",
    "bad_games_list = []\r\n",
    "k = 0\r\n",
    "for gameid in games_id:\r\n",
    "    clear_output(wait=True)\r\n",
    "    k += 1\r\n",
    "    print(k)\r\n",
    "    try:\r\n",
    "        games_list.append(client.Game(gameid))\r\n",
    "    except:\r\n",
    "        print(gameid)\r\n",
    "        bad_games_list.append(gameid)\r\n",
    "        continue"
   ],
   "outputs": [],
   "metadata": {}
  },
  {
   "cell_type": "code",
   "execution_count": null,
   "source": [
    "len(bad_games_list)"
   ],
   "outputs": [],
   "metadata": {}
  },
  {
   "cell_type": "code",
   "execution_count": null,
   "source": [
    "year = 2020\r\n",
    "player_dict = get_players(league = 'NBA', from_year = year, to_year = year)\r\n",
    "team_dict = teams.get_teams() # Creating Team Dictionary\r\n",
    "team_id = [x['id'] for x in team_dict ]"
   ],
   "outputs": [],
   "metadata": {}
  },
  {
   "cell_type": "code",
   "execution_count": null,
   "source": [
    "from pbpstats.resources.enhanced_pbp import Foul\r\n",
    "from pbpstats.resources.enhanced_pbp import Turnover\r\n",
    "from pbpstats.resources.enhanced_pbp import FieldGoal\r\n",
    "pos_store = []\r\n",
    "TO_Miss_pID = []\r\n",
    "Foul_pID = []\r\n",
    "Foul_tID = []\r\n",
    "i = 0\r\n",
    "ii = 0\r\n",
    "for game in games_list:\r\n",
    "    for possession in game.possessions.items:\r\n",
    "        for possession_event in possession.events:\r\n",
    "            if isinstance(possession_event, Foul) and (isinstance(possession_event.previous_event, Turnover) or  (isinstance(possession_event.previous_event, FieldGoal) and not possession_event.previous_event.is_made)) and possession_event.seconds_since_previous_event <= 5:\r\n",
    "                pos_store.append(possession)\r\n",
    "                TO_Miss_pID.append(possession_event.previous_event.player1_id)\r\n",
    "                print (\"Turnover/Missed Shot Player: {0}\".format(possession_event.previous_event.player1_id))\r\n",
    "                Foul_pID.append(possession_event.player1_id)\r\n",
    "                Foul_tID.append(possession_event.team_id)\r\n",
    "                print (\"Foul Player: {0}\".format(possession_event.player1_id))\r\n",
    "                ii += 1\r\n",
    "                print(\"ii = {0}\".format(ii))\r\n",
    "    i += 1\r\n",
    "    print(\"i = {0}\".format(i))\r\n",
    "    clear_output(wait=True)"
   ],
   "outputs": [],
   "metadata": {}
  },
  {
   "cell_type": "code",
   "execution_count": null,
   "source": [
    "Player_Name = []\r\n",
    "a = Foul_pID\r\n",
    "Foul_pID1, Fouls = np.unique(a, return_counts=True)  \r\n",
    "\r\n",
    "for pID in Foul_pID1:\r\n",
    "    Player_Name.append([player['Name'] for player in player_dict if player['pID'] == pID]) \r\n",
    "Player_Name = list(itertools.chain(*Player_Name))"
   ],
   "outputs": [],
   "metadata": {}
  },
  {
   "cell_type": "code",
   "execution_count": null,
   "source": [
    "data = pd.DataFrame({'Foul_pID':Foul_pID1,'Player_Name':Player_Name,'Fouls':Fouls})\r\n",
    "data.to_csv ('Fast_Fouls_20_21_updated.csv',index=False)"
   ],
   "outputs": [],
   "metadata": {}
  },
  {
   "cell_type": "code",
   "execution_count": null,
   "source": [
    "Team_Name = [] \r\n",
    "a = Foul_tID\r\n",
    "Foul_ptD1, Fouls = np.unique(a, return_counts=True)  \r\n",
    "for tID in Foul_tID1:  \r\n",
    "    Team_Name.append([team['full_name'] for team in team_dict if team['id'] == tID])\r\n",
    "Team_Name = list(itertools.chain(*Team_Name))"
   ],
   "outputs": [],
   "metadata": {}
  },
  {
   "cell_type": "code",
   "execution_count": null,
   "source": [
    "data = pd.DataFrame({'Foul_tID':Foul_tID1,'Team_Name':Team_Name,'Fouls':Fouls})\r\n",
    "data.to_csv ('Fast_Fouls_20_21_teams_updated.csv',index=False)"
   ],
   "outputs": [],
   "metadata": {}
  },
  {
   "cell_type": "code",
   "execution_count": null,
   "source": [
    "FFoul_pID =[]\n",
    "k = 0\n",
    "for i in range(len(TO_Miss_pID)):\n",
    "    if TO_Miss_pID[i] == Foul_pID[i]:\n",
    "        FFoul_pID.append(Foul_pID[i])\n",
    "        k +=1\n",
    "        print(k)\n",
    "        clear_output(wait=True)"
   ],
   "outputs": [],
   "metadata": {}
  },
  {
   "cell_type": "code",
   "execution_count": null,
   "source": [
    "Player_Name = []\n",
    "a = FFoul_pID\n",
    "FFoul_pID, Fouls = np.unique(a, return_counts=True)\n",
    "for pID in FFoul_pID:\n",
    "    Player_Name.append([player['Name'] for player in player_dict if player['pID'] == pID]) \n",
    "Player_Name = list(itertools.chain(*Player_Name))   "
   ],
   "outputs": [],
   "metadata": {}
  },
  {
   "cell_type": "code",
   "execution_count": null,
   "source": [
    "data = pd.DataFrame({'FFoul_pID':FFoul_pID,'Player_Name':Player_Name,'Fouls':Fouls})\n",
    "data.to_csv ('Frustration_Fouls_20_21_updated.csv',index=False)"
   ],
   "outputs": [],
   "metadata": {}
  }
 ]
}