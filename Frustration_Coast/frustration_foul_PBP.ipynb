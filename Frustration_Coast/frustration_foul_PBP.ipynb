{
 "cells": [
  {
   "cell_type": "markdown",
   "metadata": {},
   "source": [
    "# Code to generate Frustration fouls and Euro Fouls"
   ]
  },
  {
   "cell_type": "code",
   "execution_count": null,
   "metadata": {},
   "outputs": [],
   "source": [
    "import pandas as pd\n",
    "import numpy as np\n",
    "import time\n",
    "import datetime\n",
    "from IPython.display import clear_output\n",
    "from collections import Counter\n",
    "from functools import reduce\n",
    "import itertools\n",
    "from nba_api.stats.static import teams\n",
    "from pbpstats.client import Client\n",
    "from tqdm import tqdm\n",
    "import os, sys\n",
    "sys.path.append(os.path.dirname(os.path.dirname(os.path.abspath(\"__file__\"))))\n",
    "from nbafuns import *"
   ]
  },
  {
   "cell_type": "code",
   "execution_count": null,
   "metadata": {
    "tags": []
   },
   "outputs": [],
   "source": [
    "from pbpstats.client import Client\n",
    "\n",
    "settings = {\n",
    "    \"Games\": {\"source\": \"web\", \"data_provider\": \"data_nba\"},\n",
    "     \"dir\": \"C:/Users/spannala/Documents/Sra_coding/NBA/pbpdata\",\n",
    "}\n",
    "client = Client(settings)\n",
    "# ID of all games for 2020-21 Season\n",
    "season = client.Season(\"nba\", \"2020-21\", \"Regular Season\")\n",
    "games_id = []\n",
    "k = 0\n",
    "for final_game in season.games.final_games:\n",
    "    k += 1\n",
    "    clear_output(wait=True)\n",
    "    print(k)\n",
    "    games_id.append(final_game['game_id'])"
   ]
  },
  {
   "cell_type": "code",
   "execution_count": null,
   "metadata": {},
   "outputs": [],
   "source": [
    "settings = {\n",
    "    \"Boxscore\": {\"source\": \"web\", \"data_provider\": \"data_nba\"},\n",
    "    \"Possessions\": {\"source\": \"web\", \"data_provider\": \"data_nba\"},\n",
    "    \"dir\": \"C:/Users/spannala/Documents/Sra_coding/NBA/pbpdata\"\n",
    "}\n",
    "client = Client(settings)\n",
    "games_list = []\n",
    "bad_games_list = []\n",
    "k = 0\n",
    "for gameid in tqdm(games_id):\n",
    "    clear_output(wait=True)\n",
    "    k += 1\n",
    "    # print(k)\n",
    "    try:\n",
    "        games_list.append(client.Game(gameid))\n",
    "    except:\n",
    "        print(gameid)\n",
    "        bad_games_list.append(gameid)\n",
    "        continue"
   ]
  },
  {
   "cell_type": "code",
   "execution_count": null,
   "metadata": {},
   "outputs": [],
   "source": [
    "len(bad_games_list)"
   ]
  },
  {
   "cell_type": "code",
   "execution_count": null,
   "metadata": {},
   "outputs": [],
   "source": [
    "year = 2020\n",
    "player_dict = get_players(league = 'NBA', from_year = year, to_year = year)\n",
    "team_dict = teams.get_teams() # Creating Team Dictionary\n",
    "team_id = [x['id'] for x in team_dict ]"
   ]
  },
  {
   "cell_type": "code",
   "execution_count": null,
   "metadata": {},
   "outputs": [],
   "source": [
    "from pbpstats.resources.enhanced_pbp import Foul\n",
    "from pbpstats.resources.enhanced_pbp import Turnover\n",
    "from pbpstats.resources.enhanced_pbp import FieldGoal\n",
    "pos_store = []\n",
    "TO_Miss_pID = []\n",
    "Foul_pID = []\n",
    "Foul_tID = []\n",
    "i = 0\n",
    "ii = 0\n",
    "for game in tqdm(games_list):\n",
    "    for possession in game.possessions.items:\n",
    "        for possession_event in possession.events:\n",
    "            if isinstance(possession_event, Foul) and (isinstance(possession_event.previous_event, Turnover) or  (isinstance(possession_event.previous_event, FieldGoal) and not possession_event.previous_event.is_made)) and possession_event.seconds_since_previous_event <= 5:\n",
    "                pos_store.append(possession)\n",
    "                TO_Miss_pID.append(possession_event.previous_event.player1_id)\n",
    "                print (\"Turnover/Missed Shot Player: {0}\".format(possession_event.previous_event.player1_id))\n",
    "                Foul_pID.append(possession_event.player1_id)\n",
    "                Foul_tID.append(possession_event.team_id)\n",
    "                print (\"Foul Player: {0}\".format(possession_event.player1_id))\n",
    "                ii += 1\n",
    "                # print(\"ii = {0}\".format(ii))\n",
    "    i += 1\n",
    "    # print(\"i = {0}\".format(i))\n",
    "    clear_output(wait=True)"
   ]
  },
  {
   "cell_type": "code",
   "execution_count": null,
   "metadata": {},
   "outputs": [],
   "source": [
    "Player_Name = []\n",
    "a = Foul_pID\n",
    "Foul_pID1, Fouls = np.unique(a, return_counts=True)  \n",
    "\n",
    "for pID in Foul_pID1:\n",
    "    Player_Name.append([player['Name'] for player in player_dict if player['pID'] == pID]) \n",
    "Player_Name = list(itertools.chain(*Player_Name))"
   ]
  },
  {
   "cell_type": "code",
   "execution_count": null,
   "metadata": {},
   "outputs": [],
   "source": [
    "data = pd.DataFrame({'Foul_pID':Foul_pID1,'Player_Name':Player_Name,'Fouls':Fouls})\n",
    "data.to_csv ('Fast_Fouls_20_21_updated.csv',index=False)"
   ]
  },
  {
   "cell_type": "code",
   "execution_count": null,
   "metadata": {},
   "outputs": [],
   "source": [
    "Team_Name = [] \n",
    "a = Foul_tID\n",
    "Foul_ptD1, Fouls = np.unique(a, return_counts=True)  \n",
    "for tID in Foul_tID1:  \n",
    "    Team_Name.append([team['full_name'] for team in team_dict if team['id'] == tID])\n",
    "Team_Name = list(itertools.chain(*Team_Name))"
   ]
  },
  {
   "cell_type": "code",
   "execution_count": null,
   "metadata": {},
   "outputs": [],
   "source": [
    "data = pd.DataFrame({'Foul_tID':Foul_tID1,'Team_Name':Team_Name,'Fouls':Fouls})\n",
    "data.to_csv ('Fast_Fouls_20_21_teams_updated.csv',index=False)"
   ]
  },
  {
   "cell_type": "code",
   "execution_count": null,
   "metadata": {},
   "outputs": [],
   "source": [
    "FFoul_pID =[]\n",
    "k = 0\n",
    "for i in range(len(TO_Miss_pID)):\n",
    "    if TO_Miss_pID[i] == Foul_pID[i]:\n",
    "        FFoul_pID.append(Foul_pID[i])\n",
    "        k +=1\n",
    "        print(k)\n",
    "        clear_output(wait=True)"
   ]
  },
  {
   "cell_type": "code",
   "execution_count": null,
   "metadata": {},
   "outputs": [],
   "source": [
    "Player_Name = []\n",
    "a = FFoul_pID\n",
    "FFoul_pID, Fouls = np.unique(a, return_counts=True)\n",
    "for pID in FFoul_pID:\n",
    "    Player_Name.append([player['Name'] for player in player_dict if player['pID'] == pID]) \n",
    "Player_Name = list(itertools.chain(*Player_Name))   "
   ]
  },
  {
   "cell_type": "code",
   "execution_count": null,
   "metadata": {},
   "outputs": [],
   "source": [
    "data = pd.DataFrame({'FFoul_pID':FFoul_pID,'Player_Name':Player_Name,'Fouls':Fouls})\n",
    "data.to_csv ('Frustration_Fouls_20_21_updated.csv',index=False)"
   ]
  }
 ],
 "metadata": {
  "kernelspec": {
   "display_name": "Python 3.8.6 64-bit ('NBA-LJs_y2gm': pipenv)",
   "name": "python386jvsc74a57bd069abaf9ba4075641c3af8c8176199ca30257e97ea4c7be29be239fe5610b3d43"
  },
  "language_info": {
   "codemirror_mode": {
    "name": "ipython",
    "version": 3
   },
   "file_extension": ".py",
   "mimetype": "text/x-python",
   "name": "python",
   "nbconvert_exporter": "python",
   "pygments_lexer": "ipython3",
   "version": "3.8.6"
  },
  "orig_nbformat": 2
 },
 "nbformat": 4,
 "nbformat_minor": 2
}
