{
 "cells": [
  {
   "cell_type": "markdown",
   "metadata": {},
   "source": [
    "# Code to generate Frustration fouls and Euro Fouls"
   ]
  },
  {
   "cell_type": "code",
   "execution_count": 1,
   "metadata": {},
   "outputs": [],
   "source": [
    "import pandas as pd\n",
    "import numpy as np\n",
    "import time\n",
    "import datetime\n",
    "from IPython.display import clear_output\n",
    "from collections import Counter\n",
    "from functools import reduce\n",
    "import itertools\n",
    "from nba_api.stats.static import teams\n",
    "from pbpstats.client import Client\n",
    "import plotly.graph_objects as go \n",
    "from tqdm import tqdm\n",
    "import os, sys\n",
    "sys.path.append(os.path.dirname(os.path.dirname(os.path.abspath(\"__file__\"))))\n",
    "from nbafuns import *\n",
    "\n",
    "fig_DIR = \"./figs/\""
   ]
  },
  {
   "cell_type": "code",
   "execution_count": 9,
   "metadata": {
    "tags": []
   },
   "outputs": [
    {
     "name": "stdout",
     "output_type": "stream",
     "text": [
      "1230\n"
     ]
    }
   ],
   "source": [
    "settings = {\n",
    "    \"Games\": {\"source\": \"web\", \"data_provider\": \"data_nba\"},\n",
    "     \"dir\": \"C:/Users/pansr/Documents/Sra_Coding/NBA/pbpdata\",\n",
    "}\n",
    "client = Client(settings)\n",
    "# ID of all games for 2020-21 Season\n",
    "league = \"nba\"\n",
    "season_yr = \"2022\"\n",
    "season_type = \"Regular Season\"\n",
    "season = client.Season(league, season_yr, season_type)\n",
    "games_id = []\n",
    "\n",
    "for final_game in season.games.final_games:\n",
    "    games_id.append(final_game['game_id'])\n",
    "print(len(games_id))"
   ]
  },
  {
   "cell_type": "code",
   "execution_count": 10,
   "metadata": {},
   "outputs": [
    {
     "name": "stderr",
     "output_type": "stream",
     "text": [
      "100%|██████████| 1230/1230 [00:41<00:00, 29.40it/s]"
     ]
    },
    {
     "name": "stdout",
     "output_type": "stream",
     "text": [
      "35\n"
     ]
    },
    {
     "name": "stderr",
     "output_type": "stream",
     "text": [
      "\n"
     ]
    }
   ],
   "source": [
    "settings = {\n",
    "    \"Boxscore\": {\"source\": \"file\", \"data_provider\": \"data_nba\"},\n",
    "    \"Possessions\": {\"source\": \"file\", \"data_provider\": \"data_nba\"},\n",
    "    \"dir\": \"C:/Users/pansr/Documents/Sra_Coding/NBA/pbpdata\"\n",
    "}\n",
    "client = Client(settings)\n",
    "games_list = []\n",
    "bad_games_list = []\n",
    "for gameid in tqdm(games_id):\n",
    "    try:\n",
    "        games_list.append(client.Game(gameid))\n",
    "    except:\n",
    "        # print(gameid)\n",
    "        bad_games_list.append(gameid)\n",
    "        continue\n",
    "print(len(bad_games_list))"
   ]
  },
  {
   "cell_type": "code",
   "execution_count": 23,
   "metadata": {},
   "outputs": [],
   "source": [
    "i = 0"
   ]
  },
  {
   "cell_type": "code",
   "execution_count": 26,
   "metadata": {},
   "outputs": [
    {
     "data": {
      "text/plain": [
       "'0022200519'"
      ]
     },
     "execution_count": 26,
     "metadata": {},
     "output_type": "execute_result"
    }
   ],
   "source": [
    "gameid"
   ]
  },
  {
   "cell_type": "code",
   "execution_count": 25,
   "metadata": {},
   "outputs": [
    {
     "ename": "InvalidNumberOfStartersException",
     "evalue": "GameId: 0022200519, Period: 5, TeamId: 1610612741, Players: [202696, 1630172, 201942, 1630245]",
     "output_type": "error",
     "traceback": [
      "\u001b[1;31m---------------------------------------------------------------------------\u001b[0m",
      "\u001b[1;31mInvalidNumberOfStartersException\u001b[0m          Traceback (most recent call last)",
      "\u001b[1;32m~\\AppData\\Local\\Temp/ipykernel_35004/1862735689.py\u001b[0m in \u001b[0;36m<module>\u001b[1;34m\u001b[0m\n\u001b[0;32m      1\u001b[0m \u001b[0mi\u001b[0m \u001b[1;33m=\u001b[0m \u001b[1;36m34\u001b[0m\u001b[1;33m\u001b[0m\u001b[1;33m\u001b[0m\u001b[0m\n\u001b[0;32m      2\u001b[0m \u001b[0mgameid\u001b[0m \u001b[1;33m=\u001b[0m \u001b[0mbad_games_list\u001b[0m\u001b[1;33m[\u001b[0m\u001b[0mi\u001b[0m\u001b[1;33m]\u001b[0m\u001b[1;33m\u001b[0m\u001b[1;33m\u001b[0m\u001b[0m\n\u001b[1;32m----> 3\u001b[1;33m \u001b[0mclient\u001b[0m\u001b[1;33m.\u001b[0m\u001b[0mGame\u001b[0m\u001b[1;33m(\u001b[0m\u001b[0mgameid\u001b[0m\u001b[1;33m)\u001b[0m\u001b[1;33m\u001b[0m\u001b[1;33m\u001b[0m\u001b[0m\n\u001b[0m",
      "\u001b[1;32mc:\\Users\\pansr\\Documents\\Sra_Coding\\NBA\\.venv\\lib\\site-packages\\pbpstats\\objects\\game.py\u001b[0m in \u001b[0;36m__init__\u001b[1;34m(self, game_id)\u001b[0m\n\u001b[0;32m     46\u001b[0m             \u001b[0msource_loader_cls\u001b[0m \u001b[1;33m=\u001b[0m \u001b[0mdata_source_map\u001b[0m\u001b[1;33m[\u001b[0m\u001b[0mattr_name\u001b[0m\u001b[1;33m]\u001b[0m\u001b[1;33m\u001b[0m\u001b[1;33m\u001b[0m\u001b[0m\n\u001b[0;32m     47\u001b[0m             \u001b[0msource_loader\u001b[0m \u001b[1;33m=\u001b[0m \u001b[0msource_loader_cls\u001b[0m\u001b[1;33m(\u001b[0m\u001b[0mself\u001b[0m\u001b[1;33m.\u001b[0m\u001b[0mdata_directory\u001b[0m\u001b[1;33m)\u001b[0m\u001b[1;33m\u001b[0m\u001b[1;33m\u001b[0m\u001b[0m\n\u001b[1;32m---> 48\u001b[1;33m             \u001b[0mdata\u001b[0m \u001b[1;33m=\u001b[0m \u001b[0mdata_loader\u001b[0m\u001b[1;33m[\u001b[0m\u001b[1;36m1\u001b[0m\u001b[1;33m]\u001b[0m\u001b[1;33m(\u001b[0m\u001b[0mgame_id\u001b[0m\u001b[1;33m,\u001b[0m \u001b[0msource_loader\u001b[0m\u001b[1;33m)\u001b[0m\u001b[1;33m\u001b[0m\u001b[1;33m\u001b[0m\u001b[0m\n\u001b[0m\u001b[0;32m     49\u001b[0m             \u001b[0mresource_cls\u001b[0m \u001b[1;33m=\u001b[0m \u001b[0mgetattr\u001b[0m\u001b[1;33m(\u001b[0m\u001b[0mself\u001b[0m\u001b[1;33m,\u001b[0m \u001b[0mattr_name\u001b[0m\u001b[1;33m)\u001b[0m\u001b[1;33m\u001b[0m\u001b[1;33m\u001b[0m\u001b[0m\n\u001b[0;32m     50\u001b[0m             setattr(\n",
      "\u001b[1;32mc:\\Users\\pansr\\Documents\\Sra_Coding\\NBA\\.venv\\lib\\site-packages\\pbpstats\\data_loader\\data_nba\\possessions\\loader.py\u001b[0m in \u001b[0;36m__init__\u001b[1;34m(self, game_id, source_loader)\u001b[0m\n\u001b[0;32m     33\u001b[0m         \u001b[0mself\u001b[0m\u001b[1;33m.\u001b[0m\u001b[0mgame_id\u001b[0m \u001b[1;33m=\u001b[0m \u001b[0mgame_id\u001b[0m\u001b[1;33m\u001b[0m\u001b[1;33m\u001b[0m\u001b[0m\n\u001b[0;32m     34\u001b[0m         \u001b[0mself\u001b[0m\u001b[1;33m.\u001b[0m\u001b[0mfile_directory\u001b[0m \u001b[1;33m=\u001b[0m \u001b[0msource_loader\u001b[0m\u001b[1;33m.\u001b[0m\u001b[0mfile_directory\u001b[0m\u001b[1;33m\u001b[0m\u001b[1;33m\u001b[0m\u001b[0m\n\u001b[1;32m---> 35\u001b[1;33m         pbp_events = DataNbaEnhancedPbpLoader(\n\u001b[0m\u001b[0;32m     36\u001b[0m             \u001b[0mgame_id\u001b[0m\u001b[1;33m,\u001b[0m \u001b[0msource_loader\u001b[0m\u001b[1;33m.\u001b[0m\u001b[0menhanced_pbp_source_loader\u001b[0m\u001b[1;33m\u001b[0m\u001b[1;33m\u001b[0m\u001b[0m\n\u001b[0;32m     37\u001b[0m         )\n",
      "\u001b[1;32mc:\\Users\\pansr\\Documents\\Sra_Coding\\NBA\\.venv\\lib\\site-packages\\pbpstats\\data_loader\\data_nba\\enhanced_pbp\\loader.py\u001b[0m in \u001b[0;36m__init__\u001b[1;34m(self, game_id, source_loader)\u001b[0m\n\u001b[0;32m     40\u001b[0m     \u001b[1;32mdef\u001b[0m \u001b[0m__init__\u001b[0m\u001b[1;33m(\u001b[0m\u001b[0mself\u001b[0m\u001b[1;33m,\u001b[0m \u001b[0mgame_id\u001b[0m\u001b[1;33m,\u001b[0m \u001b[0msource_loader\u001b[0m\u001b[1;33m)\u001b[0m\u001b[1;33m:\u001b[0m\u001b[1;33m\u001b[0m\u001b[1;33m\u001b[0m\u001b[0m\n\u001b[0;32m     41\u001b[0m         \u001b[0mself\u001b[0m\u001b[1;33m.\u001b[0m\u001b[0mfile_directory\u001b[0m \u001b[1;33m=\u001b[0m \u001b[0msource_loader\u001b[0m\u001b[1;33m.\u001b[0m\u001b[0mfile_directory\u001b[0m\u001b[1;33m\u001b[0m\u001b[1;33m\u001b[0m\u001b[0m\n\u001b[1;32m---> 42\u001b[1;33m         \u001b[0msuper\u001b[0m\u001b[1;33m(\u001b[0m\u001b[1;33m)\u001b[0m\u001b[1;33m.\u001b[0m\u001b[0m__init__\u001b[0m\u001b[1;33m(\u001b[0m\u001b[0mgame_id\u001b[0m\u001b[1;33m,\u001b[0m \u001b[0msource_loader\u001b[0m\u001b[1;33m)\u001b[0m\u001b[1;33m\u001b[0m\u001b[1;33m\u001b[0m\u001b[0m\n\u001b[0m\u001b[0;32m     43\u001b[0m \u001b[1;33m\u001b[0m\u001b[0m\n\u001b[0;32m     44\u001b[0m     \u001b[1;32mdef\u001b[0m \u001b[0m_make_pbp_items\u001b[0m\u001b[1;33m(\u001b[0m\u001b[0mself\u001b[0m\u001b[1;33m)\u001b[0m\u001b[1;33m:\u001b[0m\u001b[1;33m\u001b[0m\u001b[1;33m\u001b[0m\u001b[0m\n",
      "\u001b[1;32mc:\\Users\\pansr\\Documents\\Sra_Coding\\NBA\\.venv\\lib\\site-packages\\pbpstats\\data_loader\\data_nba\\pbp\\loader.py\u001b[0m in \u001b[0;36m__init__\u001b[1;34m(self, game_id, source_loader)\u001b[0m\n\u001b[0;32m     32\u001b[0m         \u001b[0mself\u001b[0m\u001b[1;33m.\u001b[0m\u001b[0mgame_id\u001b[0m \u001b[1;33m=\u001b[0m \u001b[0mgame_id\u001b[0m\u001b[1;33m\u001b[0m\u001b[1;33m\u001b[0m\u001b[0m\n\u001b[0;32m     33\u001b[0m         \u001b[0mself\u001b[0m\u001b[1;33m.\u001b[0m\u001b[0msource_data\u001b[0m \u001b[1;33m=\u001b[0m \u001b[0msource_loader\u001b[0m\u001b[1;33m.\u001b[0m\u001b[0mload_data\u001b[0m\u001b[1;33m(\u001b[0m\u001b[0mself\u001b[0m\u001b[1;33m.\u001b[0m\u001b[0mgame_id\u001b[0m\u001b[1;33m)\u001b[0m\u001b[1;33m\u001b[0m\u001b[1;33m\u001b[0m\u001b[0m\n\u001b[1;32m---> 34\u001b[1;33m         \u001b[0mself\u001b[0m\u001b[1;33m.\u001b[0m\u001b[0m_make_pbp_items\u001b[0m\u001b[1;33m(\u001b[0m\u001b[1;33m)\u001b[0m\u001b[1;33m\u001b[0m\u001b[1;33m\u001b[0m\u001b[0m\n\u001b[0m\u001b[0;32m     35\u001b[0m \u001b[1;33m\u001b[0m\u001b[0m\n\u001b[0;32m     36\u001b[0m     \u001b[1;32mdef\u001b[0m \u001b[0m_make_pbp_items\u001b[0m\u001b[1;33m(\u001b[0m\u001b[0mself\u001b[0m\u001b[1;33m)\u001b[0m\u001b[1;33m:\u001b[0m\u001b[1;33m\u001b[0m\u001b[1;33m\u001b[0m\u001b[0m\n",
      "\u001b[1;32mc:\\Users\\pansr\\Documents\\Sra_Coding\\NBA\\.venv\\lib\\site-packages\\pbpstats\\data_loader\\data_nba\\enhanced_pbp\\loader.py\u001b[0m in \u001b[0;36m_make_pbp_items\u001b[1;34m(self)\u001b[0m\n\u001b[0;32m     49\u001b[0m             \u001b[1;32mfor\u001b[0m \u001b[0mevent\u001b[0m \u001b[1;32min\u001b[0m \u001b[0mitem\u001b[0m\u001b[1;33m[\u001b[0m\u001b[1;34m\"pla\"\u001b[0m\u001b[1;33m]\u001b[0m\u001b[1;33m\u001b[0m\u001b[1;33m\u001b[0m\u001b[0m\n\u001b[0;32m     50\u001b[0m         ]\n\u001b[1;32m---> 51\u001b[1;33m         \u001b[0mself\u001b[0m\u001b[1;33m.\u001b[0m\u001b[0m_add_extra_attrs_to_all_events\u001b[0m\u001b[1;33m(\u001b[0m\u001b[1;33m)\u001b[0m\u001b[1;33m\u001b[0m\u001b[1;33m\u001b[0m\u001b[0m\n\u001b[0m",
      "\u001b[1;32mc:\\Users\\pansr\\Documents\\Sra_Coding\\NBA\\.venv\\lib\\site-packages\\pbpstats\\data_loader\\nba_enhanced_pbp_loader.py\u001b[0m in \u001b[0;36m_add_extra_attrs_to_all_events\u001b[1;34m(self)\u001b[0m\n\u001b[0;32m     86\u001b[0m \u001b[1;33m\u001b[0m\u001b[0m\n\u001b[0;32m     87\u001b[0m         \u001b[1;31m# these need next and previous event to be added to all events\u001b[0m\u001b[1;33m\u001b[0m\u001b[1;33m\u001b[0m\u001b[0m\n\u001b[1;32m---> 88\u001b[1;33m         \u001b[0mself\u001b[0m\u001b[1;33m.\u001b[0m\u001b[0m_set_period_start_items\u001b[0m\u001b[1;33m(\u001b[0m\u001b[1;33m)\u001b[0m\u001b[1;33m\u001b[0m\u001b[1;33m\u001b[0m\u001b[0m\n\u001b[0m\u001b[0;32m     89\u001b[0m \u001b[1;33m\u001b[0m\u001b[0m\n\u001b[0;32m     90\u001b[0m     \u001b[1;32mdef\u001b[0m \u001b[0m_set_period_start_items\u001b[0m\u001b[1;33m(\u001b[0m\u001b[0mself\u001b[0m\u001b[1;33m)\u001b[0m\u001b[1;33m:\u001b[0m\u001b[1;33m\u001b[0m\u001b[1;33m\u001b[0m\u001b[0m\n",
      "\u001b[1;32mc:\\Users\\pansr\\Documents\\Sra_Coding\\NBA\\.venv\\lib\\site-packages\\pbpstats\\data_loader\\nba_enhanced_pbp_loader.py\u001b[0m in \u001b[0;36m_set_period_start_items\u001b[1;34m(self)\u001b[0m\n\u001b[0;32m     95\u001b[0m             \u001b[0mteam_id\u001b[0m \u001b[1;33m=\u001b[0m \u001b[0mself\u001b[0m\u001b[1;33m.\u001b[0m\u001b[0mitems\u001b[0m\u001b[1;33m[\u001b[0m\u001b[0mi\u001b[0m\u001b[1;33m]\u001b[0m\u001b[1;33m.\u001b[0m\u001b[0mget_team_starting_with_ball\u001b[0m\u001b[1;33m(\u001b[0m\u001b[1;33m)\u001b[0m\u001b[1;33m\u001b[0m\u001b[1;33m\u001b[0m\u001b[0m\n\u001b[0;32m     96\u001b[0m             \u001b[0mself\u001b[0m\u001b[1;33m.\u001b[0m\u001b[0mitems\u001b[0m\u001b[1;33m[\u001b[0m\u001b[0mi\u001b[0m\u001b[1;33m]\u001b[0m\u001b[1;33m.\u001b[0m\u001b[0mteam_starting_with_ball\u001b[0m \u001b[1;33m=\u001b[0m \u001b[0mteam_id\u001b[0m\u001b[1;33m\u001b[0m\u001b[1;33m\u001b[0m\u001b[0m\n\u001b[1;32m---> 97\u001b[1;33m             period_starters = self.items[i].get_period_starters(\n\u001b[0m\u001b[0;32m     98\u001b[0m                 \u001b[0mfile_directory\u001b[0m\u001b[1;33m=\u001b[0m\u001b[0mself\u001b[0m\u001b[1;33m.\u001b[0m\u001b[0mfile_directory\u001b[0m\u001b[1;33m\u001b[0m\u001b[1;33m\u001b[0m\u001b[0m\n\u001b[0;32m     99\u001b[0m             )\n",
      "\u001b[1;32mc:\\Users\\pansr\\Documents\\Sra_Coding\\NBA\\.venv\\lib\\site-packages\\pbpstats\\resources\\enhanced_pbp\\data_nba\\start_of_period.py\u001b[0m in \u001b[0;36mget_period_starters\u001b[1;34m(self, file_directory)\u001b[0m\n\u001b[0;32m     27\u001b[0m             \u001b[0mIf\u001b[0m \u001b[0mall\u001b[0m \u001b[1;36m5\u001b[0m \u001b[0mplayers\u001b[0m \u001b[0mthat\u001b[0m \u001b[0mstart\u001b[0m \u001b[0mthe\u001b[0m \u001b[0mperiod\u001b[0m \u001b[1;32mfor\u001b[0m \u001b[0ma\u001b[0m \u001b[0mteam\u001b[0m \u001b[0mcan\u001b[0m\u001b[0;31m'\u001b[0m\u001b[0mt\u001b[0m \u001b[0mbe\u001b[0m \u001b[0mdetermined\u001b[0m\u001b[1;33m.\u001b[0m\u001b[1;33m\u001b[0m\u001b[1;33m\u001b[0m\u001b[0m\n\u001b[0;32m     28\u001b[0m         \"\"\"\n\u001b[1;32m---> 29\u001b[1;33m         \u001b[1;32mreturn\u001b[0m \u001b[0mself\u001b[0m\u001b[1;33m.\u001b[0m\u001b[0m_get_period_starters_from_period_events\u001b[0m\u001b[1;33m(\u001b[0m\u001b[0mfile_directory\u001b[0m\u001b[1;33m)\u001b[0m\u001b[1;33m\u001b[0m\u001b[1;33m\u001b[0m\u001b[0m\n\u001b[0m",
      "\u001b[1;32mc:\\Users\\pansr\\Documents\\Sra_Coding\\NBA\\.venv\\lib\\site-packages\\pbpstats\\resources\\enhanced_pbp\\start_of_period.py\u001b[0m in \u001b[0;36m_get_period_starters_from_period_events\u001b[1;34m(self, file_directory, ignore_missing_starters)\u001b[0m\n\u001b[0;32m    231\u001b[0m         \u001b[0mstarters_by_team\u001b[0m \u001b[1;33m=\u001b[0m \u001b[0mself\u001b[0m\u001b[1;33m.\u001b[0m\u001b[0m_split_up_starters_by_team\u001b[0m\u001b[1;33m(\u001b[0m\u001b[0mstarters\u001b[0m\u001b[1;33m,\u001b[0m \u001b[0mplayer_team_map\u001b[0m\u001b[1;33m)\u001b[0m\u001b[1;33m\u001b[0m\u001b[1;33m\u001b[0m\u001b[0m\n\u001b[0;32m    232\u001b[0m         \u001b[1;32mif\u001b[0m \u001b[1;32mnot\u001b[0m \u001b[0mignore_missing_starters\u001b[0m\u001b[1;33m:\u001b[0m\u001b[1;33m\u001b[0m\u001b[1;33m\u001b[0m\u001b[0m\n\u001b[1;32m--> 233\u001b[1;33m             \u001b[0mself\u001b[0m\u001b[1;33m.\u001b[0m\u001b[0m_check_both_teams_have_5_starters\u001b[0m\u001b[1;33m(\u001b[0m\u001b[0mstarters_by_team\u001b[0m\u001b[1;33m,\u001b[0m \u001b[0mfile_directory\u001b[0m\u001b[1;33m)\u001b[0m\u001b[1;33m\u001b[0m\u001b[1;33m\u001b[0m\u001b[0m\n\u001b[0m\u001b[0;32m    234\u001b[0m \u001b[1;33m\u001b[0m\u001b[0m\n\u001b[0;32m    235\u001b[0m         \u001b[1;32mreturn\u001b[0m \u001b[0mstarters_by_team\u001b[0m\u001b[1;33m\u001b[0m\u001b[1;33m\u001b[0m\u001b[0m\n",
      "\u001b[1;32mc:\\Users\\pansr\\Documents\\Sra_Coding\\NBA\\.venv\\lib\\site-packages\\pbpstats\\resources\\enhanced_pbp\\start_of_period.py\u001b[0m in \u001b[0;36m_check_both_teams_have_5_starters\u001b[1;34m(self, starters_by_team, file_directory)\u001b[0m\n\u001b[0;32m    220\u001b[0m                     ][team_id]\n\u001b[0;32m    221\u001b[0m                 \u001b[1;32melse\u001b[0m\u001b[1;33m:\u001b[0m\u001b[1;33m\u001b[0m\u001b[1;33m\u001b[0m\u001b[0m\n\u001b[1;32m--> 222\u001b[1;33m                     raise InvalidNumberOfStartersException(\n\u001b[0m\u001b[0;32m    223\u001b[0m                         \u001b[1;34mf\"GameId: {game_id}, Period: {self.period}, TeamId: {team_id}, Players: {starters}\"\u001b[0m\u001b[1;33m\u001b[0m\u001b[1;33m\u001b[0m\u001b[0m\n\u001b[0;32m    224\u001b[0m                     )\n",
      "\u001b[1;31mInvalidNumberOfStartersException\u001b[0m: GameId: 0022200519, Period: 5, TeamId: 1610612741, Players: [202696, 1630172, 201942, 1630245]"
     ]
    }
   ],
   "source": [
    "i = 34\n",
    "gameid = bad_games_list[i]\n",
    "client.Game(gameid)"
   ]
  },
  {
   "cell_type": "code",
   "execution_count": 4,
   "metadata": {},
   "outputs": [
    {
     "name": "stderr",
     "output_type": "stream",
     "text": [
      "100%|██████████| 1195/1195 [00:00<00:00, 3272.76it/s]\n"
     ]
    }
   ],
   "source": [
    "from pbpstats.resources.enhanced_pbp import Foul\n",
    "from pbpstats.resources.enhanced_pbp import Turnover\n",
    "from pbpstats.resources.enhanced_pbp import FieldGoal\n",
    "pos_store = []\n",
    "TO_Miss_pID = []\n",
    "Foul_pID = []\n",
    "Foul_tID = []\n",
    "for game in tqdm(games_list):\n",
    "    for possession in game.possessions.items:\n",
    "        for possession_event in possession.events:\n",
    "            if isinstance(possession_event, Foul) and (isinstance(possession_event.previous_event, Turnover) or  (isinstance(possession_event.previous_event, FieldGoal) and not possession_event.previous_event.is_made)) and possession_event.seconds_since_previous_event <= 5:\n",
    "                pos_store.append(possession)\n",
    "                TO_Miss_pID.append(possession_event.previous_event.player1_id)\n",
    "                # print (\"Turnover/Missed Shot Player: {0}\".format(possession_event.previous_event.player1_id))\n",
    "                Foul_pID.append(possession_event.player1_id)\n",
    "                Foul_tID.append(possession_event.team_id)\n",
    "                # print (\"Foul Player: {0}\".format(possession_event.player1_id))"
   ]
  },
  {
   "cell_type": "code",
   "execution_count": 7,
   "metadata": {},
   "outputs": [],
   "source": [
    "year = int(season_yr)\n",
    "player_dict = get_players(league = 'NBA', from_year = year, to_year = year)\n",
    "team_dict = teams.get_teams() # Creating Team Dictionary\n",
    "team_id = [x['id'] for x in team_dict ]"
   ]
  },
  {
   "cell_type": "code",
   "execution_count": 8,
   "metadata": {},
   "outputs": [],
   "source": [
    "Player_Name = []\n",
    "a = Foul_pID\n",
    "Foul_pID1, Fouls = np.unique(a, return_counts=True)  \n",
    "\n",
    "for pID in Foul_pID1:\n",
    "    Player_Name.append([player['Name'] for player in player_dict if player['pID'] == pID]) "
   ]
  },
  {
   "cell_type": "code",
   "execution_count": null,
   "metadata": {},
   "outputs": [],
   "source": [
    "\n",
    "for i in range(len(Player_Name)):\n",
    "    if not Player_Name[i]:\n",
    "        Player_Name[i] =['abc']\n",
    "Player_Name = list(itertools.chain(*Player_Name))\n",
    "print(len(Player_Name))\n",
    "print(len(Foul_pID1))"
   ]
  },
  {
   "cell_type": "code",
   "execution_count": null,
   "metadata": {},
   "outputs": [],
   "source": [
    "data_euroP = pd.DataFrame({'Foul_pID':Foul_pID1,'Player_Name':Player_Name,'Fouls':Fouls})\n",
    "data_euroP = data_euroP[data_euroP['Player_Name'] != 'abc']\n",
    "# data_euroP.to_csv ('Fast_Fouls_20_21_updated.csv',index=False)"
   ]
  },
  {
   "cell_type": "code",
   "execution_count": null,
   "metadata": {},
   "outputs": [],
   "source": [
    "Team_Name = [] \n",
    "a = Foul_tID\n",
    "Foul_tID1, Fouls = np.unique(a, return_counts=True)  \n",
    "for tID in Foul_tID1:  \n",
    "    Team_Name.append([team['full_name'] for team in team_dict if team['id'] == tID])\n",
    "Team_Name = list(itertools.chain(*Team_Name))"
   ]
  },
  {
   "cell_type": "code",
   "execution_count": null,
   "metadata": {},
   "outputs": [],
   "source": [
    "np.sum(Fouls)"
   ]
  },
  {
   "cell_type": "code",
   "execution_count": null,
   "metadata": {},
   "outputs": [],
   "source": [
    "data_euroT = pd.DataFrame({'Foul_tID':Foul_tID1,'Team_Name':Team_Name,'Fouls':Fouls})\n",
    "# data_euroT.to_csv ('Fast_Fouls_20_21_teams_updated.csv',index=False)\n",
    "data_euroT"
   ]
  },
  {
   "cell_type": "code",
   "execution_count": null,
   "metadata": {},
   "outputs": [],
   "source": [
    "FFoul_pID =[]\n",
    "k = 0\n",
    "for i in range(len(TO_Miss_pID)):\n",
    "    if TO_Miss_pID[i] == Foul_pID[i]:\n",
    "        FFoul_pID.append(Foul_pID[i])\n",
    "        k +=1\n",
    "        print(k)\n",
    "        clear_output(wait=True)"
   ]
  },
  {
   "cell_type": "code",
   "execution_count": null,
   "metadata": {},
   "outputs": [],
   "source": [
    "Player_Name = []\n",
    "a = FFoul_pID\n",
    "FFoul_pID, Fouls = np.unique(a, return_counts=True)\n",
    "for pID in FFoul_pID:\n",
    "    Player_Name.append([player['Name'] for player in player_dict if player['pID'] == pID]) "
   ]
  },
  {
   "cell_type": "code",
   "execution_count": null,
   "metadata": {},
   "outputs": [],
   "source": [
    "for i in range(len(Player_Name)):\n",
    "    if not Player_Name[i]:\n",
    "        Player_Name[i] =['abc']\n",
    "Player_Name = list(itertools.chain(*Player_Name))\n",
    "print(len(Player_Name))\n",
    "print(len(FFoul_pID))"
   ]
  },
  {
   "cell_type": "code",
   "execution_count": null,
   "metadata": {},
   "outputs": [],
   "source": [
    "data_frust = pd.DataFrame({'FFoul_pID':FFoul_pID,'Player':Player_Name,'Fouls':Fouls})\n",
    "data_frust = data_frust[data_frust['Player'] != 'abc']\n",
    "# data_frust.to_csv ('Frustration_Fouls_20_21_updated.csv',index=False)"
   ]
  },
  {
   "cell_type": "code",
   "execution_count": null,
   "metadata": {},
   "outputs": [],
   "source": [
    "data_frust['rank'] = data_frust['Fouls'].rank(ascending=False) \n",
    "data_frust = data_frust.sort_values(by=['rank'])\n",
    "data_frust_plot = data_frust.drop(columns=['FFoul_pID', 'rank'])\n",
    "data_frust_plot.reset_index(drop=True,inplace=True)\n",
    "data_frust_plot.reset_index(drop=False,inplace=True)\n",
    "data_frust_plot[\"#\"] = data_frust_plot[\"index\"] +1\n",
    "data_frust_plot = data_frust_plot[[\"#\",\"Player\",\"Fouls\"]]\n",
    "data_frust_plot = data_frust_plot.head(10)\n",
    "data_frust_plot"
   ]
  },
  {
   "cell_type": "code",
   "execution_count": null,
   "metadata": {},
   "outputs": [],
   "source": [
    "def plot_table(df,var,sort=\"Player\",title=\" \",col_width=15):\n",
    "    fig = go.Figure(data=[go.Table(\n",
    "        columnwidth=[5,40,col_width],\n",
    "        header=dict(values=list(df.columns),\n",
    "                    fill_color='blue',\n",
    "                    align=['center','left','center'],\n",
    "                    font=dict(color='snow',family=\"Arial Black, monospace\", size=12),\n",
    "                    line_color=\"snow\"\n",
    "                    ),\n",
    "        cells=dict(values=[df[\"#\"],df[sort],df[var]],\n",
    "                fill_color='lavender',\n",
    "                align=['center','left','center'],\n",
    "                height=23,\n",
    "                line_color=\"grey\",#lightgrey\",\n",
    "                ),\n",
    "                # height=25\n",
    "        ),\n",
    "    ])\n",
    "    # fig.update_layout(title_text=title)\n",
    "    fig.update_layout(title=dict(text=title,y=0.98,x=0.1,font=dict(size=15,family=\"Arial Black, monospace\")))\n",
    "    tab_width = 250 + col_width\n",
    "    tab_height = 310\n",
    "    fig.update_layout(width=tab_width,height=tab_height,margin=dict(t=25,b=1,l=1,r=1))\n",
    "    fig.add_annotation(x=0.0, y=0.0,text=\"@SravanNBA\",showarrow=False,xshift=1,yshift=5)\n",
    "    fig.add_annotation(x=1.0, y=0.0,text=\"Source: pbpstats\",showarrow=False,xshift=1,yshift=5)\n",
    "    # fig.update_layout(autosize=True)\n",
    "    fig.show()\n",
    "    # fig.write_image(fig_DIR+f\"{var}.png\", scale=2)\n",
    "    return fig"
   ]
  },
  {
   "cell_type": "code",
   "execution_count": null,
   "metadata": {},
   "outputs": [],
   "source": [
    "fig = plot_table(data_frust_plot,\"Fouls\",title=\"Frustration Fouls 2022-23\",col_width=15)\n",
    "fig.write_image(fig_DIR+f\"frust_foul.png\", scale=2)"
   ]
  },
  {
   "cell_type": "code",
   "execution_count": null,
   "metadata": {},
   "outputs": [],
   "source": [
    "Team_Name = [] \n",
    "a = Foul_tID\n",
    "Foul_tID1, Fouls = np.unique(a, return_counts=True)  \n",
    "for tID in Foul_tID1:  \n",
    "    Team_Name.append([team['full_name'] for team in team_dict if team['id'] == tID])\n",
    "Team_Name = list(itertools.chain(*Team_Name))\n",
    "\n",
    "data_euro = pd.DataFrame({'Foul_tID':Foul_tID1,'Team':Team_Name,'Fouls':Fouls})\n",
    "data_euro['rank'] = data_euro['Fouls'].rank(ascending=False) \n",
    "data_euro = data_euro.sort_values(by=['rank'])\n",
    "data_euro_plot = data_euro.drop(columns=['Foul_tID', 'rank'])\n",
    "data_euro_plot.reset_index(drop=True,inplace=True)\n",
    "data_euro_plot.reset_index(drop=False,inplace=True)\n",
    "data_euro_plot[\"#\"] = data_euro_plot[\"index\"] +1\n",
    "data_euro_plot = data_euro_plot[[\"#\",\"Team\",\"Fouls\"]]\n",
    "data_euro_plot = data_euro_plot.head(10)\n",
    "data_euro_plot"
   ]
  },
  {
   "cell_type": "code",
   "execution_count": null,
   "metadata": {},
   "outputs": [],
   "source": [
    "fig = plot_table(data_euro_plot,\"Fouls\",sort=\"Team\",title=\"Euro Fouls 2022-23\",col_width=15)\n",
    "fig.write_image(fig_DIR+f\"frust_foul.png\", scale=2)"
   ]
  }
 ],
 "metadata": {
  "interpreter": {
   "hash": "761d0843975b951240ed3f8c006d1f1501cd2a4c66c1dd99cea9ed75b2c1e460"
  },
  "kernelspec": {
   "display_name": "Python 3.9.7 64-bit ('nba-dIF8YUVF-py3.9': poetry)",
   "name": "python3"
  },
  "language_info": {
   "codemirror_mode": {
    "name": "ipython",
    "version": 3
   },
   "file_extension": ".py",
   "mimetype": "text/x-python",
   "name": "python",
   "nbconvert_exporter": "python",
   "pygments_lexer": "ipython3",
   "version": "3.9.7"
  },
  "orig_nbformat": 2
 },
 "nbformat": 4,
 "nbformat_minor": 2
}
