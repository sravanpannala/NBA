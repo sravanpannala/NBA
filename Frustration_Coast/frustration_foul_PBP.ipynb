{
 "cells": [
  {
   "cell_type": "markdown",
   "metadata": {},
   "source": [
    "# Code to generate Frustration fouls and Euro Fouls"
   ]
  },
  {
   "cell_type": "code",
   "execution_count": 2,
   "metadata": {},
   "outputs": [],
   "source": [
    "import pandas as pd\n",
    "import numpy as np\n",
    "import matplotlib.pyplot as plt\n",
    "import time\n",
    "import datetime\n",
    "from IPython.display import clear_output\n",
    "from collections import Counter\n",
    "from functools import reduce\n",
    "import itertools\n",
    "from nba_api.stats.static import teams\n",
    "from pbpstats.client import Client\n",
    "from tqdm import tqdm\n",
    "import os, sys\n",
    "sys.path.append(os.path.dirname(os.path.dirname(os.path.abspath(\"__file__\"))))\n",
    "from nbafuns import *"
   ]
  },
  {
   "cell_type": "code",
   "execution_count": 3,
   "metadata": {
    "tags": []
   },
   "outputs": [
    {
     "name": "stdout",
     "output_type": "stream",
     "text": [
      "1080\n"
     ]
    }
   ],
   "source": [
    "from pbpstats.client import Client\n",
    "\n",
    "settings = {\n",
    "    \"Games\": {\"source\": \"web\", \"data_provider\": \"data_nba\"},\n",
    "     \"dir\": \"G:/My Drive/Sra_coding/NBA/pbpdata\",\n",
    "}\n",
    "client = Client(settings)\n",
    "# ID of all games for 2020-21 Season\n",
    "league = \"nba\"\n",
    "season_yr = \"2020\"\n",
    "season_type = \"Regular Season\"\n",
    "season = client.Season(league, season_yr, season_type)\n",
    "games_id = []\n",
    "\n",
    "for final_game in season.games.final_games:\n",
    "    games_id.append(final_game['game_id'])\n",
    "print(len(games_id))"
   ]
  },
  {
   "cell_type": "code",
   "execution_count": 4,
   "metadata": {},
   "outputs": [
    {
     "name": "stderr",
     "output_type": "stream",
     "text": [
      "100%|██████████| 1080/1080 [00:58<00:00, 18.56it/s]"
     ]
    },
    {
     "name": "stdout",
     "output_type": "stream",
     "text": [
      "11\n"
     ]
    },
    {
     "name": "stderr",
     "output_type": "stream",
     "text": [
      "\n"
     ]
    }
   ],
   "source": [
    "settings = {\n",
    "    \"Boxscore\": {\"source\": \"file\", \"data_provider\": \"data_nba\"},\n",
    "    \"Possessions\": {\"source\": \"file\", \"data_provider\": \"data_nba\"},\n",
    "    \"dir\": \"G:/My Drive/Sra_coding/NBA/pbpdata\"\n",
    "}\n",
    "client = Client(settings)\n",
    "games_list = []\n",
    "bad_games_list = []\n",
    "for gameid in tqdm(games_id):\n",
    "    try:\n",
    "        games_list.append(client.Game(gameid))\n",
    "    except:\n",
    "        # print(gameid)\n",
    "        bad_games_list.append(gameid)\n",
    "        continue\n",
    "print(len(bad_games_list))"
   ]
  },
  {
   "cell_type": "code",
   "execution_count": 5,
   "metadata": {},
   "outputs": [
    {
     "name": "stderr",
     "output_type": "stream",
     "text": [
      "100%|██████████| 1069/1069 [00:00<00:00, 3747.78it/s]\n"
     ]
    }
   ],
   "source": [
    "from pbpstats.resources.enhanced_pbp import Foul\n",
    "from pbpstats.resources.enhanced_pbp import Turnover\n",
    "from pbpstats.resources.enhanced_pbp import FieldGoal\n",
    "pos_store = []\n",
    "TO_Miss_pID = []\n",
    "Foul_pID = []\n",
    "Foul_tID = []\n",
    "for game in tqdm(games_list):\n",
    "    for possession in game.possessions.items:\n",
    "        for possession_event in possession.events:\n",
    "            if isinstance(possession_event, Foul) and (isinstance(possession_event.previous_event, Turnover) or  (isinstance(possession_event.previous_event, FieldGoal) and not possession_event.previous_event.is_made)) and possession_event.seconds_since_previous_event <= 5:\n",
    "                pos_store.append(possession)\n",
    "                TO_Miss_pID.append(possession_event.previous_event.player1_id)\n",
    "                # print (\"Turnover/Missed Shot Player: {0}\".format(possession_event.previous_event.player1_id))\n",
    "                Foul_pID.append(possession_event.player1_id)\n",
    "                Foul_tID.append(possession_event.team_id)\n",
    "                # print (\"Foul Player: {0}\".format(possession_event.player1_id))"
   ]
  },
  {
   "cell_type": "code",
   "execution_count": 6,
   "metadata": {},
   "outputs": [],
   "source": [
    "year = int(season_yr)\n",
    "player_dict = get_players(league = 'NBA', from_year = year, to_year = year)\n",
    "team_dict = teams.get_teams() # Creating Team Dictionary\n",
    "team_id = [x['id'] for x in team_dict ]"
   ]
  },
  {
   "cell_type": "code",
   "execution_count": 7,
   "metadata": {},
   "outputs": [],
   "source": [
    "Player_Name = []\n",
    "a = Foul_pID\n",
    "Foul_pID1, Fouls = np.unique(a, return_counts=True)  \n",
    "\n",
    "for pID in Foul_pID1:\n",
    "    Player_Name.append([player['Name'] for player in player_dict if player['pID'] == pID]) "
   ]
  },
  {
   "cell_type": "code",
   "execution_count": 8,
   "metadata": {},
   "outputs": [
    {
     "name": "stdout",
     "output_type": "stream",
     "text": [
      "448\n",
      "448\n"
     ]
    }
   ],
   "source": [
    "\n",
    "for i in range(len(Player_Name)):\n",
    "    if not Player_Name[i]:\n",
    "        Player_Name[i] =['abc']\n",
    "Player_Name = list(itertools.chain(*Player_Name))\n",
    "print(len(Player_Name))\n",
    "print(len(Foul_pID1))"
   ]
  },
  {
   "cell_type": "code",
   "execution_count": 9,
   "metadata": {},
   "outputs": [],
   "source": [
    "data_euroP = pd.DataFrame({'Foul_pID':Foul_pID1,'Player_Name':Player_Name,'Fouls':Fouls})\n",
    "data_euroP = data_euroP[data_euroP['Player_Name'] != 'abc']\n",
    "# data_euroP.to_csv ('Fast_Fouls_20_21_updated.csv',index=False)"
   ]
  },
  {
   "cell_type": "code",
   "execution_count": 10,
   "metadata": {},
   "outputs": [],
   "source": [
    "Team_Name = [] \n",
    "a = Foul_tID\n",
    "Foul_tID1, Fouls = np.unique(a, return_counts=True)  \n",
    "for tID in Foul_tID1:  \n",
    "    Team_Name.append([team['full_name'] for team in team_dict if team['id'] == tID])\n",
    "Team_Name = list(itertools.chain(*Team_Name))"
   ]
  },
  {
   "cell_type": "code",
   "execution_count": 11,
   "metadata": {},
   "outputs": [],
   "source": [
    "data_euroT = pd.DataFrame({'Foul_tID':Foul_tID1,'Team_Name':Team_Name,'Fouls':Fouls})\n",
    "# data_euroT.to_csv ('Fast_Fouls_20_21_teams_updated.csv',index=False)"
   ]
  },
  {
   "cell_type": "code",
   "execution_count": 12,
   "metadata": {},
   "outputs": [
    {
     "name": "stdout",
     "output_type": "stream",
     "text": [
      "717\n"
     ]
    }
   ],
   "source": [
    "FFoul_pID =[]\n",
    "k = 0\n",
    "for i in range(len(TO_Miss_pID)):\n",
    "    if TO_Miss_pID[i] == Foul_pID[i]:\n",
    "        FFoul_pID.append(Foul_pID[i])\n",
    "        k +=1\n",
    "        print(k)\n",
    "        clear_output(wait=True)"
   ]
  },
  {
   "cell_type": "code",
   "execution_count": 13,
   "metadata": {},
   "outputs": [],
   "source": [
    "Player_Name = []\n",
    "a = FFoul_pID\n",
    "FFoul_pID, Fouls = np.unique(a, return_counts=True)\n",
    "for pID in FFoul_pID:\n",
    "    Player_Name.append([player['Name'] for player in player_dict if player['pID'] == pID]) "
   ]
  },
  {
   "cell_type": "code",
   "execution_count": 14,
   "metadata": {},
   "outputs": [
    {
     "name": "stdout",
     "output_type": "stream",
     "text": [
      "275\n",
      "275\n"
     ]
    }
   ],
   "source": [
    "for i in range(len(Player_Name)):\n",
    "    if not Player_Name[i]:\n",
    "        Player_Name[i] =['abc']\n",
    "Player_Name = list(itertools.chain(*Player_Name))\n",
    "print(len(Player_Name))\n",
    "print(len(FFoul_pID))"
   ]
  },
  {
   "cell_type": "code",
   "execution_count": 15,
   "metadata": {},
   "outputs": [],
   "source": [
    "data_frust = pd.DataFrame({'FFoul_pID':FFoul_pID,'Player':Player_Name,'Fouls':Fouls})\n",
    "data_frust = data_frust[data_frust['Player'] != 'abc']\n",
    "# data_frust.to_csv ('Frustration_Fouls_20_21_updated.csv',index=False)"
   ]
  },
  {
   "cell_type": "code",
   "execution_count": 16,
   "metadata": {},
   "outputs": [
    {
     "data": {
      "text/html": [
       "<div>\n",
       "<style scoped>\n",
       "    .dataframe tbody tr th:only-of-type {\n",
       "        vertical-align: middle;\n",
       "    }\n",
       "\n",
       "    .dataframe tbody tr th {\n",
       "        vertical-align: top;\n",
       "    }\n",
       "\n",
       "    .dataframe thead th {\n",
       "        text-align: right;\n",
       "    }\n",
       "</style>\n",
       "<table border=\"1\" class=\"dataframe\">\n",
       "  <thead>\n",
       "    <tr style=\"text-align: right;\">\n",
       "      <th></th>\n",
       "      <th>Player</th>\n",
       "      <th>Fouls</th>\n",
       "    </tr>\n",
       "  </thead>\n",
       "  <tbody>\n",
       "    <tr>\n",
       "      <th>4</th>\n",
       "      <td>Chris Paul</td>\n",
       "      <td>15</td>\n",
       "    </tr>\n",
       "    <tr>\n",
       "      <th>162</th>\n",
       "      <td>Donovan Mitchell</td>\n",
       "      <td>13</td>\n",
       "    </tr>\n",
       "    <tr>\n",
       "      <th>204</th>\n",
       "      <td>Luka Doncic</td>\n",
       "      <td>12</td>\n",
       "    </tr>\n",
       "    <tr>\n",
       "      <th>93</th>\n",
       "      <td>Zach LaVine</td>\n",
       "      <td>9</td>\n",
       "    </tr>\n",
       "    <tr>\n",
       "      <th>101</th>\n",
       "      <td>Julius Randle</td>\n",
       "      <td>9</td>\n",
       "    </tr>\n",
       "    <tr>\n",
       "      <th>107</th>\n",
       "      <td>Nikola Jokic</td>\n",
       "      <td>9</td>\n",
       "    </tr>\n",
       "    <tr>\n",
       "      <th>8</th>\n",
       "      <td>Kyle Lowry</td>\n",
       "      <td>9</td>\n",
       "    </tr>\n",
       "    <tr>\n",
       "      <th>17</th>\n",
       "      <td>Russell Westbrook</td>\n",
       "      <td>9</td>\n",
       "    </tr>\n",
       "    <tr>\n",
       "      <th>12</th>\n",
       "      <td>Mike Conley</td>\n",
       "      <td>8</td>\n",
       "    </tr>\n",
       "    <tr>\n",
       "      <th>202</th>\n",
       "      <td>Trae Young</td>\n",
       "      <td>8</td>\n",
       "    </tr>\n",
       "  </tbody>\n",
       "</table>\n",
       "</div>"
      ],
      "text/plain": [
       "                Player  Fouls\n",
       "4           Chris Paul     15\n",
       "162   Donovan Mitchell     13\n",
       "204        Luka Doncic     12\n",
       "93         Zach LaVine      9\n",
       "101      Julius Randle      9\n",
       "107       Nikola Jokic      9\n",
       "8           Kyle Lowry      9\n",
       "17   Russell Westbrook      9\n",
       "12         Mike Conley      8\n",
       "202         Trae Young      8"
      ]
     },
     "execution_count": 16,
     "metadata": {},
     "output_type": "execute_result"
    }
   ],
   "source": [
    "data_frust['rank'] = data_frust['Fouls'].rank(ascending=False) \n",
    "data_frust = data_frust.sort_values(by=['rank'])\n",
    "data_frust_plot = data_frust.drop(columns=['FFoul_pID', 'rank'])\n",
    "data_frust_plot = data_frust_plot.head(10)\n",
    "data_frust_plot"
   ]
  },
  {
   "cell_type": "code",
   "execution_count": 29,
   "metadata": {},
   "outputs": [
    {
     "data": {
      "image/png": "[encoded data removed]",
      "text/plain": [
       "<Figure size 432x495 with 1 Axes>"
      ]
     },
     "metadata": {},
     "output_type": "display_data"
    }
   ],
   "source": [
    "def render_mpl_table(data, col_width=3.0, row_height=0.625, font_size=14,\n",
    "                     header_color='#40466e', row_colors=['#f1f1f2', 'w'], edge_color='w',\n",
    "                     bbox=[0, 0, 1, 1], header_columns=0,\n",
    "                     ax=None, **kwargs):\n",
    "    if ax is None:\n",
    "        size = (np.array(data.shape[::-1]) + np.array([0, 1])) * np.array([col_width, row_height])\n",
    "        fig, ax = plt.subplots(figsize=size)\n",
    "        ax.axis('off')\n",
    "    mpl_table = ax.table(cellText=data.values, bbox=bbox,cellLoc='center', colLabels=data.columns, **kwargs)\n",
    "    mpl_table.auto_set_font_size(False)\n",
    "    mpl_table.set_fontsize(font_size)\n",
    "\n",
    "    for k, cell in mpl_table._cells.items():\n",
    "        cell.set_edgecolor(edge_color)\n",
    "        if k[0] == 0 or k[1] < header_columns:\n",
    "            cell.set_text_props(weight='bold', color='w')\n",
    "            cell.set_facecolor(header_color)\n",
    "        else:\n",
    "            cell.set_facecolor(row_colors[k[0]%len(row_colors) ])\n",
    "    fig.set_facecolor('#fc8662')\n",
    "    return ax.get_figure(), ax\n",
    "\n",
    "fig,ax = render_mpl_table(data_frust_plot, header_columns=0, col_width=3.0)\n",
    "ax.set_title(f\"Frustration Fouls: 2020-21 NBA Season\",fontsize=18)\n",
    "# fig.tight_layout()\n",
    "fig.savefig(\"frust_foul.png\")"
   ]
  }
 ],
 "metadata": {
  "interpreter": {
   "hash": "761d0843975b951240ed3f8c006d1f1501cd2a4c66c1dd99cea9ed75b2c1e460"
  },
  "kernelspec": {
   "display_name": "Python 3.9.7 64-bit ('nba-dIF8YUVF-py3.9': poetry)",
   "name": "python3"
  },
  "language_info": {
   "codemirror_mode": {
    "name": "ipython",
    "version": 3
   },
   "file_extension": ".py",
   "mimetype": "text/x-python",
   "name": "python",
   "nbconvert_exporter": "python",
   "pygments_lexer": "ipython3",
   "version": "3.9.7"
  },
  "orig_nbformat": 2
 },
 "nbformat": 4,
 "nbformat_minor": 2
}
