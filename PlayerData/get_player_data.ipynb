{
 "cells": [
  {
   "cell_type": "markdown",
   "metadata": {},
   "source": [
    "# NBA 3PT shooting data vs touch time"
   ]
  },
  {
   "cell_type": "code",
   "execution_count": 1,
   "metadata": {},
   "outputs": [],
   "source": [
    "import pandas as pd\n",
    "import time\n",
    "from IPython.display import clear_output\n",
    "import itertools\n",
    "import numpy as np\n",
    "import os, sys\n",
    "sys.path.append(os.path.dirname(os.path.dirname(os.path.abspath(\"__file__\"))))\n",
    "from nbafuns import *"
   ]
  },
  {
   "cell_type": "code",
   "execution_count": 2,
   "metadata": {},
   "outputs": [],
   "source": [
    "from nba_api.stats.endpoints import (LeagueDashPlayerStats, LeagueDashPlayerPtShot,\n",
    "                                    LeagueDashPtDefend,  LeagueHustleStatsPlayer,\n",
    "                                    LeagueDashPlayerBioStats)"
   ]
  },
  {
   "cell_type": "code",
   "execution_count": null,
   "metadata": {},
   "outputs": [],
   "source": [
    "# years = range(2016,2021,1)\n",
    "years = [2020]"
   ]
  },
  {
   "cell_type": "code",
   "execution_count": 7,
   "metadata": {},
   "outputs": [],
   "source": [
    "for year in years:\n",
    "    league, league_id, season = 'NBA','00',str(year)+'-'+str(year+1)[-2:]\n",
    "    response = LeagueDashPlayerStats(per_mode_detailed='PerGame',\n",
    "                    measure_type_detailed_defense='Base',season=season,league_id_nullable=league_id\n",
    "                    ).get_data_frames()\n",
    "    resp = response[0]\n",
    "    resp.columns\n",
    "    data = resp[[\n",
    "            'PLAYER_ID', 'PLAYER_NAME', 'MIN', 'FGM', 'FGA', 'FG_PCT', 'FG3M',\n",
    "            'FG3A', 'FG3_PCT','FTM', 'FTA', 'FT_PCT', 'OREB', 'DREB', 'REB', 'AST',\n",
    "            'TOV', 'STL', 'BLK', 'BLKA', 'PF','PTS','PLUS_MINUS'\n",
    "    ]]\n",
    "    time.sleep(0.6)\n",
    "    data.to_csv (f'fdata/NBA_NN_Data_Basic_{year}_{year+1}.csv',index=False)"
   ]
  },
  {
   "cell_type": "code",
   "execution_count": null,
   "metadata": {},
   "outputs": [],
   "source": [
    "for year in years:\n",
    "    league, league_id, season = 'NBA','00',str(year)+'-'+str(year+1)[-2:]\n",
    "    response = LeagueDashPlayerStats(per_mode_detailed='PerGame',\n",
    "                    measure_type_detailed_defense='Base',season=season,league_id_nullable=league_id\n",
    "                    ).get_data_frames()\n",
    "    resp = response[0]\n",
    "    data = resp[[\n",
    "            'PLAYER_ID', 'PLAYER_NAME', 'MIN', 'FTM', 'FTA', 'FT_PCT', 'OREB', 'DREB', 'REB', 'AST',\n",
    "        'TOV', 'STL', 'BLK', 'BLKA', 'PF','PTS','PLUS_MINUS'\n",
    "    ]]\n",
    "    time.sleep(0.6)\n",
    "    data.to_csv (f'fdata/NBA_BS_Stats_{year}_{year+1}.csv',index=False)"
   ]
  },
  {
   "cell_type": "markdown",
   "metadata": {},
   "source": [
    "## Stats"
   ]
  },
  {
   "cell_type": "code",
   "execution_count": 95,
   "metadata": {},
   "outputs": [],
   "source": [
    "for year in years:\n",
    "    league, league_id, season = 'NBA','00',str(year)+'-'+str(year+1)[-2:]\n",
    "    response = LeagueDashPlayerStats(per_mode_detailed='PerGame',\n",
    "                    measure_type_detailed_defense='Base',season=season,league_id_nullable=league_id\n",
    "                    ).get_data_frames()\n",
    "    resp = response[0]\n",
    "    data = resp[[\n",
    "            'PLAYER_ID', 'PLAYER_NAME', 'MIN', 'FTM', 'FTA', 'FT_PCT', 'OREB', 'DREB', 'REB', 'AST',\n",
    "        'TOV', 'STL', 'BLK', 'BLKA', 'PF','PTS','PLUS_MINUS'\n",
    "    ]]\n",
    "    time.sleep(0.6)\n",
    "    data.to_csv (f'fdata/NBA_BS_Stats_{year}_{year+1}.csv',index=False)"
   ]
  },
  {
   "cell_type": "markdown",
   "metadata": {},
   "source": [
    "## Advanced Stats"
   ]
  },
  {
   "cell_type": "code",
   "execution_count": null,
   "metadata": {},
   "outputs": [],
   "source": [
    "for year in years:\n",
    "    league, league_id, season = 'NBA','00',str(year)+'-'+str(year+1)[-2:]\n",
    "    response = LeagueDashPlayerStats(per_mode_detailed='PerGame',\n",
    "                    measure_type_detailed_defense='Advanced',season=season,league_id_nullable=league_id\n",
    "                    ).get_data_frames()\n",
    "    resp = response[0]\n",
    "    data = resp[[\n",
    "            'PLAYER_ID', 'EFG_PCT', 'TS_PCT', 'USG_PCT'\n",
    "    ]]\n",
    "    time.sleep(0.6)\n",
    "    data.to_csv (f'fdata/NBA_BS_AdvStats_{year}_{year+1}.csv',index=False)"
   ]
  },
  {
   "cell_type": "markdown",
   "metadata": {},
   "source": [
    "## Shooting"
   ]
  },
  {
   "cell_type": "code",
   "execution_count": null,
   "metadata": {},
   "outputs": [],
   "source": [
    "for year in years:\n",
    "    league, league_id, season = 'NBA','00',str(year)+'-'+str(year+1)[-2:]\n",
    "    response = LeagueDashPlayerPtShot(per_mode_simple='PerGame',\n",
    "                            season=season,league_id=league_id\n",
    "                    ).get_data_frames()\n",
    "    resp = response[0]\n",
    "    data = resp[[\n",
    "            'PLAYER_ID', 'FG2A_FREQUENCY', 'FG2M', 'FG2A',\n",
    "       'FG2_PCT', 'FG3A_FREQUENCY', 'FG3M', 'FG3A', 'FG3_PCT'\n",
    "    ]]\n",
    "    time.sleep(0.6)\n",
    "    data.to_csv (f'fdata/NBA_BS_Shot_{year}_{year+1}.csv',index=False)\n"
   ]
  },
  {
   "cell_type": "markdown",
   "metadata": {},
   "source": [
    "## Defense"
   ]
  },
  {
   "cell_type": "code",
   "execution_count": 94,
   "metadata": {},
   "outputs": [],
   "source": [
    "for year in years:\n",
    "    league, league_id, season = 'NBA','00',str(year)+'-'+str(year+1)[-2:]\n",
    "    response = LeagueDashPtDefend(per_mode_simple='PerGame',\n",
    "                            season=season,league_id=league_id\n",
    "                    ).get_data_frames()\n",
    "    resp = response[0]\n",
    "    data = resp[[\n",
    "            'CLOSE_DEF_PERSON_ID', 'D_FGM', 'D_FGA', 'D_FG_PCT'\n",
    "    ]]\n",
    "    data = data.rename(columns={\"CLOSE_DEF_PERSON_ID\": \"PLAYER_ID\"})\n",
    "    time.sleep(0.6)\n",
    "    data.to_csv (f'fdata/NBA_BS_Def_{year}_{year+1}.csv',index=False)"
   ]
  },
  {
   "cell_type": "markdown",
   "metadata": {},
   "source": [
    "## Hustle Stats"
   ]
  },
  {
   "cell_type": "code",
   "execution_count": null,
   "metadata": {},
   "outputs": [],
   "source": [
    "for year in years:\n",
    "    league, league_id, season = 'NBA','00',str(year)+'-'+str(year+1)[-2:]\n",
    "    response = LeagueHustleStatsPlayer(per_mode_time='PerGame',\n",
    "                        season=season,league_id_nullable=league_id\n",
    "                ).get_data_frames()\n",
    "    resp = response[0]\n",
    "    data = resp[[\n",
    "            'PLAYER_ID','CONTESTED_SHOTS','DEFLECTIONS', 'CHARGES_DRAWN', 'SCREEN_ASSISTS',\n",
    "            'LOOSE_BALLS_RECOVERED','BOX_OUTS'\n",
    "    ]]\n",
    "    time.sleep(0.6)\n",
    "    data.to_csv (f'fdata/NBA_BS_Hus_{year}_{year+1}.csv',index=False)"
   ]
  },
  {
   "cell_type": "code",
   "execution_count": null,
   "metadata": {},
   "outputs": [],
   "source": [
    "response = LeagueHustleStatsPlayer(per_mode_time='PerGame',\n",
    "                        season=season,league_id_nullable=league_id\n",
    "                ).get_data_frames()\n",
    "resp = response[0]"
   ]
  },
  {
   "cell_type": "code",
   "execution_count": null,
   "metadata": {},
   "outputs": [],
   "source": [
    "resp.columns"
   ]
  },
  {
   "cell_type": "code",
   "execution_count": null,
   "metadata": {},
   "outputs": [],
   "source": [
    "resp.head()"
   ]
  }
 ],
 "metadata": {
  "interpreter": {
   "hash": "db2ffdd2fa3280b0b06d6e60ebb32d8dd74e69e88849db114a808c9d7fbf6c89"
  },
  "kernelspec": {
   "display_name": "Python 3.9.5 64-bit ('NBA-O70mvEYv': pipenv)",
   "name": "python3"
  },
  "language_info": {
   "codemirror_mode": {
    "name": "ipython",
    "version": 3
   },
   "file_extension": ".py",
   "mimetype": "text/x-python",
   "name": "python",
   "nbconvert_exporter": "python",
   "pygments_lexer": "ipython3",
   "version": "3.9.5"
  },
  "orig_nbformat": 2
 },
 "nbformat": 4,
 "nbformat_minor": 2
}
