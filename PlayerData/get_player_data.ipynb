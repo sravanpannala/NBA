{
 "metadata": {
  "language_info": {
   "codemirror_mode": {
    "name": "ipython",
    "version": 3
   },
   "file_extension": ".py",
   "mimetype": "text/x-python",
   "name": "python",
   "nbconvert_exporter": "python",
   "pygments_lexer": "ipython3",
   "version": "3.9.5"
  },
  "orig_nbformat": 2,
  "kernelspec": {
   "name": "python3",
   "display_name": "Python 3.9.5 64-bit ('NBA-O70mvEYv': pipenv)"
  },
  "interpreter": {
   "hash": "db2ffdd2fa3280b0b06d6e60ebb32d8dd74e69e88849db114a808c9d7fbf6c89"
  }
 },
 "nbformat": 4,
 "nbformat_minor": 2,
 "cells": [
  {
   "cell_type": "markdown",
   "source": [
    "# NBA 3PT shooting data vs touch time"
   ],
   "metadata": {}
  },
  {
   "cell_type": "code",
   "execution_count": 1,
   "source": [
    "import pandas as pd\r\n",
    "import time\r\n",
    "from IPython.display import clear_output\r\n",
    "import itertools\r\n",
    "import numpy as np\r\n",
    "import os, sys\r\n",
    "sys.path.append(os.path.dirname(os.path.dirname(os.path.abspath(\"__file__\"))))\r\n",
    "from nbafuns import *"
   ],
   "outputs": [],
   "metadata": {}
  },
  {
   "cell_type": "code",
   "execution_count": 2,
   "source": [
    "from nba_api.stats.endpoints import (LeagueDashPlayerStats, LeagueDashPlayerPtShot,\r\n",
    "                                    LeagueDashPtDefend,  LeagueHustleStatsPlayer,\r\n",
    "                                    LeagueDashPlayerBioStats)"
   ],
   "outputs": [],
   "metadata": {}
  },
  {
   "cell_type": "code",
   "execution_count": null,
   "source": [
    "# years = range(2016,2021,1)\r\n",
    "years = [2020]"
   ],
   "outputs": [],
   "metadata": {}
  },
  {
   "cell_type": "code",
   "execution_count": 7,
   "source": [
    "for year in years:\r\n",
    "    league, league_id, season = 'NBA','00',str(year)+'-'+str(year+1)[-2:]\r\n",
    "    response = LeagueDashPlayerStats(per_mode_detailed='PerGame',\r\n",
    "                    measure_type_detailed_defense='Base',season=season,league_id_nullable=league_id\r\n",
    "                    ).get_data_frames()\r\n",
    "    resp = response[0]\r\n",
    "    resp.columns\r\n",
    "    data = resp[[\r\n",
    "            'PLAYER_ID', 'PLAYER_NAME', 'MIN', 'FGM', 'FGA', 'FG_PCT', 'FG3M',\r\n",
    "            'FG3A', 'FG3_PCT','FTM', 'FTA', 'FT_PCT', 'OREB', 'DREB', 'REB', 'AST',\r\n",
    "            'TOV', 'STL', 'BLK', 'BLKA', 'PF','PTS','PLUS_MINUS'\r\n",
    "    ]]\r\n",
    "    data.to_csv (f'fdata/NBA_NN_Data_Basic_{year}_{year+1}.csv',index=False)"
   ],
   "outputs": [],
   "metadata": {}
  },
  {
   "cell_type": "code",
   "execution_count": null,
   "source": [
    "for year in years:\r\n",
    "    league, league_id, season = 'NBA','00',str(year)+'-'+str(year+1)[-2:]\r\n",
    "    response = LeagueDashPlayerStats(per_mode_detailed='PerGame',\r\n",
    "                    measure_type_detailed_defense='Base',season=season,league_id_nullable=league_id\r\n",
    "                    ).get_data_frames()\r\n",
    "    resp = response[0]\r\n",
    "    data = resp[[\r\n",
    "            'PLAYER_ID', 'PLAYER_NAME', 'MIN', 'FTM', 'FTA', 'FT_PCT', 'OREB', 'DREB', 'REB', 'AST',\r\n",
    "        'TOV', 'STL', 'BLK', 'BLKA', 'PF','PTS','PLUS_MINUS'\r\n",
    "    ]]\r\n",
    "    time.sleep(0.6)\r\n",
    "    data.to_csv (f'fdata/NBA_BS_Stats_{year}_{year+1}.csv',index=False)"
   ],
   "outputs": [],
   "metadata": {}
  },
  {
   "cell_type": "markdown",
   "source": [
    "## Stats"
   ],
   "metadata": {}
  },
  {
   "cell_type": "code",
   "execution_count": 95,
   "source": [
    "for year in years:\r\n",
    "    league, league_id, season = 'NBA','00',str(year)+'-'+str(year+1)[-2:]\r\n",
    "    response = LeagueDashPlayerStats(per_mode_detailed='PerGame',\r\n",
    "                    measure_type_detailed_defense='Base',season=season,league_id_nullable=league_id\r\n",
    "                    ).get_data_frames()\r\n",
    "    resp = response[0]\r\n",
    "    data = resp[[\r\n",
    "            'PLAYER_ID', 'PLAYER_NAME', 'MIN', 'FTM', 'FTA', 'FT_PCT', 'OREB', 'DREB', 'REB', 'AST',\r\n",
    "        'TOV', 'STL', 'BLK', 'BLKA', 'PF','PTS','PLUS_MINUS'\r\n",
    "    ]]\r\n",
    "    time.sleep(0.6)\r\n",
    "    data.to_csv (f'fdata/NBA_BS_Stats_{year}_{year+1}.csv',index=False)"
   ],
   "outputs": [],
   "metadata": {}
  },
  {
   "cell_type": "markdown",
   "source": [
    "## Advanced Stats"
   ],
   "metadata": {}
  },
  {
   "cell_type": "code",
   "execution_count": null,
   "source": [
    "for year in years:\r\n",
    "    league, league_id, season = 'NBA','00',str(year)+'-'+str(year+1)[-2:]\r\n",
    "    response = LeagueDashPlayerStats(per_mode_detailed='PerGame',\r\n",
    "                    measure_type_detailed_defense='Advanced',season=season,league_id_nullable=league_id\r\n",
    "                    ).get_data_frames()\r\n",
    "    resp = response[0]\r\n",
    "    data = resp[[\r\n",
    "            'PLAYER_ID', 'EFG_PCT', 'TS_PCT', 'USG_PCT'\r\n",
    "    ]]\r\n",
    "    time.sleep(0.6)\r\n",
    "    data.to_csv (f'fdata/NBA_BS_AdvStats_{year}_{year+1}.csv',index=False)"
   ],
   "outputs": [],
   "metadata": {}
  },
  {
   "cell_type": "markdown",
   "source": [
    "## Shooting"
   ],
   "metadata": {}
  },
  {
   "cell_type": "code",
   "execution_count": null,
   "source": [
    "for year in years:\r\n",
    "    league, league_id, season = 'NBA','00',str(year)+'-'+str(year+1)[-2:]\r\n",
    "    response = LeagueDashPlayerPtShot(per_mode_simple='PerGame',\r\n",
    "                            season=season,league_id=league_id\r\n",
    "                    ).get_data_frames()\r\n",
    "    resp = response[0]\r\n",
    "    data = resp[[\r\n",
    "            'PLAYER_ID', 'FG2A_FREQUENCY', 'FG2M', 'FG2A',\r\n",
    "       'FG2_PCT', 'FG3A_FREQUENCY', 'FG3M', 'FG3A', 'FG3_PCT'\r\n",
    "    ]]\r\n",
    "    time.sleep(0.6)\r\n",
    "    data.to_csv (f'fdata/NBA_BS_Shot_{year}_{year+1}.csv',index=False)\r\n"
   ],
   "outputs": [],
   "metadata": {}
  },
  {
   "cell_type": "markdown",
   "source": [
    "## Defense"
   ],
   "metadata": {}
  },
  {
   "cell_type": "code",
   "execution_count": 94,
   "source": [
    "for year in years:\r\n",
    "    league, league_id, season = 'NBA','00',str(year)+'-'+str(year+1)[-2:]\r\n",
    "    response = LeagueDashPtDefend(per_mode_simple='PerGame',\r\n",
    "                            season=season,league_id=league_id\r\n",
    "                    ).get_data_frames()\r\n",
    "    resp = response[0]\r\n",
    "    data = resp[[\r\n",
    "            'CLOSE_DEF_PERSON_ID', 'D_FGM', 'D_FGA', 'D_FG_PCT'\r\n",
    "    ]]\r\n",
    "    data = data.rename(columns={\"CLOSE_DEF_PERSON_ID\": \"PLAYER_ID\"})\r\n",
    "    time.sleep(0.6)\r\n",
    "    data.to_csv (f'fdata/NBA_BS_Def_{year}_{year+1}.csv',index=False)"
   ],
   "outputs": [],
   "metadata": {}
  },
  {
   "cell_type": "markdown",
   "source": [
    "## Hustle Stats"
   ],
   "metadata": {}
  },
  {
   "cell_type": "code",
   "execution_count": null,
   "source": [
    "for year in years:\r\n",
    "    league, league_id, season = 'NBA','00',str(year)+'-'+str(year+1)[-2:]\r\n",
    "    response = LeagueHustleStatsPlayer(per_mode_time='PerGame',\r\n",
    "                        season=season,league_id_nullable=league_id\r\n",
    "                ).get_data_frames()\r\n",
    "    resp = response[0]\r\n",
    "    data = resp[[\r\n",
    "            'PLAYER_ID','CONTESTED_SHOTS','DEFLECTIONS', 'CHARGES_DRAWN', 'SCREEN_ASSISTS',\r\n",
    "            'LOOSE_BALLS_RECOVERED','BOX_OUTS'\r\n",
    "    ]]\r\n",
    "    time.sleep(0.6)\r\n",
    "    data.to_csv (f'fdata/NBA_BS_Hus_{year}_{year+1}.csv',index=False)"
   ],
   "outputs": [],
   "metadata": {}
  },
  {
   "cell_type": "code",
   "execution_count": null,
   "source": [
    "response = LeagueHustleStatsPlayer(per_mode_time='PerGame',\r\n",
    "                        season=season,league_id_nullable=league_id\r\n",
    "                ).get_data_frames()\r\n",
    "resp = response[0]"
   ],
   "outputs": [],
   "metadata": {}
  },
  {
   "cell_type": "code",
   "execution_count": null,
   "source": [
    "resp.columns"
   ],
   "outputs": [],
   "metadata": {}
  },
  {
   "cell_type": "code",
   "execution_count": null,
   "source": [
    "resp.head()"
   ],
   "outputs": [],
   "metadata": {}
  }
 ]
}