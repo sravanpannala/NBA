{
 "cells": [
  {
   "cell_type": "code",
   "execution_count": 5,
   "source": [
    "import pandas as pd\r\n",
    "year = 2020"
   ],
   "outputs": [],
   "metadata": {}
  },
  {
   "cell_type": "code",
   "execution_count": null,
   "source": [
    "league, league_id, season = 'NBA','00',str(year)+'-'+str(year+1)[-2:]\r\n",
    "df1 = pd.read_csv(f'fdata/NBA_BS_Stats_{year}_{year+1}.csv')\r\n",
    "df2 = pd.read_csv(f'fdata/NBA_BS_Shot_{year}_{year+1}.csv')\r\n",
    "df3 = pd.read_csv(f'fdata/NBA_BS_Def_{year}_{year+1}.csv')\r\n",
    "df4 = pd.read_csv(f'fdata/NBA_BS_Hus_{year}_{year+1}.csv')"
   ],
   "outputs": [],
   "metadata": {}
  },
  {
   "cell_type": "code",
   "execution_count": null,
   "source": [
    "df5 = pd.read_csv(f'fdata/NBA_RAPM_3Y_{year-2}_{year+1}.csv')\r\n",
    "df5 = df5[['PLAYER_ID','RAPM']]\r\n",
    "df5.head()"
   ],
   "outputs": [],
   "metadata": {}
  },
  {
   "cell_type": "code",
   "execution_count": null,
   "source": [
    "df = pd.merge(df1,df2,how='inner',on=['PLAYER_ID'])\r\n",
    "df = pd.merge(df,df3,how='inner',on=['PLAYER_ID'])\r\n",
    "df = pd.merge(df,df4,how='inner',on=['PLAYER_ID'])\r\n",
    "df = pd.merge(df,df5,how='inner',on=['PLAYER_ID'])\r\n",
    "\r\n",
    "df.to_csv(f'fdata/NBA_NN_Data_2020_2021.csv',index=False)\r\n"
   ],
   "outputs": [],
   "metadata": {}
  },
  {
   "cell_type": "code",
   "execution_count": 7,
   "source": [
    "df1 = pd.read_csv(f'fdata/NBA_NN_Data_Basic_2020_2021.csv')\r\n",
    "df2 = pd.read_csv(f'fdata/NBA_RAPM_3Y_{year-2}_{year+1}.csv')\r\n",
    "df2 = df2[['PLAYER_ID','RAPM']]\r\n",
    "df = pd.merge(df1,df2,how='inner',on=['PLAYER_ID'])\r\n",
    "df.to_csv(f'fdata/NBA_NN_Data_Basic_2020_2021.csv',index=False)"
   ],
   "outputs": [],
   "metadata": {}
  }
 ],
 "metadata": {
  "orig_nbformat": 4,
  "language_info": {
   "name": "python"
  }
 },
 "nbformat": 4,
 "nbformat_minor": 2
}