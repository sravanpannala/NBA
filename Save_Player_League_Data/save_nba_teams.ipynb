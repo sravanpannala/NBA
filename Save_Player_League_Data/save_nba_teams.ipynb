{
 "metadata": {
  "language_info": {
   "codemirror_mode": {
    "name": "ipython",
    "version": 3
   },
   "file_extension": ".py",
   "mimetype": "text/x-python",
   "name": "python",
   "nbconvert_exporter": "python",
   "pygments_lexer": "ipython3",
   "version": "3.9.5"
  },
  "orig_nbformat": 4,
  "kernelspec": {
   "name": "python3",
   "display_name": "Python 3.9.5 64-bit ('NBA-O70mvEYv': pipenv)"
  },
  "interpreter": {
   "hash": "db2ffdd2fa3280b0b06d6e60ebb32d8dd74e69e88849db114a808c9d7fbf6c89"
  }
 },
 "nbformat": 4,
 "nbformat_minor": 2,
 "cells": [
  {
   "cell_type": "markdown",
   "source": [
    "# Export NBA and WNBA teams names and IDs to csv file"
   ],
   "metadata": {}
  },
  {
   "cell_type": "code",
   "execution_count": null,
   "source": [
    "import pandas as pd\r\n",
    "import nba_api"
   ],
   "outputs": [],
   "metadata": {}
  },
  {
   "cell_type": "code",
   "execution_count": null,
   "source": [
    "from nba_api.stats.endpoints import leaguestandingsv3 as player_fun\r\n",
    "response = player_fun.LeagueStandingsV3(league_id='00',season='2020-21',season_type='Regular Season').get_data_frames()"
   ],
   "outputs": [],
   "metadata": {}
  },
  {
   "cell_type": "code",
   "execution_count": null,
   "source": [
    "team_table = response[0]"
   ],
   "outputs": [],
   "metadata": {}
  },
  {
   "cell_type": "code",
   "execution_count": null,
   "source": [
    "team_table['Team'] = team_table['TeamCity']+' '+team_table['TeamName']"
   ],
   "outputs": [],
   "metadata": {}
  },
  {
   "cell_type": "code",
   "execution_count": null,
   "source": [
    "team_data = team_table[['TeamID','Team']]\r\n",
    "team_data.to_csv ('nba_teams_database.csv',index=False)\r\n",
    "team_dict = team_data.to_dict(orient=\"records\")"
   ],
   "outputs": [],
   "metadata": {}
  },
  {
   "cell_type": "code",
   "execution_count": null,
   "source": [
    "team_dict\r\n",
    "team_id = [x['TeamID'] for x in team_dict ]"
   ],
   "outputs": [],
   "metadata": {}
  },
  {
   "cell_type": "code",
   "execution_count": null,
   "source": [
    "def get_teams(league = 'NBA'):\r\n",
    "    team_data = pd.read_csv('data\\{0}_teams_database.csv'.format(league))\r\n",
    "    team_dict = team_data.to_dict(orient=\"records\")\r\n",
    "    return team_dict"
   ],
   "outputs": [],
   "metadata": {}
  },
  {
   "cell_type": "code",
   "execution_count": null,
   "source": [
    "team_dict = get_teams(league = 'NBA')\r\n",
    "team_dict"
   ],
   "outputs": [],
   "metadata": {}
  }
 ]
}