{
 "metadata": {
  "language_info": {
   "codemirror_mode": {
    "name": "ipython",
    "version": 3
   },
   "file_extension": ".py",
   "mimetype": "text/x-python",
   "name": "python",
   "nbconvert_exporter": "python",
   "pygments_lexer": "ipython3",
   "version": "3.9.5"
  },
  "orig_nbformat": 2,
  "kernelspec": {
   "name": "python3",
   "display_name": "Python 3.9.5 64-bit ('NBA-O70mvEYv': pipenv)"
  },
  "interpreter": {
   "hash": "db2ffdd2fa3280b0b06d6e60ebb32d8dd74e69e88849db114a808c9d7fbf6c89"
  }
 },
 "nbformat": 4,
 "nbformat_minor": 2,
 "cells": [
  {
   "cell_type": "markdown",
   "source": [
    "# Create NBA Players database upto 2021"
   ],
   "metadata": {}
  },
  {
   "cell_type": "code",
   "execution_count": null,
   "source": [
    "import pandas as pd\r\n",
    "import time\r\n",
    "from IPython.display import clear_output\r\n",
    "import numpy as np\r\n",
    "from nba_api.stats.endpoints import commonallplayers as player_info\r\n",
    "import json"
   ],
   "outputs": [],
   "metadata": {}
  },
  {
   "cell_type": "code",
   "execution_count": null,
   "source": [
    "response = player_info.CommonAllPlayers(is_only_current_season = ['0'],\tleague_id = ['00'],season=['2021']).get_data_frames()[0]\r\n",
    "response['PERSON_ID'] = response['PERSON_ID'].astype(int)\r\n",
    "response['FROM_YEAR'] = response['FROM_YEAR'].astype(int)\r\n",
    "response['TO_YEAR'] = response['TO_YEAR'].astype(int)\r\n",
    "response =response.rename(columns={'PERSON_ID':'pID','DISPLAY_FIRST_LAST':'Name','FROM_YEAR':'From','TO_YEAR':'To'})\r\n",
    "data = response[['pID','Name','From','To']]\r\n",
    "data.head()"
   ],
   "outputs": [],
   "metadata": {}
  },
  {
   "cell_type": "code",
   "execution_count": null,
   "source": [
    "data.to_csv ('nba_players_database_2021.csv',index=False)"
   ],
   "outputs": [],
   "metadata": {}
  },
  {
   "cell_type": "code",
   "execution_count": null,
   "source": [
    "data = pd.read_csv('wnba_players_database_2021.csv')\r\n",
    "from_year = 2021\r\n",
    "to_year = 2021\r\n",
    "player_data = data[(data['From']<=from_year) & (data['To']>=to_year)]\r\n",
    "player_data = player_data.reset_index(drop=True)\r\n",
    "player_dict = player_data.to_dict(orient=\"records\")\r\n",
    "player_id = [player['pID'] for player in player_dict]"
   ],
   "outputs": [],
   "metadata": {}
  },
  {
   "cell_type": "code",
   "execution_count": null,
   "source": [
    "player_data"
   ],
   "outputs": [],
   "metadata": {}
  },
  {
   "cell_type": "code",
   "execution_count": null,
   "source": [
    "[player['Name'] for player in player_dict if player['pID'] == 2544]"
   ],
   "outputs": [],
   "metadata": {}
  },
  {
   "cell_type": "code",
   "execution_count": null,
   "source": [
    "len(player_dict)"
   ],
   "outputs": [],
   "metadata": {}
  },
  {
   "cell_type": "code",
   "execution_count": null,
   "source": [],
   "outputs": [],
   "metadata": {}
  }
 ]
}