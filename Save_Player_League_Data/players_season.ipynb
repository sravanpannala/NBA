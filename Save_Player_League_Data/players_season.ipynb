{
 "metadata": {
  "language_info": {
   "codemirror_mode": {
    "name": "ipython",
    "version": 3
   },
   "file_extension": ".py",
   "mimetype": "text/x-python",
   "name": "python",
   "nbconvert_exporter": "python",
   "pygments_lexer": "ipython3",
   "version": "3.9.5"
  },
  "orig_nbformat": 2,
  "kernelspec": {
   "name": "python3",
   "display_name": "Python 3.9.5 64-bit ('NBA-O70mvEYv': pipenv)"
  },
  "interpreter": {
   "hash": "db2ffdd2fa3280b0b06d6e60ebb32d8dd74e69e88849db114a808c9d7fbf6c89"
  }
 },
 "nbformat": 4,
 "nbformat_minor": 2,
 "cells": [
  {
   "cell_type": "markdown",
   "source": [
    "# Create NBA Players database upto 2021"
   ],
   "metadata": {}
  },
  {
   "cell_type": "code",
   "execution_count": 1,
   "source": [
    "import pandas as pd\r\n",
    "import time\r\n",
    "from IPython.display import clear_output\r\n",
    "import numpy as np\r\n",
    "from nba_api.stats.endpoints import commonallplayers as player_info\r\n",
    "import json"
   ],
   "outputs": [],
   "metadata": {}
  },
  {
   "cell_type": "code",
   "execution_count": 2,
   "source": [
    "response = player_info.CommonAllPlayers(is_only_current_season = ['0'],\tleague_id = ['20'],season=['2021']).get_data_frames()[0]\r\n",
    "response['PERSON_ID'] = response['PERSON_ID'].astype(int)\r\n",
    "response['FROM_YEAR'] = response['FROM_YEAR'].astype(int)\r\n",
    "response['TO_YEAR'] = response['TO_YEAR'].astype(int)\r\n",
    "response =response.rename(columns={'PERSON_ID':'pID','DISPLAY_FIRST_LAST':'Name','FROM_YEAR':'From','TO_YEAR':'To'})\r\n",
    "data = response[['pID','Name','From','To']]\r\n",
    "data.head()"
   ],
   "outputs": [
    {
     "output_type": "execute_result",
     "data": {
      "text/plain": [
       "       pID                        Name  From    To\n",
       "0  1628690              Tyshawn Abbott  2017  2017\n",
       "1  1627427          Jalil Abdul-Bassit  2015  2015\n",
       "2  1629240  Muhammad-Ali Abdur-Rahkman  2018  2019\n",
       "3   203680                Alfred Aboya  2013  2014\n",
       "4   202868                Jamar Abrams  2011  2011"
      ],
      "text/html": [
       "<div>\n",
       "<style scoped>\n",
       "    .dataframe tbody tr th:only-of-type {\n",
       "        vertical-align: middle;\n",
       "    }\n",
       "\n",
       "    .dataframe tbody tr th {\n",
       "        vertical-align: top;\n",
       "    }\n",
       "\n",
       "    .dataframe thead th {\n",
       "        text-align: right;\n",
       "    }\n",
       "</style>\n",
       "<table border=\"1\" class=\"dataframe\">\n",
       "  <thead>\n",
       "    <tr style=\"text-align: right;\">\n",
       "      <th></th>\n",
       "      <th>pID</th>\n",
       "      <th>Name</th>\n",
       "      <th>From</th>\n",
       "      <th>To</th>\n",
       "    </tr>\n",
       "  </thead>\n",
       "  <tbody>\n",
       "    <tr>\n",
       "      <th>0</th>\n",
       "      <td>1628690</td>\n",
       "      <td>Tyshawn Abbott</td>\n",
       "      <td>2017</td>\n",
       "      <td>2017</td>\n",
       "    </tr>\n",
       "    <tr>\n",
       "      <th>1</th>\n",
       "      <td>1627427</td>\n",
       "      <td>Jalil Abdul-Bassit</td>\n",
       "      <td>2015</td>\n",
       "      <td>2015</td>\n",
       "    </tr>\n",
       "    <tr>\n",
       "      <th>2</th>\n",
       "      <td>1629240</td>\n",
       "      <td>Muhammad-Ali Abdur-Rahkman</td>\n",
       "      <td>2018</td>\n",
       "      <td>2019</td>\n",
       "    </tr>\n",
       "    <tr>\n",
       "      <th>3</th>\n",
       "      <td>203680</td>\n",
       "      <td>Alfred Aboya</td>\n",
       "      <td>2013</td>\n",
       "      <td>2014</td>\n",
       "    </tr>\n",
       "    <tr>\n",
       "      <th>4</th>\n",
       "      <td>202868</td>\n",
       "      <td>Jamar Abrams</td>\n",
       "      <td>2011</td>\n",
       "      <td>2011</td>\n",
       "    </tr>\n",
       "  </tbody>\n",
       "</table>\n",
       "</div>"
      ]
     },
     "metadata": {},
     "execution_count": 2
    }
   ],
   "metadata": {}
  },
  {
   "cell_type": "code",
   "execution_count": 3,
   "source": [
    "data.to_csv ('gleague_players_database_2021.csv',index=False)"
   ],
   "outputs": [],
   "metadata": {}
  }
 ]
}