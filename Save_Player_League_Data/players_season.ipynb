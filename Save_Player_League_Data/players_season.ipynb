{
 "cells": [
  {
   "cell_type": "markdown",
   "metadata": {},
   "source": [
    "# Create NBA Players database upto 2021"
   ]
  },
  {
   "cell_type": "code",
   "execution_count": 1,
   "metadata": {},
   "outputs": [],
   "source": [
    "import pandas as pd\n",
    "import time\n",
    "from IPython.display import clear_output\n",
    "import numpy as np\n",
    "from nba_api.stats.endpoints import commonallplayers as player_info\n",
    "import json"
   ]
  },
  {
   "cell_type": "code",
   "execution_count": 8,
   "metadata": {},
   "outputs": [
    {
     "data": {
      "text/html": [
       "<div>\n",
       "<style scoped>\n",
       "    .dataframe tbody tr th:only-of-type {\n",
       "        vertical-align: middle;\n",
       "    }\n",
       "\n",
       "    .dataframe tbody tr th {\n",
       "        vertical-align: top;\n",
       "    }\n",
       "\n",
       "    .dataframe thead th {\n",
       "        text-align: right;\n",
       "    }\n",
       "</style>\n",
       "<table border=\"1\" class=\"dataframe\">\n",
       "  <thead>\n",
       "    <tr style=\"text-align: right;\">\n",
       "      <th></th>\n",
       "      <th>pID</th>\n",
       "      <th>Name</th>\n",
       "      <th>From</th>\n",
       "      <th>To</th>\n",
       "    </tr>\n",
       "  </thead>\n",
       "  <tbody>\n",
       "    <tr>\n",
       "      <th>0</th>\n",
       "      <td>203025</td>\n",
       "      <td>Farhiya Abdi</td>\n",
       "      <td>2013</td>\n",
       "      <td>2015</td>\n",
       "    </tr>\n",
       "    <tr>\n",
       "      <th>1</th>\n",
       "      <td>100023</td>\n",
       "      <td>Tajama Abraham</td>\n",
       "      <td>1997</td>\n",
       "      <td>1998</td>\n",
       "    </tr>\n",
       "    <tr>\n",
       "      <th>2</th>\n",
       "      <td>100658</td>\n",
       "      <td>Svetlana Abrosimova</td>\n",
       "      <td>2001</td>\n",
       "      <td>2012</td>\n",
       "    </tr>\n",
       "    <tr>\n",
       "      <th>3</th>\n",
       "      <td>203831</td>\n",
       "      <td>Natalie Achonwa</td>\n",
       "      <td>2015</td>\n",
       "      <td>2021</td>\n",
       "    </tr>\n",
       "    <tr>\n",
       "      <th>4</th>\n",
       "      <td>201882</td>\n",
       "      <td>Jessica Adair</td>\n",
       "      <td>2010</td>\n",
       "      <td>2012</td>\n",
       "    </tr>\n",
       "  </tbody>\n",
       "</table>\n",
       "</div>"
      ],
      "text/plain": [
       "      pID                 Name  From    To\n",
       "0  203025         Farhiya Abdi  2013  2015\n",
       "1  100023       Tajama Abraham  1997  1998\n",
       "2  100658  Svetlana Abrosimova  2001  2012\n",
       "3  203831      Natalie Achonwa  2015  2021\n",
       "4  201882        Jessica Adair  2010  2012"
      ]
     },
     "execution_count": 8,
     "metadata": {},
     "output_type": "execute_result"
    }
   ],
   "source": [
    "league_id = '00'\n",
    "league = 'NBA'\n",
    "league_id = '10'\n",
    "league = 'WNBA'\n",
    "# league_id = '20'\n",
    "# league = 'GLeague'\n",
    "season = '2021'\n",
    "response = player_info.CommonAllPlayers(is_only_current_season = ['0'],\tleague_id = league_id,season=season).get_data_frames()[0]\n",
    "response['PERSON_ID'] = response['PERSON_ID'].astype(int)\n",
    "response['FROM_YEAR'] = response['FROM_YEAR'].astype(int)\n",
    "response['TO_YEAR'] = response['TO_YEAR'].astype(int)\n",
    "response =response.rename(columns={'PERSON_ID':'pID','DISPLAY_FIRST_LAST':'Name','FROM_YEAR':'From','TO_YEAR':'To'})\n",
    "data = response[['pID','Name','From','To']]\n",
    "data.head()"
   ]
  },
  {
   "cell_type": "code",
   "execution_count": 5,
   "metadata": {},
   "outputs": [],
   "source": [
    "data.to_csv (f'../data/{league}_players_database_{season}.csv',index=False)"
   ]
  }
 ],
 "metadata": {
  "interpreter": {
   "hash": "761d0843975b951240ed3f8c006d1f1501cd2a4c66c1dd99cea9ed75b2c1e460"
  },
  "kernelspec": {
   "display_name": "Python 3.9.7 64-bit ('nba-dIF8YUVF-py3.9': poetry)",
   "name": "python3"
  },
  "language_info": {
   "codemirror_mode": {
    "name": "ipython",
    "version": 3
   },
   "file_extension": ".py",
   "mimetype": "text/x-python",
   "name": "python",
   "nbconvert_exporter": "python",
   "pygments_lexer": "ipython3",
   "version": "3.9.7"
  },
  "orig_nbformat": 2
 },
 "nbformat": 4,
 "nbformat_minor": 2
}
