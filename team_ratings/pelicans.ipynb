{
 "cells": [
  {
   "cell_type": "code",
   "execution_count": 1,
   "id": "eb706f41",
   "metadata": {},
   "outputs": [],
   "source": [
    "import os, sys\n",
    "\n",
    "sys.path.append(os.path.dirname(os.path.dirname(os.path.abspath(\"__file__\"))))\n",
    "from nbafuns import *\n",
    "\n",
    "teams_dict, teams_list = get_teams(league=\"NBA\")\n",
    "box_DIR = \"../data/box/\"\n",
    "img_DIR_T = \"../data/images/teams/\"\n",
    "fig_DIR = \"../figs/teams/\""
   ]
  },
  {
   "cell_type": "code",
   "execution_count": 12,
   "id": "2d7ca99f",
   "metadata": {},
   "outputs": [],
   "source": [
    "df1 = get_box(\"T\",\"Adv\",True,range(1996,2025))"
   ]
  },
  {
   "cell_type": "code",
   "execution_count": 13,
   "id": "f3f3cfff",
   "metadata": {},
   "outputs": [],
   "source": [
    "df2 = df1[df1[\"team_id\"] == 1610612740]\n",
    "df2 = df2.sort_values(\"net_rating\").reset_index(drop=True)\n",
    "df2 = df2.reset_index()\n",
    "df2.index+=1"
   ]
  },
  {
   "cell_type": "code",
   "execution_count": 14,
   "id": "277dfde4",
   "metadata": {},
   "outputs": [
    {
     "data": {
      "application/vnd.microsoft.datawrangler.viewer.v0+json": {
       "columns": [
        {
         "name": "index",
         "rawType": "int64",
         "type": "integer"
        },
        {
         "name": "team_name",
         "rawType": "object",
         "type": "string"
        },
        {
         "name": "season",
         "rawType": "int64",
         "type": "integer"
        },
        {
         "name": "net_rating",
         "rawType": "float64",
         "type": "float"
        }
       ],
       "conversionMethod": "pd.DataFrame",
       "ref": "60abc5fe-46f0-4d74-90ae-2166faf8c3d5",
       "rows": [
        [
         "1",
         "New Orleans Pelicans",
         "2025",
         "-9.4"
        ],
        [
         "2",
         "New Orleans Hornets",
         "2005",
         "-7.7"
        ],
        [
         "3",
         "New Orleans Hornets",
         "2013",
         "-4.4"
        ],
        [
         "4",
         "New Orleans Hornets",
         "2012",
         "-4.0"
        ],
        [
         "5",
         "New Orleans Pelicans",
         "2016",
         "-3.7"
        ],
        [
         "6",
         "New Orleans Pelicans",
         "2014",
         "-3.0"
        ],
        [
         "7",
         "New Orleans/Oklahoma City Hornets",
         "2006",
         "-2.8"
        ],
        [
         "8",
         "New Orleans Hornets",
         "2010",
         "-2.4"
        ],
        [
         "9",
         "New Orleans Pelicans",
         "2017",
         "-2.1"
        ],
        [
         "10",
         "New Orleans/Oklahoma City Hornets",
         "2007",
         "-1.6"
        ],
        [
         "11",
         "New Orleans Pelicans",
         "2019",
         "-1.3"
        ],
        [
         "12",
         "New Orleans Pelicans",
         "2020",
         "-1.3"
        ],
        [
         "13",
         "New Orleans Pelicans",
         "2022",
         "-0.8"
        ],
        [
         "14",
         "New Orleans Pelicans",
         "2021",
         "-0.3"
        ],
        [
         "15",
         "New Orleans Hornets",
         "2004",
         "0.1"
        ],
        [
         "16",
         "New Orleans Pelicans",
         "2015",
         "0.8"
        ],
        [
         "17",
         "New Orleans Hornets",
         "2011",
         "1.0"
        ],
        [
         "18",
         "New Orleans Pelicans",
         "2018",
         "1.1"
        ],
        [
         "19",
         "New Orleans Hornets",
         "2009",
         "1.8"
        ],
        [
         "20",
         "New Orleans Pelicans",
         "2023",
         "1.9"
        ],
        [
         "21",
         "New Orleans Hornets",
         "2003",
         "2.4"
        ],
        [
         "22",
         "New Orleans Pelicans",
         "2024",
         "4.6"
        ],
        [
         "23",
         "New Orleans Hornets",
         "2008",
         "5.6"
        ]
       ],
       "shape": {
        "columns": 3,
        "rows": 23
       }
      },
      "text/html": [
       "<div>\n",
       "<style scoped>\n",
       "    .dataframe tbody tr th:only-of-type {\n",
       "        vertical-align: middle;\n",
       "    }\n",
       "\n",
       "    .dataframe tbody tr th {\n",
       "        vertical-align: top;\n",
       "    }\n",
       "\n",
       "    .dataframe thead th {\n",
       "        text-align: right;\n",
       "    }\n",
       "</style>\n",
       "<table border=\"1\" class=\"dataframe\">\n",
       "  <thead>\n",
       "    <tr style=\"text-align: right;\">\n",
       "      <th></th>\n",
       "      <th>team_name</th>\n",
       "      <th>season</th>\n",
       "      <th>net_rating</th>\n",
       "    </tr>\n",
       "  </thead>\n",
       "  <tbody>\n",
       "    <tr>\n",
       "      <th>1</th>\n",
       "      <td>New Orleans Pelicans</td>\n",
       "      <td>2025</td>\n",
       "      <td>-9.4</td>\n",
       "    </tr>\n",
       "    <tr>\n",
       "      <th>2</th>\n",
       "      <td>New Orleans Hornets</td>\n",
       "      <td>2005</td>\n",
       "      <td>-7.7</td>\n",
       "    </tr>\n",
       "    <tr>\n",
       "      <th>3</th>\n",
       "      <td>New Orleans Hornets</td>\n",
       "      <td>2013</td>\n",
       "      <td>-4.4</td>\n",
       "    </tr>\n",
       "    <tr>\n",
       "      <th>4</th>\n",
       "      <td>New Orleans Hornets</td>\n",
       "      <td>2012</td>\n",
       "      <td>-4.0</td>\n",
       "    </tr>\n",
       "    <tr>\n",
       "      <th>5</th>\n",
       "      <td>New Orleans Pelicans</td>\n",
       "      <td>2016</td>\n",
       "      <td>-3.7</td>\n",
       "    </tr>\n",
       "    <tr>\n",
       "      <th>6</th>\n",
       "      <td>New Orleans Pelicans</td>\n",
       "      <td>2014</td>\n",
       "      <td>-3.0</td>\n",
       "    </tr>\n",
       "    <tr>\n",
       "      <th>7</th>\n",
       "      <td>New Orleans/Oklahoma City Hornets</td>\n",
       "      <td>2006</td>\n",
       "      <td>-2.8</td>\n",
       "    </tr>\n",
       "    <tr>\n",
       "      <th>8</th>\n",
       "      <td>New Orleans Hornets</td>\n",
       "      <td>2010</td>\n",
       "      <td>-2.4</td>\n",
       "    </tr>\n",
       "    <tr>\n",
       "      <th>9</th>\n",
       "      <td>New Orleans Pelicans</td>\n",
       "      <td>2017</td>\n",
       "      <td>-2.1</td>\n",
       "    </tr>\n",
       "    <tr>\n",
       "      <th>10</th>\n",
       "      <td>New Orleans/Oklahoma City Hornets</td>\n",
       "      <td>2007</td>\n",
       "      <td>-1.6</td>\n",
       "    </tr>\n",
       "    <tr>\n",
       "      <th>11</th>\n",
       "      <td>New Orleans Pelicans</td>\n",
       "      <td>2019</td>\n",
       "      <td>-1.3</td>\n",
       "    </tr>\n",
       "    <tr>\n",
       "      <th>12</th>\n",
       "      <td>New Orleans Pelicans</td>\n",
       "      <td>2020</td>\n",
       "      <td>-1.3</td>\n",
       "    </tr>\n",
       "    <tr>\n",
       "      <th>13</th>\n",
       "      <td>New Orleans Pelicans</td>\n",
       "      <td>2022</td>\n",
       "      <td>-0.8</td>\n",
       "    </tr>\n",
       "    <tr>\n",
       "      <th>14</th>\n",
       "      <td>New Orleans Pelicans</td>\n",
       "      <td>2021</td>\n",
       "      <td>-0.3</td>\n",
       "    </tr>\n",
       "    <tr>\n",
       "      <th>15</th>\n",
       "      <td>New Orleans Hornets</td>\n",
       "      <td>2004</td>\n",
       "      <td>0.1</td>\n",
       "    </tr>\n",
       "    <tr>\n",
       "      <th>16</th>\n",
       "      <td>New Orleans Pelicans</td>\n",
       "      <td>2015</td>\n",
       "      <td>0.8</td>\n",
       "    </tr>\n",
       "    <tr>\n",
       "      <th>17</th>\n",
       "      <td>New Orleans Hornets</td>\n",
       "      <td>2011</td>\n",
       "      <td>1.0</td>\n",
       "    </tr>\n",
       "    <tr>\n",
       "      <th>18</th>\n",
       "      <td>New Orleans Pelicans</td>\n",
       "      <td>2018</td>\n",
       "      <td>1.1</td>\n",
       "    </tr>\n",
       "    <tr>\n",
       "      <th>19</th>\n",
       "      <td>New Orleans Hornets</td>\n",
       "      <td>2009</td>\n",
       "      <td>1.8</td>\n",
       "    </tr>\n",
       "    <tr>\n",
       "      <th>20</th>\n",
       "      <td>New Orleans Pelicans</td>\n",
       "      <td>2023</td>\n",
       "      <td>1.9</td>\n",
       "    </tr>\n",
       "    <tr>\n",
       "      <th>21</th>\n",
       "      <td>New Orleans Hornets</td>\n",
       "      <td>2003</td>\n",
       "      <td>2.4</td>\n",
       "    </tr>\n",
       "    <tr>\n",
       "      <th>22</th>\n",
       "      <td>New Orleans Pelicans</td>\n",
       "      <td>2024</td>\n",
       "      <td>4.6</td>\n",
       "    </tr>\n",
       "    <tr>\n",
       "      <th>23</th>\n",
       "      <td>New Orleans Hornets</td>\n",
       "      <td>2008</td>\n",
       "      <td>5.6</td>\n",
       "    </tr>\n",
       "  </tbody>\n",
       "</table>\n",
       "</div>"
      ],
      "text/plain": [
       "                            team_name  season  net_rating\n",
       "1                New Orleans Pelicans    2025        -9.4\n",
       "2                 New Orleans Hornets    2005        -7.7\n",
       "3                 New Orleans Hornets    2013        -4.4\n",
       "4                 New Orleans Hornets    2012        -4.0\n",
       "5                New Orleans Pelicans    2016        -3.7\n",
       "6                New Orleans Pelicans    2014        -3.0\n",
       "7   New Orleans/Oklahoma City Hornets    2006        -2.8\n",
       "8                 New Orleans Hornets    2010        -2.4\n",
       "9                New Orleans Pelicans    2017        -2.1\n",
       "10  New Orleans/Oklahoma City Hornets    2007        -1.6\n",
       "11               New Orleans Pelicans    2019        -1.3\n",
       "12               New Orleans Pelicans    2020        -1.3\n",
       "13               New Orleans Pelicans    2022        -0.8\n",
       "14               New Orleans Pelicans    2021        -0.3\n",
       "15                New Orleans Hornets    2004         0.1\n",
       "16               New Orleans Pelicans    2015         0.8\n",
       "17                New Orleans Hornets    2011         1.0\n",
       "18               New Orleans Pelicans    2018         1.1\n",
       "19                New Orleans Hornets    2009         1.8\n",
       "20               New Orleans Pelicans    2023         1.9\n",
       "21                New Orleans Hornets    2003         2.4\n",
       "22               New Orleans Pelicans    2024         4.6\n",
       "23                New Orleans Hornets    2008         5.6"
      ]
     },
     "execution_count": 14,
     "metadata": {},
     "output_type": "execute_result"
    }
   ],
   "source": [
    "df2[[\"team_name\",\"season\",\"net_rating\"]]"
   ]
  }
 ],
 "metadata": {
  "kernelspec": {
   "display_name": "plot",
   "language": "python",
   "name": "python3"
  },
  "language_info": {
   "codemirror_mode": {
    "name": "ipython",
    "version": 3
   },
   "file_extension": ".py",
   "mimetype": "text/x-python",
   "name": "python",
   "nbconvert_exporter": "python",
   "pygments_lexer": "ipython3",
   "version": "3.10.16"
  }
 },
 "nbformat": 4,
 "nbformat_minor": 5
}
