{
 "cells": [
  {
   "cell_type": "markdown",
   "metadata": {},
   "source": [
    "# Home Court Advantage Analysis"
   ]
  },
  {
   "cell_type": "code",
   "execution_count": null,
   "metadata": {},
   "outputs": [],
   "source": [
    "from sklearn.linear_model import RidgeCV\n",
    "import os, sys\n",
    "\n",
    "sys.path.append(os.path.dirname(os.path.dirname(os.path.abspath(\"__file__\"))))\n",
    "from nbafuns import *\n",
    "\n",
    "# from sklearn.pipeline import make_pipeline\n",
    "# model = make_pipeline(StandardScaler(with_mean=False), _RidgeGCV())\n",
    "\n",
    "teams_dict, teams_list = get_teams(league=\"NBA\")\n",
    "data_DIR = \"../data/boxscore_team/\""
   ]
  },
  {
   "cell_type": "code",
   "execution_count": null,
   "metadata": {},
   "outputs": [],
   "source": [
    "def get_ratings(season=2023):\n",
    "    df1 = pd.read_csv(data_DIR+ f\"NBA_BoxScores_Adv_{season}.csv\")\n",
    "    cols = [\n",
    "        \"gameId\",\n",
    "        \"teamName\",\n",
    "        \"teamId\",\n",
    "        \"offensiveRating\",\n",
    "        \"defensiveRating\",\n",
    "        \"netRating\",\n",
    "        \"possessions\",\n",
    "    ]\n",
    "    df2 = df1[cols]\n",
    "    df2.iloc[:, 2:] = df2.iloc[:, 2:].astype(str)\n",
    "    df3 = df2.groupby(\"gameId\")[cols[1:]].agg(\", \".join).reset_index()\n",
    "    df4 = df3.copy()\n",
    "    df4[[\"team1\", \"team2\"]] = df3[\"teamName\"].str.split(\",\", expand=True)\n",
    "    df4[[\"tId1\", \"tId2\"]] = df3[\"teamId\"].str.split(\",\", expand=True)\n",
    "    df4[[\"ORtg1\", \"ORtg2\"]] = df3[\"offensiveRating\"].str.split(\",\", expand=True)\n",
    "    df4[[\"DRtg1\", \"DRtg2\"]] = df3[\"defensiveRating\"].str.split(\",\", expand=True)\n",
    "    df4[[\"NRtg1\", \"NRtg2\"]] = df3[\"netRating\"].str.split(\",\", expand=True)\n",
    "    df4[[\"poss1\", \"poss2\"]] = df3[\"possessions\"].str.split(\",\", expand=True)\n",
    "    df4 = df4.drop(columns=cols[1:])\n",
    "    df5 = df3.copy()\n",
    "    df5[[\"team2\", \"team1\"]] = df3[\"teamName\"].str.split(\",\", expand=True)\n",
    "    df5[[\"tId2\", \"tId1\"]] = df3[\"teamId\"].str.split(\",\", expand=True)\n",
    "    df5[[\"ORtg2\", \"ORtg1\"]] = df3[\"offensiveRating\"].str.split(\",\", expand=True)\n",
    "    df5[[\"DRtg2\", \"DRtg1\"]] = df3[\"defensiveRating\"].str.split(\",\", expand=True)\n",
    "    df5[[\"NRtg2\", \"NRtg1\"]] = df3[\"netRating\"].str.split(\",\", expand=True)\n",
    "    df5[[\"poss2\", \"poss1\"]] = df3[\"possessions\"].str.split(\",\", expand=True)\n",
    "    df5 = df5.drop(columns=cols[1:])\n",
    "    df6 = pd.concat([df4, df5]).sort_values(by=\"gameId\").reset_index(drop=True)\n",
    "    df6.iloc[:, 5:] = df6.iloc[:, 5:].astype(float)\n",
    "    df6.iloc[:, 3:5] = df6.iloc[:, 3:5].astype(int)\n",
    "    data1 = df6.copy()\n",
    "    stats = leaguegamelog.LeagueGameLog(\n",
    "        player_or_team_abbreviation=\"T\",\n",
    "        season=season,\n",
    "        season_type_all_star=\"Regular Season\",\n",
    "    )\n",
    "    df10 = stats.get_data_frames()[0]\n",
    "    df10[\"HOME\"] = ~df10[\"MATCHUP\"].str.contains(\"@\")\n",
    "    df10[\"tId1\"] = df10[\"TEAM_ID\"]\n",
    "    df10[\"gameId\"] = df10[\"GAME_ID\"]\n",
    "    df11 = (\n",
    "        df10[[\"gameId\", \"tId1\", \"HOME\"]].sort_values(by=\"gameId\").reset_index(drop=True)\n",
    "    )\n",
    "    df11[[\"gameId\", \"tId1\"]] = df11[[\"gameId\", \"tId1\"]].astype(int)\n",
    "    data = pd.merge(data1, df11)\n",
    "    return data"
   ]
  },
  {
   "cell_type": "code",
   "execution_count": null,
   "metadata": {},
   "outputs": [],
   "source": [
    "data = get_ratings(2023)"
   ]
  },
  {
   "cell_type": "code",
   "execution_count": null,
   "metadata": {},
   "outputs": [],
   "source": [
    "df1 = data[data[\"HOME\"]].reset_index(drop=True)\n",
    "df2 = data[~data[\"HOME\"]].reset_index(drop=True)"
   ]
  },
  {
   "cell_type": "code",
   "execution_count": null,
   "metadata": {},
   "outputs": [],
   "source": [
    "df = df1\n",
    "df[\"pts1\"] = df[\"ORtg1\"] * df[\"poss1\"]\n",
    "df[\"pts2\"] = df[\"DRtg1\"] * df[\"poss1\"]\n",
    "off_prior = df.groupby([\"tId1\"])[[\"poss1\", \"pts1\"]].agg(\"sum\").reset_index()\n",
    "def_prior = df.groupby([\"tId1\"])[[\"poss1\", \"pts2\"]].agg(\"sum\").reset_index()\n",
    "off_prior[\"OFF\"] = off_prior[\"pts1\"] / off_prior[\"poss1\"]\n",
    "off_prior = off_prior[[\"tId1\", \"OFF\"]]\n",
    "def_prior[\"DEF\"] = def_prior[\"pts2\"] / def_prior[\"poss1\"]\n",
    "def_prior = def_prior.rename(columns={\"poss1\": \"poss\"})\n",
    "def_prior = def_prior[[\"tId1\", \"DEF\", \"poss\"]]\n",
    "results_net = pd.merge(off_prior, def_prior, on=[\"tId1\"])\n",
    "results_net[\"NET\"] = results_net[\"OFF\"] - results_net[\"DEF\"]\n",
    "results_net.rename(columns={\"tId1\": \"tId\"}, inplace=True)\n",
    "results_net = results_net.astype(float).round(2)\n",
    "results_net[\"tId\"] = results_net[\"tId\"].astype(int)\n",
    "results_net[\"Team\"] = results_net[\"tId\"].map(teams_dict)\n",
    "df_home = results_net\n",
    "df = df2\n",
    "df[\"pts1\"] = df[\"ORtg1\"] * df[\"poss1\"]\n",
    "df[\"pts2\"] = df[\"DRtg1\"] * df[\"poss1\"]\n",
    "off_prior = df.groupby([\"tId1\"])[[\"poss1\", \"pts1\"]].agg(\"sum\").reset_index()\n",
    "def_prior = df.groupby([\"tId1\"])[[\"poss1\", \"pts2\"]].agg(\"sum\").reset_index()\n",
    "off_prior[\"OFF\"] = off_prior[\"pts1\"] / off_prior[\"poss1\"]\n",
    "off_prior = off_prior[[\"tId1\", \"OFF\"]]\n",
    "def_prior[\"DEF\"] = def_prior[\"pts2\"] / def_prior[\"poss1\"]\n",
    "def_prior = def_prior.rename(columns={\"poss1\": \"poss\"})\n",
    "def_prior = def_prior[[\"tId1\", \"DEF\", \"poss\"]]\n",
    "results_net = pd.merge(off_prior, def_prior, on=[\"tId1\"])\n",
    "results_net[\"NET\"] = results_net[\"OFF\"] - results_net[\"DEF\"]\n",
    "results_net.rename(columns={\"tId1\": \"tId\"}, inplace=True)\n",
    "results_net = results_net.astype(float).round(2)\n",
    "results_net[\"tId\"] = results_net[\"tId\"].astype(int)\n",
    "df_away = results_net"
   ]
  },
  {
   "cell_type": "code",
   "execution_count": null,
   "metadata": {},
   "outputs": [],
   "source": [
    "s = df_home.iloc[:, -1]\n",
    "df_home = pd.concat([s, df_home.iloc[:, :-1]], axis=1)\n",
    "df_ha = pd.merge(df_home, df_away, on=\"tId\", suffixes=(\"_h\", \"_a\"))"
   ]
  },
  {
   "cell_type": "code",
   "execution_count": null,
   "metadata": {},
   "outputs": [],
   "source": [
    "home_adv = (\n",
    "    df_home.apply(lambda x: x[\"OFF\"] * x[\"poss\"], axis=1).sum() / df_home[\"poss\"].sum()\n",
    "    - df_home.apply(lambda x: x[\"DEF\"] * x[\"poss\"], axis=1).sum()\n",
    "    / df_home[\"poss\"].sum()\n",
    ")\n",
    "away_adv = (\n",
    "    df_away.apply(lambda x: x[\"OFF\"] * x[\"poss\"], axis=1).sum() / df_away[\"poss\"].sum()\n",
    "    - df_away.apply(lambda x: x[\"DEF\"] * x[\"poss\"], axis=1).sum()\n",
    "    / df_away[\"poss\"].sum()\n",
    ")\n",
    "print(home_adv)\n",
    "print(away_adv)\n",
    "print(home_adv - away_adv)"
   ]
  },
  {
   "cell_type": "code",
   "execution_count": null,
   "metadata": {},
   "outputs": [],
   "source": [
    "df_ha[\"Home_m_Away\"] = (\n",
    "    2\n",
    "    * ((df_ha[\"NET_h\"] * df_ha[\"poss_h\"]) - (df_ha[\"NET_a\"] * df_ha[\"poss_a\"]))\n",
    "    / (df_ha[\"poss_h\"] + df_ha[\"poss_a\"])\n",
    ")\n",
    "df_ha[\"Home_m_Away\"] = df_ha[\"Home_m_Away\"].round(2)\n",
    "df_ha[\"Home_m_Away2\"] = df_ha[\"NET_h\"] - df_ha[\"NET_a\"]\n",
    "df_teams = pd.read_csv(\"../data/NBA_teams_colors_logos.csv\")\n",
    "df_teams = df_teams.rename(columns={\"nameTeam\": \"Team\"})\n",
    "results_plot = pd.merge(df_ha, df_teams)"
   ]
  },
  {
   "cell_type": "code",
   "execution_count": null,
   "metadata": {},
   "outputs": [],
   "source": [
    "df_ha.sort_values(by=\"Home_m_Away\", ascending=False)"
   ]
  },
  {
   "cell_type": "code",
   "execution_count": null,
   "metadata": {},
   "outputs": [],
   "source": [
    "%reload_ext rpy2.ipython"
   ]
  },
  {
   "cell_type": "code",
   "execution_count": null,
   "metadata": {},
   "outputs": [],
   "source": [
    "%%R -i results_plot\n",
    "results <- results_plot\n",
    "library(tidyverse)\n",
    "library(ggimage)\n",
    "library(ggrepel)\n",
    "theme_owen <- function() {\n",
    "  theme_minimal(base_size = 16, base_family = \"Consolas\") %+replace%\n",
    "    theme(\n",
    "      panel.grid.minor = element_blank(),\n",
    "      plot.background = element_rect(fill = \"ghostwhite\", color = \"ghostwhite\")\n",
    "    )\n",
    "}\n",
    "p <- ggplot(\n",
    "  results,\n",
    "  aes(x = NET_h, y = NET_a)) +\n",
    "#   # geom_point(aes(size = aNRtg_Rank)) +\n",
    "# #   scale_y_reverse() +\n",
    "  geom_hline(yintercept = 0, color = \"black\") +\n",
    "  geom_vline(xintercept = 0, color = \"black\") +\n",
    "  geom_abline(intercept = -5.65, slope = 1, color = \"blue\",size = 2) +\n",
    "# #   geom_abline(slope = -1,color=\"black\")+\n",
    "  geom_image(\n",
    "    aes(\n",
    "      x = NET_h, y = NET_a,\n",
    "      image = urlThumbnailTeam\n",
    "    ),\n",
    "    size = 0.1\n",
    "  ) +\n",
    "#   # geom_text(nudge_x = 1.3, nudge_y = 0, size = 6,check_overlap = TRUE) +\n",
    "#   # geom_text_repel(nudge_x = 1.1, nudge_y = 0.5,size=6,min.segment.length=10) +\n",
    "#   # geom_label(nudge_x = 1.3, nudge_y = 0, size = 6) +\n",
    "  theme_owen() +\n",
    "  theme(\n",
    "    plot.title.position = \"plot\",\n",
    "    plot.title = element_text(face = \"bold\", size = 24, hjust = 0.5),\n",
    "    plot.margin = margin(10, 10, 15, 10),\n",
    "    plot.subtitle = element_text(size = 18),\n",
    "    plot.caption = element_text(size = 14)\n",
    "  ) +\n",
    "  theme(\n",
    "    axis.text.x = element_text(size = 14, face = \"bold\", color = \"black\"),\n",
    "    axis.text.y = element_text(size = 14, face = \"bold\", color = \"black\"),\n",
    "    axis.title.x = element_text(size = 18, face = \"bold\", colour = \"black\"),\n",
    "    axis.title.y = element_text(size = 18, face = \"bold\", colour = \"black\")\n",
    "  ) +\n",
    "  labs(\n",
    "    title = paste0(\"Net Ratings Home vs Away as of \", format(Sys.Date(), format = \"%B %d, %Y\")),\n",
    "    x = \"Home Net Rating\", y = \"Away Net Rating\",\n",
    "    subtitle = \"The Farther the team is from the blue line, more extreme home vs away differential \\nAverage team is 5 points better at home vs away\",\n",
    "    caption = \"@sradjoker\"\n",
    "  )\n",
    "ggsave(\"../figs/team_ratings/TRatings_Home_Away.png\", p, w = 10 * 1.5, h = 8 * 1.5, dpi = 300)"
   ]
  }
 ],
 "metadata": {
  "kernelspec": {
   "display_name": "nba-ub9Z_EQq-py3.11",
   "language": "python",
   "name": "python3"
  },
  "language_info": {
   "name": "python",
   "version": "3.11.6"
  }
 },
 "nbformat": 4,
 "nbformat_minor": 2
}
