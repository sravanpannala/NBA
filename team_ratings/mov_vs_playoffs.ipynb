{
 "cells": [
  {
   "cell_type": "code",
   "execution_count": null,
   "metadata": {},
   "outputs": [],
   "source": [
    "import os, sys\n",
    "\n",
    "sys.path.append(os.path.dirname(os.path.dirname(os.path.abspath(\"__file__\"))))\n",
    "from nbafuns import *\n",
    "from nba_api.stats.endpoints import leaguedashteamstats\n",
    "\n",
    "\n",
    "fig_DIR = \"../figs/team_ratings/\"\n",
    "box_DIR = \"../data/box/\""
   ]
  },
  {
   "cell_type": "code",
   "execution_count": null,
   "metadata": {},
   "outputs": [],
   "source": [
    "cols1 = ['TEAM_NAME', 'GP', 'W', 'L', 'W_PCT',\n",
    "       'OFF_RATING', 'DEF_RATING', 'NET_RATING', 'EFG_PCT', 'TS_PCT', 'E_PACE', 'PACE', 'POSS',\n",
    "       \"W_RANK\", \"L_RANK\",\n",
    "       'W_PCT_RANK', 'OFF_RATING_RANK', 'DEF_RATING_RANK',\n",
    "       'NET_RATING_RANK',]"
   ]
  },
  {
   "cell_type": "code",
   "execution_count": null,
   "metadata": {},
   "outputs": [],
   "source": [
    "dfa = []\n",
    "for year in range(2001,2023):\n",
    "    stats = leaguedashteamstats.LeagueDashTeamStats(\n",
    "        measure_type_detailed_defense=\"Advanced\",\n",
    "        season = get_ss(year)\n",
    "    )\n",
    "    df1 = stats.get_data_frames()[0]\n",
    "    df1 = df1.sort_values(\"W_PCT\",ascending=False).reset_index(drop=True)\n",
    "    time.sleep(0.6)\n",
    "    stats = leaguedashteamstats.LeagueDashTeamStats(\n",
    "        measure_type_detailed_defense=\"Advanced\",\n",
    "        season_type_all_star=\"Playoffs\",\n",
    "        season=get_ss(year)\n",
    "    )\n",
    "    df2 = stats.get_data_frames()[0]\n",
    "    df2 = df2.sort_values(\"W\",ascending=False).reset_index(drop=True)\n",
    "    df1 = df1[cols1]\n",
    "    df2 = df2[cols1]\n",
    "    df3 = pd.merge(df2,df1,on=[\"TEAM_NAME\"])\n",
    "    df3[\"season\"] = year + 1\n",
    "    \n",
    "    time.sleep(0.6)\n",
    "    stats = leaguegamelog.LeagueGameLog(\n",
    "        player_or_team_abbreviation=\"T\",\n",
    "        season=get_ss(year),\n",
    "        season_type_all_star=\"Playoffs\",\n",
    "    )\n",
    "    df4 = stats.get_data_frames()[0]\n",
    "    df4[\"Round\"] = df4[\"GAME_ID\"].str[-3]\n",
    "    df4[\"Win\"] = df4[\"WL\"] == \"W\"\n",
    "    df4[\"Loss\"] = df4[\"WL\"] == \"L\"\n",
    "    df5 = df4.groupby([\"TEAM_NAME\",\"Round\"])[[\"Win\",\"Loss\"]].sum().reset_index()\n",
    "    df6 = df5.groupby([\"TEAM_NAME\"])[[\"Round\"]].count().reset_index()\n",
    "    df7 = pd.merge(df3,df6,on=\"TEAM_NAME\")\n",
    "    dfa.append(df7)\n",
    "    time.sleep(0.6)\n",
    "df8 = pd.concat(dfa)\n",
    "df8 = df8.rename(columns={\"Round\":\"Round_x\"})"
   ]
  },
  {
   "cell_type": "code",
   "execution_count": null,
   "metadata": {},
   "outputs": [],
   "source": [
    "df8.columns"
   ]
  },
  {
   "cell_type": "code",
   "execution_count": null,
   "metadata": {},
   "outputs": [],
   "source": [
    "cols = ['GP_y', 'W_y', 'L_y', 'W_PCT_y', 'OFF_RATING_y',\n",
    "       'DEF_RATING_y', 'NET_RATING_y',]\n",
    "for col in cols:\n",
    "    r2 = (df8[\"PACE_y\"].corr(df8[col]))**2\n",
    "    print(f\"{col[:-2]} : {r2:0.3f}\")"
   ]
  },
  {
   "cell_type": "code",
   "execution_count": null,
   "metadata": {},
   "outputs": [],
   "source": [
    "x_p = df8[\"W_y\"]\n",
    "y_p = df8[\"W_x\"]\n",
    "slope, intercept, r, p, sterr = scipy.stats.linregress(x=x_p, y=y_p)\n",
    "r2 = r**2\n",
    "r2 = round(r2,3)\n",
    "r2"
   ]
  },
  {
   "cell_type": "code",
   "execution_count": null,
   "metadata": {},
   "outputs": [],
   "source": [
    "p = (\n",
    "    ggplot(df8,aes(x=\"W_y\",y=\"W_x\"))\n",
    "    + geom_point()\n",
    "    + geom_smooth(method=\"lm\",color=\"red\",size=3)\n",
    "    + labs(\n",
    "        title=\"Regular Season Net Rating vs # of Playoff Wins\",\n",
    "        subtitle=\"From 1996-2023\",\n",
    "        caption=\"@SravanNBA | source:nba.com/stats\",\n",
    "        x=\"Regular Season Net Rating\",\n",
    "        y=\"# of Playoff Wins\"\n",
    "    )\n",
    "    + annotate('label', x=30, y=15, label=f'r^2={r2}', size=14)\n",
    "    + theme_idv\n",
    "    + theme(\n",
    "        figure_size=(5*1.1,4*1.1)\n",
    "    )\n",
    ")\n",
    "p"
   ]
  },
  {
   "cell_type": "code",
   "execution_count": null,
   "metadata": {},
   "outputs": [],
   "source": [
    "x_var = \"NET_RATING_y\"\n",
    "y_var = \"W_x\"\n",
    "fig = px.scatter(df8, x=x_var, y=y_var,width=800, height=600, hover_name=\"TEAM_NAME\",hover_data=[\"season\",\"NET_RATING_y\",\"W_x\",\"NET_RATING_x\"],color_discrete_sequence =[\"red\"])\n",
    "# fig_line = px.line(df, x = \"RAPM\", y = \"RAPM\",color_discrete_sequence=[\"black\"])\n",
    "# fig = go.Figure(data = fig_10.data + fig_line.data)\n",
    "fig.update_layout( width=800, height=600, showlegend=True)\n",
    "fig.update_layout( title=dict(\n",
    "                        text=\"Regular Season Net Rating vs # of Playoff Wins\",\n",
    "                        xanchor=\"auto\",\n",
    "                        yanchor=\"middle\",\n",
    "                        font=dict(family=\"Arial, Tahoma, Helvetica\", size=25, color=\"Black\")\n",
    "                    ),\n",
    "            )\n",
    "fig.update_xaxes(title_text=x_var)\n",
    "fig.update_yaxes(title_text=y_var)\n",
    "fig.update_layout(legend=dict(\n",
    "    yanchor=\"top\",\n",
    "    y=0.99,\n",
    "    xanchor=\"left\",\n",
    "    x=0.01\n",
    "))\n",
    "fig.show()"
   ]
  },
  {
   "cell_type": "markdown",
   "metadata": {},
   "source": [
    "## Playoff Round Wins"
   ]
  },
  {
   "cell_type": "code",
   "execution_count": null,
   "metadata": {},
   "outputs": [],
   "source": [
    "qus = [\"Round_x > 0\",\"Round_x > 1\",\"Round_x > 2\",\"Round_x > 3\",\"Round_x > 1 & W_RANK_x == 1\"]\n",
    "scenario = [\"Playoffs\",\"2nd Round\",\"Conf Finals\",\"Finals\",\"Championship\"]"
   ]
  },
  {
   "cell_type": "code",
   "execution_count": null,
   "metadata": {},
   "outputs": [],
   "source": [
    "df88 = df8.query(\"season > 2017\")"
   ]
  },
  {
   "cell_type": "code",
   "execution_count": null,
   "metadata": {},
   "outputs": [],
   "source": [
    "dfb = []\n",
    "for q,s in zip(qus,scenario):\n",
    "    df9 = df88.query(q)\n",
    "    df10 = df9[[\"OFF_RATING_RANK_y\",\"DEF_RATING_RANK_y\",\"NET_RATING_RANK_y\"]].mean().round(2).reset_index().T\n",
    "    df10.columns = [\"Off Rtf Rank\",\"Def Rtg Rank\",\"Net Rtg Rank\"]\n",
    "    df10 = df10.iloc[1:]\n",
    "    df10[\"Scenario\"] = s\n",
    "    dfb.append(df10)\n",
    "df11 = pd.concat(dfb)"
   ]
  },
  {
   "cell_type": "code",
   "execution_count": null,
   "metadata": {},
   "outputs": [],
   "source": [
    "df11.insert(0,\"Scenario\",df11.pop(\"Scenario\"))"
   ]
  },
  {
   "cell_type": "code",
   "execution_count": null,
   "metadata": {},
   "outputs": [],
   "source": [
    "df11 = df11.reset_index(drop=True)"
   ]
  },
  {
   "cell_type": "code",
   "execution_count": null,
   "metadata": {},
   "outputs": [],
   "source": [
    "%reload_ext rpy2.ipython"
   ]
  },
  {
   "cell_type": "code",
   "execution_count": null,
   "metadata": {},
   "outputs": [],
   "source": [
    "%%R -i df11\n",
    "df <- df11\n",
    "library(tidyverse)\n",
    "library(gt)\n",
    "# library(gtExtras)\n",
    "df %>% \n",
    "  gt()%>%\n",
    "  tab_header(\n",
    "    title = md(\"**Average Regular Season Ratings Rankings vs Playoff Progress**\"),\n",
    "    subtitle = md(\"Last 5 Seasons\"),\n",
    "    ) %>%\n",
    "    cols_align(\"center\")%>%\n",
    "    cols_align(align = \"left\",columns=\"Scenario\")%>%\n",
    "    tab_options(\n",
    "        table.background.color = \"floralwhite\",\n",
    "        column_labels.font.size = 12,\n",
    "        column_labels.font.weight = 'bold',\n",
    "        row_group.font.weight = 'bold',\n",
    "        row_group.background.color = \"#E5E1D8\",\n",
    "        table.font.size = 10,\n",
    "        heading.title.font.size = 14,\n",
    "        heading.subtitle.font.size = 12.5,\n",
    "        table.font.names = \"Consolas\", \n",
    "        # data_row.padding = px(2),\n",
    "        table.margin.left = 1,\n",
    "        table.margin.right = 1,\n",
    "    ) %>% \n",
    "    tab_source_note(\n",
    "    source_note = \"@SravanNBA | Source: nba.com/stats\" )%>% gtsave(\"../figs/team_ratings/reg_ranking_vs_playoffs_prog.png\",size=5) "
   ]
  }
 ],
 "metadata": {
  "kernelspec": {
   "display_name": "nba-ub9Z_EQq-py3.11",
   "language": "python",
   "name": "python3"
  },
  "language_info": {
   "codemirror_mode": {
    "name": "ipython",
    "version": 3
   },
   "file_extension": ".py",
   "mimetype": "text/x-python",
   "name": "python",
   "nbconvert_exporter": "python",
   "pygments_lexer": "ipython3",
   "version": "3.11.6"
  }
 },
 "nbformat": 4,
 "nbformat_minor": 2
}
