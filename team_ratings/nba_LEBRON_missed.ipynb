{
 "cells": [
  {
   "cell_type": "code",
   "execution_count": null,
   "metadata": {},
   "outputs": [],
   "source": [
    "import os, sys\n",
    "\n",
    "sys.path.append(os.path.dirname(os.path.dirname(os.path.abspath(\"__file__\"))))\n",
    "from nbafuns import *\n",
    "from nba_api.stats.endpoints import commonallplayers, playerindex\n",
    "\n",
    "player_dict = get_players_pbp()\n",
    "teams_dict, teams_list = get_teams()\n",
    "\n",
    "data_DIR = \"../data/all_in_one_metrics/\"\n",
    "data_DIR1 = \"../data/injuries/\"\n",
    "box_DIR = \"../data/box/\"\n",
    "fig_DIR = \"../figs/team_leaders/\"\n",
    "shiny_DIR = \"../data/shiny/\""
   ]
  },
  {
   "cell_type": "code",
   "execution_count": null,
   "metadata": {},
   "outputs": [],
   "source": [
    "def is_injured(dfinj, pId_missed, game_date):\n",
    "    missed_games = np.array([False] * len(pId_missed))\n",
    "    for i,pId in enumerate(pId_missed):\n",
    "        df_p = dfinj.query(f'playerID == {pId}').reset_index(drop=True)\n",
    "        if len(df_p) > 0:\n",
    "            df_p[\"Comp\"] = df_p[\"Date\"] <= game_date\n",
    "            idxi = df_p[df_p[\"Comp\"]].index\n",
    "            if len(idxi) > 0:\n",
    "                idx = idxi[-1]\n",
    "                missed_game = df_p[\"Out\"].loc[idx]\n",
    "                missed_games[i] = missed_game\n",
    "    gp = missed_games*pId_missed\n",
    "    pId_m = gp[gp !=0 ]\n",
    "    # pId_m = list(pId_m)\n",
    "    return pId_m"
   ]
  },
  {
   "cell_type": "code",
   "execution_count": null,
   "metadata": {},
   "outputs": [],
   "source": [
    "year = 2023"
   ]
  },
  {
   "cell_type": "code",
   "execution_count": null,
   "metadata": {},
   "outputs": [],
   "source": [
    "season_str = str(year) + \"-\" + str(year+1)[-2:]\n",
    "df0 = pd.read_parquet(box_DIR + f\"NBA_BOX_T_Base_{year}.parquet\")\n",
    "df0= df0[[\"GAME_ID\",\"TEAM_ID\",\"GAME_DATE\",\"MATCHUP\",\"WL\",\"PLUS_MINUS\"]]\n",
    "df0[\"GAME_ID\"] = df0[\"GAME_ID\"].astype(int)\n",
    "# load player indvidual game boxscores\n",
    "df1 = pd.read_parquet(box_DIR + \"NBA_BOX_P_\" + \"Base\" + \"_\" + str(year) + \".parquet\")\n",
    "df1[\"GAME_DATE\"] = pd.to_datetime(df1[\"GAME_DATE\"], format=\"%Y-%m-%d\")\n",
    "dfinj = pd.read_parquet(data_DIR1 + f'NBA_prosptran_injuries_{year}.parquet')\n",
    "player_list = df1[\"PLAYER_ID\"].unique()\n",
    "dfr = df1[[\"TEAM_ID\",\"PLAYER_ID\"]]\n",
    "dfrt = dfr.groupby(\"TEAM_ID\")\n",
    "df2 = df1.groupby([\"GAME_ID\",\"TEAM_ID\"])\n",
    "# loop through all groups and get injured players \n",
    "keys = list(df2.groups)\n",
    "dfma = []\n",
    "# i=0\n",
    "for key in tqdm(keys):\n",
    "    p_played =  df2[\"PLAYER_ID\"].get_group(key).to_numpy()\n",
    "    p_roster = dfrt[\"PLAYER_ID\"].get_group(key[1]).to_numpy()\n",
    "    # pId_missed = np.array(list(set(p_roster) - set(p_played)))#.astype(int)\n",
    "    pId_missed = np.setdiff1d(p_roster,p_played)\n",
    "    game_date = df2[\"GAME_DATE\"].get_group(key).iloc[0]\n",
    "    players_missed = is_injured(dfinj,pId_missed,game_date)\n",
    "    dfm1 = pd.DataFrame({\"PLAYER_ID\":players_missed})\n",
    "    dfm1[\"TEAM_ID\"] = key[1]\n",
    "    dfm1[\"GAME_ID\"] = key[0]\n",
    "    dfm1[\"GAME_DATE\"] = game_date\n",
    "    dfma.append(dfm1)\n",
    "    # i+=1\n",
    "    # if i > 50:\n",
    "    #     break\n",
    "dfm1 = pd.concat(dfma)\n",
    "dfm1[\"PLAYER_ID\"] = dfm1[\"PLAYER_ID\"].astype(int)\n",
    "# map player and team names\n",
    "dfm1[\"PLAYER_NAME\"] = dfm1[\"PLAYER_ID\"].map(player_dict)\n",
    "dfm1[\"TEAM_NAME\"] = dfm1[\"TEAM_ID\"].map(teams_dict)\n"
   ]
  },
  {
   "cell_type": "code",
   "execution_count": null,
   "metadata": {},
   "outputs": [],
   "source": [
    "dflb = pd.read_csv(data_DIR + f\"NBA_LEBRON_{year}.csv\")\n",
    "dflb = dflb.rename(columns={\"LEBRON_WinsAdded\":\"LEBRON_WAR\"})\n",
    "dflb = dflb[[\"PLAYER_ID\",\"LEBRON_WAR\"]]\n",
    "dfgp = pd.read_parquet(box_DIR + f\"NBA_BOX_P_Cum_Base_{year}.parquet\")\n",
    "dfgp = dfgp[[\"PLAYER_ID\",\"GP\",\"MIN\"]]\n",
    "dflm = pd.merge(dflb,dfgp,on=\"PLAYER_ID\")\n",
    "dflm[\"LBWAR_PG\"] = round(dflm[\"LEBRON_WAR\"]/dflm[\"GP\"],4)\n",
    "dflm = dflm[[\"PLAYER_ID\",\"LBWAR_PG\",\"MIN\"]]"
   ]
  },
  {
   "cell_type": "code",
   "execution_count": null,
   "metadata": {},
   "outputs": [],
   "source": [
    "dfm = pd.merge(dfm1,dflm,on=\"PLAYER_ID\")"
   ]
  },
  {
   "cell_type": "code",
   "execution_count": null,
   "metadata": {},
   "outputs": [],
   "source": [
    "dfmg =  (\n",
    "    dfm\n",
    "    .groupby([\"GAME_ID\",\"TEAM_ID\"])[[\"PLAYER_ID\",\"LBWAR_PG\",\"MIN\"]]\n",
    "    .agg({\"PLAYER_ID\":[\"count\"],\"MIN\":[\"sum\"],\"LBWAR_PG\":[\"sum\"]})\n",
    ")\n",
    "dfmg.columns = [\"Games_Missed\",\"Minutes_Missed\",\"LEBRON_WAR_Missed\"]\n",
    "dfmg = dfmg.reset_index()\n",
    "dfmg[\"GAME_ID\"] = dfmg[\"GAME_ID\"].astype(int)\n",
    "# merge team boxscores to get game details like date and matchup\n",
    "dfmf = pd.merge(df0,dfmg,on=[\"GAME_ID\",\"TEAM_ID\"])\n",
    "dfmf[\"Team\"] = dfmf[\"TEAM_ID\"].map(teams_dict)\n",
    "dfmf = dfmf.drop(columns=[\"GAME_ID\",\"TEAM_ID\"])\n",
    "dfmf.insert(1,\"Team\",dfmf.pop(\"Team\"))\n",
    "df_x = dfmf.groupby(\"Team\").agg({\"Games_Missed\":[\"sum\"],\"Minutes_Missed\":[\"sum\"],\"LEBRON_WAR_Missed\":[\"sum\"]})\n",
    "df_x.columns = [\"Games_Missed\",\"Minutes_Missed\",\"LEBRON_WAR_Missed\"]\n",
    "df_x = (df_x\n",
    "        .reset_index()\n",
    "        .sort_values(\"LEBRON_WAR_Missed\",ascending=False)\n",
    "        .reset_index(drop=True)\n",
    "    )\n",
    "df_x[\"LEBRON_WAR_Missed\"] = df_x[\"LEBRON_WAR_Missed\"].round(2)"
   ]
  },
  {
   "cell_type": "code",
   "execution_count": null,
   "metadata": {},
   "outputs": [],
   "source": [
    "df_teams = pd.read_csv(\"../data/\" + \"NBA_teams_colors_logos.csv\")\n",
    "df_teams[\"Team\"] = df_teams[\"nameTeam\"]\n",
    "df_teams = df_teams[[\"Team\",\"colorsTeam\"]]\n",
    "df_y = pd.merge(df_x, df_teams, on=\"Team\")"
   ]
  },
  {
   "cell_type": "code",
   "execution_count": null,
   "metadata": {},
   "outputs": [],
   "source": [
    "df_avg = df_y.iloc[:,1:-1].mean()\n",
    "df_avg = pd.DataFrame(df_avg).T\n",
    "df_avg[\"Games_Missed\"] = df_avg[\"Games_Missed\"].round(0)\n",
    "df_avg[\"Minutes_Missed\"] = df_avg[\"Minutes_Missed\"].round(1)\n",
    "df_avg[\"LEBRON_WAR_Missed\"] = df_avg[\"LEBRON_WAR_Missed\"].round(2)\n",
    "df_avg[\"Team\"] = \"League Average\"\n",
    "df_avg[\"colorsTeam\"]  = \"#000000\""
   ]
  },
  {
   "cell_type": "code",
   "execution_count": null,
   "metadata": {},
   "outputs": [],
   "source": [
    "df_z = pd.concat([df_y,df_avg]).sort_values(\"LEBRON_WAR_Missed\",ascending=False).reset_index(drop=True)"
   ]
  },
  {
   "cell_type": "code",
   "execution_count": null,
   "metadata": {},
   "outputs": [],
   "source": [
    "teams = df_z[\"Team\"].to_list()\n",
    "teams.reverse()\n",
    "df_z[\"Team\"] = pd.Categorical(df_z['Team'], categories=teams)\n",
    "# df_y.to_parquet(shiny_DIR + \"NBA_games_minutes_war_missed.parquet\")"
   ]
  },
  {
   "cell_type": "code",
   "execution_count": null,
   "metadata": {},
   "outputs": [],
   "source": [
    "%reload_ext rpy2.ipython"
   ]
  },
  {
   "cell_type": "code",
   "execution_count": null,
   "metadata": {},
   "outputs": [],
   "source": [
    "%%R -i df_x\n",
    "df <- df_x\n",
    "library(tidyverse)\n",
    "library(gt)\n",
    "library(gtExtras)\n",
    "df %>% \n",
    "  gt()%>%\n",
    "  tab_header(\n",
    "    title = md(\"**LEBRON WAR Missed due to Injury/Suspensions etc. 2023-24**\"),\n",
    "    subtitle = \"Only Players who have played this season are considered\"  \n",
    "    ) %>%\n",
    "    cols_label( index=\"#\", LEBRON_WAR_OUT=\"LEBRON WAR\"\n",
    "    ) %>%\n",
    "    gt_plt_bar(column = LEBRON_WAR_OUT, keep_column = TRUE, color = \"red\") %>%\n",
    "    tab_options(\n",
    "        table.background.color = \"floralwhite\",\n",
    "        column_labels.font.size = 12,\n",
    "        column_labels.font.weight = 'bold',\n",
    "        row_group.font.weight = 'bold',\n",
    "        row_group.background.color = \"#E5E1D8\",\n",
    "        table.font.size = 10,\n",
    "        heading.title.font.size = 14,\n",
    "        heading.subtitle.font.size = 12,\n",
    "        table.font.names = \"Consolas\", \n",
    "        data_row.padding = px(0.5),\n",
    "        table.margin.left = 1,\n",
    "        table.margin.right = 1,\n",
    "\n",
    "    ) %>% \n",
    "    tab_source_note(\n",
    "    source_note = \"@SravanNBA | Source: @knarsu3, bball-index, nba\" ) %>% gtsave(\"../figs/team_leaders/lebron_war_missed.png\",zoom=5) "
   ]
  }
 ],
 "metadata": {
  "kernelspec": {
   "display_name": "nba-ub9Z_EQq-py3.11",
   "language": "python",
   "name": "python3"
  },
  "language_info": {
   "codemirror_mode": {
    "name": "ipython",
    "version": 3
   },
   "file_extension": ".py",
   "mimetype": "text/x-python",
   "name": "python",
   "nbconvert_exporter": "python",
   "pygments_lexer": "ipython3",
   "version": "3.11.6"
  }
 },
 "nbformat": 4,
 "nbformat_minor": 2
}
