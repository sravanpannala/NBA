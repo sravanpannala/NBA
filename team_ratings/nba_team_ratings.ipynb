{
 "cells": [
  {
   "cell_type": "markdown",
   "metadata": {},
   "source": [
    "# Analyze and Visualize NBA Team Ratings "
   ]
  },
  {
   "cell_type": "code",
   "execution_count": null,
   "metadata": {},
   "outputs": [],
   "source": [
    "import os, sys\n",
    "\n",
    "sys.path.append(os.path.dirname(os.path.dirname(os.path.abspath(\"__file__\"))))\n",
    "from nbafuns import *\n",
    "\n",
    "fig_DIR = \"../figs/teams/\"\n",
    "box_DIR = \"../data/box/\""
   ]
  },
  {
   "cell_type": "markdown",
   "metadata": {},
   "source": [
    "# Net Rating Variance"
   ]
  },
  {
   "cell_type": "code",
   "execution_count": null,
   "metadata": {},
   "outputs": [],
   "source": [
    "season = 2024"
   ]
  },
  {
   "cell_type": "code",
   "execution_count": null,
   "metadata": {},
   "outputs": [],
   "source": [
    "df1 = pd.read_parquet(box_DIR + f\"NBA_Box_T_Adv_{season}.parquet\")\n",
    "cols = [\n",
    "    \"gameId\",\n",
    "    \"teamId\",\n",
    "    \"offensiveRating\",\n",
    "    \"defensiveRating\",\n",
    "    \"netRating\",\n",
    "    \"possessions\",\n",
    "]\n",
    "df1 = df1[cols]\n",
    "df1[\"Win\"] = df1[\"netRating\"] > 0\n",
    "df1[\"Loss\"] = df1[\"netRating\"] < 0\n",
    "stats = leaguegamelog.LeagueGameLog(\n",
    "    player_or_team_abbreviation=\"T\",\n",
    "    season=season,\n",
    "    season_type_all_star=\"Regular Season\",\n",
    ")\n",
    "df2 = stats.get_data_frames()[0]\n",
    "\n",
    "df2 = df2.rename(\n",
    "    columns={\n",
    "        \"GAME_ID\": \"gameId\",\n",
    "        \"TEAM_ID\": \"teamId\",\n",
    "        \"TEAM_ABBREVIATION\": \"teamTricode\",\n",
    "        \"GAME_DATE\": \"gameDate\",\n",
    "        \"TEAM_NAME\": \"teamName\",\n",
    "    }\n",
    ")\n",
    "cols2 = [\"gameId\", \"teamId\", \"teamTricode\", \"gameDate\"]\n",
    "df2 = df2[cols2]\n",
    "df2[\"gameId\"] = df2[\"gameId\"].astype(int)\n",
    "df3 = pd.merge(df2, df1, on=[\"gameId\", \"teamId\"])\n",
    "df4 = df3.sort_values(by=[\"teamTricode\", \"gameDate\"]).reset_index(drop=True)\n",
    "data = df4\n",
    "data = data.rename(columns={\"gameDate\": \"Date\"})"
   ]
  },
  {
   "cell_type": "code",
   "execution_count": null,
   "metadata": {},
   "outputs": [],
   "source": [
    "grp = data.groupby(\"teamTricode\")[\"netRating\"]\n",
    "sorted_grp = grp.describe().sort_values(by=\"std\", ascending=False).reset_index()\n",
    "teams_sorted = sorted_grp[\"teamTricode\"].tolist()\n",
    "sorted_grp = sorted_grp.round(2)\n",
    "sorted_grp.head()\n",
    "sorted_grp = sorted_grp.set_index(\"teamTricode\")\n",
    "sorted_grp = sorted_grp.reset_index()"
   ]
  },
  {
   "cell_type": "code",
   "execution_count": null,
   "metadata": {},
   "outputs": [],
   "source": [
    "teams_cat = pd.Categorical(data[\"teamTricode\"], categories=teams_sorted)\n",
    "df1 = data.assign(teams_cat=teams_cat)\n",
    "df = add_tinfo(df1,on=\"teamTricode\")"
   ]
  },
  {
   "cell_type": "code",
   "execution_count": null,
   "metadata": {},
   "outputs": [],
   "source": [
    "var, y = \"netRating\", \"Net Rating\"\n",
    "title = \"NBA\" + \" \" + y + \" \" + \"Distribution\" + \" \" + get_ss(season)\n",
    "p = (\n",
    "    ggplot(df)  # What data to use\n",
    "    + aes(x=var, group=\"teams_cat\", fill=\"colorsTeam\", image=\"image\")  # What variable to use\n",
    "    + stat_density(\n",
    "        aes(y=after_stat(\"scaled\")),\n",
    "        show_legend=False,\n",
    "        alpha=0.5,\n",
    "    )\n",
    "    + geom_image(aes(x=-18,y=0.85),size=0.07)\n",
    "    + geom_vline(xintercept=0,color=\"black\")\n",
    "    + scale_color_identity(aesthetics=[\"fill\"])\n",
    "    + coord_cartesian(xlim=[-20,20])\n",
    "    + scale_x_continuous(breaks=[-20, -10, 0, 10, 20])\n",
    "    + facet_wrap(facets=\"~ teams_cat\")\n",
    "    + labs(\n",
    "        x=y,\n",
    "        y=\"Frequency\",\n",
    "        title=title,\n",
    "        subtitle=\"x-axis shows the points and y-axis shows fraction of games with that Net Rating | sorted by highest std deviation to least\",\n",
    "    )\n",
    "    + theme_xkcd(base_size=12,stroke_size=0.5)\n",
    "       + theme(\n",
    "        plot_title=element_text(face=\"bold\", size=24),\n",
    "        plot_subtitle=element_text(size=14),\n",
    "        plot_caption=element_text(size=12),\n",
    "        plot_margin=0.025,\n",
    "        axis_title_x=element_text(face=\"bold\", size=16),\n",
    "        axis_title_y=element_text(face=\"bold\", size=16),\n",
    "        axis_text_y=element_blank(),\n",
    "        figure_size=(15,10),\n",
    "        dpi=200,\n",
    "        text=element_text(family=\"Comic Sans MS\"),\n",
    "        strip_align=0,\n",
    "    )\n",
    "    + pnba\n",
    ")\n",
    "# p.save(fig_DIR + \"NBA\" + \"_\" + var + \".png\", verbose=False, dpi=300, width=15, height=10)\n",
    "p.draw()"
   ]
  },
  {
   "cell_type": "code",
   "execution_count": null,
   "metadata": {},
   "outputs": [],
   "source": [
    "var, y = \"netRating\", \"Net Rating\"\n",
    "title = \"NBA\" + \" \" + y + \" \" + \"Distribution\" + \" \" + get_ss(season)\n",
    "p = (\n",
    "    ggplot(df)  # What data to use\n",
    "    + aes(x=var, color=\"colorsTeam\", fill=\"colorsTeam\")  # What variable to use\n",
    "    + stat_bin(\n",
    "        aes(y=after_stat(\"ndensity\")),\n",
    "        show_legend=False,\n",
    "        binwidth=5,\n",
    "        alpha=0.2,\n",
    "        color=\"black\",\n",
    "    )\n",
    "    + stat_density(\n",
    "        aes(y=after_stat(\"scaled\")),\n",
    "        show_legend=False,\n",
    "        alpha=0,\n",
    "        size=3\n",
    "    )\n",
    "    + geom_vline(xintercept=0,color=\"black\")\n",
    "    + scale_color_identity(aesthetics=[\"fill\",\"color\"])\n",
    "    + coord_cartesian(xlim=[-20,20])\n",
    "    + scale_x_continuous(breaks=[-20, -10, 0, 10, 20])\n",
    "    + facet_wrap(facets=\"~ teams_cat\")\n",
    "    + labs(\n",
    "        x=y,\n",
    "        y=\"Frequency\",\n",
    "        title=title,\n",
    "        subtitle=\"x-axis shows the points and y-axis shows fraction of games with that Net Rating | sorted by highest std deviation to least\",\n",
    "    )\n",
    "    + theme_xkcd(base_size=12,stroke_size=0.5)\n",
    "    + theme(\n",
    "        plot_title=element_text(face=\"bold\", size=24),\n",
    "        plot_subtitle=element_text(size=14),\n",
    "        plot_caption=element_text(size=12),\n",
    "        plot_margin=0.025,\n",
    "        axis_title_x=element_text(face=\"bold\", size=16),\n",
    "        axis_title_y=element_text(face=\"bold\", size=16),\n",
    "        axis_text_y=element_blank(),\n",
    "        figure_size=(15,10),\n",
    "        dpi=200,\n",
    "        text=element_text(family=\"Comic Sans MS\"),\n",
    "        strip_align=0,\n",
    "    )\n",
    "    + pnba\n",
    ")\n",
    "p"
   ]
  },
  {
   "cell_type": "code",
   "execution_count": null,
   "metadata": {},
   "outputs": [],
   "source": [
    "\n",
    "# p.save(fig_DIR + \"NBA\" + \"_\" + var + \".png\", verbose=False, dpi=300, width=15, height=10)\n",
    "p.draw()"
   ]
  },
  {
   "cell_type": "code",
   "execution_count": null,
   "metadata": {},
   "outputs": [],
   "source": [
    "var, y = \"netRating\", \"Net Rating\"\n",
    "# var,y = \"Minutes\", \"Minutes Played\"\n",
    "title = \"NBA\" + \" \" + y + \" \" + \"Boxplot\"\n",
    "p = (\n",
    "    ggplot(df)  # What data to use\n",
    "    + aes(x=\"teams_cat\", y=var, fill=\"colorsTeam\")  # What variable to use\n",
    "    # + geom_line()  # Geometric object to use for drawing\n",
    "    + geom_boxplot(alpha=0.5)\n",
    "    + scale_color_identity(aesthetics=[\"fill\"])\n",
    "    + scale_y_continuous(limits=[-20, 20], breaks=[-20, -10, 0, 10, 20])\n",
    "    # + geom_hline(yintercept=0.752, linetype=\"dashed\", color=\"blue\", size=0.5)\n",
    "    # + annotate(\"text\", x=df[\"gameDate\"].iloc[1], y=0.76, label=\"League Avg\")\n",
    "    + labs(x=\"Team\", y=y, title=title, caption=\"@sradjoker | source: nba.com/stats\")\n",
    "    # + themes.theme_xkcd(base_size=14)\n",
    "    + themes.theme_538(base_size=12)\n",
    "    + theme(plot_title=element_text(face=\"bold\", size=18), plot_margin=0.025)\n",
    ")\n",
    "# p.save(fig_DIR + \"NBA\" + \"_\" + var + \"_boxplot.png\", dpi=300, height=5, width=15)\n",
    "p.draw()"
   ]
  },
  {
   "cell_type": "markdown",
   "metadata": {},
   "source": [
    "# Net Rating Variance Multiple Seasons"
   ]
  },
  {
   "cell_type": "code",
   "execution_count": null,
   "metadata": {},
   "outputs": [],
   "source": [
    "team = \"Boston Celtics\"\n",
    "df1 = get_box(\"T\",\"Adv\",False,[2023,2024])\n",
    "df1[\"team_name\"]=df1[\"teamcity\"] + \" \" + df1[\"teamname\"]\n",
    "df2 = get_box(\"T\",\"Adv\",True,[2023,2024])\n",
    "df1 = df1.query(f\"team_name == '{team}'\")\n",
    "df2 = df2.query(f\"team_name == '{team}'\")\n",
    "data = add_tinfo(df1)"
   ]
  },
  {
   "cell_type": "code",
   "execution_count": null,
   "metadata": {},
   "outputs": [],
   "source": [
    "var, y = \"netrating\", \"Net Rating\"\n",
    "title = team + \" \" + y + \" \" + \"Distribution 2024 vs 2025\"\n",
    "p = (\n",
    "    ggplot(data)  # What data to use\n",
    "    + aes(x=var, color=\"colorsTeam\", fill=\"colorsTeam\")  # What variable to use\n",
    "    + stat_bin(\n",
    "        aes(y=after_stat(\"ndensity\")),\n",
    "        show_legend=False,\n",
    "        binwidth=5,\n",
    "        alpha=0.2,\n",
    "        color=\"black\",\n",
    "    )\n",
    "    + stat_density(\n",
    "        aes(y=after_stat(\"scaled\")),\n",
    "        show_legend=False,\n",
    "        alpha=0,\n",
    "        size=3\n",
    "    )\n",
    "    + geom_vline(xintercept=0,color=\"black\",linetype=\"dashed\",size=1.5)\n",
    "    + scale_color_identity(aesthetics=[\"fill\",\"color\"])\n",
    "    + coord_cartesian(xlim=[-20,20])\n",
    "    + scale_x_continuous(breaks=[-20, -10, 0, 10, 20])\n",
    "    + facet_wrap(facets=\"~ season\")\n",
    "    + labs(\n",
    "        x=y,\n",
    "        y=\"Frequency\",\n",
    "        title=title,\n",
    "        subtitle=f\"Net Rtg 2024:{df2[\"net_rating\"].iloc[0]}, 2025:{df2[\"net_rating\"].iloc[1]}\"\n",
    "    )\n",
    "    + theme_xkcd(base_size=10,stroke_size=0.5)\n",
    "    + theme(\n",
    "        plot_title=element_text(face=\"bold\",size=16),\n",
    "        plot_margin=0.025,\n",
    "        axis_title_x=element_text(face=\"bold\"),\n",
    "        axis_title_y=element_text(face=\"bold\"),\n",
    "        axis_text_y=element_blank(),\n",
    "        figure_size=(7,5),\n",
    "        dpi=200,\n",
    "        text=element_text(family=\"Comic Sans MS\"),\n",
    "        strip_align=0,\n",
    "    )\n",
    "    + pnba\n",
    ")\n",
    "p"
   ]
  },
  {
   "cell_type": "code",
   "execution_count": null,
   "metadata": {},
   "outputs": [],
   "source": []
  }
 ],
 "metadata": {
  "kernelspec": {
   "display_name": "dav-ub9Z_EQq-py3.12",
   "language": "python",
   "name": "python3"
  },
  "language_info": {
   "codemirror_mode": {
    "name": "ipython",
    "version": 3
   },
   "file_extension": ".py",
   "mimetype": "text/x-python",
   "name": "python",
   "nbconvert_exporter": "python",
   "pygments_lexer": "ipython3",
   "version": "3.12.0"
  }
 },
 "nbformat": 4,
 "nbformat_minor": 2
}
