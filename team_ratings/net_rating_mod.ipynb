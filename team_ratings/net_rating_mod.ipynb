{
 "cells": [
  {
   "cell_type": "markdown",
   "metadata": {},
   "source": [
    "# Modified Net Ratings"
   ]
  },
  {
   "cell_type": "code",
   "execution_count": null,
   "metadata": {},
   "outputs": [],
   "source": [
    "import os, sys\n",
    "\n",
    "sys.path.append(os.path.dirname(os.path.dirname(os.path.abspath(\"__file__\"))))\n",
    "from nbafuns import *\n",
    "\n",
    "fig_DIR = \"../figs/teams/\"\n",
    "box_DIR = \"../data/box/\"\n",
    "img_DIR_T = \"../data/images/teams/\"\n",
    "\n",
    "team_dict, team_list = get_teams()\n",
    "\n",
    "black1 = '#252525'\n",
    "black2 = '#222222'"
   ]
  },
  {
   "cell_type": "markdown",
   "metadata": {},
   "source": [
    "## Time Decay Net Rating"
   ]
  },
  {
   "cell_type": "code",
   "execution_count": null,
   "metadata": {},
   "outputs": [],
   "source": [
    "df0 = get_box(\"T\",\"Base\",False,[2024])\n",
    "df0 = df0[[\"game_id\",\"game_date\"]]\n",
    "df0.columns = [\"gameid\",\"gamedate\"]\n",
    "df0[\"gameid\"] = df0[\"gameid\"].astype(int)\n",
    "df1 = get_box(\"T\",\"Adv\",False,[2024])\n",
    "df1 = pd.merge(df0,df1,on=\"gameid\")\n",
    "df1 = df1[['gameid', 'gamedate', 'teamid','teamtricode',\n",
    "       'offensiverating', 'defensiverating', 'netrating', \n",
    "       'pace', 'possessions']]\n",
    "df1[\"pts11\"] = df1[\"offensiverating\"] * df1[\"possessions\"]\n",
    "df1[\"pts12\"] = df1[\"defensiverating\"] * df1[\"possessions\"]"
   ]
  },
  {
   "cell_type": "code",
   "execution_count": null,
   "metadata": {},
   "outputs": [],
   "source": [
    "df2 = df1.groupby([\"teamid\",\"teamtricode\"])[[\"possessions\",\"pts11\",\"pts12\"]].sum()\n",
    "df2 = df2.reset_index()\n",
    "df2[\"offensiverating\"] = round(df2[\"pts11\"]/df2[\"possessions\"],1)\n",
    "df2[\"defensiverating\"] = round(df2[\"pts12\"]/df2[\"possessions\"],1)\n",
    "df2[\"netrating\"] = round(df2[\"offensiverating\"] - df2[\"defensiverating\"],1)\n",
    "df2 = df2.drop(columns=[\"possessions\",\"pts11\",\"pts12\"])"
   ]
  },
  {
   "cell_type": "code",
   "execution_count": null,
   "metadata": {},
   "outputs": [],
   "source": [
    "df3 = df1.sort_values(by=[\"teamtricode\",\"gamedate\"]).reset_index(drop=True)\n",
    "df3[\"dated\"] = (df3[\"gamedate\"] - df3[\"gamedate\"].iloc[-1]).dt.days\n",
    "teams = df3[\"teamtricode\"].unique()\n",
    "scale = 1e-2\n",
    "df3[\"tdecay\"] = round(np.exp(scale*df3[\"dated\"]),4)\n",
    "df3[\"pts21\"] = df3[\"pts11\"]*df3[\"tdecay\"]\n",
    "df3[\"pts22\"] = df3[\"pts12\"]*df3[\"tdecay\"]\n",
    "df3[\"possessions2\"] = df3[\"possessions\"]*df3[\"tdecay\"]"
   ]
  },
  {
   "cell_type": "code",
   "execution_count": null,
   "metadata": {},
   "outputs": [],
   "source": [
    "df3[[\"gamedate\",\"teamtricode\",\"dated\",\"tdecay\"]]"
   ]
  },
  {
   "cell_type": "code",
   "execution_count": null,
   "metadata": {},
   "outputs": [],
   "source": [
    "df4 = df3.groupby([\"teamid\",\"teamtricode\"])[[\"possessions2\",\"pts21\",\"pts22\"]].sum()\n",
    "df4 = df4.reset_index()\n",
    "df4[\"offensiverating\"] = round(df4[\"pts21\"]/df4[\"possessions2\"],1)\n",
    "df4[\"defensiverating\"] = round(df4[\"pts22\"]/df4[\"possessions2\"],1)\n",
    "df4[\"netrating\"] = round(df4[\"offensiverating\"] - df4[\"defensiverating\"],1)\n",
    "df4 = df4.drop(columns=[\"possessions2\",\"pts21\",\"pts22\"])"
   ]
  },
  {
   "cell_type": "code",
   "execution_count": null,
   "metadata": {},
   "outputs": [],
   "source": [
    "df5 = pd.merge(df2,df4,on=[\"teamid\",\"teamtricode\"],suffixes=[\"\",\"_t\"])\n",
    "df5[\"netrating_d\"] = df5[\"netrating_t\"] - df5[\"netrating\"]\n",
    "df5[\"team\"] = df5[\"teamid\"].map(team_dict)\n",
    "df5[\"image\"] = img_DIR_T + df5[\"team\"] + \".png\""
   ]
  },
  {
   "cell_type": "code",
   "execution_count": null,
   "metadata": {},
   "outputs": [],
   "source": [
    "p = (\n",
    "    ggplot(df5)\n",
    "    + aes(x=\"netrating\",y=\"netrating_d\",image=\"image\")\n",
    "    + geom_image()\n",
    "    + geom_hline(yintercept=0, linetype=\"dashed\", color=\"red\", size=0.5)\n",
    "    + geom_vline(xintercept=0, linetype=\"dashed\", color=\"red\", size=0.5)\n",
    "    + theme_idv\n",
    "    + theme(\n",
    "        figure_size=(8,8),\n",
    "        plot_title=element_text(weight=\"bold\",size=24),\n",
    "        plot_subtitle=element_text(size=14),\n",
    "    )\n",
    "    + pnba\n",
    "    + labs(\n",
    "        x=\"Net Rating\",\n",
    "        y=\"Hotness\",\n",
    "        title=\"Team Hotness vs Net Rating\",\n",
    "        subtitle=\"2024-25 NBA Season, as of \"+ datetime.today().strftime(\"%Y-%m-%d\")+\"\\n\"+\"Hotness is the difference between Time-decay Net Rating and overall Net Rating\"\n",
    "    )\n",
    "    \n",
    ")\n",
    "p"
   ]
  },
  {
   "cell_type": "markdown",
   "metadata": {},
   "source": [
    "## Saturated Net Rating"
   ]
  },
  {
   "cell_type": "code",
   "execution_count": null,
   "metadata": {},
   "outputs": [],
   "source": [
    "df1 = get_box(\"T\",\"Adv\",False,[2024])\n",
    "df1 = df1[['gameid', 'teamid','teamtricode',\n",
    "       'offensiverating', 'defensiverating', 'netrating', \n",
    "       'pace', 'possessions']]"
   ]
  },
  {
   "cell_type": "code",
   "execution_count": null,
   "metadata": {},
   "outputs": [],
   "source": [
    "df1[\"netrating_s\"] = df1[\"netrating\"]\n",
    "df1.loc[df1[\"netrating\"]>20,\"netrating_s\"] = 20\n",
    "df1.loc[df1[\"netrating\"]<-20,\"netrating_s\"] = -20"
   ]
  },
  {
   "cell_type": "code",
   "execution_count": null,
   "metadata": {},
   "outputs": [],
   "source": [
    "df1[\"net1p\"] = df1[\"netrating\"]*df1[\"possessions\"]\n",
    "df1[\"net2p\"] = df1[\"netrating_s\"]*df1[\"possessions\"]"
   ]
  },
  {
   "cell_type": "code",
   "execution_count": null,
   "metadata": {},
   "outputs": [],
   "source": [
    "df2 = df1.groupby([\"teamid\",\"teamtricode\"])[[\"possessions\",\"net1p\",\"net2p\"]].sum()\n",
    "df2 = df2.reset_index()\n",
    "df2[\"netrating\"] = round(df2[\"net1p\"]/df2[\"possessions\"],1)\n",
    "df2[\"netrating_s\"] = round(df2[\"net2p\"]/df2[\"possessions\"],1)\n",
    "df2[\"netrating_d\"] = df2[\"netrating_s\"] - df2[\"netrating\"]\n",
    "df2[\"team\"] = df2[\"teamid\"].map(team_dict)\n",
    "df2[\"image\"] = img_DIR_T + df2[\"team\"] + \".png\""
   ]
  },
  {
   "cell_type": "code",
   "execution_count": null,
   "metadata": {},
   "outputs": [],
   "source": [
    "today = datetime.today().strftime(\"%Y-%m-%d\")\n",
    "subtitle = (\"2024-25 NBA Season, as of \" +  r\"$\\bf{\" + today + \"}$\" + \"\\n\"+\n",
    "r\"$\\bf{\" +\"Blowout\\,Factor\"+\"}$ is the difference between Saturated Net Rating and overall Net Rating\"+ \"\\n\"+\n",
    "r\"$\\bf{\" + \"Saturated\\,Net\\,Rating:\" + \"}$ Limiting maximum and minimum net rating at 20 and -20\")\n",
    "\n",
    "p = (\n",
    "    ggplot(df2)\n",
    "    + aes(x=\"netrating_s\",y=\"netrating_d\",image=\"image\")\n",
    "    + geom_image()\n",
    "    + geom_hline(yintercept=0, linetype=\"dashed\", color=\"red\", size=0.5)\n",
    "    + geom_vline(xintercept=0, linetype=\"dashed\", color=\"red\", size=0.5)\n",
    "    + theme_idv\n",
    "    + theme(\n",
    "        figure_size=(8,8),\n",
    "        plot_title=element_text(weight=\"bold\",size=22),\n",
    "        plot_subtitle=element_text(size=12),\n",
    "    )\n",
    "    + pnba\n",
    "    + labs(\n",
    "        x=\"Saturated Net Rating\",\n",
    "        y=\"Blowout Factor\",\n",
    "        title=\"Team Blowout Factor vs Saturated Net Rating\",\n",
    "        subtitle=subtitle\n",
    "    )\n",
    ")\n",
    "p"
   ]
  },
  {
   "cell_type": "markdown",
   "metadata": {},
   "source": [
    "## Saturated Net Rating v2"
   ]
  },
  {
   "cell_type": "code",
   "execution_count": null,
   "metadata": {},
   "outputs": [],
   "source": [
    "df1 = get_box(\"T\",\"Adv\",False,[2024])\n",
    "df1 = df1[['gameid', 'teamid','teamtricode',\n",
    "       'offensiverating', 'defensiverating', 'netrating', \n",
    "       'pace', 'possessions']]"
   ]
  },
  {
   "cell_type": "code",
   "execution_count": null,
   "metadata": {},
   "outputs": [],
   "source": [
    "pow = 0.8\n",
    "df1[\"netrating_s\"] = np.sign(df1[\"netrating\"])*abs(df1[\"netrating\"])**pow\n",
    "# df1.loc[df1[\"netrating\"]>20,\"netrating_s\"] = 20\n",
    "# df1.loc[df1[\"netrating\"]<-20,\"netrating_s\"] = -20"
   ]
  },
  {
   "cell_type": "code",
   "execution_count": null,
   "metadata": {},
   "outputs": [],
   "source": [
    "df1[[\"netrating\",\"netrating_s\"]].query(\"netrating>20\")"
   ]
  },
  {
   "cell_type": "code",
   "execution_count": null,
   "metadata": {},
   "outputs": [],
   "source": [
    "df1[\"net1p\"] = df1[\"netrating\"]*df1[\"possessions\"]\n",
    "df1[\"net2p\"] = df1[\"netrating_s\"]*df1[\"possessions\"]"
   ]
  },
  {
   "cell_type": "code",
   "execution_count": null,
   "metadata": {},
   "outputs": [],
   "source": [
    "df2 = df1.groupby([\"teamid\",\"teamtricode\"])[[\"possessions\",\"net1p\",\"net2p\"]].sum()\n",
    "df2 = df2.reset_index()\n",
    "df2[\"netrating\"] = round(df2[\"net1p\"]/df2[\"possessions\"],1)\n",
    "df2[\"netrating_s\"] = round(df2[\"net2p\"]/df2[\"possessions\"],1)\n",
    "df2[\"netrating_d\"] = df2[\"netrating_s\"] - df2[\"netrating\"]\n",
    "df2[\"team\"] = df2[\"teamid\"].map(team_dict)\n",
    "df2[\"image\"] = img_DIR_T + df2[\"team\"] + \".png\""
   ]
  },
  {
   "cell_type": "code",
   "execution_count": null,
   "metadata": {},
   "outputs": [],
   "source": [
    "today = datetime.today().strftime(\"%Y-%m-%d\")\n",
    "subtitle = (\"2024-25 NBA Season, as of \" +  r\"$\\bf{\" + today + \"}$\" + \"\\n\"+\n",
    "r\"$\\bf{\" +\"Blowout\\,Factor\"+\"}$ is the difference between Saturated Net Rating and overall Net Rating\"+ \"\\n\"+\n",
    "r\"$\\bf{\" + \"Saturated\\,Net\\,Rating:\" + \"}$ Limiting maximum and minimum net rating at 20 and -20\")\n",
    "\n",
    "p = (\n",
    "    ggplot(df2)\n",
    "    + aes(x=\"netrating_s\",y=\"netrating_d\",image=\"image\")\n",
    "    + geom_image()\n",
    "    + geom_hline(yintercept=0, linetype=\"dashed\", color=\"red\", size=0.5)\n",
    "    + geom_vline(xintercept=0, linetype=\"dashed\", color=\"red\", size=0.5)\n",
    "    + theme_idv\n",
    "    + theme(\n",
    "        figure_size=(8,8),\n",
    "        plot_title=element_text(weight=\"bold\",size=22),\n",
    "        plot_subtitle=element_text(size=12),\n",
    "    )\n",
    "    + pnba\n",
    "    + labs(\n",
    "        x=\"Saturated Net Rating\",\n",
    "        y=\"Blowout Factor\",\n",
    "        title=\"Team Blowout Factor vs Saturated Net Rating\",\n",
    "        subtitle=subtitle\n",
    "    )\n",
    ")\n",
    "p"
   ]
  },
  {
   "cell_type": "markdown",
   "metadata": {},
   "source": [
    "# Ratings Movement"
   ]
  },
  {
   "cell_type": "markdown",
   "metadata": {},
   "source": [
    "## Ratings Removing the Best and Worst Games"
   ]
  },
  {
   "cell_type": "code",
   "execution_count": null,
   "metadata": {},
   "outputs": [],
   "source": [
    "year = 2024\n",
    "df1 = pd.read_parquet(box_DIR + f\"NBA_Box_T_Adv_{year}.parquet\")\n",
    "df1 = df1.rename(columns={\"teamTricode\":\"Team\"})"
   ]
  },
  {
   "cell_type": "code",
   "execution_count": null,
   "metadata": {},
   "outputs": [],
   "source": [
    "n = 5\n",
    "df2 = df1.groupby(\"Team\")\n",
    "keys = list(df2.groups)\n",
    "rat1,orat1,drat1 = [],[],[]\n",
    "rat2,orat2,drat2 = [],[],[]\n",
    "for key in keys:\n",
    "    df3 = df2.get_group(key).sort_values(\"netRating\",ascending=False).iloc[n:-n].reset_index(drop=True)\n",
    "    df4 = df2.get_group(key).sort_values(\"netRating\",ascending=False).reset_index(drop=True)\n",
    "    rat1.append(round((df3[\"netRating\"]*df3[\"possessions\"]).sum()/df3[\"possessions\"].sum(),2))\n",
    "    rat2.append(round((df4[\"netRating\"]*df4[\"possessions\"]).sum()/df4[\"possessions\"].sum(),2))\n",
    "    orat1.append(round((df3[\"offensiveRating\"]*df3[\"possessions\"]).sum()/df3[\"possessions\"].sum(),2))\n",
    "    orat2.append(round((df4[\"offensiveRating\"]*df4[\"possessions\"]).sum()/df4[\"possessions\"].sum(),2))\n",
    "    drat1.append(round((df3[\"defensiveRating\"]*df3[\"possessions\"]).sum()/df3[\"possessions\"].sum(),2))\n",
    "    drat2.append(round((df4[\"defensiveRating\"]*df4[\"possessions\"]).sum()/df4[\"possessions\"].sum(),2))"
   ]
  },
  {
   "cell_type": "code",
   "execution_count": null,
   "metadata": {},
   "outputs": [],
   "source": [
    "df5 = pd.DataFrame({\"teamTricode\":keys,\"Net_Rating\":rat1,\"mNet_rating\":rat2,\"Off_Rating\":orat1,\"mOff_Rating\":orat2,\"Def_Rating\":drat1,\"mDef_Rating\":drat2})\n",
    "df5[\"Off_R\"] = df5[\"Off_Rating\"].rank(ascending=False  ,method=\"first\").astype(int)\n",
    "df5[\"Def_R\"] = df5[\"Def_Rating\"].rank(ascending=True   ,method=\"first\").astype(int)\n",
    "df5[\"Net_R\"] = df5[\"Net_Rating\"].rank(ascending=False  ,method=\"first\").astype(int)\n",
    "df5[\"mOff_R\"] = df5[\"mOff_Rating\"].rank(ascending=False  ,method=\"first\").astype(int)\n",
    "df5[\"mDef_R\"] = df5[\"mDef_Rating\"].rank(ascending=True   ,method=\"first\").astype(int)\n",
    "df5[\"mNet_R\"] = df5[\"mNet_rating\"].rank(ascending=False,method=\"first\").astype(int)"
   ]
  },
  {
   "cell_type": "code",
   "execution_count": null,
   "metadata": {},
   "outputs": [],
   "source": [
    "df6 = add_tinfo(df5,on=\"teamTricode\")"
   ]
  },
  {
   "cell_type": "code",
   "execution_count": null,
   "metadata": {},
   "outputs": [],
   "source": [
    "p = (ggplot(df6)\n",
    " # Slight modifications for the original lines,\n",
    " # 1. Nudge the text to either sides of the points\n",
    " # 2. Alter the color and alpha values\n",
    " + geom_text(aes(1, 'Net_R', label='nameTeam' ), nudge_x=-0.05, ha='right', size=10, color=black1)\n",
    " + geom_text(aes(2, 'mNet_R', label='nameTeam'), nudge_x=0.05, ha='left', size=10, color=black1)\n",
    " + geom_point(aes(1, 'Net_R', color='colorsTeam'), size=2.5, alpha=.7)\n",
    " + geom_point(aes(2, 'mNet_R', color='colorsTeam'), size=2.5, alpha=.7)\n",
    " + geom_segment(aes(x=1, y='Net_R', xend=2, yend='mNet_R', color='colorsTeam'), alpha=.7, size=2)\n",
    " + geom_image(aes(x=0.4, y='Net_R',image=\"image\"),size=0.05)\n",
    " + geom_image(aes(x=2.6, y='mNet_R',image=\"image\"),size=0.05)\n",
    "\n",
    " # Text Annotations\n",
    " #+ annotate('text', x=1, y=0, label='Rank in 1960', fontweight='bold', ha='right', size=10, color=black2)\n",
    " #+ annotate('text', x=2, y=0, label='Rank in 2015', fontweight='bold', ha='left', size=10, color=black2)\n",
    "#  + annotate('text', x=1.5, y=0, label='Lines show change in rank', size=11, color=black1)\n",
    " + annotate('text', x=0.8, y=0, label='Net Rating Rank', size=11, color=black1)\n",
    " + annotate('text', x=2.2, y=0, label='Modified Net Rating Rank', size=11, color=black1)\n",
    " #+ annotate('label', x=1.5, y=3, label='Lower infant\\ndeath rates', size=9, color=black1,\n",
    " #           label_size=0, fontstyle='italic')\n",
    " #+ annotate('label', x=1.5, y=33, label='Higher infant\\ndeath rates', size=9, color=black1,\n",
    " #           label_size=0, fontstyle='italic')\n",
    "\n",
    " # Prevent country names from being chopped Net\n",
    " + lims(x=(0.35, 2.65))\n",
    "#  + labs(color='Income Group')\n",
    " # Countries with lower rates on top\n",
    " + scale_y_reverse(breaks=np.arange(1,31,1))\n",
    " # Change colors\n",
    " + scale_color_identity(aesthetics=[\"color\"],guide=None)\n",
    " # Removes all decorations\n",
    " + theme_idv\n",
    " # Changing the figure size prevents the country names from squishing up\n",
    " + theme(figure_size=(8, 11))\n",
    " + theme(\n",
    "     axis_title_x = element_blank(),\n",
    "     axis_text_x = element_blank(),\n",
    "     plot_title=element_text(face=\"bold\", size=20),\n",
    "     panel_border=element_blank(),\n",
    "     axis_ticks=element_blank(),\n",
    " )\n",
    " + labs(\n",
    "        title=f\"Net Rating vs Modified Net Rating\",\n",
    "        subtitle = f\"{n} Best and {n} Worst games removed for Modified Net Rating\",\n",
    "        caption=\"@sradjoker | source:nba.com/stats\",\n",
    "        y=f\"Net Rating\",\n",
    " )\n",
    ")\n",
    "# p.save(\"../figs/team_leaders/m_Net_mvmt.png\", dpi=300, verbose = False)\n",
    "p"
   ]
  },
  {
   "cell_type": "markdown",
   "metadata": {},
   "source": [
    "## Net Rating, Cap Max at +25, Min at -25"
   ]
  },
  {
   "cell_type": "code",
   "execution_count": null,
   "metadata": {},
   "outputs": [],
   "source": [
    "year = 2024\n",
    "df1 = pd.read_parquet(box_DIR + f\"NBA_Box_T_Adv_{year}.parquet\")\n",
    "# df1 = df1.rename(columns={\"teamTricode\":\"Team\"})"
   ]
  },
  {
   "cell_type": "code",
   "execution_count": null,
   "metadata": {},
   "outputs": [],
   "source": [
    "df2 = df1.groupby(\"teamTricode\")\n",
    "keys = list(df2.groups)\n",
    "rat1,orat1,drat1 = [],[],[]\n",
    "rat2,orat2,drat2 = [],[],[]\n",
    "for key in keys:\n",
    "    df3 = df2.get_group(key)\n",
    "    df3.loc[df3[\"netRating\"] > 25,\"netRating\"] = 25\n",
    "    df3.loc[df3[\"netRating\"] < -25,\"netRating\"] = -25\n",
    "    df4 = df2.get_group(key).sort_values(\"netRating\",ascending=False).reset_index(drop=True)\n",
    "    rat1.append(round((df3[\"netRating\"]*df3[\"possessions\"]).sum()/df3[\"possessions\"].sum(),2))\n",
    "    rat2.append(round((df4[\"netRating\"]*df4[\"possessions\"]).sum()/df4[\"possessions\"].sum(),2))"
   ]
  },
  {
   "cell_type": "code",
   "execution_count": null,
   "metadata": {},
   "outputs": [],
   "source": [
    "df5 = pd.DataFrame({\"teamTricode\":keys,\"Net_Rating\":rat1,\"mNet_rating\":rat2,})\n",
    "df5[\"Net_R\"] = df5[\"Net_Rating\"].rank(ascending=False  ,method=\"first\").astype(int)\n",
    "df5[\"mNet_R\"] = df5[\"mNet_rating\"].rank(ascending=False,method=\"first\").astype(int)"
   ]
  },
  {
   "cell_type": "code",
   "execution_count": null,
   "metadata": {},
   "outputs": [],
   "source": [
    "df6 = add_tinfo(df5,on=\"teamTricode\")"
   ]
  },
  {
   "cell_type": "code",
   "execution_count": null,
   "metadata": {},
   "outputs": [],
   "source": [
    "p = (ggplot(df6)\n",
    " # Slight modifications for the original lines,\n",
    " # 1. Nudge the text to either sides of the points\n",
    " # 2. Alter the color and alpha values\n",
    " + geom_text(aes(1, 'Net_R', label='nameTeam' ), nudge_x=-0.05, ha='right', size=10, color=black1)\n",
    " + geom_text(aes(2, 'mNet_R', label='nameTeam'), nudge_x=0.05, ha='left', size=10, color=black1)\n",
    " + geom_point(aes(1, 'Net_R', color='colorsTeam'), size=2.5, alpha=.7)\n",
    " + geom_point(aes(2, 'mNet_R', color='colorsTeam'), size=2.5, alpha=.7)\n",
    " + geom_segment(aes(x=1, y='Net_R', xend=2, yend='mNet_R', color='colorsTeam'), alpha=.7, size=2)\n",
    " + geom_image(aes(x=0.4, y='Net_R',image=\"image\"),size=0.05)\n",
    " + geom_image(aes(x=2.6, y='mNet_R',image=\"image\"),size=0.05)\n",
    "\n",
    " # Text Annotations\n",
    " #+ annotate('text', x=1, y=0, label='Rank in 1960', fontweight='bold', ha='right', size=10, color=black2)\n",
    " #+ annotate('text', x=2, y=0, label='Rank in 2015', fontweight='bold', ha='left', size=10, color=black2)\n",
    "#  + annotate('text', x=1.5, y=0, label='Lines show change in rank', size=11, color=black1)\n",
    " + annotate('text', x=0.8, y=0, label='Net Rating Rank', size=11, color=black1)\n",
    " + annotate('text', x=2.2, y=0, label='Modified Net Rating Rank', size=11, color=black1)\n",
    " #+ annotate('label', x=1.5, y=3, label='Lower infant\\ndeath rates', size=9, color=black1,\n",
    " #           label_size=0, fontstyle='italic')\n",
    " #+ annotate('label', x=1.5, y=33, label='Higher infant\\ndeath rates', size=9, color=black1,\n",
    " #           label_size=0, fontstyle='italic')\n",
    "\n",
    " # Prevent country names from being chopped Net\n",
    " + lims(x=(0.35, 2.65))\n",
    "#  + labs(color='Income Group')\n",
    " # Countries with lower rates on top\n",
    " + scale_y_reverse(breaks=np.arange(1,31,1))\n",
    " # Change colors\n",
    " + scale_color_identity(aesthetics=[\"color\"],guide=None)\n",
    " # Removes all decorations\n",
    " + theme_idv\n",
    " # Changing the figure size prevents the country names from squishing up\n",
    " + theme(figure_size=(8, 11))\n",
    " + theme(\n",
    "     axis_title_x = element_blank(),\n",
    "     axis_text_x = element_blank(),\n",
    "     plot_title=element_text(face=\"bold\", size=24),\n",
    "     plot_subtitle=element_text(size=18),\n",
    "     panel_border=element_blank(),\n",
    "     axis_ticks=element_blank(),\n",
    " )\n",
    " + labs(\n",
    "        title=f\"Net Rating vs Modified Net Rating\",\n",
    "        subtitle = f\"Max and Min Net Rating capped at +25 and -25\",\n",
    "        caption=\"@sradjoker | source:nba.com/stats\",\n",
    "        y=f\"Net Rating\",\n",
    " )\n",
    ")\n",
    "# p.save(\"../figs/team_leaders/m_Net_mvmt.png\", dpi=300, verbose = False)\n",
    "p"
   ]
  }
 ],
 "metadata": {
  "kernelspec": {
   "display_name": "dav-ub9Z_EQq-py3.12",
   "language": "python",
   "name": "python3"
  },
  "language_info": {
   "codemirror_mode": {
    "name": "ipython",
    "version": 3
   },
   "file_extension": ".py",
   "mimetype": "text/x-python",
   "name": "python",
   "nbconvert_exporter": "python",
   "pygments_lexer": "ipython3",
   "version": "3.12.0"
  }
 },
 "nbformat": 4,
 "nbformat_minor": 2
}
