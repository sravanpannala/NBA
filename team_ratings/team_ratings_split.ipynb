{
 "cells": [
  {
   "cell_type": "code",
   "execution_count": null,
   "metadata": {},
   "outputs": [],
   "source": [
    "import os, sys\n",
    "\n",
    "sys.path.append(os.path.dirname(os.path.dirname(os.path.abspath(\"__file__\"))))\n",
    "from nbafuns import *\n",
    "from nba_api.stats.endpoints import leaguedashteamstats\n",
    "\n",
    "\n",
    "fig_DIR = \"../figs/team_ratings/\"\n",
    "box_DIR = \"../data/box/\""
   ]
  },
  {
   "cell_type": "code",
   "execution_count": null,
   "metadata": {},
   "outputs": [],
   "source": [
    "year = 2023\n",
    "stats = leaguegamelog.LeagueGameLog(\n",
    "    player_or_team_abbreviation=\"T\",\n",
    "    season=year,\n",
    "    season_type_all_star=\"Regular Season\",\n",
    ")\n",
    "df2 = stats.get_data_frames()[0]\n",
    "df2.insert(0,\"GAME_ID\",df2.pop(\"GAME_ID\"))"
   ]
  },
  {
   "cell_type": "code",
   "execution_count": null,
   "metadata": {},
   "outputs": [],
   "source": [
    "stats = leaguedashteamstats.LeagueDashTeamStats(measure_type_detailed_defense=\"Advanced\")\n",
    "df1 = stats.get_data_frames()[0]\n",
    "df1 = df1.sort_values(\"W_PCT\").reset_index(drop=True)"
   ]
  },
  {
   "cell_type": "code",
   "execution_count": null,
   "metadata": {},
   "outputs": [],
   "source": [
    "teams_1 = df1[\"TEAM_ID\"].iloc[:6].to_list()\n",
    "teams_2 = df1[\"TEAM_ID\"].iloc[6:24].to_list()\n",
    "teams_3 = df1[\"TEAM_ID\"].iloc[24:].to_list()"
   ]
  },
  {
   "cell_type": "code",
   "execution_count": null,
   "metadata": {},
   "outputs": [],
   "source": [
    "df1.iloc[6:24]"
   ]
  },
  {
   "cell_type": "code",
   "execution_count": null,
   "metadata": {},
   "outputs": [],
   "source": [
    "df_teams = pd.read_csv(\"../data/NBA_teams_colors_logos.csv\")\n",
    "df_teams = df_teams.rename(columns={\"nameTeam\":\"TEAM_NAME\"})"
   ]
  },
  {
   "cell_type": "code",
   "execution_count": null,
   "metadata": {},
   "outputs": [],
   "source": [
    "df3 = pd.merge(df1,df_teams,on=\"TEAM_NAME\")\n",
    "df3.index +=1"
   ]
  },
  {
   "cell_type": "code",
   "execution_count": null,
   "metadata": {},
   "outputs": [],
   "source": [
    "df4 = df2.groupby(\"GAME_ID\")\n",
    "df4_1 = df4.nth(0)\n",
    "df4_2 = df4.nth(1)\n",
    "df4_1.columns = [\"GAME_ID\"] + [s + \"1\" for s in df4_1.columns if s != \"GAME_ID\"]\n",
    "df4_2.columns = [\"GAME_ID\"] + [s + \"2\" for s in df4_2.columns if s != \"GAME_ID\"]\n",
    "df4_3 = pd.merge(df4_1, df4_2, on=\"GAME_ID\")\n",
    "df4_4 = df4.nth(1)\n",
    "df4_5 = df4.nth(0)\n",
    "df4_4.columns = [\"GAME_ID\"] + [s + \"1\" for s in df4_4.columns if s != \"GAME_ID\"]\n",
    "df4_5.columns = [\"GAME_ID\"] + [s + \"2\" for s in df4_5.columns if s != \"GAME_ID\"]\n",
    "df4_6 = pd.merge(df4_4, df4_5, on=\"GAME_ID\")\n",
    "df5 = pd.concat([df4_3,df4_6])"
   ]
  },
  {
   "cell_type": "code",
   "execution_count": null,
   "metadata": {},
   "outputs": [],
   "source": [
    "df5[\"W\"] = df5[\"WL1\"] == \"W\"\n",
    "df5[\"L\"] = df5[\"WL1\"] != \"W\"\n",
    "df6_1 = df5[df5[\"TEAM_ID2\"].isin(teams_1)]\n",
    "df6_2 = df5[df5[\"TEAM_ID2\"].isin(teams_2)]\n",
    "df6_3 = df5[df5[\"TEAM_ID2\"].isin(teams_3)]"
   ]
  },
  {
   "cell_type": "code",
   "execution_count": null,
   "metadata": {},
   "outputs": [],
   "source": [
    "df7_1 = df6_1.groupby(\"TEAM_NAME1\")[[\"W\",\"L\"]].agg({\"W\":[\"sum\"],\"L\":[\"sum\"]}).reset_index()\n",
    "df7_1.columns = [\"TEAM_NAME\",\"W\",\"L\"]\n",
    "df7_1[\"W_PCT\"] = df7_1[\"W\"]/(df7_1[\"W\"]+df7_1[\"L\"])\n",
    "df7_1[\"W_PCT\"] = df7_1[\"W_PCT\"].round(3)\n",
    "df7_1 = df7_1.sort_values([\"W_PCT\",\"W\"],ascending=False).reset_index(drop=True)\n",
    "# df7_1 = pd.merge(df7_1,df_teams[[\"TEAM_NAME\",\"urlThumbnailTeam\"]],on=[\"TEAM_NAME\"])\n",
    "df7_1 = df7_1.reset_index()\n",
    "df7_1[\"index\"] +=1\n",
    "df7_2 = df6_2.groupby(\"TEAM_NAME1\")[[\"W\",\"L\"]].agg({\"W\":[\"sum\"],\"L\":[\"sum\"]}).reset_index()\n",
    "df7_2.columns = [\"TEAM_NAME\",\"W\",\"L\"]\n",
    "df7_2[\"W_PCT\"] = df7_2[\"W\"]/(df7_2[\"W\"]+df7_2[\"L\"])\n",
    "df7_2[\"W_PCT\"] = df7_2[\"W_PCT\"].round(3)\n",
    "df7_2 = df7_2.sort_values([\"W_PCT\",\"W\"],ascending=False).reset_index(drop=True)\n",
    "# df7_2 = pd.merge(df7_2,df_teams[[\"TEAM_NAME\",\"urlThumbnailTeam\"]],on=[\"TEAM_NAME\"])\n",
    "df7_2 = df7_2.reset_index()\n",
    "df7_2[\"index\"] +=1\n",
    "df7_3 = df6_3.groupby(\"TEAM_NAME1\")[[\"W\",\"L\"]].agg({\"W\":[\"sum\"],\"L\":[\"sum\"]}).reset_index()\n",
    "df7_3.columns = [\"TEAM_NAME\",\"W\",\"L\"]\n",
    "df7_3[\"W_PCT\"] = df7_3[\"W\"]/(df7_3[\"W\"]+df7_3[\"L\"])\n",
    "df7_3[\"W_PCT\"] = df7_3[\"W_PCT\"].round(3)\n",
    "df7_3 = df7_3.sort_values([\"W_PCT\",\"W\"],ascending=False).reset_index(drop=True)\n",
    "df7_3 = pd.merge(df7_3,df_teams[[\"TEAM_NAME\",\"urlThumbnailTeam\"]],on=[\"TEAM_NAME\"])\n",
    "df7_3 = df7_3.reset_index()\n",
    "df7_3[\"index\"] +=1"
   ]
  },
  {
   "cell_type": "code",
   "execution_count": null,
   "metadata": {},
   "outputs": [],
   "source": [
    "%reload_ext rpy2.ipython"
   ]
  },
  {
   "cell_type": "code",
   "execution_count": null,
   "metadata": {},
   "outputs": [],
   "source": [
    "%%R -i df7_3\n",
    "df <- df7_3\n",
    "library(tidyverse)\n",
    "library(gt)\n",
    "# library(gtExtras)\n",
    "df %>% \n",
    "  gt()%>%\n",
    "  text_transform(\n",
    "      locations = cells_body(\n",
    "        c(urlThumbnailTeam)\n",
    "      ),\n",
    "      fn = function(x) {\n",
    "        web_image(\n",
    "          url = x,\n",
    "          height = 25\n",
    "        )\n",
    "      }\n",
    "  ) %>%\n",
    "  tab_header(\n",
    "    title = md(\"**Team Records against Top 6 Teams**\"),\n",
    "    subtitle = md(\"Top 6 Teams wrt Win %\"),\n",
    "    ) %>%\n",
    "    cols_label(\n",
    "      index = \"#\", TEAM_NAME = \"Team\", W_PCT = \"Win %\", urlThumbnailTeam=\"\"\n",
    "    ) %>%\n",
    "    # fmt_image(\n",
    "    #   columns=urlThumbnailTeam\n",
    "    # ) %>%\n",
    "    \n",
    "    # gt_img_rows(\n",
    "    #   columns = urlThumbnailTeam, img_source = \"web\"\n",
    "    # ) %>%\n",
    "    cols_move(\n",
    "      columns=urlThumbnailTeam,\n",
    "      after=index\n",
    "    ) %>%\n",
    "    fmt_percent(\n",
    "      columns=W_PCT,\n",
    "      decimals=1\n",
    "    ) %>%\n",
    "    tab_options(\n",
    "        table.background.color = \"floralwhite\",\n",
    "        column_labels.font.size = 12,\n",
    "        column_labels.font.weight = 'bold',\n",
    "        row_group.font.weight = 'bold',\n",
    "        row_group.background.color = \"#E5E1D8\",\n",
    "        table.font.size = 10,\n",
    "        heading.title.font.size = 16,\n",
    "        heading.subtitle.font.size = 12.5,\n",
    "        table.font.names = \"Consolas\", \n",
    "        # data_row.padding = px(2),\n",
    "        table.margin.left = 1,\n",
    "        table.margin.right = 1,\n",
    "    ) %>% \n",
    "    tab_source_note(\n",
    "    source_note = \"@SravanNBA | Source: nba.com/stats\" ) %>% gtsave(\"../figs/team_ratings/record_3.png\",size=5) "
   ]
  },
  {
   "cell_type": "code",
   "execution_count": null,
   "metadata": {},
   "outputs": [],
   "source": []
  }
 ],
 "metadata": {
  "kernelspec": {
   "display_name": "nba-ub9Z_EQq-py3.11",
   "language": "python",
   "name": "python3"
  },
  "language_info": {
   "codemirror_mode": {
    "name": "ipython",
    "version": 3
   },
   "file_extension": ".py",
   "mimetype": "text/x-python",
   "name": "python",
   "nbconvert_exporter": "python",
   "pygments_lexer": "ipython3",
   "version": "3.11.6"
  }
 },
 "nbformat": 4,
 "nbformat_minor": 2
}
