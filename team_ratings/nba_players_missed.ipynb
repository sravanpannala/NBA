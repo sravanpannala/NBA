{
 "cells": [
  {
   "cell_type": "markdown",
   "metadata": {},
   "source": [
    "# Players Missed per Game due to Injury"
   ]
  },
  {
   "cell_type": "code",
   "execution_count": null,
   "metadata": {},
   "outputs": [],
   "source": [
    "import os, sys\n",
    "\n",
    "sys.path.append(os.path.dirname(os.path.dirname(os.path.abspath(\"__file__\"))))\n",
    "from nbafuns import *\n",
    "from nba_api.stats.endpoints import commonallplayers, playerindex\n",
    "\n",
    "player_dict = get_players_pbp()\n",
    "teams_dict, teams_list = get_teams()\n",
    "\n",
    "data_DIR = \"../data/player_boxscores/\"\n",
    "data_DIR1 = \"../data/injuries/\"\n",
    "box_DIR = \"../data/box/\"\n",
    "fig_DIR = \"../figs/team_leaders/\""
   ]
  },
  {
   "cell_type": "code",
   "execution_count": null,
   "metadata": {},
   "outputs": [],
   "source": [
    "def is_injured(dfinj, pId_missed, game_date):\n",
    "    missed_games = np.array([False] * len(pId_missed))\n",
    "    for i,pId in enumerate(pId_missed):\n",
    "        df_p = dfinj.query(f'playerID == {pId}').reset_index(drop=True)\n",
    "        if len(df_p) > 0:\n",
    "            df_p[\"Comp\"] = df_p[\"Date\"] <= game_date\n",
    "            idxi = df_p[df_p[\"Comp\"]].index\n",
    "            if len(idxi) > 0:\n",
    "                idx = idxi[-1]\n",
    "                missed_game = df_p[\"Out\"].loc[idx]\n",
    "                missed_games[i] = missed_game\n",
    "    gp = missed_games*pId_missed\n",
    "    pId_m = gp[gp !=0 ]\n",
    "    # pId_m = list(pId_m)\n",
    "    return pId_m"
   ]
  },
  {
   "cell_type": "code",
   "execution_count": null,
   "metadata": {},
   "outputs": [],
   "source": [
    "year = 2023"
   ]
  },
  {
   "cell_type": "code",
   "execution_count": null,
   "metadata": {},
   "outputs": [],
   "source": [
    "dfinj = pd.read_parquet(data_DIR1 + f'NBA_prosptran_injuries_{year}.parquet')\n",
    "start_date = dt.datetime(year=2023, month=7,day=1)\n",
    "end_date = dt.datetime(year=2024, month=6,day=30)\n",
    "today = datetime.today()\n",
    "if (end_date - today).total_seconds() > 0:\n",
    "    end_date = today\n",
    "end_date = datetime(end_date.year, end_date.month, end_date.day)"
   ]
  },
  {
   "cell_type": "code",
   "execution_count": null,
   "metadata": {},
   "outputs": [],
   "source": [
    "dfinjg = dfinj.groupby(\"playerID\")\n",
    "keys = list(dfinjg.groups)\n",
    "dfia = []\n",
    "for key in keys:\n",
    "    dfi = dfinjg.get_group(key)\n",
    "    dfi = pd.concat([dfi.head(1),dfi])\n",
    "    if dfi[\"Date\"].iloc[0] != start_date:\n",
    "        dfi[\"Date\"].iloc[0] = start_date\n",
    "        dfi[\"In\"].iloc[0] = False\n",
    "        dfi[\"Out\"].iloc[0] = False\n",
    "        dfi[\"Notes\"].iloc[0] = \"Start of Season\"\n",
    "    dfi[\"Date1\"] = dfi[\"Date\"].shift(periods=-1)\n",
    "    dfi[\"Date1\"].iloc[-1] = end_date\n",
    "    dfi['Dater'] = dfi.apply(lambda row: pd.date_range(row[\"Date\"], row['Date1'], freq='D'), axis=1)\n",
    "    dfj = dfi.explode('Dater').reset_index(drop=True) \\\n",
    "            .drop(columns=['Date', 'Date1']) \\\n",
    "            .rename(columns={'Dater': 'Date'}) \n",
    "    dfj.insert(0,\"Date\",dfj.pop(\"Date\"))\n",
    "    dfia.append(dfj)\n",
    "dfk = pd.concat(dfia)"
   ]
  },
  {
   "cell_type": "code",
   "execution_count": null,
   "metadata": {},
   "outputs": [],
   "source": [
    "dfk"
   ]
  },
  {
   "cell_type": "code",
   "execution_count": null,
   "metadata": {},
   "outputs": [],
   "source": [
    "# %%timeit\n",
    "def analyze_injuries(year):\n",
    "# load team boxscores\n",
    "    season_str = str(year) + \"-\" + str(year+1)[-2:]\n",
    "    df0 = pd.read_parquet(box_DIR + f\"NBA_BOX_T_Base_{year}.parquet\")\n",
    "    df0= df0[[\"GAME_ID\",\"TEAM_ID\",\"GAME_DATE\",\"MATCHUP\",\"WL\",\"PLUS_MINUS\"]]\n",
    "    df0[\"GAME_ID\"] = df0[\"GAME_ID\"].astype(int)\n",
    "    # load player indvidual game boxscores\n",
    "    df1 = pd.read_parquet(box_DIR + \"NBA_BOX_P_\" + \"Base\" + \"_\" + str(year) + \".parquet\")\n",
    "    df1[\"GAME_DATE\"] = pd.to_datetime(df1[\"GAME_DATE\"], format=\"%Y-%m-%d\")\n",
    "    games_list = list(df1[\"GAME_ID\"].unique())\n",
    "    # load injury database\n",
    "    dfinj = pd.read_parquet(data_DIR1 + f'NBA_prosptran_injuries_{year}.parquet')\n",
    "    # load team rosters\n",
    "    # dfr = commonallplayers.CommonAllPlayers(league_id = \"00\", season =year, is_only_current_season=True).get_data_frames()[0]\n",
    "    # dfr = dfr.query(\"ROSTERSTATUS == 1 & GAMES_PLAYED_FLAG == 'Y'\")\n",
    "    dfr = playerindex.PlayerIndex(league_id = \"00\", season =season_str).get_data_frames()[0]\n",
    "    dfr = dfr[(dfr[\"ROSTER_STATUS\"] == 1)].reset_index(drop=True)\n",
    "    dfr = dfr.rename(columns={\"PERSON_ID\":\"PLAYER_ID\"})\n",
    "    dfr = dfr[[\"TEAM_ID\",\"PLAYER_ID\"]]\n",
    "    dfrt = dfr.groupby(\"TEAM_ID\")\n",
    "    # group player boxscores by gameID and TeamID\n",
    "    df2 = df1.groupby([\"GAME_ID\",\"TEAM_ID\"])\n",
    "    # loop through all groups and get injured players \n",
    "    keys = list(df2.groups)\n",
    "    dfma = []\n",
    "    # i=0\n",
    "    for key in tqdm(keys):\n",
    "        p_played =  df2[\"PLAYER_ID\"].get_group(key).to_numpy()\n",
    "        p_roster = dfrt[\"PLAYER_ID\"].get_group(key[1]).to_numpy()\n",
    "        # pId_missed = np.array(list(set(p_roster) - set(p_played)))#.astype(int)\n",
    "        pId_missed = np.setdiff1d(p_roster,p_played)\n",
    "        game_date = df2[\"GAME_DATE\"].get_group(key).iloc[0]\n",
    "        players_missed = is_injured(dfinj,pId_missed,game_date)\n",
    "        dfm1 = pd.DataFrame({\"PLAYER_ID\":players_missed})\n",
    "        dfm1[\"TEAM_ID\"] = key[1]\n",
    "        dfm1[\"GAME_ID\"] = key[0]\n",
    "        dfm1[\"GAME_DATE\"] = game_date\n",
    "        dfma.append(dfm1)\n",
    "        # i+=1\n",
    "        # if i > 50:\n",
    "        #     break\n",
    "    dfm = pd.concat(dfma)\n",
    "    dfm[\"PLAYER_ID\"] = dfm[\"PLAYER_ID\"].astype(int)\n",
    "    # map player and team names\n",
    "    dfm[\"PLAYER_NAME\"] = dfm[\"PLAYER_ID\"].map(player_dict)\n",
    "    dfm[\"TEAM_NAME\"] = dfm[\"TEAM_ID\"].map(teams_dict)\n",
    "    # count number of players missed per game\n",
    "    dfmg = dfm.groupby([\"GAME_ID\",\"TEAM_ID\"])[\"PLAYER_ID\"].count()\n",
    "    dfmg = pd.DataFrame(dfmg)\n",
    "    dfmg = dfmg.reset_index().rename(columns={\"PLAYER_ID\":\"Players_Out\"})\n",
    "    dfmg[\"GAME_ID\"] = dfmg[\"GAME_ID\"].astype(int)\n",
    "    # merge team boxscores to get game details like date and matchup\n",
    "    dfmf = pd.merge(df0,dfmg,on=[\"GAME_ID\",\"TEAM_ID\"])\n",
    "    dfmf[\"Team\"] = dfmf[\"TEAM_ID\"].map(teams_dict)\n",
    "    dfmf = dfmf.drop(columns=[\"GAME_ID\",\"TEAM_ID\"])\n",
    "    dfmf.insert(1,\"Team\",dfmf.pop(\"Team\"))\n",
    "    df_exp = dfmf.nlargest(10,\"Players_Out\")\n",
    "    df_exp = df_exp.reset_index(drop=True).reset_index()\n",
    "    df_exp[\"index\"] += 1\n",
    "    # get games with more than 5 players missing and win loss\n",
    "    dfmf1 = dfmf.copy()\n",
    "    dfmf1[\"Win\"] = (dfmf[\"WL\"] == \"W\")\n",
    "    dfmf1[\"Loss\"] = (dfmf[\"WL\"] == \"L\")\n",
    "    df_po = dfmf1.query(\"Players_Out >=5\").groupby(\"Team\").agg({\"Win\":[\"sum\"],\"Loss\":[\"sum\"],\"Players_Out\":[\"count\"]})\n",
    "    df_po.columns = [\"Wins\",\"Losses\",\"Games\"]\n",
    "    df_po = df_po.sort_values(by=\"Games\",ascending=False).reset_index().reset_index()\n",
    "    df_po[\"index\"] += 1\n",
    "    df_x = dfmf1.groupby(\"Team\").agg({\"Players_Out\":[\"sum\"]})\n",
    "    df_x.columns = [\"Players_Out\"]\n",
    "    df_x = (df_x\n",
    "            .reset_index()\n",
    "            .sort_values(\"Players_Out\",ascending=False)\n",
    "            .reset_index(drop=True)\n",
    "            .reset_index()\n",
    "        )\n",
    "    df_x[\"index\"] += 1\n",
    "    # df_x[\"Season\"] = year\n",
    "    return df_exp, df_po, df_x,dfmf1, dfm"
   ]
  },
  {
   "cell_type": "markdown",
   "metadata": {},
   "source": [
    "# Single Season"
   ]
  },
  {
   "cell_type": "code",
   "execution_count": null,
   "metadata": {},
   "outputs": [],
   "source": [
    "year = 2023\n",
    "df_exp, df_po, df_x, dfmf, dfm = analyze_injuries(year)"
   ]
  },
  {
   "cell_type": "code",
   "execution_count": null,
   "metadata": {},
   "outputs": [],
   "source": [
    "df_teams = pd.read_csv(\"../data/NBA_teams_colors_logos.csv\")\n",
    "df_y = pd.merge(df_x, df_teams, left_on=\"Team\", right_on=\"nameTeam\")\n",
    "teams = df_y[\"Team\"].to_list()\n",
    "teams.reverse()\n",
    "df_y[\"Team\"] = pd.Categorical(df_y['Team'], categories=teams)"
   ]
  },
  {
   "cell_type": "code",
   "execution_count": null,
   "metadata": {},
   "outputs": [],
   "source": [
    "fig_DIR"
   ]
  },
  {
   "cell_type": "code",
   "execution_count": null,
   "metadata": {},
   "outputs": [],
   "source": [
    "p = (\n",
    "    ggplot(df_y, aes(x='Team', y='Players_Out'))\n",
    "    + geom_bar(aes(fill=\"colorsTeam\"),stat=\"identity\", alpha=0.8)\n",
    "    + coord_flip()\n",
    "    + scale_color_identity(aesthetics=[\"fill\"])\n",
    "    + theme_idv\n",
    "    + theme(\n",
    "        figure_size=(10,8),\n",
    "        plot_title=element_text(size=20, weight=\"bold\")\n",
    "    )\n",
    "    + labs(\n",
    "        title=\"Player Games Missed\",\n",
    "        subtitle=\"Players missing the game due to injury/personal reasons | Injury data updated till Jan 25, 2024\",\n",
    "        caption=\"@SravanNBA | Source: nba.com/stats, prosportstransactions\",\n",
    "        y= \"Player Games Missed\",\n",
    "        x=\"\",\n",
    "    )\n",
    ")\n",
    "p.save(fig_DIR + f\"Player Games Missed.png\", dpi=300)\n",
    "p"
   ]
  },
  {
   "cell_type": "code",
   "execution_count": null,
   "metadata": {},
   "outputs": [],
   "source": [
    "dfm.query('TEAM_NAME == \"Memphis Grizzlies\"')[\"PLAYER_NAME\"].unique()"
   ]
  },
  {
   "cell_type": "code",
   "execution_count": null,
   "metadata": {},
   "outputs": [],
   "source": [
    "# dfm.query(\"TEAM_NAME == 'Memphis Grizzlies'\").head()\n",
    "# dfmf.query(\"Team == 'Los Angeles Lakers'\")\n",
    "# df_exp.head()\n",
    "# df_po.sum()"
   ]
  },
  {
   "cell_type": "code",
   "execution_count": null,
   "metadata": {},
   "outputs": [],
   "source": [
    "%reload_ext rpy2.ipython"
   ]
  },
  {
   "cell_type": "code",
   "execution_count": null,
   "metadata": {},
   "outputs": [],
   "source": [
    "%%R -i df_exp\n",
    "library(tidyverse)\n",
    "library(gt)\n",
    "library(gtExtras)\n",
    "df <- df_exp\n",
    "df %>% \n",
    "  gt()%>%\n",
    "  tab_header(\n",
    "    title = md(\"**Most Players Out during a Game in 2023-24**\"),\n",
    "    subtitle = \"Players Out: Players missing the game due to injury/personal reasons\"  \n",
    "    ) %>%\n",
    "    data_color(columns = c(PLUS_MINUS), palette = c(\"red\",\"green\")) %>%\n",
    "    cols_align(align = \"center\")  %>%\n",
    "    cols_align(align = \"left\",columns = c(GAME_DATE,Team,MATCHUP))  %>%\n",
    "    cols_label(\n",
    "      index = \"#\",GAME_DATE = \"Date\", MATCHUP = \"Matchup\", PLUS_MINUS = \"+/-\", Players_Out =\"Players Out\"\n",
    "    ) %>%\n",
    "    tab_options(\n",
    "        table.background.color = \"floralwhite\",\n",
    "        column_labels.font.size = 12,\n",
    "        column_labels.font.weight = 'bold',\n",
    "        row_group.font.weight = 'bold',\n",
    "        row_group.background.color = \"#E5E1D8\",\n",
    "        table.font.size = 10,\n",
    "        heading.title.font.size = 16,\n",
    "        heading.subtitle.font.size = 10,\n",
    "        table.font.names = \"Consolas\", \n",
    "        data_row.padding = px(6)\n",
    "    ) %>% \n",
    "    # tab_source_note(\n",
    "    # source_note = \"Min Miss PG (Per Game) = Min Missed/GP (Games Played) | Min Miss % = Min Miss PG/240 Min (240=48x5)  \")  %>% \n",
    "    tab_source_note(\n",
    "    source_note = \"@SravanNBA | Source: nba.com/stats, prosportstransactions\" ) %>% gtsave(\"../figs/team_leaders/players_missed.png\",size=5) "
   ]
  },
  {
   "cell_type": "code",
   "execution_count": null,
   "metadata": {},
   "outputs": [],
   "source": [
    "%%R -i df_x\n",
    "df <- df_x\n",
    "library(tidyverse)\n",
    "library(gt)\n",
    "library(gtExtras)\n",
    "df %>% \n",
    "  gt()%>%\n",
    "  tab_header(\n",
    "    title = md(\"**Most Player Games Missed 2023-24 NBA Season**\"),\n",
    "    subtitle = \"Players Out: Players missing the game due to injury/personal reasons\"  \n",
    "    ) %>%\n",
    "    cols_align(align = \"center\")  %>%\n",
    "    cols_align(align = \"left\",columns = c(Team))  %>%\n",
    "    gt_plt_bar(column = Players_Out, keep_column = TRUE, color = \"red\") %>%\n",
    "    cols_label(\n",
    "      index = \"#\", Players_Out = \"Games Missed\"\n",
    "    ) %>%\n",
    "    tab_options(\n",
    "        table.background.color = \"floralwhite\",\n",
    "        column_labels.font.size = 12,\n",
    "        column_labels.font.weight = 'bold',\n",
    "        row_group.font.weight = 'bold',\n",
    "        row_group.background.color = \"#E5E1D8\",\n",
    "        table.font.size = 10,\n",
    "        heading.title.font.size = 16,\n",
    "        heading.subtitle.font.size = 10,\n",
    "        table.font.names = \"Consolas\", \n",
    "        data_row.padding = px(6)\n",
    "    ) %>% \n",
    "    # tab_source_note(\n",
    "    # source_note = \"Min Miss PG (Per Game) = Min Missed/GP (Games Played) | Min Miss % = Min Miss PG/240 Min (240=48x5)  \")  %>% \n",
    "    tab_source_note(\n",
    "    source_note = \"@SravanNBA | Source: nba.com/stats, prosportstransactions\" ) %>% gtsave(\"../figs/team_leaders/player_games_missed.png\",size=5) "
   ]
  },
  {
   "cell_type": "code",
   "execution_count": null,
   "metadata": {},
   "outputs": [],
   "source": [
    "%%R -i df_po\n",
    "df <- df_po\n",
    "library(tidyverse)\n",
    "library(gt)\n",
    "library(gtExtras)\n",
    "df %>% \n",
    "  gt()%>%\n",
    "  tab_header(\n",
    "    title = md(\"**Games with 5 or more Players Out in 2023-24**\"),\n",
    "    subtitle = \"Players Out: Players missing the game due to injury/personal reasons\"  \n",
    "    ) %>%\n",
    "    cols_align(align = \"center\")  %>%\n",
    "    cols_align(align = \"left\",columns = c(Team))  %>%\n",
    "    cols_label(\n",
    "      index = \"#\", pl\n",
    "    ) %>%\n",
    "    gt_plt_bar(column = Games, keep_column = TRUE, color = \"red\") %>%\n",
    "    tab_options(\n",
    "        table.background.color = \"floralwhite\",\n",
    "        column_labels.font.size = 12,\n",
    "        column_labels.font.weight = 'bold',\n",
    "        row_group.font.weight = 'bold',\n",
    "        row_group.background.color = \"#E5E1D8\",\n",
    "        table.font.size = 10,\n",
    "        heading.title.font.size = 16,\n",
    "        heading.subtitle.font.size = 10,\n",
    "        table.font.names = \"Consolas\", \n",
    "        data_row.padding = px(6)\n",
    "    ) %>% \n",
    "    # tab_source_note(\n",
    "    # source_note = \"Min Miss PG (Per Game) = Min Missed/GP (Games Played) | Min Miss % = Min Miss PG/240 Min (240=48x5)  \")  %>% \n",
    "    tab_source_note(\n",
    "    source_note = \"@SravanNBA | Source: nba.com/stats, prosportstransactions\" ) %>% gtsave(\"../figs/team_leaders/games_missed_5more.png\",size=5) "
   ]
  },
  {
   "cell_type": "markdown",
   "metadata": {},
   "source": [
    "# Multi Seasons"
   ]
  },
  {
   "cell_type": "code",
   "execution_count": null,
   "metadata": {},
   "outputs": [],
   "source": [
    "dfa = []\n",
    "for year in range(2018,2023):\n",
    "    print(year)\n",
    "    df_exp, df_po, df_x = analyze_injuries(year)\n",
    "    dfa.append(df_x)\n",
    "dfs = pd.concat(dfa)"
   ]
  },
  {
   "cell_type": "code",
   "execution_count": null,
   "metadata": {},
   "outputs": [],
   "source": [
    "dfs"
   ]
  }
 ],
 "metadata": {
  "kernelspec": {
   "display_name": "nba-ub9Z_EQq-py3.11",
   "language": "python",
   "name": "python3"
  },
  "language_info": {
   "codemirror_mode": {
    "name": "ipython",
    "version": 3
   },
   "file_extension": ".py",
   "mimetype": "text/x-python",
   "name": "python",
   "nbconvert_exporter": "python",
   "pygments_lexer": "ipython3",
   "version": "3.11.6"
  }
 },
 "nbformat": 4,
 "nbformat_minor": 2
}
