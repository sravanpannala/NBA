{
 "cells": [
  {
   "cell_type": "code",
   "execution_count": null,
   "metadata": {},
   "outputs": [],
   "source": [
    "import os, sys\n",
    "\n",
    "sys.path.append(os.path.dirname(os.path.dirname(os.path.abspath(\"__file__\"))))\n",
    "from nbafuns import *\n",
    "\n",
    "teams_dict, teams_list = get_teams(league=\"NBA\")\n",
    "box_DIR = \"../data/box/\"\n",
    "img_DIR_T = \"../data/images/teams/\"\n",
    "fig_DIR = \"../figs/teams/\""
   ]
  },
  {
   "cell_type": "code",
   "execution_count": null,
   "metadata": {},
   "outputs": [],
   "source": [
    "df0 = get_box(\"T\",\"Adv\",cum=True)\n",
    "df0 = df0.sort_values(\"net_rating\",ascending=False).reset_index(drop=True)\n",
    "df0[\"net_rating_R\"] = df0[\"net_rating\"].rank(ascending=False,method=\"first\")"
   ]
  },
  {
   "cell_type": "code",
   "execution_count": null,
   "metadata": {},
   "outputs": [],
   "source": [
    "# df0 = get_box(\"T\",\"Adv\",cum=True)\n",
    "# df0 = df0.sort_values(\"net_rating\",ascending=False).reset_index(drop=True)\n",
    "df0[\"tcat\"] = 5\n",
    "df0.loc[df0.query(\"net_rating_R<=5\").index,\"tcat\"] = 0\n",
    "df0.loc[df0.query(\"net_rating_R<=10 & net_rating_R>5\").index,\"tcat\"] = 1\n",
    "df0.loc[df0.query(\"net_rating_R<=15 & net_rating_R>10\").index,\"tcat\"] = 2\n",
    "df0.loc[df0.query(\"net_rating_R<=20 & net_rating_R>15\").index,\"tcat\"] = 3\n",
    "df0.loc[df0.query(\"net_rating_R<=25 & net_rating_R>20\").index,\"tcat\"] = 4\n",
    "df0[\"tcat\"] = df0[\"tcat\"].astype(\"category\")"
   ]
  },
  {
   "cell_type": "code",
   "execution_count": null,
   "metadata": {},
   "outputs": [],
   "source": [
    "dfs = pd.read_parquet(box_DIR+\"NBA_Box_T_Adv_2024.parquet\")\n",
    "dfs = dfs.drop(dfs.query(\"netRating == 0\").index,axis=0).reset_index(drop=True)\n",
    "dfs.to_parquet(box_DIR+\"NBA_Box_T_Adv_2024.parquet\")"
   ]
  },
  {
   "cell_type": "code",
   "execution_count": null,
   "metadata": {},
   "outputs": [],
   "source": [
    "df1 = get_box(\"T\",\"Adv\",cum=False)\n",
    "df1 = df1.sort_values(\"netrating\",ascending=False).reset_index(drop=True)\n",
    "df1[\"ncat\"] = 6\n",
    "df1.loc[df1.query(\"netrating>=15\").index,\"ncat\"] = 0\n",
    "df1.loc[df1.query(\"netrating<15 & netrating>=7\").index,\"ncat\"] = 1\n",
    "df1.loc[df1.query(\"netrating<7 & netrating>=0\").index,\"ncat\"] = 2\n",
    "df1.loc[df1.query(\"netrating<0 & netrating>-7\").index,\"ncat\"] = 3\n",
    "df1.loc[df1.query(\"netrating<=-7 & netrating>-15\").index,\"ncat\"] = 4\n",
    "df1.loc[df1.query(\"netrating<=-15\").index,\"ncat\"] = 5\n",
    "df1[\"ncat\"] = df1[\"ncat\"].astype(\"category\")"
   ]
  },
  {
   "cell_type": "code",
   "execution_count": null,
   "metadata": {},
   "outputs": [],
   "source": [
    "df2 = df1[[\"gameid\",\"teamid\",\"ncat\",\"netrating\"]]\n",
    "df2 = df2.groupby(\"gameid\")\n",
    "df31 = pd.merge(df2.nth(0),df2.nth(1),on=\"gameid\",suffixes=[\"\",\"2\"])\n",
    "df32 = pd.merge(df2.nth(0),df2.nth(1),on=\"gameid\",suffixes=[\"\",\"2\"])\n"
   ]
  },
  {
   "cell_type": "code",
   "execution_count": null,
   "metadata": {},
   "outputs": [],
   "source": [
    "df4 = pd.merge(df3,df0[[\"team_id\",\"tcat\"]],left_on=\"teamid2\",right_on=\"team_id\")\n",
    "# df4[\"team\"] = df4[\"teamid\"].map(teams_dict)"
   ]
  },
  {
   "cell_type": "code",
   "execution_count": null,
   "metadata": {},
   "outputs": [],
   "source": [
    "df5 = df4.groupby(\"teamid\")[[\"ncat\",\"tcat\"]].value_counts().reset_index()\n",
    "df5[\"team\"] = df5[\"teamid\"].map(teams_dict)"
   ]
  },
  {
   "cell_type": "code",
   "execution_count": null,
   "metadata": {},
   "outputs": [],
   "source": [
    "team = \"LA Clippers\"\n",
    "dfc = df5.query(f\"team == '{team}'\")"
   ]
  },
  {
   "cell_type": "code",
   "execution_count": null,
   "metadata": {},
   "outputs": [],
   "source": [
    "dfc"
   ]
  },
  {
   "cell_type": "code",
   "execution_count": null,
   "metadata": {},
   "outputs": [],
   "source": [
    "p = (\n",
    "            ggplot(dfc,aes(x=\"ncat\", y=\"tcat\", fill=\"count\"))\n",
    "            + geom_tile(aes(width=.88, height=.88))\n",
    "            + geom_text(aes(label='count'), size=14, show_legend=False, fontweight = \"bold\") \n",
    "            + scale_fill_gradient(low = \"#f2f2f2\", high = \"red\")\n",
    "            + labs(\n",
    "                title = team + \": Rating Scorigami\",\n",
    "                # subtitle = f\"# NBA Games with different combinations of\\n  {var1} & {var2}\",\n",
    "                caption = \"shiny.sradjoker.cc/NBA-Scorigami\",\n",
    "                x = \"Game Net Rating\",\n",
    "                y = \"Opp Net Rating\",\n",
    "            )\n",
    "            + theme_xkcd(base_size=14, stroke_color=\"none\")\n",
    "            + theme(\n",
    "                figure_size= (12,12),\n",
    "                plot_background = element_rect(fill = 'white', color = \"white\"),\n",
    "                legend_position=\"none\",\n",
    "                plot_title=element_text(face=\"bold\", size=18),\n",
    "                plot_subtitle=element_text(size=13,weight=\"normal\",linespacing=1.5),\n",
    "                plot_caption=element_text(vjust=-0.04,hjust=0,size=10),\n",
    "                axis_text_y = element_text(size = 12, vjust=1),\n",
    "                text=element_text(family=[\"Comic Neue\"],weight=\"bold\"),\n",
    "                plot_margin=0.02,\n",
    "            )\n",
    "            + theme(\n",
    "                axis_ticks_major_y=element_blank(),\n",
    "                axis_ticks_major_x=element_blank(),\n",
    "                axis_ticks_minor_y=element_blank(),\n",
    "                axis_ticks_minor_x=element_blank(),\n",
    "                panel_grid_major_y=element_blank(),\n",
    "                panel_grid_major_x=element_blank(),\n",
    "                panel_border=element_blank(),\n",
    "            )\n",
    "        )\n",
    "p"
   ]
  }
 ],
 "metadata": {
  "kernelspec": {
   "display_name": "dav-ub9Z_EQq-py3.12",
   "language": "python",
   "name": "python3"
  },
  "language_info": {
   "codemirror_mode": {
    "name": "ipython",
    "version": 3
   },
   "file_extension": ".py",
   "mimetype": "text/x-python",
   "name": "python",
   "nbconvert_exporter": "python",
   "pygments_lexer": "ipython3",
   "version": "3.12.0"
  }
 },
 "nbformat": 4,
 "nbformat_minor": 2
}
