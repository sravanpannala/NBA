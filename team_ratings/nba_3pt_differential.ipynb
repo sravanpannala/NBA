{
 "cells": [
  {
   "cell_type": "code",
   "execution_count": null,
   "metadata": {},
   "outputs": [],
   "source": [
    "import os, sys\n",
    "\n",
    "sys.path.append(os.path.dirname(os.path.dirname(os.path.abspath(\"__file__\"))))\n",
    "from nbafuns import *\n",
    "\n",
    "\n",
    "fig_DIR = \"../figs/team_ratings/\"\n",
    "box_DIR = \"./boxscores/\""
   ]
  },
  {
   "cell_type": "code",
   "execution_count": null,
   "metadata": {},
   "outputs": [],
   "source": [
    "season = \"2023\"\n",
    "df = pd.read_csv(box_DIR + f\"NBA_BoxScores_Standard_{season}.csv\")\n",
    "df['Team_Split'] = df['MATCHUP'].str.replace(\"@\",\"\")\n",
    "df['Team_Split'] = df['Team_Split'].str.replace(\"vs.\",\"\")\n",
    "df[['Team1','Team2']] = df['Team_Split'].str.split(\"  \",expand=True)\n",
    "df[[\"FG3M\",\"PLUS_MINUS\",\"FG3_PCT\"]] = df[[\"FG3M\",\"PLUS_MINUS\",\"FG3_PCT\"]].astype(str)"
   ]
  },
  {
   "cell_type": "code",
   "execution_count": null,
   "metadata": {},
   "outputs": [],
   "source": [
    "df.columns"
   ]
  },
  {
   "cell_type": "markdown",
   "metadata": {},
   "source": [
    "# Based on 3FGM"
   ]
  },
  {
   "cell_type": "code",
   "execution_count": null,
   "metadata": {},
   "outputs": [],
   "source": [
    "df1 = df.groupby(\"GAME_ID\")[[\"TEAM_ABBREVIATION\",\"FG3M\",\"PLUS_MINUS\"]].agg(\",\".join).reset_index()\n",
    "df1[[\"Team1\", \"Team2\"]] = df1[\"TEAM_ABBREVIATION\"].str.split(\",\", expand=True)\n",
    "df1[[\"FG3M_For\", \"FG3M_Against\"]] = df1[\"FG3M\"].str.split(\",\", expand=True)\n",
    "df1[[\"PM1\", \"PM2\"]] = df1[\"PLUS_MINUS\"].str.split(\",\", expand=True)\n",
    "df2 = df.groupby(\"GAME_ID\")[[\"TEAM_ABBREVIATION\",\"FG3M\",\"PLUS_MINUS\"]].agg(\",\".join).reset_index()\n",
    "df2[[\"Team2\", \"Team1\"]] = df2[\"TEAM_ABBREVIATION\"].str.split(\",\", expand=True)\n",
    "df2[[\"FG3M_Against\",\"FG3M_For\"]] = df2[\"FG3M\"].str.split(\",\", expand=True)\n",
    "df2[[\"PM2\", \"PM1\"]] = df2[\"PLUS_MINUS\"].str.split(\",\", expand=True)"
   ]
  },
  {
   "cell_type": "code",
   "execution_count": null,
   "metadata": {},
   "outputs": [],
   "source": [
    "df3 = pd.concat([df1,df2]).sort_values(by=\"GAME_ID\").reset_index(drop=True)\n",
    "df3 = df3[[\"Team1\",\"Team2\",\"FG3M_For\", \"FG3M_Against\",\"PM1\",\"PM2\"]]\n",
    "df3.iloc[:,2:] = df3.iloc[:,2:].astype(int)"
   ]
  },
  {
   "cell_type": "code",
   "execution_count": null,
   "metadata": {},
   "outputs": [],
   "source": [
    "df3[\"More_3PT\"] = df3[\"FG3M_For\"] > df3[\"FG3M_Against\"]\n",
    "df3[\"Less_3PT\"] = df3[\"FG3M_For\"] <= df3[\"FG3M_Against\"]\n",
    "df3[\"Win\"] = df3[\"PM1\"] > 0\n",
    "df3[\"Loss\"] = df3[\"PM1\"] < 0\n",
    "df3[\"Win_More_3PT\"] = df3[\"More_3PT\"] & df3[\"Win\"]\n",
    "df3[\"Win_Less_3PT\"] = df3[\"Less_3PT\"] & df3[\"Win\"]\n",
    "df3[\"Loss_More_3PT\"] = df3[\"More_3PT\"] & df3[\"Loss\"]\n",
    "df3[\"Loss_Less_3PT\"] = df3[\"Less_3PT\"] & df3[\"Loss\"]"
   ]
  },
  {
   "cell_type": "code",
   "execution_count": null,
   "metadata": {},
   "outputs": [],
   "source": [
    "df4 = df3.groupby(\"Team1\")[[\"Win_More_3PT\",\"Win_Less_3PT\",\"Loss_More_3PT\",\"Loss_Less_3PT\"]]\\\n",
    ".agg({\"Win_More_3PT\":[\"sum\"],\"Win_Less_3PT\":[\"sum\"],\"Loss_More_3PT\":[\"sum\"],\"Loss_Less_3PT\":[\"sum\"]})\n",
    "df4.columns = [\"Win_More_3PT\",\"Win_Less_3PT\",\"Loss_More_3PT\",\"Loss_Less_3PT\"]\n",
    "df4 = df4.sort_values(by=\"Win_More_3PT\",ascending=False).reset_index().rename(columns={\"Team1\":\"Team\"})\n",
    "df4.loc['Total']= df4.sum()\n",
    "df4.loc['Total','Team'] = \"Total\""
   ]
  },
  {
   "cell_type": "code",
   "execution_count": null,
   "metadata": {},
   "outputs": [],
   "source": [
    "d = (\n",
    "    gt.GT(data=df4.iloc[:15])\n",
    "    # .cols_label(For_30= \"30 PTS For\", Against_30=\"30 PTS Against\", Diff_30=\"Difference\")\n",
    "    .cols_align(align=\"center\", columns=[\"Win_More_3PT\",\"Win_Less_3PT\",\"Loss_More_3PT\",\"Loss_Less_3PT\"])\n",
    "    .tab_spanner(\n",
    "        label = \"More 3PT\",\n",
    "        columns = [\"Win_More_3PT\", \"Loss_More_3PT\"]\n",
    "    )\n",
    "    .tab_spanner(\n",
    "        label = \"Less 3PT\",\n",
    "        columns = [\"Win_Less_3PT\", \"Loss_Less_3PT\"]\n",
    "    )\n",
    "    .tab_header(\n",
    "        title=\"Team Win Loss When Making More 3 Pointers than Opponent\",\n",
    "    )\n",
    "    .cols_label(Win_More_3PT = \"Wins\",Win_Less_3PT = \"Wins\", Loss_More_3PT = \"Losses\",Loss_Less_3PT = \"Losses\")\n",
    "    .tab_source_note(\n",
    "        source_note = \"@SravanNBA | source: nba.com/stats\"\n",
    "    )\n",
    ")\n",
    "d"
   ]
  },
  {
   "cell_type": "code",
   "execution_count": null,
   "metadata": {},
   "outputs": [],
   "source": [
    "hti.screenshot(html_str=d._render_as_html(), save_as=\"test1.png\", size=(600, 750))"
   ]
  },
  {
   "cell_type": "code",
   "execution_count": null,
   "metadata": {},
   "outputs": [],
   "source": [
    "d = (\n",
    "    gt.GT(data=df4.iloc[15:])\n",
    "    # .cols_label(For_30= \"30 PTS For\", Against_30=\"30 PTS Against\", Diff_30=\"Difference\")\n",
    "    .cols_align(align=\"center\", columns=[\"Win_More_3PT\",\"Win_Less_3PT\",\"Loss_More_3PT\",\"Loss_Less_3PT\"])\n",
    "    .tab_spanner(\n",
    "        label = \"More 3PT\",\n",
    "        columns = [\"Win_More_3PT\", \"Loss_More_3PT\"]\n",
    "    )\n",
    "    .tab_spanner(\n",
    "        label = \"Less 3PT\",\n",
    "        columns = [\"Win_Less_3PT\", \"Loss_Less_3PT\"]\n",
    "    )\n",
    "    .tab_header(\n",
    "        title=\"Team Win Loss When Making More 3 Pointers than Opponent\",\n",
    "    )\n",
    "    .cols_label(Win_More_3PT = \"Wins\",Win_Less_3PT = \"Wins\", Loss_More_3PT = \"Losses\",Loss_Less_3PT = \"Losses\")\n",
    "    .tab_source_note(\n",
    "        source_note = \"@SravanNBA | source: nba.com/stats\"\n",
    "    )\n",
    ")\n",
    "d"
   ]
  },
  {
   "cell_type": "code",
   "execution_count": null,
   "metadata": {},
   "outputs": [],
   "source": [
    "hti.screenshot(html_str=d._render_as_html(), save_as=\"test2.png\", size=(600, 750))"
   ]
  },
  {
   "cell_type": "markdown",
   "metadata": {},
   "source": [
    "# Based on 3PT%"
   ]
  },
  {
   "cell_type": "code",
   "execution_count": null,
   "metadata": {},
   "outputs": [],
   "source": [
    "df1 = df.groupby(\"GAME_ID\")[[\"TEAM_ABBREVIATION\",\"FG3_PCT\",\"PLUS_MINUS\"]].agg(\",\".join).reset_index()\n",
    "df1[[\"Team1\", \"Team2\"]] = df1[\"TEAM_ABBREVIATION\"].str.split(\",\", expand=True)\n",
    "df1[[\"FG3_PCT_For\", \"FG3_PCT_Against\"]] = df1[\"FG3_PCT\"].str.split(\",\", expand=True)\n",
    "df1[[\"PM1\", \"PM2\"]] = df1[\"PLUS_MINUS\"].str.split(\",\", expand=True)\n",
    "df2 = df.groupby(\"GAME_ID\")[[\"TEAM_ABBREVIATION\",\"FG3_PCT\",\"PLUS_MINUS\"]].agg(\",\".join).reset_index()\n",
    "df2[[\"Team2\", \"Team1\"]] = df2[\"TEAM_ABBREVIATION\"].str.split(\",\", expand=True)\n",
    "df2[[\"FG3_PCT_Against\",\"FG3_PCT_For\"]] = df2[\"FG3_PCT\"].str.split(\",\", expand=True)\n",
    "df2[[\"PM2\", \"PM1\"]] = df2[\"PLUS_MINUS\"].str.split(\",\", expand=True)"
   ]
  },
  {
   "cell_type": "code",
   "execution_count": null,
   "metadata": {},
   "outputs": [],
   "source": [
    "df3 = pd.concat([df1,df2]).sort_values(by=\"GAME_ID\").reset_index(drop=True)\n",
    "df3 = df3[[\"Team1\",\"Team2\",\"FG3_PCT_For\", \"FG3_PCT_Against\",\"PM1\",\"PM2\"]]\n",
    "df3.iloc[:,2:] = df3.iloc[:,2:].astype(float)"
   ]
  },
  {
   "cell_type": "code",
   "execution_count": null,
   "metadata": {},
   "outputs": [],
   "source": [
    "df3[\"More_3PT_PCT\"] = df3[\"FG3_PCT_For\"] > (df3[\"FG3_PCT_Against\"] +0.1)\n",
    "df3[\"Win\"] = df3[\"PM1\"] > 0\n",
    "df3[\"Loss\"] = df3[\"PM1\"] < 0\n",
    "df3[\"Win_More_3PT_PCT\"] = df3[\"More_3PT_PCT\"] & df3[\"Win\"]\n",
    "df3[\"Loss_More_3PT_PCT\"] = df3[\"More_3PT_PCT\"] & df3[\"Loss\"]"
   ]
  },
  {
   "cell_type": "code",
   "execution_count": null,
   "metadata": {},
   "outputs": [],
   "source": [
    "df4 = df3.groupby(\"Team1\")[[\"Win_More_3PT_PCT\",\"Loss_More_3PT_PCT\"]]\\\n",
    ".agg({\"Win_More_3PT_PCT\":[\"sum\"],\"Loss_More_3PT_PCT\":[\"sum\"]})\n",
    "df4.columns = [\"Win_More_3PT_PCT\",\"Loss_More_3PT_PCT\"]\n",
    "df4 = df4.sort_values(by=\"Win_More_3PT_PCT\",ascending=False).reset_index().rename(columns={\"Team1\":\"Team\"})\n",
    "df4.loc['Total']= df4.sum()\n",
    "df4.loc['Total','Team'] = \"Total\""
   ]
  },
  {
   "cell_type": "code",
   "execution_count": null,
   "metadata": {},
   "outputs": [],
   "source": [
    "d = (\n",
    "    gt.GT(data=df4)\n",
    "    # .cols_label(For_30= \"30 PTS For\", Against_30=\"30 PTS Against\", Diff_30=\"Difference\")\n",
    "    .cols_align(align=\"center\", columns=[\"Win_More_3PT_PCT\",\"Loss_More_3PT_PCT\"])\n",
    "    .tab_spanner(\n",
    "        label = \"3PT % > Opponent by 10%\",\n",
    "        columns = [\"Win_More_3PT_PCT\", \"Loss_More_3PT_PCT\"]\n",
    "    )\n",
    "    .tab_header(\n",
    "        title=\"Team Win Loss When 3PT% greater than Opponent by 10%\",\n",
    "    )\n",
    "    .cols_label(Win_More_3PT_PCT = \"Wins\",Loss_More_3PT_PCT = \"Losses\")\n",
    "    .tab_source_note(\n",
    "        source_note = \"@SravanNBA | source: nba.com/stats\"\n",
    "    )\n",
    ")\n",
    "d"
   ]
  },
  {
   "cell_type": "code",
   "execution_count": null,
   "metadata": {},
   "outputs": [],
   "source": [
    "hti.screenshot(html_str=d._render_as_html(), save_as=\"test3.png\", size=(400, 1400))"
   ]
  }
 ],
 "metadata": {
  "kernelspec": {
   "display_name": "nba-ub9Z_EQq-py3.11",
   "language": "python",
   "name": "python3"
  },
  "language_info": {
   "codemirror_mode": {
    "name": "ipython",
    "version": 3
   },
   "file_extension": ".py",
   "mimetype": "text/x-python",
   "name": "python",
   "nbconvert_exporter": "python",
   "pygments_lexer": "ipython3",
   "version": "3.11.6"
  }
 },
 "nbformat": 4,
 "nbformat_minor": 2
}
