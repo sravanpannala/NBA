{
 "cells": [
  {
   "cell_type": "code",
   "execution_count": null,
   "metadata": {
    "metadata": {}
   },
   "outputs": [],
   "source": [
    "import os, sys\n",
    "\n",
    "sys.path.append(os.path.dirname(os.path.dirname(os.path.abspath(\"__file__\"))))\n",
    "from nbafuns import *\n",
    "from nba_api.stats.endpoints import leaguedashteamstats, leaguedashplayerstats\n",
    "from great_tables import GT, md, html\n",
    "\n",
    "fig_DIR = \"../figs/team_ratings/\"\n",
    "img_DIR_T = \"../data/images/teams/\"\n",
    "\n",
    "df_teams = pd.read_csv(\"../data/NBA_teams_colors_logos.csv\")\n",
    "df_teams = df_teams.rename(columns={\"nameTeam\": \"TEAM_NAME\"})"
   ]
  },
  {
   "cell_type": "code",
   "execution_count": null,
   "metadata": {
    "metadata": {}
   },
   "outputs": [],
   "source": [
    "stats = leaguedashteamstats.LeagueDashTeamStats(\n",
    "    measure_type_detailed_defense=\"Advanced\",\n",
    "    per_mode_detailed=\"PerGame\",\n",
    "    # date_from_nullable=\"10-23-2023\",\n",
    "    date_to_nullable=\"12-25-2023\",\n",
    ")\n",
    "df11 = stats.get_data_frames()[0]\n",
    "stats = leaguedashteamstats.LeagueDashTeamStats(\n",
    "    measure_type_detailed_defense=\"Advanced\",\n",
    "    per_mode_detailed=\"PerGame\",\n",
    "    date_from_nullable=\"12-26-2023\",\n",
    "    date_to_nullable=\"02-18-2024\",\n",
    ")\n",
    "df21 = stats.get_data_frames()[0]\n",
    "stats = leaguedashteamstats.LeagueDashTeamStats(\n",
    "    measure_type_detailed_defense=\"Advanced\",\n",
    "    per_mode_detailed=\"PerGame\",\n",
    "    date_from_nullable=\"02-18-2024\",\n",
    "    # date_to_nullable=\",\n",
    ")\n",
    "df31 = stats.get_data_frames()[0]"
   ]
  },
  {
   "cell_type": "code",
   "execution_count": null,
   "metadata": {
    "metadata": {}
   },
   "outputs": [],
   "source": [
    "cols = ['TEAM_NAME', 'GP', 'W_PCT',\n",
    "        'OFF_RATING', 'DEF_RATING','NET_RATING', \n",
    "        'W_PCT_RANK', 'OFF_RATING_RANK', 'DEF_RATING_RANK', 'NET_RATING_RANK', ]"
   ]
  },
  {
   "cell_type": "code",
   "execution_count": null,
   "metadata": {
    "metadata": {}
   },
   "outputs": [],
   "source": [
    "df1 = df11[cols]\n",
    "df2 = df21[cols]\n",
    "df3 = df31[cols]\n",
    "df3.columns  = df3.columns + '_3'\n",
    "df3 = df3.rename(columns={\"TEAM_NAME_3\":\"TEAM_NAME\"})"
   ]
  },
  {
   "cell_type": "code",
   "execution_count": null,
   "metadata": {
    "metadata": {}
   },
   "outputs": [],
   "source": [
    "df41 = pd.merge(df1,df2,on=[\"TEAM_NAME\"],suffixes=[\"_1\",\"_2\"])\n",
    "df4 =  pd.merge(df41,df3,on=[\"TEAM_NAME\"],suffixes=[\"\",\"_3\"])\n",
    "df4 = pd.merge(df4,df_teams,on=[\"TEAM_NAME\"])\n",
    "df4[\"image\"]= img_DIR_T + df4[\"TEAM_NAME\"] + \".png\""
   ]
  },
  {
   "cell_type": "code",
   "execution_count": null,
   "metadata": {
    "metadata": {}
   },
   "outputs": [],
   "source": [
    "df4[[\"GP_1\",\"GP_2\",\"GP_3\"]].mean()"
   ]
  },
  {
   "cell_type": "code",
   "execution_count": null,
   "metadata": {
    "metadata": {}
   },
   "outputs": [],
   "source": [
    "p = (ggplot(df4)\n",
    " + geom_point(aes(x=1, y='NET_RATING_RANK_1', color='colorsTeam'), size=2.5, alpha=.7)\n",
    " + geom_point(aes(x=2, y='NET_RATING_RANK_2', color='colorsTeam'), size=2.5, alpha=.7)\n",
    " + geom_point(aes(x=3, y='NET_RATING_RANK_3', color='colorsTeam'), size=2.5, alpha=.7)\n",
    " + geom_image(aes(x=1, y='NET_RATING_RANK_1', image='image'),size=0.08)\n",
    " + geom_image(aes(x=2, y='NET_RATING_RANK_2', image='image'),size=0.08)\n",
    " + geom_image(aes(x=3, y='NET_RATING_RANK_3', image='image'),size=0.08)\n",
    " + geom_segment(aes(x=1, y='NET_RATING_RANK_1', xend=2, yend='NET_RATING_RANK_2', color='colorsTeam'), alpha=.7, size=1)\n",
    " + geom_segment(aes(x=2, y='NET_RATING_RANK_2', xend=3, yend='NET_RATING_RANK_3', color='colorsTeam'), alpha=.7, size=1)\n",
    " + annotate('text', x=1, y=0, label='Till Christmas', size=14)\n",
    " + annotate('text', x=2, y=0, label='Christmas - ASB', size=14)\n",
    " + annotate('text', x=3, y=0, label='ASB-', size=14)\n",
    " + lims(x=(0.8, 3.2))\n",
    " + scale_y_reverse(breaks=np.arange(1,31,1))\n",
    " + scale_color_identity(aesthetics=[\"color\"])\n",
    " + theme_idv\n",
    " + theme(figure_size=(8, 15))\n",
    " + theme(\n",
    "     axis_title_x = element_blank(),\n",
    "     axis_text_x = element_blank(),\n",
    "     plot_title=element_text(face=\"bold\", size=20),\n",
    " )\n",
    " + labs(\n",
    "        title=f\"Net Rating Rankings for 3 Sections of the NBA Season\",\n",
    "        subtitle = \"1. Start - Christmas | 2. Christmas - All Star Break | 3. All Star Break - Now\",\n",
    "        caption=\"@sradjoker | source: nba.com/stats\",\n",
    "        y=f\"Net Rating Rank\",\n",
    " )\n",
    ")\n",
    "# p.save(\"../figs/team_leaders/LA_aDEF_mvmt.png\", dpi=300, verbose = False)\n",
    "# p"
   ]
  },
  {
   "cell_type": "code",
   "execution_count": null,
   "metadata": {
    "metadata": {}
   },
   "outputs": [],
   "source": []
  },
  {
   "cell_type": "code",
   "execution_count": null,
   "metadata": {
    "metadata": {}
   },
   "outputs": [],
   "source": [
    "df4[\"T\"] = df4[\"TEAM_NAME\"]\n",
    "df5 = df4[[\n",
    "    'T','TEAM_NAME','NET_RATING_RANK_1','NET_RATING_RANK_2','NET_RATING_RANK_3'\n",
    "]].sort_values(\"NET_RATING_RANK_3\").reset_index(drop=True).reset_index()\n",
    "df5[\"index\"] +=1\n"
   ]
  },
  {
   "cell_type": "code",
   "execution_count": null,
   "metadata": {
    "metadata": {}
   },
   "outputs": [],
   "source": [
    "t = (\n",
    "    GT(df5)\n",
    "    .tab_header(\n",
    "        title=md(\"Net Rating Rankings for 3 Sections of the NBA Season\"),\n",
    "        # subtitle=\"Daily measurements in New York City (May 1-10, 1973)\"\n",
    "    )\n",
    "    .tab_source_note(source_note=\"@sradjoker | source: nba.com/stats\")\n",
    "    .cols_label(\n",
    "        index = \"#\",\n",
    "        TEAM_NAME = \"Team\",\n",
    "        NET_RATING_RANK_1 = \"Till Christmas\",\n",
    "        NET_RATING_RANK_2 = \"Christmas - ASB\",\n",
    "        NET_RATING_RANK_3 = \"ASB - Now\",\n",
    "    )\n",
    "    .cols_align(align=\"center\")\n",
    "    .cols_align(align=\"left\", columns=\"TEAM_NAME\")\n",
    "    .data_color(\n",
    "        columns=['NET_RATING_RANK_1','NET_RATING_RANK_2','NET_RATING_RANK_3'],\n",
    "        palette=\"RdYlGn\",\n",
    "        reverse=\"True\"\n",
    "    )\n",
    "    .fmt_image(\n",
    "        columns=\"T\",\n",
    "        path = img_DIR_T,\n",
    "        file_pattern=\"{}.png\"\n",
    "    )\n",
    "    .tab_options(\n",
    "        heading_title_font_size=\"150%\",\n",
    "        heading_subtitle_font_size=\"110%\",\n",
    "        # heading_title_font_weight='bold',\n",
    "        table_background_color=\"floralwhite\",\n",
    "        column_labels_font_size=\"105%\",\n",
    "        column_labels_font_weight='bold',\n",
    "        row_group_font_weight='bold',\n",
    "        row_group_background_color=\"#E5E1D8\",\n",
    "        table_font_size=10,\n",
    "        table_font_names=\"Consolas\", \n",
    "        data_row_padding = \"3px\",\n",
    "        table_margin_left = 1,\n",
    "        table_margin_right = 1,\n",
    "    )\n",
    "    # .save(fig_DIR + \"net_season_segment.png\")\n",
    ")\n",
    "t.save(\"net_season_segment.png\",scale=3,expand=2,web_driver=\"edge\",window_size=(6000,6000))\n",
    "# t"
   ]
  },
  {
   "cell_type": "code",
   "execution_count": null,
   "metadata": {
    "metadata": {}
   },
   "outputs": [],
   "source": [
    "df4[\"T\"] = df4[\"TEAM_NAME\"]\n",
    "df5 = df4[[\n",
    "    'T','TEAM_NAME','OFF_RATING_RANK_1','OFF_RATING_RANK_2','OFF_RATING_RANK_3'\n",
    "]].sort_values(\"OFF_RATING_RANK_3\").reset_index(drop=True).reset_index()\n",
    "df5[\"index\"] +=1\n"
   ]
  },
  {
   "cell_type": "code",
   "execution_count": null,
   "metadata": {
    "metadata": {}
   },
   "outputs": [],
   "source": [
    "t = (\n",
    "    GT(df5)\n",
    "    .tab_header(\n",
    "        title=md(\"Off Rating Rankings for 3 Sections of the NBA Season\"),\n",
    "        # subtitle=\"Daily measurements in New York City (May 1-10, 1973)\"\n",
    "    )\n",
    "    .tab_source_note(source_note=\"@sradjoker | source: nba.com/stats\")\n",
    "    .cols_label(\n",
    "        index = \"#\",\n",
    "        TEAM_NAME = \"Team\",\n",
    "        OFF_RATING_RANK_1 = \"Till Christmas\",\n",
    "        OFF_RATING_RANK_2 = \"Christmas - ASB\",\n",
    "        OFF_RATING_RANK_3 = \"ASB - Now\",\n",
    "    )\n",
    "    .cols_align(align=\"center\")\n",
    "    .cols_align(align=\"left\", columns=\"TEAM_NAME\")\n",
    "    .data_color(\n",
    "        columns=['OFF_RATING_RANK_1','OFF_RATING_RANK_2','OFF_RATING_RANK_3'],\n",
    "        palette=\"RdYlGn\",\n",
    "        reverse=\"True\"\n",
    "    )\n",
    "    .fmt_image(\n",
    "        columns=\"T\",\n",
    "        path = img_DIR_T,\n",
    "        file_pattern=\"{}.png\"\n",
    "    )\n",
    "    .tab_options(\n",
    "        heading_title_font_size=\"150%\",\n",
    "        heading_subtitle_font_size=\"110%\",\n",
    "        # heading_title_font_weight='bold',\n",
    "        table_background_color=\"floralwhite\",\n",
    "        column_labels_font_size=\"105%\",\n",
    "        column_labels_font_weight='bold',\n",
    "        row_group_font_weight='bold',\n",
    "        row_group_background_color=\"#E5E1D8\",\n",
    "        table_font_size=10,\n",
    "        table_font_names=\"Consolas\", \n",
    "        data_row_padding = \"3px\",\n",
    "        table_margin_left = 1,\n",
    "        table_margin_right = 1,\n",
    "    )\n",
    "    # .save(fig_DIR + \"net_season_segment.png\")\n",
    ")\n",
    "t.save(\"off_season_segment.png\",scale=3,expand=2,web_driver=\"edge\",window_size=(6000,6000))\n",
    "# t"
   ]
  },
  {
   "cell_type": "code",
   "execution_count": null,
   "metadata": {
    "metadata": {}
   },
   "outputs": [],
   "source": [
    "df4[\"T\"] = df4[\"TEAM_NAME\"]\n",
    "df5 = df4[[\n",
    "    'T','TEAM_NAME','DEF_RATING_RANK_1','DEF_RATING_RANK_2','DEF_RATING_RANK_3'\n",
    "]].sort_values(\"DEF_RATING_RANK_3\").reset_index(drop=True).reset_index()\n",
    "df5[\"index\"] +=1\n"
   ]
  },
  {
   "cell_type": "code",
   "execution_count": null,
   "metadata": {
    "metadata": {}
   },
   "outputs": [],
   "source": [
    "t = (\n",
    "    GT(df5)\n",
    "    .tab_header(\n",
    "        title=md(\"Def Rating Rankings for 3 Sections of the NBA Season\"),\n",
    "        # subtitle=\"Daily measurements in New York City (May 1-10, 1973)\"\n",
    "    )\n",
    "    .tab_source_note(source_note=\"@sradjoker | source: nba.com/stats\")\n",
    "    .cols_label(\n",
    "        index = \"#\",\n",
    "        TEAM_NAME = \"Team\",\n",
    "        DEF_RATING_RANK_1 = \"Till Christmas\",\n",
    "        DEF_RATING_RANK_2 = \"Christmas - ASB\",\n",
    "        DEF_RATING_RANK_3 = \"ASB - Now\",\n",
    "    )\n",
    "    .cols_align(align=\"center\")\n",
    "    .cols_align(align=\"left\", columns=\"TEAM_NAME\")\n",
    "    .data_color(\n",
    "        columns=['DEF_RATING_RANK_1','DEF_RATING_RANK_2','DEF_RATING_RANK_3'],\n",
    "        palette=\"RdYlGn\",\n",
    "        reverse=\"True\"\n",
    "    )\n",
    "    .fmt_image(\n",
    "        columns=\"T\",\n",
    "        path = img_DIR_T,\n",
    "        file_pattern=\"{}.png\"\n",
    "    )\n",
    "    .tab_options(\n",
    "        heading_title_font_size=\"150%\",\n",
    "        heading_subtitle_font_size=\"110%\",\n",
    "        # heading_title_font_weight='bold',\n",
    "        table_background_color=\"floralwhite\",\n",
    "        column_labels_font_size=\"105%\",\n",
    "        column_labels_font_weight='bold',\n",
    "        row_group_font_weight='bold',\n",
    "        row_group_background_color=\"#E5E1D8\",\n",
    "        table_font_size=10,\n",
    "        table_font_names=\"Consolas\", \n",
    "        data_row_padding = \"3px\",\n",
    "        table_margin_left = 1,\n",
    "        table_margin_right = 1,\n",
    "    )\n",
    "    # .save(fig_DIR + \"net_season_segment.png\")\n",
    ")\n",
    "t.save(\"def_season_segment.png\",scale=3,expand=2,web_driver=\"edge\",window_size=(6000,6000))\n",
    "# t"
   ]
  }
 ],
 "metadata": {
  "kernelspec": {
   "display_name": "nba-ub9Z_EQq-py3.11",
   "language": "python",
   "name": "python3"
  },
  "language_info": {
   "codemirror_mode": {
    "name": "ipython",
    "version": 3
   },
   "file_extension": ".py",
   "mimetype": "text/x-python",
   "name": "python",
   "nbconvert_exporter": "python",
   "pygments_lexer": "ipython3",
   "version": "3.11.6"
  }
 },
 "nbformat": 4,
 "nbformat_minor": 2
}
