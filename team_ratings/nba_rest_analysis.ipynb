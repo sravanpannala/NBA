{
 "cells": [
  {
   "cell_type": "code",
   "execution_count": null,
   "metadata": {},
   "outputs": [],
   "source": [
    "from sklearn.linear_model import RidgeCV\n",
    "import os, sys\n",
    "\n",
    "sys.path.append(os.path.dirname(os.path.dirname(os.path.abspath(\"__file__\"))))\n",
    "from nbafuns import *\n",
    "pd.options.mode.chained_assignment = None\n",
    "# from sklearn.pipeline import make_pipeline\n",
    "# model = make_pipeline(StandardScaler(with_mean=False), _RidgeGCV())\n",
    "\n",
    "teams_dict, teams_list = get_teams(league=\"NBA\")\n",
    "box_DIR = \"../team_ratings/boxscores/\""
   ]
  },
  {
   "cell_type": "code",
   "execution_count": null,
   "metadata": {},
   "outputs": [],
   "source": [
    "def time_decay(X):\n",
    "    X = X.to_numpy()\n",
    "    y = np.zeros(np.size(X))\n",
    "    for i,x in enumerate(X):\n",
    "        yj=0\n",
    "        for j in range(i):\n",
    "            xj = x-X[j]\n",
    "            yj += -np.exp(-1*(x-X[j]))\n",
    "        y[i] = yj\n",
    "    return y"
   ]
  },
  {
   "cell_type": "code",
   "execution_count": null,
   "metadata": {},
   "outputs": [],
   "source": [
    "season = \"2022\""
   ]
  },
  {
   "cell_type": "code",
   "execution_count": null,
   "metadata": {},
   "outputs": [],
   "source": [
    "df1 = pd.read_csv(box_DIR + f\"NBA_BoxScores_Adv_{season}.csv\")\n",
    "df1 = df1.rename(\n",
    "    columns={\n",
    "        \"offensiveRating\": \"ORtg\",\n",
    "        \"defensiveRating\": \"DRtg\",\n",
    "        \"netRating\": \"NRtg\",\n",
    "        \"possessions\": \"poss\",\n",
    "    }\n",
    ")\n",
    "cols = [\"gameId\", \"teamId\", \"ORtg\", \"DRtg\", \"NRtg\", \"poss\"]\n",
    "df1 = df1[cols]\n",
    "df1[\"Win\"] = df1[\"NRtg\"] > 0\n",
    "df1[\"Loss\"] = df1[\"NRtg\"] < 0\n",
    "df2 = pd.read_csv(box_DIR + f\"NBA_BoxScores_Standard_{season}.csv\")\n",
    "df2 = df2.rename(\n",
    "    columns={\n",
    "        \"GAME_ID\": \"gameId\",\n",
    "        \"TEAM_ID\": \"teamId\",\n",
    "        \"TEAM_ABBREVIATION\": \"teamTricode\",\n",
    "        \"GAME_DATE\": \"gameDate\",\n",
    "        \"TEAM_NAME\": \"teamName\",\n",
    "        \"MATCHUP\": \"Matchup\",\n",
    "    }\n",
    ")\n",
    "cols2 = [\"gameId\", \"teamId\", \"teamTricode\", \"gameDate\",\"Matchup\"]\n",
    "df2 = df2[cols2]\n",
    "df2[\"Home\"] = np.where(~df2[\"Matchup\"].str.contains(\"@\"), 1, 0)\n",
    "df2[\"Away\"] = np.where(df2[\"Matchup\"].str.contains(\"@\"), 1, 0)\n",
    "df2[\"gameId\"] = df2[\"gameId\"].astype(int)\n",
    "df3 = pd.merge(df2, df1, on=[\"gameId\", \"teamId\"])\n",
    "df3 = df3.rename(columns={\"gameDate\": \"Date\"})\n",
    "df3[\"Date\"] = pd.to_datetime(df3[\"Date\"], format=\"%Y-%m-%d\")\n",
    "df4 = df3.sort_values(by=[\"teamTricode\",\"Date\"])\n",
    "df4[\"Date_D\"] = (df4[\"Date\"] - df4[\"Date\"].iloc[0]).dt.days\n",
    "teams = df4[\"teamTricode\"].unique()\n",
    "dfa = []\n",
    "for team in teams:\n",
    "    df5 = df4[df4[\"teamTricode\"] == team].reset_index(drop=True)\n",
    "    df5[\"Rest\"] = time_decay(df5['Date_D'])\n",
    "    df5[\"Rest\"] = df5[\"Rest\"].round(5)\n",
    "    dfa.append(df5)\n",
    "df5 = pd.concat(dfa)"
   ]
  },
  {
   "cell_type": "code",
   "execution_count": null,
   "metadata": {},
   "outputs": [],
   "source": [
    "df5 = df5.reset_index(drop=True)\n",
    "cols = [\n",
    "    \"gameId\",\n",
    "    \"teamTricode\",\n",
    "    \"teamId\",\n",
    "    \"ORtg\",\n",
    "    \"DRtg\",\n",
    "    \"NRtg\",\n",
    "    \"poss\",\n",
    "    \"Home\",\n",
    "    \"Away\",\n",
    "    \"Rest\",\n",
    "    \"Date\",\n",
    "]\n",
    "df6 = df5[cols]\n",
    "df6[cols[1:]] = df6[cols[1:]].astype(str)\n",
    "df7 = df6.groupby(\"gameId\")[cols[1:]].agg(\", \".join).reset_index()\n",
    "df8 = df7.copy()\n",
    "df8[[\"team1\", \"team2\"]] = df7[\"teamTricode\"].str.split(\",\", expand=True)\n",
    "df8[[\"tId1\", \"tId2\"]] =   df7[\"teamId\"].str.split(\",\", expand=True)\n",
    "df8[[\"ORtg1\", \"ORtg2\"]] = df7[\"ORtg\"].str.split(\",\", expand=True)\n",
    "df8[[\"DRtg1\", \"DRtg2\"]] = df7[\"DRtg\"].str.split(\",\", expand=True)\n",
    "df8[[\"NRtg1\", \"NRtg2\"]] = df7[\"NRtg\"].str.split(\",\", expand=True)\n",
    "df8[[\"poss1\", \"poss2\"]] = df7[\"poss\"].str.split(\",\", expand=True)\n",
    "df8[[\"rest1\", \"rest2\"]] = df7[\"Rest\"].str.split(\",\", expand=True)\n",
    "df8[[\"date1\", \"date2\"]] = df7[\"Date\"].str.split(\",\", expand=True)\n",
    "df8[[\"home1\", \"home2\"]] = df7[\"Home\"].str.split(\",\", expand=True)\n",
    "# df8[[\"away1\", \"away2\"]] = df7[\"Away\"].str.split(\",\", expand=True)\n",
    "df8 = df8.drop(columns=cols[1:])\n",
    "df9 = df7.copy()\n",
    "df9[[\"team2\", \"team1\"]] = df7[\"teamTricode\"].str.split(\",\", expand=True)\n",
    "df9[[\"tId2\", \"tId1\"]] =   df7[\"teamId\"].str.split(\",\", expand=True)\n",
    "df9[[\"ORtg2\", \"ORtg1\"]] = df7[\"ORtg\"].str.split(\",\", expand=True)\n",
    "df9[[\"DRtg2\", \"DRtg1\"]] = df7[\"DRtg\"].str.split(\",\", expand=True)\n",
    "df9[[\"NRtg2\", \"NRtg1\"]] = df7[\"NRtg\"].str.split(\",\", expand=True)\n",
    "df9[[\"poss2\", \"poss1\"]] = df7[\"poss\"].str.split(\",\", expand=True)\n",
    "df9[[\"rest2\", \"rest1\"]] = df7[\"Rest\"].str.split(\",\", expand=True)\n",
    "df9[[\"date1\", \"date2\"]] = df7[\"Date\"].str.split(\",\", expand=True)\n",
    "df9[[\"home2\", \"home1\"]] = df7[\"Home\"].str.split(\",\", expand=True)\n",
    "# df9[[\"away2\", \"away1\"]] = df7[\"Away\"].str.split(\",\", expand=True)\n",
    "df9 = df9.drop(columns=cols[1:])\n",
    "df10 = pd.concat([df8, df9]).sort_values(by=\"gameId\").reset_index(drop=True)\n",
    "cols = df10.columns\n",
    "df10[cols[3:5]]   = df10[cols[3:5]].astype(int)\n",
    "df10[cols[5:15]]  = df10[cols[5:15]].astype(float)\n"
   ]
  },
  {
   "cell_type": "code",
   "execution_count": null,
   "metadata": {},
   "outputs": [],
   "source": [
    "df10[\"date1\"] = pd.to_datetime(df10[\"date1\"], format=\"%Y-%m-%d\")\n",
    "df10[cols[17:19]] = df10[cols[17:19]].astype(int)\n",
    "df10[cols[17:19]] = df10[cols[17:19]].astype(bool)\n",
    "df10[\"rest_diff\"] = df10[\"rest2\"] - df10[\"rest1\"]\n",
    "df10 = df10.drop(columns=[\"date2\"])\n",
    "df10 = df10.rename(columns={\"date1\":\"Date\"})\n",
    "data = df10.copy()"
   ]
  },
  {
   "cell_type": "code",
   "execution_count": null,
   "metadata": {},
   "outputs": [],
   "source": [
    "df1 = data.copy()\n",
    "df1[\"pts1\"] = df1[\"ORtg1\"] * df1[\"poss1\"] \n",
    "df1[\"pts2\"] = df1[\"DRtg1\"] * df1[\"poss1\"]\n",
    "off_prior = df1.groupby([\"tId1\"])[[\"poss1\", \"pts1\"]].agg(\"sum\").reset_index()\n",
    "def_prior = df1.groupby([\"tId1\"])[[\"poss1\", \"pts2\"]].agg(\"sum\").reset_index()\n",
    "off_prior[\"OFF\"] = off_prior[\"pts1\"] / off_prior[\"poss1\"]\n",
    "off_prior[\"OFF\"] = off_prior[\"OFF\"].round(3)\n",
    "off_prior = off_prior[[\"tId1\", \"OFF\"]]\n",
    "def_prior[\"DEF\"] = def_prior[\"pts2\"] / def_prior[\"poss1\"]\n",
    "def_prior[\"DEF\"] = def_prior[\"DEF\"].round(3)\n",
    "def_prior = def_prior[[\"tId1\", \"DEF\"]]\n",
    "# def_prior = def_prior.rename(columns={\"tId1\":\"tId2\"})\n",
    "df1 = pd.merge(df1,off_prior, on=\"tId1\")\n",
    "df1 = pd.merge(df1,def_prior, on=\"tId1\")\n",
    "df1[\"NET\"] = df1[\"NRtg1\"] - (df1[\"OFF\"] - df1[\"DEF\"])"
   ]
  },
  {
   "cell_type": "code",
   "execution_count": null,
   "metadata": {},
   "outputs": [],
   "source": [
    "df1 = data.query(\"home1\").reset_index(drop=True)\n",
    "df1[\"pts1\"] = df1[\"ORtg1\"] * df1[\"poss1\"] \n",
    "df1[\"pts2\"] = df1[\"DRtg1\"] * df1[\"poss1\"]\n",
    "off_prior = df1.groupby([\"tId1\"])[[\"poss1\", \"pts1\"]].agg(\"sum\").reset_index()\n",
    "def_prior = df1.groupby([\"tId1\"])[[\"poss1\", \"pts2\"]].agg(\"sum\").reset_index()\n",
    "off_prior[\"OFF\"] = off_prior[\"pts1\"] / off_prior[\"poss1\"]\n",
    "off_prior[\"OFF\"] = off_prior[\"OFF\"].round(3)\n",
    "off_prior = off_prior[[\"tId1\", \"OFF\"]]\n",
    "def_prior[\"DEF\"] = def_prior[\"pts2\"] / def_prior[\"poss1\"]\n",
    "def_prior[\"DEF\"] = def_prior[\"DEF\"].round(3)\n",
    "def_prior = def_prior[[\"tId1\", \"DEF\"]]\n",
    "def_prior = def_prior.rename(columns={\"tId1\":\"tId2\"})\n",
    "df1 = pd.merge(df1,off_prior, on=\"tId1\")\n",
    "df1 = pd.merge(df1,def_prior, on=\"tId2\")\n",
    "df2 = data.query(\"home2\").reset_index(drop=True)\n",
    "df2[\"pts1\"] = df2[\"ORtg1\"] * df2[\"poss1\"] \n",
    "df2[\"pts2\"] = df2[\"DRtg1\"] * df2[\"poss1\"]\n",
    "off_prior = df2.groupby([\"tId1\"])[[\"poss1\", \"pts1\"]].agg(\"sum\").reset_index()\n",
    "def_prior = df2.groupby([\"tId1\"])[[\"poss1\", \"pts2\"]].agg(\"sum\").reset_index()\n",
    "off_prior[\"OFF\"] = off_prior[\"pts1\"] / off_prior[\"poss1\"]\n",
    "off_prior[\"OFF\"] = off_prior[\"OFF\"].round(3)\n",
    "off_prior = off_prior[[\"tId1\", \"OFF\"]]\n",
    "def_prior[\"DEF\"] = def_prior[\"pts2\"] / def_prior[\"poss1\"]\n",
    "def_prior[\"DEF\"] = def_prior[\"DEF\"].round(3)\n",
    "def_prior = def_prior[[\"tId1\", \"DEF\"]]\n",
    "# def_prior = def_prior.rename(columns={\"tId1\":\"tId2\"})\n",
    "df2 = pd.merge(df2,off_prior, on=\"tId1\")\n",
    "df2 = pd.merge(df2,def_prior, on=\"tId1\")\n",
    "df1= pd.concat([df1,df2])\n",
    "df1[\"NET\"] = df1[\"NRtg1\"] - (df1[\"OFF\"] - df1[\"DEF\"])\n",
    "df1[\"rest_adv\"] =  df1[\"rest_diff\"]>0.2\n",
    "df1[\"rest_dadv\"] = df1[\"rest_diff\"]<-0.2"
   ]
  },
  {
   "cell_type": "code",
   "execution_count": null,
   "metadata": {},
   "outputs": [],
   "source": [
    "df2 = df1.groupby(\"tId1\")[[\"rest_adv\",\"rest_dadv\"]].agg({\"rest_adv\":[\"sum\"],\"rest_dadv\":[\"sum\"]})\n",
    "df2.columns = [\"rest_adv\",\"rest_dadv\"]\n",
    "df2 = df2.reset_index()"
   ]
  },
  {
   "cell_type": "code",
   "execution_count": null,
   "metadata": {},
   "outputs": [],
   "source": [
    "df2[\"Team\"] = df2[\"tId1\"].map(teams_dict)"
   ]
  },
  {
   "cell_type": "code",
   "execution_count": null,
   "metadata": {},
   "outputs": [],
   "source": [
    "df2.sort_values(\"rest_adv\",ascending=False)"
   ]
  },
  {
   "cell_type": "code",
   "execution_count": null,
   "metadata": {},
   "outputs": [],
   "source": [
    "i = 0\n",
    "# data.query(f\"team1 == '{teams[i]}'\").sort_values(by=[\"tId1\",\"Date\"])"
   ]
  },
  {
   "cell_type": "code",
   "execution_count": null,
   "metadata": {},
   "outputs": [],
   "source": [
    "df2 = df1.query(\"rest_diff>0\")"
   ]
  },
  {
   "cell_type": "code",
   "execution_count": null,
   "metadata": {},
   "outputs": [],
   "source": [
    "df2[\"NET\"].mean()"
   ]
  },
  {
   "cell_type": "code",
   "execution_count": null,
   "metadata": {},
   "outputs": [],
   "source": [
    "df1.columns"
   ]
  },
  {
   "cell_type": "code",
   "execution_count": null,
   "metadata": {},
   "outputs": [],
   "source": [
    "i = 1\n",
    "df3 = data.query(f\"team1 == '{teams[i]}'\").sort_values(by=[\"tId1\",\"Date\"])"
   ]
  },
  {
   "cell_type": "code",
   "execution_count": null,
   "metadata": {},
   "outputs": [],
   "source": [
    "sns.scatterplot(data=df3, x=\"Date\", y = \"rest1\")\n",
    "sns.lineplot(data=df3, x=\"Date\", y = \"rest1\")"
   ]
  },
  {
   "cell_type": "code",
   "execution_count": null,
   "metadata": {},
   "outputs": [],
   "source": [
    "sns.scatterplot(data=df3, x=\"Date\", y = \"rest_diff\")\n",
    "sns.lineplot(data=df3, x=\"Date\", y = \"rest_diff\")\n",
    "sns.lineplot(data=df3, x=\"Date\", y = 0, color = \"black\")\n",
    "sns.lineplot(data=df3, x=\"Date\", y = -0.1, linestyle = \"--\", color = \"black\")\n",
    "sns.lineplot(data=df3, x=\"Date\", y = +0.1, linestyle = \"--\", color = \"black\")"
   ]
  }
 ],
 "metadata": {
  "kernelspec": {
   "display_name": "nba-ub9Z_EQq-py3.11",
   "language": "python",
   "name": "python3"
  },
  "language_info": {
   "codemirror_mode": {
    "name": "ipython",
    "version": 3
   },
   "file_extension": ".py",
   "mimetype": "text/x-python",
   "name": "python",
   "nbconvert_exporter": "python",
   "pygments_lexer": "ipython3",
   "version": "3.11.6"
  }
 },
 "nbformat": 4,
 "nbformat_minor": 2
}
