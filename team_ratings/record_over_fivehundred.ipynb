{
 "cells": [
  {
   "cell_type": "code",
   "execution_count": null,
   "metadata": {},
   "outputs": [],
   "source": [
    "import os, sys\n",
    "\n",
    "sys.path.append(os.path.dirname(os.path.dirname(os.path.abspath(\"__file__\"))))\n",
    "from nbafuns import *\n",
    "\n",
    "# from sklearn.pipeline import make_pipeline\n",
    "# model = make_pipeline(StandardScaler(with_mean=False), _RidgeGCV())\n",
    "from nba_api.stats.endpoints import leaguedashteamstats\n",
    "\n",
    "teams_dict, teams_list = get_teams(league=\"NBA\")\n",
    "box_DIR = \"../data/box/\""
   ]
  },
  {
   "cell_type": "code",
   "execution_count": null,
   "metadata": {},
   "outputs": [],
   "source": [
    "year = 2021\n",
    "season_str = str(year) + \"-\" + str(year + 1)[-2:]"
   ]
  },
  {
   "cell_type": "code",
   "execution_count": null,
   "metadata": {},
   "outputs": [],
   "source": [
    "stats = leaguegamelog.LeagueGameLog(\n",
    "    player_or_team_abbreviation=\"T\",\n",
    "    season=year,\n",
    "    season_type_all_star=\"Regular Season\",\n",
    ")\n",
    "df1 = stats.get_data_frames()[0]\n",
    "df1[\"HOME\"] = ~df1[\"MATCHUP\"].str.contains(\"@\")\n",
    "cols = [\n",
    "    'TEAM_ID',  'TEAM_NAME', 'GAME_ID',\n",
    "    'GAME_DATE', 'MATCHUP', 'WL','HOME'\n",
    "]\n",
    "df1 = df1[cols]"
   ]
  },
  {
   "cell_type": "code",
   "execution_count": null,
   "metadata": {},
   "outputs": [],
   "source": [
    "df2 = df1.groupby(\"GAME_ID\")\n",
    "df2_1 = df2.nth(0)\n",
    "df2_2 = df2.nth(1)\n",
    "df2_3 = pd.merge(df2_1, df2_2, on=\"GAME_ID\",suffixes=[\"\",\"_1\"])\n",
    "df2_4 = df2.nth(1)\n",
    "df2_5 = df2.nth(0)\n",
    "df2_6 = pd.merge(df2_4, df2_5, on=\"GAME_ID\",suffixes=[\"\",\"_1\"])\n",
    "df3 = pd.concat([df2_3, df2_6]).sort_values(by=\"GAME_ID\").reset_index(drop=True)\n",
    "df4 = df3.query(\"TEAM_ID == 1610612755\").sort_values(\"GAME_DATE\").reset_index(drop=True)"
   ]
  },
  {
   "cell_type": "code",
   "execution_count": null,
   "metadata": {},
   "outputs": [],
   "source": [
    "stats = leaguedashteamstats.LeagueDashTeamStats(\n",
    "    per_mode_detailed=\"PerGame\",\n",
    "    season_type_all_star=\"Regular Season\",\n",
    "    season=season_str\n",
    ")\n",
    "df51 = stats.get_data_frames()[0]\n",
    "df5 = df51.query(\"W_PCT > 0.500\")\n",
    "t_500 = list(df5[\"TEAM_ID\"].unique())"
   ]
  },
  {
   "cell_type": "code",
   "execution_count": null,
   "metadata": {},
   "outputs": [],
   "source": [
    "df6 = df4[df4[\"TEAM_ID_1\"].isin(t_500)].reset_index(drop=True)\n",
    "df7 = df4[~df4[\"TEAM_ID_1\"].isin(t_500)].reset_index(drop=True)"
   ]
  },
  {
   "cell_type": "code",
   "execution_count": null,
   "metadata": {},
   "outputs": [],
   "source": [
    "stats = leaguegamelog.LeagueGameLog(\n",
    "    player_or_team_abbreviation=\"P\",\n",
    "    season=year,\n",
    "    season_type_all_star=\"Regular Season\",\n",
    ")\n",
    "df81 = stats.get_data_frames()[0]\n",
    "df8 = df81.query(\"PLAYER_ID  == 203954\").reset_index(drop=True)\n",
    "df8 = df8[[\"GAME_ID\",\"TEAM_ID\",\"PLAYER_NAME\"]]"
   ]
  },
  {
   "cell_type": "code",
   "execution_count": null,
   "metadata": {},
   "outputs": [],
   "source": [
    "df9 = pd.merge(df6,df8,on=[\"GAME_ID\",\"TEAM_ID\"],how=\"left\")\n",
    "df9[\"Status\"] = np.where(df9[\"PLAYER_NAME\"] == \"Joel Embiid\",\"Played\",\"Missed\")\n",
    "df10 = pd.merge(df7,df8,on=[\"GAME_ID\",\"TEAM_ID\"],how=\"left\")\n",
    "df10[\"Status\"] = np.where(df10[\"PLAYER_NAME\"] == \"Joel Embiid\",\"Played\",\"Missed\")\n",
    "df91 = df9[~df9[\"HOME\"]]\n",
    "df92 = df10[~df10[\"HOME\"]]\n",
    "cols = ['GAME_DATE', 'MATCHUP','Status']\n",
    "dft1 = df91[cols].reset_index(drop=True)\n",
    "dft2 = df92[cols].reset_index(drop=True)"
   ]
  },
  {
   "cell_type": "code",
   "execution_count": null,
   "metadata": {},
   "outputs": [],
   "source": [
    "%reload_ext rpy2.ipython"
   ]
  },
  {
   "cell_type": "code",
   "execution_count": null,
   "metadata": {},
   "outputs": [],
   "source": [
    "%%R -i dft1\n",
    "df <- dft1\n",
    "library(tidyverse)\n",
    "library(gt)\n",
    "library(gtExtras)\n",
    "df %>% \n",
    "  gt()%>%\n",
    "  tab_header(\n",
    "    title = md(\"**Joel Embiid Games vs Teams over 0.500 on Road**\"),\n",
    "    subtitle = md(\"**2021-22 NBA Season**\"),\n",
    "    ) %>%\n",
    "    cols_label( GAME_DATE=\"Date\", MATCHUP=\"Matchup\"\n",
    "    ) %>%\n",
    "    data_color(columns = \"Status\", palette = c(\"violet\",\"green\")) %>%\n",
    "    cols_align(align = \"center\") %>%\n",
    "    tab_options(\n",
    "        table.background.color = \"floralwhite\",\n",
    "        column_labels.font.size = 10,\n",
    "        column_labels.font.weight = 'bold',\n",
    "        row_group.font.weight = 'bold',\n",
    "        row_group.background.color = \"#E5E1D8\",\n",
    "        table.font.size = 8,\n",
    "        heading.title.font.size = 12,\n",
    "        heading.subtitle.font.size = 11,\n",
    "        table.font.names = \"Consolas\", \n",
    "        data_row.padding = px(0.5),\n",
    "        # table.margin.left = 1,\n",
    "        # table.margin.right = 1,\n",
    "\n",
    "    ) %>% \n",
    "    tab_source_note(\n",
    "    source_note = \"@SravanNBA | Source: nba.com/stats\" ) %>% gtsave(\"../figs/team_ratings/joel_road_O500.png\",zoom=5) "
   ]
  },
  {
   "cell_type": "code",
   "execution_count": null,
   "metadata": {},
   "outputs": [],
   "source": [
    "%%R -i dft2\n",
    "df <- dft2\n",
    "library(tidyverse)\n",
    "library(gt)\n",
    "library(gtExtras)\n",
    "df %>% \n",
    "  gt()%>%\n",
    "  tab_header(\n",
    "    title = md(\"**Joel Embiid Games vs Teams under 0.500 on Road**\"),\n",
    "    subtitle = md(\"**2021-22 NBA Season**\"),\n",
    "    ) %>%\n",
    "    cols_label( GAME_DATE=\"Date\", MATCHUP=\"Matchup\"\n",
    "    ) %>%\n",
    "    data_color(columns = \"Status\", palette = c(\"violet\",\"green\")) %>%\n",
    "    cols_align(align = \"center\") %>%\n",
    "    tab_options(\n",
    "        table.background.color = \"floralwhite\",\n",
    "        column_labels.font.size = 10,\n",
    "        column_labels.font.weight = 'bold',\n",
    "        row_group.font.weight = 'bold',\n",
    "        row_group.background.color = \"#E5E1D8\",\n",
    "        table.font.size = 8,\n",
    "        heading.title.font.size = 12,\n",
    "        heading.subtitle.font.size = 11,\n",
    "        table.font.names = \"Consolas\", \n",
    "        data_row.padding = px(0.5),\n",
    "        # table.margin.left = 1,\n",
    "        # table.margin.right = 1,\n",
    "\n",
    "    ) %>% \n",
    "    tab_source_note(\n",
    "    source_note = \"@SravanNBA | Source: nba.com/stats\" ) %>% gtsave(\"../figs/team_ratings/joel_road_U500.png\",zoom=5) "
   ]
  }
 ],
 "metadata": {
  "kernelspec": {
   "display_name": "nba-ub9Z_EQq-py3.11",
   "language": "python",
   "name": "python3"
  },
  "language_info": {
   "codemirror_mode": {
    "name": "ipython",
    "version": 3
   },
   "file_extension": ".py",
   "mimetype": "text/x-python",
   "name": "python",
   "nbconvert_exporter": "python",
   "pygments_lexer": "ipython3",
   "version": "3.11.6"
  }
 },
 "nbformat": 4,
 "nbformat_minor": 2
}
