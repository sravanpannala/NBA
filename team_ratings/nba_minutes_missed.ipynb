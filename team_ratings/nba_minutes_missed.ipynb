{
 "cells": [
  {
   "cell_type": "markdown",
   "metadata": {},
   "source": [
    "# Minutes Missed Due to Games Missed"
   ]
  },
  {
   "cell_type": "code",
   "execution_count": null,
   "metadata": {},
   "outputs": [],
   "source": [
    "import os, sys\n",
    "\n",
    "sys.path.append(os.path.dirname(os.path.dirname(os.path.abspath(\"__file__\"))))\n",
    "from nbafuns import *\n",
    "from nba_api.stats.endpoints import leaguedashteamstats\n",
    "\n",
    "player_dict = get_players_pbp()\n",
    "teams_dict, teams_list = get_teams()"
   ]
  },
  {
   "cell_type": "code",
   "execution_count": null,
   "metadata": {},
   "outputs": [],
   "source": [
    "%reload_ext rpy2.ipython"
   ]
  },
  {
   "cell_type": "code",
   "execution_count": null,
   "metadata": {},
   "outputs": [],
   "source": [
    "data_DIR = \"../data/boxscores_player/\"\n",
    "data_DIR1 = \"../data/injuries/\"\n",
    "data_DIR2 = \"../data/all_in_one_metrics/\"\n",
    "box_DIR = \"../data/boxscores_team/\""
   ]
  },
  {
   "cell_type": "code",
   "execution_count": null,
   "metadata": {},
   "outputs": [],
   "source": [
    "year = 2023"
   ]
  },
  {
   "cell_type": "markdown",
   "metadata": {},
   "source": [
    "# Overall Minutes Missed"
   ]
  },
  {
   "cell_type": "code",
   "execution_count": null,
   "metadata": {},
   "outputs": [],
   "source": [
    "cols = [\"PLAYER_ID\",\"PLAYER_NAME\",\"TEAM_ID\",\"TEAM_ABBREVIATION\",\"GP\",\"MIN\",\"W\",\"L\",\"W_PCT\"]\n",
    "df0 = pd.read_parquet(data_DIR +f\"NBA_Player_BoxScores_Base_{year}\"+\".parquet\", columns=cols)\n",
    "df0[\"MIN_Tot\"] = df0[\"GP\"]* df0[\"MIN\"]"
   ]
  },
  {
   "cell_type": "code",
   "execution_count": null,
   "metadata": {},
   "outputs": [],
   "source": [
    "season = str(year) + \"-\" + str(year + 1)[-2:]\n",
    "stats = leaguedashteamstats.LeagueDashTeamStats(per_mode_detailed=\"PerGame\", season_type_all_star=\"Regular Season\", season = season)\n",
    "df1_1 = stats.get_data_frames()[0]"
   ]
  },
  {
   "cell_type": "code",
   "execution_count": null,
   "metadata": {},
   "outputs": [],
   "source": [
    "cols = [\"TEAM_ID\",\"TEAM_NAME\",\"GP\",\"W\",\"L\",\"W_PCT\"]\n",
    "df1 = df1_1[cols]"
   ]
  },
  {
   "cell_type": "code",
   "execution_count": null,
   "metadata": {},
   "outputs": [],
   "source": [
    "df2 = pd.merge(df0,df1,on=\"TEAM_ID\", suffixes=[\"_P\",\"_T\"])"
   ]
  },
  {
   "cell_type": "code",
   "execution_count": null,
   "metadata": {},
   "outputs": [],
   "source": [
    "df2[\"W_D\"] = df2[\"W_T\"] - df2[\"W_P\"]\n",
    "df2[\"L_D\"] = df2[\"L_T\"] - df2[\"L_P\"]\n",
    "df2[\"W_PCT_D\"] = df2[\"W_PCT_T\"] - df2[\"W_PCT_P\"]\n",
    "df2[\"GP_D\"] = df2[\"GP_T\"] - df2[\"GP_P\"]\n",
    "df2[\"MIN_Proj\"] = df2[\"MIN\"] * df2[\"GP_T\"]\n",
    "df2[\"MIN_Miss\"] = df2[\"MIN_Proj\"]  - df2[\"MIN_Tot\"]"
   ]
  },
  {
   "cell_type": "code",
   "execution_count": null,
   "metadata": {},
   "outputs": [],
   "source": [
    "df2.query(\"MIN_Tot > 50\").nsmallest(10,\"W_PCT_D\")"
   ]
  },
  {
   "cell_type": "code",
   "execution_count": null,
   "metadata": {},
   "outputs": [],
   "source": [
    "df3 = df2.query(\"MIN_Tot > 50 & MIN > 15\")"
   ]
  },
  {
   "cell_type": "code",
   "execution_count": null,
   "metadata": {},
   "outputs": [],
   "source": [
    "df3[[\"PLAYER_NAME\",\"MIN_Miss\"]][df3[\"TEAM_ABBREVIATION\"] == 'ORL'].sort_values(\"MIN_Miss\",ascending=False)"
   ]
  },
  {
   "cell_type": "code",
   "execution_count": null,
   "metadata": {},
   "outputs": [],
   "source": [
    "df3.nlargest(10,\"MIN_Miss\")"
   ]
  },
  {
   "cell_type": "code",
   "execution_count": null,
   "metadata": {},
   "outputs": [],
   "source": [
    "df4 = df3.groupby(\"TEAM_NAME\")[[\"MIN_Miss\"]].sum().sort_values(by=\"MIN_Miss\" , ascending=False)\n",
    "df4 = df4.reset_index()\n",
    "df4.index +=1\n",
    "df4 = pd.merge(df4,df1[[\"TEAM_NAME\",\"GP\"]],on=\"TEAM_NAME\")\n",
    "df4[\"MIN_Miss_PG\"] = (df4[\"MIN_Miss\"]/df4[\"GP\"]).round(1)\n",
    "df4[\"MIN_Miss_Per\"] = (df4[\"MIN_Miss_PG\"]/240.0).round(3)\n",
    "df4.insert(4,\"MIN_Miss\",df4.pop(\"MIN_Miss\"))"
   ]
  },
  {
   "cell_type": "code",
   "execution_count": null,
   "metadata": {},
   "outputs": [],
   "source": [
    "df5 = df4.sort_values(\"MIN_Miss_PG\",ascending=False)\n",
    "df5 = df5.reset_index(drop=True)\n",
    "df5 = df5.reset_index()\n",
    "df5[\"index\"] +=1"
   ]
  },
  {
   "cell_type": "code",
   "execution_count": null,
   "metadata": {},
   "outputs": [],
   "source": [
    "df5"
   ]
  },
  {
   "cell_type": "code",
   "execution_count": null,
   "metadata": {},
   "outputs": [],
   "source": [
    "%%R -i df5\n",
    "library(tidyverse)\n",
    "library(gt)\n",
    "df <- df5\n",
    "df %>% \n",
    "  gt()%>%\n",
    "  tab_header(\n",
    "    title = md(\"**Minutes Missed Due to Injury/Suspensions etc. 2023-24**\"),\n",
    "    subtitle = \"Only Minutes of Players who have played 50 Min and averaged 15 MPG in the season are considered\"  \n",
    "    ) %>%\n",
    "    data_color(columns = c(MIN_Miss_Per), palette = c(\"green\", \"red\")) %>%\n",
    "    cols_align(align = \"center\")  %>%\n",
    "    cols_align(align = \"left\",columns = c(TEAM_NAME))  %>%\n",
    "    cols_label(\n",
    "      index = \"#\",TEAM_NAME = \"Team\", MIN_Miss_PG = \"Min Missed PG\", MIN_Miss_Per = \"Min Missed %\", MIN_Miss = \"Min Missed\"\n",
    "    ) %>%\n",
    "    fmt_percent(\n",
    "      columns = MIN_Miss_Per,\n",
    "      decimals = 1\n",
    "    ) %>%\n",
    "    tab_options(\n",
    "        table.background.color = \"floralwhite\",\n",
    "        column_labels.font.size = 12,\n",
    "        column_labels.font.weight = 'bold',\n",
    "        row_group.font.weight = 'bold',\n",
    "        row_group.background.color = \"#E5E1D8\",\n",
    "        table.font.size = 10,\n",
    "        heading.title.font.size = 18,\n",
    "        heading.subtitle.font.size = 10,\n",
    "        table.font.names = \"Consolas\", \n",
    "        data_row.padding = px(2)\n",
    "    ) %>% \n",
    "    tab_source_note(\n",
    "    source_note = \"Min Miss PG (Per Game) = Min Missed/GP (Games Played) | Min Miss % = Min Miss PG/240 Min (240=48x5)  \")  %>% \n",
    "    tab_source_note(\n",
    "    source_note = \"@SravanNBA | Source: nba.com/stats\" ) %>% gtsave(\"../figs/team_leaders/minutes_missed.png\",zoom=5) "
   ]
  },
  {
   "cell_type": "markdown",
   "metadata": {},
   "source": [
    "# Individual Game Minutes Missed"
   ]
  },
  {
   "cell_type": "code",
   "execution_count": null,
   "metadata": {},
   "outputs": [],
   "source": [
    "df11 = pd.read_parquet(data_DIR + \"NBA_Player_BoxScores_\" + \"Indv\" + \"_\" + str(year) + \".parquet\")\n",
    "df11[\"GAME_DATE\"] = pd.to_datetime(df11[\"GAME_DATE\"], format=\"%Y-%m-%d\")"
   ]
  },
  {
   "cell_type": "code",
   "execution_count": null,
   "metadata": {},
   "outputs": [],
   "source": [
    "df12 = pd.read_csv(box_DIR + f\"NBA_BoxScores_Standard_{year}.csv\")"
   ]
  },
  {
   "cell_type": "code",
   "execution_count": null,
   "metadata": {},
   "outputs": [],
   "source": [
    "games_list = list(df11[\"GAME_ID\"].unique())"
   ]
  },
  {
   "cell_type": "code",
   "execution_count": null,
   "metadata": {},
   "outputs": [],
   "source": [
    "dfinj = pd.read_parquet(data_DIR1 + f'NBA_prosptran_injuries_{year}.parquet')"
   ]
  },
  {
   "cell_type": "code",
   "execution_count": null,
   "metadata": {},
   "outputs": [],
   "source": [
    "def is_injured(player_dict,dfinj,pId_missed,game_date):\n",
    "    missed_games = np.array([False] * len(pId_missed))\n",
    "    for i,pId in enumerate(pId_missed):\n",
    "        # player = player_dict[pId]\n",
    "        df_p = dfinj.query(f'playerID == {pId}').reset_index(drop=True)\n",
    "        if len(df_p) > 0:\n",
    "            df_p[\"Comp\"] = df_p[\"Date\"] <= game_date\n",
    "            idxi = df_p[df_p[\"Comp\"]].index\n",
    "            if len(idxi) > 0:\n",
    "                idx = idxi[-1]\n",
    "                missed_game = df_p[\"Out\"].loc[idx]\n",
    "                missed_games[i] = missed_game\n",
    "    gp = missed_games*pId_missed\n",
    "    pId_m = gp[gp !=0 ]\n",
    "    list(pId_m)\n",
    "    return pId_m"
   ]
  },
  {
   "cell_type": "code",
   "execution_count": null,
   "metadata": {},
   "outputs": [],
   "source": [
    "dfma = []\n",
    "for gameId in games_list:\n",
    "    df11_g = df11.query(f\"GAME_ID == '{gameId}'\")\n",
    "    df11_gg = df11_g.groupby(by=\"TEAM_ID\")\n",
    "    keys = list(df11_gg.groups)\n",
    "    for key in keys:\n",
    "        df11_g1 = df11_gg.get_group(key)\n",
    "        team = df11_g1[\"TEAM_ID\"].unique()[0]\n",
    "        game_date = df11_g1[\"GAME_DATE\"].unique()[0]\n",
    "        players = df11_g1[\"PLAYER_ID\"].to_list()\n",
    "        players_team = df3.query(f\"TEAM_ID == {team}\")[\"PLAYER_ID\"].to_list()\n",
    "        pId_missed = np.array(list(set(players_team) - set(players))).astype(int)\n",
    "        players_missed = is_injured(player_dict,dfinj,pId_missed,game_date)\n",
    "        # players_missed = pId_missed\n",
    "        dfm1 = pd.DataFrame({\"PLAYER_ID\":players_missed})\n",
    "        dfm1[\"TEAM_ID\"] = team\n",
    "        dfm1[\"GAME_ID\"] = gameId\n",
    "        dfma.append(dfm1)\n",
    "dfm = pd.concat(dfma)\n",
    "dfm[\"PLAYER_ID\"] = dfm[\"PLAYER_ID\"].astype(int)"
   ]
  },
  {
   "cell_type": "code",
   "execution_count": null,
   "metadata": {},
   "outputs": [],
   "source": [
    "df_R = []"
   ]
  },
  {
   "cell_type": "code",
   "execution_count": null,
   "metadata": {},
   "outputs": [],
   "source": [
    "%%R -o df_R\n",
    "\n",
    "library(tidyverse)\n",
    "library(nbastatR)\n",
    "Sys.setenv(\"VROOM_CONNECTION_SIZE\" = 131072 * 2)\n",
    "\n",
    "# Advanced Leaderboards\n",
    "\n",
    "## Single Season\n",
    "\n",
    "season <- 2024\n",
    "\n",
    "df_R <- bref_players_stats(\n",
    "  seasons = season,\n",
    "  tables = \"advanced\",\n",
    "  include_all_nba = FALSE,\n",
    "  only_totals = FALSE,\n",
    "  nest_data = FALSE,\n",
    "  assign_to_environment = TRUE,\n",
    "  widen_data = TRUE,\n",
    "  join_data = TRUE,\n",
    "  return_message = TRUE\n",
    ")"
   ]
  },
  {
   "cell_type": "code",
   "execution_count": null,
   "metadata": {},
   "outputs": [],
   "source": [
    "df_bpm = df_R[[\"idPlayerNBA\",\"slugTeamBREF\",\"ratioBPM\"]].reset_index(drop=True)\n",
    "df_bpm[\"idPlayerNBA\"] = df_bpm[\"idPlayerNBA\"].astype(int)\n",
    "df_bpm.columns = [\"PLAYER_ID\",\"TEAM_ABBREVIATION\",\"BPM\"]\n",
    "df_bpm[\"BPM\"] += 2"
   ]
  },
  {
   "cell_type": "code",
   "execution_count": null,
   "metadata": {},
   "outputs": [],
   "source": [
    "dfm_b = pd.merge(dfm,df0[[\"PLAYER_ID\",\"MIN\",\"PLAYER_NAME\",\"TEAM_ABBREVIATION\"]], on=\"PLAYER_ID\")\n",
    "dfm_b = pd.merge(dfm_b,df_bpm, on=[\"PLAYER_ID\",\"TEAM_ABBREVIATION\"])\n",
    "dfm_b = dfm_b.sort_values(by=[\"GAME_ID\",\"TEAM_ID\",\"PLAYER_ID\"]).reset_index(drop=True)\n",
    "dfm_b = dfm_b[['GAME_ID','TEAM_ID','TEAM_ABBREVIATION','PLAYER_ID', 'PLAYER_NAME', 'MIN', 'BPM']]\n",
    "dfm_b[\"TEAM_NAME\"] = dfm_b[\"TEAM_ID\"].map(teams_dict)\n",
    "dfm_b[\"BPM_MIN\"] = dfm_b[\"BPM\"] * dfm_b[\"MIN\"]\n",
    "df_mis = dfm_b.groupby([\"GAME_ID\",\"TEAM_ID\",\"TEAM_NAME\"])[[\"BPM\",\"MIN\",\"BPM_MIN\"]].sum().reset_index()"
   ]
  },
  {
   "cell_type": "code",
   "execution_count": null,
   "metadata": {},
   "outputs": [],
   "source": [
    "df_mist = df_mis.groupby([\"TEAM_ID\",\"TEAM_NAME\"])[[\"BPM\",\"MIN\",\"BPM_MIN\"]].sum().reset_index()"
   ]
  },
  {
   "cell_type": "code",
   "execution_count": null,
   "metadata": {},
   "outputs": [],
   "source": [
    "df_mist1 = df_mist.drop(columns=[\"TEAM_ID\",\"BPM\",\"MIN\"]).sort_values(\"BPM_MIN\",ascending=False)\n",
    "df_mist_exp = pd.merge(df4,df_mist1,on=\"TEAM_NAME\")\n",
    "df_mist_exp = df_mist_exp.sort_values(by =\"BPM_MIN\",ascending=False).reset_index(drop=True).reset_index()\n",
    "df_mist_exp[\"index\"] +=1"
   ]
  },
  {
   "cell_type": "code",
   "execution_count": null,
   "metadata": {},
   "outputs": [],
   "source": [
    "df_mist_exp.head()"
   ]
  },
  {
   "cell_type": "code",
   "execution_count": null,
   "metadata": {},
   "outputs": [],
   "source": [
    "%%R -i df_mist_exp\n",
    "library(tidyverse)\n",
    "library(gt)\n",
    "df <- df_mist_exp\n",
    "df %>% \n",
    "  gt()%>%\n",
    "  tab_header(\n",
    "    title = md(\"**BPM Minutes Missed Due to Injury/Suspensions etc. 2023-24**\"),\n",
    "    subtitle = md(\"Only Minutes of Players who have played 50 Min and averaged 15 MPG in the season are considered\")\n",
    "    ) %>%\n",
    "    data_color(columns = c(MIN_Miss_Per), palette = c(\"green\", \"red\")) %>%\n",
    "    cols_align(align = \"center\")  %>%\n",
    "    cols_align(align = \"left\",columns = c(TEAM_NAME))  %>%\n",
    "    cols_label(\n",
    "      index = \"#\",TEAM_NAME = \"Team\", MIN_Miss_PG = \"Min Missed PG\", MIN_Miss_Per = \"Min Missed %\", MIN_Miss = \"Min Missed\", BPM_MIN = \"BPM Missed\"\n",
    "    ) %>%\n",
    "    fmt_percent(\n",
    "      columns = MIN_Miss_Per,\n",
    "      decimals = 1\n",
    "    ) %>%\n",
    "    tab_options(\n",
    "        table.background.color = \"floralwhite\",\n",
    "        column_labels.font.size = 12,\n",
    "        column_labels.font.weight = 'bold',\n",
    "        row_group.font.weight = 'bold',\n",
    "        row_group.background.color = \"#E5E1D8\",\n",
    "        table.font.size = 10,\n",
    "        heading.title.font.size = 18,\n",
    "        heading.subtitle.font.size = 10,\n",
    "        table.font.names = \"Consolas\", \n",
    "        data_row.padding = px(2)\n",
    "    ) %>% \n",
    "    tab_source_note(\n",
    "    source_note = \"Min Miss PG (Per Game) = Min Missed/GP (Games Played) | Min Miss % = Min Miss PG/240 Min (240=48x5)  \")  %>%\n",
    "    tab_source_note(\n",
    "    source_note = \"BPM Missed = BPM x Min Missed summed for all players who missed that game\")  %>% \n",
    "    tab_source_note(\n",
    "    source_note = \"and then summed over all games the team has played\")  %>% \n",
    "    tab_source_note(\n",
    "    source_note = \"@SravanNBA | Source: nba.com/stats\" ) %>% gtsave(\"../figs/team_leaders/BPM_missed_1.png\",zoom=5) "
   ]
  },
  {
   "cell_type": "code",
   "execution_count": null,
   "metadata": {},
   "outputs": [],
   "source": [
    "cols = [\"idPlayerNBA\",\"dpm\"]\n",
    "df_dpm = pd.read_csv(data_DIR2+\"NBA_DARKO_Processed.csv\", usecols=cols)\n",
    "df_dpm.columns = [\"PLAYER_ID\",\"DPM\"]"
   ]
  },
  {
   "cell_type": "code",
   "execution_count": null,
   "metadata": {},
   "outputs": [],
   "source": [
    "dfm_d = pd.merge(dfm,df_dpm, on=\"PLAYER_ID\")\n",
    "dfm_d = dfm_d.sort_values(by=[\"GAME_ID\",\"TEAM_ID\",\"PLAYER_ID\"]).reset_index(drop=True)\n",
    "dfm_d = pd.merge(dfm_d,df0[['PLAYER_ID', 'PLAYER_NAME', 'MIN']],on=\"PLAYER_ID\")\n",
    "dfm_d[\"TEAM_NAME\"] = dfm_d[\"TEAM_ID\"].map(teams_dict)\n",
    "dfm_d[\"DPM_MIN\"] = dfm_d[\"DPM\"] * dfm_d[\"MIN\"]"
   ]
  },
  {
   "cell_type": "code",
   "execution_count": null,
   "metadata": {},
   "outputs": [],
   "source": [
    "# dfm_d[ dfm_d[\"TEAM_NAME\"] == \"Philadelphia 76ers\"]"
   ]
  },
  {
   "cell_type": "code",
   "execution_count": null,
   "metadata": {},
   "outputs": [],
   "source": [
    "df_misd = dfm_d.groupby([\"GAME_ID\",\"TEAM_ID\",\"TEAM_NAME\"])[[\"DPM\",\"MIN\",\"DPM_MIN\"]].sum().reset_index()\n",
    "df_mistd = df_misd.groupby([\"TEAM_ID\",\"TEAM_NAME\"])[[\"DPM\",\"MIN\",\"DPM_MIN\"]].sum().reset_index()"
   ]
  },
  {
   "cell_type": "code",
   "execution_count": null,
   "metadata": {},
   "outputs": [],
   "source": [
    "df_mist1d = df_mistd.drop(columns=[\"TEAM_ID\",\"DPM\"]).sort_values(\"DPM_MIN\",ascending=False)\n",
    "df_mist_expd = pd.merge(df4[[\"TEAM_NAME\",\"GP\"]],df_mist1d,on=\"TEAM_NAME\")\n",
    "df_mist_expd[\"MIN_Miss_PG\"] = (df_mist_expd[\"MIN\"] / df_mist_expd[\"GP\"]).round(1)\n",
    "df_mist_expd[\"MIN_Miss_Per\"] = (df_mist_expd[\"MIN_Miss_PG\"]/240).round(3)\n",
    "df_mist_expd[\"DPM_PG\"] = (df_mist_expd[\"DPM_MIN\"] / df_mist_expd[\"MIN_Miss_PG\"] ).round(2)\n",
    "df_mist_expd[\"DPM_MIN\"] =df_mist_expd[\"DPM_MIN\"].round(1)\n",
    "df_mist_expd = df_mist_expd[[\"TEAM_NAME\",\"GP\",\"MIN_Miss_PG\",\"MIN_Miss_Per\",\"MIN\",\"DPM_MIN\"]]\n",
    "df_mist_expd = df_mist_expd.sort_values(by =\"DPM_MIN\",ascending=False).reset_index(drop=True).reset_index()\n",
    "df_mist_expd[\"index\"] +=1"
   ]
  },
  {
   "cell_type": "code",
   "execution_count": null,
   "metadata": {},
   "outputs": [],
   "source": [
    "%%R -i df_mist_expd\n",
    "library(tidyverse)\n",
    "library(gt)\n",
    "df <- df_mist_expd\n",
    "df %>% \n",
    "  gt()%>%\n",
    "  tab_header(\n",
    "    title = md(\"**DPM (DARKO) Minutes Missed Due to Injury/Suspensions etc. 2023-24**\"),\n",
    "    subtitle = md(\"Only Minutes of Players who have played 50 Min and averaged 15 MPG in the season are considered <br />Now Considering Injury Reports, so that incidents like DNP-CPs are excluded\")\n",
    "    ) %>%\n",
    "    data_color(columns = c(MIN_Miss_Per), palette = c(\"green\", \"red\")) %>%\n",
    "    cols_align(align = \"center\")  %>%\n",
    "    cols_align(align = \"left\",columns = c(TEAM_NAME))  %>%\n",
    "    cols_label(\n",
    "      index = \"#\",TEAM_NAME = \"Team\", MIN_Miss_PG = \"Min Missed PG\", MIN_Miss_Per = \"Min Missed %\", MIN = \"Min Missed\", DPM_MIN = \"DPM Missed\", \n",
    "    ) %>%\n",
    "    fmt_percent(\n",
    "      columns = MIN_Miss_Per,\n",
    "      decimals = 1\n",
    "    ) %>%\n",
    "    tab_options(\n",
    "        table.background.color = \"floralwhite\",\n",
    "        column_labels.font.size = 12,\n",
    "        column_labels.font.weight = 'bold',\n",
    "        row_group.font.weight = 'bold',\n",
    "        row_group.background.color = \"#E5E1D8\",\n",
    "        table.font.size = 10,\n",
    "        heading.title.font.size = 18,\n",
    "        heading.subtitle.font.size = 12,\n",
    "        table.font.names = \"Consolas\", \n",
    "        data_row.padding = px(2)\n",
    "    ) %>% \n",
    "    tab_source_note(\n",
    "    source_note = \"Min Miss PG (Per Game) = Min Missed/GP (Games Played) | Min Miss % = Min Miss PG/240 Min (240=48x5)  \")  %>%\n",
    "    tab_source_note(\n",
    "    source_note = \"DPM Missed = DPM x Min Missed summed for all players who missed that game and then summed over all games the team has played\")  %>% \n",
    "    tab_source_note(\n",
    "    source_note = \"@SravanNBA | Source: nba.com/stats\" ) #%>% gtsave(\"../figs/team_leaders/darko_missed.png\",zoom=5) "
   ]
  }
 ],
 "metadata": {
  "kernelspec": {
   "display_name": "nba-ub9Z_EQq-py3.11",
   "language": "python",
   "name": "python3"
  },
  "language_info": {
   "codemirror_mode": {
    "name": "ipython",
    "version": 3
   },
   "file_extension": ".py",
   "mimetype": "text/x-python",
   "name": "python",
   "nbconvert_exporter": "python",
   "pygments_lexer": "ipython3",
   "version": "3.11.6"
  }
 },
 "nbformat": 4,
 "nbformat_minor": 2
}
