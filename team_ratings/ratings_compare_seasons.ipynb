{
 "cells": [
  {
   "cell_type": "code",
   "execution_count": null,
   "metadata": {},
   "outputs": [],
   "source": [
    "from sklearn.linear_model import RidgeCV\n",
    "import os, sys\n",
    "\n",
    "sys.path.append(os.path.dirname(os.path.dirname(os.path.abspath(\"__file__\"))))\n",
    "from nbafuns import *\n",
    "\n",
    "# from sklearn.pipeline import make_pipeline\n",
    "# model = make_pipeline(StandardScaler(with_mean=False), _RidgeGCV())\n",
    "\n",
    "teams_dict, teams_list = get_teams(league=\"NBA\")\n",
    "box_DIR = \"../data/box/\"\n",
    "img_DIR_T = \"../data/images/teams/\""
   ]
  },
  {
   "cell_type": "code",
   "execution_count": null,
   "metadata": {},
   "outputs": [],
   "source": [
    "def get_ratings(season=2024,date=\"2025-05-01\"):\n",
    "    cols = [\n",
    "        \"gameId\",\n",
    "        \"teamName\",\n",
    "        \"teamId\",\n",
    "        \"offensiveRating\",\n",
    "        \"defensiveRating\",\n",
    "        \"netRating\",\n",
    "        \"possessions\",\n",
    "    ]\n",
    "    df = pd.read_parquet(box_DIR + f\"NBA_Box_T_Adv_{season}.parquet\", columns=cols)\n",
    "    cols = [\"gameId\", \"team\", \"tId\", \"ORtg\", \"DRtg\", \"NRtg\", \"poss\"]\n",
    "    df.columns = cols\n",
    "    df1 = df.groupby(\"gameId\")\n",
    "    df1_1 = df1.nth(0)\n",
    "    df1_2 = df1.nth(1)\n",
    "    df1_1.columns = [\"gameId\"] + [s + \"1\" for s in df1_1.columns if s != \"gameId\"]\n",
    "    df1_2.columns = [\"gameId\"] + [s + \"2\" for s in df1_2.columns if s != \"gameId\"]\n",
    "    df1_3 = pd.merge(df1_1, df1_2, on=\"gameId\")\n",
    "    df1_4 = df1.nth(1)\n",
    "    df1_5 = df1.nth(0)\n",
    "    df1_4.columns = [\"gameId\"] + [s + \"1\" for s in df1_4.columns if s != \"gameId\"]\n",
    "    df1_5.columns = [\"gameId\"] + [s + \"2\" for s in df1_5.columns if s != \"gameId\"]\n",
    "    df1_6 = pd.merge(df1_4, df1_5, on=\"gameId\")\n",
    "    df2 = pd.concat([df1_3, df1_6]).sort_values(by=\"gameId\").reset_index(drop=True)\n",
    "    data1 = df2.copy()\n",
    "    df10 = pd.read_parquet(box_DIR + f\"NBA_Box_T_Base_{season}.parquet\")\n",
    "    df10[\"GAME_DATE\"] = pd.to_datetime(df10[\"GAME_DATE\"])\n",
    "    df10 = df10.query(f\"GAME_DATE < '{date}'\").reset_index(drop=True)\n",
    "    df10[\"HOME\"] = ~df10[\"MATCHUP\"].str.contains(\"@\")\n",
    "    df10[\"tId1\"] = df10[\"TEAM_ID\"]\n",
    "    df10[\"gameId\"] = df10[\"GAME_ID\"]\n",
    "    df10[\"date\"] = df10[\"GAME_DATE\"]\n",
    "    df11 = (\n",
    "        df10[[\"gameId\", \"tId1\", \"HOME\",\"date\"]].sort_values(by=\"date\").reset_index(drop=True)\n",
    "    )\n",
    "    df11[[\"gameId\", \"tId1\"]] = df11[[\"gameId\", \"tId1\"]].astype(int)\n",
    "    data = pd.merge(data1, df11,how=\"right\")\n",
    "\n",
    "    return data"
   ]
  },
  {
   "cell_type": "code",
   "execution_count": null,
   "metadata": {},
   "outputs": [],
   "source": [
    "def process_results(data):\n",
    "    data[\"pts1\"] = data[\"ORtg1\"] * data[\"poss1\"]\n",
    "    data[\"pts2\"] = data[\"DRtg1\"] * data[\"poss1\"]\n",
    "    off_prior = data.groupby([\"tId1\"])[[\"poss1\", \"pts1\"]].agg(\"sum\").reset_index()\n",
    "    def_prior = data.groupby([\"tId1\"])[[\"poss1\", \"pts2\"]].agg(\"sum\").reset_index()\n",
    "    off_prior[\"OFF\"] = off_prior[\"pts1\"] / off_prior[\"poss1\"]\n",
    "    off_prior = off_prior[[\"tId1\", \"OFF\"]]\n",
    "    def_prior[\"DEF\"] = def_prior[\"pts2\"] / def_prior[\"poss1\"]\n",
    "    def_prior = def_prior[[\"tId1\", \"DEF\"]]\n",
    "    results_net = pd.merge(off_prior, def_prior, on=[\"tId1\"])\n",
    "    results_net[\"NET\"] = results_net[\"OFF\"] - results_net[\"DEF\"]\n",
    "    results_net.rename(columns={\"tId1\": \"tId\"}, inplace=True)\n",
    "    results_net = results_net.astype(float).round(2)\n",
    "    results_net[\"tId\"] = results_net[\"tId\"].astype(int)\n",
    "    ortg_mean = data[\"pts1\"].sum() / data[\"poss1\"].sum()\n",
    "    drtg_mean = data[\"pts2\"].sum() / data[\"poss1\"].sum()\n",
    "    results_net[\"Team\"] = results_net[\"tId\"].map(teams_dict)\n",
    "    results_net.iloc[:, 1:] = results_net.iloc[:, 1:].round(1)\n",
    "    results = results_net[\n",
    "        [\"Team\", \"OFF\", \"DEF\",  \"NET\",]\n",
    "    ]\n",
    "    return results"
   ]
  },
  {
   "cell_type": "code",
   "execution_count": null,
   "metadata": {},
   "outputs": [],
   "source": [
    "d23 = get_ratings(season=2023,date=\"2024-02-20\")\n",
    "d24 = get_ratings(season=2024,date=\"2025-02-20\")"
   ]
  },
  {
   "cell_type": "code",
   "execution_count": null,
   "metadata": {},
   "outputs": [],
   "source": [
    "r23 = process_results(d23)\n",
    "r24 = process_results(d24)"
   ]
  },
  {
   "cell_type": "code",
   "execution_count": null,
   "metadata": {},
   "outputs": [],
   "source": [
    "dm = pd.merge(r23,r24,on=\"Team\",suffixes=[\"_23\",\"_24\"])\n",
    "dm[\"OFF_23_R\"] = dm[\"OFF_23\"].rank(ascending=False  ,method=\"first\").astype(int)\n",
    "dm[\"DEF_23_R\"] = dm[\"DEF_23\"].rank(ascending=True   ,method=\"first\").astype(int)\n",
    "dm[\"NET_23_R\"] = dm[\"NET_23\"].rank(ascending=False  ,method=\"first\").astype(int)\n",
    "dm[\"OFF_24_R\"] = dm[\"OFF_24\"].rank(ascending=False,method=\"first\").astype(int)\n",
    "dm[\"DEF_24_R\"] = dm[\"DEF_24\"].rank(ascending=True ,method=\"first\").astype(int)\n",
    "dm[\"NET_24_R\"] = dm[\"NET_24\"].rank(ascending=False,method=\"first\").astype(int)"
   ]
  },
  {
   "cell_type": "code",
   "execution_count": null,
   "metadata": {},
   "outputs": [],
   "source": [
    "df_teams = pd.read_csv(\"../data/NBA_teams_colors_logos.csv\")\n",
    "df_teams = df_teams.rename(columns={\"nameTeam\": \"Team\"})\n",
    "results_plot = pd.merge(dm, df_teams)\n",
    "results_plot[\"image\"] = img_DIR_T + results_plot[\"Team\"] + \".png\""
   ]
  },
  {
   "cell_type": "code",
   "execution_count": null,
   "metadata": {},
   "outputs": [],
   "source": [
    "black1 = '#252525'\n",
    "black2 = '#222222'"
   ]
  },
  {
   "cell_type": "code",
   "execution_count": null,
   "metadata": {},
   "outputs": [],
   "source": [
    "p = (ggplot(results_plot)\n",
    "    + geom_text(aes(1, 'NET_23_R', label='Team' ), nudge_x=-0.05, ha='right', size=10, color=black1)\n",
    "    + geom_text(aes(2, 'NET_24_R', label='Team'), nudge_x=0.05, ha='left', size=10, color=black1)\n",
    "    + geom_point(aes(1, 'NET_23_R', color='colorsTeam'), size=2.5, alpha=.7,show_legend=False)\n",
    "    + geom_point(aes(2, 'NET_24_R', color='colorsTeam'), size=2.5, alpha=.7,show_legend=False)\n",
    "    + geom_segment(aes(x=1, y='NET_23_R', xend=2, yend='NET_24_R', color='colorsTeam'), alpha=.7, size=2,show_legend=False)\n",
    "    + annotate('text', x=0.8, y=0, label='2023', size=11, color=black1)\n",
    "    + annotate('text', x=2.2, y=0, label='2024', size=11, color=black1)\n",
    "    + lims(x=(0.35, 2.65))\n",
    "    + scale_y_reverse(breaks=np.arange(1,31,1))\n",
    "    + scale_color_identity(aesthetics=[\"color\"])\n",
    "    + theme_idv\n",
    "    + theme(figure_size=(8, 11))\n",
    "    + theme(\n",
    "        axis_title_x = element_blank(),\n",
    "        axis_text_x = element_blank(),\n",
    "        plot_title=element_text(face=\"bold\", size=20),\n",
    "    )\n",
    "    + labs(\n",
    "            title=f\"Net Ratings as of 20th February: 2024 vs 2025\",\n",
    "            # subtitle = \"Last 10 games only\",\n",
    "            y=f\"Net Rating\",\n",
    "    )\n",
    "    + pnba\n",
    ")\n",
    "# p.save(\"../figs/teams/ratings_compare_season.png\", dpi=300, verbose = False)\n",
    "p"
   ]
  },
  {
   "cell_type": "code",
   "execution_count": null,
   "metadata": {},
   "outputs": [],
   "source": [
    "p = (ggplot(results_plot)\n",
    " + geom_text(aes(1, 'NET_23_R', label='Team' ), nudge_x=-0.05, ha='right', size=12, color=black1)\n",
    " + geom_text(aes(2, 'NET_24_R', label='Team'), nudge_x=0.05, ha='left', size=12, color=black1)\n",
    " + geom_point(aes(1, 'NET_23_R', color='colorsTeam'), size=2.5, alpha=.7)\n",
    " + geom_point(aes(2, 'NET_24_R', color='colorsTeam'), size=2.5, alpha=.7)\n",
    " + geom_segment(aes(x=1, y='NET_23_R', xend=2, yend='NET_24_R', color='colorsTeam'), alpha=.7, size=2)\n",
    " + geom_image(aes(x=0.4, y='NET_23_R',image=\"image\"),size=0.05)\n",
    " + geom_image(aes(x=2.6, y='NET_24_R',image=\"image\"),size=0.05)\n",
    " + annotate('text', x=0.8, y=0, label='2024', size=16, color=black1)\n",
    " + annotate('text', x=2.2, y=0, label='2025', size=16, color=black1)\n",
    " + lims(x=(0.35, 2.65))\n",
    " + scale_y_reverse(breaks=np.arange(1,31,1))\n",
    " + scale_color_identity(aesthetics=[\"color\"],guide=None )\n",
    " + theme_idv\n",
    " + theme(figure_size=(10, 10))\n",
    " + theme(\n",
    "     axis_title_x = element_blank(),\n",
    "     axis_text_x = element_blank(),\n",
    "     plot_title=element_text(face=\"bold\", size=24),\n",
    "     plot_subtitle=element_text(size=18),\n",
    "     panel_border=element_blank(),\n",
    "     axis_ticks=element_blank(),\n",
    " )\n",
    " + labs(\n",
    "        title=f\"Net Ratings Ranks on 20th Feb: 2024 vs 2025\",\n",
    "        # caption=\"bsky:@sradjoker.cc | x:@sradjoker | source:nba.com/stats\",\n",
    "        y=f\"Net Rating Rank\",\n",
    " )\n",
    " + pnba\n",
    ")\n",
    "p.save(\"../figs/teams/ratings_compare_season.png\", dpi=300, verbose = False)\n",
    "\n",
    "p"
   ]
  }
 ],
 "metadata": {
  "kernelspec": {
   "display_name": "dav-ub9Z_EQq-py3.12",
   "language": "python",
   "name": "python3"
  },
  "language_info": {
   "codemirror_mode": {
    "name": "ipython",
    "version": 3
   },
   "file_extension": ".py",
   "mimetype": "text/x-python",
   "name": "python",
   "nbconvert_exporter": "python",
   "pygments_lexer": "ipython3",
   "version": "3.12.0"
  }
 },
 "nbformat": 4,
 "nbformat_minor": 2
}
