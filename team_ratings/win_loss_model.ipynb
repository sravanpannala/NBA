{
 "cells": [
  {
   "cell_type": "code",
   "execution_count": null,
   "metadata": {},
   "outputs": [],
   "source": [
    "import os, sys\n",
    "\n",
    "sys.path.append(os.path.dirname(os.path.dirname(os.path.abspath(\"__file__\"))))\n",
    "from nbafuns import *\n",
    "from sklearn.linear_model import RidgeCV\n",
    "from sklearn.linear_model import LinearRegression\n",
    "\n",
    "fig_DIR = \"../figs/team_leaders/\"\n",
    "box_DIR = \"../data/boxscores_team/\""
   ]
  },
  {
   "cell_type": "code",
   "execution_count": null,
   "metadata": {},
   "outputs": [],
   "source": [
    "def rolling_val(df, val):\n",
    "    df[\"r\" + val] = (\n",
    "        df.apply(lambda x: x[val] * x[\"poss\"], axis=1).cumsum() / df[\"tposs\"]\n",
    "    )\n",
    "    return df"
   ]
  },
  {
   "cell_type": "code",
   "execution_count": null,
   "metadata": {},
   "outputs": [],
   "source": [
    "def get_rolling_ratings(season=2023, remove_games_start=0, remove_games_end=0):\n",
    "    df1 = pd.read_csv(box_DIR + f\"NBA_BoxScores_Adv_{season}.csv\")\n",
    "    df1 = df1.rename(\n",
    "        columns={\n",
    "            \"offensiveRating\": \"ORtg\",\n",
    "            \"defensiveRating\": \"DRtg\",\n",
    "            \"netRating\": \"NRtg\",\n",
    "            \"possessions\": \"poss\",\n",
    "        }\n",
    "    )\n",
    "    cols = [\"gameId\", \"teamId\", \"ORtg\", \"DRtg\", \"NRtg\", \"poss\"]\n",
    "    df1 = df1[cols]\n",
    "    df1[\"Win\"] = df1[\"NRtg\"] > 0\n",
    "    df1[\"Loss\"] = df1[\"NRtg\"] < 0\n",
    "    df2 = pd.read_csv(box_DIR + f\"NBA_BoxScores_Standard_{season}.csv\")\n",
    "    df2 = df2.rename(\n",
    "        columns={\n",
    "            \"GAME_ID\": \"gameId\",\n",
    "            \"TEAM_ID\": \"teamId\",\n",
    "            \"TEAM_ABBREVIATION\": \"teamTricode\",\n",
    "            \"GAME_DATE\": \"gameDate\",\n",
    "            \"TEAM_NAME\": \"teamName\",\n",
    "        }\n",
    "    )\n",
    "    cols2 = [\"gameId\", \"teamId\", \"teamTricode\", \"gameDate\"]\n",
    "    df2 = df2[cols2]\n",
    "    df2[\"gameId\"] = df2[\"gameId\"].astype(int)\n",
    "    df33 = pd.read_csv(box_DIR + f\"NBA_BoxScores_4Factor_{season}.csv\")\n",
    "    df33 = df33.rename(\n",
    "        columns={\n",
    "            \"effectiveFieldGoalPercentage\": \"eFG1\",\n",
    "            \"freeThrowAttemptRate\": \"FTA1\",\n",
    "            \"teamTurnoverPercentage\": \"TOV1\",\n",
    "            \"offensiveReboundPercentage\": \"OREB1\",\n",
    "            \"oppEffectiveFieldGoalPercentage\": \"eFG2\",\n",
    "            \"oppFreeThrowAttemptRate\": \"FTA2\",\n",
    "            \"oppTeamTurnoverPercentage\": \"TOV2\",\n",
    "            \"oppOffensiveReboundPercentage\": \"OREB2\",\n",
    "        }\n",
    "    )\n",
    "    cols3 = [\n",
    "        \"gameId\",\n",
    "        \"teamId\",\n",
    "        \"eFG1\",\n",
    "        \"FTA1\",\n",
    "        \"TOV1\",\n",
    "        \"OREB1\",\n",
    "        \"eFG2\",\n",
    "        \"FTA2\",\n",
    "        \"TOV2\",\n",
    "        \"OREB2\",\n",
    "    ]\n",
    "    df33 = df33[cols3]\n",
    "    df32 = pd.merge(df2, df1, on=[\"gameId\", \"teamId\"])\n",
    "    df3 = pd.merge(df32, df33, on=[\"gameId\", \"teamId\"])\n",
    "    df4 = df3.sort_values(by=[\"teamTricode\", \"gameDate\"]).reset_index(drop=True)\n",
    "    df6 = df3.sort_values(by=[\"gameDate\"]).reset_index(drop=True)\n",
    "    teams = df6[\"teamTricode\"].unique()\n",
    "\n",
    "    dfa = []\n",
    "    dfa2 = []\n",
    "    for team in teams:\n",
    "        df5 = df4[df4[\"teamTricode\"] == team].reset_index(drop=True)\n",
    "        df5[\"tposs\"] = df5[\"poss\"].cumsum()\n",
    "        vals = [\n",
    "            \"ORtg\",\n",
    "            \"DRtg\",\n",
    "            \"eFG1\",\n",
    "            \"FTA1\",\n",
    "            \"TOV1\",\n",
    "            \"OREB1\",\n",
    "            \"eFG2\",\n",
    "            \"FTA2\",\n",
    "            \"TOV2\",\n",
    "            \"OREB2\",\n",
    "        ]\n",
    "\n",
    "        for val in vals:\n",
    "            df5 = rolling_val(df5, val)\n",
    "        df5[\"rNRtg\"] = df5[\"rORtg\"] - df5[\"rDRtg\"]\n",
    "        df5[\"Wins\"] = df5[\"Win\"].cumsum()\n",
    "        df5[\"Losses\"] = df5[\"Loss\"].cumsum()\n",
    "        df5[\"Games_Played\"] = df5[\"Wins\"] + df5[\"Losses\"]\n",
    "        df5[\"Win_Frac\"] = df5[\"Wins\"] / df5[\"Games_Played\"]\n",
    "        df5[\"Rem_Wins\"] = df5[\"Wins\"].iloc[-1] - df5[\"Wins\"]\n",
    "        df5[\"Rem_Losses\"] = df5[\"Losses\"].iloc[-1] - df5[\"Losses\"]\n",
    "        df5[\"Rem_Games\"] = df5[\"Games_Played\"].iloc[-1] - df5[\"Games_Played\"]\n",
    "        df5[\"Rem_Win_Frac\"] = df5[\"Rem_Wins\"] / df5[\"Rem_Games\"]\n",
    "        rvals = [\"r\" + val for val in vals]\n",
    "        for val in rvals:\n",
    "            df5[val] = df5[val].round(3)\n",
    "        df5[\"rNRtg\"] = df5[\"rNRtg\"].round(3)\n",
    "        df5[\"Win_Frac\"] = df5[\"Win_Frac\"].round(4)\n",
    "        df5[\"Rem_Win_Frac\"] = df5[\"Rem_Win_Frac\"].round(4)\n",
    "        df5[\"Win_Percent\"] = 100 * df5[\"Win_Frac\"]\n",
    "        df5[\"Rem_Win_Percent\"] = 100 * df5[\"Rem_Win_Frac\"]\n",
    "        df7 = df5.tail(1)\n",
    "        df5 = df5.reset_index(drop=True)\n",
    "        dfa.append(df5)\n",
    "        dfa2.append(df7)\n",
    "    data = pd.concat(dfa)\n",
    "    dataf = pd.concat(dfa2)\n",
    "    data[\"Team\"] = data[\"teamTricode\"]\n",
    "    dataf[\"Team\"] = dataf[\"teamTricode\"]\n",
    "    data = data.rename(columns={\"gameDate\": \"Date\"})\n",
    "    dataf = dataf.rename(columns={\"gameDate\": \"Date\"})\n",
    "\n",
    "    return data, dataf"
   ]
  },
  {
   "cell_type": "markdown",
   "metadata": {},
   "source": [
    "# Win % vs Net Rating Relation"
   ]
  },
  {
   "cell_type": "code",
   "execution_count": null,
   "metadata": {},
   "outputs": [],
   "source": [
    "dfa1, dfa2 = [], []\n",
    "for season in range(2010, 2023):\n",
    "    df1, df2 = get_rolling_ratings(season, remove_games_start=5)\n",
    "    dfa1.append(df1)\n",
    "    dfa2.append(df2)\n",
    "data1 = pd.concat(dfa1)\n",
    "datafin = pd.concat(dfa2)"
   ]
  },
  {
   "cell_type": "code",
   "execution_count": null,
   "metadata": {},
   "outputs": [],
   "source": [
    "data = data1[(data1[\"Win_Frac\"] > 0) & (data1[\"Win_Frac\"] < 1)]\n",
    "data = data[data[\"Games_Played\"] > 5].reset_index(drop=True)"
   ]
  },
  {
   "cell_type": "code",
   "execution_count": null,
   "metadata": {},
   "outputs": [],
   "source": [
    "var1 = \"rNRtg\"\n",
    "var2 = \"Win_Percent\"\n",
    "var3 = \"Win_Frac\"\n",
    "slope, intercept, r, p, sterr = scipy.stats.linregress(x=data[var1], y=data[var3])\n",
    "mfit = slope\n",
    "cfit = intercept\n",
    "slope0, intercept0, r0, p0, sterr0 = scipy.stats.linregress(\n",
    "    x=datafin[var1], y=datafin[var3]\n",
    ")\n",
    "R2 = r**2\n",
    "fig, ax = plt.subplots(1, 1)\n",
    "ax.vlines(x=0, ymin=0, ymax=100, color=\"k\", linestyles=\"--\")\n",
    "ax.hlines(y=50, xmin=-15, xmax=15, color=\"k\", linestyles=\"--\")\n",
    "sns.regplot(\n",
    "    x=var1, y=var2, data=data, color=\"black\", scatter_kws={\"color\": \"tab:blue\"}, ax=ax\n",
    ")\n",
    "sns.scatterplot(x=var1, y=var2, data=datafin, color=\"red\", ax=ax)\n",
    "ax.text(0.05, 0.90, r\"$r^2=$\" + f\"{round(R2,4)}\", transform=ax.transAxes)\n",
    "ax.set_title(\n",
    "    \"Rolling Net Rating vs Win Percent for 2010-23\", fontsize=14, fontweight=\"bold\"\n",
    ")\n",
    "ax.set_xlabel(\"Rolling Net Rating\")\n",
    "ax.set_ylabel(\"Win Percent [%]\")\n",
    "plt.savefig(\"../figs/team_leaders/NET_WinLoss_R2.png\")\n",
    "plt.show()"
   ]
  },
  {
   "cell_type": "code",
   "execution_count": null,
   "metadata": {},
   "outputs": [],
   "source": [
    "data[\"Win_Frac_Pred\"] = cfit + mfit * data[\"rNRtg\"]\n",
    "data[\"Wins_Pred\"] = data[\"Win_Frac_Pred\"] * data[\"Games_Played\"]\n",
    "data[\"Wins_Pred\"] = data[\"Wins_Pred\"].round().astype(int)\n",
    "data[\"Losses_Pred\"] = data[\"Games_Played\"] - data[\"Wins_Pred\"]"
   ]
  },
  {
   "cell_type": "code",
   "execution_count": null,
   "metadata": {},
   "outputs": [],
   "source": [
    "datafin[\"Win_Frac_Pred\"] = cfit + mfit * datafin[\"rNRtg\"]\n",
    "datafin[\"Wins_Pred\"] = datafin[\"Win_Frac_Pred\"] * datafin[\"Games_Played\"]\n",
    "datafin[\"Wins_Pred\"] = datafin[\"Wins_Pred\"].round().astype(int)\n",
    "datafin[\"Losses_Pred\"] = datafin[\"Games_Played\"] - datafin[\"Wins_Pred\"]"
   ]
  },
  {
   "cell_type": "code",
   "execution_count": null,
   "metadata": {},
   "outputs": [],
   "source": [
    "# dataf[[\"Games_Played\",\"rNRtg\",\"Wins\",\"Wins_Pred\",\"Losses\",\"Losses_Pred\"]]"
   ]
  },
  {
   "cell_type": "code",
   "execution_count": null,
   "metadata": {},
   "outputs": [],
   "source": [
    "fig, ax = plt.subplots(1, 1)\n",
    "var1 = \"Wins\"\n",
    "var2 = \"Wins_Pred\"\n",
    "slope, intercept, r, p, sterr = scipy.stats.linregress(x=datafin[var1], y=datafin[var2])\n",
    "R2 = r**2\n",
    "sns.regplot(\n",
    "    x=var1, y=var2, data=datafin, color=\"black\", scatter_kws={\"color\": \"tab:red\"}, ax=ax\n",
    ")\n",
    "ax.text(0.05, 0.90, r\"$r^2=$\" + f\"{round(R2,4)}\", transform=ax.transAxes)\n",
    "ax.set_title(\"Wins vs Predicted Wins\", fontsize=14, fontweight=\"bold\")\n",
    "ax.set_xlabel(\"Wins\")\n",
    "ax.set_ylabel(\"xWins\")\n",
    "plt.savefig(\"../figs/team_leaders/simple_win_model.png\")\n",
    "plt.show()"
   ]
  },
  {
   "cell_type": "code",
   "execution_count": null,
   "metadata": {},
   "outputs": [],
   "source": [
    "season = \"2023\"\n",
    "dfc, dfcf = get_rolling_ratings(season)\n",
    "dfcf[\"Win_Frac_Pred\"] = cfit + mfit * dfcf[\"rNRtg\"]\n",
    "dfcf[\"Wins_Pred\"] = dfcf[\"Win_Frac_Pred\"] * dfcf[\"Games_Played\"]\n",
    "dfcf[\"Wins_Pred\"] = dfcf[\"Wins_Pred\"].round().astype(int)\n",
    "dfcf[\"Losses_Pred\"] = dfcf[\"Games_Played\"] - dfcf[\"Wins_Pred\"]"
   ]
  },
  {
   "cell_type": "code",
   "execution_count": null,
   "metadata": {},
   "outputs": [],
   "source": [
    "# dfcf[[\"Games_Played\",\"rNRtg\",\"Wins\",\"Wins_Pred\",\"Losses\",\"Losses_Pred\"]]"
   ]
  },
  {
   "cell_type": "code",
   "execution_count": null,
   "metadata": {},
   "outputs": [],
   "source": [
    "import seaborn.objects as snso"
   ]
  },
  {
   "cell_type": "code",
   "execution_count": null,
   "metadata": {},
   "outputs": [],
   "source": [
    "dfcf = dfcf.reset_index(drop=True)"
   ]
  },
  {
   "cell_type": "code",
   "execution_count": null,
   "metadata": {},
   "outputs": [],
   "source": [
    "fig, ax = plt.subplots(1, 1)\n",
    "var1 = \"Wins\"\n",
    "var2 = \"Wins_Pred\"\n",
    "slope, intercept, r, p, sterr = scipy.stats.linregress(x=dfcf[var1], y=dfcf[var2])\n",
    "R2 = r**2\n",
    "sns.regplot(\n",
    "    x=var1, y=var2, data=dfcf, color=\"black\", scatter_kws={\"color\": \"red\"}, ax=ax\n",
    ")\n",
    "ax.text(0.05, 0.90, r\"$r^2=$\" + f\"{round(R2,4)}\", transform=ax.transAxes)\n",
    "p = snso.Plot(data=dfcf, x=var1, y=var2, text=\"Team\").add(snso.Text(valign=\"bottom\"))\n",
    "p.on(ax).show()\n",
    "ax.set_title(\"Wins vs Predicted Wins 2023-24\", fontsize=14, fontweight=\"bold\")\n",
    "ax.set_xlabel(\"Wins\")\n",
    "ax.set_ylabel(\"xWins\")\n",
    "ax.set_ylim([1, 14])\n",
    "fig.savefig(\"../figs/team_leaders/simple_win_model_2023.png\")\n",
    "plt.show()"
   ]
  },
  {
   "cell_type": "markdown",
   "metadata": {},
   "source": [
    "# Modeling Remaining Wins"
   ]
  },
  {
   "cell_type": "code",
   "execution_count": null,
   "metadata": {},
   "outputs": [],
   "source": [
    "dfa1, dfa2 = [], []\n",
    "for season in range(2010, 2023):\n",
    "    df1, df2 = get_rolling_ratings(season)\n",
    "    dfa1.append(df1)\n",
    "    dfa2.append(df2)\n",
    "data1 = pd.concat(dfa1)\n",
    "datafin = pd.concat(dfa2)\n",
    "data1 = data1.dropna()"
   ]
  },
  {
   "cell_type": "code",
   "execution_count": null,
   "metadata": {},
   "outputs": [],
   "source": [
    "len(data1)"
   ]
  },
  {
   "cell_type": "code",
   "execution_count": null,
   "metadata": {},
   "outputs": [],
   "source": [
    "min_games_played = 10\n",
    "min_games_remaining = 5\n",
    "data = data1[(data1[\"Win_Frac\"] > 0) & (data1[\"Win_Frac\"] < 1)]\n",
    "data = data[(data[\"Rem_Win_Frac\"] > 0) & (data[\"Rem_Win_Frac\"] < 1)]\n",
    "print(len(data))\n",
    "data = data[\n",
    "    (data[\"Games_Played\"] > min_games_played)\n",
    "    & (data[\"Rem_Games\"] > min_games_remaining)\n",
    "].reset_index(drop=True)\n",
    "print(len(data))"
   ]
  },
  {
   "cell_type": "code",
   "execution_count": null,
   "metadata": {},
   "outputs": [],
   "source": [
    "var1 = \"rNRtg\"\n",
    "var1 = \"Win_Percent\"\n",
    "var2 = \"Rem_Win_Percent\"\n",
    "slope, intercept, r, p, sterr = scipy.stats.linregress(x=data[var1], y=data[var2])\n",
    "mfit = slope\n",
    "cfit = intercept\n",
    "slope0, intercept0, r0, p0, sterr0 = scipy.stats.linregress(\n",
    "    x=datafin[var1], y=datafin[var2]\n",
    ")\n",
    "R2 = r**2\n",
    "fig, ax = plt.subplots(1, 1)\n",
    "# ax.vlines(x=0,ymin=0,ymax=100,color=\"k\",linestyles=\"--\")\n",
    "# ax.hlines(y=50,xmin=-15,xmax=15,color=\"k\",linestyles=\"--\")\n",
    "sns.regplot(\n",
    "    x=var1, y=var2, data=data, color=\"black\", scatter_kws={\"color\": \"tab:blue\"}, ax=ax\n",
    ")\n",
    "sns.scatterplot(x=var1, y=var2, data=datafin, color=\"red\", ax=ax)\n",
    "ax.text(0.05, 0.90, r\"$r^2=$\" + f\"{round(R2,4)}\", transform=ax.transAxes)\n",
    "\n",
    "ax.set_title(\n",
    "    \"Current Win Percent vs Remaining Win Percent for 2010-23\",\n",
    "    fontsize=14,\n",
    "    fontweight=\"bold\",\n",
    ")\n",
    "ax.set_xlabel(\"Current Win Percent [%]\")\n",
    "ax.set_ylabel(\"Remaining Win Percent [%]\")\n",
    "plt.savefig(\"../figs/team_ratings/WinLoss_Rem_WinLoss_R2.png\", dpi=300)\n",
    "plt.show()"
   ]
  },
  {
   "cell_type": "code",
   "execution_count": null,
   "metadata": {},
   "outputs": [],
   "source": [
    "data[\"nrNRtg\"] = data[\"rNRtg\"] / 10"
   ]
  },
  {
   "cell_type": "code",
   "execution_count": null,
   "metadata": {},
   "outputs": [],
   "source": [
    "X_t = data[\n",
    "    [\"reFG1\", \"rTOV1\", \"rOREB1\", \"rFTA1\", \"reFG2\", \"rTOV2\", \"rOREB2\", \"rFTA2\"]\n",
    "].to_numpy()\n",
    "\n",
    "y_t = data[\"Rem_Win_Frac\"].to_numpy()"
   ]
  },
  {
   "cell_type": "code",
   "execution_count": null,
   "metadata": {},
   "outputs": [],
   "source": [
    "reg = LinearRegression(fit_intercept=True)\n",
    "# reg = RidgeCV(alphas=alphas, cv=10, fit_intercept=False)\n",
    "model = reg.fit(X_t, y_t)\n",
    "y_pf = reg.predict(X_t)\n",
    "coef = model.coef_\n",
    "print(model.coef_)\n",
    "# print(model.alpha_)"
   ]
  },
  {
   "cell_type": "code",
   "execution_count": null,
   "metadata": {},
   "outputs": [],
   "source": [
    "y_p = y_t\n",
    "slope, intercept, r, p, sterr = scipy.stats.linregress(x=y_p, y=y_pf)\n",
    "r2 = r**2\n",
    "fig, ax = plt.subplots(1, 1)\n",
    "fig = sns.regplot(\n",
    "    x=y_p, y=y_pf, color=\"black\", scatter_kws={\"color\": \"tab:blue\"}, ax=ax\n",
    ")\n",
    "# fig = sns.regplot(x = y, y = y_pred,ax=ax)\n",
    "ax.text(0.05, 0.9, r\"$r^2=$\" + f\"{round(r2,4)}\", transform=ax.transAxes)\n",
    "plt.show()"
   ]
  }
 ],
 "metadata": {
  "kernelspec": {
   "display_name": "nba-ub9Z_EQq-py3.11",
   "language": "python",
   "name": "python3"
  },
  "language_info": {
   "codemirror_mode": {
    "name": "ipython",
    "version": 3
   },
   "file_extension": ".py",
   "mimetype": "text/x-python",
   "name": "python",
   "nbconvert_exporter": "python",
   "pygments_lexer": "ipython3",
   "version": "3.11.6"
  }
 },
 "nbformat": 4,
 "nbformat_minor": 2
}
