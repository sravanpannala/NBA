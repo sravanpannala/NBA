{
 "cells": [
  {
   "cell_type": "markdown",
   "metadata": {},
   "source": [
    "# Plot Team Ratings Rankings Movement (Adj vs UnAdj)"
   ]
  },
  {
   "cell_type": "code",
   "execution_count": null,
   "metadata": {},
   "outputs": [],
   "source": [
    "import os, sys\n",
    "\n",
    "sys.path.append(os.path.dirname(os.path.dirname(os.path.abspath(\"__file__\"))))\n",
    "from nbafuns import *\n",
    "data_DIR = \"../data/misc/\"\n",
    "box_DIR = \"../data/box/\"\n",
    "img_DIR_T = \"../data/images/teams/\"\n",
    "df_teams = pd.read_csv(\"../data/NBA_teams_colors_logos.csv\")\n",
    "df_teams = df_teams.rename(columns={\"teamTricode\": \"Team\"})"
   ]
  },
  {
   "cell_type": "markdown",
   "metadata": {},
   "source": [
    "## Luck Adjusted Ratings"
   ]
  },
  {
   "cell_type": "code",
   "execution_count": null,
   "metadata": {},
   "outputs": [],
   "source": [
    "data = pd.read_csv(data_DIR + \"nateluckadjustedratings.csv\")"
   ]
  },
  {
   "cell_type": "code",
   "execution_count": null,
   "metadata": {},
   "outputs": [],
   "source": [
    "data[\"OFF_R\"] = data[\"ORtg\"].rank(ascending=False  ,method=\"first\").astype(int)\n",
    "data[\"DEF_R\"] = data[\"DRtg\"].rank(ascending=True   ,method=\"first\").astype(int)\n",
    "data[\"NET_R\"] = data[\"NRtg\"].rank(ascending=False  ,method=\"first\").astype(int)\n",
    "data[\"aOFF_R\"] = data[\"LA_ORTG\"].rank(ascending=False,method=\"first\").astype(int)\n",
    "data[\"aDEF_R\"] = data[\"LA_DRTG\"].rank(ascending=True ,method=\"first\").astype(int)\n",
    "data[\"aNET_R\"] = data[\"LA_NRTG\"].rank(ascending=False,method=\"first\").astype(int)"
   ]
  },
  {
   "cell_type": "code",
   "execution_count": null,
   "metadata": {},
   "outputs": [],
   "source": [
    "results_plot = pd.merge(data, df_teams)"
   ]
  },
  {
   "cell_type": "code",
   "execution_count": null,
   "metadata": {},
   "outputs": [],
   "source": [
    "results_plot.columns"
   ]
  },
  {
   "cell_type": "code",
   "execution_count": null,
   "metadata": {},
   "outputs": [],
   "source": [
    "black1 = '#252525'\n",
    "black2 = '#222222'"
   ]
  },
  {
   "cell_type": "code",
   "execution_count": null,
   "metadata": {},
   "outputs": [],
   "source": [
    "p = (ggplot(results_plot)\n",
    " # Slight modifications for the original lines,\n",
    " # 1. Nudge the text to either sides of the points\n",
    " # 2. Alter the color and alpha values\n",
    " + geom_text(aes(1, 'DEF_R', label='nameTeam' ), nudge_x=-0.05, ha='right', size=10, color=black1)\n",
    " + geom_text(aes(2, 'aDEF_R', label='nameTeam'), nudge_x=0.05, ha='left', size=10, color=black1)\n",
    " + geom_point(aes(1, 'DEF_R', color='colorsTeam'), size=2.5, alpha=.7)\n",
    " + geom_point(aes(2, 'aDEF_R', color='colorsTeam'), size=2.5, alpha=.7)\n",
    " + geom_segment(aes(x=1, y='DEF_R', xend=2, yend='aDEF_R', color='colorsTeam'), alpha=.7, size=2)\n",
    "\n",
    " # Text Annotations\n",
    " #+ annotate('text', x=1, y=0, label='Rank in 1960', fontweight='bold', ha='right', size=10, color=black2)\n",
    " #+ annotate('text', x=2, y=0, label='Rank in 2015', fontweight='bold', ha='left', size=10, color=black2)\n",
    "#  + annotate('text', x=1.5, y=0, label='Lines show change in rank', size=11, color=black1)\n",
    " + annotate('text', x=0.8, y=0, label='Unadjusted Def Rating Rank', size=11, color=black1)\n",
    " + annotate('text', x=2.2, y=0, label='SoS Adjusted Def Rating Rank', size=11, color=black1)\n",
    " #+ annotate('label', x=1.5, y=3, label='Lower infant\\ndeath rates', size=9, color=black1,\n",
    " #           label_size=0, fontstyle='italic')\n",
    " #+ annotate('label', x=1.5, y=33, label='Higher infant\\ndeath rates', size=9, color=black1,\n",
    " #           label_size=0, fontstyle='italic')\n",
    "\n",
    " # Prevent country names from being chopped off\n",
    " + lims(x=(0.35, 2.65))\n",
    "#  + labs(color='Income Group')\n",
    " # Countries with lower rates on top\n",
    " + scale_y_reverse(breaks=np.arange(1,31,1))\n",
    " # Change colors\n",
    " + scale_color_identity(aesthetics=[\"color\"])\n",
    " # Removes all decorations\n",
    " + theme_idv\n",
    " # Changing the figure size prevents the country names from squishing up\n",
    " + theme(figure_size=(8, 11))\n",
    " + theme(\n",
    "     axis_title_x = element_blank(),\n",
    "     axis_text_x = element_blank(),\n",
    "     plot_title=element_text(face=\"bold\", size=20),\n",
    " )\n",
    " + labs(\n",
    "        title=f\"Unadjusted vs Luck Adjusted Def Rating\",\n",
    "        subtitle = \"Based on luck adjusted ratings used for PIPM\",\n",
    "        caption=\"Analysis: @knarsu3 | Table: @SravanNBA\",\n",
    "        y=f\"Def Rating\",\n",
    " )\n",
    ")\n",
    "p.save(\"../figs/team_leaders/LA_aDEF_mvmt.png\", dpi=300, verbose = False)\n",
    "p"
   ]
  },
  {
   "cell_type": "markdown",
   "metadata": {},
   "source": [
    "## Ratings Removing the Best and Worst Games"
   ]
  },
  {
   "cell_type": "code",
   "execution_count": null,
   "metadata": {},
   "outputs": [],
   "source": [
    "year = 2023\n",
    "df1 = pd.read_parquet(box_DIR + f\"NBA_Box_T_Adv_{year}.parquet\")\n",
    "df1 = df1.rename(columns={\"teamTricode\":\"Team\"})"
   ]
  },
  {
   "cell_type": "code",
   "execution_count": null,
   "metadata": {},
   "outputs": [],
   "source": [
    "df1.columns"
   ]
  },
  {
   "cell_type": "code",
   "execution_count": null,
   "metadata": {},
   "outputs": [],
   "source": [
    "n = 5\n",
    "df2 = df1.groupby(\"Team\")\n",
    "keys = list(df2.groups)\n",
    "rat1,orat1,drat1 = [],[],[]\n",
    "rat2,orat2,drat2 = [],[],[]\n",
    "for key in keys:\n",
    "    df3 = df2.get_group(key).sort_values(\"netRating\",ascending=False).iloc[n:-n].reset_index(drop=True)\n",
    "    df4 = df2.get_group(key).sort_values(\"netRating\",ascending=False).reset_index(drop=True)\n",
    "    rat1.append(round((df3[\"netRating\"]*df3[\"possessions\"]).sum()/df3[\"possessions\"].sum(),2))\n",
    "    rat2.append(round((df4[\"netRating\"]*df4[\"possessions\"]).sum()/df4[\"possessions\"].sum(),2))\n",
    "    orat1.append(round((df3[\"offensiveRating\"]*df3[\"possessions\"]).sum()/df3[\"possessions\"].sum(),2))\n",
    "    orat2.append(round((df4[\"offensiveRating\"]*df4[\"possessions\"]).sum()/df4[\"possessions\"].sum(),2))\n",
    "    drat1.append(round((df3[\"defensiveRating\"]*df3[\"possessions\"]).sum()/df3[\"possessions\"].sum(),2))\n",
    "    drat2.append(round((df4[\"defensiveRating\"]*df4[\"possessions\"]).sum()/df4[\"possessions\"].sum(),2))"
   ]
  },
  {
   "cell_type": "code",
   "execution_count": null,
   "metadata": {},
   "outputs": [],
   "source": [
    "df5 = pd.DataFrame({\"Team\":keys,\"Net_Rating\":rat1,\"mNet_rating\":rat2,\"Off_Rating\":orat1,\"mOff_Rating\":orat2,\"Def_Rating\":drat1,\"mDef_Rating\":drat2})\n",
    "df5[\"Off_R\"] = df5[\"Off_Rating\"].rank(ascending=False  ,method=\"first\").astype(int)\n",
    "df5[\"Def_R\"] = df5[\"Def_Rating\"].rank(ascending=True   ,method=\"first\").astype(int)\n",
    "df5[\"Net_R\"] = df5[\"Net_Rating\"].rank(ascending=False  ,method=\"first\").astype(int)\n",
    "df5[\"mOff_R\"] = df5[\"mOff_Rating\"].rank(ascending=False  ,method=\"first\").astype(int)\n",
    "df5[\"mDef_R\"] = df5[\"mDef_Rating\"].rank(ascending=True   ,method=\"first\").astype(int)\n",
    "df5[\"mNet_R\"] = df5[\"mNet_rating\"].rank(ascending=False,method=\"first\").astype(int)"
   ]
  },
  {
   "cell_type": "code",
   "execution_count": null,
   "metadata": {},
   "outputs": [],
   "source": [
    "df6 = pd.merge(df5,df_teams,on=\"Team\")\n",
    "df6[\"image\"]= img_DIR_T + df6[\"nameTeam\"] + \".png\""
   ]
  },
  {
   "cell_type": "code",
   "execution_count": null,
   "metadata": {},
   "outputs": [],
   "source": [
    "p = (ggplot(df6)\n",
    " # Slight modifications for the original lines,\n",
    " # 1. Nudge the text to either sides of the points\n",
    " # 2. Alter the color and alpha values\n",
    " + geom_text(aes(1, 'Def_R', label='nameTeam' ), nudge_x=-0.05, ha='right', size=10, color=black1)\n",
    " + geom_text(aes(2, 'mDef_R', label='nameTeam'), nudge_x=0.05, ha='left', size=10, color=black1)\n",
    " + geom_point(aes(1, 'Def_R', color='colorsTeam'), size=2.5, alpha=.7)\n",
    " + geom_point(aes(2, 'mDef_R', color='colorsTeam'), size=2.5, alpha=.7)\n",
    " + geom_segment(aes(x=1, y='Def_R', xend=2, yend='mDef_R', color='colorsTeam'), alpha=.7, size=2)\n",
    " + geom_image(aes(x=0.4, y='Def_R',image=\"image\"),zoom=0.05)\n",
    " + geom_image(aes(x=2.6, y='mDef_R',image=\"image\"),zoom=0.05)\n",
    "\n",
    " # Text Annotations\n",
    " #+ annotate('text', x=1, y=0, label='Rank in 1960', fontweight='bold', ha='right', size=10, color=black2)\n",
    " #+ annotate('text', x=2, y=0, label='Rank in 2015', fontweight='bold', ha='left', size=10, color=black2)\n",
    "#  + annotate('text', x=1.5, y=0, label='Lines show change in rank', size=11, color=black1)\n",
    " + annotate('text', x=0.8, y=0, label='Def Rating Rank', size=11, color=black1)\n",
    " + annotate('text', x=2.2, y=0, label='Modified Def Rating Rank', size=11, color=black1)\n",
    " #+ annotate('label', x=1.5, y=3, label='Lower infant\\ndeath rates', size=9, color=black1,\n",
    " #           label_size=0, fontstyle='italic')\n",
    " #+ annotate('label', x=1.5, y=33, label='Higher infant\\ndeath rates', size=9, color=black1,\n",
    " #           label_size=0, fontstyle='italic')\n",
    "\n",
    " # Prevent country names from being chopped Def\n",
    " + lims(x=(0.35, 2.65))\n",
    "#  + labs(color='Income Group')\n",
    " # Countries with lower rates on top\n",
    " + scale_y_reverse(breaks=np.arange(1,31,1))\n",
    " # Change colors\n",
    " + scale_color_identity(aesthetics=[\"color\"])\n",
    " # Removes all decorations\n",
    " + theme_idv\n",
    " # Changing the figure size prevents the country names from squishing up\n",
    " + theme(figure_size=(8, 11))\n",
    " + theme(\n",
    "     axis_title_x = element_blank(),\n",
    "     axis_text_x = element_blank(),\n",
    "     plot_title=element_text(face=\"bold\", size=20),\n",
    "     panel_border=element_blank(),\n",
    "     axis_ticks=element_blank(),\n",
    " )\n",
    " + labs(\n",
    "        title=f\"Def Rating vs Modified Def Rating\",\n",
    "        subtitle = f\"{n} Best and {n} Worst games removed for Modified Def Rating\",\n",
    "        caption=\"@SravanNBA | source:nba.com/stats\",\n",
    "        y=f\"Def Rating\",\n",
    " )\n",
    ")\n",
    "# p.save(\"../figs/team_leaders/m_Def_mvmt.png\", dpi=300, verbose = False)\n",
    "p"
   ]
  }
 ],
 "metadata": {
  "kernelspec": {
   "display_name": "nba-ub9Z_EQq-py3.11",
   "language": "python",
   "name": "python3"
  },
  "language_info": {
   "codemirror_mode": {
    "name": "ipython",
    "version": 3
   },
   "file_extension": ".py",
   "mimetype": "text/x-python",
   "name": "python",
   "nbconvert_exporter": "python",
   "pygments_lexer": "ipython3",
   "version": "3.11.6"
  }
 },
 "nbformat": 4,
 "nbformat_minor": 2
}
