{
 "cells": [
  {
   "cell_type": "markdown",
   "metadata": {},
   "source": [
    "# NBA 4 Factors Analysis"
   ]
  },
  {
   "cell_type": "code",
   "execution_count": null,
   "metadata": {},
   "outputs": [],
   "source": [
    "from sklearn.linear_model import RidgeCV\n",
    "from sklearn.linear_model import LinearRegression\n",
    "import os, sys\n",
    "\n",
    "sys.path.append(os.path.dirname(os.path.dirname(os.path.abspath(\"__file__\"))))\n",
    "from nbafuns import *\n",
    "\n",
    "# from sklearn.pipeline import make_pipeline\n",
    "# model = make_pipeline(StandardScaler(with_mean=False), _RidgeGCV())\n",
    "\n",
    "teams_dict, teams_list = get_teams(league=\"NBA\")\n",
    "data_DIR = \"../fdata/boxscore_team/\""
   ]
  },
  {
   "cell_type": "code",
   "execution_count": null,
   "metadata": {},
   "outputs": [],
   "source": [
    "def get_ratings(season=2023):\n",
    "    df1 = pd.read_csv(data_DIR+ f\"NBA_BoxScores_4Factor_{season}.csv\", index_col=0)\n",
    "    df2 = pd.read_csv(data_DIR+ f\"NBA_BoxScores_Adv_{season}.csv\", index_col=0)\n",
    "    cols = df2.columns.intersection(df1.columns).to_list()\n",
    "    df3 = pd.merge(df2, df1, on=cols)\n",
    "    cols = [\n",
    "        \"gameId\",\n",
    "        \"teamName\",\n",
    "        \"teamId\",\n",
    "        \"effectiveFieldGoalPercentage\",\n",
    "        \"teamTurnoverPercentage\",\n",
    "        \"offensiveReboundPercentage\",\n",
    "        \"freeThrowAttemptRate\",\n",
    "        \"oppEffectiveFieldGoalPercentage\",\n",
    "        \"oppTeamTurnoverPercentage\",\n",
    "        \"oppOffensiveReboundPercentage\",\n",
    "        \"oppFreeThrowAttemptRate\",\n",
    "        \"offensiveRating\",\n",
    "        \"defensiveRating\",\n",
    "        \"netRating\",\n",
    "    ]\n",
    "    df4 = df3[cols]\n",
    "    df4 = df4.rename(\n",
    "        columns={\n",
    "            \"effectiveFieldGoalPercentage\": \"eFG1\",\n",
    "            \"teamTurnoverPercentage\": \"TOV1\",\n",
    "            \"offensiveReboundPercentage\": \"OREB1\",\n",
    "            \"freeThrowAttemptRate\": \"FTA1\",\n",
    "            \"oppEffectiveFieldGoalPercentage\": \"eFG2\",\n",
    "            \"oppTeamTurnoverPercentage\": \"TOV2\",\n",
    "            \"oppOffensiveReboundPercentage\": \"OREB2\",\n",
    "            \"oppFreeThrowAttemptRate\": \"FTA2\",\n",
    "            \"offensiveRating\": \"ORtg\",\n",
    "            \"defensiveRating\": \"DRtg\",\n",
    "            \"netRating\": \"NRtg\",\n",
    "        }\n",
    "    )\n",
    "    data = df4.copy()\n",
    "    return data"
   ]
  },
  {
   "cell_type": "code",
   "execution_count": null,
   "metadata": {},
   "outputs": [],
   "source": [
    "seasons = np.arange(2018, 2023, 1).astype(str)\n",
    "dfa = []\n",
    "for season in seasons:\n",
    "    df = get_ratings(season=season)\n",
    "    dfa.append(df)\n",
    "data_t = pd.concat(dfa)\n",
    "# data = data.iloc[::2]\n",
    "data_p = get_ratings(season=\"2023\")"
   ]
  },
  {
   "cell_type": "code",
   "execution_count": null,
   "metadata": {},
   "outputs": [],
   "source": [
    "X_t = data_t[\n",
    "    [\"eFG1\", \"TOV1\", \"OREB1\", \"FTA1\", \"eFG2\", \"TOV2\", \"OREB2\", \"FTA2\"]\n",
    "].to_numpy()\n",
    "\n",
    "y_t = data_t[\"NRtg\"].to_numpy()\n",
    "\n",
    "X_p = data_p[\n",
    "    [\"eFG1\", \"TOV1\", \"OREB1\", \"FTA1\", \"eFG2\", \"TOV2\", \"OREB2\", \"FTA2\"]\n",
    "].to_numpy()\n",
    "\n",
    "y_p = data_p[\"NRtg\"].to_numpy()"
   ]
  },
  {
   "cell_type": "code",
   "execution_count": null,
   "metadata": {},
   "outputs": [],
   "source": [
    "alphas = np.logspace(-6, 6, 13)"
   ]
  },
  {
   "cell_type": "code",
   "execution_count": null,
   "metadata": {},
   "outputs": [],
   "source": [
    "reg = LinearRegression(fit_intercept=False)\n",
    "# reg = RidgeCV(alphas=alphas, cv=10, fit_intercept=False)\n",
    "model = reg.fit(X_t, y_t)\n",
    "y_pf = reg.predict(X_p)\n",
    "coef = model.coef_\n",
    "print(model.coef_)\n",
    "# print(model.alpha_)"
   ]
  },
  {
   "cell_type": "code",
   "execution_count": null,
   "metadata": {},
   "outputs": [],
   "source": [
    "coef[:4] / np.sum(abs(coef[:4])) * 100"
   ]
  },
  {
   "cell_type": "code",
   "execution_count": null,
   "metadata": {},
   "outputs": [],
   "source": [
    "slope, intercept, r, p, sterr = scipy.stats.linregress(x=y_p, y=y_pf)\n",
    "r2 = r**2\n",
    "fig, ax = plt.subplots(1, 1)\n",
    "fig = sns.regplot(\n",
    "    x=y_p, y=y_pf, color=\"black\", scatter_kws={\"color\": \"tab:blue\"}, ax=ax\n",
    ")\n",
    "# fig = sns.regplot(x = y, y = y_pred,ax=ax)\n",
    "ax.text(0.05, 0.9, r\"$r^2=$\" + f\"{round(r2,4)}\", transform=ax.transAxes)\n",
    "plt.show()"
   ]
  },
  {
   "cell_type": "markdown",
   "metadata": {},
   "source": [
    "# Kevins Luck Adjustments\n",
    "LA_ORtg = 30.65711592+212.7311275*(`3PR_Team`*`3P%_Team`)+106.1847216*`2P%_Team`+64.39756164*`2PR_Team`+151.8564492*(`FT%_Team`*FTAR_Team)+.815155804*((1-`FG%_Team`)*`ORB%_Team`)-1.176866417*`TOV%_Team`-1.03961469*`TOV%_Lg`+126.1557339*(`3P%_Lg`*`3PR_Lg`)+.620188564*`ORB%_Lg`-115.5861051*`2PR_Lg`+128.3086605*(`2P%_Lg`*`2PR_Lg`)-93.57506625*`3PR_Lg`,\n",
    "LA_DRtg = 30.65711592+212.7311275*(`3PR_Lg`*`3P%_Lg`)+106.1847216*`2P%_Lg`+64.39756164*`2PR_Lg`+151.8564492*(`FT%_Lg`*FTAR_Lg)+.815155804*((1-`FG%_Lg`)*`ORB%_Lg`)-1.176866417*`TOV%_Lg`-1.03961469*`TOV%_Opp`+126.1557339*(`3P%_Opp`*`3PR_Opp`)+.620188564*`ORB%_Opp`-115.5861051*`2PR_Opp`+128.3086605*(`2P%_Opp`*`2PR_Opp`)-93.57506625*`3PR_Opp`"
   ]
  }
 ],
 "metadata": {
  "kernelspec": {
   "display_name": "nba-ub9Z_EQq-py3.11",
   "language": "python",
   "name": "python3"
  },
  "language_info": {
   "codemirror_mode": {
    "name": "ipython",
    "version": 3
   },
   "file_extension": ".py",
   "mimetype": "text/x-python",
   "name": "python",
   "nbconvert_exporter": "python",
   "pygments_lexer": "ipython3",
   "version": "3.11.6"
  }
 },
 "nbformat": 4,
 "nbformat_minor": 2
}
