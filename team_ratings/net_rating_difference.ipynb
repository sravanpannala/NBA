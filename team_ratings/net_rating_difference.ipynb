{
 "cells": [
  {
   "cell_type": "code",
   "execution_count": null,
   "metadata": {},
   "outputs": [],
   "source": [
    "import os, sys\n",
    "\n",
    "sys.path.append(os.path.dirname(os.path.dirname(os.path.abspath(\"__file__\"))))\n",
    "from nbafuns import *\n",
    "\n",
    "fig_DIR = \"../figs/teams/\"\n",
    "box_DIR = \"../data/box/\""
   ]
  },
  {
   "cell_type": "code",
   "execution_count": null,
   "metadata": {},
   "outputs": [],
   "source": [
    "dfa = []\n",
    "for season in range(2014,2025):\n",
    "    df1 = pd.read_parquet(box_DIR + f\"NBA_Box_T_Cum_Adv_{season}.parquet\")\n",
    "    df2 = df1[[\"TEAM_NAME\",\"NET_RATING\"]]\n",
    "    df2[\"Season\"] = season +1\n",
    "    dfa.append(df2)\n",
    "df3 = pd.concat(dfa)"
   ]
  },
  {
   "cell_type": "code",
   "execution_count": null,
   "metadata": {},
   "outputs": [],
   "source": [
    "dfg = df3.groupby(\"TEAM_NAME\")\n",
    "teams = list(dfg.groups)\n",
    "dfb = []\n",
    "for t in teams:\n",
    "    df4 = dfg.get_group(t)\n",
    "    df4[\"NET_RATING_Prev\"] = df4[\"NET_RATING\"].shift(1)\n",
    "    df4[\"NET_RATING_Diff\"] = df4[\"NET_RATING\"]-df4[\"NET_RATING_Prev\"]\n",
    "    df4 = df4.dropna()\n",
    "    dfb.append(df4)\n",
    "df5 = pd.concat(dfb)"
   ]
  },
  {
   "cell_type": "code",
   "execution_count": null,
   "metadata": {},
   "outputs": [],
   "source": [
    "df6 = df5.sort_values(\"NET_RATING_Diff\",ascending=False)\n",
    "df6 = df6.reset_index(drop=True)\n",
    "df6 = df6[[\"TEAM_NAME\",\t\"Season\",\t\"NET_RATING_Prev\",\t\"NET_RATING\",\t\"NET_RATING_Diff\",]]\n",
    "df6 = df6.rename(columns={\"TEAM_NAME\":\"Team\",\t\"NET_RATING_Prev\":\"Prev\",\t\"NET_RATING\":\"Net Rating\",\t\"NET_RATING_Diff\":\"Diff\"})\n",
    "df6.index +=1\n",
    "df6.head(10)"
   ]
  }
 ],
 "metadata": {
  "kernelspec": {
   "display_name": "dav-ub9Z_EQq-py3.12",
   "language": "python",
   "name": "python3"
  },
  "language_info": {
   "codemirror_mode": {
    "name": "ipython",
    "version": 3
   },
   "file_extension": ".py",
   "mimetype": "text/x-python",
   "name": "python",
   "nbconvert_exporter": "python",
   "pygments_lexer": "ipython3",
   "version": "3.12.0"
  }
 },
 "nbformat": 4,
 "nbformat_minor": 2
}
