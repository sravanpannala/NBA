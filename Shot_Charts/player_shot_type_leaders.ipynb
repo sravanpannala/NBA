{
 "cells": [
  {
   "cell_type": "code",
   "execution_count": null,
   "metadata": {},
   "outputs": [],
   "source": [
    "import os, sys\n",
    "\n",
    "sys.path.append(os.path.dirname(os.path.dirname(os.path.abspath(\"__file__\"))))\n",
    "from nbafuns import *\n",
    "from nba_api.stats.endpoints import shotchartleaguewide\n",
    "from IPython.core.display import HTML\n",
    "\n",
    "pd.options.mode.chained_assignment = None\n",
    "\n",
    "shots_DIR = \"../data/ShotLocationData/\"\n",
    "data_DIR = \"../data/box/\"\n",
    "img_DIR_P = \"../data/images/players/\""
   ]
  },
  {
   "cell_type": "code",
   "execution_count": null,
   "metadata": {},
   "outputs": [],
   "source": [
    "year = 2023\n",
    "all_shots = pd.read_parquet(shots_DIR + f\"NBA_Shot_Details_{year}\" + \".parquet\")\n",
    "all_shots.columns = map(str.lower, all_shots.columns)\n",
    "all_shots = all_shots.rename(columns={\"shot_made_flag\":\"shot_made\"})\n",
    "all_shots[\"loc_x\"] = all_shots[\"loc_x\"]/10\n",
    "all_shots[\"loc_y\"] = all_shots[\"loc_y\"]/10\n",
    "all_shots['fg2'] = np.where(all_shots['shot_type'] == '2PT Field Goal', 1, 0)\n",
    "all_shots['fg3'] = np.where(all_shots['shot_type'] == '3PT Field Goal', 1, 0)\n",
    "all_shots[\"points\"] = (2*all_shots['fg2'] + 3*all_shots['fg3'])*all_shots[\"shot_made\"]\n",
    "# shots = all_shots.loc[all_shots['shot_distance'] <= 32].reset_index(drop=True)\n",
    "# shots = all_shots.copy()"
   ]
  },
  {
   "cell_type": "code",
   "execution_count": null,
   "metadata": {},
   "outputs": [],
   "source": [
    "all_shots[\"action_type\"].unique() "
   ]
  },
  {
   "cell_type": "code",
   "execution_count": null,
   "metadata": {},
   "outputs": [],
   "source": [
    "sts = [\"Dunk\",\"Floater\",\"Layup\",\"Alley_Oop\",\"Reverse\",\"Step_Back\",\"Hook\",\"Turnaround\",\"Bank\",\"Jump\",\"Cut\",\"Drive\",\"Finger_Roll\",\"Pullup\",\"Fadeaway\",\"Tip\"]\n",
    "sts_st = [\"Dunk\",\"Floater\",\"Layup\",\"Alley\",\"Reverse\",\"Step Back\",\"Hook\",\"Turnaround\",\"Bank\",\"Jump\",\"Cutting\",\"Driving\",\"Finger Roll\",\"Pullup\",\"Fadeaway\",\"Tip\"]\n",
    "for s,st in zip(sts,sts_st):\n",
    "    all_shots[s]=all_shots[\"action_type\"].str.contains(st)\n",
    "    if sts == \"Pullup\":\n",
    "        all_shots[s]=all_shots[\"action_type\"].str.contains(st) | all_shots[\"action_type\"].str.contains(\"Pull-Up\")"
   ]
  },
  {
   "cell_type": "code",
   "execution_count": null,
   "metadata": {},
   "outputs": [],
   "source": [
    "df = all_shots.query(\"shot_made == True\")"
   ]
  },
  {
   "cell_type": "code",
   "execution_count": null,
   "metadata": {},
   "outputs": [],
   "source": [
    "df1 = df.groupby([\"player_id\",\"player_name\"])[sts].sum().reset_index()\n",
    "df1[\"P\"]=img_DIR_P + df1[\"player_id\"].astype(str) + \".png\"\n",
    "df1[\"P\"] = df1[\"P\"].apply(path_to_image_html)\n",
    "df1 = df1.rename(columns={\"player_name\":\"Player\"})"
   ]
  },
  {
   "cell_type": "code",
   "execution_count": null,
   "metadata": {},
   "outputs": [],
   "source": [
    "st = sts[0]\n",
    "print(st)\n",
    "df2 = df1.sort_values(st,ascending=False).head(10).reset_index(drop=True)\n",
    "df2.index +=1\n",
    "df2 = df2[[\"Player\",\"P\",st]]\n",
    "HTML(df2.to_html(escape=False))"
   ]
  },
  {
   "cell_type": "code",
   "execution_count": null,
   "metadata": {},
   "outputs": [],
   "source": [
    "dsfdsf"
   ]
  },
  {
   "cell_type": "code",
   "execution_count": null,
   "metadata": {},
   "outputs": [],
   "source": [
    "fdsfs"
   ]
  },
  {
   "cell_type": "code",
   "execution_count": null,
   "metadata": {},
   "outputs": [],
   "source": [
    "img_DIR_P = \"C:\\\\Users\\\\pansr\\\\Documents\\\\NBA\\\\data\\\\images\\\\players\\\\\"\n",
    "df1 = df.groupby([\"player_id\",\"player_name\"])[sts].sum().reset_index()\n",
    "df1[\"P\"]=img_DIR_P + df1[\"player_id\"].astype(str) + \".png\"\n",
    "df1[\"P\"] = df1[\"P\"].apply(path_to_image_html)\n",
    "df1 = df1.rename(columns={\"player_name\":\"Player\"})\n",
    "st = sts[0]\n",
    "print(st)\n",
    "df2 = df1.sort_values(st,ascending=False).head(10).reset_index(drop=True)\n",
    "df2.index +=1\n",
    "df2 = df2[[\"Player\",\"P\",st]]\n",
    "css = \"body {background:#3f577c;font-family:monospace;color:white;border:3px solid white;text-align:left!important;}\"\n",
    "css=\"\"\"\n",
    "body {\n",
    "    margin: 0;\n",
    "    font-family: Helvetica;\n",
    "}\n",
    "table.dataframe {\n",
    "    border-collapse: collapse;\n",
    "    border: none;\n",
    "}\n",
    "table.dataframe tr {\n",
    "    border: none;\n",
    "}\n",
    "table.dataframe td, table.dataframe th {\n",
    "    margin: 0;\n",
    "    border: 1px solid white;\n",
    "    padding-left: 0.25em;\n",
    "    padding-right: 0.25em;\n",
    "}\n",
    "table.dataframe th:not(:empty) {\n",
    "    background-color: #fec;\n",
    "    text-align: left;\n",
    "    font-weight: normal;\n",
    "}\n",
    "table.dataframe tr:nth-child(2) th:empty {\n",
    "    border-left: none;\n",
    "    border-right: 1px dashed #888;\n",
    "}\n",
    "table.dataframe td {\n",
    "    border: 2px solid #ccf;\n",
    "    background-color: #f4f4ff;\n",
    "}\n",
    "\"\"\"\n",
    "hti.screenshot(html_str=df2.to_html(escape=False), css_str=css, size=(300, 550), save_as='export.png')"
   ]
  },
  {
   "cell_type": "markdown",
   "metadata": {},
   "source": [
    "## Player Y2Y trend"
   ]
  },
  {
   "cell_type": "code",
   "execution_count": null,
   "metadata": {},
   "outputs": [],
   "source": [
    "all_shots = pd.read_parquet(shots_DIR + f\"NBA_Shot_Details_{2003}\" + \".parquet\")\n",
    "all_shots.columns"
   ]
  },
  {
   "cell_type": "code",
   "execution_count": null,
   "metadata": {},
   "outputs": [],
   "source": []
  },
  {
   "cell_type": "code",
   "execution_count": null,
   "metadata": {},
   "outputs": [],
   "source": [
    "pID = \"203507\"\n",
    "dfa = []\n",
    "for year in range(2013,2024):\n",
    "    all_shots = pd.read_parquet(shots_DIR + f\"NBA_Shot_Details_{year}\" + \".parquet\")\n",
    "    all_shots.columns = map(str.lower, all_shots.columns)\n",
    "    all_shots = all_shots.rename(columns={\"shot_made_flag\":\"shot_made\"})\n",
    "    all_shots[\"loc_x\"] = all_shots[\"loc_x\"]/10\n",
    "    all_shots[\"loc_y\"] = all_shots[\"loc_y\"]/10\n",
    "    all_shots['fg2'] = np.where(all_shots['shot_type'] == '2PT Field Goal', 1, 0)\n",
    "    all_shots['fg3'] = np.where(all_shots['shot_type'] == '3PT Field Goal', 1, 0)\n",
    "    all_shots[\"points\"] = (2*all_shots['fg2'] + 3*all_shots['fg3'])*all_shots[\"shot_made\"]\n",
    "    all_shots = all_shots.query(f\"player_id == {pID}\")\n",
    "    all_shots[\"Season\"] = year + 1\n",
    "    dfa.append(all_shots)\n",
    "df1 = pd.concat(dfa)"
   ]
  },
  {
   "cell_type": "code",
   "execution_count": null,
   "metadata": {},
   "outputs": [],
   "source": [
    "sts = [\"Dunk\",\"Floater\",\"Layup\",\"Alley_Oop\",\"Reverse\",\"Step_Back\",\"Hook\",\"Turnaround\",\"Bank\",\"Jump\",\"Cut\",\"Drive\",\"Finger_Roll\",\"Pullup\",\"Fadeaway\",\"Tip\"]\n",
    "sts_st = [\"Dunk\",\"Floater\",\"Layup\",\"Alley\",\"Reverse\",\"Step Back\",\"Hook\",\"Turnaround\",\"Bank\",\"Jump\",\"Cutting\",\"Driving\",\"Finger Roll\",\"Pullup\",\"Fadeaway\",\"Tip\"]\n",
    "for s,st in zip(sts,sts_st):\n",
    "    df1[s]=df1[\"action_type\"].str.contains(st)\n",
    "    if sts == \"Pullup\":\n",
    "        df1[s]=df1[\"action_type\"].str.contains(st) | df1[\"action_type\"].str.contains(\"Pull-Up\")"
   ]
  },
  {
   "cell_type": "code",
   "execution_count": null,
   "metadata": {},
   "outputs": [],
   "source": [
    "df2 = df1.query(\"shot_made == True\")\n",
    "df3 = df2.groupby([\"player_id\",\"player_name\",\"Season\"])[sts].sum().reset_index()\n",
    "df3[\"P\"]=img_DIR_P + df3[\"player_id\"].astype(str) + \".png\"\n",
    "# df3[\"P\"] = df3[\"P\"].apply(path_to_image_html)\n",
    "df3 = df3.rename(columns={\"player_name\":\"Player\"})"
   ]
  },
  {
   "cell_type": "code",
   "execution_count": null,
   "metadata": {},
   "outputs": [],
   "source": [
    "p = (\n",
    "    ggplot(df3,aes(x=\"Season\",y=\"Dunk\"))\n",
    "    + geom_point()\n",
    "    + geom_line(size=1)\n",
    "    + geom_smooth(se=False,size=2,color=\"red\")\n",
    "    + annotate('image', x=2022, y=130, image=df3[\"P\"].iloc[0],zoom=0.3)\n",
    "    + theme_idv\n",
    "    + theme(\n",
    "        plot_title=element_text(face=\"bold\", size=20),\n",
    "        # plot_margin=0.03,\n",
    "    )\n",
    "    + labs(\n",
    "        title=\"Giannis Dunks\",\n",
    "        caption=\"@SravanNBA | source: nba.com/stats\",\n",
    "        x = \"Season\",\n",
    "        y=\"# of Dunks\",\n",
    "    )\n",
    ")\n",
    "p"
   ]
  }
 ],
 "metadata": {
  "kernelspec": {
   "display_name": "nba-ub9Z_EQq-py3.11",
   "language": "python",
   "name": "python3"
  },
  "language_info": {
   "codemirror_mode": {
    "name": "ipython",
    "version": 3
   },
   "file_extension": ".py",
   "mimetype": "text/x-python",
   "name": "python",
   "nbconvert_exporter": "python",
   "pygments_lexer": "ipython3",
   "version": "3.11.6"
  }
 },
 "nbformat": 4,
 "nbformat_minor": 2
}
