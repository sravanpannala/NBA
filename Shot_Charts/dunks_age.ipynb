{
 "cells": [
  {
   "cell_type": "code",
   "execution_count": null,
   "metadata": {},
   "outputs": [],
   "source": [
    "import os, sys\n",
    "\n",
    "sys.path.append(os.path.dirname(os.path.dirname(os.path.abspath(\"__file__\"))))\n",
    "from nbafuns import *\n",
    "from nba_api.stats.endpoints import shotchartleaguewide\n",
    "from IPython.core.display import HTML\n",
    "\n",
    "pd.options.mode.chained_assignment = None\n",
    "\n",
    "shots_DIR = \"../data/ShotLocationData/\"\n",
    "box_DIR = \"../data/box/\"\n",
    "img_DIR_P = \"../data/images/players/\""
   ]
  },
  {
   "cell_type": "code",
   "execution_count": null,
   "metadata": {},
   "outputs": [],
   "source": [
    "season = 2024\n",
    "all_shots = pd.read_parquet(shots_DIR + f\"NBA_Shot_Details_{season}\" + \".parquet\")\n",
    "all_shots.columns = map(str.lower, all_shots.columns)\n",
    "all_shots = all_shots.rename(columns={\"shot_made_flag\":\"shot_made\"})\n",
    "all_shots[\"loc_x\"] = all_shots[\"loc_x\"]/10\n",
    "all_shots[\"loc_y\"] = all_shots[\"loc_y\"]/10\n",
    "all_shots['fg2'] = np.where(all_shots['shot_type'] == '2PT Field Goal', 1, 0)\n",
    "all_shots['fg3'] = np.where(all_shots['shot_type'] == '3PT Field Goal', 1, 0)\n",
    "all_shots[\"points\"] = (2*all_shots['fg2'] + 3*all_shots['fg3'])*all_shots[\"shot_made\"]\n",
    "# shots = all_shots.loc[all_shots['shot_distance'] <= 32].reset_index(drop=True)\n",
    "# shots = all_shots.copy()"
   ]
  },
  {
   "cell_type": "code",
   "execution_count": null,
   "metadata": {},
   "outputs": [],
   "source": [
    "sts = [\"Dunk\",\"Floater\",\"Layup\",\"Alley_Oop\",\"Reverse\",\"Step_Back\",\"Hook\",\"Turnaround\",\"Bank\",\"Jump\",\"Cut\",\"Drive\",\"Finger_Roll\",\"Pullup\",\"Fadeaway\",\"Tip\"]\n",
    "sts_st = [\"Dunk\",\"Floater\",\"Layup\",\"Alley\",\"Reverse\",\"Step Back\",\"Hook\",\"Turnaround\",\"Bank\",\"Jump\",\"Cutting\",\"Driving\",\"Finger Roll\",\"Pullup\",\"Fadeaway\",\"Tip\"]\n",
    "for s,st in zip(sts,sts_st):\n",
    "    all_shots[s]=all_shots[\"action_type\"].str.contains(st)\n",
    "    if sts == \"Pullup\":\n",
    "        all_shots[s]=all_shots[\"action_type\"].str.contains(st) | all_shots[\"action_type\"].str.contains(\"Pull-Up\")"
   ]
  },
  {
   "cell_type": "code",
   "execution_count": null,
   "metadata": {},
   "outputs": [],
   "source": [
    "df = all_shots.query(\"shot_made == True\")"
   ]
  },
  {
   "cell_type": "code",
   "execution_count": null,
   "metadata": {},
   "outputs": [],
   "source": [
    "all_shots"
   ]
  },
  {
   "cell_type": "code",
   "execution_count": null,
   "metadata": {},
   "outputs": [],
   "source": [
    "df1 = df.groupby([\"player_id\",\"player_name\"])[sts].sum().reset_index()\n",
    "df1[\"P\"]=img_DIR_P + df1[\"player_id\"].astype(str) + \".png\""
   ]
  },
  {
   "cell_type": "code",
   "execution_count": null,
   "metadata": {},
   "outputs": [],
   "source": [
    "cols = [\"PLAYER_ID\",\"AGE\"]\n",
    "df2 = pd.read_parquet(box_DIR + f\"NBA_Box_P_Cum_Base_{season}.parquet\",columns=cols)\n",
    "df2.columns = map(str.lower,df2.columns)\n",
    "df3 = pd.merge(df1,df2,on=[\"player_id\"])"
   ]
  },
  {
   "cell_type": "code",
   "execution_count": null,
   "metadata": {},
   "outputs": [],
   "source": [
    "df4 = df3.query(\"age >= 35\").sort_values(\"Dunk\",ascending=False).reset_index(drop=True)\n"
   ]
  },
  {
   "cell_type": "code",
   "execution_count": null,
   "metadata": {},
   "outputs": [],
   "source": [
    "df4"
   ]
  },
  {
   "cell_type": "code",
   "execution_count": null,
   "metadata": {},
   "outputs": [],
   "source": [
    "data = df4.head(10)\n",
    "players = data[\"player_name\"].to_list()\n",
    "players.reverse()\n",
    "data[\"player_name\"] = pd.Categorical(data[\"player_name\"],categories=players,ordered=True)\n",
    "p= (\n",
    "    ggplot(data)\n",
    "    + aes(x=\"player_name\",y=\"Dunk\",image=\"P\")\n",
    "    + geom_col(alpha=0.8)\n",
    "    + geom_image(aes(y=-0.2),size=0.15)\n",
    "    + coord_flip()\n",
    "    + theme_idv\n",
    "    + theme(\n",
    "        axis_text_y=element_blank(),\n",
    "        axis_title_y=element_blank(),\n",
    "        figure_size=(5,6)\n",
    "    )\n",
    "    + labs(\n",
    "        title=\"Most Dunks by Players aged 35 years or older\",\n",
    "        subtitle=f\"{get_ss(season)} NBA Season\",\n",
    "        caption=\"bsky:@sradjoker.cc | x:@sradjoker | source: nba.com/stats\",\n",
    "    )\n",
    ")\n",
    "p"
   ]
  },
  {
   "cell_type": "code",
   "execution_count": null,
   "metadata": {},
   "outputs": [],
   "source": [
    "df4 = df3.sort_values(\"Dunk\",ascending=False).reset_index(drop=True)\n",
    "data = df4.head(10)\n",
    "players = data[\"player_name\"].to_list()\n",
    "players.reverse()\n",
    "data[\"player_name\"] = pd.Categorical(data[\"player_name\"],categories=players,ordered=True)\n",
    "p= (\n",
    "    ggplot(data)\n",
    "    + aes(x=\"player_name\",y=\"Dunk\",image=\"P\")\n",
    "    + geom_col(alpha=0.8)\n",
    "    + geom_image(aes(y=-0.2),size=0.15)\n",
    "    + coord_flip()\n",
    "    + theme_idv\n",
    "    + theme(\n",
    "        axis_text_y=element_blank(),\n",
    "        axis_title_y=element_blank(),\n",
    "        figure_size=(5,6)\n",
    "    )\n",
    "    + labs(\n",
    "        title=\"Most Dunks\",\n",
    "        subtitle=f\"{get_ss(season)} NBA Season\",\n",
    "        caption=\"bsky:@sradjoker.cc | x:@sradjoker | source: nba.com/stats\",\n",
    "    )\n",
    ")\n",
    "p"
   ]
  }
 ],
 "metadata": {
  "kernelspec": {
   "display_name": "dav-ub9Z_EQq-py3.12",
   "language": "python",
   "name": "python3"
  },
  "language_info": {
   "codemirror_mode": {
    "name": "ipython",
    "version": 3
   },
   "file_extension": ".py",
   "mimetype": "text/x-python",
   "name": "python",
   "nbconvert_exporter": "python",
   "pygments_lexer": "ipython3",
   "version": "3.12.0"
  }
 },
 "nbformat": 4,
 "nbformat_minor": 2
}
