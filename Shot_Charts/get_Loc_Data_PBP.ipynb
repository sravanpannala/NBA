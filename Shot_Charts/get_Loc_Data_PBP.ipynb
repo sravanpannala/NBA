{
 "cells": [
  {
   "cell_type": "code",
   "execution_count": null,
   "metadata": {},
   "outputs": [],
   "source": [
    "import pandas as pd\n",
    "import numpy as np\n",
    "import time\n",
    "import datetime\n",
    "from IPython.display import clear_output\n",
    "from collections import Counter\n",
    "from functools import reduce\n",
    "import itertools\n",
    "from pbpstats.client import Client\n",
    "import matplotlib.pyplot as plt\n",
    "import seaborn as sns\n",
    "from tqdm import tqdm\n",
    "import os, sys\n",
    "sys.path.append(os.path.dirname(os.path.dirname(os.path.abspath(\"__file__\"))))\n",
    "from nbafuns import *\n",
    "\n",
    "fig_DIR = \"../figs/\"\n",
    "\n",
    "league = \"NBA\"\n",
    "year = 2023\n",
    "season_yr = str(year)\n",
    "season_type = \"Regular Season\"\n",
    "games_id = pbp_season(league=league,season_yr=season_yr,season_type=season_type)\n",
    "games_list = pbp_games(games_id)"
   ]
  },
  {
   "cell_type": "code",
   "execution_count": null,
   "metadata": {},
   "outputs": [],
   "source": [
    "player_dict = get_players(league=league,from_year=year, to_year=year)\n",
    "player_id = [player['pID'] for player in player_dict]\n",
    "team_dict = get_teams(league=league) # Creating Team Dictionary\n",
    "team_id = [x['TeamID'] for x in team_dict ]"
   ]
  },
  {
   "cell_type": "code",
   "execution_count": null,
   "metadata": {},
   "outputs": [],
   "source": [
    "game = games_list[0]\n",
    "possession = game.possessions.items[2]\n",
    "possession_event = possession.events\n",
    "event = possession_event[0]"
   ]
  },
  {
   "cell_type": "code",
   "execution_count": null,
   "metadata": {
    "tags": []
   },
   "outputs": [],
   "source": [
    "# Get Location Data\n",
    "from pbpstats.resources.enhanced_pbp import FieldGoal\n",
    "from pbpstats.resources.enhanced_pbp import Rebound\n",
    "game_id, period, clock, seconds_remaining,poss_length = [],[],[],[],[]\n",
    "team_id, player1_id= [],[]\n",
    "locX, locY, distance, shot_value, shot_type = [],[],[],[],[]\n",
    "is_made, is_putback, is_assisted, player2_id  = [],[],[],[]\n",
    "len_diffp = 0\n",
    "pos_store = []\n",
    "i = 0\n",
    "ii = 0\n",
    "for game in tqdm(games_list):\n",
    "    for possession in game.possessions.items:\n",
    "        for possession_event in possession.events:\n",
    "            if isinstance(possession_event, FieldGoal):\n",
    "                try: \n",
    "                    game_id.append(possession_event.game_id)\n",
    "                    period.append(possession_event.period)\n",
    "                    clock.append(possession_event.clock)\n",
    "                    seconds_remaining.append(possession_event.seconds_remaining)\n",
    "                    poss_length.append(possession_event.seconds_since_previous_event)\n",
    "                    team_id.append(possession_event.team_id)\n",
    "                    player1_id.append(possession_event.player1_id)\n",
    "                    locX.append(possession_event.locX)\n",
    "                    locY.append(possession_event.locY)\n",
    "                    distance.append(possession_event.distance)\n",
    "                    shot_value.append(possession_event.shot_value)\n",
    "                    shot_type.append(possession_event.shot_type)\n",
    "                    is_made.append(possession_event.is_made)\n",
    "                    \n",
    "                    is_assisted.append(possession_event.is_assisted)\n",
    "                    if possession_event.is_assisted:\n",
    "                        player2_id.append(possession_event.player2_id)\n",
    "                    else:\n",
    "                        player2_id.append(0)\n",
    "                    ii += 1\n",
    "                    # print(\"ii = {0}\".format(ii))\n",
    "                    is_putback.append(possession_event.is_putback)\n",
    "                except:\n",
    "                    is_putback.append(False)\n",
    "    i += 1\n",
    "    # print(\"i = {0}\".format(i))\n",
    "    clear_output(wait=True)"
   ]
  },
  {
   "cell_type": "code",
   "execution_count": null,
   "metadata": {},
   "outputs": [],
   "source": [
    "player1_name = []\n",
    "for pID in player1_id:\n",
    "    player1_name.append([player['Name'] for player in player_dict if player['pID'] == pID]) \n",
    "player1_name = list(itertools.chain(*player1_name))\n",
    "player2_name = []\n",
    "for pID in player2_id:\n",
    "    if pID==0:\n",
    "        player2_name.append(['None'])\n",
    "    else:     \n",
    "        player2_name.append([player['Name'] for player in player_dict if player['pID'] == pID]) \n",
    "player2_name = list(itertools.chain(*player2_name))\n",
    "team_name = []\n",
    "for tID in team_id:  \n",
    "    team_name.append([team['Team'] for team in team_dict if team['TeamID'] == tID])\n",
    "team_name = list(itertools.chain(*team_name))"
   ]
  },
  {
   "cell_type": "code",
   "execution_count": null,
   "metadata": {},
   "outputs": [],
   "source": [
    "len(team_name)"
   ]
  },
  {
   "cell_type": "code",
   "execution_count": null,
   "metadata": {},
   "outputs": [],
   "source": [
    "data = pd.DataFrame({'game_id':game_id,'period':period,'clock':clock,\n",
    "                    'seconds_remaining':seconds_remaining,'poss_length':poss_length,\n",
    "                    'team_id':team_id,'team_name':team_name,'player_id':player1_id,\n",
    "                    'player_name':player1_name,'locX': locX,'locY':locY, 'distance':distance,\n",
    "                    'shot_value':shot_value,'shot_type':shot_type,'is_made':is_made,\n",
    "                    'is_assisted':is_assisted,'player_ast_id':player2_id,'player_ast_name':player2_name,\n",
    "                    'is_putback':is_putback})\n",
    "# data = data.sort_values(by=['Assists'],ascending=False)\n",
    "# data = data.reset_index(drop=True)\n",
    "data.head()"
   ]
  },
  {
   "cell_type": "code",
   "execution_count": null,
   "metadata": {},
   "outputs": [],
   "source": [
    "data.to_csv(f'ShotLocationData\\{league}_Shot_Loc_{year}.csv',index=False)"
   ]
  },
  {
   "cell_type": "code",
   "execution_count": null,
   "metadata": {},
   "outputs": [],
   "source": []
  }
 ],
 "metadata": {
  "interpreter": {
   "hash": "761d0843975b951240ed3f8c006d1f1501cd2a4c66c1dd99cea9ed75b2c1e460"
  },
  "kernelspec": {
   "display_name": "Python 3.9.6 64-bit ('nba-dIF8YUVF-py3.9': poetry)",
   "name": "python3"
  },
  "language_info": {
   "codemirror_mode": {
    "name": "ipython",
    "version": 3
   },
   "file_extension": ".py",
   "mimetype": "text/x-python",
   "name": "python",
   "nbconvert_exporter": "python",
   "pygments_lexer": "ipython3",
   "version": "3.9.7"
  },
  "orig_nbformat": 4
 },
 "nbformat": 4,
 "nbformat_minor": 2
}
