{
 "cells": [
  {
   "cell_type": "code",
   "execution_count": null,
   "metadata": {},
   "outputs": [],
   "source": [
    "import os, sys\n",
    "sys.path.append(os.path.dirname(os.path.dirname(os.path.abspath(\"__file__\"))))\n",
    "from nbafuns import *\n",
    "from pbpstats.resources.enhanced_pbp import FieldGoal\n",
    "\n",
    "data_DIR = \"../Shot_Charts/ShotLocationData/\""
   ]
  },
  {
   "cell_type": "code",
   "execution_count": null,
   "metadata": {
    "tags": []
   },
   "outputs": [],
   "source": [
    "def get_loc_data(games_list,player_dict,team_dict):\n",
    "    game_id, period, clock, seconds_remaining,poss_length = [],[],[],[],[]\n",
    "    team_id, player1_id= [],[]\n",
    "    locX, locY, distance, shot_value, shot_type = [],[],[],[],[]\n",
    "    is_made, is_putback, is_assisted, player2_id  = [],[],[],[]\n",
    "    pos_store = []\n",
    "    for game in tqdm(games_list):\n",
    "        for possession in game.possessions.items:\n",
    "            for possession_event in possession.events:\n",
    "                if isinstance(possession_event, FieldGoal):\n",
    "                    try: \n",
    "                        game_id.append(possession_event.game_id)\n",
    "                        period.append(possession_event.period)\n",
    "                        clock.append(possession_event.clock)\n",
    "                        seconds_remaining.append(possession_event.seconds_remaining)\n",
    "                        poss_length.append(possession_event.seconds_since_previous_event)\n",
    "                        team_id.append(possession_event.team_id)\n",
    "                        player1_id.append(possession_event.player1_id)\n",
    "                        locX.append(possession_event.locX)\n",
    "                        locY.append(possession_event.locY)\n",
    "                        distance.append(possession_event.distance)\n",
    "                        shot_value.append(possession_event.shot_value)\n",
    "                        shot_type.append(possession_event.shot_type)\n",
    "                        is_made.append(possession_event.is_made)\n",
    "                        is_assisted.append(possession_event.is_assisted)\n",
    "                        if possession_event.is_assisted:\n",
    "                            player2_id.append(possession_event.player2_id)\n",
    "                        else:\n",
    "                            player2_id.append(0)\n",
    "                        is_putback.append(possession_event.is_putback)\n",
    "                    except:\n",
    "                        is_putback.append(False)\n",
    "    player1_name = np.array([player_dict.get(x,np.nan) for x in player1_id])  \n",
    "    player2_name = np.array([player_dict.get(x,np.nan) for x in player2_id])  \n",
    "    team_name = [team['Team'] for team, tID in product(team_dict,team_id) if team['TeamID'] ==tID]\n",
    "    data = pd.DataFrame({'game_id':game_id,'period':period,'clock':clock,\n",
    "                        'seconds_remaining':seconds_remaining,'poss_length':poss_length,\n",
    "                        'team_id':team_id,'team_name':team_name,'player_id':player1_id,\n",
    "                        'player_name':player1_name,'locX': locX,'locY':locY, 'distance':distance,\n",
    "                        'shot_value':shot_value,'shot_type':shot_type,'is_made':is_made,\n",
    "                        'is_assisted':is_assisted,'player_ast_id':player2_id,'player_ast_name':player2_name,\n",
    "                        'is_putback':is_putback})\n",
    "    return data"
   ]
  },
  {
   "cell_type": "code",
   "execution_count": null,
   "metadata": {},
   "outputs": [],
   "source": [
    "data_provider = \"data_nba\"\n",
    "league = \"NBA\"\n",
    "season_type = \"Regular Season\"\n",
    "seasons = np.arange(2023,2024,1).astype(str)\n",
    "for season in seasons:\n",
    "    games_id = pbp_season(league=league,season_yr=season,season_type=season_type,data_provider=data_provider)\n",
    "    games_list = pbp_games(games_id,data_provider=data_provider)\n",
    "    player_dict = get_players_pbp(league=league)\n",
    "    team_dict = teams.get_teams()\n",
    "    team_dict = get_teams(league = league)\n",
    "    data = get_loc_data(games_list,player_dict,team_dict)\n",
    "    data.to_csv(data_DIR+f\"{league}_Shot_Loc_\"+season+\".csv\",index=False)\n"
   ]
  }
 ],
 "metadata": {
  "interpreter": {
   "hash": "761d0843975b951240ed3f8c006d1f1501cd2a4c66c1dd99cea9ed75b2c1e460"
  },
  "kernelspec": {
   "display_name": "Python 3.9.6 64-bit ('nba-dIF8YUVF-py3.9': poetry)",
   "name": "python3"
  },
  "language_info": {
   "codemirror_mode": {
    "name": "ipython",
    "version": 3
   },
   "file_extension": ".py",
   "mimetype": "text/x-python",
   "name": "python",
   "nbconvert_exporter": "python",
   "pygments_lexer": "ipython3",
   "version": "3.11.6"
  },
  "orig_nbformat": 4
 },
 "nbformat": 4,
 "nbformat_minor": 2
}
