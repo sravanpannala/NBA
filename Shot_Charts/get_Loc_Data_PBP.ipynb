{
 "cells": [
  {
   "cell_type": "code",
   "execution_count": 12,
   "metadata": {},
   "outputs": [],
   "source": [
    "import pandas as pd\n",
    "import numpy as np\n",
    "import time\n",
    "import datetime\n",
    "from IPython.display import clear_output\n",
    "from collections import Counter\n",
    "from functools import reduce\n",
    "import itertools\n",
    "from pbpstats.client import Client\n",
    "import matplotlib.pyplot as plt\n",
    "import seaborn as sns\n",
    "from tqdm import tqdm\n",
    "import os, sys\n",
    "sys.path.append(os.path.dirname(os.path.dirname(os.path.abspath(\"__file__\"))))\n",
    "from nbafuns import *"
   ]
  },
  {
   "cell_type": "code",
   "execution_count": 2,
   "metadata": {},
   "outputs": [
    {
     "name": "stdout",
     "output_type": "stream",
     "text": [
      "1080\n"
     ]
    }
   ],
   "source": [
    "settings = {\n",
    "    \"Games\": {\"source\": \"web\", \"data_provider\": \"data_nba\"},\n",
    "     \"dir\": \"G:/My Drive/Sra_Coding/NBA/pbpdata\",\n",
    "}\n",
    "client = Client(settings)\n",
    "# ID of all games for 2020-21 Season\n",
    "season = client.Season(\"nba\", \"2020-2021\", \"Regular Season\")\n",
    "# season = client.Season(\"wnba\", \"2021\", \"Regular Season\")\n",
    "games_id = []\n",
    "k = 0\n",
    "for final_game in season.games.final_games:\n",
    "    k += 1\n",
    "    clear_output(wait=True)\n",
    "    print(k)\n",
    "    games_id.append(final_game['game_id'])"
   ]
  },
  {
   "cell_type": "code",
   "execution_count": 17,
   "metadata": {},
   "outputs": [
    {
     "name": "stderr",
     "output_type": "stream",
     "text": [
      "100%|██████████| 1080/1080 [00:55<00:00, 19.45it/s]\n"
     ]
    }
   ],
   "source": [
    "settings = {\n",
    "    \"Boxscore\": {\"source\": \"file\", \"data_provider\": \"data_nba\"},\n",
    "    \"Possessions\": {\"source\": \"file\", \"data_provider\": \"data_nba\"},\n",
    "    \"dir\": \"G:/My Drive/Sra_Coding/NBA/pbpdata\"\n",
    "}\n",
    "client = Client(settings)\n",
    "games_list = []\n",
    "bad_games_list = []\n",
    "k = 0\n",
    "for gameid in tqdm(games_id):\n",
    "    clear_output(wait=True)\n",
    "    k += 1\n",
    "    # print(k)\n",
    "    try:\n",
    "        games_list.append(client.Game(gameid))\n",
    "    except:\n",
    "        print(gameid)\n",
    "        bad_games_list.append(gameid)\n",
    "        continue"
   ]
  },
  {
   "cell_type": "code",
   "execution_count": 5,
   "metadata": {},
   "outputs": [
    {
     "data": {
      "text/plain": [
       "11"
      ]
     },
     "execution_count": 5,
     "metadata": {},
     "output_type": "execute_result"
    }
   ],
   "source": [
    "len(bad_games_list)"
   ]
  },
  {
   "cell_type": "code",
   "execution_count": 6,
   "metadata": {},
   "outputs": [],
   "source": [
    "player_dict = get_players(league='NBA',from_year=2020, to_year=2020)\n",
    "player_id = [player['pID'] for player in player_dict]\n",
    "team_dict = get_teams(league='NBA') # Creating Team Dictionary\n",
    "team_id = [x['TeamID'] for x in team_dict ]"
   ]
  },
  {
   "cell_type": "code",
   "execution_count": 7,
   "metadata": {},
   "outputs": [],
   "source": [
    "game = games_list[0]\n",
    "possession = game.possessions.items[2]\n",
    "possession_event = possession.events\n",
    "event = possession_event[0]"
   ]
  },
  {
   "cell_type": "code",
   "execution_count": 15,
   "metadata": {
    "tags": []
   },
   "outputs": [
    {
     "name": "stderr",
     "output_type": "stream",
     "text": [
      "100%|██████████| 1069/1069 [00:05<00:00, 186.52it/s]\n"
     ]
    }
   ],
   "source": [
    "# Get Location Data\n",
    "from pbpstats.resources.enhanced_pbp import FieldGoal\n",
    "from pbpstats.resources.enhanced_pbp import Rebound\n",
    "game_id, period, clock, seconds_remaining,poss_length = [],[],[],[],[]\n",
    "team_id, player1_id= [],[]\n",
    "locX, locY, distance, shot_value, shot_type = [],[],[],[],[]\n",
    "is_made, is_putback, is_assisted, player2_id  = [],[],[],[]\n",
    "len_diffp = 0\n",
    "pos_store = []\n",
    "i = 0\n",
    "ii = 0\n",
    "for game in tqdm(games_list):\n",
    "    for possession in game.possessions.items:\n",
    "        for possession_event in possession.events:\n",
    "            if isinstance(possession_event, FieldGoal):\n",
    "                try: \n",
    "                    game_id.append(possession_event.game_id)\n",
    "                    period.append(possession_event.period)\n",
    "                    clock.append(possession_event.clock)\n",
    "                    seconds_remaining.append(possession_event.seconds_remaining)\n",
    "                    poss_length.append(possession_event.seconds_since_previous_event)\n",
    "                    team_id.append(possession_event.team_id)\n",
    "                    player1_id.append(possession_event.player1_id)\n",
    "                    locX.append(possession_event.locX)\n",
    "                    locY.append(possession_event.locY)\n",
    "                    distance.append(possession_event.distance)\n",
    "                    shot_value.append(possession_event.shot_value)\n",
    "                    shot_type.append(possession_event.shot_type)\n",
    "                    is_made.append(possession_event.is_made)\n",
    "                    \n",
    "                    is_assisted.append(possession_event.is_assisted)\n",
    "                    if possession_event.is_assisted:\n",
    "                        player2_id.append(possession_event.player2_id)\n",
    "                    else:\n",
    "                        player2_id.append(0)\n",
    "                    ii += 1\n",
    "                    # print(\"ii = {0}\".format(ii))\n",
    "                    is_putback.append(possession_event.is_putback)\n",
    "                except:\n",
    "                    is_putback.append(False)\n",
    "    i += 1\n",
    "    # print(\"i = {0}\".format(i))\n",
    "    clear_output(wait=True)"
   ]
  },
  {
   "cell_type": "code",
   "execution_count": null,
   "metadata": {},
   "outputs": [],
   "source": [
    "player1_name = []\n",
    "for pID in player1_id:\n",
    "    player1_name.append([player['Name'] for player in player_dict if player['pID'] == pID]) \n",
    "player1_name = list(itertools.chain(*player1_name))\n",
    "player2_name = []\n",
    "for pID in player2_id:\n",
    "    if pID==0:\n",
    "        player2_name.append(['None'])\n",
    "    else:     \n",
    "        player2_name.append([player['Name'] for player in player_dict if player['pID'] == pID]) \n",
    "player2_name = list(itertools.chain(*player2_name))\n",
    "team_name = []\n",
    "for tID in team_id:  \n",
    "    team_name.append([team['Team'] for team in team_dict if team['TeamID'] == tID])\n",
    "team_name = list(itertools.chain(*team_name))"
   ]
  },
  {
   "cell_type": "code",
   "execution_count": 33,
   "metadata": {},
   "outputs": [
    {
     "data": {
      "text/plain": [
       "188859"
      ]
     },
     "execution_count": 33,
     "metadata": {},
     "output_type": "execute_result"
    }
   ],
   "source": [
    "len(team_name)"
   ]
  },
  {
   "cell_type": "code",
   "execution_count": 29,
   "metadata": {},
   "outputs": [
    {
     "data": {
      "text/html": [
       "<div>\n",
       "<style scoped>\n",
       "    .dataframe tbody tr th:only-of-type {\n",
       "        vertical-align: middle;\n",
       "    }\n",
       "\n",
       "    .dataframe tbody tr th {\n",
       "        vertical-align: top;\n",
       "    }\n",
       "\n",
       "    .dataframe thead th {\n",
       "        text-align: right;\n",
       "    }\n",
       "</style>\n",
       "<table border=\"1\" class=\"dataframe\">\n",
       "  <thead>\n",
       "    <tr style=\"text-align: right;\">\n",
       "      <th></th>\n",
       "      <th>game_id</th>\n",
       "      <th>period</th>\n",
       "      <th>clock</th>\n",
       "      <th>seconds_remaining</th>\n",
       "      <th>poss_length</th>\n",
       "      <th>team_id</th>\n",
       "      <th>team_name</th>\n",
       "      <th>player_id</th>\n",
       "      <th>player_name</th>\n",
       "      <th>locX</th>\n",
       "      <th>locY</th>\n",
       "      <th>distance</th>\n",
       "      <th>shot_value</th>\n",
       "      <th>shot_type</th>\n",
       "      <th>is_made</th>\n",
       "      <th>is_assisted</th>\n",
       "      <th>player_ast_id</th>\n",
       "      <th>player_ast_name</th>\n",
       "      <th>is_putback</th>\n",
       "    </tr>\n",
       "  </thead>\n",
       "  <tbody>\n",
       "    <tr>\n",
       "      <th>0</th>\n",
       "      <td>0022000001</td>\n",
       "      <td>1</td>\n",
       "      <td>11:22</td>\n",
       "      <td>682.0</td>\n",
       "      <td>16.0</td>\n",
       "      <td>1610612751</td>\n",
       "      <td>Brooklyn Nets</td>\n",
       "      <td>202681</td>\n",
       "      <td>Kyrie Irving</td>\n",
       "      <td>-2</td>\n",
       "      <td>220</td>\n",
       "      <td>22.0</td>\n",
       "      <td>2</td>\n",
       "      <td>LongMidRange</td>\n",
       "      <td>True</td>\n",
       "      <td>True</td>\n",
       "      <td>201142</td>\n",
       "      <td>Kevin Durant</td>\n",
       "      <td>False</td>\n",
       "    </tr>\n",
       "    <tr>\n",
       "      <th>1</th>\n",
       "      <td>0022000001</td>\n",
       "      <td>1</td>\n",
       "      <td>11:11</td>\n",
       "      <td>671.0</td>\n",
       "      <td>11.0</td>\n",
       "      <td>1610612744</td>\n",
       "      <td>Golden State Warriors</td>\n",
       "      <td>1630164</td>\n",
       "      <td>James Wiseman</td>\n",
       "      <td>9</td>\n",
       "      <td>-2</td>\n",
       "      <td>0.9</td>\n",
       "      <td>2</td>\n",
       "      <td>AtRim</td>\n",
       "      <td>True</td>\n",
       "      <td>True</td>\n",
       "      <td>203952</td>\n",
       "      <td>Andrew Wiggins</td>\n",
       "      <td>False</td>\n",
       "    </tr>\n",
       "    <tr>\n",
       "      <th>2</th>\n",
       "      <td>0022000001</td>\n",
       "      <td>1</td>\n",
       "      <td>10:49</td>\n",
       "      <td>649.0</td>\n",
       "      <td>22.0</td>\n",
       "      <td>1610612751</td>\n",
       "      <td>Brooklyn Nets</td>\n",
       "      <td>201142</td>\n",
       "      <td>Kevin Durant</td>\n",
       "      <td>-20</td>\n",
       "      <td>258</td>\n",
       "      <td>25.9</td>\n",
       "      <td>3</td>\n",
       "      <td>Arc3</td>\n",
       "      <td>True</td>\n",
       "      <td>True</td>\n",
       "      <td>203925</td>\n",
       "      <td>Joe Harris</td>\n",
       "      <td>False</td>\n",
       "    </tr>\n",
       "    <tr>\n",
       "      <th>3</th>\n",
       "      <td>0022000001</td>\n",
       "      <td>1</td>\n",
       "      <td>10:31</td>\n",
       "      <td>631.0</td>\n",
       "      <td>18.0</td>\n",
       "      <td>1610612744</td>\n",
       "      <td>Golden State Warriors</td>\n",
       "      <td>203952</td>\n",
       "      <td>Andrew Wiggins</td>\n",
       "      <td>235</td>\n",
       "      <td>46</td>\n",
       "      <td>23.9</td>\n",
       "      <td>3</td>\n",
       "      <td>Corner3</td>\n",
       "      <td>False</td>\n",
       "      <td>False</td>\n",
       "      <td>0</td>\n",
       "      <td>None</td>\n",
       "      <td>False</td>\n",
       "    </tr>\n",
       "    <tr>\n",
       "      <th>4</th>\n",
       "      <td>0022000001</td>\n",
       "      <td>1</td>\n",
       "      <td>10:23</td>\n",
       "      <td>623.0</td>\n",
       "      <td>2.0</td>\n",
       "      <td>1610612751</td>\n",
       "      <td>Brooklyn Nets</td>\n",
       "      <td>201142</td>\n",
       "      <td>Kevin Durant</td>\n",
       "      <td>48</td>\n",
       "      <td>14</td>\n",
       "      <td>5.0</td>\n",
       "      <td>2</td>\n",
       "      <td>ShortMidRange</td>\n",
       "      <td>True</td>\n",
       "      <td>False</td>\n",
       "      <td>0</td>\n",
       "      <td>None</td>\n",
       "      <td>False</td>\n",
       "    </tr>\n",
       "  </tbody>\n",
       "</table>\n",
       "</div>"
      ],
      "text/plain": [
       "      game_id  period  clock  seconds_remaining  poss_length     team_id  \\\n",
       "0  0022000001       1  11:22              682.0         16.0  1610612751   \n",
       "1  0022000001       1  11:11              671.0         11.0  1610612744   \n",
       "2  0022000001       1  10:49              649.0         22.0  1610612751   \n",
       "3  0022000001       1  10:31              631.0         18.0  1610612744   \n",
       "4  0022000001       1  10:23              623.0          2.0  1610612751   \n",
       "\n",
       "               team_name  player_id     player_name  locX  locY  distance  \\\n",
       "0          Brooklyn Nets     202681    Kyrie Irving    -2   220      22.0   \n",
       "1  Golden State Warriors    1630164   James Wiseman     9    -2       0.9   \n",
       "2          Brooklyn Nets     201142    Kevin Durant   -20   258      25.9   \n",
       "3  Golden State Warriors     203952  Andrew Wiggins   235    46      23.9   \n",
       "4          Brooklyn Nets     201142    Kevin Durant    48    14       5.0   \n",
       "\n",
       "   shot_value      shot_type  is_made  is_assisted  player_ast_id  \\\n",
       "0           2   LongMidRange     True         True         201142   \n",
       "1           2          AtRim     True         True         203952   \n",
       "2           3           Arc3     True         True         203925   \n",
       "3           3        Corner3    False        False              0   \n",
       "4           2  ShortMidRange     True        False              0   \n",
       "\n",
       "  player_ast_name  is_putback  \n",
       "0    Kevin Durant       False  \n",
       "1  Andrew Wiggins       False  \n",
       "2      Joe Harris       False  \n",
       "3            None       False  \n",
       "4            None       False  "
      ]
     },
     "execution_count": 29,
     "metadata": {},
     "output_type": "execute_result"
    }
   ],
   "source": [
    "data = pd.DataFrame({'game_id':game_id,'period':period,'clock':clock,\n",
    "                    'seconds_remaining':seconds_remaining,'poss_length':poss_length,\n",
    "                    'team_id':team_id,'team_name':team_name,'player_id':player1_id,\n",
    "                    'player_name':player1_name,'locX': locX,'locY':locY, 'distance':distance,\n",
    "                    'shot_value':shot_value,'shot_type':shot_type,'is_made':is_made,\n",
    "                    'is_assisted':is_assisted,'player_ast_id':player2_id,'player_ast_name':player2_name,\n",
    "                    'is_putback':is_putback})\n",
    "# data = data.sort_values(by=['Assists'],ascending=False)\n",
    "# data = data.reset_index(drop=True)\n",
    "data.head()"
   ]
  },
  {
   "cell_type": "code",
   "execution_count": 32,
   "metadata": {},
   "outputs": [],
   "source": [
    "data.to_csv('ShotLocationData\\Shot_Loc_2020_2021.csv',index=False)"
   ]
  },
  {
   "cell_type": "code",
   "execution_count": null,
   "metadata": {},
   "outputs": [],
   "source": []
  }
 ],
 "metadata": {
  "interpreter": {
   "hash": "761d0843975b951240ed3f8c006d1f1501cd2a4c66c1dd99cea9ed75b2c1e460"
  },
  "kernelspec": {
   "display_name": "Python 3.9.6 64-bit ('nba-dIF8YUVF-py3.9': poetry)",
   "name": "python3"
  },
  "language_info": {
   "codemirror_mode": {
    "name": "ipython",
    "version": 3
   },
   "file_extension": ".py",
   "mimetype": "text/x-python",
   "name": "python",
   "nbconvert_exporter": "python",
   "pygments_lexer": "ipython3",
   "version": "3.9.6"
  },
  "orig_nbformat": 4
 },
 "nbformat": 4,
 "nbformat_minor": 2
}
