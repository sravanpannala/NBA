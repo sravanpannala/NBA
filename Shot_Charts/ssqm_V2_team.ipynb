{
 "cells": [
  {
   "cell_type": "markdown",
   "metadata": {},
   "source": [
    "# SSQM v2.0\n",
    "## Using NBA Shooting Data: Considers shot type, closest defender distance and touch time\n",
    "## Bin shots by filtering each condition combination and then use that for SSQM"
   ]
  },
  {
   "cell_type": "code",
   "execution_count": null,
   "metadata": {},
   "outputs": [],
   "source": [
    "import os, sys\n",
    "\n",
    "sys.path.append(os.path.dirname(os.path.dirname(os.path.abspath(\"__file__\"))))\n",
    "from nbafuns import *\n",
    "# from nba_api.stats.endpoints import playerdashptshots, leaguedashplayerbiostats\n",
    "\n",
    "pd.options.mode.chained_assignment = None\n",
    "\n",
    "data_DIR1 = \"../data/box/\"\n",
    "data_DIR2 = \"../data/shots/\"\n",
    "csv_export_DIR = \"C:/Users/pansr/Documents/repos/csv/\"\n",
    "fig_DIR = \"../figs/shots/\""
   ]
  },
  {
   "cell_type": "code",
   "execution_count": null,
   "metadata": {},
   "outputs": [],
   "source": [
    "season = 2024\n",
    "df = pd.read_parquet(data_DIR2 + f\"NBA_Shots_T_{season}_All.parquet\")"
   ]
  },
  {
   "cell_type": "code",
   "execution_count": null,
   "metadata": {},
   "outputs": [],
   "source": [
    "df"
   ]
  },
  {
   "cell_type": "code",
   "execution_count": null,
   "metadata": {},
   "outputs": [],
   "source": [
    "df = df[[\"TEAM_ID\",\"TEAM_NAME\",\"TEAM_ABBREVIATION\",\"FGM\",\"FGA\",\"FG2M\",\"FG2A\",\"FG3M\",\"FG3A\", 'general_range', 'closest_def', 'touch_time']]\n",
    "df_avg = df.groupby(['general_range', 'closest_def', 'touch_time']).sum()\n",
    "df_avg = df_avg.drop(columns= [\"TEAM_ID\",\"TEAM_NAME\",\"TEAM_ABBREVIATION\"])\n",
    "df_avg[\"xFG2\"] = df_avg[\"FG2M\"]/df_avg[\"FG2A\"]\n",
    "df_avg[\"xFG3\"] = df_avg[\"FG3M\"]/df_avg[\"FG3A\"]\n",
    "df_avg1 = df_avg.copy().reset_index()\n",
    "df_avg = df_avg.drop(columns =[\"FGM\",\"FGA\",\"FG2M\",\"FG2A\",\"FG3M\",\"FG3A\"])\n",
    "df_avg = df_avg.reset_index()"
   ]
  },
  {
   "cell_type": "code",
   "execution_count": null,
   "metadata": {},
   "outputs": [],
   "source": [
    "shots = pd.merge(df,df_avg,on=['general_range', 'closest_def', 'touch_time'])\n",
    "shots[\"FG2_PCT\"] = shots[\"FG2M\"]/shots[\"FG2A\"]\n",
    "shots[\"FG3_PCT\"] = shots[\"FG3M\"]/shots[\"FG3A\"]\n",
    "shots = shots.replace([np.inf, -np.inf], np.nan)\n",
    "shots = shots.fillna(0)\n",
    "shots[\"PTS2\"] =  (2*shots[\"FG2A\"]*shots[\"FG2_PCT\"]).round(2)\n",
    "shots[\"PTS3\"] =  (3*shots[\"FG3A\"]*shots[\"FG3_PCT\"]).round(2)\n",
    "shots[\"PTS\"] =  (2*shots[\"FG2A\"]*shots[\"FG2_PCT\"] + 3*shots[\"FG3A\"]*shots[\"FG3_PCT\"]).round(2)\n",
    "shots[\"xPTS2\"] = (2*shots[\"FG2A\"]*shots[\"xFG2\"]).round(2)\n",
    "shots[\"xPTS3\"] = (3*shots[\"FG3A\"]*shots[\"xFG3\"]).round(2)\n",
    "shots[\"xPTS\"] = (2*shots[\"FG2A\"]*shots[\"xFG2\"] + 3*shots[\"FG3A\"]*shots[\"xFG3\"]).round(2)"
   ]
  },
  {
   "cell_type": "code",
   "execution_count": null,
   "metadata": {},
   "outputs": [],
   "source": [
    "# shots.query(\"PLAYER_NAME == 'LeBron James'\")"
   ]
  },
  {
   "cell_type": "code",
   "execution_count": null,
   "metadata": {},
   "outputs": [],
   "source": [
    "dfla = pd.DataFrame(df_avg1.iloc[:,3:9].mean()).T\n",
    "dfla[\"FG2_PCT\"] = dfla[\"FG2M\"]/dfla[\"FG2A\"]\n",
    "dfla[\"FG3_PCT\"] = dfla[\"FG3M\"]/dfla[\"FG3A\"]\n",
    "dfla[\"PTS2\"] =  (2*dfla[\"FG2A\"]*dfla[\"FG2_PCT\"]).round(2)\n",
    "dfla[\"PTS3\"] =  (3*dfla[\"FG3A\"]*dfla[\"FG3_PCT\"]).round(2)\n",
    "dfla[\"PTS\"] =  (2*dfla[\"FG2A\"]*dfla[\"FG2_PCT\"] + 3*dfla[\"FG3A\"]*dfla[\"FG3_PCT\"]).round(2)"
   ]
  },
  {
   "cell_type": "code",
   "execution_count": null,
   "metadata": {},
   "outputs": [],
   "source": [
    "fg = (shots\n",
    "    .groupby(['TEAM_NAME'])[['FGM', 'FGA', 'PTS', 'xPTS']]\n",
    "    .agg({'FGM': [\"sum\"], 'FGA': [\"sum\"], 'PTS': [\"sum\"], 'xPTS': [\"sum\"]}))\n",
    "fg.columns = ['FGM', 'FGA', 'PTS', 'xPTS']\n",
    "fg['eFG'] = np.round(fg['PTS']/fg['FGA']/2, 3)\n",
    "fg['xeFG'] = np.round(fg['xPTS']/fg['FGA']/2, 3)\n",
    "fg['Shot_Making'] = np.round((fg['PTS'] - fg['xPTS'])/fg['FGA'], 3)\n",
    "fg[\"Points Added\"] = fg[\"PTS\"]-fg[\"xPTS\"]\n",
    "fg = fg.reset_index()"
   ]
  },
  {
   "cell_type": "code",
   "execution_count": null,
   "metadata": {},
   "outputs": [],
   "source": [
    "df_teams = pd.read_csv(\"../data/\" + \"NBA_teams_colors_logos.csv\")\n",
    "df_teams[\"Team\"] = df_teams[\"nameTeam\"]\n",
    "df_teams = df_teams[[\"Team\",\"colorsTeam\",\"urlThumbnailTeam\"]]"
   ]
  },
  {
   "cell_type": "code",
   "execution_count": null,
   "metadata": {},
   "outputs": [],
   "source": [
    "fg = fg.sort_values(\"Shot_Making\",ascending=False).reset_index(drop=True)"
   ]
  },
  {
   "cell_type": "code",
   "execution_count": null,
   "metadata": {},
   "outputs": [],
   "source": [
    "fg[\"Team\"] = fg[\"TEAM_NAME\"]\n",
    "fg[\"team_name\"] = fg[\"TEAM_NAME\"]\n",
    "tcat = fg[\"TEAM_NAME\"].to_list()\n",
    "tcat.reverse()\n",
    "fgp = add_tinfo(fg)\n",
    "fgp[\"Team\"] = pd.Categorical(fgp[\"TEAM_NAME\"] , categories=tcat)"
   ]
  },
  {
   "cell_type": "code",
   "execution_count": null,
   "metadata": {},
   "outputs": [],
   "source": [
    "p = (\n",
    "    ggplot(fgp)\n",
    "    + aes(x=\"Team\",y=\"Shot_Making\",fill=\"colorsTeam\",image=\"image\")\n",
    "    # + geom_col(show_legend=False, position=position_stack(reverse=True),color=\"white\",alpha=0.7)\n",
    "    + geom_col(alpha=0.7,show_legend=False)\n",
    "    + geom_image(aes(y=0),size=0.06)\n",
    "    # + scale_y_continuous(labels=percent_format())\n",
    "    + scale_color_identity(aesthetics=[\"fill\"])\n",
    "    # + coord_cartesian(ylim=[0.53,0.57])\n",
    "    # + ylim([0.53,0.57])\n",
    "    + coord_flip()#ylim=[0.53,0.56]\n",
    "    + theme_idv\n",
    "    + labs(\n",
    "        y=\"Shot Making: PPS above expected\",\n",
    "        x=\"Team\",\n",
    "        title=f\"NBA Best Shot Making Teams {get_ss(season)}\",\n",
    "        subtitle=\"According to SSQM 2.0: defender distance, shot type and touch time\",\n",
    "    )\n",
    "    + pnba\n",
    "    + theme(\n",
    "        figure_size=(10,10),\n",
    "        axis_text_y=element_text(size=14),\n",
    "        axis_text_x=element_text(size=12),\n",
    "        axis_title_x=element_text(size=16),\n",
    "        axis_title_y=element_blank(),\n",
    "        plot_title=element_text(size=20),\n",
    "    )\n",
    ")\n",
    "p.save(fig_DIR + \"team_shot_making.png\", verbose=False,dpi=300)\n",
    "p"
   ]
  },
  {
   "cell_type": "code",
   "execution_count": null,
   "metadata": {},
   "outputs": [],
   "source": [
    "%reload_ext rpy2.ipython"
   ]
  },
  {
   "cell_type": "code",
   "execution_count": null,
   "metadata": {},
   "outputs": [],
   "source": [
    "fgp.columns"
   ]
  },
  {
   "cell_type": "code",
   "execution_count": null,
   "metadata": {},
   "outputs": [],
   "source": [
    "%%R -i fgp\n",
    "results <- fgp\n",
    "library(tidyverse)\n",
    "library(ggimage)\n",
    "library(ggrepel)\n",
    "theme_owen <- function() {\n",
    "  theme_minimal(base_size = 16, base_family = \"Consolas\") %+replace%\n",
    "    theme(\n",
    "      panel.grid.minor = element_blank(),\n",
    "      plot.background = element_rect(fill = \"ghostwhite\", color = \"ghostwhite\")\n",
    "    )\n",
    "}\n",
    "p <- ggplot(\n",
    "  results,\n",
    "  aes(x = xeFG, y = Shot_Making)\n",
    ") +\n",
    "  # geom_point(aes(size = aNRtg_Rank)) +\n",
    "  # scale_y_reverse() +\n",
    "  geom_hline(aes(yintercept = mean(eFG)), color = \"black\") +\n",
    "  geom_vline(aes(xintercept = mean(xeFG)), color = \"black\") +\n",
    "  # geom_abline(intercept = 222, slope = -1, color = \"black\") +\n",
    "  # geom_abline(slope = -1,color=\"black\")+\n",
    "  geom_image(\n",
    "    aes(\n",
    "      x = xeFG, y = eFG,\n",
    "      image = urlThumbnailTeam\n",
    "    ),\n",
    "    size = 0.1\n",
    "  ) +\n",
    "  # geom_text(nudge_x = 1.3, nudge_y = 0, size = 6,check_overlap = TRUE) +\n",
    "  # geom_text_repel(nudge_x = 1, nudge_y = 0.5,size=6,min.segment.length=10) +\n",
    "  # geom_label(nudge_x = 1.3, nudge_y = 0, size = 6) +\n",
    "  theme_owen() +\n",
    "  theme(\n",
    "    plot.title.position = \"plot\",\n",
    "    plot.title = element_text(face = \"bold\", size = 24, hjust = 0.5),\n",
    "    plot.margin = margin(10, 10, 15, 10),\n",
    "    plot.subtitle = element_text(size = 18),\n",
    "    plot.caption = element_text(size = 14)\n",
    "  ) +\n",
    "  theme(\n",
    "    axis.text.x = element_text(size = 14, face = \"bold\", color = \"black\"),\n",
    "    axis.text.y = element_text(size = 14, face = \"bold\", color = \"black\"),\n",
    "    axis.title.x = element_text(size = 18, face = \"bold\", colour = \"black\"),\n",
    "    axis.title.y = element_text(size = 18, face = \"bold\", colour = \"black\")\n",
    "  ) +\n",
    "  scale_y_continuous(labels=scales::percent) +\n",
    "  scale_x_continuous(labels=scales::percent) +\n",
    "  labs(\n",
    "    title = paste0(\"eFG% Actual vs Expected\"),\n",
    "    x = \"Expected eFG%\", y = \"eFG%\",\n",
    "    # subtitle = \"Net Ratings here are adjusted for Strength of Schedule | Last 10 Games Only\",\n",
    "    subtitle = \"According to SSQM v2.0, Shot Making: PPS above league avg\",\n",
    "    caption = \"@sradjoker | source: nba.com/stats\"\n",
    "  )\n",
    "ggsave(\"../figs/team_leaders/team_eFG_xeFG.png\", p, w = 10 * 1.5, h = 8 * 1.5, dpi = 300)"
   ]
  }
 ],
 "metadata": {
  "kernelspec": {
   "display_name": "dav-ub9Z_EQq-py3.12",
   "language": "python",
   "name": "python3"
  },
  "language_info": {
   "codemirror_mode": {
    "name": "ipython",
    "version": 3
   },
   "file_extension": ".py",
   "mimetype": "text/x-python",
   "name": "python",
   "nbconvert_exporter": "python",
   "pygments_lexer": "ipython3",
   "version": "3.12.0"
  }
 },
 "nbformat": 4,
 "nbformat_minor": 2
}
