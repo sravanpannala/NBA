{
 "cells": [
  {
   "cell_type": "markdown",
   "metadata": {},
   "source": [
    "# Using NBA Shooting Data: Considers shot type, shot clock, dribbles, closest defender distance and touch time\n",
    "# Find Shot Quality for each criterion separately and then average"
   ]
  },
  {
   "cell_type": "code",
   "execution_count": null,
   "metadata": {},
   "outputs": [],
   "source": [
    "import os, sys\n",
    "\n",
    "sys.path.append(os.path.dirname(os.path.dirname(os.path.abspath(\"__file__\"))))\n",
    "from nbafuns import *\n",
    "from nba_api.stats.endpoints import playerdashptshots, leaguedashplayerbiostats\n",
    "\n",
    "pd.options.mode.chained_assignment = None\n",
    "\n",
    "data_DIR = \"../fdata/\""
   ]
  },
  {
   "cell_type": "code",
   "execution_count": null,
   "metadata": {},
   "outputs": [],
   "source": [
    "league = \"NBA\"\n",
    "player_dict = get_players_pbp(league=league)\n",
    "team_data = pd.read_csv(\"../data/NBA_teams_database.csv\")\n",
    "teams_list = team_data[\"TeamID\"].tolist()\n",
    "team_dict1 = team_data.to_dict(orient=\"records\")\n",
    "teams_dict = {team[\"TeamID\"]: team[\"Team\"] for team in team_dict1}"
   ]
  },
  {
   "cell_type": "code",
   "execution_count": null,
   "metadata": {},
   "outputs": [],
   "source": [
    "season = \"2023\"\n",
    "dft = pd.read_parquet(data_DIR + f\"NBA_Player_BoxScores_Base_\"+season+\".parquet\", columns = [\"PLAYER_ID\",\"TEAM_ID\"])"
   ]
  },
  {
   "cell_type": "code",
   "execution_count": null,
   "metadata": {},
   "outputs": [],
   "source": [
    "dash_types = [\"overall\",\"shot_type\",\"shot_clock\",\"dribble\",\"closest_def\",\"closest_def_10\",\"touch_time\",\"closest_def_10\"]\n",
    "col_names = [\"SHOT_TYPE\",\"SHOT_TYPE\",\"SHOT_CLOCK_RANGE\",\"DRIBBLE_RANGE\",\"CLOSE_DEF_DIST_RANGE\",\"CLOSE_DEF_DIST_RANGE\",\"TOUCH_TIME_RANGE\",\"CLOSE_DEF_DIST_RANGE\"]"
   ]
  },
  {
   "cell_type": "code",
   "execution_count": null,
   "metadata": {},
   "outputs": [],
   "source": [
    "dfb = []\n",
    "for i in range(0,7):\n",
    "    df = pd.read_parquet(data_DIR + f\"{league}_Shots_{season}_{dash_types[i]}.parquet\")\n",
    "    df = df.drop(columns=[\"FG_PCT\",\"EFG_PCT\",\"FG2_PCT\",\"FG3_PCT\",\"GP\",\"G\"])\n",
    "    dfb.append(df)\n",
    "dfm = pd.merge(dfb[4],dfb[5], on = [\"PLAYER_ID\",\"PLAYER_NAME_LAST_FIRST\",\"CLOSE_DEF_DIST_RANGE\"], suffixes=[\"\",\"_x\"])\n",
    "dfm[\"FGM\"] =  dfm[\"FGM\"] -  dfm[\"FGM_x\"]\n",
    "dfm[\"FG2M\"] = dfm[\"FG2M\"] - dfm[\"FG2M_x\"]\n",
    "dfm[\"FG3M\"] = dfm[\"FG3M\"] - dfm[\"FG3M_x\"]\n",
    "dfm[\"FGA\"] =  dfm[\"FGA\"] -  dfm[\"FGA_x\"]\n",
    "dfm[\"FG2A\"] = dfm[\"FG2A\"] - dfm[\"FG2A_x\"]\n",
    "dfm[\"FG3A\"] = dfm[\"FG3A\"] - dfm[\"FG3A_x\"]\n",
    "dfm = dfm.drop(dfm.filter(regex = '_x').columns, axis=1)\n",
    "dfb.append(dfm)"
   ]
  },
  {
   "cell_type": "code",
   "execution_count": null,
   "metadata": {},
   "outputs": [],
   "source": [
    "dfa = []\n",
    "for i in range(0,8):\n",
    "    if i in [0,4]:\n",
    "        continue\n",
    "    df = dfb[i]\n",
    "    df_avg = df.groupby(col_names[i])[[\"FG2M\",\"FG2A\",\"FG3M\",\"FG3A\"]]\\\n",
    "        .agg({\"FG2M\": [\"sum\"],\"FG2A\": [\"sum\"],\"FG3M\": [\"sum\"],\"FG3A\": [\"sum\"]})\n",
    "    df_avg.columns = [\"FG2M\",\"FG2A\",\"FG3M\",\"FG3A\"]\n",
    "    df_avg[\"xFG2\"] = (df_avg[\"FG2M\"] / df_avg[\"FG2A\"]).round(3)\n",
    "    df_avg[\"xFG3\"] = (df_avg[\"FG3M\"] / df_avg[\"FG3A\"]).round(3)\n",
    "\n",
    "    df_tm = df_avg.reset_index()\n",
    "    df_tm = df_tm.drop(columns= [\"FG2M\",\"FG2A\",\"FG3M\",\"FG3A\"])\n",
    "    shots = pd.merge(df,df_tm,on=col_names[i])\n",
    "    shots[\"FG2_PCT\"] = shots[\"FG2M\"]/shots[\"FG2A\"]\n",
    "    shots[\"FG3_PCT\"] = shots[\"FG3M\"]/shots[\"FG3A\"]\n",
    "    shots = shots.replace([np.inf, -np.inf], np.nan)\n",
    "    shots = shots.fillna(0)\n",
    "\n",
    "    shots[\"PTS\"] =  (2*shots[\"FG2A\"]*shots[\"FG2_PCT\"] + 3*shots[\"FG3A\"]*shots[\"FG3_PCT\"]).round(2)\n",
    "    shots[\"xPTS\"] = (2*shots[\"FG2A\"]*shots[\"xFG2\"] + 3*shots[\"FG3A\"]*shots[\"xFG3\"]).round(2)\n",
    "    fg1 = (shots\n",
    "        .groupby(['PLAYER_ID'])[['FGM', 'FGA', 'PTS', 'xPTS']]\n",
    "        .agg({'FGM': [\"sum\"], 'FGA': [\"sum\"], 'PTS': [\"sum\"], 'xPTS': [\"sum\"]}))\n",
    "    fg1.columns = ['FGM', 'FGA', 'PTS', 'xPTS']\n",
    "    fg1['eFG'] = np.round(fg1['PTS']/fg1['FGA']/2, 3)\n",
    "    fg1['xeFG'] = np.round(fg1['xPTS']/fg1['FGA']/2, 3)\n",
    "    fg1['Shot_Making'] = np.round((fg1['PTS'] - fg1['xPTS'])/fg1['FGA'], 3)\n",
    "    fg1 = fg1.fillna(0)\n",
    "    fg1[\"Points_Added\"] = fg1[\"Shot_Making\"]* fg1[\"FGA\"]\n",
    "    fg1 = fg1.reset_index()\n",
    "    fg1[\"Player\"] = fg1[\"PLAYER_ID\"].map(player_dict)\n",
    "    fg1.insert(1,\"Player\",fg1.pop(\"Player\"))\n",
    "    # fg1 = fg1.drop(columns= [\"PLAYER_ID\"])\n",
    "    dfa.append(fg1)"
   ]
  },
  {
   "cell_type": "code",
   "execution_count": null,
   "metadata": {},
   "outputs": [],
   "source": [
    "fg = pd.concat(dfa)\n",
    "fg = fg.groupby(\"PLAYER_ID\")[fg.columns[2:]]\\\n",
    "        .agg({\"FGM\":[\"max\"],\"FGA\":[\"max\"],\n",
    "              \"PTS\":[\"max\"], \"xPTS\":[\"max\"],\n",
    "              \"eFG\":[\"mean\"],\"xeFG\":[\"mean\"],\"Shot_Making\":[\"mean\"],\"Points_Added\":[\"mean\"],\n",
    "              })\n",
    "fg.columns = [\"FGM\",\"FGA\",\"PTS\", \"xPTS\",\"eFG\",\"xeFG\",\"Shot_Making\",\"Points_Added\"]\n",
    "fg = fg.reset_index()\n",
    "fg[\"Player\"] = fg[\"PLAYER_ID\"].map(player_dict)\n",
    "fg.insert(1,\"Player\",fg.pop(\"Player\"))\n",
    "fg[\"Points_Added\"] = fg[\"Shot_Making\"]* fg[\"FGA\"]\n",
    "fg[['FGM', 'FGA', 'PTS']] = fg[['FGM', 'FGA', 'PTS']].round(0).astype(int)\n",
    "fg[['xPTS', 'Points_Added']] = fg[['xPTS', 'Points_Added']].round(1)\n",
    "fg[['eFG', 'xeFG']] = fg[['eFG', 'xeFG']].round(3)\n",
    "fg[['Shot_Making']] = fg[['Shot_Making']].round(3)\n",
    "fg = pd.merge(fg,dft,on=\"PLAYER_ID\")\n",
    "fg[\"Team\"] = fg[\"TEAM_ID\"].map(teams_dict)\n",
    "fg.insert(2,\"Team\",fg.pop(\"Team\"))\n",
    "fg = fg.drop(columns=[\"TEAM_ID\"])"
   ]
  },
  {
   "cell_type": "code",
   "execution_count": null,
   "metadata": {},
   "outputs": [],
   "source": [
    "fg.query(\"Player == 'Davion Mitchell'\")"
   ]
  },
  {
   "cell_type": "code",
   "execution_count": null,
   "metadata": {},
   "outputs": [],
   "source": [
    "df_e = fg.iloc[:,1:].query(\"PTS > 100\").sort_values(by=\"Points_Added\",ascending=False).reset_index(drop=True)"
   ]
  },
  {
   "cell_type": "code",
   "execution_count": null,
   "metadata": {},
   "outputs": [],
   "source": [
    "export_DIR = \"../../repos/csv/\""
   ]
  },
  {
   "cell_type": "code",
   "execution_count": null,
   "metadata": {},
   "outputs": [],
   "source": [
    "fg"
   ]
  },
  {
   "cell_type": "code",
   "execution_count": null,
   "metadata": {},
   "outputs": [],
   "source": [
    "# df_e.to_csv(export_DIR + \"NBA_Shot_Quality.csv\")"
   ]
  },
  {
   "cell_type": "code",
   "execution_count": null,
   "metadata": {},
   "outputs": [],
   "source": [
    "df_e.to_csv(\"NBA_Shot_Quality_V1.csv\")"
   ]
  },
  {
   "cell_type": "code",
   "execution_count": null,
   "metadata": {},
   "outputs": [],
   "source": [
    "df_e.query(\"Player == 'Davion Mitchell'\")"
   ]
  },
  {
   "cell_type": "code",
   "execution_count": null,
   "metadata": {},
   "outputs": [],
   "source": [
    "fg.query(\"PTS > 100\").sort_values(by=\"PTS\",ascending=False).head(20)"
   ]
  },
  {
   "cell_type": "code",
   "execution_count": null,
   "metadata": {},
   "outputs": [],
   "source": [
    "fg.query(\"PTS > 100\").sort_values(by=\"Shot_Making\",ascending=False).head(20)"
   ]
  }
 ],
 "metadata": {
  "kernelspec": {
   "display_name": "nba-ub9Z_EQq-py3.11",
   "language": "python",
   "name": "python3"
  },
  "language_info": {
   "codemirror_mode": {
    "name": "ipython",
    "version": 3
   },
   "file_extension": ".py",
   "mimetype": "text/x-python",
   "name": "python",
   "nbconvert_exporter": "python",
   "pygments_lexer": "ipython3",
   "version": "3.11.6"
  }
 },
 "nbformat": 4,
 "nbformat_minor": 2
}
