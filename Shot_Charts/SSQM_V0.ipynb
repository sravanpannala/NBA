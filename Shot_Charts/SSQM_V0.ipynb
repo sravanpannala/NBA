{
 "cells": [
  {
   "cell_type": "markdown",
   "metadata": {},
   "source": [
    "# SSQM V0\n",
    "# Simple Shot Quality Model based on League Averages"
   ]
  },
  {
   "cell_type": "code",
   "execution_count": null,
   "metadata": {},
   "outputs": [],
   "source": [
    "import os, sys\n",
    "\n",
    "sys.path.append(os.path.dirname(os.path.dirname(os.path.abspath(\"__file__\"))))\n",
    "from nbafuns import *\n",
    "from nba_api.stats.endpoints import shotchartleaguewide\n",
    "\n",
    "pd.options.mode.chained_assignment = None\n",
    "\n",
    "shots_DIR = \"./ShotLocationData/\"\n",
    "data_DIR = \"../fdata/\""
   ]
  },
  {
   "cell_type": "code",
   "execution_count": null,
   "metadata": {},
   "outputs": [],
   "source": [
    "league = \"NBA\"\n",
    "season = \"2023\"\n",
    "season_str = season + \"-\" + str(int(season)+1)[-2:]\n",
    "player_dict = get_players_pbp(league=league)\n",
    "teams_dict, teams_list = get_teams(league=\"NBA\")"
   ]
  },
  {
   "cell_type": "code",
   "execution_count": null,
   "metadata": {},
   "outputs": [],
   "source": [
    "dft = pd.read_parquet(data_DIR + f\"NBA_Player_BoxScores_Base_\"+season+\".parquet\", columns = [\"PLAYER_ID\",\"TEAM_ID\"])\n",
    "all_shots = pd.read_parquet(shots_DIR + league + \"_Shot_Details_\" + season + \".parquet\")\n",
    "all_shots.columns = map(str.lower, all_shots.columns)\n",
    "all_shots = all_shots.rename(columns={\"shot_made_flag\":\"shot_made\"})\n",
    "all_shots[\"loc_x\"] = all_shots[\"loc_x\"]/10\n",
    "all_shots[\"loc_y\"] = all_shots[\"loc_y\"]/10\n",
    "all_shots['fg2'] = np.where(all_shots['shot_type'] == '2PT Field Goal', 1, 0)\n",
    "all_shots['fg3'] = np.where(all_shots['shot_type'] == '3PT Field Goal', 1, 0)\n",
    "all_shots[\"points\"] = (2*all_shots['fg2'] + 3*all_shots['fg3'])*all_shots[\"shot_made\"]\n",
    "# shots = all_shots.loc[all_shots['shot_distance'] <= 32].reset_index(drop=True)\n",
    "# shots = all_shots.copy()"
   ]
  },
  {
   "cell_type": "code",
   "execution_count": null,
   "metadata": {},
   "outputs": [],
   "source": [
    "stats = shotchartleaguewide.ShotChartLeagueWide(league_id=\"00\", season=season_str)\n",
    "league_avg = stats.get_data_frames()[0]\n",
    "league_avg = league_avg[[\"SHOT_ZONE_BASIC\",\t\"SHOT_ZONE_AREA\",\"SHOT_ZONE_RANGE\", \"FG_PCT\"]]\n",
    "league_avg.columns = map(str.lower, league_avg.columns)\n",
    "league_avg = league_avg.rename(columns={\"fg_pct\":\"xFG\"})\n"
   ]
  },
  {
   "cell_type": "code",
   "execution_count": null,
   "metadata": {},
   "outputs": [],
   "source": [
    "league_avg"
   ]
  },
  {
   "cell_type": "code",
   "execution_count": null,
   "metadata": {},
   "outputs": [],
   "source": [
    "shots = pd.merge(all_shots,league_avg,on=[\"shot_zone_basic\",\"shot_zone_area\",\"shot_zone_range\"])"
   ]
  },
  {
   "cell_type": "code",
   "execution_count": null,
   "metadata": {},
   "outputs": [],
   "source": [
    "shots[\"xPTS\"] = (2*shots[\"fg2\"]+3*shots[\"fg3\"])*shots[\"xFG\"]"
   ]
  },
  {
   "cell_type": "code",
   "execution_count": null,
   "metadata": {},
   "outputs": [],
   "source": [
    "shots"
   ]
  },
  {
   "cell_type": "code",
   "execution_count": null,
   "metadata": {},
   "outputs": [],
   "source": [
    "fg0 = (shots\n",
    "      .groupby(['player_id'])[['points', 'xPTS', 'shot_made', 'xFG']]\n",
    "      .agg({'points': ['sum', 'count'],\n",
    "           'xPTS': ['sum'],\n",
    "           'shot_made': ['sum'],\n",
    "           'xFG': ['mean']}))\n",
    "fg0.columns = ['PTS', 'number_of_shots', 'xPTS', 'number_of_makes', 'xFG%']\n",
    "fg = fg0.reset_index()\n",
    "\n",
    "fg['eFG'] = np.round(fg['PTS']/fg['number_of_shots']/2, 3)\n",
    "fg['xeFG'] = np.round(fg['xPTS']/fg['number_of_shots']/2, 3)\n",
    "# fg['xFG%'] = np.round(fg['xFG%'], 3)\n",
    "fg['xPTS'] = np.round(fg['xPTS'], 1)\n",
    "fg = fg.rename(columns = {'player_id': \"player_id\",\n",
    "                           'number_of_shots': 'FGA',\n",
    "                           'number_of_makes': 'FGM'})\n",
    "fg['Shot_Making'] = np.round((fg['PTS'] - fg['xPTS'])/fg['FGA'], 2)\n",
    "fg = fg[['player_id', 'FGA', 'FGM', 'eFG', 'xeFG', 'PTS', 'xPTS', 'Shot_Making']]\n",
    "# fg = fg[fg[\"PTS\"]>100]\n",
    "fg[\"Points_Added\"] = fg[\"Shot_Making\"]* fg[\"FGA\"]\n",
    "fg = fg.rename(columns = {\"player_id\":\"PLAYER_ID\"})\n",
    "fg[\"Player\"] = fg[\"PLAYER_ID\"].map(player_dict)\n",
    "fg.insert(1,\"Player\",fg.pop(\"Player\"))\n",
    "fg = pd.merge(fg,dft,on=\"PLAYER_ID\")\n",
    "fg[\"Team\"] = fg[\"TEAM_ID\"].map(teams_dict)\n",
    "fg.insert(2,\"Team\",fg.pop(\"Team\"))\n",
    "fg = fg.drop(columns=[\"TEAM_ID\"])"
   ]
  },
  {
   "cell_type": "code",
   "execution_count": null,
   "metadata": {},
   "outputs": [],
   "source": [
    "df_e = fg.iloc[:,1:].query(\"PTS > 100\").sort_values(by=\"Points_Added\",ascending=False).reset_index(drop=True)\n",
    "df_e.to_csv(\"NBA_Shot_Quality_V0.csv\")"
   ]
  },
  {
   "cell_type": "code",
   "execution_count": null,
   "metadata": {},
   "outputs": [],
   "source": [
    "fg.query(\"Player == 'Davion Mitchell'\")"
   ]
  },
  {
   "cell_type": "code",
   "execution_count": null,
   "metadata": {},
   "outputs": [],
   "source": [
    "df = fg.nsmallest(20,columns=\"xeFG\")"
   ]
  },
  {
   "cell_type": "code",
   "execution_count": null,
   "metadata": {},
   "outputs": [],
   "source": [
    "df = fg.iloc[:,1:].query(\"PTS > 100\").nlargest(10,columns=\"Shot_Making\").reset_index(drop=True)\n",
    "df.index += 1"
   ]
  },
  {
   "cell_type": "code",
   "execution_count": null,
   "metadata": {},
   "outputs": [],
   "source": [
    "print(df.to_markdown())"
   ]
  },
  {
   "cell_type": "code",
   "execution_count": null,
   "metadata": {},
   "outputs": [],
   "source": [
    "sdfdsf"
   ]
  },
  {
   "cell_type": "code",
   "execution_count": null,
   "metadata": {},
   "outputs": [],
   "source": [
    "%reload_ext rpy2.ipython"
   ]
  },
  {
   "cell_type": "code",
   "execution_count": null,
   "metadata": {},
   "outputs": [],
   "source": [
    "%%R -i df\n",
    "library(tidyverse)\n",
    "library(gt)\n",
    "df <- df\n",
    "df %>% \n",
    "  gt()%>%\n",
    "  tab_header(\n",
    "    title = md(\"**Worst Volume Shot Makers 2023-24**\"),\n",
    "    subtitle = \"Based on a Simple Shot Quality Model | Shot Making: Points per shot (PPS) above league average\" \n",
    "    ) %>%\n",
    "    data_color(columns = c(xeFG), palette = c(\"red\", \"green\")) %>%\n",
    "    cols_align(align = \"center\",columns = c(Shot_Making))  %>%\n",
    "    cols_label(\n",
    "      Shot_Making = \"Shot Making\", eFG = \"eFG%\", xeFG = \"xeFG%\", Points_Added = \"Points Added\"\n",
    "    ) %>%\n",
    "    tab_options(\n",
    "        table.background.color = \"floralwhite\",\n",
    "        column_labels.font.size = 12,\n",
    "        column_labels.font.weight = 'bold',\n",
    "        row_group.font.weight = 'bold',\n",
    "        row_group.background.color = \"#E5E1D8\",\n",
    "        table.font.size = 10,\n",
    "        heading.title.font.size = 20,\n",
    "        heading.subtitle.font.size = 12.5,\n",
    "        table.font.names = \"Consolas\", \n",
    "        data_row.padding = px(2)\n",
    "    ) %>% \n",
    "    tab_source_note(\n",
    "    source_note = \"eFG%: Effective Field Goal % | xeFG%: Expected eFG% | xPTS: Expected Points\")  %>% \n",
    "    tab_source_note(\n",
    "    source_note = \"Shot Quality Model is based on league average shooting from different regions on the court\" ) %>% \n",
    "    tab_source_note(\n",
    "    source_note = \"@SravanNBA | Source: nba.com/stats\" ) %>% gtsave(\"../figs/player_leaders/points_added.png\",zoom=5) "
   ]
  },
  {
   "cell_type": "markdown",
   "metadata": {},
   "source": [
    "# Players Shot Quality by Team"
   ]
  },
  {
   "cell_type": "code",
   "execution_count": null,
   "metadata": {},
   "outputs": [],
   "source": [
    "team = 'Houston Rockets'\n",
    "shots_team = shots.query(f\"team_name == '{team}'\")\n",
    "shots_team.head()"
   ]
  },
  {
   "cell_type": "code",
   "execution_count": null,
   "metadata": {},
   "outputs": [],
   "source": [
    "fg0 = (shots_team\n",
    "      .groupby(['player_name'])[['points', 'xPTS', 'shot_made', 'xFG']]\n",
    "      .agg({'points': ['sum', 'count'],\n",
    "           'xPTS': ['sum'],\n",
    "           'shot_made': ['sum'],\n",
    "           'xFG': ['mean']}))\n",
    "fg0.columns = ['PTS', 'number_of_shots', 'xPTS', 'number_of_makes', 'xFG%']\n",
    "fg = fg0.reset_index()\n",
    "# fg = fg.nlargest(10, 'number_of_shots').sort_values('number_of_shots', ascending=False)\n",
    "\n",
    "fg['eFG%'] = np.round(fg['PTS']/fg['number_of_shots']/2, 3)\n",
    "fg['xeFG%'] = np.round(fg['xPTS']/fg['number_of_shots']/2, 3)\n",
    "# fg['xFG%'] = np.round(fg['xFG%'], 3)\n",
    "fg['xPTS'] = np.round(fg['xPTS'], 1)\n",
    "fg = fg.rename(columns = {'player_name': \"Player\",\n",
    "                           'number_of_shots': 'FGA',\n",
    "                           'number_of_makes': 'FGM'})\n",
    "fg['Shot_Making'] = np.round((fg['PTS'] - fg['xPTS'])/fg['FGA'], 2)\n",
    "fg = fg[['Player', 'FGA', 'FGM', 'eFG%', 'xeFG%', 'PTS', 'xPTS', 'Shot_Making']]\n",
    "fg = fg[fg[\"PTS\"]>10]\n",
    "fg[\"Points_Added\"] = fg[\"Shot_Making\"]* fg[\"FGA\"]"
   ]
  },
  {
   "cell_type": "code",
   "execution_count": null,
   "metadata": {},
   "outputs": [],
   "source": [
    "fg = fg.sort_values(by=\"Points_Added\",ascending=False)"
   ]
  },
  {
   "cell_type": "code",
   "execution_count": null,
   "metadata": {},
   "outputs": [],
   "source": [
    "df = fg.rename(columns={\"eFG%\":\"eFG\",\"xeFG%\":\"xeFG\"})"
   ]
  },
  {
   "cell_type": "code",
   "execution_count": null,
   "metadata": {},
   "outputs": [],
   "source": [
    "%reload_ext rpy2.ipython"
   ]
  },
  {
   "cell_type": "code",
   "execution_count": null,
   "metadata": {},
   "outputs": [],
   "source": [
    "%%R -i df\n",
    "library(tidyverse)\n",
    "library(gt)\n",
    "df <- df\n",
    "df %>% \n",
    "  gt()%>%\n",
    "  tab_header(\n",
    "    title = md(\"**Houston Rockets Shot Making 2023-24**\"),\n",
    "    subtitle = \"Based on a Simple Shot Quality Model\" \n",
    "    ) %>%\n",
    "    data_color(columns = c(xeFG), palette = c(\"red\", \"green\")) %>%\n",
    "    cols_align(align = \"center\",columns = c(Shot_Making,Points_Added))  %>%\n",
    "    cols_label(\n",
    "      Shot_Making = \"Shot Making\", eFG = \"eFG%\", xeFG = \"xeFG%\", Points_Added = \"Points Added\"\n",
    "    ) %>%\n",
    "    tab_options(\n",
    "        table.background.color = \"floralwhite\",\n",
    "        column_labels.font.size = 12,\n",
    "        column_labels.font.weight = 'bold',\n",
    "        row_group.font.weight = 'bold',\n",
    "        row_group.background.color = \"#E5E1D8\",\n",
    "        table.font.size = 10,\n",
    "        heading.title.font.size = 20,\n",
    "        heading.subtitle.font.size = 12.5,\n",
    "        table.font.names = \"Consolas\", \n",
    "        data_row.padding = px(2)\n",
    "    ) %>% \n",
    "    tab_source_note(\n",
    "    source_note = \"Shot Making: Points per shot (PPS) above league average\")  %>% \n",
    "     tab_source_note(\n",
    "    source_note = \"eFG%: Effective Field Goal % | xeFG%: Expected eFG% | xPTS: Expected Points\")  %>% \n",
    "    tab_source_note(\n",
    "    source_note = \"Shot Quality Model is based on league average shooting from different regions on the court\" ) %>% \n",
    "    tab_source_note(\n",
    "    source_note = \"@SravanNBA | Source: nba.com/stats\" ) %>% gtsave(\"../figs/player_leaders/rockets_points_added.png\",zoom=5) "
   ]
  }
 ],
 "metadata": {
  "kernelspec": {
   "display_name": "nba-ub9Z_EQq-py3.11",
   "language": "python",
   "name": "python3"
  },
  "language_info": {
   "codemirror_mode": {
    "name": "ipython",
    "version": 3
   },
   "file_extension": ".py",
   "mimetype": "text/x-python",
   "name": "python",
   "nbconvert_exporter": "python",
   "pygments_lexer": "ipython3",
   "version": "3.11.6"
  }
 },
 "nbformat": 4,
 "nbformat_minor": 2
}
