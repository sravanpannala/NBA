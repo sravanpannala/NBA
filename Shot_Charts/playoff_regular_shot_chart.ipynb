{
 "cells": [
  {
   "cell_type": "code",
   "execution_count": null,
   "metadata": {},
   "outputs": [],
   "source": [
    "from nba_api.stats.endpoints.shotchartdetail import ShotChartDetail\n",
    "import os, sys\n",
    "\n",
    "sys.path.append(os.path.dirname(os.path.dirname(os.path.abspath(\"__file__\"))))\n",
    "from nbafuns import *\n",
    "\n",
    "fig_DIR = \"../figs/hex_maps/\"\n",
    "shots_DIR = \"../data/ShotLocationData/\""
   ]
  },
  {
   "cell_type": "code",
   "execution_count": null,
   "metadata": {},
   "outputs": [],
   "source": [
    "year = 2023\n",
    "shots = pd.read_parquet(shots_DIR + f\"NBA_Shot_Details_{year}.parquet\")\n",
    "shots_ps = pd.read_parquet(shots_DIR + f\"NBA_Shot_Details_{year}_PS.parquet\")"
   ]
  },
  {
   "cell_type": "code",
   "execution_count": null,
   "metadata": {},
   "outputs": [],
   "source": [
    "player_shotchart = ShotChartDetail(\n",
    "    league_id=\"00\",\n",
    "    team_id=0,\n",
    "    player_id=2544,\n",
    "    context_measure_simple=\"FGA\",\n",
    "    season_nullable=get_ss(year),\n",
    "    season_type_all_star=\"Regular Season\"\n",
    ")  # , season_nullable=season)\n",
    "league_avg = player_shotchart.get_data_frames()[1]\n",
    "player_shotchart = ShotChartDetail(\n",
    "    league_id=\"00\",\n",
    "    team_id=0,\n",
    "    player_id=2544,\n",
    "    context_measure_simple=\"FGA\",\n",
    "    season_nullable=get_ss(year),\n",
    "    season_type_all_star=\"Playoffs\"\n",
    ")  # , season_nullable=season)\n",
    "league_avg_ps = player_shotchart.get_data_frames()[1]"
   ]
  },
  {
   "cell_type": "code",
   "execution_count": null,
   "metadata": {},
   "outputs": [],
   "source": [
    "bin_no = 50.0 / 1\n",
    "binned_df = create_bins(\n",
    "    data_frame=shots,\n",
    "    league_average=league_avg,\n",
    "    bin_number_x=bin_no,\n",
    "    bin_number_y=300 / (500.0 / bin_no),\n",
    ")\n",
    "data_frame = binned_df\n",
    "dropped_dups = data_frame.drop_duplicates(\n",
    "    subset=[\"BIN_LOC_X\", \"BIN_LOC_Y\"], keep=\"first\"\n",
    ")"
   ]
  },
  {
   "cell_type": "code",
   "execution_count": null,
   "metadata": {},
   "outputs": [],
   "source": [
    "bin_no = 50.0 / 1\n",
    "binned_df_ps = create_bins(\n",
    "    data_frame=shots_ps,\n",
    "    league_average=league_avg_ps,\n",
    "    bin_number_x=bin_no,\n",
    "    bin_number_y=300 / (500.0 / bin_no),\n",
    ")\n",
    "data_frame_ps = binned_df_ps\n",
    "dropped_dups_ps = data_frame_ps.drop_duplicates(\n",
    "    subset=[\"BIN_LOC_X\", \"BIN_LOC_Y\"], keep=\"first\"\n",
    ")"
   ]
  },
  {
   "cell_type": "code",
   "execution_count": null,
   "metadata": {},
   "outputs": [],
   "source": [
    "df1 = dropped_dups\n",
    "df2 = dropped_dups_ps\n",
    "df1 = df1[df1[\"SHOT_TYPE\"] == \"3PT Field Goal\"]\n",
    "# df1 = df1.query(\"SHOT_ZONE_BASIC == 'Mid-Range'\")\n",
    "# df1 = df1.nlargest(100,\"LOC_RAW_COUNTS\")\n",
    "df2 = df2.nlargest(300,\"LOC_RAW_COUNTS\")"
   ]
  },
  {
   "cell_type": "code",
   "execution_count": null,
   "metadata": {},
   "outputs": [],
   "source": [
    "len(df1)"
   ]
  },
  {
   "cell_type": "code",
   "execution_count": null,
   "metadata": {},
   "outputs": [],
   "source": [
    "df2.columns"
   ]
  },
  {
   "cell_type": "code",
   "execution_count": null,
   "metadata": {},
   "outputs": [],
   "source": [
    "bball_gray = \"#312f30\"\n",
    "bball_white = \"#dddee0\"\n",
    "bball_orange = \"#f87c24\"\n",
    "bball_light_orange = \"#fbaf7b\"\n",
    "bball_black = \"#000010\"\n",
    "dark_grey = \"#282828\"\n",
    "\n",
    "colorscale = \"Plasma\"\n",
    "\n",
    "fig = go.Figure()\n",
    "\n",
    "draw_plotly_court(fig, lw=1, margins=13, lcolor=bball_orange)\n",
    "fig.add_trace(\n",
    "    go.Scatter(\n",
    "        x=df1.BIN_LOC_X,\n",
    "        y=df1.BIN_LOC_Y,\n",
    "        mode=\"markers\",\n",
    "        name=\"markers\",\n",
    "        marker=dict(\n",
    "            # size=dropped_dups.LOC_COUNTS,\n",
    "            size=10,\n",
    "            color=\"red\",\n",
    "            # line=dict(width=0.5, color=\"White\"),\n",
    "            symbol=\"square-dot\",\n",
    "        ),\n",
    "    )\n",
    ")\n",
    "fig.update_layout(\n",
    "    plot_bgcolor=bball_black,\n",
    "    paper_bgcolor=bball_black,\n",
    "    title=dict(\n",
    "        text=\"Top 100 Shot Locations: 3 Point\",\n",
    "        y=0.975,\n",
    "        x=0.06,\n",
    "        xanchor=\"auto\",\n",
    "        yanchor=\"middle\",\n",
    "    ),\n",
    "    font=dict(family=\"Arial, Tahoma, Helvetica\", size=15, color=\"Orange\"),\n",
    ")\n",
    "fig.write_image(f\"Midrange Shot Locations {year+1}.png\", scale=5)\n",
    "fig.show()"
   ]
  },
  {
   "cell_type": "code",
   "execution_count": null,
   "metadata": {},
   "outputs": [],
   "source": [
    "bball_gray = \"#312f30\"\n",
    "bball_white = \"#dddee0\"\n",
    "bball_orange = \"#f87c24\"\n",
    "bball_light_orange = \"#fbaf7b\"\n",
    "bball_black = \"#000010\"\n",
    "dark_grey = \"#282828\"\n",
    "\n",
    "colorscale = \"Plasma\"\n",
    "\n",
    "fig = go.Figure()\n",
    "\n",
    "draw_plotly_court(fig, lw=1, margins=13, lcolor=bball_orange)\n",
    "fig.add_trace(\n",
    "    go.Scatter(\n",
    "        x=df2.BIN_LOC_X,\n",
    "        y=df2.BIN_LOC_Y,\n",
    "        mode=\"markers\",\n",
    "        name=\"markers\",\n",
    "        marker=dict(\n",
    "            # size=dropped_dups.LOC_COUNTS,\n",
    "            size=10,\n",
    "            color=\"red\",\n",
    "            # line=dict(width=0.5, color=\"White\"),\n",
    "            symbol=\"square-dot\",\n",
    "        ),\n",
    "    )\n",
    ")\n",
    "fig.update_layout(\n",
    "    plot_bgcolor=bball_black,\n",
    "    paper_bgcolor=bball_black,\n",
    "    title=dict(\n",
    "        text=\"Top 300 Shot Locations: Playoffs 2022-23\",\n",
    "        y=0.975,\n",
    "        x=0.06,\n",
    "        xanchor=\"auto\",\n",
    "        yanchor=\"middle\",\n",
    "    ),\n",
    "    font=dict(family=\"Arial, Tahoma, Helvetica\", size=15, color=\"Orange\"),\n",
    ")\n",
    "fig.write_image(f\"Playoffs Shot Locations {year+1}.png\", scale=5)\n",
    "fig.show()"
   ]
  }
 ],
 "metadata": {
  "kernelspec": {
   "display_name": "nba-ub9Z_EQq-py3.11",
   "language": "python",
   "name": "python3"
  },
  "language_info": {
   "codemirror_mode": {
    "name": "ipython",
    "version": 3
   },
   "file_extension": ".py",
   "mimetype": "text/x-python",
   "name": "python",
   "nbconvert_exporter": "python",
   "pygments_lexer": "ipython3",
   "version": "3.11.6"
  }
 },
 "nbformat": 4,
 "nbformat_minor": 2
}
