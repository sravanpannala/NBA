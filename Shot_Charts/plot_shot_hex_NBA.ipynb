{
 "cells": [
  {
   "cell_type": "markdown",
   "metadata": {},
   "source": [
    "# NBA and WNBA Short Charts using NBA API and Plotly "
   ]
  },
  {
   "cell_type": "code",
   "execution_count": null,
   "metadata": {},
   "outputs": [],
   "source": [
    "import numpy as np\n",
    "import matplotlib.pyplot as plt\n",
    "import pandas as pd\n",
    "import os\n",
    "import requests\n",
    "from nba_api.stats.endpoints.shotchartdetail import ShotChartDetail\n",
    "import plotly.graph_objects as go\n",
    "import plotly.express as px\n",
    "import os, sys\n",
    "sys.path.append(os.path.dirname(os.path.dirname(os.path.abspath(\"__file__\"))))\n",
    "from nbafuns import *\n",
    "\n",
    "fig_DIR = \"../figs/hex_maps/\""
   ]
  },
  {
   "cell_type": "markdown",
   "metadata": {},
   "source": [
    "## Chose Player data to plot"
   ]
  },
  {
   "cell_type": "code",
   "execution_count": null,
   "metadata": {},
   "outputs": [],
   "source": [
    "year = 2023\n",
    "season_type = \"Regular Season\"\n",
    "player_name = 'Stephen Curry'\n",
    "league, league_id, season = 'NBA','00',str(year)+'-'+str(year+1)[-2:]\n",
    "# player_name = 'Candace Parker'\n",
    "# league, league_id, season = 'WNBA','10',str(year)\n",
    "# player_name = 'Jonathan Kuminga'\n",
    "# league, league_id, season = 'GLeague','20',str(year)\n",
    "player_dict = get_players(league=league,from_year=year, to_year=year)\n",
    "player_id = [player['pID'] for player in player_dict if player['Name'] == player_name][0]\n",
    "player_shotchart = ShotChartDetail(league_id=league_id, team_id=0, player_id=player_id, context_measure_simple='FGA')#, season_nullable=season)\n",
    "if league == 'GLeague' and year==2020:\n",
    "    season = str(year+1)\n",
    "\n",
    "shots_df = player_shotchart.get_data_frames()[0]\n",
    "shots_df['LOC_X']=-shots_df['LOC_X']\n",
    "league_avg = player_shotchart.get_data_frames()[1]\n",
    "binned_df = create_bins(data_frame=shots_df, league_average=league_avg)\n",
    "data_frame = binned_df\n",
    "dropped_dups = data_frame.drop_duplicates(subset=['BIN_LOC_X', 'BIN_LOC_Y'], keep='first')\n",
    "dropped_dups = dropped_dups.loc[dropped_dups.BIN_LOC_Y < 417.5]\n",
    "if league=='NBA':\n",
    "    dropped_dups = dropped_dups.loc[dropped_dups.LOC_RAW_COUNTS > 1]\n",
    "# dropped_dups.head()"
   ]
  },
  {
   "cell_type": "markdown",
   "metadata": {},
   "source": [
    "## Figure Settings and Plot "
   ]
  },
  {
   "cell_type": "code",
   "execution_count": null,
   "metadata": {},
   "outputs": [],
   "source": [
    "bball_gray = '#312f30'\n",
    "bball_white = '#dddee0'\n",
    "bball_orange = '#f87c24'\n",
    "bball_light_orange = '#fbaf7b'\n",
    "bball_black = '#000010'\n",
    "dark_grey = '#282828'\n",
    "\n",
    "colorscale = 'Plasma'\n",
    "\n",
    "fig = go.Figure()\n",
    "\n",
    "draw_plotly_court(fig,lw=1,margins=13,lcolor=bball_orange)\n",
    "fig.add_trace(go.Scatter(\n",
    "    x=dropped_dups.BIN_LOC_X, y=dropped_dups.BIN_LOC_Y, mode='markers', name='markers',\n",
    "    text = dropped_dups.LOC_ZONE_PERCENTAGE\t,\n",
    "    marker=dict(\n",
    "        size=dropped_dups.LOC_COUNTS, sizemode='area', sizeref=1.5, \n",
    "        sizemin=2.5,\n",
    "        color=dropped_dups.PCT_LEAGUE_COMPARISON_ZONE, colorscale=colorscale,\n",
    "        colorbar=dict(\n",
    "            thickness=15,\n",
    "            x=0.85,\n",
    "            y=0.87,\n",
    "            yanchor='middle',\n",
    "            len=0.2,\n",
    "            title=dict(\n",
    "                text=\"<B>Accuracy</B>\",\n",
    "                font=dict(\n",
    "                    size=11,\n",
    "                    color='White'\n",
    "                ),\n",
    "            ),\n",
    "            tickvals=[-10, 0, 10],\n",
    "            ticktext=['Worse','Average','Better'],\n",
    "            tickfont=dict(\n",
    "                size=11,\n",
    "                color='White'\n",
    "            )\n",
    "        ),\n",
    "        cmin=-10, cmax=10,\n",
    "        line=dict(width=0.5, color='White'), symbol='hexagon',\n",
    "    ),\n",
    "    hovertemplate ='<i>FG%</i>: %{text:.0f}<extra></extra>',\n",
    "))\n",
    "layout_update_plotly(fig,player_name,season, league, season_type, bball_black)\n",
    "fig.write_image(fig_DIR+\"Hex Map {0} {1}.png\".format(player_name,season),scale=5)\n",
    "fig.show()"
   ]
  }
 ],
 "metadata": {
  "interpreter": {
   "hash": "761d0843975b951240ed3f8c006d1f1501cd2a4c66c1dd99cea9ed75b2c1e460"
  },
  "kernelspec": {
   "display_name": "Python 3.9.6 64-bit ('nba-dIF8YUVF-py3.9': poetry)",
   "name": "python3"
  },
  "language_info": {
   "codemirror_mode": {
    "name": "ipython",
    "version": 3
   },
   "file_extension": ".py",
   "mimetype": "text/x-python",
   "name": "python",
   "nbconvert_exporter": "python",
   "pygments_lexer": "ipython3",
   "version": "3.9.7"
  },
  "orig_nbformat": 4
 },
 "nbformat": 4,
 "nbformat_minor": 2
}
