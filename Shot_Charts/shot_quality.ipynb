{
 "cells": [
  {
   "cell_type": "markdown",
   "metadata": {},
   "source": [
    "# Shot Quality based on Andrew Patton's Tutorial"
   ]
  },
  {
   "cell_type": "code",
   "execution_count": null,
   "metadata": {},
   "outputs": [],
   "source": [
    "import os, sys\n",
    "\n",
    "sys.path.append(os.path.dirname(os.path.dirname(os.path.abspath(\"__file__\"))))\n",
    "from nbafuns import *\n",
    "\n",
    "from sklearn.model_selection import train_test_split\n",
    "import statsmodels.api as sm\n",
    "import numpy as np\n",
    "from sklearn.metrics import mean_squared_error\n",
    "pd.options.mode.chained_assignment = None\n",
    "\n",
    "shots_DIR = \"../fdata/ShotLocationData/\""
   ]
  },
  {
   "cell_type": "markdown",
   "metadata": {},
   "source": [
    "# Andrew Patton's Code"
   ]
  },
  {
   "cell_type": "code",
   "execution_count": null,
   "metadata": {},
   "outputs": [],
   "source": [
    "league = \"NBA\"\n",
    "season = \"2022\"\n",
    "season_start = 2015\n",
    "season_end = 2024\n",
    "seasons = np.arange(season_start, season_end, 1).astype(str)"
   ]
  },
  {
   "cell_type": "code",
   "execution_count": null,
   "metadata": {},
   "outputs": [],
   "source": [
    "shota = [] \n",
    "for season in seasons:\n",
    "    df1 = pd.read_parquet(shots_DIR + league + \"_Shot_Details_\" + season + \".parquet\")\n",
    "    shota.append(df1)\n",
    "all_shots = pd.concat(shota)\n",
    "all_shots.columns = map(str.lower, all_shots.columns)\n",
    "all_shots = all_shots.rename(columns={\"shot_made_flag\":\"shot_made\"})\n",
    "all_shots[\"loc_x\"] = all_shots[\"loc_x\"]/10\n",
    "all_shots[\"loc_y\"] = all_shots[\"loc_y\"]/10\n",
    "all_shots['fg2'] = np.where(all_shots['shot_type'] == '2PT Field Goal', 1, 0)\n",
    "all_shots['fg3'] = np.where(all_shots['shot_type'] == '3PT Field Goal', 1, 0)\n",
    "all_shots[\"points\"] = (2*all_shots['fg2'] + 3*all_shots['fg3'])*all_shots[\"shot_made\"]\n",
    "shots = all_shots.loc[all_shots['shot_distance'] <= 32].reset_index(drop=True)"
   ]
  },
  {
   "cell_type": "code",
   "execution_count": null,
   "metadata": {},
   "outputs": [],
   "source": [
    "# fig, ax = plt.subplots(figsize=(4, 3))\n",
    "# #plt.axis('equal')\n",
    "# plt.xlim(-25, 25)\n",
    "# plt.ylim(-4, 45)\n",
    "# plt.title(\"Shots!\")\n",
    "# sns.scatterplot(\n",
    "#     data=shots, \n",
    "#     x=\"loc_x\", \n",
    "#     y=\"loc_y\", \n",
    "#     hue=\"shot_type\",\n",
    "#     alpha = 0.25)\n",
    "# plt.show()"
   ]
  },
  {
   "cell_type": "code",
   "execution_count": null,
   "metadata": {},
   "outputs": [],
   "source": [
    "train_shots, test_shots = train_test_split(shots, train_size=0.75, random_state=42)\n",
    "## NOTE THAT Y COMES FIRST UNLIKE SKLEARN\n",
    "y_train = train_shots['points']\n",
    "X_train = train_shots[['fg2', 'fg3']]\n",
    "model = sm.OLS(y_train, X_train).fit()\n",
    "model.summary()"
   ]
  },
  {
   "cell_type": "code",
   "execution_count": null,
   "metadata": {},
   "outputs": [],
   "source": [
    "y_test = test_shots['points']\n",
    "X_test = test_shots[['fg2', 'fg3']]\n",
    "test_shots['pred_PPS'] = model.predict(X_test).values\n",
    "\n",
    "results_by_player = (test_shots\n",
    "                     .groupby(['player_name', 'shot_type'])[['points', 'pred_PPS']]\n",
    "                     .agg({'points': ['sum', 'count'],\n",
    "                           'pred_PPS': ['sum']}))\n",
    "\n",
    "results_by_player.columns = ['total_points', 'number_of_shots', 'total_pred_points']\n",
    "results_by_player = results_by_player.reset_index()\n",
    "results_by_player['total_resid'] = results_by_player['total_pred_points'] - results_by_player['total_points']\n",
    "results_by_player['resid_per_shot'] = results_by_player['total_resid']/results_by_player['number_of_shots']\n",
    "results_by_player['pps_actual'] = results_by_player['total_points']/results_by_player['number_of_shots']\n",
    "results_by_player['pps_pred'] = results_by_player['total_pred_points']/results_by_player['number_of_shots']\n",
    "\n",
    "twos = results_by_player.loc[results_by_player['shot_type'] == \"2PT Field Goal\"]\n",
    "threes = results_by_player.loc[results_by_player['shot_type'] == \"3PT Field Goal\"]\n",
    "\n",
    "jittered = np.random.normal(1, 0.05, len(twos['pps_actual']))\n",
    "\n",
    "f, ax = plt.subplots(figsize=(6, 10))\n",
    "plt.title(\"I wish this was ggplot :(\")\n",
    "plt.ylabel(\"Actual PPS\")\n",
    "plt.xlabel(\"Jittered (1.10 predicted PPS)\")\n",
    "sns.scatterplot(data=twos,\n",
    "                y=\"pps_actual\",\n",
    "                x=jittered,\n",
    "                hue=\"resid_per_shot\",\n",
    "                size=\"number_of_shots\",\n",
    "                alpha=0.65,\n",
    "                sizes=(20, 200),\n",
    "                palette=sns.color_palette(\"vlag\", as_cmap=True)\n",
    "                )\n",
    "plt.show()\n",
    "\n",
    "two_error = np.round(mean_squared_error(y_true=twos['pps_actual'],\n",
    "                               y_pred=twos['pps_pred'],\n",
    "                               sample_weight=twos['number_of_shots'],\n",
    "                               squared=False), 3)\n",
    "\n",
    "three_error = np.round(mean_squared_error(y_true=threes['pps_actual'],\n",
    "                                 y_pred=threes['pps_pred'],\n",
    "                                 sample_weight=threes['number_of_shots'],\n",
    "                                 squared=False), 3)\n",
    "\n",
    "print(two_error) ## I have no idea how to include variables in the markdown cell\n",
    "print(three_error) ## I have no idea how to include variables in the markdown cell"
   ]
  },
  {
   "cell_type": "code",
   "execution_count": null,
   "metadata": {},
   "outputs": [],
   "source": [
    "## NOTE THAT Y COMES FIRST UNLIKE SKLEARN\n",
    "X_train = train_shots[['fg2', 'fg3', 'shot_distance']]\n",
    "X_test = test_shots[['fg2', 'fg3', 'shot_distance']]\n",
    "model = sm.OLS(y_train, X_train).fit()\n",
    "model.summary()\n",
    "test_shots['pred_PPS'] = model.predict(X_test).values\n",
    "\n",
    "results_by_player = (test_shots\n",
    "                     .groupby(['player_name', 'shot_type'])[['points', 'pred_PPS']]\n",
    "                     .agg({'points': ['sum', 'count'],\n",
    "                           'pred_PPS': ['sum']}))\n",
    "\n",
    "results_by_player.columns = ['total_points', 'number_of_shots', 'total_pred_points']\n",
    "results_by_player = results_by_player.reset_index()\n",
    "results_by_player['total_resid'] = results_by_player['total_pred_points'] - results_by_player['total_points']\n",
    "results_by_player['resid_per_shot'] = results_by_player['total_resid']/results_by_player['number_of_shots']\n",
    "results_by_player['pps_actual'] = results_by_player['total_points']/results_by_player['number_of_shots']\n",
    "results_by_player['pps_pred'] = results_by_player['total_pred_points']/results_by_player['number_of_shots']\n",
    "\n",
    "twos = results_by_player.loc[results_by_player['shot_type'] == \"2PT Field Goal\"]\n",
    "threes = results_by_player.loc[results_by_player['shot_type'] == \"3PT Field Goal\"]\n",
    "\n",
    "two_error = np.round(mean_squared_error(y_true=twos['pps_actual'],\n",
    "                               y_pred=twos['pps_pred'],\n",
    "                               sample_weight=twos['number_of_shots'],\n",
    "                               squared=False), 3)\n",
    "\n",
    "three_error = np.round(mean_squared_error(y_true=threes['pps_actual'],\n",
    "                                 y_pred=threes['pps_pred'],\n",
    "                                 sample_weight=threes['number_of_shots'],\n",
    "                                 squared=False), 3)\n",
    "\n",
    "print(two_error) ## I have no idea how to include variables in the markdown cell\n",
    "print(three_error) ## I have no idea how to include variables in the markdown cell"
   ]
  },
  {
   "cell_type": "code",
   "execution_count": null,
   "metadata": {},
   "outputs": [],
   "source": [
    "pd.options.mode.chained_assignment = None\n",
    "\n",
    "shots['rim_fg'] = np.where(shots['shot_distance'] <= 6, 1, 0)\n",
    "shots['corner_three'] = np.where((shots['fg3'] == 1) & (shots['loc_y'] <= 5), 1, 0)\n",
    "\n",
    "train_shots, test_shots = train_test_split(shots, train_size=0.75, random_state=42)\n",
    "y_train = train_shots['shot_made']\n",
    "X_train = train_shots[['fg2', \"shot_distance\", \"rim_fg\", \"corner_three\"]]\n",
    "X_train = sm.add_constant(X_train) ## this adds the intercept back in (default is no intercept for sm)\n",
    "model = sm.GLM(y_train, \n",
    "               X_train, \n",
    "               family=sm.families.Binomial()).fit()\n",
    "model.summary()"
   ]
  },
  {
   "cell_type": "code",
   "execution_count": null,
   "metadata": {},
   "outputs": [],
   "source": [
    "X_test = test_shots[['fg2', \"shot_distance\", \"rim_fg\", \"corner_three\"]]\n",
    "X_test = sm.add_constant(X_test)\n",
    "preds = model.predict(X_test).values\n",
    "\n",
    "test_shots['xFG'] = preds\n",
    "test_shots['xPTS'] = np.where(test_shots['shot_type'] == \"2PT Field Goal\",\n",
    "                             2 * test_shots['xFG'],\n",
    "                             3 * test_shots['xFG'])\n",
    "\n",
    "fg = (test_shots\n",
    "      .groupby(['player_name', 'shot_type'])[['points', 'xPTS', 'shot_made', 'xFG']]\n",
    "      .agg({'points': ['sum', 'count'],\n",
    "           'xPTS': ['sum'],\n",
    "           'shot_made': ['sum'],\n",
    "           'xFG': ['mean']}))\n",
    "\n",
    "\n",
    "fg.columns = ['PTS', 'number_of_shots', 'xPTS', 'number_of_makes', 'xFG%']\n",
    "fg2 = fg.reset_index()\n",
    "fg2 = fg2.loc[fg2['shot_type'] == '2PT Field Goal']\n",
    "# fg2 = fg2.nlargest(10, 'number_of_shots').sort_values('number_of_shots', ascending=False)\n",
    "\n",
    "fg2['FG%'] = np.round(fg2['number_of_makes']/fg2['number_of_shots'], 3)\n",
    "fg2['xFG%'] = np.round(fg2['xFG%'], 3)\n",
    "fg2['xPTS'] = np.round(fg2['xPTS'], 3)\n",
    "fg2 = fg2.rename(columns = {'player_name': \"Player\",\n",
    "                           'number_of_shots': 'FG2A',\n",
    "                           'number_of_makes': 'FG2M'})\n",
    "fg2['Shot Making'] = np.round((fg2['PTS'] - fg2['xPTS'])/fg2['FG2A'], 2)\n",
    "fg2[['Player', 'FG2A', 'FG2M', 'FG%', 'xFG%', 'PTS', 'xPTS', 'Shot Making']]"
   ]
  },
  {
   "cell_type": "code",
   "execution_count": null,
   "metadata": {},
   "outputs": [],
   "source": [
    "fg3 = fg.reset_index()\n",
    "fg3 = fg3.loc[fg3['shot_type'] == '3PT Field Goal']\n",
    "# fg3 = fg3.nlargest(10, 'number_of_shots').sort_values('number_of_shots', ascending=False)\n",
    "\n",
    "fg3['FG%'] = np.round(fg3['number_of_makes']/fg3['number_of_shots'], 3)\n",
    "fg3['xFG%'] = np.round(fg3['xFG%'], 3)\n",
    "fg3['xPTS'] = np.round(fg3['xPTS'], 3)\n",
    "fg3 = fg3.rename(columns = {'player_name': \"Player\",\n",
    "                           'number_of_shots': 'FG3A',\n",
    "                           'number_of_makes': 'FG3M'})\n",
    "fg3['Shot Making'] = np.round((fg3['PTS'] - fg3['xPTS'])/fg3['FG3A'], 2)\n",
    "fg3[['Player', 'FG3A', 'FG3M', 'FG%', 'xFG%', 'PTS', 'xPTS', 'Shot Making']]"
   ]
  },
  {
   "cell_type": "code",
   "execution_count": null,
   "metadata": {},
   "outputs": [],
   "source": [
    "pd.merge(fg2,fg3,on =\"Player\", suffixes=[\"_2\", \"_3\"])"
   ]
  },
  {
   "cell_type": "code",
   "execution_count": null,
   "metadata": {},
   "outputs": [],
   "source": [
    "[fg.get_group(x) for x in fg.groups]"
   ]
  },
  {
   "cell_type": "code",
   "execution_count": null,
   "metadata": {},
   "outputs": [],
   "source": [
    "fg"
   ]
  },
  {
   "cell_type": "markdown",
   "metadata": {},
   "source": [
    "# My Model: Statsmodels"
   ]
  },
  {
   "cell_type": "code",
   "execution_count": null,
   "metadata": {},
   "outputs": [],
   "source": [
    "league = \"NBA\"\n",
    "season_start = 2010\n",
    "season_end = 2023\n",
    "seasons = np.arange(season_start, season_end, 1).astype(str)\n",
    "\n",
    "shota = [] \n",
    "for season in seasons:\n",
    "    df1 = pd.read_parquet(shots_DIR + league + \"_Shot_Details_\" + season + \".parquet\")\n",
    "    shota.append(df1)\n",
    "all_shots = pd.concat(shota)\n",
    "all_shots.columns = map(str.lower, all_shots.columns)\n",
    "all_shots = all_shots.rename(columns={\"shot_made_flag\":\"shot_made\"})\n",
    "all_shots[\"loc_x\"] = all_shots[\"loc_x\"]/10\n",
    "all_shots[\"loc_y\"] = all_shots[\"loc_y\"]/10\n",
    "all_shots['fg2'] = np.where(all_shots['shot_type'] == '2PT Field Goal', 1, 0)\n",
    "all_shots['fg3'] = np.where(all_shots['shot_type'] == '3PT Field Goal', 1, 0)\n",
    "all_shots[\"points\"] = (2*all_shots['fg2'] + 3*all_shots['fg3'])*all_shots[\"shot_made\"]\n",
    "shots = all_shots.loc[all_shots['shot_distance'] <= 32].reset_index(drop=True)\n",
    "shots[\"shot_zone_basic\"][shots[\"shot_zone_basic\"].str.contains(\"Corner\")] = \"Corner 3\"\n",
    "shots[\"RA\"] = np.where(shots[\"shot_zone_basic\"] == \"Restricted Area\",1,0)\n",
    "shots[\"Paint\"] = np.where(shots[\"shot_zone_basic\"] == \"In The Paint (Non-RA)\",1,0)\n",
    "shots[\"Abv_3\"] = np.where(shots[\"shot_zone_basic\"] == \"Above the Break 3\",1,0)\n",
    "shots[\"MidR\"] = np.where(shots[\"shot_zone_basic\"] == \"Mid-Range\",1,0)\n",
    "shots[\"Cor_3\"] = np.where(shots[\"shot_zone_basic\"] == \"Corner 3\",1,0)\n",
    "train_shots = shots.copy()"
   ]
  },
  {
   "cell_type": "code",
   "execution_count": null,
   "metadata": {},
   "outputs": [],
   "source": [
    "# train_shots, test_shots = train_test_split(shots, train_size=0.75, random_state=42)\n",
    "y_train = train_shots['shot_made']\n",
    "X_train = train_shots[[\"shot_distance\", \"RA\" ,\"Paint\",\"MidR\",\"Abv_3\",\"Cor_3\"]]\n",
    "X_train = sm.add_constant(X_train) ## this adds the intercept back in (default is no intercept for sm)\n",
    "model = sm.GLM(y_train, \n",
    "               X_train, \n",
    "               family=sm.families.Binomial()).fit()\n",
    "model.summary()"
   ]
  },
  {
   "cell_type": "code",
   "execution_count": null,
   "metadata": {},
   "outputs": [],
   "source": [
    "league = \"NBA\"\n",
    "season_start = 2023\n",
    "season_end = 2024\n",
    "seasons = np.arange(season_start, season_end, 1).astype(str)\n",
    "\n",
    "shota = [] \n",
    "for season in seasons:\n",
    "    df1 = pd.read_parquet(shots_DIR + league + \"_Shot_Details_\" + season + \".parquet\")\n",
    "    shota.append(df1)\n",
    "all_shots = pd.concat(shota)\n",
    "all_shots.columns = map(str.lower, all_shots.columns)\n",
    "all_shots = all_shots.rename(columns={\"shot_made_flag\":\"shot_made\"})\n",
    "all_shots[\"loc_x\"] = all_shots[\"loc_x\"]/10\n",
    "all_shots[\"loc_y\"] = all_shots[\"loc_y\"]/10\n",
    "all_shots['fg2'] = np.where(all_shots['shot_type'] == '2PT Field Goal', 1, 0)\n",
    "all_shots['fg3'] = np.where(all_shots['shot_type'] == '3PT Field Goal', 1, 0)\n",
    "all_shots[\"points\"] = (2*all_shots['fg2'] + 3*all_shots['fg3'])*all_shots[\"shot_made\"]\n",
    "shots = all_shots.loc[all_shots['shot_distance'] <= 32].reset_index(drop=True)\n",
    "shots[\"shot_zone_basic\"][shots[\"shot_zone_basic\"].str.contains(\"Corner\")] = \"Corner 3\"\n",
    "shots[\"RA\"] = np.where(shots[\"shot_zone_basic\"] == \"Restricted Area\",1,0)\n",
    "shots[\"Paint\"] = np.where(shots[\"shot_zone_basic\"] == \"In The Paint (Non-RA)\",1,0)\n",
    "shots[\"Abv_3\"] = np.where(shots[\"shot_zone_basic\"] == \"Above the Break 3\",1,0)\n",
    "shots[\"MidR\"] = np.where(shots[\"shot_zone_basic\"] == \"Mid-Range\",1,0)\n",
    "shots[\"Cor_3\"] = np.where(shots[\"shot_zone_basic\"] == \"Corner 3\",1,0)\n",
    "test_shots = shots.copy()"
   ]
  },
  {
   "cell_type": "code",
   "execution_count": null,
   "metadata": {},
   "outputs": [],
   "source": [
    "X_test = test_shots[[\"shot_distance\", \"RA\" ,\"Paint\",\"MidR\",\"Abv_3\",\"Cor_3\"]]\n",
    "X_test = sm.add_constant(X_test) \n",
    "preds = model.predict(X_test).values"
   ]
  },
  {
   "cell_type": "code",
   "execution_count": null,
   "metadata": {},
   "outputs": [],
   "source": [
    "test_shots['xFG'] = preds\n",
    "test_shots['xPTS'] = np.where(test_shots['shot_type'] == \"2PT Field Goal\",\n",
    "                             2 * test_shots['xFG'],\n",
    "                             3 * test_shots['xFG'])\n",
    "fg = (test_shots\n",
    "      .groupby(['player_name', 'shot_type'])[['points', 'xPTS', 'shot_made', 'xFG']]\n",
    "      .agg({'points': ['sum', 'count'],\n",
    "           'xPTS': ['sum'],\n",
    "           'shot_made': ['sum'],\n",
    "           'xFG': ['mean']}))\n",
    "\n",
    "\n",
    "fg.columns = ['PTS', 'number_of_shots', 'xPTS', 'number_of_makes', 'xFG%']"
   ]
  },
  {
   "cell_type": "code",
   "execution_count": null,
   "metadata": {},
   "outputs": [],
   "source": [
    "\n",
    "fg2 = fg.reset_index()\n",
    "fg2 = fg2.loc[fg2['shot_type'] == '2PT Field Goal']\n",
    "fg2 = fg2.nlargest(10, 'number_of_shots').sort_values('number_of_shots', ascending=False)\n",
    "\n",
    "fg2['FG%'] = np.round(fg2['number_of_makes']/fg2['number_of_shots'], 3)\n",
    "fg2['xFG%'] = np.round(fg2['xFG%'], 3)\n",
    "fg2['xPTS'] = np.round(fg2['xPTS'], 3)\n",
    "fg2 = fg2.rename(columns = {'player_name': \"Player\",\n",
    "                           'number_of_shots': 'FG2A',\n",
    "                           'number_of_makes': 'FG2M'})\n",
    "fg2['Shot Making'] = np.round((fg2['PTS'] - fg2['xPTS'])/fg2['FG2A'], 2)\n",
    "fg2_1 = fg2[['Player', 'FG2A', 'FG2M', 'FG%', 'xFG%', 'PTS', 'xPTS', 'Shot Making']]"
   ]
  },
  {
   "cell_type": "code",
   "execution_count": null,
   "metadata": {},
   "outputs": [],
   "source": [
    "fg3 = fg.reset_index()\n",
    "fg3 = fg3.loc[fg3['shot_type'] == '3PT Field Goal']\n",
    "fg3 = fg3.nlargest(10, 'number_of_shots').sort_values('number_of_shots', ascending=False)\n",
    "\n",
    "fg3['FG%'] = np.round(fg3['number_of_makes']/fg3['number_of_shots'], 3)\n",
    "fg3['xFG%'] = np.round(fg3['xFG%'], 3)\n",
    "fg3['xPTS'] = np.round(fg3['xPTS'], 3)\n",
    "fg3 = fg3.rename(columns = {'player_name': \"Player\",\n",
    "                           'number_of_shots': 'FG3A',\n",
    "                           'number_of_makes': 'FG3M'})\n",
    "fg3['Shot Making'] = np.round((fg3['PTS'] - fg3['xPTS'])/fg3['FG3A'], 2)\n",
    "fg3_1 = fg3[['Player', 'FG3A', 'FG3M', 'FG%', 'xFG%', 'PTS', 'xPTS', 'Shot Making']]"
   ]
  },
  {
   "cell_type": "code",
   "execution_count": null,
   "metadata": {},
   "outputs": [],
   "source": [
    "# asdsad"
   ]
  },
  {
   "cell_type": "markdown",
   "metadata": {},
   "source": [
    "# My Model: Statsmodels - Location"
   ]
  },
  {
   "cell_type": "code",
   "execution_count": null,
   "metadata": {},
   "outputs": [],
   "source": [
    "league = \"NBA\"\n",
    "season_start = 2010\n",
    "season_end = 2023\n",
    "seasons = np.arange(season_start, season_end, 1).astype(str)\n",
    "\n",
    "shota = [] \n",
    "for season in seasons:\n",
    "    df1 = pd.read_parquet(shots_DIR + league + \"_Shot_Details_\" + season + \".parquet\")\n",
    "    shota.append(df1)\n",
    "all_shots = pd.concat(shota)\n",
    "all_shots.columns = map(str.lower, all_shots.columns)\n",
    "all_shots = all_shots.rename(columns={\"shot_made_flag\":\"shot_made\"})\n",
    "all_shots[\"loc_x\"] = all_shots[\"loc_x\"]/10\n",
    "all_shots[\"loc_y\"] = all_shots[\"loc_y\"]/10\n",
    "all_shots['fg2'] = np.where(all_shots['shot_type'] == '2PT Field Goal', 1, 0)\n",
    "all_shots['fg3'] = np.where(all_shots['shot_type'] == '3PT Field Goal', 1, 0)\n",
    "all_shots[\"points\"] = (2*all_shots['fg2'] + 3*all_shots['fg3'])*all_shots[\"shot_made\"]\n",
    "shots = all_shots.loc[all_shots['shot_distance'] <= 32].reset_index(drop=True)\n",
    "train_shots = shots.copy()"
   ]
  },
  {
   "cell_type": "code",
   "execution_count": null,
   "metadata": {},
   "outputs": [],
   "source": [
    "y_train = train_shots['shot_made']\n",
    "X_train = train_shots[[\"loc_x\", \"loc_y\"]]\n",
    "X_train = sm.add_constant(X_train) ## this adds the intercept back in (default is no intercept for sm)\n",
    "model = sm.GLM(y_train, \n",
    "               X_train, \n",
    "               family=sm.families.Binomial()).fit()\n",
    "model.summary()"
   ]
  },
  {
   "cell_type": "code",
   "execution_count": null,
   "metadata": {},
   "outputs": [],
   "source": [
    "league = \"NBA\"\n",
    "season_start = 2023\n",
    "season_end = 2024\n",
    "seasons = np.arange(season_start, season_end, 1).astype(str)\n",
    "\n",
    "shota = [] \n",
    "for season in seasons:\n",
    "    df1 = pd.read_parquet(shots_DIR + league + \"_Shot_Details_\" + season + \".parquet\")\n",
    "    shota.append(df1)\n",
    "all_shots = pd.concat(shota)\n",
    "all_shots.columns = map(str.lower, all_shots.columns)\n",
    "all_shots = all_shots.rename(columns={\"shot_made_flag\":\"shot_made\"})\n",
    "all_shots[\"loc_x\"] = all_shots[\"loc_x\"]/10\n",
    "all_shots[\"loc_y\"] = all_shots[\"loc_y\"]/10\n",
    "all_shots['fg2'] = np.where(all_shots['shot_type'] == '2PT Field Goal', 1, 0)\n",
    "all_shots['fg3'] = np.where(all_shots['shot_type'] == '3PT Field Goal', 1, 0)\n",
    "all_shots[\"points\"] = (2*all_shots['fg2'] + 3*all_shots['fg3'])*all_shots[\"shot_made\"]\n",
    "shots = all_shots.loc[all_shots['shot_distance'] <= 32].reset_index(drop=True)\n",
    "test_shots = shots.copy()"
   ]
  },
  {
   "cell_type": "code",
   "execution_count": null,
   "metadata": {},
   "outputs": [],
   "source": [
    "X_test = test_shots[[\"loc_x\", \"loc_y\"]]\n",
    "X_test = sm.add_constant(X_test) \n",
    "preds = model.predict(X_test).values"
   ]
  },
  {
   "cell_type": "code",
   "execution_count": null,
   "metadata": {},
   "outputs": [],
   "source": [
    "test_shots['xFG'] = preds\n",
    "test_shots['xPTS'] = np.where(test_shots['shot_type'] == \"2PT Field Goal\",\n",
    "                             2 * test_shots['xFG'],\n",
    "                             3 * test_shots['xFG'])\n",
    "fg = (test_shots\n",
    "      .groupby(['player_name', 'shot_type'])[['points', 'xPTS', 'shot_made', 'xFG']]\n",
    "      .agg({'points': ['sum', 'count'],\n",
    "           'xPTS': ['sum'],\n",
    "           'shot_made': ['sum'],\n",
    "           'xFG': ['mean']}))"
   ]
  },
  {
   "cell_type": "code",
   "execution_count": null,
   "metadata": {},
   "outputs": [],
   "source": [
    "\n",
    "fg.columns = ['PTS', 'number_of_shots', 'xPTS', 'number_of_makes', 'xFG%']\n",
    "fg2 = fg.reset_index()\n",
    "fg2 = fg2.loc[fg2['shot_type'] == '2PT Field Goal']\n",
    "fg2 = fg2.nlargest(10, 'number_of_shots').sort_values('number_of_shots', ascending=False)\n",
    "\n",
    "fg2['FG%'] = np.round(fg2['number_of_makes']/fg2['number_of_shots'], 3)\n",
    "fg2['xFG%'] = np.round(fg2['xFG%'], 3)\n",
    "fg2['xPTS'] = np.round(fg2['xPTS'], 3)\n",
    "fg2 = fg2.rename(columns = {'player_name': \"Player\",\n",
    "                           'number_of_shots': 'FG2A',\n",
    "                           'number_of_makes': 'FG2M'})\n",
    "fg2['Shot Making'] = np.round((fg2['PTS'] - fg2['xPTS'])/fg2['FG2A'], 2)\n",
    "fg2_2 = fg2[['Player', 'FG2A', 'FG2M', 'FG%', 'xFG%', 'PTS', 'xPTS', 'Shot Making']]"
   ]
  },
  {
   "cell_type": "code",
   "execution_count": null,
   "metadata": {},
   "outputs": [],
   "source": [
    "fg3 = fg.reset_index()\n",
    "fg3 = fg3.loc[fg3['shot_type'] == '3PT Field Goal']\n",
    "fg3 = fg3.nlargest(10, 'number_of_shots').sort_values('number_of_shots', ascending=False)\n",
    "\n",
    "fg3['FG%'] = np.round(fg3['number_of_makes']/fg3['number_of_shots'], 3)\n",
    "fg3['xFG%'] = np.round(fg3['xFG%'], 3)\n",
    "fg3['xPTS'] = np.round(fg3['xPTS'], 3)\n",
    "fg3 = fg3.rename(columns = {'player_name': \"Player\",\n",
    "                           'number_of_shots': 'FG3A',\n",
    "                           'number_of_makes': 'FG3M'})\n",
    "fg3['Shot Making'] = np.round((fg3['PTS'] - fg3['xPTS'])/fg3['FG3A'], 2)\n",
    "fg3_2 = fg3[['Player', 'FG3A', 'FG3M', 'FG%', 'xFG%', 'PTS', 'xPTS', 'Shot Making']]"
   ]
  },
  {
   "cell_type": "code",
   "execution_count": null,
   "metadata": {},
   "outputs": [],
   "source": [
    "fg2_1"
   ]
  },
  {
   "cell_type": "code",
   "execution_count": null,
   "metadata": {},
   "outputs": [],
   "source": [
    "fg2_2"
   ]
  },
  {
   "cell_type": "code",
   "execution_count": null,
   "metadata": {},
   "outputs": [],
   "source": [
    "fg3_1"
   ]
  },
  {
   "cell_type": "code",
   "execution_count": null,
   "metadata": {},
   "outputs": [],
   "source": [
    "fg3_2"
   ]
  },
  {
   "cell_type": "code",
   "execution_count": null,
   "metadata": {},
   "outputs": [],
   "source": [
    "asdasd"
   ]
  },
  {
   "cell_type": "markdown",
   "metadata": {},
   "source": [
    "# My Model Scikit-learn"
   ]
  },
  {
   "cell_type": "code",
   "execution_count": null,
   "metadata": {},
   "outputs": [],
   "source": [
    "league = \"NBA\"\n",
    "season_start = 2010\n",
    "season_end = 2023\n",
    "seasons = np.arange(season_start, season_end, 1).astype(str)\n",
    "\n",
    "shota = [] \n",
    "for season in seasons:\n",
    "    df1 = pd.read_parquet(shots_DIR + league + \"_Shot_Details_\" + season + \".parquet\")\n",
    "    shota.append(df1)\n",
    "all_shots = pd.concat(shota)\n",
    "all_shots.columns = map(str.lower, all_shots.columns)\n",
    "all_shots = all_shots.rename(columns={\"shot_made_flag\":\"shot_made\"})\n",
    "all_shots[\"loc_x\"] = all_shots[\"loc_x\"]/10\n",
    "all_shots[\"loc_y\"] = all_shots[\"loc_y\"]/10\n",
    "all_shots['fg2'] = np.where(all_shots['shot_type'] == '2PT Field Goal', 1, 0)\n",
    "all_shots['fg3'] = np.where(all_shots['shot_type'] == '3PT Field Goal', 1, 0)\n",
    "all_shots[\"points\"] = (2*all_shots['fg2'] + 3*all_shots['fg3'])*all_shots[\"shot_made\"]\n",
    "shots = all_shots.loc[all_shots['shot_distance'] <= 32].reset_index(drop=True)"
   ]
  },
  {
   "cell_type": "code",
   "execution_count": null,
   "metadata": {},
   "outputs": [],
   "source": [
    "shots[\"shot_zone_basic\"] = shots[\"shot_zone_basic\"].astype(\"category\")\n",
    "shots[\"shot_zone_area\"] = shots[\"shot_zone_area\"].astype(\"category\")"
   ]
  },
  {
   "cell_type": "code",
   "execution_count": null,
   "metadata": {},
   "outputs": [],
   "source": [
    "df_encoded = pd.get_dummies(shots, columns=['shot_zone_basic'])"
   ]
  },
  {
   "cell_type": "code",
   "execution_count": null,
   "metadata": {},
   "outputs": [],
   "source": [
    "df_encoded"
   ]
  },
  {
   "cell_type": "code",
   "execution_count": null,
   "metadata": {},
   "outputs": [],
   "source": [
    "shots.iloc[0]"
   ]
  },
  {
   "cell_type": "code",
   "execution_count": null,
   "metadata": {},
   "outputs": [],
   "source": [
    "shots_group = shots.groupby([\"player_name\"])"
   ]
  },
  {
   "cell_type": "code",
   "execution_count": null,
   "metadata": {},
   "outputs": [],
   "source": [
    "shots_group"
   ]
  },
  {
   "cell_type": "code",
   "execution_count": null,
   "metadata": {},
   "outputs": [],
   "source": [
    "shots_group[[\"player_name\",\"shot_made\",\"shot_zone_basic\",\"shot_zone_area\"]].get_group(\"Stephen Curry\")"
   ]
  }
 ],
 "metadata": {
  "kernelspec": {
   "display_name": "nba-ub9Z_EQq-py3.11",
   "language": "python",
   "name": "python3"
  },
  "language_info": {
   "codemirror_mode": {
    "name": "ipython",
    "version": 3
   },
   "file_extension": ".py",
   "mimetype": "text/x-python",
   "name": "python",
   "nbconvert_exporter": "python",
   "pygments_lexer": "ipython3",
   "version": "3.11.6"
  }
 },
 "nbformat": 4,
 "nbformat_minor": 2
}
