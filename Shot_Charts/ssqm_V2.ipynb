{
 "cells": [
  {
   "cell_type": "markdown",
   "metadata": {},
   "source": [
    "# Using NBA Shooting Data: Considers shot type, shot clock, dribbles, closest defender distance and touch time\n",
    "# Bin shots by filtering each condition combination and then use that for SSQM"
   ]
  },
  {
   "cell_type": "code",
   "execution_count": null,
   "metadata": {},
   "outputs": [],
   "source": [
    "import os, sys\n",
    "\n",
    "sys.path.append(os.path.dirname(os.path.dirname(os.path.abspath(\"__file__\"))))\n",
    "from nbafuns import *\n",
    "from nba_api.stats.endpoints import playerdashptshots, leaguedashplayerbiostats\n",
    "\n",
    "pd.options.mode.chained_assignment = None\n",
    "\n",
    "data_DIR = \"../fdata/\""
   ]
  },
  {
   "cell_type": "code",
   "execution_count": null,
   "metadata": {},
   "outputs": [],
   "source": [
    "league = \"NBA\"\n",
    "player_dict = get_players_pbp(league=league)\n",
    "teams_dict, teams_list = get_teams(league=\"NBA\")"
   ]
  },
  {
   "cell_type": "code",
   "execution_count": null,
   "metadata": {},
   "outputs": [],
   "source": [
    "season = \"2023\"\n",
    "dft = pd.read_parquet(data_DIR + f\"NBA_Player_BoxScores_Base_\"+season+\".parquet\", columns = [\"PLAYER_ID\",\"TEAM_ID\"])\n",
    "df = pd.read_parquet(data_DIR + f\"{league}_Shots_{season}_All.parquet\")\n",
    "dfd = pd.read_parquet(data_DIR + f\"{league}_Shots_{season}_overall.parquet\", columns = [\"PLAYER_ID\",\"FGM\",\"FGA\"])\n",
    "dfd = dfd.sort_values(by = \"PLAYER_ID\").reset_index(drop=True)"
   ]
  },
  {
   "cell_type": "code",
   "execution_count": null,
   "metadata": {},
   "outputs": [],
   "source": [
    "df = df[[\"PLAYER_ID\",\"PLAYER_NAME\",\"PLAYER_LAST_TEAM_ID\",\"FGM\",\"FGA\",\"FG2M\",\"FG2A\",\"FG3M\",\"FG3A\", 'general_range', 'closest_def', 'touch_time']]\n",
    "df = df.query(\"general_range != 'Other'\")\n",
    "df_avg = df.groupby(['general_range', 'closest_def', 'touch_time']).sum()\n",
    "df_avg = df_avg.drop(columns= [\"PLAYER_ID\",\"PLAYER_NAME\",\"PLAYER_LAST_TEAM_ID\"])\n",
    "df_avg[\"xFG2\"] = df_avg[\"FG2M\"]/df_avg[\"FG2A\"]\n",
    "df_avg[\"xFG3\"] = df_avg[\"FG3M\"]/df_avg[\"FG3A\"]\n",
    "df_avg = df_avg.drop(columns =[\"FGM\",\"FGA\",\"FG2M\",\"FG2A\",\"FG3M\",\"FG3A\"])\n",
    "df_avg = df_avg.reset_index()"
   ]
  },
  {
   "cell_type": "code",
   "execution_count": null,
   "metadata": {},
   "outputs": [],
   "source": [
    "df_avg"
   ]
  },
  {
   "cell_type": "code",
   "execution_count": null,
   "metadata": {},
   "outputs": [],
   "source": [
    "shots = pd.merge(df,df_avg,on=['general_range', 'closest_def', 'touch_time'])"
   ]
  },
  {
   "cell_type": "code",
   "execution_count": null,
   "metadata": {},
   "outputs": [],
   "source": [
    "shots[\"FG2_PCT\"] = shots[\"FG2M\"]/shots[\"FG2A\"]\n",
    "shots[\"FG3_PCT\"] = shots[\"FG3M\"]/shots[\"FG3A\"]\n",
    "shots = shots.replace([np.inf, -np.inf], np.nan)\n",
    "shots = shots.fillna(0)\n",
    "shots[\"PTS\"] =  (2*shots[\"FG2A\"]*shots[\"FG2_PCT\"] + 3*shots[\"FG3A\"]*shots[\"FG3_PCT\"]).round(2)\n",
    "shots[\"xPTS\"] = (2*shots[\"FG2A\"]*shots[\"xFG2\"] + 3*shots[\"FG3A\"]*shots[\"xFG3\"]).round(2)"
   ]
  },
  {
   "cell_type": "code",
   "execution_count": null,
   "metadata": {},
   "outputs": [],
   "source": [
    "# shots.query(\"PLAYER_NAME == 'LeBron James'\")"
   ]
  },
  {
   "cell_type": "code",
   "execution_count": null,
   "metadata": {},
   "outputs": [],
   "source": [
    "fg = (shots\n",
    "    .groupby(['PLAYER_ID'])[['FGM', 'FGA', 'PTS', 'xPTS']]\n",
    "    .agg({'FGM': [\"sum\"], 'FGA': [\"sum\"], 'PTS': [\"sum\"], 'xPTS': [\"sum\"]}))\n",
    "fg.columns = ['FGM', 'FGA', 'PTS', 'xPTS']\n",
    "fg['eFG'] = np.round(fg['PTS']/fg['FGA']/2, 3)\n",
    "fg['xeFG'] = np.round(fg['xPTS']/fg['FGA']/2, 3)\n",
    "fg['Shot_Making'] = np.round((fg['PTS'] - fg['xPTS'])/fg['FGA'], 3)\n",
    "fg = fg.drop(columns=['FGM', 'FGA'])\n",
    "fg = fg.fillna(0)\n",
    "fg = pd.merge(dfd,fg,on=[\"PLAYER_ID\"])\n",
    "fg[\"Points_Added\"] = fg[\"Shot_Making\"]* fg[\"FGA\"]\n",
    "fg[\"PTS\"] = fg[\"PTS\"].astype(int)\n",
    "fg = fg.reset_index()\n",
    "fg[\"Player\"] = fg[\"PLAYER_ID\"].map(player_dict)\n",
    "fg.insert(1,\"Player\",fg.pop(\"Player\"))\n",
    "fg = pd.merge(fg,dft,on=\"PLAYER_ID\")\n",
    "fg[\"Team\"] = fg[\"TEAM_ID\"].map(teams_dict)\n",
    "fg.insert(2,\"Team\",fg.pop(\"Team\"))\n",
    "fg[['Points_Added']] = fg[['Points_Added']].round(1)\n",
    "fg[['Shot_Making']] = fg[['Shot_Making']].round(3)\n",
    "fg = fg.drop(columns=[\"TEAM_ID\"])"
   ]
  },
  {
   "cell_type": "code",
   "execution_count": null,
   "metadata": {},
   "outputs": [],
   "source": [
    "fg.sort_values(by=\"Points_Added\")"
   ]
  },
  {
   "cell_type": "code",
   "execution_count": null,
   "metadata": {},
   "outputs": [],
   "source": [
    "# kjh"
   ]
  },
  {
   "cell_type": "code",
   "execution_count": null,
   "metadata": {},
   "outputs": [],
   "source": [
    "df_e = fg.iloc[:,1:].query(\"PTS > 100\").sort_values(by=\"Points_Added\",ascending=False).reset_index(drop=True)"
   ]
  },
  {
   "cell_type": "code",
   "execution_count": null,
   "metadata": {},
   "outputs": [],
   "source": [
    "export_DIR = \"../../repos/csv/\""
   ]
  },
  {
   "cell_type": "code",
   "execution_count": null,
   "metadata": {},
   "outputs": [],
   "source": [
    "# df_e.to_csv(export_DIR + \"NBA_Shot_Quality.csv\")"
   ]
  },
  {
   "cell_type": "code",
   "execution_count": null,
   "metadata": {},
   "outputs": [],
   "source": [
    "df_e.query(\"Player == 'Davion Mitchell'\")"
   ]
  },
  {
   "cell_type": "code",
   "execution_count": null,
   "metadata": {},
   "outputs": [],
   "source": [
    "df_e.sort_values(\"PTS\")"
   ]
  },
  {
   "cell_type": "code",
   "execution_count": null,
   "metadata": {},
   "outputs": [],
   "source": [
    "df_e.to_csv(\"NBA_Shot_Quality_V2.csv\")"
   ]
  }
 ],
 "metadata": {
  "kernelspec": {
   "display_name": "nba-ub9Z_EQq-py3.11",
   "language": "python",
   "name": "python3"
  },
  "language_info": {
   "codemirror_mode": {
    "name": "ipython",
    "version": 3
   },
   "file_extension": ".py",
   "mimetype": "text/x-python",
   "name": "python",
   "nbconvert_exporter": "python",
   "pygments_lexer": "ipython3",
   "version": "3.11.6"
  }
 },
 "nbformat": 4,
 "nbformat_minor": 2
}
