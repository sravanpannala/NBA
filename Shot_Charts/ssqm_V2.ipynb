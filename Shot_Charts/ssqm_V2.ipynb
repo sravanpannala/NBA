{
 "cells": [
  {
   "cell_type": "markdown",
   "metadata": {},
   "source": [
    "# SSQM v2.0\n",
    "## Using NBA Shooting Data: Considers shot type, closest defender distance and touch time\n",
    "## Bin shots by filtering each condition combination and then use that for SSQM"
   ]
  },
  {
   "cell_type": "code",
   "execution_count": null,
   "metadata": {},
   "outputs": [],
   "source": [
    "import os, sys\n",
    "\n",
    "sys.path.append(os.path.dirname(os.path.dirname(os.path.abspath(\"__file__\"))))\n",
    "from nbafuns import *\n",
    "from nba_api.stats.endpoints import playerdashptshots, leaguedashplayerbiostats\n",
    "\n",
    "pd.options.mode.chained_assignment = None\n",
    "\n",
    "data_DIR1 = \"../data/box/\"\n",
    "data_DIR2 = \"../data/shots/\""
   ]
  },
  {
   "cell_type": "code",
   "execution_count": null,
   "metadata": {},
   "outputs": [],
   "source": [
    "league = \"NBA\"\n",
    "player_dict = get_players_pbp(league=league)\n",
    "teams_dict, teams_list = get_teams(league=\"NBA\")"
   ]
  },
  {
   "cell_type": "code",
   "execution_count": null,
   "metadata": {},
   "outputs": [],
   "source": [
    "season = \"2023\"\n",
    "dft = pd.read_parquet(data_DIR1 + f\"NBA_Box_P_Cum_Base_\"+season+\".parquet\", columns = [\"PLAYER_ID\",\"TEAM_ID\"])\n",
    "df = pd.read_parquet(data_DIR2 + f\"{league}_Shots_{season}_All.parquet\")\n",
    "dfd = pd.read_parquet(data_DIR2 + f\"{league}_Shots_{season}_overall.parquet\", columns = [\"PLAYER_ID\",\"FGM\",\"FGA\"])\n",
    "dfd = dfd.sort_values(by = \"PLAYER_ID\").reset_index(drop=True)"
   ]
  },
  {
   "cell_type": "code",
   "execution_count": null,
   "metadata": {},
   "outputs": [],
   "source": [
    "df = df[[\"PLAYER_ID\",\"PLAYER_NAME\",\"PLAYER_LAST_TEAM_ID\",\"FGM\",\"FGA\",\"FG2M\",\"FG2A\",\"FG3M\",\"FG3A\", 'general_range', 'closest_def', 'touch_time']]\n",
    "df = df.query(\"general_range != 'Other'\")\n",
    "df_avg = df.groupby(['general_range', 'closest_def', 'touch_time']).sum()\n",
    "df_avg = df_avg.drop(columns= [\"PLAYER_ID\",\"PLAYER_NAME\",\"PLAYER_LAST_TEAM_ID\"])\n",
    "df_avg[\"xFG2\"] = df_avg[\"FG2M\"]/df_avg[\"FG2A\"]\n",
    "df_avg[\"xFG3\"] = df_avg[\"FG3M\"]/df_avg[\"FG3A\"]\n",
    "df_avg = df_avg.drop(columns =[\"FGM\",\"FGA\",\"FG2M\",\"FG2A\",\"FG3M\",\"FG3A\"])\n",
    "df_avg = df_avg.reset_index()"
   ]
  },
  {
   "cell_type": "code",
   "execution_count": null,
   "metadata": {},
   "outputs": [],
   "source": [
    "df_avg"
   ]
  },
  {
   "cell_type": "code",
   "execution_count": null,
   "metadata": {},
   "outputs": [],
   "source": [
    "shots = pd.merge(df,df_avg,on=['general_range', 'closest_def', 'touch_time'])"
   ]
  },
  {
   "cell_type": "code",
   "execution_count": null,
   "metadata": {},
   "outputs": [],
   "source": [
    "shots[\"FG2_PCT\"] = shots[\"FG2M\"]/shots[\"FG2A\"]\n",
    "shots[\"FG3_PCT\"] = shots[\"FG3M\"]/shots[\"FG3A\"]\n",
    "shots = shots.replace([np.inf, -np.inf], np.nan)\n",
    "shots = shots.fillna(0)\n",
    "shots[\"PTS\"] =  (2*shots[\"FG2A\"]*shots[\"FG2_PCT\"] + 3*shots[\"FG3A\"]*shots[\"FG3_PCT\"]).round(2)\n",
    "shots[\"xPTS\"] = (2*shots[\"FG2A\"]*shots[\"xFG2\"] + 3*shots[\"FG3A\"]*shots[\"xFG3\"]).round(2)"
   ]
  },
  {
   "cell_type": "code",
   "execution_count": null,
   "metadata": {},
   "outputs": [],
   "source": [
    "# shots.query(\"PLAYER_NAME == 'LeBron James'\")"
   ]
  },
  {
   "cell_type": "code",
   "execution_count": null,
   "metadata": {},
   "outputs": [],
   "source": [
    "fg = (shots\n",
    "    .groupby(['PLAYER_ID'])[['FGM', 'FGA', 'PTS', 'xPTS']]\n",
    "    .agg({'FGM': [\"sum\"], 'FGA': [\"sum\"], 'PTS': [\"sum\"], 'xPTS': [\"sum\"]}))\n",
    "fg.columns = ['FGM', 'FGA', 'PTS', 'xPTS']\n",
    "fg['eFG'] = np.round(fg['PTS']/fg['FGA']/2, 3)\n",
    "fg['xeFG'] = np.round(fg['xPTS']/fg['FGA']/2, 3)\n",
    "fg['Shot_Making'] = np.round((fg['PTS'] - fg['xPTS'])/fg['FGA'], 3)\n",
    "fg = fg.drop(columns=['FGM', 'FGA'])\n",
    "fg = fg.fillna(0)\n",
    "fg = pd.merge(dfd,fg,on=[\"PLAYER_ID\"])\n",
    "fg[\"Points_Added\"] = fg[\"Shot_Making\"]* fg[\"FGA\"]\n",
    "fg[\"PTS\"] = fg[\"PTS\"].astype(int)\n",
    "fg = fg.reset_index()\n",
    "fg[\"Player\"] = fg[\"PLAYER_ID\"].map(player_dict)\n",
    "fg.insert(1,\"Player\",fg.pop(\"Player\"))\n",
    "fg = pd.merge(fg,dft,on=\"PLAYER_ID\")\n",
    "fg[\"Team\"] = fg[\"TEAM_ID\"].map(teams_dict)\n",
    "fg.insert(2,\"Team\",fg.pop(\"Team\"))\n",
    "fg[['Points_Added']] = fg[['Points_Added']].round(1)\n",
    "fg[['Shot_Making']] = fg[['Shot_Making']].round(3)\n",
    "fg = fg.drop(columns=[\"TEAM_ID\"])"
   ]
  },
  {
   "cell_type": "code",
   "execution_count": null,
   "metadata": {},
   "outputs": [],
   "source": [
    "# fg.sort_values(by=\"Points_Added\")"
   ]
  },
  {
   "cell_type": "code",
   "execution_count": null,
   "metadata": {},
   "outputs": [],
   "source": [
    "# kjh"
   ]
  },
  {
   "cell_type": "code",
   "execution_count": null,
   "metadata": {},
   "outputs": [],
   "source": [
    "df_e = fg.iloc[:,1:].query(\"PTS > 100\").nlargest(10,columns=\"Points_Added\").reset_index(drop=True)\n",
    "df_e = df_e.drop(columns=[\"PLAYER_ID\"])\n",
    "df_e.index += 1"
   ]
  },
  {
   "cell_type": "code",
   "execution_count": null,
   "metadata": {},
   "outputs": [],
   "source": [
    "%reload_ext rpy2.ipython"
   ]
  },
  {
   "cell_type": "code",
   "execution_count": null,
   "metadata": {},
   "outputs": [],
   "source": [
    "%%R -i df_e\n",
    "library(tidyverse)\n",
    "library(gt)\n",
    "df <- df_e\n",
    "df %>% \n",
    "  gt()%>%\n",
    "  tab_header(\n",
    "    title = md(\"**Best Volume Shot Makers 2023-24**\"),\n",
    "    subtitle = \"Based on SSQM v2.0 | Shot Making: Points per shot (PPS) above league average\" \n",
    "    ) %>%\n",
    "    data_color(columns = c(eFG,xeFG,Shot_Making,Points_Added), palette = \"YlGn\",method=\"quantile\",quantiles=9) %>%\n",
    "    cols_align(align = \"center\",columns = c(Shot_Making,Points_Added))  %>%\n",
    "    cols_label(\n",
    "      Shot_Making = \"Shot Making\", eFG = \"eFG%\", xeFG = \"xeFG%\", Points_Added = \"Points Added\"\n",
    "    ) %>%\n",
    "    tab_options(\n",
    "        table.background.color = \"floralwhite\",\n",
    "        column_labels.font.size = 12,\n",
    "        column_labels.font.weight = 'bold',\n",
    "        row_group.font.weight = 'bold',\n",
    "        row_group.background.color = \"#E5E1D8\",\n",
    "        table.font.size = 10,\n",
    "        heading.title.font.size = 20,\n",
    "        heading.subtitle.font.size = 12.5,\n",
    "        table.font.names = \"Consolas\", \n",
    "        data_row.padding = px(2)\n",
    "    ) %>% \n",
    "    tab_source_note(\n",
    "    source_note = \"eFG%: Effective Field Goal % | xeFG%: Expected eFG% | xPTS: Expected Points\")  %>% \n",
    "    tab_source_note(\n",
    "    source_note = \"Simple Shot Quality Model: SSQM v2.0 is based on shot type, defender distance & touch time\" ) %>% \n",
    "    tab_source_note(\n",
    "    source_note = \"@SravanNBA | Source: nba.com/stats\" ) %>% gtsave(\"../figs/player_leaders/ssqm2_points_added.png\",zoom=5) "
   ]
  },
  {
   "cell_type": "code",
   "execution_count": null,
   "metadata": {},
   "outputs": [],
   "source": [
    "df_e = fg.iloc[:,1:].query(\"PTS > 100\").nsmallest(10,columns=\"Points_Added\").reset_index(drop=True)\n",
    "df_e = df_e.drop(columns=[\"PLAYER_ID\"])\n",
    "df_e.index += 1"
   ]
  },
  {
   "cell_type": "code",
   "execution_count": null,
   "metadata": {},
   "outputs": [],
   "source": [
    "%%R -i df_e\n",
    "library(tidyverse)\n",
    "library(gt)\n",
    "df <- df_e\n",
    "df %>% \n",
    "  gt()%>%\n",
    "  tab_header(\n",
    "    title = md(\"**Worst Volume Shot Makers 2023-24**\"),\n",
    "    subtitle = \"Based on SSQM v2.0 | Shot Making: Points per shot (PPS) above league average\" \n",
    "    ) %>%\n",
    "    data_color(columns = c(eFG,xeFG,Shot_Making,Points_Added), palette = \"OrRd\",method=\"quantile\",quantiles=9, reverse=TRUE) %>%\n",
    "    cols_align(align = \"center\",columns = c(Shot_Making,Points_Added))  %>%\n",
    "    cols_label(\n",
    "      Shot_Making = \"Shot Making\", eFG = \"eFG%\", xeFG = \"xeFG%\", Points_Added = \"Points Added\"\n",
    "    ) %>%\n",
    "    tab_options(\n",
    "        table.background.color = \"floralwhite\",\n",
    "        column_labels.font.size = 12,\n",
    "        column_labels.font.weight = 'bold',\n",
    "        row_group.font.weight = 'bold',\n",
    "        row_group.background.color = \"#E5E1D8\",\n",
    "        table.font.size = 10,\n",
    "        heading.title.font.size = 20,\n",
    "        heading.subtitle.font.size = 12.5,\n",
    "        table.font.names = \"Consolas\", \n",
    "        data_row.padding = px(2)\n",
    "    ) %>% \n",
    "    tab_source_note(\n",
    "    source_note = \"eFG%: Effective Field Goal % | xeFG%: Expected eFG% | xPTS: Expected Points\")  %>% \n",
    "    tab_source_note(\n",
    "    source_note = \"Simple Shot Quality Model: SSQM v2.0 is based on shot type, defender distance & touch time\" ) %>% \n",
    "    tab_source_note(\n",
    "    source_note = \"@SravanNBA | Source: nba.com/stats\" ) %>% gtsave(\"../figs/player_leaders/ssqm2_points_added_worst.png\",zoom=5) "
   ]
  },
  {
   "cell_type": "code",
   "execution_count": null,
   "metadata": {},
   "outputs": [],
   "source": [
    "df_e = fg.iloc[:,1:].query(\"PTS > 500\").nsmallest(10,columns=\"xeFG\").reset_index(drop=True)\n",
    "df_e = df_e.drop(columns=[\"PLAYER_ID\"])\n",
    "df_e.index += 1\n",
    "df_e"
   ]
  },
  {
   "cell_type": "code",
   "execution_count": null,
   "metadata": {},
   "outputs": [],
   "source": [
    "%%R -i df_e\n",
    "library(tidyverse)\n",
    "library(gt)\n",
    "df <- df_e\n",
    "df %>% \n",
    "  gt()%>%\n",
    "  tab_header(\n",
    "    title = md(\"**Toughest Shot Takers 2023-24**\"),\n",
    "    subtitle = \"Based on SSQM v2.0 | Among Players Scoring at least 500 Pts \" \n",
    "    ) %>%\n",
    "    data_color(columns = c(eFG,xeFG), palette = \"OrRd\",method=\"quantile\",quantiles=9, reverse=TRUE) %>%\n",
    "    data_color(columns = c(Shot_Making,Points_Added), palette = \"YlGn\",method=\"quantile\",quantiles=9) %>%\n",
    "    cols_align(align = \"center\",columns = c(Shot_Making,Points_Added))  %>%\n",
    "    cols_label(\n",
    "      Shot_Making = \"Shot Making\", eFG = \"eFG%\", xeFG = \"xeFG%\", Points_Added = \"Points Added\"\n",
    "    ) %>%\n",
    "    tab_options(\n",
    "        table.background.color = \"floralwhite\",\n",
    "        column_labels.font.size = 12,\n",
    "        column_labels.font.weight = 'bold',\n",
    "        row_group.font.weight = 'bold',\n",
    "        row_group.background.color = \"#E5E1D8\",\n",
    "        table.font.size = 10,\n",
    "        heading.title.font.size = 20,\n",
    "        heading.subtitle.font.size = 12.5,\n",
    "        table.font.names = \"Consolas\", \n",
    "        data_row.padding = px(2)\n",
    "    ) %>% \n",
    "    tab_source_note(\n",
    "    source_note = \"Shot Making: Points per shot (PPS) above league average | eFG%: Effective Field Goal % | xeFG%: Expected eFG% | xPTS: Expected Points\")  %>% \n",
    "    tab_source_note(\n",
    "    source_note = \"Simple Shot Quality Model: SSQM v2.0 is based on shot type, defender distance & touch time\" ) %>% \n",
    "    tab_source_note(\n",
    "    source_note = \"@SravanNBA | Source: nba.com/stats\" ) %>% gtsave(\"../figs/player_leaders/ssqm2_toughest.png\",zoom=5) "
   ]
  },
  {
   "cell_type": "code",
   "execution_count": null,
   "metadata": {},
   "outputs": [],
   "source": [
    "df_e = fg.iloc[:,1:].query(\"PTS > 100\").query(\"Team == 'New Orleans Pelicans'\").sort_values(\"Points_Added\",ascending=False).reset_index(drop=True)\n",
    "df_e = df_e.drop(columns=[\"PLAYER_ID\",\"Team\"])\n",
    "df_e.index += 1"
   ]
  },
  {
   "cell_type": "code",
   "execution_count": null,
   "metadata": {},
   "outputs": [],
   "source": [
    "%%R -i df_e\n",
    "library(tidyverse)\n",
    "library(gt)\n",
    "df <- df_e\n",
    "df %>% \n",
    "  gt()%>%\n",
    "  tab_header(\n",
    "    title = md(\"**New Orleans Pelicans Shot Making 2023-24**\"),\n",
    "    subtitle = \"Based on SSQM v2.0 | Shot Making: Points per shot (PPS) above league average\" \n",
    "    ) %>%\n",
    "    data_color(columns = c(eFG,xeFG,Shot_Making,Points_Added), palette = \"PiYG\") %>%\n",
    "    cols_align(align = \"center\",columns = c(Shot_Making,Points_Added))  %>%\n",
    "    cols_label(\n",
    "      Shot_Making = \"Shot Making\", eFG = \"eFG%\", xeFG = \"xeFG%\", Points_Added = \"Points Added\"\n",
    "    ) %>%\n",
    "    tab_options(\n",
    "        table.background.color = \"floralwhite\",\n",
    "        column_labels.font.size = 12,\n",
    "        column_labels.font.weight = 'bold',\n",
    "        row_group.font.weight = 'bold',\n",
    "        row_group.background.color = \"#E5E1D8\",\n",
    "        table.font.size = 10,\n",
    "        heading.title.font.size = 20,\n",
    "        heading.subtitle.font.size = 12.5,\n",
    "        table.font.names = \"Consolas\", \n",
    "        data_row.padding = px(2)\n",
    "    ) %>% \n",
    "    tab_source_note(\n",
    "    source_note = \"Shot Making: Points per shot (PPS) above league average\")  %>% \n",
    "     tab_source_note(\n",
    "    source_note = \"eFG%: Effective Field Goal % | xeFG%: Expected eFG% | xPTS: Expected Points\")  %>% \n",
    "    tab_source_note(\n",
    "    source_note = \"Simple Shot Quality Model: SSQM v2.0 is based on shot type, defender distance & touch time\" ) %>% \n",
    "    tab_source_note(\n",
    "    source_note = \"@SravanNBA | Source: nba.com/stats\" ) %>% gtsave(\"../figs/player_leaders/pelicans_points_added.png\",zoom=5) "
   ]
  },
  {
   "cell_type": "code",
   "execution_count": null,
   "metadata": {},
   "outputs": [],
   "source": [
    "export_DIR = \"../../repos/csv/\""
   ]
  },
  {
   "cell_type": "code",
   "execution_count": null,
   "metadata": {},
   "outputs": [],
   "source": [
    "# df_e.to_csv(export_DIR + \"NBA_Shot_Quality.csv\")"
   ]
  },
  {
   "cell_type": "code",
   "execution_count": null,
   "metadata": {},
   "outputs": [],
   "source": [
    "df_e.query(\"Player == 'Davion Mitchell'\")"
   ]
  },
  {
   "cell_type": "code",
   "execution_count": null,
   "metadata": {},
   "outputs": [],
   "source": [
    "df_e.sort_values(\"PTS\")"
   ]
  },
  {
   "cell_type": "code",
   "execution_count": null,
   "metadata": {},
   "outputs": [],
   "source": [
    "df_e.to_csv(\"NBA_Shot_Quality_V2.csv\")"
   ]
  }
 ],
 "metadata": {
  "kernelspec": {
   "display_name": "nba-ub9Z_EQq-py3.11",
   "language": "python",
   "name": "python3"
  },
  "language_info": {
   "codemirror_mode": {
    "name": "ipython",
    "version": 3
   },
   "file_extension": ".py",
   "mimetype": "text/x-python",
   "name": "python",
   "nbconvert_exporter": "python",
   "pygments_lexer": "ipython3",
   "version": "3.11.6"
  }
 },
 "nbformat": 4,
 "nbformat_minor": 2
}
