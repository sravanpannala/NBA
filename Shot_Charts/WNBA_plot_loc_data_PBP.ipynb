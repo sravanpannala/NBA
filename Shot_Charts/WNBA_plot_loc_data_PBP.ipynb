{
 "metadata": {
  "language_info": {
   "codemirror_mode": {
    "name": "ipython",
    "version": 3
   },
   "file_extension": ".py",
   "mimetype": "text/x-python",
   "name": "python",
   "nbconvert_exporter": "python",
   "pygments_lexer": "ipython3",
   "version": "3.9.5"
  },
  "orig_nbformat": 4,
  "kernelspec": {
   "name": "python3",
   "display_name": "Python 3.9.5 64-bit ('NBA-O70mvEYv': pipenv)"
  },
  "interpreter": {
   "hash": "db2ffdd2fa3280b0b06d6e60ebb32d8dd74e69e88849db114a808c9d7fbf6c89"
  }
 },
 "nbformat": 4,
 "nbformat_minor": 2,
 "cells": [
  {
   "cell_type": "code",
   "execution_count": null,
   "source": [
    "import numpy as np\r\n",
    "import matplotlib.pyplot as plt\r\n",
    "import pandas as pd\r\n",
    "import seaborn as sns\r\n",
    "from nbafuns import *\r\n",
    "import requests\r\n",
    "from matplotlib.offsetbox import OffsetImage, AnnotationBbox"
   ],
   "outputs": [],
   "metadata": {}
  },
  {
   "cell_type": "code",
   "execution_count": null,
   "source": [
    "from_year = 2021\r\n",
    "player_dict = get_players(league='WNBA',from_year=from_year, to_year=from_year)"
   ],
   "outputs": [],
   "metadata": {}
  },
  {
   "cell_type": "code",
   "execution_count": null,
   "source": [
    "data = pd.read_csv('data\\WNBA_Shot_Loc_{0}.csv'.format(from_year))"
   ],
   "outputs": [],
   "metadata": {}
  },
  {
   "cell_type": "code",
   "execution_count": null,
   "source": [
    "data.head()"
   ],
   "outputs": [],
   "metadata": {}
  },
  {
   "cell_type": "code",
   "execution_count": null,
   "source": [
    "bball_gray = '#312f30'\r\n",
    "bball_white = '#dddee0'\r\n",
    "bball_orange = '#f87c24'\r\n",
    "bball_light_orange = '#fbaf7b'\r\n",
    "bball_black = '#000010'\r\n",
    "dark_grey = '#282828'\r\n",
    "fontsize = 32\r\n",
    "title_size = 48"
   ],
   "outputs": [],
   "metadata": {}
  },
  {
   "cell_type": "code",
   "execution_count": null,
   "source": [
    "data[\"player_name\"]"
   ],
   "outputs": [],
   "metadata": {}
  },
  {
   "cell_type": "code",
   "execution_count": null,
   "source": [
    "player = 'Te\\'a Cooper'\r\n",
    "cond1 = (data[\"player_name\"] == player) \r\n",
    "shots_df = data[cond1]\r\n",
    "player_id = shots_df['player_id'].iloc[1]"
   ],
   "outputs": [],
   "metadata": {}
  },
  {
   "cell_type": "code",
   "execution_count": null,
   "source": [
    "fig= plt.figure(figsize=(20,20))\r\n",
    "ax = fig.add_subplot(111)\r\n",
    "\r\n",
    "player = \"Jewell Loyd\"\r\n",
    "\r\n",
    "d1 = 15\r\n",
    "d2 = 22\r\n",
    "t1 = 12\r\n",
    "t2 = 16\r\n",
    "cond1 = (data[\"player_name\"] == player) \r\n",
    "\r\n",
    "cond2 = (data['shot_type'] != 'AtRim')\r\n",
    "cond3 = (data['distance'] >= d1)\r\n",
    "cond4 = (data['distance'] < d2)\r\n",
    "cond5 = (data['poss_length'] >= 24)\r\n",
    "cond6 = (data['poss_length'] <= 37)\r\n",
    "cond7 = (data['shot_type'] == 'LongMidRange')\r\n",
    "cond8 = (data['player_ast_name'] == player) \r\n",
    "cond0 = (data['is_made']==True)\r\n",
    "\r\n",
    "# shots_df = data[cond3 & cond4]\r\n",
    "shots_df = data[cond1]\r\n",
    "player_id = shots_df['player_id'].iloc[1]\r\n",
    "# player_id = shots_df['player_ast_id'].iloc[1]\r\n",
    "\r\n",
    "ax.set_xlim(252,-252)\r\n",
    "ax.set_ylim(-50,423)\r\n",
    "ax.set_facecolor(bball_black)\r\n",
    "fig.set_facecolor(bball_black)\r\n",
    "ax.axes.get_xaxis().set_visible(False)\r\n",
    "ax.axes.get_yaxis().set_visible(False)\r\n",
    "draw_court(ax=ax,outer_lines=True, lw=3, color=bball_orange)\r\n",
    "sns.kdeplot( x = shots_df.locX, y = shots_df.locY, shade=True, cmap='inferno',levels=21,ax=ax)\r\n",
    "ax.scatter(x = shots_df.locX, y = shots_df.locY, facecolors='w', s=5, linewidths=0.5)\r\n",
    "\r\n",
    "ax.text(x=-180, y=-65, s=\"@SravanNBA\", color=bball_white, fontsize=fontsize, ha='center')\r\n",
    "target_dir = 'player_imgs'\r\n",
    "if f\"{player_id}.png\" not in os.listdir(target_dir):\r\n",
    "    url = f\"https://ak-static.cms.nba.com/wp-content/uploads/headshots/wnba/{player_id}.png\"\r\n",
    "    response = requests.get(url)\r\n",
    "    with open(f'player_imgs/{player_id}.png', 'wb') as f:\r\n",
    "        f.write(response.content)\r\n",
    "ab = AnnotationBbox(OffsetImage(plt.imread(f'player_imgs/{player_id}.png'), zoom=0.4), (-195, 340), frameon=False)\r\n",
    "ax.add_artist(ab)\r\n",
    "ax.text(x=180, y=400, s=\"{0} WNBA\".format(from_year), color='White', fontsize=fontsize, ha='center',va='bottom')\r\n",
    "ax.text(x=180, y=380, s=\"Regular Season\", color='White', fontsize=fontsize, ha='center',va='bottom')\r\n",
    "# ax.set_title('Shot Heat Map: Distance (ft) > {0} '.format(d1,d2), size=title_size, color='Orange')\r\n",
    "# ax.set_title('Shot Heat Map: {0} < Distance (ft) < {1}'.format(d1,d2), size=title_size, color='Orange')\r\n",
    "# plt.savefig('Shot_Heat_Map_dis_{0}_{1}.png'.format(d1,d2), bbox_inches='tight', facecolor=bball_black,dpi=300)\r\n",
    "ax.set_title('Shot Heat Map: {0}'.format(player), size=title_size, color='Orange')\r\n",
    "# ax.text(x=-180, y=400, s=\"Makes Only\", color='White', fontsize=fontsize, ha='center',va='bottom')\r\n",
    "# ax.text(x=-180, y=380, s=\"Non-Rim Attempts\", color='White', fontsize=fontsize, ha='center',va='bottom')\r\n",
    "plt.savefig('Shot_Heat_Map_{0}.png'.format(player), bbox_inches='tight', facecolor=bball_black,dpi=300)\r\n",
    "# ax.set_title('Shots Assisted by: {0}'.format(player), size=title_size, color='Orange')\r\n",
    "# plt.savefig('Assist_Heat_Map_{0}.png'.format(player), bbox_inches='tight', facecolor=bball_black,dpi=300)\r\n",
    "# ax.text(x=180, y=400, s=\"{0}-{1} NBA\".format(from_year,from_year+1), color='White', fontsize=fontsize, ha='center',va='bottom')\r\n",
    "\r\n",
    "# ax.set_title('WNBA Shot Heat Map: {0}-{1}'.format(from_year,from_year+1), size=title_size, color='Orange')\r\n",
    "# plt.savefig('Shot_Heat_Map_{0}_{1}.png'.format(from_year,from_year+1), bbox_inches='tight', facecolor=bball_black,dpi=300)\r\n",
    "plt.show()"
   ],
   "outputs": [],
   "metadata": {}
  },
  {
   "cell_type": "code",
   "execution_count": null,
   "source": [
    "len(shots_df)"
   ],
   "outputs": [],
   "metadata": {}
  },
  {
   "cell_type": "code",
   "execution_count": null,
   "source": [
    "player_id = shots_df['player_id'].iloc[1]\r\n",
    "player_id"
   ],
   "outputs": [],
   "metadata": {}
  }
 ]
}