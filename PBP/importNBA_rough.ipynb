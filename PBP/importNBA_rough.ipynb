{
 "metadata": {
  "language_info": {
   "codemirror_mode": {
    "name": "ipython",
    "version": 3
   },
   "file_extension": ".py",
   "mimetype": "text/x-python",
   "name": "python",
   "nbconvert_exporter": "python",
   "pygments_lexer": "ipython3",
   "version": "3.8.6-final"
  },
  "orig_nbformat": 2,
  "kernelspec": {
   "name": "nbaenv",
   "display_name": "nbaenv",
   "language": "python"
  }
 },
 "nbformat": 4,
 "nbformat_minor": 2,
 "cells": [
  {
   "cell_type": "markdown",
   "source": [
    "# Rough file to import PBP data with snippets of Old code"
   ],
   "metadata": {}
  },
  {
   "cell_type": "code",
   "execution_count": null,
   "source": [
    "# Initialize\r\n",
    "import pandas as pd\r\n",
    "from nba_api.stats.static import teams\r\n",
    "from nba_api.stats.static import players\r\n",
    "import json\r\n",
    "import time\r\n",
    "from IPython.display import clear_output\r\n",
    "import numpy as np\r\n",
    "import matplotlib.pyplot as plt"
   ],
   "outputs": [],
   "metadata": {}
  },
  {
   "cell_type": "code",
   "execution_count": null,
   "source": [
    "# Intitialize NBA database\r\n",
    "team_dict = teams.get_teams() # Creating Team Dictionary\r\n",
    "player_dict = players.get_players() # Creating Player Dictionary\r\n",
    "# Get team ID\r\n",
    "team_id = [x['id'] for x in team_dict ]\r\n",
    "player_id = [player['id'] for player in player_dict if player['is_active'] == True]\r\n",
    "\r\n",
    "# Player Search\r\n",
    "player_search = [player for player in player_dict\r\n",
    "                   if player['id'] == 1627788]\r\n",
    "player_search\r\n",
    "# Team Search\r\n",
    "lakers = [team for team in team_dict\r\n",
    "         if team['full_name'] == 'Los Angeles Lakers'][0]\r\n",
    "lakers"
   ],
   "outputs": [],
   "metadata": {}
  },
  {
   "cell_type": "code",
   "execution_count": null,
   "source": [
    "from nba_api.stats.endpoints import playerdashboardbygeneralsplits as player_fun\r\n",
    "player_fun.PlayerDashboardByGeneralSplits('2554',season=['2018-19','2019-20']).get_dict()"
   ],
   "outputs": [],
   "metadata": {}
  },
  {
   "cell_type": "code",
   "execution_count": null,
   "source": [
    "# This code is to filter shooting data by number of shooting attempts\r\n",
    "# Initialize variable arrays\r\n",
    "pID = []\r\n",
    "ThreePt_per = []\r\n",
    "FT_per = []\r\n",
    "for i in range(len(player_id)):\r\n",
    "    # Pause between website requests to prevent server blacklist\r\n",
    "    time.sleep(0.6)\r\n",
    "    response = player_fun.PlayerDashboardByGeneralSplits(player_id[i],season='2019-20').get_dict()\r\n",
    "    response1 = response['resultSets'][0]['rowSet']\r\n",
    "    if response1 ==[]:\r\n",
    "        continue\r\n",
    "    if response1[0][11]<50 or response1[0][14]<100:\r\n",
    "        continue\r\n",
    "    pID.append(player_id[i]) # Get \r\n",
    "    ThreePt_per.append(response1[0][12]) # Get 3pt%\r\n",
    "    FT_per.append(response1[0][15]) # Get FT%\r\n",
    "    clear_output(wait=True)\r\n",
    "    print(i)"
   ],
   "outputs": [],
   "metadata": {}
  },
  {
   "cell_type": "code",
   "execution_count": null,
   "source": [
    "# Use this to get general player stats\r\n",
    "from nba_api.stats.endpoints import playerdashboardbygeneralsplits as player_fun\r\n",
    "# dir(player_fun)\r\n",
    "# This code is to get data frames\r\n",
    "player_fun.PlayerDashboardByGeneralSplits(player_id[112],season='2019-20').get_dict()\r\n",
    "df = abcd.get_data_frames()[0]\r\n",
    "print(df)\r\n",
    "df.to_csv ('players_Dashboard.csv')\r\n"
   ],
   "outputs": [],
   "metadata": {}
  },
  {
   "cell_type": "code",
   "execution_count": null,
   "source": [
    "# Use this endpoint to get shot type dashboard\r\n",
    "from nba_api.stats.endpoints import playerdashptshots as player_fun2\r\n",
    "response = player_fun2.PlayerDashPtShots(team_id =0, player_id = '2544',season='2019-20').get_dict()\r\n",
    "response0 = response['resultSets'][1]\r\n",
    "presponse0 = response['resultSets'][1]['rowSet']\r\n",
    "# print(response0)\r\n",
    "\r\n",
    "# presponse0[0][18]\r\n",
    "response0"
   ],
   "outputs": [],
   "metadata": {}
  },
  {
   "cell_type": "code",
   "execution_count": null,
   "source": [
    "# This code is to get sophiticated Data frames\r\n",
    "results = resp['resultSets'][0]                               # Take the first item in the resultsSet (This can be determined by inspection of the json response)\r\n",
    "headers = results['headers']                                  # Take the headers of the response (our column names)\r\n",
    "rows = results['rowSet']                                      # Take the rows of our response\r\n",
    "frame = pd.DataFrame(rows)                                    # Convert the rows to a dataframe\r\n",
    "frame.columns = headers                                       # Set our column names using the  extracted headers\r\n",
    "return frame"
   ],
   "outputs": [],
   "metadata": {}
  },
  {
   "cell_type": "code",
   "execution_count": null,
   "source": [
    "#load data\r\n",
    "data_1718 = pd.read_csv(\"players_3PT_shooting_2017_18.csv\")\r\n",
    "data_1819 = pd.read_csv(\"players_3PT_shooting_2018_19.csv\")\r\n",
    "data_1920 = pd.read_csv(\"players_3PT_shooting_2019_20.csv\")\r\n",
    "# Merge Data\r\n",
    "data1=pd.merge(data_1920,data_1819, left_on=['pID','Player_Name'], right_on=['pID','Player_Name'], how='inner')\r\n",
    "data =pd.merge(data1,data_1718, left_on=['pID','Player_Name'], right_on=['pID','Player_Name'], how='inner')\r\n",
    "data = data.loc[:, ~data.columns.str.contains('^Unnamed')]\r\n",
    "\r\n",
    "data.to_csv('players_3PT_shooting_2017_20.csv')"
   ],
   "outputs": [],
   "metadata": {}
  },
  {
   "cell_type": "code",
   "execution_count": null,
   "source": [
    "# load data defense and player measurements\n",
    "data_pl = pd.read_csv(\"players_draft_measurements.csv\")\n",
    "data_1920 = pd.read_csv(\"players_RimDefense_2019_20.csv\")\n",
    "data_1819 = pd.read_csv(\"players_RimDefense_2018_19.csv\")\n",
    "data_1718 = pd.read_csv(\"players_RimDefense_2017_18.csv\")\n",
    "# data_1920.iloc[0:3,:]\n",
    "# Merge Data\n",
    "data0=pd.merge(data_pl,data_1920, left_on=['pID'], right_on=['pID'], how='inner')\n",
    "data1=pd.merge(data0,data_1819, left_on=['pID'], right_on=['pID'], how='inner')\n",
    "data =pd.merge(data1,data_1718, left_on=['pID'], right_on=['pID'], how='inner')\n",
    "# remove unnamed columns\n",
    "data = data.loc[:, ~data.columns.str.contains('^Unnamed')]"
   ],
   "outputs": [],
   "metadata": {}
  },
  {
   "cell_type": "code",
   "execution_count": null,
   "source": [
    "# Percentile Calculation\n",
    "vec = [ThreePt_per_Ov, ThreePt_per_PUP]\n",
    "x = vec[0]\n",
    "y = vec[1]\n",
    "x_Ptile = [stats.percentileofscore(x, a, 'rank') for a in x]\n",
    "y_Ptile = [stats.percentileofscore(y, a, 'rank') for a in y]\n",
    "plt.scatter(x_Ptile,y_Ptile)\n",
    "plt.show()\n",
    "correlation_matrix = np. corrcoef([x_Ptile,y_Ptile])\n",
    "correlation_xy = correlation_matrix[0,1]\n",
    "r_squared = correlation_xy**2.\n",
    "print(r_squared)"
   ],
   "outputs": [],
   "metadata": {}
  }
 ]
}