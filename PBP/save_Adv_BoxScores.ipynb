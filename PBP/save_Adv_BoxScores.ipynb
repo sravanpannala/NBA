{
 "cells": [
  {
   "cell_type": "code",
   "execution_count": null,
   "metadata": {},
   "outputs": [],
   "source": [
    "import time \n",
    "from tqdm import tqdm\n",
    "from nba_api.stats.endpoints import leaguegamelog, boxscoreadvancedv3, boxscorefourfactorsv3\n",
    "import numpy as np\n",
    "import pandas as pd"
   ]
  },
  {
   "cell_type": "code",
   "execution_count": null,
   "metadata": {},
   "outputs": [],
   "source": [
    "season_start = 2023\n",
    "season_end = 2023\n",
    "seasons = np.arange(season_start,season_end+1,1).astype(str)\n",
    "seasons"
   ]
  },
  {
   "cell_type": "code",
   "execution_count": null,
   "metadata": {},
   "outputs": [],
   "source": [
    "\n",
    "bad_games = []\n",
    "for season in seasons:\n",
    "    stats = leaguegamelog.LeagueGameLog(player_or_team_abbreviation=\"T\",season=season,season_type_all_star=\"Regular Season\")\n",
    "    df = stats.get_data_frames()[0]\n",
    "    game_ids1 = df[\"GAME_ID\"].tolist()\n",
    "    game_ids  = np.unique(game_ids1)\n",
    "    df_ap = []\n",
    "    for game_id in tqdm(game_ids):\n",
    "        for ii in range(5):\n",
    "            time.sleep(0.6)\n",
    "            try:\n",
    "                stats = boxscoreadvancedv3.BoxScoreAdvancedV3(game_id=game_id)\n",
    "                df1 = stats.get_data_frames()[1]\n",
    "                df_ap.append(df1)\n",
    "                break\n",
    "            except:\n",
    "                print(game_id)\n",
    "                bad_games.append(game_id)\n",
    "                continue\n",
    "    df = pd.concat(df_ap)\n",
    "    df.to_csv(\"NBA_Adv_BoxScores_\"+season+\".csv\")"
   ]
  }
 ],
 "metadata": {
  "kernelspec": {
   "display_name": "nba-ub9Z_EQq-py3.11",
   "language": "python",
   "name": "python3"
  },
  "language_info": {
   "codemirror_mode": {
    "name": "ipython",
    "version": 3
   },
   "file_extension": ".py",
   "mimetype": "text/x-python",
   "name": "python",
   "nbconvert_exporter": "python",
   "pygments_lexer": "ipython3",
   "version": "3.11.6"
  }
 },
 "nbformat": 4,
 "nbformat_minor": 2
}
