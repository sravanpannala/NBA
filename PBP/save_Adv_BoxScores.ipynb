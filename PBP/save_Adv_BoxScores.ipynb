{
 "cells": [
  {
   "cell_type": "code",
   "execution_count": null,
   "metadata": {},
   "outputs": [],
   "source": [
    "import time \n",
    "from tqdm import tqdm\n",
    "from nba_api.stats.endpoints import leaguegamelog, boxscoreadvancedv3, boxscorefourfactorsv3\n",
    "from nba_api.stats.endpoints import boxscorescoringv3,boxscoreplayertrackv3,boxscoremiscv3,boxscorehustlev2\n",
    "import numpy as np\n",
    "import pandas as pd\n",
    "from IPython.display import clear_output\n",
    "data_DIR = \"../Leaderboards/boxscores/\""
   ]
  },
  {
   "cell_type": "code",
   "execution_count": null,
   "metadata": {},
   "outputs": [],
   "source": [
    "def get_gameids(season,name):\n",
    "    stats = leaguegamelog.LeagueGameLog(player_or_team_abbreviation=\"T\",season=season,season_type_all_star=\"Regular Season\")\n",
    "    df = stats.get_data_frames()[0]\n",
    "    game_ids1 = df[\"GAME_ID\"].tolist()\n",
    "    game_ids1  = np.unique(game_ids1)\n",
    "    try:\n",
    "        dfr = pd.read_csv(data_DIR+\"NBA_BoxScores_\"+name+\"_\"+season+\".csv\")\n",
    "        game_ids3 = dfr[\"gameId\"].astype(str).tolist()\n",
    "        game_ids2 = [\"00\" +s for s in game_ids3]\n",
    "        game_ids2  = np.unique(game_ids2)\n",
    "        game_ids = list(set(game_ids1).difference(game_ids2))\n",
    "    except:\n",
    "        game_ids = game_ids1\n",
    "    return game_ids"
   ]
  },
  {
   "cell_type": "code",
   "execution_count": null,
   "metadata": {},
   "outputs": [],
   "source": [
    "def get_game_box(game_ids,fun):\n",
    "    df_ap = []\n",
    "    for game_id in tqdm(game_ids):\n",
    "        for ii in range(5):\n",
    "            time.sleep(0.6)\n",
    "            try:\n",
    "                stats = fun(game_id=game_id)\n",
    "                df1 = stats.get_data_frames()[1]\n",
    "                df_ap.append(df1)\n",
    "                break\n",
    "            except:\n",
    "                print(game_id)\n",
    "                continue\n",
    "    clear_output(wait=True)\n",
    "    return df_ap"
   ]
  },
  {
   "cell_type": "code",
   "execution_count": null,
   "metadata": {},
   "outputs": [],
   "source": [
    "def get_boxscores(seasons,fun,name):\n",
    "    for season in seasons:  \n",
    "        game_ids = get_gameids(season,name)\n",
    "        try:\n",
    "            df_ap = get_game_box(game_ids,fun)\n",
    "            df = pd.concat(df_ap)\n",
    "            df.to_csv(data_DIR+\"NBA_BoxScores_\"+name+\"_\"+season+\".csv\")\n",
    "        except:\n",
    "            continue"
   ]
  },
  {
   "cell_type": "code",
   "execution_count": null,
   "metadata": {},
   "outputs": [],
   "source": [
    "season_start = 2023\n",
    "season_end = 2023\n",
    "seasons = np.arange(season_start,season_end+1,1).astype(str)\n",
    "seasons"
   ]
  },
  {
   "cell_type": "code",
   "execution_count": null,
   "metadata": {},
   "outputs": [],
   "source": [
    "fun = boxscoreadvancedv3.BoxScoreAdvancedV3\n",
    "name = \"Adv\"\n",
    "get_boxscores(seasons,fun,name)"
   ]
  },
  {
   "cell_type": "code",
   "execution_count": null,
   "metadata": {},
   "outputs": [],
   "source": [
    "fun = boxscorefourfactorsv3.BoxScoreFourFactorsV3\n",
    "name = \"4Factor\"\n",
    "get_boxscores(seasons,fun,name)"
   ]
  },
  {
   "cell_type": "code",
   "execution_count": null,
   "metadata": {},
   "outputs": [],
   "source": [
    "fun = boxscorehustlev2.BoxScoreHustleV2\n",
    "name = \"Hustle\"\n",
    "get_boxscores(seasons,fun,name)"
   ]
  },
  {
   "cell_type": "code",
   "execution_count": null,
   "metadata": {},
   "outputs": [],
   "source": [
    "fun = boxscoremiscv3.BoxScoreMiscV3\n",
    "name = \"Misc\"\n",
    "get_boxscores(seasons,fun,name)"
   ]
  },
  {
   "cell_type": "code",
   "execution_count": null,
   "metadata": {},
   "outputs": [],
   "source": [
    "fun = boxscoreplayertrackv3.BoxScorePlayerTrackV3\n",
    "name = \"Track\"\n",
    "get_boxscores(seasons,fun,name)"
   ]
  },
  {
   "cell_type": "code",
   "execution_count": null,
   "metadata": {},
   "outputs": [],
   "source": [
    "fun = boxscorescoringv3.BoxScoreScoringV3\n",
    "name = \"Scoring\"\n",
    "get_boxscores(seasons,fun,name)"
   ]
  }
 ],
 "metadata": {
  "kernelspec": {
   "display_name": "nba-ub9Z_EQq-py3.11",
   "language": "python",
   "name": "python3"
  },
  "language_info": {
   "codemirror_mode": {
    "name": "ipython",
    "version": 3
   },
   "file_extension": ".py",
   "mimetype": "text/x-python",
   "name": "python",
   "nbconvert_exporter": "python",
   "pygments_lexer": "ipython3",
   "version": "3.11.6"
  }
 },
 "nbformat": 4,
 "nbformat_minor": 2
}
