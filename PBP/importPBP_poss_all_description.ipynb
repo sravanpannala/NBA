{
 "cells": [
  {
   "cell_type": "code",
   "execution_count": null,
   "source": [
    "import pandas as pd\r\n",
    "import numpy as np\r\n",
    "from IPython.display import clear_output\r\n",
    "from collections import Counter"
   ],
   "outputs": [],
   "metadata": {}
  },
  {
   "cell_type": "code",
   "execution_count": null,
   "source": [
    "from pbpstats.client import Client\r\n",
    "\r\n",
    "settings = {\r\n",
    "    \"Games\": {\"source\": \"web\", \"data_provider\": \"data_nba\"},\r\n",
    "     \"dir\": \"G:/My Drive/Sra_coding/NBA/pbpdata\",\r\n",
    "}\r\n",
    "client = Client(settings)\r\n",
    "# ID of all games for 2020-21 Season\r\n",
    "year = 2020\r\n",
    "season = client.Season(\"nba\", str(year)+'-'+str(year+1)[-2:], \"Regular Season\")\r\n",
    "# season = client.Season(\"wnba\", str(year), \"Regular Season\")\r\n",
    "games_id = []\r\n",
    "k = 0\r\n",
    "for final_game in season.games.final_games:\r\n",
    "    k += 1\r\n",
    "    clear_output(wait=True)\r\n",
    "    print(k)\r\n",
    "    games_id.append(final_game['game_id'])"
   ],
   "outputs": [],
   "metadata": {}
  },
  {
   "cell_type": "code",
   "execution_count": null,
   "source": [
    "settings = {\r\n",
    "    \"Boxscore\": {\"source\": \"file\", \"data_provider\": \"data_nba\"},\r\n",
    "    \"Possessions\": {\"source\": \"file\", \"data_provider\": \"data_nba\"},\r\n",
    "    \"dir\": \"G:/My Drive/Sra_coding/NBA/pbpdata\"\r\n",
    "}\r\n",
    "client = Client(settings)\r\n",
    "games_list = []\r\n",
    "bad_games_list = []\r\n",
    "k = 0\r\n",
    "for gameid in games_id:\r\n",
    "    clear_output(wait=True)\r\n",
    "    k += 1\r\n",
    "    print(k)\r\n",
    "    try:\r\n",
    "        games_list.append(client.Game(gameid))\r\n",
    "    except:\r\n",
    "        print(gameid)\r\n",
    "        bad_games_list.append(gameid)\r\n",
    "        continue"
   ],
   "outputs": [],
   "metadata": {}
  },
  {
   "cell_type": "code",
   "execution_count": null,
   "source": [
    "len(bad_games_list)"
   ],
   "outputs": [],
   "metadata": {}
  },
  {
   "cell_type": "code",
   "execution_count": 113,
   "source": [
    "events = games_list[0].possessions.items[0].events\r\n",
    "dir(events[1])\r\n",
    "events[2].player1_id\r\n",
    "events"
   ],
   "outputs": [
    {
     "output_type": "execute_result",
     "data": {
      "text/plain": [
       "[<DataStartOfPeriod GameId: 0022000001, Description: Start Period, Time: 12:00, EventNum: 2>,\n",
       " <DataJumpBall GameId: 0022000001, Description: Jump Ball Jordan vs Wiseman, Time: 11:58, EventNum: 4>,\n",
       " <DataTurnover GameId: 0022000001, Description: [BKN] Jordan Turnover : Out of Bounds - Bad Pass Turnover (1 TO), Time: 11:50, EventNum: 7>]"
      ]
     },
     "metadata": {},
     "execution_count": 113
    }
   ],
   "metadata": {}
  },
  {
   "cell_type": "code",
   "execution_count": 96,
   "source": [
    "from pbpstats.resources.enhanced_pbp import Rebound\r\n",
    "from pbpstats.resources.enhanced_pbp import Turnover\r\n",
    "from pbpstats.resources.enhanced_pbp import FieldGoal\r\n",
    "from pbpstats.resources.enhanced_pbp import FreeThrow\r\n",
    "pos = []\r\n",
    "posdes = []\r\n",
    "points = []\r\n",
    "event_type = []\r\n",
    "off1, off2, off3, off4, off5 = [],[],[],[],[]\r\n",
    "def1, def2, def3, def4, def5 = [],[],[],[],[]\r\n",
    "for game in games_list:\r\n",
    "    hmscr = []\r\n",
    "    rdscr = []\r\n",
    "    for possession in game.possessions.items:\r\n",
    "        for possession_event in possession.events:\r\n",
    "            if possession_event.count_as_possession and possession_event.event_type in (1,3,4,5):\r\n",
    "                if possession_event.description == 'Game End':\r\n",
    "                    continue\r\n",
    "                off_id =  possession_event.get_offense_team_id()\r\n",
    "                if not bool(off_id):\r\n",
    "                    continue\r\n",
    "                # off_id =  possession_event.team_id\r\n",
    "                teams = list(possession_event.current_players.keys())\r\n",
    "                for te in teams:\r\n",
    "                    if te == off_id:\r\n",
    "                        off1.append(possession_event.current_players[te][0])\r\n",
    "                        off2.append(possession_event.current_players[te][1])\r\n",
    "                        off3.append(possession_event.current_players[te][2])\r\n",
    "                        off4.append(possession_event.current_players[te][3])\r\n",
    "                        off5.append(possession_event.current_players[te][4])\r\n",
    "                    else:\r\n",
    "                        def1.append(possession_event.current_players[te][0])\r\n",
    "                        def2.append(possession_event.current_players[te][1])\r\n",
    "                        def3.append(possession_event.current_players[te][2])\r\n",
    "                        def4.append(possession_event.current_players[te][3])\r\n",
    "                        def5.append(possession_event.current_players[te][4])\r\n",
    "                # pos.append(possession_event)\r\n",
    "                posdes.append(possession_event.description)\r\n",
    "                event_type.append(possession_event.event_type)\r\n",
    "                hmscr.append(possession_event.home_score)\r\n",
    "                rdscr.append(possession_event.away_score)\r\n",
    "    hm_pts = []\r\n",
    "    rd_pts = []\r\n",
    "    for i in range(len(hmscr)-1):\r\n",
    "        hm_pts.append(hmscr[i+1]-hmscr[i])\r\n",
    "        rd_pts.append(rdscr[i+1]-rdscr[i])\r\n",
    "    pts = []\r\n",
    "    pts.append(max(hmscr[0],hmscr[0]))\r\n",
    "    for i in range(len(hmscr)-1):\r\n",
    "        pts.append(max(hm_pts[i],rd_pts[i]))\r\n",
    "    points.extend(pts)"
   ],
   "outputs": [],
   "metadata": {}
  },
  {
   "cell_type": "code",
   "execution_count": 97,
   "source": [
    "print(len(points))\r\n",
    "print(len(off1))\r\n",
    "print(len(def1))"
   ],
   "outputs": [
    {
     "output_type": "stream",
     "name": "stdout",
     "text": [
      "209695\n",
      "209695\n",
      "209695\n"
     ]
    }
   ],
   "metadata": {}
  },
  {
   "cell_type": "code",
   "execution_count": 102,
   "source": [
    "# data1 = pd.DataFrame({'Possession':posdec,'Home':hmscr,'Road':rdscr,'Points':pts})\r\n",
    "data = pd.DataFrame({'off1':off1, 'off2':off2, 'off3':off3, 'off4':off4, 'off5':off5, \r\n",
    "                    'def1':def1, 'def2':def2, 'def3':def3, 'def4':def4, 'def5':def5,\r\n",
    "                     'Points':points,'EventType':event_type}) #, 'Description':posdes\r\n",
    "data.to_csv ('fdata/NBA_possessions_{0}.csv'.format(year),index=False)"
   ],
   "outputs": [],
   "metadata": {}
  },
  {
   "cell_type": "code",
   "execution_count": 101,
   "source": [
    "409/209695"
   ],
   "outputs": [
    {
     "output_type": "execute_result",
     "data": {
      "text/plain": [
       "0.0019504518467297742"
      ]
     },
     "metadata": {},
     "execution_count": 101
    }
   ],
   "metadata": {}
  },
  {
   "cell_type": "code",
   "execution_count": 100,
   "source": [
    "(1,3,4,5)"
   ],
   "outputs": [
    {
     "output_type": "execute_result",
     "data": {
      "text/plain": [
       "(1, 3, 4, 5)"
      ]
     },
     "metadata": {},
     "execution_count": 100
    }
   ],
   "metadata": {}
  }
 ],
 "metadata": {
  "kernelspec": {
   "display_name": "Python 3",
   "language": "python",
   "name": "python3"
  },
  "language_info": {
   "codemirror_mode": {
    "name": "ipython",
    "version": 3
   },
   "file_extension": ".py",
   "mimetype": "text/x-python",
   "name": "python",
   "nbconvert_exporter": "python",
   "pygments_lexer": "ipython3",
   "version": "3.9.5"
  }
 },
 "nbformat": 4,
 "nbformat_minor": 2
}