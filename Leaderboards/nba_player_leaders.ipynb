{
 "cells": [
  {
   "cell_type": "code",
   "execution_count": null,
   "metadata": {},
   "outputs": [],
   "source": [
    "import os, sys\n",
    "\n",
    "sys.path.append(os.path.dirname(os.path.dirname(os.path.abspath(\"__file__\"))))\n",
    "from nbafuns import *\n",
    "\n",
    "fig_DIR = \"../figs/player_leaders/\""
   ]
  },
  {
   "cell_type": "markdown",
   "metadata": {},
   "source": [
    "# Functions"
   ]
  },
  {
   "cell_type": "markdown",
   "metadata": {},
   "source": [
    "## Rank Players"
   ]
  },
  {
   "cell_type": "code",
   "execution_count": null,
   "metadata": {},
   "outputs": [],
   "source": [
    "def rank_players(df, var, asc=False, percent=False):\n",
    "    df1 = df.sort_values(by=[var], ascending=asc)\n",
    "    df1 = df1.reset_index(drop=True)\n",
    "    df1[\"#\"] = df1.index + 1\n",
    "    if percent:\n",
    "        df1[var] = df1[var] * 100\n",
    "        df1[var] = df1[var].map(\"{:,.1f}\".format)\n",
    "    df2 = df1[[\"#\", \"Player\", var]]\n",
    "    df3 = df2.iloc[:10]\n",
    "    return df3"
   ]
  },
  {
   "cell_type": "code",
   "execution_count": null,
   "metadata": {},
   "outputs": [],
   "source": [
    "def rank_plot(\n",
    "    df,\n",
    "    var,\n",
    "    asc=False,\n",
    "    percent=False,\n",
    "    sort=\"Player\",\n",
    "    title=\" \",\n",
    "    footer=\" \",\n",
    "    title_shift=0.1,\n",
    "    title_font=15,\n",
    "):\n",
    "    df2 = rank_players(df, var, asc, percent=percent)\n",
    "    fig = plot_table_rank(\n",
    "        df2,\n",
    "        var,\n",
    "        sort=sort,\n",
    "        title=title,\n",
    "        footer=footer,\n",
    "        title_shift=title_shift,\n",
    "        title_font=title_font,\n",
    "    )\n",
    "    fig.write_image(fig_DIR + f\"{var}.png\", scale=3)"
   ]
  },
  {
   "cell_type": "markdown",
   "metadata": {},
   "source": [
    "## Get Dataframe"
   ]
  },
  {
   "cell_type": "code",
   "execution_count": null,
   "metadata": {},
   "outputs": [],
   "source": [
    "def get_df(stats):\n",
    "    df = stats.get_data_frames()[0]\n",
    "    df = df[df[\"MIN\"] >= 15]\n",
    "    df[\"Player\"] = df[\"PLAYER_NAME\"]\n",
    "    df[\"Team\"] = df[\"TEAM_ABBREVIATION\"]\n",
    "    cols = df.columns\n",
    "    df.columns = cols.str.replace(\"RATING\", \"RTG\")\n",
    "    return df"
   ]
  },
  {
   "cell_type": "code",
   "execution_count": null,
   "metadata": {},
   "outputs": [],
   "source": [
    "sdfsdf"
   ]
  },
  {
   "cell_type": "markdown",
   "metadata": {},
   "source": [
    "# Advanced"
   ]
  },
  {
   "cell_type": "code",
   "execution_count": null,
   "metadata": {},
   "outputs": [],
   "source": [
    "from nba_api.stats.endpoints import leaguedashplayerstats\n",
    "\n",
    "stats = leaguedashplayerstats.LeagueDashPlayerStats(\n",
    "    measure_type_detailed_defense=\"Advanced\"\n",
    ")\n",
    "df = get_df(stats)"
   ]
  },
  {
   "cell_type": "markdown",
   "metadata": {},
   "source": [
    "## USG"
   ]
  },
  {
   "cell_type": "code",
   "execution_count": null,
   "metadata": {},
   "outputs": [],
   "source": [
    "rank_plot(df, \"USG_PCT\", percent=True, title=\"NBA Usage Leaders 23-24\")"
   ]
  },
  {
   "cell_type": "markdown",
   "metadata": {},
   "source": [
    "## PACE"
   ]
  },
  {
   "cell_type": "code",
   "execution_count": null,
   "metadata": {},
   "outputs": [],
   "source": [
    "rank_plot(df, \"PACE\", percent=False, title=\"NBA PACE Leaders 23-24\")"
   ]
  },
  {
   "cell_type": "markdown",
   "metadata": {},
   "source": [
    "## Net Rating"
   ]
  },
  {
   "cell_type": "code",
   "execution_count": null,
   "metadata": {},
   "outputs": [],
   "source": [
    "rank_plot(df, \"NET_RTG\", percent=False, title=\"NBA Net Rtg Leaders 23-24\")"
   ]
  },
  {
   "cell_type": "markdown",
   "metadata": {},
   "source": [
    "## Offensive Rating"
   ]
  },
  {
   "cell_type": "code",
   "execution_count": null,
   "metadata": {},
   "outputs": [],
   "source": [
    "rank_plot(df, \"OFF_RTG\", title=\"NBA Off Rtg Leaders 23-24\")"
   ]
  },
  {
   "cell_type": "markdown",
   "metadata": {},
   "source": [
    "## Defensive Rating"
   ]
  },
  {
   "cell_type": "code",
   "execution_count": null,
   "metadata": {},
   "outputs": [],
   "source": [
    "rank_plot(df, \"DEF_RTG\", asc=1, title=\"NBA Def Rtg Leaders 23-24\")"
   ]
  },
  {
   "cell_type": "markdown",
   "metadata": {},
   "source": [
    "## True Shooting"
   ]
  },
  {
   "cell_type": "code",
   "execution_count": null,
   "metadata": {},
   "outputs": [],
   "source": [
    "rank_plot(df, \"TS_PCT\", percent=True, title=\"NBA TS% Leaders 23-24\")"
   ]
  },
  {
   "cell_type": "markdown",
   "metadata": {},
   "source": [
    "## Effective FG%"
   ]
  },
  {
   "cell_type": "code",
   "execution_count": null,
   "metadata": {},
   "outputs": [],
   "source": [
    "rank_plot(df, \"EFG_PCT\", percent=True, title=\"NBA EFG% Leaders 23-24\")"
   ]
  },
  {
   "cell_type": "code",
   "execution_count": null,
   "metadata": {},
   "outputs": [],
   "source": [
    "# AST_TO\n",
    "# AST_PCT\n",
    "# OREB_PCT\n",
    "# DREB_PCT\n",
    "# REB_PCT"
   ]
  },
  {
   "cell_type": "markdown",
   "metadata": {},
   "source": [
    "# Base per game"
   ]
  },
  {
   "cell_type": "code",
   "execution_count": null,
   "metadata": {},
   "outputs": [],
   "source": [
    "from nba_api.stats.endpoints import leaguedashplayerstats\n",
    "\n",
    "stats = leaguedashplayerstats.LeagueDashPlayerStats(\n",
    "    measure_type_detailed_defense=\"Base\", per_mode_detailed=\"PerGame\"\n",
    ")\n",
    "df = get_df(stats)\n",
    "df[\"Stocks\"] = df[\"BLK\"] + df[\"STL\"]\n",
    "df[\"Stocks\"] = df[\"Stocks\"].map(\"{:,.1f}\".format)"
   ]
  },
  {
   "cell_type": "markdown",
   "metadata": {},
   "source": [
    "## Points"
   ]
  },
  {
   "cell_type": "code",
   "execution_count": null,
   "metadata": {},
   "outputs": [],
   "source": [
    "rank_plot(df, \"PTS\", title=\"NBA Scoring Leaders 23-24\")"
   ]
  },
  {
   "cell_type": "markdown",
   "metadata": {},
   "source": [
    "## Rebounds"
   ]
  },
  {
   "cell_type": "code",
   "execution_count": null,
   "metadata": {},
   "outputs": [],
   "source": [
    "rank_plot(df, \"REB\", title=\"NBA Reb Leaders 23-24\")"
   ]
  },
  {
   "cell_type": "markdown",
   "metadata": {},
   "source": [
    "## Assists"
   ]
  },
  {
   "cell_type": "code",
   "execution_count": null,
   "metadata": {},
   "outputs": [],
   "source": [
    "rank_plot(df, \"AST\", title=\"NBA Assist Leaders 23-24\")"
   ]
  },
  {
   "cell_type": "markdown",
   "metadata": {},
   "source": [
    "## Blocks"
   ]
  },
  {
   "cell_type": "code",
   "execution_count": null,
   "metadata": {},
   "outputs": [],
   "source": [
    "rank_plot(df, \"BLK\", title=\"NBA Blocks Leaders 23-24\")"
   ]
  },
  {
   "cell_type": "markdown",
   "metadata": {},
   "source": [
    "## Steals"
   ]
  },
  {
   "cell_type": "code",
   "execution_count": null,
   "metadata": {},
   "outputs": [],
   "source": [
    "rank_plot(df, \"STL\", title=\"NBA Steals Leaders 23-24\")"
   ]
  },
  {
   "cell_type": "markdown",
   "metadata": {},
   "source": [
    "## Stocks"
   ]
  },
  {
   "cell_type": "code",
   "execution_count": null,
   "metadata": {},
   "outputs": [],
   "source": [
    "rank_plot(df, \"Stocks\", title=\"NBA Stocks Leaders 23-24\")"
   ]
  },
  {
   "cell_type": "markdown",
   "metadata": {},
   "source": [
    "## 3FG%"
   ]
  },
  {
   "cell_type": "code",
   "execution_count": null,
   "metadata": {},
   "outputs": [],
   "source": [
    "df1.sort_values(by=\"FG3_PCT\", ascending=False).head(20)"
   ]
  },
  {
   "cell_type": "code",
   "execution_count": null,
   "metadata": {},
   "outputs": [],
   "source": [
    "var = \"FG3_PCT\"\n",
    "df1 = df[df[\"FG3A\"] >= 5]\n",
    "rank_plot(\n",
    "    df1,\n",
    "    \"FG3_PCT\",\n",
    "    percent=True,\n",
    "    title=\"NBA 3PT% Leaders 23-24\",\n",
    "    footer=\"Min 7 3FA/GM: Only high volume 3PT shooters\",\n",
    ")"
   ]
  },
  {
   "cell_type": "markdown",
   "metadata": {},
   "source": [
    "## Offensive Rebounds"
   ]
  },
  {
   "cell_type": "code",
   "execution_count": null,
   "metadata": {},
   "outputs": [],
   "source": [
    "rank_plot(df, \"OREB\", title=\"NBA Off Reb Leaders 23-24\")"
   ]
  },
  {
   "cell_type": "markdown",
   "metadata": {},
   "source": [
    "## Defensive Rebounds"
   ]
  },
  {
   "cell_type": "code",
   "execution_count": null,
   "metadata": {},
   "outputs": [],
   "source": [
    "rank_plot(df, \"DREB\", title=\"NBA Def Reb Leaders 23-24\")"
   ]
  },
  {
   "cell_type": "markdown",
   "metadata": {},
   "source": [
    "## Blocks Against"
   ]
  },
  {
   "cell_type": "code",
   "execution_count": null,
   "metadata": {},
   "outputs": [],
   "source": [
    "var = \"BLKA\"\n",
    "# rank_players(df,var,percent=False,title=\"NBA Blocks Against Leaders 23-24\")\n",
    "rank_plot(\n",
    "    df,\n",
    "    \"BLKA\",\n",
    "    title=\"BLK Against Leaders 23-24\",\n",
    "    footer=\"Number of times a player's shot is blocked\",\n",
    ")"
   ]
  },
  {
   "cell_type": "markdown",
   "metadata": {},
   "source": [
    "## Personal Fouls Drawn"
   ]
  },
  {
   "cell_type": "code",
   "execution_count": null,
   "metadata": {},
   "outputs": [],
   "source": [
    "# var = \"PFD\"\n",
    "# rank_players(df,var,percent=False,title=\"NBA Fouls Drawn Leaders 23-24\")\n",
    "rank_plot(df, \"PFD\", title=\"Fouls Drawn Leaders 23-24\")"
   ]
  },
  {
   "cell_type": "markdown",
   "metadata": {},
   "source": [
    "## Double Doubles"
   ]
  },
  {
   "cell_type": "code",
   "execution_count": null,
   "metadata": {},
   "outputs": [],
   "source": [
    "rank_plot(df, \"DD2\", title=\"Double Double Leaders 23-24\", title_shift=0.03)"
   ]
  },
  {
   "cell_type": "markdown",
   "metadata": {},
   "source": [
    "## Triple Doubles"
   ]
  },
  {
   "cell_type": "code",
   "execution_count": null,
   "metadata": {},
   "outputs": [],
   "source": [
    "rank_plot(df, \"TD3\", title=\"Triple Double Leaders 23-24\", title_shift=0.03)"
   ]
  },
  {
   "cell_type": "code",
   "execution_count": null,
   "metadata": {},
   "outputs": [],
   "source": [
    "stats = leaguedashplayerstats.LeagueDashPlayerStats(\n",
    "    measure_type_detailed_defense=\"Defense\"\n",
    ")\n",
    "df = get_df(stats)"
   ]
  },
  {
   "cell_type": "markdown",
   "metadata": {},
   "source": [
    "# Tracking"
   ]
  },
  {
   "cell_type": "code",
   "execution_count": null,
   "metadata": {},
   "outputs": [],
   "source": [
    "from nba_api.stats.endpoints import leaguedashptstats\n",
    "\n",
    "stats = leaguedashptstats.LeagueDashPtStats(\n",
    "    player_or_team=\"Player\", pt_measure_type=\"Possessions\", per_mode_simple=\"PerGame\"\n",
    ")\n",
    "df = get_df(stats)\n",
    "df[\"Time\"] = df[\"TIME_OF_POSS\"]\n",
    "df[\"Sec\"] = df[\"AVG_SEC_PER_TOUCH\"]"
   ]
  },
  {
   "cell_type": "code",
   "execution_count": null,
   "metadata": {},
   "outputs": [],
   "source": [
    "df.columns"
   ]
  },
  {
   "cell_type": "markdown",
   "metadata": {},
   "source": [
    "## Touches"
   ]
  },
  {
   "cell_type": "code",
   "execution_count": null,
   "metadata": {},
   "outputs": [],
   "source": [
    "rank_plot(df, \"TOUCHES\", title=\"NBA Touches Leaders 23-24\")"
   ]
  },
  {
   "cell_type": "markdown",
   "metadata": {},
   "source": [
    "## Time of Possession"
   ]
  },
  {
   "cell_type": "code",
   "execution_count": null,
   "metadata": {},
   "outputs": [],
   "source": [
    "rank_plot(df, \"Time\", title=\"Time of Poss Leaders 23-24\", title_shift=0.03)"
   ]
  },
  {
   "cell_type": "markdown",
   "metadata": {},
   "source": [
    "## Seconds per Touch"
   ]
  },
  {
   "cell_type": "code",
   "execution_count": null,
   "metadata": {},
   "outputs": [],
   "source": [
    "rank_plot(df, \"Sec\", title=\"Secs per Touch Leaders 23-24\", title_shift=0.03)"
   ]
  },
  {
   "cell_type": "markdown",
   "metadata": {},
   "source": [
    "## Catch and Shoot Stats"
   ]
  },
  {
   "cell_type": "code",
   "execution_count": null,
   "metadata": {},
   "outputs": [],
   "source": [
    "stats = leaguedashptstats.LeagueDashPtStats(\n",
    "    player_or_team=\"Player\", pt_measure_type=\"CatchShoot\", per_mode_simple=\"PerGame\"\n",
    ")\n",
    "df = stats.get_data_frames()[0]\n",
    "df = df[df[\"MIN\"] >= 15]\n",
    "df[\"Player\"] = df[\"PLAYER_NAME\"]\n",
    "df[\"Team\"] = df[\"TEAM_ABBREVIATION\"]"
   ]
  },
  {
   "cell_type": "markdown",
   "metadata": {},
   "source": [
    "### C&S Pts"
   ]
  },
  {
   "cell_type": "code",
   "execution_count": null,
   "metadata": {},
   "outputs": [],
   "source": [
    "rank_plot(\n",
    "    df, \"CATCH_SHOOT_PTS\", title=\"Catch & Shoot Pts Leaders 23-24\", title_shift=0.03\n",
    ")"
   ]
  },
  {
   "cell_type": "markdown",
   "metadata": {},
   "source": [
    "### C&S Pct"
   ]
  },
  {
   "cell_type": "code",
   "execution_count": null,
   "metadata": {},
   "outputs": [],
   "source": [
    "rank_plot(\n",
    "    df,\n",
    "    \"CATCH_SHOOT_FG_PCT\",\n",
    "    percent=True,\n",
    "    title=\"Catch & St % Leaders 23-24\",\n",
    "    title_font=15,\n",
    "    title_shift=0.03,\n",
    ")"
   ]
  },
  {
   "cell_type": "markdown",
   "metadata": {},
   "source": [
    "## Pull Up Stats"
   ]
  },
  {
   "cell_type": "code",
   "execution_count": null,
   "metadata": {},
   "outputs": [],
   "source": [
    "stats = leaguedashptstats.LeagueDashPtStats(\n",
    "    player_or_team=\"Player\", pt_measure_type=\"PullUpShot\", per_mode_simple=\"PerGame\"\n",
    ")\n",
    "df = get_df(stats)"
   ]
  },
  {
   "cell_type": "code",
   "execution_count": null,
   "metadata": {},
   "outputs": [],
   "source": [
    "df.columns"
   ]
  },
  {
   "cell_type": "markdown",
   "metadata": {},
   "source": [
    "## Rim Def % "
   ]
  },
  {
   "cell_type": "code",
   "execution_count": null,
   "metadata": {},
   "outputs": [],
   "source": [
    "stats = leaguedashptstats.LeagueDashPtStats(\n",
    "    player_or_team=\"Player\", pt_measure_type=\"Defense\", per_mode_simple=\"PerGame\"\n",
    ")\n",
    "df = get_df(stats)\n",
    "df.columns"
   ]
  },
  {
   "cell_type": "code",
   "execution_count": null,
   "metadata": {},
   "outputs": [],
   "source": [
    "rank_plot(\n",
    "    df,\n",
    "    \"DEF_RIM_FG_PCT\",\n",
    "    percent=True,\n",
    "    title=\"Rim Def % Leaders 23-24\",\n",
    "    title_shift=0.03,\n",
    ")"
   ]
  },
  {
   "cell_type": "markdown",
   "metadata": {},
   "source": [
    "# Custom"
   ]
  },
  {
   "cell_type": "markdown",
   "metadata": {},
   "source": [
    "## Fadeaways"
   ]
  },
  {
   "cell_type": "code",
   "execution_count": null,
   "metadata": {},
   "outputs": [],
   "source": [
    "year = 2022\n",
    "league, league_id, season = \"NBA\", \"00\", str(year) + \"-\" + str(year + 1)[-2:]\n",
    "shots_df = pd.read_csv(\n",
    "    \"../Shot_Charts//ShotLocationData/\" + league + f\"_Shot_Details_{year}.csv\"\n",
    ")\n",
    "shots_df.ACTION_TYPE.unique()"
   ]
  },
  {
   "cell_type": "code",
   "execution_count": null,
   "metadata": {},
   "outputs": [],
   "source": [
    "df1 = shots_df[\n",
    "    shots_df[\"ACTION_TYPE\"].str.contains(\"Fadeaway\") & shots_df[\"SHOT_MADE_FLAG\"]\n",
    "].reset_index()\n",
    "df2 = (\n",
    "    df1.groupby([\"PLAYER_NAME\"])[[\"SHOT_MADE_FLAG\"]]\n",
    "    .count()\n",
    "    .sort_values(by=\"SHOT_MADE_FLAG\", ascending=False)\n",
    ")\n",
    "df = df2.rename(columns={\"SHOT_MADE_FLAG\": \"Shots\"}).reset_index(names=\"Player\")\n",
    "rank_plot(df, \"Shots\", title=\"Fadeaway Leaders 23-24\")"
   ]
  }
 ],
 "metadata": {
  "kernelspec": {
   "display_name": ".venv",
   "language": "python",
   "name": "python3"
  },
  "language_info": {
   "codemirror_mode": {
    "name": "ipython",
    "version": 3
   },
   "file_extension": ".py",
   "mimetype": "text/x-python",
   "name": "python",
   "nbconvert_exporter": "python",
   "pygments_lexer": "ipython3",
   "version": "3.11.6"
  }
 },
 "nbformat": 4,
 "nbformat_minor": 2
}
