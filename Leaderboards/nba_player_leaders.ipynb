{
 "cells": [
  {
   "cell_type": "code",
   "execution_count": null,
   "metadata": {},
   "outputs": [],
   "source": [
    "import numpy as np\n",
    "import pandas as pd\n",
    "import scipy\n",
    "import nba_api\n",
    "import plotly.figure_factory as ff\n",
    "import plotly.graph_objects as go \n",
    "\n",
    "fig_DIR = \"../figs/player_leaders/\""
   ]
  },
  {
   "cell_type": "markdown",
   "metadata": {},
   "source": [
    "# Functions"
   ]
  },
  {
   "cell_type": "markdown",
   "metadata": {},
   "source": [
    "## Table"
   ]
  },
  {
   "cell_type": "code",
   "execution_count": null,
   "metadata": {},
   "outputs": [],
   "source": [
    "def plot_table(df,var,title=\" \",col_width=15):\n",
    "    fig = go.Figure(data=[go.Table(\n",
    "        columnwidth=[5,45,15,col_width],\n",
    "        header=dict(values=list(df.columns),\n",
    "                    fill_color='blue',\n",
    "                    align=['center','left','center','center'],\n",
    "                    font=dict(color='snow',family=\"Arial Black, monospace\", size=12),\n",
    "                    line_color=\"grey\", #\"snow\"\n",
    "                    ),\n",
    "        cells=dict(values=[df[\"#\"],df[\"Player\"],df[\"Team\"],df[var]],\n",
    "                fill_color='lavender',\n",
    "                align=['center','left','center','center'],\n",
    "                height=23,\n",
    "                line_color=\"grey\",#lightgrey\",\n",
    "                ),\n",
    "                # height=25\n",
    "        ),\n",
    "    ])\n",
    "    # fig.update_layout(title_text=title)\n",
    "    fig.update_layout(title=dict(text=title,y=0.98,x=0.03,font=dict(size=15,family=\"Arial Black, monospace\")))\n",
    "    fig.add_annotation(x=0.0, y=0.0,text=\"@SravanNBA\",showarrow=False,xshift=1,yshift=5)\n",
    "    fig.add_annotation(x=1.0, y=0.0,text=\"Source: nba.com/stats\",showarrow=False,xshift=1,yshift=5)\n",
    "    tab_width = 355 + col_width\n",
    "    tab_height = 310\n",
    "    fig.update_layout(width=tab_width,height=tab_height,margin=dict(t=25,b=1,l=1,r=1))\n",
    "    # fig.update_layout(autosize=True)\n",
    "    fig.show()\n",
    "    fig.write_image(fig_DIR+f\"{var}.png\", scale=3)"
   ]
  },
  {
   "cell_type": "markdown",
   "metadata": {},
   "source": [
    "## Rank Players"
   ]
  },
  {
   "cell_type": "code",
   "execution_count": null,
   "metadata": {},
   "outputs": [],
   "source": [
    "def rank_players(df,var,asc=False,percent=False,title=\" \",col_width=15):\n",
    "    df1 = df.sort_values(by=[var],ascending=asc)\n",
    "    df1 = df1.reset_index(drop=True)\n",
    "    df1 = df1.reset_index(drop=False)\n",
    "    df1[\"#\"] = df1[\"index\"] +1\n",
    "    if percent:\n",
    "        df1[var] = df1[var]*100\n",
    "        df1[var] = df1[var].map('{:,.1f}'.format)\n",
    "    df2 = df1[[\"#\",\"Player\",\"Team\",var]]\n",
    "    df3 = df2.iloc[:10]\n",
    "    plot_table(df3,var,title=title,col_width=col_width)"
   ]
  },
  {
   "cell_type": "markdown",
   "metadata": {},
   "source": [
    "## Get Dataframe"
   ]
  },
  {
   "cell_type": "code",
   "execution_count": null,
   "metadata": {},
   "outputs": [],
   "source": [
    "def get_df(stats):\n",
    "    df = stats.get_data_frames()[0]\n",
    "    df = df[df[\"MIN\"]>=15]\n",
    "    df[\"Player\"] = df[\"PLAYER_NAME\"]\n",
    "    df[\"Team\"] = df[\"TEAM_ABBREVIATION\"]\n",
    "    cols = df.columns\n",
    "    df.columns = cols.str.replace(\"RATING\",\"RTG\")\n",
    "    return df"
   ]
  },
  {
   "cell_type": "markdown",
   "metadata": {},
   "source": [
    "# Advanced"
   ]
  },
  {
   "cell_type": "code",
   "execution_count": null,
   "metadata": {},
   "outputs": [],
   "source": [
    "from nba_api.stats.endpoints import leaguedashplayerstats\n",
    "stats = leaguedashplayerstats.LeagueDashPlayerStats(measure_type_detailed_defense=\"Advanced\")\n",
    "df = get_df(stats)"
   ]
  },
  {
   "cell_type": "markdown",
   "metadata": {},
   "source": [
    "## USG"
   ]
  },
  {
   "cell_type": "code",
   "execution_count": null,
   "metadata": {},
   "outputs": [],
   "source": [
    "var = \"USG_PCT\"\n",
    "rank_players(df,var,percent=True,col_width=15,title=\"NBA Usage Leaderboard 23-24\")"
   ]
  },
  {
   "cell_type": "markdown",
   "metadata": {},
   "source": [
    "## PACE"
   ]
  },
  {
   "cell_type": "code",
   "execution_count": null,
   "metadata": {},
   "outputs": [],
   "source": [
    "var = \"PACE\"\n",
    "rank_players(df,var,percent=False,title=\"NBA PACE Leaderboard 23-24\")"
   ]
  },
  {
   "cell_type": "markdown",
   "metadata": {},
   "source": [
    "## Net Rating"
   ]
  },
  {
   "cell_type": "code",
   "execution_count": null,
   "metadata": {},
   "outputs": [],
   "source": [
    "var = \"NET_RTG\"\n",
    "rank_players(df,var,percent=False,title=\"NBA Net Rating Leaders 23-24\")"
   ]
  },
  {
   "cell_type": "markdown",
   "metadata": {},
   "source": [
    "## Offensive Rating"
   ]
  },
  {
   "cell_type": "code",
   "execution_count": null,
   "metadata": {},
   "outputs": [],
   "source": [
    "var = \"OFF_RTG\"\n",
    "rank_players(df,var,percent=False,title=\"NBA Off Rating Leaders 23-24\")"
   ]
  },
  {
   "cell_type": "markdown",
   "metadata": {},
   "source": [
    "## Defensive Rating"
   ]
  },
  {
   "cell_type": "code",
   "execution_count": null,
   "metadata": {},
   "outputs": [],
   "source": [
    "var = \"DEF_RTG\"\n",
    "rank_players(df,var,asc=True,percent=False,title=\"NBA Def Rating Leaders 23-24\")"
   ]
  },
  {
   "cell_type": "markdown",
   "metadata": {},
   "source": [
    "## True Shooting"
   ]
  },
  {
   "cell_type": "code",
   "execution_count": null,
   "metadata": {},
   "outputs": [],
   "source": [
    "var = \"TS_PCT\"\n",
    "rank_players(df,var,percent=True,title=\"NBA True Shooting Leaders 23-24\")"
   ]
  },
  {
   "cell_type": "markdown",
   "metadata": {},
   "source": [
    "## Effective FG%"
   ]
  },
  {
   "cell_type": "code",
   "execution_count": null,
   "metadata": {},
   "outputs": [],
   "source": [
    "var = \"EFG_PCT\"\n",
    "rank_players(df,var,percent=True,title=\"NBA Effective FG% Leaders 23-24\")"
   ]
  },
  {
   "cell_type": "code",
   "execution_count": null,
   "metadata": {},
   "outputs": [],
   "source": [
    "# AST_TO\n",
    "# AST_PCT\n",
    "# OREB_PCT\n",
    "# DREB_PCT\n",
    "# REB_PCT"
   ]
  },
  {
   "cell_type": "markdown",
   "metadata": {},
   "source": [
    "# Base per game"
   ]
  },
  {
   "cell_type": "code",
   "execution_count": null,
   "metadata": {},
   "outputs": [],
   "source": [
    "from nba_api.stats.endpoints import leaguedashplayerstats\n",
    "stats = leaguedashplayerstats.LeagueDashPlayerStats(measure_type_detailed_defense=\"Base\",per_mode_detailed=\"PerGame\")\n",
    "df = get_df(stats)\n",
    "df[\"Stocks\"] = df[\"BLK\"] + df[\"STL\"]"
   ]
  },
  {
   "cell_type": "markdown",
   "metadata": {},
   "source": [
    "## Points"
   ]
  },
  {
   "cell_type": "code",
   "execution_count": null,
   "metadata": {},
   "outputs": [],
   "source": [
    "var = \"PTS\"\n",
    "rank_players(df,var,percent=False,title=\"NBA Scoring Leaders 23-24\")"
   ]
  },
  {
   "cell_type": "markdown",
   "metadata": {},
   "source": [
    "## Rebounds"
   ]
  },
  {
   "cell_type": "code",
   "execution_count": null,
   "metadata": {},
   "outputs": [],
   "source": [
    "var = \"REB\"\n",
    "rank_players(df,var,percent=False,title=\"NBA Rebounds Leaders 23-24\")"
   ]
  },
  {
   "cell_type": "markdown",
   "metadata": {},
   "source": [
    "## Assists"
   ]
  },
  {
   "cell_type": "code",
   "execution_count": null,
   "metadata": {},
   "outputs": [],
   "source": [
    "var = \"AST\"\n",
    "rank_players(df,var,percent=False,title=\"NBA Assists Leaders 23-24\")"
   ]
  },
  {
   "cell_type": "markdown",
   "metadata": {},
   "source": [
    "## Blocks"
   ]
  },
  {
   "cell_type": "code",
   "execution_count": null,
   "metadata": {},
   "outputs": [],
   "source": [
    "var = \"BLK\"\n",
    "rank_players(df,var,percent=False,title=\"NBA Blocks Leaders 23-24\")"
   ]
  },
  {
   "cell_type": "markdown",
   "metadata": {},
   "source": [
    "## Steals"
   ]
  },
  {
   "cell_type": "code",
   "execution_count": null,
   "metadata": {},
   "outputs": [],
   "source": [
    "var = \"STL\"\n",
    "rank_players(df,var,percent=False,title=\"NBA Steals Leaders 23-24\")"
   ]
  },
  {
   "cell_type": "markdown",
   "metadata": {},
   "source": [
    "## Stocks"
   ]
  },
  {
   "cell_type": "code",
   "execution_count": null,
   "metadata": {},
   "outputs": [],
   "source": [
    "var = \"Stocks\"\n",
    "rank_players(df,var,percent=False,title=\"NBA Stocks Leaders 23-24\")"
   ]
  },
  {
   "cell_type": "markdown",
   "metadata": {},
   "source": [
    "## 3FG%"
   ]
  },
  {
   "cell_type": "code",
   "execution_count": null,
   "metadata": {},
   "outputs": [],
   "source": [
    "var = \"FG3_PCT\"\n",
    "df1 = df[df[\"FG3A\"]>=5]\n",
    "rank_players(df1,var,percent=True,title=\"NBA 3PT% Leaders 23-24 (Min 5 3FA/GM)\")"
   ]
  },
  {
   "cell_type": "markdown",
   "metadata": {},
   "source": [
    "## Offensive Rebounds"
   ]
  },
  {
   "cell_type": "code",
   "execution_count": null,
   "metadata": {},
   "outputs": [],
   "source": [
    "var = \"OREB\"\n",
    "rank_players(df,var,percent=False,title=\"NBA Off Rebound Leaders 23-24\")"
   ]
  },
  {
   "cell_type": "markdown",
   "metadata": {},
   "source": [
    "## Defensive Rebounds"
   ]
  },
  {
   "cell_type": "code",
   "execution_count": null,
   "metadata": {},
   "outputs": [],
   "source": [
    "var = \"DREB\"\n",
    "rank_players(df,var,percent=False,title=\"NBA Def Rebound Leaders 23-24\")"
   ]
  },
  {
   "cell_type": "markdown",
   "metadata": {},
   "source": [
    "## Blocks Against"
   ]
  },
  {
   "cell_type": "code",
   "execution_count": null,
   "metadata": {},
   "outputs": [],
   "source": [
    "var = \"BLKA\"\n",
    "rank_players(df,var,percent=False,title=\"NBA Blocks Against Leaders 23-24\")"
   ]
  },
  {
   "cell_type": "markdown",
   "metadata": {},
   "source": [
    "## Personal Fouls Drawn"
   ]
  },
  {
   "cell_type": "code",
   "execution_count": null,
   "metadata": {},
   "outputs": [],
   "source": [
    "var = \"PFD\"\n",
    "rank_players(df,var,percent=False,title=\"NBA Fouls Drawn Leaders 23-24\")"
   ]
  },
  {
   "cell_type": "markdown",
   "metadata": {},
   "source": [
    "## Double Doubles"
   ]
  },
  {
   "cell_type": "code",
   "execution_count": null,
   "metadata": {},
   "outputs": [],
   "source": [
    "var = \"DD2\"\n",
    "rank_players(df,var,percent=False,title=\"NBA Double Double Leaders 23-24\")"
   ]
  },
  {
   "cell_type": "markdown",
   "metadata": {},
   "source": [
    "## Triple Doubles"
   ]
  },
  {
   "cell_type": "code",
   "execution_count": null,
   "metadata": {},
   "outputs": [],
   "source": [
    "var = \"TD3\"\n",
    "rank_players(df,var,percent=False,title=\"NBA Triple Double Leaders 23-24\")"
   ]
  },
  {
   "cell_type": "code",
   "execution_count": null,
   "metadata": {},
   "outputs": [],
   "source": [
    "stats = leaguedashplayerstats.LeagueDashPlayerStats(measure_type_detailed_defense=\"Defense\")\n",
    "df = get_df(stats)"
   ]
  },
  {
   "cell_type": "markdown",
   "metadata": {},
   "source": [
    "# Tracking"
   ]
  },
  {
   "cell_type": "code",
   "execution_count": null,
   "metadata": {},
   "outputs": [],
   "source": [
    "from nba_api.stats.endpoints import leaguedashptstats\n",
    "stats = leaguedashptstats.LeagueDashPtStats(player_or_team=\"Player\",pt_measure_type=\"Possessions\",per_mode_simple=\"PerGame\")\n",
    "df = get_df(stats)"
   ]
  },
  {
   "cell_type": "code",
   "execution_count": null,
   "metadata": {},
   "outputs": [],
   "source": [
    "df.columns"
   ]
  },
  {
   "cell_type": "markdown",
   "metadata": {},
   "source": [
    "## Touches"
   ]
  },
  {
   "cell_type": "code",
   "execution_count": null,
   "metadata": {},
   "outputs": [],
   "source": [
    "var = \"TOUCHES\"\n",
    "rank_players(df,var,percent=False,col_width=20,title=\"NBA Touches Leaders 23-24\")"
   ]
  },
  {
   "cell_type": "markdown",
   "metadata": {},
   "source": [
    "## Time of Possession"
   ]
  },
  {
   "cell_type": "code",
   "execution_count": null,
   "metadata": {},
   "outputs": [],
   "source": [
    "var = \"TIME_OF_POSS\"\n",
    "rank_players(df,var,percent=False,title=\"NBA Time of Poss Leaders 23-24\")"
   ]
  },
  {
   "cell_type": "markdown",
   "metadata": {},
   "source": [
    "## Seconds per Touch"
   ]
  },
  {
   "cell_type": "code",
   "execution_count": null,
   "metadata": {},
   "outputs": [],
   "source": [
    "var = \"AVG_SEC_PER_TOUCH\"\n",
    "rank_players(df,var,percent=False,col_width=40,title=\"NBA Secs per Touch Leaders 23-24\")"
   ]
  },
  {
   "cell_type": "markdown",
   "metadata": {},
   "source": [
    "## Catch and Shoot Stats"
   ]
  },
  {
   "cell_type": "code",
   "execution_count": null,
   "metadata": {},
   "outputs": [],
   "source": [
    "stats = leaguedashptstats.LeagueDashPtStats(player_or_team=\"Player\",pt_measure_type=\"CatchShoot\",per_mode_simple=\"PerGame\")\n",
    "df = stats.get_data_frames()[0]\n",
    "df = df[df[\"MIN\"]>=15]\n",
    "df[\"Player\"] = df[\"PLAYER_NAME\"]\n",
    "df[\"Team\"] = df[\"TEAM_ABBREVIATION\"]"
   ]
  },
  {
   "cell_type": "markdown",
   "metadata": {},
   "source": [
    "### C&S Pts"
   ]
  },
  {
   "cell_type": "code",
   "execution_count": null,
   "metadata": {},
   "outputs": [],
   "source": [
    "var = \"CATCH_SHOOT_PTS\"\n",
    "rank_players(df,var,percent=False,col_width=35,title=\"NBA Catch & Shoot Pts Leaders 23-24\")"
   ]
  },
  {
   "cell_type": "markdown",
   "metadata": {},
   "source": [
    "### C&S Pct"
   ]
  },
  {
   "cell_type": "code",
   "execution_count": null,
   "metadata": {},
   "outputs": [],
   "source": [
    "var = \"CATCH_SHOOT_FG_PCT\"\n",
    "rank_players(df,var,percent=False,col_width=40,title=\"NBA Catch & Shoot % Leaders 23-24\")"
   ]
  },
  {
   "cell_type": "markdown",
   "metadata": {},
   "source": [
    "## Pull Up Stats"
   ]
  },
  {
   "cell_type": "code",
   "execution_count": null,
   "metadata": {},
   "outputs": [],
   "source": [
    "stats = leaguedashptstats.LeagueDashPtStats(player_or_team=\"Player\",pt_measure_type=\"PullUpShot\",per_mode_simple=\"PerGame\")\n",
    "df = get_df(stats)"
   ]
  },
  {
   "cell_type": "code",
   "execution_count": null,
   "metadata": {},
   "outputs": [],
   "source": [
    "df.columns"
   ]
  },
  {
   "cell_type": "markdown",
   "metadata": {},
   "source": [
    "## Rim Def % "
   ]
  },
  {
   "cell_type": "code",
   "execution_count": null,
   "metadata": {},
   "outputs": [],
   "source": [
    "stats = leaguedashptstats.LeagueDashPtStats(player_or_team=\"Player\",pt_measure_type=\"Defense\",per_mode_simple=\"PerGame\")\n",
    "df = get_df(stats)\n",
    "df.columns"
   ]
  },
  {
   "cell_type": "code",
   "execution_count": null,
   "metadata": {},
   "outputs": [],
   "source": [
    "var = \"DEF_RIM_FG_PCT\"\n",
    "rank_players(df,var,percent=False,title=\"NBA Rim Def % Leaders 23-24\")"
   ]
  }
 ],
 "metadata": {
  "kernelspec": {
   "display_name": ".venv",
   "language": "python",
   "name": "python3"
  },
  "language_info": {
   "codemirror_mode": {
    "name": "ipython",
    "version": 3
   },
   "file_extension": ".py",
   "mimetype": "text/x-python",
   "name": "python",
   "nbconvert_exporter": "python",
   "pygments_lexer": "ipython3",
   "version": "3.9.7"
  }
 },
 "nbformat": 4,
 "nbformat_minor": 2
}
