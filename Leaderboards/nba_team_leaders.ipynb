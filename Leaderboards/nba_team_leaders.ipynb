{
 "cells": [
  {
   "cell_type": "code",
   "execution_count": null,
   "metadata": {},
   "outputs": [],
   "source": [
    "import os, sys\n",
    "sys.path.append(os.path.dirname(os.path.dirname(os.path.abspath(\"__file__\"))))\n",
    "from nbafuns import *\n",
    "import plotly.express as px\n",
    "\n",
    "fig_DIR = \"../figs/team_leaders/\""
   ]
  },
  {
   "cell_type": "code",
   "execution_count": null,
   "metadata": {},
   "outputs": [],
   "source": [
    "from plotnine import ggplot,aes,ggsave,themes,theme\n",
    "from plotnine import geom_point, geom_line,geom_smooth,geom_hline,facet_wrap,geom_boxplot,geom_violin,geom_density\n",
    "from plotnine import labs,element_rect,element_blank,element_text\n",
    "from plotnine import scale_color_manual,scale_y_continuous, ylim, scale_x_date,scale_color_identity\n",
    "theme_sra = themes.theme_538(base_size=9, base_family=\"Tahoma\")\n",
    "theme_sra += theme(\n",
    "                    # plot_background = element_rect(fill = 'ghostwhite', color = \"ghostwhite\"),\n",
    "                    plot_title = element_text(face = 'bold',size=16),\n",
    "                    strip_text = element_text(face = 'bold',size=10),\n",
    "                    plot_caption = element_text(size=10),\n",
    "                    plot_subtitle = element_text(size=12),\n",
    "                    axis_text_x = element_text(size=8),\n",
    "                    axis_text_y = element_text(size=8),\n",
    "                    axis_title_x = element_text(size=12),\n",
    "                    axis_title_y = element_text(size=12)\n",
    "                ) "
   ]
  },
  {
   "cell_type": "markdown",
   "metadata": {},
   "source": [
    "# Net Ratings"
   ]
  },
  {
   "cell_type": "code",
   "execution_count": null,
   "metadata": {},
   "outputs": [],
   "source": [
    "from nba_api.stats.endpoints import leaguedashteamstats\n",
    "stats = leaguedashteamstats.LeagueDashTeamStats(measure_type_detailed_defense=\"Advanced\")\n",
    "df = stats.get_data_frames()[0]\n",
    "df[\"Team\"] = df[\"TEAM_NAME\"]\n",
    "cols = df.columns\n",
    "df.columns = cols.str.replace(\"RATING\",\"RTG\")\n",
    "df = df.rename(columns={\"OFF_RTG_RANK\":\"O_RANK\",\"DEF_RTG_RANK\":\"D_RANK\"})"
   ]
  },
  {
   "cell_type": "code",
   "execution_count": null,
   "metadata": {},
   "outputs": [],
   "source": [
    "df.columns"
   ]
  },
  {
   "cell_type": "code",
   "execution_count": null,
   "metadata": {},
   "outputs": [],
   "source": [
    "df1 = df.sort_values(by=\"NET_RTG\",ascending=False)\n",
    "df1 = df1.reset_index(drop=True)\n",
    "df1 = df1.reset_index(drop=False)\n",
    "df1[\"#\"] = df1[\"index\"] +1\n",
    "df2 = df1[[\"#\",\"Team\",\"OFF_RTG\",\"O_RANK\",\"DEF_RTG\",\"D_RANK\",\"NET_RTG\"]]\n",
    "df = df2"
   ]
  },
  {
   "cell_type": "code",
   "execution_count": null,
   "metadata": {},
   "outputs": [],
   "source": [
    "n_colors = 30\n",
    "colors = px.colors.sample_colorscale(\"Tropic\", [n/(n_colors -1) for n in range(n_colors)])\n",
    "orank = df[\"O_RANK\"]-1\n",
    "orank = orank.astype(np.int32).to_numpy()\n",
    "carray_o =  np.array(colors)[orank]\n",
    "drank = df[\"D_RANK\"]-1\n",
    "drank = drank.astype(np.int32).to_numpy()\n",
    "carray_d =  np.array(colors)[drank]\n",
    "nrank = df[\"#\"]-1\n",
    "nrank = nrank.astype(np.int32).to_numpy()\n",
    "carray_n =  np.array(colors)[nrank]\n",
    "title = \"NBA Net Rating Leaders 2023-24\"\n",
    "font = dict(color=\"black\",family=\"Arial Black, monospace\", size=11)\n",
    "fig = go.Figure(data=[go.Table(\n",
    "        columnwidth=[5,50,15,15,15,15,15],\n",
    "        header=dict(values=list(df.columns),\n",
    "                    fill_color='snow',\n",
    "                    align=['center','left','center','center'],\n",
    "                    font=dict(color='Black',family=\"Arial Black, monospace\", size=12),\n",
    "                    line_color=\"grey\"\n",
    "                    ),\n",
    "        cells=dict(values=[df[\"#\"],df[\"Team\"],df[\"OFF_RTG\"],df[\"O_RANK\"],df[\"DEF_RTG\"],\n",
    "                           df[\"D_RANK\"],df[\"NET_RTG\"]],\n",
    "                fill_color=[\"white\",\"white\",carray_o,\"white\",carray_d,\"white\",carray_n],\n",
    "                align=['center','left','center','center'],\n",
    "                height=23,\n",
    "                line_color=\"grey\",#lightgrey\",\n",
    "                font=font,\n",
    "                ),\n",
    "                # height=25\n",
    "        ),\n",
    "    ])\n",
    "    # fig.update_layout(title_text=title)\n",
    "fig.update_layout(title=dict(text=title,y=0.99,x=0.1,font=dict(size=15,family=\"Arial Black, monospace\")))\n",
    "fig.add_annotation(x=0.0, y=0.0,text=\"@SravanNBA\",showarrow=False,xshift=1,yshift=5)\n",
    "fig.add_annotation(x=1.0, y=0.0,text=\"Source: nba.com/stats\",showarrow=False,xshift=1,yshift=5,font=dict(size=10))\n",
    "# fig.update_layout(title=dict(text=title,y=0.01,x=0.1,font=dict(size=15,family=\"Arial Black, monospace\")))\n",
    "tab_width = 550 \n",
    "tab_height = 770\n",
    "fig.update_layout(width=tab_width,height=tab_height,margin=dict(t=25,b=1,l=1,r=1))\n",
    "# fig.update_layout(autosize=True)\n",
    "fig.show()\n",
    "fig.write_image(fig_DIR+f\"Teams_NET_RTG.png\", scale=3)"
   ]
  },
  {
   "cell_type": "code",
   "execution_count": null,
   "metadata": {},
   "outputs": [],
   "source": [
    "%reload_ext rpy2.ipython"
   ]
  },
  {
   "cell_type": "code",
   "execution_count": null,
   "metadata": {},
   "outputs": [],
   "source": [
    "%%R -i df \n",
    "library(tidyverse)\n",
    "library(gt)\n",
    "\n",
    "df %>% \n",
    "  gt()%>%\n",
    "  tab_header(\n",
    "    title = md(\"**NBA Net Rating Leaders 2023-24**\")) %>%\n",
    "    data_color(columns = OFF_RTG, palette = c(\"red\", \"green\")) %>%\n",
    "    data_color(columns = DEF_RTG, palette = c(\"green\",\"red\")) %>%\n",
    "    data_color(columns = NET_RTG, palette = c(\"red\", \"green\")) %>%\n",
    "    cols_align(align = \"center\",columns = c(\"#\",OFF_RTG,O_RANK,DEF_RTG,D_RANK,NET_RTG))  %>%\n",
    "    tab_options(\n",
    "        table.background.color = \"floralwhite\",\n",
    "        column_labels.font.size = 12,\n",
    "        column_labels.font.weight = 'bold',\n",
    "        row_group.font.weight = 'bold',\n",
    "        row_group.background.color = \"#E5E1D8\",\n",
    "        table.font.size = 10,\n",
    "        heading.title.font.size = 20,\n",
    "        heading.subtitle.font.size = 12.5,\n",
    "        table.font.names = \"Consolas\", \n",
    "        data_row.padding = px(2)\n",
    "    ) %>% \n",
    "    tab_source_note(\n",
    "    source_note = \"@SravanNBA | Source: nba.com/stats\" ) #%>% gtsave(\"../figs/R/Teams_NET_RTG.png\",zoom=5) \n"
   ]
  },
  {
   "cell_type": "markdown",
   "metadata": {},
   "source": [
    "# Team Shooting Splits"
   ]
  },
  {
   "cell_type": "code",
   "execution_count": null,
   "metadata": {},
   "outputs": [],
   "source": [
    "from nba_api.stats.endpoints import leaguedashteamshotlocations"
   ]
  },
  {
   "cell_type": "code",
   "execution_count": null,
   "metadata": {},
   "outputs": [],
   "source": [
    "stats = leaguedashteamshotlocations.LeagueDashTeamShotLocations(distance_range=\"8ft Range\",per_mode_detailed = \"PerGame\")\n",
    "df = stats.get_data_frames()[0]\n",
    "df1 = pd.DataFrame()\n",
    "df1[\"tID\"] = df[\"\"][\"TEAM_ID\"]\n",
    "df1[\"Team\"] = df[\"\"][\"TEAM_NAME\"]\n",
    "df1[\"r00_8\"]  = df[\"Less Than 8 ft.\"][\"FGA\"]\n",
    "df1[\"r08_16\"]  = df[\"8-16 ft.\"][\"FGA\"]\n",
    "df1[\"r16_24\"]  = df[\"16-24 ft.\"][\"FGA\"]\n",
    "df1[\"r24_\"]  = df[\"24+ ft.\"][\"FGA\"]\n",
    "df1[\"sum\"] = df1.iloc[:,-4:].sum(axis=1)\n",
    "df1.iloc[:,-5:-1] = df1.iloc[:,-5:-1].div(df1[\"sum\"],axis=0)*100\n",
    "df1.iloc[:,-5:-1] = df1.iloc[:,-5:-1].round(2)\n",
    "df1 = df1.drop([\"sum\"],axis=1)\n",
    "data = df1\n",
    "data.to_csv(\"../R/fdata\" +\"nba_team_shooting_splits.csv\")"
   ]
  },
  {
   "cell_type": "markdown",
   "metadata": {},
   "source": [
    "# Rolling Ratings"
   ]
  },
  {
   "cell_type": "code",
   "execution_count": null,
   "metadata": {},
   "outputs": [],
   "source": [
    "from nba_api.stats.endpoints import leaguegamelog"
   ]
  },
  {
   "cell_type": "code",
   "execution_count": null,
   "metadata": {},
   "outputs": [],
   "source": [
    "season = 2023\n",
    "df1 = pd.read_csv(f\"./boxscores/NBA_BoxScores_Adv_{season}.csv\")\n",
    "cols = [\"gameId\",\"teamId\",\"offensiveRating\",\"defensiveRating\",\"netRating\",\"possessions\"]\n",
    "df1 = df1[cols]\n",
    "stats = leaguegamelog.LeagueGameLog(player_or_team_abbreviation=\"T\",season=season,season_type_all_star=\"Regular Season\")\n",
    "df2 = stats.get_data_frames()[0]\n",
    "\n",
    "df2 = df2.rename(columns={\"GAME_ID\":\"gameId\",\"TEAM_ID\":\"teamId\",\"TEAM_ABBREVIATION\":\"teamTricode\",\"GAME_DATE\":\"gameDate\",\"TEAM_NAME\":\"teamName\"})\n",
    "cols2 = [\"gameId\",\"teamId\",\"teamTricode\",\"gameDate\"]\n",
    "df2 = df2[cols2]\n",
    "df2[\"gameId\"] = df2[\"gameId\"].astype(int)\n",
    "df3 = pd.merge(df2,df1,on=[\"gameId\",\"teamId\"])\n",
    "df4 = df3.sort_values(by=[\"teamTricode\",\"gameDate\"]).reset_index(drop=True)\n",
    "df6 = df3.sort_values(by=[\"gameDate\"]).reset_index(drop=True)\n",
    "teams = df6[\"teamTricode\"].unique()"
   ]
  },
  {
   "cell_type": "code",
   "execution_count": null,
   "metadata": {},
   "outputs": [],
   "source": [
    "dfa = []\n",
    "for team in teams:\n",
    "    df5 = df4[df4[\"teamTricode\"]==team].reset_index(drop=True)\n",
    "    df5[\"oPts\"] = df5[\"offensiveRating\"]*df5[\"possessions\"]\n",
    "    df5[\"dPts\"] = df5[\"defensiveRating\"]*df5[\"possessions\"]\n",
    "    df5[\"roPts\"]=df5[\"oPts\"].cumsum()\n",
    "    df5[\"rdPts\"]=df5[\"dPts\"].cumsum()\n",
    "    df5[\"rPoss\"]=df5[\"possessions\"].cumsum()\n",
    "    df5[\"rORtg\"]=df5[\"roPts\"] / df5[\"rPoss\"]\n",
    "    df5[\"rDRtg\"]=df5[\"rdPts\"] / df5[\"rPoss\"]\n",
    "    df5[\"rNRtg\"] = df5[\"rORtg\"] - df5[\"rDRtg\"]\n",
    "    df5[\"rORtg\"] = df5[\"rORtg\"].round(2)\n",
    "    df5[\"rDRtg\"] = df5[\"rDRtg\"].round(2)\n",
    "    df5[\"rNRtg\"] = df5[\"rNRtg\"].round(2)\n",
    "    dfa.append(df5)\n",
    "data = pd.concat(dfa)\n",
    "data[\"teamDup\"] = data[\"teamTricode\"]\n",
    "data = data.rename(columns={\"gameDate\":\"Date\"})\n",
    "# data[data[\"Date\"]>\"2023-11-07\"]\n",
    "data1 = data.copy()\n",
    "data1 = data1.drop(columns=[\"teamTricode\"])"
   ]
  },
  {
   "cell_type": "code",
   "execution_count": null,
   "metadata": {},
   "outputs": [],
   "source": [
    "dates = df4[\"gameDate\"].unique()\n",
    "dfb = []\n",
    "for date in dates:\n",
    "    df7 = df6[df6[\"gameDate\"]<=date].reset_index(drop=True)\n",
    "    df7[\"oPts\"] = df7[\"offensiveRating\"]*df7[\"possessions\"]\n",
    "    df7[\"dPts\"] = df7[\"defensiveRating\"]*df7[\"possessions\"]\n",
    "    df7[\"roPts\"]=df7[\"oPts\"].cumsum()\n",
    "    df7[\"rdPts\"]=df7[\"dPts\"].cumsum()\n",
    "    df7[\"rPoss\"]=df7[\"possessions\"].cumsum()\n",
    "    df7[\"rORtg\"]=df7[\"roPts\"] / df7[\"rPoss\"]\n",
    "    df7[\"rDRtg\"]=df7[\"rdPts\"] / df7[\"rPoss\"]\n",
    "    df7[\"rNRtg\"] = df7[\"rORtg\"] - df7[\"rDRtg\"]\n",
    "    df7[\"rORtg\"] = df7[\"rORtg\"].round(2)\n",
    "    df7[\"rDRtg\"] = df7[\"rDRtg\"].round(2)\n",
    "    df7[\"rNRtg\"] = df7[\"rNRtg\"].round(2)\n",
    "    dfb.append(df7.tail(1))\n",
    "data_avg = pd.concat(dfb).reset_index(drop=True)\n",
    "data_avg = data_avg.rename(columns={\"gameDate\":\"Date\"})\n",
    "data_avg[\"teamTricode\"] = \"avg\"\n",
    "data_avg[\"teamDup\"] = data_avg[\"teamTricode\"]\n",
    "data_avg = data_avg.drop(columns=[\"teamTricode\"])"
   ]
  },
  {
   "cell_type": "markdown",
   "metadata": {},
   "source": [
    "## OFF"
   ]
  },
  {
   "cell_type": "code",
   "execution_count": null,
   "metadata": {},
   "outputs": [],
   "source": [
    "p = (\n",
    "    ggplot(data)\n",
    "    + geom_smooth(data= data1,mapping= aes(x=\"Date\", y=\"rORtg\",group = \"teamDup\") ,method=\"loess\",color=\"lightgrey\", se=False, size=0.5) \n",
    "    + geom_smooth(data= data_avg,mapping=aes(x=\"Date\", y=\"rORtg\",group = \"teamDup\"),method=\"loess\",color=\"red\", se=False, size=0.5) \n",
    "    + geom_smooth(aes(x=\"Date\", y=\"rORtg\",group= \"teamTricode\"),method=\"loess\",color=\"Black\", se=False, size=1) \n",
    "    + ylim(100, 125)\n",
    "    + scale_x_date(date_labels = \"%b-%d\",date_breaks = \"1 week\")\n",
    "    + labs(\n",
    "       title = \"NBA Rolling Team Offensive Ratings\",\n",
    "       subtitle = \"x-axis shows the day and y-axis shows Off Rtg till that day | Red line is league avg Off Rtg\",\n",
    "       caption = \"@SravanNBA | source:nba.com/stats\")\n",
    "    + facet_wrap(facets=\"~ teamTricode\")\n",
    "    + theme_sra\n",
    ")\n",
    "p.save(\"../figs/team_leaders/\" +\"Rolling ORtg.png\",width=10,height=10,dpi=300)\n",
    "p.draw()"
   ]
  },
  {
   "cell_type": "markdown",
   "metadata": {},
   "source": [
    "## DEF"
   ]
  },
  {
   "cell_type": "code",
   "execution_count": null,
   "metadata": {},
   "outputs": [],
   "source": [
    "p = (\n",
    "    ggplot(data)\n",
    "    + geom_smooth(data= data1,mapping= aes(x=\"Date\", y=\"rDRtg\",group = \"teamDup\") ,method=\"loess\",color=\"lightgrey\", se=False, size=0.5) \n",
    "    + geom_smooth(data= data_avg,mapping=aes(x=\"Date\", y=\"rDRtg\",group = \"teamDup\"),method=\"loess\",color=\"red\", se=False, size=0.5) \n",
    "    + geom_smooth(aes(x=\"Date\", y=\"rDRtg\",group= \"teamTricode\"),method=\"loess\",color=\"Black\", se=False, size=1) \n",
    "    + ylim(100, 125)\n",
    "    + scale_x_date(date_labels = \"%b-%d\",date_breaks = \"1 week\")\n",
    "    + labs(\n",
    "       title = \"NBA Rolling Team Defensive Ratings\",\n",
    "       subtitle = \"x-axis shows the day and y-axis shows Def Rtg till that day | Red line is league avg Def Rtg\",\n",
    "       caption = \"@SravanNBA | source:nba.com/stats\")\n",
    "    + facet_wrap(facets=\"~ teamTricode\")\n",
    "    + theme_sra\n",
    ")\n",
    "p.save(\"../figs/team_leaders/\" +\"Rolling DRtg.png\",width=10,height=10,dpi=300)\n",
    "p.draw()"
   ]
  },
  {
   "cell_type": "markdown",
   "metadata": {},
   "source": [
    "## NET"
   ]
  },
  {
   "cell_type": "code",
   "execution_count": null,
   "metadata": {},
   "outputs": [],
   "source": [
    "p = (\n",
    "    ggplot(data)  \n",
    "    + geom_smooth(data= data1,mapping= aes(x=\"Date\", y=\"rNRtg\",group = \"teamDup\") ,method=\"loess\",color=\"lightgrey\", se=False, size=0.5) \n",
    "    + geom_smooth(aes(x=\"Date\", y=\"rNRtg\",group= \"teamTricode\"),method=\"loess\",color=\"Black\", se=False, size=1) \n",
    "    + geom_hline(yintercept=0, linetype=\"dashed\", color=\"red\", size=0.5) \n",
    "    # + ylim(-20, 20)\n",
    "    # + scale_x_date(date_labels = \"%b-%d\",date_breaks = \"2 week\")\n",
    "    + ylim(-10, 10)\n",
    "    + scale_x_date(date_labels = \"%b\",date_breaks = \"4 week\")\n",
    "    + labs(\n",
    "       title = \"NBA Rolling Team Net Ratings 2022-23\",\n",
    "       subtitle = \"x-axis shows the day and y-axis shows Net Rating till that day\",\n",
    "       caption = \"@SravanNBA | source:nba.com/stats\")\n",
    "    + facet_wrap(facets=\"~ teamTricode\")\n",
    "    + theme_sra\n",
    ")\n",
    "p.save(\"../figs/team_leaders/\" +\"Rolling NRtg_2023.png\",width=10,height=10,dpi=300)\n",
    "p.draw()"
   ]
  },
  {
   "cell_type": "markdown",
   "metadata": {},
   "source": [
    "## TEAM"
   ]
  },
  {
   "cell_type": "code",
   "execution_count": null,
   "metadata": {},
   "outputs": [],
   "source": [
    "theme_sra = themes.theme_xkcd(base_size=11)#, base_family=\"Tahoma\")\n",
    "theme_sra += theme(\n",
    "                    # plot_background = element_rect(fill = 'ghostwhite', color = \"ghostwhite\"),\n",
    "                    plot_title = element_text(face = 'bold',size=16),\n",
    "                    # strip_text = element_text(face = 'bold',size=10),\n",
    "                    # plot_caption = element_text(size=10),\n",
    "                    # plot_subtitle = element_text(size=12),\n",
    "                    # axis_text_x = element_text(size=8),\n",
    "                    # axis_text_y = element_text(size=8),\n",
    "                    # axis_title_x = element_text(size=12),\n",
    "                    # axis_title_y = element_text(size=12)\n",
    "                ) "
   ]
  },
  {
   "cell_type": "code",
   "execution_count": null,
   "metadata": {},
   "outputs": [],
   "source": [
    "team = \"SAC\"\n",
    "data2 = data[data[\"teamTricode\"]==team]\n",
    "p = (\n",
    "    ggplot(data2)\n",
    "    + geom_smooth(data= data1,mapping= aes(x=\"Date\", y=\"rNRtg\",group = \"teamDup\") ,method=\"loess\",color=\"lightgrey\", se=False, size=0.5) \n",
    "    # + geom_smooth(data= data_avg,mapping=aes(x=\"Date\", y=\"rNRtg\",group = \"teamDup\"),method=\"loess\",color=\"red\", se=False, size=0.5) \n",
    "    + geom_smooth(aes(x=\"Date\", y=\"rNRtg\",group= \"teamTricode\"),method=\"loess\",color=\"Black\", se=False, size=1) \n",
    "    + geom_hline(yintercept=0, linetype=\"dashed\", color=\"red\", size=0.5) \n",
    "    + ylim(-10, 10)\n",
    "    + scale_x_date(date_labels = \"%b\",date_breaks = \"4 week\")\n",
    "    # + ylim(100, 130)\n",
    "    + labs(\n",
    "       title = \"Sacramento Kings Rolling Net Rating 2022-23\",\n",
    "       subtitle = \"x-axis shows the day and y-axis shows Net Rtg\",\n",
    "       caption = \"@SravanNBA | source:nba.com/stats\")\n",
    "    + theme_sra\n",
    ")\n",
    "p.save(\"../figs/team_leaders/\" +\"Rolling NRtg \"+team+\".png\",width=8,height=6,dpi=300)\n",
    "p.draw()"
   ]
  },
  {
   "cell_type": "markdown",
   "metadata": {},
   "source": [
    "# Team Trends"
   ]
  },
  {
   "cell_type": "code",
   "execution_count": null,
   "metadata": {},
   "outputs": [],
   "source": [
    "from nba_api.stats.endpoints import leaguegamelog"
   ]
  },
  {
   "cell_type": "code",
   "execution_count": null,
   "metadata": {},
   "outputs": [],
   "source": [
    "season = 2023\n",
    "df1 = pd.read_csv(f\"./boxscores/NBA_BoxScores_Adv_{season}.csv\")\n",
    "# cols = [\"gameId\",\"teamId\",\"offensiveRating\",\"defensiveRating\",\"netRating\",\"possessions\"]\n",
    "# df1 = df1[cols]\n",
    "stats = leaguegamelog.LeagueGameLog(player_or_team_abbreviation=\"T\",season=season,season_type_all_star=\"Regular Season\")\n",
    "df2 = stats.get_data_frames()[0]\n",
    "df2 = df2.rename(columns={\"GAME_ID\":\"gameId\",\"TEAM_ID\":\"teamId\",\"TEAM_ABBREVIATION\":\"teamTricode\",\"GAME_DATE\":\"gameDate\",\"TEAM_NAME\":\"teamName\"})\n",
    "cols2 = [\"gameId\",\"teamId\",\"teamTricode\",\"gameDate\"]\n",
    "df2 = df2[cols2]\n",
    "df2[\"gameId\"] = df2[\"gameId\"].astype(int)\n",
    "df3 = pd.merge(df2,df1,on=[\"gameId\",\"teamId\",\"teamTricode\"])\n",
    "df3[\"gameDate\"] = pd.to_datetime(df3[\"gameDate\"],format=\"%Y-%m-%d\")\n",
    "df4 = df3.sort_values(by=[\"teamTricode\",\"gameDate\"]).reset_index(drop=True)\n",
    "df6 = df3.sort_values(by=[\"gameDate\"]).reset_index(drop=True)\n",
    "data = df6.copy()"
   ]
  },
  {
   "cell_type": "code",
   "execution_count": null,
   "metadata": {},
   "outputs": [],
   "source": [
    "data.columns"
   ]
  },
  {
   "cell_type": "code",
   "execution_count": null,
   "metadata": {},
   "outputs": [],
   "source": [
    "team = \"WAS\"\n",
    "df = data[data[\"teamTricode\"]==team].reset_index()\n",
    "var,y = \"reboundPercentage\", \"Rebound %\"\n",
    "# var,y = \"Minutes\", \"Minutes Played\"\n",
    "title = team+ \" \" + y\n",
    "p = (\n",
    "    ggplot(df)  # What data to use\n",
    "    + aes(x=\"gameDate\", y=var)  # What variable to use\n",
    "    # + geom_line()  # Geometric object to use for drawing\n",
    "    + geom_point(color=\"#CE1141\") \n",
    "    + geom_smooth(method=\"loess\",color=\"black\",se=False) \n",
    "    + scale_x_date(date_labels = \"%b-%d\",date_breaks = \"1 week\")\n",
    "    # + geom_hline(yintercept=0.752, linetype=\"dashed\", color=\"blue\", size=0.5)\n",
    "    # + annotate(\"text\", x=df[\"gameDate\"].iloc[1], y=0.76, label=\"League Avg\") \n",
    "    + labs(x = \"Date\", \n",
    "       y = y, \n",
    "       title = title,\n",
    "       caption = \"@SravanNBA | source: nba.com/stats\")\n",
    "    # + themes.theme_xkcd(base_size=14)\n",
    "    + themes.theme_538(base_size=12)\n",
    "    + theme(\n",
    "        plot_title = element_text(face = 'bold',size=18), \n",
    "        plot_margin = 0.025\n",
    "        )\n",
    ")\n",
    "p.save(fig_DIR+ team +\"_\" +var+ \".png\",dpi=300)\n",
    "p.draw()"
   ]
  },
  {
   "cell_type": "markdown",
   "metadata": {},
   "source": [
    "## Variance"
   ]
  },
  {
   "cell_type": "code",
   "execution_count": null,
   "metadata": {},
   "outputs": [],
   "source": [
    "grp = data.groupby('teamTricode')['netRating']\n",
    "sorted_grp = grp.describe().sort_values(by=\"std\",ascending=False).reset_index()\n",
    "teams_sorted = sorted_grp[\"teamTricode\"].tolist()\n",
    "sorted_grp = sorted_grp.round(2)\n",
    "sorted_grp.head()\n",
    "sorted_grp = sorted_grp.set_index(\"teamTricode\")"
   ]
  },
  {
   "cell_type": "code",
   "execution_count": null,
   "metadata": {},
   "outputs": [],
   "source": [
    "%reload_ext rpy2.ipython"
   ]
  },
  {
   "cell_type": "code",
   "execution_count": null,
   "metadata": {},
   "outputs": [],
   "source": [
    "%%R -i sorted_grp \n",
    "library(tidyverse)\n",
    "library(gt)\n",
    "df <- sorted_grp\n",
    "df <- df %>% rename( \"Team\" = \"teamTricode\", \"Games\" = \"count\")\n",
    "df %>% \n",
    "  gt()%>%\n",
    "  tab_header(\n",
    "    title = md(\"**NBA Team Net Rating Variance 2023-24**\"),\n",
    "    subtitle = md(\"Higher Std Deviation means more variance\" )\n",
    "    ) %>%\n",
    "    tab_options(\n",
    "        table.background.color = \"floralwhite\",\n",
    "        column_labels.font.size = 12,\n",
    "        column_labels.font.weight = 'bold',\n",
    "        row_group.font.weight = 'bold',\n",
    "        row_group.background.color = \"#E5E1D8\",\n",
    "        table.font.size = 10,\n",
    "        heading.title.font.size = 20,\n",
    "        heading.subtitle.font.size = 12.5,\n",
    "        table.font.names = \"Consolas\", \n",
    "        data_row.padding = px(2)\n",
    "    ) %>% \n",
    "    tab_spanner(\n",
    "    label = \"Percentiles\",\n",
    "    columns = c(\"25%\", \"50%\", \"75%\")\n",
    "    ) %>%\n",
    "    tab_source_note(\n",
    "    source_note = \"@SravanNBA | Source: nba.com/stats\" ) %>% gtsave(\"../figs/team_leaders/Teams_Variance.png\",zoom=5) \n"
   ]
  },
  {
   "cell_type": "code",
   "execution_count": null,
   "metadata": {},
   "outputs": [],
   "source": [
    "teams_cat = pd.Categorical(data['teamTricode'], categories=teams_sorted)\n",
    "df1 = data.assign(teams_cat = teams_cat)\n",
    "df_teams = pd.read_csv(\"../data/NBA_teams_colors_logos.csv\")\n",
    "df = pd.merge(df1,df_teams)"
   ]
  },
  {
   "cell_type": "code",
   "execution_count": null,
   "metadata": {},
   "outputs": [],
   "source": [
    "# df = df[df[\"teamTricode\"]==team].reset_index()\n",
    "var,y = \"netRating\", \"Net Rating\"\n",
    "# var,y = \"Minutes\", \"Minutes Played\"\n",
    "title = \"NBA\" + \" \" + y + \" \" + \"Distribution\"\n",
    "p = (\n",
    "    ggplot(df)  # What data to use\n",
    "    + aes(x=var, group = \"teams_cat\", fill = \"colorsTeam\")  # What variable to use\n",
    "    + geom_density(alpha = 0.5,show_legend=False,)\n",
    "    + scale_color_identity(aesthetics = [\"fill\"]) \n",
    "    + facet_wrap(facets=\"~ teams_cat\")\n",
    "    + labs(x = y, \n",
    "       y = \"Fraction of games\", \n",
    "       title = title,\n",
    "       subtitle = \"x-axis shows the points and y-axis shows fraction of games with that Net Rating | sorted by highest std deviation to least\",\n",
    "       caption = \"@SravanNBA | source: nba.com/stats\")\n",
    "    # + themes.theme_xkcd(base_size=14)\n",
    "    + themes.theme_538(base_size=12)\n",
    "    + theme(\n",
    "        plot_title = element_text(face = 'bold',size=18), \n",
    "        plot_subtitle = element_text(size=14), \n",
    "        plot_margin = 0.025\n",
    "        )\n",
    ")\n",
    "p.save(fig_DIR+ \"NBA\" +\"_\" +var+ \".png\",dpi=300,width=15,height=10)\n",
    "p.draw()"
   ]
  },
  {
   "cell_type": "code",
   "execution_count": null,
   "metadata": {},
   "outputs": [],
   "source": [
    "df"
   ]
  },
  {
   "cell_type": "code",
   "execution_count": null,
   "metadata": {},
   "outputs": [],
   "source": [
    "var,y = \"netRating\", \"Net Rating\"\n",
    "# var,y = \"Minutes\", \"Minutes Played\"\n",
    "title = \"NBA\" + \" \" + y + \" \" + \"Boxplot\"\n",
    "p = (\n",
    "    ggplot(df)  # What data to use\n",
    "    + aes(x=\"teams_cat\", y=var, fill = \"colorsTeam\")  # What variable to use\n",
    "    # + geom_line()  # Geometric object to use for drawing\n",
    "    + geom_boxplot(alpha=0.5)\n",
    "    + scale_color_identity(aesthetics = [\"fill\"]) \n",
    "    + scale_y_continuous(limits = [-20,20], breaks = [-20,-10,0,10,20] )\n",
    "    # + geom_hline(yintercept=0.752, linetype=\"dashed\", color=\"blue\", size=0.5)\n",
    "    # + annotate(\"text\", x=df[\"gameDate\"].iloc[1], y=0.76, label=\"League Avg\") \n",
    "    + labs(x = \"Team\", \n",
    "       y = y, \n",
    "       title = title,\n",
    "       caption = \"@SravanNBA | source: nba.com/stats\")\n",
    "    # + themes.theme_xkcd(base_size=14)\n",
    "    + themes.theme_538(base_size=12)\n",
    "    + theme(\n",
    "        plot_title = element_text(face = 'bold',size=18), \n",
    "        plot_margin = 0.025\n",
    "        )\n",
    ")\n",
    "p.save(fig_DIR+ \"NBA\" +\"_\" +var+ \"_boxplot.png\",dpi=300, height = 5, width = 15)\n",
    "p.draw()"
   ]
  }
 ],
 "metadata": {
  "kernelspec": {
   "display_name": ".venv",
   "language": "python",
   "name": "python3"
  },
  "language_info": {
   "codemirror_mode": {
    "name": "ipython",
    "version": 3
   },
   "file_extension": ".py",
   "mimetype": "text/x-python",
   "name": "python",
   "nbconvert_exporter": "python",
   "pygments_lexer": "ipython3",
   "version": "3.11.6"
  }
 },
 "nbformat": 4,
 "nbformat_minor": 2
}
