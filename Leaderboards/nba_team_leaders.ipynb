{
 "cells": [
  {
   "cell_type": "code",
   "execution_count": null,
   "metadata": {},
   "outputs": [],
   "source": [
    "import matplotlib.pyplot as plt\n",
    "import numpy as np\n",
    "import pandas as pd\n",
    "import scipy\n",
    "import nba_api\n",
    "import plotly.figure_factory as ff\n",
    "import plotly.graph_objects as go \n",
    "import plotly.express as px\n",
    "\n",
    "fig_DIR = \"../figs/team_leaders/\""
   ]
  },
  {
   "cell_type": "code",
   "execution_count": null,
   "metadata": {},
   "outputs": [],
   "source": [
    "import os\n",
    "os.environ[\"R_HOME\"] = \"C:\\\\Program Files\\\\R\\\\R-4.3.2\\\\\"\n",
    "%reload_ext rpy2.ipython"
   ]
  },
  {
   "cell_type": "code",
   "execution_count": null,
   "metadata": {},
   "outputs": [],
   "source": [
    "def get_df(stats):\n",
    "    df = stats.get_data_frames()[0]\n",
    "    df[\"Team\"] = df[\"TEAM_NAME\"]\n",
    "    cols = df.columns\n",
    "    df.columns = cols.str.replace(\"RATING\",\"RTG\")\n",
    "    return df"
   ]
  },
  {
   "cell_type": "code",
   "execution_count": null,
   "metadata": {},
   "outputs": [],
   "source": [
    "from nba_api.stats.endpoints import leaguedashteamstats\n",
    "stats = leaguedashteamstats.LeagueDashTeamStats(measure_type_detailed_defense=\"Advanced\")\n",
    "df = get_df(stats)\n",
    "df = df.rename(columns={\"OFF_RTG_RANK\":\"O_RANK\",\"DEF_RTG_RANK\":\"D_RANK\"})"
   ]
  },
  {
   "cell_type": "code",
   "execution_count": null,
   "metadata": {},
   "outputs": [],
   "source": [
    "df.columns"
   ]
  },
  {
   "cell_type": "code",
   "execution_count": null,
   "metadata": {},
   "outputs": [],
   "source": [
    "df1 = df.sort_values(by=\"NET_RTG\",ascending=False)\n",
    "df1 = df1.reset_index(drop=True)\n",
    "df1 = df1.reset_index(drop=False)\n",
    "df1[\"#\"] = df1[\"index\"] +1\n",
    "df2 = df1[[\"#\",\"Team\",\"OFF_RTG\",\"O_RANK\",\"DEF_RTG\",\"D_RANK\",\"NET_RTG\"]]\n",
    "df = df2"
   ]
  },
  {
   "cell_type": "code",
   "execution_count": null,
   "metadata": {},
   "outputs": [],
   "source": [
    "n_colors = 30\n",
    "colors = px.colors.sample_colorscale(\"Tropic\", [n/(n_colors -1) for n in range(n_colors)])\n",
    "orank = df[\"O_RANK\"]-1\n",
    "orank = orank.astype(np.int32).to_numpy()\n",
    "carray_o =  np.array(colors)[orank]\n",
    "drank = df[\"D_RANK\"]-1\n",
    "drank = drank.astype(np.int32).to_numpy()\n",
    "carray_d =  np.array(colors)[drank]\n",
    "nrank = df[\"#\"]-1\n",
    "nrank = nrank.astype(np.int32).to_numpy()\n",
    "carray_n =  np.array(colors)[nrank]\n",
    "title = \"NBA Net Rating Leaders 2023-24\"\n",
    "font = dict(color=\"black\",family=\"Arial Black, monospace\", size=11)\n",
    "fig = go.Figure(data=[go.Table(\n",
    "        columnwidth=[5,50,15,15,15,15,15],\n",
    "        header=dict(values=list(df.columns),\n",
    "                    fill_color='snow',\n",
    "                    align=['center','left','center','center'],\n",
    "                    font=dict(color='Black',family=\"Arial Black, monospace\", size=12),\n",
    "                    line_color=\"grey\"\n",
    "                    ),\n",
    "        cells=dict(values=[df[\"#\"],df[\"Team\"],df[\"OFF_RTG\"],df[\"O_RANK\"],df[\"DEF_RTG\"],\n",
    "                           df[\"D_RANK\"],df[\"NET_RTG\"]],\n",
    "                fill_color=[\"white\",\"white\",carray_o,\"white\",carray_d,\"white\",carray_n],\n",
    "                align=['center','left','center','center'],\n",
    "                height=23,\n",
    "                line_color=\"grey\",#lightgrey\",\n",
    "                font=font,\n",
    "                ),\n",
    "                # height=25\n",
    "        ),\n",
    "    ])\n",
    "    # fig.update_layout(title_text=title)\n",
    "fig.update_layout(title=dict(text=title,y=0.99,x=0.1,font=dict(size=15,family=\"Arial Black, monospace\")))\n",
    "fig.add_annotation(x=0.0, y=0.0,text=\"@SravanNBA\",showarrow=False,xshift=1,yshift=5)\n",
    "fig.add_annotation(x=1.0, y=0.0,text=\"Source: nba.com/stats\",showarrow=False,xshift=1,yshift=5,font=dict(size=10))\n",
    "# fig.update_layout(title=dict(text=title,y=0.01,x=0.1,font=dict(size=15,family=\"Arial Black, monospace\")))\n",
    "tab_width = 550 \n",
    "tab_height = 770\n",
    "fig.update_layout(width=tab_width,height=tab_height,margin=dict(t=25,b=1,l=1,r=1))\n",
    "# fig.update_layout(autosize=True)\n",
    "fig.show()\n",
    "fig.write_image(fig_DIR+f\"Teams_NET_RTG.png\", scale=3)"
   ]
  },
  {
   "cell_type": "code",
   "execution_count": null,
   "metadata": {},
   "outputs": [],
   "source": [
    "%%R -i df \n",
    "library(tidyverse)\n",
    "library(gt)\n",
    "\n",
    "df %>% \n",
    "  gt()%>%\n",
    "  tab_header(\n",
    "    title = md(\"**NBA Net Rating Leaders 2023-24**\")) %>%\n",
    "    data_color(columns = OFF_RTG, palette = c(\"red\", \"green\")) %>%\n",
    "    data_color(columns = DEF_RTG, palette = c(\"green\",\"red\")) %>%\n",
    "    data_color(columns = NET_RTG, palette = c(\"red\", \"green\")) %>%\n",
    "    cols_align(align = \"center\",columns = c(\"#\",OFF_RTG,O_RANK,DEF_RTG,D_RANK,NET_RTG))  %>%\n",
    "    tab_options(\n",
    "        table.background.color = \"floralwhite\",\n",
    "        column_labels.font.size = 12,\n",
    "        column_labels.font.weight = 'bold',\n",
    "        row_group.font.weight = 'bold',\n",
    "        row_group.background.color = \"#E5E1D8\",\n",
    "        table.font.size = 10,\n",
    "        heading.title.font.size = 20,\n",
    "        heading.subtitle.font.size = 12.5,\n",
    "        table.font.names = \"Consolas\", \n",
    "        data_row.padding = px(2)\n",
    "    ) %>% \n",
    "    tab_source_note(\n",
    "    source_note = \"@SravanNBA | Source: nba.com/stats\" ) #%>% gtsave(\"../figs/R/Teams_NET_RTG.png\",zoom=5) \n"
   ]
  }
 ],
 "metadata": {
  "kernelspec": {
   "display_name": ".venv",
   "language": "python",
   "name": "python3"
  },
  "language_info": {
   "codemirror_mode": {
    "name": "ipython",
    "version": 3
   },
   "file_extension": ".py",
   "mimetype": "text/x-python",
   "name": "python",
   "nbconvert_exporter": "python",
   "pygments_lexer": "ipython3",
   "version": "0.0.0"
  }
 },
 "nbformat": 4,
 "nbformat_minor": 2
}
