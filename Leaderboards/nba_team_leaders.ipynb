{
 "cells": [
  {
   "cell_type": "code",
   "execution_count": 48,
   "metadata": {},
   "outputs": [],
   "source": [
    "import matplotlib.pyplot as plt\n",
    "import numpy as np\n",
    "import pandas as pd\n",
    "import scipy\n",
    "import nba_api\n",
    "import seaborn as sns\n",
    "import plotly.figure_factory as ff\n",
    "import plotly.graph_objects as go \n",
    "import plotly.express as px\n",
    "\n",
    "fig_DIR = \"./figs/team_leaders/\""
   ]
  },
  {
   "cell_type": "code",
   "execution_count": 24,
   "metadata": {},
   "outputs": [],
   "source": [
    "def get_df(stats):\n",
    "    df = stats.get_data_frames()[0]\n",
    "    df[\"Team\"] = df[\"TEAM_NAME\"]\n",
    "    cols = df.columns\n",
    "    df.columns = cols.str.replace(\"RATING\",\"RTG\")\n",
    "    return df"
   ]
  },
  {
   "cell_type": "code",
   "execution_count": 237,
   "metadata": {},
   "outputs": [],
   "source": [
    "from nba_api.stats.endpoints import leaguedashteamstats\n",
    "stats = leaguedashteamstats.LeagueDashTeamStats(measure_type_detailed_defense=\"Advanced\")\n",
    "df = get_df(stats)\n",
    "df = df.rename(columns={\"OFF_RTG_RANK\":\"O_RANK\",\"DEF_RTG_RANK\":\"D_RANK\"})"
   ]
  },
  {
   "cell_type": "code",
   "execution_count": 238,
   "metadata": {},
   "outputs": [
    {
     "data": {
      "text/plain": [
       "Index(['TEAM_ID', 'TEAM_NAME', 'GP', 'W', 'L', 'W_PCT', 'MIN', 'E_OFF_RTG',\n",
       "       'OFF_RTG', 'E_DEF_RTG', 'DEF_RTG', 'E_NET_RTG', 'NET_RTG', 'AST_PCT',\n",
       "       'AST_TO', 'AST_RATIO', 'OREB_PCT', 'DREB_PCT', 'REB_PCT', 'TM_TOV_PCT',\n",
       "       'EFG_PCT', 'TS_PCT', 'E_PACE', 'PACE', 'PACE_PER40', 'POSS', 'PIE',\n",
       "       'GP_RANK', 'W_RANK', 'L_RANK', 'W_PCT_RANK', 'MIN_RANK', 'O_RANK',\n",
       "       'D_RANK', 'NET_RTG_RANK', 'AST_PCT_RANK', 'AST_TO_RANK',\n",
       "       'AST_RATIO_RANK', 'OREB_PCT_RANK', 'DREB_PCT_RANK', 'REB_PCT_RANK',\n",
       "       'TM_TOV_PCT_RANK', 'EFG_PCT_RANK', 'TS_PCT_RANK', 'PACE_RANK',\n",
       "       'PIE_RANK', 'Team'],\n",
       "      dtype='object')"
      ]
     },
     "execution_count": 238,
     "metadata": {},
     "output_type": "execute_result"
    }
   ],
   "source": [
    "df.columns"
   ]
  },
  {
   "cell_type": "code",
   "execution_count": 235,
   "metadata": {},
   "outputs": [],
   "source": [
    "df1 = df.sort_values(by=\"NET_RTG\",ascending=False)\n",
    "df1 = df1.reset_index(drop=True)\n",
    "df1 = df1.reset_index(drop=False)\n",
    "df1[\"#\"] = df1[\"index\"] +1\n",
    "df2 = df1[[\"#\",\"Team\",\"OFF_RTG\",\"O_RANK\",\"DEF_RTG\",\"D_RANK\",\"NET_RTG\"]]\n",
    "df = df2"
   ]
  },
  {
   "cell_type": "code",
   "execution_count": 241,
   "metadata": {},
   "outputs": [
    {
     "data": {
      "text/html": [
       "<div>\n",
       "<style scoped>\n",
       "    .dataframe tbody tr th:only-of-type {\n",
       "        vertical-align: middle;\n",
       "    }\n",
       "\n",
       "    .dataframe tbody tr th {\n",
       "        vertical-align: top;\n",
       "    }\n",
       "\n",
       "    .dataframe thead th {\n",
       "        text-align: right;\n",
       "    }\n",
       "</style>\n",
       "<table border=\"1\" class=\"dataframe\">\n",
       "  <thead>\n",
       "    <tr style=\"text-align: right;\">\n",
       "      <th></th>\n",
       "      <th>TEAM_ID</th>\n",
       "      <th>TEAM_NAME</th>\n",
       "      <th>GP</th>\n",
       "      <th>W</th>\n",
       "      <th>L</th>\n",
       "      <th>W_PCT</th>\n",
       "      <th>MIN</th>\n",
       "      <th>E_OFF_RTG</th>\n",
       "      <th>OFF_RTG</th>\n",
       "      <th>E_DEF_RTG</th>\n",
       "      <th>...</th>\n",
       "      <th>AST_RATIO_RANK</th>\n",
       "      <th>OREB_PCT_RANK</th>\n",
       "      <th>DREB_PCT_RANK</th>\n",
       "      <th>REB_PCT_RANK</th>\n",
       "      <th>TM_TOV_PCT_RANK</th>\n",
       "      <th>EFG_PCT_RANK</th>\n",
       "      <th>TS_PCT_RANK</th>\n",
       "      <th>PACE_RANK</th>\n",
       "      <th>PIE_RANK</th>\n",
       "      <th>Team</th>\n",
       "    </tr>\n",
       "  </thead>\n",
       "  <tbody>\n",
       "    <tr>\n",
       "      <th>0</th>\n",
       "      <td>1610612737</td>\n",
       "      <td>Atlanta Hawks</td>\n",
       "      <td>6</td>\n",
       "      <td>4</td>\n",
       "      <td>2</td>\n",
       "      <td>0.667</td>\n",
       "      <td>288.0</td>\n",
       "      <td>116.8</td>\n",
       "      <td>119.3</td>\n",
       "      <td>110.6</td>\n",
       "      <td>...</td>\n",
       "      <td>10</td>\n",
       "      <td>5</td>\n",
       "      <td>11</td>\n",
       "      <td>5</td>\n",
       "      <td>13</td>\n",
       "      <td>10</td>\n",
       "      <td>5</td>\n",
       "      <td>4</td>\n",
       "      <td>7</td>\n",
       "      <td>Atlanta Hawks</td>\n",
       "    </tr>\n",
       "    <tr>\n",
       "      <th>1</th>\n",
       "      <td>1610612738</td>\n",
       "      <td>Boston Celtics</td>\n",
       "      <td>5</td>\n",
       "      <td>5</td>\n",
       "      <td>0</td>\n",
       "      <td>1.000</td>\n",
       "      <td>240.0</td>\n",
       "      <td>122.2</td>\n",
       "      <td>124.7</td>\n",
       "      <td>104.7</td>\n",
       "      <td>...</td>\n",
       "      <td>26</td>\n",
       "      <td>4</td>\n",
       "      <td>6</td>\n",
       "      <td>1</td>\n",
       "      <td>9</td>\n",
       "      <td>1</td>\n",
       "      <td>1</td>\n",
       "      <td>10</td>\n",
       "      <td>1</td>\n",
       "      <td>Boston Celtics</td>\n",
       "    </tr>\n",
       "    <tr>\n",
       "      <th>2</th>\n",
       "      <td>1610612751</td>\n",
       "      <td>Brooklyn Nets</td>\n",
       "      <td>6</td>\n",
       "      <td>3</td>\n",
       "      <td>3</td>\n",
       "      <td>0.500</td>\n",
       "      <td>288.0</td>\n",
       "      <td>113.1</td>\n",
       "      <td>115.4</td>\n",
       "      <td>113.1</td>\n",
       "      <td>...</td>\n",
       "      <td>7</td>\n",
       "      <td>16</td>\n",
       "      <td>2</td>\n",
       "      <td>8</td>\n",
       "      <td>8</td>\n",
       "      <td>5</td>\n",
       "      <td>10</td>\n",
       "      <td>18</td>\n",
       "      <td>11</td>\n",
       "      <td>Brooklyn Nets</td>\n",
       "    </tr>\n",
       "    <tr>\n",
       "      <th>3</th>\n",
       "      <td>1610612766</td>\n",
       "      <td>Charlotte Hornets</td>\n",
       "      <td>5</td>\n",
       "      <td>2</td>\n",
       "      <td>3</td>\n",
       "      <td>0.400</td>\n",
       "      <td>240.0</td>\n",
       "      <td>111.0</td>\n",
       "      <td>112.2</td>\n",
       "      <td>114.0</td>\n",
       "      <td>...</td>\n",
       "      <td>13</td>\n",
       "      <td>11</td>\n",
       "      <td>26</td>\n",
       "      <td>16</td>\n",
       "      <td>16</td>\n",
       "      <td>16</td>\n",
       "      <td>14</td>\n",
       "      <td>2</td>\n",
       "      <td>16</td>\n",
       "      <td>Charlotte Hornets</td>\n",
       "    </tr>\n",
       "    <tr>\n",
       "      <th>4</th>\n",
       "      <td>1610612741</td>\n",
       "      <td>Chicago Bulls</td>\n",
       "      <td>7</td>\n",
       "      <td>2</td>\n",
       "      <td>5</td>\n",
       "      <td>0.286</td>\n",
       "      <td>341.0</td>\n",
       "      <td>104.4</td>\n",
       "      <td>106.2</td>\n",
       "      <td>112.8</td>\n",
       "      <td>...</td>\n",
       "      <td>28</td>\n",
       "      <td>18</td>\n",
       "      <td>16</td>\n",
       "      <td>25</td>\n",
       "      <td>2</td>\n",
       "      <td>28</td>\n",
       "      <td>28</td>\n",
       "      <td>29</td>\n",
       "      <td>30</td>\n",
       "      <td>Chicago Bulls</td>\n",
       "    </tr>\n",
       "    <tr>\n",
       "      <th>5</th>\n",
       "      <td>1610612739</td>\n",
       "      <td>Cleveland Cavaliers</td>\n",
       "      <td>6</td>\n",
       "      <td>2</td>\n",
       "      <td>4</td>\n",
       "      <td>0.333</td>\n",
       "      <td>288.0</td>\n",
       "      <td>105.3</td>\n",
       "      <td>105.8</td>\n",
       "      <td>107.1</td>\n",
       "      <td>...</td>\n",
       "      <td>21</td>\n",
       "      <td>26</td>\n",
       "      <td>27</td>\n",
       "      <td>28</td>\n",
       "      <td>3</td>\n",
       "      <td>26</td>\n",
       "      <td>26</td>\n",
       "      <td>22</td>\n",
       "      <td>22</td>\n",
       "      <td>Cleveland Cavaliers</td>\n",
       "    </tr>\n",
       "    <tr>\n",
       "      <th>6</th>\n",
       "      <td>1610612742</td>\n",
       "      <td>Dallas Mavericks</td>\n",
       "      <td>5</td>\n",
       "      <td>4</td>\n",
       "      <td>1</td>\n",
       "      <td>0.800</td>\n",
       "      <td>240.0</td>\n",
       "      <td>118.5</td>\n",
       "      <td>119.8</td>\n",
       "      <td>113.3</td>\n",
       "      <td>...</td>\n",
       "      <td>24</td>\n",
       "      <td>21</td>\n",
       "      <td>22</td>\n",
       "      <td>21</td>\n",
       "      <td>6</td>\n",
       "      <td>3</td>\n",
       "      <td>2</td>\n",
       "      <td>15</td>\n",
       "      <td>9</td>\n",
       "      <td>Dallas Mavericks</td>\n",
       "    </tr>\n",
       "    <tr>\n",
       "      <th>7</th>\n",
       "      <td>1610612743</td>\n",
       "      <td>Denver Nuggets</td>\n",
       "      <td>7</td>\n",
       "      <td>6</td>\n",
       "      <td>1</td>\n",
       "      <td>0.857</td>\n",
       "      <td>336.0</td>\n",
       "      <td>113.7</td>\n",
       "      <td>117.1</td>\n",
       "      <td>104.8</td>\n",
       "      <td>...</td>\n",
       "      <td>1</td>\n",
       "      <td>9</td>\n",
       "      <td>14</td>\n",
       "      <td>9</td>\n",
       "      <td>23</td>\n",
       "      <td>4</td>\n",
       "      <td>8</td>\n",
       "      <td>27</td>\n",
       "      <td>2</td>\n",
       "      <td>Denver Nuggets</td>\n",
       "    </tr>\n",
       "    <tr>\n",
       "      <th>8</th>\n",
       "      <td>1610612765</td>\n",
       "      <td>Detroit Pistons</td>\n",
       "      <td>6</td>\n",
       "      <td>2</td>\n",
       "      <td>4</td>\n",
       "      <td>0.333</td>\n",
       "      <td>288.0</td>\n",
       "      <td>106.2</td>\n",
       "      <td>109.1</td>\n",
       "      <td>108.6</td>\n",
       "      <td>...</td>\n",
       "      <td>8</td>\n",
       "      <td>2</td>\n",
       "      <td>3</td>\n",
       "      <td>3</td>\n",
       "      <td>30</td>\n",
       "      <td>20</td>\n",
       "      <td>20</td>\n",
       "      <td>14</td>\n",
       "      <td>17</td>\n",
       "      <td>Detroit Pistons</td>\n",
       "    </tr>\n",
       "    <tr>\n",
       "      <th>9</th>\n",
       "      <td>1610612744</td>\n",
       "      <td>Golden State Warriors</td>\n",
       "      <td>6</td>\n",
       "      <td>5</td>\n",
       "      <td>1</td>\n",
       "      <td>0.833</td>\n",
       "      <td>288.0</td>\n",
       "      <td>114.6</td>\n",
       "      <td>116.5</td>\n",
       "      <td>106.4</td>\n",
       "      <td>...</td>\n",
       "      <td>4</td>\n",
       "      <td>6</td>\n",
       "      <td>23</td>\n",
       "      <td>10</td>\n",
       "      <td>20</td>\n",
       "      <td>9</td>\n",
       "      <td>9</td>\n",
       "      <td>17</td>\n",
       "      <td>6</td>\n",
       "      <td>Golden State Warriors</td>\n",
       "    </tr>\n",
       "    <tr>\n",
       "      <th>10</th>\n",
       "      <td>1610612745</td>\n",
       "      <td>Houston Rockets</td>\n",
       "      <td>5</td>\n",
       "      <td>2</td>\n",
       "      <td>3</td>\n",
       "      <td>0.400</td>\n",
       "      <td>245.0</td>\n",
       "      <td>105.5</td>\n",
       "      <td>108.0</td>\n",
       "      <td>110.3</td>\n",
       "      <td>...</td>\n",
       "      <td>9</td>\n",
       "      <td>19</td>\n",
       "      <td>21</td>\n",
       "      <td>23</td>\n",
       "      <td>14</td>\n",
       "      <td>15</td>\n",
       "      <td>19</td>\n",
       "      <td>28</td>\n",
       "      <td>24</td>\n",
       "      <td>Houston Rockets</td>\n",
       "    </tr>\n",
       "    <tr>\n",
       "      <th>11</th>\n",
       "      <td>1610612754</td>\n",
       "      <td>Indiana Pacers</td>\n",
       "      <td>6</td>\n",
       "      <td>3</td>\n",
       "      <td>3</td>\n",
       "      <td>0.500</td>\n",
       "      <td>288.0</td>\n",
       "      <td>112.5</td>\n",
       "      <td>116.5</td>\n",
       "      <td>118.5</td>\n",
       "      <td>...</td>\n",
       "      <td>2</td>\n",
       "      <td>13</td>\n",
       "      <td>19</td>\n",
       "      <td>15</td>\n",
       "      <td>4</td>\n",
       "      <td>7</td>\n",
       "      <td>11</td>\n",
       "      <td>3</td>\n",
       "      <td>20</td>\n",
       "      <td>Indiana Pacers</td>\n",
       "    </tr>\n",
       "    <tr>\n",
       "      <th>12</th>\n",
       "      <td>1610612746</td>\n",
       "      <td>LA Clippers</td>\n",
       "      <td>5</td>\n",
       "      <td>3</td>\n",
       "      <td>2</td>\n",
       "      <td>0.600</td>\n",
       "      <td>245.0</td>\n",
       "      <td>115.5</td>\n",
       "      <td>117.4</td>\n",
       "      <td>103.5</td>\n",
       "      <td>...</td>\n",
       "      <td>14</td>\n",
       "      <td>15</td>\n",
       "      <td>15</td>\n",
       "      <td>12</td>\n",
       "      <td>21</td>\n",
       "      <td>2</td>\n",
       "      <td>3</td>\n",
       "      <td>11</td>\n",
       "      <td>5</td>\n",
       "      <td>LA Clippers</td>\n",
       "    </tr>\n",
       "    <tr>\n",
       "      <th>13</th>\n",
       "      <td>1610612747</td>\n",
       "      <td>Los Angeles Lakers</td>\n",
       "      <td>6</td>\n",
       "      <td>3</td>\n",
       "      <td>3</td>\n",
       "      <td>0.500</td>\n",
       "      <td>298.0</td>\n",
       "      <td>106.4</td>\n",
       "      <td>108.2</td>\n",
       "      <td>107.9</td>\n",
       "      <td>...</td>\n",
       "      <td>20</td>\n",
       "      <td>25</td>\n",
       "      <td>17</td>\n",
       "      <td>17</td>\n",
       "      <td>11</td>\n",
       "      <td>22</td>\n",
       "      <td>16</td>\n",
       "      <td>21</td>\n",
       "      <td>12</td>\n",
       "      <td>Los Angeles Lakers</td>\n",
       "    </tr>\n",
       "    <tr>\n",
       "      <th>14</th>\n",
       "      <td>1610612763</td>\n",
       "      <td>Memphis Grizzlies</td>\n",
       "      <td>6</td>\n",
       "      <td>0</td>\n",
       "      <td>6</td>\n",
       "      <td>0.000</td>\n",
       "      <td>293.0</td>\n",
       "      <td>100.8</td>\n",
       "      <td>102.9</td>\n",
       "      <td>110.1</td>\n",
       "      <td>...</td>\n",
       "      <td>23</td>\n",
       "      <td>20</td>\n",
       "      <td>5</td>\n",
       "      <td>18</td>\n",
       "      <td>24</td>\n",
       "      <td>27</td>\n",
       "      <td>27</td>\n",
       "      <td>5</td>\n",
       "      <td>28</td>\n",
       "      <td>Memphis Grizzlies</td>\n",
       "    </tr>\n",
       "    <tr>\n",
       "      <th>15</th>\n",
       "      <td>1610612748</td>\n",
       "      <td>Miami Heat</td>\n",
       "      <td>6</td>\n",
       "      <td>2</td>\n",
       "      <td>4</td>\n",
       "      <td>0.333</td>\n",
       "      <td>288.0</td>\n",
       "      <td>106.9</td>\n",
       "      <td>107.2</td>\n",
       "      <td>109.3</td>\n",
       "      <td>...</td>\n",
       "      <td>11</td>\n",
       "      <td>27</td>\n",
       "      <td>13</td>\n",
       "      <td>26</td>\n",
       "      <td>15</td>\n",
       "      <td>18</td>\n",
       "      <td>18</td>\n",
       "      <td>18</td>\n",
       "      <td>19</td>\n",
       "      <td>Miami Heat</td>\n",
       "    </tr>\n",
       "    <tr>\n",
       "      <th>16</th>\n",
       "      <td>1610612749</td>\n",
       "      <td>Milwaukee Bucks</td>\n",
       "      <td>5</td>\n",
       "      <td>3</td>\n",
       "      <td>2</td>\n",
       "      <td>0.600</td>\n",
       "      <td>240.0</td>\n",
       "      <td>111.1</td>\n",
       "      <td>112.0</td>\n",
       "      <td>115.2</td>\n",
       "      <td>...</td>\n",
       "      <td>27</td>\n",
       "      <td>28</td>\n",
       "      <td>18</td>\n",
       "      <td>27</td>\n",
       "      <td>22</td>\n",
       "      <td>8</td>\n",
       "      <td>7</td>\n",
       "      <td>8</td>\n",
       "      <td>25</td>\n",
       "      <td>Milwaukee Bucks</td>\n",
       "    </tr>\n",
       "    <tr>\n",
       "      <th>17</th>\n",
       "      <td>1610612750</td>\n",
       "      <td>Minnesota Timberwolves</td>\n",
       "      <td>5</td>\n",
       "      <td>3</td>\n",
       "      <td>2</td>\n",
       "      <td>0.600</td>\n",
       "      <td>240.0</td>\n",
       "      <td>108.3</td>\n",
       "      <td>110.8</td>\n",
       "      <td>98.2</td>\n",
       "      <td>...</td>\n",
       "      <td>22</td>\n",
       "      <td>12</td>\n",
       "      <td>8</td>\n",
       "      <td>7</td>\n",
       "      <td>10</td>\n",
       "      <td>17</td>\n",
       "      <td>17</td>\n",
       "      <td>26</td>\n",
       "      <td>4</td>\n",
       "      <td>Minnesota Timberwolves</td>\n",
       "    </tr>\n",
       "    <tr>\n",
       "      <th>18</th>\n",
       "      <td>1610612740</td>\n",
       "      <td>New Orleans Pelicans</td>\n",
       "      <td>6</td>\n",
       "      <td>4</td>\n",
       "      <td>2</td>\n",
       "      <td>0.667</td>\n",
       "      <td>288.0</td>\n",
       "      <td>106.6</td>\n",
       "      <td>107.3</td>\n",
       "      <td>108.4</td>\n",
       "      <td>...</td>\n",
       "      <td>25</td>\n",
       "      <td>23</td>\n",
       "      <td>30</td>\n",
       "      <td>29</td>\n",
       "      <td>5</td>\n",
       "      <td>24</td>\n",
       "      <td>24</td>\n",
       "      <td>16</td>\n",
       "      <td>15</td>\n",
       "      <td>New Orleans Pelicans</td>\n",
       "    </tr>\n",
       "    <tr>\n",
       "      <th>19</th>\n",
       "      <td>1610612752</td>\n",
       "      <td>New York Knicks</td>\n",
       "      <td>6</td>\n",
       "      <td>2</td>\n",
       "      <td>4</td>\n",
       "      <td>0.333</td>\n",
       "      <td>288.0</td>\n",
       "      <td>101.0</td>\n",
       "      <td>103.9</td>\n",
       "      <td>103.8</td>\n",
       "      <td>...</td>\n",
       "      <td>29</td>\n",
       "      <td>3</td>\n",
       "      <td>1</td>\n",
       "      <td>2</td>\n",
       "      <td>12</td>\n",
       "      <td>30</td>\n",
       "      <td>30</td>\n",
       "      <td>23</td>\n",
       "      <td>21</td>\n",
       "      <td>New York Knicks</td>\n",
       "    </tr>\n",
       "    <tr>\n",
       "      <th>20</th>\n",
       "      <td>1610612760</td>\n",
       "      <td>Oklahoma City Thunder</td>\n",
       "      <td>6</td>\n",
       "      <td>3</td>\n",
       "      <td>3</td>\n",
       "      <td>0.500</td>\n",
       "      <td>288.0</td>\n",
       "      <td>110.5</td>\n",
       "      <td>113.2</td>\n",
       "      <td>112.3</td>\n",
       "      <td>...</td>\n",
       "      <td>19</td>\n",
       "      <td>29</td>\n",
       "      <td>28</td>\n",
       "      <td>22</td>\n",
       "      <td>19</td>\n",
       "      <td>6</td>\n",
       "      <td>4</td>\n",
       "      <td>7</td>\n",
       "      <td>14</td>\n",
       "      <td>Oklahoma City Thunder</td>\n",
       "    </tr>\n",
       "    <tr>\n",
       "      <th>21</th>\n",
       "      <td>1610612753</td>\n",
       "      <td>Orlando Magic</td>\n",
       "      <td>6</td>\n",
       "      <td>4</td>\n",
       "      <td>2</td>\n",
       "      <td>0.667</td>\n",
       "      <td>288.0</td>\n",
       "      <td>107.1</td>\n",
       "      <td>110.0</td>\n",
       "      <td>101.8</td>\n",
       "      <td>...</td>\n",
       "      <td>18</td>\n",
       "      <td>7</td>\n",
       "      <td>10</td>\n",
       "      <td>11</td>\n",
       "      <td>18</td>\n",
       "      <td>23</td>\n",
       "      <td>22</td>\n",
       "      <td>20</td>\n",
       "      <td>8</td>\n",
       "      <td>Orlando Magic</td>\n",
       "    </tr>\n",
       "    <tr>\n",
       "      <th>22</th>\n",
       "      <td>1610612755</td>\n",
       "      <td>Philadelphia 76ers</td>\n",
       "      <td>5</td>\n",
       "      <td>4</td>\n",
       "      <td>1</td>\n",
       "      <td>0.800</td>\n",
       "      <td>240.0</td>\n",
       "      <td>114.7</td>\n",
       "      <td>117.3</td>\n",
       "      <td>104.2</td>\n",
       "      <td>...</td>\n",
       "      <td>16</td>\n",
       "      <td>10</td>\n",
       "      <td>12</td>\n",
       "      <td>6</td>\n",
       "      <td>17</td>\n",
       "      <td>11</td>\n",
       "      <td>6</td>\n",
       "      <td>24</td>\n",
       "      <td>3</td>\n",
       "      <td>Philadelphia 76ers</td>\n",
       "    </tr>\n",
       "    <tr>\n",
       "      <th>23</th>\n",
       "      <td>1610612756</td>\n",
       "      <td>Phoenix Suns</td>\n",
       "      <td>6</td>\n",
       "      <td>2</td>\n",
       "      <td>4</td>\n",
       "      <td>0.333</td>\n",
       "      <td>288.0</td>\n",
       "      <td>108.2</td>\n",
       "      <td>109.8</td>\n",
       "      <td>107.5</td>\n",
       "      <td>...</td>\n",
       "      <td>17</td>\n",
       "      <td>17</td>\n",
       "      <td>24</td>\n",
       "      <td>14</td>\n",
       "      <td>27</td>\n",
       "      <td>14</td>\n",
       "      <td>13</td>\n",
       "      <td>12</td>\n",
       "      <td>10</td>\n",
       "      <td>Phoenix Suns</td>\n",
       "    </tr>\n",
       "    <tr>\n",
       "      <th>24</th>\n",
       "      <td>1610612757</td>\n",
       "      <td>Portland Trail Blazers</td>\n",
       "      <td>6</td>\n",
       "      <td>3</td>\n",
       "      <td>3</td>\n",
       "      <td>0.500</td>\n",
       "      <td>293.0</td>\n",
       "      <td>101.9</td>\n",
       "      <td>104.5</td>\n",
       "      <td>105.8</td>\n",
       "      <td>...</td>\n",
       "      <td>30</td>\n",
       "      <td>8</td>\n",
       "      <td>20</td>\n",
       "      <td>13</td>\n",
       "      <td>26</td>\n",
       "      <td>29</td>\n",
       "      <td>29</td>\n",
       "      <td>25</td>\n",
       "      <td>29</td>\n",
       "      <td>Portland Trail Blazers</td>\n",
       "    </tr>\n",
       "    <tr>\n",
       "      <th>25</th>\n",
       "      <td>1610612758</td>\n",
       "      <td>Sacramento Kings</td>\n",
       "      <td>5</td>\n",
       "      <td>2</td>\n",
       "      <td>3</td>\n",
       "      <td>0.400</td>\n",
       "      <td>245.0</td>\n",
       "      <td>106.5</td>\n",
       "      <td>109.9</td>\n",
       "      <td>110.0</td>\n",
       "      <td>...</td>\n",
       "      <td>15</td>\n",
       "      <td>24</td>\n",
       "      <td>7</td>\n",
       "      <td>24</td>\n",
       "      <td>1</td>\n",
       "      <td>25</td>\n",
       "      <td>25</td>\n",
       "      <td>13</td>\n",
       "      <td>23</td>\n",
       "      <td>Sacramento Kings</td>\n",
       "    </tr>\n",
       "    <tr>\n",
       "      <th>26</th>\n",
       "      <td>1610612759</td>\n",
       "      <td>San Antonio Spurs</td>\n",
       "      <td>5</td>\n",
       "      <td>3</td>\n",
       "      <td>2</td>\n",
       "      <td>0.600</td>\n",
       "      <td>245.0</td>\n",
       "      <td>107.6</td>\n",
       "      <td>109.7</td>\n",
       "      <td>113.4</td>\n",
       "      <td>...</td>\n",
       "      <td>3</td>\n",
       "      <td>22</td>\n",
       "      <td>9</td>\n",
       "      <td>20</td>\n",
       "      <td>25</td>\n",
       "      <td>12</td>\n",
       "      <td>12</td>\n",
       "      <td>6</td>\n",
       "      <td>18</td>\n",
       "      <td>San Antonio Spurs</td>\n",
       "    </tr>\n",
       "    <tr>\n",
       "      <th>27</th>\n",
       "      <td>1610612761</td>\n",
       "      <td>Toronto Raptors</td>\n",
       "      <td>6</td>\n",
       "      <td>2</td>\n",
       "      <td>4</td>\n",
       "      <td>0.333</td>\n",
       "      <td>293.0</td>\n",
       "      <td>103.7</td>\n",
       "      <td>106.6</td>\n",
       "      <td>103.8</td>\n",
       "      <td>...</td>\n",
       "      <td>6</td>\n",
       "      <td>14</td>\n",
       "      <td>29</td>\n",
       "      <td>19</td>\n",
       "      <td>29</td>\n",
       "      <td>19</td>\n",
       "      <td>23</td>\n",
       "      <td>30</td>\n",
       "      <td>13</td>\n",
       "      <td>Toronto Raptors</td>\n",
       "    </tr>\n",
       "    <tr>\n",
       "      <th>28</th>\n",
       "      <td>1610612762</td>\n",
       "      <td>Utah Jazz</td>\n",
       "      <td>7</td>\n",
       "      <td>2</td>\n",
       "      <td>5</td>\n",
       "      <td>0.286</td>\n",
       "      <td>336.0</td>\n",
       "      <td>108.1</td>\n",
       "      <td>109.4</td>\n",
       "      <td>115.2</td>\n",
       "      <td>...</td>\n",
       "      <td>12</td>\n",
       "      <td>1</td>\n",
       "      <td>4</td>\n",
       "      <td>4</td>\n",
       "      <td>28</td>\n",
       "      <td>21</td>\n",
       "      <td>21</td>\n",
       "      <td>9</td>\n",
       "      <td>27</td>\n",
       "      <td>Utah Jazz</td>\n",
       "    </tr>\n",
       "    <tr>\n",
       "      <th>29</th>\n",
       "      <td>1610612764</td>\n",
       "      <td>Washington Wizards</td>\n",
       "      <td>5</td>\n",
       "      <td>1</td>\n",
       "      <td>4</td>\n",
       "      <td>0.200</td>\n",
       "      <td>240.0</td>\n",
       "      <td>107.6</td>\n",
       "      <td>108.3</td>\n",
       "      <td>115.4</td>\n",
       "      <td>...</td>\n",
       "      <td>5</td>\n",
       "      <td>30</td>\n",
       "      <td>25</td>\n",
       "      <td>30</td>\n",
       "      <td>7</td>\n",
       "      <td>13</td>\n",
       "      <td>15</td>\n",
       "      <td>1</td>\n",
       "      <td>26</td>\n",
       "      <td>Washington Wizards</td>\n",
       "    </tr>\n",
       "  </tbody>\n",
       "</table>\n",
       "<p>30 rows × 47 columns</p>\n",
       "</div>"
      ],
      "text/plain": [
       "       TEAM_ID               TEAM_NAME  GP  W  L  W_PCT    MIN  E_OFF_RTG  \\\n",
       "0   1610612737           Atlanta Hawks   6  4  2  0.667  288.0      116.8   \n",
       "1   1610612738          Boston Celtics   5  5  0  1.000  240.0      122.2   \n",
       "2   1610612751           Brooklyn Nets   6  3  3  0.500  288.0      113.1   \n",
       "3   1610612766       Charlotte Hornets   5  2  3  0.400  240.0      111.0   \n",
       "4   1610612741           Chicago Bulls   7  2  5  0.286  341.0      104.4   \n",
       "5   1610612739     Cleveland Cavaliers   6  2  4  0.333  288.0      105.3   \n",
       "6   1610612742        Dallas Mavericks   5  4  1  0.800  240.0      118.5   \n",
       "7   1610612743          Denver Nuggets   7  6  1  0.857  336.0      113.7   \n",
       "8   1610612765         Detroit Pistons   6  2  4  0.333  288.0      106.2   \n",
       "9   1610612744   Golden State Warriors   6  5  1  0.833  288.0      114.6   \n",
       "10  1610612745         Houston Rockets   5  2  3  0.400  245.0      105.5   \n",
       "11  1610612754          Indiana Pacers   6  3  3  0.500  288.0      112.5   \n",
       "12  1610612746             LA Clippers   5  3  2  0.600  245.0      115.5   \n",
       "13  1610612747      Los Angeles Lakers   6  3  3  0.500  298.0      106.4   \n",
       "14  1610612763       Memphis Grizzlies   6  0  6  0.000  293.0      100.8   \n",
       "15  1610612748              Miami Heat   6  2  4  0.333  288.0      106.9   \n",
       "16  1610612749         Milwaukee Bucks   5  3  2  0.600  240.0      111.1   \n",
       "17  1610612750  Minnesota Timberwolves   5  3  2  0.600  240.0      108.3   \n",
       "18  1610612740    New Orleans Pelicans   6  4  2  0.667  288.0      106.6   \n",
       "19  1610612752         New York Knicks   6  2  4  0.333  288.0      101.0   \n",
       "20  1610612760   Oklahoma City Thunder   6  3  3  0.500  288.0      110.5   \n",
       "21  1610612753           Orlando Magic   6  4  2  0.667  288.0      107.1   \n",
       "22  1610612755      Philadelphia 76ers   5  4  1  0.800  240.0      114.7   \n",
       "23  1610612756            Phoenix Suns   6  2  4  0.333  288.0      108.2   \n",
       "24  1610612757  Portland Trail Blazers   6  3  3  0.500  293.0      101.9   \n",
       "25  1610612758        Sacramento Kings   5  2  3  0.400  245.0      106.5   \n",
       "26  1610612759       San Antonio Spurs   5  3  2  0.600  245.0      107.6   \n",
       "27  1610612761         Toronto Raptors   6  2  4  0.333  293.0      103.7   \n",
       "28  1610612762               Utah Jazz   7  2  5  0.286  336.0      108.1   \n",
       "29  1610612764      Washington Wizards   5  1  4  0.200  240.0      107.6   \n",
       "\n",
       "    OFF_RTG  E_DEF_RTG  ...  AST_RATIO_RANK  OREB_PCT_RANK  DREB_PCT_RANK  \\\n",
       "0     119.3      110.6  ...              10              5             11   \n",
       "1     124.7      104.7  ...              26              4              6   \n",
       "2     115.4      113.1  ...               7             16              2   \n",
       "3     112.2      114.0  ...              13             11             26   \n",
       "4     106.2      112.8  ...              28             18             16   \n",
       "5     105.8      107.1  ...              21             26             27   \n",
       "6     119.8      113.3  ...              24             21             22   \n",
       "7     117.1      104.8  ...               1              9             14   \n",
       "8     109.1      108.6  ...               8              2              3   \n",
       "9     116.5      106.4  ...               4              6             23   \n",
       "10    108.0      110.3  ...               9             19             21   \n",
       "11    116.5      118.5  ...               2             13             19   \n",
       "12    117.4      103.5  ...              14             15             15   \n",
       "13    108.2      107.9  ...              20             25             17   \n",
       "14    102.9      110.1  ...              23             20              5   \n",
       "15    107.2      109.3  ...              11             27             13   \n",
       "16    112.0      115.2  ...              27             28             18   \n",
       "17    110.8       98.2  ...              22             12              8   \n",
       "18    107.3      108.4  ...              25             23             30   \n",
       "19    103.9      103.8  ...              29              3              1   \n",
       "20    113.2      112.3  ...              19             29             28   \n",
       "21    110.0      101.8  ...              18              7             10   \n",
       "22    117.3      104.2  ...              16             10             12   \n",
       "23    109.8      107.5  ...              17             17             24   \n",
       "24    104.5      105.8  ...              30              8             20   \n",
       "25    109.9      110.0  ...              15             24              7   \n",
       "26    109.7      113.4  ...               3             22              9   \n",
       "27    106.6      103.8  ...               6             14             29   \n",
       "28    109.4      115.2  ...              12              1              4   \n",
       "29    108.3      115.4  ...               5             30             25   \n",
       "\n",
       "    REB_PCT_RANK  TM_TOV_PCT_RANK  EFG_PCT_RANK  TS_PCT_RANK  PACE_RANK  \\\n",
       "0              5               13            10            5          4   \n",
       "1              1                9             1            1         10   \n",
       "2              8                8             5           10         18   \n",
       "3             16               16            16           14          2   \n",
       "4             25                2            28           28         29   \n",
       "5             28                3            26           26         22   \n",
       "6             21                6             3            2         15   \n",
       "7              9               23             4            8         27   \n",
       "8              3               30            20           20         14   \n",
       "9             10               20             9            9         17   \n",
       "10            23               14            15           19         28   \n",
       "11            15                4             7           11          3   \n",
       "12            12               21             2            3         11   \n",
       "13            17               11            22           16         21   \n",
       "14            18               24            27           27          5   \n",
       "15            26               15            18           18         18   \n",
       "16            27               22             8            7          8   \n",
       "17             7               10            17           17         26   \n",
       "18            29                5            24           24         16   \n",
       "19             2               12            30           30         23   \n",
       "20            22               19             6            4          7   \n",
       "21            11               18            23           22         20   \n",
       "22             6               17            11            6         24   \n",
       "23            14               27            14           13         12   \n",
       "24            13               26            29           29         25   \n",
       "25            24                1            25           25         13   \n",
       "26            20               25            12           12          6   \n",
       "27            19               29            19           23         30   \n",
       "28             4               28            21           21          9   \n",
       "29            30                7            13           15          1   \n",
       "\n",
       "    PIE_RANK                    Team  \n",
       "0          7           Atlanta Hawks  \n",
       "1          1          Boston Celtics  \n",
       "2         11           Brooklyn Nets  \n",
       "3         16       Charlotte Hornets  \n",
       "4         30           Chicago Bulls  \n",
       "5         22     Cleveland Cavaliers  \n",
       "6          9        Dallas Mavericks  \n",
       "7          2          Denver Nuggets  \n",
       "8         17         Detroit Pistons  \n",
       "9          6   Golden State Warriors  \n",
       "10        24         Houston Rockets  \n",
       "11        20          Indiana Pacers  \n",
       "12         5             LA Clippers  \n",
       "13        12      Los Angeles Lakers  \n",
       "14        28       Memphis Grizzlies  \n",
       "15        19              Miami Heat  \n",
       "16        25         Milwaukee Bucks  \n",
       "17         4  Minnesota Timberwolves  \n",
       "18        15    New Orleans Pelicans  \n",
       "19        21         New York Knicks  \n",
       "20        14   Oklahoma City Thunder  \n",
       "21         8           Orlando Magic  \n",
       "22         3      Philadelphia 76ers  \n",
       "23        10            Phoenix Suns  \n",
       "24        29  Portland Trail Blazers  \n",
       "25        23        Sacramento Kings  \n",
       "26        18       San Antonio Spurs  \n",
       "27        13         Toronto Raptors  \n",
       "28        27               Utah Jazz  \n",
       "29        26      Washington Wizards  \n",
       "\n",
       "[30 rows x 47 columns]"
      ]
     },
     "execution_count": 241,
     "metadata": {},
     "output_type": "execute_result"
    }
   ],
   "source": [
    "df"
   ]
  },
  {
   "cell_type": "code",
   "execution_count": 233,
   "metadata": {},
   "outputs": [
    {
     "data": {
      "application/vnd.plotly.v1+json": {
       "config": {
        "plotlyServerURL": "https://plot.ly"
       },
       "data": [
        {
         "cells": {
          "align": [
           "center",
           "left",
           "center",
           "center"
          ],
          "fill": {
           "color": [
            "white",
            "white",
            [
             "rgb(0, 155, 158)",
             "rgb(55, 178, 180)",
             "rgb(41, 172, 175)",
             "rgb(69, 184, 186)",
             "rgb(203, 225, 226)",
             "rgb(27, 167, 169)",
             "rgb(90, 190, 192)",
             "rgb(218, 232, 232)",
             "rgb(14, 161, 164)",
             "rgb(202, 104, 176)",
             "rgb(240, 236, 239)",
             "rgb(132, 201, 203)",
             "rgb(232, 206, 224)",
             "rgb(214, 147, 194)",
             "rgb(233, 238, 238)",
             "rgb(153, 207, 208)",
             "rgb(220, 167, 204)",
             "rgb(111, 196, 197)",
             "rgb(223, 176, 209)",
             "rgb(217, 157, 199)",
             "rgb(226, 186, 214)",
             "rgb(205, 115, 180)",
             "rgb(187, 219, 220)",
             "rgb(172, 213, 214)",
             "rgb(208, 125, 185)",
             "rgb(237, 226, 234)",
             "rgb(234, 216, 229)",
             "rgb(211, 136, 189)",
             "rgb(199, 93, 171)",
             "rgb(229, 196, 219)"
            ],
            "white",
            [
             "rgb(90, 190, 192)",
             "rgb(41, 172, 175)",
             "rgb(55, 178, 180)",
             "rgb(69, 184, 186)",
             "rgb(0, 155, 158)",
             "rgb(234, 216, 229)",
             "rgb(153, 207, 208)",
             "rgb(14, 161, 164)",
             "rgb(223, 176, 209)",
             "rgb(27, 167, 169)",
             "rgb(187, 219, 220)",
             "rgb(217, 157, 199)",
             "rgb(172, 213, 214)",
             "rgb(111, 196, 197)",
             "rgb(218, 232, 232)",
             "rgb(226, 186, 214)",
             "rgb(203, 225, 226)",
             "rgb(199, 93, 171)",
             "rgb(237, 226, 234)",
             "rgb(233, 238, 238)",
             "rgb(232, 206, 224)",
             "rgb(132, 201, 203)",
             "rgb(214, 147, 194)",
             "rgb(205, 115, 180)",
             "rgb(240, 236, 239)",
             "rgb(208, 125, 185)",
             "rgb(211, 136, 189)",
             "rgb(220, 167, 204)",
             "rgb(229, 196, 219)",
             "rgb(202, 104, 176)"
            ],
            "white",
            [
             "rgb(0, 155, 158)",
             "rgb(14, 161, 164)",
             "rgb(27, 167, 169)",
             "rgb(41, 172, 175)",
             "rgb(55, 178, 180)",
             "rgb(69, 184, 186)",
             "rgb(90, 190, 192)",
             "rgb(111, 196, 197)",
             "rgb(132, 201, 203)",
             "rgb(153, 207, 208)",
             "rgb(172, 213, 214)",
             "rgb(187, 219, 220)",
             "rgb(203, 225, 226)",
             "rgb(218, 232, 232)",
             "rgb(233, 238, 238)",
             "rgb(240, 236, 239)",
             "rgb(237, 226, 234)",
             "rgb(234, 216, 229)",
             "rgb(232, 206, 224)",
             "rgb(229, 196, 219)",
             "rgb(226, 186, 214)",
             "rgb(223, 176, 209)",
             "rgb(220, 167, 204)",
             "rgb(217, 157, 199)",
             "rgb(214, 147, 194)",
             "rgb(211, 136, 189)",
             "rgb(208, 125, 185)",
             "rgb(205, 115, 180)",
             "rgb(202, 104, 176)",
             "rgb(199, 93, 171)"
            ]
           ]
          },
          "font": {
           "color": "black",
           "family": "Arial Black, monospace",
           "size": 11
          },
          "height": 23,
          "line": {
           "color": "grey"
          },
          "values": [
           [
            1,
            2,
            3,
            4,
            5,
            6,
            7,
            8,
            9,
            10,
            11,
            12,
            13,
            14,
            15,
            16,
            17,
            18,
            19,
            20,
            21,
            22,
            23,
            24,
            25,
            26,
            27,
            28,
            29,
            30
           ],
           [
            "Boston Celtics",
            "Philadelphia 76ers",
            "LA Clippers",
            "Denver Nuggets",
            "Minnesota Timberwolves",
            "Atlanta Hawks",
            "Golden State Warriors",
            "Orlando Magic",
            "Dallas Mavericks",
            "New York Knicks",
            "Phoenix Suns",
            "Brooklyn Nets",
            "Detroit Pistons",
            "Toronto Raptors",
            "Sacramento Kings",
            "Oklahoma City Thunder",
            "New Orleans Pelicans",
            "Indiana Pacers",
            "Houston Rockets",
            "Miami Heat",
            "Los Angeles Lakers",
            "Portland Trail Blazers",
            "Milwaukee Bucks",
            "Charlotte Hornets",
            "Cleveland Cavaliers",
            "San Antonio Spurs",
            "Utah Jazz",
            "Chicago Bulls",
            "Memphis Grizzlies",
            "Washington Wizards"
           ],
           [
            124.7,
            117.3,
            117.4,
            117.1,
            110.8,
            119.3,
            116.5,
            110,
            119.8,
            103.9,
            109.8,
            115.4,
            109.1,
            106.6,
            109.9,
            113.2,
            107.3,
            116.5,
            108,
            107.2,
            108.2,
            104.5,
            112,
            112.2,
            105.8,
            109.7,
            109.4,
            106.2,
            102.9,
            108.3
           ],
           [
            1,
            5,
            4,
            6,
            13,
            3,
            7,
            14,
            2,
            29,
            16,
            9,
            19,
            25,
            15,
            10,
            23,
            8,
            22,
            24,
            21,
            28,
            12,
            11,
            27,
            17,
            18,
            26,
            30,
            20
           ],
           [
            106.5,
            105.5,
            105.8,
            106.4,
            101.2,
            111.8,
            109.3,
            103.5,
            114.9,
            103.7,
            109.9,
            115.6,
            109.4,
            107.4,
            110.9,
            114.4,
            110.3,
            119.5,
            111.6,
            110.9,
            112.1,
            108.4,
            116,
            117.2,
            111.2,
            116.5,
            116.4,
            115,
            112.6,
            118.3
           ],
           [
            7,
            4,
            5,
            6,
            1,
            18,
            10,
            2,
            22,
            3,
            12,
            24,
            11,
            8,
            14,
            21,
            13,
            30,
            17,
            15,
            19,
            9,
            25,
            28,
            16,
            27,
            26,
            23,
            20,
            29
           ],
           [
            18.1,
            11.8,
            11.6,
            10.7,
            9.5,
            7.4,
            7.2,
            6.5,
            5,
            0.2,
            -0.1,
            -0.2,
            -0.3,
            -0.8,
            -0.9,
            -1.2,
            -3,
            -3.1,
            -3.6,
            -3.7,
            -3.9,
            -4,
            -4.1,
            -5,
            -5.4,
            -6.8,
            -7,
            -8.8,
            -9.8,
            -10.1
           ]
          ]
         },
         "columnwidth": [
          5,
          50,
          15,
          15,
          15,
          15,
          15
         ],
         "header": {
          "align": [
           "center",
           "left",
           "center",
           "center"
          ],
          "fill": {
           "color": "snow"
          },
          "font": {
           "color": "Black",
           "family": "Arial Black, monospace",
           "size": 12
          },
          "line": {
           "color": "grey"
          },
          "values": [
           "#",
           "Team",
           "OFF_RTG",
           "O_RANK",
           "DEF_RTG",
           "D_RANK",
           "NET_RTG"
          ]
         },
         "type": "table"
        }
       ],
       "layout": {
        "annotations": [
         {
          "showarrow": false,
          "text": "@SravanNBA",
          "x": 0,
          "xshift": 1,
          "y": 0,
          "yshift": 5
         },
         {
          "showarrow": false,
          "text": "Source: nba.com/stats",
          "x": 0.9,
          "xshift": 1,
          "y": 0,
          "yshift": 5
         }
        ],
        "height": 770,
        "margin": {
         "b": 1,
         "l": 1,
         "r": 1,
         "t": 25
        },
        "template": {
         "data": {
          "bar": [
           {
            "error_x": {
             "color": "#2a3f5f"
            },
            "error_y": {
             "color": "#2a3f5f"
            },
            "marker": {
             "line": {
              "color": "#E5ECF6",
              "width": 0.5
             },
             "pattern": {
              "fillmode": "overlay",
              "size": 10,
              "solidity": 0.2
             }
            },
            "type": "bar"
           }
          ],
          "barpolar": [
           {
            "marker": {
             "line": {
              "color": "#E5ECF6",
              "width": 0.5
             },
             "pattern": {
              "fillmode": "overlay",
              "size": 10,
              "solidity": 0.2
             }
            },
            "type": "barpolar"
           }
          ],
          "carpet": [
           {
            "aaxis": {
             "endlinecolor": "#2a3f5f",
             "gridcolor": "white",
             "linecolor": "white",
             "minorgridcolor": "white",
             "startlinecolor": "#2a3f5f"
            },
            "baxis": {
             "endlinecolor": "#2a3f5f",
             "gridcolor": "white",
             "linecolor": "white",
             "minorgridcolor": "white",
             "startlinecolor": "#2a3f5f"
            },
            "type": "carpet"
           }
          ],
          "choropleth": [
           {
            "colorbar": {
             "outlinewidth": 0,
             "ticks": ""
            },
            "type": "choropleth"
           }
          ],
          "contour": [
           {
            "colorbar": {
             "outlinewidth": 0,
             "ticks": ""
            },
            "colorscale": [
             [
              0,
              "#0d0887"
             ],
             [
              0.1111111111111111,
              "#46039f"
             ],
             [
              0.2222222222222222,
              "#7201a8"
             ],
             [
              0.3333333333333333,
              "#9c179e"
             ],
             [
              0.4444444444444444,
              "#bd3786"
             ],
             [
              0.5555555555555556,
              "#d8576b"
             ],
             [
              0.6666666666666666,
              "#ed7953"
             ],
             [
              0.7777777777777778,
              "#fb9f3a"
             ],
             [
              0.8888888888888888,
              "#fdca26"
             ],
             [
              1,
              "#f0f921"
             ]
            ],
            "type": "contour"
           }
          ],
          "contourcarpet": [
           {
            "colorbar": {
             "outlinewidth": 0,
             "ticks": ""
            },
            "type": "contourcarpet"
           }
          ],
          "heatmap": [
           {
            "colorbar": {
             "outlinewidth": 0,
             "ticks": ""
            },
            "colorscale": [
             [
              0,
              "#0d0887"
             ],
             [
              0.1111111111111111,
              "#46039f"
             ],
             [
              0.2222222222222222,
              "#7201a8"
             ],
             [
              0.3333333333333333,
              "#9c179e"
             ],
             [
              0.4444444444444444,
              "#bd3786"
             ],
             [
              0.5555555555555556,
              "#d8576b"
             ],
             [
              0.6666666666666666,
              "#ed7953"
             ],
             [
              0.7777777777777778,
              "#fb9f3a"
             ],
             [
              0.8888888888888888,
              "#fdca26"
             ],
             [
              1,
              "#f0f921"
             ]
            ],
            "type": "heatmap"
           }
          ],
          "heatmapgl": [
           {
            "colorbar": {
             "outlinewidth": 0,
             "ticks": ""
            },
            "colorscale": [
             [
              0,
              "#0d0887"
             ],
             [
              0.1111111111111111,
              "#46039f"
             ],
             [
              0.2222222222222222,
              "#7201a8"
             ],
             [
              0.3333333333333333,
              "#9c179e"
             ],
             [
              0.4444444444444444,
              "#bd3786"
             ],
             [
              0.5555555555555556,
              "#d8576b"
             ],
             [
              0.6666666666666666,
              "#ed7953"
             ],
             [
              0.7777777777777778,
              "#fb9f3a"
             ],
             [
              0.8888888888888888,
              "#fdca26"
             ],
             [
              1,
              "#f0f921"
             ]
            ],
            "type": "heatmapgl"
           }
          ],
          "histogram": [
           {
            "marker": {
             "pattern": {
              "fillmode": "overlay",
              "size": 10,
              "solidity": 0.2
             }
            },
            "type": "histogram"
           }
          ],
          "histogram2d": [
           {
            "colorbar": {
             "outlinewidth": 0,
             "ticks": ""
            },
            "colorscale": [
             [
              0,
              "#0d0887"
             ],
             [
              0.1111111111111111,
              "#46039f"
             ],
             [
              0.2222222222222222,
              "#7201a8"
             ],
             [
              0.3333333333333333,
              "#9c179e"
             ],
             [
              0.4444444444444444,
              "#bd3786"
             ],
             [
              0.5555555555555556,
              "#d8576b"
             ],
             [
              0.6666666666666666,
              "#ed7953"
             ],
             [
              0.7777777777777778,
              "#fb9f3a"
             ],
             [
              0.8888888888888888,
              "#fdca26"
             ],
             [
              1,
              "#f0f921"
             ]
            ],
            "type": "histogram2d"
           }
          ],
          "histogram2dcontour": [
           {
            "colorbar": {
             "outlinewidth": 0,
             "ticks": ""
            },
            "colorscale": [
             [
              0,
              "#0d0887"
             ],
             [
              0.1111111111111111,
              "#46039f"
             ],
             [
              0.2222222222222222,
              "#7201a8"
             ],
             [
              0.3333333333333333,
              "#9c179e"
             ],
             [
              0.4444444444444444,
              "#bd3786"
             ],
             [
              0.5555555555555556,
              "#d8576b"
             ],
             [
              0.6666666666666666,
              "#ed7953"
             ],
             [
              0.7777777777777778,
              "#fb9f3a"
             ],
             [
              0.8888888888888888,
              "#fdca26"
             ],
             [
              1,
              "#f0f921"
             ]
            ],
            "type": "histogram2dcontour"
           }
          ],
          "mesh3d": [
           {
            "colorbar": {
             "outlinewidth": 0,
             "ticks": ""
            },
            "type": "mesh3d"
           }
          ],
          "parcoords": [
           {
            "line": {
             "colorbar": {
              "outlinewidth": 0,
              "ticks": ""
             }
            },
            "type": "parcoords"
           }
          ],
          "pie": [
           {
            "automargin": true,
            "type": "pie"
           }
          ],
          "scatter": [
           {
            "fillpattern": {
             "fillmode": "overlay",
             "size": 10,
             "solidity": 0.2
            },
            "type": "scatter"
           }
          ],
          "scatter3d": [
           {
            "line": {
             "colorbar": {
              "outlinewidth": 0,
              "ticks": ""
             }
            },
            "marker": {
             "colorbar": {
              "outlinewidth": 0,
              "ticks": ""
             }
            },
            "type": "scatter3d"
           }
          ],
          "scattercarpet": [
           {
            "marker": {
             "colorbar": {
              "outlinewidth": 0,
              "ticks": ""
             }
            },
            "type": "scattercarpet"
           }
          ],
          "scattergeo": [
           {
            "marker": {
             "colorbar": {
              "outlinewidth": 0,
              "ticks": ""
             }
            },
            "type": "scattergeo"
           }
          ],
          "scattergl": [
           {
            "marker": {
             "colorbar": {
              "outlinewidth": 0,
              "ticks": ""
             }
            },
            "type": "scattergl"
           }
          ],
          "scattermapbox": [
           {
            "marker": {
             "colorbar": {
              "outlinewidth": 0,
              "ticks": ""
             }
            },
            "type": "scattermapbox"
           }
          ],
          "scatterpolar": [
           {
            "marker": {
             "colorbar": {
              "outlinewidth": 0,
              "ticks": ""
             }
            },
            "type": "scatterpolar"
           }
          ],
          "scatterpolargl": [
           {
            "marker": {
             "colorbar": {
              "outlinewidth": 0,
              "ticks": ""
             }
            },
            "type": "scatterpolargl"
           }
          ],
          "scatterternary": [
           {
            "marker": {
             "colorbar": {
              "outlinewidth": 0,
              "ticks": ""
             }
            },
            "type": "scatterternary"
           }
          ],
          "surface": [
           {
            "colorbar": {
             "outlinewidth": 0,
             "ticks": ""
            },
            "colorscale": [
             [
              0,
              "#0d0887"
             ],
             [
              0.1111111111111111,
              "#46039f"
             ],
             [
              0.2222222222222222,
              "#7201a8"
             ],
             [
              0.3333333333333333,
              "#9c179e"
             ],
             [
              0.4444444444444444,
              "#bd3786"
             ],
             [
              0.5555555555555556,
              "#d8576b"
             ],
             [
              0.6666666666666666,
              "#ed7953"
             ],
             [
              0.7777777777777778,
              "#fb9f3a"
             ],
             [
              0.8888888888888888,
              "#fdca26"
             ],
             [
              1,
              "#f0f921"
             ]
            ],
            "type": "surface"
           }
          ],
          "table": [
           {
            "cells": {
             "fill": {
              "color": "#EBF0F8"
             },
             "line": {
              "color": "white"
             }
            },
            "header": {
             "fill": {
              "color": "#C8D4E3"
             },
             "line": {
              "color": "white"
             }
            },
            "type": "table"
           }
          ]
         },
         "layout": {
          "annotationdefaults": {
           "arrowcolor": "#2a3f5f",
           "arrowhead": 0,
           "arrowwidth": 1
          },
          "autotypenumbers": "strict",
          "coloraxis": {
           "colorbar": {
            "outlinewidth": 0,
            "ticks": ""
           }
          },
          "colorscale": {
           "diverging": [
            [
             0,
             "#8e0152"
            ],
            [
             0.1,
             "#c51b7d"
            ],
            [
             0.2,
             "#de77ae"
            ],
            [
             0.3,
             "#f1b6da"
            ],
            [
             0.4,
             "#fde0ef"
            ],
            [
             0.5,
             "#f7f7f7"
            ],
            [
             0.6,
             "#e6f5d0"
            ],
            [
             0.7,
             "#b8e186"
            ],
            [
             0.8,
             "#7fbc41"
            ],
            [
             0.9,
             "#4d9221"
            ],
            [
             1,
             "#276419"
            ]
           ],
           "sequential": [
            [
             0,
             "#0d0887"
            ],
            [
             0.1111111111111111,
             "#46039f"
            ],
            [
             0.2222222222222222,
             "#7201a8"
            ],
            [
             0.3333333333333333,
             "#9c179e"
            ],
            [
             0.4444444444444444,
             "#bd3786"
            ],
            [
             0.5555555555555556,
             "#d8576b"
            ],
            [
             0.6666666666666666,
             "#ed7953"
            ],
            [
             0.7777777777777778,
             "#fb9f3a"
            ],
            [
             0.8888888888888888,
             "#fdca26"
            ],
            [
             1,
             "#f0f921"
            ]
           ],
           "sequentialminus": [
            [
             0,
             "#0d0887"
            ],
            [
             0.1111111111111111,
             "#46039f"
            ],
            [
             0.2222222222222222,
             "#7201a8"
            ],
            [
             0.3333333333333333,
             "#9c179e"
            ],
            [
             0.4444444444444444,
             "#bd3786"
            ],
            [
             0.5555555555555556,
             "#d8576b"
            ],
            [
             0.6666666666666666,
             "#ed7953"
            ],
            [
             0.7777777777777778,
             "#fb9f3a"
            ],
            [
             0.8888888888888888,
             "#fdca26"
            ],
            [
             1,
             "#f0f921"
            ]
           ]
          },
          "colorway": [
           "#636efa",
           "#EF553B",
           "#00cc96",
           "#ab63fa",
           "#FFA15A",
           "#19d3f3",
           "#FF6692",
           "#B6E880",
           "#FF97FF",
           "#FECB52"
          ],
          "font": {
           "color": "#2a3f5f"
          },
          "geo": {
           "bgcolor": "white",
           "lakecolor": "white",
           "landcolor": "#E5ECF6",
           "showlakes": true,
           "showland": true,
           "subunitcolor": "white"
          },
          "hoverlabel": {
           "align": "left"
          },
          "hovermode": "closest",
          "mapbox": {
           "style": "light"
          },
          "paper_bgcolor": "white",
          "plot_bgcolor": "#E5ECF6",
          "polar": {
           "angularaxis": {
            "gridcolor": "white",
            "linecolor": "white",
            "ticks": ""
           },
           "bgcolor": "#E5ECF6",
           "radialaxis": {
            "gridcolor": "white",
            "linecolor": "white",
            "ticks": ""
           }
          },
          "scene": {
           "xaxis": {
            "backgroundcolor": "#E5ECF6",
            "gridcolor": "white",
            "gridwidth": 2,
            "linecolor": "white",
            "showbackground": true,
            "ticks": "",
            "zerolinecolor": "white"
           },
           "yaxis": {
            "backgroundcolor": "#E5ECF6",
            "gridcolor": "white",
            "gridwidth": 2,
            "linecolor": "white",
            "showbackground": true,
            "ticks": "",
            "zerolinecolor": "white"
           },
           "zaxis": {
            "backgroundcolor": "#E5ECF6",
            "gridcolor": "white",
            "gridwidth": 2,
            "linecolor": "white",
            "showbackground": true,
            "ticks": "",
            "zerolinecolor": "white"
           }
          },
          "shapedefaults": {
           "line": {
            "color": "#2a3f5f"
           }
          },
          "ternary": {
           "aaxis": {
            "gridcolor": "white",
            "linecolor": "white",
            "ticks": ""
           },
           "baxis": {
            "gridcolor": "white",
            "linecolor": "white",
            "ticks": ""
           },
           "bgcolor": "#E5ECF6",
           "caxis": {
            "gridcolor": "white",
            "linecolor": "white",
            "ticks": ""
           }
          },
          "title": {
           "x": 0.05
          },
          "xaxis": {
           "automargin": true,
           "gridcolor": "white",
           "linecolor": "white",
           "ticks": "",
           "title": {
            "standoff": 15
           },
           "zerolinecolor": "white",
           "zerolinewidth": 2
          },
          "yaxis": {
           "automargin": true,
           "gridcolor": "white",
           "linecolor": "white",
           "ticks": "",
           "title": {
            "standoff": 15
           },
           "zerolinecolor": "white",
           "zerolinewidth": 2
          }
         }
        },
        "title": {
         "font": {
          "family": "Arial Black, monospace",
          "size": 15
         },
         "text": "NBA Net Rating Leaders 2023-24",
         "x": 0.1,
         "y": 0.99
        },
        "width": 550
       }
      }
     },
     "metadata": {},
     "output_type": "display_data"
    }
   ],
   "source": [
    "n_colors = 30\n",
    "colors = px.colors.sample_colorscale(\"Tropic\", [n/(n_colors -1) for n in range(n_colors)])\n",
    "orank = df[\"O_RANK\"]-1\n",
    "orank = orank.astype(np.int32).to_numpy()\n",
    "carray_o =  np.array(colors)[orank]\n",
    "drank = df[\"D_RANK\"]-1\n",
    "drank = drank.astype(np.int32).to_numpy()\n",
    "carray_d =  np.array(colors)[drank]\n",
    "nrank = df[\"#\"]-1\n",
    "nrank = nrank.astype(np.int32).to_numpy()\n",
    "carray_n =  np.array(colors)[nrank]\n",
    "title = \"NBA Net Rating Leaders 2023-24\"\n",
    "font = dict(color=\"black\",family=\"Arial Black, monospace\", size=11)\n",
    "fig = go.Figure(data=[go.Table(\n",
    "        columnwidth=[5,50,15,15,15,15,15],\n",
    "        header=dict(values=list(df.columns),\n",
    "                    fill_color='snow',\n",
    "                    align=['center','left','center','center'],\n",
    "                    font=dict(color='Black',family=\"Arial Black, monospace\", size=12),\n",
    "                    line_color=\"grey\"\n",
    "                    ),\n",
    "        cells=dict(values=[df[\"#\"],df[\"Team\"],df[\"OFF_RTG\"],df[\"O_RANK\"],df[\"DEF_RTG\"],\n",
    "                           df[\"D_RANK\"],df[\"NET_RTG\"]],\n",
    "                fill_color=[\"white\",\"white\",carray_o,\"white\",carray_d,\"white\",carray_n],\n",
    "                align=['center','left','center','center'],\n",
    "                height=23,\n",
    "                line_color=\"grey\",#lightgrey\",\n",
    "                font=font,\n",
    "                ),\n",
    "                # height=25\n",
    "        ),\n",
    "    ])\n",
    "    # fig.update_layout(title_text=title)\n",
    "fig.update_layout(title=dict(text=title,y=0.99,x=0.1,font=dict(size=15,family=\"Arial Black, monospace\")))\n",
    "fig.add_annotation(x=0.0, y=0.0,text=\"@SravanNBA\",showarrow=False,xshift=1,yshift=5)\n",
    "fig.add_annotation(x=0.9, y=0.0,text=\"Source: nba.com/stats\",showarrow=False,xshift=1,yshift=5)\n",
    "# fig.update_layout(title=dict(text=title,y=0.01,x=0.1,font=dict(size=15,family=\"Arial Black, monospace\")))\n",
    "tab_width = 550 \n",
    "tab_height = 770\n",
    "fig.update_layout(width=tab_width,height=tab_height,margin=dict(t=25,b=1,l=1,r=1))\n",
    "# fig.update_layout(autosize=True)\n",
    "fig.show()\n",
    "fig.write_image(fig_DIR+f\"NET_RTG.png\", scale=3)"
   ]
  }
 ],
 "metadata": {
  "kernelspec": {
   "display_name": ".venv",
   "language": "python",
   "name": "python3"
  },
  "language_info": {
   "codemirror_mode": {
    "name": "ipython",
    "version": 3
   },
   "file_extension": ".py",
   "mimetype": "text/x-python",
   "name": "python",
   "nbconvert_exporter": "python",
   "pygments_lexer": "ipython3",
   "version": "3.9.7"
  }
 },
 "nbformat": 4,
 "nbformat_minor": 2
}
