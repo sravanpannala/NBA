{
 "cells": [
  {
   "cell_type": "code",
   "execution_count": null,
   "metadata": {},
   "outputs": [],
   "source": [
    "import os, sys\n",
    "\n",
    "sys.path.append(os.path.dirname(os.path.dirname(os.path.abspath(\"__file__\"))))\n",
    "from nbafuns import *\n",
    "\n",
    "sns.set(style=\"whitegrid\")\n",
    "\n",
    "fig_DIR = \"../figs/team_leaders/\"\n",
    "box_DIR = \"../data/boxscores_team/\""
   ]
  },
  {
   "cell_type": "code",
   "execution_count": null,
   "metadata": {},
   "outputs": [],
   "source": [
    "from plotnine import ggplot, aes, ggsave, themes, theme\n",
    "from plotnine import (\n",
    "    geom_point,\n",
    "    geom_line,\n",
    "    geom_smooth,\n",
    "    geom_hline,\n",
    "    facet_wrap,\n",
    "    geom_boxplot,\n",
    "    geom_violin,\n",
    "    geom_density,\n",
    ")\n",
    "from plotnine import labs, element_rect, element_blank, element_text\n",
    "from plotnine import (\n",
    "    scale_color_manual,\n",
    "    scale_y_continuous,\n",
    "    ylim,\n",
    "    scale_x_date,\n",
    "    scale_color_identity,\n",
    ")\n",
    "\n",
    "theme_sra = themes.theme_538(base_size=9, base_family=\"Tahoma\")\n",
    "theme_sra += theme(\n",
    "    # plot_background = element_rect(fill = 'ghostwhite', color = \"ghostwhite\"),\n",
    "    plot_title=element_text(face=\"bold\", size=16),\n",
    "    strip_text=element_text(face=\"bold\", size=10),\n",
    "    plot_caption=element_text(size=10),\n",
    "    plot_subtitle=element_text(size=12),\n",
    "    axis_text_x=element_text(size=8),\n",
    "    axis_text_y=element_text(size=8),\n",
    "    axis_title_x=element_text(size=12),\n",
    "    axis_title_y=element_text(size=12),\n",
    ")"
   ]
  },
  {
   "cell_type": "markdown",
   "metadata": {},
   "source": [
    "# Team Shooting Splits"
   ]
  },
  {
   "cell_type": "code",
   "execution_count": null,
   "metadata": {},
   "outputs": [],
   "source": [
    "from nba_api.stats.endpoints import leaguedashteamshotlocations"
   ]
  },
  {
   "cell_type": "code",
   "execution_count": null,
   "metadata": {},
   "outputs": [],
   "source": [
    "stats = leaguedashteamshotlocations.LeagueDashTeamShotLocations(\n",
    "    distance_range=\"8ft Range\", per_mode_detailed=\"PerGame\"\n",
    ")\n",
    "df = stats.get_data_frames()[0]\n",
    "df1 = pd.DataFrame()\n",
    "df1[\"tID\"] = df[\"\"][\"TEAM_ID\"]\n",
    "df1[\"Team\"] = df[\"\"][\"TEAM_NAME\"]\n",
    "df1[\"r00_8\"] = df[\"Less Than 8 ft.\"][\"FGA\"]\n",
    "df1[\"r08_16\"] = df[\"8-16 ft.\"][\"FGA\"]\n",
    "df1[\"r16_24\"] = df[\"16-24 ft.\"][\"FGA\"]\n",
    "df1[\"r24_\"] = df[\"24+ ft.\"][\"FGA\"]\n",
    "df1[\"sum\"] = df1.iloc[:, -4:].sum(axis=1)\n",
    "df1.iloc[:, -5:-1] = df1.iloc[:, -5:-1].div(df1[\"sum\"], axis=0) * 100\n",
    "df1.iloc[:, -5:-1] = df1.iloc[:, -5:-1].round(2)\n",
    "df1 = df1.drop([\"sum\"], axis=1)\n",
    "data = df1\n",
    "data.to_csv(\"../R/fdata\" + \"nba_team_shooting_splits.csv\")"
   ]
  },
  {
   "cell_type": "markdown",
   "metadata": {},
   "source": [
    "# Team Trends"
   ]
  },
  {
   "cell_type": "code",
   "execution_count": null,
   "metadata": {},
   "outputs": [],
   "source": [
    "from nba_api.stats.endpoints import leaguegamelog"
   ]
  },
  {
   "cell_type": "code",
   "execution_count": null,
   "metadata": {},
   "outputs": [],
   "source": [
    "season = 2023\n",
    "df1 = pd.read_csv(box_DIR + f\"NBA_BoxScores_Adv_{season}.csv\")\n",
    "# cols = [\"gameId\",\"teamId\",\"offensiveRating\",\"defensiveRating\",\"netRating\",\"possessions\"]\n",
    "# df1 = df1[cols]\n",
    "stats = leaguegamelog.LeagueGameLog(\n",
    "    player_or_team_abbreviation=\"T\",\n",
    "    season=season,\n",
    "    season_type_all_star=\"Regular Season\",\n",
    ")\n",
    "df2 = stats.get_data_frames()[0]\n",
    "df2 = df2.rename(\n",
    "    columns={\n",
    "        \"GAME_ID\": \"gameId\",\n",
    "        \"TEAM_ID\": \"teamId\",\n",
    "        \"TEAM_ABBREVIATION\": \"teamTricode\",\n",
    "        \"GAME_DATE\": \"gameDate\",\n",
    "        \"TEAM_NAME\": \"teamName\",\n",
    "    }\n",
    ")\n",
    "cols2 = [\"gameId\", \"teamId\", \"teamTricode\", \"gameDate\"]\n",
    "df2 = df2[cols2]\n",
    "df2[\"gameId\"] = df2[\"gameId\"].astype(int)\n",
    "df3 = pd.merge(df2, df1, on=[\"gameId\", \"teamId\", \"teamTricode\"])\n",
    "df3[\"gameDate\"] = pd.to_datetime(df3[\"gameDate\"], format=\"%Y-%m-%d\")\n",
    "df4 = df3.sort_values(by=[\"teamTricode\", \"gameDate\"]).reset_index(drop=True)\n",
    "df6 = df3.sort_values(by=[\"gameDate\"]).reset_index(drop=True)\n",
    "data = df6.copy()"
   ]
  },
  {
   "cell_type": "code",
   "execution_count": null,
   "metadata": {},
   "outputs": [],
   "source": [
    "# data.columns"
   ]
  },
  {
   "cell_type": "code",
   "execution_count": null,
   "metadata": {},
   "outputs": [],
   "source": [
    "team = \"WAS\"\n",
    "df = data[data[\"teamTricode\"] == team].reset_index()\n",
    "var, y = \"reboundPercentage\", \"Rebound %\"\n",
    "# var,y = \"Minutes\", \"Minutes Played\"\n",
    "title = team + \" \" + y\n",
    "p = (\n",
    "    ggplot(df)  # What data to use\n",
    "    + aes(x=\"gameDate\", y=var)  # What variable to use\n",
    "    # + geom_line()  # Geometric object to use for drawing\n",
    "    + geom_point(color=\"#CE1141\")\n",
    "    + geom_smooth(method=\"loess\", color=\"black\", se=False)\n",
    "    + scale_x_date(date_labels=\"%b-%d\", date_breaks=\"1 week\")\n",
    "    # + geom_hline(yintercept=0.752, linetype=\"dashed\", color=\"blue\", size=0.5)\n",
    "    # + annotate(\"text\", x=df[\"gameDate\"].iloc[1], y=0.76, label=\"League Avg\")\n",
    "    + labs(x=\"Date\", y=y, title=title, caption=\"@SravanNBA | source: nba.com/stats\")\n",
    "    # + themes.theme_xkcd(base_size=14)\n",
    "    + themes.theme_538(base_size=12)\n",
    "    + theme(plot_title=element_text(face=\"bold\", size=18), plot_margin=0.025)\n",
    ")\n",
    "p.save(fig_DIR + team + \"_\" + var + \".png\", dpi=300)\n",
    "p.draw()"
   ]
  }
 ],
 "metadata": {
  "kernelspec": {
   "display_name": ".venv",
   "language": "python",
   "name": "python3"
  },
  "language_info": {
   "codemirror_mode": {
    "name": "ipython",
    "version": 3
   },
   "file_extension": ".py",
   "mimetype": "text/x-python",
   "name": "python",
   "nbconvert_exporter": "python",
   "pygments_lexer": "ipython3",
   "version": "3.11.6"
  }
 },
 "nbformat": 4,
 "nbformat_minor": 2
}
