{
 "cells": [
  {
   "cell_type": "code",
   "execution_count": 1,
   "metadata": {},
   "outputs": [],
   "source": [
    "import matplotlib.pyplot as plt\n",
    "import numpy as np\n",
    "import pandas as pd\n",
    "import scipy\n",
    "import nba_api\n",
    "import seaborn as sns\n",
    "import plotly.figure_factory as ff\n",
    "import plotly.graph_objects as go \n",
    "import plotly.express as px\n",
    "\n",
    "fig_DIR = \"../figs/team_leaders/\""
   ]
  },
  {
   "cell_type": "code",
   "execution_count": 2,
   "metadata": {},
   "outputs": [
    {
     "name": "stderr",
     "output_type": "stream",
     "text": [
      "c:\\Users\\pansr\\Documents\\NBA\\.venv\\lib\\site-packages\\rpy2\\robjects\\packages.py:367: UserWarning: The symbol 'quartz' is not in this R namespace/package.\n",
      "  warnings.warn(\n"
     ]
    }
   ],
   "source": [
    "import os\n",
    "os.environ[\"R_HOME\"] = \"C:\\\\Program Files\\\\R\\\\R-4.3.2\\\\\"\n",
    "%reload_ext rpy2.ipython"
   ]
  },
  {
   "cell_type": "code",
   "execution_count": 3,
   "metadata": {},
   "outputs": [],
   "source": [
    "def get_df(stats):\n",
    "    df = stats.get_data_frames()[0]\n",
    "    df[\"Team\"] = df[\"TEAM_NAME\"]\n",
    "    cols = df.columns\n",
    "    df.columns = cols.str.replace(\"RATING\",\"RTG\")\n",
    "    return df"
   ]
  },
  {
   "cell_type": "code",
   "execution_count": 4,
   "metadata": {},
   "outputs": [],
   "source": [
    "from nba_api.stats.endpoints import leaguedashteamstats\n",
    "stats = leaguedashteamstats.LeagueDashTeamStats(measure_type_detailed_defense=\"Advanced\")\n",
    "df = get_df(stats)\n",
    "df = df.rename(columns={\"OFF_RTG_RANK\":\"O_RANK\",\"DEF_RTG_RANK\":\"D_RANK\"})"
   ]
  },
  {
   "cell_type": "code",
   "execution_count": 5,
   "metadata": {},
   "outputs": [
    {
     "data": {
      "text/plain": [
       "Index(['TEAM_ID', 'TEAM_NAME', 'GP', 'W', 'L', 'W_PCT', 'MIN', 'E_OFF_RTG',\n",
       "       'OFF_RTG', 'E_DEF_RTG', 'DEF_RTG', 'E_NET_RTG', 'NET_RTG', 'AST_PCT',\n",
       "       'AST_TO', 'AST_RATIO', 'OREB_PCT', 'DREB_PCT', 'REB_PCT', 'TM_TOV_PCT',\n",
       "       'EFG_PCT', 'TS_PCT', 'E_PACE', 'PACE', 'PACE_PER40', 'POSS', 'PIE',\n",
       "       'GP_RANK', 'W_RANK', 'L_RANK', 'W_PCT_RANK', 'MIN_RANK', 'O_RANK',\n",
       "       'D_RANK', 'NET_RTG_RANK', 'AST_PCT_RANK', 'AST_TO_RANK',\n",
       "       'AST_RATIO_RANK', 'OREB_PCT_RANK', 'DREB_PCT_RANK', 'REB_PCT_RANK',\n",
       "       'TM_TOV_PCT_RANK', 'EFG_PCT_RANK', 'TS_PCT_RANK', 'PACE_RANK',\n",
       "       'PIE_RANK', 'Team'],\n",
       "      dtype='object')"
      ]
     },
     "execution_count": 5,
     "metadata": {},
     "output_type": "execute_result"
    }
   ],
   "source": [
    "df.columns"
   ]
  },
  {
   "cell_type": "code",
   "execution_count": 6,
   "metadata": {},
   "outputs": [],
   "source": [
    "df1 = df.sort_values(by=\"NET_RTG\",ascending=False)\n",
    "df1 = df1.reset_index(drop=True)\n",
    "df1 = df1.reset_index(drop=False)\n",
    "df1[\"#\"] = df1[\"index\"] +1\n",
    "df2 = df1[[\"#\",\"Team\",\"OFF_RTG\",\"O_RANK\",\"DEF_RTG\",\"D_RANK\",\"NET_RTG\"]]\n",
    "df = df2"
   ]
  },
  {
   "cell_type": "code",
   "execution_count": 7,
   "metadata": {},
   "outputs": [
    {
     "data": {
      "application/vnd.plotly.v1+json": {
       "config": {
        "plotlyServerURL": "https://plot.ly"
       },
       "data": [
        {
         "cells": {
          "align": [
           "center",
           "left",
           "center",
           "center"
          ],
          "fill": {
           "color": [
            "white",
            "white",
            [
             "rgb(14, 161, 164)",
             "rgb(27, 167, 169)",
             "rgb(55, 178, 180)",
             "rgb(234, 216, 229)",
             "rgb(132, 201, 203)",
             "rgb(41, 172, 175)",
             "rgb(111, 196, 197)",
             "rgb(69, 184, 186)",
             "rgb(226, 186, 214)",
             "rgb(0, 155, 158)",
             "rgb(205, 115, 180)",
             "rgb(218, 232, 232)",
             "rgb(203, 225, 226)",
             "rgb(214, 147, 194)",
             "rgb(172, 213, 214)",
             "rgb(90, 190, 192)",
             "rgb(153, 207, 208)",
             "rgb(208, 125, 185)",
             "rgb(211, 136, 189)",
             "rgb(237, 226, 234)",
             "rgb(217, 157, 199)",
             "rgb(229, 196, 219)",
             "rgb(220, 167, 204)",
             "rgb(187, 219, 220)",
             "rgb(199, 93, 171)",
             "rgb(232, 206, 224)",
             "rgb(202, 104, 176)",
             "rgb(233, 238, 238)",
             "rgb(240, 236, 239)",
             "rgb(223, 176, 209)"
            ],
            "white",
            [
             "rgb(41, 172, 175)",
             "rgb(55, 178, 180)",
             "rgb(111, 196, 197)",
             "rgb(0, 155, 158)",
             "rgb(90, 190, 192)",
             "rgb(232, 206, 224)",
             "rgb(187, 219, 220)",
             "rgb(234, 216, 229)",
             "rgb(27, 167, 169)",
             "rgb(211, 136, 189)",
             "rgb(14, 161, 164)",
             "rgb(153, 207, 208)",
             "rgb(203, 225, 226)",
             "rgb(69, 184, 186)",
             "rgb(229, 196, 219)",
             "rgb(214, 147, 194)",
             "rgb(217, 157, 199)",
             "rgb(172, 213, 214)",
             "rgb(218, 232, 232)",
             "rgb(237, 226, 234)",
             "rgb(240, 236, 239)",
             "rgb(223, 176, 209)",
             "rgb(226, 186, 214)",
             "rgb(208, 125, 185)",
             "rgb(132, 201, 203)",
             "rgb(220, 167, 204)",
             "rgb(233, 238, 238)",
             "rgb(205, 115, 180)",
             "rgb(199, 93, 171)",
             "rgb(202, 104, 176)"
            ],
            "white",
            [
             "rgb(0, 155, 158)",
             "rgb(14, 161, 164)",
             "rgb(27, 167, 169)",
             "rgb(41, 172, 175)",
             "rgb(55, 178, 180)",
             "rgb(69, 184, 186)",
             "rgb(90, 190, 192)",
             "rgb(111, 196, 197)",
             "rgb(132, 201, 203)",
             "rgb(153, 207, 208)",
             "rgb(172, 213, 214)",
             "rgb(187, 219, 220)",
             "rgb(203, 225, 226)",
             "rgb(218, 232, 232)",
             "rgb(233, 238, 238)",
             "rgb(240, 236, 239)",
             "rgb(237, 226, 234)",
             "rgb(234, 216, 229)",
             "rgb(232, 206, 224)",
             "rgb(229, 196, 219)",
             "rgb(226, 186, 214)",
             "rgb(223, 176, 209)",
             "rgb(220, 167, 204)",
             "rgb(217, 157, 199)",
             "rgb(214, 147, 194)",
             "rgb(211, 136, 189)",
             "rgb(208, 125, 185)",
             "rgb(205, 115, 180)",
             "rgb(202, 104, 176)",
             "rgb(199, 93, 171)"
            ]
           ]
          },
          "font": {
           "color": "black",
           "family": "Arial Black, monospace",
           "size": 11
          },
          "height": 23,
          "line": {
           "color": "grey"
          },
          "values": [
           [
            1,
            2,
            3,
            4,
            5,
            6,
            7,
            8,
            9,
            10,
            11,
            12,
            13,
            14,
            15,
            16,
            17,
            18,
            19,
            20,
            21,
            22,
            23,
            24,
            25,
            26,
            27,
            28,
            29,
            30
           ],
           [
            "Boston Celtics",
            "Philadelphia 76ers",
            "Denver Nuggets",
            "Minnesota Timberwolves",
            "LA Clippers",
            "Dallas Mavericks",
            "Golden State Warriors",
            "Atlanta Hawks",
            "Orlando Magic",
            "Indiana Pacers",
            "New York Knicks",
            "Phoenix Suns",
            "Houston Rockets",
            "Toronto Raptors",
            "Oklahoma City Thunder",
            "Brooklyn Nets",
            "Milwaukee Bucks",
            "Cleveland Cavaliers",
            "Miami Heat",
            "Detroit Pistons",
            "Los Angeles Lakers",
            "Sacramento Kings",
            "New Orleans Pelicans",
            "Charlotte Hornets",
            "Portland Trail Blazers",
            "Chicago Bulls",
            "Memphis Grizzlies",
            "Utah Jazz",
            "Washington Wizards",
            "San Antonio Spurs"
           ],
           [
            119.9,
            119.9,
            119.2,
            109.3,
            114.7,
            119.7,
            115.5,
            117.8,
            108.9,
            120.4,
            105.5,
            111.4,
            111.7,
            107.8,
            114,
            116.1,
            114.4,
            107,
            107.4,
            109.4,
            108.2,
            109,
            108.4,
            112.4,
            103.8,
            109.2,
            104.4,
            110,
            109.5,
            108.4
           ],
           [
            2,
            3,
            5,
            18,
            9,
            4,
            8,
            6,
            21,
            1,
            28,
            14,
            13,
            25,
            11,
            7,
            10,
            27,
            26,
            17,
            24,
            20,
            23,
            12,
            30,
            19,
            29,
            15,
            16,
            22
           ],
           [
            105.8,
            107.3,
            107.5,
            100.7,
            107.4,
            113,
            110.2,
            112.8,
            105.6,
            117.2,
            103.2,
            109.6,
            110.5,
            107.3,
            113.6,
            117.2,
            116.7,
            109.9,
            110.5,
            112.6,
            111.7,
            114,
            113.6,
            117.7,
            109.2,
            114.9,
            110.9,
            117.9,
            120.6,
            120
           ],
           [
            4,
            5,
            8,
            1,
            7,
            19,
            12,
            18,
            3,
            26,
            2,
            10,
            13,
            6,
            20,
            25,
            24,
            11,
            14,
            17,
            16,
            22,
            21,
            27,
            9,
            23,
            15,
            28,
            30,
            29
           ],
           [
            14.1,
            12.6,
            11.8,
            8.6,
            7.3,
            6.7,
            5.3,
            4.9,
            3.3,
            3.2,
            2.3,
            1.7,
            1.2,
            0.5,
            0.4,
            -1.1,
            -2.4,
            -2.9,
            -3.1,
            -3.2,
            -3.5,
            -4.9,
            -5.3,
            -5.3,
            -5.4,
            -5.7,
            -6.5,
            -8,
            -11.1,
            -11.6
           ]
          ]
         },
         "columnwidth": [
          5,
          50,
          15,
          15,
          15,
          15,
          15
         ],
         "header": {
          "align": [
           "center",
           "left",
           "center",
           "center"
          ],
          "fill": {
           "color": "snow"
          },
          "font": {
           "color": "Black",
           "family": "Arial Black, monospace",
           "size": 12
          },
          "line": {
           "color": "grey"
          },
          "values": [
           "#",
           "Team",
           "OFF_RTG",
           "O_RANK",
           "DEF_RTG",
           "D_RANK",
           "NET_RTG"
          ]
         },
         "type": "table"
        }
       ],
       "layout": {
        "annotations": [
         {
          "showarrow": false,
          "text": "@SravanNBA",
          "x": 0,
          "xshift": 1,
          "y": 0,
          "yshift": 5
         },
         {
          "font": {
           "size": 10
          },
          "showarrow": false,
          "text": "Source: nba.com/stats",
          "x": 1,
          "xshift": 1,
          "y": 0,
          "yshift": 5
         }
        ],
        "height": 770,
        "margin": {
         "b": 1,
         "l": 1,
         "r": 1,
         "t": 25
        },
        "template": {
         "data": {
          "bar": [
           {
            "error_x": {
             "color": "#2a3f5f"
            },
            "error_y": {
             "color": "#2a3f5f"
            },
            "marker": {
             "line": {
              "color": "#E5ECF6",
              "width": 0.5
             },
             "pattern": {
              "fillmode": "overlay",
              "size": 10,
              "solidity": 0.2
             }
            },
            "type": "bar"
           }
          ],
          "barpolar": [
           {
            "marker": {
             "line": {
              "color": "#E5ECF6",
              "width": 0.5
             },
             "pattern": {
              "fillmode": "overlay",
              "size": 10,
              "solidity": 0.2
             }
            },
            "type": "barpolar"
           }
          ],
          "carpet": [
           {
            "aaxis": {
             "endlinecolor": "#2a3f5f",
             "gridcolor": "white",
             "linecolor": "white",
             "minorgridcolor": "white",
             "startlinecolor": "#2a3f5f"
            },
            "baxis": {
             "endlinecolor": "#2a3f5f",
             "gridcolor": "white",
             "linecolor": "white",
             "minorgridcolor": "white",
             "startlinecolor": "#2a3f5f"
            },
            "type": "carpet"
           }
          ],
          "choropleth": [
           {
            "colorbar": {
             "outlinewidth": 0,
             "ticks": ""
            },
            "type": "choropleth"
           }
          ],
          "contour": [
           {
            "colorbar": {
             "outlinewidth": 0,
             "ticks": ""
            },
            "colorscale": [
             [
              0,
              "#0d0887"
             ],
             [
              0.1111111111111111,
              "#46039f"
             ],
             [
              0.2222222222222222,
              "#7201a8"
             ],
             [
              0.3333333333333333,
              "#9c179e"
             ],
             [
              0.4444444444444444,
              "#bd3786"
             ],
             [
              0.5555555555555556,
              "#d8576b"
             ],
             [
              0.6666666666666666,
              "#ed7953"
             ],
             [
              0.7777777777777778,
              "#fb9f3a"
             ],
             [
              0.8888888888888888,
              "#fdca26"
             ],
             [
              1,
              "#f0f921"
             ]
            ],
            "type": "contour"
           }
          ],
          "contourcarpet": [
           {
            "colorbar": {
             "outlinewidth": 0,
             "ticks": ""
            },
            "type": "contourcarpet"
           }
          ],
          "heatmap": [
           {
            "colorbar": {
             "outlinewidth": 0,
             "ticks": ""
            },
            "colorscale": [
             [
              0,
              "#0d0887"
             ],
             [
              0.1111111111111111,
              "#46039f"
             ],
             [
              0.2222222222222222,
              "#7201a8"
             ],
             [
              0.3333333333333333,
              "#9c179e"
             ],
             [
              0.4444444444444444,
              "#bd3786"
             ],
             [
              0.5555555555555556,
              "#d8576b"
             ],
             [
              0.6666666666666666,
              "#ed7953"
             ],
             [
              0.7777777777777778,
              "#fb9f3a"
             ],
             [
              0.8888888888888888,
              "#fdca26"
             ],
             [
              1,
              "#f0f921"
             ]
            ],
            "type": "heatmap"
           }
          ],
          "heatmapgl": [
           {
            "colorbar": {
             "outlinewidth": 0,
             "ticks": ""
            },
            "colorscale": [
             [
              0,
              "#0d0887"
             ],
             [
              0.1111111111111111,
              "#46039f"
             ],
             [
              0.2222222222222222,
              "#7201a8"
             ],
             [
              0.3333333333333333,
              "#9c179e"
             ],
             [
              0.4444444444444444,
              "#bd3786"
             ],
             [
              0.5555555555555556,
              "#d8576b"
             ],
             [
              0.6666666666666666,
              "#ed7953"
             ],
             [
              0.7777777777777778,
              "#fb9f3a"
             ],
             [
              0.8888888888888888,
              "#fdca26"
             ],
             [
              1,
              "#f0f921"
             ]
            ],
            "type": "heatmapgl"
           }
          ],
          "histogram": [
           {
            "marker": {
             "pattern": {
              "fillmode": "overlay",
              "size": 10,
              "solidity": 0.2
             }
            },
            "type": "histogram"
           }
          ],
          "histogram2d": [
           {
            "colorbar": {
             "outlinewidth": 0,
             "ticks": ""
            },
            "colorscale": [
             [
              0,
              "#0d0887"
             ],
             [
              0.1111111111111111,
              "#46039f"
             ],
             [
              0.2222222222222222,
              "#7201a8"
             ],
             [
              0.3333333333333333,
              "#9c179e"
             ],
             [
              0.4444444444444444,
              "#bd3786"
             ],
             [
              0.5555555555555556,
              "#d8576b"
             ],
             [
              0.6666666666666666,
              "#ed7953"
             ],
             [
              0.7777777777777778,
              "#fb9f3a"
             ],
             [
              0.8888888888888888,
              "#fdca26"
             ],
             [
              1,
              "#f0f921"
             ]
            ],
            "type": "histogram2d"
           }
          ],
          "histogram2dcontour": [
           {
            "colorbar": {
             "outlinewidth": 0,
             "ticks": ""
            },
            "colorscale": [
             [
              0,
              "#0d0887"
             ],
             [
              0.1111111111111111,
              "#46039f"
             ],
             [
              0.2222222222222222,
              "#7201a8"
             ],
             [
              0.3333333333333333,
              "#9c179e"
             ],
             [
              0.4444444444444444,
              "#bd3786"
             ],
             [
              0.5555555555555556,
              "#d8576b"
             ],
             [
              0.6666666666666666,
              "#ed7953"
             ],
             [
              0.7777777777777778,
              "#fb9f3a"
             ],
             [
              0.8888888888888888,
              "#fdca26"
             ],
             [
              1,
              "#f0f921"
             ]
            ],
            "type": "histogram2dcontour"
           }
          ],
          "mesh3d": [
           {
            "colorbar": {
             "outlinewidth": 0,
             "ticks": ""
            },
            "type": "mesh3d"
           }
          ],
          "parcoords": [
           {
            "line": {
             "colorbar": {
              "outlinewidth": 0,
              "ticks": ""
             }
            },
            "type": "parcoords"
           }
          ],
          "pie": [
           {
            "automargin": true,
            "type": "pie"
           }
          ],
          "scatter": [
           {
            "marker": {
             "colorbar": {
              "outlinewidth": 0,
              "ticks": ""
             }
            },
            "type": "scatter"
           }
          ],
          "scatter3d": [
           {
            "line": {
             "colorbar": {
              "outlinewidth": 0,
              "ticks": ""
             }
            },
            "marker": {
             "colorbar": {
              "outlinewidth": 0,
              "ticks": ""
             }
            },
            "type": "scatter3d"
           }
          ],
          "scattercarpet": [
           {
            "marker": {
             "colorbar": {
              "outlinewidth": 0,
              "ticks": ""
             }
            },
            "type": "scattercarpet"
           }
          ],
          "scattergeo": [
           {
            "marker": {
             "colorbar": {
              "outlinewidth": 0,
              "ticks": ""
             }
            },
            "type": "scattergeo"
           }
          ],
          "scattergl": [
           {
            "marker": {
             "colorbar": {
              "outlinewidth": 0,
              "ticks": ""
             }
            },
            "type": "scattergl"
           }
          ],
          "scattermapbox": [
           {
            "marker": {
             "colorbar": {
              "outlinewidth": 0,
              "ticks": ""
             }
            },
            "type": "scattermapbox"
           }
          ],
          "scatterpolar": [
           {
            "marker": {
             "colorbar": {
              "outlinewidth": 0,
              "ticks": ""
             }
            },
            "type": "scatterpolar"
           }
          ],
          "scatterpolargl": [
           {
            "marker": {
             "colorbar": {
              "outlinewidth": 0,
              "ticks": ""
             }
            },
            "type": "scatterpolargl"
           }
          ],
          "scatterternary": [
           {
            "marker": {
             "colorbar": {
              "outlinewidth": 0,
              "ticks": ""
             }
            },
            "type": "scatterternary"
           }
          ],
          "surface": [
           {
            "colorbar": {
             "outlinewidth": 0,
             "ticks": ""
            },
            "colorscale": [
             [
              0,
              "#0d0887"
             ],
             [
              0.1111111111111111,
              "#46039f"
             ],
             [
              0.2222222222222222,
              "#7201a8"
             ],
             [
              0.3333333333333333,
              "#9c179e"
             ],
             [
              0.4444444444444444,
              "#bd3786"
             ],
             [
              0.5555555555555556,
              "#d8576b"
             ],
             [
              0.6666666666666666,
              "#ed7953"
             ],
             [
              0.7777777777777778,
              "#fb9f3a"
             ],
             [
              0.8888888888888888,
              "#fdca26"
             ],
             [
              1,
              "#f0f921"
             ]
            ],
            "type": "surface"
           }
          ],
          "table": [
           {
            "cells": {
             "fill": {
              "color": "#EBF0F8"
             },
             "line": {
              "color": "white"
             }
            },
            "header": {
             "fill": {
              "color": "#C8D4E3"
             },
             "line": {
              "color": "white"
             }
            },
            "type": "table"
           }
          ]
         },
         "layout": {
          "annotationdefaults": {
           "arrowcolor": "#2a3f5f",
           "arrowhead": 0,
           "arrowwidth": 1
          },
          "autotypenumbers": "strict",
          "coloraxis": {
           "colorbar": {
            "outlinewidth": 0,
            "ticks": ""
           }
          },
          "colorscale": {
           "diverging": [
            [
             0,
             "#8e0152"
            ],
            [
             0.1,
             "#c51b7d"
            ],
            [
             0.2,
             "#de77ae"
            ],
            [
             0.3,
             "#f1b6da"
            ],
            [
             0.4,
             "#fde0ef"
            ],
            [
             0.5,
             "#f7f7f7"
            ],
            [
             0.6,
             "#e6f5d0"
            ],
            [
             0.7,
             "#b8e186"
            ],
            [
             0.8,
             "#7fbc41"
            ],
            [
             0.9,
             "#4d9221"
            ],
            [
             1,
             "#276419"
            ]
           ],
           "sequential": [
            [
             0,
             "#0d0887"
            ],
            [
             0.1111111111111111,
             "#46039f"
            ],
            [
             0.2222222222222222,
             "#7201a8"
            ],
            [
             0.3333333333333333,
             "#9c179e"
            ],
            [
             0.4444444444444444,
             "#bd3786"
            ],
            [
             0.5555555555555556,
             "#d8576b"
            ],
            [
             0.6666666666666666,
             "#ed7953"
            ],
            [
             0.7777777777777778,
             "#fb9f3a"
            ],
            [
             0.8888888888888888,
             "#fdca26"
            ],
            [
             1,
             "#f0f921"
            ]
           ],
           "sequentialminus": [
            [
             0,
             "#0d0887"
            ],
            [
             0.1111111111111111,
             "#46039f"
            ],
            [
             0.2222222222222222,
             "#7201a8"
            ],
            [
             0.3333333333333333,
             "#9c179e"
            ],
            [
             0.4444444444444444,
             "#bd3786"
            ],
            [
             0.5555555555555556,
             "#d8576b"
            ],
            [
             0.6666666666666666,
             "#ed7953"
            ],
            [
             0.7777777777777778,
             "#fb9f3a"
            ],
            [
             0.8888888888888888,
             "#fdca26"
            ],
            [
             1,
             "#f0f921"
            ]
           ]
          },
          "colorway": [
           "#636efa",
           "#EF553B",
           "#00cc96",
           "#ab63fa",
           "#FFA15A",
           "#19d3f3",
           "#FF6692",
           "#B6E880",
           "#FF97FF",
           "#FECB52"
          ],
          "font": {
           "color": "#2a3f5f"
          },
          "geo": {
           "bgcolor": "white",
           "lakecolor": "white",
           "landcolor": "#E5ECF6",
           "showlakes": true,
           "showland": true,
           "subunitcolor": "white"
          },
          "hoverlabel": {
           "align": "left"
          },
          "hovermode": "closest",
          "mapbox": {
           "style": "light"
          },
          "paper_bgcolor": "white",
          "plot_bgcolor": "#E5ECF6",
          "polar": {
           "angularaxis": {
            "gridcolor": "white",
            "linecolor": "white",
            "ticks": ""
           },
           "bgcolor": "#E5ECF6",
           "radialaxis": {
            "gridcolor": "white",
            "linecolor": "white",
            "ticks": ""
           }
          },
          "scene": {
           "xaxis": {
            "backgroundcolor": "#E5ECF6",
            "gridcolor": "white",
            "gridwidth": 2,
            "linecolor": "white",
            "showbackground": true,
            "ticks": "",
            "zerolinecolor": "white"
           },
           "yaxis": {
            "backgroundcolor": "#E5ECF6",
            "gridcolor": "white",
            "gridwidth": 2,
            "linecolor": "white",
            "showbackground": true,
            "ticks": "",
            "zerolinecolor": "white"
           },
           "zaxis": {
            "backgroundcolor": "#E5ECF6",
            "gridcolor": "white",
            "gridwidth": 2,
            "linecolor": "white",
            "showbackground": true,
            "ticks": "",
            "zerolinecolor": "white"
           }
          },
          "shapedefaults": {
           "line": {
            "color": "#2a3f5f"
           }
          },
          "ternary": {
           "aaxis": {
            "gridcolor": "white",
            "linecolor": "white",
            "ticks": ""
           },
           "baxis": {
            "gridcolor": "white",
            "linecolor": "white",
            "ticks": ""
           },
           "bgcolor": "#E5ECF6",
           "caxis": {
            "gridcolor": "white",
            "linecolor": "white",
            "ticks": ""
           }
          },
          "title": {
           "x": 0.05
          },
          "xaxis": {
           "automargin": true,
           "gridcolor": "white",
           "linecolor": "white",
           "ticks": "",
           "title": {
            "standoff": 15
           },
           "zerolinecolor": "white",
           "zerolinewidth": 2
          },
          "yaxis": {
           "automargin": true,
           "gridcolor": "white",
           "linecolor": "white",
           "ticks": "",
           "title": {
            "standoff": 15
           },
           "zerolinecolor": "white",
           "zerolinewidth": 2
          }
         }
        },
        "title": {
         "font": {
          "family": "Arial Black, monospace",
          "size": 15
         },
         "text": "NBA Net Rating Leaders 2023-24",
         "x": 0.1,
         "y": 0.99
        },
        "width": 550
       }
      }
     },
     "metadata": {},
     "output_type": "display_data"
    }
   ],
   "source": [
    "n_colors = 30\n",
    "colors = px.colors.sample_colorscale(\"Tropic\", [n/(n_colors -1) for n in range(n_colors)])\n",
    "orank = df[\"O_RANK\"]-1\n",
    "orank = orank.astype(np.int32).to_numpy()\n",
    "carray_o =  np.array(colors)[orank]\n",
    "drank = df[\"D_RANK\"]-1\n",
    "drank = drank.astype(np.int32).to_numpy()\n",
    "carray_d =  np.array(colors)[drank]\n",
    "nrank = df[\"#\"]-1\n",
    "nrank = nrank.astype(np.int32).to_numpy()\n",
    "carray_n =  np.array(colors)[nrank]\n",
    "title = \"NBA Net Rating Leaders 2023-24\"\n",
    "font = dict(color=\"black\",family=\"Arial Black, monospace\", size=11)\n",
    "fig = go.Figure(data=[go.Table(\n",
    "        columnwidth=[5,50,15,15,15,15,15],\n",
    "        header=dict(values=list(df.columns),\n",
    "                    fill_color='snow',\n",
    "                    align=['center','left','center','center'],\n",
    "                    font=dict(color='Black',family=\"Arial Black, monospace\", size=12),\n",
    "                    line_color=\"grey\"\n",
    "                    ),\n",
    "        cells=dict(values=[df[\"#\"],df[\"Team\"],df[\"OFF_RTG\"],df[\"O_RANK\"],df[\"DEF_RTG\"],\n",
    "                           df[\"D_RANK\"],df[\"NET_RTG\"]],\n",
    "                fill_color=[\"white\",\"white\",carray_o,\"white\",carray_d,\"white\",carray_n],\n",
    "                align=['center','left','center','center'],\n",
    "                height=23,\n",
    "                line_color=\"grey\",#lightgrey\",\n",
    "                font=font,\n",
    "                ),\n",
    "                # height=25\n",
    "        ),\n",
    "    ])\n",
    "    # fig.update_layout(title_text=title)\n",
    "fig.update_layout(title=dict(text=title,y=0.99,x=0.1,font=dict(size=15,family=\"Arial Black, monospace\")))\n",
    "fig.add_annotation(x=0.0, y=0.0,text=\"@SravanNBA\",showarrow=False,xshift=1,yshift=5)\n",
    "fig.add_annotation(x=1.0, y=0.0,text=\"Source: nba.com/stats\",showarrow=False,xshift=1,yshift=5,font=dict(size=10))\n",
    "# fig.update_layout(title=dict(text=title,y=0.01,x=0.1,font=dict(size=15,family=\"Arial Black, monospace\")))\n",
    "tab_width = 550 \n",
    "tab_height = 770\n",
    "fig.update_layout(width=tab_width,height=tab_height,margin=dict(t=25,b=1,l=1,r=1))\n",
    "# fig.update_layout(autosize=True)\n",
    "fig.show()\n",
    "fig.write_image(fig_DIR+f\"Teams_NET_RTG.png\", scale=3)"
   ]
  },
  {
   "cell_type": "code",
   "execution_count": 11,
   "metadata": {},
   "outputs": [
    {
     "data": {
      "text/plain": [
       "file:///C:/Users/pansr/AppData/Local/Temp/Rtmp2VEdsA/file5fd8151d74.html screenshot completed\n"
      ]
     },
     "metadata": {},
     "output_type": "display_data"
    }
   ],
   "source": [
    "%%R -i df \n",
    "library(tidyverse)\n",
    "library(gt)\n",
    "\n",
    "df %>% \n",
    "  gt()%>%\n",
    "  tab_header(\n",
    "    title = md(\"**NBA Net Rating Leaders 2023-24**\")) %>%\n",
    "    data_color(columns = OFF_RTG, palette = c(\"red\", \"green\")) %>%\n",
    "    data_color(columns = DEF_RTG, palette = c(\"green\",\"red\")) %>%\n",
    "    cols_align(align = \"center\",columns = c(\"#\",OFF_RTG,O_RANK,DEF_RTG,D_RANK,NET_RTG))  %>%\n",
    "    tab_options(\n",
    "        table.background.color = \"floralwhite\",\n",
    "        column_labels.font.size = 12,\n",
    "        column_labels.font.weight = 'bold',\n",
    "        row_group.font.weight = 'bold',\n",
    "        row_group.background.color = \"#E5E1D8\",\n",
    "        table.font.size = 10,\n",
    "        heading.title.font.size = 20,\n",
    "        heading.subtitle.font.size = 12.5,\n",
    "        table.font.names = \"Consolas\", \n",
    "        data_row.padding = px(2)\n",
    "    ) %>% \n",
    "    tab_source_note(\n",
    "    source_note = \"@SravanNBA | Source: nba.com/stats\" ) %>% \n",
    "    gtsave(\"../figs/R/Teams_NET_RTG.png\",zoom=5)"
   ]
  }
 ],
 "metadata": {
  "kernelspec": {
   "display_name": ".venv",
   "language": "python",
   "name": "python3"
  },
  "language_info": {
   "codemirror_mode": {
    "name": "ipython",
    "version": 3
   },
   "file_extension": ".py",
   "mimetype": "text/x-python",
   "name": "python",
   "nbconvert_exporter": "python",
   "pygments_lexer": "ipython3",
   "version": "3.9.7"
  }
 },
 "nbformat": 4,
 "nbformat_minor": 2
}
