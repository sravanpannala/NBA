{
 "cells": [
  {
   "cell_type": "code",
   "execution_count": null,
   "metadata": {},
   "outputs": [],
   "source": [
    "import os, sys\n",
    "sys.path.append(os.path.dirname(os.path.dirname(os.path.abspath(\"__file__\"))))\n",
    "from nbafuns import *\n",
    "import plotly.express as px\n",
    "import scipy\n",
    "from sklearn.linear_model import RidgeCV\n",
    "from sklearn.linear_model import LinearRegression\n",
    "import seaborn as sns\n",
    "sns.set(style='whitegrid') \n",
    "\n",
    "fig_DIR = \"../figs/team_leaders/\""
   ]
  },
  {
   "cell_type": "code",
   "execution_count": null,
   "metadata": {},
   "outputs": [],
   "source": [
    "from plotnine import ggplot,aes,ggsave,themes,theme\n",
    "from plotnine import geom_point, geom_line,geom_smooth,geom_hline,facet_wrap,geom_boxplot,geom_violin,geom_density\n",
    "from plotnine import labs,element_rect,element_blank,element_text\n",
    "from plotnine import scale_color_manual,scale_y_continuous, ylim, scale_x_date,scale_color_identity\n",
    "theme_sra = themes.theme_538(base_size=9, base_family=\"Tahoma\")\n",
    "theme_sra += theme(\n",
    "                    # plot_background = element_rect(fill = 'ghostwhite', color = \"ghostwhite\"),\n",
    "                    plot_title = element_text(face = 'bold',size=16),\n",
    "                    strip_text = element_text(face = 'bold',size=10),\n",
    "                    plot_caption = element_text(size=10),\n",
    "                    plot_subtitle = element_text(size=12),\n",
    "                    axis_text_x = element_text(size=8),\n",
    "                    axis_text_y = element_text(size=8),\n",
    "                    axis_title_x = element_text(size=12),\n",
    "                    axis_title_y = element_text(size=12)\n",
    "                ) "
   ]
  },
  {
   "cell_type": "code",
   "execution_count": null,
   "metadata": {},
   "outputs": [],
   "source": [
    "from nba_api.stats.endpoints import leaguegamelog"
   ]
  },
  {
   "cell_type": "code",
   "execution_count": 141,
   "metadata": {},
   "outputs": [],
   "source": [
    "def rolling_val(df,val):\n",
    "    df[\"r\"+val] = df.apply(lambda x: x[val]*x[\"poss\"],axis=1).cumsum()/df[\"tposs\"]\n",
    "    return df"
   ]
  },
  {
   "cell_type": "code",
   "execution_count": 149,
   "metadata": {},
   "outputs": [],
   "source": [
    "def get_rolling_ratings(season = 2023, remove_games_start = 0, remove_games_end = 0):\n",
    "    df1 = pd.read_csv(f\"./boxscores/NBA_BoxScores_Adv_{season}.csv\")\n",
    "    df1 = df1.rename(columns = {\"offensiveRating\":\"ORtg\",\"defensiveRating\":\"DRtg\",\"netRating\":\"NRtg\",\"possessions\":\"poss\"})\n",
    "    cols = [\"gameId\",\"teamId\",\"ORtg\",\"DRtg\",\"NRtg\",\"poss\"]\n",
    "    df1 = df1[cols]\n",
    "    df1[\"Win\"]  = df1[\"NRtg\"] >0\n",
    "    df1[\"Loss\"]  = df1[\"NRtg\"] <0\n",
    "    df2 = pd.read_csv(f\"./boxscores/NBA_BoxScores_Standard_{season}.csv\")\n",
    "    df2 = df2.rename(columns={\"GAME_ID\":\"gameId\",\"TEAM_ID\":\"teamId\",\"TEAM_ABBREVIATION\":\"teamTricode\",\"GAME_DATE\":\"gameDate\",\"TEAM_NAME\":\"teamName\"})\n",
    "    cols2 = [\"gameId\",\"teamId\",\"teamTricode\",\"gameDate\"]\n",
    "    df2 = df2[cols2]\n",
    "    df2[\"gameId\"] = df2[\"gameId\"].astype(int)\n",
    "    df33 = pd.read_csv(f\"./boxscores/NBA_BoxScores_4Factor_{season}.csv\")\n",
    "    df33 = df33.rename(columns={\"effectiveFieldGoalPercentage\":\"eFG1\",\"freeThrowAttemptRate\":\"FTA1\",\"teamTurnoverPercentage\":\"TOV1\",\"offensiveReboundPercentage\":\"OREB1\",\"oppEffectiveFieldGoalPercentage\":\"eFG2\",\"oppFreeThrowAttemptRate\":\"FTA2\",\"oppTeamTurnoverPercentage\":\"TOV2\",\"oppOffensiveReboundPercentage\":\"OREB2\"})\n",
    "    cols3 = [\"gameId\",\"teamId\",\"eFG1\",\"FTA1\",\"TOV1\",\"OREB1\",\"eFG2\",\"FTA2\",\"TOV2\",\"OREB2\"]\n",
    "    df33 = df33[cols3]\n",
    "    df32 = pd.merge(df2,df1,on=[\"gameId\",\"teamId\"])\n",
    "    df3 = pd.merge(df32,df33,on=[\"gameId\",\"teamId\"])\n",
    "    df4 = df3.sort_values(by=[\"teamTricode\",\"gameDate\"]).reset_index(drop=True)\n",
    "    df6 = df3.sort_values(by=[\"gameDate\"]).reset_index(drop=True)\n",
    "    teams = df6[\"teamTricode\"].unique()\n",
    "\n",
    "    dfa = []\n",
    "    dfa2 = []\n",
    "    for team in teams:\n",
    "        team = teams[0]\n",
    "        df5 = df4[df4[\"teamTricode\"]==team].reset_index(drop=True)\n",
    "        df5[\"tposs\"]=df5[\"poss\"].cumsum()\n",
    "        vals = [\"ORtg\",\"DRtg\",\"eFG1\",\"FTA1\",\"TOV1\",\"OREB1\",\"eFG2\",\"FTA2\",\"TOV2\",\"OREB2\"]\n",
    "        for val in vals:\n",
    "            df5 = rolling_val(df5,val)\n",
    "        df5[\"rNRtg\"] = df5[\"rORtg\"] - df5[\"rDRtg\"]\n",
    "        df5[\"Wins\"]=df5[\"Win\"].cumsum()\n",
    "        df5[\"Losses\"]=df5[\"Loss\"].cumsum()\n",
    "        df5[\"Games_Played\"] = df5[\"Wins\"] + df5[\"Losses\"]\n",
    "        df5[\"Win_Frac\"] = df5[\"Wins\"]/df5[\"Games_Played\"]\n",
    "        df5[\"Rem_Wins\"] = df5[\"Wins\"].iloc[-1] - df5[\"Wins\"]\n",
    "        df5[\"Rem_Losses\"] = df5[\"Losses\"].iloc[-1] - df5[\"Losses\"]\n",
    "        df5[\"Rem_Games\"] = df5[\"Games_Played\"].iloc[-1] - df5[\"Games_Played\"]\n",
    "        df5[\"Rem_Win_Frac\"] = df5[\"Rem_Wins\"]/df5[\"Rem_Games\"]\n",
    "        rvals = [ \"r\" + val for val in vals]\n",
    "        for val in rvals[2:]:\n",
    "            df5[val] = df5[val].round(3)\n",
    "        df5[\"rORtg\"] = df5[\"rORtg\"].round(2)\n",
    "        df5[\"rDRtg\"] = df5[\"rDRtg\"].round(2)\n",
    "        df5[\"rNRtg\"] = df5[\"rNRtg\"].round(2)\n",
    "        df5[\"Win_Frac\"] = df5[\"Win_Frac\"].round(4)\n",
    "        df5[\"Rem_Win_Frac\"] = df5[\"Rem_Win_Frac\"].round(4)\n",
    "        df5[\"Win_Percent\"]  = 100*df5[\"Win_Frac\"]\n",
    "        df5[\"Rem_Win_Percent\"]  = 100*df5[\"Rem_Win_Frac\"]\n",
    "        df7 = df5.tail(1)\n",
    "        # df5 = df5[(df5[\"Games_Played\"]>min_games) ].reset_index(drop=True)\n",
    "        if remove_games_start > 0:\n",
    "            df5 = df5.iloc[remove_games_start:]\n",
    "        if remove_games_end > 0:\n",
    "            df5 = df5.iloc[:-remove_games_end]\n",
    "        df5 = df5.reset_index(drop=True)\n",
    "        dfa.append(df5)\n",
    "        dfa2.append(df7)\n",
    "    data = pd.concat(dfa)\n",
    "    dataf = pd.concat(dfa2)\n",
    "    data[\"Team\"] = data[\"teamTricode\"]\n",
    "    dataf[\"Team\"] = dataf[\"teamTricode\"]\n",
    "    data = data.rename(columns={\"gameDate\":\"Date\"})\n",
    "    dataf = dataf.rename(columns={\"gameDate\":\"Date\"})\n",
    "\n",
    "    return data,dataf"
   ]
  },
  {
   "cell_type": "code",
   "execution_count": null,
   "metadata": {},
   "outputs": [],
   "source": [
    "season = \"2022\"\n",
    "df1 = pd.read_csv(f\"./boxscores/NBA_BoxScores_Adv_{season}.csv\")\n",
    "df1 = df1.rename(columns = {\"offensiveRating\":\"ORtg\",\"defensiveRating\":\"DRtg\",\"netRating\":\"NRtg\",\"possessions\":\"poss\"})\n",
    "cols = [\"gameId\",\"teamId\",\"ORtg\",\"DRtg\",\"NRtg\",\"poss\"]\n",
    "df1 = df1[cols]\n",
    "df1[\"Win\"]  = df1[\"NRtg\"] >0\n",
    "df1[\"Loss\"]  = df1[\"NRtg\"] <0\n",
    "df2 = pd.read_csv(f\"./boxscores/NBA_BoxScores_Standard_{season}.csv\")\n",
    "df2 = df2.rename(columns={\"GAME_ID\":\"gameId\",\"TEAM_ID\":\"teamId\",\"TEAM_ABBREVIATION\":\"teamTricode\",\"GAME_DATE\":\"gameDate\",\"TEAM_NAME\":\"teamName\"})\n",
    "cols2 = [\"gameId\",\"teamId\",\"teamTricode\",\"gameDate\"]\n",
    "df2 = df2[cols2]\n",
    "df2[\"gameId\"] = df2[\"gameId\"].astype(int)\n",
    "df33 = pd.read_csv(f\"./boxscores/NBA_BoxScores_4Factor_{season}.csv\")\n",
    "df33 = df33.rename(columns={\"effectiveFieldGoalPercentage\":\"eFG1\",\"freeThrowAttemptRate\":\"FTA1\",\"teamTurnoverPercentage\":\"TOV1\",\"offensiveReboundPercentage\":\"OREB1\",\"oppEffectiveFieldGoalPercentage\":\"eFG2\",\"oppFreeThrowAttemptRate\":\"FTA2\",\"oppTeamTurnoverPercentage\":\"TOV2\",\"oppOffensiveReboundPercentage\":\"OREB2\"})\n",
    "cols3 = [\"gameId\",\"teamId\",\"eFG1\",\"FTA1\",\"TOV1\",\"OREB1\",\"eFG2\",\"FTA2\",\"TOV2\",\"OREB2\"]\n",
    "df33 = df33[cols3]\n",
    "df32 = pd.merge(df2,df1,on=[\"gameId\",\"teamId\"])\n",
    "df3 = pd.merge(df32,df33,on=[\"gameId\",\"teamId\"])\n",
    "df4 = df3.sort_values(by=[\"teamTricode\",\"gameDate\"]).reset_index(drop=True)\n",
    "df6 = df3.sort_values(by=[\"gameDate\"]).reset_index(drop=True)\n",
    "teams = df6[\"teamTricode\"].unique()"
   ]
  },
  {
   "cell_type": "code",
   "execution_count": null,
   "metadata": {},
   "outputs": [],
   "source": []
  },
  {
   "cell_type": "code",
   "execution_count": 150,
   "metadata": {},
   "outputs": [],
   "source": [
    "dfa1, dfa2 = [], []\n",
    "for season in range(2010,2023):\n",
    "    df1,df2 = get_rolling_ratings(season,remove_games_start=5) \n",
    "    dfa1.append(df1)\n",
    "    dfa2.append(df2)\n",
    "data = pd.concat(dfa1)\n",
    "data = data[(data[\"Win_Frac\"]>0) & (data[\"Win_Frac\"]<1)].reset_index(drop=True)\n",
    "datafin = pd.concat(dfa2)"
   ]
  },
  {
   "cell_type": "code",
   "execution_count": null,
   "metadata": {},
   "outputs": [],
   "source": [
    "var1 = \"rNRtg\"\n",
    "var2 = \"Win_Percent\"\n",
    "var3 = \"Win_Frac\"\n",
    "slope, intercept, r, p, sterr = scipy.stats.linregress(x=data[var1], y=data[var3])\n",
    "mfit = slope\n",
    "cfit = intercept\n",
    "slope0, intercept0, r0, p0, sterr0 = scipy.stats.linregress(x=datafin[var1], y=datafin[var3])\n",
    "R2 = r**2\n",
    "fig, ax = plt.subplots(1,1)\n",
    "ax.vlines(x=0,ymin=0,ymax=100,color=\"k\",linestyles=\"--\")\n",
    "ax.hlines(y=50,xmin=-15,xmax=15,color=\"k\",linestyles=\"--\")\n",
    "sns.regplot(x = var1, y = var2, data = data,color =\"black\",scatter_kws = {\"color\":\"tab:blue\"} ,ax=ax)\n",
    "sns.scatterplot(x = var1, y = var2, data = datafin, color=\"red\", ax = ax)\n",
    "ax.text(0.05,0.90,r\"$r^2=$\"+f\"{round(R2,4)}\",transform = ax.transAxes)\n",
    "\n",
    "ax.set_title(\"Rolling Net Rating vs Win Percent for 2010-23\",fontsize=14,fontweight=\"bold\")\n",
    "ax.set_xlabel(\"Rolling Net Rating\")\n",
    "ax.set_ylabel(\"Win Percent [%]\")\n",
    "plt.savefig(\"../figs/team_leaders/NET_WinLoss_R2.png\")\n",
    "plt.show()"
   ]
  },
  {
   "cell_type": "code",
   "execution_count": null,
   "metadata": {},
   "outputs": [],
   "source": [
    "\n",
    "data[\"Win_Frac_Pred\"] =  cfit + mfit * data[\"rNRtg\"]\n",
    "data[\"Wins_Pred\"] = data[\"Win_Frac_Pred\"] * data[\"Games_Played\"]\n",
    "data[\"Wins_Pred\"] = data[\"Wins_Pred\"].round().astype(int)\n",
    "data[\"Losses_Pred\"] = data[\"Games_Played\"] - data[\"Wins_Pred\"]"
   ]
  },
  {
   "cell_type": "code",
   "execution_count": null,
   "metadata": {},
   "outputs": [],
   "source": [
    "datafin[\"Win_Frac_Pred\"] =  cfit + mfit * datafin[\"rNRtg\"]\n",
    "datafin[\"Wins_Pred\"] = datafin[\"Win_Frac_Pred\"] * datafin[\"Games_Played\"]\n",
    "datafin[\"Wins_Pred\"] = datafin[\"Wins_Pred\"].round().astype(int)\n",
    "datafin[\"Losses_Pred\"] = datafin[\"Games_Played\"] - datafin[\"Wins_Pred\"]"
   ]
  },
  {
   "cell_type": "code",
   "execution_count": null,
   "metadata": {},
   "outputs": [],
   "source": [
    "# dataf[[\"Games_Played\",\"rNRtg\",\"Wins\",\"Wins_Pred\",\"Losses\",\"Losses_Pred\"]]"
   ]
  },
  {
   "cell_type": "code",
   "execution_count": null,
   "metadata": {},
   "outputs": [],
   "source": [
    "fig, ax = plt.subplots(1,1)\n",
    "var1 = \"Wins\"\n",
    "var2 = \"Wins_Pred\"\n",
    "slope, intercept, r, p, sterr = scipy.stats.linregress(x=datafin[var1], y=datafin[var2])\n",
    "R2 = r**2\n",
    "sns.regplot(x = var1, y = var2, data = datafin,color =\"black\",scatter_kws = {\"color\":\"tab:red\"} ,ax=ax)\n",
    "ax.text(0.05,0.90,r\"$r^2=$\"+f\"{round(R2,4)}\",transform = ax.transAxes)\n",
    "ax.set_title(\"Wins vs Predicted Wins\",fontsize=14,fontweight=\"bold\")\n",
    "ax.set_xlabel(\"Wins\")\n",
    "ax.set_ylabel(\"xWins\")\n",
    "plt.savefig(\"../figs/team_leaders/simple_win_model.png\")\n",
    "plt.show()"
   ]
  },
  {
   "cell_type": "code",
   "execution_count": null,
   "metadata": {},
   "outputs": [],
   "source": [
    "season = \"2023\"\n",
    "dfc,dfcf = get_rolling_ratings(season,min_games = 5) \n",
    "dfcf[\"Win_Frac_Pred\"] =  cfit + mfit * dfcf[\"rNRtg\"]\n",
    "dfcf[\"Wins_Pred\"] = dfcf[\"Win_Frac_Pred\"] * dfcf[\"Games_Played\"]\n",
    "dfcf[\"Wins_Pred\"] = dfcf[\"Wins_Pred\"].round().astype(int)\n",
    "dfcf[\"Losses_Pred\"] = dfcf[\"Games_Played\"] - dfcf[\"Wins_Pred\"]"
   ]
  },
  {
   "cell_type": "code",
   "execution_count": null,
   "metadata": {},
   "outputs": [],
   "source": [
    "# dfcf[[\"Games_Played\",\"rNRtg\",\"Wins\",\"Wins_Pred\",\"Losses\",\"Losses_Pred\"]]"
   ]
  },
  {
   "cell_type": "code",
   "execution_count": null,
   "metadata": {},
   "outputs": [],
   "source": [
    "import seaborn.objects as snso"
   ]
  },
  {
   "cell_type": "code",
   "execution_count": null,
   "metadata": {},
   "outputs": [],
   "source": [
    "dfcf = dfcf.reset_index(drop=True)"
   ]
  },
  {
   "cell_type": "code",
   "execution_count": null,
   "metadata": {},
   "outputs": [],
   "source": [
    "fig, ax = plt.subplots(1,1)\n",
    "var1 = \"Wins\"\n",
    "var2 = \"Wins_Pred\"\n",
    "slope, intercept, r, p, sterr = scipy.stats.linregress(x=dfcf[var1], y=dfcf[var2])\n",
    "R2 = r**2\n",
    "sns.regplot(x = var1, y = var2, data = dfcf,color =\"black\",scatter_kws = {\"color\":\"red\"} ,ax=ax)\n",
    "ax.text(0.05,0.90,r\"$r^2=$\"+f\"{round(R2,4)}\",transform = ax.transAxes)\n",
    "p = snso.Plot(data = dfcf,x=var1,y=var2,text=\"Team\").add(snso.Text(valign=\"bottom\"))\n",
    "p.on(ax).show();\n",
    "ax.set_title(\"Wins vs Predicted Wins 2023-24\",fontsize=14,fontweight=\"bold\")\n",
    "ax.set_xlabel(\"Wins\")\n",
    "ax.set_ylabel(\"xWins\")\n",
    "ax.set_ylim([1,14])\n",
    "fig.savefig(\"../figs/team_leaders/simple_win_model_2023.png\")\n",
    "plt.show()"
   ]
  },
  {
   "cell_type": "markdown",
   "metadata": {},
   "source": [
    "## Modeling Remaining Wins"
   ]
  },
  {
   "cell_type": "code",
   "execution_count": null,
   "metadata": {},
   "outputs": [],
   "source": [
    "dfa1, dfa2 = [], []\n",
    "for season in range(2010,2023):\n",
    "    df1,df2 = get_rolling_ratings(season,remove_games_start = 5,remove_games_end = 5) \n",
    "    dfa1.append(df1)\n",
    "    dfa2.append(df2)\n",
    "data = pd.concat(dfa1)\n",
    "data = data.dropna()\n",
    "data = data[(data[\"Rem_Win_Frac\"]>0) & (data[\"Rem_Win_Frac\"]<1)].reset_index(drop=True)\n",
    "datafin = pd.concat(dfa2)"
   ]
  },
  {
   "cell_type": "code",
   "execution_count": null,
   "metadata": {},
   "outputs": [],
   "source": [
    "len(data)"
   ]
  },
  {
   "cell_type": "code",
   "execution_count": null,
   "metadata": {},
   "outputs": [],
   "source": [
    "data.columns"
   ]
  },
  {
   "cell_type": "code",
   "execution_count": null,
   "metadata": {},
   "outputs": [],
   "source": [
    "var1 = \"rNRtg\"\n",
    "var2 = \"Rem_Win_Percent\"\n",
    "var3 = \"Rem_Win_Frac\"\n",
    "slope, intercept, r, p, sterr = scipy.stats.linregress(x=data[var1], y=data[var3])\n",
    "mfit = slope\n",
    "cfit = intercept\n",
    "slope0, intercept0, r0, p0, sterr0 = scipy.stats.linregress(x=datafin[var1], y=datafin[var3])\n",
    "R2 = r**2\n",
    "fig, ax = plt.subplots(1,1)\n",
    "ax.vlines(x=0,ymin=0,ymax=100,color=\"k\",linestyles=\"--\")\n",
    "ax.hlines(y=50,xmin=-15,xmax=15,color=\"k\",linestyles=\"--\")\n",
    "sns.regplot(x = var1, y = var2, data = data,color =\"black\",scatter_kws = {\"color\":\"tab:blue\"} ,ax=ax)\n",
    "sns.scatterplot(x = var1, y = var2, data = datafin, color=\"red\", ax = ax)\n",
    "ax.text(0.05,0.90,r\"$r^2=$\"+f\"{round(R2,4)}\",transform = ax.transAxes)\n",
    "\n",
    "ax.set_title(\"Rolling Net Rating vs Remaining Win Percent for 2010-23\",fontsize=14,fontweight=\"bold\")\n",
    "ax.set_xlabel(\"Rolling Net Rating\")\n",
    "ax.set_ylabel(\"Remaining Win Percent [%]\")\n",
    "plt.savefig(\"../figs/team_leaders/NET_Rem_WinLoss_R2.png\",dpi=300)\n",
    "plt.show()"
   ]
  },
  {
   "cell_type": "code",
   "execution_count": null,
   "metadata": {},
   "outputs": [],
   "source": [
    "asdsad"
   ]
  },
  {
   "cell_type": "code",
   "execution_count": 152,
   "metadata": {},
   "outputs": [],
   "source": [
    "dfa1, dfa2 = [], []\n",
    "for season in range(2010,2023):\n",
    "    df1,df2 = get_rolling_ratings(season,remove_games_start = 0,remove_games_end = 0) \n",
    "    dfa1.append(df1)\n",
    "    dfa2.append(df2)\n",
    "data = pd.concat(dfa1)\n",
    "data = data.dropna()\n",
    "# data = data[(data[\"Rem_Win_Frac\"]>0) & (data[\"Rem_Win_Frac\"]<1)].reset_index(drop=True)\n",
    "datafin = pd.concat(dfa2)"
   ]
  },
  {
   "cell_type": "code",
   "execution_count": null,
   "metadata": {},
   "outputs": [],
   "source": [
    "X_t = data_t[['eFG1', 'TOV1', 'OREB1', 'FTA1', 'eFG2',\n",
    "       'TOV2', 'OREB2', 'FTA2']].to_numpy()\n",
    "\n",
    "y_t = data_t[\"NRtg\"].to_numpy()\n"
   ]
  },
  {
   "cell_type": "code",
   "execution_count": null,
   "metadata": {},
   "outputs": [],
   "source": [
    "reg = LinearRegression(fit_intercept=False)\n",
    "# reg = RidgeCV(alphas=alphas, cv=10, fit_intercept=False)\n",
    "model = reg.fit(X_t,y_t)\n",
    "y_pf = reg.predict(X_p)\n",
    "coef = model.coef_ \n",
    "print(model.coef_)\n",
    "# print(model.alpha_)"
   ]
  }
 ],
 "metadata": {
  "kernelspec": {
   "display_name": "nba-ub9Z_EQq-py3.11",
   "language": "python",
   "name": "python3"
  },
  "language_info": {
   "codemirror_mode": {
    "name": "ipython",
    "version": 3
   },
   "file_extension": ".py",
   "mimetype": "text/x-python",
   "name": "python",
   "nbconvert_exporter": "python",
   "pygments_lexer": "ipython3",
   "version": "3.11.6"
  }
 },
 "nbformat": 4,
 "nbformat_minor": 2
}
