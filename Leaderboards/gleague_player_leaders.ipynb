{
 "cells": [
  {
   "cell_type": "code",
   "execution_count": null,
   "metadata": {},
   "outputs": [],
   "source": [
    "import os, sys\n",
    "\n",
    "sys.path.append(os.path.dirname(os.path.dirname(os.path.abspath(\"__file__\"))))\n",
    "from nbafuns import *\n",
    "\n",
    "fig_DIR = \"../figs/players/\"\n",
    "\n",
    "export_DIR = \"../../repos/csv/\""
   ]
  },
  {
   "cell_type": "code",
   "execution_count": null,
   "metadata": {},
   "outputs": [],
   "source": [
    "def get_df(stats):\n",
    "    df = stats.get_data_frames()[0]\n",
    "    # df = df[df[\"MIN\"] >= 15]\n",
    "    df = df.rename(columns={\"PLAYER_NAME\":\"Player\",\"TEAM_ABBREVIATION\":\"Team\"})\n",
    "    cols = df.columns\n",
    "    df.columns = cols.str.replace(\"RATING\", \"RTG\")\n",
    "    df.columns = map(str.lower,df.columns)\n",
    "    return df"
   ]
  },
  {
   "cell_type": "code",
   "execution_count": null,
   "metadata": {},
   "outputs": [],
   "source": [
    "stats = leaguedashplayerstats.LeagueDashPlayerStats(\n",
    "    measure_type_detailed_defense=\"Base\", per_mode_detailed=\"Totals\",\n",
    "    league_id_nullable=\"20\",season=\"2024-25\",season_type_all_star=\"Showcase\"\n",
    ")\n",
    "df1 = get_df(stats)"
   ]
  },
  {
   "cell_type": "code",
   "execution_count": null,
   "metadata": {},
   "outputs": [],
   "source": [
    "stats = leaguedashplayerstats.LeagueDashPlayerStats(\n",
    "    measure_type_detailed_defense=\"Base\", per_mode_detailed=\"Totals\",\n",
    "    league_id_nullable=\"20\",season=\"2024-25\",season_type_all_star=\"Regular Season\"\n",
    ")\n",
    "df2 = get_df(stats)"
   ]
  },
  {
   "cell_type": "code",
   "execution_count": null,
   "metadata": {},
   "outputs": [],
   "source": [
    "df11 = df1.iloc[:,:32]\n",
    "df11[\"segment\"] = \"show\"\n",
    "df21 = df2.iloc[:,:32]\n",
    "df21[\"segment\"] = \"regular\""
   ]
  },
  {
   "cell_type": "code",
   "execution_count": null,
   "metadata": {},
   "outputs": [],
   "source": [
    "df3 = pd.concat([df21,df11])"
   ]
  },
  {
   "cell_type": "code",
   "execution_count": null,
   "metadata": {},
   "outputs": [],
   "source": [
    "df3.columns"
   ]
  },
  {
   "cell_type": "code",
   "execution_count": null,
   "metadata": {},
   "outputs": [],
   "source": [
    "df3g = df3.groupby(['player_id', 'player', 'nickname', 'team_id','age',])\n",
    "keys = list(df3g.groups)\n"
   ]
  },
  {
   "cell_type": "code",
   "execution_count": null,
   "metadata": {},
   "outputs": [],
   "source": [
    "dfa = []\n",
    "for key in tqdm(keys):\n",
    "    df4 = df3g.get_group(key).reset_index(drop=True)\n",
    "    df4.index +=1\n",
    "    df4.loc[0] = df4.loc[1]\n",
    "    df4.iloc[-1,6:-1] = df4.iloc[:2,6:-1].sum()\n",
    "    df4.iloc[-1,-1] = \"comb\"\n",
    "    df4[\"w_pct\"] = round(df4[\"w\"]/(df4[\"gp\"]),3)\n",
    "    df4[\"fg_pct\"] = round(df4[\"fgm\"]/df4[\"fga\"],3)\n",
    "    df4[\"fg3_pct\"] = round(df4[\"fg3m\"]/df4[\"fg3a\"],3)\n",
    "    df4[\"ft_pct\"] = round(df4[\"ftm\"]/df4[\"fta\"],3)\n",
    "    dfa.append(df4.tail(1))\n",
    "df5 = pd.concat(dfa)"
   ]
  },
  {
   "cell_type": "code",
   "execution_count": null,
   "metadata": {},
   "outputs": [],
   "source": [
    "df6 = df5.reset_index(drop=True)\n",
    "df6.iloc[:,10:-1]  = round(df6.iloc[:,10:-1].div(df6.gp,axis=0),2)\n",
    "df6[\"w_pct\"] = round(df6[\"w\"]/(df6[\"gp\"]),3)\n",
    "df6[\"fg_pct\"] = round(df6[\"fgm\"]/df6[\"fga\"],3)\n",
    "df6[\"fg3_pct\"] = round(df6[\"fg3m\"]/df6[\"fg3a\"],3)\n",
    "df6[\"ft_pct\"] = round(df6[\"ftm\"]/df6[\"fta\"],3)\n",
    "df6 = df6.drop(columns=[\"segment\"])\n",
    "df6 = df6.sort_values(\"pts\",ascending=False).reset_index(drop=True)\n",
    "df6 = df6.reset_index(drop=True)\n",
    "df6.index +=1"
   ]
  },
  {
   "cell_type": "code",
   "execution_count": null,
   "metadata": {},
   "outputs": [],
   "source": [
    "df6.to_csv(export_DIR + \"GLeague_Box_P_Base_Cum_2024.csv\")"
   ]
  },
  {
   "cell_type": "code",
   "execution_count": null,
   "metadata": {},
   "outputs": [],
   "source": []
  }
 ],
 "metadata": {
  "kernelspec": {
   "display_name": "dav-ub9Z_EQq-py3.12",
   "language": "python",
   "name": "python3"
  },
  "language_info": {
   "codemirror_mode": {
    "name": "ipython",
    "version": 3
   },
   "file_extension": ".py",
   "mimetype": "text/x-python",
   "name": "python",
   "nbconvert_exporter": "python",
   "pygments_lexer": "ipython3",
   "version": "3.12.0"
  }
 },
 "nbformat": 4,
 "nbformat_minor": 2
}
