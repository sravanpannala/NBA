{
 "cells": [
  {
   "cell_type": "code",
   "execution_count": 62,
   "metadata": {},
   "outputs": [],
   "source": [
    "import os, sys\n",
    "\n",
    "sys.path.append(os.path.dirname(os.path.dirname(os.path.abspath(\"__file__\"))))\n",
    "from nbafuns import *\n",
    "from nba_api.stats.endpoints import leaguedashplayerstats\n",
    "\n",
    "bbref_DIR = \"../data/bbref/\"\n",
    "darko_DIR = \"../data/all_in_one_metrics/\"\n",
    "box_DIR = \"../data/box/\"\n",
    "fig_DIR = \"../figs/player_analysis/\""
   ]
  },
  {
   "cell_type": "code",
   "execution_count": 44,
   "metadata": {},
   "outputs": [],
   "source": [
    "dfp = pd.read_csv(\"../data/NBA_players_database.csv\")"
   ]
  },
  {
   "cell_type": "code",
   "execution_count": 85,
   "metadata": {},
   "outputs": [],
   "source": [
    "dfa = []\n",
    "for year in range(1996,2024):\n",
    "    pID = dfp.query(f\"From == {year}\")[\"pID\"].to_list()\n",
    "    df1 = pd.read_parquet(bbref_DIR + f\"NBA_bbref_P_Adv_{year}.parquet\")\n",
    "    df2 = df1[df1[\"idPlayerNBA\"].isin(pID)][[\"idPlayerNBA\",\"namePlayer\",\"yearSeason\",\"minutes\",\"ratioBPM\",\"ratioWSPer48\"]]\n",
    "    df2 = df2.reset_index(drop=True)\n",
    "    cols = [\"idPlayerNBA\",\"dpm\",\"season\"]\n",
    "    df3 = pd.read_parquet(darko_DIR + \"NBA_DARKO_History.parquet\",columns=cols)\n",
    "    df3 = df3.rename(columns={\"season\":\"yearSeason\"})\n",
    "    df4 = pd.merge(df2,df3,on=[\"idPlayerNBA\",\"yearSeason\"])\n",
    "    dfa.append(df4)\n",
    "df = pd.concat(dfa)"
   ]
  },
  {
   "cell_type": "code",
   "execution_count": 89,
   "metadata": {},
   "outputs": [],
   "source": [
    "dfe = df.query(\"minutes > 500\").sort_values(\"ratioBPM\",ascending=False).reset_index(drop=True)"
   ]
  },
  {
   "cell_type": "code",
   "execution_count": 91,
   "metadata": {},
   "outputs": [],
   "source": [
    "dfe.to_csv(\"../data/misc/top_rookie_seasons.csv\")"
   ]
  }
 ],
 "metadata": {
  "kernelspec": {
   "display_name": "nba-ub9Z_EQq-py3.11",
   "language": "python",
   "name": "python3"
  },
  "language_info": {
   "codemirror_mode": {
    "name": "ipython",
    "version": 3
   },
   "file_extension": ".py",
   "mimetype": "text/x-python",
   "name": "python",
   "nbconvert_exporter": "python",
   "pygments_lexer": "ipython3",
   "version": "3.11.6"
  }
 },
 "nbformat": 4,
 "nbformat_minor": 2
}
