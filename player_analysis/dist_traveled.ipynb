{
 "cells": [
  {
   "cell_type": "code",
   "execution_count": null,
   "metadata": {},
   "outputs": [],
   "source": [
    "import os, sys\n",
    "\n",
    "sys.path.append(os.path.dirname(os.path.dirname(os.path.abspath(\"__file__\"))))\n",
    "from nbafuns import *\n",
    "from nba_api.stats.endpoints import leaguedashplayerstats\n",
    "\n",
    "data_DIR = \"../data/box/\"\n",
    "fig_DIR = \"../figs/player_analysis/\""
   ]
  },
  {
   "cell_type": "code",
   "execution_count": null,
   "metadata": {},
   "outputs": [],
   "source": [
    "dfa = []\n",
    "for year in range(2013,2024):\n",
    "    df1 = pd.read_parquet(data_DIR + f\"NBA_Box_P_Track_{year}.parquet\")\n",
    "    df1 = df1.query(\"distance > 0\").reset_index(drop=True)\n",
    "    df2 = df1.groupby([\"gameId\",\"teamName\"]).agg({\"speed\":[\"mean\"],\"distance\":[\"sum\"]}).round(2)\n",
    "    df3 = pd.DataFrame(df2.mean()).T.reset_index().round(2)\n",
    "    df3[\"index\"]=year +1\n",
    "    df3.columns = [\"season\",\"speed\",\"distance\"]\n",
    "    dfa.append(df3)\n",
    "df = pd.concat(dfa)"
   ]
  },
  {
   "cell_type": "code",
   "execution_count": null,
   "metadata": {},
   "outputs": [],
   "source": [
    "from plotnine import theme_xkcd"
   ]
  },
  {
   "cell_type": "code",
   "execution_count": null,
   "metadata": {},
   "outputs": [],
   "source": [
    "p = (\n",
    "    ggplot(df)\n",
    "    + aes(x=\"season\",y=\"distance\")\n",
    "    + geom_line(group=1,size=1.5)\n",
    "    + theme_xkcd()\n",
    "    + theme(\n",
    "        plot_title=element_text(size=18)\n",
    "    )\n",
    "    + labs(\n",
    "        title = \"Distance covered by a team during a game\",\n",
    "        y = \"Distance (miles)\",\n",
    "        x = \"Season\",\n",
    "        caption = \"@SravanNBA | source: nba.com/stats\",\n",
    "    )\n",
    ")\n",
    "p.save(fig_DIR +\"distance.png\")\n",
    "p"
   ]
  },
  {
   "cell_type": "code",
   "execution_count": null,
   "metadata": {},
   "outputs": [],
   "source": [
    "p = (\n",
    "    ggplot(df)\n",
    "    + aes(x=\"season\",y=\"speed\")\n",
    "    + geom_line(group=1,size=1.5)\n",
    "    + theme_xkcd()\n",
    "    + theme(\n",
    "        plot_title=element_text(size=18)\n",
    "    )\n",
    "    + labs(\n",
    "        title = \"Average Speed of Players during a game\",\n",
    "        y = \"Speed (miles per hour)\",\n",
    "        x = \"Season\",\n",
    "        caption = \"@SravanNBA | source: nba.com/stats\",\n",
    "    )\n",
    ")\n",
    "p.save(fig_DIR +\"speed.png\")\n",
    "p"
   ]
  }
 ],
 "metadata": {
  "kernelspec": {
   "display_name": "nba-ub9Z_EQq-py3.11",
   "language": "python",
   "name": "python3"
  },
  "language_info": {
   "codemirror_mode": {
    "name": "ipython",
    "version": 3
   },
   "file_extension": ".py",
   "mimetype": "text/x-python",
   "name": "python",
   "nbconvert_exporter": "python",
   "pygments_lexer": "ipython3",
   "version": "3.11.6"
  }
 },
 "nbformat": 4,
 "nbformat_minor": 2
}
