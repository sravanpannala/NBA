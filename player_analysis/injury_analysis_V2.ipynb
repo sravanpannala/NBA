{
 "cells": [
  {
   "cell_type": "code",
   "execution_count": null,
   "metadata": {},
   "outputs": [],
   "source": [
    "import os, sys\n",
    "\n",
    "sys.path.append(os.path.dirname(os.path.dirname(os.path.abspath(\"__file__\"))))\n",
    "from nbafuns import *\n",
    "\n",
    "data_DIR = \"../data/injuries/\"\n",
    "fig_DIR = \"../figs/players/\"\n",
    "img_DIR_P = \"../data/images/players/\""
   ]
  },
  {
   "cell_type": "code",
   "execution_count": null,
   "metadata": {},
   "outputs": [],
   "source": [
    "df1 = []\n",
    "for season in range(2015,2025):\n",
    "    df0 = pd.read_parquet(data_DIR + f\"NBA_prosptran_injuries_{season}.parquet\")\n",
    "    df0[\"season\"] = season + 1\n",
    "    df1.append(df0)\n",
    "df1 = pd.concat(df1)"
   ]
  },
  {
   "cell_type": "code",
   "execution_count": null,
   "metadata": {},
   "outputs": [],
   "source": [
    "df1 = []\n",
    "for season in range(2000,2025):\n",
    "    df0 = pd.read_parquet(data_DIR + f\"NBA_prosptran_injuries_{season}.parquet\")\n",
    "    df0[\"season\"] = season + 1\n",
    "    df01 = df0\n",
    "    df01 = df0[(df0[\"Notes\"].str.contains(\"clot\", case=False))]\n",
    "    # df01 = df01[(df01[\"Notes\"].str.contains(\"torn\", case=False)) | (df01[\"Notes\"].str.contains(\"ruptured\", case=False))] \n",
    "    # df01 = df01[~(df01[\"Notes\"].str.contains(\"sore\", case=False))]\n",
    "    # df01 = df01[~(df01[\"Notes\"].str.contains(\"dtd\", case=False))]\n",
    "    # df01 = df01[~(df01[\"Notes\"].str.contains(\"strained\", case=False))]\n",
    "    # df01 = df01[~(df01[\"Notes\"].str.contains(\"surgery\", case=False))]\n",
    "    # df01 = df01[~(df01[\"Notes\"].str.contains(\"recovering\", case=False))]\n",
    "    df1.append(df01)\n",
    "df1 = pd.concat(df1)"
   ]
  },
  {
   "cell_type": "code",
   "execution_count": null,
   "metadata": {},
   "outputs": [],
   "source": [
    "df2 = df1[[\"Date\",\"Team\",\"Player\"]].reset_index(drop=True)"
   ]
  },
  {
   "cell_type": "code",
   "execution_count": null,
   "metadata": {},
   "outputs": [],
   "source": [
    "df2g = df2.groupby(\"Player\")\n",
    "df3 = df2g.nth(0).reset_index(drop=True)\n",
    "df3.index+=1"
   ]
  },
  {
   "cell_type": "code",
   "execution_count": null,
   "metadata": {},
   "outputs": [],
   "source": [
    "df3"
   ]
  },
  {
   "cell_type": "code",
   "execution_count": null,
   "metadata": {},
   "outputs": [],
   "source": [
    "# df2 = df1.iloc[3:7].reset_index(drop=True)\n",
    "# df2.index+=1\n",
    "# df2"
   ]
  },
  {
   "cell_type": "code",
   "execution_count": null,
   "metadata": {},
   "outputs": [],
   "source": [
    "df1.query(\"Player == 'Brandon Ingram'\")"
   ]
  }
 ],
 "metadata": {
  "kernelspec": {
   "display_name": "dav-ub9Z_EQq-py3.12",
   "language": "python",
   "name": "python3"
  },
  "language_info": {
   "codemirror_mode": {
    "name": "ipython",
    "version": 3
   },
   "file_extension": ".py",
   "mimetype": "text/x-python",
   "name": "python",
   "nbconvert_exporter": "python",
   "pygments_lexer": "ipython3",
   "version": "3.12.0"
  }
 },
 "nbformat": 4,
 "nbformat_minor": 2
}
