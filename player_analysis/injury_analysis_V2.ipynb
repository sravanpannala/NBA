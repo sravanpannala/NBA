{
 "cells": [
  {
   "cell_type": "code",
   "execution_count": 1,
   "metadata": {},
   "outputs": [],
   "source": [
    "import os, sys\n",
    "\n",
    "sys.path.append(os.path.dirname(os.path.dirname(os.path.abspath(\"__file__\"))))\n",
    "from nbafuns import *\n",
    "\n",
    "data_DIR = \"../data/injuries/\"\n",
    "fig_DIR = \"../figs/players/\"\n",
    "img_DIR_P = \"../data/images/players/\""
   ]
  },
  {
   "cell_type": "code",
   "execution_count": 2,
   "metadata": {},
   "outputs": [],
   "source": [
    "df1 = []\n",
    "for season in range(2015,2025):\n",
    "    df0 = pd.read_parquet(data_DIR + f\"NBA_prosptran_injuries_{season}.parquet\")\n",
    "    df0[\"season\"] = season + 1\n",
    "    df1.append(df0)\n",
    "df1 = pd.concat(df1)"
   ]
  },
  {
   "cell_type": "code",
   "execution_count": 4,
   "metadata": {},
   "outputs": [
    {
     "data": {
      "application/vnd.microsoft.datawrangler.viewer.v0+json": {
       "columns": [
        {
         "name": "index",
         "rawType": "int64",
         "type": "integer"
        },
        {
         "name": "Date",
         "rawType": "datetime64[ns]",
         "type": "datetime"
        },
        {
         "name": "Team",
         "rawType": "object",
         "type": "string"
        },
        {
         "name": "playerID",
         "rawType": "int32",
         "type": "integer"
        },
        {
         "name": "Player",
         "rawType": "object",
         "type": "string"
        },
        {
         "name": "In",
         "rawType": "bool",
         "type": "boolean"
        },
        {
         "name": "Out",
         "rawType": "bool",
         "type": "boolean"
        },
        {
         "name": "Notes",
         "rawType": "object",
         "type": "string"
        },
        {
         "name": "season",
         "rawType": "int64",
         "type": "integer"
        }
       ],
       "conversionMethod": "pd.DataFrame",
       "ref": "fc3cb837-4b39-4481-8f45-2df622808687",
       "rows": [
        [
         "806",
         "2024-12-14 00:00:00",
         "76ers",
         "1642272",
         "Jared McCain",
         "False",
         "True",
         "surgery on left knee (out indefinitely)",
         "2025"
        ]
       ],
       "shape": {
        "columns": 8,
        "rows": 1
       }
      },
      "text/html": [
       "<div>\n",
       "<style scoped>\n",
       "    .dataframe tbody tr th:only-of-type {\n",
       "        vertical-align: middle;\n",
       "    }\n",
       "\n",
       "    .dataframe tbody tr th {\n",
       "        vertical-align: top;\n",
       "    }\n",
       "\n",
       "    .dataframe thead th {\n",
       "        text-align: right;\n",
       "    }\n",
       "</style>\n",
       "<table border=\"1\" class=\"dataframe\">\n",
       "  <thead>\n",
       "    <tr style=\"text-align: right;\">\n",
       "      <th></th>\n",
       "      <th>Date</th>\n",
       "      <th>Team</th>\n",
       "      <th>playerID</th>\n",
       "      <th>Player</th>\n",
       "      <th>In</th>\n",
       "      <th>Out</th>\n",
       "      <th>Notes</th>\n",
       "      <th>season</th>\n",
       "    </tr>\n",
       "  </thead>\n",
       "  <tbody>\n",
       "    <tr>\n",
       "      <th>806</th>\n",
       "      <td>2024-12-14</td>\n",
       "      <td>76ers</td>\n",
       "      <td>1642272</td>\n",
       "      <td>Jared McCain</td>\n",
       "      <td>False</td>\n",
       "      <td>True</td>\n",
       "      <td>surgery on left knee (out indefinitely)</td>\n",
       "      <td>2025</td>\n",
       "    </tr>\n",
       "  </tbody>\n",
       "</table>\n",
       "</div>"
      ],
      "text/plain": [
       "          Date   Team  playerID        Player     In   Out  \\\n",
       "806 2024-12-14  76ers   1642272  Jared McCain  False  True   \n",
       "\n",
       "                                       Notes  season  \n",
       "806  surgery on left knee (out indefinitely)    2025  "
      ]
     },
     "execution_count": 4,
     "metadata": {},
     "output_type": "execute_result"
    }
   ],
   "source": [
    "df1.query(\"Player == 'Jared McCain'\")"
   ]
  },
  {
   "cell_type": "code",
   "execution_count": null,
   "metadata": {},
   "outputs": [],
   "source": [
    "df1 = []\n",
    "for season in range(2000,2025):\n",
    "    df0 = pd.read_parquet(data_DIR + f\"NBA_prosptran_injuries_{season}.parquet\")\n",
    "    df0[\"season\"] = season + 1\n",
    "    df01 = df0\n",
    "    df01 = df0[(df0[\"Notes\"].str.contains(\"clot\", case=False))]\n",
    "    # df01 = df01[(df01[\"Notes\"].str.contains(\"torn\", case=False)) | (df01[\"Notes\"].str.contains(\"ruptured\", case=False))] \n",
    "    # df01 = df01[~(df01[\"Notes\"].str.contains(\"sore\", case=False))]\n",
    "    # df01 = df01[~(df01[\"Notes\"].str.contains(\"dtd\", case=False))]\n",
    "    # df01 = df01[~(df01[\"Notes\"].str.contains(\"strained\", case=False))]\n",
    "    # df01 = df01[~(df01[\"Notes\"].str.contains(\"surgery\", case=False))]\n",
    "    # df01 = df01[~(df01[\"Notes\"].str.contains(\"recovering\", case=False))]\n",
    "    df1.append(df01)\n",
    "df1 = pd.concat(df1)"
   ]
  },
  {
   "cell_type": "code",
   "execution_count": null,
   "metadata": {},
   "outputs": [],
   "source": [
    "df2 = df1[[\"Date\",\"Team\",\"Player\"]].reset_index(drop=True)"
   ]
  },
  {
   "cell_type": "code",
   "execution_count": null,
   "metadata": {},
   "outputs": [],
   "source": [
    "df2g = df2.groupby(\"Player\")\n",
    "df3 = df2g.nth(0).reset_index(drop=True)\n",
    "df3.index+=1"
   ]
  },
  {
   "cell_type": "code",
   "execution_count": null,
   "metadata": {},
   "outputs": [],
   "source": [
    "df3"
   ]
  },
  {
   "cell_type": "code",
   "execution_count": null,
   "metadata": {},
   "outputs": [],
   "source": [
    "# df2 = df1.iloc[3:7].reset_index(drop=True)\n",
    "# df2.index+=1\n",
    "# df2"
   ]
  },
  {
   "cell_type": "code",
   "execution_count": null,
   "metadata": {},
   "outputs": [],
   "source": [
    "df1.query(\"Player == 'Brandon Ingram'\")"
   ]
  }
 ],
 "metadata": {
  "kernelspec": {
   "display_name": "dav-ub9Z_EQq-py3.12",
   "language": "python",
   "name": "python3"
  },
  "language_info": {
   "codemirror_mode": {
    "name": "ipython",
    "version": 3
   },
   "file_extension": ".py",
   "mimetype": "text/x-python",
   "name": "python",
   "nbconvert_exporter": "python",
   "pygments_lexer": "ipython3",
   "version": "3.12.0"
  }
 },
 "nbformat": 4,
 "nbformat_minor": 2
}
