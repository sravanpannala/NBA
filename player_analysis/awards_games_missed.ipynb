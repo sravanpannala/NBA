{
 "cells": [
  {
   "cell_type": "code",
   "execution_count": null,
   "metadata": {},
   "outputs": [],
   "source": [
    "import os, sys\n",
    "\n",
    "sys.path.append(os.path.dirname(os.path.dirname(os.path.abspath(\"__file__\"))))\n",
    "from nbafuns import *\n",
    "from nba_api.stats.endpoints import leaguedashteamstats\n",
    "\n",
    "player_dict = get_players_pbp()\n",
    "teams_dict, teams_list = get_teams()"
   ]
  },
  {
   "cell_type": "code",
   "execution_count": null,
   "metadata": {},
   "outputs": [],
   "source": [
    "box_DIR = \"../data/box/\""
   ]
  },
  {
   "cell_type": "code",
   "execution_count": null,
   "metadata": {},
   "outputs": [],
   "source": [
    "year = 2023\n",
    "cols = ['gameId', 'teamId', 'teamName',\"personId\",\"firstName\",\"familyName\",'minutes']\n",
    "# df0 = pd.read_parquet(box_DIR +f\"NBA_Box_P_Adv_{year}\"+\".parquet\")\n",
    "df0 = pd.read_parquet(box_DIR +f\"NBA_Box_P_Adv_{year}\"+\".parquet\",columns=cols)\n",
    "df0[\"playerName\"] = df0[\"firstName\"] + \" \" + df0[\"familyName\"]\n",
    "df0[\"minutes\"] = df0[\"minutes\"].replace(\"\",\"00:00\")\n",
    "df0[[\"mins\",\"secs\"]] = df0[\"minutes\"].str.split(\":\",expand=True)\n",
    "df0[\"mins\"] = df0[\"mins\"].astype(int)\n",
    "df0[\"secs\"] = df0[\"secs\"].astype(int)"
   ]
  },
  {
   "cell_type": "code",
   "execution_count": null,
   "metadata": {},
   "outputs": [],
   "source": [
    "cols = [\"GAME_ID\",\"TEAM_ID\"]\n",
    "df1 = pd.read_parquet(box_DIR +f\"NBA_Box_T_Base_{year}\"+\".parquet\",columns=cols)\n",
    "df1 = df1.rename(columns={\"GAME_ID\":\"gameId\",\"TEAM_ID\":\"teamId\"})\n",
    "df1[\"gameId\"] = df1[\"gameId\"].astype(int)"
   ]
  },
  {
   "cell_type": "code",
   "execution_count": null,
   "metadata": {},
   "outputs": [],
   "source": [
    "df2 = pd.merge(df0,df1,on=[\"gameId\",\"teamId\"])"
   ]
  },
  {
   "cell_type": "code",
   "execution_count": null,
   "metadata": {},
   "outputs": [],
   "source": [
    "df2.query('familyName ==  \"Quickley\"')"
   ]
  },
  {
   "cell_type": "code",
   "execution_count": null,
   "metadata": {},
   "outputs": [],
   "source": [
    "df31 = pd.DataFrame(df2.query(\"mins >=20\").groupby([\"personId\",\"playerName\"])[\"gameId\"].count())\n",
    "df31 = df31.reset_index()\n",
    "df31 = df31.rename(columns={\"gameId\":\"M20\"})"
   ]
  },
  {
   "cell_type": "code",
   "execution_count": null,
   "metadata": {},
   "outputs": [],
   "source": [
    "df32 = pd.DataFrame(df2.query(\"mins >=15\").query(\"mins <20\").groupby([\"personId\",\"playerName\"])[\"gameId\"].count())\n",
    "df32 = df32.reset_index()\n",
    "df32 = df32.rename(columns={\"gameId\":\"B1520\"})"
   ]
  },
  {
   "cell_type": "code",
   "execution_count": null,
   "metadata": {},
   "outputs": [],
   "source": [
    "df3 = pd.merge(df31,df32)"
   ]
  },
  {
   "cell_type": "code",
   "execution_count": null,
   "metadata": {},
   "outputs": [],
   "source": [
    "cols = [\"PLAYER_ID\",\"TEAM_ID\",\"PLAYER_NAME\",\"GP\"]\n",
    "df4 = pd.read_parquet(box_DIR +f\"NBA_Box_P_Cum_Base_{year}\"+\".parquet\")\n",
    "# df4 = pd.read_parquet(box_DIR +f\"NBA_Box_P_Cum_Base_{year}\"+\".parquet\",columns=cols)\n",
    "df4 = df4.rename(columns={\"PLAYER_ID\":\"personId\",\"TEAM_ID\":\"teamId\"})"
   ]
  },
  {
   "cell_type": "code",
   "execution_count": null,
   "metadata": {},
   "outputs": [],
   "source": [
    "df41 = df4.sort_values('PLAYER_NAME')"
   ]
  },
  {
   "cell_type": "code",
   "execution_count": null,
   "metadata": {},
   "outputs": [],
   "source": [
    "df5 = pd.read_parquet(box_DIR +f\"NBA_Box_T_Base_{year}\"+\".parquet\")"
   ]
  },
  {
   "cell_type": "code",
   "execution_count": null,
   "metadata": {},
   "outputs": [],
   "source": [
    "season = str(year) + \"-\" + str(year + 1)[-2:]\n",
    "stats = leaguedashteamstats.LeagueDashTeamStats(per_mode_detailed=\"PerGame\", season_type_all_star=\"Regular Season\", season = season)\n",
    "df5 = stats.get_data_frames()[0]\n",
    "df5 = df5.rename(columns={\"TEAM_ID\":\"teamId\"})\n",
    "df5 = df5[[\"teamId\",\"GP\"]]"
   ]
  },
  {
   "cell_type": "code",
   "execution_count": null,
   "metadata": {},
   "outputs": [],
   "source": [
    "df6 = pd.merge(df4,df5,on=[\"teamId\"])"
   ]
  },
  {
   "cell_type": "code",
   "execution_count": null,
   "metadata": {},
   "outputs": [],
   "source": [
    "df6[\"GP_D\"] = df6[\"GP_y\"] - df6[\"GP_x\"]"
   ]
  },
  {
   "cell_type": "code",
   "execution_count": null,
   "metadata": {},
   "outputs": [],
   "source": [
    "df6.query('PLAYER_NAME ==  \"RJ Barrett\"')"
   ]
  },
  {
   "cell_type": "code",
   "execution_count": null,
   "metadata": {},
   "outputs": [],
   "source": [
    "df7 = pd.merge(df3,df6,on=)"
   ]
  }
 ],
 "metadata": {
  "kernelspec": {
   "display_name": "nba-ub9Z_EQq-py3.11",
   "language": "python",
   "name": "python3"
  },
  "language_info": {
   "codemirror_mode": {
    "name": "ipython",
    "version": 3
   },
   "file_extension": ".py",
   "mimetype": "text/x-python",
   "name": "python",
   "nbconvert_exporter": "python",
   "pygments_lexer": "ipython3",
   "version": "3.11.6"
  }
 },
 "nbformat": 4,
 "nbformat_minor": 2
}
