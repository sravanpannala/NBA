{
 "cells": [
  {
   "cell_type": "code",
   "execution_count": null,
   "metadata": {
    "metadata": {}
   },
   "outputs": [],
   "source": [
    "import os, sys\n",
    "\n",
    "sys.path.append(os.path.dirname(os.path.dirname(os.path.abspath(\"__file__\"))))\n",
    "from nbafuns import *\n",
    "from nba_api.stats.endpoints import leaguedashptdefend, leaguedashptstats\n",
    "from great_tables import GT, md, html\n",
    "\n",
    "\n",
    "player_dict = get_players_pbp()\n",
    "teams_dict, teams_list = get_teams()\n",
    "\n",
    "box_DIR = \"../data/box/\"\n",
    "img_DIR_P = \"../data/images/players/\"\n"
   ]
  },
  {
   "cell_type": "code",
   "execution_count": null,
   "metadata": {
    "metadata": {}
   },
   "outputs": [],
   "source": [
    "year = 2023\n",
    "df1 = pd.read_parquet(box_DIR+f\"NBA_Box_P_Base_{year}.parquet\")\n",
    "df1[\"GAME_ID\"] = df1[\"GAME_ID\"].astype(int)\n",
    "df2 = pd.read_parquet(box_DIR+f\"NBA_Box_P_Adv_{year}.parquet\",columns=[\"gameId\",\"personId\",\"possessions\"])\n",
    "df2.columns = ['GAME_ID','PLAYER_ID',\"POSS\"]\n",
    "df3 = pd.merge(df1,df2,on=['GAME_ID','PLAYER_ID'])"
   ]
  },
  {
   "cell_type": "code",
   "execution_count": null,
   "metadata": {
    "metadata": {}
   },
   "outputs": [],
   "source": [
    "df3[\"DRE\"] = -8.42364*df3[\"POSS\"]/100+0.79231*df3[\"PTS\"]-0.71944*(df3[\"FGA\"]-df3[\"FG3A\"])-0.55233*df3[\"FG3A\"]-0.15944*df3[\"FTA\"]+0.13479*df3[\"OREB\"]+0.3996*df3[\"DREB\"]+0.54415*df3[\"AST\"]+1.68007*df3[\"STL\"]+0.76387*df3[\"BLK\"]-1.3599*df3[\"TOV\"]-0.10838*df3[\"PF\"]\n",
    "\n",
    "df3[\"GmSc\"] = df3[\"PTS\"]+0.4*df3[\"FGM\"]-0.7*df3[\"FGA\"]-0.4*(df3[\"FTA\"]-df3[\"FTM\"])+0.7*df3[\"OREB\"]+0.3*df3[\"DREB\"]+df3[\"STL\"]+0.7*df3[\"AST\"]+0.7*df3[\"BLK\"]-0.4*df3[\"PF\"]-df3[\"TOV\"]"
   ]
  },
  {
   "cell_type": "code",
   "execution_count": null,
   "metadata": {
    "metadata": {}
   },
   "outputs": [],
   "source": [
    "pID = get_pID(\"Jalen Green\")\n",
    "df4 = df3.query(f\"PLAYER_ID == {pID}\")\n",
    "df4 = df4.reset_index(drop=True).reset_index()\n",
    "df4[\"index\"] +=1\n",
    "df4 = df4.rename(columns={\"index\":\"Game_No\"})"
   ]
  },
  {
   "cell_type": "code",
   "execution_count": null,
   "metadata": {
    "metadata": {}
   },
   "outputs": [],
   "source": [
    "players = [\"LeBron James\",\"Stephen Curry\",\"Kevin Durant\",\"Kawhi Leonard\",\"DeMar DeRozan\",\"Giannis Antetokounmpo\",\"Luka Doncic\",\"Shai Gilgeous-Alexander\",\"Nikola Jokic\",\"Jayson Tatum\"]\n",
    "players = [\"Giannis Antetokounmpo\",\"Luka Doncic\",\"Shai Gilgeous-Alexander\",\"Nikola Jokic\",\"Jayson Tatum\",\"Jalen Brunson\",\"Anthony Edwards\"]\n",
    "pIDs = [get_pID(pp) for pp in players]"
   ]
  },
  {
   "cell_type": "code",
   "execution_count": null,
   "metadata": {
    "metadata": {}
   },
   "outputs": [],
   "source": [
    "df4 = df3[df3[\"PLAYER_ID\"].isin(pIDs)]"
   ]
  },
  {
   "cell_type": "code",
   "execution_count": null,
   "metadata": {
    "metadata": {}
   },
   "outputs": [],
   "source": [
    "p = (\n",
    "    ggplot(df4,aes(x=\"GAME_DATE\",y=\"DRE\",color=\"PLAYER_NAME\"))\n",
    "    # + geom_point()\n",
    "    + geom_smooth(se=False,size=2)#method=\"lm\")\n",
    "    + theme_idv\n",
    "    + scale_x_date(date_labels = \"%b-%d\",date_breaks = \"1 month\")\n",
    "    # + scale_color_brewer(type=\"qual\", palette=3)\n",
    "    + scale_color_discrete(h=0.1,s=0.8,l=0.5)\n",
    "    + theme(\n",
    "        figure_size=(7,4),\n",
    "        legend_title=element_blank(),\n",
    "    )\n",
    "    + labs(\n",
    "        x=\"Date\",\n",
    "        title=\"Daily RAPM Estimate (DRE) for MVP Candidates\",\n",
    "        subtitle=\"DRE is a stat created by @NBACouchside similar to GameScore\",\n",
    "        caption=\"@SravanNBA | source: nba.com/stats | DRE Formula: @NBACouchside\",\n",
    "    )\n",
    ")\n",
    "p"
   ]
  },
  {
   "cell_type": "code",
   "execution_count": null,
   "metadata": {
    "metadata": {}
   },
   "outputs": [],
   "source": [
    "df6 = (df3\n",
    "    .query(\"GAME_DATE < '2024-03-01'\")\n",
    "    .groupby([\"PLAYER_ID\",\"PLAYER_NAME\"])[[\"DRE\"]]\n",
    "    .agg({\"DRE\":[\"mean\",\"count\"]})\n",
    "    .reset_index()\n",
    ")\n",
    "df6.columns = [\"PLAYER_ID\",\"PLAYER_NAME\",\"DRE\",\"GP\"]\n",
    "df6 = df6.query(\"GP >= 5\")\n",
    "df7 = (df3\n",
    "    .query(\"GAME_DATE >= '2024-03-01'\")\n",
    "    .groupby([\"PLAYER_ID\",\"PLAYER_NAME\"])[[\"DRE\"]]\n",
    "    .agg({\"DRE\":[\"mean\",\"count\"]})\n",
    "    .reset_index()\n",
    ")\n",
    "df7.columns = [\"PLAYER_ID\",\"PLAYER_NAME\",\"DRE\",\"GP\"]\n",
    "df7 = df7.query(\"GP >= 5\")\n",
    "df8 = pd.merge(df6,df7,on=[\"PLAYER_ID\",\"PLAYER_NAME\"])"
   ]
  },
  {
   "cell_type": "code",
   "execution_count": null,
   "metadata": {
    "metadata": {}
   },
   "outputs": [],
   "source": [
    "df8[\"Diff\"] = df8[\"DRE_y\"] - df8[\"DRE_x\"]\n",
    "df9 = df8.nlargest(10,\"Diff\")"
   ]
  },
  {
   "cell_type": "code",
   "execution_count": null,
   "metadata": {
    "metadata": {}
   },
   "outputs": [],
   "source": [
    "df10 = df9[[\"PLAYER_ID\",\"PLAYER_NAME\",\"Diff\"]].reset_index(drop=True).reset_index()\n",
    "df10[\"index\"] +=1\n",
    "df10[\"PLAYER_ID\"] = df10[\"PLAYER_ID\"].astype(str)"
   ]
  },
  {
   "cell_type": "code",
   "execution_count": null,
   "metadata": {
    "metadata": {}
   },
   "outputs": [],
   "source": [
    "t = (\n",
    "    GT(df10)\n",
    "    .tab_header(\n",
    "        title=md(\"DRE Biggest Difference Before and After March 1 2024\"),\n",
    "        # subtitle=\"Daily measurements in New York City (May 1-10, 1973)\"\n",
    "    )\n",
    "    .tab_source_note(source_note=\"@SravanNBA | source: nba.com/stats | DRE: @NBACouchside\")\n",
    "    .cols_label(\n",
    "        index = \"#\",\n",
    "        PLAYER_ID = \"\",\n",
    "        PLAYER_NAME = \"Player\",\n",
    "        Diff = \"DRE Diff\",\n",
    "    )\n",
    "    .cols_align(align=\"center\")\n",
    "    .cols_align(align=\"left\", columns=\"PLAYER_NAME\")\n",
    "    .fmt_image(\n",
    "        columns=\"PLAYER_ID\",\n",
    "        path = img_DIR_P,\n",
    "        file_pattern=\"{}.png\"\n",
    "    )\n",
    "    .fmt_number(columns=\"Diff\", decimals=2)\n",
    "    .tab_options(\n",
    "        heading_title_font_size=\"120%\",\n",
    "        heading_subtitle_font_size=\"110%\",\n",
    "        # heading_title_font_weight='bold',\n",
    "        table_background_color=\"floralwhite\",\n",
    "        column_labels_font_size=\"105%\",\n",
    "        column_labels_font_weight='bold',\n",
    "        row_group_font_weight='bold',\n",
    "        row_group_background_color=\"#E5E1D8\",\n",
    "        table_font_size=10,\n",
    "        table_font_names=\"Consolas\", \n",
    "        data_row_padding = \"3px\",\n",
    "        table_margin_left = 1,\n",
    "        table_margin_right = 1,\n",
    "    )\n",
    "    # .save(fig_DIR + \"net_season_segment.png\")\n",
    ")\n",
    "t.save(\"DRE_Mickey_Mouse.png\",scale=3,expand=2,web_driver=\"edge\")\n",
    "t"
   ]
  }
 ],
 "metadata": {
  "kernelspec": {
   "display_name": "nba-ub9Z_EQq-py3.11",
   "language": "python",
   "name": "python3"
  },
  "language_info": {
   "codemirror_mode": {
    "name": "ipython",
    "version": 3
   },
   "file_extension": ".py",
   "mimetype": "text/x-python",
   "name": "python",
   "nbconvert_exporter": "python",
   "pygments_lexer": "ipython3",
   "version": "3.11.6"
  }
 },
 "nbformat": 4,
 "nbformat_minor": 2
}
