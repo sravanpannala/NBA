{
 "cells": [
  {
   "cell_type": "code",
   "execution_count": null,
   "metadata": {},
   "outputs": [],
   "source": [
    "import os, sys\n",
    "\n",
    "sys.path.append(os.path.dirname(os.path.dirname(os.path.abspath(\"__file__\"))))\n",
    "from nbafuns import *\n",
    "from nba_api.stats.endpoints import teamplayeronoffsummary\n",
    "\n",
    "# fig_DIR = \"../figs/team_ratings/\"\n",
    "box_DIR = \"../data/box/\"\n",
    "img_DIR_P = \"../data/images/players/\""
   ]
  },
  {
   "cell_type": "code",
   "execution_count": null,
   "metadata": {},
   "outputs": [],
   "source": [
    "dfa = []\n",
    "# for year in range(2022,2010,-1):\n",
    "for year in [2022]:    \n",
    "    df11 = pd.read_parquet(box_DIR + f\"NBA_Box_P_Cum_Adv_On_{year}.parquet\")\n",
    "    df12 = pd.read_parquet(box_DIR + f\"NBA_Box_P_Cum_Adv_Off_{year}.parquet\")    \n",
    "    df2 = pd.merge(df11,df12,on=['GROUP_SET', 'TEAM_ID', 'TEAM_ABBREVIATION', 'TEAM_NAME',\n",
    "            'VS_PLAYER_ID', 'VS_PLAYER_NAME'])\n",
    "    # df2[\"Segment\"] = \"Regular Season\"\n",
    "    df2[\"Net\"] = df2[\"NET_RATING_x\"] - df2[\"NET_RATING_y\"]\n",
    "    df2[\"Off\"] = df2[\"OFF_RATING_x\"] - df2[\"OFF_RATING_y\"]\n",
    "    df2[\"Def\"] = df2[\"DEF_RATING_x\"] - df2[\"DEF_RATING_y\"]\n",
    "    # df2 = df2[['TEAM_ID', 'TEAM_ABBREVIATION', 'TEAM_NAME','VS_PLAYER_ID',\n",
    "    #                 'VS_PLAYER_NAME',\"GP_x\",\"GP_y\",\"MIN_x\",\"Min_y\",\"Net\",\"Off\",\"Def\"]]\n",
    "    df31 = pd.read_parquet(box_DIR + f\"NBA_Box_P_Cum_Adv_On_{year}_PS.parquet\")\n",
    "    df32 = pd.read_parquet(box_DIR + f\"NBA_Box_P_Cum_Adv_Off_{year}_PS.parquet\")\n",
    "    df4 = pd.merge(df31,df32,on=['GROUP_SET', 'TEAM_ID', 'TEAM_ABBREVIATION', 'TEAM_NAME',\n",
    "            'VS_PLAYER_ID', 'VS_PLAYER_NAME'])\n",
    "    df4[\"Net\"] = df4[\"NET_RATING_x\"] - df4[\"NET_RATING_y\"]\n",
    "    df4[\"Off\"] = df4[\"OFF_RATING_x\"] - df4[\"OFF_RATING_y\"]\n",
    "    df4[\"Def\"] = df4[\"DEF_RATING_x\"] - df4[\"DEF_RATING_y\"]\n",
    "    # df4 = df4[['TEAM_ID', 'TEAM_ABBREVIATION', 'TEAM_NAME','VS_PLAYER_ID',\n",
    "    #                 'VS_PLAYER_NAME',\"GP_x\",\"GP_y\",\"Net\",\"Off\",\"Def\"]]\n",
    "    df5 = pd.merge(df2,df4,on=['TEAM_ID', 'TEAM_ABBREVIATION', 'TEAM_NAME',\n",
    "            'VS_PLAYER_ID', 'VS_PLAYER_NAME',])\n",
    "    df5[\"Season\"]=year + 1\n",
    "    dfa.append(df5)\n",
    "df6 = pd.concat(dfa)\n",
    "df6[\"image\"]=img_DIR_P + df6[\"VS_PLAYER_ID\"].astype(str) + \".png\""
   ]
  },
  {
   "cell_type": "code",
   "execution_count": null,
   "metadata": {},
   "outputs": [],
   "source": [
    "df6.sort_values(\"VS_PLAYER_ID\")[[\"VS_PLAYER_ID\",\"Net_x\"]]"
   ]
  },
  {
   "cell_type": "code",
   "execution_count": null,
   "metadata": {},
   "outputs": [],
   "source": [
    "df7 = df6.query(\"MIN_x_x > 200 & MIN_x_y > 50\")\n",
    "# df7 =df6.copy()\n",
    "df7 = df7.nlargest(25,\"Net_y\")"
   ]
  },
  {
   "cell_type": "code",
   "execution_count": null,
   "metadata": {},
   "outputs": [],
   "source": [
    "xvar = \"Net_x\"\n",
    "yvar = \"Net_y\"\n",
    "fig = px.scatter(df7, x=xvar, y=yvar,width=800, height=600, hover_name=\"VS_PLAYER_NAME\",hover_data=[\"Season\",\"Net_x\",\"Net_y\",\"MIN_x_x\",\"MIN_x_y\",],color_discrete_sequence =[\"red\"])\n",
    "# fig_line = px.line(df, x = \"RAPM\", y = \"RAPM\",color_discrete_sequence=[\"black\"])\n",
    "# fig = go.Figure(data = fig_10.data + fig_line.data)\n",
    "fig.update_layout( width=800, height=600, showlegend=True)\n",
    "fig.update_layout( title=dict(\n",
    "                        text=\"Regular Season vs Playoffs: Offensive Rating\",\n",
    "                        xanchor=\"auto\",\n",
    "                        yanchor=\"middle\",\n",
    "                        font=dict(family=\"Arial, Tahoma, Helvetica\", size=25, color=\"Black\")\n",
    "                    ),\n",
    "            )\n",
    "fig.update_xaxes(title_text=xvar)\n",
    "fig.update_yaxes(title_text=yvar)\n",
    "fig.update_layout(legend=dict(\n",
    "    yanchor=\"top\",\n",
    "    y=0.99,\n",
    "    xanchor=\"left\",\n",
    "    x=0.01\n",
    "))\n",
    "fig.show()"
   ]
  },
  {
   "cell_type": "code",
   "execution_count": null,
   "metadata": {},
   "outputs": [],
   "source": [
    "data = df7.copy()\n",
    "xvar = \"Net_x\"\n",
    "yvar = \"Net_y\"\n",
    "adjust_text_dict = {\n",
    "    # 'expand_points': (0, 0),\n",
    "    'arrowprops': {\n",
    "        'arrowstyle': '->',\n",
    "        'color': 'red'\n",
    "    }\n",
    "}\n",
    "p = (\n",
    "    ggplot(data,aes(x=xvar,y=yvar,image=\"image\"))\n",
    "    + geom_point()\n",
    "    + geom_image(size=0.2)\n",
    "    + geom_text(aes(y = data[yvar] -0.5,label = \"Season\"),adjust_text=adjust_text_dict,size=8)\n",
    "    + theme_idv\n",
    "    + theme(\n",
    "        figure_size=(10,8)\n",
    "    )\n",
    ")\n",
    "p"
   ]
  },
  {
   "cell_type": "code",
   "execution_count": null,
   "metadata": {},
   "outputs": [],
   "source": [
    "players = [\"LeBron James\",\"Stephen Curry\",\"Kevin Durant\",\"Kawhi Leonard\",\"Giannis Antetokounmpo\",\"Luka Doncic\",\"Nikola Jokic\",\"Jayson Tatum\",\"James Harden\",\"Russell Westbrook\"]\n",
    "pIDs = [get_pID(pp) for pp in players]\n",
    "df8 = df6[df6[\"VS_PLAYER_ID\"].isin(pIDs)]\n",
    "df8[\"image\"]=img_DIR_P + df8[\"VS_PLAYER_ID\"].astype(str) + \".png\""
   ]
  },
  {
   "cell_type": "code",
   "execution_count": null,
   "metadata": {},
   "outputs": [],
   "source": [
    "df8"
   ]
  },
  {
   "cell_type": "code",
   "execution_count": null,
   "metadata": {},
   "outputs": [],
   "source": [
    "adjust_text_dict = {\n",
    "    # 'expand_points': (0, 0),\n",
    "    'arrowprops': {\n",
    "        'arrowstyle': '->',\n",
    "        'color': 'red'\n",
    "    }\n",
    "}\n",
    "p = (\n",
    "    ggplot(df8,aes(x=\"Net_x\",y=\"Net_y\",image=\"image\"))\n",
    "    + geom_point()\n",
    "    + geom_image(size=0.2)\n",
    "    + geom_text(aes(y = df8[\"Net_y\"] -0.5,label = \"Season\"),adjust_text=adjust_text_dict,size=6)\n",
    "    + theme_idv\n",
    "    + theme(\n",
    "        figure_size=(10,8)\n",
    "    )\n",
    ")\n",
    "p"
   ]
  },
  {
   "cell_type": "code",
   "execution_count": null,
   "metadata": {},
   "outputs": [],
   "source": [
    "xvar = \"Net_x\"\n",
    "yvar = \"Net_y\"\n",
    "fig = px.scatter(df8, x=xvar, y=yvar,width=800, height=600, hover_name=\"VS_PLAYER_NAME\",hover_data=[\"Season\",\"Net_x\",\"Net_y\",\"GP_x_x\",\"GP_x_y\"],color_discrete_sequence =[\"red\"])\n",
    "# fig_line = px.line(df, x = \"RAPM\", y = \"RAPM\",color_discrete_sequence=[\"black\"])\n",
    "# fig = go.Figure(data = fig_10.data + fig_line.data)\n",
    "fig.update_layout( width=800, height=600, showlegend=True)\n",
    "fig.update_layout( title=dict(\n",
    "                        text=\"Regular Season vs Playoffs: On/Off Net Rating\",\n",
    "                        xanchor=\"auto\",\n",
    "                        yanchor=\"middle\",\n",
    "                        font=dict(family=\"Arial, Tahoma, Helvetica\", size=25, color=\"Black\")\n",
    "                    ),\n",
    "            )\n",
    "fig.update_xaxes(title_text=xvar)\n",
    "fig.update_yaxes(title_text=yvar)\n",
    "fig.update_layout(legend=dict(\n",
    "    yanchor=\"top\",\n",
    "    y=0.99,\n",
    "    xanchor=\"left\",\n",
    "    x=0.01\n",
    "))\n",
    "fig.show()"
   ]
  },
  {
   "cell_type": "markdown",
   "metadata": {},
   "source": [
    "## Career On-Offs"
   ]
  },
  {
   "cell_type": "code",
   "execution_count": null,
   "metadata": {},
   "outputs": [],
   "source": [
    "dfa = []\n",
    "for year in range(2007,2023):  \n",
    "    df11 = pd.read_parquet(box_DIR + f\"NBA_Box_P_Cum_Adv_On_{year}.parquet\")\n",
    "    df12 = pd.read_parquet(box_DIR + f\"NBA_Box_P_Cum_Adv_Off_{year}.parquet\")    \n",
    "    df2 = pd.merge(df11,df12,on=['GROUP_SET', 'TEAM_ID', 'TEAM_ABBREVIATION', 'TEAM_NAME',\n",
    "            'VS_PLAYER_ID', 'VS_PLAYER_NAME'])\n",
    "    df31 = pd.read_parquet(box_DIR + f\"NBA_Box_P_Cum_Adv_On_{year}_PS.parquet\")\n",
    "    df32 = pd.read_parquet(box_DIR + f\"NBA_Box_P_Cum_Adv_Off_{year}_PS.parquet\")\n",
    "    df4 = pd.merge(df31,df32,on=['GROUP_SET', 'TEAM_ID', 'TEAM_ABBREVIATION', 'TEAM_NAME',\n",
    "            'VS_PLAYER_ID', 'VS_PLAYER_NAME'])\n",
    "    df5 = pd.merge(df2,df4,on=['TEAM_ID', 'TEAM_ABBREVIATION', 'TEAM_NAME',\n",
    "            'VS_PLAYER_ID', 'VS_PLAYER_NAME',])\n",
    "    df5[\"Season\"]=year + 1\n",
    "    dfa.append(df5)\n",
    "    if df5.empty:\n",
    "        print(year)\n",
    "df6 = pd.concat(dfa)\n",
    "# df6[\"image\"]=img_DIR_P + df6[\"VS_PLAYER_ID\"].astype(str) + \".png\""
   ]
  },
  {
   "cell_type": "code",
   "execution_count": null,
   "metadata": {},
   "outputs": [],
   "source": [
    "cols = [\n",
    "       'VS_PLAYER_ID', 'VS_PLAYER_NAME', 'GP_x_x',\n",
    "       'MIN_x_x', 'OFF_RATING_x_x', 'DEF_RATING_x_x',\n",
    "       'NET_RATING_x_x', 'GP_y_x', 'MIN_y_x',\n",
    "       'OFF_RATING_y_x', 'DEF_RATING_y_x', 'NET_RATING_y_x',\n",
    "       'GP_x_y', 'MIN_x_y', 'OFF_RATING_x_y', 'DEF_RATING_x_y',\n",
    "       'NET_RATING_x_y', 'GP_y_y', 'MIN_y_y',\n",
    "       'OFF_RATING_y_y', 'DEF_RATING_y_y', 'NET_RATING_y_y', 'Season']\n",
    "df7 = df6[cols]\n",
    "suff = [\"_x_x\",\"_y_x\",\"_x_y\",\"_y_y\"]\n",
    "mul_cols = [\"OFF_RATING\",\"DEF_RATING\",\"NET_RATING\"]\n",
    "for s in suff:\n",
    "    for c in mul_cols:\n",
    "        df7[f\"{c}{s}\"] = df6[f\"MIN{s}\"]*df6[f\"{c}{s}\"]"
   ]
  },
  {
   "cell_type": "code",
   "execution_count": null,
   "metadata": {},
   "outputs": [],
   "source": [
    "cols2 = ['GP_x_x','MIN_x_x', 'OFF_RATING_x_x', 'DEF_RATING_x_x',\n",
    "       'NET_RATING_x_x', 'GP_y_x', 'MIN_y_x',\n",
    "       'OFF_RATING_y_x', 'DEF_RATING_y_x', 'NET_RATING_y_x',\n",
    "       'GP_x_y', 'MIN_x_y', 'OFF_RATING_x_y', 'DEF_RATING_x_y',\n",
    "       'NET_RATING_x_y', 'GP_y_y', 'MIN_y_y',\n",
    "       'OFF_RATING_y_y', 'DEF_RATING_y_y', 'NET_RATING_y_y']"
   ]
  },
  {
   "cell_type": "code",
   "execution_count": null,
   "metadata": {},
   "outputs": [],
   "source": [
    "df8 = df7.groupby([\"VS_PLAYER_ID\",\"VS_PLAYER_NAME\"])[cols2].sum().reset_index()\n",
    "for s in suff:\n",
    "    for c in mul_cols:\n",
    "        df8[f\"{c}{s}\"] = round(df8[f\"{c}{s}\"]/df8[f\"MIN{s}\"],2)\n",
    "for s in [\"_x\",\"_y\"]:    \n",
    "    df8[f\"Net{s}\"] = df8[f\"NET_RATING_x{s}\"] - df8[f\"NET_RATING_y{s}\"]\n",
    "    df8[f\"Off{s}\"] = df8[f\"OFF_RATING_x{s}\"] - df8[f\"OFF_RATING_y{s}\"]\n",
    "    df8[f\"Def{s}\"] = df8[f\"DEF_RATING_x{s}\"] - df8[f\"DEF_RATING_y{s}\"]\n",
    "df8[\"image\"]=img_DIR_P + df8[\"VS_PLAYER_ID\"].astype(str) + \".png\"\n",
    "\n"
   ]
  },
  {
   "cell_type": "code",
   "execution_count": null,
   "metadata": {},
   "outputs": [],
   "source": [
    "df9 = df8.query(\"MIN_x_x > 1000 & MIN_x_y > 200\")\n",
    "df9 = df9.nlargest(25,\"MIN_x_y\")\n",
    "players = [\"LeBron James\",\"Stephen Curry\",\"Kevin Durant\",\"Kawhi Leonard\",\"Giannis Antetokounmpo\",\"Luka Doncic\",\"Nikola Jokic\",\"Jayson Tatum\",\"James Harden\",\"Russell Westbrook\",\"Joel Embiid\",\"Devin Booker\",\"Paul George\",\"Trae Young\",\"Chris Paul\",\"Draymond Green\",\"Jamal Murray\",\"Khris Middleton\",\"Damian Lillard\",\"Jalen Brunson\",\"Donovan Mitchell\",\"Julius Randle\",\"Jimmy Butler\",\"Bam Adebayo\",\"Karl-Anthony Towns\",\"Jaylen Brown\",\"Al Horford\",\"Anthony Davis\"]\n",
    "pIDs = [get_pID(pp) for pp in players]\n",
    "df9 = df8[df8[\"VS_PLAYER_ID\"].isin(pIDs)]"
   ]
  },
  {
   "cell_type": "code",
   "execution_count": null,
   "metadata": {},
   "outputs": [],
   "source": [
    "data = df9.copy()\n",
    "xvar = \"NET_RATING_x_x\"\n",
    "yvar = \"Net_x\"\n",
    "adjust_text_dict = {\n",
    "    # 'expand_points': (0, 0),\n",
    "    'arrowprops': {\n",
    "        'arrowstyle': '->',\n",
    "        'color': 'red'\n",
    "    }\n",
    "}\n",
    "p = (\n",
    "    ggplot(data,aes(x=xvar,y=yvar,image=\"image\"))\n",
    "    + geom_point()\n",
    "    + geom_hline(yintercept=0)\n",
    "    + geom_vline(xintercept=0)\n",
    "    # + geom_abline(intercept = 0, slope = 1, color = \"red\",size = 1,linetype=\"--\")\n",
    "    + geom_image(size=0.2)\n",
    "    + geom_text(aes(y = data[yvar] -1,label = \"VS_PLAYER_NAME\"),adjust_text=adjust_text_dict,size=8)\n",
    "    + theme_xkcd(base_size=16)\n",
    "    # + coord_cartesian(xlim=(-5,15),ylim=(-5,15))\n",
    "    + labs(\n",
    "        title=\"Playoff vs Regular Season Net Rating\",\n",
    "        subtitle=\"Since 2007-08 Season | Select Star Players | Above Red line better in playoffs\",\n",
    "        x=\"Regular Season\",\n",
    "        y=\"Playoffs\",\n",
    "        caption=\"@SravanNBA | source:nba.com/stats\"\n",
    "    )\n",
    "    + theme(\n",
    "        figure_size=(10,8),\n",
    "        plot_title=element_text(size=24),\n",
    "        panel_grid_major_x=element_line(linetype=\"dashed\",color=\"grey\",size=0.5),\n",
    "        panel_grid_major_y=element_line(linetype=\"dashed\",color=\"grey\",size=0.5),\n",
    "    )\n",
    ")\n",
    "p"
   ]
  },
  {
   "cell_type": "code",
   "execution_count": null,
   "metadata": {},
   "outputs": [],
   "source": [
    "data = df9.copy()\n",
    "xvar = \"NET_RATING_x_x\"\n",
    "yvar = \"Net_x\"\n",
    "adjust_text_dict = {\n",
    "    # 'expand_points': (0, 0),\n",
    "    'arrowprops': {\n",
    "        'arrowstyle': '->',\n",
    "        'color': 'red'\n",
    "    }\n",
    "}\n",
    "p = (\n",
    "    ggplot(data,aes(x=xvar,y=yvar,image=\"image\"))\n",
    "    + geom_point()\n",
    "    + geom_hline(yintercept=0)\n",
    "    + geom_vline(xintercept=0)\n",
    "    + geom_abline(intercept = 0, slope = 1, color = \"red\",size = 1,linetype=\"--\")\n",
    "    + geom_image(size=0.2)\n",
    "    + geom_text(aes(y = data[yvar] -1,label = \"VS_PLAYER_NAME\"),adjust_text=adjust_text_dict,size=8)\n",
    "    + theme_xkcd(base_size=16)\n",
    "    # + coord_cartesian(xlim=(-5,15),ylim=(-5,15))\n",
    "    + labs(\n",
    "        title=\"Regular Season Net Rating vs On/Off\",\n",
    "        subtitle=\"Since 2007-08 Season | Select Star Players\",\n",
    "        x=\"Net Rating\",\n",
    "        y=\"On/Off Net Rating\",\n",
    "        caption=\"@SravanNBA | source:nba.com/stats\"\n",
    "    )\n",
    "    + theme(\n",
    "        figure_size=(10,8),\n",
    "        plot_title=element_text(size=24),\n",
    "        panel_grid_major_x=element_line(linetype=\"dashed\",color=\"grey\",size=0.5),\n",
    "        panel_grid_major_y=element_line(linetype=\"dashed\",color=\"grey\",size=0.5),\n",
    "    )\n",
    ")\n",
    "p"
   ]
  },
  {
   "cell_type": "code",
   "execution_count": null,
   "metadata": {},
   "outputs": [],
   "source": [
    "data = df9.copy()\n",
    "xvar = \"Net_x\"\n",
    "yvar = \"Net_y\"\n",
    "fig = px.scatter(data, x=xvar, y=yvar,width=800, height=600, hover_name=\"VS_PLAYER_NAME\",hover_data=[\"Net_x\",\"Net_y\",\"MIN_x_x\",\"MIN_x_y\"],color_discrete_sequence =[\"red\"])\n",
    "# fig_line = px.line(df, x = \"RAPM\", y = \"RAPM\",color_discrete_sequence=[\"black\"])\n",
    "# fig = go.Figure(data = fig_10.data + fig_line.data)\n",
    "fig.update_layout( width=800, height=600, showlegend=True)\n",
    "fig.update_layout( title=dict(\n",
    "                        text=\"Regular Season vs Playoffs: On/Off Net Rating\",\n",
    "                        xanchor=\"auto\",\n",
    "                        yanchor=\"middle\",\n",
    "                        font=dict(family=\"Arial, Tahoma, Helvetica\", size=25, color=\"Black\")\n",
    "                    ),\n",
    "            )\n",
    "fig.update_xaxes(title_text=xvar)\n",
    "fig.update_yaxes(title_text=yvar)\n",
    "fig.update_layout(legend=dict(\n",
    "    yanchor=\"top\",\n",
    "    y=0.99,\n",
    "    xanchor=\"left\",\n",
    "    x=0.01\n",
    "))\n",
    "fig.show()"
   ]
  },
  {
   "cell_type": "code",
   "execution_count": null,
   "metadata": {},
   "outputs": [],
   "source": []
  }
 ],
 "metadata": {
  "kernelspec": {
   "display_name": "nba-ub9Z_EQq-py3.11",
   "language": "python",
   "name": "python3"
  },
  "language_info": {
   "codemirror_mode": {
    "name": "ipython",
    "version": 3
   },
   "file_extension": ".py",
   "mimetype": "text/x-python",
   "name": "python",
   "nbconvert_exporter": "python",
   "pygments_lexer": "ipython3",
   "version": "3.11.6"
  }
 },
 "nbformat": 4,
 "nbformat_minor": 2
}
