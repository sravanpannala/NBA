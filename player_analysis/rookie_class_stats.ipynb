{
 "cells": [
  {
   "cell_type": "code",
   "execution_count": null,
   "metadata": {},
   "outputs": [],
   "source": [
    "import os, sys\n",
    "\n",
    "sys.path.append(os.path.dirname(os.path.dirname(os.path.abspath(\"__file__\"))))\n",
    "from nbafuns import *\n",
    "\n",
    "box_DIR = \"../data/box/\"\n",
    "img_DIR_P = \"../data/images/players/\""
   ]
  },
  {
   "cell_type": "code",
   "execution_count": null,
   "metadata": {},
   "outputs": [],
   "source": [
    "cols = ['PLAYER_ID', 'PLAYER_NAME', 'WL' , 'MIN', 'FGM',\n",
    "       'FGA', 'FG_PCT', 'FG3M', 'FG3A', 'FG3_PCT', 'FTM', 'FTA', 'FT_PCT',\n",
    "       'OREB', 'DREB', 'REB', 'AST', 'STL', 'BLK', 'TOV', 'PF', 'PTS',\n",
    "       'PLUS_MINUS', ]\n",
    "dfa = []\n",
    "for year in range(1980,2024):\n",
    "    df1 = pd.read_parquet(box_DIR + f\"NBA_Box_P_Base_{year}.parquet\",columns=cols)\n",
    "    df1[\"W\"] = df1[\"WL\"] == \"W\"\n",
    "    df1[\"L\"] = df1[\"WL\"] == \"L\"\n",
    "    df1[\"W\"] = np.where(df1[\"W\"],1,0)\n",
    "    df1[\"L\"] = np.where(df1[\"L\"],1,0)\n",
    "    # df1 = df1.drop(columns=[\"WL\"])\n",
    "    df1 = df1.rename(columns={\"WL\":\"GP\"})\n",
    "    df1[\"GP\"] = 1\n",
    "    df2 =df1.groupby(['PLAYER_ID', 'PLAYER_NAME']).sum()\n",
    "    dfa.append(df2)\n",
    "df3 = pd.concat(dfa)\n",
    "df3 = df3\n",
    "df4 =df3.groupby(['PLAYER_ID', 'PLAYER_NAME']).sum().reset_index()"
   ]
  },
  {
   "cell_type": "code",
   "execution_count": null,
   "metadata": {},
   "outputs": [],
   "source": [
    "dfp = pd.read_csv(\"../data/\" + \"NBA_players_database.csv\")\n",
    "dfp.columns = [\"PLAYER_ID\",\"Name\",\"Season\",\"Last\"]\n",
    "dfp = dfp[[\"PLAYER_ID\",\"Season\"]]\n",
    "df5 = pd.merge(df4,dfp,on=[\"PLAYER_ID\"])\n",
    "df5 = df5.drop(columns=['PLAYER_ID', 'PLAYER_NAME'])"
   ]
  },
  {
   "cell_type": "code",
   "execution_count": null,
   "metadata": {},
   "outputs": [],
   "source": [
    "df6 = df5.groupby([\"Season\"]).sum().reset_index()\n",
    "df6 = df6.query(\"Season > 1979\")"
   ]
  },
  {
   "cell_type": "code",
   "execution_count": null,
   "metadata": {},
   "outputs": [],
   "source": [
    "df6[\"S\"] = df6[\"Season\"].astype(str)\n",
    "df6[\"S\"] = df6[\"S\"].str[-2:]"
   ]
  },
  {
   "cell_type": "code",
   "execution_count": null,
   "metadata": {},
   "outputs": [],
   "source": [
    "df6 = df6.sort_values(\"PTS\")\n",
    "df6[\"Season\"] = pd.Categorical(df6[\"Season\"],categories=df6[\"Season\"].to_list())"
   ]
  },
  {
   "cell_type": "code",
   "execution_count": null,
   "metadata": {},
   "outputs": [],
   "source": [
    "p = (\n",
    "    ggplot(df6,aes(x=\"Season\",y=\"PTS\"))\n",
    "    + geom_bar(stat=\"identity\", alpha=0.5)\n",
    "    # + geom_text(aes(label = \"S\"),size=6,nudge_y=-2000)\n",
    "    + theme_idv\n",
    "    + coord_flip()\n",
    "    + labs(\n",
    "        title=\"Games Played by all Players in a Rookie Class\",\n",
    "        subtitle=\"Since 1980\",\n",
    "        y=\"Games Played\",\n",
    "        caption=\"@sradjoker | source:nba.com/stats\"\n",
    "    )\n",
    "    + theme(\n",
    "        figure_size=(7,10)\n",
    "    )\n",
    ")\n",
    "p"
   ]
  },
  {
   "cell_type": "code",
   "execution_count": null,
   "metadata": {},
   "outputs": [],
   "source": [
    "gfhgh"
   ]
  },
  {
   "cell_type": "markdown",
   "metadata": {},
   "source": [
    "## Active Players Per Class"
   ]
  },
  {
   "cell_type": "code",
   "execution_count": null,
   "metadata": {},
   "outputs": [],
   "source": [
    "cols = ['PLAYER_ID', 'PLAYER_NAME', 'WL' , 'MIN', 'FGM',\n",
    "       'FGA', 'FG_PCT', 'FG3M', 'FG3A', 'FG3_PCT', 'FTM', 'FTA', 'FT_PCT',\n",
    "       'OREB', 'DREB', 'REB', 'AST', 'STL', 'BLK', 'TOV', 'PF', 'PTS',\n",
    "       'PLUS_MINUS', ]\n",
    "year = 2023\n",
    "df1 = pd.read_parquet(box_DIR + f\"NBA_Box_P_Base_{year}.parquet\",columns=cols)\n",
    "df1[\"W\"] = df1[\"WL\"] == \"W\"\n",
    "df1[\"L\"] = df1[\"WL\"] == \"L\"\n",
    "df1[\"W\"] = np.where(df1[\"W\"],1,0)\n",
    "df1[\"L\"] = np.where(df1[\"L\"],1,0)\n",
    "# df1 = df1.drop(columns=[\"WL\"])\n",
    "df1 = df1.rename(columns={\"WL\":\"GP\"})\n",
    "df1[\"GP\"] = 1\n",
    "df2 =df1.groupby(['PLAYER_ID', 'PLAYER_NAME']).sum().reset_index()\n",
    "dfp = pd.read_csv(\"../data/\" + \"NBA_players_database.csv\")\n",
    "dfp.columns = [\"PLAYER_ID\",\"Name\",\"Season\",\"Last\"]\n",
    "dfp = dfp[[\"PLAYER_ID\",\"Season\"]]\n",
    "df3 = pd.merge(df2,dfp,on=[\"PLAYER_ID\"])"
   ]
  },
  {
   "cell_type": "code",
   "execution_count": null,
   "metadata": {},
   "outputs": [],
   "source": [
    "df31 = df3.drop(columns=['PLAYER_ID', 'PLAYER_NAME'])\n",
    "df4 = df31.groupby([\"Season\"]).count().reset_index()\n",
    "df4[\"Players\"] = df4[\"GP\"]\n",
    "cats = df4[\"Season\"].to_list()\n",
    "cats.reverse()\n",
    "# df4[\"Season\"] = pd.Categorical(df4[\"Season\"],categories=cats)"
   ]
  },
  {
   "cell_type": "code",
   "execution_count": null,
   "metadata": {},
   "outputs": [],
   "source": [
    "from plotnine import scale_x_reverse\n",
    "p = (\n",
    "    ggplot(df4,aes(x=\"Season\",y=\"Players\"))\n",
    "    + geom_bar(stat=\"identity\", alpha=0.5)\n",
    "    # + geom_text(aes(label = \"S\"),size=6,nudge_y=-2000)\n",
    "    + scale_x_reverse(breaks=range(2023,2002,-1))\n",
    "    + geom_text(aes(label = \"Players\"),size=9,nudge_y=1)\n",
    "\n",
    "    # + scale_x_continuous()\n",
    "    + theme_idv\n",
    "    + coord_flip()\n",
    "    + labs(\n",
    "        title=\"Active Players per Rookie Class\",\n",
    "        subtitle=\"Rookie Class: First Game Played in that Season\",\n",
    "        y=\"Active Players\",\n",
    "        caption=\"@sradjoker | source:nba.com/stats\"\n",
    "    )\n",
    "    + theme(\n",
    "        figure_size=(7,10)\n",
    "    )\n",
    ")\n",
    "p"
   ]
  },
  {
   "cell_type": "code",
   "execution_count": null,
   "metadata": {},
   "outputs": [],
   "source": [
    "df3g = df3.groupby(\"Season\")\n",
    "keys = list(df3g.groups)\n",
    "dfb = []\n",
    "for key in keys:\n",
    "    df5 = df3g.get_group(key)\n",
    "    df5 = df5.sort_values(\"MIN\",ascending=False)\n",
    "    df5[\"Count\"] = 1\n",
    "    df5[\"Count\"] = df5[\"Count\"].cumsum()\n",
    "    dfb.append(df5)\n",
    "df6 = pd.concat(dfb)\n",
    "df6[\"Image\"] = img_DIR_P + df6[\"PLAYER_ID\"].astype(str) + \".png\"\n",
    "df6 = df6.query(\"Season < 2013\")"
   ]
  },
  {
   "cell_type": "code",
   "execution_count": null,
   "metadata": {},
   "outputs": [],
   "source": [
    "from plotnine import scale_x_reverse\n",
    "p = (\n",
    "    ggplot(df6,aes(x=\"Count\",y=\"Season\",image=\"Image\"))\n",
    "    + geom_point()\n",
    "    + geom_image(size=0.18)\n",
    "    # + geom_text(aes(label = \"S\"),size=6,nudge_y=-2000)\n",
    "    + scale_y_reverse(breaks=range(2012,2002,-1))\n",
    "    + theme_xkcd(base_size=14)\n",
    "    # + coord_flip()\n",
    "    + labs(\n",
    "        title=\"Active Players per Rookie Class: 2003-2012\",\n",
    "        subtitle=\"Rookie Class: First Game Played in that Season | Sorted by Highest Minutes Played to Lowest\",\n",
    "        y=\"Active Players\",\n",
    "        caption=\"@sradjoker | source:nba.com/stats\"\n",
    "    )\n",
    "    + theme(\n",
    "        figure_size=(10,7),\n",
    "        panel_spacing=1,\n",
    "        plot_title=element_text(size=24),\n",
    "    )\n",
    ")\n",
    "p"
   ]
  },
  {
   "cell_type": "code",
   "execution_count": null,
   "metadata": {},
   "outputs": [],
   "source": [
    "asdasd"
   ]
  },
  {
   "cell_type": "markdown",
   "metadata": {},
   "source": [
    "## Most stats since a season"
   ]
  },
  {
   "cell_type": "code",
   "execution_count": null,
   "metadata": {},
   "outputs": [],
   "source": [
    "cols = ['PLAYER_ID', 'PLAYER_NAME', 'WL' , 'MIN', 'FGM',\n",
    "       'FGA', 'FG_PCT', 'FG3M', 'FG3A', 'FG3_PCT', 'FTM', 'FTA', 'FT_PCT',\n",
    "       'OREB', 'DREB', 'REB', 'AST', 'STL', 'BLK', 'TOV', 'PF', 'PTS',\n",
    "       'PLUS_MINUS', ]\n",
    "dfa = []\n",
    "for year in range(2015,2024):\n",
    "    df1 = pd.read_parquet(box_DIR + f\"NBA_Box_P_Base_{year}.parquet\",columns=cols)\n",
    "    df1[\"W\"] = df1[\"WL\"] == \"W\"\n",
    "    df1[\"L\"] = df1[\"WL\"] == \"L\"\n",
    "    df1[\"W\"] = np.where(df1[\"W\"],1,0)\n",
    "    df1[\"L\"] = np.where(df1[\"L\"],1,0)\n",
    "    # df1 = df1.drop(columns=[\"WL\"])\n",
    "    df1 = df1.rename(columns={\"WL\":\"GP\"})\n",
    "    df1[\"GP\"] = 1\n",
    "    df2 =df1.groupby(['PLAYER_ID', 'PLAYER_NAME']).sum()\n",
    "    dfa.append(df2)\n",
    "df3 = pd.concat(dfa)\n",
    "df3 = df3\n",
    "df4 =df3.groupby(['PLAYER_ID', 'PLAYER_NAME']).sum().reset_index()\n",
    "df4[\"FG_PCT\"] = round(df4[\"FGM\"]/df4[\"FGA\"],3)\n",
    "df4[\"FG3_PCT\"] = round(df4[\"FG3M\"]/df4[\"FG3A\"],3)\n",
    "df4[\"FT_PCT\"] = round(df4[\"FTM\"]/df4[\"FTA\"],3)"
   ]
  },
  {
   "cell_type": "code",
   "execution_count": null,
   "metadata": {},
   "outputs": [],
   "source": [
    "df4.columns"
   ]
  },
  {
   "cell_type": "code",
   "execution_count": null,
   "metadata": {},
   "outputs": [],
   "source": [
    "df4 = df4.sort_values(\"PTS\",ascending=False).reset_index(drop=True)\n",
    "df4.index +=1\n",
    "df4.head(10)\n",
    "# df4.query(\"PLAYER_NAME == 'Nikola Jokic'\")"
   ]
  }
 ],
 "metadata": {
  "kernelspec": {
   "display_name": "nba-ub9Z_EQq-py3.11",
   "language": "python",
   "name": "python3"
  },
  "language_info": {
   "codemirror_mode": {
    "name": "ipython",
    "version": 3
   },
   "file_extension": ".py",
   "mimetype": "text/x-python",
   "name": "python",
   "nbconvert_exporter": "python",
   "pygments_lexer": "ipython3",
   "version": "3.11.6"
  }
 },
 "nbformat": 4,
 "nbformat_minor": 2
}
