{
 "cells": [
  {
   "cell_type": "code",
   "execution_count": null,
   "metadata": {},
   "outputs": [],
   "source": [
    "import os, sys\n",
    "\n",
    "sys.path.append(os.path.dirname(os.path.dirname(os.path.abspath(\"__file__\"))))\n",
    "from nbafuns import *\n",
    "\n",
    "data_DIR = \"../data/injuries/\"\n",
    "fig_DIR = \"../figs/players/\"\n",
    "img_DIR_P = \"../data/images/players/\""
   ]
  },
  {
   "cell_type": "code",
   "execution_count": null,
   "metadata": {},
   "outputs": [],
   "source": [
    "df1 = []\n",
    "for season in range(2015,2025):\n",
    "    df0 = pd.read_parquet(data_DIR + f\"NBA_prosptran_injuries_{season}.parquet\")\n",
    "    df0[\"season\"] = season + 1\n",
    "    df1.append(df0)\n",
    "df1 = pd.concat(df1)"
   ]
  },
  {
   "cell_type": "code",
   "execution_count": null,
   "metadata": {},
   "outputs": [],
   "source": [
    "df1 = []\n",
    "for season in range(2015,2025):\n",
    "    df0 = pd.read_parquet(data_DIR + f\"NBA_prosptran_injuries_{season}.parquet\")\n",
    "    df0[\"season\"] = season + 1\n",
    "    df01 = df0[(df0[\"Notes\"].str.contains(\"achilles\", case=False))]\n",
    "    df01 = df01[(df01[\"Notes\"].str.contains(\"torn\", case=False)) | (df01[\"Notes\"].str.contains(\"ruptured\", case=False))] \n",
    "    df01 = df01[~(df01[\"Notes\"].str.contains(\"sore\", case=False))]\n",
    "    df01 = df01[~(df01[\"Notes\"].str.contains(\"dtd\", case=False))]\n",
    "    df01 = df01[~(df01[\"Notes\"].str.contains(\"strained\", case=False))]\n",
    "    df01 = df01[~(df01[\"Notes\"].str.contains(\"surgery\", case=False))]\n",
    "    df01 = df01[~(df01[\"Notes\"].str.contains(\"recovering\", case=False))]\n",
    "    df1.append(df01)\n",
    "df1 = pd.concat(df1)"
   ]
  },
  {
   "cell_type": "code",
   "execution_count": null,
   "metadata": {},
   "outputs": [],
   "source": [
    "df2 = df1[[\"season\",\"Player\",\"playerID\"]]\n",
    "df31 = df2[~df2.duplicated(keep=\"last\")].reset_index(drop=True)"
   ]
  },
  {
   "cell_type": "code",
   "execution_count": null,
   "metadata": {},
   "outputs": [],
   "source": [
    "pn = \"Dejounte Murray\"\n",
    "df32 = pd.DataFrame({\"season\":2025,\"Player\":pn,'playerID': get_pID(pn)},index=[0])\n",
    "df3 = pd.concat([df31,df32]).reset_index(drop=True)\n",
    "df3 = df3.reset_index()\n",
    "df3[\"index\"] +=1\n",
    "df3[\"playerID\"] = df3[\"playerID\"].astype(str)"
   ]
  },
  {
   "cell_type": "code",
   "execution_count": null,
   "metadata": {},
   "outputs": [],
   "source": [
    "g = (\n",
    "    GT(df3)\n",
    "    .tab_header(\n",
    "        title=md(\"Achilles Injuries in NBA Since 2015-16\"),\n",
    "        # subtitle=\"Since 2000\"\n",
    "    )\n",
    "    .tab_source_note(source_note=\"bsky:@sradjoker.cc | X:@sradjoker | source:prosportstransactions\")\n",
    "    .cols_label(\n",
    "        index = \"#\",\n",
    "        playerID = \"\",\n",
    "        season=\"Season\",\n",
    "    )\n",
    "    .fmt_image(\n",
    "        columns=\"playerID\",\n",
    "        path = img_DIR_P,\n",
    "        file_pattern=\"{}.png\"\n",
    "    )\n",
    "    .cols_align(align=\"center\")\n",
    "    .cols_align(align=\"left\", columns=\"Player\")\n",
    "    .tab_options(\n",
    "        heading_title_font_size=\"150%\",\n",
    "        heading_subtitle_font_size=\"110%\",\n",
    "        # heading_title_font_weight='bold',\n",
    "        table_background_color=\"ghostwhite\",\n",
    "        column_labels_font_size=\"105%\",\n",
    "        column_labels_font_weight='bold',\n",
    "        row_group_font_weight='bold',\n",
    "        row_group_background_color=\"#E5E1D8\",\n",
    "        table_font_size=10,\n",
    "        table_font_names=\"Consolas\", \n",
    "        data_row_padding = \"3px\",\n",
    "        # table_margin_left = 7,\n",
    "        # table_margin_right = 0,\n",
    "    )\n",
    ")\n",
    "g.save(fig_DIR + f\"Achilles_Injuries.png\",scale=3,web_driver=\"firefox\")\n",
    "g"
   ]
  }
 ],
 "metadata": {
  "kernelspec": {
   "display_name": "dav-ub9Z_EQq-py3.12",
   "language": "python",
   "name": "python3"
  },
  "language_info": {
   "codemirror_mode": {
    "name": "ipython",
    "version": 3
   },
   "file_extension": ".py",
   "mimetype": "text/x-python",
   "name": "python",
   "nbconvert_exporter": "python",
   "pygments_lexer": "ipython3",
   "version": "3.12.0"
  }
 },
 "nbformat": 4,
 "nbformat_minor": 2
}
