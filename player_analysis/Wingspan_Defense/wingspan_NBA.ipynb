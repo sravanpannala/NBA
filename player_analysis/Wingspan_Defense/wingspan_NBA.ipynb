{
 "cells": [
  {
   "cell_type": "markdown",
   "metadata": {},
   "source": [
    "# Old Code to get Player draft measurements"
   ]
  },
  {
   "cell_type": "code",
   "execution_count": null,
   "metadata": {},
   "outputs": [],
   "source": [
    "import pandas as pd\n",
    "from nba_api.stats.static import nba_teams\n",
    "from nba_api.stats.static import nba_players\n",
    "import time\n",
    "from IPython.display import clear_output\n",
    "import numpy as np\n",
    "from tqdm import tqdm\n",
    "import matplotlib.pyplot as plt"
   ]
  },
  {
   "cell_type": "code",
   "execution_count": null,
   "metadata": {},
   "outputs": [],
   "source": [
    "team_dict = nba_teams.get_teams() # Creating Team Dictionary\n",
    "player_dict = nba_players.get_players() # Creating Player Dictionary\n",
    "# Get team ID\n",
    "team_id = [x['id'] for x in team_dict ]\n",
    "player_id = [player['id'] for player in player_dict if player['is_active'] == True]\n",
    "[player['full_name'] for player in player_dict if player['id'] == player_id[3]]\n",
    "# player_dict[0]"
   ]
  },
  {
   "cell_type": "code",
   "execution_count": null,
   "metadata": {},
   "outputs": [],
   "source": [
    "from nba_api.stats.endpoints import draftcombineplayeranthro as player_fun"
   ]
  },
  {
   "cell_type": "code",
   "execution_count": null,
   "metadata": {},
   "outputs": [],
   "source": [
    "\n",
    "response = player_fun.DraftCombinePlayerAnthro(season_year='2019').get_dict()\n",
    "response0 = response['resultSets'][0]\n",
    "presponse0 = response['resultSets'][0]['rowSet']\n",
    "# 1 ID 4 Name 5 Pos 6 Height WO Shoes 8 Height W shoes \n",
    "# 11 Wingspan 13 Standing Reach\n",
    "presponse0[75][6]"
   ]
  },
  {
   "cell_type": "code",
   "execution_count": null,
   "metadata": {},
   "outputs": [],
   "source": [
    "if not presponse0[75][4]:\n",
    "  print(\"List is empty\")"
   ]
  },
  {
   "cell_type": "code",
   "execution_count": null,
   "metadata": {},
   "outputs": [],
   "source": [
    "years = [str(x) for x in range(2003,2021)]\n",
    "# data = pd.read_csv(\"players_3PT_FT_filt.csv\")\n",
    "# pID = data[\"pID\"]\n",
    "pID = []\n",
    "Player_Name = [] # Player Name\n",
    "Position = []\n",
    "Height = []\n",
    "Wingspan = []\n",
    "Stand_Reach = []\n",
    "\n",
    "# len(player_id)\n",
    "tic = time.perf_counter()\n",
    "for i in tqdm(range(len(years))):\n",
    "    time.sleep(0.6)\n",
    "    response = player_fun.DraftCombinePlayerAnthro(season_year=years[i]).get_dict()\n",
    "    response1 = response['resultSets'][0]['rowSet']\n",
    "    for ii in range(len(response1)):\n",
    "        if not response1[ii][6]:\n",
    "            continue\n",
    "        pID.append(response1[ii][1])\n",
    "        Player_Name.append(response1[ii][4])\n",
    "        Position.append(response1[ii][5])\n",
    "        Height.append(response1[ii][6])\n",
    "        Wingspan.append(response1[ii][11])\n",
    "        Stand_Reach.append(response1[ii][13])\n",
    "    clear_output(wait=True)\n",
    "    print(i)\n",
    "toc = time.perf_counter()\n",
    "print(toc-tic)"
   ]
  },
  {
   "cell_type": "code",
   "execution_count": null,
   "metadata": {},
   "outputs": [],
   "source": [
    "len(pID)"
   ]
  },
  {
   "cell_type": "code",
   "execution_count": null,
   "metadata": {},
   "outputs": [],
   "source": [
    "dataset = pd.DataFrame({'pID':pID,'Player_Name':Player_Name,\n",
    "'Position':Position,'Height':Height, 'Wingspan':Wingspan,'Stand_Reach':Stand_Reach})\n",
    "dataset.to_csv ('players_draft_measurements.csv',index=False)\n"
   ]
  },
  {
   "cell_type": "code",
   "execution_count": null,
   "metadata": {},
   "outputs": [],
   "source": [
    "# print(dataset)\n",
    "dataset.iloc[0:3,:]"
   ]
  },
  {
   "cell_type": "code",
   "execution_count": null,
   "metadata": {},
   "outputs": [],
   "source": []
  }
 ],
 "metadata": {
  "kernelspec": {
   "display_name": "Python 3.8.6 64-bit",
   "metadata": {
    "interpreter": {
     "hash": "002f5fbc98c1af9c244d84d9c6f0810dde0bbcc72c1958dce795625246a0a69f"
    }
   },
   "name": "python3"
  },
  "language_info": {
   "codemirror_mode": {
    "name": "ipython",
    "version": 3
   },
   "file_extension": ".py",
   "mimetype": "text/x-python",
   "name": "python",
   "nbconvert_exporter": "python",
   "pygments_lexer": "ipython3",
   "version": "3.8.6-final"
  },
  "orig_nbformat": 2
 },
 "nbformat": 4,
 "nbformat_minor": 2
}
