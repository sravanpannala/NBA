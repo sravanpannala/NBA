{
 "cells": [
  {
   "cell_type": "markdown",
   "metadata": {},
   "source": [
    "# Old Code to import Rim protection numbers"
   ]
  },
  {
   "cell_type": "code",
   "execution_count": null,
   "metadata": {},
   "outputs": [],
   "source": [
    "import pandas as pd\n",
    "from nba_api.stats.static import teams\n",
    "from nba_api.stats.static import players\n",
    "import time\n",
    "from IPython.display import clear_output\n",
    "import numpy as np\n",
    "from tqdm import tqdm\n",
    "import matplotlib.pyplot as plt"
   ]
  },
  {
   "cell_type": "code",
   "execution_count": null,
   "metadata": {},
   "outputs": [],
   "source": [
    "team_dict = teams.get_teams() # Creating Team Dictionary\n",
    "player_dict = players.get_players() # Creating Player Dictionary\n",
    "# Get team ID\n",
    "team_id = [x['id'] for x in team_dict ]\n",
    "player_id = [player['id'] for player in player_dict if player['is_active'] == True]\n",
    "[player['full_name'] for player in player_dict if player['id'] == player_id[245]]\n",
    "# player_dict[0]"
   ]
  },
  {
   "cell_type": "code",
   "execution_count": null,
   "metadata": {},
   "outputs": [],
   "source": [
    "from nba_api.stats.endpoints import playerdashptshotdefend as player_fun"
   ]
  },
  {
   "cell_type": "code",
   "execution_count": null,
   "metadata": {},
   "outputs": [],
   "source": [
    "response = player_fun.PlayerDashPtShotDefend(team_id =0, player_id = player_id[145], season = ['2017-18','2018-19','2019-20']).get_dict()\n",
    "response0 = response['resultSets'][0]\n",
    "presponse0 = response['resultSets'][0]['rowSet']\n",
    "#['CLOSE_DEF_PERSON_ID','GP','G','DEFENSE_CATEGORY','FREQ','D_FGM','D_FGA','D_FG_PCT','NORMAL_FG_PCT','PCT_PLUSMINUS'],\n",
    "presponse0"
   ]
  },
  {
   "cell_type": "code",
   "execution_count": null,
   "metadata": {},
   "outputs": [],
   "source": [
    "# data = pd.read_csv(\"players_3PT_FT_filt.csv\")\n",
    "# pID = data[\"pID\"]\n",
    "pID = []\n",
    "D_FGM =[]\n",
    "D_FGA = []\n",
    "D_FG_PCT = []\n",
    "Normal_FG_PCT = []\n",
    "PCT_PlusMinus = []\n",
    "\n",
    "tic = time.perf_counter()\n",
    "# len(player_id)\n",
    "for i in tqdm(range(len(player_id))):\n",
    "    time.sleep(0.6)\n",
    "    response = player_fun.PlayerDashPtShotDefend(team_id =0, player_id=player_id[i], season = ['2017-18','2018-19','2019-20']).get_dict()\n",
    "    response1 = response['resultSets'][0]['rowSet']\n",
    "    if response1 ==[] or not response1[3][6] or  response1[3][6]<100:\n",
    "        continue\n",
    "    pID.append(response1[3][0])\n",
    "    D_FGM.append(response1[3][5]) \n",
    "    D_FGA.append(response1[3][6]) \n",
    "    D_FG_PCT.append(response1[3][7])\n",
    "    Normal_FG_PCT.append(response1[3][8])\n",
    "    PCT_PlusMinus.append(response1[3][9]) \n",
    "    clear_output(wait=True)\n",
    "    print(i)\n",
    "toc = time.perf_counter()\n",
    "print((toc-tic)/60)"
   ]
  },
  {
   "cell_type": "code",
   "execution_count": null,
   "metadata": {},
   "outputs": [],
   "source": [
    "len(PCT_PlusMinus)"
   ]
  },
  {
   "cell_type": "code",
   "execution_count": null,
   "metadata": {},
   "outputs": [],
   "source": [
    "dataset = pd.DataFrame({'pID':pID,'D_FGM':D_FGM, 'D_FGA':D_FGA, 'D_FG_PCT':D_FG_PCT, 'Normal_FG_PCT':Normal_FG_PCT, 'PCT_PlusMinus':PCT_PlusMinus})\n",
    "dataset.to_csv ('players_RimDefense_2017_20_cum.csv')\n"
   ]
  },
  {
   "cell_type": "code",
   "execution_count": null,
   "metadata": {},
   "outputs": [],
   "source": [
    "# print(dataset)\n",
    "dataset.iloc[0:3,:]"
   ]
  },
  {
   "cell_type": "code",
   "execution_count": null,
   "metadata": {},
   "outputs": [],
   "source": []
  }
 ],
 "metadata": {
  "kernelspec": {
   "display_name": "nbaenv",
   "language": "python",
   "name": "nbaenv"
  },
  "language_info": {
   "codemirror_mode": {
    "name": "ipython",
    "version": 3
   },
   "file_extension": ".py",
   "mimetype": "text/x-python",
   "name": "python",
   "nbconvert_exporter": "python",
   "pygments_lexer": "ipython3",
   "version": "3.8.6-final"
  },
  "orig_nbformat": 2
 },
 "nbformat": 4,
 "nbformat_minor": 2
}
