{
 "cells": [
  {
   "cell_type": "markdown",
   "metadata": {},
   "source": [
    "# NBA 3PT shooting data vs touch time"
   ]
  },
  {
   "cell_type": "code",
   "execution_count": null,
   "metadata": {},
   "outputs": [],
   "source": [
    "import pandas as pd\n",
    "import time\n",
    "from IPython.display import clear_output\n",
    "import itertools\n",
    "import numpy as np\n",
    "from tqdm import tqdm\n",
    "import os, sys\n",
    "sys.path.append(os.path.dirname(os.path.dirname(os.path.abspath(\"__file__\"))))\n",
    "from nbafuns import *"
   ]
  },
  {
   "cell_type": "code",
   "execution_count": null,
   "metadata": {},
   "outputs": [],
   "source": [
    "from nba_api.stats.endpoints import playerdashboardbygeneralsplits as player_fun\n",
    "from nba_api.stats.endpoints import playerdashptshots as player_fun1\n",
    "\n",
    "year = 2020\n",
    "player_dict = get_players(league = 'NBA', from_year = year, to_year = year)\n",
    "player_id = [player['pID'] for player in player_dict]"
   ]
  },
  {
   "cell_type": "code",
   "execution_count": null,
   "metadata": {},
   "outputs": [],
   "source": [
    "response2 = player_fun1.PlayerDashPtShots(team_id = 0,player_id = '2544',season='2019-20').get_data_frames()\n",
    "response = player_fun.PlayerDashboardByGeneralSplits(player_id[245],season=['2017-18','2018-19','2019-20']).get_data_frames()"
   ]
  },
  {
   "cell_type": "code",
   "execution_count": null,
   "metadata": {},
   "outputs": [],
   "source": [
    "response2[6]"
   ]
  },
  {
   "cell_type": "code",
   "execution_count": null,
   "metadata": {},
   "outputs": [],
   "source": [
    "# data = pd.read_csv(\"players_3PT_FT_filt.csv\")\n",
    "# pID = data[\"pID\"]\n",
    "pID = []\n",
    "Player_Name = []\n",
    "\n",
    "FGM_0_2,    FGA_0_2 = [],[]\n",
    "FGM_2_6,    FGA_2_6 = [],[]\n",
    "FGM_6_p,    FGA_6_p = [],[]\n",
    "FG3M_0_2,   FG3A_0_2 = [],[]\n",
    "FG3M_2_6,   FG3A_2_6 = [],[]\n",
    "FG3M_6_p,   FG3A_6_p = [],[]\n",
    "# len(player_id)\n",
    "ii = 0\n",
    "tic = time.perf_counter()\n",
    "for i in tqdm(range(len(player_id))):\n",
    "    time.sleep(0.6)\n",
    "    pID.append(player_id[i]) \n",
    "    response = player_fun1.PlayerDashPtShots(team_id = 0,player_id = player_id[i],season=['2020-21']).get_data_frames()[6]\n",
    "    response1 = response[response['TOUCH_TIME_RANGE']=='Touch < 2 Seconds']\n",
    "    response2 = response[response['TOUCH_TIME_RANGE']=='Touch 2-6 Seconds']\n",
    "    response3 = response[response['TOUCH_TIME_RANGE']=='Touch 6+ Seconds']\n",
    "    response1 = response1.reset_index(drop=True)\n",
    "    response2 = response2.reset_index(drop=True)\n",
    "    response3 = response3.reset_index(drop=True)\n",
    "    try:\n",
    "        FGM_0_2.append(response1['FGM'][0])\n",
    "        FGA_0_2.append(response1['FGA'][0])\n",
    "        FG3M_0_2.append(response1['FG3M'][0])\n",
    "        FG3A_0_2.append(response1['FG3A'][0])\n",
    "    except:\n",
    "        FGM_0_2.append(0)\n",
    "        FGA_0_2.append(0)\n",
    "        FG3M_0_2.append(0)\n",
    "        FG3A_0_2.append(0)\n",
    "    try:\n",
    "        FGM_2_6.append(response2['FGM'][0])\n",
    "        FGA_2_6.append(response2['FGA'][0])\n",
    "        FG3M_2_6.append(response2['FG3M'][0])\n",
    "        FG3A_2_6.append(response2['FG3A'][0])\n",
    "    except:\n",
    "        FGM_2_6.append(0)\n",
    "        FGA_2_6.append(0)\n",
    "        FG3M_2_6.append(0)\n",
    "        FG3A_2_6.append(0)\n",
    "    try:\n",
    "        FGM_6_p.append(response3['FGM'][0])\n",
    "        FGA_6_p.append(response3['FGA'][0])\n",
    "        FG3M_6_p.append(response3['FG3M'][0])\n",
    "        FG3A_6_p.append(response3['FG3A'][0])\n",
    "    except:\n",
    "        FGM_6_p.append(0)\n",
    "        FGA_6_p.append(0)\n",
    "        FG3M_6_p.append(0)\n",
    "        FG3A_6_p.append(0)\n",
    "    Player_Name.append([player['Name'] for player in player_dict if player['pID'] == player_id[i]])\n",
    "    clear_output(wait=True)\n",
    "    # print(i+1)\n",
    "    ii+=1\n",
    "    # print(ii)\n",
    "toc = time.perf_counter()\n",
    "print((toc-tic)/60)"
   ]
  },
  {
   "cell_type": "code",
   "execution_count": null,
   "metadata": {},
   "outputs": [],
   "source": [
    "Player_Name = list(itertools.chain(*Player_Name))\n",
    "dataset = pd.DataFrame({'pID':pID,'Player_Name':Player_Name,\n",
    "'FGM_0_2': FGM_0_2, 'FGA_0_2': FGA_0_2, \n",
    "'FGM_2_6': FGM_2_6, 'FGA_2_6': FGA_2_6,\n",
    "'FGM_6_p': FGM_6_p, 'FGA_6_p': FGA_6_p,\n",
    "'FG3M_0_2': FG3M_0_2, 'FG3A_0_2': FG3A_0_2,\n",
    "'FG3M_2_6': FG3M_2_6, 'FG3A_2_6': FG3A_2_6,\n",
    "'FG3M_6_p': FG3M_6_p, 'FG3A_6_p': FG3A_6_p\n",
    "})\n",
    "dataset.to_csv ('players_shooting_touchtime_2020_21.csv',index=False)\n"
   ]
  },
  {
   "cell_type": "code",
   "execution_count": null,
   "metadata": {},
   "outputs": [],
   "source": [
    "# print(dataset)\n",
    "dataset.iloc[0:3,:]"
   ]
  },
  {
   "cell_type": "code",
   "execution_count": null,
   "metadata": {},
   "outputs": [],
   "source": []
  }
 ],
 "metadata": {
  "interpreter": {
   "hash": "db2ffdd2fa3280b0b06d6e60ebb32d8dd74e69e88849db114a808c9d7fbf6c89"
  },
  "kernelspec": {
   "display_name": "Python 3.9.5 64-bit ('NBA-O70mvEYv': pipenv)",
   "name": "python3"
  },
  "language_info": {
   "codemirror_mode": {
    "name": "ipython",
    "version": 3
   },
   "file_extension": ".py",
   "mimetype": "text/x-python",
   "name": "python",
   "nbconvert_exporter": "python",
   "pygments_lexer": "ipython3",
   "version": "3.9.5"
  },
  "orig_nbformat": 2
 },
 "nbformat": 4,
 "nbformat_minor": 2
}
