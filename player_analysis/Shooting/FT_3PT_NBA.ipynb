{
 "cells": [
  {
   "cell_type": "markdown",
   "metadata": {},
   "source": [
    "# Code to get FT & 3PT Shooting Data"
   ]
  },
  {
   "cell_type": "code",
   "execution_count": null,
   "metadata": {},
   "outputs": [],
   "source": [
    "import pandas as pd\n",
    "import time\n",
    "from IPython.display import clear_output\n",
    "import itertools\n",
    "import numpy as np\n",
    "from tqdm import tqdm\n",
    "import os, sys\n",
    "sys.path.append(os.path.dirname(os.path.dirname(os.path.abspath(\"__file__\"))))\n",
    "from nbafuns import *"
   ]
  },
  {
   "cell_type": "code",
   "execution_count": null,
   "metadata": {},
   "outputs": [],
   "source": [
    "team_dict = teams.get_teams() # Creating Team Dictionary\n",
    "# Get team ID\n",
    "team_id = [x['id'] for x in team_dict ]\n",
    "year = 2020\n",
    "player_dict = get_players(league = 'NBA', from_year = year, to_year = year)\n",
    "player_id = [player['pID'] for player in player_dict]\n"
   ]
  },
  {
   "cell_type": "code",
   "execution_count": null,
   "metadata": {},
   "outputs": [],
   "source": [
    "from nba_api.stats.endpoints import playerdashboardbygeneralsplits as player_fun\n",
    "from nba_api.stats.endpoints import playerdashptshots as player_fun1"
   ]
  },
  {
   "cell_type": "code",
   "execution_count": null,
   "metadata": {},
   "outputs": [],
   "source": [
    "response2 = player_fun1.PlayerDashPtShots(team_id = 0,player_id = '2544',season='2019-20').get_data_frames()\n",
    "# response2[4]"
   ]
  },
  {
   "cell_type": "code",
   "execution_count": null,
   "metadata": {},
   "outputs": [],
   "source": [
    "# data = pd.read_csv(\"players_3PT_FT_filt.csv\")\n",
    "# pID = data[\"pID\"]\n",
    "pID = []\n",
    "Player_Name = []\n",
    "FG3M = []\n",
    "FG3A = []\n",
    "FG3_PCT = []\n",
    "FTM = []\n",
    "FTA = []\n",
    "FT_PCT = []\n",
    "FG3M_CnS = []\n",
    "FG3A_CnS = []\n",
    "FG3_PCT_CnS = []\n",
    "FG3M_PUP = []\n",
    "FG3A_PUP = []\n",
    "FG3_PCT_PUP = []\n",
    "FG3M_O = []\n",
    "FG3A_O = []\n",
    "FG3_PCT_O = []\n",
    "FG3M_WO = []\n",
    "FG3A_WO = []\n",
    "FG3_PCT_WO = []\n",
    "# len(player_id)\n",
    "ii = 0\n",
    "tic = time.perf_counter()\n",
    "for i in tqdm(range(len(player_id))):\n",
    "    time.sleep(0.6)\n",
    "    response = player_fun.PlayerDashboardByGeneralSplits(player_id[i],season=['2017-18','2018-19','2019-20']).get_data_frames()[0]\n",
    "    try:\n",
    "        FG3M.append(response['FG3M'][0])\n",
    "        FG3A.append(response['FG3A'][0])\n",
    "        FG3_PCT.append(response['FG3_PCT'][0])\n",
    "        FTM.append(response['FTM'][0])\n",
    "        FTA.append(response['FTA'][0])\n",
    "        FT_PCT.append(response['FT_PCT'][0])\n",
    "    except:\n",
    "        continue\n",
    "    pID.append(player_id[i]) \n",
    "    response2 = player_fun1.PlayerDashPtShots(team_id = 0,player_id = player_id[i],season=['2020-21']).get_data_frames()[1]\n",
    "    response3 = player_fun1.PlayerDashPtShots(team_id = 0,player_id = player_id[i],season=['2020-21']).get_data_frames()[4]\n",
    "    FG3M_CnS.append(response2['FG3M'][0])\n",
    "    FG3A_CnS.append(response2['FG3A'][0])\n",
    "    FG3_PCT_CnS.append(response2['FG3_PCT'][0])\n",
    "    FG3M_PUP.append(response2['FG3M'][1])\n",
    "    FG3A_PUP.append(response2['FG3M'][1])\n",
    "    FG3_PCT_PUP.append(response2['FG3_PCT'][1])\n",
    "    FG3M_O.append(response3['FG3M'][2])\n",
    "    FG3A_O.append(response3['FG3A'][2])\n",
    "    FG3_PCT_O.append(response3['FG3_PCT'][2])\n",
    "    FG3M_WO.append(response3['FG3M'][3])\n",
    "    FG3A_WO.append(response3['FG3A'][3])\n",
    "    FG3_PCT_WO.append(response3['FG3_PCT'][3])\n",
    "    Player_Name.append([player['Name'] for player in player_dict if player['pID'] == player_id[i]])\n",
    "    clear_output(wait=True)\n",
    "    # print(i)\n",
    "    ii+=1\n",
    "    # print(ii)\n",
    "toc = time.perf_counter()\n",
    "print((toc-tic)/60)"
   ]
  },
  {
   "cell_type": "code",
   "execution_count": null,
   "metadata": {},
   "outputs": [],
   "source": [
    "Player_Name = list(itertools.chain(*Player_Name))\n",
    "dataset = pd.DataFrame({'pID':pID,'Player_Name':Player_Name,\n",
    "'FG3M':FG3M,\n",
    "'FG3A':FG3A,\n",
    "'FG3_PCT':FG3_PCT,\n",
    "'FTM':FTM,\n",
    "'FTA':FTA,\n",
    "'FT_PCT':FT_PCT,\n",
    "'FG3M_CnS':FG3M_CnS,\n",
    "'FG3A_CnS':FG3A_CnS,\n",
    "'FG3_PCT_CnS':FG3_PCT_CnS,\n",
    "'FG3M_PUP':FG3M_PUP,\n",
    "'FG3A_PUP':FG3A_PUP,\n",
    "'FG3_PCT_PUP':FG3_PCT_PUP,\n",
    "'FG3M_O':FG3M_O,\n",
    "'FG3A_O':FG3A_O,\n",
    "'FG3_PCT_O':FG3_PCT_O,\n",
    "'FG3M_WO':FG3M_WO,\n",
    "'FG3A_WO':FG3A_WO,\n",
    "'FG3_PCT_WO':FG3_PCT_WO\n",
    "})\n",
    "dataset.to_csv ('fdata/players_3PT_shooting_2017_20_cum.csv',index=False)\n"
   ]
  },
  {
   "cell_type": "code",
   "execution_count": null,
   "metadata": {},
   "outputs": [],
   "source": [
    "# print(dataset)\n",
    "dataset.iloc[0:3,:]"
   ]
  },
  {
   "cell_type": "code",
   "execution_count": null,
   "metadata": {},
   "outputs": [],
   "source": []
  }
 ],
 "metadata": {
  "kernelspec": {
   "display_name": "Python 3.8.6 64-bit ('NBA-LJs_y2gm': pipenv)",
   "name": "nba"
  },
  "language_info": {
   "codemirror_mode": {
    "name": "ipython",
    "version": 3
   },
   "file_extension": ".py",
   "mimetype": "text/x-python",
   "name": "python",
   "nbconvert_exporter": "python",
   "pygments_lexer": "ipython3",
   "version": "3.8.6"
  },
  "orig_nbformat": 2
 },
 "nbformat": 4,
 "nbformat_minor": 2
}
