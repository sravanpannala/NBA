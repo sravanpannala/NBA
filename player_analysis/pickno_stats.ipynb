{
 "cells": [
  {
   "cell_type": "code",
   "execution_count": null,
   "metadata": {},
   "outputs": [],
   "source": [
    "import os, sys\n",
    "\n",
    "sys.path.append(os.path.dirname(os.path.dirname(os.path.abspath(\"__file__\"))))\n",
    "from nbafuns import *\n",
    "\n",
    "data_DIR = \"../data/all_in_one_metrics/\"\n",
    "fig_DIR = \"../figs/player_analysis/\"\n",
    "roster_DIR = \"../data/rosters/\" \n",
    "box_DIR = \"../data/box/\""
   ]
  },
  {
   "cell_type": "code",
   "execution_count": null,
   "metadata": {},
   "outputs": [],
   "source": [
    "cols = ['PLAYER_ID', 'PLAYER_NAME', 'WL' , 'MIN', 'FGM',\n",
    "       'FGA', 'FG_PCT', 'FG3M', 'FG3A', 'FG3_PCT', 'FTM', 'FTA', 'FT_PCT',\n",
    "       'OREB', 'DREB', 'REB', 'AST', 'STL', 'BLK', 'TOV', 'PF', 'PTS',\n",
    "       'PLUS_MINUS', ]\n",
    "dfa = []\n",
    "for year in range(1980,2024):\n",
    "    df1 = pd.read_parquet(box_DIR + f\"NBA_Box_P_Base_{year}.parquet\",columns=cols)\n",
    "    df1[\"W\"] = df1[\"WL\"] == \"W\"\n",
    "    df1[\"L\"] = df1[\"WL\"] == \"L\"\n",
    "    df1[\"W\"] = np.where(df1[\"W\"],1,0)\n",
    "    df1[\"L\"] = np.where(df1[\"L\"],1,0)\n",
    "    # df1 = df1.drop(columns=[\"WL\"])\n",
    "    df1 = df1.rename(columns={\"WL\":\"GP\"})\n",
    "    df1[\"GP\"] = 1\n",
    "    df2 =df1.groupby(['PLAYER_ID', 'PLAYER_NAME']).sum()\n",
    "    dfa.append(df2)\n",
    "df3 = pd.concat(dfa)\n",
    "df3 = df3\n",
    "df4 =df3.groupby(['PLAYER_ID', 'PLAYER_NAME']).sum().reset_index()\n",
    "df4.columns = map(str.lower, df4.columns)"
   ]
  },
  {
   "cell_type": "code",
   "execution_count": null,
   "metadata": {},
   "outputs": [],
   "source": [
    "df_draft = pd.read_parquet(roster_DIR+ \"NBA_Draft_History.parquet\")\n",
    "df_draft.columns = map(str.lower, df_draft.columns)\n",
    "df_draft[\"season\"] = df_draft[\"season\"].astype(int)\n",
    "df_draft = df_draft.rename(columns={\"person_id\":\"player_id\"})\n",
    "df_draft = df_draft.query(\"season > 2013\")"
   ]
  },
  {
   "cell_type": "code",
   "execution_count": null,
   "metadata": {},
   "outputs": [],
   "source": [
    "pick = 1\n",
    "df5 = df_draft.query(f\"overall_pick == {pick}\")"
   ]
  },
  {
   "cell_type": "code",
   "execution_count": null,
   "metadata": {},
   "outputs": [],
   "source": [
    "df5"
   ]
  }
 ],
 "metadata": {
  "kernelspec": {
   "display_name": "nba-ub9Z_EQq-py3.11",
   "language": "python",
   "name": "python3"
  },
  "language_info": {
   "codemirror_mode": {
    "name": "ipython",
    "version": 3
   },
   "file_extension": ".py",
   "mimetype": "text/x-python",
   "name": "python",
   "nbconvert_exporter": "python",
   "pygments_lexer": "ipython3",
   "version": "3.11.6"
  }
 },
 "nbformat": 4,
 "nbformat_minor": 2
}
