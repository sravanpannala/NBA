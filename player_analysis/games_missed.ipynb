{
 "cells": [
  {
   "cell_type": "code",
   "execution_count": null,
   "metadata": {},
   "outputs": [],
   "source": [
    "import os, sys\n",
    "\n",
    "sys.path.append(os.path.dirname(os.path.dirname(os.path.abspath(\"__file__\"))))\n",
    "from nbafuns import *\n",
    "\n",
    "# fig_DIR = \"../figs/team_ratings/\"\n",
    "box_DIR = \"../data/box/\"\n",
    "img_DIR_P = \"../data/images/players/\""
   ]
  },
  {
   "cell_type": "code",
   "execution_count": null,
   "metadata": {},
   "outputs": [],
   "source": [
    "dfa = []\n",
    "for season in range(2019,2024):\n",
    "    df1 = pd.read_parquet(box_DIR + f\"NBA_Box_P_Cum_Base_{season}.parquet\")\n",
    "    df1[\"Season\"] = season +1\n",
    "    dfa.append(df1)\n",
    "df2 = pd.concat(dfa)"
   ]
  },
  {
   "cell_type": "code",
   "execution_count": null,
   "metadata": {},
   "outputs": [],
   "source": [
    "players = [\"LeBron James\",\"Chris Paul\",\"Kevin Durant\",\"Russell Westbrook\",\"Stephen Curry\",\"James Harden\",\"Jimmy Butler\",\"Paul George\"]\n",
    "# players = [\"Joel Embiid\"]\n",
    "pIDs = [get_pID(pp) for pp in players]\n",
    "df2[\"Season\"] = pd.Categorical(df2[\"Season\"])\n",
    "df3 = df2[df2[\"PLAYER_ID\"].isin(pIDs)]\n",
    "df3 = df3.sort_values([\"AGE\"])"
   ]
  },
  {
   "cell_type": "code",
   "execution_count": null,
   "metadata": {},
   "outputs": [],
   "source": [
    "from plotnine import geom_histogram, after_stat, stat_bin, geom_col, scale_fill_brewer,scale_fill_discrete, position_stack\n",
    "from mizani.formatters import percent_format"
   ]
  },
  {
   "cell_type": "code",
   "execution_count": null,
   "metadata": {},
   "outputs": [],
   "source": [
    "colors = [\n",
    "    '#000000',\n",
    "    '#0057e7',\n",
    "    '#d62d20',\n",
    "    '#008744',\n",
    "    '#ffa700',\n",
    "    '#9AA0A6',\n",
    "    '#4d1b7b',\n",
    "]"
   ]
  },
  {
   "cell_type": "code",
   "execution_count": null,
   "metadata": {},
   "outputs": [],
   "source": [
    "p = (\n",
    "    ggplot(df3)\n",
    "    + aes(x=\"PLAYER_NAME\",y=\"GP\",fill=\"Season\")\n",
    "    + geom_col(position=position_stack(reverse=True),color=\"white\")\n",
    "    + scale_fill_manual(values = colors[1:-1], name=\"Season\")\n",
    "    + coord_flip()\n",
    "    + theme_idv\n",
    "    + labs(\n",
    "        y=\"Games Played\",\n",
    "        x=\"Player\",\n",
    "        title=\"Games Played over Past 5 Seasons\",\n",
    "        caption=\"@sradjoker | source: nba.com/stats\",\n",
    "    )\n",
    "    + theme(\n",
    "        figure_size=(8,5),\n",
    "        axis_text_y=element_text(size=14),\n",
    "        axis_text_x=element_text(size=12),\n",
    "        axis_title_x=element_text(size=16),\n",
    "        plot_title=element_text(size=20),\n",
    "    )\n",
    ")\n",
    "# p.save(fig_DIR + \"salary_col.png\", verbose=False,dpi=300)\n",
    "p"
   ]
  }
 ],
 "metadata": {
  "kernelspec": {
   "display_name": "nba-ub9Z_EQq-py3.11",
   "language": "python",
   "name": "python3"
  },
  "language_info": {
   "codemirror_mode": {
    "name": "ipython",
    "version": 3
   },
   "file_extension": ".py",
   "mimetype": "text/x-python",
   "name": "python",
   "nbconvert_exporter": "python",
   "pygments_lexer": "ipython3",
   "version": "3.11.6"
  }
 },
 "nbformat": 4,
 "nbformat_minor": 2
}
