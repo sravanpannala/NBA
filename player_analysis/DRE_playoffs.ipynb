{
 "cells": [
  {
   "cell_type": "code",
   "execution_count": null,
   "metadata": {
    "metadata": {}
   },
   "outputs": [],
   "source": [
    "import os, sys\n",
    "\n",
    "sys.path.append(os.path.dirname(os.path.dirname(os.path.abspath(\"__file__\"))))\n",
    "from nbafuns import *\n",
    "\n",
    "player_dict = get_players_pbp()\n",
    "teams_dict, teams_list = get_teams()\n",
    "\n",
    "box_DIR = \"../data/box/\"\n",
    "img_DIR_P = \"../data/images/players/\"\n",
    "fig_DIR = \"../figs/players/\""
   ]
  },
  {
   "cell_type": "code",
   "execution_count": null,
   "metadata": {
    "metadata": {}
   },
   "outputs": [],
   "source": [
    "dfa = []\n",
    "for year in range(2013,2023):\n",
    "    df1 = pd.read_parquet(box_DIR+f\"NBA_Box_P_Base_{year}_PS.parquet\")\n",
    "    df1[\"GAME_ID\"] = df1[\"GAME_ID\"].astype(int)\n",
    "    df2 = pd.read_parquet(box_DIR+f\"NBA_Box_P_Adv_{year}_PS.parquet\",columns=[\"gameId\",\"personId\",\"possessions\"])\n",
    "    df2.columns = ['GAME_ID','PLAYER_ID',\"POSS\"]\n",
    "    df3 = pd.merge(df1,df2,on=['GAME_ID','PLAYER_ID'])\n",
    "    df3[\"Season\"] = year +1\n",
    "    df3[\"DRE\"] = -8.42364*df3[\"POSS\"]/100+0.79231*df3[\"PTS\"]-0.71944*(df3[\"FGA\"]-df3[\"FG3A\"])-0.55233*df3[\"FG3A\"]-0.15944*df3[\"FTA\"]+0.13479*df3[\"OREB\"]+0.3996*df3[\"DREB\"]+0.54415*df3[\"AST\"]+1.68007*df3[\"STL\"]+0.76387*df3[\"BLK\"]-1.3599*df3[\"TOV\"]-0.10838*df3[\"PF\"]\n",
    "\n",
    "    df3[\"GmSc\"] = df3[\"PTS\"]+0.4*df3[\"FGM\"]-0.7*df3[\"FGA\"]-0.4*(df3[\"FTA\"]-df3[\"FTM\"])+0.7*df3[\"OREB\"]+0.3*df3[\"DREB\"]+df3[\"STL\"]+0.7*df3[\"AST\"]+0.7*df3[\"BLK\"]-0.4*df3[\"PF\"]-df3[\"TOV\"]\n",
    "    dfa.append(df3)\n",
    "df3 = pd.concat(dfa)"
   ]
  },
  {
   "cell_type": "code",
   "execution_count": null,
   "metadata": {
    "metadata": {}
   },
   "outputs": [],
   "source": [
    "players = [\"LeBron James\",\"Stephen Curry\",\"Kevin Durant\",\"Kawhi Leonard\",\"DeMar DeRozan\",\"Giannis Antetokounmpo\",\"Luka Doncic\",\"Shai Gilgeous-Alexander\",\"Nikola Jokic\",\"Jayson Tatum\"]\n",
    "players = [\"James Harden\"]\n",
    "# players = [\"Joel Embiid\"]\n",
    "pIDs = [get_pID(pp) for pp in players]\n",
    "df4 = df3[df3[\"PLAYER_ID\"].isin(pIDs)]"
   ]
  },
  {
   "cell_type": "code",
   "execution_count": null,
   "metadata": {
    "metadata": {}
   },
   "outputs": [],
   "source": [
    "df4g = df4.groupby([\"PLAYER_NAME\",\"Season\"])\n",
    "keys = list(df4g.groups)\n",
    "dfb = []\n",
    "for key in keys:\n",
    "    df5 = df4g.get_group(key).reset_index(drop=True).reset_index()\n",
    "    df5[\"index\"] +=1\n",
    "    df5 = df5.rename(columns={\"index\":\"Game_No\"})\n",
    "    dfb.append(df5)\n",
    "df6 = pd.concat(dfb)\n",
    "df6[\"Player_Season\"] = df6[\"Season\"].astype(str) + \" \" + df6[\"PLAYER_NAME\"]\n",
    "df6[\"Season\"] = df6[\"Season\"].astype(\"category\")"
   ]
  },
  {
   "cell_type": "code",
   "execution_count": null,
   "metadata": {
    "metadata": {}
   },
   "outputs": [],
   "source": [
    "p = (\n",
    "    ggplot(df6,aes(x=\"Game_No\",y=\"DRE\",color=\"Season\",group=\"Season\"))\n",
    "    + geom_point(size=2)\n",
    "    + geom_smooth(se=False,size=2,method=\"lowess\")#method=\"lm\")\n",
    "    + theme_idv\n",
    "    + geom_hline(yintercept=0,linetype=\"dashed\")\n",
    "    # + scale_x_date(date_labels = \"%b-%d\",date_breaks = \"1 month\")\n",
    "    # + scale_color_brewer(type=\"qual\", palette=3)\n",
    "    # + scale_color_discrete(h=0.1,s=0.8,l=0.5)\n",
    "    + theme(\n",
    "        figure_size=(7,5),\n",
    "        legend_title=element_blank(),\n",
    "    )\n",
    "    + labs(\n",
    "        x=\"Game # in Playoffs\",\n",
    "        title=\"Daily RAPM Estimate (DRE) for James Harden Playoff Runs\",\n",
    "        subtitle=\"DRE is a stat created by @NBACouchside similar to GameScore\",\n",
    "        caption=\"@sradjoker | source: nba.com/stats | DRE Formula: @NBACouchside\",\n",
    "    )\n",
    ")\n",
    "p"
   ]
  },
  {
   "cell_type": "code",
   "execution_count": null,
   "metadata": {
    "metadata": {}
   },
   "outputs": [],
   "source": [
    "dfa = []\n",
    "for year in range(2023,2024):\n",
    "    df1 = pd.read_parquet(box_DIR+f\"NBA_Box_P_Base_{year}_PS.parquet\")\n",
    "    df1[\"GAME_ID\"] = df1[\"GAME_ID\"].astype(int)\n",
    "    df2 = pd.read_parquet(box_DIR+f\"NBA_Box_P_Adv_{year}_PS.parquet\",columns=[\"gameId\",\"personId\",\"possessions\"])\n",
    "    df2.columns = ['GAME_ID','PLAYER_ID',\"POSS\"]\n",
    "    df3 = pd.merge(df1,df2,on=['GAME_ID','PLAYER_ID'])\n",
    "    df3[\"Season\"] = year +1\n",
    "    df3[\"DRE\"] = -8.42364*df3[\"POSS\"]/100+0.79231*df3[\"PTS\"]-0.71944*(df3[\"FGA\"]-df3[\"FG3A\"])-0.55233*df3[\"FG3A\"]-0.15944*df3[\"FTA\"]+0.13479*df3[\"OREB\"]+0.3996*df3[\"DREB\"]+0.54415*df3[\"AST\"]+1.68007*df3[\"STL\"]+0.76387*df3[\"BLK\"]-1.3599*df3[\"TOV\"]-0.10838*df3[\"PF\"]\n",
    "\n",
    "    df3[\"GmSc\"] = df3[\"PTS\"]+0.4*df3[\"FGM\"]-0.7*df3[\"FGA\"]-0.4*(df3[\"FTA\"]-df3[\"FTM\"])+0.7*df3[\"OREB\"]+0.3*df3[\"DREB\"]+df3[\"STL\"]+0.7*df3[\"AST\"]+0.7*df3[\"BLK\"]-0.4*df3[\"PF\"]-df3[\"TOV\"]\n",
    "    dfa.append(df3)\n",
    "df3 = pd.concat(dfa)"
   ]
  },
  {
   "cell_type": "code",
   "execution_count": null,
   "metadata": {
    "metadata": {}
   },
   "outputs": [],
   "source": [
    "players = [\"LeBron James\",\"Stephen Curry\",\"Kevin Durant\",\"Kawhi Leonard\",\"DeMar DeRozan\",\"Giannis Antetokounmpo\",\"Luka Doncic\",\"Shai Gilgeous-Alexander\",\"Nikola Jokic\",\"Jayson Tatum\"]\n",
    "# players = [\"James Harden\"]\n",
    "# players = [\"Joel Embiid\"]\n",
    "pIDs = [get_pID(pp) for pp in players]\n",
    "df4 = df3[df3[\"PLAYER_ID\"].isin(pIDs)]"
   ]
  },
  {
   "cell_type": "code",
   "execution_count": null,
   "metadata": {
    "metadata": {}
   },
   "outputs": [],
   "source": [
    "df6 = pd.DataFrame(df3.groupby([\"PLAYER_ID\",\"PLAYER_NAME\"])[\"DRE\"].mean()).reset_index().sort_values(\"DRE\",ascending=False).reset_index(drop=True).reset_index()\n",
    "df6[\"index\"]+=1\n",
    "df6[\"PLAYER_ID\"] = df6[\"PLAYER_ID\"].astype(str)\n",
    "df6[\"DRE\"] = round(df6[\"DRE\"],1)\n",
    "df6 = df6.tail(20)"
   ]
  },
  {
   "cell_type": "code",
   "execution_count": null,
   "metadata": {
    "metadata": {}
   },
   "outputs": [],
   "source": [
    "df6"
   ]
  },
  {
   "cell_type": "code",
   "execution_count": null,
   "metadata": {
    "metadata": {}
   },
   "outputs": [],
   "source": [
    "t = (\n",
    "    GT(df6)\n",
    "    .tab_header(\n",
    "        title=md(\"Best Playoff Performers: using DRE\"),\n",
    "        subtitle=\"DRE: Daily RAPM estimate by @NBACouchside\"\n",
    "    )\n",
    "    .tab_source_note(source_note=\"@sradjoker | source: nba.com/stats via nba_api\")\n",
    "    .cols_label(\n",
    "        index = \"#\",\n",
    "        PLAYER_ID = \"\",\n",
    "        PLAYER_NAME = \"Player\",\n",
    "    )\n",
    "    .fmt_image(\n",
    "        columns=\"PLAYER_ID\",\n",
    "        path = img_DIR_P,\n",
    "        file_pattern=\"{}.png\"\n",
    "    )\n",
    "    .cols_align(align=\"center\")\n",
    "    .cols_align(align=\"left\", columns=\"PLAYER_NAME\")\n",
    "    .tab_options(\n",
    "        heading_title_font_size=\"150%\",\n",
    "        heading_subtitle_font_size=\"110%\",\n",
    "        # heading_title_font_weight='bold',\n",
    "        table_background_color=\"floralwhite\",\n",
    "        column_labels_font_size=\"105%\",\n",
    "        column_labels_font_weight='bold',\n",
    "        row_group_font_weight='bold',\n",
    "        row_group_background_color=\"#E5E1D8\",\n",
    "        table_font_size=10,\n",
    "        table_font_names=\"Consolas\", \n",
    "        data_row_padding = \"3px\",\n",
    "        table_margin_left = 1,\n",
    "        table_margin_right = 1,\n",
    "    )\n",
    ")\n",
    "t.save(fig_DIR + \"DRE_Playoffs_2024.png\",scale=3,expand=2,web_driver=\"edge\")\n",
    "t"
   ]
  }
 ],
 "metadata": {
  "kernelspec": {
   "display_name": "nba-ub9Z_EQq-py3.11",
   "language": "python",
   "name": "python3"
  },
  "language_info": {
   "codemirror_mode": {
    "name": "ipython",
    "version": 3
   },
   "file_extension": ".py",
   "mimetype": "text/x-python",
   "name": "python",
   "nbconvert_exporter": "python",
   "pygments_lexer": "ipython3",
   "version": "3.11.6"
  }
 },
 "nbformat": 4,
 "nbformat_minor": 2
}
