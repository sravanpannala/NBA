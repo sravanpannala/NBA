{
 "cells": [
  {
   "cell_type": "markdown",
   "metadata": {},
   "source": [
    "# Analyze Darko Distribution"
   ]
  },
  {
   "cell_type": "code",
   "execution_count": null,
   "metadata": {},
   "outputs": [],
   "source": [
    "import os, sys\n",
    "\n",
    "sys.path.append(os.path.dirname(os.path.dirname(os.path.abspath(\"__file__\"))))\n",
    "from nbafuns import *\n",
    "\n",
    "data_DIR = \"../data/all_in_one_metrics/\"\n",
    "fig_DIR = \"../figs/player_analysis/\"\n",
    "roster_DIR = \"../data/rosters/\" "
   ]
  },
  {
   "cell_type": "code",
   "execution_count": null,
   "metadata": {},
   "outputs": [],
   "source": [
    "df_d = pd.read_parquet(data_DIR + \"NBA_DARKO_History.parquet\")\n",
    "df_d[\"season\"] = df_d[\"season\"].astype(int)\n",
    "df_d = df_d.rename(columns={\"idPlayerNBA\":\"pID\",\"namePlayer\":\"player\"})"
   ]
  },
  {
   "cell_type": "code",
   "execution_count": null,
   "metadata": {},
   "outputs": [],
   "source": [
    "dfa = []\n",
    "for season in range(2019,2024):\n",
    "    df1 = df_d.query(f\"season == {season}\")\n",
    "    df2 = df1[[\"dpm\",\"o_dpm\",\"d_dpm\"]].quantile(q=[0.1,0.25,0.33,0.5,0.67,0.75,0.9]).reset_index()\n",
    "    df2 = df2.rename(columns={\"index\":\"quantile\"})\n",
    "    df2[\"season\"] = season\n",
    "    dfa.append(df2)\n",
    "df = pd.concat(dfa)"
   ]
  },
  {
   "cell_type": "code",
   "execution_count": null,
   "metadata": {},
   "outputs": [],
   "source": [
    "df.to_csv(\"darko_quantiles_2019_2023.csv\")"
   ]
  },
  {
   "cell_type": "code",
   "execution_count": null,
   "metadata": {},
   "outputs": [],
   "source": [
    "p = (\n",
    "    ggplot(df,aes(y=\"dpm\"))\n",
    "    # + geom_boxplot(outlier_shape=\"\", notch=True, varwidth=True, notchwidth=0.6)\n",
    "    + geom_violin(draw_quantiles=[1/3,0.5,2/3], alpha=0.25, show_legend=False, size=2,fill=\"orange\")\n",
    "    # + geom_jitter(width=0.1, height=0.2)\n",
    "    # + geom_dotplot(binaxis = \"y\", stackdir = \"center\", dotsize=0.1, stackgroups=True)#, position = \"dodge\"\n",
    "    # + scale_fill_manual(values = colors[1:], name=\"Draft Age\")\n",
    "    + theme_idv\n",
    "    + theme(\n",
    "        # legend_title=element_blank()\n",
    "    )\n",
    "    + labs(\n",
    "        x=\"\",\n",
    "        y=\"DPM\",\n",
    "        title=f\"DPM Distribution: {season} NBA Season\",\n",
    "        # subtitle=\"\",\n",
    "        caption=\"@Sravan | source:kmedved (darko.app)\",\n",
    "    )\n",
    ")\n",
    "# p.save(fig_DIR + \"draft_first_pos_dpm_violin.png\", dpi=300, verbose=False)\n",
    "p"
   ]
  },
  {
   "cell_type": "code",
   "execution_count": null,
   "metadata": {},
   "outputs": [],
   "source": []
  }
 ],
 "metadata": {
  "kernelspec": {
   "display_name": "nba-ub9Z_EQq-py3.11",
   "language": "python",
   "name": "python3"
  },
  "language_info": {
   "codemirror_mode": {
    "name": "ipython",
    "version": 3
   },
   "file_extension": ".py",
   "mimetype": "text/x-python",
   "name": "python",
   "nbconvert_exporter": "python",
   "pygments_lexer": "ipython3",
   "version": "3.11.6"
  }
 },
 "nbformat": 4,
 "nbformat_minor": 2
}
