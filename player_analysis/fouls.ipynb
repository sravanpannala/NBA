{
 "cells": [
  {
   "cell_type": "code",
   "execution_count": null,
   "metadata": {},
   "outputs": [],
   "source": [
    "import os, sys\n",
    "\n",
    "sys.path.append(os.path.dirname(os.path.dirname(os.path.abspath(\"__file__\"))))\n",
    "from nbafuns import *\n",
    "from nba_api.stats.endpoints import leaguedashplayerstats\n",
    "\n",
    "data_DIR = \"../data/box/\"\n",
    "fig_DIR = \"../figs/player_analysis/\""
   ]
  },
  {
   "cell_type": "code",
   "execution_count": null,
   "metadata": {},
   "outputs": [],
   "source": [
    "dfa = []\n",
    "for iu in range(6):\n",
    "    url = f\"https://www.teamrankings.com/nba/player-stat/fouls-technical?rate=season-totals&season_id={216+iu}\"\n",
    "    df1 = pd.read_html(url)\n",
    "    df2 = df1[0]\n",
    "    df2[\"season\"] = 2019 + iu\n",
    "    dfa.append(df2)\n",
    "df = pd.concat(dfa)"
   ]
  },
  {
   "cell_type": "code",
   "execution_count": null,
   "metadata": {},
   "outputs": [],
   "source": [
    "dft = df.groupby(\"Player\")[\"Value\"].sum().reset_index().sort_values(\"Value\",ascending=False).reset_index(drop=True)\n",
    "dft = dft.rename(columns={\"Value\":\"Fouls\"})\n",
    "dft = dft.nlargest(10,\"Fouls\")\n",
    "dft = dft.reset_index()\n",
    "dft[\"index\"] = dft[\"index\"] + 1"
   ]
  },
  {
   "cell_type": "code",
   "execution_count": null,
   "metadata": {},
   "outputs": [],
   "source": [
    "%reload_ext rpy2.ipython"
   ]
  },
  {
   "cell_type": "code",
   "execution_count": null,
   "metadata": {},
   "outputs": [],
   "source": [
    "%%R -i dft\n",
    "df <- dft\n",
    "library(tidyverse)\n",
    "library(gt)\n",
    "library(gtExtras)\n",
    "df %>% \n",
    "  gt()%>%\n",
    "  tab_header(\n",
    "    title = md(\"**Most Technical Fouls Since 2018-19 NBA Season**\"),\n",
    "    ) %>%\n",
    "    cols_label( index=\"#\"\n",
    "    ) %>%\n",
    "    gt_plt_bar(column = Fouls, keep_column = TRUE, color = \"red\") %>%\n",
    "    tab_options(\n",
    "        table.background.color = \"floralwhite\",\n",
    "        column_labels.font.size = 12,\n",
    "        column_labels.font.weight = 'bold',\n",
    "        row_group.font.weight = 'bold',\n",
    "        row_group.background.color = \"#E5E1D8\",\n",
    "        table.font.size = 10,\n",
    "        heading.title.font.size = 16,\n",
    "        heading.subtitle.font.size = 12.5,\n",
    "        table.font.names = \"Consolas\", \n",
    "        data_row.padding = px(2)\n",
    "    ) %>% \n",
    "    tab_source_note(\n",
    "    source_note = \"@SravanNBA | Source: teamrankings.com/nba\" ) %>% gtsave(\"../figs/player_analysis/technical_fouls.png\",size=5) "
   ]
  }
 ],
 "metadata": {
  "kernelspec": {
   "display_name": "nba-ub9Z_EQq-py3.11",
   "language": "python",
   "name": "python3"
  },
  "language_info": {
   "codemirror_mode": {
    "name": "ipython",
    "version": 3
   },
   "file_extension": ".py",
   "mimetype": "text/x-python",
   "name": "python",
   "nbconvert_exporter": "python",
   "pygments_lexer": "ipython3",
   "version": "3.11.6"
  }
 },
 "nbformat": 4,
 "nbformat_minor": 2
}
