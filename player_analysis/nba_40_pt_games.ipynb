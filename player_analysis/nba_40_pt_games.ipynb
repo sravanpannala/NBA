{
 "cells": [
  {
   "cell_type": "code",
   "execution_count": null,
   "metadata": {},
   "outputs": [],
   "source": [
    "import os, sys\n",
    "\n",
    "sys.path.append(os.path.dirname(os.path.dirname(os.path.abspath(\"__file__\"))))\n",
    "from nbafuns import *\n",
    "from nba_api.stats.endpoints import leaguedashplayerstats\n",
    "\n",
    "data_DIR = \"../fdata/\"\n",
    "fig_DIR_p = \"../figs/player_leaders/\"\n",
    "fig_DIR_t = \"../figs/team_leaders/\""
   ]
  },
  {
   "cell_type": "code",
   "execution_count": null,
   "metadata": {},
   "outputs": [],
   "source": [
    "year = []\n",
    "pts_40 = []\n",
    "for season in range(2000,2023):\n",
    "    df = pd.read_parquet(data_DIR + \"NBA\" + \"_Player_BoxScores_\" + \"Indv\" + \"_\" + str(season) + \".parquet\")\n",
    "    pts_40_1 = df.query(\"PTS>=50\").PTS.count()\n",
    "    year.append(season+1)\n",
    "    pts_40.append(pts_40_1)"
   ]
  },
  {
   "cell_type": "code",
   "execution_count": null,
   "metadata": {},
   "outputs": [],
   "source": [
    "df = pd.DataFrame({\"Season\":year,\"PTS_40\":pts_40})"
   ]
  },
  {
   "cell_type": "code",
   "execution_count": null,
   "metadata": {},
   "outputs": [],
   "source": [
    "df"
   ]
  }
 ],
 "metadata": {
  "kernelspec": {
   "display_name": "nba-ub9Z_EQq-py3.11",
   "language": "python",
   "name": "python3"
  },
  "language_info": {
   "codemirror_mode": {
    "name": "ipython",
    "version": 3
   },
   "file_extension": ".py",
   "mimetype": "text/x-python",
   "name": "python",
   "nbconvert_exporter": "python",
   "pygments_lexer": "ipython3",
   "version": "3.11.6"
  }
 },
 "nbformat": 4,
 "nbformat_minor": 2
}
