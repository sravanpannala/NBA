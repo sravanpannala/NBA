{
 "cells": [
  {
   "cell_type": "code",
   "execution_count": null,
   "metadata": {},
   "outputs": [],
   "source": [
    "import os, sys\n",
    "\n",
    "sys.path.append(os.path.dirname(os.path.dirname(os.path.abspath(\"__file__\"))))\n",
    "from nbafuns import *\n",
    "from nba_api.stats.endpoints import leaguedashplayerstats\n",
    "\n",
    "data_DIR = \"../fdata/\"\n",
    "fig_DIR = \"../figs/player_analysis/\""
   ]
  },
  {
   "cell_type": "code",
   "execution_count": null,
   "metadata": {},
   "outputs": [],
   "source": [
    "theme_idv = themes.theme_xkcd(base_size=12)\n",
    "theme_idv += theme(\n",
    "    plot_title=element_text(face=\"bold\", size=16),\n",
    ")"
   ]
  },
  {
   "cell_type": "code",
   "execution_count": null,
   "metadata": {},
   "outputs": [],
   "source": [
    "dfa = []\n",
    "for year in range(2004, 2024):\n",
    "    df1 = pd.read_parquet(\n",
    "        data_DIR + \"NBA\" + \"_Player_BoxScores_\" + \"Indv\" + \"_\" + str(year) + \".parquet\"\n",
    "    )\n",
    "    df1[\"Season\"] = year + 1\n",
    "    df1[\"Games_Played\"] = len(df1[\"GAME_ID\"].unique())\n",
    "    dfa.append(df1)\n",
    "df = pd.concat(dfa)\n",
    "df[\"Win\"]  = df[\"WL\"] == \"W\"\n",
    "df[\"Loss\"] = df[\"WL\"] == \"L\""
   ]
  },
  {
   "cell_type": "code",
   "execution_count": null,
   "metadata": {},
   "outputs": [],
   "source": [
    "pts = 30\n",
    "df_n = df.query(f\"PTS>={pts}\")"
   ]
  },
  {
   "cell_type": "code",
   "execution_count": null,
   "metadata": {},
   "outputs": [],
   "source": [
    "# df_n.iloc[0]"
   ]
  },
  {
   "cell_type": "code",
   "execution_count": null,
   "metadata": {},
   "outputs": [],
   "source": [
    "# df_n.tail()"
   ]
  },
  {
   "cell_type": "code",
   "execution_count": null,
   "metadata": {},
   "outputs": [],
   "source": [
    "df_p = df_n.groupby([\"Season\", \"Games_Played\"])[[\"PTS\", \"FGA\", \"FTA\",\"Win\",\"Loss\"]].agg(\n",
    "    {\"PTS\": [\"count\", \"sum\"], \"FGA\": [\"sum\"], \"FTA\": [\"sum\"], \"Win\": [\"sum\"], \"Loss\": [\"sum\"]}\n",
    ")\n",
    "df_p.columns = [\"Games\", \"PTS\", \"FGA\", \"FTA\", \"Wins\", \"Losses\"]\n",
    "df_p = df_p.reset_index()\n",
    "df_p[\"Games\"] = (1230 * df_p[\"Games\"] / df_p[\"Games_Played\"]).astype(int)\n",
    "df_p[\"Wins\"] = (1230 * df_p[\"Wins\"] / df_p[\"Games_Played\"]).astype(int)\n",
    "df_p[\"TS\"] = (df_p[\"PTS\"] / (2 * (df_p[\"FGA\"] + 0.44 * df_p[\"FTA\"]))).round(3)\n",
    "df_p[\"Win_p\"] = (df_p[\"Wins\"]/df_p[\"Games\"]).round(3)"
   ]
  },
  {
   "cell_type": "code",
   "execution_count": null,
   "metadata": {},
   "outputs": [],
   "source": [
    "df_p[\"Games_fill\"] = \"Games\"\n",
    "df_p[\"Wins_fill\"] = \"Wins\""
   ]
  },
  {
   "cell_type": "code",
   "execution_count": null,
   "metadata": {},
   "outputs": [],
   "source": [
    "df_p.tail()"
   ]
  },
  {
   "cell_type": "code",
   "execution_count": null,
   "metadata": {},
   "outputs": [],
   "source": [
    "from plotnine import scale_fill_manual, geom_text"
   ]
  },
  {
   "cell_type": "code",
   "execution_count": null,
   "metadata": {},
   "outputs": [],
   "source": [
    "p = (\n",
    "    ggplot(df_p)\n",
    "    + aes(x=\"Season\", y=\"Games\")\n",
    "    + geom_line(group=1)\n",
    "    + geom_point()\n",
    "    + geom_bar(aes( fill=\"Games_fill\"),stat=\"identity\", alpha=0.5)\n",
    "    + geom_bar(aes(fill=\"Wins_fill\", y=\"Wins\"),stat=\"identity\", alpha=0.5)\n",
    "    # + geom_text(aes(label = \"Win_p\", y=\"Wins\"),size=6,nudge_y=-20,format_string =\"{:0.2f}\")\n",
    "    + scale_fill_manual(values = [\"grey\",\"black\"])\n",
    "    + scale_x_continuous(breaks=[2005, 2008, 2012, 2016, 2020, 2024])\n",
    "    + theme_idv\n",
    "    + theme(\n",
    "        plot_caption=element_text(ha=\"left\"),\n",
    "        legend_title=element_blank(),\n",
    "        legend_position = [0.22,0.85],\n",
    "    )\n",
    "    + labs(\n",
    "        title=f\"Number of {pts} Point Games in a Season\",\n",
    "        caption=\"Number of Games Scaled to 82 Game Season| @SravanNBA | source:nba.com/stats\",\n",
    "        y=f\"{pts} Point Games\",\n",
    "    )\n",
    ")\n",
    "p.save(fig_DIR + f\"Point_Games_{pts}_seasons_1.png\", dpi=300)\n",
    "p.draw()"
   ]
  },
  {
   "cell_type": "code",
   "execution_count": null,
   "metadata": {},
   "outputs": [],
   "source": [
    "theme_idv = themes.theme_xkcd(base_size=12)\n",
    "theme_idv += theme(\n",
    "    plot_title=element_text(face=\"bold\", size=16),\n",
    ")"
   ]
  },
  {
   "cell_type": "code",
   "execution_count": null,
   "metadata": {},
   "outputs": [],
   "source": [
    "p = (\n",
    "    ggplot(df_p)\n",
    "    + aes(x=\"Season\", y=\"TS\")\n",
    "    + geom_smooth(se=False)\n",
    "    + geom_point()\n",
    "    + scale_x_continuous(breaks=[2005, 2008, 2012, 2016, 2020, 2024])\n",
    "    + theme_idv\n",
    "    + theme(plot_caption=element_text(ha=\"left\"))\n",
    "    + labs(\n",
    "        title=f\"True Shooting % of {pts} Point Games in a Season\",\n",
    "        caption=\"@SravanNBA | source:nba.com/stats\",\n",
    "        y=f\"True Shooting %\",\n",
    "    )\n",
    ")\n",
    "p.save(fig_DIR + f\"Point_Games_{pts}_TS_seasons.png\", dpi=300, verbose= False)\n",
    "p.draw()"
   ]
  },
  {
   "cell_type": "code",
   "execution_count": null,
   "metadata": {},
   "outputs": [],
   "source": [
    "p = (\n",
    "    ggplot(df_p)\n",
    "    + aes(x=\"Season\", y=\"Win_p\")\n",
    "    + geom_smooth(se=False,method =\"lm\")\n",
    "    + geom_point()\n",
    "    + scale_x_continuous(breaks=[2005, 2008, 2012, 2016, 2020, 2023])\n",
    "    + theme_idv\n",
    "    + theme(plot_caption=element_text(ha=\"left\"))\n",
    "    + labs(\n",
    "        title=f\"Win % of {pts} Point Games in a Season\",\n",
    "        caption=\"@SravanNBA | source:nba.com/stats\",\n",
    "        y=f\"Win %\",\n",
    "    )\n",
    ")\n",
    "p.save(fig_DIR + f\"Point_Games_{pts}_Winp_seasons.png\", dpi= 300)\n",
    "p.draw()"
   ]
  }
 ],
 "metadata": {
  "kernelspec": {
   "display_name": "nba-ub9Z_EQq-py3.11",
   "language": "python",
   "name": "python3"
  },
  "language_info": {
   "codemirror_mode": {
    "name": "ipython",
    "version": 3
   },
   "file_extension": ".py",
   "mimetype": "text/x-python",
   "name": "python",
   "nbconvert_exporter": "python",
   "pygments_lexer": "ipython3",
   "version": "3.11.6"
  }
 },
 "nbformat": 4,
 "nbformat_minor": 2
}
