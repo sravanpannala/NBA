{
 "cells": [
  {
   "cell_type": "code",
   "execution_count": null,
   "metadata": {},
   "outputs": [],
   "source": [
    "import os, sys\n",
    "\n",
    "sys.path.append(os.path.dirname(os.path.dirname(os.path.abspath(\"__file__\"))))\n",
    "from nbafuns import *\n",
    "\n",
    "data_DIR = \"../data/all_in_one_metrics/\"\n",
    "fig_DIR = \"../figs/player_analysis/\"\n",
    "roster_DIR = \"../data/rosters/\" "
   ]
  },
  {
   "cell_type": "code",
   "execution_count": null,
   "metadata": {},
   "outputs": [],
   "source": [
    "def load_player_data():\n",
    "    # load draft data\n",
    "    df_draft = pd.read_parquet(roster_DIR+ \"NBA_Draft_History.parquet\")\n",
    "    df_draft.columns = map(str.lower, df_draft.columns)\n",
    "    df_draft[\"season\"] = df_draft[\"season\"].astype(int)\n",
    "    df_draft = df_draft.rename(columns={\"person_id\":\"pID\"})\n",
    "    df_draft = df_draft.query(\"season > 1995\")\n",
    "    print(len(df_draft))\n",
    "    # load draft combine data\n",
    "    df_comb = pd.read_parquet(roster_DIR+ \"NBA_Draft_Combine.parquet\")\n",
    "    df_comb.columns = map(str.lower, df_comb.columns)\n",
    "    df_comb[\"season\"] = df_comb[\"season\"].astype(int)\n",
    "    df_comb = df_comb.rename(columns={\"player_id\":\"pID\"})\n",
    "    # print(len(df_comb))\n",
    "    # merge draft and combine datga\n",
    "    dfm_draft = pd.merge(df_draft,df_comb,on=\"pID\",suffixes=(\"_draft\",\"_comb\"))\n",
    "    # print(len(dfm_draft))\n",
    "    # load DARKO\n",
    "    df_d = pd.read_parquet(data_DIR + \"NBA_DARKO_FULL.parquet\")\n",
    "    df_d[\"season\"] = df_d[\"season\"].astype(int)\n",
    "    df_d = df_d.rename(columns={\"nba_id\":\"pID\"})\n",
    "    # mege DARKO and draft\n",
    "    dfm = pd.merge(df_d,df_draft,on=\"pID\",suffixes=(\"_dpm\",\"_draft\"))\n",
    "    dfpl = dfm.query(\"career_game_num==1\").reset_index(drop=True)\n",
    "    print(len(dfpl))"
   ]
  },
  {
   "cell_type": "code",
   "execution_count": null,
   "metadata": {},
   "outputs": [],
   "source": [
    "df_draft = pd.read_parquet(roster_DIR+ \"NBA_Draft_History.parquet\")\n",
    "df_draft.columns = map(str.lower, df_draft.columns)\n",
    "df_draft[\"season\"] = df_draft[\"season\"].astype(int)\n",
    "df_draft = df_draft.rename(columns={\"person_id\":\"pID\"})\n",
    "df_draft = df_draft.query(\"season > 1995\")\n",
    "len(df_draft)"
   ]
  },
  {
   "cell_type": "code",
   "execution_count": null,
   "metadata": {},
   "outputs": [],
   "source": [
    "df_comb = pd.read_parquet(roster_DIR+ \"NBA_Draft_Combine.parquet\")\n",
    "df_comb.columns = map(str.lower, df_comb.columns)\n",
    "df_comb[\"season\"] = df_comb[\"season\"].astype(int)\n",
    "df_comb = df_comb.rename(columns={\"player_id\":\"pID\"})\n",
    "len(df_comb)"
   ]
  },
  {
   "cell_type": "code",
   "execution_count": null,
   "metadata": {},
   "outputs": [],
   "source": [
    "dfm_draft = pd.merge(df_draft,df_comb,on=\"pID\",suffixes=(\"_draft\",\"_comb\"))\n",
    "len(dfm_draft)"
   ]
  },
  {
   "cell_type": "code",
   "execution_count": null,
   "metadata": {},
   "outputs": [],
   "source": [
    "df_d = pd.read_parquet(data_DIR + \"NBA_DARKO_FULL.parquet\")\n",
    "df_d[\"season\"] = df_d[\"season\"].astype(int)\n",
    "df_d = df_d.rename(columns={\"nba_id\":\"pID\"})"
   ]
  },
  {
   "cell_type": "code",
   "execution_count": null,
   "metadata": {},
   "outputs": [],
   "source": [
    "dfm = pd.merge(df_d,df_draft,on=\"pID\",suffixes=(\"_dpm\",\"_draft\"))\n",
    "dfpl = dfm.query(\"career_game_num==1\").reset_index(drop=True)\n",
    "len(dfpl)"
   ]
  },
  {
   "cell_type": "code",
   "execution_count": null,
   "metadata": {},
   "outputs": [],
   "source": [
    "dfpl[\"group\"] = 0\n",
    "dfpl.loc[dfpl.query(\"round_number==1 & round_pick<=5\").index,\"group\"] = 1\n",
    "dfpl.loc[dfpl.query(\"round_number==1 & round_pick>5 & round_pick<=14\").index,\"group\"] = 2\n",
    "dfpl.loc[dfpl.query(\"round_number==1 & round_pick>14 & round_pick<=21\").index,\"group\"] = 3\n",
    "dfpl.loc[dfpl.query(\"round_number==1 & round_pick>21\").index,\"group\"] = 4\n",
    "dfpl.loc[dfpl.query(\"round_number==2 & round_pick<=9\").index,\"group\"] = 5\n",
    "dfpl.loc[dfpl.query(\"round_number==2 & round_pick>9\").index,\"group\"] = 6\n",
    "dfpl[\"group\"] = dfpl[\"group\"].astype(\"category\")\n",
    "dfpl[\"age\"] = dfpl[\"age\"].round()"
   ]
  },
  {
   "cell_type": "code",
   "execution_count": null,
   "metadata": {},
   "outputs": [],
   "source": [
    "groups = [\n",
    "    \"Picks 1-5\",\n",
    "    \"Picks 6-14\",\n",
    "    \"Picks 15-21\",\n",
    "    \"Picks 21-30\",\n",
    "    \"R2: Picks 1-9\",\n",
    "    \"R2: Picks 10-30\",\n",
    "]"
   ]
  },
  {
   "cell_type": "code",
   "execution_count": null,
   "metadata": {},
   "outputs": [],
   "source": [
    "dfm[\"group\"] = 0\n",
    "dfm.loc[dfm.query(\"round_number==1 & round_pick<=5\").index,\"group\"] = 1\n",
    "dfm.loc[dfm.query(\"round_number==1 & round_pick>5 & round_pick<=14\").index,\"group\"] = 2\n",
    "dfm.loc[dfm.query(\"round_number==1 & round_pick>14 & round_pick<=21\").index,\"group\"] = 3\n",
    "dfm.loc[dfm.query(\"round_number==1 & round_pick>21\").index,\"group\"] = 4\n",
    "dfm.loc[dfm.query(\"round_number==2 & round_pick<=9\").index,\"group\"] = 5\n",
    "dfm.loc[dfm.query(\"round_number==2 & round_pick>9\").index,\"group\"] = 6\n",
    "dfm[\"group\"] = dfm[\"group\"].astype(\"category\")"
   ]
  },
  {
   "cell_type": "code",
   "execution_count": null,
   "metadata": {},
   "outputs": [],
   "source": [
    "gi = 5\n",
    "dfplg = dfpl.query(f\"group == {gi}\")\n",
    "dfpl1 = dfplg.query(\"age <= 19\")\n",
    "dfpl1[\"draft_age\"] = 19\n",
    "pl1 = dfpl1[\"pID\"].to_list()\n",
    "dfpl2 = dfplg.query(\"age == 20\")\n",
    "dfpl2[\"draft_age\"] = 20\n",
    "pl2 = dfpl2[\"pID\"].to_list()\n",
    "dfpl3 = dfplg.query(\"age == 21\")\n",
    "dfpl3[\"draft_age\"] = 21\n",
    "pl3 = dfpl3[\"pID\"].to_list()\n",
    "dfpl4 = dfplg.query(\"age == 22\")\n",
    "dfpl4[\"draft_age\"] = 22\n",
    "pl4 = dfpl4[\"pID\"].to_list()\n",
    "dfpl5 = dfplg.query(\"age == 23\")\n",
    "dfpl5[\"draft_age\"] = 23\n",
    "pl5 = dfpl5[\"pID\"].to_list()"
   ]
  },
  {
   "cell_type": "code",
   "execution_count": null,
   "metadata": {},
   "outputs": [],
   "source": [
    "print(len(pl1))\n",
    "print(len(pl2))\n",
    "print(len(pl3))\n",
    "print(len(pl4))\n",
    "print(len(pl5))"
   ]
  },
  {
   "cell_type": "code",
   "execution_count": null,
   "metadata": {},
   "outputs": [],
   "source": [
    "df1 = dfm[dfm[\"pID\"].isin(pl1)].reset_index(drop=True)\n",
    "df1[\"draft_age\"] = 19\n",
    "df1g = df1.query(\"dpm >=0\").groupby(\"pID\")\n",
    "df1c = df1g.nth[0]\n",
    "df2 = dfm[dfm[\"pID\"].isin(pl2)].reset_index(drop=True)\n",
    "df2[\"draft_age\"] = 20\n",
    "df2g = df2.query(\"dpm >=0\").groupby(\"pID\")\n",
    "df2c = df2g.nth[0]\n",
    "df3 = dfm[dfm[\"pID\"].isin(pl3)].reset_index(drop=True)\n",
    "df3[\"draft_age\"] = 21\n",
    "df3g = df3.query(\"dpm >=0\").groupby(\"pID\")\n",
    "df3c = df3g.nth[0]\n",
    "df4 = dfm[dfm[\"pID\"].isin(pl4)].reset_index(drop=True)\n",
    "df4[\"draft_age\"] = 22\n",
    "df4g = df4.query(\"dpm >=0\").groupby(\"pID\")\n",
    "df4c = df4g.nth[0]\n",
    "df5 = dfm[dfm[\"pID\"].isin(pl5)].reset_index(drop=True)\n",
    "df5[\"draft_age\"] = 23\n",
    "df5g = df5.query(\"dpm >=0\").groupby(\"pID\")\n",
    "df5c = df5g.nth[0]"
   ]
  },
  {
   "cell_type": "code",
   "execution_count": null,
   "metadata": {},
   "outputs": [],
   "source": [
    "print(len(df1c))\n",
    "print(len(df2c))\n",
    "print(len(df3c))\n",
    "print(len(df4c))\n",
    "print(len(df5c))"
   ]
  },
  {
   "cell_type": "code",
   "execution_count": null,
   "metadata": {},
   "outputs": [],
   "source": [
    "df_prob = pd.DataFrame()\n",
    "df_prob[\"draft_age\"] = np.arange(19,24)\n",
    "df_prob[\"players\"] = [len(pl1),len(pl2),len(pl3),len(pl4),len(pl5)]\n",
    "df_prob[\"pos_players\"] = [len(df1c),len(df2c),len(df3c),len(df4c),len(df5c)]"
   ]
  },
  {
   "cell_type": "code",
   "execution_count": null,
   "metadata": {},
   "outputs": [],
   "source": [
    "df_prob[\"p_fill\"] = \"Total Players\"\n",
    "df_prob[\"pp_fill\"] = \"Positive Players\"\n",
    "df_prob[\"frac\"] = df_prob[\"pos_players\"]/df_prob[\"players\"]*100"
   ]
  },
  {
   "cell_type": "code",
   "execution_count": null,
   "metadata": {},
   "outputs": [],
   "source": [
    "p = (\n",
    "    ggplot(df_prob)\n",
    "    + aes(x=\"draft_age\")\n",
    "    + geom_bar(aes(y=\"players\", fill=\"p_fill\"),stat=\"identity\", alpha=0.5)\n",
    "    + geom_bar(aes(y=\"pos_players\", fill=\"pp_fill\"),stat=\"identity\", alpha=0.6)\n",
    "    + geom_text(aes(label = \"frac\", y=\"pos_players\"),size=8,nudge_y=+2,format_string =\"{:0.1f}%\")\n",
    "    + scale_fill_manual(values = [\"grey\",\"black\"])\n",
    "    + theme_idv\n",
    "    + theme(\n",
    "        plot_caption=element_text(ha=\"left\"),\n",
    "        legend_title=element_blank(),\n",
    "        plot_subtitle=element_text(size=12),\n",
    "        # legend_position = [0.22,0.85],\n",
    "    )\n",
    "    + labs(\n",
    "        x=\"Draft Age\",\n",
    "        y=\"# Players\",\n",
    "        title=f\"Positive DARKO Players; {groups[gi-1]}\",\n",
    "        subtitle=f\"From 1996-97 NBA Season\\nPlayer has to have atleast 1 game of DPM >=0\",\n",
    "        caption=\"@Sravan | source:kmedved (darko.app)\",\n",
    "    )\n",
    ")\n",
    "p.save(fig_DIR + f\"draft_frac_pos_dpm_{gi}.png\", dpi=300, verbose=False)\n",
    "p"
   ]
  },
  {
   "cell_type": "code",
   "execution_count": null,
   "metadata": {},
   "outputs": [],
   "source": [
    "sdfsdf"
   ]
  },
  {
   "cell_type": "code",
   "execution_count": null,
   "metadata": {},
   "outputs": [],
   "source": [
    "dfc = pd.concat([df1c,df2c,df3c,df4c,df5c])\n",
    "dfc[\"draft_age\"] = dfc[\"draft_age\"].astype(\"category\")\n"
   ]
  },
  {
   "cell_type": "code",
   "execution_count": null,
   "metadata": {},
   "outputs": [],
   "source": [
    "dfc1 = dfc.query(\"group == 1\")"
   ]
  },
  {
   "cell_type": "code",
   "execution_count": null,
   "metadata": {},
   "outputs": [],
   "source": [
    "p = (\n",
    "    ggplot(dfc1,aes(x=\"draft_age\",y=\"career_game_num\"))\n",
    "    + geom_boxplot(outlier_shape=\"\")\n",
    "    # + geom_jitter()\n",
    "    + theme_idv\n",
    "    + ylim(0,240)\n",
    "    + labs(\n",
    "        x=\"Draft Age\",\n",
    "        y=\"Career Game #\",\n",
    "        title=\"Career Game # of First Positive DPM Game\",\n",
    "        subtitle=\"From 1996-97 NBA Season Onwards\",\n",
    "        caption=\"@Sravan | source:kmedved (darko.app)\",\n",
    "    )\n",
    ")\n",
    "# p.save(fig_DIR + \"draft_first_pos_dpm.png\", dpi=300, verbose=False)\n",
    "p"
   ]
  },
  {
   "cell_type": "code",
   "execution_count": null,
   "metadata": {},
   "outputs": [],
   "source": [
    "# df = df_d[df_d[\"nba_id\"].isin(player_list)].reset_index(drop=True)\n",
    "# df"
   ]
  },
  {
   "cell_type": "code",
   "execution_count": null,
   "metadata": {},
   "outputs": [],
   "source": [
    "# dfg = df.groupby([\"player_name\",\"nba_id\"])\n",
    "# keys = list(dfg.groups)\n",
    "# key = keys[0]\n",
    "# df1 = dfg.get_group(key)\n",
    "# dfg.nth[0]"
   ]
  }
 ],
 "metadata": {
  "kernelspec": {
   "display_name": "nba-ub9Z_EQq-py3.11",
   "language": "python",
   "name": "python3"
  },
  "language_info": {
   "codemirror_mode": {
    "name": "ipython",
    "version": 3
   },
   "file_extension": ".py",
   "mimetype": "text/x-python",
   "name": "python",
   "nbconvert_exporter": "python",
   "pygments_lexer": "ipython3",
   "version": "3.11.6"
  }
 },
 "nbformat": 4,
 "nbformat_minor": 2
}
