{
 "cells": [
  {
   "cell_type": "code",
   "execution_count": null,
   "metadata": {},
   "outputs": [],
   "source": [
    "import os, sys\n",
    "\n",
    "sys.path.append(os.path.dirname(os.path.dirname(os.path.abspath(\"__file__\"))))\n",
    "from nbafuns import *\n",
    "\n",
    "from nba_api.stats.endpoints import leagueseasonmatchups\n",
    "from thefuzz import fuzz, process\n",
    "player_dict = get_players_pbp()\n",
    "pID_dict = get_pID_pbp()\n",
    "\n",
    "def get_missing_pId(player,player_dict):\n",
    "    pId = process.extract(player,player_dict,limit=1, scorer=fuzz.partial_ratio)[0][2]\n",
    "    return pId\n",
    "\n",
    "img_DIR_P = \"../data/images/players/\"\n",
    "fig_DIR = \"../figs/players/\""
   ]
  },
  {
   "cell_type": "code",
   "execution_count": null,
   "metadata": {},
   "outputs": [],
   "source": [
    "stats = leagueseasonmatchups.LeagueSeasonMatchups(\n",
    "    league_id=\"00\",\n",
    "    per_mode_simple=\"Totals\",\n",
    "    season=get_ss(2023),\n",
    "    season_type_playoffs=\"Playoffs\"\n",
    ")\n",
    "df2 = stats.get_data_frames()[0]"
   ]
  },
  {
   "cell_type": "code",
   "execution_count": null,
   "metadata": {},
   "outputs": [],
   "source": [
    "url = \"https://www.basketball-reference.com/playoffs/NBA_2024_advanced.html#advanced_stats::bpm\"\n",
    "url = \"https://www.basketball-reference.com/leagues/NBA_2024_advanced.html\"\n",
    "df1 = pd.read_html(url)\n",
    "df1 = df1[0]\n",
    "df1[\"playerID\"] = df1[\"Player\"].map(pID_dict)\n",
    "df1.loc[df1[\"playerID\"].isna(),\"playerID\"] = df1.loc[df1[\"playerID\"].isna(),\"Player\"].apply(lambda x: get_missing_pId(x,player_dict))\n",
    "df1[\"playerID\"] = df1[\"playerID\"].astype(int)\n",
    "df3 = pd.merge(df2,df1[[\"playerID\",\"BPM\",\"OBPM\",\"DBPM\"]],left_on=\"OFF_PLAYER_ID\",right_on=\"playerID\")\n",
    "df3[\"BPM\"] = df3[\"BPM\"].astype(float)\n",
    "df3[\"OBPM\"] = df3[\"OBPM\"].astype(float)\n",
    "df3[\"DBPM\"] = df3[\"DBPM\"].astype(float)\n",
    "df3[\"pBPM\"] = df3[\"PARTIAL_POSS\"]*df3[\"BPM\"]\n",
    "df3[\"pOBPM\"] = df3[\"PARTIAL_POSS\"]*df3[\"OBPM\"]\n",
    "df3[\"pDBPM\"] = df3[\"PARTIAL_POSS\"]*df3[\"DBPM\"]"
   ]
  },
  {
   "cell_type": "code",
   "execution_count": null,
   "metadata": {},
   "outputs": [],
   "source": [
    "df4 = df3.groupby([\"DEF_PLAYER_ID\",\"DEF_PLAYER_NAME\"])[[\"PARTIAL_POSS\",\"pBPM\",\"pOBPM\",\"pDBPM\"]].sum().reset_index()\n",
    "df4[\"diff\"] = round(df4[\"pBPM\"]/df4[\"PARTIAL_POSS\"],2)\n",
    "df4[\"Odiff\"] = round(df4[\"pOBPM\"]/df4[\"PARTIAL_POSS\"],2)\n",
    "df4[\"Ddiff\"] = round(df4[\"pDBPM\"]/df4[\"PARTIAL_POSS\"],2)"
   ]
  },
  {
   "cell_type": "code",
   "execution_count": null,
   "metadata": {},
   "outputs": [],
   "source": [
    "df4.columns"
   ]
  },
  {
   "cell_type": "code",
   "execution_count": null,
   "metadata": {},
   "outputs": [],
   "source": [
    "df5 = df4.query(\"PARTIAL_POSS > 50\").sort_values(\"Odiff\",ascending=False).reset_index(drop=True).reset_index()\n",
    "df5[\"index\"] +=1\n",
    "df5 = df5[['index','DEF_PLAYER_ID', 'DEF_PLAYER_NAME', 'PARTIAL_POSS','Odiff']].head(10)\n",
    "df5[\"DEF_PLAYER_ID\"] = df5[\"DEF_PLAYER_ID\"].astype(str)\n",
    "df5[\"PARTIAL_POSS\"] = df5[\"PARTIAL_POSS\"].round(1)"
   ]
  },
  {
   "cell_type": "code",
   "execution_count": null,
   "metadata": {},
   "outputs": [],
   "source": [
    "t = (\n",
    "    GT(df5)\n",
    "    .tab_header(\n",
    "        title=md(\"Highest Matchup Difficulty: Weighted by Regular Season OBPM\"),\n",
    "        subtitle=\"Min 50 Partial Possessions Defended\"\n",
    "    )\n",
    "    .tab_source_note(source_note=\"@sradjoker | source: nba.com/stats via nba_api\")\n",
    "    .cols_label(\n",
    "        index = \"#\",\n",
    "        DEF_PLAYER_ID = \"\",\n",
    "        DEF_PLAYER_NAME = \"Player\",\n",
    "        PARTIAL_POSS = \"Partial Poss\",\n",
    "        Odiff = \"Matchup Difficulty\",\n",
    "    )\n",
    "    .fmt_image(\n",
    "        columns=\"DEF_PLAYER_ID\",\n",
    "        path = img_DIR_P,\n",
    "        file_pattern=\"{}.png\"\n",
    "    )\n",
    "    .cols_align(align=\"center\")\n",
    "    .cols_align(align=\"left\", columns=\"DEF_PLAYER_NAME\")\n",
    "    .tab_options(\n",
    "        heading_title_font_size=\"150%\",\n",
    "        heading_subtitle_font_size=\"110%\",\n",
    "        # heading_title_font_weight='bold',\n",
    "        table_background_color=\"floralwhite\",\n",
    "        column_labels_font_size=\"105%\",\n",
    "        column_labels_font_weight='bold',\n",
    "        row_group_font_weight='bold',\n",
    "        row_group_background_color=\"#E5E1D8\",\n",
    "        table_font_size=10,\n",
    "        table_font_names=\"Consolas\", \n",
    "        data_row_padding = \"3px\",\n",
    "        table_margin_left = 1,\n",
    "        table_margin_right = 1,\n",
    "    )\n",
    ")\n",
    "t.save(fig_DIR + \"Matchup_Diff_PS_2024.png\",scale=3,expand=2,web_driver=\"edge\")\n",
    "t"
   ]
  }
 ],
 "metadata": {
  "kernelspec": {
   "display_name": "nba-ub9Z_EQq-py3.11",
   "language": "python",
   "name": "python3"
  },
  "language_info": {
   "codemirror_mode": {
    "name": "ipython",
    "version": 3
   },
   "file_extension": ".py",
   "mimetype": "text/x-python",
   "name": "python",
   "nbconvert_exporter": "python",
   "pygments_lexer": "ipython3",
   "version": "3.11.6"
  }
 },
 "nbformat": 4,
 "nbformat_minor": 2
}
