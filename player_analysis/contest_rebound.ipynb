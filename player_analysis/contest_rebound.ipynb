{
 "cells": [
  {
   "cell_type": "markdown",
   "metadata": {},
   "source": [
    "My hypothesis is that players who have to contest a lot of shots outside the paint, particularly threes, have a poor defensive rebounding rate.\n",
    "\n",
    "Now I want to study 3 things:\n",
    "- Impact of volume of shots contested inside the arc on DRB rate\n",
    "- Impact of shots contested outside the arc on DRB rate\n",
    "- Impact of the ratio of those contests on DRB rate.\n",
    "\n",
    "Because there are some players who contest a high volume of both. So if you're around the rim a lot, you'll rebound a lot. \n",
    "\n",
    "A follow up would be to not do DRB rate - but DRB chances. Actually that might just be a better study\n",
    "\n",
    "My general overall theory is that when mismatch hunting -don't target the smallest players and weakest defenders. Target the best rim protectors and rebounders. Put small players in positions of help and rebounding instead.\n",
    "\n",
    "1) You pull their best paint defender and rebounder away from the basket\n",
    "\n",
    "2) Put weakest defenders in help spots\n",
    "\n",
    "3) Capitalize on OREBs"
   ]
  },
  {
   "cell_type": "code",
   "execution_count": null,
   "metadata": {},
   "outputs": [],
   "source": [
    "import os, sys\n",
    "\n",
    "sys.path.append(os.path.dirname(os.path.dirname(os.path.abspath(\"__file__\"))))\n",
    "from nbafuns import *\n",
    "from nba_api.stats.endpoints import leaguedashptdefend, leaguedashptstats\n",
    "\n",
    "player_dict = get_players_pbp()\n",
    "teams_dict, teams_list = get_teams()\n",
    "\n",
    "data_DIR = \"../data/misc/\"\n",
    "box_DIR = \"../data/box/\""
   ]
  },
  {
   "cell_type": "code",
   "execution_count": null,
   "metadata": {},
   "outputs": [],
   "source": [
    "def_cat = ['Less Than 6Ft','Less Than 10Ft','Greater Than 15Ft','3 Pointers']\n",
    "col_names =[\"FGA_LT_06\",\"FGA_LT_10\",\"FGA_GT_15\",\"FG3A\"]"
   ]
  },
  {
   "cell_type": "code",
   "execution_count": null,
   "metadata": {},
   "outputs": [],
   "source": [
    "dfs = []\n",
    "for year in tqdm(range(2013,2024)):\n",
    "    season = get_ss(year)\n",
    "    dfa = []\n",
    "    for i in range(len(def_cat)):\n",
    "        stats = leaguedashptdefend.LeagueDashPtDefend(\n",
    "            defense_category=def_cat[i],\n",
    "            league_id=\"00\",\n",
    "            per_mode_simple=\"Totals\",\n",
    "            season=season,\n",
    "            season_type_all_star=\"Regular Season\",\n",
    "        )\n",
    "        df = stats.get_data_frames()[0]\n",
    "        df = df.rename(columns={\"CLOSE_DEF_PERSON_ID\":\"pID\",\"PLAYER_NAME\":\"player\"})\n",
    "        df = df[[\"pID\",\"player\",col_names[i]]]\n",
    "        dfa.append(df)\n",
    "        time.sleep(0.6)\n",
    "    dfd = pd.merge(dfa[0],dfa[1])\n",
    "    for i in range(2,4):\n",
    "        dfd = pd.merge(dfd,dfa[i])\n",
    "    stats = leaguedashptstats.LeagueDashPtStats(\n",
    "        per_mode_simple=\"Totals\",\n",
    "        player_or_team=\"Player\",\n",
    "        pt_measure_type=\"Rebounding\",\n",
    "        season=season,\n",
    "        season_type_all_star=\"Regular Season\",\n",
    "    )\n",
    "    df1 = stats.get_data_frames()[0]\n",
    "    df1 = df1.rename(columns={\"PLAYER_ID\":\"pID\"})\n",
    "    df1 = df1[[\"pID\",\"DREB\",\"DREB_CHANCES\",\"DREB_CHANCE_PCT\"]]\n",
    "    df2 = pd.merge(dfd,df1)\n",
    "    df2[\"season\"] = year + 1\n",
    "    dfs.append(df2)\n",
    "    time.sleep(0.6)"
   ]
  },
  {
   "cell_type": "code",
   "execution_count": null,
   "metadata": {},
   "outputs": [],
   "source": [
    "dfb = pd.concat(dfs)"
   ]
  },
  {
   "cell_type": "code",
   "execution_count": null,
   "metadata": {},
   "outputs": [],
   "source": [
    "dfb.to_csv(data_DIR + \"to_shamit_totals.csv\",index=False)"
   ]
  },
  {
   "cell_type": "code",
   "execution_count": null,
   "metadata": {},
   "outputs": [],
   "source": [
    "dfc = dfb.query(\"DREB_CHANCES > 100\").query(\"FGA_LT_10 > 100\")"
   ]
  },
  {
   "cell_type": "code",
   "execution_count": null,
   "metadata": {},
   "outputs": [],
   "source": [
    "dfc[\"Diff_LT10_3\"] = dfc[\"FGA_LT_10\"] - dfc[\"FG3A\"]"
   ]
  },
  {
   "cell_type": "code",
   "execution_count": null,
   "metadata": {},
   "outputs": [],
   "source": [
    "x_p = dfc[\"Diff_LT10_3\"]\n",
    "y_p = dfc[\"DREB_CHANCES\"]\n",
    "slope, intercept, r, p, sterr = scipy.stats.linregress(x=x_p, y=y_p)\n",
    "r2 = r**2\n",
    "fig, ax = plt.subplots(1, 1)\n",
    "fig = sns.regplot(\n",
    "    x=x_p, y=y_p, color=\"black\", scatter_kws={\"color\": \"tab:blue\"}, ax=ax\n",
    ")\n",
    "ax.text(0.05, 0.9, r\"$r^2=$\" + f\"{round(r2,4)}\", transform=ax.transAxes)\n",
    "plt.show()"
   ]
  },
  {
   "cell_type": "code",
   "execution_count": null,
   "metadata": {},
   "outputs": [],
   "source": [
    "dfs = []\n",
    "for year in tqdm(range(2013,2024)):\n",
    "    df1 = pd.read_parquet(box_DIR + f\"NBA_Box_P_Hustle_{year}.parquet\",columns=['gameId','teamTricode','personId', 'firstName', 'familyName','contestedShots2pt', 'contestedShots3pt'])\n",
    "    df2 = pd.read_parquet(box_DIR + f\"NBA_Box_P_Track_{year}.parquet\",columns=['gameId','personId','reboundChancesDefensive','defendedAtRimFieldGoalsAttempted'])\n",
    "    df3 = pd.merge(df1,df2)\n",
    "    df3['season'] = year + 1\n",
    "    dfs.append(df3)\n",
    "df = pd.concat(dfs)"
   ]
  },
  {
   "cell_type": "code",
   "execution_count": null,
   "metadata": {},
   "outputs": [],
   "source": [
    "df.to_csv(data_DIR + \"to_shamit_boxscores_contest.csv\",index=False)"
   ]
  },
  {
   "cell_type": "code",
   "execution_count": null,
   "metadata": {},
   "outputs": [],
   "source": [
    "dfp = df.query(\"personId == 203076\")"
   ]
  },
  {
   "cell_type": "code",
   "execution_count": null,
   "metadata": {},
   "outputs": [],
   "source": [
    "x_p = dfp[\"defendedAtRimFieldGoalsAttempted\"]\n",
    "y_p = dfp[\"reboundChancesDefensive\"]\n",
    "slope, intercept, r, p, sterr = scipy.stats.linregress(x=x_p, y=y_p)\n",
    "r2 = r**2\n",
    "fig, ax = plt.subplots(1, 1)\n",
    "fig = sns.regplot(\n",
    "    x=x_p, y=y_p, color=\"black\", scatter_kws={\"color\": \"tab:blue\"}, ax=ax\n",
    ")\n",
    "ax.text(0.05, 0.9, r\"$r^2=$\" + f\"{round(r2,4)}\", transform=ax.transAxes)\n",
    "plt.show()"
   ]
  },
  {
   "cell_type": "code",
   "execution_count": null,
   "metadata": {},
   "outputs": [],
   "source": [
    "dfp"
   ]
  }
 ],
 "metadata": {
  "kernelspec": {
   "display_name": "nba-ub9Z_EQq-py3.11",
   "language": "python",
   "name": "python3"
  },
  "language_info": {
   "codemirror_mode": {
    "name": "ipython",
    "version": 3
   },
   "file_extension": ".py",
   "mimetype": "text/x-python",
   "name": "python",
   "nbconvert_exporter": "python",
   "pygments_lexer": "ipython3",
   "version": "3.11.6"
  }
 },
 "nbformat": 4,
 "nbformat_minor": 2
}
