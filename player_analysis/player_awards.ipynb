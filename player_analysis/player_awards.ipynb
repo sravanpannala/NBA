{
 "cells": [
  {
   "cell_type": "code",
   "execution_count": null,
   "metadata": {},
   "outputs": [],
   "source": [
    "import os, sys\n",
    "\n",
    "sys.path.append(os.path.dirname(os.path.dirname(os.path.abspath(\"__file__\"))))\n",
    "from nbafuns import *\n",
    "from nba_api.stats.endpoints import leaguedashteamstats, playerawards\n",
    "\n",
    "fig_DIR = \"../figs/players/\"\n",
    "box_DIR = \"../data/box/\"\n",
    "img_DIR_P = \"../data/images/players/\"\n",
    "\n",
    "pID_dict = get_pID_pbp()\n",
    "player_dict = get_players_pbp()\n",
    "teams_dict, teams_list = get_teams()"
   ]
  },
  {
   "cell_type": "markdown",
   "metadata": {},
   "source": [
    "## All-NBA: bbref"
   ]
  },
  {
   "cell_type": "code",
   "execution_count": null,
   "metadata": {},
   "outputs": [],
   "source": [
    "url = \"https://www.basketball-reference.com/awards/all_league.html\"\n",
    "df1 = pd.read_html(url)\n",
    "df1 =df1[0]\n",
    "df1.columns = [\"Season\",\"Lg\",\"Tm\",\"Voting\",1,2,3,4,5]"
   ]
  },
  {
   "cell_type": "code",
   "execution_count": null,
   "metadata": {},
   "outputs": [],
   "source": [
    "season_start = 2010\n",
    "season_end = 2024\n",
    "seasonsi = np.arange(season_start, season_end, 1)\n",
    "seasons = list(map(lambda x: get_ss(x),seasonsi))\n",
    "sdict = dict(zip(seasons,seasonsi))"
   ]
  },
  {
   "cell_type": "code",
   "execution_count": null,
   "metadata": {},
   "outputs": [],
   "source": [
    "df2 = df1[df1[\"Season\"].isin(seasons)]\n",
    "df2 = df2[[\"Season\",\"Tm\",1,2,3,4,5]]\n",
    "df2[\"Tm\"] = \"All-NBA \" + df2[\"Tm\"]\n",
    "df3 = pd.melt(df2, id_vars=[\"Season\",\"Tm\"], value_vars=[1,2,3,4,5])\n",
    "df3 = df3.drop(columns=\"variable\")\n",
    "df3 = df3.rename(columns={\"value\":\"Player\",\"Tm\":\"Award\"})\n",
    "df3[\"Player\"] =df3[\"Player\"].str[:-2]\n",
    "df3[\"pID\"] = df3[\"Player\"].map(pID_dict)\n",
    "df3.loc[df3[\"pID\"].isna(),\"pID\"] = df3.loc[df3[\"pID\"].isna(),\"Player\"].apply(lambda x: get_missing_pId(x, player_dict))\n",
    "df3[\"pID\"] = df3[\"pID\"].astype(int)\n",
    "pIDs = df3[\"pID\"].unique()"
   ]
  },
  {
   "cell_type": "code",
   "execution_count": null,
   "metadata": {},
   "outputs": [],
   "source": [
    "dfa = []\n",
    "for id in tqdm(pIDs):\n",
    "    stats = playerawards.PlayerAwards(player_id=id)\n",
    "    df4 = stats.get_data_frames()[0]\n",
    "    dfa.append(df4)\n",
    "    time.sleep(1)\n",
    "df5 = pd.concat(dfa)"
   ]
  },
  {
   "cell_type": "code",
   "execution_count": null,
   "metadata": {},
   "outputs": [],
   "source": [
    "df6 = df5.query(\"DESCRIPTION == 'All-NBA'\")\n",
    "cols = ['PERSON_ID', 'FIRST_NAME', 'LAST_NAME', 'SEASON', 'TEAM']\n",
    "df6 = df6[cols]\n",
    "df6[\"FIRST_NAME\"] = df6[\"FIRST_NAME\"] + \" \" + df6[\"LAST_NAME\"]\n",
    "df6 = df6.rename(columns={\"FIRST_NAME\":\"NAME\"})\n",
    "df6 = df6.drop(columns={\"LAST_NAME\"})\n",
    "df6 = df6.sort_values([\"PERSON_ID\",\"SEASON\"])\n",
    "df6g = df6.groupby([\"PERSON_ID\",\"NAME\"])\n",
    "keys = list(df6g.groups)\n"
   ]
  },
  {
   "cell_type": "code",
   "execution_count": null,
   "metadata": {},
   "outputs": [],
   "source": [
    "dfb = []\n",
    "for key in keys:\n",
    "    df7 = df6g.get_group(key)\n",
    "    df7[\"TEAM2\"] = df7[\"TEAM\"].shift(1)\n",
    "    df7 = df7.dropna()\n",
    "    dfb.append(df7)\n",
    "df7 = pd.concat(dfb)\n",
    "df7 = df7.reset_index(drop=True) \n",
    "df7[\"Change\"] = df7[\"TEAM\"] != df7[\"TEAM2\"]"
   ]
  },
  {
   "cell_type": "code",
   "execution_count": null,
   "metadata": {},
   "outputs": [],
   "source": [
    "df8 = df7[df7[\"Change\"]]"
   ]
  },
  {
   "cell_type": "code",
   "execution_count": null,
   "metadata": {},
   "outputs": [],
   "source": [
    "df9 = df8.groupby([\"SEASON\"])[\"NAME\"].agg(\"count\")\n",
    "df9 = df9.reset_index()\n",
    "df9.columns = [\"Season\",\"Players\"]\n",
    "df9[\"Season\"] = df9[\"Season\"].map(sdict)\n",
    "# df9[\"Season\"] = df9[\"Season\"].str[] "
   ]
  },
  {
   "cell_type": "code",
   "execution_count": null,
   "metadata": {},
   "outputs": [],
   "source": [
    "from plotnine import geom_col, position_stack"
   ]
  },
  {
   "cell_type": "code",
   "execution_count": null,
   "metadata": {},
   "outputs": [],
   "source": [
    "data = df9\n",
    "p = (\n",
    "    ggplot(data)\n",
    "    + aes(x=\"Season\",y=\"Players\",group=0)\n",
    "    + geom_col(show_legend=False, position=position_stack(reverse=True),color=\"white\")\n",
    "    + theme_idv\n",
    "    + labs(\n",
    "        title = \"Number of Star Players Changing Teams\",\n",
    "        subtitle = \"All-NBA Players Changing Teams after Making All-NBA the previous season\",\n",
    "        caption=\"bsky:@sradjoker.cc | x:@sradjoker | source: nba.com/stats\",\n",
    "    )\n",
    "    # + theme(\n",
    "    #     figure_size=(8,5),\n",
    "    # )\n",
    ")\n",
    "p"
   ]
  },
  {
   "cell_type": "markdown",
   "metadata": {},
   "source": [
    "## All-Star"
   ]
  },
  {
   "cell_type": "code",
   "execution_count": null,
   "metadata": {},
   "outputs": [],
   "source": [
    "df1 = pd.read_parquet(\"../data/misc/\"+\"NBA_All_Stars.parquet\")\n",
    "df1.columns = map(str.lower, df1.columns)"
   ]
  },
  {
   "cell_type": "code",
   "execution_count": null,
   "metadata": {},
   "outputs": [],
   "source": [
    "df1.columns"
   ]
  },
  {
   "cell_type": "code",
   "execution_count": null,
   "metadata": {},
   "outputs": [],
   "source": [
    "# award_list = ['All-NBA']\n",
    "award_list = ['NBA All-Star']\n",
    "df2 = df1[df1[\"description\"].isin(award_list)]\n",
    "cols = ['person_id' ,'season']\n",
    "df2 = df2[cols]\n",
    "df2 = df2.rename(columns={\"person_id\":\"player_id\"})\n",
    "df2[\"season\"] = df2[\"season\"].str[:-3]\n",
    "df2[\"season\"] = df2[\"season\"].astype(int) + 1\n",
    "df2 = df2.sort_values([\"player_id\",\"season\"])\n",
    "pIDas = df2[\"player_id\"].to_list()\n",
    "df2[\"all_star\"] = True"
   ]
  },
  {
   "cell_type": "code",
   "execution_count": null,
   "metadata": {},
   "outputs": [],
   "source": [
    "dfa = []\n",
    "for season in range(2010,2025):\n",
    "    cols= ['PLAYER_ID', 'PLAYER_NAME', 'TEAM_ID', 'TEAM_ABBREVIATION','AGE', 'GP', ]\n",
    "    df3 = pd.read_parquet(box_DIR + f\"NBA_Box_P_Cum_Base_{season}.parquet\",columns=cols)\n",
    "    df3.columns = map(str.lower, df3.columns)\n",
    "    df3[\"season\"] = season + 1 \n",
    "    df4 = pd.merge(df3,df2,on=[\"player_id\",\"season\"],how=\"left\")\n",
    "    dfa.append(df4)\n",
    "df5 = pd.concat(dfa)\n",
    "df5 = df5.sort_values([\"player_id\",\"season\"]).reset_index(drop=True)"
   ]
  },
  {
   "cell_type": "code",
   "execution_count": null,
   "metadata": {},
   "outputs": [],
   "source": [
    "df5[\"all_star\"] = df5[\"all_star\"].fillna(False)\n",
    "df6 = df5[df5[\"player_id\"].isin(pIDas)]\n",
    "df6[\"count\"]= np.where(df6[\"all_star\"], 1, 0)\n",
    "df6[\"wind\"] = df6[\"count\"].rolling(3).sum()\n",
    "df6[\"star\"] = df6[\"wind\"] >1\n",
    "df6 = df6.dropna().reset_index(drop=True)"
   ]
  },
  {
   "cell_type": "code",
   "execution_count": null,
   "metadata": {},
   "outputs": [],
   "source": [
    "df7 = df6.query(\"wind > 0\").reset_index(drop=True)\n",
    "df7g = df7.groupby([\"player_id\",\"player_name\"])\n",
    "keys = list(df7g.groups)"
   ]
  },
  {
   "cell_type": "code",
   "execution_count": null,
   "metadata": {},
   "outputs": [],
   "source": [
    "dfb = []\n",
    "for key in keys:    \n",
    "    df8 = df7g.get_group(key)    \n",
    "    df8[\"team_id_n\"] = df8[\"team_id\"].shift(-1)\n",
    "    df8 = df8.dropna()\n",
    "    df8[\"team_id_n\"] = df8[\"team_id_n\"].astype(int)\n",
    "    df8[\"team_change\"] = df8[\"team_id_n\"] != df8[\"team_id\"]\n",
    "    df8 = df8[df8[\"team_change\"] & df8[\"star\"]]\n",
    "    dfb.append(df8)\n",
    "df9 = pd.concat(dfb)\n",
    "df9 = df9.reset_index(drop=True)\n",
    "df9[\"T1\"] = df9[\"team_id\"].map(teams_dict)\n",
    "df9[\"T2\"] = df9[\"team_id_n\"].map(teams_dict)\n",
    "df9 = df9.drop(columns=[\"team_abbreviation\",\"team_id\",\"team_id_n\",\"team_change\",\"all_star\",\"count\",\"player_id\"])"
   ]
  },
  {
   "cell_type": "code",
   "execution_count": null,
   "metadata": {},
   "outputs": [],
   "source": [
    "# Since 2016\n",
    "df9 = df9.query(\"season > 2015\").reset_index(drop=True)\n",
    "plist = [\"DeMarcus Cousins\",\"Isaiah Thomas\",\"Victor Oladipo\",\"Ben Simmons\"]\n",
    "slist = [2019,2018,2020,2021]\n",
    "for p,s in zip(plist,slist):\n",
    "    try:\n",
    "        df9 = df9.drop(index=df9.loc[(df9[\"player_name\"] == p) & (df9[\"season\"] == s)].index[0])\n",
    "    except:\n",
    "        continue\n",
    "df10 = df9.reset_index(drop=True)"
   ]
  },
  {
   "cell_type": "code",
   "execution_count": null,
   "metadata": {},
   "outputs": [],
   "source": [
    "df11 = df10.groupby(\"season\")[[\"player_name\",\"gp\",\"age\"]].agg({\"player_name\":\"count\",\"gp\":\"mean\",\"age\":\"mean\"})\n",
    "df11 = df11.reset_index()\n",
    "df11[\"gp\"] = df11[\"gp\"].round(1)\n",
    "df11[\"age\"] = df11[\"age\"].round(1)\n",
    "df11[\"player_name\"] = df11[\"player_name\"].astype(int)\n",
    "df11.columns = [\"Season\",\"Players\",\"Games Played\",\"Age\"]"
   ]
  },
  {
   "cell_type": "code",
   "execution_count": null,
   "metadata": {},
   "outputs": [],
   "source": [
    "data = df11\n",
    "p = (\n",
    "    ggplot(data)\n",
    "    + aes(x=\"Season\",y=\"Players\",group=0)\n",
    "    # + geom_col(show_legend=False, position=position_stack(reverse=True),color=\"white\")\n",
    "    + geom_line(size=1.2)\n",
    "    + geom_point(size=1.5)\n",
    "    + theme_idv\n",
    "    + labs(\n",
    "        title = \"Number of Star Players Changing Teams\",\n",
    "        subtitle = \"Star: Player Making All-Star Team in 2 of previous 3 seasons\",\n",
    "        caption=\"bsky:@sradjoker.cc | x:@sradjoker | source: nba.com/stats\",\n",
    "    )\n",
    "    # + theme(\n",
    "    #     figure_size=(8,5),\n",
    "    # )\n",
    ")\n",
    "p"
   ]
  },
  {
   "cell_type": "code",
   "execution_count": null,
   "metadata": {},
   "outputs": [],
   "source": [
    "data = df11\n",
    "p = (\n",
    "    ggplot(data)\n",
    "    + aes(x=\"Season\",y=\"Age\",group=0)\n",
    "    # + geom_col(show_legend=False, position=position_stack(reverse=True),color=\"white\")\n",
    "    + geom_line(size=1.2)\n",
    "    + geom_point(size=1.5)\n",
    "    + theme_idv\n",
    "    + labs(\n",
    "        title = \"Number of Star Players Changing Teams\",\n",
    "        subtitle = \"Star: Player Making All-Star Team in 2 of previous 3 seasons\",\n",
    "        caption=\"bsky:@sradjoker.cc | x:@sradjoker | source: nba.com/stats\",\n",
    "    )\n",
    "    # + theme(\n",
    "    #     figure_size=(8,5),\n",
    "    # )\n",
    ")\n",
    "p"
   ]
  },
  {
   "cell_type": "code",
   "execution_count": null,
   "metadata": {},
   "outputs": [],
   "source": [
    "data = df11\n",
    "p = (\n",
    "    ggplot(data)\n",
    "    + aes(x=\"Season\",y=\"Games Played\",group=0)\n",
    "    # + geom_col(show_legend=False, position=position_stack(reverse=True),color=\"white\")\n",
    "    + geom_line(size=1.2)\n",
    "    + geom_point(size=1.5)\n",
    "    + theme_idv\n",
    "    + labs(\n",
    "        title = \"Number of Star Players Changing Teams\",\n",
    "        subtitle = \"Star: Player Making All-Star Team in 2 of previous 3 seasons\",\n",
    "        caption=\"bsky:@sradjoker.cc | x:@sradjoker | source: nba.com/stats\",\n",
    "    )\n",
    "    # + theme(\n",
    "    #     figure_size=(8,5),\n",
    "    # )\n",
    ")\n",
    "p"
   ]
  },
  {
   "cell_type": "markdown",
   "metadata": {},
   "source": [
    "## All-NBA vs All-Star"
   ]
  },
  {
   "cell_type": "code",
   "execution_count": null,
   "metadata": {},
   "outputs": [],
   "source": [
    "df1 = pd.read_parquet(\"../data/misc/\"+\"NBA_All_Stars.parquet\")\n",
    "df1.columns = map(str.lower, df1.columns)"
   ]
  },
  {
   "cell_type": "code",
   "execution_count": null,
   "metadata": {},
   "outputs": [],
   "source": [
    "award_list = ['All-NBA','NBA All-Star']\n",
    "df2 = df1[df1[\"description\"].isin(award_list)]\n",
    "cols = ['person_id', 'first_name', 'last_name', 'team', 'description', 'season']\n",
    "df2 = df2[cols]\n",
    "df2[\"first_name\"] = df2[\"first_name\"] + \" \" + df2[\"last_name\"]\n",
    "df2 = df2.rename(columns={\"first_name\":\"name\"})\n",
    "df2 = df2.drop(columns={\"last_name\"})\n",
    "df2 = df2.rename(columns={\"person_id\":\"player_id\"})\n",
    "df2[\"season\"] = df2[\"season\"].str[:-3]\n",
    "df2[\"season\"] = df2[\"season\"].astype(int) + 1\n",
    "df2 = df2.sort_values([\"player_id\",\"season\"])\n",
    "# pIDas = df2[\"player_id\"].to_list()\n",
    "# df2[\"all_star\"] = True"
   ]
  },
  {
   "cell_type": "code",
   "execution_count": null,
   "metadata": {},
   "outputs": [],
   "source": [
    "df2[\"all_star\"] = np.where(df2[\"description\"] == 'NBA All-Star', 1, 0)\n",
    "df2[\"all_nba\"] =  np.where(df2[\"description\"] == 'All-NBA', 1, 0)\n",
    "df3 = df2.groupby([\"player_id\",\"name\",\"season\"])[[\"all_star\",\"all_nba\"]].agg({\"all_star\":sum,\"all_nba\":sum})\n",
    "df3 = df3.reset_index()\n",
    "df4 = df3.groupby([\"player_id\",\"name\"])[[\"all_star\",\"all_nba\"]].agg({\"all_star\":sum,\"all_nba\":sum})\n",
    "df4 = df4.reset_index()\n",
    "df4 = df4.sort_values(\"all_star\",ascending=False).reset_index(drop=True)"
   ]
  },
  {
   "cell_type": "code",
   "execution_count": null,
   "metadata": {},
   "outputs": [],
   "source": [
    "pIDl = data[\"player_id\"].to_list()"
   ]
  },
  {
   "cell_type": "code",
   "execution_count": null,
   "metadata": {},
   "outputs": [],
   "source": [
    "data = df4.head(20)\n",
    "data[\"image\"] = img_DIR_P + data[\"player_id\"].astype(str) + \".png\"\n",
    "p = (\n",
    "    ggplot(data)\n",
    "    + aes(x=\"all_star\",y=\"all_nba\",image=\"image\")\n",
    "    + geom_image(size=0.2)\n",
    "    + theme_idv\n",
    "    + labs(\n",
    "        title = \"All-Star vs All-NBA\",\n",
    "        # subtitle = \"Star: Player Making All-Star Team in 2 of previous 3 seasons\",\n",
    "        caption=\"bsky:@sradjoker.cc | x:@sradjoker | source: nba.com/stats\",\n",
    "    )\n",
    ")\n",
    "p"
   ]
  }
 ],
 "metadata": {
  "kernelspec": {
   "display_name": "dav-ub9Z_EQq-py3.12",
   "language": "python",
   "name": "python3"
  },
  "language_info": {
   "codemirror_mode": {
    "name": "ipython",
    "version": 3
   },
   "file_extension": ".py",
   "mimetype": "text/x-python",
   "name": "python",
   "nbconvert_exporter": "python",
   "pygments_lexer": "ipython3",
   "version": "3.12.0"
  }
 },
 "nbformat": 4,
 "nbformat_minor": 2
}
