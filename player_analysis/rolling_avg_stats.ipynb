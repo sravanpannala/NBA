{
 "cells": [
  {
   "cell_type": "code",
   "execution_count": null,
   "metadata": {},
   "outputs": [],
   "source": [
    "import os, sys\n",
    "\n",
    "sys.path.append(os.path.dirname(os.path.dirname(os.path.abspath(\"__file__\"))))\n",
    "from nbafuns import *\n",
    "\n",
    "# fig_DIR = \"../figs/team_ratings/\"\n",
    "box_DIR = \"../data/box/\"\n",
    "img_DIR_P = \"../data/images/players/\""
   ]
  },
  {
   "cell_type": "code",
   "execution_count": null,
   "metadata": {},
   "outputs": [],
   "source": [
    "year = 2023\n",
    "cols = ['PLAYER_ID', 'PLAYER_NAME', 'WL', 'MIN', 'FGM',\n",
    "       'FGA', 'FG_PCT', 'FG3M', 'FG3A', 'FG3_PCT', 'FTM', 'FTA', 'FT_PCT',\n",
    "       'OREB', 'DREB', 'REB', 'AST', 'STL', 'BLK', 'TOV', 'PF', 'PTS',\n",
    "       'PLUS_MINUS', ]\n",
    "df1 = pd.read_parquet(box_DIR + f\"NBA_Box_P_Base_{year}.parquet\",columns=cols)\n",
    "df1[\"W\"] = df1[\"WL\"] == \"W\"\n",
    "df1[\"L\"] = df1[\"WL\"] == \"L\"\n",
    "df1[\"W\"] = np.where(df1[\"W\"],1,0)\n",
    "df1[\"L\"] = np.where(df1[\"L\"],1,0)\n",
    "df1 = df1.drop(columns=[\"WL\"])"
   ]
  },
  {
   "cell_type": "code",
   "execution_count": null,
   "metadata": {},
   "outputs": [],
   "source": [
    "df1"
   ]
  },
  {
   "cell_type": "code",
   "execution_count": null,
   "metadata": {},
   "outputs": [],
   "source": []
  },
  {
   "cell_type": "code",
   "execution_count": null,
   "metadata": {},
   "outputs": [],
   "source": [
    "df6"
   ]
  },
  {
   "cell_type": "code",
   "execution_count": null,
   "metadata": {},
   "outputs": [],
   "source": [
    "df2 = df1.groupby([\"PLAYER_ID\",\t\"PLAYER_NAME\"])\n",
    "keys = list(df2.groups)\n",
    "dfa = []\n",
    "for key in keys:\n",
    "    df3 = df2.get_group(key)\n",
    "    df4 = df3.iloc[:,2:].rolling(window=10).mean()\n",
    "    df4[\"FG_PCT\"] = round(df4[\"FGM\"]/df4[\"FGA\"],3)\n",
    "    df4[\"FG3_PCT\"] = round(df4[\"FG3M\"]/df4[\"FG3A\"],3)\n",
    "    df4[\"FT_PCT\"] = round(df4[\"FTM\"]/df4[\"FTA\"],3)\n",
    "    df3[df3.columns[2:]] = df3.iloc[:, 2:].astype(float)\n",
    "    df3.iloc[0,2:] =  df4.max()\n",
    "    df5 = df3.head(1)\n",
    "    if df5.isnull().values.any():\n",
    "        pass\n",
    "    else:\n",
    "        dfa.append(df5)\n",
    "df6 = pd.concat(dfa).reset_index(drop=True)\n",
    "df6[\"P\"] = img_DIR_P + df6[\"PLAYER_ID\"].astype(str) + \".png\"\n",
    "df6[\"P\"] = df6[\"P\"].apply(path_to_image_html)"
   ]
  },
  {
   "cell_type": "code",
   "execution_count": null,
   "metadata": {},
   "outputs": [],
   "source": [
    "var = \"PTS\"\n",
    "df7 = df6.sort_values(var,ascending=False).reset_index(drop=True)\n",
    "df7.index+=1\n",
    "df7 = df7[[\"PLAYER_NAME\",\"P\",var]].head(10)\n",
    "HTML(df7.to_html(escape=False))"
   ]
  },
  {
   "cell_type": "code",
   "execution_count": null,
   "metadata": {},
   "outputs": [],
   "source": [
    "df7"
   ]
  }
 ],
 "metadata": {
  "kernelspec": {
   "display_name": "nba-ub9Z_EQq-py3.11",
   "language": "python",
   "name": "python3"
  },
  "language_info": {
   "codemirror_mode": {
    "name": "ipython",
    "version": 3
   },
   "file_extension": ".py",
   "mimetype": "text/x-python",
   "name": "python",
   "nbconvert_exporter": "python",
   "pygments_lexer": "ipython3",
   "version": "3.11.6"
  }
 },
 "nbformat": 4,
 "nbformat_minor": 2
}
