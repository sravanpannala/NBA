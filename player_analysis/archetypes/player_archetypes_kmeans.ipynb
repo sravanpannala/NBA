{
 "cells": [
  {
   "cell_type": "markdown",
   "metadata": {},
   "source": [
    "# Analyzing Player Archetypes from Synergy Play-type data using KMeans Clustering\n",
    "# For Blog: Method"
   ]
  },
  {
   "cell_type": "code",
   "execution_count": null,
   "metadata": {},
   "outputs": [],
   "source": [
    "import os, sys\n",
    "\n",
    "sys.path.append(os.path.dirname(os.path.dirname(os.path.abspath(\"__file__\"))))\n",
    "from nbafuns import *\n",
    "import seaborn.objects as snso\n",
    "from sklearn.metrics.pairwise import pairwise_distances_argmin\n",
    "\n",
    "export_DIR = \"../fdata/\""
   ]
  },
  {
   "cell_type": "code",
   "execution_count": null,
   "metadata": {},
   "outputs": [],
   "source": [
    "from sklearn.cluster import KMeans\n",
    "from sklearn.metrics import silhouette_score"
   ]
  },
  {
   "cell_type": "code",
   "execution_count": null,
   "metadata": {},
   "outputs": [],
   "source": [
    "season = \"2022\"\n",
    "df = pd.read_parquet(export_DIR +f\"NBA_Synergy_Player_PG_{season}.parquet\")\n",
    "df.columns = map(str.lower, df.columns)\n",
    "dft = pd.read_parquet(export_DIR +f\"NBA_Synergy_Player_Tot_{season}.parquet\")\n",
    "dft.columns = map(str.lower, dft.columns)"
   ]
  },
  {
   "cell_type": "code",
   "execution_count": null,
   "metadata": {},
   "outputs": [],
   "source": [
    "df1 = df.query(\"type_grouping == 'Offensive'\")\n",
    "df1 = df1[[\"player_name\",\"play_type\",\"poss_pct\"]]\n",
    "df1 = df1.sort_values(by=[\"player_name\",\"play_type\"])\n",
    "df1 = df1.fillna(0)"
   ]
  },
  {
   "cell_type": "code",
   "execution_count": null,
   "metadata": {},
   "outputs": [],
   "source": [
    "dfs = df1.pivot_table(index= \"player_name\", columns= \"play_type\", values= \"poss_pct\", aggfunc= \"mean\")\n",
    "dfs = dfs.fillna(0)\n",
    "dfs = dfs.drop(columns= [\"Misc\",\"Transition\"])"
   ]
  },
  {
   "cell_type": "code",
   "execution_count": null,
   "metadata": {},
   "outputs": [],
   "source": [
    "dfs = dfs[['PRBallHandler','Isolation','Spotup','OffScreen','Handoff','Cut','PRRollMan','Postup','OffRebound']]"
   ]
  },
  {
   "cell_type": "code",
   "execution_count": null,
   "metadata": {},
   "outputs": [],
   "source": [
    "len(dfs.columns)"
   ]
  },
  {
   "cell_type": "code",
   "execution_count": null,
   "metadata": {},
   "outputs": [],
   "source": [
    "dftp = dft.groupby(\"player_name\")[[\"poss\"]].agg({\"poss\":[\"sum\"]})\n",
    "dftp.columns = [\"poss\"]\n",
    "dftp = dftp.sort_values(by=[\"player_name\"])"
   ]
  },
  {
   "cell_type": "code",
   "execution_count": null,
   "metadata": {},
   "outputs": [],
   "source": [
    "len(dftp.query(\"poss > 300\"))"
   ]
  },
  {
   "cell_type": "code",
   "execution_count": null,
   "metadata": {},
   "outputs": [],
   "source": [
    "dfs = dfs[dftp[\"poss\"]>=200]"
   ]
  },
  {
   "cell_type": "code",
   "execution_count": null,
   "metadata": {},
   "outputs": [],
   "source": [
    "features = dfs.to_numpy()\n",
    "scaled_features = features"
   ]
  },
  {
   "cell_type": "markdown",
   "metadata": {},
   "source": [
    "# Finding Optimal Number of Clusters"
   ]
  },
  {
   "cell_type": "code",
   "execution_count": null,
   "metadata": {},
   "outputs": [],
   "source": [
    "kmeans_kwargs = {\"init\": \"random\", \"n_init\": 10,\"random_state\": 42}\n",
    "\n",
    " # A list holds the SSE values for each k\n",
    "sse = []\n",
    "for k in range(1, 20):\n",
    "    kmeans = KMeans(n_clusters=k, **kmeans_kwargs)\n",
    "    kmeans.fit(scaled_features)\n",
    "    sse.append(kmeans.inertia_)"
   ]
  },
  {
   "cell_type": "code",
   "execution_count": null,
   "metadata": {},
   "outputs": [],
   "source": [
    "plt.style.use(\"fivethirtyeight\")\n",
    "plt.plot(range(1, 20), sse)\n",
    "plt.xticks(range(1, 20))\n",
    "plt.xlabel(\"Number of Clusters\")\n",
    "plt.ylabel(\"SSE\")\n",
    "plt.show()"
   ]
  },
  {
   "cell_type": "code",
   "execution_count": null,
   "metadata": {},
   "outputs": [],
   "source": [
    "silhouette_coefficients = []\n",
    "\n",
    "# Notice you start at 2 clusters for silhouette coefficient\n",
    "for k in range(2, 20):\n",
    "    kmeans = KMeans(n_clusters=k, **kmeans_kwargs)\n",
    "    kmeans.fit(scaled_features)\n",
    "    score = silhouette_score(scaled_features, kmeans.labels_)\n",
    "    silhouette_coefficients.append(score)"
   ]
  },
  {
   "cell_type": "code",
   "execution_count": null,
   "metadata": {},
   "outputs": [],
   "source": [
    "plt.style.use(\"fivethirtyeight\")\n",
    "plt.plot(range(2, 20), silhouette_coefficients)\n",
    "plt.xticks(range(2, 20))\n",
    "plt.xlabel(\"Number of Clusters\")\n",
    "plt.ylabel(\"Silhouette Coefficient\")\n",
    "plt.show()"
   ]
  },
  {
   "cell_type": "markdown",
   "metadata": {},
   "source": [
    "# Looking at clusters"
   ]
  },
  {
   "cell_type": "code",
   "execution_count": null,
   "metadata": {},
   "outputs": [],
   "source": [
    "def plot_clusters(df,dft,n,var1,var2):\n",
    "    fig, ax = plt.subplots(1,1, figsize=(6.4,4.8))\n",
    "    sns.scatterplot(data=df,x= var1, y= var2 , ax= ax)\n",
    "    sns.scatterplot(data=dft,x= var1, y= var2, ax= ax)\n",
    "    p = snso.Plot(data=dft, x= var1, y= var2, text=\"player_name\").add(snso.Text(valign=\"bottom\"))\n",
    "    p.on(ax).show()"
   ]
  },
  {
   "cell_type": "markdown",
   "metadata": {},
   "source": [
    "## 3 Clusters"
   ]
  },
  {
   "cell_type": "code",
   "execution_count": null,
   "metadata": {},
   "outputs": [],
   "source": [
    "n = 3\n",
    "kmeans = KMeans(\n",
    "    init=\"random\",\n",
    "    n_clusters=n,\n",
    "    n_init=10,\n",
    "    max_iter=300,\n",
    "    random_state=42\n",
    ")\n",
    "kmeans.fit(scaled_features)\n",
    "clusters = kmeans.cluster_centers_\n",
    "clusters = np.round(clusters,3)\n",
    "dfc = dfs.copy()\n",
    "for i in range(len(clusters)):\n",
    "    dfc.loc[f\"c{i+1}\"] = clusters[i]\n",
    "dfc[\"Ball\"] = dfc[\"PRBallHandler\"] + dfc[\"Isolation\"]\n",
    "dfc[\"Shoot\"] = dfc[\"Spotup\"] + dfc[\"OffScreen\"] + dfc[\"Handoff\"]\n",
    "dfc[\"Big\"] = dfc[\"Cut\"] + dfc[\"PRRollMan\"]\t+ dfc[\"Postup\"] + dfc[\"Postup\"]\n",
    "dfct = dfc.tail(n)\n",
    "dfc = dfc.head(-n)\n",
    "dfc[\"label\"] = kmeans.labels_\n",
    "display(dfct)"
   ]
  },
  {
   "cell_type": "code",
   "execution_count": null,
   "metadata": {},
   "outputs": [],
   "source": [
    "dfc[\"label\"] = dfc[\"label\"].astype(\"category\")\n",
    "dfc[\"label\"] = dfc[\"label\"].cat.rename_categories([\"wing\",\"ballh\",\"big\"])\n",
    "dfc[\"label\"].value_counts()/len(dfc)"
   ]
  },
  {
   "cell_type": "code",
   "execution_count": null,
   "metadata": {},
   "outputs": [],
   "source": [
    "plot_clusters(dfc,dfct,n,\"PRBallHandler\",\"Spotup\")\n",
    "plot_clusters(dfc,dfct,n,\"Cut\",\"Spotup\")\n",
    "plot_clusters(dfc,dfct,n,\"PRRollMan\",\"Cut\")"
   ]
  },
  {
   "cell_type": "code",
   "execution_count": null,
   "metadata": {},
   "outputs": [],
   "source": [
    "X = scaled_features\n",
    "k_means_labels = pairwise_distances_argmin(X, clusters)\n",
    "colors = sns.color_palette(n_colors=n)\n",
    "fig, ax = plt.subplots(1,1)\n",
    "var1 = 0\n",
    "var2 = 6\n",
    "for k,col in zip(range(n),colors):\n",
    "    members = k_means_labels == k\n",
    "    ax.plot(X[members,var1],X[members,var2],'.', markerfacecolor = col)\n",
    "    ax.plot(clusters[k,var1],clusters[k,var2],\"o\", markerfacecolor = col)"
   ]
  },
  {
   "cell_type": "markdown",
   "metadata": {},
   "source": [
    "## 12 Clusters"
   ]
  },
  {
   "cell_type": "code",
   "execution_count": null,
   "metadata": {},
   "outputs": [],
   "source": [
    "n = 12\n",
    "kmeans = KMeans(\n",
    "    init=\"random\",\n",
    "    n_clusters=n,\n",
    "    n_init=10,\n",
    "    max_iter=300,\n",
    "    random_state=42\n",
    ")\n",
    "kmeans.fit(scaled_features)\n",
    "clusters = kmeans.cluster_centers_\n",
    "clusters = np.round(clusters,3)\n",
    "dfc = dfs.copy()\n",
    "for i in range(len(clusters)):\n",
    "    dfc.loc[f\"c{i+1}\"] = clusters[i]\n",
    "dfc[\"Ball\"] = dfc[\"PRBallHandler\"] + dfc[\"Isolation\"]\n",
    "dfc[\"Shoot\"] = dfc[\"Spotup\"] + dfc[\"OffScreen\"] + dfc[\"Handoff\"]\n",
    "dfc[\"Big\"] = dfc[\"Cut\"] + dfc[\"PRRollMan\"]\t+ dfc[\"Postup\"] + dfc[\"Postup\"]\n",
    "dfct = dfc.tail(n)\n",
    "dfc = dfc.head(-n)\n",
    "dfc[\"label\"] = kmeans.labels_\n",
    "# display(dfct)"
   ]
  },
  {
   "cell_type": "code",
   "execution_count": null,
   "metadata": {},
   "outputs": [],
   "source": [
    "dfct.sort_values(by=\"PRBallHandler\")"
   ]
  },
  {
   "cell_type": "markdown",
   "metadata": {},
   "source": [
    "c1: Spot up + Cut + Roll + Post up : Versatile Post up big  \n",
    "c2: 2ry Ball handler + Spot up: Shooter with ball handling  \n",
    "c3: Ball handler  \n",
    "c4: Ball handler + Spot up: Combo guard  \n",
    "c5: Spot up: Standstill shooter  \n",
    "c6: Jack of all trades  \n",
    "c7: Spot up + Off Screen + Handoff: Movement shooter  \n",
    "c8: Cut + Roll + OffReb: PnR Big  \n",
    "c9: Spot up + Cut + Roll: Shooting Big  \n",
    "c10: Ball handler + ISO + Spot up + Tall: Play-makers  \n",
    "c11: Spot up + little bit of versatility: Utility Standstill shooter  \n",
    "c12: Spot up + Cut + Tall: Tall Shooting Wing "
   ]
  },
  {
   "cell_type": "code",
   "execution_count": null,
   "metadata": {},
   "outputs": [],
   "source": [
    "i = 11\n",
    "dfc.query(f\"label == {i-1}\")"
   ]
  }
 ],
 "metadata": {
  "kernelspec": {
   "display_name": "nba-ub9Z_EQq-py3.11",
   "language": "python",
   "name": "python3"
  },
  "language_info": {
   "codemirror_mode": {
    "name": "ipython",
    "version": 3
   },
   "file_extension": ".py",
   "mimetype": "text/x-python",
   "name": "python",
   "nbconvert_exporter": "python",
   "pygments_lexer": "ipython3",
   "version": "3.11.6"
  }
 },
 "nbformat": 4,
 "nbformat_minor": 2
}
