{
 "cells": [
  {
   "cell_type": "markdown",
   "metadata": {},
   "source": [
    "# Kmeans Comparing Different Years"
   ]
  },
  {
   "cell_type": "code",
   "execution_count": null,
   "metadata": {},
   "outputs": [],
   "source": [
    "import os, sys\n",
    "\n",
    "sys.path.append(os.path.dirname(os.path.dirname(os.path.dirname(os.path.abspath(\"__file__\")))))\n",
    "from nbafuns import *\n",
    "import seaborn.objects as snso\n",
    "from sklearn.cluster import KMeans\n",
    "\n",
    "export_DIR = \"../../fdata/\""
   ]
  },
  {
   "cell_type": "code",
   "execution_count": null,
   "metadata": {},
   "outputs": [],
   "source": [
    "def get_playtypes(year, poss = 200):\n",
    "    df = pd.read_parquet(export_DIR +f\"NBA_Synergy_Player_PG_{year}.parquet\")\n",
    "    df.columns = map(str.lower, df.columns)\n",
    "    dft = pd.read_parquet(export_DIR +f\"NBA_Synergy_Player_Tot_{year}.parquet\")\n",
    "    dft.columns = map(str.lower, dft.columns)\n",
    "    df1 = df.query(\"type_grouping == 'Offensive'\")\n",
    "    df1 = df1[[\"player_name\",\"play_type\",\"poss_pct\"]]\n",
    "    df1 = df1.sort_values(by=[\"player_name\",\"play_type\"])\n",
    "    df1 = df1.fillna(0)\n",
    "    dfs = df1.pivot_table(index= \"player_name\", columns= \"play_type\", values= \"poss_pct\", aggfunc= \"mean\")\n",
    "    dfs = dfs.fillna(0)\n",
    "    dfs = dfs.drop(columns= [\"Misc\",\"Transition\"])\n",
    "    dfs = dfs[['PRBallHandler','Isolation','Spotup','OffScreen','Handoff','Cut','PRRollMan','Postup','OffRebound']]\n",
    "    dftp = dft.groupby(\"player_name\")[[\"poss\"]].agg({\"poss\":[\"sum\"]})\n",
    "    dftp.columns = [\"poss\"]\n",
    "    dftp = dftp.sort_values(by=[\"player_name\"])\n",
    "    print(f\"unfiltered length: {len(dftp)}\")\n",
    "    fil_len = len(dftp.query(f\"poss > {poss}\"))\n",
    "    print(f\"filtered   length: {fil_len}\")\n",
    "    dfs = dfs[dftp[\"poss\"]>=poss]\n",
    "\n",
    "    return dfs"
   ]
  },
  {
   "cell_type": "code",
   "execution_count": null,
   "metadata": {},
   "outputs": [],
   "source": [
    "def perform_kmeans_multi(features,dfs, n = 12):\n",
    "    kmeans = KMeans(\n",
    "        init= \"random\",\n",
    "        n_clusters=n,\n",
    "        n_init= 10,\n",
    "        max_iter=300,\n",
    "        random_state=42\n",
    "    )\n",
    "    kmeans.fit(features)\n",
    "    clusters = kmeans.cluster_centers_\n",
    "    clusters = np.round(clusters,3)\n",
    "    dfc = dfs.copy()\n",
    "    dfc[\"Ball\"] = dfc[\"PRBallHandler\"] + dfc[\"Isolation\"]\n",
    "    dfc[\"Shoot\"] = dfc[\"Spotup\"] + dfc[\"OffScreen\"] + dfc[\"Handoff\"]\n",
    "    dfc[\"Big\"] = dfc[\"Cut\"] + dfc[\"PRRollMan\"]\t+ dfc[\"Postup\"] + dfc[\"Postup\"]\n",
    "    dfc[\"label\"] = kmeans.labels_\n",
    "    dfc.insert(2,\"label\",dfc.pop(\"label\"))\n",
    "    dfcf = pd.DataFrame(clusters, columns=dfc.columns[3:-3], index = [f\"c{i}\" for i in range(1,n+1)])\n",
    "    dfcf.index.names = [\"player_type\"]\n",
    "    \n",
    "    return dfc, dfcf"
   ]
  },
  {
   "cell_type": "code",
   "execution_count": null,
   "metadata": {},
   "outputs": [],
   "source": [
    "season = 2020\n",
    "dfa = []\n",
    "for season in range(2012,2023):\n",
    "    dfs1 = get_playtypes(season, poss = 200)\n",
    "    dfs1[\"Season\"]  = season + 1\n",
    "    dfs1 = dfs1.reset_index()\n",
    "    dfa.append(dfs1)"
   ]
  },
  {
   "cell_type": "code",
   "execution_count": null,
   "metadata": {},
   "outputs": [],
   "source": [
    "dfs = pd.concat(dfa)\n",
    "dfs = dfs.reset_index(drop=True)\n",
    "dfs.insert(1,\"Season\",dfs.pop(\"Season\"))"
   ]
  },
  {
   "cell_type": "code",
   "execution_count": null,
   "metadata": {},
   "outputs": [],
   "source": [
    "features = dfs.iloc[:,2:].to_numpy()"
   ]
  },
  {
   "cell_type": "code",
   "execution_count": null,
   "metadata": {},
   "outputs": [],
   "source": [
    "dfc, dfcf = perform_kmeans_multi(features,dfs, n = 12)"
   ]
  },
  {
   "cell_type": "code",
   "execution_count": null,
   "metadata": {},
   "outputs": [],
   "source": [
    "dfcf.sort_values(by=\"PRBallHandler\", ascending= False)"
   ]
  },
  {
   "cell_type": "code",
   "execution_count": null,
   "metadata": {},
   "outputs": [],
   "source": [
    "init_clusters = dfcf.sort_values(by=\"PRBallHandler\",ascending=False).to_numpy()"
   ]
  },
  {
   "cell_type": "code",
   "execution_count": null,
   "metadata": {},
   "outputs": [],
   "source": [
    "def perform_kmeans_multi_winit(features,dfs,init_clusters, n = 12):\n",
    "    kmeans = KMeans(\n",
    "        init= init_clusters,\n",
    "        n_clusters=n,\n",
    "        n_init='auto',\n",
    "        max_iter=300,\n",
    "        random_state=42\n",
    "    )\n",
    "    kmeans.fit(features)\n",
    "    clusters = kmeans.cluster_centers_\n",
    "    clusters = np.round(clusters,3)\n",
    "    dfc = dfs.copy()\n",
    "    dfc[\"Ball\"] = dfc[\"PRBallHandler\"] + dfc[\"Isolation\"]\n",
    "    dfc[\"Shoot\"] = dfc[\"Spotup\"] + dfc[\"OffScreen\"] + dfc[\"Handoff\"]\n",
    "    dfc[\"Big\"] = dfc[\"Cut\"] + dfc[\"PRRollMan\"]\t+ dfc[\"Postup\"] + dfc[\"Postup\"]\n",
    "    dfc[\"label\"] = kmeans.labels_ + 1\n",
    "    dfc.insert(2,\"label\",dfc.pop(\"label\"))\n",
    "    dfcf = pd.DataFrame(clusters, columns=dfc.columns[3:-3], index = [f\"c{i}\" for i in range(1,n+1)])\n",
    "    dfcf.index.names = [\"player_type\"]\n",
    "    dfcf[\"Ball\"] = dfcf[\"PRBallHandler\"] + dfcf[\"Isolation\"]\n",
    "    dfcf[\"Shoot\"] = dfcf[\"Spotup\"] + dfcf[\"OffScreen\"] + dfcf[\"Handoff\"]\n",
    "    dfcf[\"Big\"] = dfcf[\"Cut\"] + dfcf[\"PRRollMan\"]\t+ dfcf[\"Postup\"] + dfcf[\"Postup\"]\n",
    "\n",
    "    return dfc, dfcf"
   ]
  },
  {
   "cell_type": "code",
   "execution_count": null,
   "metadata": {},
   "outputs": [],
   "source": [
    "dfc1, dfcf1 = perform_kmeans_multi_winit(features,dfs,init_clusters, n = 12)"
   ]
  },
  {
   "cell_type": "code",
   "execution_count": null,
   "metadata": {},
   "outputs": [],
   "source": [
    "dfcf1"
   ]
  },
  {
   "cell_type": "markdown",
   "metadata": {},
   "source": [
    "## 2012-23\n",
    "- c1: Ball Handler\n",
    "- c2: Ball Handler + Spot Up: Shooting Ball Handler\n",
    "- c3: Ball Handler + ISO + Spot Up + Tall: Play-makers\n",
    "- c4: Secondary Ball Handler + Spot Up: Versatile Shooter\n",
    "- c5: Spot Up + Off Screen + Handoff: Movement Shooter\n",
    "- c6: Spot Up + ISO + Post Up: Big Wing\n",
    "- c7: Spot Up + little bit of versatility: Utility Standstill Shooter\n",
    "- c8: Spot Up: Wing Shooter\n",
    "- c9: Spot Up + Cut + Roll: Shooting Big\n",
    "- c10: Cut + Roll + Post Up : Post up big\n",
    "- c11: Cut + Roll + OffReb: PnR Big  w Shooting\n",
    "- c12: Cut + Roll + OffReb: Finishing Big"
   ]
  },
  {
   "cell_type": "code",
   "execution_count": null,
   "metadata": {},
   "outputs": [],
   "source": [
    "i = 6\n",
    "dfc1.query(f\"label == {i}\").query(\"Season == 2023\")"
   ]
  },
  {
   "cell_type": "code",
   "execution_count": null,
   "metadata": {},
   "outputs": [],
   "source": [
    "player = \"Jaren Jackson Jr.\"\n",
    "dfc1.query(f\"player_name == '{player}'\")"
   ]
  },
  {
   "cell_type": "markdown",
   "metadata": {},
   "source": []
  }
 ],
 "metadata": {
  "kernelspec": {
   "display_name": "nba-ub9Z_EQq-py3.11",
   "language": "python",
   "name": "python3"
  },
  "language_info": {
   "codemirror_mode": {
    "name": "ipython",
    "version": 3
   },
   "file_extension": ".py",
   "mimetype": "text/x-python",
   "name": "python",
   "nbconvert_exporter": "python",
   "pygments_lexer": "ipython3",
   "version": "3.11.6"
  }
 },
 "nbformat": 4,
 "nbformat_minor": 2
}
