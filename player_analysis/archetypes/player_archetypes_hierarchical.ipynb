{
 "cells": [
  {
   "cell_type": "code",
   "execution_count": null,
   "metadata": {},
   "outputs": [],
   "source": [
    "import os, sys\n",
    "\n",
    "sys.path.append(os.path.dirname(os.path.dirname(os.path.dirname(os.path.abspath(\"__file__\")))))\n",
    "from nbafuns import *\n",
    "import seaborn.objects as snso\n",
    "from sklearn.cluster import KMeans\n",
    "\n",
    "data_DIR = \"../../data/synergy/\""
   ]
  },
  {
   "cell_type": "code",
   "execution_count": null,
   "metadata": {},
   "outputs": [],
   "source": [
    "def get_playtypes(year, poss = 200):\n",
    "    df = pd.read_parquet(data_DIR +f\"NBA_Synergy_Player_PG_{year}.parquet\")\n",
    "    df.columns = map(str.lower, df.columns)\n",
    "    dft = pd.read_parquet(data_DIR +f\"NBA_Synergy_Player_Tot_{year}.parquet\")\n",
    "    dft.columns = map(str.lower, dft.columns)\n",
    "    df1 = df.query(\"type_grouping == 'Offensive'\")\n",
    "    df1 = df1[[\"player_name\",\"play_type\",\"poss_pct\"]]\n",
    "    df1 = df1.sort_values(by=[\"player_name\",\"play_type\"])\n",
    "    df1 = df1.fillna(0)\n",
    "    dfs = df1.pivot_table(index= \"player_name\", columns= \"play_type\", values= \"poss_pct\", aggfunc= \"mean\")\n",
    "    dfs = dfs.fillna(0)\n",
    "    dfs = dfs.drop(columns= [\"Misc\",\"Transition\"])\n",
    "    dfs = dfs[['PRBallHandler','Isolation','Spotup','OffScreen','Handoff','Cut','PRRollMan','Postup','OffRebound']]\n",
    "    dftp = dft.groupby(\"player_name\")[[\"poss\"]].agg({\"poss\":[\"sum\"]})\n",
    "    dftp.columns = [\"poss\"]\n",
    "    dftp = dftp.sort_values(by=[\"player_name\"])\n",
    "    print(f\"unfiltered length: {len(dftp)}\")\n",
    "    fil_len = len(dftp.query(f\"poss > {poss}\"))\n",
    "    print(f\"filtered   length: {fil_len}\")\n",
    "    dfs = dfs[dftp[\"poss\"]>=poss]\n",
    "\n",
    "    return dfs"
   ]
  },
  {
   "cell_type": "code",
   "execution_count": null,
   "metadata": {},
   "outputs": [],
   "source": [
    "dfa = []\n",
    "for season in range(2012,2023):\n",
    "    dfs1 = get_playtypes(season, poss = 200)\n",
    "    dfs1[\"Season\"]  = season + 1\n",
    "    dfs1 = dfs1.reset_index()\n",
    "    dfa.append(dfs1)\n",
    "clear_output()"
   ]
  },
  {
   "cell_type": "code",
   "execution_count": null,
   "metadata": {},
   "outputs": [],
   "source": [
    "dfs = pd.concat(dfa)\n",
    "dfs = dfs.reset_index(drop=True)\n",
    "dfs.insert(1,\"Season\",dfs.pop(\"Season\"))\n",
    "features = dfs.iloc[:,2:].to_numpy()"
   ]
  },
  {
   "cell_type": "code",
   "execution_count": null,
   "metadata": {},
   "outputs": [],
   "source": [
    "from sklearn.cluster import AgglomerativeClustering"
   ]
  },
  {
   "cell_type": "code",
   "execution_count": null,
   "metadata": {},
   "outputs": [],
   "source": [
    "model = AgglomerativeClustering(n_clusters= 12, compute_distances =True, linkage= \"ward\")\n",
    "\n",
    "model.fit(features)"
   ]
  },
  {
   "cell_type": "code",
   "execution_count": null,
   "metadata": {},
   "outputs": [],
   "source": [
    "dfc = dfs.copy()\n",
    "dfc[\"Ball\"] = dfc[\"PRBallHandler\"] + dfc[\"Isolation\"]\n",
    "dfc[\"Shoot\"] = dfc[\"Spotup\"] + dfc[\"OffScreen\"] + dfc[\"Handoff\"]\n",
    "dfc[\"Big\"] = dfc[\"Cut\"] + dfc[\"PRRollMan\"]\t+ dfc[\"Postup\"] + dfc[\"Postup\"]\n",
    "dfc[\"label\"] = model.labels_\n",
    "dfc.insert(2,\"label\",dfc.pop(\"label\"))"
   ]
  },
  {
   "cell_type": "code",
   "execution_count": null,
   "metadata": {},
   "outputs": [],
   "source": [
    "dfc"
   ]
  },
  {
   "cell_type": "code",
   "execution_count": null,
   "metadata": {},
   "outputs": [],
   "source": [
    "i = 12\n",
    "dfc.query(f\"label == {i-1}\").query(\"Season == 2023\")"
   ]
  }
 ],
 "metadata": {
  "kernelspec": {
   "display_name": "nba-ub9Z_EQq-py3.11",
   "language": "python",
   "name": "python3"
  },
  "language_info": {
   "codemirror_mode": {
    "name": "ipython",
    "version": 3
   },
   "file_extension": ".py",
   "mimetype": "text/x-python",
   "name": "python",
   "nbconvert_exporter": "python",
   "pygments_lexer": "ipython3",
   "version": "3.11.6"
  }
 },
 "nbformat": 4,
 "nbformat_minor": 2
}
