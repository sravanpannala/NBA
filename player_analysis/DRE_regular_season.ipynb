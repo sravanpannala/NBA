{
 "cells": [
  {
   "cell_type": "code",
   "execution_count": null,
   "metadata": {},
   "outputs": [],
   "source": [
    "import os, sys\n",
    "\n",
    "sys.path.append(os.path.dirname(os.path.dirname(os.path.abspath(\"__file__\"))))\n",
    "from nbafuns import *\n",
    "\n",
    "player_dict = get_players_pbp()\n",
    "teams_dict, teams_list = get_teams()\n",
    "\n",
    "box_DIR = \"../data/box/\"\n",
    "img_DIR_P = \"../data/images/players/\"\n",
    "fig_DIR = \"../figs/players/\""
   ]
  },
  {
   "cell_type": "code",
   "execution_count": null,
   "metadata": {},
   "outputs": [],
   "source": [
    "seasons = np.arange(2020,2025)\n",
    "df1 = get_box(\"P\",\"Base\",False,seasons)\n",
    "df1[\"game_id\"] = df1[\"game_id\"].astype(int)\n",
    "df2 = get_box(\"P\",\"Adv\",False,seasons)\n",
    "df2 = df2[[\"gameid\",\"personid\",\"possessions\"]]\n",
    "df2.columns = ['game_id','player_id',\"poss\"]\n",
    "df3 = pd.merge(df1,df2,on=['game_id','player_id'])\n",
    "df3[\"dre\"] = -8.42364*df3[\"poss\"]/100+0.79231*df3[\"pts\"]-0.71944*(df3[\"fga\"]-df3[\"fg3a\"])-0.55233*df3[\"fg3a\"]-0.15944*df3[\"fta\"]+0.13479*df3[\"oreb\"]+0.3996*df3[\"dreb\"]+0.54415*df3[\"ast\"]+1.68007*df3[\"stl\"]+0.76387*df3[\"blk\"]-1.3599*df3[\"tov\"]-0.10838*df3[\"pf\"]\n",
    "\n",
    "df3[\"gmsc\"] = df3[\"pts\"]+0.4*df3[\"fgm\"]-0.7*df3[\"fga\"]-0.4*(df3[\"fta\"]-df3[\"ftm\"])+0.7*df3[\"oreb\"]+0.3*df3[\"dreb\"]+df3[\"stl\"]+0.7*df3[\"ast\"]+0.7*df3[\"blk\"]-0.4*df3[\"pf\"]-df3[\"tov\"]\n",
    "df3[\"game_date\"] = pd.to_datetime(df3[\"game_date\"])\n",
    "\n",
    "df3['player_name'] = (\n",
    "        df3['player_name']\n",
    "        .str.normalize('NFKD')\n",
    "        .str.encode('ascii', errors='ignore')\n",
    "        .str.decode('utf-8')\n",
    "    )"
   ]
  },
  {
   "cell_type": "code",
   "execution_count": null,
   "metadata": {},
   "outputs": [],
   "source": [
    "df4 = df3[['player_id', 'player_name', 'game_date', 'dre', 'season']]\n",
    "df4 = df4.sort_values([\"game_date\"],ascending=True)\n",
    "df4g = df4.groupby([\"season\",\"player_id\",\"player_name\"])\n",
    "keys = list(df4g.groups)\n",
    "dfa = []\n",
    "for key in tqdm(keys):\n",
    "    df5 = df4g.get_group(key)\n",
    "    df5 = df5.reset_index(drop=True)\n",
    "    df5 = df5.reset_index()\n",
    "    df5 = df5.rename(columns={\"index\":\"game_no\"})\n",
    "    df5[\"game_no\"] +=1\n",
    "    dfa.append(df5)\n",
    "df6 = pd.concat(dfa)\n",
    "# df7[\"Season\"] = df7[\"season\"]\n",
    "df6[\"Season\"] = df6[\"season\"].astype(\"category\")"
   ]
  },
  {
   "cell_type": "code",
   "execution_count": null,
   "metadata": {},
   "outputs": [],
   "source": [
    "player = \"Austin Reaves\"\n",
    "df7 = df6.query(f'player_name == \"{player}\"')\n",
    "df7 = df7.query(f'Season == 2025')\n",
    "# player_id = 202710\n",
    "# df7 = df6.query(f\"player_id == {player_id}\")\n",
    "p = (\n",
    "    ggplot(df7)\n",
    "    + aes(x=\"game_no\",y=\"dre\", group=\"Season\",color=\"Season\")\n",
    "    + geom_smooth(se=False,span=0.7,size=2)\n",
    "    + geom_point(size=1)\n",
    "    + theme_idv\n",
    "    + pnba\n",
    "    + theme(\n",
    "        plot_subtitle=element_text(size=12),\n",
    "        plot_title=element_text(size=20),\n",
    "    )\n",
    "    + labs(\n",
    "        title=f\"{player} Peformance Trends\",\n",
    "        subtitle=\"Evaluation metric is DRE (Daily RAPM Estimate) by Kevin Ferrigan\",\n",
    "        y=\"DRE\",\n",
    "        x=\"Game #\",\n",
    "    )\n",
    ")\n",
    "p"
   ]
  },
  {
   "cell_type": "code",
   "execution_count": null,
   "metadata": {},
   "outputs": [],
   "source": [
    "df7"
   ]
  }
 ],
 "metadata": {
  "kernelspec": {
   "display_name": ".venv",
   "language": "python",
   "name": "python3"
  },
  "language_info": {
   "codemirror_mode": {
    "name": "ipython",
    "version": 3
   },
   "file_extension": ".py",
   "mimetype": "text/x-python",
   "name": "python",
   "nbconvert_exporter": "python",
   "pygments_lexer": "ipython3",
   "version": "3.12.9"
  }
 },
 "nbformat": 4,
 "nbformat_minor": 2
}
