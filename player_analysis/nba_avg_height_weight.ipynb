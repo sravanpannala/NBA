{
 "cells": [
  {
   "cell_type": "code",
   "execution_count": null,
   "metadata": {},
   "outputs": [],
   "source": [
    "import os, sys\n",
    "\n",
    "sys.path.append(os.path.dirname(os.path.dirname(os.path.abspath(\"__file__\"))))\n",
    "from nbafuns import *\n",
    "fig_DIR = \"../figs/player_analysis/\"\n",
    "aio_DIR = \"../data/all_in_one_metrics/\"\n",
    "misc_DIR = \"../data/misc/\""
   ]
  },
  {
   "cell_type": "code",
   "execution_count": null,
   "metadata": {},
   "outputs": [],
   "source": [
    "from nba_api.stats.endpoints import playerindex, leaguedashplayerstats, leaguedashplayerbiostats"
   ]
  },
  {
   "cell_type": "code",
   "execution_count": null,
   "metadata": {},
   "outputs": [],
   "source": [
    "dfa = []\n",
    "for year in tqdm(range(1996,2024)):\n",
    "    season_str = str(year) + \"-\" + str(year+1)[-2:]\n",
    "    time.sleep(0.6)\n",
    "    stats = leaguedashplayerbiostats.LeagueDashPlayerBioStats(\n",
    "        league_id=\"00\", \n",
    "        per_mode_simple=\"Totals\", \n",
    "        season_type_all_star=\"Regular Season\", \n",
    "        season=season_str\n",
    "    )\n",
    "    df1 = stats.get_data_frames()[0]\n",
    "    df1.columns = map(str.lower, df1.columns)\n",
    "    time.sleep(0.6)\n",
    "    stats = leaguedashplayerstats.LeagueDashPlayerStats(\n",
    "        measure_type_detailed_defense=\"Base\",\n",
    "        per_mode_detailed=\"Totals\",\n",
    "        season_type_all_star=\"Regular Season\",\n",
    "        season=season_str,\n",
    "        player_position_abbreviation_nullable=\"C\"\n",
    "    )\n",
    "    df2 = stats.get_data_frames()[0]\n",
    "    df2.columns = map(str.lower, df2.columns)\n",
    "    df1 = df1.rename(columns={\"player_id\":\"pID\"})\n",
    "    df2 = df2.rename(columns={\"player_id\":\"pID\"})\n",
    "    df1 = df1[[\"pID\",\"player_height_inches\",\"player_weight\"]]\n",
    "    df2 = df2[[\"pID\",\"player_name\",\"min\",\"pts\",\"blk\"]]\n",
    "    df3 = pd.merge(df2,df1,on=\"pID\")\n",
    "    df3[\"season\"] = year + 1\n",
    "    dfa.append(df3)\n"
   ]
  },
  {
   "cell_type": "code",
   "execution_count": null,
   "metadata": {},
   "outputs": [],
   "source": [
    "df = pd.concat(dfa)\n",
    "idx = df[df['player_weight'] == ''].index\n",
    "df.loc[idx,'player_weight'] = 0\n",
    "df[\"player_weight\"] = df[\"player_weight\"].astype(\"int\")\n",
    "df[\"height_min\"] = df[\"player_height_inches\"]*df[\"min\"]\n",
    "df[\"weight_min\"] = df[\"player_weight\"]*df[\"min\"]\n",
    "df = df.drop(idx)"
   ]
  },
  {
   "cell_type": "code",
   "execution_count": null,
   "metadata": {},
   "outputs": [],
   "source": [
    "dfs = df.groupby(\"season\")[[\"min\",\"height_min\",\"weight_min\"]].sum().reset_index()\n",
    "dfs[\"height\"] = round(dfs[\"height_min\"]/dfs[\"min\"],1)\n",
    "dfs[\"weight\"] = round(dfs[\"weight_min\"]/dfs[\"min\"],1)"
   ]
  },
  {
   "cell_type": "code",
   "execution_count": null,
   "metadata": {},
   "outputs": [],
   "source": [
    "p = (\n",
    "    ggplot(dfs)\n",
    "    + aes(x=\"season\", y = \"height\")\n",
    "    + geom_point()\n",
    "    + geom_line(size=1)\n",
    "    + theme_idv\n",
    "    + theme(\n",
    "        plot_margin=0.025,\n",
    "    )\n",
    "    + labs(\n",
    "        x=\"Season\",\n",
    "        y=\"Height (inches)\",\n",
    "        title=f\"Average Height of Centers From 1996-97 NBA Season\",\n",
    "        subtitle=f\"Average shown here is Weighted Average by minutes played\",\n",
    "        caption=\"@SravanNBA | source:nba.com/stats\",\n",
    "    )\n",
    ")\n",
    "p.save(fig_DIR + f\"center_avg_height.png\", dpi=300, verbose=False)\n",
    "p"
   ]
  },
  {
   "cell_type": "code",
   "execution_count": null,
   "metadata": {},
   "outputs": [],
   "source": [
    "p = (\n",
    "    ggplot(dfs)\n",
    "    + aes(x=\"season\", y = \"weight\")\n",
    "    + geom_line(size=1)\n",
    "    + theme_idv\n",
    "    + theme(\n",
    "        plot_margin=0.025,\n",
    "    )\n",
    "    + labs(\n",
    "        x=\"Season\",\n",
    "        y=\"Weight (lb)\",\n",
    "        title=f\"Average Weight of Centers From 1996-97 NBA Season\",\n",
    "        subtitle=f\"Average shown here is Weighted Average by minutes played\",\n",
    "        caption=\"@SravanNBA | source:nba.com/stats\",\n",
    "    )\n",
    ")\n",
    "p.save(fig_DIR + f\"center_avg_weight.png\", dpi=300, verbose=False)\n",
    "p"
   ]
  },
  {
   "cell_type": "code",
   "execution_count": null,
   "metadata": {},
   "outputs": [],
   "source": [
    "dfd = pd.read_csv(aio_DIR + \"NBA_DARKO_History.csv\")\n",
    "dfd = dfd.rename(columns={\"idPlayerNBA\":\"pID\"})\n",
    "dfd = dfd[[\"pID\",\"season\",\"dpm\",\"o_dpm\",\"d_dpm\"]]"
   ]
  },
  {
   "cell_type": "code",
   "execution_count": null,
   "metadata": {},
   "outputs": [],
   "source": [
    "dfm = pd.merge(df,dfd,on=[\"pID\",\"season\"])"
   ]
  },
  {
   "cell_type": "code",
   "execution_count": null,
   "metadata": {},
   "outputs": [],
   "source": [
    "dfm.to_csv(misc_DIR + \"To_Matt_Issa.csv\")"
   ]
  },
  {
   "cell_type": "code",
   "execution_count": null,
   "metadata": {},
   "outputs": [],
   "source": [
    "dfg = dfm.groupby(\"season\")"
   ]
  },
  {
   "cell_type": "code",
   "execution_count": null,
   "metadata": {},
   "outputs": [],
   "source": [
    "dfb = []\n",
    "for year in range(1997,2025):\n",
    "    dfg1 = dfg.get_group(year).nlargest(10,\"d_dpm\").reset_index(drop=True)\n",
    "    dfb.append(dfg1)\n",
    "dfb = pd.concat(dfb)\n",
    "dfbs = dfb.groupby(\"season\")[[\"player_height_inches\",\"player_weight\"]].mean().reset_index()"
   ]
  },
  {
   "cell_type": "code",
   "execution_count": null,
   "metadata": {},
   "outputs": [],
   "source": [
    "p = (\n",
    "    ggplot(dfbs)\n",
    "    + aes(x=\"season\", y = \"player_weight\")\n",
    "    + geom_point()\n",
    "    + geom_line(size=1)\n",
    "    + scale_x_continuous(breaks=range(1996,2025,4))\n",
    "    + theme_idv\n",
    "    + theme(\n",
    "        plot_margin=0.025,\n",
    "    )\n",
    "    + labs(\n",
    "        x=\"Season\",\n",
    "        y=\"Weight (lb)\",\n",
    "        title=f\"Average Weight of Top 10 Centers\",\n",
    "        subtitle=f\"From 1996-97 NBA Season | Top 10 Centers in DARKO Def-DPM\",\n",
    "        caption=\"@SravanNBA | source:nba.com/stats,darko.app\",\n",
    "    )\n",
    ")\n",
    "p.save(fig_DIR + f\"center_ddpm10_weight.png\", dpi=300, verbose=False)\n",
    "p"
   ]
  },
  {
   "cell_type": "code",
   "execution_count": null,
   "metadata": {},
   "outputs": [],
   "source": [
    "p = (\n",
    "    ggplot(dfbs)\n",
    "    + aes(x=\"season\", y = \"player_height_inches\")\n",
    "    + geom_point()\n",
    "    + geom_line(size=1)\n",
    "    + scale_x_continuous(breaks=range(1996,2025,4))\n",
    "    + theme_idv\n",
    "    + theme(\n",
    "        plot_margin=0.025,\n",
    "    )\n",
    "    + labs(\n",
    "        x=\"Season\",\n",
    "        y=\"Height (inches)\",\n",
    "        title=f\"Average Height of Top 10 Centers\",\n",
    "        subtitle=f\"From 1996-97 NBA Season | Top 10 Centers in DARKO Off-DPM\",\n",
    "        caption=\"@SravanNBA | source:nba.com/stats,darko.app\",\n",
    "    )\n",
    ")\n",
    "p.save(fig_DIR + f\"center_odpm10_height.png\", dpi=300, verbose=False)\n",
    "p"
   ]
  }
 ],
 "metadata": {
  "kernelspec": {
   "display_name": "nba-ub9Z_EQq-py3.11",
   "language": "python",
   "name": "python3"
  },
  "language_info": {
   "codemirror_mode": {
    "name": "ipython",
    "version": 3
   },
   "file_extension": ".py",
   "mimetype": "text/x-python",
   "name": "python",
   "nbconvert_exporter": "python",
   "pygments_lexer": "ipython3",
   "version": "3.11.6"
  }
 },
 "nbformat": 4,
 "nbformat_minor": 2
}
