{
 "cells": [
  {
   "cell_type": "code",
   "execution_count": null,
   "metadata": {},
   "outputs": [],
   "source": [
    "import os, sys\n",
    "\n",
    "sys.path.append(os.path.dirname(os.path.dirname(os.path.abspath(\"__file__\"))))\n",
    "from nbafuns import *\n",
    "\n",
    "box_DIR = \"../data/box/\"\n",
    "img_DIR_P = \"../data/images/players/\"\n",
    "fig_DIR = \"../figs/players/\""
   ]
  },
  {
   "cell_type": "code",
   "execution_count": null,
   "metadata": {},
   "outputs": [],
   "source": [
    "season = 2024\n",
    "df1 = pd.read_parquet(box_DIR + f\"NBA_Box_P_Base_{season}.parquet\")\n",
    "df1[\"GAME_DATE\"] = pd.to_datetime(df1[\"GAME_DATE\"])"
   ]
  },
  {
   "cell_type": "markdown",
   "metadata": {},
   "source": [
    "## Making 0 3s"
   ]
  },
  {
   "cell_type": "code",
   "execution_count": null,
   "metadata": {},
   "outputs": [],
   "source": [
    "df1g = df1.groupby([\"PLAYER_ID\",\"PLAYER_NAME\"])\n",
    "keys = list(df1g.groups)\n",
    "dfa = []\n",
    "for key in keys:\n",
    "    df2 = df1g.get_group(key)\n",
    "    df2[\"ct\"] = (df2[\"FG3A\"] >0) & (df2[\"FG3M\"] == 0)\n",
    "    df2 = df2.sort_values(\"GAME_DATE\")\n",
    "    m = df2.ct\n",
    "    df2['Games'] = (m.groupby([m, (~m).cumsum().where(m)]).cumcount().add(1).mul(m))\n",
    "    df2['Games'] = df2['Games'].fillna(0)\n",
    "    df2['Games'] = df2['Games'].astype(int)\n",
    "    # df2 = df2.sort_values(\"Games\").tail(1)\n",
    "    dfa.append(df2)\n",
    "df3 = pd.concat(dfa)"
   ]
  },
  {
   "cell_type": "code",
   "execution_count": null,
   "metadata": {},
   "outputs": [],
   "source": [
    "# df3[[\"PLAYER_NAME\",\"FG3M\",\"FG3A\",\"GAME_DATE\"]].query(\"PLAYER_NAME == 'Bam Adebayo'\").query(\"GAME_DATE >= '2024-12-20'\")"
   ]
  },
  {
   "cell_type": "code",
   "execution_count": null,
   "metadata": {},
   "outputs": [],
   "source": [
    "df3.columns"
   ]
  },
  {
   "cell_type": "code",
   "execution_count": null,
   "metadata": {},
   "outputs": [],
   "source": [
    "df4 = df3[[\"PLAYER_ID\",\"PLAYER_NAME\",\"TEAM_ABBREVIATION\",\"Games\"]]\n",
    "df4 = df4.sort_values(\"Games\",ascending=False).reset_index(drop=True)\n",
    "df4 = df4[~df4[\"PLAYER_ID\"].duplicated(keep=\"first\")]"
   ]
  },
  {
   "cell_type": "code",
   "execution_count": null,
   "metadata": {},
   "outputs": [],
   "source": [
    "data = df4.reset_index(drop=True).reset_index().head(15)\n",
    "data[\"PLAYER_ID\"] = data[\"PLAYER_ID\"].astype(str)\n",
    "data[\"index\"] +=1\n",
    "t = (\n",
    "        GT(data)\n",
    "        .tab_header(\n",
    "            title = md(\"**Consecutive Games with Missing All 3 Point Shots**\"),\n",
    "            subtitle = md(f\"{get_ss(season)} NBA Season, Min 1 3PA in a game\")  \n",
    "        )\n",
    "        .tab_source_note(source_note=\"bsky:@sradjoker.cc | X:@sradjoker | source: nba.com/stats\")\n",
    "        .cols_label(\n",
    "            index = \"#\",\n",
    "            PLAYER_ID = \"\",\n",
    "            PLAYER_NAME = \"Name\",\n",
    "            TEAM_ABBREVIATION=\"Team\",\n",
    "        )\n",
    "        .fmt_image(\n",
    "            columns=\"PLAYER_ID\",\n",
    "            path = img_DIR_P,\n",
    "            file_pattern=\"{}.png\"\n",
    "        )\n",
    "        .cols_align(align=\"center\")\n",
    "        .cols_align(align=\"left\", columns=\"PLAYER_NAME\")\n",
    "        .tab_options(\n",
    "            heading_title_font_size=\"150%\",\n",
    "            heading_subtitle_font_size=\"110%\",\n",
    "            # heading_title_font_weight='bold',\n",
    "            table_background_color=\"floralwhite\",\n",
    "            column_labels_font_size=\"105%\",\n",
    "            column_labels_font_weight='bold',\n",
    "            row_group_font_weight='bold',\n",
    "            row_group_background_color=\"#E5E1D8\",\n",
    "            table_font_size=10,\n",
    "            table_font_names=\"Consolas\", \n",
    "            data_row_padding = \"0.5px\",\n",
    "            # table_margin_left = 7,\n",
    "            # table_margin_right = 0,\n",
    "        )\n",
    "    )\n",
    "t.save(fig_DIR + f\"ThreePoint_Missing_Streaks_{season}.png\",scale=3,web_driver=\"firefox\")\n",
    "t"
   ]
  },
  {
   "cell_type": "markdown",
   "metadata": {},
   "source": [
    "## Making 3 3s"
   ]
  },
  {
   "cell_type": "code",
   "execution_count": null,
   "metadata": {},
   "outputs": [],
   "source": [
    "df1g = df1.groupby([\"PLAYER_ID\",\"PLAYER_NAME\"])\n",
    "keys = list(df1g.groups)\n",
    "dfa = []\n",
    "for key in keys:\n",
    "    df2 = df1g.get_group(key)\n",
    "    df2[\"ct\"] = (df2[\"FG3A\"] >0) & (df2[\"FG3M\"] > 2)\n",
    "    df2 = df2.sort_values(\"GAME_DATE\")\n",
    "    m = df2.ct\n",
    "    df2['Games'] = (m.groupby([m, (~m).cumsum().where(m)]).cumcount().add(1).mul(m))\n",
    "    df2['Games'] = df2['Games'].fillna(0)\n",
    "    df2['Games'] = df2['Games'].astype(int)\n",
    "    # df2 = df2.sort_values(\"Games\").tail(1)\n",
    "    dfa.append(df2)\n",
    "df3 = pd.concat(dfa)"
   ]
  },
  {
   "cell_type": "code",
   "execution_count": null,
   "metadata": {},
   "outputs": [],
   "source": [
    "df4 = df3[[\"PLAYER_ID\",\"PLAYER_NAME\",\"TEAM_ABBREVIATION\",\"Games\"]]\n",
    "df4 = df4.sort_values(\"Games\",ascending=False).reset_index(drop=True)\n",
    "df4 = df4[~df4[\"PLAYER_ID\"].duplicated(keep=\"first\")]"
   ]
  },
  {
   "cell_type": "code",
   "execution_count": null,
   "metadata": {},
   "outputs": [],
   "source": [
    "data = df4.reset_index(drop=True).reset_index().head(15)\n",
    "data[\"PLAYER_ID\"] = data[\"PLAYER_ID\"].astype(str)\n",
    "data[\"index\"] +=1\n",
    "t = (\n",
    "        GT(data)\n",
    "        .tab_header(\n",
    "            title = md(\"**Consecutive Games with Making at least Three 3 Point Shots**\"),\n",
    "            subtitle = md(f\"{get_ss(season)} NBA Season\")  \n",
    "        )\n",
    "        .tab_source_note(source_note=\"bsky:@sradjoker.cc | X:@sradjoker | source: nba.com/stats\")\n",
    "        .cols_label(\n",
    "            index = \"#\",\n",
    "            PLAYER_ID = \"\",\n",
    "            PLAYER_NAME = \"Name\",\n",
    "            TEAM_ABBREVIATION=\"Team\",\n",
    "        )\n",
    "        .fmt_image(\n",
    "            columns=\"PLAYER_ID\",\n",
    "            path = img_DIR_P,\n",
    "            file_pattern=\"{}.png\"\n",
    "        )\n",
    "        .cols_align(align=\"center\")\n",
    "        .cols_align(align=\"left\", columns=\"PLAYER_NAME\")\n",
    "        .tab_options(\n",
    "            heading_title_font_size=\"150%\",\n",
    "            heading_subtitle_font_size=\"110%\",\n",
    "            # heading_title_font_weight='bold',\n",
    "            table_background_color=\"floralwhite\",\n",
    "            column_labels_font_size=\"105%\",\n",
    "            column_labels_font_weight='bold',\n",
    "            row_group_font_weight='bold',\n",
    "            row_group_background_color=\"#E5E1D8\",\n",
    "            table_font_size=10,\n",
    "            table_font_names=\"Consolas\", \n",
    "            data_row_padding = \"0.5px\",\n",
    "            # table_margin_left = 7,\n",
    "            # table_margin_right = 0,\n",
    "        )\n",
    "    )\n",
    "t.save(fig_DIR + f\"ThreePoint_Making_Streaks_{season}.png\",scale=3,web_driver=\"firefox\")\n",
    "t"
   ]
  }
 ],
 "metadata": {
  "kernelspec": {
   "display_name": "dav-ub9Z_EQq-py3.12",
   "language": "python",
   "name": "python3"
  },
  "language_info": {
   "codemirror_mode": {
    "name": "ipython",
    "version": 3
   },
   "file_extension": ".py",
   "mimetype": "text/x-python",
   "name": "python",
   "nbconvert_exporter": "python",
   "pygments_lexer": "ipython3",
   "version": "3.12.0"
  }
 },
 "nbformat": 4,
 "nbformat_minor": 2
}
