{
 "cells": [
  {
   "cell_type": "code",
   "execution_count": null,
   "metadata": {},
   "outputs": [],
   "source": [
    "import os, sys\n",
    "\n",
    "sys.path.append(os.path.dirname(os.path.dirname(os.path.abspath(\"__file__\"))))\n",
    "from nbafuns import *\n",
    "from nba_api.stats.endpoints import leaguedashplayerstats\n",
    "\n",
    "data_DIR = \"../data/box/\"\n",
    "fig_DIR = \"../figs/player_analysis/\""
   ]
  },
  {
   "cell_type": "code",
   "execution_count": null,
   "metadata": {},
   "outputs": [],
   "source": [
    "cols = [\"PLAYER_ID\",\"PLAYER_NAME\",\"GP\"]\n",
    "dfa = []\n",
    "for year in range(1996,2024):\n",
    "    df1 = pd.read_parquet(data_DIR + f\"NBA_Box_P_Cum_Base_{year}.parquet\",columns=cols)\n",
    "    df1[\"season\"]=year+1\n",
    "    dfa.append(df1)\n",
    "df = pd.concat(dfa)"
   ]
  },
  {
   "cell_type": "code",
   "execution_count": null,
   "metadata": {},
   "outputs": [],
   "source": [
    "dfg = df.groupby([\"PLAYER_ID\",\"PLAYER_NAME\"])\n",
    "keys = list(dfg.groups)"
   ]
  },
  {
   "cell_type": "code",
   "execution_count": null,
   "metadata": {},
   "outputs": [],
   "source": [
    "dfb = []\n",
    "for key in keys:\n",
    "    df2 = dfg.get_group(key)\n",
    "    df2[\"GPD\"] = df2[\"GP\"].cumsum()\n",
    "    df2[\"GRM\"] = df2[\"GPD\"].iloc[-1]-df2[\"GPD\"]\n",
    "    dfb.append(df2)\n",
    "dfc = pd.concat(dfb)"
   ]
  },
  {
   "cell_type": "code",
   "execution_count": null,
   "metadata": {},
   "outputs": [],
   "source": [
    "p = (\n",
    "    ggplot(dfc)\n",
    "    + aes(x=\"GPD\",y=\"GRM\")\n",
    "    + geom_point()\n",
    "    + theme_idv\n",
    ")\n",
    "p"
   ]
  },
  {
   "cell_type": "code",
   "execution_count": null,
   "metadata": {},
   "outputs": [],
   "source": [
    "x_var = \"GPD\"\n",
    "y_var = \"GRM\"\n",
    "fig = px.scatter(dfc, x=x_var, y=y_var,width=800, height=600, hover_name=\"PLAYER_NAME\",hover_data=[\"GPD\",\"GRM\"],color_discrete_sequence =[\"blue\"])\n",
    "# fig_line = px.line(df, x = \"RAPM\", y = \"RAPM\",color_discrete_sequence=[\"black\"])\n",
    "# fig = go.Figure(data = fig_10.data + fig_line.data)\n",
    "fig.update_layout( width=800, height=600, showlegend=True)\n",
    "fig.update_layout( title=dict(\n",
    "                        text=\"Games Played vs Games Remaining\",\n",
    "                        xanchor=\"auto\",\n",
    "                        yanchor=\"middle\",\n",
    "                        font=dict(family=\"Arial, Tahoma, Helvetica\", size=25, color=\"Black\")\n",
    "                    ),\n",
    "            )\n",
    "fig.update_xaxes(title_text=x_var)\n",
    "fig.update_yaxes(title_text=y_var)\n",
    "fig.update_layout(legend=dict(\n",
    "    yanchor=\"top\",\n",
    "    y=0.99,\n",
    "    xanchor=\"left\",\n",
    "    x=0.01\n",
    "))\n",
    "\n",
    "fig.show()"
   ]
  }
 ],
 "metadata": {
  "kernelspec": {
   "display_name": "nba-ub9Z_EQq-py3.11",
   "language": "python",
   "name": "python3"
  },
  "language_info": {
   "codemirror_mode": {
    "name": "ipython",
    "version": 3
   },
   "file_extension": ".py",
   "mimetype": "text/x-python",
   "name": "python",
   "nbconvert_exporter": "python",
   "pygments_lexer": "ipython3",
   "version": "3.11.6"
  }
 },
 "nbformat": 4,
 "nbformat_minor": 2
}
