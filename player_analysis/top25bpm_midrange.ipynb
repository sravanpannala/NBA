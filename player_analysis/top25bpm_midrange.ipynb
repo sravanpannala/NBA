{
 "cells": [
  {
   "cell_type": "code",
   "execution_count": null,
   "metadata": {},
   "outputs": [],
   "source": [
    "import os, sys\n",
    "\n",
    "sys.path.append(os.path.dirname(os.path.dirname(os.path.abspath(\"__file__\"))))\n",
    "from nbafuns import *\n",
    "from nba_api.stats.endpoints import commonallplayers, playerindex\n",
    "\n",
    "\n",
    "bbref_DIR = \"../data/bbref/\"\n",
    "\n",
    "player_dict = get_players_pbp()\n",
    "teams_dict, teams_list = get_teams()\n",
    "\n",
    "box_DIR = \"../data/box/\"\n",
    "shot_DIR = \"../data/ShotLocationData/\"\n",
    "fig_DIR = \"../figs/teams/\""
   ]
  },
  {
   "cell_type": "code",
   "execution_count": null,
   "metadata": {},
   "outputs": [],
   "source": [
    "gpt, gp = [],[]\n",
    "seasons = range(2000,2024)\n",
    "for year in range(2000,2024):\n",
    "    df1 = pd.read_parquet(bbref_DIR +f\"NBA_bbref_P_Adv_{year}.parquet\")\n",
    "    df1 = df1.query(\"minutes > 500\")\n",
    "    df1 = df1[[\"idPlayerNBA\",\"ratioBPM\"]]\n",
    "    df1.columns = [\"PLAYER_ID\",\"BPM\"]\n",
    "    df1 = df1.sort_values(\"BPM\",ascending=False)\n",
    "    df1 = df1.head(25)\n",
    "    players = df1[\"PLAYER_ID\"].to_list()\n",
    "    df2 = pd.read_parquet(shot_DIR +f\"NBA_Shot_Details_{year}.parquet\")\n",
    "    df2 = df2[df2[\"PLAYER_ID\"].isin(players)]\n",
    "    df2[\"Season\"] = year + 1\n",
    "    gp.append(df2)\n",
    "df3 = pd.concat(gp)"
   ]
  },
  {
   "cell_type": "code",
   "execution_count": null,
   "metadata": {},
   "outputs": [],
   "source": [
    "df3[\"SHOT_ZONE_BASIC\"].unique()"
   ]
  },
  {
   "cell_type": "code",
   "execution_count": null,
   "metadata": {},
   "outputs": [],
   "source": [
    "df3[\"SHOT_TYPE\"].unique()"
   ]
  },
  {
   "cell_type": "code",
   "execution_count": null,
   "metadata": {},
   "outputs": [],
   "source": [
    "df3[\"SHOT_ZONE_RANGE\"].unique()"
   ]
  },
  {
   "cell_type": "code",
   "execution_count": null,
   "metadata": {},
   "outputs": [],
   "source": [
    "df3.columns"
   ]
  },
  {
   "cell_type": "code",
   "execution_count": null,
   "metadata": {},
   "outputs": [],
   "source": [
    "df4 = df3.query(\"SHOT_TYPE == '2PT Field Goal' &  SHOT_ZONE_BASIC == 'Mid-Range'\")"
   ]
  },
  {
   "cell_type": "code",
   "execution_count": null,
   "metadata": {},
   "outputs": [],
   "source": [
    "df5 = df4.groupby([\"PLAYER_NAME\",\"Season\",\"SHOT_ZONE_RANGE\"])[\"SHOT_MADE_FLAG\"].agg(\"count\")\n",
    "df5 = df4.groupby([\"Season\",\"SHOT_ZONE_RANGE\"])[\"SHOT_MADE_FLAG\"].agg(\"count\")"
   ]
  },
  {
   "cell_type": "code",
   "execution_count": null,
   "metadata": {},
   "outputs": [],
   "source": [
    "df6  = df5.reset_index()\n",
    "df6 = df6.rename(columns={\"SHOT_MADE_FLAG\":\"Shots\",\"SHOT_ZONE_RANGE\":\"Shot Range\"})"
   ]
  },
  {
   "cell_type": "code",
   "execution_count": null,
   "metadata": {},
   "outputs": [],
   "source": [
    "data = df6"
   ]
  },
  {
   "cell_type": "code",
   "execution_count": null,
   "metadata": {},
   "outputs": [],
   "source": [
    "p = (\n",
    "    ggplot(df6)\n",
    "    + aes(x=\"Season\",y=\"Shots\",color=\"Shot Range\")\n",
    "    + geom_line(size=1.5)\n",
    "    + theme_idv\n",
    "    + labs(\n",
    "        title = \"Mid Range Shots by Top 25 Players in BPM\",\n",
    "        subtitle = \"Since 2000\",\n",
    "        caption=\"bsky:@sradjoker.cc | x:@sradjoker | source: nba.com/stats\",\n",
    "    )\n",
    "    + theme(\n",
    "        figure_size=(8,5),\n",
    "    )\n",
    ")\n",
    "p"
   ]
  }
 ],
 "metadata": {
  "kernelspec": {
   "display_name": "nba-ub9Z_EQq-py3.11",
   "language": "python",
   "name": "python3"
  },
  "language_info": {
   "codemirror_mode": {
    "name": "ipython",
    "version": 3
   },
   "file_extension": ".py",
   "mimetype": "text/x-python",
   "name": "python",
   "nbconvert_exporter": "python",
   "pygments_lexer": "ipython3",
   "version": "3.11.6"
  }
 },
 "nbformat": 4,
 "nbformat_minor": 2
}
