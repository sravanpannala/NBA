{
 "cells": [
  {
   "cell_type": "code",
   "execution_count": null,
   "metadata": {},
   "outputs": [],
   "source": [
    "import os, sys\n",
    "\n",
    "sys.path.append(os.path.dirname(os.path.dirname(os.path.abspath(\"__file__\"))))\n",
    "from nbafuns import *\n",
    "from catboost import CatBoostRegressor, CatBoostClassifier\n",
    "\n",
    "data_DIR = \"../data/rapm/\"\n",
    "misc_DIR = \"../data/misc/\"\n",
    "model_path = \"../data/models/\"\n",
    "pbp_DIR = \"../data/pbpdata/\"\n",
    "fig_DIR = \"../figs/analysis/\"\n",
    "\n",
    "team_dict, team_list  = get_teams()"
   ]
  },
  {
   "cell_type": "code",
   "execution_count": null,
   "metadata": {},
   "outputs": [],
   "source": [
    "dfw = pd.read_parquet(data_DIR + \"NBA_rapm_possessions_odds_2017_2024.parquet\")\n",
    "dfw[\"spreadm\"] = dfw[\"spread\"]*(dfw[\"secs\"]/48/60)**4\n",
    "features = ['margin','secs','spreadm','period']\n",
    "len(dfw)"
   ]
  },
  {
   "cell_type": "code",
   "execution_count": null,
   "metadata": {},
   "outputs": [],
   "source": [
    "dfw.columns"
   ]
  },
  {
   "cell_type": "markdown",
   "metadata": {},
   "source": [
    "## Features"
   ]
  },
  {
   "cell_type": "code",
   "execution_count": null,
   "metadata": {},
   "outputs": [],
   "source": [
    "features = ['margin','secs','spreadm','period']\n",
    "rr = 22"
   ]
  },
  {
   "cell_type": "code",
   "execution_count": null,
   "metadata": {},
   "outputs": [],
   "source": [
    "test_gid = dfw['gid'].sample(frac=0.8, random_state=rr).to_list()\n",
    "dfw11 = dfw[dfw['gid'].isin(test_gid)]\n",
    "dfw12 = dfw11.query(\"secs <=120\")\n",
    "for i in range(4):\n",
    "    dfw11  = pd.concat([dfw11,dfw12])\n",
    "dfw1 = dfw11\n",
    "dfw2 = dfw[dfw['gid'].isin(test_gid)]\n",
    "\n",
    "X_train =  dfw1[features].values\n",
    "y_train = dfw1['win'].values\n",
    "X_test =  dfw2[features].values\n",
    "y_test = dfw2['win'].values\n",
    "X = dfw[features].values\n",
    "y = dfw['win'].values"
   ]
  },
  {
   "cell_type": "code",
   "execution_count": null,
   "metadata": {},
   "outputs": [],
   "source": [
    "X_train"
   ]
  },
  {
   "cell_type": "markdown",
   "metadata": {},
   "source": [
    "## Catboost"
   ]
  },
  {
   "cell_type": "code",
   "execution_count": null,
   "metadata": {},
   "outputs": [],
   "source": [
    "# model = CatBoostRegressor(learning_rate=1, depth=6, loss_function='RMSE')\n",
    "model = CatBoostClassifier(loss_function=\"Logloss\",task_type=\"GPU\",learning_rate=0.1,depth=12)\n",
    "fit_model = model.fit(X_train, y_train, plot=True, eval_set=(X_test,y_test),verbose=50)\n",
    "# print(fit_model.get_params())"
   ]
  },
  {
   "cell_type": "code",
   "execution_count": null,
   "metadata": {},
   "outputs": [],
   "source": [
    "ypred = model.predict_proba(X_test)"
   ]
  },
  {
   "cell_type": "code",
   "execution_count": null,
   "metadata": {},
   "outputs": [],
   "source": [
    "i=0"
   ]
  },
  {
   "cell_type": "code",
   "execution_count": null,
   "metadata": {},
   "outputs": [],
   "source": [
    "dfw2[\"wp\"] = ypred[:,1]\n",
    "gameids = dfw2.gid.unique()\n",
    "# gid = gameids[np.random.randint(0,len(gameids))]\n",
    "gid = gameids[i]\n",
    "i+=1"
   ]
  },
  {
   "cell_type": "code",
   "execution_count": null,
   "metadata": {},
   "outputs": [],
   "source": [
    "data = dfw2.query(f\"gid == '{gid}'\")\n",
    "p = (\n",
    "    ggplot(data)\n",
    "    + aes(x=\"secs\",y=\"wp\")\n",
    "    + geom_point()\n",
    "    + geom_line()\n",
    "    + scale_y_continuous(labels=percent_format())\n",
    "    + scale_x_reverse()\n",
    "    + theme_idv\n",
    ")\n",
    "p"
   ]
  },
  {
   "cell_type": "code",
   "execution_count": null,
   "metadata": {},
   "outputs": [],
   "source": [
    "p1 = (\n",
    "    ggplot(data)\n",
    "    + aes(x=\"secs\",y=\"margin\")\n",
    "    + geom_point()\n",
    "    + geom_line()\n",
    "    + scale_x_reverse()\n",
    "    + theme_idv\n",
    ")\n",
    "p1"
   ]
  },
  {
   "cell_type": "code",
   "execution_count": null,
   "metadata": {},
   "outputs": [],
   "source": [
    "gfhfg"
   ]
  },
  {
   "cell_type": "code",
   "execution_count": null,
   "metadata": {},
   "outputs": [],
   "source": [
    "line =  5\n",
    "dfw3 = dfw2.query(f\"spread == {line}\")\n",
    "p = (\n",
    "    ggplot(dfw3)\n",
    "    + aes(x=\"secs\",y=\"wp\",group=\"gid\")\n",
    "    + geom_smooth(se=False,size=0.3)\n",
    "    + scale_x_reverse()\n",
    "    + scale_y_continuous(labels=percent_format())\n",
    "    + theme_idv\n",
    "    + labs(\n",
    "        # title = f\"{team_dict[dfw1[\"tida\"].iloc[0]]} vs {team_dict[dfw1[\"tidh\"].iloc[0]]}\"\n",
    "    )\n",
    ")\n",
    "p"
   ]
  }
 ],
 "metadata": {
  "kernelspec": {
   "display_name": "dav-ub9Z_EQq-py3.12",
   "language": "python",
   "name": "python3"
  },
  "language_info": {
   "codemirror_mode": {
    "name": "ipython",
    "version": 3
   },
   "file_extension": ".py",
   "mimetype": "text/x-python",
   "name": "python",
   "nbconvert_exporter": "python",
   "pygments_lexer": "ipython3",
   "version": "3.12.0"
  }
 },
 "nbformat": 4,
 "nbformat_minor": 2
}
