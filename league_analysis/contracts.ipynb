{
 "cells": [
  {
   "cell_type": "code",
   "execution_count": null,
   "metadata": {},
   "outputs": [],
   "source": [
    "import os, sys\n",
    "\n",
    "sys.path.append(os.path.dirname(os.path.dirname(os.path.abspath(\"__file__\"))))\n",
    "from nbafuns import *\n",
    "\n",
    "box_DIR = \"../data/misc/\"\n",
    "fig_DIR = \"../figs/analysis/\""
   ]
  },
  {
   "cell_type": "code",
   "execution_count": null,
   "metadata": {},
   "outputs": [],
   "source": [
    "c0 = 136_021_000\t\n",
    "c1 = 165_294_000\t\n",
    "c2 = 172_346_000\t\n",
    "c3 = 182_794_000\n",
    "\n",
    "ml = 12_405_000"
   ]
  },
  {
   "cell_type": "code",
   "execution_count": null,
   "metadata": {},
   "outputs": [],
   "source": [
    "df = pd.read_csv(box_DIR + \"contracts.csv\")\n",
    "df[\"2023-24\"] = df[\"2023-24\"].str.replace(\"$\",\"\").astype(float).fillna(0).astype(int)\n",
    "df[\"2024-25\"] = df[\"2024-25\"].str.replace(\"$\",\"\").astype(float).fillna(0).astype(int)\n",
    "df[\"2025-26\"] = df[\"2025-26\"].str.replace(\"$\",\"\").astype(float).fillna(0).astype(int)\n",
    "df[\"2026-27\"] = df[\"2026-27\"].str.replace(\"$\",\"\").astype(float).fillna(0).astype(int)\n",
    "df[\"2027-28\"] = df[\"2027-28\"].str.replace(\"$\",\"\").astype(float).fillna(0).astype(int)\n",
    "df[\"2028-29\"] = df[\"2028-29\"].str.replace(\"$\",\"\").astype(float).fillna(0).astype(int)\n",
    "df[\"2023-24-c\"] = df[\"2023-24\"]/c0\n",
    "df = df.sort_values([\"Tm\",\"2023-24\"],ascending=False).reset_index(drop=True)"
   ]
  },
  {
   "cell_type": "code",
   "execution_count": null,
   "metadata": {},
   "outputs": [],
   "source": [
    "dfg1 = df.groupby(\"Tm\")\n",
    "keys = list(dfg1.groups)\n",
    "dfg = []\n",
    "tsals = []\n",
    "for key in keys:\n",
    "    dfg2 = dfg1.get_group(key)\n",
    "    dfg3= dfg2.reset_index(drop=True).reset_index()\n",
    "    dfg.append(dfg3)\n",
    "    tsals.append(dfg3[\"2023-24\"].sum())\n",
    "dfg = pd.concat(dfg)\n",
    "dfg[\"index\"] = dfg[\"index\"].astype(\"category\")\n",
    "dft = pd.DataFrame({\"team\":keys,\"sals\":tsals})\n",
    "tcat = dft.sort_values(\"sals\",ascending=False)[\"team\"].to_list()\n",
    "tcat.reverse()\n",
    "dfg[\"Tm\"] = pd.Categorical(dfg[\"Tm\"] , categories=tcat)"
   ]
  },
  {
   "cell_type": "code",
   "execution_count": null,
   "metadata": {},
   "outputs": [],
   "source": [
    "from plotnine import geom_histogram, after_stat, stat_bin, geom_col, scale_fill_brewer,scale_fill_discrete, position_stack\n",
    "from mizani.formatters import percent_format"
   ]
  },
  {
   "cell_type": "code",
   "execution_count": null,
   "metadata": {},
   "outputs": [],
   "source": [
    "p = (\n",
    "    ggplot(dfg)\n",
    "    + aes(x=\"Tm\",y=\"2023-24-c\",fill=\"index\")\n",
    "    + geom_col(show_legend=False, position=position_stack(reverse=True),color=\"white\")\n",
    "    + scale_y_continuous(labels=percent_format(),breaks=np.arange(0,1.6,0.25))\n",
    "    + scale_fill_discrete(l=0.5, h=0.01)\n",
    "    + geom_hline(yintercept = 0.5, color = \"black\", linetype=\"dashed\")\n",
    "    + geom_hline(yintercept = 0.75, color = \"black\", linetype=\"dashed\")\n",
    "    + geom_hline(yintercept = 1, color = \"black\", linetype=\"dashed\")\n",
    "    + geom_hline(yintercept = c1/c0, color = \"black\", linetype=\"dashed\")\n",
    "    + geom_hline(yintercept = c2/c0, color = \"black\", linetype=\"dashed\")\n",
    "    + geom_hline(yintercept = c3/c0, color = \"black\", linetype=\"dashed\")\n",
    "    + coord_flip()\n",
    "    + annotate(\"text\", x=1, y=1.0, label=\"Cap\",ha='left')\n",
    "    + annotate(\"text\", x=2, y=c1/c0, label=\"Luxury Tax\",ha='left')\n",
    "    + annotate(\"text\", x=3, y=c2/c0, label=\"1st Apron\",ha='left')\n",
    "    + annotate(\"text\", x=4, y=c3/c0, label=\"2nd Apron\",ha='left')\n",
    "    + theme_idv\n",
    "    + labs(\n",
    "        y=\"Salary as % of Cap\",\n",
    "        x=\"Team\",\n",
    "        title=\"NBA 2023-24 Salary\",\n",
    "        caption=\"@SravanNBA | source: basketballrefence\",\n",
    "    )\n",
    "    + theme(\n",
    "        figure_size=(8,12),\n",
    "        axis_text_y=element_text(size=14),\n",
    "        axis_text_x=element_text(size=12),\n",
    "        axis_title_x=element_text(size=16),\n",
    "        plot_title=element_text(size=20),\n",
    "    )\n",
    ")\n",
    "p.save(fig_DIR + \"salary_col.png\", verbose=False,dpi=300)\n",
    "p"
   ]
  },
  {
   "cell_type": "code",
   "execution_count": null,
   "metadata": {},
   "outputs": [],
   "source": [
    "df1 = df[df[\"2023-24-c\"]>=0.25]"
   ]
  },
  {
   "cell_type": "code",
   "execution_count": null,
   "metadata": {},
   "outputs": [],
   "source": [
    "df.sort_values(\"Rk\").iloc[:20,:]"
   ]
  },
  {
   "cell_type": "code",
   "execution_count": null,
   "metadata": {},
   "outputs": [],
   "source": [
    "p = (\n",
    "    ggplot(df1)\n",
    "    + aes(x=\"2023-24-c\")\n",
    "    + geom_histogram(color=\"#F0F0F0\",size=1,closed=\"left\", breaks=[0.20,0.25,0.30,0.35,0.40])\n",
    "    + stat_bin(aes(label=after_stat('count')), closed=\"left\", breaks=[0.20,0.25,0.30,0.35,0.40], geom=\"text\",nudge_y=1,format_string =\"{:0.0f}\")\n",
    "    + scale_x_continuous(labels=percent_format(),breaks=np.arange(0,0.45,0.05))\n",
    "    # + scale_y_continuous(breaks=np.arange(0,11,1))\n",
    "    + theme_idv\n",
    "    + labs(\n",
    "        y=\"Salary as % of Cap\",\n",
    "        x=\"Team\",\n",
    "        title=\"NBA 2023-24 Salary Histogram\",\n",
    "        caption=\"@SravanNBA | source: basketballrefence\",\n",
    "    )\n",
    ")\n",
    "p.save(fig_DIR + \"salary_histogram.png\",dpi=300)\n",
    "p"
   ]
  }
 ],
 "metadata": {
  "kernelspec": {
   "display_name": "nba-ub9Z_EQq-py3.11",
   "language": "python",
   "name": "python3"
  },
  "language_info": {
   "codemirror_mode": {
    "name": "ipython",
    "version": 3
   },
   "file_extension": ".py",
   "mimetype": "text/x-python",
   "name": "python",
   "nbconvert_exporter": "python",
   "pygments_lexer": "ipython3",
   "version": "3.11.6"
  }
 },
 "nbformat": 4,
 "nbformat_minor": 2
}
