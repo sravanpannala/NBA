{
 "cells": [
  {
   "cell_type": "code",
   "execution_count": null,
   "metadata": {},
   "outputs": [],
   "source": [
    "import os, sys\n",
    "\n",
    "sys.path.append(os.path.dirname(os.path.dirname(os.path.abspath(\"__file__\"))))\n",
    "from nbafuns import *\n",
    "\n",
    "data_DIR = \"../data/misc/\"\n",
    "fig_DIR = \"../figs/analysis/\"\n",
    "\n",
    "pID_dict = get_pID_pbp() "
   ]
  },
  {
   "cell_type": "markdown",
   "metadata": {},
   "source": [
    "## OCR"
   ]
  },
  {
   "cell_type": "code",
   "execution_count": null,
   "metadata": {},
   "outputs": [],
   "source": [
    "# import easyocr\n",
    "\n",
    "# # Create an OCR reader object\n",
    "# reader = easyocr.Reader(['en'])\n",
    "\n",
    "# # Read text from an image\n",
    "# res1  = reader.readtext(data_DIR + 'NBA_All_Star_Voting_1_2025.jpg',detail=0, paragraph=True)"
   ]
  },
  {
   "cell_type": "markdown",
   "metadata": {},
   "source": [
    "## Data"
   ]
  },
  {
   "cell_type": "code",
   "execution_count": null,
   "metadata": {},
   "outputs": [],
   "source": [
    "df1 = pd.read_csv(data_DIR + \"NBA_All_Star_Voting_1_2025.csv\")\n",
    "df2 = pd.read_csv(data_DIR + \"NBA_All_Star_Voting_2_2025.csv\")"
   ]
  },
  {
   "cell_type": "code",
   "execution_count": null,
   "metadata": {},
   "outputs": [],
   "source": [
    "df31 = pd.merge(df1,df2,on=[\"Player\",\"Conference\",\"Position\",\"Team\"],how=\"left\",suffixes=[\"_1\",\"_2\"])\n",
    "df32 = pd.merge(df2,df1,on=[\"Player\",\"Conference\",\"Position\",\"Team\"],how=\"left\",suffixes=[\"_2\",\"_1\"])\n",
    "df3 = pd.concat([df31,df32])\n",
    "df3 = df3.fillna(0)\n",
    "df3 = df3.drop_duplicates().reset_index(drop=True)"
   ]
  },
  {
   "cell_type": "code",
   "execution_count": null,
   "metadata": {},
   "outputs": [],
   "source": [
    "df3g = df3.groupby([\"Conference\",\"Position\"])\n",
    "keys = list(df3g.groups)\n",
    "dfa = []\n",
    "for key in keys:\n",
    "    df4 = df3g.get_group(key)\n",
    "    df4[\"Rank_1\"] = df4[\"Votes_1\"].rank(ascending=False)\n",
    "    df4[\"Rank_2\"] = df4[\"Votes_2\"].rank(ascending=False)\n",
    "    dfa.append(df4)\n",
    "df5 = pd.concat(dfa).reset_index(drop=True)"
   ]
  },
  {
   "cell_type": "code",
   "execution_count": null,
   "metadata": {},
   "outputs": [],
   "source": [
    "data = df5"
   ]
  },
  {
   "cell_type": "code",
   "execution_count": null,
   "metadata": {},
   "outputs": [],
   "source": [
    "from plotnine import theme_classic"
   ]
  },
  {
   "cell_type": "code",
   "execution_count": null,
   "metadata": {},
   "outputs": [],
   "source": [
    "p = (\n",
    "    ggplot(data)\n",
    "    + geom_text(aes(1, 'Rank_1', label='Player' ), nudge_x=-0.05, ha='right', size=10)\n",
    "    + geom_text(aes(2, 'Rank_2', label='Player' ), nudge_x=0.05, ha='left', size=10)\n",
    "    + geom_segment(aes(x=1, y='Rank_1', xend=2, yend='Rank_2'), alpha=.7, size=2)\n",
    "    + theme_classic()\n",
    "    + scale_y_reverse(breaks=np.arange(1,11,1),limits=(1,10))\n",
    "    # + scale_y_reverse(breaks=np.arange(1,11,1))\n",
    "    + facet_wrap([\"Conference\",\"Position\"])\n",
    "    + coord_cartesian(xlim=[-0.5,3.5])\n",
    "    + theme(\n",
    "        figure_size=(10,10),\n",
    "        axis_title_x = element_blank(),\n",
    "        axis_title_y = element_blank(),\n",
    "        axis_text_x = element_blank(),\n",
    "        plot_title=element_text(face=\"bold\", size=20),\n",
    "        strip_text=element_text(face=\"bold\", size=12),\n",
    "    )\n",
    "    + labs(\n",
    "            title=f\"NBA All-Star Fan Voting 1 vs 2\",\n",
    "            # subtitle = \"Last 10 games only\",\n",
    "            caption=\"bsky:@sradjoker.cc | x:@sradjoker | source:NBAPR\",\n",
    "            # y=f\"Off Rating\",\n",
    "    )\n",
    ")\n",
    "p"
   ]
  },
  {
   "cell_type": "code",
   "execution_count": null,
   "metadata": {},
   "outputs": [],
   "source": [
    "dafasd"
   ]
  },
  {
   "cell_type": "code",
   "execution_count": null,
   "metadata": {},
   "outputs": [],
   "source": [
    "black1 = '#252525'\n",
    "black2 = '#222222'"
   ]
  },
  {
   "cell_type": "code",
   "execution_count": null,
   "metadata": {},
   "outputs": [],
   "source": [
    "p = (ggplot(data)\n",
    " # Slight modifications for the original lines,\n",
    " # 1. Nudge the text to either sides of the points\n",
    " # 2. Alter the color and alpha values\n",
    " + geom_text(aes(1, 'Voting 1', label='Team' ), nudge_x=-0.05, ha='right', size=10, color=black1)\n",
    " + geom_text(aes(2, 'Voting 2', label='Team'), nudge_x=0.05, ha='left', size=10, color=black1)\n",
    " + geom_point(aes(1, 'Voting 1', color='colorsTeam'), size=2.5, alpha=.7)\n",
    " + geom_point(aes(2, 'Voting 2', color='colorsTeam'), size=2.5, alpha=.7)\n",
    " + geom_segment(aes(x=1, y='OFF_R', xend=2, yend='aOFF_R', color='colorsTeam'), alpha=.7, size=2)\n",
    "\n",
    " # Text Annotations\n",
    " #+ annotate('text', x=1, y=0, label='Rank in 1960', fontweight='bold', ha='right', size=10, color=black2)\n",
    " #+ annotate('text', x=2, y=0, label='Rank in 2015', fontweight='bold', ha='left', size=10, color=black2)\n",
    "#  + annotate('text', x=1.5, y=0, label='Lines show change in rank', size=11, color=black1)\n",
    " + annotate('text', x=0.8, y=0, label='Unadjusted Off Rating Rank', size=11, color=black1)\n",
    " + annotate('text', x=2.2, y=0, label='SoS Adjusted Off Rating Rank', size=11, color=black1)\n",
    " #+ annotate('label', x=1.5, y=3, label='Lower infant\\ndeath rates', size=9, color=black1,\n",
    " #           label_size=0, fontstyle='italic')\n",
    " #+ annotate('label', x=1.5, y=33, label='Higher infant\\ndeath rates', size=9, color=black1,\n",
    " #           label_size=0, fontstyle='italic')\n",
    "\n",
    " # Prevent country names from being chopped off\n",
    " + lims(x=(0.35, 2.65))\n",
    "#  + labs(color='Income Group')\n",
    " # Countries with lower rates on top\n",
    " + scale_y_reverse(breaks=np.arange(1,31,1))\n",
    " # Change colors\n",
    " + scale_color_identity(aesthetics=[\"color\"])\n",
    " # Removes all decorations\n",
    " + theme_idv\n",
    " # Changing the figure size prevents the country names from squishing up\n",
    " + theme(figure_size=(8, 11))\n",
    " + theme(\n",
    "     axis_title_x = element_blank(),\n",
    "     axis_text_x = element_blank(),\n",
    "     plot_title=element_text(face=\"bold\", size=20),\n",
    " )\n",
    " + labs(\n",
    "        title=f\"Unadjusted vs SoS Adjusted Off Ratings\",\n",
    "        # subtitle = \"Last 10 games only\",\n",
    "        caption=\"@sradjoker | source:nba.com/stats\",\n",
    "        y=f\"Off Rating\",\n",
    " )\n",
    ")\n",
    "p.save(\"../figs/teams/Teams_aOFF_mvmt.png\", dpi=300, verbose = False)\n",
    "p"
   ]
  }
 ],
 "metadata": {
  "kernelspec": {
   "display_name": "dav-ub9Z_EQq-py3.12",
   "language": "python",
   "name": "python3"
  },
  "language_info": {
   "codemirror_mode": {
    "name": "ipython",
    "version": 3
   },
   "file_extension": ".py",
   "mimetype": "text/x-python",
   "name": "python",
   "nbconvert_exporter": "python",
   "pygments_lexer": "ipython3",
   "version": "3.12.0"
  }
 },
 "nbformat": 4,
 "nbformat_minor": 2
}
