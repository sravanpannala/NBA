{
 "cells": [
  {
   "cell_type": "code",
   "execution_count": null,
   "id": "950fd6a8-1f0c-4789-aa69-bca319d32de5",
   "metadata": {},
   "outputs": [],
   "source": [
    "import os, sys\n",
    "\n",
    "sys.path.append(os.path.dirname(os.path.dirname(os.path.abspath(\"__file__\"))))\n",
    "from nbafuns import *\n",
    "\n",
    "fig_DIR = \"../figs/analysis/\"\n",
    "img_DIR_T = \"../data/images/teams/\"\n",
    "box_DIR = \"../data/box/\""
   ]
  },
  {
   "cell_type": "markdown",
   "id": "9b405a83-c2a9-4274-8a42-fbc21f8f3342",
   "metadata": {},
   "source": [
    "## Scoring"
   ]
  },
  {
   "cell_type": "code",
   "execution_count": null,
   "id": "c07cfa03-ddd8-4644-9a99-a9b8ba07d4a0",
   "metadata": {},
   "outputs": [],
   "source": [
    "stats = leaguedashteamstats.LeagueDashTeamStats(\n",
    "    measure_type_detailed_defense=\"Base\",\n",
    "    per_mode_detailed=\"PerGame\",\n",
    "    starter_bench_nullable=\"Starters\"\n",
    ")\n",
    "df1 = stats.get_data_frames()[0]"
   ]
  },
  {
   "cell_type": "code",
   "execution_count": null,
   "id": "7916c4c3-2b7b-499f-9045-8b27a5951972",
   "metadata": {},
   "outputs": [],
   "source": [
    "stats = leaguedashteamstats.LeagueDashTeamStats(\n",
    "    measure_type_detailed_defense=\"Base\",\n",
    "    per_mode_detailed=\"PerGame\",\n",
    "    starter_bench_nullable=\"Bench\"\n",
    ")\n",
    "df2 = stats.get_data_frames()[0]"
   ]
  },
  {
   "cell_type": "code",
   "execution_count": null,
   "id": "5369e24a-e977-4685-926d-ad413f09e237",
   "metadata": {},
   "outputs": [],
   "source": [
    "cols = ['TEAM_ID', 'TEAM_NAME', 'PTS']\n",
    "df31 = df1[cols]\n",
    "df32 = df2[cols]\n",
    "df3 = pd.merge(df31,df32, on=['TEAM_ID', 'TEAM_NAME'],suffixes=[\"_s\",\"_b\"])\n",
    "df3.columns = map(str.lower,df3.columns)"
   ]
  },
  {
   "cell_type": "code",
   "execution_count": null,
   "id": "01a59d14-9eb7-4dbb-be04-4c1dd30514a7",
   "metadata": {},
   "outputs": [],
   "source": [
    "df3[\"pts_t\"]=df3[\"pts_s\"]+df3[\"pts_b\"]\n",
    "df3[\"pts_b_p\"] = round(df3[\"pts_b\"]/df3[\"pts_t\"],3)\n",
    "lg_avg = round(df3[\"pts_b_p\"].mean(),3)\n",
    "df3[\"pts_b_r\"] = df3[\"pts_b_p\"] - lg_avg\n",
    "df3 = df3.sort_values(\"pts_b_r\").reset_index(drop=True)\n",
    "teams = df3[\"team_name\"].to_list()\n",
    "df3[\"team\"]= pd.Categorical(df3[\"team_name\"],categories=teams,ordered=True)\n",
    "data = add_tinfo(df3,on=\"team\")\n",
    "data[\"team\"]= pd.Categorical(data[\"team\"],categories=teams,ordered=True)\n",
    "today = datetime.today().strftime(\"%B %d, %Y\")"
   ]
  },
  {
   "cell_type": "code",
   "execution_count": null,
   "id": "5b246152-4042-4be7-b4c8-e69a4794d2ee",
   "metadata": {},
   "outputs": [],
   "source": [
    "p =(\n",
    "    ggplot(data)\n",
    "    + aes(x=\"team\",y=\"pts_b_r\",fill=\"colorsTeam\",image=\"image\")\n",
    "    + geom_col(alpha=0.7,show_legend=False)\n",
    "    + geom_image(aes(y=0),size=0.06)\n",
    "    + coord_flip()\n",
    "    + scale_color_identity(aesthetics=[\"fill\"])\n",
    "    + scale_y_continuous(labels=percent_format())\n",
    "    + theme_idv\n",
    "    + theme(\n",
    "        figure_size=(10,10),\n",
    "    )\n",
    "    + pnba\n",
    "    + labs(\n",
    "        title=f\"Bench Scoring Ranking as of {today}\",\n",
    "        subtitle=f\"% of Team Points scored by the Bench relative to league average\\nLeague Average = {lg_avg*100}%\",\n",
    "        x=\"\",\n",
    "        y=\"Relative % of Bench Points\"\n",
    "    )\n",
    ")\n",
    "p"
   ]
  },
  {
   "cell_type": "markdown",
   "id": "c5f1891a-5049-490c-874a-8409fd7ace1b",
   "metadata": {},
   "source": [
    "## Minutes Ranking"
   ]
  },
  {
   "cell_type": "code",
   "execution_count": null,
   "id": "40f26694-52a4-4fa1-9be6-dbf1a499d066",
   "metadata": {},
   "outputs": [],
   "source": [
    "cols = ['TEAM_ID', 'TEAM_NAME', 'MIN']\n",
    "df31 = df1[cols]\n",
    "df32 = df2[cols]\n",
    "df3 = pd.merge(df31,df32, on=['TEAM_ID', 'TEAM_NAME'],suffixes=[\"_s\",\"_b\"])\n",
    "df3.columns = map(str.lower,df3.columns)\n",
    "\n",
    "df3[\"min_t\"]=df3[\"min_s\"]+df3[\"min_b\"]\n",
    "df3[\"min_b_p\"] = round(df3[\"min_b\"]/df3[\"min_t\"],3)\n",
    "lg_avg = round(df3[\"min_b_p\"].mean(),3)\n",
    "df3[\"min_b_r\"] = df3[\"min_b_p\"] - lg_avg\n",
    "df3 = df3.sort_values(\"min_b_r\").reset_index(drop=True)\n",
    "teams = df3[\"team_name\"].to_list()\n",
    "df3[\"team\"]= pd.Categorical(df3[\"team_name\"],categories=teams,ordered=True)\n",
    "data = add_tinfo(df3,on=\"team\")\n",
    "data[\"team\"]= pd.Categorical(data[\"team\"],categories=teams,ordered=True)\n",
    "today = datetime.today().strftime(\"%B %d, %Y\")"
   ]
  },
  {
   "cell_type": "code",
   "execution_count": null,
   "id": "ce2b6cb6-2764-4f82-a2cb-bf8b6e2c9bf0",
   "metadata": {},
   "outputs": [],
   "source": [
    "p =(\n",
    "    ggplot(data)\n",
    "    + aes(x=\"team\",y=\"min_b_r\",fill=\"colorsTeam\",image=\"image\")\n",
    "    + geom_col(alpha=0.7,show_legend=False)\n",
    "    + geom_image(aes(y=0),size=0.06)\n",
    "    + coord_flip()\n",
    "    + scale_color_identity(aesthetics=[\"fill\"])\n",
    "    + scale_y_continuous(labels=percent_format())\n",
    "    + theme_idv\n",
    "    + theme(\n",
    "        figure_size=(10,10),\n",
    "    )\n",
    "    + pnba\n",
    "    + labs(\n",
    "        title=f\"Bench Minutes Ranking as of {today}\",\n",
    "        subtitle=f\"% of Team Minutes played by the Bench relative to league average\\nLeague Average = {lg_avg*100}%\",\n",
    "        x=\"\",\n",
    "        y=\"Relative % of Bench Minutes\"\n",
    "    )\n",
    ")\n",
    "p"
   ]
  },
  {
   "cell_type": "markdown",
   "id": "590a6be7-3ccf-4610-8b60-92e033750530",
   "metadata": {},
   "source": [
    "## Net Rating"
   ]
  },
  {
   "cell_type": "code",
   "execution_count": null,
   "id": "a6394c9f-221d-4f62-ae64-cfe156368333",
   "metadata": {},
   "outputs": [],
   "source": [
    "stats = leaguedashteamstats.LeagueDashTeamStats(\n",
    "    measure_type_detailed_defense=\"Advanced\",\n",
    "    per_mode_detailed=\"Per100Possessions\",\n",
    "    starter_bench_nullable=\"Starters\"\n",
    ")\n",
    "df1 = stats.get_data_frames()[0]"
   ]
  },
  {
   "cell_type": "code",
   "execution_count": null,
   "id": "155caa87-ae36-4bc4-921d-5b54815dddcc",
   "metadata": {},
   "outputs": [],
   "source": [
    "stats = leaguedashteamstats.LeagueDashTeamStats(\n",
    "    measure_type_detailed_defense=\"Advanced\",\n",
    "    per_mode_detailed=\"Per100Possessions\",\n",
    "    starter_bench_nullable=\"Bench\"\n",
    ")\n",
    "df2 = stats.get_data_frames()[0]"
   ]
  },
  {
   "cell_type": "code",
   "execution_count": null,
   "id": "272605e3-91c3-4ee7-8e50-b4489a2afecd",
   "metadata": {},
   "outputs": [],
   "source": [
    "cols = ['TEAM_ID', 'TEAM_NAME', 'net_rating_RATING']\n",
    "df31 = df1[cols]\n",
    "df32 = df2[cols]\n",
    "df3 = pd.merge(df31,df32, on=['TEAM_ID', 'TEAM_NAME'],suffixes=[\"_s\",\"_b\"])\n",
    "df3.columns = map(str.lower,df3.columns)"
   ]
  },
  {
   "cell_type": "code",
   "execution_count": null,
   "id": "cb43c143-ec92-4ba4-b62f-c7899726b015",
   "metadata": {},
   "outputs": [],
   "source": [
    "df3[\"net_rating_b_r\"]=df3[\"net_rating_b\"]-df3[\"net_rating_s\"]\n",
    "# lg_avg = round(df3[\"net_rating_b_r\"].mean(),1)\n",
    "# df3[\"net_rating_b_r\"] = df3[\"net_rating_b_p\"] - lg_avg\n",
    "df3 = df3.sort_values(\"net_rating_b_r\").reset_index(drop=True)\n",
    "teams = df3[\"team_name\"].to_list()\n",
    "df3[\"team\"]= pd.Categorical(df3[\"team_name\"],categories=teams,ordered=True)\n",
    "data = add_tinfo(df3,on=\"team\")\n",
    "data[\"team\"]= pd.Categorical(data[\"team\"],categories=teams,ordered=True)\n",
    "today = datetime.today().strftime(\"%B %d, %Y\")"
   ]
  },
  {
   "cell_type": "code",
   "execution_count": null,
   "id": "a4f75824-2c3c-476d-8a4c-6694f54f4b95",
   "metadata": {},
   "outputs": [],
   "source": [
    "p =(\n",
    "    ggplot(data)\n",
    "    + aes(x=\"team\",y=\"net_rating_b_r\",fill=\"colorsTeam\",image=\"image\")\n",
    "    + geom_col(alpha=0.7,show_legend=False)\n",
    "    + geom_image(aes(y=0),size=0.06)\n",
    "    + coord_flip()\n",
    "    + scale_color_identity(aesthetics=[\"fill\"])\n",
    "    + theme_idv\n",
    "    + theme(\n",
    "        figure_size=(10,10),\n",
    "    )\n",
    "    + pnba\n",
    "    + labs(\n",
    "        title=f\"Bench Relative Net Rating as of {today}\",\n",
    "        subtitle=f\"Relative to Starters= Bench Net Rating - Starter Net Rating\",\n",
    "        x=\"\",\n",
    "        y=\"Relative Bench Net Rating\"\n",
    "    )\n",
    ")\n",
    "p"
   ]
  }
 ],
 "metadata": {
  "kernelspec": {
   "display_name": "Python 3 (ipykernel)",
   "language": "python",
   "name": "python3"
  },
  "language_info": {
   "codemirror_mode": {
    "name": "ipython",
    "version": 3
   },
   "file_extension": ".py",
   "mimetype": "text/x-python",
   "name": "python",
   "nbconvert_exporter": "python",
   "pygments_lexer": "ipython3",
   "version": "3.12.9"
  }
 },
 "nbformat": 4,
 "nbformat_minor": 5
}
