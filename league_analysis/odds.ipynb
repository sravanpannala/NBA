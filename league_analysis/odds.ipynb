{
 "cells": [
  {
   "cell_type": "markdown",
   "metadata": {},
   "source": [
    "# Get Odds and Convert to Win Probability"
   ]
  },
  {
   "cell_type": "code",
   "execution_count": null,
   "metadata": {},
   "outputs": [],
   "source": [
    "import os, sys\n",
    "\n",
    "sys.path.append(os.path.dirname(os.path.dirname(os.path.abspath(\"__file__\"))))\n",
    "from nbafuns import *\n",
    "\n",
    "data_DIR = \"../data/rapm/\"\n",
    "misc_DIR = \"../data/misc/\"\n",
    "model_path = \"../data/models/\"\n",
    "pbp_DIR = \"../data/pbpdata/\"\n",
    "fig_DIR = \"../figs/analysis/\"\n",
    "\n",
    "# %matplotlib widget"
   ]
  },
  {
   "cell_type": "markdown",
   "metadata": {},
   "source": [
    "## Scrape from Rotowire"
   ]
  },
  {
   "cell_type": "code",
   "execution_count": null,
   "metadata": {},
   "outputs": [],
   "source": [
    "header = {\n",
    "  \"User-Agent\": \"Mozilla/5.0 (X11; Linux x86_64) AppleWebKit/537.36 (KHTML, like Gecko) Chrome/50.0.2661.75 Safari/537.36\",\n",
    "  \"X-Requested-With\": \"XMLHttpRequest\"\n",
    "}\n",
    "\n",
    "url = \"https://www.rotowire.com/betting/nba/tables/games-archive.php\"\n",
    "response = requests.get(url,headers=header)\n",
    "odds_js = response.json()\n",
    "odds = pd.DataFrame(odds_js)\n",
    "odds.to_parquet(misc_DIR + \"NBA_odds.parquet\")"
   ]
  },
  {
   "cell_type": "markdown",
   "metadata": {},
   "source": [
    "## Load Box"
   ]
  },
  {
   "cell_type": "code",
   "execution_count": null,
   "metadata": {},
   "outputs": [],
   "source": [
    "seasons = np.arange(2017,2024)\n",
    "box = get_box(\"T\",\"Base\",False,seasons)\n",
    "box = box.loc[box[\"matchup\"].str.contains(\" vs. \")]\n",
    "# box[\"matchup\"] = box[\"matchup\"].str.replace(\" \",\"\")\n",
    "box[\"matchup\"] = box[\"matchup\"].str.split(\" vs. \",expand=True)[1]\n",
    "box = box.rename(columns={\"team_abbreviation\":\"home_team_abbrev\", \"matchup\":\"visit_team_abbrev\",\"team_id\":\"tidh\"})\n",
    "box[\"win\"] = np.where(box[\"wl\"] == \"W\",1,0)\n",
    "box = box[[\"game_id\",\"tidh\",\"home_team_abbrev\",\"visit_team_abbrev\",\"game_date\",\"win\"]]"
   ]
  },
  {
   "cell_type": "markdown",
   "metadata": {},
   "source": [
    "## Load Odds"
   ]
  },
  {
   "cell_type": "code",
   "execution_count": null,
   "metadata": {},
   "outputs": [],
   "source": [
    "odds = pd.read_parquet(misc_DIR + f\"NBA_odds.parquet\")\n",
    "odds[\"game_date\"] = pd.to_datetime(odds[\"game_date\"])\n",
    "odds[\"season\"] = odds[\"season\"].astype(int)\n",
    "odds[\"net\"] = odds[\"home_team_score\"] - odds[\"visit_team_score\"]\n",
    "odds[\"win\"] = np.where(odds[\"net\"]>0,1,0)\n",
    "odds = odds.query(\"season < 2024\")"
   ]
  },
  {
   "cell_type": "code",
   "execution_count": null,
   "metadata": {},
   "outputs": [],
   "source": [
    "oddl = odds.groupby(\"line\")[[\"win\"]].agg({\"win\":[\"sum\",\"count\"]})\n",
    "oddl = oddl.reset_index()\n",
    "oddl.columns = [\"line\",\"wins\",\"tot\"]\n",
    "oddl[\"win_pct\"] = oddl[\"wins\"]/oddl[\"tot\"]\n",
    "oddl[\"win_pct\"] = oddl[\"win_pct\"].round(3)\n",
    "oddl = oddl.rename(columns={\"line\":\"spread\"})"
   ]
  },
  {
   "cell_type": "markdown",
   "metadata": {},
   "source": [
    "## Find Fit"
   ]
  },
  {
   "cell_type": "code",
   "execution_count": null,
   "metadata": {},
   "outputs": [],
   "source": [
    "slope, intercept, r, p, sterr = scipy.stats.linregress(x=oddl[\"spread\"], y=oddl[\"win_pct\"])\n",
    "r2 = r**2\n",
    "print(r2)\n",
    "slope = round(slope,4)\n",
    "intercept = round(intercept,4)\n",
    "print(slope)\n",
    "print(intercept)"
   ]
  },
  {
   "cell_type": "markdown",
   "metadata": {},
   "source": [
    "## Plot Fit"
   ]
  },
  {
   "cell_type": "code",
   "execution_count": null,
   "metadata": {},
   "outputs": [],
   "source": [
    "p = (\n",
    "    ggplot(oddl)\n",
    "    + aes(x=\"spread\",y=\"win_pct\")\n",
    "    + geom_point()\n",
    "    + geom_smooth(method=\"lm\")\n",
    "    + geom_vline(xintercept=0,color=\"blue\",linetype=\"dotted\",size=1)\n",
    "    + geom_hline(yintercept=0.5,color=\"blue\",linetype=\"dotted\",size=1)\n",
    "    + scale_y_continuous(labels=percent_format())\n",
    "    + annotate('text', x=13, y=0.98, label=f'r^2={r2:0.3f}', size=14)\n",
    "    + annotate('text', x=9.8, y=0.86, label=f'Win %=100 ({slope}*Spread+{intercept})', size=10)\n",
    "    + theme_idv\n",
    "    + labs(\n",
    "        title=\"Spread vs Win % (2017-2024)\",\n",
    "        caption=\"bsky:@sradjoker.cc | x:@SravanNBA | source: rotowire\",\n",
    "        x=\"Spread\",\n",
    "        y=\"Win %\"\n",
    "    )\n",
    ")\n",
    "p"
   ]
  },
  {
   "cell_type": "markdown",
   "metadata": {},
   "source": [
    "# Final"
   ]
  },
  {
   "cell_type": "code",
   "execution_count": null,
   "metadata": {},
   "outputs": [],
   "source": [
    "odds[\"win_prob_pre\"] = -0.0262*odds[\"line\"]+0.4952\n",
    "odds[\"win_prob_pre\"] = odds[\"win_prob_pre\"].round(3)\n",
    "winp1 = odds[[\"game_date\",\"home_team_abbrev\",\"visit_team_abbrev\",\"win_prob_pre\",\"line\"]]\n",
    "winp = pd.merge(box,winp1)\n",
    "winp = winp[[\"game_id\",\"win_prob_pre\",\"line\",\"win\"]]\n",
    "winp.columns = [\"gid\",\"win_prob_pre\",\"spread\",\"win\"]"
   ]
  },
  {
   "cell_type": "code",
   "execution_count": null,
   "metadata": {},
   "outputs": [],
   "source": [
    "posa = []\n",
    "for s in seasons:\n",
    "    poss = pd.read_parquet(data_DIR +f\"NBA_rapm_possessions_{s}\" + \".parquet\")\n",
    "    posa.append(poss)\n",
    "possessions = pd.concat(posa)"
   ]
  },
  {
   "cell_type": "code",
   "execution_count": null,
   "metadata": {},
   "outputs": [],
   "source": [
    "dfw = pd.merge(possessions,winp)\n",
    "dfw[\"spreadm\"] = dfw[\"spread\"]*(dfw[\"secs\"]/48/60)**3"
   ]
  },
  {
   "cell_type": "markdown",
   "metadata": {},
   "source": [
    "## Save"
   ]
  },
  {
   "cell_type": "code",
   "execution_count": null,
   "metadata": {},
   "outputs": [],
   "source": [
    "dfw.to_parquet(data_DIR + \"NBA_rapm_possessions_odds_2017_2024.parquet\")"
   ]
  }
 ],
 "metadata": {
  "kernelspec": {
   "display_name": "dav-ub9Z_EQq-py3.12",
   "language": "python",
   "name": "python3"
  },
  "language_info": {
   "codemirror_mode": {
    "name": "ipython",
    "version": 3
   },
   "file_extension": ".py",
   "mimetype": "text/x-python",
   "name": "python",
   "nbconvert_exporter": "python",
   "pygments_lexer": "ipython3",
   "version": "3.12.0"
  }
 },
 "nbformat": 4,
 "nbformat_minor": 2
}
