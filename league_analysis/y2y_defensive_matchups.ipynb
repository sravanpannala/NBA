{
 "cells": [
  {
   "cell_type": "code",
   "execution_count": null,
   "metadata": {},
   "outputs": [],
   "source": [
    "import os, sys\n",
    "\n",
    "sys.path.append(os.path.dirname(os.path.dirname(os.path.abspath(\"__file__\"))))\n",
    "from nbafuns import *\n",
    "\n",
    "box_DIR = \"../data/misc/\"\n",
    "fig_DIR = \"../figs/analysis/\""
   ]
  },
  {
   "cell_type": "code",
   "execution_count": null,
   "metadata": {},
   "outputs": [],
   "source": [
    "from nba_api.stats.endpoints import leaguedashptdefend"
   ]
  },
  {
   "cell_type": "code",
   "execution_count": null,
   "metadata": {},
   "outputs": [],
   "source": [
    "dcat = [\"Overall\",\"3 Pointers\",\"2 Pointers\",\"Less Than 6Ft\",\"Less Than 10Ft\",\"Greater Than 15Ft\"]\n",
    "dfc=[]\n",
    "for year in range(2013,2024):\n",
    "    dfa = []\n",
    "    for i in range(len(dcat)):\n",
    "\n",
    "        season_str = get_ss(year)\n",
    "        \n",
    "        stats = leaguedashptdefend.LeagueDashPtDefend(\n",
    "            league_id=\"00\",\n",
    "            season=season_str,\n",
    "            per_mode_simple=\"Totals\",\n",
    "            season_type_all_star=\"Regular Season\",\n",
    "            defense_category=dcat[i],\n",
    "\n",
    "        )\n",
    "        df = stats.get_data_frames()[0]\n",
    "        df = df.drop(columns=['PLAYER_LAST_TEAM_ID',\n",
    "        'PLAYER_LAST_TEAM_ABBREVIATION', 'PLAYER_POSITION', 'AGE', 'GP', 'G',])\n",
    "        # df[\"season\"]=year+1\n",
    "        dfa.append(df)\n",
    "        time.sleep(0.6)\n",
    "    dfa[0].columns = ['pID', 'NAME', 'FREQ', 'D_FGM', 'D_FGA',\n",
    "        'D_FG_PCT', 'N_FG_PCT', 'DIFF']\n",
    "    for i in range(1,len(dcat)):\n",
    "        dfa[i].columns = ['pID', 'NAME', f'FREQ_{i}', f'D_FGM_{i}', f'D_FGA_{i}',\n",
    "        f'D_FG_PCT_{i}', f'N_FG_PCT_{i}', f'DIFF_{i}']\n",
    "    dfb = pd.merge(dfa[0],dfa[1],on=[\"pID\",\"NAME\"])\n",
    "    for i in range(2,len(dcat)):\n",
    "        dfb = pd.merge(dfb,dfa[i])\n",
    "    cols = ['FREQ','D_FGM','D_FGA']\n",
    "    i1 = 1\n",
    "    i2 = 5\n",
    "    i3 = 6\n",
    "    for col in cols:\n",
    "        dfb[f\"{col}_{i3}\"]=dfb[f\"{col}_{i2}\"]-dfb[f\"{col}_{i1}\"]\n",
    "    dfb[f\"D_FG_PCT_{i3}\"]=dfb[f\"D_FGM_{i3}\"]/dfb[f\"D_FGA_{i3}\"]\n",
    "    dfb[f\"D_FG_PCT_{i3}\"]=dfb[f\"D_FG_PCT_{i3}\"].round(3)\n",
    "    cols = ['FREQ','D_FGM','D_FGA']\n",
    "    i1 = 3\n",
    "    i2 = 4\n",
    "    i3 = 7\n",
    "    for col in cols:\n",
    "        dfb[f\"{col}_{i3}\"]=dfb[f\"{col}_{i2}\"]-dfb[f\"{col}_{i1}\"]\n",
    "    dfb[f\"D_FG_PCT_{i3}\"]=dfb[f\"D_FGM_{i3}\"]/dfb[f\"D_FGA_{i3}\"]\n",
    "    dfb[f\"D_FG_PCT_{i3}\"]=dfb[f\"D_FG_PCT_{i3}\"].round(3)\n",
    "    cols = ['FREQ','D_FGM','D_FGA']\n",
    "    i11 = 4\n",
    "    i12 = 6\n",
    "    i2 = 2\n",
    "    i3 = 8\n",
    "    for col in cols:\n",
    "        dfb[f\"{col}_{i3}\"]=dfb[f\"{col}_{i2}\"]-dfb[f\"{col}_{i11}\"]-dfb[f\"{col}_{i12}\"]\n",
    "    dfb[f\"D_FG_PCT_{i3}\"]=dfb[f\"D_FGM_{i3}\"]/dfb[f\"D_FGA_{i3}\"]\n",
    "    dfb[f\"D_FG_PCT_{i3}\"]=dfb[f\"D_FG_PCT_{i3}\"].round(3)\n",
    "    dfb[\"season\"]=year+1\n",
    "    dfc.append(dfb)"
   ]
  },
  {
   "cell_type": "code",
   "execution_count": null,
   "metadata": {},
   "outputs": [],
   "source": [
    "dfd = []\n",
    "for ii in range(len(dfc)-1):\n",
    "    df1 = pd.merge(dfc[ii],dfc[ii+1],on=['pID', 'NAME'])\n",
    "    df1 = df1.fillna(0)\n",
    "    dfd.append(df1)\n",
    "dfe = pd.concat(dfd)"
   ]
  },
  {
   "cell_type": "markdown",
   "metadata": {},
   "source": [
    "0: Overall  \n",
    "1: 3Pt  \n",
    "2: 2Pt  \n",
    "3: Less Than 6Ft  \n",
    "4: Less Than 10Ft  \n",
    "5: Greater Than 15Ft   \n",
    "6: 15Ft-3Pt  \n",
    "7: 6Ft-10Ft  \n",
    "8: 10Ft-15Ft"
   ]
  },
  {
   "cell_type": "code",
   "execution_count": null,
   "metadata": {},
   "outputs": [],
   "source": [
    "for j in range(len(dfd)):\n",
    "    data = dfd[j]\n",
    "    # for k in range(1,9):\n",
    "    for k in [3]:\n",
    "        var = f\"D_FG_PCT_{k}\"\n",
    "        data1 = data.query(f\"D_FGA_{k}_x>400 & D_FGA_{k}_y>400\")\n",
    "        var1 = var + \"_x\"\n",
    "        var2 = var + \"_y\"\n",
    "        slope, intercept, r, p, sterr = scipy.stats.linregress(x=data1[var1], y=data1[var2])\n",
    "        r2 = r**2\n",
    "        print(f\"{2013+j}:{round(r2,3)}\")"
   ]
  },
  {
   "cell_type": "code",
   "execution_count": null,
   "metadata": {},
   "outputs": [],
   "source": [
    "# dfd = dfc.query(\"FG2A_x> 100 & FG2A_y> 100\")\n",
    "dfd = dfc.query(\"FGA_LT_06_x> 500 & FGA_LT_06_x> 500\")\n",
    "# dfd = dfc.query(\"FGA_GT_15_x> 100 & FGA_GT_15_x> 100\")\n",
    "# dfd = dfc.query(\"FG3A_x> 100 & FG3A_y> 100\")\n",
    "len(dfd)"
   ]
  },
  {
   "cell_type": "code",
   "execution_count": null,
   "metadata": {},
   "outputs": [],
   "source": [
    "var = \"LT_06_PCT\"\n",
    "var1 = var + \"_x\"\n",
    "var2 = var + \"_y\"\n",
    "slope, intercept, r, p, sterr = scipy.stats.linregress(x=dfd[var1], y=dfd[var2])\n",
    "r2 = r**2\n",
    "fig, ax = plt.subplots(1, 1)\n",
    "fig = sns.regplot(\n",
    "    x=var1,\n",
    "    y=var2,\n",
    "    data=dfd,\n",
    "    color=\"black\",\n",
    "    scatter_kws={\"color\": \"tab:blue\"},\n",
    "    ax=ax,\n",
    ")\n",
    "ax.text(0.05, 0.9, r\"$r^2=$\" + f\"{round(r2,4)}\", transform=ax.transAxes)\n",
    "ax.set_title(\"Defended Less Than 6ft Year vs Year+1\")\n",
    "ax.set_xlabel(\"Year\")\n",
    "ax.set_ylabel(\"Year + 1\")\n",
    "plt.savefig(fig_DIR + \"def_2pt_l6_1.png\")\n",
    "plt.show()"
   ]
  },
  {
   "cell_type": "code",
   "execution_count": null,
   "metadata": {},
   "outputs": [],
   "source": [
    "var = \"PLUSMINUS\"\n",
    "var1 = var + \"_x\"\n",
    "var2 = var + \"_y\"\n",
    "slope, intercept, r, p, sterr = scipy.stats.linregress(x=dfd[var1], y=dfd[var2])\n",
    "r2 = r**2\n",
    "fig, ax = plt.subplots(1, 1)\n",
    "fig = sns.regplot(\n",
    "    x=var1,\n",
    "    y=var2,\n",
    "    data=dfd,\n",
    "    color=\"black\",\n",
    "    scatter_kws={\"color\": \"tab:blue\"},\n",
    "    ax=ax,\n",
    ")\n",
    "ax.text(0.05, 0.9, r\"$r^2=$\" + f\"{round(r2,4)}\", transform=ax.transAxes)\n",
    "ax.set_title(\"Defended Less Than 6ft Diff Year vs Year+1\")\n",
    "ax.set_xlabel(\"Year\")\n",
    "ax.set_ylabel(\"Year + 1\")\n",
    "plt.savefig(fig_DIR + \"def_2pt_l6_diff_1.png\")\n",
    "plt.show()"
   ]
  },
  {
   "cell_type": "code",
   "execution_count": null,
   "metadata": {},
   "outputs": [],
   "source": [
    "fgdfg"
   ]
  },
  {
   "cell_type": "code",
   "execution_count": null,
   "metadata": {},
   "outputs": [],
   "source": [
    "i = 1\n",
    "dfa = []\n",
    "dcat = [\"Overall\",\"3 Pointers\",\"2 Pointers\",\"Less Than 6Ft\",\"Less Than 10Ft\",\"Greater Than 15Ft\"]\n",
    "for year in range(2013,2024):\n",
    "    season_str = get_ss(year)\n",
    "    \n",
    "    stats = leaguedashptdefend.LeagueDashPtDefend(\n",
    "        league_id=\"00\",\n",
    "        season=season_str,\n",
    "        per_mode_simple=\"Totals\",\n",
    "        season_type_all_star=\"Regular Season\",\n",
    "        defense_category=dcat[i],\n",
    "\n",
    "    )\n",
    "    df = stats.get_data_frames()[0]\n",
    "    df[\"season\"]=year+1\n",
    "    dfa.append(df)\n",
    "    time.sleep(0.6)"
   ]
  },
  {
   "cell_type": "code",
   "execution_count": null,
   "metadata": {},
   "outputs": [],
   "source": [
    "dfb = []\n",
    "for ii in range(len(dfa)-1):\n",
    "    df1 = pd.merge(dfa[ii],dfa[ii+1],on=[\"CLOSE_DEF_PERSON_ID\",\"PLAYER_NAME\"])\n",
    "    dfb.append(df1)\n",
    "dfc = pd.concat(dfb)\n",
    "dfc = dfc.drop(columns=['PLAYER_LAST_TEAM_ID_x',\n",
    "       'PLAYER_LAST_TEAM_ABBREVIATION_x', 'PLAYER_POSITION_x', 'AGE_x', 'GP_x',\n",
    "       'G_x','PLAYER_LAST_TEAM_ID_y',\n",
    "       'PLAYER_LAST_TEAM_ABBREVIATION_y', 'PLAYER_POSITION_y', 'AGE_y', 'GP_y',\n",
    "       'G_y',])\n"
   ]
  },
  {
   "cell_type": "code",
   "execution_count": null,
   "metadata": {},
   "outputs": [],
   "source": [
    "dfc.columns"
   ]
  },
  {
   "cell_type": "code",
   "execution_count": null,
   "metadata": {},
   "outputs": [],
   "source": [
    "# dfd = dfc.query(\"FG2A_x> 100 & FG2A_y> 100\")\n",
    "# dfd = dfc.query(\"FGA_LT_06_x> 500 & FGA_LT_06_x> 500\")\n",
    "# dfd = dfc.query(\"FGA_GT_15_x> 100 & FGA_GT_15_x> 100\")\n",
    "dfd = dfc.query(\"FG3A_x> 300 & FG3A_y> 300\")\n",
    "len(dfd)"
   ]
  },
  {
   "cell_type": "code",
   "execution_count": null,
   "metadata": {},
   "outputs": [],
   "source": [
    "var = \"FG3_PCT\"\n",
    "var1 = var + \"_x\"\n",
    "var2 = var + \"_y\"\n",
    "slope, intercept, r, p, sterr = scipy.stats.linregress(x=dfd[var1], y=dfd[var2])\n",
    "r2 = r**2\n",
    "fig, ax = plt.subplots(1, 1)\n",
    "fig = sns.regplot(\n",
    "    x=var1,\n",
    "    y=var2,\n",
    "    data=dfd,\n",
    "    color=\"black\",\n",
    "    scatter_kws={\"color\": \"tab:blue\"},\n",
    "    ax=ax,\n",
    ")\n",
    "ax.text(0.05, 0.9, r\"$r^2=$\" + f\"{round(r2,4)}\", transform=ax.transAxes)\n",
    "ax.set_title(\"Defended 3pt Year vs Year+1\")\n",
    "ax.set_xlabel(\"Year\")\n",
    "ax.set_ylabel(\"Year + 1\")\n",
    "plt.savefig(fig_DIR + \"def_3pt_1.png\")\n",
    "plt.show()"
   ]
  },
  {
   "cell_type": "code",
   "execution_count": null,
   "metadata": {},
   "outputs": [],
   "source": [
    "var = \"PLUSMINUS\"\n",
    "var1 = var + \"_x\"\n",
    "var2 = var + \"_y\"\n",
    "slope, intercept, r, p, sterr = scipy.stats.linregress(x=dfd[var1], y=dfd[var2])\n",
    "r2 = r**2\n",
    "fig, ax = plt.subplots(1, 1)\n",
    "fig = sns.regplot(\n",
    "    x=var1,\n",
    "    y=var2,\n",
    "    data=dfd,\n",
    "    color=\"black\",\n",
    "    scatter_kws={\"color\": \"tab:blue\"},\n",
    "    ax=ax,\n",
    ")\n",
    "ax.text(0.05, 0.9, r\"$r^2=$\" + f\"{round(r2,4)}\", transform=ax.transAxes)\n",
    "ax.set_title(\"Defended 3pt Diff Year vs Year+1\")\n",
    "ax.set_xlabel(\"Year\")\n",
    "ax.set_ylabel(\"Year + 1\")\n",
    "plt.savefig(fig_DIR + \"def_3pt_diff_1.png\")\n",
    "plt.show()"
   ]
  }
 ],
 "metadata": {
  "kernelspec": {
   "display_name": "nba-ub9Z_EQq-py3.11",
   "language": "python",
   "name": "python3"
  },
  "language_info": {
   "codemirror_mode": {
    "name": "ipython",
    "version": 3
   },
   "file_extension": ".py",
   "mimetype": "text/x-python",
   "name": "python",
   "nbconvert_exporter": "python",
   "pygments_lexer": "ipython3",
   "version": "3.11.6"
  }
 },
 "nbformat": 4,
 "nbformat_minor": 2
}
