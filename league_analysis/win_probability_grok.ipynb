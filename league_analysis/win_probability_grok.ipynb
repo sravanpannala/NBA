{
 "cells": [
  {
   "cell_type": "code",
   "execution_count": null,
   "metadata": {},
   "outputs": [],
   "source": [
    "import pandas as pd\n",
    "import numpy as np\n",
    "from catboost import CatBoostClassifier, Pool\n",
    "from sklearn.model_selection import train_test_split\n",
    "from sklearn.metrics import accuracy_score, log_loss"
   ]
  },
  {
   "cell_type": "code",
   "execution_count": null,
   "metadata": {},
   "outputs": [],
   "source": [
    "# Generate sample in-game data (replace with your actual play-by-play data)\n",
    "def load_ingame_data():\n",
    "    # Simulating play-by-play data\n",
    "    n_samples = 5000\n",
    "    data = pd.DataFrame({\n",
    "        'score_diff': np.random.normal(0, 10, n_samples),  # Current score difference (home - away)\n",
    "        'seconds_remaining': np.random.uniform(0, 2880, n_samples),  # Seconds left in game (48 min = 2880 sec)\n",
    "        'home_elo': np.random.normal(1500, 200, n_samples),  # Home team strength\n",
    "        'away_elo': np.random.normal(1500, 200, n_samples),  # Away team strength\n",
    "        'quarter': np.random.choice([1, 2, 3, 4], n_samples),  # Current quarter\n",
    "        'home_possession': np.random.randint(0, 2, n_samples),  # 1 if home has ball\n",
    "        'home_rest': np.random.randint(0, 5, n_samples),  # Days rest\n",
    "        'away_rest': np.random.randint(0, 5, n_samples),  # Days rest\n",
    "        # Target: 1 if home team wins, 0 if away team wins\n",
    "        'home_team_win': np.random.randint(0, 2, n_samples)\n",
    "    })\n",
    "    return data"
   ]
  },
  {
   "cell_type": "code",
   "execution_count": null,
   "metadata": {},
   "outputs": [],
   "source": [
    "# Feature engineering\n",
    "def engineer_features(df):\n",
    "    # Add useful derived features\n",
    "    df['elo_diff'] = df['home_elo'] - df['away_elo']\n",
    "    df['time_remaining_pct'] = df['seconds_remaining'] / 2880\n",
    "    df['points_per_second'] = df['score_diff'] / (2880 - df['seconds_remaining']).clip(lower=1)\n",
    "    df['is_endgame'] = (df['seconds_remaining'] < 300) & (df['quarter'] == 4).astype(int)\n",
    "    \n",
    "    features = [\n",
    "        'score_diff',\n",
    "        'seconds_remaining',\n",
    "        'home_elo',\n",
    "        'away_elo',\n",
    "        'quarter',\n",
    "        'home_possession',\n",
    "        'home_rest',\n",
    "        'away_rest',\n",
    "        'elo_diff',\n",
    "        'time_remaining_pct',\n",
    "        'points_per_second',\n",
    "        'is_endgame'\n",
    "    ]\n",
    "    \n",
    "    return df, features"
   ]
  },
  {
   "cell_type": "code",
   "execution_count": null,
   "metadata": {},
   "outputs": [],
   "source": [
    "def prepare_data(df, features):\n",
    "    X = df[features]\n",
    "    y = df['home_team_win']\n",
    "    \n",
    "    # Split into train and test\n",
    "    X_train, X_test, y_train, y_test = train_test_split(\n",
    "        X, y, test_size=0.2, random_state=42, stratify=y\n",
    "    )\n",
    "    \n",
    "    return X_train, X_test, y_train, y_test"
   ]
  },
  {
   "cell_type": "code",
   "execution_count": null,
   "metadata": {},
   "outputs": [],
   "source": [
    "def train_catboost_model(X_train, X_test, y_train, y_test):\n",
    "    # Define categorical features\n",
    "    cat_features = ['quarter', 'home_possession', 'is_endgame']\n",
    "    \n",
    "    # Create data pools\n",
    "    train_pool = Pool(X_train, y_train, cat_features=cat_features)\n",
    "    test_pool = Pool(X_test, y_test, cat_features=cat_features)\n",
    "    \n",
    "    # Initialize model\n",
    "    model = CatBoostClassifier(\n",
    "        iterations=1000,\n",
    "        learning_rate=0.05,\n",
    "        depth=6,\n",
    "        loss_function='Logloss',\n",
    "        eval_metric='AUC',\n",
    "        random_seed=42,\n",
    "        verbose=100,\n",
    "        use_best_model=True,\n",
    "        # task_type=\"GPU\",\n",
    "    )\n",
    "    \n",
    "    # Train model\n",
    "    model.fit(\n",
    "        train_pool,\n",
    "        eval_set=test_pool,\n",
    "        early_stopping_rounds=50\n",
    "    )\n",
    "    \n",
    "    return model"
   ]
  },
  {
   "cell_type": "code",
   "execution_count": null,
   "metadata": {},
   "outputs": [],
   "source": [
    "def evaluate_model(model, X_test, y_test):\n",
    "    # Predictions\n",
    "    y_pred_proba = model.predict_proba(X_test)[:, 1]\n",
    "    y_pred = (y_pred_proba > 0.5).astype(int)\n",
    "    \n",
    "    # Metrics\n",
    "    accuracy = accuracy_score(y_test, y_pred)\n",
    "    logloss = log_loss(y_test, y_pred_proba)\n",
    "    \n",
    "    print(f\"Accuracy: {accuracy:.4f}\")\n",
    "    print(f\"Log Loss: {logloss:.4f}\")\n",
    "    \n",
    "    return y_pred_proba"
   ]
  },
  {
   "cell_type": "code",
   "execution_count": null,
   "metadata": {},
   "outputs": [],
   "source": [
    "def predict_live_game(model, game_state):\n",
    "    # Convert game state to DataFrame with same features\n",
    "    game_df = pd.DataFrame([game_state])\n",
    "    return model.predict_proba(game_df)[:, 1][0]"
   ]
  },
  {
   "cell_type": "code",
   "execution_count": null,
   "metadata": {},
   "outputs": [],
   "source": [
    "# Load and process data\n",
    "df = load_ingame_data()\n",
    "df, features = engineer_features(df)\n",
    "X_train, X_test, y_train, y_test = prepare_data(df, features)\n",
    "\n",
    "# Train model\n",
    "model = train_catboost_model(X_train, X_test, y_train, y_test)\n",
    "\n",
    "# Evaluate\n",
    "predictions = evaluate_model(model, X_test, y_test)\n",
    "\n",
    "# Feature importance\n",
    "feature_importance = pd.DataFrame({\n",
    "    'feature': features,\n",
    "    'importance': model.get_feature_importance()\n",
    "}).sort_values('importance', ascending=False)\n",
    "print(\"\\nFeature Importance:\")\n",
    "print(feature_importance)\n",
    "\n",
    "# Example live prediction\n",
    "sample_game_state = {\n",
    "    'score_diff': 5,  # Home team up by 5\n",
    "    'seconds_remaining': 600,  # 10 minutes left\n",
    "    'home_elo': 1600,\n",
    "    'away_elo': 1550,\n",
    "    'quarter': 4,\n",
    "    'home_possession': 1,\n",
    "    'home_rest': 2,\n",
    "    'away_rest': 1,\n",
    "    'elo_diff': 50,\n",
    "    'time_remaining_pct': 600/2880,\n",
    "    'points_per_second': 5/(2880-600),\n",
    "    'is_endgame': 0\n",
    "}\n",
    "\n",
    "win_prob = predict_live_game(model, sample_game_state)\n",
    "print(f\"\\nHome team win probability: {win_prob:.4f}\")"
   ]
  }
 ],
 "metadata": {
  "kernelspec": {
   "display_name": "dav-ub9Z_EQq-py3.12",
   "language": "python",
   "name": "python3"
  },
  "language_info": {
   "codemirror_mode": {
    "name": "ipython",
    "version": 3
   },
   "file_extension": ".py",
   "mimetype": "text/x-python",
   "name": "python",
   "nbconvert_exporter": "python",
   "pygments_lexer": "ipython3",
   "version": "3.12.0"
  }
 },
 "nbformat": 4,
 "nbformat_minor": 2
}
