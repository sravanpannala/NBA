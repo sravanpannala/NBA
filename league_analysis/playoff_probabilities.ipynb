{
 "cells": [
  {
   "cell_type": "code",
   "execution_count": 1,
   "metadata": {},
   "outputs": [],
   "source": [
    "import os, sys\n",
    "\n",
    "sys.path.append(os.path.dirname(os.path.dirname(os.path.abspath(\"__file__\"))))\n",
    "from nbafuns import *\n",
    "\n",
    "fig_DIR = \"../figs/analysis/\"\n",
    "img_DIR_P = \"../data/images/players/\"\n",
    "img_DIR_T = \"../data/images/teams/\"\n",
    "data_DIR = \"../data/misc/\"\n",
    "box_DIR = \"../data/box/\"\n",
    "aio_DIR = \"../data/all_in_one_metrics/\""
   ]
  },
  {
   "cell_type": "code",
   "execution_count": 2,
   "metadata": {},
   "outputs": [],
   "source": [
    "dft = pd.read_csv(\"../data/NBA_teams_colors_logos.csv\")\n",
    "teams_dict = dict(zip(dft['teamTricode'], dft['nameTeam']))"
   ]
  },
  {
   "cell_type": "code",
   "execution_count": 14,
   "metadata": {},
   "outputs": [],
   "source": [
    "# file = \"sample_playoff_series_consensus_results.csv\"\n",
    "file1 = \"all_teams_series_probabilities_V1.csv\"\n",
    "file2 = \"all_teams_series_probabilities_V2.csv\"\n",
    "df1_1 = pd.read_csv(data_DIR + file1)\n",
    "df1_2 = pd.read_csv(data_DIR + file2)\n",
    "df1_2.iloc[:,4:] = df1_2.iloc[:,4:]*100\n",
    "df1 = pd.concat([df1_1,df1_2])\n",
    "df1 = df1.reset_index(drop=True)\n",
    "df1.loc[df1[\"Model\"].str.contains(\"predict_series_ridge\"),\"Model\"]=\"pred_ridge\""
   ]
  },
  {
   "cell_type": "code",
   "execution_count": 4,
   "metadata": {},
   "outputs": [
    {
     "data": {
      "text/plain": [
       "Index(['Team', 'Opponent', 'Series_home', 'Model', 'OverallWin', 'OverallLoss',\n",
       "       'WinIn4', 'WinIn5', 'WinIn6', 'WinIn7', 'LoseIn7', 'LoseIn6', 'LoseIn5',\n",
       "       'LoseIn4'],\n",
       "      dtype='object')"
      ]
     },
     "execution_count": 4,
     "metadata": {},
     "output_type": "execute_result"
    }
   ],
   "source": [
    "df1.columns"
   ]
  },
  {
   "cell_type": "code",
   "execution_count": 5,
   "metadata": {},
   "outputs": [
    {
     "data": {
      "text/plain": [
       "array(['home_court', 'lebron', 'epm', 'lazy_lebron', 'pred_epm', 'dpm',\n",
       "       'box', 'bpm', 'bpm_larapm', 'raptor', 'xrapm', 'ebron', 'bpm_rapm',\n",
       "       'multi_lebron', 'rs_ratings', 'combined', 'ridge', 'lasso',\n",
       "       'elasticnet', 'xgboost', 'naive_bayes', 'neural_network',\n",
       "       'consensus', 'predict_series_ridge'], dtype=object)"
      ]
     },
     "execution_count": 5,
     "metadata": {},
     "output_type": "execute_result"
    }
   ],
   "source": [
    "df1.Model.unique()"
   ]
  },
  {
   "cell_type": "code",
   "execution_count": 16,
   "metadata": {},
   "outputs": [],
   "source": [
    "models = ['home_court', 'lebron', 'epm', 'lazy_lebron', 'pred_epm', 'dpm',\n",
    "       'box', 'bpm', 'bpm_larapm', 'raptor', 'xrapm', 'ebron', 'bpm_rapm',\n",
    "       'multi_lebron', 'rs_ratings', 'combined', 'ridge', 'lasso',\n",
    "       'elasticnet', 'xgboost', 'naive_bayes', 'neural_network',\n",
    "       'consensus','predict_series_ridge']\n",
    "models = ['pred_ridge','lebron', 'epm', 'dpm','multi_lebron', 'pred_epm', 'bpm', 'raptor', 'xrapm',]"
   ]
  },
  {
   "cell_type": "code",
   "execution_count": 17,
   "metadata": {},
   "outputs": [],
   "source": [
    "df1e = df1[df1[\"Model\"].isin(models)].reset_index(drop=True)\n",
    "df1e['Model'] = pd.Categorical(df1e['Model'],categories=models,ordered=True)\n",
    "df1e.iloc[:,4:] = df1e.iloc[:,4:].round(2)\n",
    "df2e = df1e.drop(columns=\"Series_home\")"
   ]
  },
  {
   "cell_type": "code",
   "execution_count": 19,
   "metadata": {},
   "outputs": [],
   "source": [
    "df2e.to_parquet(\"../data/shiny/playoff_model_probabilities_2024.parquet\")\n",
    "exp_DIR = \"../../shinyNBA/data/\"\n",
    "df2e.to_parquet(exp_DIR + \"playoff_model_probabilities_2024.parquet\")"
   ]
  },
  {
   "cell_type": "code",
   "execution_count": null,
   "metadata": {},
   "outputs": [],
   "source": [
    "df2 = df1e[df1e[\"Series_home\"] == 1]"
   ]
  },
  {
   "cell_type": "code",
   "execution_count": null,
   "metadata": {},
   "outputs": [],
   "source": [
    "df2[\"Team\"].unique()"
   ]
  },
  {
   "cell_type": "code",
   "execution_count": null,
   "metadata": {},
   "outputs": [],
   "source": [
    "team_h = [\"BOS\",\"NYK\",\"IND\",\"HOU\",\"LAL\",\"DEN\",\"OKC\",\"OKC\",\"CLE\",\"CLE\"]\n",
    "team_a = [\"ORL\",\"DET\",\"MIL\",\"GSW\",\"MIN\",\"LAC\",\"MEM\",\"DAL\",\"ATL\",\"MIA\"]"
   ]
  },
  {
   "cell_type": "code",
   "execution_count": null,
   "metadata": {},
   "outputs": [],
   "source": [
    "dfa = []\n",
    "for h,a in zip(team_h,team_a):\n",
    "    df3 = df2[(df2[\"Team\"] == h) & (df2[\"Opponent\"] == a)]\n",
    "    df3 = df3.sort_values(\"Model\")\n",
    "    dfa.append(df3)\n",
    "df4 = pd.concat(dfa)\n",
    "df4.iloc[:,4:] = df4.iloc[:,4:].round(2)\n",
    "df5 = df4.drop(columns = [\"Series_home\"])\n",
    "df5 = df5.reset_index(drop=True)"
   ]
  },
  {
   "cell_type": "code",
   "execution_count": null,
   "metadata": {},
   "outputs": [],
   "source": [
    "r = range(len(team_h))\n",
    "# r = range(1)\n",
    "for i in r:\n",
    "    ds = df5[(df5[\"Team\"] == team_h[i]) & (df5[\"Opponent\"] == team_a[i])]\n",
    "    ds = ds.reset_index(drop=True)\n",
    "    ds[\"Team\"] = ds[\"Team\"].map(teams_dict)\n",
    "    ds[\"Opponent\"] = ds[\"Opponent\"].map(teams_dict)\n",
    "    title = f\"**Playoff Series Predictions using various Metrics**\"\n",
    "    subtitle = f'**{team_h[i]} vs {team_a[i]}**'\n",
    "    t = (\n",
    "        GT(ds)\n",
    "        .tab_header(\n",
    "            title=md(title),\n",
    "            subtitle=md(subtitle)\n",
    "        )\n",
    "        .tab_source_note(source_note=\"@knarsu3,@sradjoker | source:bball-index,darko,dunksandthrees,bbref,xrapm,neilpaine\")\n",
    "        .cols_label(\n",
    "            Team = \"Home\",\n",
    "            Opponent = \"Away\",\n",
    "            OverallWin = \"Overall Win\",\n",
    "            OverallLoss = \"Overall Loss\",\n",
    "            WinIn4=\"4\", \n",
    "            WinIn5=\"5\", \n",
    "            WinIn6=\"6\", \n",
    "            WinIn7=\"7\", \n",
    "            LoseIn7=\"7\",\n",
    "            LoseIn6=\"6\", \n",
    "            LoseIn5=\"5\", \n",
    "            LoseIn4=\"4\",\n",
    "        )\n",
    "        .fmt_image(\n",
    "            columns=[\"Team\",\"Opponent\"],\n",
    "            path = img_DIR_T,\n",
    "            file_pattern=\"{}.png\",\n",
    "            height = 40\n",
    "        )\n",
    "        .tab_spanner(label=\"W\", columns=['WinIn4', 'WinIn5', 'WinIn6', 'WinIn7'])\n",
    "        .tab_spanner(label=\"L\", columns=['LoseIn7','LoseIn6', 'LoseIn5', 'LoseIn4'])\n",
    "        .cols_align(align=\"center\")\n",
    "        .cols_align(align=\"left\", columns=[\"Team\",\"Oppoenent\"])\n",
    "        .data_color(\n",
    "            domain = [0.0,100.0],\n",
    "            columns=['OverallWin','OverallLoss'],\n",
    "            palette=\"RdYlGn\",\n",
    "        )\n",
    "        .data_color(\n",
    "            domain = [0.0,50.0],\n",
    "            columns=[ 'WinIn4', 'WinIn5', 'WinIn6', 'WinIn7','LoseIn7','LoseIn6', 'LoseIn5', 'LoseIn4'],\n",
    "            palette=\"RdYlGn\",\n",
    "        )\n",
    "        .tab_options(\n",
    "            heading_title_font_size=\"150%\",\n",
    "            heading_subtitle_font_size=\"150%\",\n",
    "            # table_background_color=\"ghostwhite\",\n",
    "            table_background_color=\"snow\",\n",
    "            column_labels_font_size=\"105%\",\n",
    "            column_labels_font_weight='bold',\n",
    "            row_group_font_weight='bold',\n",
    "            row_group_background_color=\"#E5E1D8\",\n",
    "            table_font_size=10,\n",
    "            table_font_names=\"Consolas\", \n",
    "            data_row_padding = \"3px\",\n",
    "            # table_margin_left = 7,\n",
    "            # table_margin_right = 0,\n",
    "        )\n",
    "    )\n",
    "    t.save(fig_DIR + f\"playoff_model_table_2024_{(i+1):02d}.png\",scale=3,web_driver=\"firefox\")\n",
    "t"
   ]
  }
 ],
 "metadata": {
  "kernelspec": {
   "display_name": ".venv",
   "language": "python",
   "name": "python3"
  },
  "language_info": {
   "codemirror_mode": {
    "name": "ipython",
    "version": 3
   },
   "file_extension": ".py",
   "mimetype": "text/x-python",
   "name": "python",
   "nbconvert_exporter": "python",
   "pygments_lexer": "ipython3",
   "version": "3.12.9"
  }
 },
 "nbformat": 4,
 "nbformat_minor": 2
}
