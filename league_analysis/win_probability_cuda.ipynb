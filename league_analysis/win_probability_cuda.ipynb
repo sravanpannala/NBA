{
 "cells": [
  {
   "cell_type": "code",
   "execution_count": null,
   "metadata": {},
   "outputs": [],
   "source": [
    "import os, sys\n",
    "\n",
    "sys.path.append(os.path.dirname(os.path.dirname(os.path.abspath(\"__file__\"))))\n",
    "from nbafuns import *\n",
    "from tqdm.notebook import trange, tqdm\n",
    "\n",
    "from sklearn.preprocessing import MinMaxScaler\n",
    "import torch\n",
    "import torch.nn as nn\n",
    "import torch.nn.functional as Func\n",
    "from torch.utils.data import DataLoader, TensorDataset\n",
    "# Only this extra line of code is required to use oneDNN Graph\n",
    "torch.jit.enable_onednn_fusion(True)\n",
    "torch.autograd.detect_anomaly = False\n",
    "torch.autograd.profiler.emit_nvtx = False \n",
    "torch.autograd.profiler.profile = False\n",
    "torch.autograd.gradcheck = False\n",
    "torch.autograd.gradgradcheck = False\n",
    "\n",
    "data_DIR = \"../data/rapm/\"\n",
    "misc_DIR = \"../data/misc/\"\n",
    "model_path = \"../data/models/\"\n",
    "pbp_DIR = \"../data/pbpdata/\"\n",
    "fig_DIR = \"../figs/analysis/\"\n",
    "\n",
    "# %matplotlib widget"
   ]
  },
  {
   "cell_type": "code",
   "execution_count": null,
   "metadata": {},
   "outputs": [],
   "source": [
    "if torch.cuda.is_available():\n",
    "    print(\"CUDA is available!\")\n",
    "    print(\"Number of GPUs:\", torch.cuda.device_count())\n",
    "    print(\"Device name:\", torch.cuda.get_device_name(0))\n",
    "else:\n",
    "    print(\"CUDA is not available.\")"
   ]
  },
  {
   "cell_type": "code",
   "execution_count": null,
   "metadata": {},
   "outputs": [],
   "source": [
    "device = torch.device(\"cpu\")\n",
    "device = torch.device(\"cuda:0\")\n",
    "device"
   ]
  },
  {
   "cell_type": "markdown",
   "metadata": {},
   "source": [
    "## Data Pre Processing"
   ]
  },
  {
   "cell_type": "code",
   "execution_count": null,
   "metadata": {},
   "outputs": [],
   "source": [
    "# loads possessions with odds\n",
    "dfw = pd.read_parquet(data_DIR + \"NBA_rapm_possessions_odds_2017_2024.parquet\")\n",
    "len(dfw)\n"
   ]
  },
  {
   "cell_type": "code",
   "execution_count": null,
   "metadata": {},
   "outputs": [],
   "source": [
    "# random seed\n",
    "rr = 11"
   ]
  },
  {
   "cell_type": "code",
   "execution_count": null,
   "metadata": {},
   "outputs": [],
   "source": [
    "X = dfw[['margin', 'spread', 'secs']].values\n",
    "y = dfw['win'].values\n",
    "\n",
    "# sample the data\n",
    "test_gid = dfw['gid'].sample(frac=0.8, random_state=rr).to_list()\n",
    "dfw11 = dfw[dfw['gid'].isin(test_gid)]\n",
    "# dfw12 = dfw11.query(\"secs <=120\")\n",
    "# for i in range(4):\n",
    "#     dfw11  = pd.concat([dfw11,dfw12])\n",
    "dfw1 = dfw11\n",
    "dfw2 = dfw[dfw['gid'].isin(test_gid)]\n",
    "\n",
    "# scale the data\n",
    "scaler = MinMaxScaler()\n",
    "smodel = scaler.fit(X)\n",
    "Xs = smodel.transform(X)\n",
    "X_train1 =  smodel.transform(dfw1[['margin', 'spread', 'secs']].values)\n",
    "y_train1 = dfw1['win'].values\n",
    "X_test1 =  smodel.transform(dfw2[['margin', 'spread', 'secs']].values)\n",
    "y_test1 = dfw2['win'].values"
   ]
  },
  {
   "cell_type": "markdown",
   "metadata": {},
   "source": [
    "## Cuda Tensors"
   ]
  },
  {
   "cell_type": "code",
   "execution_count": null,
   "metadata": {},
   "outputs": [],
   "source": [
    "# convert to tensors\n",
    "inputs = torch.tensor(Xs, dtype=torch.float32, device=device)\n",
    "labels = torch.tensor(y, dtype=torch.float32, device=device).unsqueeze(1)\n",
    "X_train = torch.tensor(X_train1, dtype=torch.float32, device=device)\n",
    "y_train = torch.tensor(y_train1, dtype=torch.float32, device=device).unsqueeze(1)\n",
    "X_test = torch.tensor(X_test1, dtype=torch.float32, device=device)\n",
    "y_test = torch.tensor(y_test1, dtype=torch.float32, device=device).unsqueeze(1)"
   ]
  },
  {
   "cell_type": "code",
   "execution_count": null,
   "metadata": {},
   "outputs": [],
   "source": [
    "h1 = 24\n",
    "h2 = 24\n",
    "torch.manual_seed(rr)\n",
    "# Initialize the model\n",
    "model = nn.Sequential(\n",
    "    nn.Linear(3,h1),\n",
    "    nn.ReLU(),\n",
    "    nn.Linear(h1,h2),\n",
    "    nn.ReLU(),\n",
    "    nn.Linear(h2,1),\n",
    "    nn.Sigmoid()\n",
    ")\n",
    "model = model.to(device)\n",
    "criterion = nn.BCELoss()\n",
    "# optimizer = torch.optim.RMSprop(model.parameters(),lr=1e-3)\n",
    "optimizer = torch.optim.Adam(model.parameters(),lr=1e-3)"
   ]
  },
  {
   "cell_type": "code",
   "execution_count": null,
   "metadata": {},
   "outputs": [],
   "source": [
    "t1 = perf_counter()\n",
    "num_epochs = 500\n",
    "losses = []\n",
    "for epoch in trange(num_epochs,desc=\"epochs\",leave=False):\n",
    "    model.train()\n",
    "    # optimizer.zero_grad()\n",
    "    for param in model.parameters():\n",
    "        param.grad = None\n",
    "    outputs = model(inputs)\n",
    "    loss = criterion(outputs, labels)\n",
    "    loss.backward()\n",
    "    optimizer.step()\n",
    "    losses.append(loss.item())\n",
    "t2 = perf_counter()"
   ]
  },
  {
   "cell_type": "code",
   "execution_count": null,
   "metadata": {},
   "outputs": [],
   "source": [
    "print(round(t2-t1,1))"
   ]
  },
  {
   "cell_type": "code",
   "execution_count": null,
   "metadata": {},
   "outputs": [],
   "source": [
    "with torch.no_grad():\n",
    "    y_eval = model.forward(X_test)\n",
    "    loss = criterion(y_eval,y_test)\n",
    "print(loss)"
   ]
  },
  {
   "cell_type": "code",
   "execution_count": null,
   "metadata": {},
   "outputs": [],
   "source": [
    "pred = model.forward(inputs).cpu()\n",
    "x_out = dfw[\"secs\"].values\n",
    "y_out = pred.data.numpy()\n",
    "fig,ax=plt.subplots(1,1,figsize=(5,4))\n",
    "ax.plot(range(num_epochs),losses)\n",
    "ax.set_xlabel(\"Epochs\")\n",
    "ax.set_ylabel(\"Loss\")\n",
    "ax.set_title(f\"Layer 1: {h1:02d} Layer2: {h2:02d} Epochs: {num_epochs:03d}\")\n",
    "fig.tight_layout()"
   ]
  },
  {
   "cell_type": "code",
   "execution_count": null,
   "metadata": {},
   "outputs": [],
   "source": [
    "fig,ax=plt.subplots(1,1,figsize=(5,4))\n",
    "ax.plot(x_out,y_out,\"x\")\n",
    "ax.set_xlim((3000,0))\n",
    "ax.set_xlabel(\"Time Remaining in Game [s]\")\n",
    "ax.set_ylabel(\"Win Probability\")\n",
    "ax.set_title(f\"Layer 1: {h1:02d} Layer2: {h2:02d} Epochs: {num_epochs:03d}\")\n",
    "fig.tight_layout()"
   ]
  },
  {
   "cell_type": "code",
   "execution_count": null,
   "metadata": {},
   "outputs": [],
   "source": [
    "torch.save(model, f\"./testing/model_epoch_{h1:02d}_{h2:02d}_{num_epochs:03d}.pt\")"
   ]
  },
  {
   "cell_type": "markdown",
   "metadata": {},
   "source": [
    "## Batch"
   ]
  },
  {
   "cell_type": "code",
   "execution_count": null,
   "metadata": {},
   "outputs": [],
   "source": [
    "model = nn.Sequential(\n",
    "    nn.Linear(3,h1),\n",
    "    nn.ReLU(),\n",
    "    nn.Linear(h1,h2),\n",
    "    nn.ReLU(),\n",
    "    nn.Linear(h2,1),\n",
    "    nn.Sigmoid()\n",
    ")\n",
    "model = model.to(device)\n",
    "criterion = nn.BCELoss()\n",
    "# optimizer = torch.optim.RMSprop(model.parameters(),lr=1e-3)\n",
    "optimizer = torch.optim.Adam(model.parameters(),lr=1e-3)\n",
    "bs=4\n",
    "dataset = TensorDataset(inputs, labels)\n",
    "batch_size = int(len(dataset)/bs)+1\n",
    "num_epochs = 50"
   ]
  },
  {
   "cell_type": "code",
   "execution_count": null,
   "metadata": {},
   "outputs": [],
   "source": [
    "t3 = perf_counter()\n",
    "dataloader = DataLoader(dataset, batch_size=batch_size)\n",
    "t4 = perf_counter()\n",
    "print(round(t4-t3,1))\n",
    "losses = []\n",
    "j = 0\n",
    "for epoch in range(num_epochs):\n",
    "    model.train()\n",
    "    for i, batch in enumerate(dataloader):\n",
    "        inputs_batch,labels_batch = batch\n",
    "        for param in model.parameters():\n",
    "            param.grad = None\n",
    "        outputs = model(inputs_batch)\n",
    "        loss = criterion(outputs, labels_batch)\n",
    "        loss.backward()\n",
    "        optimizer.step()\n",
    "        print(i)\n",
    "    clear_output(wait=True)\n",
    "    print(f'Epoch {epoch}/{num_epochs}, Loss: {loss.item()}')\n",
    "    losses.append(loss.item())\n",
    "    j+=1\n",
    "t5 = perf_counter()"
   ]
  },
  {
   "cell_type": "code",
   "execution_count": null,
   "metadata": {},
   "outputs": [],
   "source": [
    "torch.save(model, f\"./testing/model_batch_{h1:02d}_{h2:02d}_{num_epochs:03d}_batch{bs:02d}.pt\")"
   ]
  },
  {
   "cell_type": "code",
   "execution_count": null,
   "metadata": {},
   "outputs": [],
   "source": [
    "print(round(t4-t3,1))\n",
    "print(round(t5-t4,1))"
   ]
  },
  {
   "cell_type": "code",
   "execution_count": null,
   "metadata": {},
   "outputs": [],
   "source": [
    "with torch.no_grad():\n",
    "    y_eval = model.forward(X_test)\n",
    "    loss = criterion(y_eval,y_test)\n",
    "print(loss)"
   ]
  },
  {
   "cell_type": "code",
   "execution_count": null,
   "metadata": {},
   "outputs": [],
   "source": [
    "pred = model.forward(inputs).cpu()\n",
    "x_out = dfw[\"secs\"].values\n",
    "y_out = pred.data.numpy()\n",
    "fig,ax=plt.subplots(1,1,figsize=(5,4))\n",
    "ax.plot(range(j),losses)\n",
    "ax.set_xlabel(\"Epochs\")\n",
    "ax.set_ylabel(\"Loss\")\n",
    "ax.set_title(f\"Layer 1: {h1:02d} Layer2: {h2:02d} Epochs: {num_epochs:03d}\")\n",
    "fig.tight_layout()"
   ]
  },
  {
   "cell_type": "code",
   "execution_count": null,
   "metadata": {},
   "outputs": [],
   "source": [
    "fig,ax=plt.subplots(1,1,figsize=(5,4))\n",
    "ax.plot(x_out,y_out,\"x\")\n",
    "ax.set_xlim((3000,0))\n",
    "ax.set_xlabel(\"Time Remaining in Game [s]\")\n",
    "ax.set_ylabel(\"Win Probability\")\n",
    "ax.set_title(f\"Layer 1: {h1:02d} Layer2: {h2:02d} Epochs: {num_epochs:03d}\")\n",
    "fig.tight_layout()"
   ]
  },
  {
   "cell_type": "code",
   "execution_count": null,
   "metadata": {},
   "outputs": [],
   "source": [
    "# torch.save(model, f\"./testing/model_batch.pt\")"
   ]
  }
 ],
 "metadata": {
  "kernelspec": {
   "display_name": "dav-ub9Z_EQq-py3.12",
   "language": "python",
   "name": "python3"
  },
  "language_info": {
   "codemirror_mode": {
    "name": "ipython",
    "version": 3
   },
   "file_extension": ".py",
   "mimetype": "text/x-python",
   "name": "python",
   "nbconvert_exporter": "python",
   "pygments_lexer": "ipython3",
   "version": "3.12.0"
  }
 },
 "nbformat": 4,
 "nbformat_minor": 2
}
