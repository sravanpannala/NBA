{
 "cells": [
  {
   "cell_type": "code",
   "execution_count": null,
   "metadata": {},
   "outputs": [],
   "source": [
    "import os, sys\n",
    "\n",
    "sys.path.append(os.path.dirname(os.path.dirname(os.path.abspath(\"__file__\"))))\n",
    "from nbafuns import *\n",
    "from nba_api.stats.endpoints import leaguedashteamstats, playerawards\n",
    "\n",
    "fig_DIR = \"../figs/analysis//\"\n",
    "box_DIR = \"../data/box/\"\n",
    "\n",
    "pID_dict = get_pID_pbp()\n",
    "player_dict = get_players_pbp()\n",
    "teams_dict, teams_list = get_teams()"
   ]
  },
  {
   "cell_type": "code",
   "execution_count": null,
   "metadata": {},
   "outputs": [],
   "source": [
    "df1 = pd.read_parquet(\"../data/misc/\"+\"NBA_Awards_2024.parquet\")\n",
    "df1.columns = map(str.lower, df1.columns)"
   ]
  },
  {
   "cell_type": "code",
   "execution_count": null,
   "metadata": {},
   "outputs": [],
   "source": [
    "award_list = ['NBA All-Star','All-NBA']\n",
    "df2 = df1[df1[\"description\"].isin(award_list)]\n",
    "cols = ['person_id' ,'season', \"description\"]\n",
    "df2 = df2[cols]\n",
    "df2 = df2.rename(columns={\"person_id\":\"player_id\"})\n",
    "df2[\"season\"] = df2[\"season\"].str[:-3]\n",
    "df2[\"season\"] = df2[\"season\"].astype(int) + 1\n",
    "df2 = df2.sort_values([\"player_id\",\"season\"])\n",
    "pIDas = df2[\"player_id\"].to_list()\n",
    "df2[\"all_nba\"] = np.where(df2[\"description\"] == 'All-NBA',True,False)\n",
    "df2[\"all_star\"] = np.where(df2[\"description\"] == 'NBA All-Star',True,False)\n",
    "df2 =df2.drop(columns=\"description\")\n",
    "df2 = df2.groupby([\"player_id\",\"season\"])[[\"all_nba\",\"all_star\"]].sum()\n",
    "df2 = df2.reset_index()\n",
    "df2[\"all_star\"] = df2[\"all_star\"].astype(bool)\n",
    "df2[\"all_nba\"] = df2[\"all_nba\"].astype(bool)"
   ]
  },
  {
   "cell_type": "code",
   "execution_count": null,
   "metadata": {},
   "outputs": [],
   "source": [
    "dfa = []\n",
    "for season in range(1996,2025):\n",
    "    cols= ['PLAYER_ID', 'PLAYER_NAME', 'TEAM_ID', 'TEAM_ABBREVIATION','AGE', 'GP', ]\n",
    "    df3 = pd.read_parquet(box_DIR + f\"NBA_Box_P_Cum_Base_{season}.parquet\",columns=cols)\n",
    "    df3.columns = map(str.lower, df3.columns)\n",
    "    df3[\"season\"] = season + 1 \n",
    "    dfa.append(df3)\n",
    "df4 = pd.concat(dfa)\n",
    "df5 = pd.merge(df4,df2,on=[\"player_id\",\"season\"],how=\"left\")\n",
    "df5 = df5.sort_values([\"player_id\",\"season\"]).reset_index(drop=True)\n",
    "df5[\"all_star\"] = np.where(df5[\"all_star\"]==True, True,False)\n",
    "df5[\"all_nba\"] = np.where(df5[\"all_nba\"]==True, True,False)\n",
    "df5[\"all_star\"] = df5[\"all_star\"].astype(bool)\n",
    "df5[\"all_nba\"] = df5[\"all_nba\"].astype(bool)"
   ]
  },
  {
   "cell_type": "code",
   "execution_count": null,
   "metadata": {},
   "outputs": [],
   "source": [
    "df6 = df5[df5[\"player_id\"].isin(pIDas)]\n",
    "df6[\"count\"]= np.where((df6[\"all_star\"] | df6[\"all_nba\"]), 1, 0)\n",
    "df6g = df6.groupby([\"player_id\",\"player_name\"])\n",
    "keys = list(df6g.groups)\n",
    "dfb = []\n",
    "for key in keys:\n",
    "    df7 = df6g.get_group(key)\n",
    "    df7[\"wind\"] = df7[\"count\"].rolling(3).sum()\n",
    "    df7[\"star\"] = df7[\"wind\"] > 0\n",
    "    dfb.append(df7)\n",
    "df8 = pd.concat(dfb)\n",
    "df8 = df8.dropna().reset_index(drop=True)\n",
    "df8 = df8.query(\"star == True\").reset_index(drop=True)"
   ]
  },
  {
   "cell_type": "code",
   "execution_count": null,
   "metadata": {},
   "outputs": [],
   "source": [
    "dfb = []\n",
    "for season in range(1996,2025):\n",
    "    cols= ['TEAM_ID', 'GP', ]\n",
    "    dftb = pd.read_parquet(box_DIR + f\"NBA_Box_T_Cum_Base_{season}.parquet\",columns=cols)\n",
    "    dftb.columns = map(str.lower, dftb.columns)\n",
    "    dftb[\"season\"] = season + 1 \n",
    "    dfb.append(dftb)\n",
    "df9 = pd.concat(dfb)"
   ]
  },
  {
   "cell_type": "code",
   "execution_count": null,
   "metadata": {},
   "outputs": [],
   "source": [
    "df10 = pd.merge(df8,df9,on=[\"team_id\",\"season\"],how=\"left\",suffixes=[\"_p\",\"_t\"])\n",
    "# df10 = df10.query(\"season >= 2000\")\n",
    "df10 = df10.query(\"season >= 2000 & season < 2025\")\n",
    "df10[\"gm\"] = df10[\"gp_t\"] - df10[\"gp_p\"]\n",
    "df11 = df10.groupby([\"season\"])[[\"gm\",\"gp_t\",\"age\"]].mean()\n",
    "df11 = df11.reset_index()\n",
    "df11[\"gp_t\"] = df11[\"gp_t\"].astype(int)\n",
    "df11[\"gm_pg\"] = df11[\"gm\"]/df11[\"gp_t\"]\n",
    "df11[\"gm\"] = df11[\"gm\"].round(1)\n",
    "df11[\"gm_pg\"] = df11[\"gm_pg\"].round(4)"
   ]
  },
  {
   "cell_type": "code",
   "execution_count": null,
   "metadata": {},
   "outputs": [],
   "source": [
    "data = df11.copy()\n",
    "p = (\n",
    "    ggplot(data)\n",
    "    + aes(x=\"season\",y=\"gm_pg\",group=0)\n",
    "    + geom_point()\n",
    "    + geom_line(size=1.5)\n",
    "    + scale_y_continuous(labels=percent_format())\n",
    "    + theme_idv\n",
    "    + labs(\n",
    "        title = \"% of Games Missed by NBA Stars 2000-2024\",\n",
    "        subtitle = \"Star: Player Making All-Star or All-NBA Team in a Three Season Window\",\n",
    "        caption=\"bsky:@sradjoker.cc | x:@sradjoker | source: nba.com/stats\",\n",
    "        x = \"Season\",\n",
    "        y = \"% of Games Missed\",\n",
    "    )\n",
    ")\n",
    "p"
   ]
  },
  {
   "cell_type": "code",
   "execution_count": null,
   "metadata": {},
   "outputs": [],
   "source": [
    "data = df11.copy()\n",
    "p = (\n",
    "    ggplot(data)\n",
    "    + aes(x=\"season\",y=\"age\",group=0)\n",
    "    + geom_point(color=\"red\")\n",
    "    # + geom_line(size=1.5)\n",
    "    + geom_smooth(method=\"lm\",se=False, size=1.5)\n",
    "    # + geom_smooth(method=\"lm\",se=True, size=1.5)\n",
    "    # + scale_y_continuous(labels=percent_format())\n",
    "    + annotate(\"label\",2005,29,label=\"Mean\",size=12)\n",
    "    + theme_idv\n",
    "    + labs(\n",
    "        title = \"Average Age of NBA Stars 2000-2024\",\n",
    "        subtitle = \"Star: Player Making All-Star or All-NBA Team in a Three Season Window\",\n",
    "        caption=\"bsky:@sradjoker.cc | x:@sradjoker | source: nba.com/stats\",\n",
    "        x = \"Season\",\n",
    "        y = \"Average Age\",\n",
    "    )\n",
    ")\n",
    "p"
   ]
  },
  {
   "cell_type": "code",
   "execution_count": null,
   "metadata": {},
   "outputs": [],
   "source": [
    "seasons = [2000,2005,2010,2015,2020,2024]\n",
    "data = df10.copy()\n",
    "data = data[data.season.isin(seasons)]\n",
    "data[\"season\"] = data[\"season\"].astype(\"category\")\n",
    "p = (\n",
    "    ggplot(data)\n",
    "    + aes(x=\"age\",group=\"season\",color=\"season\")\n",
    "    + geom_density(size=1.2)\n",
    "    + theme_idv\n",
    "    + labs(\n",
    "        title = \"Age Distribution of NBA Stars 2000-2024\",\n",
    "        subtitle = \"Star: Player Making All-Star or All-NBA Team in a Three Season Window\",\n",
    "        caption=\"bsky:@sradjoker.cc | x:@sradjoker | source: nba.com/stats\",\n",
    "        x = \"Age\",\n",
    "        y = \"Density\",\n",
    "    )\n",
    ")\n",
    "p"
   ]
  },
  {
   "cell_type": "code",
   "execution_count": null,
   "metadata": {},
   "outputs": [],
   "source": [
    "data = df10.copy()\n",
    "data[\"season\"] = data[\"season\"].astype(\"category\")\n",
    "p = (\n",
    "    ggplot(data)\n",
    "    + aes(x=\"season\",y=\"age\",fill=\"season\")\n",
    "    + geom_violin(draw_quantiles=[0.25,0.5,0.75], alpha=0.5, show_legend=False, size=1)\n",
    "    + theme_idv\n",
    "    + theme(\n",
    "        figure_size=(12,5)\n",
    "    )\n",
    "    + labs(\n",
    "        title = \"Age Distribution of NBA Stars 2000-2024\",\n",
    "        subtitle = \"Star: Player Making All-Star or All-NBA Team in a Three Season Window\\nThese are Violin Plots: Similar to a box plot, with the addition of a rotated KDE plot on each side. Lines represent 25, 50 & 75% quantiles\",\n",
    "        caption=\"bsky:@sradjoker.cc | x:@sradjoker | source: nba.com/stats\",\n",
    "        y = \"Age\",\n",
    "        x = \"Season\",\n",
    "    )\n",
    ")\n",
    "p"
   ]
  }
 ],
 "metadata": {
  "kernelspec": {
   "display_name": "dav-ub9Z_EQq-py3.12",
   "language": "python",
   "name": "python3"
  },
  "language_info": {
   "codemirror_mode": {
    "name": "ipython",
    "version": 3
   },
   "file_extension": ".py",
   "mimetype": "text/x-python",
   "name": "python",
   "nbconvert_exporter": "python",
   "pygments_lexer": "ipython3",
   "version": "3.12.0"
  }
 },
 "nbformat": 4,
 "nbformat_minor": 2
}
