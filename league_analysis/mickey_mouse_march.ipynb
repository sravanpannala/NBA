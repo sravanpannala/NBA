{
 "cells": [
  {
   "cell_type": "code",
   "execution_count": null,
   "metadata": {},
   "outputs": [],
   "source": [
    "import os, sys\n",
    "\n",
    "sys.path.append(os.path.dirname(os.path.dirname(os.path.abspath(\"__file__\"))))\n",
    "from nbafuns import *\n",
    "\n",
    "fig_DIR = \"../figs/analysis/\""
   ]
  },
  {
   "cell_type": "code",
   "execution_count": null,
   "metadata": {},
   "outputs": [],
   "source": [
    "df1 = get_box(\"P\",\"Base\",False,range(2021,2025))\n",
    "df1[\"game_date\"] = pd.to_datetime(df1[\"game_date\"])\n",
    "df1[\"month\"] = df1[\"game_date\"].dt.month"
   ]
  },
  {
   "cell_type": "code",
   "execution_count": null,
   "metadata": {},
   "outputs": [],
   "source": [
    "df2 = df1.query(\"month == 3\")\n",
    "df3 = df1.query(\"month != 3\")"
   ]
  },
  {
   "cell_type": "code",
   "execution_count": null,
   "metadata": {},
   "outputs": [],
   "source": [
    "gl2 = len(df2[\"game_id\"].unique())\n",
    "gl3 = len(df3[\"game_id\"].unique())\n",
    "ft2 = len(df2.query(\"pts >= 40\"))\n",
    "ft3 = len(df3.query(\"pts >= 40\"))\n",
    "pt2 = len(df2.query(\"pts >= 40\").player_id.unique())\n",
    "pt3 = len(df3.query(\"pts >= 40\").player_id.unique())"
   ]
  },
  {
   "cell_type": "code",
   "execution_count": null,
   "metadata": {},
   "outputs": [],
   "source": [
    "ic(round(ft2/gl2*100,3))\n",
    "ic(round(ft3/gl3*100,3))\n",
    "ic(round(pt2/gl2*100,3))\n",
    "ic(round(pt3/gl3*100,3))"
   ]
  },
  {
   "cell_type": "markdown",
   "metadata": {},
   "source": [
    "## Detailed analysis"
   ]
  },
  {
   "cell_type": "code",
   "execution_count": null,
   "metadata": {},
   "outputs": [],
   "source": [
    "dfb = []\n",
    "for season in [2017,2018,2021,2022,2023,2024]:\n",
    "    df1 = get_box(\"P\",\"Base\",False,[season])\n",
    "    df1[\"game_date\"] = pd.to_datetime(df1[\"game_date\"])\n",
    "    df1[\"month\"] = df1[\"game_date\"].dt.month_name()\n",
    "    df1g = df1.groupby(\"month\")\n",
    "    keys = list(df1g.groups)\n",
    "    for key in keys:\n",
    "        df2 = df1g.get_group(key)\n",
    "        gamedays = len(df2[\"game_date\"].unique())\n",
    "        games = len(df2[\"game_id\"].unique())\n",
    "        forty_games = len(df2.query(\"pts >= 40\"))\n",
    "        forty_games_u = len(df2.query(\"pts >= 40\").player_id.unique())\n",
    "        df3 = pd.DataFrame(\n",
    "            {\"season\":df1.season.iloc[0],\"month\":key,\"gamedays\":gamedays,\"games\":games,\n",
    "            \"forty_games\":forty_games,\"forty_games_u\":forty_games_u},index=[0]\n",
    "        )\n",
    "        dfb.append(df3)\n",
    "df4 = pd.concat(dfb)\n",
    "df4 = df4.reset_index(drop=True)\n",
    "months = [\"October\",\"November\",\"December\",\"January\",\"February\",\"March\",\"April\"]\n",
    "df4[\"month\"] = pd.Categorical(df4[\"month\"],categories=months,ordered=True)"
   ]
  },
  {
   "cell_type": "code",
   "execution_count": null,
   "metadata": {},
   "outputs": [],
   "source": [
    "df5 = df4.copy()\n",
    "df5[\"Season\"] = df5[\"season\"].astype(\"category\")\n",
    "df5[\"gs1\"] = df5[\"forty_games\"]/df5[\"gamedays\"]\n",
    "df5[\"gs2\"] = df5[\"forty_games\"]/df5[\"games\"]\n",
    "df5[\"gs1u\"] = df5[\"forty_games_u\"]/df5[\"gamedays\"]\n",
    "df5[\"gs2u\"] = df5[\"forty_games_u\"]/df5[\"games\"]"
   ]
  },
  {
   "cell_type": "code",
   "execution_count": null,
   "metadata": {},
   "outputs": [],
   "source": [
    "p =(\n",
    "    ggplot(df5)\n",
    "    + aes(x=\"month\",y=\"gs2\",group=\"Season\",color=\"Season\")\n",
    "    + geom_line(size=2)\n",
    "    + geom_point(size=2)\n",
    "    + scale_y_continuous(labels=percent_format())\n",
    "    + theme_idv\n",
    "    + theme(\n",
    "        figure_size=(8,4.5)\n",
    "    )\n",
    "    +labs(\n",
    "        title=\"# of 40 Point Games as a % of Games Played\",\n",
    "        x = \"\",\n",
    "        y =\"% of Games\"\n",
    "    )\n",
    "    + pnba\n",
    ")\n",
    "p"
   ]
  },
  {
   "cell_type": "code",
   "execution_count": null,
   "metadata": {},
   "outputs": [],
   "source": [
    "p =(\n",
    "    ggplot(df5)\n",
    "    + aes(x=\"month\",y=\"gs1u\",group=\"Season\",color=\"Season\")\n",
    "    + geom_line(size=2)\n",
    "    + geom_point(size=2)\n",
    "    + scale_y_continuous(labels=percent_format())\n",
    "    + theme_idv\n",
    "    + theme(\n",
    "        figure_size=(8,4.5)\n",
    "    )\n",
    "    +labs(\n",
    "        title=\"# of 40 Point Games as a % of Games Played\",\n",
    "        x = \"\",\n",
    "        y =\"% of Games\"\n",
    "    )\n",
    "    + pnba\n",
    ")\n",
    "p"
   ]
  }
 ],
 "metadata": {
  "kernelspec": {
   "display_name": "dav-ub9Z_EQq-py3.12",
   "language": "python",
   "name": "python3"
  },
  "language_info": {
   "codemirror_mode": {
    "name": "ipython",
    "version": 3
   },
   "file_extension": ".py",
   "mimetype": "text/x-python",
   "name": "python",
   "nbconvert_exporter": "python",
   "pygments_lexer": "ipython3",
   "version": "3.12.0"
  }
 },
 "nbformat": 4,
 "nbformat_minor": 2
}
