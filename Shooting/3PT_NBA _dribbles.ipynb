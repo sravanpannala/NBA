{
 "cells": [
  {
   "cell_type": "markdown",
   "metadata": {},
   "source": [
    "# Import 3PT shooting data using NBA API. \n",
    "## This particular code gets shooting data vs no of dribbles"
   ]
  },
  {
   "cell_type": "code",
   "execution_count": null,
   "metadata": {},
   "outputs": [],
   "source": [
    "import pandas as pd\n",
    "import time\n",
    "from IPython.display import clear_output\n",
    "import itertools\n",
    "import numpy as np\n",
    "from tqdm import tqdm\n",
    "import os, sys\n",
    "sys.path.append(os.path.dirname(os.path.dirname(os.path.abspath(\"__file__\"))))\n",
    "from nbafuns import *"
   ]
  },
  {
   "cell_type": "code",
   "execution_count": null,
   "metadata": {},
   "outputs": [],
   "source": [
    "from nba_api.stats.endpoints import playerdashboardbygeneralsplits as player_fun\n",
    "from nba_api.stats.endpoints import playerdashptshots as player_fun1\n",
    "year = 2020\n",
    "player_dict = get_players(league = 'NBA', from_year = year, to_year = year)\n",
    "player_id = [player['pID'] for player in player_dict]"
   ]
  },
  {
   "cell_type": "code",
   "execution_count": null,
   "metadata": {},
   "outputs": [],
   "source": [
    "response2 = player_fun1.PlayerDashPtShots(team_id = 0,player_id = '2544',season='2019-20').get_data_frames()\n",
    "response = player_fun.PlayerDashboardByGeneralSplits(2544,season=['2017-18','2018-19','2019-20']).get_data_frames()\n"
   ]
  },
  {
   "cell_type": "code",
   "execution_count": null,
   "metadata": {},
   "outputs": [],
   "source": [
    "# data = pd.read_csv(\"players_3PT_FT_filt.csv\")\n",
    "# pID = data[\"pID\"]\n",
    "pID = []\n",
    "Player_Name = []\n",
    "FG3M = []\n",
    "FG3A = []\n",
    "FG3_PCT = []\n",
    "FG3M_0_2 = []\n",
    "FG3A_0_2 = []\n",
    "FG3_PCT_0_2 = []\n",
    "FG3M_2_4 = []\n",
    "FG3A_2_4 = []\n",
    "FG3_PCT_2_4 = []\n",
    "FG3M_4_6 = []\n",
    "FG3A_4_6 = []\n",
    "FG3_PCT_4_6 = []\n",
    "FG3M_6p = []\n",
    "FG3A_6p = []\n",
    "FG3_PCT_6p = []\n",
    "# len(player_id)\n",
    "ii = 0\n",
    "tic = time.perf_counter()\n",
    "for i in tqdm(range(len(player_id))):\n",
    "    time.sleep(0.6)\n",
    "    response = player_fun1.PlayerDashPtShots(team_id = 0,player_id = player_id[i],season=['2020-21']).get_data_frames()[0]\n",
    "    try:\n",
    "        FG3M.append(response['FG3M'][0])\n",
    "        FG3A.append(response['FG3A'][0])\n",
    "        FG3_PCT.append(response['FG3_PCT'][0])\n",
    "    except:\n",
    "        continue\n",
    "    pID.append(player_id[i]) \n",
    "    response2 = player_fun1.PlayerDashPtShots(team_id = 0,player_id = player_id[i],season=['2020-21']).get_data_frames()[4]\n",
    "    try:\n",
    "        FG3M_0_2.append(response2['FG3M'][0])\n",
    "        FG3A_0_2.append(response2['FG3A'][0])\n",
    "        FG3_PCT_0_2.append(response2['FG3_PCT'][0])\n",
    "    except:\n",
    "        FG3M_0_2.append(0)\n",
    "        FG3A_0_2.append(0)\n",
    "        FG3_PCT_0_2.append(0)\n",
    "    try:\n",
    "        FG3M_2_4.append(response2['FG3M'][1])\n",
    "        FG3A_2_4.append(response2['FG3A'][1])\n",
    "        FG3_PCT_2_4.append(response2['FG3_PCT'][1])\n",
    "    except:\n",
    "        FG3M_2_4.append(0)\n",
    "        FG3A_2_4.append(0)\n",
    "        FG3_PCT_2_4.append(0)\n",
    "    try:\n",
    "        FG3M_4_6.append(response2['FG3M'][2])\n",
    "        FG3A_4_6.append(response2['FG3A'][2])\n",
    "        FG3_PCT_4_6.append(response2['FG3_PCT'][2])\n",
    "    except:\n",
    "        FG3M_4_6.append(0)\n",
    "        FG3A_4_6.append(0)\n",
    "        FG3_PCT_4_6.append(0)\n",
    "    try:\n",
    "        FG3M_6p.append(response2['FG3M'][3])\n",
    "        FG3A_6p.append(response2['FG3A'][3])\n",
    "        FG3_PCT_6p.append(response2['FG3_PCT'][3])\n",
    "    except:\n",
    "        FG3M_6p.append(0)\n",
    "        FG3A_6p.append(0)\n",
    "        FG3_PCT_6p.append(0)\n",
    "    Player_Name.append([player['Name'] for player in player_dict if player['pID'] == player_id[i]])\n",
    "    clear_output(wait=True)\n",
    "    # print(i+1)\n",
    "    ii+=1\n",
    "    # print(ii)\n",
    "toc = time.perf_counter()\n",
    "print((toc-tic)/60)"
   ]
  },
  {
   "cell_type": "code",
   "execution_count": null,
   "metadata": {},
   "outputs": [],
   "source": [
    "Player_Name = list(itertools.chain(*Player_Name))\n",
    "dataset = pd.DataFrame({'pID':pID,'Player_Name':Player_Name,\n",
    "'FG3M':FG3M,\n",
    "'FG3A':FG3A,\n",
    "'FG3_PCT':FG3_PCT,\n",
    "'FG3M_0_2':FG3M_0_2,\n",
    "'FG3A_0_2':FG3A_0_2,\n",
    "'FG3_PCT_0_2':FG3_PCT_0_2,\n",
    "'FG3M_2_4':FG3M_2_4,\n",
    "'FG3A_2_4':FG3A_2_4,\n",
    "'FG3_PCT_2_4':FG3_PCT_2_4,\n",
    "'FG3M_4_6':FG3M_4_6,\n",
    "'FG3A_4_6':FG3A_4_6,\n",
    "'FG3_PCT_4_6':FG3_PCT_4_6,\n",
    "'FG3M_6p':FG3M_6p,\n",
    "'FG3A_6p':FG3A_6p,\n",
    "'FG3_PCT_6p':FG3_PCT_6p,\n",
    "\n",
    "})\n",
    "dataset.to_csv ('players_3PT_shooting_distance_2020_21_V2.csv',index=False)\n"
   ]
  },
  {
   "cell_type": "code",
   "execution_count": null,
   "metadata": {},
   "outputs": [],
   "source": [
    "# print(dataset)\n",
    "dataset.iloc[0:3,:]"
   ]
  },
  {
   "cell_type": "code",
   "execution_count": null,
   "metadata": {},
   "outputs": [],
   "source": []
  }
 ],
 "metadata": {
  "interpreter": {
   "hash": "761d0843975b951240ed3f8c006d1f1501cd2a4c66c1dd99cea9ed75b2c1e460"
  },
  "kernelspec": {
   "display_name": "Python 3.9.6 64-bit ('nba-dIF8YUVF-py3.9': poetry)",
   "name": "python3"
  },
  "language_info": {
   "codemirror_mode": {
    "name": "ipython",
    "version": 3
   },
   "file_extension": ".py",
   "mimetype": "text/x-python",
   "name": "python",
   "nbconvert_exporter": "python",
   "pygments_lexer": "ipython3",
   "version": "3.9.6"
  },
  "orig_nbformat": 2
 },
 "nbformat": 4,
 "nbformat_minor": 2
}
