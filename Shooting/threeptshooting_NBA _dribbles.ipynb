{
 "metadata": {
  "language_info": {
   "codemirror_mode": {
    "name": "ipython",
    "version": 3
   },
   "file_extension": ".py",
   "mimetype": "text/x-python",
   "name": "python",
   "nbconvert_exporter": "python",
   "pygments_lexer": "ipython3",
   "version": "3.8.6"
  },
  "orig_nbformat": 2,
  "kernelspec": {
   "name": "nba",
   "display_name": "Python 3.8.6 64-bit ('NBA-LJs_y2gm': pipenv)"
  }
 },
 "nbformat": 4,
 "nbformat_minor": 2,
 "cells": [
  {
   "cell_type": "markdown",
   "source": [
    "# Import 3PT shooting data using NBA API. \r\n",
    "## This particular code gets shooting data vs no of dribbles"
   ],
   "metadata": {}
  },
  {
   "cell_type": "code",
   "execution_count": null,
   "source": [
    "import pandas as pd\r\n",
    "from nba_api.stats.static import teams\r\n",
    "from nba_api.stats.static import players\r\n",
    "import time\r\n",
    "from IPython.display import clear_output\r\n",
    "import numpy as np\r\n",
    "import os, sys\r\n",
    "sys.path.append(os.path.dirname(os.path.dirname(os.path.abspath(\"__file__\"))))\r\n",
    "from nbafuns import *"
   ],
   "outputs": [],
   "metadata": {}
  },
  {
   "cell_type": "code",
   "execution_count": null,
   "source": [
    "from nba_api.stats.endpoints import playerdashboardbygeneralsplits as player_fun\r\n",
    "from nba_api.stats.endpoints import playerdashptshots as player_fun1\r\n",
    "year = 2020\r\n",
    "player_dict = get_players(league = 'NBA', from_year = year, to_year = year)"
   ],
   "outputs": [],
   "metadata": {}
  },
  {
   "cell_type": "code",
   "execution_count": null,
   "source": [
    "response2 = player_fun1.PlayerDashPtShots(team_id = 0,player_id = '2544',season='2019-20').get_data_frames()\r\n",
    "response = player_fun.PlayerDashboardByGeneralSplits(2544,season=['2017-18','2018-19','2019-20']).get_data_frames()\r\n"
   ],
   "outputs": [],
   "metadata": {}
  },
  {
   "cell_type": "code",
   "execution_count": null,
   "source": [
    "# data = pd.read_csv(\"players_3PT_FT_filt.csv\")\r\n",
    "# pID = data[\"pID\"]\r\n",
    "pID = []\r\n",
    "Player_Name = []\r\n",
    "FG3M = []\r\n",
    "FG3A = []\r\n",
    "FG3_PCT = []\r\n",
    "FG3M_0_2 = []\r\n",
    "FG3A_0_2 = []\r\n",
    "FG3_PCT_0_2 = []\r\n",
    "FG3M_2_4 = []\r\n",
    "FG3A_2_4 = []\r\n",
    "FG3_PCT_2_4 = []\r\n",
    "FG3M_4_6 = []\r\n",
    "FG3A_4_6 = []\r\n",
    "FG3_PCT_4_6 = []\r\n",
    "FG3M_6p = []\r\n",
    "FG3A_6p = []\r\n",
    "FG3_PCT_6p = []\r\n",
    "# len(player_id)\r\n",
    "ii = 0\r\n",
    "tic = time.perf_counter()\r\n",
    "for i in range(len(player_id)):\r\n",
    "    time.sleep(0.6)\r\n",
    "    response = player_fun1.PlayerDashPtShots(team_id = 0,player_id = player_id[i],season=['2020-21']).get_data_frames()[0]\r\n",
    "    try:\r\n",
    "        FG3M.append(response['FG3M'][0])\r\n",
    "        FG3A.append(response['FG3A'][0])\r\n",
    "        FG3_PCT.append(response['FG3_PCT'][0])\r\n",
    "    except:\r\n",
    "        continue\r\n",
    "    pID.append(player_id[i]) \r\n",
    "    response2 = player_fun1.PlayerDashPtShots(team_id = 0,player_id = player_id[i],season=['2020-21']).get_data_frames()[4]\r\n",
    "    try:\r\n",
    "        FG3M_0_2.append(response2['FG3M'][0])\r\n",
    "        FG3A_0_2.append(response2['FG3A'][0])\r\n",
    "        FG3_PCT_0_2.append(response2['FG3_PCT'][0])\r\n",
    "    except:\r\n",
    "        FG3M_0_2.append(0)\r\n",
    "        FG3A_0_2.append(0)\r\n",
    "        FG3_PCT_0_2.append(0)\r\n",
    "    try:\r\n",
    "        FG3M_2_4.append(response2['FG3M'][1])\r\n",
    "        FG3A_2_4.append(response2['FG3A'][1])\r\n",
    "        FG3_PCT_2_4.append(response2['FG3_PCT'][1])\r\n",
    "    except:\r\n",
    "        FG3M_2_4.append(0)\r\n",
    "        FG3A_2_4.append(0)\r\n",
    "        FG3_PCT_2_4.append(0)\r\n",
    "    try:\r\n",
    "        FG3M_4_6.append(response2['FG3M'][2])\r\n",
    "        FG3A_4_6.append(response2['FG3A'][2])\r\n",
    "        FG3_PCT_4_6.append(response2['FG3_PCT'][2])\r\n",
    "    except:\r\n",
    "        FG3M_4_6.append(0)\r\n",
    "        FG3A_4_6.append(0)\r\n",
    "        FG3_PCT_4_6.append(0)\r\n",
    "    try:\r\n",
    "        FG3M_6p.append(response2['FG3M'][3])\r\n",
    "        FG3A_6p.append(response2['FG3A'][3])\r\n",
    "        FG3_PCT_6p.append(response2['FG3_PCT'][3])\r\n",
    "    except:\r\n",
    "        FG3M_6p.append(0)\r\n",
    "        FG3A_6p.append(0)\r\n",
    "        FG3_PCT_6p.append(0)\r\n",
    "    Player_Name.append([player['Name'] for player in player_dict if player['pID'] == player_id[i]])\r\n",
    "    clear_output(wait=True)\r\n",
    "    print(i+1)\r\n",
    "    ii+=1\r\n",
    "    print(ii)\r\n",
    "toc = time.perf_counter()\r\n",
    "print((toc-tic)/60)"
   ],
   "outputs": [],
   "metadata": {}
  },
  {
   "cell_type": "code",
   "execution_count": null,
   "source": [
    "dataset = pd.DataFrame({'pID':pID,'Player_Name':Player_Name,\r\n",
    "'FG3M':FG3M,\r\n",
    "'FG3A':FG3A,\r\n",
    "'FG3_PCT':FG3_PCT,\r\n",
    "'FG3M_0_2':FG3M_0_2,\r\n",
    "'FG3A_0_2':FG3A_0_2,\r\n",
    "'FG3_PCT_0_2':FG3_PCT_0_2,\r\n",
    "'FG3M_2_4':FG3M_2_4,\r\n",
    "'FG3A_2_4':FG3A_2_4,\r\n",
    "'FG3_PCT_2_4':FG3_PCT_2_4,\r\n",
    "'FG3M_4_6':FG3M_4_6,\r\n",
    "'FG3A_4_6':FG3A_4_6,\r\n",
    "'FG3_PCT_4_6':FG3_PCT_4_6,\r\n",
    "'FG3M_6p':FG3M_6p,\r\n",
    "'FG3A_6p':FG3A_6p,\r\n",
    "'FG3_PCT_6p':FG3_PCT_6p,\r\n",
    "\r\n",
    "})\r\n",
    "dataset.to_csv ('players_3PT_shooting_distance_2020_21_V2.csv',index=False)\r\n"
   ],
   "outputs": [],
   "metadata": {}
  },
  {
   "cell_type": "code",
   "execution_count": null,
   "source": [
    "# print(dataset)\r\n",
    "dataset.iloc[0:3,:]"
   ],
   "outputs": [],
   "metadata": {}
  },
  {
   "cell_type": "code",
   "execution_count": null,
   "source": [],
   "outputs": [],
   "metadata": {}
  }
 ]
}