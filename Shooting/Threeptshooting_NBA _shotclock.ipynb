{
 "metadata": {
  "language_info": {
   "codemirror_mode": {
    "name": "ipython",
    "version": 3
   },
   "file_extension": ".py",
   "mimetype": "text/x-python",
   "name": "python",
   "nbconvert_exporter": "python",
   "pygments_lexer": "ipython3",
   "version": "3.8.6"
  },
  "orig_nbformat": 2,
  "kernelspec": {
   "name": "nba",
   "display_name": "Python 3.8.6 64-bit ('NBA-LJs_y2gm': pipenv)"
  }
 },
 "nbformat": 4,
 "nbformat_minor": 2,
 "cells": [
  {
   "cell_type": "markdown",
   "source": [
    "# NBA 3PT shooting vs Time remaining in Shotclock"
   ],
   "metadata": {}
  },
  {
   "cell_type": "code",
   "execution_count": 1,
   "source": [
    "import pandas as pd\r\n",
    "import numpy as np\r\n",
    "import time\r\n",
    "import datetime\r\n",
    "from IPython.display import clear_output\r\n",
    "from collections import Counter\r\n",
    "from functools import reduce\r\n",
    "import itertools\r\n",
    "from nba_api.stats.static import teams\r\n",
    "from pbpstats.client import Client\r\n",
    "import os, sys\r\n",
    "sys.path.append(os.path.dirname(os.path.dirname(os.path.abspath(\"__file__\"))))\r\n",
    "from nbafuns import *"
   ],
   "outputs": [],
   "metadata": {}
  },
  {
   "cell_type": "code",
   "execution_count": 2,
   "source": [
    "from nba_api.stats.endpoints import playerdashboardbygeneralsplits as player_fun\r\n",
    "from nba_api.stats.endpoints import playerdashptshots as player_fun1\r\n",
    "year = 2020\r\n",
    "player_dict = get_players(league = 'NBA', from_year = year, to_year = year)"
   ],
   "outputs": [],
   "metadata": {}
  },
  {
   "cell_type": "code",
   "execution_count": null,
   "source": [
    "response2 = player_fun1.PlayerDashPtShots(team_id = 0,player_id = '2544',season='2019-20').get_data_frames()\r\n",
    "response = player_fun.PlayerDashboardByGeneralSplits(2544,season=['2017-18','2018-19','2019-20']).get_data_frames()\r\n"
   ],
   "outputs": [],
   "metadata": {}
  },
  {
   "cell_type": "code",
   "execution_count": null,
   "source": [
    "response2[2]['SHOT_CLOCK_RANGE']"
   ],
   "outputs": [],
   "metadata": {}
  },
  {
   "cell_type": "code",
   "execution_count": null,
   "source": [
    "# data = pd.read_csv(\"players_3PT_FT_filt.csv\")\r\n",
    "# pID = data[\"pID\"]\r\n",
    "pID = []\r\n",
    "Player_Name = []\r\n",
    "FGM_24_22, FGA_24_22 = [],[]\r\n",
    "FGM_22_18, FGA_22_18 = [],[]\r\n",
    "FGM_18_15, FGA_18_15 = [],[]\r\n",
    "FGM_15_7,  FGA_15_7 = [],[]\r\n",
    "FGM_7_4,   FGA_7_4 = [],[]\r\n",
    "FGM_4_0,   FGA_4_0 = [],[]\r\n",
    "FG3M_24_22, FG3A_24_22 = [],[]\r\n",
    "FG3M_22_18, FG3A_22_18 = [],[]\r\n",
    "FG3M_18_15, FG3A_18_15 = [],[]\r\n",
    "FG3M_15_7,  FG3A_15_7 = [],[]\r\n",
    "FG3M_7_4,   FG3A_7_4 = [],[]\r\n",
    "FG3M_4_0,   FG3A_4_0 = [],[]\r\n",
    "# len(player_id)\r\n",
    "ii = 0\r\n",
    "tic = time.perf_counter()\r\n",
    "for i in range(len(player_id)):\r\n",
    "    time.sleep(0.6)\r\n",
    "    pID.append(player_id[i]) \r\n",
    "    response = player_fun1.PlayerDashPtShots(team_id = 0,player_id = player_id[i],season=['2020-21']).get_data_frames()[2]\r\n",
    "    response1 = response[response['SHOT_CLOCK_RANGE']=='24-22']\r\n",
    "    response2 = response[response['SHOT_CLOCK_RANGE']=='22-18 Very Early']\r\n",
    "    response3 = response[response['SHOT_CLOCK_RANGE']=='18-15 Early']\r\n",
    "    response4 = response[response['SHOT_CLOCK_RANGE']=='15-7 Average']\r\n",
    "    response5 = response[response['SHOT_CLOCK_RANGE']=='7-4 Late']\r\n",
    "    response6 = response[response['SHOT_CLOCK_RANGE']=='4-0 Very Late']\r\n",
    "    response1 = response1.reset_index(drop=True)\r\n",
    "    response2 = response2.reset_index(drop=True)\r\n",
    "    response3 = response3.reset_index(drop=True)\r\n",
    "    response4 = response4.reset_index(drop=True)\r\n",
    "    response5 = response5.reset_index(drop=True)\r\n",
    "    response6 = response6.reset_index(drop=True)\r\n",
    "    try:\r\n",
    "        FGM_24_22.append(response1['FGM'][0])\r\n",
    "        FGA_24_22.append(response1['FGA'][0])\r\n",
    "        FG3M_24_22.append(response1['FG3M'][0])\r\n",
    "        FG3A_24_22.append(response1['FG3A'][0])\r\n",
    "    except:\r\n",
    "        FGM_24_22.append(0)\r\n",
    "        FGA_24_22.append(0)\r\n",
    "        FG3M_24_22.append(0)\r\n",
    "        FG3A_24_22.append(0)\r\n",
    "    try:\r\n",
    "        FGM_22_18.append(response2['FGM'][0])\r\n",
    "        FGA_22_18.append(response2['FGA'][0])\r\n",
    "        FG3M_22_18.append(response2['FG3M'][0])\r\n",
    "        FG3A_22_18.append(response2['FG3A'][0])\r\n",
    "    except:\r\n",
    "        FGM_22_18.append(0)\r\n",
    "        FGA_22_18.append(0)\r\n",
    "        FG3M_22_18.append(0)\r\n",
    "        FG3A_22_18.append(0)\r\n",
    "    try:\r\n",
    "        FGM_18_15.append(response3['FGM'][0])\r\n",
    "        FGA_18_15.append(response3['FGA'][0])\r\n",
    "        FG3M_18_15.append(response3['FG3M'][0])\r\n",
    "        FG3A_18_15.append(response3['FG3A'][0])\r\n",
    "    except:\r\n",
    "        FGM_18_15.append(0)\r\n",
    "        FGA_18_15.append(0)\r\n",
    "        FG3M_18_15.append(0)\r\n",
    "        FG3A_18_15.append(0)\r\n",
    "    try: \r\n",
    "        FGM_15_7.append(response4['FGM'][0])\r\n",
    "        FGA_15_7.append(response4['FGA'][0])\r\n",
    "        FG3M_15_7.append(response4['FG3M'][0])\r\n",
    "        FG3A_15_7.append(response4['FG3A'][0])\r\n",
    "    except: \r\n",
    "        FGM_15_7.append(0)\r\n",
    "        FGA_15_7.append(0)\r\n",
    "        FG3M_15_7.append(0)\r\n",
    "        FG3A_15_7.append(0)\r\n",
    "    try:\r\n",
    "        FGM_7_4.append(response5['FGM'][0])\r\n",
    "        FGA_7_4.append(response5['FGA'][0])\r\n",
    "        FG3M_7_4.append(response5['FG3M'][0])\r\n",
    "        FG3A_7_4.append(response5['FG3A'][0])\r\n",
    "    except:\r\n",
    "        FGM_7_4.append(0)\r\n",
    "        FGA_7_4.append(0)\r\n",
    "        FG3M_7_4.append(0)\r\n",
    "        FG3A_7_4.append(0)\r\n",
    "    try: \r\n",
    "        FGM_4_0.append(response6['FGM'][0])\r\n",
    "        FGA_4_0.append(response6['FGA'][0])\r\n",
    "        FG3M_4_0.append(response6['FG3M'][0])\r\n",
    "        FG3A_4_0.append(response6['FG3A'][0])\r\n",
    "    except: \r\n",
    "        FGM_4_0.append(0)\r\n",
    "        FGA_4_0.append(0)\r\n",
    "        FG3M_4_0.append(0)\r\n",
    "        FG3A_4_0.append(0)\r\n",
    "\r\n",
    "    Player_Name.append([player['Name'] for player in player_dict if player['pID'] == player_id[i]])\r\n",
    "    clear_output(wait=True)\r\n",
    "    print(i+1)\r\n",
    "    ii+=1\r\n",
    "    print(ii)\r\n",
    "toc = time.perf_counter()\r\n",
    "print((toc-tic)/60)"
   ],
   "outputs": [],
   "metadata": {}
  },
  {
   "cell_type": "code",
   "execution_count": null,
   "source": [
    "Player_Name = list(itertools.chain(*Player_Name))\r\n",
    "dataset = pd.DataFrame({'pID':pID,'Player_Name':Player_Name,\r\n",
    "'FGM_24_22': FGM_24_22, 'FGA_24_22': FGA_24_22, \r\n",
    "'FGM_22_18': FGM_22_18, 'FGA_22_18': FGA_22_18,\r\n",
    "'FGM_18_15': FGM_18_15, 'FGA_18_15': FGA_18_15,\r\n",
    "'FGM_15_7': FGM_15_7,  'FGA_15_7': FGA_15_7,\r\n",
    "'FGM_7_4': FGM_7_4,   'FGA_7_4': FGA_7_4,\r\n",
    "'FGM_4_0': FGM_4_0,   'FGA_4_0': FGA_4_0,\r\n",
    "'FG3M_24_22': FG3M_24_22, 'FG3A_24_22': FG3A_24_22,\r\n",
    "'FG3M_22_18': FG3M_22_18, 'FG3A_22_18': FG3A_22_18,\r\n",
    "'FG3M_18_15': FG3M_18_15, 'FG3A_18_15': FG3A_18_15,\r\n",
    "'FG3M_15_7': FG3M_15_7,  'FG3A_15_7': FG3A_15_7,\r\n",
    "'FG3M_7_4': FG3M_7_4,   'FG3A_7_4': FG3A_7_4,\r\n",
    "'FG3M_4_0': FG3M_4_0,   'FG3A_4_0': FG3A_4_0,\r\n",
    "\r\n",
    "})\r\n",
    "dataset.to_csv ('players_shooting_shotclock_2020_21.csv',index=False)\r\n"
   ],
   "outputs": [],
   "metadata": {}
  },
  {
   "cell_type": "code",
   "execution_count": null,
   "source": [
    "# print(dataset)\r\n",
    "dataset.iloc[0:3,:]"
   ],
   "outputs": [],
   "metadata": {}
  },
  {
   "cell_type": "code",
   "execution_count": null,
   "source": [],
   "outputs": [],
   "metadata": {}
  }
 ]
}