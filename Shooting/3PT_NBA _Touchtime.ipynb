{
 "metadata": {
  "language_info": {
   "codemirror_mode": {
    "name": "ipython",
    "version": 3
   },
   "file_extension": ".py",
   "mimetype": "text/x-python",
   "name": "python",
   "nbconvert_exporter": "python",
   "pygments_lexer": "ipython3",
   "version": "3.9.5"
  },
  "orig_nbformat": 2,
  "kernelspec": {
   "name": "python3",
   "display_name": "Python 3.9.5 64-bit ('NBA-O70mvEYv': pipenv)"
  },
  "interpreter": {
   "hash": "db2ffdd2fa3280b0b06d6e60ebb32d8dd74e69e88849db114a808c9d7fbf6c89"
  }
 },
 "nbformat": 4,
 "nbformat_minor": 2,
 "cells": [
  {
   "cell_type": "markdown",
   "source": [
    "# NBA 3PT shooting data vs touch time"
   ],
   "metadata": {}
  },
  {
   "cell_type": "code",
   "execution_count": null,
   "source": [
    "import pandas as pd\r\n",
    "import time\r\n",
    "from IPython.display import clear_output\r\n",
    "import itertools\r\n",
    "import numpy as np\r\n",
    "import os, sys\r\n",
    "sys.path.append(os.path.dirname(os.path.dirname(os.path.abspath(\"__file__\"))))\r\n",
    "from nbafuns import *"
   ],
   "outputs": [],
   "metadata": {}
  },
  {
   "cell_type": "code",
   "execution_count": null,
   "source": [
    "from nba_api.stats.endpoints import playerdashboardbygeneralsplits as player_fun\r\n",
    "from nba_api.stats.endpoints import playerdashptshots as player_fun1\r\n",
    "\r\n",
    "year = 2020\r\n",
    "player_dict = get_players(league = 'NBA', from_year = year, to_year = year)\r\n",
    "player_id = [player['pID'] for player in player_dict]"
   ],
   "outputs": [],
   "metadata": {}
  },
  {
   "cell_type": "code",
   "execution_count": null,
   "source": [
    "response2 = player_fun1.PlayerDashPtShots(team_id = 0,player_id = '2544',season='2019-20').get_data_frames()\r\n",
    "response = player_fun.PlayerDashboardByGeneralSplits(player_id[245],season=['2017-18','2018-19','2019-20']).get_data_frames()"
   ],
   "outputs": [],
   "metadata": {}
  },
  {
   "cell_type": "code",
   "execution_count": null,
   "source": [
    "response2[6]"
   ],
   "outputs": [],
   "metadata": {}
  },
  {
   "cell_type": "code",
   "execution_count": null,
   "source": [
    "# data = pd.read_csv(\"players_3PT_FT_filt.csv\")\r\n",
    "# pID = data[\"pID\"]\r\n",
    "pID = []\r\n",
    "Player_Name = []\r\n",
    "\r\n",
    "FGM_0_2,    FGA_0_2 = [],[]\r\n",
    "FGM_2_6,    FGA_2_6 = [],[]\r\n",
    "FGM_6_p,    FGA_6_p = [],[]\r\n",
    "FG3M_0_2,   FG3A_0_2 = [],[]\r\n",
    "FG3M_2_6,   FG3A_2_6 = [],[]\r\n",
    "FG3M_6_p,   FG3A_6_p = [],[]\r\n",
    "# len(player_id)\r\n",
    "ii = 0\r\n",
    "tic = time.perf_counter()\r\n",
    "for i in range(len(player_id)):\r\n",
    "    time.sleep(0.6)\r\n",
    "    pID.append(player_id[i]) \r\n",
    "    response = player_fun1.PlayerDashPtShots(team_id = 0,player_id = player_id[i],season=['2020-21']).get_data_frames()[6]\r\n",
    "    response1 = response[response['TOUCH_TIME_RANGE']=='Touch < 2 Seconds']\r\n",
    "    response2 = response[response['TOUCH_TIME_RANGE']=='Touch 2-6 Seconds']\r\n",
    "    response3 = response[response['TOUCH_TIME_RANGE']=='Touch 6+ Seconds']\r\n",
    "    response1 = response1.reset_index(drop=True)\r\n",
    "    response2 = response2.reset_index(drop=True)\r\n",
    "    response3 = response3.reset_index(drop=True)\r\n",
    "    try:\r\n",
    "        FGM_0_2.append(response1['FGM'][0])\r\n",
    "        FGA_0_2.append(response1['FGA'][0])\r\n",
    "        FG3M_0_2.append(response1['FG3M'][0])\r\n",
    "        FG3A_0_2.append(response1['FG3A'][0])\r\n",
    "    except:\r\n",
    "        FGM_0_2.append(0)\r\n",
    "        FGA_0_2.append(0)\r\n",
    "        FG3M_0_2.append(0)\r\n",
    "        FG3A_0_2.append(0)\r\n",
    "    try:\r\n",
    "        FGM_2_6.append(response2['FGM'][0])\r\n",
    "        FGA_2_6.append(response2['FGA'][0])\r\n",
    "        FG3M_2_6.append(response2['FG3M'][0])\r\n",
    "        FG3A_2_6.append(response2['FG3A'][0])\r\n",
    "    except:\r\n",
    "        FGM_2_6.append(0)\r\n",
    "        FGA_2_6.append(0)\r\n",
    "        FG3M_2_6.append(0)\r\n",
    "        FG3A_2_6.append(0)\r\n",
    "    try:\r\n",
    "        FGM_6_p.append(response3['FGM'][0])\r\n",
    "        FGA_6_p.append(response3['FGA'][0])\r\n",
    "        FG3M_6_p.append(response3['FG3M'][0])\r\n",
    "        FG3A_6_p.append(response3['FG3A'][0])\r\n",
    "    except:\r\n",
    "        FGM_6_p.append(0)\r\n",
    "        FGA_6_p.append(0)\r\n",
    "        FG3M_6_p.append(0)\r\n",
    "        FG3A_6_p.append(0)\r\n",
    "    Player_Name.append([player['Name'] for player in player_dict if player['pID'] == player_id[i]])\r\n",
    "    clear_output(wait=True)\r\n",
    "    print(i+1)\r\n",
    "    ii+=1\r\n",
    "    print(ii)\r\n",
    "toc = time.perf_counter()\r\n",
    "print((toc-tic)/60)"
   ],
   "outputs": [],
   "metadata": {}
  },
  {
   "cell_type": "code",
   "execution_count": null,
   "source": [
    "Player_Name = list(itertools.chain(*Player_Name))\r\n",
    "dataset = pd.DataFrame({'pID':pID,'Player_Name':Player_Name,\r\n",
    "'FGM_0_2': FGM_0_2, 'FGA_0_2': FGA_0_2, \r\n",
    "'FGM_2_6': FGM_2_6, 'FGA_2_6': FGA_2_6,\r\n",
    "'FGM_6_p': FGM_6_p, 'FGA_6_p': FGA_6_p,\r\n",
    "'FG3M_0_2': FG3M_0_2, 'FG3A_0_2': FG3A_0_2,\r\n",
    "'FG3M_2_6': FG3M_2_6, 'FG3A_2_6': FG3A_2_6,\r\n",
    "'FG3M_6_p': FG3M_6_p, 'FG3A_6_p': FG3A_6_p\r\n",
    "})\r\n",
    "dataset.to_csv ('players_shooting_touchtime_2020_21.csv',index=False)\r\n"
   ],
   "outputs": [],
   "metadata": {}
  },
  {
   "cell_type": "code",
   "execution_count": null,
   "source": [
    "# print(dataset)\r\n",
    "dataset.iloc[0:3,:]"
   ],
   "outputs": [],
   "metadata": {}
  },
  {
   "cell_type": "code",
   "execution_count": null,
   "source": [],
   "outputs": [],
   "metadata": {}
  }
 ]
}