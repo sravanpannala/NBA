{
 "cells": [
  {
   "cell_type": "markdown",
   "metadata": {},
   "source": [
    "# NBA 3PT shooting vs Time remaining in Shotclock"
   ]
  },
  {
   "cell_type": "code",
   "execution_count": null,
   "metadata": {},
   "outputs": [],
   "source": [
    "import pandas as pd\n",
    "import time\n",
    "from IPython.display import clear_output\n",
    "import itertools\n",
    "import numpy as np\n",
    "from tqdm import tqdm\n",
    "import os, sys\n",
    "sys.path.append(os.path.dirname(os.path.dirname(os.path.abspath(\"__file__\"))))\n",
    "from nbafuns import *"
   ]
  },
  {
   "cell_type": "code",
   "execution_count": null,
   "metadata": {},
   "outputs": [],
   "source": [
    "from nba_api.stats.endpoints import playerdashboardbygeneralsplits as player_fun\n",
    "from nba_api.stats.endpoints import playerdashptshots as player_fun1\n",
    "year = 2020\n",
    "player_dict = get_players(league = 'NBA', from_year = year, to_year = year)\n",
    "player_id = [player['pID'] for player in player_dict]"
   ]
  },
  {
   "cell_type": "code",
   "execution_count": null,
   "metadata": {},
   "outputs": [],
   "source": [
    "response2 = player_fun1.PlayerDashPtShots(team_id = 0,player_id = '2544',season='2019-20').get_data_frames()\n",
    "response = player_fun.PlayerDashboardByGeneralSplits(2544,season=['2017-18','2018-19','2019-20']).get_data_frames()\n"
   ]
  },
  {
   "cell_type": "code",
   "execution_count": null,
   "metadata": {},
   "outputs": [],
   "source": [
    "response2[2]['SHOT_CLOCK_RANGE']"
   ]
  },
  {
   "cell_type": "code",
   "execution_count": null,
   "metadata": {},
   "outputs": [],
   "source": [
    "# data = pd.read_csv(\"players_3PT_FT_filt.csv\")\n",
    "# pID = data[\"pID\"]\n",
    "pID = []\n",
    "Player_Name = []\n",
    "FGM_24_22, FGA_24_22 = [],[]\n",
    "FGM_22_18, FGA_22_18 = [],[]\n",
    "FGM_18_15, FGA_18_15 = [],[]\n",
    "FGM_15_7,  FGA_15_7 = [],[]\n",
    "FGM_7_4,   FGA_7_4 = [],[]\n",
    "FGM_4_0,   FGA_4_0 = [],[]\n",
    "FG3M_24_22, FG3A_24_22 = [],[]\n",
    "FG3M_22_18, FG3A_22_18 = [],[]\n",
    "FG3M_18_15, FG3A_18_15 = [],[]\n",
    "FG3M_15_7,  FG3A_15_7 = [],[]\n",
    "FG3M_7_4,   FG3A_7_4 = [],[]\n",
    "FG3M_4_0,   FG3A_4_0 = [],[]\n",
    "# len(player_id)\n",
    "ii = 0\n",
    "tic = time.perf_counter()\n",
    "for i in tqdm(range(len(player_id))):\n",
    "    time.sleep(0.6)\n",
    "    pID.append(player_id[i]) \n",
    "    response = player_fun1.PlayerDashPtShots(team_id = 0,player_id = player_id[i],season=['2020-21']).get_data_frames()[2]\n",
    "    response1 = response[response['SHOT_CLOCK_RANGE']=='24-22']\n",
    "    response2 = response[response['SHOT_CLOCK_RANGE']=='22-18 Very Early']\n",
    "    response3 = response[response['SHOT_CLOCK_RANGE']=='18-15 Early']\n",
    "    response4 = response[response['SHOT_CLOCK_RANGE']=='15-7 Average']\n",
    "    response5 = response[response['SHOT_CLOCK_RANGE']=='7-4 Late']\n",
    "    response6 = response[response['SHOT_CLOCK_RANGE']=='4-0 Very Late']\n",
    "    response1 = response1.reset_index(drop=True)\n",
    "    response2 = response2.reset_index(drop=True)\n",
    "    response3 = response3.reset_index(drop=True)\n",
    "    response4 = response4.reset_index(drop=True)\n",
    "    response5 = response5.reset_index(drop=True)\n",
    "    response6 = response6.reset_index(drop=True)\n",
    "    try:\n",
    "        FGM_24_22.append(response1['FGM'][0])\n",
    "        FGA_24_22.append(response1['FGA'][0])\n",
    "        FG3M_24_22.append(response1['FG3M'][0])\n",
    "        FG3A_24_22.append(response1['FG3A'][0])\n",
    "    except:\n",
    "        FGM_24_22.append(0)\n",
    "        FGA_24_22.append(0)\n",
    "        FG3M_24_22.append(0)\n",
    "        FG3A_24_22.append(0)\n",
    "    try:\n",
    "        FGM_22_18.append(response2['FGM'][0])\n",
    "        FGA_22_18.append(response2['FGA'][0])\n",
    "        FG3M_22_18.append(response2['FG3M'][0])\n",
    "        FG3A_22_18.append(response2['FG3A'][0])\n",
    "    except:\n",
    "        FGM_22_18.append(0)\n",
    "        FGA_22_18.append(0)\n",
    "        FG3M_22_18.append(0)\n",
    "        FG3A_22_18.append(0)\n",
    "    try:\n",
    "        FGM_18_15.append(response3['FGM'][0])\n",
    "        FGA_18_15.append(response3['FGA'][0])\n",
    "        FG3M_18_15.append(response3['FG3M'][0])\n",
    "        FG3A_18_15.append(response3['FG3A'][0])\n",
    "    except:\n",
    "        FGM_18_15.append(0)\n",
    "        FGA_18_15.append(0)\n",
    "        FG3M_18_15.append(0)\n",
    "        FG3A_18_15.append(0)\n",
    "    try: \n",
    "        FGM_15_7.append(response4['FGM'][0])\n",
    "        FGA_15_7.append(response4['FGA'][0])\n",
    "        FG3M_15_7.append(response4['FG3M'][0])\n",
    "        FG3A_15_7.append(response4['FG3A'][0])\n",
    "    except: \n",
    "        FGM_15_7.append(0)\n",
    "        FGA_15_7.append(0)\n",
    "        FG3M_15_7.append(0)\n",
    "        FG3A_15_7.append(0)\n",
    "    try:\n",
    "        FGM_7_4.append(response5['FGM'][0])\n",
    "        FGA_7_4.append(response5['FGA'][0])\n",
    "        FG3M_7_4.append(response5['FG3M'][0])\n",
    "        FG3A_7_4.append(response5['FG3A'][0])\n",
    "    except:\n",
    "        FGM_7_4.append(0)\n",
    "        FGA_7_4.append(0)\n",
    "        FG3M_7_4.append(0)\n",
    "        FG3A_7_4.append(0)\n",
    "    try: \n",
    "        FGM_4_0.append(response6['FGM'][0])\n",
    "        FGA_4_0.append(response6['FGA'][0])\n",
    "        FG3M_4_0.append(response6['FG3M'][0])\n",
    "        FG3A_4_0.append(response6['FG3A'][0])\n",
    "    except: \n",
    "        FGM_4_0.append(0)\n",
    "        FGA_4_0.append(0)\n",
    "        FG3M_4_0.append(0)\n",
    "        FG3A_4_0.append(0)\n",
    "\n",
    "    Player_Name.append([player['Name'] for player in player_dict if player['pID'] == player_id[i]])\n",
    "    clear_output(wait=True)\n",
    "    # print(i+1)\n",
    "    ii+=1\n",
    "    # print(ii)\n",
    "toc = time.perf_counter()\n",
    "print((toc-tic)/60)"
   ]
  },
  {
   "cell_type": "code",
   "execution_count": null,
   "metadata": {},
   "outputs": [],
   "source": [
    "Player_Name = list(itertools.chain(*Player_Name))\n",
    "dataset = pd.DataFrame({'pID':pID,'Player_Name':Player_Name,\n",
    "'FGM_24_22': FGM_24_22, 'FGA_24_22': FGA_24_22, \n",
    "'FGM_22_18': FGM_22_18, 'FGA_22_18': FGA_22_18,\n",
    "'FGM_18_15': FGM_18_15, 'FGA_18_15': FGA_18_15,\n",
    "'FGM_15_7': FGM_15_7,  'FGA_15_7': FGA_15_7,\n",
    "'FGM_7_4': FGM_7_4,   'FGA_7_4': FGA_7_4,\n",
    "'FGM_4_0': FGM_4_0,   'FGA_4_0': FGA_4_0,\n",
    "'FG3M_24_22': FG3M_24_22, 'FG3A_24_22': FG3A_24_22,\n",
    "'FG3M_22_18': FG3M_22_18, 'FG3A_22_18': FG3A_22_18,\n",
    "'FG3M_18_15': FG3M_18_15, 'FG3A_18_15': FG3A_18_15,\n",
    "'FG3M_15_7': FG3M_15_7,  'FG3A_15_7': FG3A_15_7,\n",
    "'FG3M_7_4': FG3M_7_4,   'FG3A_7_4': FG3A_7_4,\n",
    "'FG3M_4_0': FG3M_4_0,   'FG3A_4_0': FG3A_4_0,\n",
    "\n",
    "})\n",
    "dataset.to_csv ('players_shooting_shotclock_2020_21.csv',index=False)\n"
   ]
  },
  {
   "cell_type": "code",
   "execution_count": null,
   "metadata": {},
   "outputs": [],
   "source": [
    "# print(dataset)\n",
    "dataset.iloc[0:3,:]"
   ]
  },
  {
   "cell_type": "code",
   "execution_count": null,
   "metadata": {},
   "outputs": [],
   "source": []
  }
 ],
 "metadata": {
  "kernelspec": {
   "display_name": "Python 3.8.6 64-bit ('NBA-LJs_y2gm': pipenv)",
   "name": "nba"
  },
  "language_info": {
   "codemirror_mode": {
    "name": "ipython",
    "version": 3
   },
   "file_extension": ".py",
   "mimetype": "text/x-python",
   "name": "python",
   "nbconvert_exporter": "python",
   "pygments_lexer": "ipython3",
   "version": "3.8.6"
  },
  "orig_nbformat": 2
 },
 "nbformat": 4,
 "nbformat_minor": 2
}
