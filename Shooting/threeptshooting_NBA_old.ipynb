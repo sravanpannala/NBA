{
 "metadata": {
  "language_info": {
   "codemirror_mode": {
    "name": "ipython",
    "version": 3
   },
   "file_extension": ".py",
   "mimetype": "text/x-python",
   "name": "python",
   "nbconvert_exporter": "python",
   "pygments_lexer": "ipython3",
   "version": "3.8.6"
  },
  "orig_nbformat": 2,
  "kernelspec": {
   "name": "nba",
   "display_name": "Python 3.8.6 64-bit ('NBA-LJs_y2gm': pipenv)"
  }
 },
 "nbformat": 4,
 "nbformat_minor": 2,
 "cells": [
  {
   "cell_type": "markdown",
   "source": [
    "# Old Code to get 3PT Shooting Data \r\n",
    "## Depreciated Code: Use other files. This file handles data in dictionary instead of dataframes"
   ],
   "metadata": {}
  },
  {
   "cell_type": "code",
   "execution_count": null,
   "source": [
    "import pandas as pd\r\n",
    "from nba_api.stats.static import teams\r\n",
    "from nba_api.stats.static import players\r\n",
    "import json\r\n",
    "import time\r\n",
    "from IPython.display import clear_output\r\n",
    "import numpy as np\r\n",
    "import matplotlib.pyplot as plt"
   ],
   "outputs": [],
   "metadata": {}
  },
  {
   "cell_type": "code",
   "execution_count": null,
   "source": [
    "team_dict = teams.get_teams() # Creating Team Dictionary\r\n",
    "player_dict = players.get_players() # Creating Player Dictionary\r\n",
    "# Get team ID\r\n",
    "team_id = [x['id'] for x in team_dict ]\r\n",
    "player_id = [player['id'] for player in player_dict if player['is_active'] == True]\r\n",
    "name = \"\"\r\n",
    "name.join([player['full_name'] for player in player_dict if player['id'] == player_id[245]])"
   ],
   "outputs": [],
   "metadata": {}
  },
  {
   "cell_type": "code",
   "execution_count": null,
   "source": [
    "[player['full_name'] for player in player_dict if player['id'] == player_id[245]]"
   ],
   "outputs": [],
   "metadata": {}
  },
  {
   "cell_type": "code",
   "execution_count": null,
   "source": [
    "player_dict[0]"
   ],
   "outputs": [],
   "metadata": {}
  },
  {
   "cell_type": "code",
   "execution_count": null,
   "source": [
    "for player in player_dict:\r\n",
    "    print(player)"
   ],
   "outputs": [],
   "metadata": {
    "tags": [
     "outputPrepend"
    ]
   }
  },
  {
   "cell_type": "code",
   "execution_count": null,
   "source": [
    "from nba_api.stats.endpoints import playerdashboardbygeneralsplits as player_fun\r\n",
    "from nba_api.stats.endpoints import playerdashptshots as player_fun1"
   ],
   "outputs": [],
   "metadata": {}
  },
  {
   "cell_type": "code",
   "execution_count": null,
   "source": [
    "response2 = player_fun1.PlayerDashPtShots(team_id = 0,player_id = '2544',season='2019-20').get_dict()\r\n",
    "response3 = response2['resultSets'][1]['rowSet']\r\n",
    "response4 = response2['resultSets'][4]['rowSet']\r\n",
    "response = player_fun.PlayerDashboardByGeneralSplits(player_id[245],season=['2017-18','2018-19','2019-20']).get_dict()\r\n"
   ],
   "outputs": [],
   "metadata": {}
  },
  {
   "cell_type": "code",
   "execution_count": null,
   "source": [
    "var_list = response['resultSets'][0]['headers']\r\n",
    "\r\n",
    "var_list"
   ],
   "outputs": [],
   "metadata": {}
  },
  {
   "cell_type": "code",
   "execution_count": null,
   "source": [
    "# data = pd.read_csv(\"players_3PT_FT_filt.csv\")\r\n",
    "# pID = data[\"pID\"]\r\n",
    "pID = []\r\n",
    "Player_Name = []\r\n",
    "FG3M = []\r\n",
    "FG3A = []\r\n",
    "FG3_PCT = []\r\n",
    "FTM = []\r\n",
    "FTA = []\r\n",
    "FT_PCT = []\r\n",
    "FG3M_CnS = []\r\n",
    "FG3A_CnS = []\r\n",
    "FG3_PCT_CnS = []\r\n",
    "FG3M_PUP = []\r\n",
    "FG3A_PUP = []\r\n",
    "FG3_PCT_PUP = []\r\n",
    "FG3M_O = []\r\n",
    "FG3A_O = []\r\n",
    "FG3_PCT_O = []\r\n",
    "FG3M_WO = []\r\n",
    "FG3A_WO = []\r\n",
    "FG3_PCT_WO = []\r\n",
    "# len(player_id)\r\n",
    "ii = 0\r\n",
    "tic = time.perf_counter()\r\n",
    "for i in range(len(player_id)):\r\n",
    "    time.sleep(0.6)\r\n",
    "    response = player_fun.PlayerDashboardByGeneralSplits(player_id[i],season=['2017-18','2018-19','2019-20']).get_dict()\r\n",
    "    response1 = response['resultSets'][0]['rowSet']\r\n",
    "    if response1 ==[]:\r\n",
    "        continue\r\n",
    "    if response1[0][11]<50 or response1[0][14]<50:\r\n",
    "        continue\r\n",
    "    FG3M.append(response1[0][10])\r\n",
    "    FG3A.append(response1[0][11])\r\n",
    "    FG3_PCT.append(response1[0][12])\r\n",
    "    FTM.append(response1[0][13])\r\n",
    "    FTA.append(response1[0][14])\r\n",
    "    FT_PCT.append(response1[0][15])\r\n",
    "    pID.append(player_id[i]) \r\n",
    "    response2 = player_fun1.PlayerDashPtShots(team_id = 0,player_id = player_id[i],season=['2017-18','2018-19','2019-20']).get_dict()\r\n",
    "    response3 = response2['resultSets'][1]['rowSet']\r\n",
    "    response4 = response2['resultSets'][4]['rowSet']\r\n",
    "    FG3M_CnS.append(response3[0][16])\r\n",
    "    FG3A_CnS.append(response3[0][17])\r\n",
    "    FG3_PCT_CnS.append(response3[0][18])\r\n",
    "    FG3M_PUP.append(response3[1][16])\r\n",
    "    FG3A_PUP.append(response3[1][17])\r\n",
    "    FG3_PCT_PUP.append(response3[1][18])\r\n",
    "    FG3M_O.append(response4[2][16])\r\n",
    "    FG3A_O.append(response4[2][17])\r\n",
    "    FG3_PCT_O.append(response4[2][18])\r\n",
    "    FG3M_WO.append(response4[3][16])\r\n",
    "    FG3A_WO.append(response4[3][17])\r\n",
    "    FG3_PCT_WO.append(response4[3][18])\r\n",
    "    Player_Name.append([player['full_name'] for player in player_dict if player['id'] == player_id[i]])\r\n",
    "    clear_output(wait=True)\r\n",
    "    print(i)\r\n",
    "    ii+=1\r\n",
    "    print(ii)\r\n",
    "toc = time.perf_counter()\r\n",
    "print((toc-tic)/60)"
   ],
   "outputs": [],
   "metadata": {}
  },
  {
   "cell_type": "code",
   "execution_count": null,
   "source": [
    "dataset = pd.DataFrame({'pID':pID,'Player_Name':Player_Name,\r\n",
    "'FG3M':FG3M,\r\n",
    "'FG3A':FG3A,\r\n",
    "'FG3_PCT':FG3_PCT,\r\n",
    "'FTM':FTM,\r\n",
    "'FTA':FTA,\r\n",
    "'FT_PCT':FT_PCT,\r\n",
    "'FG3M_CnS':FG3M_CnS,\r\n",
    "'FG3A_CnS':FG3A_CnS,\r\n",
    "'FG3_PCT_CnS':FG3_PCT_CnS,\r\n",
    "'FG3M_PUP':FG3M_PUP,\r\n",
    "'FG3A_PUP':FG3A_PUP,\r\n",
    "'FG3_PCT_PUP':FG3_PCT_PUP,\r\n",
    "'FG3M_O':FG3M_O,\r\n",
    "'FG3A_O':FG3A_O,\r\n",
    "'FG3_PCT_O':FG3_PCT_O,\r\n",
    "'FG3M_WO':FG3M_WO,\r\n",
    "'FG3A_WO':FG3A_WO,\r\n",
    "'FG3_PCT_WO':FG3_PCT_WO\r\n",
    "})\r\n",
    "dataset.to_csv ('players_3PT_shooting_2017_20_cum.csv',index=False)\r\n"
   ],
   "outputs": [],
   "metadata": {}
  },
  {
   "cell_type": "code",
   "execution_count": null,
   "source": [
    "# print(dataset)\r\n",
    "dataset.iloc[0:3,:]\r\n",
    "dataset.[0:3,:]"
   ],
   "outputs": [],
   "metadata": {}
  },
  {
   "cell_type": "code",
   "execution_count": null,
   "source": [],
   "outputs": [],
   "metadata": {}
  }
 ]
}