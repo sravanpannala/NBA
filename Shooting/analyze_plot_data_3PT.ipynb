{
 "metadata": {
  "language_info": {
   "codemirror_mode": {
    "name": "ipython",
    "version": 3
   },
   "file_extension": ".py",
   "mimetype": "text/x-python",
   "name": "python",
   "nbconvert_exporter": "python",
   "pygments_lexer": "ipython3",
   "version": "3.8.6-final"
  },
  "orig_nbformat": 2,
  "kernelspec": {
   "name": "nbaenv",
   "display_name": "nbaenv",
   "language": "python"
  }
 },
 "nbformat": 4,
 "nbformat_minor": 2,
 "cells": [
  {
   "cell_type": "markdown",
   "source": [
    "# Old Code to Analyze 3PT Shooting data vs FT%"
   ],
   "metadata": {}
  },
  {
   "cell_type": "code",
   "execution_count": null,
   "source": [
    "import pandas as pd \r\n",
    "import numpy as np\r\n",
    "import matplotlib.pyplot as plt\r\n",
    "data = pd.read_csv(\"players_3PT_shooting_2017_20_cum.csv\")"
   ],
   "outputs": [],
   "metadata": {}
  },
  {
   "cell_type": "code",
   "execution_count": null,
   "source": [
    "# print(data)\r\n",
    "# data = data.loc[:, ~data.columns.str.contains('^Unnamed')]\r\n",
    "# data.to_csv(\"players_3PT_shooting_2017_20_cum.csv\",index=False)\r\n",
    "data.head()"
   ],
   "outputs": [],
   "metadata": {}
  },
  {
   "cell_type": "code",
   "execution_count": null,
   "source": [
    "is_attempts = data['FG3A']>150 \r\n",
    "data1 = data.loc[(data['FG3A'] >= 150) & (data['FTA'] >= 150)]\r\n",
    "# print(is_attempts.head())\r\n",
    "# data1 = data[is_attempts]\r\n",
    "data1.head()"
   ],
   "outputs": [],
   "metadata": {}
  },
  {
   "cell_type": "code",
   "execution_count": null,
   "source": [
    "# Plotting Routine and r^2 value for FT Shooting and 3PT shooting\r\n",
    "x = data1['FT_PCT']\r\n",
    "y = data1['FG3_PCT_CnS']\r\n",
    "m, b = np.polyfit(x, y, 1)\r\n",
    "z = m*np.asarray(x)+b\r\n",
    "# PLot figure\r\n",
    "fig = plt.figure()\r\n",
    "fig.patch.set(facecolor = \"White\")\r\n",
    "fig.patch.set(alpha = 1.0)\r\n",
    "ax = fig.add_subplot(111)\r\n",
    "ax.patch.set(facecolor = \"Orange\")\r\n",
    "ax.patch.set(alpha = 1.0)\r\n",
    "plt.scatter(x,y)\r\n",
    "plt.ylabel('3PT %')\r\n",
    "plt.xlabel('3PT %')\r\n",
    "plt.title('3PT% vs FT%  (2017-20)') #.format('Catch & Shoot')\r\n",
    "# plt.xlim(0.6,0.95)\r\n",
    "# plt.ylim(0.25,0.5)  \r\n",
    "plt.plot(x,z,'k-')\r\n",
    "correlation_matrix = np. corrcoef([x, y])\r\n",
    "correlation_xy = correlation_matrix[0,1]\r\n",
    "r_squared = correlation_xy**2.\r\n",
    "# plt.annotate(\"r^2 = {:.3f}\".format(r_squared), (0.3, 0.45))\r\n",
    "plt.text(0.05, 0.9, \"r^2 = {:.3f}\".format(r_squared), transform=plt.gca().transAxes)\r\n",
    "# plt.savefig('Three_Pt_Pt_{0}.png'.format('CnS'), dpi=300)\r\n",
    "plt.show()\r\n",
    "\r\n",
    "print(r_squared)\r\n"
   ],
   "outputs": [],
   "metadata": {}
  },
  {
   "cell_type": "code",
   "execution_count": null,
   "source": [],
   "outputs": [],
   "metadata": {}
  }
 ]
}