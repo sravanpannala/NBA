{
 "metadata": {
  "language_info": {
   "codemirror_mode": {
    "name": "ipython",
    "version": 3
   },
   "file_extension": ".py",
   "mimetype": "text/x-python",
   "name": "python",
   "nbconvert_exporter": "python",
   "pygments_lexer": "ipython3",
   "version": "3.8.6"
  },
  "orig_nbformat": 2,
  "kernelspec": {
   "name": "nba",
   "display_name": "Python 3.8.6 64-bit ('NBA-LJs_y2gm': pipenv)"
  }
 },
 "nbformat": 4,
 "nbformat_minor": 2,
 "cells": [
  {
   "cell_type": "markdown",
   "source": [
    "# Code to get FT & 3PT Shooting Data"
   ],
   "metadata": {}
  },
  {
   "cell_type": "code",
   "execution_count": null,
   "source": [
    "import pandas as pd\r\n",
    "import time\r\n",
    "from IPython.display import clear_output\r\n",
    "import itertools\r\n",
    "import numpy as np\r\n",
    "import os, sys\r\n",
    "sys.path.append(os.path.dirname(os.path.dirname(os.path.abspath(\"__file__\"))))\r\n",
    "from nbafuns import *"
   ],
   "outputs": [],
   "metadata": {}
  },
  {
   "cell_type": "code",
   "execution_count": null,
   "source": [
    "team_dict = teams.get_teams() # Creating Team Dictionary\r\n",
    "# Get team ID\r\n",
    "team_id = [x['id'] for x in team_dict ]\r\n",
    "year = 2020\r\n",
    "player_dict = get_players(league = 'NBA', from_year = year, to_year = year)\r\n",
    "player_id = [player['pID'] for player in player_dict]\r\n"
   ],
   "outputs": [],
   "metadata": {}
  },
  {
   "cell_type": "code",
   "execution_count": null,
   "source": [
    "from nba_api.stats.endpoints import playerdashboardbygeneralsplits as player_fun\r\n",
    "from nba_api.stats.endpoints import playerdashptshots as player_fun1"
   ],
   "outputs": [],
   "metadata": {}
  },
  {
   "cell_type": "code",
   "execution_count": null,
   "source": [
    "response2 = player_fun1.PlayerDashPtShots(team_id = 0,player_id = '2544',season='2019-20').get_data_frames()\r\n",
    "# response2[4]"
   ],
   "outputs": [],
   "metadata": {}
  },
  {
   "cell_type": "code",
   "execution_count": null,
   "source": [
    "# data = pd.read_csv(\"players_3PT_FT_filt.csv\")\r\n",
    "# pID = data[\"pID\"]\r\n",
    "pID = []\r\n",
    "Player_Name = []\r\n",
    "FG3M = []\r\n",
    "FG3A = []\r\n",
    "FG3_PCT = []\r\n",
    "FTM = []\r\n",
    "FTA = []\r\n",
    "FT_PCT = []\r\n",
    "FG3M_CnS = []\r\n",
    "FG3A_CnS = []\r\n",
    "FG3_PCT_CnS = []\r\n",
    "FG3M_PUP = []\r\n",
    "FG3A_PUP = []\r\n",
    "FG3_PCT_PUP = []\r\n",
    "FG3M_O = []\r\n",
    "FG3A_O = []\r\n",
    "FG3_PCT_O = []\r\n",
    "FG3M_WO = []\r\n",
    "FG3A_WO = []\r\n",
    "FG3_PCT_WO = []\r\n",
    "# len(player_id)\r\n",
    "ii = 0\r\n",
    "tic = time.perf_counter()\r\n",
    "for i in range(len(player_id)):\r\n",
    "    time.sleep(0.6)\r\n",
    "    response = player_fun.PlayerDashboardByGeneralSplits(player_id[i],season=['2017-18','2018-19','2019-20']).get_data_frames()[0]\r\n",
    "    try:\r\n",
    "        FG3M.append(response['FG3M'][0])\r\n",
    "        FG3A.append(response['FG3A'][0])\r\n",
    "        FG3_PCT.append(response['FG3_PCT'][0])\r\n",
    "        FTM.append(response['FTM'][0])\r\n",
    "        FTA.append(response['FTA'][0])\r\n",
    "        FT_PCT.append(response['FT_PCT'][0])\r\n",
    "    except:\r\n",
    "        continue\r\n",
    "    pID.append(player_id[i]) \r\n",
    "    response2 = player_fun1.PlayerDashPtShots(team_id = 0,player_id = player_id[i],season=['2020-21']).get_data_frames()[1]\r\n",
    "    response3 = player_fun1.PlayerDashPtShots(team_id = 0,player_id = player_id[i],season=['2020-21']).get_data_frames()[4]\r\n",
    "    FG3M_CnS.append(response2['FG3M'][0])\r\n",
    "    FG3A_CnS.append(response2['FG3A'][0])\r\n",
    "    FG3_PCT_CnS.append(response2['FG3_PCT'][0])\r\n",
    "    FG3M_PUP.append(response2['FG3M'][1])\r\n",
    "    FG3A_PUP.append(response2['FG3M'][1])\r\n",
    "    FG3_PCT_PUP.append(response2['FG3_PCT'][1])\r\n",
    "    FG3M_O.append(response3['FG3M'][2])\r\n",
    "    FG3A_O.append(response3['FG3A'][2])\r\n",
    "    FG3_PCT_O.append(response3['FG3_PCT'][2])\r\n",
    "    FG3M_WO.append(response3['FG3M'][3])\r\n",
    "    FG3A_WO.append(response3['FG3A'][3])\r\n",
    "    FG3_PCT_WO.append(response3['FG3_PCT'][3])\r\n",
    "    Player_Name.append([player['Name'] for player in player_dict if player['pID'] == player_id[i]])\r\n",
    "    clear_output(wait=True)\r\n",
    "    print(i)\r\n",
    "    ii+=1\r\n",
    "    print(ii)\r\n",
    "toc = time.perf_counter()\r\n",
    "print((toc-tic)/60)"
   ],
   "outputs": [],
   "metadata": {}
  },
  {
   "cell_type": "code",
   "execution_count": null,
   "source": [
    "Player_Name = list(itertools.chain(*Player_Name))\r\n",
    "dataset = pd.DataFrame({'pID':pID,'Player_Name':Player_Name,\r\n",
    "'FG3M':FG3M,\r\n",
    "'FG3A':FG3A,\r\n",
    "'FG3_PCT':FG3_PCT,\r\n",
    "'FTM':FTM,\r\n",
    "'FTA':FTA,\r\n",
    "'FT_PCT':FT_PCT,\r\n",
    "'FG3M_CnS':FG3M_CnS,\r\n",
    "'FG3A_CnS':FG3A_CnS,\r\n",
    "'FG3_PCT_CnS':FG3_PCT_CnS,\r\n",
    "'FG3M_PUP':FG3M_PUP,\r\n",
    "'FG3A_PUP':FG3A_PUP,\r\n",
    "'FG3_PCT_PUP':FG3_PCT_PUP,\r\n",
    "'FG3M_O':FG3M_O,\r\n",
    "'FG3A_O':FG3A_O,\r\n",
    "'FG3_PCT_O':FG3_PCT_O,\r\n",
    "'FG3M_WO':FG3M_WO,\r\n",
    "'FG3A_WO':FG3A_WO,\r\n",
    "'FG3_PCT_WO':FG3_PCT_WO\r\n",
    "})\r\n",
    "dataset.to_csv ('fdata/players_3PT_shooting_2017_20_cum.csv',index=False)\r\n"
   ],
   "outputs": [],
   "metadata": {}
  },
  {
   "cell_type": "code",
   "execution_count": null,
   "source": [
    "# print(dataset)\r\n",
    "dataset.iloc[0:3,:]"
   ],
   "outputs": [],
   "metadata": {}
  },
  {
   "cell_type": "code",
   "execution_count": null,
   "source": [],
   "outputs": [],
   "metadata": {}
  }
 ]
}