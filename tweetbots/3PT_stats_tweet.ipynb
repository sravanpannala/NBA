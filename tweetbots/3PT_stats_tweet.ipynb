{
 "cells": [
  {
   "cell_type": "markdown",
   "metadata": {},
   "source": [
    "# Tweepy"
   ]
  },
  {
   "cell_type": "code",
   "execution_count": null,
   "metadata": {},
   "outputs": [],
   "source": [
    "import tweepy\n",
    "import json"
   ]
  },
  {
   "cell_type": "markdown",
   "metadata": {},
   "source": [
    "## Authentication Keys"
   ]
  },
  {
   "cell_type": "code",
   "execution_count": null,
   "metadata": {},
   "outputs": [],
   "source": [
    "f = open('./twitter_keys.json')\n",
    "twitter_auth_keys = json.load(f)"
   ]
  },
  {
   "cell_type": "code",
   "execution_count": null,
   "metadata": {},
   "outputs": [],
   "source": [
    "auth = tweepy.OAuthHandler(\n",
    "            twitter_auth_keys['consumer_key'],\n",
    "            twitter_auth_keys['consumer_secret']\n",
    "            )\n",
    "auth.set_access_token(\n",
    "            twitter_auth_keys['access_token'],\n",
    "            twitter_auth_keys['access_token_secret']\n",
    "            )\n",
    "api = tweepy.API(auth)"
   ]
  },
  {
   "cell_type": "markdown",
   "metadata": {},
   "source": [
    "## Tweet"
   ]
  },
  {
   "cell_type": "code",
   "execution_count": null,
   "metadata": {},
   "outputs": [],
   "source": [
    "# Post tweet with image\n",
    "tweet = \"Testing new lines in tweet\\nTest Status?\"\n",
    "post_result = api.update_status(status=tweet)\n",
    "# Upload image\n",
    "# media = api.media_upload(\"./Hex Map Memphis Grizzlies 2020-21.png\")\n",
    "# post_result = api.update_status(status=tweet, media_ids=[media.media_id])"
   ]
  },
  {
   "cell_type": "markdown",
   "metadata": {},
   "source": [
    "# ShotChart"
   ]
  },
  {
   "cell_type": "code",
   "execution_count": null,
   "metadata": {},
   "outputs": [],
   "source": [
    "from nba_api.stats.endpoints.leaguedashteamshotlocations import LeagueDashTeamShotLocations\n",
    "from nba_api.stats.endpoints.leaguedashplayerptshot import LeagueDashPlayerPtShot\n",
    "from nba_api.stats.endpoints.shotchartdetail import ShotChartDetail\n",
    "import os, sys\n",
    "sys.path.append(os.path.dirname(os.path.dirname(os.path.abspath(\"__file__\"))))\n",
    "from nbafuns import *\n",
    "import plotly.graph_objects as go\n",
    "import plotly.express as px\n",
    "import itertools\n",
    "import pandas as pd\n",
    "from datetime import date"
   ]
  },
  {
   "cell_type": "markdown",
   "metadata": {},
   "source": [
    "## Chose Team"
   ]
  },
  {
   "cell_type": "code",
   "execution_count": null,
   "metadata": {},
   "outputs": [],
   "source": [
    "league = 'NBA'\n",
    "team_name = 'Memphis Grizzlies'\n",
    "season = '2021-22'\n",
    "today = date.today()\n",
    "season_start_date = date(2021,10,20)\n",
    "if today>season_start_date & season=='2021-22':\n",
    "    season_type = \"Regular Season\"\n",
    "else:\n",
    "    season_type = \"Pre Season\"\n",
    "\n",
    "team_dict = get_teams(league = league)\n",
    "team_id = [team['TeamID'] for team in team_dict if team['Team'] == team_name]\n",
    "team_id"
   ]
  },
  {
   "cell_type": "markdown",
   "metadata": {},
   "source": [
    "## Get Shots"
   ]
  },
  {
   "cell_type": "code",
   "execution_count": null,
   "metadata": {},
   "outputs": [],
   "source": [
    "team_shotchart = ShotChartDetail(team_id=team_id, player_id=0, context_measure_simple='FG3A', \n",
    "                    season_nullable=season, season_type_all_star=season_type)"
   ]
  },
  {
   "cell_type": "code",
   "execution_count": null,
   "metadata": {},
   "outputs": [],
   "source": [
    "shots_df = team_shotchart.get_data_frames()[0]\n",
    "shots_df.LOC_X = -shots_df.LOC_X\n",
    "league_avg = team_shotchart.get_data_frames()[1]\n",
    "binned_df = create_bins(data_frame=shots_df, league_average=league_avg)\n",
    "data_frame = binned_df\n",
    "dropped_dups = data_frame.drop_duplicates(subset=['BIN_LOC_X', 'BIN_LOC_Y'], keep='first')\n",
    "dropped_dups = dropped_dups.loc[dropped_dups.BIN_LOC_Y < 417.5]\n",
    "dropped_dups = dropped_dups.loc[dropped_dups.LOC_RAW_COUNTS > 1]"
   ]
  },
  {
   "cell_type": "markdown",
   "metadata": {},
   "source": [
    "## Plot Shotchart"
   ]
  },
  {
   "cell_type": "code",
   "execution_count": null,
   "metadata": {},
   "outputs": [],
   "source": [
    "bball_gray = '#312f30'\n",
    "bball_white = '#dddee0'\n",
    "bball_orange = '#f87c24'\n",
    "bball_light_orange = '#fbaf7b'\n",
    "bball_black = '#000010'\n",
    "dark_grey = '#282828'\n",
    "\n",
    "colorscale = 'Plasma'\n",
    "\n",
    "fig = go.Figure()\n",
    "\n",
    "draw_plotly_court(fig,lw=1,margins=13,lcolor=bball_orange)\n",
    "fig.add_trace(go.Scatter(\n",
    "    x=dropped_dups.BIN_LOC_X, y=dropped_dups.BIN_LOC_Y, mode='markers', name='markers',\n",
    "    text = dropped_dups.LOC_ZONE_PERCENTAGE\t,\n",
    "    marker=dict(\n",
    "        size=dropped_dups.LOC_COUNTS, sizemode='area', sizeref=1.5, \n",
    "        sizemin=2.5,\n",
    "        color=dropped_dups.PCT_LEAGUE_COMPARISON_ZONE, colorscale=colorscale,\n",
    "        colorbar=dict(\n",
    "            thickness=15,\n",
    "            x=0.85,\n",
    "            y=0.87,\n",
    "            yanchor='middle',\n",
    "            len=0.2,\n",
    "            title=dict(\n",
    "                text=\"<B>Accuracy</B>\",\n",
    "                font=dict(\n",
    "                    size=11,\n",
    "                    color='White'\n",
    "                ),\n",
    "            ),\n",
    "            tickvals=[-10, 0, 10],\n",
    "            ticktext=['Worse','Average','Better'],\n",
    "            tickfont=dict(\n",
    "                size=11,\n",
    "                color='White'\n",
    "            )\n",
    "        ),\n",
    "        cmin=-10, cmax=10,\n",
    "        line=dict(width=0.5, color='White'), symbol='hexagon',\n",
    "    ),\n",
    "    hovertemplate ='<i>FG%</i>: %{text:.0f}<extra></extra>',\n",
    "))\n",
    "layout_update_plotly(fig,team_name,season, league, bball_black)\n",
    "fig.write_image(\"Hex Map {0} {1}.png\".format(team_name,season),scale=5)\n",
    "fig.show()"
   ]
  },
  {
   "cell_type": "code",
   "execution_count": null,
   "metadata": {},
   "outputs": [],
   "source": [
    "team_data = LeagueDashTeamShotLocations(per_mode_detailed='Totals', \n",
    "                                        distance_range = \"By Zone\", rank ='Y',\n",
    "                                        season=season, season_type_all_star=season_type)"
   ]
  },
  {
   "cell_type": "markdown",
   "metadata": {},
   "source": [
    "## Get Shot Type Data"
   ]
  },
  {
   "cell_type": "code",
   "execution_count": null,
   "metadata": {},
   "outputs": [],
   "source": [
    "tstats = team_data.get_dict()\n",
    "theaders = tstats['resultSets']['headers']\n",
    "col_skip = theaders[0]['columnsToSkip']\n",
    "col_span = theaders[0]['columnSpan']\n",
    "shot_types = theaders[0]['columnNames']\n",
    "shot_columns = theaders[1]['columnNames']#[col_skip:]\n",
    "s_key = shot_columns[:col_span+col_skip]\n",
    "df_list = list()\n",
    "for i in range(len(shot_types)):\n",
    "    df = pd.DataFrame(columns=s_key)\n",
    "    for j in range(len(team_dict)):\n",
    "        shot_values = tstats['resultSets']['rowSet'][j][col_skip:]\n",
    "        s_val0 = tstats['resultSets']['rowSet'][j][:col_skip]\n",
    "        s_val1 = shot_values[i*col_span:(i+1)*col_span]\n",
    "        s_val = list(itertools.chain(*[s_val0,s_val1]))\n",
    "        df.loc[j]=s_val\n",
    "    df_list.append(df)"
   ]
  },
  {
   "cell_type": "code",
   "execution_count": null,
   "metadata": {},
   "outputs": [],
   "source": [
    "c3_l = df_list[3]\n",
    "c3_r = df_list[4]\n",
    "abv3 = df_list[5]"
   ]
  },
  {
   "cell_type": "code",
   "execution_count": null,
   "metadata": {},
   "outputs": [],
   "source": [
    "abv3['Tot'] = c3_l['FGM']+c3_r['FGM']+abv3['FGM']"
   ]
  },
  {
   "cell_type": "markdown",
   "metadata": {},
   "source": [
    "## Get Shot Data Ranks"
   ]
  },
  {
   "cell_type": "code",
   "execution_count": null,
   "metadata": {},
   "outputs": [],
   "source": [
    "c3_l['rank'] = c3_l['FGM'].rank(ascending=False) \n",
    "c3_l_rank = int(c3_l[c3_l['TEAM_NAME'] == team_name]['rank'])\n",
    "print(c3_l_rank)\n",
    "c3_r['rank'] = c3_r['FGM'].rank(ascending=False) \n",
    "c3_r_rank = int(c3_r[c3_r['TEAM_NAME'] == team_name]['rank'])\n",
    "print(c3_r_rank)\n",
    "abv3['rank'] = abv3['FGM'].rank(ascending=False) \n",
    "abv3_rank = int(abv3[abv3['TEAM_NAME'] == team_name]['rank'])\n",
    "print(abv3_rank)\n",
    "abv3['tot_rank'] = abv3['Tot'].rank(ascending=False) \n",
    "tot_rank = int(abv3[abv3['TEAM_NAME'] == team_name]['tot_rank'])\n",
    "print(tot_rank)"
   ]
  }
 ],
 "metadata": {
  "interpreter": {
   "hash": "761d0843975b951240ed3f8c006d1f1501cd2a4c66c1dd99cea9ed75b2c1e460"
  },
  "kernelspec": {
   "display_name": "Python 3.9.7 64-bit ('nba-dIF8YUVF-py3.9': poetry)",
   "name": "python3"
  },
  "language_info": {
   "codemirror_mode": {
    "name": "ipython",
    "version": 3
   },
   "file_extension": ".py",
   "mimetype": "text/x-python",
   "name": "python",
   "nbconvert_exporter": "python",
   "pygments_lexer": "ipython3",
   "version": "3.9.7"
  },
  "orig_nbformat": 4
 },
 "nbformat": 4,
 "nbformat_minor": 2
}
