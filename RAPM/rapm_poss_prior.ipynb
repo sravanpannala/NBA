{
 "cells": [
  {
   "cell_type": "code",
   "execution_count": null,
   "metadata": {},
   "outputs": [],
   "source": [
    "import os, sys\n",
    "\n",
    "sys.path.append(os.path.dirname(os.path.dirname(os.path.abspath(\"__file__\"))))\n",
    "from nbafuns import *\n",
    "from sklearnex import patch_sklearn\n",
    "patch_sklearn()\n",
    "from sklearn.linear_model import RidgeCV, Ridge\n",
    "\n",
    "data_DIR = \"../fdata/\"\n",
    "export_DIR = \"./fdata/\"\n",
    "\n",
    "fig_DIR = \"../figs/rapm/\"\n",
    "\n",
    "%matplotlib widget"
   ]
  },
  {
   "cell_type": "code",
   "execution_count": null,
   "metadata": {},
   "outputs": [],
   "source": [
    "def build_player_list(possessions):\n",
    "    p = [possessions.iloc[:,i].unique() for i in range(10)]\n",
    "    players = list(set(chain(*p)))\n",
    "    players.sort()\n",
    "    return players\n",
    "\n",
    "@njit\n",
    "def map_players(stints_x_base, stint_X_rows, players, p_num):\n",
    "    for i in np.arange(len(stints_x_base)):\n",
    "        row = stints_x_base[i]\n",
    "        for p in row[:5]:\n",
    "            stint_X_rows[i,players.index(p)] = 1\n",
    "        for p in row[5:]:\n",
    "            stint_X_rows[i,players.index(p)+p_num] = -1\n",
    "    return stint_X_rows\n",
    "\n",
    "# Break the dataframe into x_train (nxm matrix), y_train (nx1 matrix of target values), and weights (not necessary because all rows will have 1 possession)\n",
    "def convert_to_matricies(possessions, name, players, prior):\n",
    "    # extract only the columns we need\n",
    "    # Convert the columns of player ids into a numpy matrix\n",
    "    stints_x_base = possessions.iloc[:,:10].to_numpy(dtype = np.int64)\n",
    "\n",
    "    # Apply our mapping function to the numpy matrix\n",
    "    p_num = len(players)\n",
    "    stint_X_rows = np.zeros([len(stints_x_base),2*p_num],dtype = np.int8)\n",
    "    stint_X_rows = map_players(stints_x_base, stint_X_rows, players, p_num)\n",
    "    Y_prior = stint_X_rows.dot(prior)\n",
    "    # Convert the column of target values into a numpy matrix\n",
    "    stint_Y_rows_before = possessions[name].to_numpy()\n",
    "    stint_Y_rows = stint_Y_rows_before - Y_prior\n",
    "    # return matricies and possessions series\n",
    "    return stint_X_rows, stint_Y_rows\n",
    "\n",
    "# Convert lambda value to alpha needed for ridge CV\n",
    "def lambda_to_alpha(lambda_value, samples):\n",
    "    return (lambda_value * samples) / 2.0\n",
    "\n",
    "# Convert RidgeCV alpha back into a lambda value\n",
    "def alpha_to_lambda(alpha_value, samples):\n",
    "    return (alpha_value * 2.0) / samples\n",
    "\n",
    "def calculate_rapm(train_x, train_y, lambdas, name, players, possessions, prior):\n",
    "    # convert our lambda to alpha\n",
    "    alpha = lambda_to_alpha(lambdas, train_x.shape[0])\n",
    "    # Use Normal Ridge with fixed alpha instead of RidgeCV\n",
    "    clf = Ridge(alpha=alpha, fit_intercept=True)\n",
    "    # fit our training data\n",
    "    model = clf.fit(\n",
    "        train_x,\n",
    "        train_y,\n",
    "    )\n",
    "    # convert our list of players into a mx1 matrix\n",
    "    player_arr = np.transpose(np.array(players).reshape(1, len(players)))\n",
    "    # extract our coefficients into the offensive and defensive parts\n",
    "    coef_ = model.coef_ + prior\n",
    "    coef_offensive_array = coef_[0 : len(players)][np.newaxis].T\n",
    "    coef_defensive_array = coef_[len(players) :][np.newaxis].T\n",
    "    # concatenate the offensive and defensive values with the playey ids into a mx3 matrix\n",
    "    p = possessions.iloc[:,:10].to_numpy()\n",
    "    puq, cts = np.unique(p.flatten(), return_counts=True) \n",
    "    cts = cts[:,np.newaxis] \n",
    "    player_id_with_coef = np.concatenate(\n",
    "        [player_arr, coef_offensive_array, coef_defensive_array,cts], axis=1\n",
    "    )\n",
    "    # build a dataframe from our matrix\n",
    "    players_coef = pd.DataFrame(player_id_with_coef)\n",
    "    intercept = model.intercept_\n",
    "    \n",
    "    # apply new column names\n",
    "    players_coef.columns = [\"playerId\", f\"O{name}\", f\"D{name}\",\"Possessions\"]\n",
    "    # Add the offensive and defensive components together (we should really be weighing this to the number of offensive and defensive possession played as they are often not equal).\n",
    "    players_coef[name] = (players_coef[f\"O{name}\"] + players_coef[f\"D{name}\"])\n",
    "    # rank the values\n",
    "    players_coef[\"{0}_R\".format(name)] = players_coef[name].rank(ascending=False)\n",
    "    players_coef[f\"O{name}_R\"] = players_coef[f\"O{name}\"].rank(ascending=False)\n",
    "    players_coef[f\"D{name}_R\"] = players_coef[f\"D{name}\"].rank(ascending=False)\n",
    "    return players_coef, model\n",
    "\n",
    "def get_df(results,season,player_dict):\n",
    "    results = np.round(results, decimals=2)\n",
    "    results = results.reindex(sorted(results.columns), axis=1)\n",
    "    results[\"playerId\"] = results[\"playerId\"].astype(\"int\")\n",
    "    results[\"RAPM_R\"] = results[\"RAPM_R\"].astype(\"int\")\n",
    "    results[\"ORAPM_R\"] = results[\"ORAPM_R\"].astype(\"int\")\n",
    "    results[\"DRAPM_R\"] = results[\"DRAPM_R\"].astype(\"int\")\n",
    "    results[\"Possessions\"] = results[\"Possessions\"].astype(\"int\")\n",
    "    results[\"Player\"] = results[\"playerId\"].map(player_dict)\n",
    "    results[\"Year\"] = int(season)+1\n",
    "    results = results[\n",
    "        [\n",
    "            \"Year\",\n",
    "            \"Player\",\n",
    "            \"ORAPM\",\n",
    "            \"ORAPM_R\",\n",
    "            \"DRAPM\",\n",
    "            \"DRAPM_R\",\n",
    "            \"RAPM\",\n",
    "            \"RAPM_R\",\n",
    "            \"Possessions\",\n",
    "        ]\n",
    "    ]\n",
    "\n",
    "    return results\n",
    "\n",
    "def get_prior_map(cts,prior_weight,n):\n",
    "    scts = np.sort(cts)\n",
    "    idx_h = int(len(cts)/2)\n",
    "    # linear prior map\n",
    "    # prior_map = np.linspace(-1,1,scts[-1]+1)\n",
    "    # log based prior map\n",
    "    prior_map1 = -prior_weight/2*(np.logspace(0,-n,scts[idx_h]+1)-10**(-n))\n",
    "    prior_map2 = prior_weight/2*(np.flipud(np.logspace(0,-n,scts[-1] - scts[idx_h]))-10**(-n))\n",
    "    prior_map = np.concatenate([prior_map1,prior_map2])\n",
    "    \n",
    "    return prior_map"
   ]
  },
  {
   "cell_type": "markdown",
   "metadata": {},
   "source": [
    "# Single Season RAPM"
   ]
  },
  {
   "cell_type": "code",
   "execution_count": null,
   "metadata": {},
   "outputs": [],
   "source": [
    "def single_season_rapm(season, league = \"NBA\",lambdas = 0.005, prior_weight = 5, prior_power = 1.5):\n",
    "    player_dict = get_players_pbp(league=league)\n",
    "    possessions = pd.read_parquet(data_DIR + league +\"_rapm_possessions_\" + season + \".parquet\")\n",
    "    player_list = build_player_list(possessions)\n",
    "    possessions[\"PPP\"] = 100 * possessions[\"pts\"]\n",
    "    p = possessions.iloc[:,:10].to_numpy()\n",
    "    puq, cts = np.unique(p.flatten(), return_counts=True) \n",
    "    scts = np.sort(cts)\n",
    "    idx_h = int(len(cts)/2) \n",
    "    prior_map = get_prior_map(cts,prior_weight,prior_power)\n",
    "    prior = np.concatenate([prior_map[cts],prior_map[cts]]) \n",
    "    train_x, train_y = convert_to_matricies(possessions, \"PPP\", player_list,prior)\n",
    "    results, model = calculate_rapm(train_x, train_y, lambdas, \"RAPM\", player_list,possessions,prior)\n",
    "    results = get_df(results,season,player_dict)\n",
    "    results[\"Prior\"] = prior_map[cts]\n",
    "    results[\"Prior\"] = results[\"Prior\"].round(1)\n",
    "    results = results.sort_values(by=[\"RAPM\"], ascending=False)\n",
    "    results = results.reset_index(drop=True)\n",
    "    results.to_csv(export_DIR + \"single_season/\" + league + \"_RAPM_\" + season + \"_wP.csv\",index=False)\n",
    "    model.year = int(season)\n",
    "    model.results = results\n",
    "\n",
    "    return model"
   ]
  },
  {
   "cell_type": "code",
   "execution_count": null,
   "metadata": {},
   "outputs": [],
   "source": [
    "# %%script echo skipping\n",
    "season_start = 2015\n",
    "season_end = 2023\n",
    "seasons = np.arange(season_start, season_end, 1).astype(str)\n",
    "out = [single_season_rapm(season) for season in tqdm(seasons)]"
   ]
  },
  {
   "cell_type": "markdown",
   "metadata": {},
   "source": [
    "# Multi Season RAPM"
   ]
  },
  {
   "cell_type": "code",
   "execution_count": null,
   "metadata": {},
   "outputs": [],
   "source": [
    "def multiseason_season_rapm(season, league = \"NBA\",lambdas = 0.01, prior_weight = 10, prior_power=1.5, multi = 3):\n",
    "    player_dict = get_players_pbp(league=league)\n",
    "    yr = int(season)\n",
    "    seasons = (np.arange(yr-multi,yr)+1).astype(str)\n",
    "    posa = []\n",
    "    for s in seasons:\n",
    "        poss = pd.read_parquet(data_DIR + league +\"_rapm_possessions_\" + s + \".parquet\")\n",
    "        posa.append(poss)\n",
    "    possessions = pd.concat(posa)\n",
    "    player_list = build_player_list(possessions)\n",
    "    possessions[\"PPP\"] = 100 * possessions[\"pts\"]\n",
    "    p = possessions.iloc[:,:10].to_numpy()\n",
    "    puq, cts = np.unique(p.flatten(), return_counts=True)    \n",
    "    prior_map = get_prior_map(cts,prior_weight,prior_power)\n",
    "    prior = np.concatenate([prior_map[cts],prior_map[cts]]) \n",
    "    train_x, train_y = convert_to_matricies(possessions, \"PPP\", player_list, prior)\n",
    "    results, model = calculate_rapm(train_x, train_y, lambdas, \"RAPM\", player_list,possessions, prior)\n",
    "    results = get_df(results,season,player_dict)\n",
    "    results[\"Prior\"] = prior_map[cts]\n",
    "    results[\"Prior\"] = results[\"Prior\"].round(1)\n",
    "    results = results.sort_values(by=[\"RAPM\"], ascending=False)\n",
    "    results = results.reset_index(drop=True)\n",
    "    # results.to_csv(export_DIR + league + \"_RAPM_\" + season + \"_\" + f\"{multi}_yr_wP_{(10*prior_power):02.0f}.csv\",index=False)\n",
    "    results.to_csv(export_DIR + \"multi_season/\" + league + \"_RAPM_\" + season + \"_\" + f\"{multi}_yr_wP.csv\",index=False)\n",
    "    model.train_x = train_x\n",
    "    model.train_y = train_y\n",
    "    model.prior = prior\n",
    "    model.results = results\n",
    "    \n",
    "    return model"
   ]
  },
  {
   "cell_type": "code",
   "execution_count": null,
   "metadata": {},
   "outputs": [],
   "source": [
    "# multi, lambdas = 3, 0.002\n",
    "# multi, lambdas = 5, 0.001"
   ]
  },
  {
   "cell_type": "code",
   "execution_count": null,
   "metadata": {},
   "outputs": [],
   "source": [
    "season_start = 2022\n",
    "season_end = 2023\n",
    "seasons = np.arange(season_start, season_end, 1).astype(str)\n",
    "\n",
    "out = [multiseason_season_rapm(season) for season in seasons]"
   ]
  },
  {
   "cell_type": "code",
   "execution_count": null,
   "metadata": {},
   "outputs": [],
   "source": [
    "out[0].prior"
   ]
  },
  {
   "cell_type": "code",
   "execution_count": null,
   "metadata": {},
   "outputs": [],
   "source": [
    "y_wo_prior = out[0].train_y + out[0].train_x.dot(out[0].prior)"
   ]
  },
  {
   "cell_type": "code",
   "execution_count": null,
   "metadata": {},
   "outputs": [],
   "source": [
    "y_prior = out[0].train_y"
   ]
  },
  {
   "cell_type": "code",
   "execution_count": null,
   "metadata": {},
   "outputs": [],
   "source": [
    "df = pd.DataFrame({\"y_wo_prior\":y_wo_prior,\"y_prior\":y_prior})"
   ]
  },
  {
   "cell_type": "code",
   "execution_count": null,
   "metadata": {},
   "outputs": [],
   "source": [
    "df[\"prior\"] = df[\"y_prior\"] - df[\"y_wo_prior\"]"
   ]
  }
 ],
 "metadata": {
  "kernelspec": {
   "display_name": "nba-ub9Z_EQq-py3.11",
   "language": "python",
   "name": "python3"
  },
  "language_info": {
   "codemirror_mode": {
    "name": "ipython",
    "version": 3
   },
   "file_extension": ".py",
   "mimetype": "text/x-python",
   "name": "python",
   "nbconvert_exporter": "python",
   "pygments_lexer": "ipython3",
   "version": "3.11.6"
  }
 },
 "nbformat": 4,
 "nbformat_minor": 2
}
