{
 "cells": [
  {
   "cell_type": "markdown",
   "metadata": {},
   "source": [
    "# Import all possessions of a season using PBP API"
   ]
  },
  {
   "cell_type": "code",
   "execution_count": 19,
   "metadata": {},
   "outputs": [],
   "source": [
    "import pandas as pd\n",
    "import numpy as np\n",
    "# import time\n",
    "# import datetime\n",
    "from IPython.display import clear_output\n",
    "from collections import Counter"
   ]
  },
  {
   "cell_type": "markdown",
   "metadata": {},
   "source": [
    "## Import all the Game IDs in a season"
   ]
  },
  {
   "cell_type": "code",
   "execution_count": 20,
   "metadata": {},
   "outputs": [
    {
     "name": "stdout",
     "output_type": "stream",
     "text": [
      "192\n"
     ]
    }
   ],
   "source": [
    "from pbpstats.client import Client\n",
    "\n",
    "settings = {\n",
    "    \"Games\": {\"source\": \"web\", \"data_provider\": \"data_nba\"},\n",
    "     \"dir\": \"G:/My Drive/Sra_coding/NBA/pbpdata\",\n",
    "}\n",
    "client = Client(settings)\n",
    "# ID of all games for 2020-21 Season\n",
    "# season = client.Season(\"nba\", \"2019-20\", \"Regular Season\")\n",
    "season = client.Season(\"wnba\", \"2021\", \"Regular Season\")\n",
    "games_id = []\n",
    "k = 0\n",
    "for final_game in season.games.final_games:\n",
    "    k += 1\n",
    "    clear_output(wait=True)\n",
    "    print(k)\n",
    "    games_id.append(final_game['game_id'])"
   ]
  },
  {
   "cell_type": "markdown",
   "metadata": {},
   "source": [
    "## Import all Game data objects in a season"
   ]
  },
  {
   "cell_type": "code",
   "execution_count": 21,
   "metadata": {},
   "outputs": [
    {
     "name": "stdout",
     "output_type": "stream",
     "text": [
      "192\n"
     ]
    }
   ],
   "source": [
    "settings = {\n",
    "    \"Boxscore\": {\"source\": \"file\", \"data_provider\": \"data_nba\"},\n",
    "    \"Possessions\": {\"source\": \"file\", \"data_provider\": \"data_nba\"},\n",
    "    \"dir\": \"G:/My Drive/Sra_coding/NBA/pbpdata\"\n",
    "}\n",
    "client = Client(settings)\n",
    "games_list = []\n",
    "bad_games_list = []\n",
    "k = 0\n",
    "for gameid in games_id:\n",
    "    clear_output(wait=True)\n",
    "    k += 1\n",
    "    print(k)\n",
    "    try:\n",
    "        games_list.append(client.Game(gameid))\n",
    "    except:\n",
    "        print(gameid)\n",
    "        bad_games_list.append(gameid)\n",
    "        continue"
   ]
  },
  {
   "cell_type": "markdown",
   "metadata": {},
   "source": [
    "Number of bad games"
   ]
  },
  {
   "cell_type": "code",
   "execution_count": 22,
   "metadata": {},
   "outputs": [
    {
     "data": {
      "text/plain": [
       "4"
      ]
     },
     "execution_count": 22,
     "metadata": {},
     "output_type": "execute_result"
    }
   ],
   "source": [
    "len(bad_games_list)"
   ]
  },
  {
   "cell_type": "markdown",
   "metadata": {},
   "source": [
    "# For loop for generating lists of all revelant data"
   ]
  },
  {
   "cell_type": "code",
   "execution_count": 23,
   "metadata": {},
   "outputs": [],
   "source": [
    "from pbpstats.resources.enhanced_pbp import Rebound\n",
    "from pbpstats.resources.enhanced_pbp import Turnover\n",
    "from pbpstats.resources.enhanced_pbp import FieldGoal\n",
    "from pbpstats.resources.enhanced_pbp import FreeThrow\n",
    "pos = []\n",
    "posdec = []\n",
    "points = []\n",
    "off1, off2, off3, off4, off5 = [],[],[],[],[]\n",
    "def1, def2, def3, def4, def5 = [],[],[],[],[]\n",
    "for game in games_list:\n",
    "    hmscr = []\n",
    "    rdscr = []\n",
    "    for possession in game.possessions.items:\n",
    "        for possession_event in possession.events:\n",
    "            if possession_event.count_as_possession:\n",
    "                if possession_event.description == 'Game End':\n",
    "                    continue\n",
    "                pos.append(possession_event)\n",
    "                posdec.append(possession_event.description)\n",
    "                hmscr.append(possession_event.home_score)\n",
    "                rdscr.append(possession_event.away_score)\n",
    "                off_id =  possession_event.get_offense_team_id()\n",
    "                teams = list(possession_event.current_players.keys())\n",
    "                for te in teams:\n",
    "                    if te == off_id:\n",
    "                        off1.append(possession_event.current_players[te][0])\n",
    "                        off2.append(possession_event.current_players[te][1])\n",
    "                        off3.append(possession_event.current_players[te][2])\n",
    "                        off4.append(possession_event.current_players[te][3])\n",
    "                        off5.append(possession_event.current_players[te][4])\n",
    "                    else:\n",
    "                        def1.append(possession_event.current_players[te][0])\n",
    "                        def2.append(possession_event.current_players[te][1])\n",
    "                        def3.append(possession_event.current_players[te][2])\n",
    "                        def4.append(possession_event.current_players[te][3])\n",
    "                        def5.append(possession_event.current_players[te][4])\n",
    "    hm_pts = []\n",
    "    rd_pts = []\n",
    "    for i in range(len(hmscr)-1):\n",
    "        hm_pts.append(hmscr[i+1]-hmscr[i])\n",
    "        rd_pts.append(rdscr[i+1]-rdscr[i])\n",
    "    pts = []\n",
    "    pts.append(max(hmscr[0],hmscr[0]))\n",
    "    for i in range(len(hmscr)-1):\n",
    "        pts.append(max(hm_pts[i],rd_pts[i]))\n",
    "    points.extend(pts)"
   ]
  },
  {
   "cell_type": "markdown",
   "metadata": {},
   "source": [
    "## Save DataFrame to .csv file"
   ]
  },
  {
   "cell_type": "code",
   "execution_count": null,
   "metadata": {},
   "outputs": [],
   "source": [
    "# data1 = pd.DataFrame({'Possession':posdec,'Home':hmscr,'Road':rdscr,'Points':pts})\n",
    "data = pd.DataFrame({'off1':off1, 'off2':off2, 'off3':off3, 'off4':off4, 'off5':off5, 'def1':def1, 'def2':def2, 'def3':def3, 'def4':def4, 'def5':def5, 'Points':points})\n",
    "data.to_csv ('WNBA_rapm_possessions_2021.csv',index=False)"
   ]
  }
 ],
 "metadata": {
  "interpreter": {
   "hash": "da7f6a1acbed3bc069371c7f8227ce1cf086c50bd8dde580a5e5a3ae6d907b7f"
  },
  "kernelspec": {
   "display_name": "Python 3.9.7 64-bit ('NBA-O70mvEYv': pipenv)",
   "name": "python3"
  },
  "language_info": {
   "codemirror_mode": {
    "name": "ipython",
    "version": 3
   },
   "file_extension": ".py",
   "mimetype": "text/x-python",
   "name": "python",
   "nbconvert_exporter": "python",
   "pygments_lexer": "ipython3",
   "version": "3.9.7"
  },
  "orig_nbformat": 2
 },
 "nbformat": 4,
 "nbformat_minor": 2
}
