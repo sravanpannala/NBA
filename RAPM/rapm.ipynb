{
 "cells": [
  {
   "cell_type": "code",
   "execution_count": 1,
   "metadata": {},
   "outputs": [],
   "source": [
    "import json\n",
    "import numpy as np\n",
    "import pandas as pd\n",
    "from sklearn.linear_model import RidgeCV"
   ]
  },
  {
   "cell_type": "code",
   "execution_count": 2,
   "metadata": {},
   "outputs": [],
   "source": [
    "f=open(\"../data/WNBA.json\")\n",
    "player_id = []\n",
    "data = json.load(f)\n",
    "data = data[\"players\"]\n",
    "player_dict = {int(k):v for k,v in data.items()}"
   ]
  },
  {
   "cell_type": "code",
   "execution_count": 3,
   "metadata": {},
   "outputs": [],
   "source": [
    "# Select Yeat to calculate RAPM\n",
    "year = 2020\n",
    "possessions = pd.read_csv(\"fdata\\WNBA_rapm_possessions_{0}.csv\".format(year))"
   ]
  },
  {
   "cell_type": "code",
   "execution_count": 4,
   "metadata": {},
   "outputs": [],
   "source": [
    "def build_player_list(posessions):\n",
    "    players = list(\n",
    "        set(list(posessions['off1'].unique()) + list(posessions['off2'].unique()) + \n",
    "            list(posessions['off3']) + list(posessions['off4'].unique()) + \n",
    "            list(posessions['off5'].unique()) + list(posessions['def1'].unique()) + \n",
    "            list(posessions['def2'].unique()) + list(posessions['def3'].unique()) + \n",
    "            list(posessions['def4'].unique()) + list(posessions['def5'].unique())))\n",
    "    players.sort()\n",
    "    return players"
   ]
  },
  {
   "cell_type": "code",
   "execution_count": 5,
   "metadata": {},
   "outputs": [],
   "source": [
    "player_list = build_player_list(possessions)\n",
    "possessions['PointsPerPossession'] = 100 * possessions['Points'] \n",
    "# possessions.head()"
   ]
  },
  {
   "cell_type": "code",
   "execution_count": 6,
   "metadata": {},
   "outputs": [],
   "source": [
    "def map_players(row_in, players):\n",
    "    p1 = row_in[0]\n",
    "    p2 = row_in[1]\n",
    "    p3 = row_in[2]\n",
    "    p4 = row_in[3]\n",
    "    p5 = row_in[4]\n",
    "    p6 = row_in[5]\n",
    "    p7 = row_in[6]\n",
    "    p8 = row_in[7]\n",
    "    p9 = row_in[8]\n",
    "    p10 = row_in[9]\n",
    "\n",
    "    rowOut = np.zeros([len(players) * 2])\n",
    "\n",
    "    rowOut[players.index(p1)] = 1\n",
    "    rowOut[players.index(p2)] = 1\n",
    "    rowOut[players.index(p3)] = 1\n",
    "    rowOut[players.index(p4)] = 1\n",
    "    rowOut[players.index(p5)] = 1\n",
    "\n",
    "    rowOut[players.index(p6) + len(players)] = -1\n",
    "    rowOut[players.index(p7) + len(players)] = -1\n",
    "    rowOut[players.index(p8) + len(players)] = -1\n",
    "    rowOut[players.index(p9) + len(players)] = -1\n",
    "    rowOut[players.index(p10) + len(players)] = -1\n",
    "\n",
    "    return rowOut"
   ]
  },
  {
   "cell_type": "code",
   "execution_count": 7,
   "metadata": {},
   "outputs": [],
   "source": [
    "# Break the dataframe into x_train (nxm matrix), y_train (nx1 matrix of target values), and weights (not necessary because all rows will have 1 possession)\n",
    "def convert_to_matricies(possessions, name, players):\n",
    "    # extract only the columns we need\n",
    "\n",
    "    # Convert the columns of player ids into a numpy matrix\n",
    "    stints_x_base = possessions[['off1', 'off2','off3', 'off4', 'off5',\n",
    "                                 'def1', 'def2', 'def3', 'def4', 'def5']].to_numpy()\n",
    "    # Apply our mapping function to the numpy matrix\n",
    "    stint_X_rows = np.apply_along_axis(map_players, 1, stints_x_base, players)\n",
    "\n",
    "    # Convert the column of target values into a numpy matrix\n",
    "    stint_Y_rows = possessions[name].to_numpy()\n",
    "\n",
    "    # return matricies and possessions series\n",
    "    return stint_X_rows, stint_Y_rows"
   ]
  },
  {
   "cell_type": "code",
   "execution_count": 8,
   "metadata": {},
   "outputs": [],
   "source": [
    "train_x, train_y = convert_to_matricies(possessions, 'PointsPerPossession', player_list)"
   ]
  },
  {
   "cell_type": "code",
   "execution_count": 9,
   "metadata": {},
   "outputs": [],
   "source": [
    "# Convert lambda value to alpha needed for ridge CV\n",
    "def lambda_to_alpha(lambda_value, samples):\n",
    "    return (lambda_value * samples) / 2.0\n",
    "\n",
    "# Convert RidgeCV alpha back into a lambda value\n",
    "def alpha_to_lambda(alpha_value, samples):\n",
    "    return (alpha_value * 2.0) / samples"
   ]
  },
  {
   "cell_type": "code",
   "execution_count": 14,
   "metadata": {},
   "outputs": [],
   "source": [
    "def calculate_rapm(train_x, train_y, lambdas, name, players):\n",
    "    # convert our lambdas to alphas\n",
    "    alphas = [lambda_to_alpha(l, train_x.shape[0]) for l in lambdas]\n",
    "\n",
    "    # create a 5 fold CV ridgeCV model. Our target data is not centered at 0, so we want to fit to an intercept.\n",
    "    #clf = RidgeCV(alphas=alphas, cv=5, fit_intercept=True, normalize=False)\n",
    "    # normalize option Deprecated \n",
    "    clf = RidgeCV(alphas=alphas, cv=5, fit_intercept=True)\n",
    "\n",
    "    # fit our training data\n",
    "    model = clf.fit(train_x, train_y,)\n",
    "\n",
    "    # convert our list of players into a mx1 matrix\n",
    "    player_arr = np.transpose(np.array(players).reshape(1, len(players)))\n",
    "\n",
    "    # extract our coefficients into the offensive and defensive parts\n",
    "    coef_offensive_array = model.coef_[0:len(players)][np.newaxis].T\n",
    "    coef_defensive_array = model.coef_[len(players):][np.newaxis].T\n",
    "\n",
    "    # concatenate the offensive and defensive values with the playey ids into a mx3 matrix\n",
    "    player_id_with_coef = np.concatenate([player_arr, coef_offensive_array, coef_defensive_array], axis=1)\n",
    "    # build a dataframe from our matrix\n",
    "    players_coef = pd.DataFrame(player_id_with_coef)\n",
    "    intercept = model.intercept_\n",
    "\n",
    "    # apply new column names\n",
    "    players_coef.columns = ['playerId', 'O{0}'.format(name),         \n",
    "    'D{0}'.format(name)]\n",
    "\n",
    "    # Add the offesnive and defensive components together (we should really be weighing this to the number of offensive and defensive possession played as they are often not equal).\n",
    "    players_coef[name] = players_coef['O{0}'.format(name)] + players_coef['D{0}'.format(name)]\n",
    "\n",
    "    # rank the values\n",
    "    players_coef['{0} Rank'.format(name)] = players_coef[name].rank(ascending=False)\n",
    "    players_coef['O{0} Rank'.format(name)] = players_coef[         \n",
    "        'O{0}'.format(name)].rank(ascending=False)\n",
    "    players_coef['D{0} Rank'.format(name)] = players_coef[\n",
    "        'D{0}'.format(name)].rank(ascending=False)\n",
    "\n",
    "    return players_coef, intercept"
   ]
  },
  {
   "cell_type": "code",
   "execution_count": 15,
   "metadata": {},
   "outputs": [],
   "source": [
    "lambdas_rapm = [.01, .05, .1]"
   ]
  },
  {
   "cell_type": "code",
   "execution_count": 16,
   "metadata": {},
   "outputs": [],
   "source": [
    "results, intercept = calculate_rapm(train_x, train_y, lambdas_rapm, 'RAPM', player_list)\n",
    "results = np.round(results, decimals=2)\n",
    "results = results.reindex(sorted(results.columns), axis=1)\n",
    "results['playerId']=results['playerId'].astype('int')\n",
    "results['RAPM Rank']=results['RAPM Rank'].astype('int')\n",
    "results['ORAPM Rank']=results['ORAPM Rank'].astype('int')\n",
    "results['DRAPM Rank']=results['DRAPM Rank'].astype('int')\n",
    "results['Player Name']=results['playerId'].map(player_dict)\n",
    "results = results.sort_values(by=['RAPM'],ascending=False)\n",
    "results = results.reset_index(drop=True)\n",
    "results = results.drop(columns=['playerId'])\n",
    "results['Year']=year\n",
    "results = results[['Player Name','RAPM','RAPM Rank','ORAPM','ORAPM Rank','DRAPM','DRAPM Rank','Year']]"
   ]
  },
  {
   "cell_type": "code",
   "execution_count": 18,
   "metadata": {},
   "outputs": [],
   "source": [
    "# rapm.to_csv('WNBA_RAPM.csv',index=False)"
   ]
  }
 ],
 "metadata": {
  "interpreter": {
   "hash": "da7f6a1acbed3bc069371c7f8227ce1cf086c50bd8dde580a5e5a3ae6d907b7f"
  },
  "kernelspec": {
   "display_name": "Python 3.9.7 64-bit ('NBA-O70mvEYv': pipenv)",
   "name": "python3"
  },
  "language_info": {
   "codemirror_mode": {
    "name": "ipython",
    "version": 3
   },
   "file_extension": ".py",
   "mimetype": "text/x-python",
   "name": "python",
   "nbconvert_exporter": "python",
   "pygments_lexer": "ipython3",
   "version": "3.11.6"
  },
  "orig_nbformat": 4
 },
 "nbformat": 4,
 "nbformat_minor": 2
}
