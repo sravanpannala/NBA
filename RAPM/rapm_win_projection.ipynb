{
 "cells": [
  {
   "cell_type": "code",
   "execution_count": null,
   "metadata": {},
   "outputs": [],
   "source": [
    "import os, sys\n",
    "\n",
    "sys.path.append(os.path.dirname(os.path.dirname(os.path.abspath(\"__file__\"))))\n",
    "from nbafuns import *\n",
    "\n",
    "data_DIR = \"../data/rapm/\"\n",
    "export_DIR = \"./fdata/\"\n",
    "\n",
    "fig_DIR = \"../figs/rapm/\"\n",
    "\n",
    "league = \"NBA\""
   ]
  },
  {
   "cell_type": "code",
   "execution_count": null,
   "metadata": {},
   "outputs": [],
   "source": [
    "\n",
    "season = \"2022\"\n",
    "df = pd.read_csv(export_DIR + \"single_season/\"  + league + \"_RAPM_\" + season + \".csv\")"
   ]
  },
  {
   "cell_type": "code",
   "execution_count": null,
   "metadata": {},
   "outputs": [],
   "source": [
    "# possessions = pd.read_parquet(data_DIR + league +\"_rapm_possessions_\" + season + \".parquet\")"
   ]
  },
  {
   "cell_type": "code",
   "execution_count": null,
   "metadata": {},
   "outputs": [],
   "source": [
    "dfa = []\n",
    "for season in range(2010,2024):\n",
    "    df_r = pd.read_csv(export_DIR + \"single_season/\"  + league + \"_RAPM_\" + f\"{season}\" + \".csv\")\n",
    "    dfa.append(df_r)\n",
    "data = pd.concat(dfa)\n",
    "data[\"PlayerDup\"] = data[\"Player\"]\n",
    "data1 = data.copy().drop(columns=[\"Player\"])"
   ]
  },
  {
   "cell_type": "code",
   "execution_count": null,
   "metadata": {},
   "outputs": [],
   "source": [
    "# df = data[data[\"RAPM_R\"]<30]\n",
    "players_select = [\"Stephen Curry\", \"LeBron James\", \"Chris Paul\", \"James Harden\", \"Kawhi Leonard\", \"Draymond Green\",\"Kevin Durant\",\n",
    "                  \"Nikola Jokic\", \"Joel Embiid\"]#, \"Luka Doncic\"]\n",
    "# players_select = [\"LeBron James\",\"Kevin Durant\", \"Nikola Jokic\", \"Joel Embiid\"]#, \"Luka Doncic\"]\n",
    "# players_select = [\"Paul George\"]\n",
    "df = data[data[\"Player\"].isin(players_select)]\n",
    "\n",
    "df1 = data1[data1[\"PlayerDup\"].isin(players_select)]\n"
   ]
  },
  {
   "cell_type": "code",
   "execution_count": null,
   "metadata": {},
   "outputs": [],
   "source": [
    "df.head()"
   ]
  },
  {
   "cell_type": "code",
   "execution_count": null,
   "metadata": {},
   "outputs": [],
   "source": [
    "theme_rapm = themes.theme_minimal(base_size=9, base_family=\"Tahoma\")\n",
    "theme_rapm += theme(\n",
    "    plot_background = element_rect(fill = 'ghostwhite', color = \"ghostwhite\"),\n",
    "    plot_title=element_text(face=\"bold\", size=16),\n",
    "    strip_text=element_text(face=\"bold\", size=10),\n",
    "    plot_caption=element_text(size=10),\n",
    "    plot_subtitle=element_text(size=12),\n",
    "    axis_text_x=element_text(size=8),\n",
    "    axis_text_y=element_text(size=8),\n",
    "    axis_title_x=element_text(size=12),\n",
    "    axis_title_y=element_text(size=12),\n",
    ")"
   ]
  },
  {
   "cell_type": "code",
   "execution_count": null,
   "metadata": {},
   "outputs": [],
   "source": [
    "p = (\n",
    "    ggplot(df)\n",
    "    + geom_point(df1,aes(x=\"Year\", y = \"RAPM\", group=\"PlayerDup\"),color=\"lightgrey\")\n",
    "    + geom_line(df1,aes(x=\"Year\",y = \"RAPM\", group=\"PlayerDup\"),color=\"lightgrey\",size=1)\n",
    "    + geom_point(aes(x=\"Year\",y = \"RAPM\", group =\"Player\", color = \"Player\"))\n",
    "    + geom_line(aes(x=\"Year\",y = \"RAPM\", group =\"Player\", color = \"Player\"),size=3)\n",
    "    + facet_wrap(facets=\"~ Player\")\n",
    "    # + geom_line(aes(x=\"Year\",y = \"RAPM_wP\", group = \"Player\"))\n",
    "    # + geom_line(aes(x=\"Year\",y = \"RAPM_wP\"),size=2)\n",
    "    # + scale_color_manual([\"b\",\"r\",\"g\",\"c\",\"y\",\"k\",\"orange\",\"violet\",\"gold\"])\n",
    "    # + scale_color_manual(values=[\"black\",\"red\"])\n",
    "    + theme_idv\n",
    "    + labs(\n",
    "        title = \"RAPM 2016-24\"\n",
    "    )\n",
    "    + theme(\n",
    "        figure_size=(10,6),\n",
    "        legend_position=\"none\"\n",
    "    )\n",
    ")\n",
    "# p.save(fig_DIR + \"rapm_wP_2015_2023.png\",dpi=300)\n",
    "p.draw()"
   ]
  },
  {
   "cell_type": "code",
   "execution_count": null,
   "metadata": {},
   "outputs": [],
   "source": [
    "possessions = pd.read_parquet(data_DIR + league +\"_rapm_possessions_\" + f\"{season}\" + \".parquet\")"
   ]
  },
  {
   "cell_type": "code",
   "execution_count": null,
   "metadata": {},
   "outputs": [],
   "source": [
    "possg = possessions.groupby([\"gid\",\"offt\"])\n",
    "poss1 = possg[[\"pts\"]].agg({\"pts\":[\"count\",\"sum\"]})\n",
    "poss1.columns = [\"poss\",\"pts\"]\n",
    "possg = possessions.groupby([\"gid\",\"deft\"])\n",
    "poss2 = possg[[\"pts\"]].agg({\"pts\":[\"count\",\"sum\"]})\n",
    "poss2.columns = [\"poss\",\"pts\"]"
   ]
  },
  {
   "cell_type": "code",
   "execution_count": null,
   "metadata": {},
   "outputs": [],
   "source": [
    "poss2.reset_index()"
   ]
  },
  {
   "cell_type": "code",
   "execution_count": null,
   "metadata": {},
   "outputs": [],
   "source": [
    "poss1"
   ]
  }
 ],
 "metadata": {
  "kernelspec": {
   "display_name": "nba-ub9Z_EQq-py3.11",
   "language": "python",
   "name": "python3"
  },
  "language_info": {
   "codemirror_mode": {
    "name": "ipython",
    "version": 3
   },
   "file_extension": ".py",
   "mimetype": "text/x-python",
   "name": "python",
   "nbconvert_exporter": "python",
   "pygments_lexer": "ipython3",
   "version": "3.11.6"
  }
 },
 "nbformat": 4,
 "nbformat_minor": 2
}
