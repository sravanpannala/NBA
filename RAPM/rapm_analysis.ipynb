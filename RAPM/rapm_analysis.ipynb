{
 "cells": [
  {
   "cell_type": "code",
   "execution_count": null,
   "metadata": {},
   "outputs": [],
   "source": [
    "import os, sys\n",
    "\n",
    "sys.path.append(os.path.dirname(os.path.dirname(os.path.abspath(\"__file__\"))))\n",
    "from nbafuns import *\n",
    "import chart_studio.plotly as py\n",
    "\n",
    "data_DIR = \"../fdata/\"\n",
    "export_DIR = \"./fdata/\"\n",
    "\n",
    "fig_DIR = \"../figs/rapm/\"\n",
    "\n",
    "%matplotlib widget"
   ]
  },
  {
   "cell_type": "code",
   "execution_count": null,
   "metadata": {},
   "outputs": [],
   "source": [
    "def build_player_list(possessions):\n",
    "    p = [possessions.iloc[:,i].unique() for i in range(10)]\n",
    "    players = list(set(chain(*p)))\n",
    "    players.sort()\n",
    "    return players\n",
    "\n",
    "def get_prior_map(cts,prior_weight,n):\n",
    "    scts = np.sort(cts)\n",
    "    idx_h = int(len(cts)/2)\n",
    "    # linear prior map\n",
    "    # prior_map = np.linspace(-1,1,scts[-1]+1)\n",
    "    # log based prior map\n",
    "    prior_map1 = -prior_weight*(np.logspace(0,-n,scts[idx_h]+1)-10**(-n))\n",
    "    prior_map2 = prior_weight*(np.flipud(np.logspace(0,-n,scts[-1] - scts[idx_h]))-10**(-n))\n",
    "    prior_map = np.concatenate([prior_map1,prior_map2])\n",
    "    \n",
    "    return prior_map"
   ]
  },
  {
   "cell_type": "markdown",
   "metadata": {},
   "source": [
    "# Compare Multi Year RAPM with Prior"
   ]
  },
  {
   "cell_type": "code",
   "execution_count": null,
   "metadata": {},
   "outputs": [],
   "source": [
    "league = \"NBA\"\n",
    "season = \"2023\"\n",
    "multi = 3\n",
    "n = -1\n",
    "sort_col = \"RAPM_R_wP\""
   ]
  },
  {
   "cell_type": "code",
   "execution_count": null,
   "metadata": {},
   "outputs": [],
   "source": [
    "season_start = 2015\n",
    "season_end = 2023\n",
    "seasons = np.arange(season_start, season_end, 1).astype(str)\n",
    "dfa = []\n",
    "for season in seasons:\n",
    "    df1 = pd.read_csv(export_DIR + \"multi_season/\" + league + \"_RAPM_\" + season + \"_\" + f\"{multi}_yr_wP.csv\",)\n",
    "    dfa.append(df1)\n",
    "data = pd.concat(dfa)"
   ]
  },
  {
   "cell_type": "code",
   "execution_count": null,
   "metadata": {},
   "outputs": [],
   "source": [
    "# df = data[data[\"RAPM_R\"]<30]\n",
    "players_select = [\"Stephen Curry\", \"LeBron James\", \"Chris Paul\", \"James Harden\", \"Kawhi Leonard\", \"Draymond Green\",\"Kevin Durant\",\n",
    "                  \"Nikola Jokic\", \"Joel Embiid\"]#, \"Luka Doncic\"]\n",
    "df = data[data[\"Player\"].isin(players_select)]"
   ]
  },
  {
   "cell_type": "code",
   "execution_count": null,
   "metadata": {},
   "outputs": [],
   "source": [
    "theme_rapm = themes.theme_minimal(base_size=9, base_family=\"Tahoma\")\n",
    "theme_rapm += theme(\n",
    "    plot_background = element_rect(fill = 'ghostwhite', color = \"ghostwhite\"),\n",
    "    plot_title=element_text(face=\"bold\", size=16),\n",
    "    strip_text=element_text(face=\"bold\", size=10),\n",
    "    plot_caption=element_text(size=10),\n",
    "    plot_subtitle=element_text(size=12),\n",
    "    axis_text_x=element_text(size=8),\n",
    "    axis_text_y=element_text(size=8),\n",
    "    axis_title_x=element_text(size=12),\n",
    "    axis_title_y=element_text(size=12),\n",
    ")"
   ]
  },
  {
   "cell_type": "code",
   "execution_count": null,
   "metadata": {},
   "outputs": [],
   "source": [
    "df.columns"
   ]
  },
  {
   "cell_type": "code",
   "execution_count": null,
   "metadata": {},
   "outputs": [],
   "source": [
    "p = (\n",
    "    ggplot(df,aes(x=\"Year\",y = \"ORAPM\", group=\"Player\", color =\"Player\"))\n",
    "    + geom_point()\n",
    "    + geom_line()\n",
    "    # + scale_color_manual([\"b\",\"r\",\"g\",\"c\",\"y\",\"k\",\"orange\",\"violet\",\"gold\"])\n",
    "    + scale_color_discrete()\n",
    "    + theme_rapm\n",
    ")\n",
    "p.draw()"
   ]
  },
  {
   "cell_type": "markdown",
   "metadata": {},
   "source": [
    "# Compare RAPM with and without Prior"
   ]
  },
  {
   "cell_type": "markdown",
   "metadata": {},
   "source": [
    "## For same Prior Maps"
   ]
  },
  {
   "cell_type": "code",
   "execution_count": null,
   "metadata": {},
   "outputs": [],
   "source": [
    "league = \"NBA\"\n",
    "season = \"2023\"\n",
    "multi = 3\n",
    "n = -1\n",
    "sort_col = \"RAPM_R_wP\""
   ]
  },
  {
   "cell_type": "code",
   "execution_count": null,
   "metadata": {},
   "outputs": [],
   "source": [
    "df1 = pd.read_csv(export_DIR + \"multi_season/\" + league + \"_RAPM_\" + season + \"_\" + f\"{multi}_yr_wP.csv\")\n",
    "df2 = pd.read_csv(export_DIR + \"multi_season/\" + league + \"_RAPM_\" + season + \"_\" + f\"{multi}_yr.csv\")\n",
    "df2 = df2[[\"Player\",\"RAPM\",\"RAPM_R\"]]\n",
    "df3 = pd.merge(df1,df2, on=\"Player\", suffixes=(\"_wP\", \"\"))\n",
    "df3[\"Diff\"] = df3[\"RAPM_wP\"] - df3[\"RAPM\"]\n",
    "df3[\"Diff_R\"] = -df3[\"RAPM_R_wP\"] + df3[\"RAPM_R\"]\n",
    "df3.insert(13,\"Possessions\",df3.pop(\"Possessions\"))\n",
    "df3.insert(13,\"Prior\",df3.pop(\"Prior\"))\n",
    "df3 = df3.drop(columns=[\"Year\",\"ORAPM\",\"DRAPM\",\"ORAPM_R\",\"DRAPM_R\"])\n",
    "df3 = df3.sort_values(by=sort_col).reset_index(drop=True)\n",
    "df = df3.head(n).copy()"
   ]
  },
  {
   "cell_type": "code",
   "execution_count": null,
   "metadata": {},
   "outputs": [],
   "source": [
    "x_var = \"RAPM\"\n",
    "var = \"RAPM_wP\"\n",
    "fig_10 = px.scatter(df, x=x_var, y=var,width=800, height=600, hover_name=\"Player\",hover_data=[\"RAPM\",\"RAPM_wP\",\"Possessions\"],color_discrete_sequence =[\"blue\"])\n",
    "fig_line = px.line(df, x = \"RAPM\", y = \"RAPM\",color_discrete_sequence=[\"black\"])\n",
    "fig = go.Figure(data = fig_10.data + fig_line.data)\n",
    "fig.update_layout( width=800, height=600, showlegend=True)\n",
    "fig.update_layout( title=dict(\n",
    "                        text=\"3 Year RAPM vs RAPM with Prior 2021-24\",\n",
    "                        xanchor=\"auto\",\n",
    "                        yanchor=\"middle\",\n",
    "                        font=dict(family=\"Arial, Tahoma, Helvetica\", size=25, color=\"Black\")\n",
    "                    ),\n",
    "            )\n",
    "fig.update_xaxes(title_text=x_var)\n",
    "fig.update_yaxes(title_text=var)\n",
    "fig.update_layout(legend=dict(\n",
    "    yanchor=\"top\",\n",
    "    y=0.99,\n",
    "    xanchor=\"left\",\n",
    "    x=0.01\n",
    "))\n",
    "\n",
    "fig.show()\n",
    "# fig.write_image(fig_DIR + \"RAPM_vs_RAPM_wP_\"+ season + \"_\" + f\"{multi}_yr.png\", scale=5)\n",
    "py.plot(fig, filename = \"RAPM_vs_RAPM_wP\", auto_open = True)"
   ]
  },
  {
   "cell_type": "markdown",
   "metadata": {},
   "source": [
    "## For different Prior Maps"
   ]
  },
  {
   "cell_type": "code",
   "execution_count": null,
   "metadata": {},
   "outputs": [],
   "source": [
    "# df1 = pd.read_csv(export_DIR + league + \"_RAPM_\" + season + \"_wP.csv\")\n",
    "# df2 = pd.read_csv(export_DIR + league + \"_RAPM_\" + season + \".csv\")\n",
    "league = \"NBA\"\n",
    "season = \"2022\"\n",
    "multi = 3\n",
    "n = -1\n",
    "sort_col = \"RAPM_R_wP\""
   ]
  },
  {
   "cell_type": "code",
   "execution_count": null,
   "metadata": {},
   "outputs": [],
   "source": [
    "prior_power = 1\n",
    "df1 = pd.read_csv(export_DIR + \"multi_season/\" + league + \"_RAPM_\" + season + \"_\" + f\"{multi}_yr_wP_{(10*prior_power):0.0f}.csv\")\n",
    "df2 = pd.read_csv(export_DIR + \"multi_season/\" + league + \"_RAPM_\" + season + \"_\" + f\"{multi}_yr.csv\")\n",
    "df2 = df2[[\"Player\",\"RAPM\",\"RAPM_R\"]]\n",
    "df3 = pd.merge(df1,df2, on=\"Player\", suffixes=(\"_wP\", \"\"))\n",
    "df3[\"Diff\"] = df3[\"RAPM_wP\"] - df3[\"RAPM\"]\n",
    "df3[\"Diff_R\"] = -df3[\"RAPM_R_wP\"] + df3[\"RAPM_R\"]\n",
    "df3.insert(13,\"Possessions\",df3.pop(\"Possessions\"))\n",
    "df3.insert(13,\"Prior\",df3.pop(\"Prior\"))\n",
    "df3 = df3.drop(columns=[\"Year\",\"ORAPM\",\"DRAPM\",\"ORAPM_R\",\"DRAPM_R\"])\n",
    "df3 = df3.sort_values(by=sort_col).reset_index(drop=True)\n",
    "df_10 = df3.head(n).copy()"
   ]
  },
  {
   "cell_type": "code",
   "execution_count": null,
   "metadata": {},
   "outputs": [],
   "source": [
    "prior_power = 1.5\n",
    "df1 = pd.read_csv(export_DIR + \"multi_season/\" + league + \"_RAPM_\" + season + \"_\" + f\"{multi}_yr_wP_{(10*prior_power):0.0f}.csv\")\n",
    "df2 = pd.read_csv(export_DIR + \"multi_season/\" + league + \"_RAPM_\" + season + \"_\" + f\"{multi}_yr.csv\")\n",
    "df2 = df2[[\"Player\",\"RAPM\",\"RAPM_R\"]]\n",
    "df3 = pd.merge(df1,df2, on=\"Player\", suffixes=(\"_wP\", \"\"))\n",
    "df3[\"Diff\"] = df3[\"RAPM_wP\"] - df3[\"RAPM\"]\n",
    "df3[\"Diff_R\"] = -df3[\"RAPM_R_wP\"] + df3[\"RAPM_R\"]\n",
    "df3.insert(13,\"Possessions\",df3.pop(\"Possessions\"))\n",
    "df3.insert(13,\"Prior\",df3.pop(\"Prior\"))\n",
    "df3 = df3.drop(columns=[\"Year\",\"ORAPM\",\"DRAPM\",\"ORAPM_R\",\"DRAPM_R\"])\n",
    "df3 = df3.sort_values(by=sort_col).reset_index(drop=True)\n",
    "df_15 = df3.head(n).copy()"
   ]
  },
  {
   "cell_type": "code",
   "execution_count": null,
   "metadata": {},
   "outputs": [],
   "source": [
    "prior_power = 2\n",
    "df1 = pd.read_csv(export_DIR + \"multi_season/\" + league + \"_RAPM_\" + season + \"_\" + f\"{multi}_yr_wP_{(10*prior_power):0.0f}.csv\")\n",
    "df2 = pd.read_csv(export_DIR + \"multi_season/\" + league + \"_RAPM_\" + season + \"_\" + f\"{multi}_yr.csv\")\n",
    "df2 = df2[[\"Player\",\"RAPM\",\"RAPM_R\"]]\n",
    "df3 = pd.merge(df1,df2, on=\"Player\", suffixes=(\"_wP\", \"\"))\n",
    "df3[\"Diff\"] = df3[\"RAPM_wP\"] - df3[\"RAPM\"]\n",
    "df3[\"Diff_R\"] = -df3[\"RAPM_R_wP\"] + df3[\"RAPM_R\"]\n",
    "df3.insert(13,\"Possessions\",df3.pop(\"Possessions\"))\n",
    "df3.insert(13,\"Prior\",df3.pop(\"Prior\"))\n",
    "df3 = df3.drop(columns=[\"Year\",\"ORAPM\",\"DRAPM\",\"ORAPM_R\",\"DRAPM_R\"])\n",
    "df3 = df3.sort_values(by=sort_col).reset_index(drop=True)\n",
    "df_20 = df3.head(n).copy()"
   ]
  },
  {
   "cell_type": "code",
   "execution_count": null,
   "metadata": {},
   "outputs": [],
   "source": [
    "df_15.head(5)"
   ]
  },
  {
   "cell_type": "code",
   "execution_count": null,
   "metadata": {},
   "outputs": [],
   "source": [
    "\n",
    "x_var = \"RAPM\"\n",
    "var = \"RAPM_wP\"\n",
    "fig_10 = px.scatter(df_10, x=x_var, y=var,width=800, height=600, hover_name=\"Player\",hover_data=[\"RAPM\",\"RAPM_wP\",\"Possessions\"],color_discrete_sequence =[\"blue\"])\n",
    "fig_15 = px.scatter(df_15, x=x_var, y=var,width=800, height=600, hover_name=\"Player\",hover_data=[\"RAPM\",\"RAPM_wP\",\"Possessions\"],color_discrete_sequence =[\"red\"],symbol_sequence= \"x\")\n",
    "fig_20 = px.scatter(df_20, x=x_var, y=var,width=800, height=600, hover_name=\"Player\",hover_data=[\"RAPM\",\"RAPM_wP\",\"Possessions\"],color_discrete_sequence =[\"green\"],symbol_sequence= \"x\")\n",
    "# fig_line = px.line(df_10, x = \"RAPM\", y = \"RAPM\",color_discrete_sequence=[\"black\"])\n",
    "fig = go.Figure(data = fig_10.data + fig_15.data) # + fig_20.data)# + fig_line.data)\n",
    "fig.update_layout(width=800, height=600, showlegend=True)\n",
    "fig.update_xaxes(title_text=x_var)\n",
    "fig.update_yaxes(title_text=var)\n",
    "fig.update_layout(legend=dict(\n",
    "    yanchor=\"top\",\n",
    "    y=0.99,\n",
    "    xanchor=\"left\",\n",
    "    x=0.01\n",
    "))\n",
    "\n",
    "fig.show()"
   ]
  },
  {
   "cell_type": "code",
   "execution_count": null,
   "metadata": {},
   "outputs": [],
   "source": [
    "fig, ax = plt.subplots(1,1)\n",
    "sns.scatterplot(y=\"RAPM_wP\", x=\"Possessions\", data=df_10, color=\"blue\", ax =ax)\n",
    "sns.scatterplot(y=\"RAPM_wP\", x=\"Possessions\", data=df_20, color=\"red\", ax =ax)"
   ]
  },
  {
   "cell_type": "code",
   "execution_count": null,
   "metadata": {},
   "outputs": [],
   "source": [
    "prior_weight = 5\n",
    "multi = 3\n",
    "league = \"NBA\"\n",
    "season = \"2015\""
   ]
  },
  {
   "cell_type": "code",
   "execution_count": null,
   "metadata": {},
   "outputs": [],
   "source": [
    "yr = int(season)\n",
    "seasons = (np.arange(yr-multi,yr)+1).astype(str)\n",
    "posa = []\n",
    "for s in seasons:\n",
    "    poss = pd.read_parquet(data_DIR + league +\"_rapm_possessions_\" + s + \".parquet\")\n",
    "    posa.append(poss)\n",
    "possessions = pd.concat(posa)\n",
    "print(len(possessions))\n",
    "player_list = build_player_list(possessions)\n",
    "possessions[\"PPP\"] = 100 * possessions[\"pts\"]\n",
    "p = possessions.iloc[:,:10].to_numpy()\n",
    "puq, cts = np.unique(p.flatten(), return_counts=True) \n",
    "scts = np.sort(cts)\n",
    "idx_h = int(len(cts)/2)\n",
    "# linear prior map\n",
    "# prior_map = np.linspace(-1,1,scts[-1]+1)\n",
    "# log based prior map\n",
    "prior_map05 = get_prior_map(cts,prior_weight,0.5)\n",
    "prior_map10 = get_prior_map(cts,prior_weight,1)\n",
    "prior_map15 = get_prior_map(cts,prior_weight,1.5)\n",
    "prior_map20 = get_prior_map(cts,prior_weight,2)\n",
    "prior_map30 = get_prior_map(cts,prior_weight,2)"
   ]
  },
  {
   "cell_type": "code",
   "execution_count": null,
   "metadata": {},
   "outputs": [],
   "source": [
    "quantiles = ['25%','50%', '75%']\n",
    "desc  = df_10[\"Possessions\"].describe()"
   ]
  },
  {
   "cell_type": "code",
   "execution_count": null,
   "metadata": {},
   "outputs": [],
   "source": [
    "fig,ax = plt.subplots(1,1)\n",
    "sns.set_style(\"white\")\n",
    "sns.scatterplot(x = cts,y = prior_map10[cts],ax=ax, color = \"blue\")\n",
    "sns.scatterplot(x = cts,y = prior_map15[cts],ax=ax, color = \"red\")\n",
    "sns.scatterplot(x = cts,y = prior_map20[cts],ax=ax, color = \"green\")\n",
    "ax1 = ax.twinx() \n",
    "sns.kdeplot(df_10,x = \"Possessions\", ax = ax1, color =\"gold\")\n",
    "for i in range(3):\n",
    "    ax.axvline(desc[quantiles[i]], color = \"black\")\n",
    "ax.set_title(\"Possessions Based Prior for RAPM\",fontsize =14, fontweight = \"bold\")\n",
    "ax.set_xlabel(\"Possessions Played\")\n",
    "ax.set_ylabel(\"Prior\")\n",
    "ax.set_xlim([0,34000])\n",
    "ax.legend([\"1\",\"1.5\",\"2\"], title=\"Power\", loc = \"center right\")\n",
    "ax1.legend([\"Possession Density\"], loc = \"lower right\")\n",
    "plt.savefig(fig_DIR + \"rapm_poss_based_prior.png\", dpi=300)"
   ]
  },
  {
   "cell_type": "markdown",
   "metadata": {},
   "source": [
    "## Possessions for 3 year period\n",
    "2015: 701836  \n",
    "2016: 706883  \n",
    "2017: 713871  \n",
    "2018: 723597  \n",
    "2019: 698837  \n",
    "2020: 673942  \n",
    "2021: 668777  \n",
    "2022: 700540  \n",
    "2023: 541274  "
   ]
  }
 ],
 "metadata": {
  "kernelspec": {
   "display_name": "nba-ub9Z_EQq-py3.11",
   "language": "python",
   "name": "python3"
  },
  "language_info": {
   "codemirror_mode": {
    "name": "ipython",
    "version": 3
   },
   "file_extension": ".py",
   "mimetype": "text/x-python",
   "name": "python",
   "nbconvert_exporter": "python",
   "pygments_lexer": "ipython3",
   "version": "3.11.6"
  }
 },
 "nbformat": 4,
 "nbformat_minor": 2
}
