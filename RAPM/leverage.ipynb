{
 "cells": [
  {
   "cell_type": "markdown",
   "metadata": {},
   "source": [
    "# Leverage using PBP stats method"
   ]
  },
  {
   "cell_type": "code",
   "execution_count": null,
   "metadata": {},
   "outputs": [],
   "source": [
    "import os, sys\n",
    "\n",
    "sys.path.append(os.path.dirname(os.path.dirname(os.path.abspath(\"__file__\"))))\n",
    "from nbafuns import *\n",
    "from sklearnex import patch_sklearn\n",
    "patch_sklearn()\n",
    "from sklearn.linear_model import RidgeCV, Ridge\n",
    "from joblib import Parallel, delayed, parallel_backend\n",
    "\n",
    "data_DIR = \"../data/rapm/\"\n",
    "export_DIR = \"./fdata/\"\n",
    "misc_DIR = \"../data/misc/\"\n",
    "model_path = \"../data/models/\"\n",
    "pbp_DIR = \"../data/pbpdata/\"\n",
    "\n",
    "fig_DIR = \"../figs/rapm/\""
   ]
  },
  {
   "cell_type": "code",
   "execution_count": null,
   "metadata": {},
   "outputs": [],
   "source": [
    "seasons = np.arange(2017,2024)\n",
    "box = get_box(\"T\",\"Base\",False,seasons)\n",
    "box = box.loc[box[\"matchup\"].str.contains(\" vs. \")]\n",
    "# box[\"matchup\"] = box[\"matchup\"].str.replace(\" \",\"\")\n",
    "box[\"matchup\"] = box[\"matchup\"].str.split(\" vs. \",expand=True)[1]\n",
    "box = box.rename(columns={\"team_abbreviation\":\"home_team_abbrev\", \"matchup\":\"visit_team_abbrev\",\"team_id\":\"tidh\"})\n",
    "box[\"win\"] = np.where(box[\"wl\"] == \"W\",1,0)\n",
    "box = box[[\"game_id\",\"tidh\",\"home_team_abbrev\",\"visit_team_abbrev\",\"game_date\",\"win\"]]"
   ]
  },
  {
   "cell_type": "code",
   "execution_count": null,
   "metadata": {},
   "outputs": [],
   "source": [
    "odds = pd.read_parquet(misc_DIR + f\"odds_2024.parquet\")\n",
    "odds[\"game_date\"] = pd.to_datetime(odds[\"game_date\"])\n",
    "odds[\"net\"] = odds[\"home_team_score\"] - odds[\"visit_team_score\"]\n",
    "odds[\"win\"] = np.where(odds[\"net\"]>0,1,0)"
   ]
  },
  {
   "cell_type": "code",
   "execution_count": null,
   "metadata": {},
   "outputs": [],
   "source": [
    "oddl = odds.groupby(\"line\")[[\"win\"]].agg({\"win\":[\"sum\",\"count\"]})\n",
    "oddl = oddl.reset_index()\n",
    "oddl.columns = [\"line\",\"wins\",\"tot\"]\n",
    "oddl[\"win_pct\"] = oddl[\"wins\"]/oddl[\"tot\"]\n",
    "oddl[\"win_pct\"] = oddl[\"win_pct\"].round(3)\n",
    "oddl = oddl.rename(columns={\"line\":\"spread\"})"
   ]
  },
  {
   "cell_type": "code",
   "execution_count": null,
   "metadata": {},
   "outputs": [],
   "source": [
    "theme_idv = theme_xkcd(base_size=16)\n",
    "theme_idv += theme(\n",
    "    text=element_text(family=[\"Comic Sans MS\"]),\n",
    "    plot_title=element_text(face=\"bold\", size=20),\n",
    "    plot_caption=element_text(size=10,ha='left'),\n",
    ")\n"
   ]
  },
  {
   "cell_type": "code",
   "execution_count": null,
   "metadata": {},
   "outputs": [],
   "source": [
    "slope, intercept, r, p, sterr = scipy.stats.linregress(x=oddl[\"spread\"], y=oddl[\"win_pct\"])\n",
    "r2 = r**2\n",
    "print(r2)\n",
    "print(slope)\n",
    "print(intercept)\n",
    "slope = round(slope,4)\n",
    "intercept = round(intercept,4)"
   ]
  },
  {
   "cell_type": "code",
   "execution_count": null,
   "metadata": {},
   "outputs": [],
   "source": [
    "p = (\n",
    "    ggplot(oddl)\n",
    "    + aes(x=\"spread\",y=\"win_pct\")\n",
    "    + geom_point()\n",
    "    + geom_smooth(method=\"lm\")\n",
    "    + geom_vline(xintercept=0,color=\"blue\",linetype=\"dotted\",size=1)\n",
    "    + geom_hline(yintercept=0.5,color=\"blue\",linetype=\"dotted\",size=1)\n",
    "    + scale_y_continuous(labels=percent_format())\n",
    "    + annotate('text', x=13, y=0.98, label=f'r^2={r2:0.3f}', size=14)\n",
    "    + annotate('text', x=9.8, y=0.86, label=f'Win %=100 ({slope}*Spread+{intercept})', size=10)\n",
    "    + theme_idv\n",
    "    + labs(\n",
    "        title=\"Spread vs Win % (2017-2024)\",\n",
    "        caption=\"bsky:@sradjoker.cc | x:@SravanNBA | source: rotowire\",\n",
    "        x=\"Spread\",\n",
    "        y=\"Win %\"\n",
    "    )\n",
    ")\n",
    "p"
   ]
  },
  {
   "cell_type": "code",
   "execution_count": null,
   "metadata": {},
   "outputs": [],
   "source": [
    "odds[\"win_prob_pre\"] = -0.0266*odds[\"line\"]+0.491\n",
    "odds[\"win_prob_pre\"] = odds[\"win_prob_pre\"].round(3)\n",
    "winp1 = odds[[\"game_date\",\"home_team_abbrev\",\"visit_team_abbrev\",\"win_prob_pre\"]]\n",
    "winp = pd.merge(box,winp1)\n",
    "winp = winp[[\"game_id\",\"win_prob_pre\",\"win\"]]\n",
    "winp.columns = [\"gid\",\"win_prob_pre\",\"win\"]"
   ]
  },
  {
   "cell_type": "code",
   "execution_count": null,
   "metadata": {},
   "outputs": [],
   "source": [
    "# Define the PyTorch model\n",
    "class PyTorchModel(nn.Module):\n",
    "    def __init__(self,in_features=3,h1=12,h2=12,out_features=1):\n",
    "        super().__init__() #instsantiate our nn.Module\n",
    "        self.layer1 = nn.Linear(in_features, h1)\n",
    "        self.layer2 = nn.Linear(h1, h2)\n",
    "        self.output = nn.Linear(h2, out_features)\n",
    "    \n",
    "    def forward(self, x):\n",
    "        x = Func.relu(self.layer1(x))\n",
    "        x = Func.relu(self.layer2(x))\n",
    "        x = Func.sigmoid(self.output(x))\n",
    "        return x"
   ]
  },
  {
   "cell_type": "code",
   "execution_count": null,
   "metadata": {},
   "outputs": [],
   "source": [
    "# random seed\n",
    "rr = 99"
   ]
  },
  {
   "cell_type": "code",
   "execution_count": null,
   "metadata": {},
   "outputs": [],
   "source": [
    "# Prepare your data\n",
    "X = dfw[['margin', 'win_prob_pre', 'secs']].values\n",
    "y = dfw['win'].values\n",
    "from sklearn.model_selection import train_test_split\n",
    "# Train Test Split\n",
    "X_train, X_test, y_train, y_test = train_test_split(X,y,test_size=0.2,random_state=11)\n",
    "X_train = torch.FloatTensor(X_train)\n",
    "X_test = torch.FloatTensor(X_test)\n",
    "y_train = torch.FloatTensor(y_train).unsqueeze(1)\n",
    "y_test = torch.FloatTensor(y_test).unsqueeze(1)\n",
    "inputs = torch.FloatTensor(X)\n",
    "eval = torch.FloatTensor(y).unsqueeze(1)\n"
   ]
  },
  {
   "cell_type": "code",
   "execution_count": null,
   "metadata": {},
   "outputs": [],
   "source": [
    "torch.manual_seed(23)\n",
    "# Initialize the model\n",
    "model = PyTorchModel()\n",
    "# Define loss and optimizer\n",
    "# criterion = nn.BCELoss()\n",
    "criterion = nn.BCELoss()\n",
    "# Choose Adam Optimizer, lr = learning rate\n",
    "# optimizer = optim.RMSprop(model.parameters(), lr=1e-3)\n",
    "optimizer = torch.optim.Adam(model.parameters(),lr=0.001)\n",
    "# Training loop\n",
    "num_epochs = 200\n",
    "losses = []\n",
    "for epoch in range(num_epochs):\n",
    "    y_pred = model.forward(X_train)\n",
    "    loss = criterion(y_pred, y_train)\n",
    "    losses.append(loss.detach().numpy())\n",
    "    if epoch % 10 == 0:\n",
    "        print(f'Epoch {epoch+1}/{num_epochs}, Loss: {loss}')\n",
    "    optimizer.zero_grad()\n",
    "    loss.backward()\n",
    "    optimizer.step()\n",
    "    clear_output(wait=True)"
   ]
  },
  {
   "cell_type": "code",
   "execution_count": null,
   "metadata": {},
   "outputs": [],
   "source": [
    "plt.plot(range(num_epochs),losses)\n",
    "plt.ylim([0.6,0.8])\n",
    "plt.show()"
   ]
  },
  {
   "cell_type": "code",
   "execution_count": null,
   "metadata": {},
   "outputs": [],
   "source": [
    "with torch.no_grad():\n",
    "    y_eval = model.forward(X_test)\n",
    "    loss = criterion(y_eval,y_test)\n",
    "print(loss)"
   ]
  },
  {
   "cell_type": "code",
   "execution_count": null,
   "metadata": {},
   "outputs": [],
   "source": [
    "# Print model's state_dict\n",
    "print(\"Model's state_dict:\")\n",
    "for param_tensor in model.state_dict():\n",
    "    print(param_tensor, \"\\t\", model.state_dict()[param_tensor].size())\n",
    "\n",
    "# Print optimizer's state_dict\n",
    "print(\"Optimizer's state_dict:\")\n",
    "for var_name in optimizer.state_dict():\n",
    "    print(var_name, \"\\t\", optimizer.state_dict()[var_name])"
   ]
  },
  {
   "cell_type": "code",
   "execution_count": null,
   "metadata": {},
   "outputs": [],
   "source": [
    "torch.save(model.state_dict(), model_path +\"win_prob_dict_2\")"
   ]
  },
  {
   "cell_type": "code",
   "execution_count": null,
   "metadata": {},
   "outputs": [],
   "source": [
    "torch.save(model, model_path +\"win_prob_2.pt\")"
   ]
  },
  {
   "cell_type": "code",
   "execution_count": null,
   "metadata": {},
   "outputs": [],
   "source": [
    "model1 = PyTorchModel()\n",
    "model1.load_state_dict(torch.load(model_path +\"win_prob_dict_2\", weights_only=True))\n",
    "model1.eval()"
   ]
  },
  {
   "cell_type": "code",
   "execution_count": null,
   "metadata": {},
   "outputs": [],
   "source": [
    "# Model class must be defined somewhere\n",
    "model1 = torch.load( model_path +\"win_prob_2.pt\", weights_only=False)\n",
    "model1.eval()"
   ]
  },
  {
   "cell_type": "code",
   "execution_count": null,
   "metadata": {},
   "outputs": [],
   "source": []
  },
  {
   "cell_type": "code",
   "execution_count": null,
   "metadata": {},
   "outputs": [],
   "source": []
  },
  {
   "cell_type": "code",
   "execution_count": null,
   "metadata": {},
   "outputs": [],
   "source": [
    "# inputs = torch.tensor(dfw[['margin', 'win_prob', 'secs']].values, dtype=torch.float32)\n",
    "# targets = torch.tensor(dfw['win'].values, dtype=torch.float32).unsqueeze(1)\n",
    "# dataset = TensorDataset(inputs, targets)\n",
    "# dataloader = DataLoader(dataset, batch_size=512, shuffle=True)\n",
    "\n",
    "# for epoch in range(num_epochs):\n",
    "#     for batch_inputs, batch_targets in dataloader:\n",
    "#         optimizer.zero_grad()\n",
    "#         outputs = model(batch_inputs)\n",
    "#         loss = criterion(outputs, batch_targets)\n",
    "#         loss.backward()\n",
    "#         optimizer.step()\n",
    "#     print(f'Epoch {epoch+1}/{num_epochs}, Loss: {loss.item()}')\n",
    "\n",
    "# # Print the model summary\n",
    "# print(model)"
   ]
  }
 ],
 "metadata": {
  "kernelspec": {
   "display_name": "dav-ub9Z_EQq-py3.12",
   "language": "python",
   "name": "python3"
  },
  "language_info": {
   "codemirror_mode": {
    "name": "ipython",
    "version": 3
   },
   "file_extension": ".py",
   "mimetype": "text/x-python",
   "name": "python",
   "nbconvert_exporter": "python",
   "pygments_lexer": "ipython3",
   "version": "3.12.0"
  }
 },
 "nbformat": 4,
 "nbformat_minor": 2
}
