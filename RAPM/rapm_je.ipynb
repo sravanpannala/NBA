{
 "cells": [
  {
   "cell_type": "code",
   "execution_count": null,
   "metadata": {},
   "outputs": [],
   "source": [
    "from sklearn import linear_model\n",
    "import numpy as np\n",
    "from scipy.sparse import lil_matrix, csr_matrix\n",
    "\n",
    "import pymc"
   ]
  },
  {
   "cell_type": "code",
   "execution_count": null,
   "metadata": {},
   "outputs": [],
   "source": [
    "def run_bayes_model(X, y):\n",
    "\t\n",
    "\tbasic_model = pymc.Model()\n",
    "\twith basic_model:\n",
    "\t\talpha = pymc.Normal(\"alpha\", mu = 1.1, sigma = 0.1)\n",
    "\t\tbeta = pymc.Normal(\"beta\", 0, 0.02, shape=(np.shape(X)[1],))#standard deviation needs to be supplied and isn't always immediately obvious\n",
    "\t\tmu = alpha + pymc.math.dot(X, beta)\n",
    "\t\tY_obs = pymc.Normal(\"Y_obs\", mu = mu, observed = y)\n",
    "\t\tidata = pymc.find_MAP()\n",
    "\treturn idata['beta']\n",
    "\n",
    "def run_ridge_model(X, y, sample_weights):\n",
    "\tclf = linear_model.RidgeCV(alphas = [1500, 1750, 2000, 2250, 2500, 2750, 3000, 3250, 3500, 3750, 4000], cv = 4)#Other options are RidgeCV ElasticNetCV, Lasso etc, all with different penalization parameters\n",
    "\tclf.fit(X, y, sample_weight = sample_weights)\n",
    "\tprint ('ALPHA:', clf.alpha_)\n",
    "\treturn clf.coef_"
   ]
  },
  {
   "cell_type": "code",
   "execution_count": null,
   "metadata": {},
   "outputs": [],
   "source": [
    "cur = MySQLdb.connect()\n",
    "cur.execute(\"select home_poss, pts, a1, a2, a3, a4, a5, h1, h2, h3, h4, h5, season from matchups where season = 2024\")\n",
    "data = cur.fetchall()\n",
    "\n",
    "all_players = {}#get all players in the dataset\n",
    "for item in data:\n",
    "    for i in range(2, 12):\n",
    "        all_players[item[i]] = 1\n",
    "\n",
    "player_to_col = {}; col_to_player = {}#for each player we create an 'offensive' and a 'defensive' variable. Each has to be translated to a specific column\n",
    "for p in all_players:\n",
    "    for side in ['off', 'def']:\n",
    "        p_side = str(p)+'_'+side\n",
    "        if p_side not in player_to_col:\n",
    "            number = len(player_to_col)\n",
    "            player_to_col[p_side] = number\n",
    "            col_to_player[number] = p_side\n",
    "\n",
    "X = lil_matrix((len(data), len(col_to_player)))#use sparse matrixes so memory doesn't blow up\n",
    "y = np.zeros(len(data))\n",
    "sample_weights = []\n",
    "season_weights = {2024: 1.0, 2023: 0.9, 2022: 0.8}#etc.\n",
    "counter = 0\n",
    "for item in data:\n",
    "    home_poss = item[0]\n",
    "    pts = item[1]\n",
    "    season = item[12]\n",
    "    home_list = []; away_list = []\n",
    "    for i in range(2, 7):\n",
    "        away_list.append(item[i])\n",
    "    for i in range(7, 12):\n",
    "        home_list.append(item[i])\n",
    "    if home_poss:\n",
    "        [off_list, def_list] = home_list, away_list\n",
    "    else:\n",
    "        [off_list, def_list] = away_list, home_list\n",
    "    for p in off_list:\n",
    "        off_p = str(p)+'_off'\n",
    "        X[counter, player_to_col[off_p]] = 1#'switch on' dummy variables for all offensive players present\n",
    "    for p in def_list:\n",
    "        def_p = str(p)+'_def'\n",
    "        X[counter, player_to_col[def_p]] = 1#'switch on' dummy variables for all defensive players present\n",
    "    y[counter] = pts\n",
    "    sample_weights.append(season_weights[season])\n",
    "    counter += 1\n",
    "y_av = np.average(y)\n",
    "\n",
    "beta_ridge = run_ridge_model(X.tocsr(), y - y_av, sample_weights)\n",
    "beta_bm = run_bayes_model(X.todense(), y)#Bayesian model\n",
    "\n",
    "for i in range(0, len(beta_ridge)):\n",
    "    print (col_to_player[i], ';', beta_ridge[i], ';', beta_bm[i])\n"
   ]
  }
 ],
 "metadata": {
  "kernelspec": {
   "display_name": "dav-ub9Z_EQq-py3.12",
   "language": "python",
   "name": "python3"
  },
  "language_info": {
   "name": "python",
   "version": "3.12.0"
  }
 },
 "nbformat": 4,
 "nbformat_minor": 2
}
