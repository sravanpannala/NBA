{
 "metadata": {
  "language_info": {
   "codemirror_mode": {
    "name": "ipython",
    "version": 3
   },
   "file_extension": ".py",
   "mimetype": "text/x-python",
   "name": "python",
   "nbconvert_exporter": "python",
   "pygments_lexer": "ipython3",
   "version": "3.8.6-final"
  },
  "orig_nbformat": 2,
  "kernelspec": {
   "name": "python3",
   "display_name": "Python 3.8.6 64-bit",
   "metadata": {
    "interpreter": {
     "hash": "002f5fbc98c1af9c244d84d9c6f0810dde0bbcc72c1958dce795625246a0a69f"
    }
   }
  }
 },
 "nbformat": 4,
 "nbformat_minor": 2,
 "cells": [
  {
   "cell_type": "markdown",
   "source": [
    "# Old Code to get Player draft measurements"
   ],
   "metadata": {}
  },
  {
   "cell_type": "code",
   "execution_count": null,
   "source": [
    "import pandas as pd\r\n",
    "from nba_api.stats.static import teams\r\n",
    "from nba_api.stats.static import players\r\n",
    "import json\r\n",
    "import time\r\n",
    "from IPython.display import clear_output\r\n",
    "import numpy as np\r\n",
    "import matplotlib.pyplot as plt"
   ],
   "outputs": [],
   "metadata": {}
  },
  {
   "cell_type": "code",
   "execution_count": null,
   "source": [
    "team_dict = teams.get_teams() # Creating Team Dictionary\r\n",
    "player_dict = players.get_players() # Creating Player Dictionary\r\n",
    "# Get team ID\r\n",
    "team_id = [x['id'] for x in team_dict ]\r\n",
    "player_id = [player['id'] for player in player_dict if player['is_active'] == True]\r\n",
    "[player['full_name'] for player in player_dict if player['id'] == player_id[3]]\r\n",
    "# player_dict[0]"
   ],
   "outputs": [],
   "metadata": {}
  },
  {
   "cell_type": "code",
   "execution_count": null,
   "source": [
    "from nba_api.stats.endpoints import draftcombineplayeranthro as player_fun"
   ],
   "outputs": [],
   "metadata": {}
  },
  {
   "cell_type": "code",
   "execution_count": null,
   "source": [
    "\r\n",
    "response = player_fun.DraftCombinePlayerAnthro(season_year='2019').get_dict()\r\n",
    "response0 = response['resultSets'][0]\r\n",
    "presponse0 = response['resultSets'][0]['rowSet']\r\n",
    "# 1 ID 4 Name 5 Pos 6 Height WO Shoes 8 Height W shoes \r\n",
    "# 11 Wingspan 13 Standing Reach\r\n",
    "presponse0[75][6]"
   ],
   "outputs": [],
   "metadata": {}
  },
  {
   "cell_type": "code",
   "execution_count": null,
   "source": [
    "if not presponse0[75][4]:\r\n",
    "  print(\"List is empty\")"
   ],
   "outputs": [],
   "metadata": {}
  },
  {
   "cell_type": "code",
   "execution_count": null,
   "source": [
    "years = [str(x) for x in range(2003,2021)]\r\n",
    "# data = pd.read_csv(\"players_3PT_FT_filt.csv\")\r\n",
    "# pID = data[\"pID\"]\r\n",
    "pID = []\r\n",
    "Player_Name = [] # Player Name\r\n",
    "Position = []\r\n",
    "Height = []\r\n",
    "Wingspan = []\r\n",
    "Stand_Reach = []\r\n",
    "\r\n",
    "# len(player_id)\r\n",
    "tic = time.perf_counter()\r\n",
    "for i in range(len(years)):\r\n",
    "    time.sleep(0.6)\r\n",
    "    response = player_fun.DraftCombinePlayerAnthro(season_year=years[i]).get_dict()\r\n",
    "    response1 = response['resultSets'][0]['rowSet']\r\n",
    "    for ii in range(len(response1)):\r\n",
    "        if not response1[ii][6]:\r\n",
    "            continue\r\n",
    "        pID.append(response1[ii][1])\r\n",
    "        Player_Name.append(response1[ii][4])\r\n",
    "        Position.append(response1[ii][5])\r\n",
    "        Height.append(response1[ii][6])\r\n",
    "        Wingspan.append(response1[ii][11])\r\n",
    "        Stand_Reach.append(response1[ii][13])\r\n",
    "    clear_output(wait=True)\r\n",
    "    print(i)\r\n",
    "toc = time.perf_counter()\r\n",
    "print(toc-tic)"
   ],
   "outputs": [],
   "metadata": {}
  },
  {
   "cell_type": "code",
   "execution_count": null,
   "source": [
    "len(pID)"
   ],
   "outputs": [],
   "metadata": {}
  },
  {
   "cell_type": "code",
   "execution_count": null,
   "source": [
    "dataset = pd.DataFrame({'pID':pID,'Player_Name':Player_Name,\r\n",
    "'Position':Position,'Height':Height, 'Wingspan':Wingspan,'Stand_Reach':Stand_Reach})\r\n",
    "dataset.to_csv ('players_draft_measurements.csv',index=False)\r\n"
   ],
   "outputs": [],
   "metadata": {}
  },
  {
   "cell_type": "code",
   "execution_count": null,
   "source": [
    "# print(dataset)\r\n",
    "dataset.iloc[0:3,:]"
   ],
   "outputs": [],
   "metadata": {}
  },
  {
   "cell_type": "code",
   "execution_count": null,
   "source": [],
   "outputs": [],
   "metadata": {}
  }
 ]
}