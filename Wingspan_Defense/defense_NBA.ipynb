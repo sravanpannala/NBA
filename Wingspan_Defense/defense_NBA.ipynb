{
 "metadata": {
  "language_info": {
   "codemirror_mode": {
    "name": "ipython",
    "version": 3
   },
   "file_extension": ".py",
   "mimetype": "text/x-python",
   "name": "python",
   "nbconvert_exporter": "python",
   "pygments_lexer": "ipython3",
   "version": "3.8.6-final"
  },
  "orig_nbformat": 2,
  "kernelspec": {
   "name": "nbaenv",
   "display_name": "nbaenv",
   "language": "python"
  }
 },
 "nbformat": 4,
 "nbformat_minor": 2,
 "cells": [
  {
   "cell_type": "markdown",
   "source": [
    "# Old Code to import Rim protection numbers"
   ],
   "metadata": {}
  },
  {
   "cell_type": "code",
   "execution_count": null,
   "source": [
    "import pandas as pd\r\n",
    "from nba_api.stats.static import teams\r\n",
    "from nba_api.stats.static import players\r\n",
    "import json\r\n",
    "import time\r\n",
    "from IPython.display import clear_output\r\n",
    "import numpy as np\r\n",
    "import matplotlib.pyplot as plt"
   ],
   "outputs": [],
   "metadata": {}
  },
  {
   "cell_type": "code",
   "execution_count": null,
   "source": [
    "team_dict = teams.get_teams() # Creating Team Dictionary\r\n",
    "player_dict = players.get_players() # Creating Player Dictionary\r\n",
    "# Get team ID\r\n",
    "team_id = [x['id'] for x in team_dict ]\r\n",
    "player_id = [player['id'] for player in player_dict if player['is_active'] == True]\r\n",
    "[player['full_name'] for player in player_dict if player['id'] == player_id[245]]\r\n",
    "# player_dict[0]"
   ],
   "outputs": [],
   "metadata": {}
  },
  {
   "cell_type": "code",
   "execution_count": null,
   "source": [
    "from nba_api.stats.endpoints import playerdashptshotdefend as player_fun"
   ],
   "outputs": [],
   "metadata": {}
  },
  {
   "cell_type": "code",
   "execution_count": null,
   "source": [
    "response = player_fun.PlayerDashPtShotDefend(team_id =0, player_id = player_id[145], season = ['2017-18','2018-19','2019-20']).get_dict()\r\n",
    "response0 = response['resultSets'][0]\r\n",
    "presponse0 = response['resultSets'][0]['rowSet']\r\n",
    "#['CLOSE_DEF_PERSON_ID','GP','G','DEFENSE_CATEGORY','FREQ','D_FGM','D_FGA','D_FG_PCT','NORMAL_FG_PCT','PCT_PLUSMINUS'],\r\n",
    "presponse0"
   ],
   "outputs": [],
   "metadata": {}
  },
  {
   "cell_type": "code",
   "execution_count": null,
   "source": [
    "# data = pd.read_csv(\"players_3PT_FT_filt.csv\")\r\n",
    "# pID = data[\"pID\"]\r\n",
    "pID = []\r\n",
    "D_FGM =[]\r\n",
    "D_FGA = []\r\n",
    "D_FG_PCT = []\r\n",
    "Normal_FG_PCT = []\r\n",
    "PCT_PlusMinus = []\r\n",
    "\r\n",
    "tic = time.perf_counter()\r\n",
    "# len(player_id)\r\n",
    "for i in range(len(player_id)):\r\n",
    "    time.sleep(0.6)\r\n",
    "    response = player_fun.PlayerDashPtShotDefend(team_id =0, player_id=player_id[i], season = ['2017-18','2018-19','2019-20']).get_dict()\r\n",
    "    response1 = response['resultSets'][0]['rowSet']\r\n",
    "    if response1 ==[] or not response1[3][6] or  response1[3][6]<100:\r\n",
    "        continue\r\n",
    "    pID.append(response1[3][0])\r\n",
    "    D_FGM.append(response1[3][5]) \r\n",
    "    D_FGA.append(response1[3][6]) \r\n",
    "    D_FG_PCT.append(response1[3][7])\r\n",
    "    Normal_FG_PCT.append(response1[3][8])\r\n",
    "    PCT_PlusMinus.append(response1[3][9]) \r\n",
    "    clear_output(wait=True)\r\n",
    "    print(i)\r\n",
    "toc = time.perf_counter()\r\n",
    "print((toc-tic)/60)"
   ],
   "outputs": [],
   "metadata": {}
  },
  {
   "cell_type": "code",
   "execution_count": null,
   "source": [
    "len(PCT_PlusMinus)"
   ],
   "outputs": [],
   "metadata": {}
  },
  {
   "cell_type": "code",
   "execution_count": null,
   "source": [
    "dataset = pd.DataFrame({'pID':pID,'D_FGM':D_FGM, 'D_FGA':D_FGA, 'D_FG_PCT':D_FG_PCT, 'Normal_FG_PCT':Normal_FG_PCT, 'PCT_PlusMinus':PCT_PlusMinus})\r\n",
    "dataset.to_csv ('players_RimDefense_2017_20_cum.csv')\r\n"
   ],
   "outputs": [],
   "metadata": {}
  },
  {
   "cell_type": "code",
   "execution_count": null,
   "source": [
    "# print(dataset)\r\n",
    "dataset.iloc[0:3,:]"
   ],
   "outputs": [],
   "metadata": {}
  },
  {
   "cell_type": "code",
   "execution_count": null,
   "source": [],
   "outputs": [],
   "metadata": {}
  }
 ]
}