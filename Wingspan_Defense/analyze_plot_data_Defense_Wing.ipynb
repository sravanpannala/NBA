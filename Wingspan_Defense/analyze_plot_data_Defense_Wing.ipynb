{
 "metadata": {
  "language_info": {
   "codemirror_mode": {
    "name": "ipython",
    "version": 3
   },
   "file_extension": ".py",
   "mimetype": "text/x-python",
   "name": "python",
   "nbconvert_exporter": "python",
   "pygments_lexer": "ipython3",
   "version": "3.8.6-final"
  },
  "orig_nbformat": 2,
  "kernelspec": {
   "name": "python3",
   "display_name": "Python 3.8.6 64-bit ('NBA': pipenv)",
   "metadata": {
    "interpreter": {
     "hash": "69abaf9ba4075641c3af8c8176199ca30257e97ea4c7be29be239fe5610b3d43"
    }
   }
  }
 },
 "nbformat": 4,
 "nbformat_minor": 2,
 "cells": [
  {
   "cell_type": "markdown",
   "source": [
    "# Old Code to Analyze Wingspan and Rim Protection"
   ],
   "metadata": {}
  },
  {
   "cell_type": "code",
   "execution_count": 1,
   "source": [
    "import pandas as pd \r\n",
    "import numpy as np\r\n",
    "import matplotlib.pyplot as plt"
   ],
   "outputs": [],
   "metadata": {}
  },
  {
   "cell_type": "code",
   "execution_count": 2,
   "source": [
    "# load data defense and player measurements\r\n",
    "data_pl = pd.read_csv(\"csv\\players_draft_measurements.csv\")\r\n",
    "data_1920 = pd.read_csv(\"csv\\players_RimDefense_2019_20.csv\")\r\n",
    "data_1819 = pd.read_csv(\"csv\\players_RimDefense_2018_19.csv\")\r\n",
    "data_1718 = pd.read_csv(\"csv\\players_RimDefense_2017_18.csv\")\r\n",
    "# data_1920.iloc[0:3,:]\r\n",
    "# Merge Data\r\n",
    "data0=pd.merge(data_pl,data_1920, left_on=['pID'], right_on=['pID'], how='inner')\r\n",
    "data1=pd.merge(data0,data_1819, left_on=['pID'], right_on=['pID'], how='inner')\r\n",
    "data =pd.merge(data1,data_1718, left_on=['pID'], right_on=['pID'], how='inner')\r\n",
    "# remove unnamed columns\r\n",
    "data = data.loc[:, ~data.columns.str.contains('^Unnamed')]"
   ],
   "outputs": [],
   "metadata": {}
  },
  {
   "cell_type": "code",
   "execution_count": 4,
   "source": [
    "data['D_FGM'] = data[\"D_FGM_1718\"]+data[\"D_FGM_1819\"]+data[\"D_FGM_1920\"]\r\n",
    "data['D_FGA'] = data[\"D_FGA_1718\"]+data[\"D_FGA_1819\"]+data[\"D_FGA_1920\"]\r\n",
    "data['D_FG_PCT'] = data['D_FGM']/data['D_FGA']*100 \r\n",
    "\r\n",
    "data_cum = data[['Player_Name','Height','Wingspan','Stand_Reach','D_FG_PCT']]\r\n",
    "data_cum.to_csv(\"csv\\players_RimDefense_2019_20_cum.csv\")"
   ],
   "outputs": [],
   "metadata": {}
  },
  {
   "cell_type": "code",
   "execution_count": null,
   "source": [
    "data_filt = data_cum.loc[(data_cum['Stand_Reach'] <= 100) & (data_cum['D_FG_PCT'] >= 0.66)]\r\n",
    "data_filt = data_filt.reset_index(drop=True)\r\n",
    "data_filt = data_filt.reset_index()\r\n",
    "data_exp = data_filt.style.format({\"Height\": \"{:.2f}'\", \r\n",
    "                          \"Wingspan\": \"{:.2f}'\", \r\n",
    "                          \"Stand_Reach\": \"{:.1f}'\",\r\n",
    "                          \"D_FG_PCT\": \"{:.1f}%\"\r\n",
    "                          })\r\n"
   ],
   "outputs": [],
   "metadata": {}
  },
  {
   "cell_type": "code",
   "execution_count": null,
   "source": [
    "html = data_exp.hide_index().render()\r\n",
    "import imgkit\r\n",
    "path_wkthmltoimage = r'C:\\Program Files\\wkhtmltopdf\\bin\\wkhtmltoimage.exe'\r\n",
    "config = imgkit.config(wkhtmltoimage=path_wkthmltoimage)\r\n",
    "\r\n",
    "imgkit.from_string(html, 'styled_table.png',config=config)"
   ],
   "outputs": [],
   "metadata": {}
  },
  {
   "cell_type": "code",
   "execution_count": null,
   "source": [
    "# Plotting Routine and r^2 value for FT Shooting and 3PT shooting\n",
    "x = D_FG_PCT\n",
    "y = Stand_Reach\n",
    "m, b = np.polyfit(x, y, 1)\n",
    "z = m*np.asarray(x)+b\n",
    "# PLot figure\n",
    "fig = plt.figure()\n",
    "fig.patch.set(facecolor = \"White\")\n",
    "fig.patch.set(alpha = 1.0)\n",
    "ax = fig.add_subplot(111)\n",
    "ax.patch.set(facecolor = \"Orange\")\n",
    "ax.patch.set(alpha = 1.0)\n",
    "plt.scatter(x,y)\n",
    "plt.ylabel('Measurement (inches)')\n",
    "plt.xlabel('D FG%')\n",
    "plt.title('{0} vs Defensive FG% (2017-20)'.format('Standing Reach'))\n",
    "# plt.xlim(0.6,0.95)\n",
    "# plt.ylim(0.25,0.5)  \n",
    "plt.plot(x,z,'k-')\n",
    "correlation_matrix = np. corrcoef(x, y)\n",
    "correlation_xy = correlation_matrix[0,1]\n",
    "r_squared = correlation_xy**2.\n",
    "# plt.annotate(\"r^2 = {:.3f}\".format(r_squared), (0.3, 0.45))\n",
    "plt.text(0.05, 0.1, \"r^2 = {:.3f}\".format(r_squared), transform=plt.gca().transAxes)\n",
    "# plt.savefig('D_FG__{0}.png'.format('Stand_Reach'), dpi=300)\n",
    "plt.show()\n",
    "\n",
    "# print(r_squared)\n"
   ],
   "outputs": [],
   "metadata": {}
  },
  {
   "cell_type": "code",
   "execution_count": null,
   "source": [],
   "outputs": [],
   "metadata": {}
  }
 ]
}