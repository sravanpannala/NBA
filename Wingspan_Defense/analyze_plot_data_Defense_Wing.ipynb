{
 "cells": [
  {
   "cell_type": "markdown",
   "metadata": {},
   "source": [
    "# Old Code to Analyze Wingspan and Rim Protection"
   ]
  },
  {
   "cell_type": "code",
   "execution_count": 2,
   "metadata": {},
   "outputs": [],
   "source": [
    "import pandas as pd \n",
    "import numpy as np\n",
    "import matplotlib.pyplot as plt"
   ]
  },
  {
   "cell_type": "markdown",
   "metadata": {},
   "source": [
    "Use the below cell to generate cumulative data. Otherwise skip to next cell"
   ]
  },
  {
   "cell_type": "code",
   "execution_count": 2,
   "metadata": {},
   "outputs": [],
   "source": [
    "# load data defense and player measurements\n",
    "data_pl = pd.read_csv(\"fdata\\players_draft_measurements.csv\")\n",
    "data_1920 = pd.read_csv(\"fdata\\players_RimDefense_2019_20.csv\")\n",
    "data_1819 = pd.read_csv(\"fdata\\players_RimDefense_2018_19.csv\")\n",
    "data_1718 = pd.read_csv(\"fdata\\players_RimDefense_2017_18.csv\")\n",
    "# data_1920.iloc[0:3,:]\n",
    "# Merge Data\n",
    "data0=pd.merge(data_pl,data_1920, left_on=['pID'], right_on=['pID'], how='inner')\n",
    "data1=pd.merge(data0,data_1819, left_on=['pID'], right_on=['pID'], how='inner')\n",
    "data =pd.merge(data1,data_1718, left_on=['pID'], right_on=['pID'], how='inner')\n",
    "# remove unnamed columns\n",
    "data = data.loc[:, ~data.columns.str.contains('^Unnamed')]\n",
    "data['D_FGM'] = data[\"D_FGM_1718\"]+data[\"D_FGM_1819\"]+data[\"D_FGM_1920\"]\n",
    "data['D_FGA'] = data[\"D_FGA_1718\"]+data[\"D_FGA_1819\"]+data[\"D_FGA_1920\"]\n",
    "data['D_FG_PCT'] = data['D_FGM']/data['D_FGA']*100 \n",
    "\n",
    "data_cum = data[['Player_Name','Height','Wingspan','Stand_Reach','D_FG_PCT']]\n",
    "data_cum.to_csv(\"fdata\\players_RimDefense_2019_20_cum.csv\")"
   ]
  },
  {
   "cell_type": "code",
   "execution_count": 9,
   "metadata": {},
   "outputs": [],
   "source": [
    "data_cum = pd.read_csv(\"fdata\\players_RimDefense_Wing_2017_20_cum.csv\")\n",
    "data_filt = data_cum.loc[(data_cum['Stand_Reach'] <= 100) & (data_cum['D_FG_PCT'] >= 0.66)]\n",
    "data_filt = data_filt.reset_index(drop=True)\n",
    "data_filt = data_filt.reset_index()\n",
    "data_exp = data_filt.style.format({\"Height\": \"{:.2f}'\", \n",
    "                          \"Wingspan\": \"{:.2f}'\", \n",
    "                          \"Stand_Reach\": \"{:.1f}'\",\n",
    "                          \"D_FG_PCT\": \"{:.1f}%\"\n",
    "                          })\n"
   ]
  },
  {
   "cell_type": "code",
   "execution_count": 11,
   "metadata": {},
   "outputs": [
    {
     "data": {
      "image/png": "[encoded data removed]",
      "text/plain": [
       "<Figure size 432x288 with 1 Axes>"
      ]
     },
     "metadata": {},
     "output_type": "display_data"
    }
   ],
   "source": [
    "# Plotting Routine and r^2 value for FT Shooting and 3PT shooting\n",
    "x = data_filt['D_FG_PCT']\n",
    "y = data_filt['Stand_Reach']\n",
    "m, b = np.polyfit(x, y, 1)\n",
    "z = m*np.asarray(x)+b\n",
    "# PLot figure\n",
    "fig = plt.figure()\n",
    "fig.patch.set(facecolor = \"White\")\n",
    "fig.patch.set(alpha = 1.0)\n",
    "ax = fig.add_subplot(111)\n",
    "ax.patch.set(facecolor = \"Orange\")\n",
    "ax.patch.set(alpha = 1.0)\n",
    "plt.scatter(x,y)\n",
    "plt.ylabel('Measurement (inches)')\n",
    "plt.xlabel('D FG%')\n",
    "plt.title('{0} vs Defensive FG% (2017-20)'.format('Standing Reach'))\n",
    "# plt.xlim(0.6,0.95)\n",
    "# plt.ylim(0.25,0.5)  \n",
    "plt.plot(x,z,'k-')\n",
    "correlation_matrix = np. corrcoef(x, y)\n",
    "correlation_xy = correlation_matrix[0,1]\n",
    "r_squared = correlation_xy**2.\n",
    "# plt.annotate(\"r^2 = {:.3f}\".format(r_squared), (0.3, 0.45))\n",
    "plt.text(0.05, 0.1, \"r^2 = {:.3f}\".format(r_squared), transform=plt.gca().transAxes)\n",
    "# plt.savefig('D_FG__{0}.png'.format('Stand_Reach'), dpi=300)\n",
    "plt.show()\n",
    "\n",
    "# print(r_squared)\n"
   ]
  },
  {
   "cell_type": "code",
   "execution_count": null,
   "metadata": {},
   "outputs": [],
   "source": []
  }
 ],
 "metadata": {
  "kernelspec": {
   "display_name": "Python 3.8.6 64-bit ('NBA': pipenv)",
   "metadata": {
    "interpreter": {
     "hash": "69abaf9ba4075641c3af8c8176199ca30257e97ea4c7be29be239fe5610b3d43"
    }
   },
   "name": "python3"
  },
  "language_info": {
   "codemirror_mode": {
    "name": "ipython",
    "version": 3
   },
   "file_extension": ".py",
   "mimetype": "text/x-python",
   "name": "python",
   "nbconvert_exporter": "python",
   "pygments_lexer": "ipython3",
   "version": "3.8.6-final"
  },
  "orig_nbformat": 2
 },
 "nbformat": 4,
 "nbformat_minor": 2
}
