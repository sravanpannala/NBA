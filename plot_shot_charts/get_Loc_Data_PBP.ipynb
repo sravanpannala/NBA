{
 "metadata": {
  "language_info": {
   "codemirror_mode": {
    "name": "ipython",
    "version": 3
   },
   "file_extension": ".py",
   "mimetype": "text/x-python",
   "name": "python",
   "nbconvert_exporter": "python",
   "pygments_lexer": "ipython3",
   "version": "3.9.5"
  },
  "orig_nbformat": 4,
  "kernelspec": {
   "name": "python3",
   "display_name": "Python 3.9.5 64-bit ('NBA-O70mvEYv': pipenv)"
  },
  "interpreter": {
   "hash": "db2ffdd2fa3280b0b06d6e60ebb32d8dd74e69e88849db114a808c9d7fbf6c89"
  }
 },
 "nbformat": 4,
 "nbformat_minor": 2,
 "cells": [
  {
   "cell_type": "code",
   "execution_count": 1,
   "metadata": {},
   "outputs": [],
   "source": [
    "import pandas as pd\n",
    "import numpy as np\n",
    "import time\n",
    "import datetime\n",
    "from IPython.display import clear_output\n",
    "from collections import Counter\n",
    "from functools import reduce\n",
    "import itertools\n",
    "from pbpstats.client import Client\n",
    "import matplotlib.pyplot as plt\n",
    "import seaborn as sns\n",
    "from nbafuns import *"
   ]
  },
  {
   "cell_type": "code",
   "execution_count": 2,
   "metadata": {},
   "outputs": [
    {
     "output_type": "stream",
     "name": "stdout",
     "text": [
      "74\n"
     ]
    }
   ],
   "source": [
    "settings = {\n",
    "    \"Games\": {\"source\": \"web\", \"data_provider\": \"data_nba\"},\n",
    "     \"dir\": \"G:/My Drive/Sra_Coding/NBA/pbpdata\",\n",
    "}\n",
    "client = Client(settings)\n",
    "# ID of all games for 2020-21 Season\n",
    "season = client.Season(\"wnba\", \"2021\", \"Regular Season\")\n",
    "games_id = []\n",
    "k = 0\n",
    "for final_game in season.games.final_games:\n",
    "    k += 1\n",
    "    clear_output(wait=True)\n",
    "    print(k)\n",
    "    games_id.append(final_game['game_id'])"
   ]
  },
  {
   "cell_type": "code",
   "execution_count": 15,
   "metadata": {},
   "outputs": [
    {
     "output_type": "stream",
     "name": "stdout",
     "text": [
      "74\n"
     ]
    }
   ],
   "source": [
    "settings = {\n",
    "    \"Boxscore\": {\"source\": \"file\", \"data_provider\": \"data_nba\"},\n",
    "    \"Possessions\": {\"source\": \"file\", \"data_provider\": \"data_nba\"},\n",
    "    \"dir\": \"G:/My Drive/Sra_Coding/NBA/pbpdata\"\n",
    "}\n",
    "client = Client(settings)\n",
    "games_list = []\n",
    "bad_games_list = []\n",
    "k = 0\n",
    "for gameid in games_id:\n",
    "    clear_output(wait=True)\n",
    "    k += 1\n",
    "    print(k)\n",
    "    try:\n",
    "        games_list.append(client.Game(gameid))\n",
    "    except:\n",
    "        print(gameid)\n",
    "        bad_games_list.append(gameid)\n",
    "        continue"
   ]
  },
  {
   "cell_type": "code",
   "execution_count": 16,
   "metadata": {},
   "outputs": [
    {
     "output_type": "execute_result",
     "data": {
      "text/plain": [
       "1"
      ]
     },
     "metadata": {},
     "execution_count": 16
    }
   ],
   "source": [
    "len(bad_games_list)"
   ]
  },
  {
   "cell_type": "code",
   "execution_count": 17,
   "metadata": {},
   "outputs": [],
   "source": [
    "player_dict = get_players(league='WNBA',from_year=2021, to_year=2021)\n",
    "player_id = [player['pID'] for player in player_dict]\n",
    "team_dict = get_teams(league='WNBA') # Creating Team Dictionary\n",
    "team_id = [x['TeamID'] for x in team_dict ]"
   ]
  },
  {
   "cell_type": "code",
   "execution_count": 18,
   "metadata": {},
   "outputs": [],
   "source": [
    "game = games_list[0]\n",
    "possession = game.possessions.items[2]\n",
    "possession_event = possession.events\n",
    "event = possession_event[0]"
   ]
  },
  {
   "source": [
    "# Get Location Data\n",
    "from pbpstats.resources.enhanced_pbp import FieldGoal\n",
    "from pbpstats.resources.enhanced_pbp import Rebound\n",
    "game_id, period, clock, seconds_remaining,poss_length = [],[],[],[],[]\n",
    "team_id, player1_id= [],[]\n",
    "locX, locY, distance, shot_value, shot_type = [],[],[],[],[]\n",
    "is_made, is_putback, is_assisted, player2_id  = [],[],[],[]\n",
    "len_diffp = 0\n",
    "pos_store = []\n",
    "i = 0\n",
    "ii = 0\n",
    "for game in games_list:\n",
    "    for possession in game.possessions.items:\n",
    "        for possession_event in possession.events:\n",
    "            if isinstance(possession_event, FieldGoal):\n",
    "                try: \n",
    "                    game_id.append(possession_event.game_id)\n",
    "                    period.append(possession_event.period)\n",
    "                    clock.append(possession_event.clock)\n",
    "                    seconds_remaining.append(possession_event.seconds_remaining)\n",
    "                    poss_length.append(possession_event.seconds_since_previous_event)\n",
    "                    team_id.append(possession_event.team_id)\n",
    "                    player1_id.append(possession_event.player1_id)\n",
    "                    locX.append(possession_event.locX)\n",
    "                    locY.append(possession_event.locY)\n",
    "                    distance.append(possession_event.distance)\n",
    "                    shot_value.append(possession_event.shot_value)\n",
    "                    shot_type.append(possession_event.shot_type)\n",
    "                    is_made.append(possession_event.is_made)\n",
    "                    \n",
    "                    is_assisted.append(possession_event.is_assisted)\n",
    "                    if possession_event.is_assisted:\n",
    "                        player2_id.append(possession_event.player2_id)\n",
    "                    else:\n",
    "                        player2_id.append(0)\n",
    "                    ii += 1\n",
    "                    # print(\"ii = {0}\".format(ii))\n",
    "                    is_putback.append(possession_event.is_putback)\n",
    "                except:\n",
    "                    is_putback.append(False)\n",
    "    i += 1\n",
    "    print(\"i = {0}\".format(i))\n",
    "    clear_output(wait=True)"
   ],
   "cell_type": "code",
   "metadata": {
    "tags": []
   },
   "execution_count": 24,
   "outputs": [
    {
     "output_type": "stream",
     "name": "stdout",
     "text": [
      "i = 73\n"
     ]
    }
   ]
  },
  {
   "cell_type": "code",
   "execution_count": 25,
   "metadata": {},
   "outputs": [],
   "source": [
    "player1_name = []\n",
    "for pID in player1_id:\n",
    "    player1_name.append([player['Name'] for player in player_dict if player['pID'] == pID]) \n",
    "player1_name = list(itertools.chain(*player1_name))\n",
    "player2_name = []\n",
    "for pID in player2_id:\n",
    "    if pID==0:\n",
    "        player2_name.append(['None'])\n",
    "    else:     \n",
    "        player2_name.append([player['Name'] for player in player_dict if player['pID'] == pID]) \n",
    "player2_name = list(itertools.chain(*player2_name))\n",
    "team_name = []\n",
    "for tID in team_id:  \n",
    "    team_name.append([team['Team'] for team in team_dict if team['TeamID'] == tID])\n",
    "team_name = list(itertools.chain(*team_name))"
   ]
  },
  {
   "cell_type": "code",
   "execution_count": 26,
   "metadata": {},
   "outputs": [
    {
     "output_type": "execute_result",
     "data": {
      "text/plain": [
       "      game_id  period  clock  seconds_remaining  poss_length     team_id  \\\n",
       "0  1022100001       1  09:37              577.0         23.0  1611661325   \n",
       "1  1022100001       1  09:16              556.0          7.0  1611661313   \n",
       "2  1022100001       1  08:47              527.0         17.0  1611661313   \n",
       "3  1022100001       1  08:23              503.0         24.0  1611661325   \n",
       "4  1022100001       1  08:18              498.0          3.0  1611661325   \n",
       "\n",
       "          team_name  player_id         player_name  locX  locY  distance  \\\n",
       "0     Indiana Fever     202658   Danielle Robinson    18    16       2.4   \n",
       "1  New York Liberty    1629477     Sabrina Ionescu   120   129      17.6   \n",
       "2  New York Liberty    1630446  Michaela Onyenwere   160   198      25.5   \n",
       "3     Indiana Fever    1628909     Kelsey Mitchell   101    17      10.2   \n",
       "4     Indiana Fever    1628927    Victoria Vivians    24   251      25.2   \n",
       "\n",
       "   shot_value      shot_type  is_made  is_assisted  player_ast_id  \\\n",
       "0           2          AtRim    False        False              0   \n",
       "1           2   LongMidRange    False        False              0   \n",
       "2           3           Arc3     True         True        1628244   \n",
       "3           2  ShortMidRange    False        False              0   \n",
       "4           3           Arc3    False        False              0   \n",
       "\n",
       "  player_ast_name  is_putback  \n",
       "0            None       False  \n",
       "1            None       False  \n",
       "2   Sami Whitcomb       False  \n",
       "3            None       False  \n",
       "4            None       False  "
      ],
      "text/html": "<div>\n<style scoped>\n    .dataframe tbody tr th:only-of-type {\n        vertical-align: middle;\n    }\n\n    .dataframe tbody tr th {\n        vertical-align: top;\n    }\n\n    .dataframe thead th {\n        text-align: right;\n    }\n</style>\n<table border=\"1\" class=\"dataframe\">\n  <thead>\n    <tr style=\"text-align: right;\">\n      <th></th>\n      <th>game_id</th>\n      <th>period</th>\n      <th>clock</th>\n      <th>seconds_remaining</th>\n      <th>poss_length</th>\n      <th>team_id</th>\n      <th>team_name</th>\n      <th>player_id</th>\n      <th>player_name</th>\n      <th>locX</th>\n      <th>locY</th>\n      <th>distance</th>\n      <th>shot_value</th>\n      <th>shot_type</th>\n      <th>is_made</th>\n      <th>is_assisted</th>\n      <th>player_ast_id</th>\n      <th>player_ast_name</th>\n      <th>is_putback</th>\n    </tr>\n  </thead>\n  <tbody>\n    <tr>\n      <th>0</th>\n      <td>1022100001</td>\n      <td>1</td>\n      <td>09:37</td>\n      <td>577.0</td>\n      <td>23.0</td>\n      <td>1611661325</td>\n      <td>Indiana Fever</td>\n      <td>202658</td>\n      <td>Danielle Robinson</td>\n      <td>18</td>\n      <td>16</td>\n      <td>2.4</td>\n      <td>2</td>\n      <td>AtRim</td>\n      <td>False</td>\n      <td>False</td>\n      <td>0</td>\n      <td>None</td>\n      <td>False</td>\n    </tr>\n    <tr>\n      <th>1</th>\n      <td>1022100001</td>\n      <td>1</td>\n      <td>09:16</td>\n      <td>556.0</td>\n      <td>7.0</td>\n      <td>1611661313</td>\n      <td>New York Liberty</td>\n      <td>1629477</td>\n      <td>Sabrina Ionescu</td>\n      <td>120</td>\n      <td>129</td>\n      <td>17.6</td>\n      <td>2</td>\n      <td>LongMidRange</td>\n      <td>False</td>\n      <td>False</td>\n      <td>0</td>\n      <td>None</td>\n      <td>False</td>\n    </tr>\n    <tr>\n      <th>2</th>\n      <td>1022100001</td>\n      <td>1</td>\n      <td>08:47</td>\n      <td>527.0</td>\n      <td>17.0</td>\n      <td>1611661313</td>\n      <td>New York Liberty</td>\n      <td>1630446</td>\n      <td>Michaela Onyenwere</td>\n      <td>160</td>\n      <td>198</td>\n      <td>25.5</td>\n      <td>3</td>\n      <td>Arc3</td>\n      <td>True</td>\n      <td>True</td>\n      <td>1628244</td>\n      <td>Sami Whitcomb</td>\n      <td>False</td>\n    </tr>\n    <tr>\n      <th>3</th>\n      <td>1022100001</td>\n      <td>1</td>\n      <td>08:23</td>\n      <td>503.0</td>\n      <td>24.0</td>\n      <td>1611661325</td>\n      <td>Indiana Fever</td>\n      <td>1628909</td>\n      <td>Kelsey Mitchell</td>\n      <td>101</td>\n      <td>17</td>\n      <td>10.2</td>\n      <td>2</td>\n      <td>ShortMidRange</td>\n      <td>False</td>\n      <td>False</td>\n      <td>0</td>\n      <td>None</td>\n      <td>False</td>\n    </tr>\n    <tr>\n      <th>4</th>\n      <td>1022100001</td>\n      <td>1</td>\n      <td>08:18</td>\n      <td>498.0</td>\n      <td>3.0</td>\n      <td>1611661325</td>\n      <td>Indiana Fever</td>\n      <td>1628927</td>\n      <td>Victoria Vivians</td>\n      <td>24</td>\n      <td>251</td>\n      <td>25.2</td>\n      <td>3</td>\n      <td>Arc3</td>\n      <td>False</td>\n      <td>False</td>\n      <td>0</td>\n      <td>None</td>\n      <td>False</td>\n    </tr>\n  </tbody>\n</table>\n</div>"
     },
     "metadata": {},
     "execution_count": 26
    }
   ],
   "source": [
    "data = pd.DataFrame({'game_id':game_id,'period':period,'clock':clock,'seconds_remaining':seconds_remaining,'poss_length':poss_length,'team_id':team_id,'team_name':team_name,'player_id':player1_id,'player_name':player1_name,'locX': locX,'locY':locY, 'distance':distance,'shot_value':shot_value,'shot_type':shot_type,'is_made':is_made,'is_assisted':is_assisted,'player_ast_id':player2_id,'player_ast_name':player2_name,'is_putback':is_putback})\n",
    "# data = data.sort_values(by=['Assists'],ascending=False)\n",
    "# data = data.reset_index(drop=True)\n",
    "data.head()"
   ]
  },
  {
   "cell_type": "code",
   "execution_count": 27,
   "metadata": {},
   "outputs": [],
   "source": [
    "data.to_csv ('data\\WNBA_Shot_Loc_2021.csv',index=False)"
   ]
  },
  {
   "cell_type": "code",
   "execution_count": null,
   "metadata": {},
   "outputs": [],
   "source": []
  }
 ]
}