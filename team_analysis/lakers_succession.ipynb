{
 "cells": [
  {
   "cell_type": "code",
   "execution_count": null,
   "metadata": {},
   "outputs": [],
   "source": [
    "import os, sys\n",
    "\n",
    "sys.path.append(os.path.dirname(os.path.dirname(os.path.abspath(\"__file__\"))))\n",
    "from nbafuns import *"
   ]
  },
  {
   "cell_type": "code",
   "execution_count": null,
   "metadata": {},
   "outputs": [],
   "source": [
    "df1 = pd.read_csv(\"./lakers.csv\")"
   ]
  },
  {
   "cell_type": "code",
   "execution_count": null,
   "metadata": {},
   "outputs": [],
   "source": [
    "players = df1.Player.to_list()\n",
    "players.reverse()\n",
    "df1[\"Player\"] = pd.Categorical(df1[\"Player\"],categories=players,ordered=True) "
   ]
  },
  {
   "cell_type": "code",
   "execution_count": null,
   "metadata": {},
   "outputs": [],
   "source": []
  },
  {
   "cell_type": "code",
   "execution_count": null,
   "metadata": {},
   "outputs": [],
   "source": [
    "p = (\n",
    "    ggplot(df1)\n",
    "    + aes(y=\"Player\", x= \"From\", yend=\"Player\", xend=\"To\")\n",
    "    + geom_segment( alpha=.5, size=10, show_legend=False)\n",
    "    # + scale_color_discrete(h=0.5, s=0.8, l=0.1)\n",
    "    # + scale_color_discrete(h=0.3,s=0.9,l=0.5)\n",
    "    + theme_xkcd(base_size=16,scale=0,length=2,randomness=0,stroke_size=3)\n",
    "    + theme(\n",
    "        text=element_text(family=[\"Helvetica\",\"Comic Sans MS\"]),\n",
    "        plot_title=element_text(face=\"bold\", size=20),\n",
    "        plot_caption=element_text(size=10,ha='left'),\n",
    "    )\n",
    "    + annotate(geom=\"image\",y=11,x=2020,image=\"../data/images/teams/Los Angeles Lakers.png\",size=0.2)\n",
    "    + theme(\n",
    "        figure_size=(8,5),\n",
    "        # text=element_text(family=[\"Georgia\"]),\n",
    "        text=element_text(family=[\"Helvetica\"])\n",
    "    )\n",
    "    + labs(\n",
    "        x=\"Year\",\n",
    "        y=\"\",\n",
    "        title=\"Lakers Star Succession\",\n",
    "        caption=\"bsky:@sradjoker.cc | X:@sradjoker | source: @TommyBeer\"\n",
    "    )\n",
    ")\n",
    "p"
   ]
  }
 ],
 "metadata": {
  "kernelspec": {
   "display_name": "dav-ub9Z_EQq-py3.12",
   "language": "python",
   "name": "python3"
  },
  "language_info": {
   "codemirror_mode": {
    "name": "ipython",
    "version": 3
   },
   "file_extension": ".py",
   "mimetype": "text/x-python",
   "name": "python",
   "nbconvert_exporter": "python",
   "pygments_lexer": "ipython3",
   "version": "3.12.0"
  }
 },
 "nbformat": 4,
 "nbformat_minor": 2
}
