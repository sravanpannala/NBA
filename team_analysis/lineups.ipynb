{
 "cells": [
  {
   "cell_type": "code",
   "execution_count": null,
   "metadata": {},
   "outputs": [],
   "source": [
    "import os, sys\n",
    "\n",
    "sys.path.append(os.path.dirname(os.path.dirname(os.path.abspath(\"__file__\"))))\n",
    "from nbafuns import *\n",
    "from nba_api.stats.endpoints import leaguedashlineups\n",
    "import cv2\n",
    "import matplotlib.image as image\n",
    "from IPython.core.display import HTML\n",
    "\n",
    "fig_DIR = \"../figs/team_leaders/\"\n",
    "box_DIR = \"../data/box/\"\n",
    "img_DIR_T = \"../data/images/teams/\"\n",
    "img_DIR_P = \"../data/images/players/\""
   ]
  },
  {
   "cell_type": "markdown",
   "metadata": {},
   "source": [
    "## 5 Man Lineups"
   ]
  },
  {
   "cell_type": "code",
   "execution_count": null,
   "metadata": {},
   "outputs": [],
   "source": [
    "stats = leaguedashteamstats.LeagueDashTeamStats(\n",
    "    measure_type_detailed_defense=\"Advanced\",\n",
    ")\n",
    "df1 = stats.get_data_frames()[0]\n",
    "df1 = df1.sort_values(\"W_PCT\",ascending=False).reset_index(drop=True)\n",
    "df1[\"OPTS\"] = df1[\"OFF_RATING\"]*df1[\"POSS\"]\n",
    "df1[\"DPTS\"] = df1[\"DEF_RATING\"]*df1[\"POSS\"]\n",
    "lavg_Rtg = round(df1[\"OPTS\"].sum()/df1[\"POSS\"].sum(),2)"
   ]
  },
  {
   "cell_type": "code",
   "execution_count": null,
   "metadata": {},
   "outputs": [],
   "source": [
    "stats = leaguedashlineups.LeagueDashLineups(\n",
    "    group_quantity=5,\n",
    "    measure_type_detailed_defense=\"Advanced\",\n",
    "    per_mode_detailed=\"Totals\",\n",
    "    pace_adjust=\"Y\",\n",
    "    plus_minus=\"Y\",\n",
    "    rank=\"Y\",\n",
    "    season_type_all_star=\"Regular Season\"\n",
    ")\n",
    "df = stats.get_data_frames()[0]"
   ]
  },
  {
   "cell_type": "code",
   "execution_count": null,
   "metadata": {},
   "outputs": [],
   "source": [
    "df1 = df.sort_values(\"MIN\",ascending=False).reset_index(drop=True)\n",
    "df1[\"OFF_RATING\"] = (df1[\"POSS\"]*df1[\"OFF_RATING\"]+ lavg_Rtg*550)/(df1[\"POSS\"]+550)\n",
    "df1[\"DEF_RATING\"] = (df1[\"POSS\"]*df1[\"DEF_RATING\"]+ lavg_Rtg*850)/(df1[\"POSS\"]+850)\n",
    "df1[\"NET_RATING\"] = df1[\"OFF_RATING\"] - df1[\"DEF_RATING\"]\n",
    "df1[\"OFF_RATING\"] = df1[\"OFF_RATING\"].round(1)\n",
    "df1[\"DEF_RATING\"] = df1[\"DEF_RATING\"].round(1)\n",
    "df1[\"NET_RATING\"] = df1[\"NET_RATING\"].round(1)\n",
    "df2 = df1.nlargest(60,\"MIN\")\n",
    "df2 = df1.query(\"MIN >= 50\")\n",
    "min_min = df2[\"MIN\"].min()\n",
    "max_min = df2[\"MIN\"].max()\n",
    "len(df2)"
   ]
  },
  {
   "cell_type": "code",
   "execution_count": null,
   "metadata": {},
   "outputs": [],
   "source": [
    "var = \"NET_RATING\"\n",
    "# var = \"OFF_RATING\"\n",
    "# var = \"DEF_RATING\"\n",
    "# var = \"MIN\"\n",
    "df3 = df2.sort_values(var,ascending=False).reset_index(drop=True)\n",
    "# df3 = df2.sort_values(var,ascending=True).reset_index(drop=True)\n",
    "df3.index +=1\n",
    "df3[[\"B1\",\"P11\",\"P21\",\"P31\",\"P41\",\"P51\",\"B2\"]] = df3[\"GROUP_ID\"].str.split(\"-\",expand=True)\n",
    "df3[\"P1\"]=img_DIR_P + df3[\"P11\"] + \".png\"\n",
    "df3[\"P2\"]=img_DIR_P + df3[\"P21\"] + \".png\"\n",
    "df3[\"P3\"]=img_DIR_P + df3[\"P31\"] + \".png\"\n",
    "df3[\"P4\"]=img_DIR_P + df3[\"P41\"] + \".png\"\n",
    "df3[\"P5\"]=img_DIR_P + df3[\"P51\"] + \".png\"\n",
    "df3[\"NET_PER\"] = df3[\"NET_RATING\"].rank(pct=True)*100\n",
    "df3[\"OFF_PER\"] = df3[\"OFF_RATING\"].rank(pct=True)*100\n",
    "df3[\"DEF_PER\"] = df3[\"DEF_RATING\"].rank(pct=True,ascending=False)*100"
   ]
  },
  {
   "cell_type": "code",
   "execution_count": null,
   "metadata": {},
   "outputs": [],
   "source": [
    "df4 = df3[[\"GROUP_NAME\",\"P1\",\"P2\",\"P3\",\"P4\",\"P5\",var,\"MIN\",\"NET_PER\",\"OFF_PER\",\"DEF_PER\"]].head(20)\n",
    "# df4 = df3[[\"GROUP_NAME\",\"P1\",\"P2\",\"P3\",\"P4\",\"P5\",\"MIN\",\"NET_RATING\",\"NET_PER\",\"OFF_PER\",\"DEF_PER\"]].head(20)\n",
    "df4[\"P1\"] = df4[\"P1\"].apply(path_to_image_html)\n",
    "df4[\"P2\"] = df4[\"P2\"].apply(path_to_image_html)\n",
    "df4[\"P3\"] = df4[\"P3\"].apply(path_to_image_html)\n",
    "df4[\"P4\"] = df4[\"P4\"].apply(path_to_image_html)\n",
    "df4[\"P5\"] = df4[\"P5\"].apply(path_to_image_html)\n",
    "# df4 = df4.rename(columns={\"GROUP_NAME\":f\"Best {var}\"})\n",
    "df4 = df4.style.set_caption(f'Best {var}').set_table_styles([{\n",
    "    'selector': 'caption',\n",
    "    'props': [\n",
    "        ('color', 'red'),\n",
    "        ('font-size', '25px'),\n",
    "        ('font-style', 'italic'),\n",
    "        ('font-weight', 'bold'),\n",
    "        ('text-align', 'center')\n",
    "    ]\n",
    "}])\n",
    "df4 = df4.background_gradient(axis=0,subset=[\"NET_PER\",\"OFF_PER\",\"DEF_PER\"], vmin=0, vmax=100, cmap=\"RdYlGn\")\n",
    "df4 = df4.background_gradient(axis=0,subset=[\"MIN\"], vmin=min_min, vmax=max_min, cmap=\"RdYlGn\")\n",
    "# df4 = df4.background_gradient(axis=0,subset=[\"NET_RATING\"], vmin=df2[\"NET_RATING\"].min(), vmax=df2[\"NET_RATING\"].max(), cmap=\"RdYlGn\")\n",
    "df4 = df4.format(formatter={'MIN':'{:,.0f}',var:'{:,.1f}',\"NET_PER\":'{:,.1f}',\"OFF_PER\":'{:,.1f}',\"DEF_PER\":'{:,.1f}'})\n",
    "# df4 = df4.format(formatter={'MIN':'{:,.0f}',\"NET_PER\":'{:,.1f}',\"OFF_PER\":'{:,.1f}',\"DEF_PER\":'{:,.1f}',\"NET_RATING\":'{:,.1f}'})\n",
    "HTML(df4.to_html(escape=False))"
   ]
  },
  {
   "cell_type": "code",
   "execution_count": null,
   "metadata": {},
   "outputs": [],
   "source": [
    "asdsad"
   ]
  },
  {
   "cell_type": "code",
   "execution_count": null,
   "metadata": {},
   "outputs": [],
   "source": [
    "df1g = df1.groupby([\"TEAM_ABBREVIATION\",\"TEAM_ID\"])\n",
    "keys = list(df1g.groups)"
   ]
  },
  {
   "cell_type": "code",
   "execution_count": null,
   "metadata": {},
   "outputs": [],
   "source": [
    "teams_dict,_ = get_teams()"
   ]
  },
  {
   "cell_type": "code",
   "execution_count": null,
   "metadata": {},
   "outputs": [],
   "source": [
    "dfa = []\n",
    "for key in keys:\n",
    "    df3 = df1g.get_group(key)\n",
    "    df4 = df3.iloc[:5]\n",
    "    df4[\"Pos\"] = df4[\"NET_RATING\"]>0\n",
    "    df5 = pd.DataFrame({\"TeamID\":key[1],\"Team\":key[0],\"Pos\":[df4[\"Pos\"].sum()]})\n",
    "    dfa.append(df5)\n",
    "df6 = pd.concat(dfa)\n",
    "df6[\"nameTeam\"]=df6[\"TeamID\"].map(teams_dict)\n",
    "df6 = df6.sort_values(\"Pos\",ascending=False).reset_index(drop=True)\n",
    "df_teams = pd.read_csv(\"../data/NBA_teams_colors_logos.csv\")\n",
    "df6 = pd.merge(df6,df_teams,on=\"nameTeam\")\n",
    "teams = df6[\"Team\"].to_list()\n",
    "# teams.reverse()\n",
    "df6[\"Team\"] = pd.Categorical(df6[\"Team\"],categories=teams)\n",
    "df6[\"image\"]= img_DIR_T + df6[\"nameTeam\"] + \".png\"\n"
   ]
  },
  {
   "cell_type": "code",
   "execution_count": null,
   "metadata": {},
   "outputs": [],
   "source": [
    "p = (\n",
    "    ggplot(df6,aes(x=\"Team\",y=\"Pos\",image=\"image\"))\n",
    "    + geom_bar(aes(fill = \"colorsTeam\"),stat=\"identity\", alpha=0.8)\n",
    "    + geom_image(y=-0.1,zoom=0.07)\n",
    "    + scale_color_identity(aesthetics = [\"fill\"])\n",
    "    + scale_y_continuous(breaks=range(1,11,2)) \n",
    "    # + coord_flip()\n",
    "    + theme_xkcd()\n",
    "    # + theme_xkcd(stroke_color=\"black\")\n",
    "    + theme(\n",
    "        figure_size=(10,8),\n",
    "        plot_title=element_text(size=24),\n",
    "        axis_title_x=element_blank(),\n",
    "        axis_title_y=element_text(size=18),\n",
    "        plot_caption=element_text(size=14),\n",
    "        # text=element_text(color=\"white\"),\n",
    "        # panel_border=element_line(color=\"white\"),\n",
    "        # plot_background=element_rect(fill=\"dimgrey\"),\n",
    "        # panel_background=element_rect(fill=\"dimgrey\")\n",
    "    )\n",
    "    + labs(\n",
    "        title=\"Number of Positive Lineups with Top 5 in Mins Played\",\n",
    "        caption=\"@SravanNBA | source:nba.com/stats\",\n",
    "        y=\"# of Positive Lineups\"\n",
    "    )\n",
    ")\n",
    "p"
   ]
  },
  {
   "cell_type": "markdown",
   "metadata": {},
   "source": [
    "## 2 Man Lineups"
   ]
  },
  {
   "cell_type": "code",
   "execution_count": null,
   "metadata": {},
   "outputs": [],
   "source": [
    "stats = leaguedashlineups.LeagueDashLineups(\n",
    "    group_quantity=2,\n",
    "    measure_type_detailed_defense=\"Advanced\",\n",
    "    per_mode_detailed=\"Totals\",\n",
    "    pace_adjust=\"Y\",\n",
    "    plus_minus=\"Y\",\n",
    "    rank=\"Y\",\n",
    "    season_type_all_star=\"Regular Season\"\n",
    ")\n",
    "df = stats.get_data_frames()[0]"
   ]
  },
  {
   "cell_type": "code",
   "execution_count": null,
   "metadata": {},
   "outputs": [],
   "source": [
    "df1 = df.sort_values(\"MIN\",ascending=False).reset_index(drop=True)\n",
    "# df2 = df1.nlargest(1000,\"MIN\")\n",
    "df2 = df1.query(\"MIN >= 500\")\n",
    "len(df2)"
   ]
  },
  {
   "cell_type": "code",
   "execution_count": null,
   "metadata": {},
   "outputs": [],
   "source": [
    "var = \"PACE\"\n",
    "df3 = df2.sort_values(var,ascending=False).reset_index(drop=True)\n",
    "# var = \"DEF_RATING\"\n",
    "# df3 = df2.sort_values(var,ascending=True).reset_index(drop=True)\n",
    "df3.index +=1\n",
    "df3[[\"B1\",\"P11\",\"P21\",\"B2\"]] = df3[\"GROUP_ID\"].str.split(\"-\",expand=True)\n",
    "df3[\"P1\"]=img_DIR_P + df3[\"P11\"] + \".png\"\n",
    "df3[\"P2\"]=img_DIR_P + df3[\"P21\"] + \".png\"\n",
    "df3[\"NET_PER\"] = df3[\"NET_RATING\"].rank(pct=True)*100\n",
    "df3[\"OFF_PER\"] = df3[\"OFF_RATING\"].rank(pct=True)*100\n",
    "df3[\"DEF_PER\"] = df3[\"DEF_RATING\"].rank(pct=True,ascending=False)*100"
   ]
  },
  {
   "cell_type": "code",
   "execution_count": null,
   "metadata": {},
   "outputs": [],
   "source": [
    "df4 = df3[[\"GROUP_NAME\",\"P1\",\"P2\",var,\"MIN\",\"NET_PER\",\"OFF_PER\",\"DEF_PER\"]].head(10)\n",
    "# df4 = df3[[\"GROUP_NAME\",\"P1\",\"P2\",var,\"NET_PER\",\"OFF_PER\",\"DEF_PER\"]].head(10)\n",
    "df4[\"P1\"] = df4[\"P1\"].apply(path_to_image_html)\n",
    "df4[\"P2\"] = df4[\"P2\"].apply(path_to_image_html)\n",
    "# df4 = df4.rename(columns={\"GROUP_NAME\":f\"Best {var}\"})\n",
    "df4 = df4.style.set_caption(f'Most {var}').set_table_styles([{\n",
    "    'selector': 'caption',\n",
    "    'props': [\n",
    "        ('color', 'red'),\n",
    "        ('font-size', '25px'),\n",
    "        ('font-style', 'italic'),\n",
    "        ('font-weight', 'bold'),\n",
    "        ('text-align', 'center')\n",
    "    ]\n",
    "}])\n",
    "df4 = df4.format(formatter={'MIN':'{:,.0f}',var:'{:,.1f}',\"NET_PER\":'{:,.1f}',\"OFF_PER\":'{:,.1f}',\"DEF_PER\":'{:,.1f}'})\n",
    "# df4 = df4.format(formatter={var:'{:,.0f}',\"NET_PER\":'{:,.1f}',\"OFF_PER\":'{:,.1f}',\"DEF_PER\":'{:,.1f}'})"
   ]
  },
  {
   "cell_type": "code",
   "execution_count": null,
   "metadata": {},
   "outputs": [],
   "source": [
    "# HTML(df4.to_html(escape=False,formatters=dict(P1=path_to_image_html,P2=path_to_image_html)))\n",
    "HTML(df4.to_html(escape=False))"
   ]
  },
  {
   "cell_type": "code",
   "execution_count": null,
   "metadata": {},
   "outputs": [],
   "source": [
    "dfs"
   ]
  },
  {
   "cell_type": "markdown",
   "metadata": {},
   "source": [
    "## 3 Man Lineups"
   ]
  },
  {
   "cell_type": "code",
   "execution_count": null,
   "metadata": {},
   "outputs": [],
   "source": [
    "stats = leaguedashlineups.LeagueDashLineups(\n",
    "    group_quantity=3,\n",
    "    measure_type_detailed_defense=\"Advanced\",\n",
    "    per_mode_detailed=\"Totals\",\n",
    "    pace_adjust=\"Y\",\n",
    "    plus_minus=\"Y\",\n",
    "    rank=\"Y\",\n",
    "    season_type_all_star=\"Regular Season\"\n",
    ")\n",
    "df = stats.get_data_frames()[0]"
   ]
  },
  {
   "cell_type": "code",
   "execution_count": null,
   "metadata": {},
   "outputs": [],
   "source": [
    "df1 = df.sort_values(\"MIN\",ascending=False).reset_index(drop=True)\n",
    "# df2 = df1.nlargest(1000,\"MIN\")\n",
    "df2 = df1.query(\"MIN >= 500\")\n",
    "len(df2)"
   ]
  },
  {
   "cell_type": "code",
   "execution_count": null,
   "metadata": {},
   "outputs": [],
   "source": [
    "# var = \"OFF_RATING\"\n",
    "# df3 = df2.sort_values(var,ascending=False).reset_index(drop=True)\n",
    "var = \"DEF_RATING\"\n",
    "df3 = df2.sort_values(var,ascending=True).reset_index(drop=True)\n",
    "df3.index +=1\n",
    "df3[[\"B1\",\"P11\",\"P21\",\"P31\",\"B2\"]] = df3[\"GROUP_ID\"].str.split(\"-\",expand=True)\n",
    "df3[\"P1\"]=img_DIR_P + df3[\"P11\"] + \".png\"\n",
    "df3[\"P2\"]=img_DIR_P + df3[\"P21\"] + \".png\"\n",
    "df3[\"P3\"]=img_DIR_P + df3[\"P31\"] + \".png\"\n",
    "df3[\"NET_RATING_PER\"] = df3[\"NET_RATING\"].rank(pct=True)*100\n",
    "df3[\"OFF_RATING_PER\"] = df3[\"OFF_RATING\"].rank(pct=True)*100\n",
    "df3[\"DEF_RATING_PER\"] = df3[\"DEF_RATING\"].rank(pct=True,ascending=False)*100"
   ]
  },
  {
   "cell_type": "code",
   "execution_count": null,
   "metadata": {},
   "outputs": [],
   "source": [
    "df4 = df3[[\"GROUP_NAME\",\"P1\",\"P2\",\"P3\",var,\"MIN\",\"NET_RATING_PER\",\"OFF_RATING_PER\",\"DEF_RATING_PER\"]].head(10)\n",
    "df4[\"P1\"] = df4[\"P1\"].apply(path_to_image_html)\n",
    "df4[\"P2\"] = df4[\"P2\"].apply(path_to_image_html)\n",
    "df4[\"P3\"] = df4[\"P3\"].apply(path_to_image_html)\n",
    "# df4 = df4.rename(columns={\"GROUP_NAME\":f\"Best {var}\"})\n",
    "df4 = df4.style.set_caption(f'Best {var}').set_table_styles([{\n",
    "    'selector': 'caption',\n",
    "    'props': [\n",
    "        ('color', 'red'),\n",
    "        ('font-size', '25px'),\n",
    "        ('font-style', 'italic'),\n",
    "        ('font-weight', 'bold'),\n",
    "        ('text-align', 'center')\n",
    "    ]\n",
    "}])\n",
    "df4 = df4.format(formatter={'MIN':'{:,.0f}',var:'{:,.1f}',\"NET_RATING_PER\":'{:,.1f}',\"OFF_RATING_PER\":'{:,.1f}',\"DEF_RATING_PER\":'{:,.1f}'})"
   ]
  },
  {
   "cell_type": "code",
   "execution_count": null,
   "metadata": {},
   "outputs": [],
   "source": [
    "HTML(df4.to_html(escape=False))"
   ]
  }
 ],
 "metadata": {
  "kernelspec": {
   "display_name": "nba-ub9Z_EQq-py3.11",
   "language": "python",
   "name": "python3"
  },
  "language_info": {
   "codemirror_mode": {
    "name": "ipython",
    "version": 3
   },
   "file_extension": ".py",
   "mimetype": "text/x-python",
   "name": "python",
   "nbconvert_exporter": "python",
   "pygments_lexer": "ipython3",
   "version": "3.11.6"
  }
 },
 "nbformat": 4,
 "nbformat_minor": 2
}
