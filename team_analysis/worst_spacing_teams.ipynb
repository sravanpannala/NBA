{
 "cells": [
  {
   "cell_type": "code",
   "execution_count": null,
   "id": "7837e2b3-b1fc-4183-a62c-1c63578c2152",
   "metadata": {},
   "outputs": [],
   "source": [
    "import os, sys\n",
    "\n",
    "sys.path.append(os.path.dirname(os.path.dirname(os.path.abspath(\"__file__\"))))\n",
    "from nbafuns import *\n",
    "\n",
    "fig_DIR = \"../figs/analysis/\"\n",
    "box_DIR = \"../data/box/\""
   ]
  },
  {
   "cell_type": "code",
   "execution_count": null,
   "id": "a7f9a733-afbe-4e9e-aea0-032ad12db80f",
   "metadata": {},
   "outputs": [],
   "source": [
    "df1 = get_box(PT=\"T\",measure=\"Base\",cum=True,seasons=range(1996,2025))"
   ]
  },
  {
   "cell_type": "code",
   "execution_count": null,
   "id": "9d8ffedd-e17b-44dd-854d-c68dffc93378",
   "metadata": {},
   "outputs": [],
   "source": [
    "df2 = df1.query(\"fg3a>=20\").sort_values(\"fg3_pct\")"
   ]
  },
  {
   "cell_type": "code",
   "execution_count": null,
   "id": "3caf2b1e-c8aa-42cb-b7d1-d907c04c60b2",
   "metadata": {},
   "outputs": [],
   "source": [
    "df3 = df2[[\"team_name\",\"gp\",\"fg3a\",\"fg3_pct\",\"season\"]]\n",
    "df3 = df3.reset_index(drop=True)\n",
    "df3.to_csv(\"worst_shooting_teams.csv\")"
   ]
  },
  {
   "cell_type": "code",
   "execution_count": null,
   "id": "6f37c772-9c69-4a8f-b884-ec9cd7f95ec3",
   "metadata": {},
   "outputs": [],
   "source": [
    "df3.query(\"team_name=='Orlando Magic'\")"
   ]
  }
 ],
 "metadata": {
  "kernelspec": {
   "display_name": "Python 3 (ipykernel)",
   "language": "python",
   "name": "python3"
  },
  "language_info": {
   "codemirror_mode": {
    "name": "ipython",
    "version": 3
   },
   "file_extension": ".py",
   "mimetype": "text/x-python",
   "name": "python",
   "nbconvert_exporter": "python",
   "pygments_lexer": "ipython3",
   "version": "3.12.9"
  }
 },
 "nbformat": 4,
 "nbformat_minor": 5
}
