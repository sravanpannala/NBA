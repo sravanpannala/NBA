{
 "cells": [
  {
   "cell_type": "code",
   "execution_count": null,
   "metadata": {},
   "outputs": [],
   "source": [
    "import os, sys\n",
    "\n",
    "sys.path.append(os.path.dirname(os.path.dirname(os.path.abspath(\"__file__\"))))\n",
    "from nbafuns import *\n",
    "\n",
    "data_DIR = \"../data/injuries/\"\n",
    "fig_DIR = \"../figs/analysis/\""
   ]
  },
  {
   "cell_type": "code",
   "execution_count": null,
   "metadata": {},
   "outputs": [],
   "source": [
    "df = pd.read_parquet(data_DIR + \"all_trades.parquet\")"
   ]
  },
  {
   "cell_type": "markdown",
   "metadata": {},
   "source": [
    "## Process Data"
   ]
  },
  {
   "cell_type": "code",
   "execution_count": null,
   "metadata": {},
   "outputs": [],
   "source": [
    "df[\"Team\"] = df[\"Team\"].str.replace(\"Clippets\",\"Clippers\")\n",
    "df[\"Team\"] = df[\"Team\"].str.replace(\"Grizzles\",\"Grizzlies\")\n",
    "df[\"Team\"] = df[\"Team\"].str.replace(\"Lakerse\",\"Lakers\")\n",
    "df[\"Notes\"] = df[\"Notes\"].str.replace(\"Clippets\",\"Clippers\")\n",
    "df[\"Notes\"] = df[\"Notes\"].str.replace(\"Grizzles\",\"Grizzlies\")\n",
    "df[\"Notes\"] = df[\"Notes\"].str.replace(\"Lakerse\",\"Lakers\")\n",
    "df = df[~(df[\"Notes\"].str.contains(\"void\"))]"
   ]
  },
  {
   "cell_type": "code",
   "execution_count": null,
   "metadata": {},
   "outputs": [],
   "source": [
    "df1 = df[df[\"Notes\"].str.contains(\"trade\")]\n",
    "df1 = df1[df1[\"Date\"] >= \"2015-07-01\"].reset_index(drop=True)\n",
    "df1[\"tradetype\"] = df1[\"Notes\"].str.split(' ').str[0]\n",
    "df1 = df1[~(df1[\"tradetype\"] == \"earlier\")].reset_index(drop=True)\n",
    "df1 = df1.rename(columns={\"Team\":\"Team1\"})"
   ]
  },
  {
   "cell_type": "code",
   "execution_count": null,
   "metadata": {},
   "outputs": [],
   "source": [
    "df1[\"tradetype\"].unique()"
   ]
  },
  {
   "cell_type": "code",
   "execution_count": null,
   "metadata": {},
   "outputs": [],
   "source": [
    "df1_1 = df1[df1[\"tradetype\"] == \"trade\"].reset_index(drop=True)\n",
    "df1_1[\"Team2\"] = df1_1[\"Notes\"].str.split(' ').str[-1]\n",
    "df1_1.insert(2,\"Team2\",df1_1.pop(\"Team2\"))\n",
    "df2_1 = df1_1.copy()"
   ]
  },
  {
   "cell_type": "code",
   "execution_count": null,
   "metadata": {},
   "outputs": [],
   "source": [
    "df1_2 = df1[df1[\"tradetype\"] == \"3-team\"].reset_index(drop=True)\n",
    "df1_2[\"Team2\"] = df1_2[\"Notes\"].str.split(' ').str[-2]\n",
    "df1_2[\"Team3\"] = df1_2[\"Notes\"].str.split(' ').str[-1]\n",
    "df1_2.insert(2,\"Team2\",df1_2.pop(\"Team2\"))\n",
    "df1_2.insert(3,\"Team3\",df1_2.pop(\"Team3\"))\n",
    "df1_2[\"Team2\"] = df1_2[\"Team2\"].str.replace(\",\",\"\")\n",
    "df2_21 = df1_2.drop(columns= \"Team3\")\n",
    "df2_22 = df1_2.drop(columns= \"Team2\")\n",
    "df2_22 = df2_22.rename(columns={\"Team3\":\"Team2\"})\n",
    "df2_2 = pd.concat([df2_21,df2_22]).sort_values([\"Date\",\"Team1\"]).reset_index(drop=True)"
   ]
  },
  {
   "cell_type": "code",
   "execution_count": null,
   "metadata": {},
   "outputs": [],
   "source": [
    "df1_3 = df1[df1[\"tradetype\"] == \"4-team\"].reset_index(drop=True)\n",
    "df1_3[\"Team2\"] = df1_3[\"Notes\"].str.split(' ').str[-3]\n",
    "df1_3[\"Team3\"] = df1_3[\"Notes\"].str.split(' ').str[-2]\n",
    "df1_3[\"Team4\"] = df1_3[\"Notes\"].str.split(' ').str[-1]\n",
    "df1_3.insert(2,\"Team2\",df1_3.pop(\"Team2\"))\n",
    "df1_3.insert(3,\"Team3\",df1_3.pop(\"Team3\"))\n",
    "df1_3.insert(4,\"Team4\",df1_3.pop(\"Team4\"))\n",
    "df1_3[\"Team2\"] = df1_3[\"Team2\"].str.replace(\",\",\"\")\n",
    "df1_3[\"Team3\"] = df1_3[\"Team3\"].str.replace(\",\",\"\")\n",
    "df2_31 = df1_3.drop(columns= [\"Team3\",\"Team4\"])\n",
    "df2_32 = df1_3.drop(columns= [\"Team2\",\"Team4\"])\n",
    "df2_33 = df1_3.drop(columns= [\"Team2\",\"Team3\"])\n",
    "df2_32 = df2_32.rename(columns={\"Team3\":\"Team2\"})\n",
    "df2_33 = df2_33.rename(columns={\"Team4\":\"Team2\"})\n",
    "df2_3 = pd.concat([df2_31,df2_32,df2_33]).sort_values([\"Date\",\"Team1\"]).reset_index(drop=True)"
   ]
  },
  {
   "cell_type": "code",
   "execution_count": null,
   "metadata": {},
   "outputs": [],
   "source": [
    "df1_4 = df1[df1[\"tradetype\"] == \"5-team\"].reset_index(drop=True)\n",
    "df1_4[\"Team2\"] = df1_4[\"Notes\"].str.split(' ').str[-4]\n",
    "df1_4[\"Team3\"] = df1_4[\"Notes\"].str.split(' ').str[-3]\n",
    "df1_4[\"Team4\"] = df1_4[\"Notes\"].str.split(' ').str[-2]\n",
    "df1_4[\"Team5\"] = df1_4[\"Notes\"].str.split(' ').str[-1]\n",
    "df1_4.insert(2,\"Team2\",df1_4.pop(\"Team2\"))\n",
    "df1_4.insert(3,\"Team3\",df1_4.pop(\"Team3\"))\n",
    "df1_4.insert(4,\"Team4\",df1_4.pop(\"Team4\"))\n",
    "df1_4.insert(5,\"Team5\",df1_4.pop(\"Team5\"))\n",
    "df1_4[\"Team2\"] = df1_4[\"Team2\"].str.replace(\",\",\"\")\n",
    "df1_4[\"Team3\"] = df1_4[\"Team3\"].str.replace(\",\",\"\")\n",
    "df1_4[\"Team4\"] = df1_4[\"Team4\"].str.replace(\",\",\"\")\n",
    "df2_41 = df1_4.drop(columns= [\"Team3\",\"Team4\",\"Team5\"])\n",
    "df2_42 = df1_4.drop(columns= [\"Team2\",\"Team4\",\"Team5\"])\n",
    "df2_43 = df1_4.drop(columns= [\"Team2\",\"Team3\",\"Team5\"])\n",
    "df2_44 = df1_4.drop(columns= [\"Team2\",\"Team3\",\"Team4\"])\n",
    "df2_42 = df2_42.rename(columns={\"Team3\":\"Team2\"})\n",
    "df2_43 = df2_43.rename(columns={\"Team4\":\"Team2\"})\n",
    "df2_44 = df2_44.rename(columns={\"Team5\":\"Team2\"})\n",
    "df2_4 = pd.concat([df2_41,df2_42,df2_43,df2_44]).sort_values([\"Date\",\"Team1\"]).reset_index(drop=True)"
   ]
  },
  {
   "cell_type": "code",
   "execution_count": null,
   "metadata": {},
   "outputs": [],
   "source": [
    "df1_5 = df1[df1[\"tradetype\"] == \"6-team\"].reset_index(drop=True)\n",
    "df1_5[\"Team2\"] = df1_5[\"Notes\"].str.split(' ').str[-5]\n",
    "df1_5[\"Team3\"] = df1_5[\"Notes\"].str.split(' ').str[-4]\n",
    "df1_5[\"Team4\"] = df1_5[\"Notes\"].str.split(' ').str[-3]\n",
    "df1_5[\"Team5\"] = df1_5[\"Notes\"].str.split(' ').str[-2]\n",
    "df1_5[\"Team6\"] = df1_5[\"Notes\"].str.split(' ').str[-1]\n",
    "df1_5.insert(2,\"Team2\",df1_5.pop(\"Team2\"))\n",
    "df1_5.insert(3,\"Team3\",df1_5.pop(\"Team3\"))\n",
    "df1_5.insert(4,\"Team4\",df1_5.pop(\"Team4\"))\n",
    "df1_5.insert(5,\"Team5\",df1_5.pop(\"Team5\"))\n",
    "df1_5.insert(6,\"Team6\",df1_5.pop(\"Team6\"))\n",
    "df1_5[\"Team2\"] = df1_5[\"Team2\"].str.replace(\",\",\"\")\n",
    "df1_5[\"Team3\"] = df1_5[\"Team3\"].str.replace(\",\",\"\")\n",
    "df1_5[\"Team4\"] = df1_5[\"Team4\"].str.replace(\",\",\"\")\n",
    "df1_5[\"Team5\"] = df1_5[\"Team5\"].str.replace(\",\",\"\")"
   ]
  },
  {
   "cell_type": "code",
   "execution_count": null,
   "metadata": {},
   "outputs": [],
   "source": [
    "df2_51 = df1_5.drop(columns= [\"Team3\",\"Team4\",\"Team5\",\"Team6\"])\n",
    "df2_52 = df1_5.drop(columns= [\"Team2\",\"Team4\",\"Team5\",\"Team6\"])\n",
    "df2_53 = df1_5.drop(columns= [\"Team2\",\"Team3\",\"Team5\",\"Team6\"])\n",
    "df2_54 = df1_5.drop(columns= [\"Team2\",\"Team3\",\"Team4\",\"Team6\"])\n",
    "df2_55 = df1_5.drop(columns= [\"Team2\",\"Team3\",\"Team4\",\"Team5\"])\n",
    "df2_52 = df2_52.rename(columns={\"Team3\":\"Team2\"})\n",
    "df2_53 = df2_53.rename(columns={\"Team4\":\"Team2\"})\n",
    "df2_54 = df2_54.rename(columns={\"Team5\":\"Team2\"})\n",
    "df2_55 = df2_55.rename(columns={\"Team6\":\"Team2\"})\n",
    "df2_5 = pd.concat([df2_51,df2_52,df2_53,df2_54,df2_55]).sort_values([\"Date\",\"Team1\"]).reset_index(drop=True)"
   ]
  },
  {
   "cell_type": "code",
   "execution_count": null,
   "metadata": {},
   "outputs": [],
   "source": [
    "df2 = pd.concat([df2_1,df2_2,df2_3,df2_4,df2_5]).sort_values([\"Date\",\"Team1\"]).reset_index(drop=True)\n",
    "teams = df2[\"Team1\"].unique()\n",
    "teams = np.concatenate([teams,[\"sum\"]])\n",
    "teams.sort()\n",
    "df2[\"Team1\"] = pd.Categorical(df2[\"Team1\"],categories=teams)\n",
    "df2[\"Team2\"] = pd.Categorical(df2[\"Team2\"],categories=teams)"
   ]
  },
  {
   "cell_type": "markdown",
   "metadata": {},
   "source": [
    "## Deadlines"
   ]
  },
  {
   "cell_type": "code",
   "execution_count": null,
   "metadata": {},
   "outputs": [],
   "source": [
    "#season start\n",
    "deadlines_0 = [\"2019-10-22\",\"2020-12-22\",\"2021-10-19\",\"2022-10-18\",\"2023-10-24\",\"2024-10-22\"]\n",
    "#1 week before trade deadline\n",
    "deadlines_1 = [\"2020-01-31\",\"2021-03-19\",\"2022-02-04\",\"2023-02-03\",\"2024-02-02\",\"2025-01-31\"]\n",
    "#two days before trade deadline\n",
    "deadlines_2 = [\"2020-02-04\",\"2021-03-23\",\"2022-02-08\",\"2023-02-07\",\"2024-02-06\",\"2025-02-04\"]\n",
    "#trade deadline\n",
    "deadlines_3 = [\"2020-02-06\",\"2021-03-25\",\"2022-02-10\",\"2023-02-09\",\"2024-02-08\",\"2025-02-06\"]"
   ]
  },
  {
   "cell_type": "code",
   "execution_count": null,
   "metadata": {},
   "outputs": [],
   "source": [
    "df"
   ]
  },
  {
   "cell_type": "code",
   "execution_count": null,
   "metadata": {},
   "outputs": [],
   "source": [
    "seasons = np.arange(2020,2026)\n",
    "dfa = []\n",
    "for ii, season in enumerate(seasons):\n",
    "    s = df2.query(f\"Date>='{deadlines_1[ii]}'\").query(f\"Date<='{deadlines_3[ii]}'\")[\"tradetype\"].value_counts()\n",
    "    df3 = pd.DataFrame(s)\n",
    "    df3[\"mul\"] = 0\n",
    "    df3.loc[\"trade\",\"mul\"] = 2\n",
    "    df3.loc[\"3-team\",\"mul\"] = 3\n",
    "    df3.loc[\"4-team\",\"mul\"] = 4\n",
    "    df3.loc[\"5-team\",\"mul\"] = 5\n",
    "    df3.loc[\"6-team\",\"mul\"] = 6\n",
    "    df3[\"mul\"] = df3[\"mul\"].astype(int)\n",
    "    df3 = df3.fillna(0)\n",
    "    df3[\"trades\"] = df3[\"count\"]/df3[\"mul\"]\n",
    "    df3[\"trades\"] = df3[\"trades\"].astype(int)\n",
    "    df3.loc[\"sum\"] = df3.sum()\n",
    "    df3[\"season\"] = season\n",
    "    dfa.append(df3)\n",
    "df4 = pd.concat(dfa)\n",
    "df5 = df4.loc[\"sum\"]\n",
    "df5 = df5.reset_index()"
   ]
  },
  {
   "cell_type": "markdown",
   "metadata": {},
   "source": [
    "### Trades During Deadline Week"
   ]
  },
  {
   "cell_type": "code",
   "execution_count": null,
   "metadata": {},
   "outputs": [],
   "source": [
    "dfp = df5.copy()\n",
    "dfp = dfp.query(\"season > 2020\")\n",
    "p = (\n",
    "    ggplot(dfp)\n",
    "    + aes(x=\"season\",y=\"trades\")\n",
    "    + geom_bar(stat=\"identity\", alpha=0.75)\n",
    "    + theme_idv\n",
    "    + geom_text(aes(label = \"trades\", y=\"trades\"),size=10,nudge_y=+2,format_string =\"{:0.0f} Trades\")\n",
    "    + scale_x_continuous(breaks=seasons)\n",
    "    + labs(\n",
    "        title = \"Trades During the NBA Trade Deadline Week\",\n",
    "        caption = \"bsky:@sradjoker.cc | X:@SravanNBA | source: prosportstransactions\",\n",
    "        x = \"Season\",\n",
    "        y = \"Trades\"\n",
    "    )\n",
    "    + theme(\n",
    "        plot_title=element_text(face=\"bold\", size=18),\n",
    "        axis_text_x=element_text(size=14)\n",
    "    )\n",
    ")\n",
    "# p.save(fig_DIR + \"NBA_Trade_Deadline.png\",dpi=300,verbose=False)\n",
    "p"
   ]
  },
  {
   "cell_type": "code",
   "execution_count": null,
   "metadata": {},
   "outputs": [],
   "source": [
    "seasons = np.arange(2020,2026)\n",
    "dfa = []\n",
    "for ii, season in enumerate(seasons):\n",
    "    s = df2.query(f\"Date>'{deadlines_2[ii]}'\").query(f\"Date<='{deadlines_3[ii]}'\")[\"tradetype\"].value_counts()\n",
    "    df6 = pd.DataFrame(s)\n",
    "    df6[\"mul\"] = 0\n",
    "    df6.loc[\"trade\",\"mul\"] = 2\n",
    "    df6.loc[\"3-team\",\"mul\"] = 3\n",
    "    df6.loc[\"4-team\",\"mul\"] = 4\n",
    "    df6.loc[\"5-team\",\"mul\"] = 5\n",
    "    df6.loc[\"6-team\",\"mul\"] = 6\n",
    "    df6[\"mul\"] = df6[\"mul\"].astype(int)\n",
    "    df6 = df6.fillna(0)\n",
    "    df6[\"trades\"] = df6[\"count\"]/df6[\"mul\"]\n",
    "    df6[\"trades\"] = df6[\"trades\"].astype(int)\n",
    "    df6.loc[\"sum\"] = df6.sum()\n",
    "    df6[\"season\"] = season\n",
    "    dfa.append(df6)\n",
    "df7 = pd.concat(dfa)\n",
    "df8 = df7.loc[\"sum\"]\n",
    "df8 = df8.reset_index()"
   ]
  },
  {
   "cell_type": "markdown",
   "metadata": {},
   "source": [
    "### Trades During Deadline Day"
   ]
  },
  {
   "cell_type": "code",
   "execution_count": null,
   "metadata": {},
   "outputs": [],
   "source": [
    "dfp = df8.copy()\n",
    "dfp = dfp.query(\"season > 2020\")\n",
    "p = (\n",
    "    ggplot(dfp)\n",
    "    + aes(x=\"season\",y=\"trades\")\n",
    "    + geom_bar(stat=\"identity\", alpha=0.75)\n",
    "    + theme_idv\n",
    "    + geom_text(aes(label = \"trades\", y=\"trades\"),size=10,nudge_y=+2,format_string =\"{:0.0f} Trades\")\n",
    "    + scale_x_continuous(breaks=seasons)\n",
    "    + labs(\n",
    "        title = \"Trades During the NBA Trade Deadline Day\",\n",
    "        subtitle = \"Includes the day before\",\n",
    "        caption = \"bsky:@sradjoker.cc | X:@SravanNBA | source: prosportstransactions\",\n",
    "        x = \"Season\",\n",
    "        y = \"Trades\"\n",
    "    )\n",
    "    + theme(\n",
    "        plot_title=element_text(face=\"bold\", size=18),\n",
    "        axis_text_x=element_text(size=14)\n",
    "    )\n",
    ")\n",
    "# p.save(fig_DIR + \"NBA_Trade_Deadline.png\",dpi=300,verbose=False)\n",
    "p"
   ]
  },
  {
   "cell_type": "markdown",
   "metadata": {},
   "source": [
    "### Most Active Teams"
   ]
  },
  {
   "cell_type": "code",
   "execution_count": null,
   "metadata": {},
   "outputs": [],
   "source": [
    "df10_1 = df2.drop(columns=\"Team2\").rename(columns={\"Team1\":\"Team\"})\n",
    "df10_2 = df2.drop(columns=\"Team1\").rename(columns={\"Team2\":\"Team\"})\n",
    "df10 = pd.concat([df10_1,df10_2])\n",
    "df10 = df10.sort_values([\"Date\",\"Team\",\"tradetype\"]).reset_index(drop=True)"
   ]
  },
  {
   "cell_type": "code",
   "execution_count": null,
   "metadata": {},
   "outputs": [],
   "source": [
    "ii = 4\n",
    "df11 = df10.query(f\"Date>='{deadlines_1[ii]}'\").query(f\"Date<='{deadlines_3[ii]}'\")"
   ]
  },
  {
   "cell_type": "code",
   "execution_count": null,
   "metadata": {},
   "outputs": [],
   "source": [
    "seasons = np.arange(2020,2026)\n",
    "dfb = []\n",
    "for ii, season in enumerate(seasons):\n",
    "    df11 = df10.query(f\"Date>='{deadlines_1[ii]}'\").query(f\"Date<='{deadlines_3[ii]}'\")\n",
    "    df12 = df11.groupby([\"Team\",\"tradetype\"])[[\"tradetype\"]].value_counts()\n",
    "    df12 = pd.DataFrame(df12)\n",
    "    df12 = df12.reset_index()\n",
    "    df12[\"mul\"] = 0\n",
    "    df12.loc[df12[\"tradetype\"] == \"trade\",\"mul\"] = 2\n",
    "    df12.loc[df12[\"tradetype\"] == \"3-team\",\"mul\"] = 3\n",
    "    df12.loc[df12[\"tradetype\"] == \"4-team\",\"mul\"] = 4\n",
    "    df12.loc[df12[\"tradetype\"] == \"5-team\",\"mul\"] = 5\n",
    "    df12.loc[df12[\"tradetype\"] == \"6-team\",\"mul\"] = 6\n",
    "    df12[\"mul\"] = df12[\"mul\"].astype(int)\n",
    "    df12[\"trades\"] = df12[\"count\"]/df12[\"mul\"]\n",
    "    df12[\"trades\"] = df12[\"trades\"].astype(int)\n",
    "    df12[\"season\"] = season\n",
    "    df13 = df12.groupby([\"Team\"])[[\"trades\"]].sum()\n",
    "    df13 = df13.reset_index()\n",
    "    df13[\"season\"] = season\n",
    "    dfb.append(df13)\n",
    "df14 = pd.concat(dfb)"
   ]
  },
  {
   "cell_type": "code",
   "execution_count": null,
   "metadata": {},
   "outputs": [],
   "source": [
    "df15 = df14.query(\"trades > 0\")\n",
    "df15 = df14.copy()\n",
    "df15[\"team_slug\"] = df15[\"Team\"]\n",
    "df15 = add_tinfo(df15,on=\"team_slug\")\n",
    "# df15[\"image\"] = df15[\"image\"].str.replace(\"Documents\",\"\")"
   ]
  },
  {
   "cell_type": "code",
   "execution_count": null,
   "metadata": {},
   "outputs": [],
   "source": [
    "dfp = df15.copy()\n",
    "dfp = dfp.query(\"season > 2020\")\n",
    "p = (\n",
    "    ggplot(dfp)\n",
    "    + aes(x=\"season\",y=\"trades\",label=\"Team\",image=\"image\",fill=\"Team\")\n",
    "    # + geom_jitter(position=position_jitter(width=0.2, height=0.2, random_state = 1))\n",
    "    # + geom_point()\n",
    "    # + geom_image(position=position_jitter(width=0.25, height=0.25),size=0.07)\n",
    "    + geom_image(position=position_jitterdodge(jitter_height=0.35,dodge_width=0.8),size=0.08)\n",
    "    + scale_x_continuous(breaks=seasons)\n",
    "    + theme_idv\n",
    "    + theme(\n",
    "        figure_size=(10,10),\n",
    "        panel_grid_minor=element_line(color=\"blue\",linetype=\"dashed\",size=0.5)\n",
    "    )\n",
    "    + labs(\n",
    "        title=\"Most Active Teams During Trade Deadline Week\",\n",
    "        x=\"Season\",\n",
    "        y=\"Trades\",\n",
    "        caption=\"bsky:@sradjoker.cc | X:@SravanNBA | source:prosportstransactions\"\n",
    "    )\n",
    ")\n",
    "p"
   ]
  }
 ],
 "metadata": {
  "kernelspec": {
   "display_name": "dav-ub9Z_EQq-py3.12",
   "language": "python",
   "name": "python3"
  },
  "language_info": {
   "codemirror_mode": {
    "name": "ipython",
    "version": 3
   },
   "file_extension": ".py",
   "mimetype": "text/x-python",
   "name": "python",
   "nbconvert_exporter": "python",
   "pygments_lexer": "ipython3",
   "version": "3.12.0"
  }
 },
 "nbformat": 4,
 "nbformat_minor": 2
}
