{
 "cells": [
  {
   "cell_type": "code",
   "execution_count": null,
   "metadata": {},
   "outputs": [],
   "source": [
    "import os, sys\n",
    "\n",
    "sys.path.append(os.path.dirname(os.path.dirname(os.path.abspath(\"__file__\"))))\n",
    "from nbafuns import *\n",
    "\n",
    "\n",
    "fig_DIR = \"../figs/team_ratings/\"\n",
    "box_DIR = \"../data/boxscores_team/\""
   ]
  },
  {
   "cell_type": "code",
   "execution_count": null,
   "metadata": {},
   "outputs": [],
   "source": [
    "season = \"2023\"\n",
    "df = pd.read_csv(box_DIR + f\"NBA_BoxScores_Standard_{season}.csv\")\n",
    "df['Team_Split'] = df['MATCHUP'].str.replace(\"@\",\"\")\n",
    "df['Team_Split'] = df['Team_Split'].str.replace(\"vs.\",\"\")\n",
    "df[['Team1','Team2']] = df['Team_Split'].str.split(\"  \",expand=True)\n",
    "df[[\"FG3M\",\"PLUS_MINUS\",\"FG3_PCT\"]] = df[[\"FG3M\",\"PLUS_MINUS\",\"FG3_PCT\"]].astype(str)"
   ]
  },
  {
   "cell_type": "code",
   "execution_count": null,
   "metadata": {},
   "outputs": [],
   "source": [
    "df.columns"
   ]
  },
  {
   "cell_type": "markdown",
   "metadata": {},
   "source": [
    "# Based on 3FGM"
   ]
  },
  {
   "cell_type": "code",
   "execution_count": null,
   "metadata": {},
   "outputs": [],
   "source": [
    "df1 = df.groupby(\"GAME_ID\")[[\"TEAM_ABBREVIATION\",\"FG3M\",\"PLUS_MINUS\"]].agg(\",\".join).reset_index()\n",
    "df1[[\"Team1\", \"Team2\"]] = df1[\"TEAM_ABBREVIATION\"].str.split(\",\", expand=True)\n",
    "df1[[\"FG3M_For\", \"FG3M_Against\"]] = df1[\"FG3M\"].str.split(\",\", expand=True)\n",
    "df1[[\"PM1\", \"PM2\"]] = df1[\"PLUS_MINUS\"].str.split(\",\", expand=True)\n",
    "df2 = df.groupby(\"GAME_ID\")[[\"TEAM_ABBREVIATION\",\"FG3M\",\"PLUS_MINUS\"]].agg(\",\".join).reset_index()\n",
    "df2[[\"Team2\", \"Team1\"]] = df2[\"TEAM_ABBREVIATION\"].str.split(\",\", expand=True)\n",
    "df2[[\"FG3M_Against\",\"FG3M_For\"]] = df2[\"FG3M\"].str.split(\",\", expand=True)\n",
    "df2[[\"PM2\", \"PM1\"]] = df2[\"PLUS_MINUS\"].str.split(\",\", expand=True)"
   ]
  },
  {
   "cell_type": "code",
   "execution_count": null,
   "metadata": {},
   "outputs": [],
   "source": [
    "df3 = pd.concat([df1,df2]).sort_values(by=\"GAME_ID\").reset_index(drop=True)\n",
    "df3 = df3[[\"Team1\",\"Team2\",\"FG3M_For\", \"FG3M_Against\",\"PM1\",\"PM2\"]]\n",
    "df3.iloc[:,2:] = df3.iloc[:,2:].astype(int)"
   ]
  },
  {
   "cell_type": "code",
   "execution_count": null,
   "metadata": {},
   "outputs": [],
   "source": [
    "df3[\"More_3PT\"] = df3[\"FG3M_For\"] > df3[\"FG3M_Against\"]\n",
    "df3[\"Less_3PT\"] = df3[\"FG3M_For\"] <= df3[\"FG3M_Against\"]\n",
    "df3[\"Win\"] = df3[\"PM1\"] > 0\n",
    "df3[\"Loss\"] = df3[\"PM1\"] < 0\n",
    "df3[\"Win_More_3PT\"] = df3[\"More_3PT\"] & df3[\"Win\"]\n",
    "df3[\"Win_Less_3PT\"] = df3[\"Less_3PT\"] & df3[\"Win\"]\n",
    "df3[\"Loss_More_3PT\"] = df3[\"More_3PT\"] & df3[\"Loss\"]\n",
    "df3[\"Loss_Less_3PT\"] = df3[\"Less_3PT\"] & df3[\"Loss\"]"
   ]
  },
  {
   "cell_type": "code",
   "execution_count": null,
   "metadata": {},
   "outputs": [],
   "source": [
    "df4 = df3.groupby(\"Team1\")[[\"Win_More_3PT\",\"Win_Less_3PT\",\"Loss_More_3PT\",\"Loss_Less_3PT\"]]\\\n",
    ".agg({\"Win_More_3PT\":[\"sum\"],\"Win_Less_3PT\":[\"sum\"],\"Loss_More_3PT\":[\"sum\"],\"Loss_Less_3PT\":[\"sum\"]})\n",
    "df4.columns = [\"Win_More_3PT\",\"Win_Less_3PT\",\"Loss_More_3PT\",\"Loss_Less_3PT\"]\n",
    "df4 = df4.sort_values(by=\"Win_More_3PT\",ascending=False).reset_index().rename(columns={\"Team1\":\"Team\"})\n",
    "df4.loc['Total']= df4.sum()\n",
    "df4.loc['Total','Team'] = \"Total\""
   ]
  },
  {
   "cell_type": "code",
   "execution_count": null,
   "metadata": {},
   "outputs": [],
   "source": [
    "d = (\n",
    "    gt.GT(data=df4.iloc[:15])\n",
    "    # .cols_label(For_30= \"30 PTS For\", Against_30=\"30 PTS Against\", Diff_30=\"Difference\")\n",
    "    .cols_align(align=\"center\", columns=[\"Win_More_3PT\",\"Win_Less_3PT\",\"Loss_More_3PT\",\"Loss_Less_3PT\"])\n",
    "    .tab_spanner(\n",
    "        label = \"More 3PT\",\n",
    "        columns = [\"Win_More_3PT\", \"Loss_More_3PT\"]\n",
    "    )\n",
    "    .tab_spanner(\n",
    "        label = \"Less 3PT\",\n",
    "        columns = [\"Win_Less_3PT\", \"Loss_Less_3PT\"]\n",
    "    )\n",
    "    .tab_header(\n",
    "        title=\"Team Win Loss When Making More 3 Pointers than Opponent\",\n",
    "    )\n",
    "    .cols_label(Win_More_3PT = \"Wins\",Win_Less_3PT = \"Wins\", Loss_More_3PT = \"Losses\",Loss_Less_3PT = \"Losses\")\n",
    "    .tab_source_note(\n",
    "        source_note = \"@SravanNBA | source: nba.com/stats\"\n",
    "    )\n",
    ")\n",
    "d"
   ]
  },
  {
   "cell_type": "code",
   "execution_count": null,
   "metadata": {},
   "outputs": [],
   "source": [
    "hti.screenshot(html_str=d._render_as_html(), save_as=\"test1.png\", size=(600, 750))"
   ]
  },
  {
   "cell_type": "code",
   "execution_count": null,
   "metadata": {},
   "outputs": [],
   "source": [
    "d = (\n",
    "    gt.GT(data=df4.iloc[15:])\n",
    "    # .cols_label(For_30= \"30 PTS For\", Against_30=\"30 PTS Against\", Diff_30=\"Difference\")\n",
    "    .cols_align(align=\"center\", columns=[\"Win_More_3PT\",\"Win_Less_3PT\",\"Loss_More_3PT\",\"Loss_Less_3PT\"])\n",
    "    .tab_spanner(\n",
    "        label = \"More 3PT\",\n",
    "        columns = [\"Win_More_3PT\", \"Loss_More_3PT\"]\n",
    "    )\n",
    "    .tab_spanner(\n",
    "        label = \"Less 3PT\",\n",
    "        columns = [\"Win_Less_3PT\", \"Loss_Less_3PT\"]\n",
    "    )\n",
    "    .tab_header(\n",
    "        title=\"Team Win Loss When Making More 3 Pointers than Opponent\",\n",
    "    )\n",
    "    .cols_label(Win_More_3PT = \"Wins\",Win_Less_3PT = \"Wins\", Loss_More_3PT = \"Losses\",Loss_Less_3PT = \"Losses\")\n",
    "    .tab_source_note(\n",
    "        source_note = \"@SravanNBA | source: nba.com/stats\"\n",
    "    )\n",
    ")\n",
    "d"
   ]
  },
  {
   "cell_type": "code",
   "execution_count": null,
   "metadata": {},
   "outputs": [],
   "source": [
    "hti.screenshot(html_str=d._render_as_html(), save_as=\"test2.png\", size=(600, 750))"
   ]
  },
  {
   "cell_type": "markdown",
   "metadata": {},
   "source": [
    "# Based on 3PT%"
   ]
  },
  {
   "cell_type": "code",
   "execution_count": null,
   "metadata": {},
   "outputs": [],
   "source": [
    "df1 = df.groupby(\"GAME_ID\")[[\"TEAM_ABBREVIATION\",\"FG3_PCT\",\"PLUS_MINUS\"]].agg(\",\".join).reset_index()\n",
    "df1[[\"Team1\", \"Team2\"]] = df1[\"TEAM_ABBREVIATION\"].str.split(\",\", expand=True)\n",
    "df1[[\"FG3_PCT_For\", \"FG3_PCT_Against\"]] = df1[\"FG3_PCT\"].str.split(\",\", expand=True)\n",
    "df1[[\"PM1\", \"PM2\"]] = df1[\"PLUS_MINUS\"].str.split(\",\", expand=True)\n",
    "df2 = df.groupby(\"GAME_ID\")[[\"TEAM_ABBREVIATION\",\"FG3_PCT\",\"PLUS_MINUS\"]].agg(\",\".join).reset_index()\n",
    "df2[[\"Team2\", \"Team1\"]] = df2[\"TEAM_ABBREVIATION\"].str.split(\",\", expand=True)\n",
    "df2[[\"FG3_PCT_Against\",\"FG3_PCT_For\"]] = df2[\"FG3_PCT\"].str.split(\",\", expand=True)\n",
    "df2[[\"PM2\", \"PM1\"]] = df2[\"PLUS_MINUS\"].str.split(\",\", expand=True)"
   ]
  },
  {
   "cell_type": "code",
   "execution_count": null,
   "metadata": {},
   "outputs": [],
   "source": [
    "df3 = pd.concat([df1,df2]).sort_values(by=\"GAME_ID\").reset_index(drop=True)\n",
    "df3 = df3[[\"Team1\",\"Team2\",\"FG3_PCT_For\", \"FG3_PCT_Against\",\"PM1\",\"PM2\"]]\n",
    "df3.iloc[:,2:] = df3.iloc[:,2:].astype(float)"
   ]
  },
  {
   "cell_type": "code",
   "execution_count": null,
   "metadata": {},
   "outputs": [],
   "source": [
    "df3[\"More_3PT_PCT\"] = df3[\"FG3_PCT_For\"] > (df3[\"FG3_PCT_Against\"] +0.1)\n",
    "df3[\"Win\"] = df3[\"PM1\"] > 0\n",
    "df3[\"Loss\"] = df3[\"PM1\"] < 0\n",
    "df3[\"Win_More_3PT_PCT\"] = df3[\"More_3PT_PCT\"] & df3[\"Win\"]\n",
    "df3[\"Loss_More_3PT_PCT\"] = df3[\"More_3PT_PCT\"] & df3[\"Loss\"]"
   ]
  },
  {
   "cell_type": "code",
   "execution_count": null,
   "metadata": {},
   "outputs": [],
   "source": [
    "df4 = df3.groupby(\"Team1\")[[\"Win_More_3PT_PCT\",\"Loss_More_3PT_PCT\"]]\\\n",
    ".agg({\"Win_More_3PT_PCT\":[\"sum\"],\"Loss_More_3PT_PCT\":[\"sum\"]})\n",
    "df4.columns = [\"Win_More_3PT_PCT\",\"Loss_More_3PT_PCT\"]\n",
    "df4 = df4.sort_values(by=\"Win_More_3PT_PCT\",ascending=False).reset_index().rename(columns={\"Team1\":\"Team\"})\n",
    "df4.loc['Total']= df4.sum()\n",
    "df4.loc['Total','Team'] = \"Total\""
   ]
  },
  {
   "cell_type": "code",
   "execution_count": null,
   "metadata": {},
   "outputs": [],
   "source": [
    "d = (\n",
    "    gt.GT(data=df4)\n",
    "    # .cols_label(For_30= \"30 PTS For\", Against_30=\"30 PTS Against\", Diff_30=\"Difference\")\n",
    "    .cols_align(align=\"center\", columns=[\"Win_More_3PT_PCT\",\"Loss_More_3PT_PCT\"])\n",
    "    .tab_spanner(\n",
    "        label = \"3PT % > Opponent by 10%\",\n",
    "        columns = [\"Win_More_3PT_PCT\", \"Loss_More_3PT_PCT\"]\n",
    "    )\n",
    "    .tab_header(\n",
    "        title=\"Team Win Loss When 3PT% greater than Opponent by 10%\",\n",
    "    )\n",
    "    .cols_label(Win_More_3PT_PCT = \"Wins\",Loss_More_3PT_PCT = \"Losses\")\n",
    "    .tab_source_note(\n",
    "        source_note = \"@SravanNBA | source: nba.com/stats\"\n",
    "    )\n",
    ")\n",
    "d"
   ]
  },
  {
   "cell_type": "code",
   "execution_count": null,
   "metadata": {},
   "outputs": [],
   "source": [
    "hti.screenshot(html_str=d._render_as_html(), save_as=\"test3.png\", size=(400, 1400))"
   ]
  },
  {
   "cell_type": "markdown",
   "metadata": {},
   "source": [
    "# 3PT Shooting Year to Year Trends"
   ]
  },
  {
   "cell_type": "code",
   "execution_count": null,
   "metadata": {},
   "outputs": [],
   "source": [
    "from nba_api.stats.endpoints import leaguedashteamstats\n"
   ]
  },
  {
   "cell_type": "code",
   "execution_count": null,
   "metadata": {},
   "outputs": [],
   "source": [
    "dfa = []\n",
    "for year in range(2014,2024):\n",
    "    season = str(year) + \"-\" + str(year + 1)[-2:]\n",
    "    print(season)\n",
    "    stats = leaguedashteamstats.LeagueDashTeamStats(per_mode_detailed=\"PerGame\", season_type_all_star=\"Regular Season\", season = season)\n",
    "    df = stats.get_data_frames()[0]\n",
    "    df = df[[\"TEAM_NAME\",\"W\",\"L\",\"W_PCT\",\"FG3M\",\"FG3A\",\"FG3_PCT\"]]\n",
    "    df.loc[\"Total\"] = df.sum()\n",
    "    df.loc[\"Total\",\"FG3M\"] = df.loc[\"Total\",\"FG3M\"]/30\n",
    "    df.loc[\"Total\",\"FG3A\"] = df.loc[\"Total\",\"FG3A\"]/30 \n",
    "    df.loc[\"Total\",\"FG3_PCT\"] = df.loc[\"Total\",\"FG3M\"]/df.loc[\"Total\",\"FG3A\"]\n",
    "    df.loc[\"Total\",\"TEAM_NAME\"] = year +1\n",
    "    df.iloc[:,4:] = df.iloc[:,4:].round(3)\n",
    "    dft = df.tail(1)\n",
    "    dft = dft[[\"TEAM_NAME\",\"FG3M\", \"FG3A\", \"FG3_PCT\"]]\n",
    "    dfa.append(dft)\n",
    "df_3pct = pd.concat(dfa)"
   ]
  },
  {
   "cell_type": "code",
   "execution_count": null,
   "metadata": {},
   "outputs": [],
   "source": [
    "df_3pct = df_3pct.rename(columns={\"TEAM_NAME\":\"Season\"}).reset_index(drop=True)"
   ]
  },
  {
   "cell_type": "code",
   "execution_count": null,
   "metadata": {},
   "outputs": [],
   "source": [
    "df_3pct"
   ]
  },
  {
   "cell_type": "code",
   "execution_count": null,
   "metadata": {},
   "outputs": [],
   "source": [
    "theme_idv = themes.theme_xkcd(base_size=11)\n",
    "theme_idv += theme(\n",
    "    plot_title=element_text(face=\"bold\", size=16),\n",
    ")"
   ]
  },
  {
   "cell_type": "code",
   "execution_count": null,
   "metadata": {},
   "outputs": [],
   "source": [
    "p = (\n",
    "    ggplot(df_3pct)\n",
    "    + aes(x=\"Season\", y= \"FG3A\")\n",
    "    + geom_line(group=1)\n",
    "    + geom_point()\n",
    "    + theme_idv\n",
    "    + labs(\n",
    "            title= \"3PT Attempts per Game 2014-2023\",\n",
    "            caption=\"@SravanNBA | source:nba.com/stats\",\n",
    "        )\n",
    ")\n",
    "p.save(fig_DIR + \"FG3A_seasons.png\", width=5, height=4, dpi=300)\n",
    "p.draw()"
   ]
  },
  {
   "cell_type": "code",
   "execution_count": null,
   "metadata": {},
   "outputs": [],
   "source": [
    "p = (\n",
    "    ggplot(df_3pct)\n",
    "    + aes(x=\"Season\", y= \"FG3M\")\n",
    "    + geom_line(group=1)\n",
    "    + geom_point()\n",
    "    + theme_idv\n",
    "    + labs(\n",
    "            title= \"3PT Makes per Game 2014-2023\",\n",
    "            caption=\"@SravanNBA | source:nba.com/stats\",\n",
    "        )\n",
    ")\n",
    "p.save(fig_DIR + \"FG3M_seasons.png\", width=5, height=4, dpi=300)\n",
    "p.draw()"
   ]
  },
  {
   "cell_type": "code",
   "execution_count": null,
   "metadata": {},
   "outputs": [],
   "source": [
    "p = (\n",
    "    ggplot(df_3pct)\n",
    "    + aes(x=\"Season\", y= \"FG3_PCT\")\n",
    "    + geom_line(group=1)\n",
    "    + geom_point()\n",
    "    + theme_idv\n",
    "    + labs(\n",
    "            title= \"3PT Accuracy 2014-2023\",\n",
    "            caption=\"@SravanNBA | source:nba.com/stats\",\n",
    "            y=\"3PT Percent\"\n",
    "        )\n",
    ")\n",
    "p.save(fig_DIR + \"FG3_PCT_seasons.png\", width=5, height=4, dpi=300)\n",
    "p.draw()"
   ]
  },
  {
   "cell_type": "markdown",
   "metadata": {},
   "source": [
    "# 3FGA vs Wins Year to Year"
   ]
  },
  {
   "cell_type": "markdown",
   "metadata": {},
   "source": [
    "### Team 3PA > Opponent 3PA"
   ]
  },
  {
   "cell_type": "code",
   "execution_count": null,
   "metadata": {},
   "outputs": [],
   "source": [
    "dfa = []\n",
    "for season in range(2014,2024):\n",
    "    df = pd.read_csv(box_DIR + f\"NBA_BoxScores_Standard_{season}.csv\")\n",
    "    df['Team_Split'] = df['MATCHUP'].str.replace(\"@\",\"\")\n",
    "    df['Team_Split'] = df['Team_Split'].str.replace(\"vs.\",\"\")\n",
    "    df[['Team1','Team2']] = df['Team_Split'].str.split(\"  \",expand=True)\n",
    "    df[[\"FG3A\",\"PLUS_MINUS\",\"FG3_PCT\"]] = df[[\"FG3A\",\"PLUS_MINUS\",\"FG3_PCT\"]].astype(str)\n",
    "    df1 = df.groupby(\"GAME_ID\")[[\"TEAM_ABBREVIATION\",\"FG3A\",\"PLUS_MINUS\"]].agg(\",\".join).reset_index()\n",
    "    df1[[\"Team1\", \"Team2\"]] = df1[\"TEAM_ABBREVIATION\"].str.split(\",\", expand=True)\n",
    "    df1[[\"FG3A_For\", \"FG3A_Against\"]] = df1[\"FG3A\"].str.split(\",\", expand=True)\n",
    "    df1[[\"PM1\", \"PM2\"]] = df1[\"PLUS_MINUS\"].str.split(\",\", expand=True)\n",
    "    df2 = df.groupby(\"GAME_ID\")[[\"TEAM_ABBREVIATION\",\"FG3A\",\"PLUS_MINUS\"]].agg(\",\".join).reset_index()\n",
    "    df2[[\"Team2\", \"Team1\"]] = df2[\"TEAM_ABBREVIATION\"].str.split(\",\", expand=True)\n",
    "    df2[[\"FG3A_Against\",\"FG3A_For\"]] = df2[\"FG3A\"].str.split(\",\", expand=True)\n",
    "    df2[[\"PM2\", \"PM1\"]] = df2[\"PLUS_MINUS\"].str.split(\",\", expand=True)\n",
    "    df3 = pd.concat([df1,df2]).sort_values(by=\"GAME_ID\").reset_index(drop=True)\n",
    "    df3 = df3[[\"Team1\",\"Team2\",\"FG3A_For\", \"FG3A_Against\",\"PM1\",\"PM2\"]]\n",
    "    df3.iloc[:,2:] = df3.iloc[:,2:].astype(int)\n",
    "    df3[\"More_3PT\"] = df3[\"FG3A_For\"] > (df3[\"FG3A_Against\"] + 0)\n",
    "    df3[\"Win\"] = df3[\"PM1\"] > 0\n",
    "    df3[\"Loss\"] = df3[\"PM1\"] < 0\n",
    "    df3[\"Win_More_3PT\"] = df3[\"More_3PT\"] & df3[\"Win\"]\n",
    "    df3[\"Loss_More_3PT\"] = df3[\"More_3PT\"] & df3[\"Loss\"]\n",
    "    df4 = df3.groupby(\"Team1\")[[\"Win_More_3PT\",\"Loss_More_3PT\"]]\\\n",
    "        .agg({\"Win_More_3PT\":[\"sum\"],\"Loss_More_3PT\":[\"sum\"]})\n",
    "    df4.columns = [\"Win_More_3PT\",\"Loss_More_3PT\"]\n",
    "    df4 = df4.sort_values(by=\"Win_More_3PT\",ascending=False).reset_index().rename(columns={\"Team1\":\"Team\"})\n",
    "    df4.loc['Total']= df4.sum()\n",
    "    df4.loc['Total','Team'] = \"Total\"\n",
    "    df4.loc['Total','Team'] = season +1\n",
    "    dft = df4.tail(1)\n",
    "    dfa.append(dft)\n",
    "df_aw = pd.concat(dfa).reset_index(drop=True)\n",
    "df_aw = df_aw.rename(columns={\"Team\":\"Season\"})\n",
    "df_aw[\"Win_PCT\"] = (df_aw[\"Win_More_3PT\"]/(df_aw[\"Win_More_3PT\"]+df_aw[\"Loss_More_3PT\"])).round(3)"
   ]
  },
  {
   "cell_type": "code",
   "execution_count": null,
   "metadata": {},
   "outputs": [],
   "source": [
    "p = (\n",
    "    ggplot(df_aw)\n",
    "    + aes(x=\"Season\", y= \"Win_PCT\")\n",
    "    + geom_line(group=1)\n",
    "    + geom_point()\n",
    "    + theme_idv\n",
    "    + labs(\n",
    "            title= \"Team Win % When Attempting More 3 Pointers than Opponent\",\n",
    "            caption=\"@SravanNBA | source:nba.com/stats\",\n",
    "            y = \"Win %\",\n",
    "        )\n",
    "    + theme(plot_title=element_text(face=\"bold\", size=11))\n",
    ")\n",
    "p.save(fig_DIR + \"FG3A_Wins_seasons.png\", width=5, height=4, dpi=300)\n",
    "p.draw()"
   ]
  },
  {
   "cell_type": "markdown",
   "metadata": {},
   "source": [
    "### Team 3PA > Opponent 3PA + 5"
   ]
  },
  {
   "cell_type": "code",
   "execution_count": null,
   "metadata": {},
   "outputs": [],
   "source": [
    "dfa = []\n",
    "for season in range(2014,2024):\n",
    "    df = pd.read_csv(box_DIR + f\"NBA_BoxScores_Standard_{season}.csv\")\n",
    "    df['Team_Split'] = df['MATCHUP'].str.replace(\"@\",\"\")\n",
    "    df['Team_Split'] = df['Team_Split'].str.replace(\"vs.\",\"\")\n",
    "    df[['Team1','Team2']] = df['Team_Split'].str.split(\"  \",expand=True)\n",
    "    df[[\"FG3A\",\"PLUS_MINUS\",\"FG3_PCT\"]] = df[[\"FG3A\",\"PLUS_MINUS\",\"FG3_PCT\"]].astype(str)\n",
    "    df1 = df.groupby(\"GAME_ID\")[[\"TEAM_ABBREVIATION\",\"FG3A\",\"PLUS_MINUS\"]].agg(\",\".join).reset_index()\n",
    "    df1[[\"Team1\", \"Team2\"]] = df1[\"TEAM_ABBREVIATION\"].str.split(\",\", expand=True)\n",
    "    df1[[\"FG3A_For\", \"FG3A_Against\"]] = df1[\"FG3A\"].str.split(\",\", expand=True)\n",
    "    df1[[\"PM1\", \"PM2\"]] = df1[\"PLUS_MINUS\"].str.split(\",\", expand=True)\n",
    "    df2 = df.groupby(\"GAME_ID\")[[\"TEAM_ABBREVIATION\",\"FG3A\",\"PLUS_MINUS\"]].agg(\",\".join).reset_index()\n",
    "    df2[[\"Team2\", \"Team1\"]] = df2[\"TEAM_ABBREVIATION\"].str.split(\",\", expand=True)\n",
    "    df2[[\"FG3A_Against\",\"FG3A_For\"]] = df2[\"FG3A\"].str.split(\",\", expand=True)\n",
    "    df2[[\"PM2\", \"PM1\"]] = df2[\"PLUS_MINUS\"].str.split(\",\", expand=True)\n",
    "    df3 = pd.concat([df1,df2]).sort_values(by=\"GAME_ID\").reset_index(drop=True)\n",
    "    df3 = df3[[\"Team1\",\"Team2\",\"FG3A_For\", \"FG3A_Against\",\"PM1\",\"PM2\"]]\n",
    "    df3.iloc[:,2:] = df3.iloc[:,2:].astype(int)\n",
    "    df3[\"More_3PT\"] = df3[\"FG3A_For\"] > (df3[\"FG3A_Against\"] + 0)\n",
    "    df3[\"Win\"] = df3[\"PM1\"] > 0\n",
    "    df3[\"Loss\"] = df3[\"PM1\"] < 0\n",
    "    df3[\"Win_More_3PT\"] = df3[\"More_3PT\"] & df3[\"Win\"]\n",
    "    df3[\"Loss_More_3PT\"] = df3[\"More_3PT\"] & df3[\"Loss\"]\n",
    "    df4 = df3.groupby(\"Team1\")[[\"Win_More_3PT\",\"Loss_More_3PT\"]]\\\n",
    "        .agg({\"Win_More_3PT\":[\"sum\"],\"Loss_More_3PT\":[\"sum\"]})\n",
    "    df4.columns = [\"Win_More_3PT\",\"Loss_More_3PT\"]\n",
    "    df4 = df4.sort_values(by=\"Win_More_3PT\",ascending=False).reset_index().rename(columns={\"Team1\":\"Team\"})\n",
    "    df4.loc['Total']= df4.sum()\n",
    "    df4.loc['Total','Team'] = \"Total\"\n",
    "    df4.loc['Total','Team'] = season +1\n",
    "    dft = df4.tail(1)\n",
    "    dfa.append(dft)\n",
    "df_aw = pd.concat(dfa).reset_index(drop=True)\n",
    "df_aw = df_aw.rename(columns={\"Team\":\"Season\"})\n",
    "df_aw[\"Win_PCT\"] = (df_aw[\"Win_More_3PT\"]/(df_aw[\"Win_More_3PT\"]+df_aw[\"Loss_More_3PT\"])).round(3)"
   ]
  },
  {
   "cell_type": "code",
   "execution_count": null,
   "metadata": {},
   "outputs": [],
   "source": [
    "p = (\n",
    "    ggplot(df_aw)\n",
    "    + aes(x=\"Season\", y= \"Win_PCT\")\n",
    "    + geom_line(group=1)\n",
    "    + geom_point()\n",
    "    + theme_idv\n",
    "    + labs(\n",
    "            title= \"Team Win % When Attempting 5 More 3 Pointers than Opponent\",\n",
    "            caption=\"@SravanNBA | source:nba.com/stats\",\n",
    "            y = \"Win %\",\n",
    "        )\n",
    "    + theme(plot_title=element_text(face=\"bold\", size=11))\n",
    ")\n",
    "p.save(fig_DIR + \"FG3A_Wins_seasons_1.png\", width=5.2, height=4, dpi=300)\n",
    "p.draw()"
   ]
  },
  {
   "cell_type": "markdown",
   "metadata": {},
   "source": [
    "# 3FGM vs Wins Year to Year"
   ]
  },
  {
   "cell_type": "markdown",
   "metadata": {},
   "source": [
    "### Team 3PM > Opponent 3PM"
   ]
  },
  {
   "cell_type": "code",
   "execution_count": null,
   "metadata": {},
   "outputs": [],
   "source": [
    "dfa = []\n",
    "for season in range(2014,2024):\n",
    "    df = pd.read_csv(box_DIR + f\"NBA_BoxScores_Standard_{season}.csv\")\n",
    "    df['Team_Split'] = df['MATCHUP'].str.replace(\"@\",\"\")\n",
    "    df['Team_Split'] = df['Team_Split'].str.replace(\"vs.\",\"\")\n",
    "    df[['Team1','Team2']] = df['Team_Split'].str.split(\"  \",expand=True)\n",
    "    df[[\"FG3M\",\"PLUS_MINUS\",\"FG3_PCT\"]] = df[[\"FG3M\",\"PLUS_MINUS\",\"FG3_PCT\"]].astype(str)\n",
    "    df1 = df.groupby(\"GAME_ID\")[[\"TEAM_ABBREVIATION\",\"FG3M\",\"PLUS_MINUS\"]].agg(\",\".join).reset_index()\n",
    "    df1[[\"Team1\", \"Team2\"]] = df1[\"TEAM_ABBREVIATION\"].str.split(\",\", expand=True)\n",
    "    df1[[\"FG3M_For\", \"FG3M_Against\"]] = df1[\"FG3M\"].str.split(\",\", expand=True)\n",
    "    df1[[\"PM1\", \"PM2\"]] = df1[\"PLUS_MINUS\"].str.split(\",\", expand=True)\n",
    "    df2 = df.groupby(\"GAME_ID\")[[\"TEAM_ABBREVIATION\",\"FG3M\",\"PLUS_MINUS\"]].agg(\",\".join).reset_index()\n",
    "    df2[[\"Team2\", \"Team1\"]] = df2[\"TEAM_ABBREVIATION\"].str.split(\",\", expand=True)\n",
    "    df2[[\"FG3M_Against\",\"FG3M_For\"]] = df2[\"FG3M\"].str.split(\",\", expand=True)\n",
    "    df2[[\"PM2\", \"PM1\"]] = df2[\"PLUS_MINUS\"].str.split(\",\", expand=True)\n",
    "    df3 = pd.concat([df1,df2]).sort_values(by=\"GAME_ID\").reset_index(drop=True)\n",
    "    df3 = df3[[\"Team1\",\"Team2\",\"FG3M_For\", \"FG3M_Against\",\"PM1\",\"PM2\"]]\n",
    "    df3.iloc[:,2:] = df3.iloc[:,2:].astype(int)\n",
    "    df3[\"More_3PT\"] = df3[\"FG3M_For\"] > (df3[\"FG3M_Against\"])\n",
    "    df3[\"Win\"] = df3[\"PM1\"] > 0\n",
    "    df3[\"Loss\"] = df3[\"PM1\"] < 0\n",
    "    df3[\"Win_More_3PT\"] = df3[\"More_3PT\"] & df3[\"Win\"]\n",
    "    df3[\"Loss_More_3PT\"] = df3[\"More_3PT\"] & df3[\"Loss\"]\n",
    "    df4 = df3.groupby(\"Team1\")[[\"Win_More_3PT\",\"Loss_More_3PT\"]]\\\n",
    "        .agg({\"Win_More_3PT\":[\"sum\"],\"Loss_More_3PT\":[\"sum\"]})\n",
    "    df4.columns = [\"Win_More_3PT\",\"Loss_More_3PT\"]\n",
    "    df4 = df4.sort_values(by=\"Win_More_3PT\",ascending=False).reset_index().rename(columns={\"Team1\":\"Team\"})\n",
    "    df4.loc['Total']= df4.sum()\n",
    "    df4.loc['Total','Team'] = \"Total\"\n",
    "    df4.loc['Total','Team'] = season +1\n",
    "    dft = df4.tail(1)\n",
    "    dfa.append(dft)\n",
    "df_mw = pd.concat(dfa).reset_index(drop=True)\n",
    "df_mw = df_mw.rename(columns={\"Team\":\"Season\"})\n",
    "df_mw[\"Win_PCT\"] = (df_mw[\"Win_More_3PT\"]/(df_mw[\"Win_More_3PT\"]+df_mw[\"Loss_More_3PT\"])).round(3)"
   ]
  },
  {
   "cell_type": "code",
   "execution_count": null,
   "metadata": {},
   "outputs": [],
   "source": [
    "p = (\n",
    "    ggplot(df_mw)\n",
    "    + aes(x=\"Season\", y= \"Win_PCT\")\n",
    "    + geom_line(group=1)\n",
    "    + geom_point()\n",
    "    + theme_idv\n",
    "    + labs(\n",
    "            title= \"Team Win % When Making More 3 Pointers than Opponent\",\n",
    "            caption=\"@SravanNBA | source:nba.com/stats\",\n",
    "            y = \"Win %\",\n",
    "        )\n",
    "    + theme(plot_title=element_text(face=\"bold\", size=11.5))\n",
    ")\n",
    "p.save(fig_DIR + \"FG3M_Wins_seasons.png\", width=5, height=4, dpi=300)\n",
    "p.draw()"
   ]
  },
  {
   "cell_type": "markdown",
   "metadata": {},
   "source": [
    "### Team 3PM > Opponent 3PM + 2"
   ]
  },
  {
   "cell_type": "code",
   "execution_count": null,
   "metadata": {},
   "outputs": [],
   "source": [
    "dfa = []\n",
    "for season in range(2014,2024):\n",
    "    df = pd.read_csv(box_DIR + f\"NBA_BoxScores_Standard_{season}.csv\")\n",
    "    df['Team_Split'] = df['MATCHUP'].str.replace(\"@\",\"\")\n",
    "    df['Team_Split'] = df['Team_Split'].str.replace(\"vs.\",\"\")\n",
    "    df[['Team1','Team2']] = df['Team_Split'].str.split(\"  \",expand=True)\n",
    "    df[[\"FG3M\",\"PLUS_MINUS\",\"FG3_PCT\"]] = df[[\"FG3M\",\"PLUS_MINUS\",\"FG3_PCT\"]].astype(str)\n",
    "    df1 = df.groupby(\"GAME_ID\")[[\"TEAM_ABBREVIATION\",\"FG3M\",\"PLUS_MINUS\"]].agg(\",\".join).reset_index()\n",
    "    df1[[\"Team1\", \"Team2\"]] = df1[\"TEAM_ABBREVIATION\"].str.split(\",\", expand=True)\n",
    "    df1[[\"FG3M_For\", \"FG3M_Against\"]] = df1[\"FG3M\"].str.split(\",\", expand=True)\n",
    "    df1[[\"PM1\", \"PM2\"]] = df1[\"PLUS_MINUS\"].str.split(\",\", expand=True)\n",
    "    df2 = df.groupby(\"GAME_ID\")[[\"TEAM_ABBREVIATION\",\"FG3M\",\"PLUS_MINUS\"]].agg(\",\".join).reset_index()\n",
    "    df2[[\"Team2\", \"Team1\"]] = df2[\"TEAM_ABBREVIATION\"].str.split(\",\", expand=True)\n",
    "    df2[[\"FG3M_Against\",\"FG3M_For\"]] = df2[\"FG3M\"].str.split(\",\", expand=True)\n",
    "    df2[[\"PM2\", \"PM1\"]] = df2[\"PLUS_MINUS\"].str.split(\",\", expand=True)\n",
    "    df3 = pd.concat([df1,df2]).sort_values(by=\"GAME_ID\").reset_index(drop=True)\n",
    "    df3 = df3[[\"Team1\",\"Team2\",\"FG3M_For\", \"FG3M_Against\",\"PM1\",\"PM2\"]]\n",
    "    df3.iloc[:,2:] = df3.iloc[:,2:].astype(int)\n",
    "    df3[\"More_3PT\"] = df3[\"FG3M_For\"] > (df3[\"FG3M_Against\"] + 2)\n",
    "    df3[\"Win\"] = df3[\"PM1\"] > 0\n",
    "    df3[\"Loss\"] = df3[\"PM1\"] < 0\n",
    "    df3[\"Win_More_3PT\"] = df3[\"More_3PT\"] & df3[\"Win\"]\n",
    "    df3[\"Loss_More_3PT\"] = df3[\"More_3PT\"] & df3[\"Loss\"]\n",
    "    df4 = df3.groupby(\"Team1\")[[\"Win_More_3PT\",\"Loss_More_3PT\"]]\\\n",
    "        .agg({\"Win_More_3PT\":[\"sum\"],\"Loss_More_3PT\":[\"sum\"]})\n",
    "    df4.columns = [\"Win_More_3PT\",\"Loss_More_3PT\"]\n",
    "    df4 = df4.sort_values(by=\"Win_More_3PT\",ascending=False).reset_index().rename(columns={\"Team1\":\"Team\"})\n",
    "    df4.loc['Total']= df4.sum()\n",
    "    df4.loc['Total','Team'] = \"Total\"\n",
    "    df4.loc['Total','Team'] = season +1\n",
    "    dft = df4.tail(1)\n",
    "    dfa.append(dft)\n",
    "df_mw = pd.concat(dfa).reset_index(drop=True)\n",
    "df_mw = df_mw.rename(columns={\"Team\":\"Season\"})\n",
    "df_mw[\"Win_PCT\"] = (df_mw[\"Win_More_3PT\"]/(df_mw[\"Win_More_3PT\"]+df_mw[\"Loss_More_3PT\"])).round(3)"
   ]
  },
  {
   "cell_type": "code",
   "execution_count": null,
   "metadata": {},
   "outputs": [],
   "source": [
    "p = (\n",
    "    ggplot(df_mw)\n",
    "    + aes(x=\"Season\", y= \"Win_PCT\")\n",
    "    + geom_line(group=1)\n",
    "    + geom_point()\n",
    "    + theme_idv\n",
    "    + labs(\n",
    "            title= \"Team Win % When Making 2 More 3 Pointers than Opponent\",\n",
    "            caption=\"@SravanNBA | source:nba.com/stats\",\n",
    "            y = \"Win %\",\n",
    "        )\n",
    "    + theme(plot_title=element_text(face=\"bold\", size=11.5))\n",
    ")\n",
    "p.save(fig_DIR + \"FG3M_Wins_seasons_1.png\", width=5, height=4, dpi=300)\n",
    "p.draw()"
   ]
  },
  {
   "cell_type": "markdown",
   "metadata": {},
   "source": [
    "# 3FG% vs Wins Year to Year"
   ]
  },
  {
   "cell_type": "markdown",
   "metadata": {},
   "source": [
    "### Team 3P% > Opponent 3P%"
   ]
  },
  {
   "cell_type": "code",
   "execution_count": null,
   "metadata": {},
   "outputs": [],
   "source": [
    "dfa = []\n",
    "for season in range(2014,2024):\n",
    "    df = pd.read_csv(box_DIR + f\"NBA_BoxScores_Standard_{season}.csv\")\n",
    "    df['Team_Split'] = df['MATCHUP'].str.replace(\"@\",\"\")\n",
    "    df['Team_Split'] = df['Team_Split'].str.replace(\"vs.\",\"\")\n",
    "    df[['Team1','Team2']] = df['Team_Split'].str.split(\"  \",expand=True)\n",
    "    df[[\"FG3M\",\"PLUS_MINUS\",\"FG3_PCT\"]] = df[[\"FG3M\",\"PLUS_MINUS\",\"FG3_PCT\"]].astype(str)\n",
    "    df1 = df.groupby(\"GAME_ID\")[[\"TEAM_ABBREVIATION\",\"FG3_PCT\",\"PLUS_MINUS\"]].agg(\",\".join).reset_index()\n",
    "    df1[[\"Team1\", \"Team2\"]] = df1[\"TEAM_ABBREVIATION\"].str.split(\",\", expand=True)\n",
    "    df1[[\"FG3_PCT_For\", \"FG3_PCT_Against\"]] = df1[\"FG3_PCT\"].str.split(\",\", expand=True)\n",
    "    df1[[\"PM1\", \"PM2\"]] = df1[\"PLUS_MINUS\"].str.split(\",\", expand=True)\n",
    "    df2 = df.groupby(\"GAME_ID\")[[\"TEAM_ABBREVIATION\",\"FG3_PCT\",\"PLUS_MINUS\"]].agg(\",\".join).reset_index()\n",
    "    df2[[\"Team2\", \"Team1\"]] = df2[\"TEAM_ABBREVIATION\"].str.split(\",\", expand=True)\n",
    "    df2[[\"FG3_PCT_Against\",\"FG3_PCT_For\"]] = df2[\"FG3_PCT\"].str.split(\",\", expand=True)\n",
    "    df2[[\"PM2\", \"PM1\"]] = df2[\"PLUS_MINUS\"].str.split(\",\", expand=True)\n",
    "    df3 = pd.concat([df1,df2]).sort_values(by=\"GAME_ID\").reset_index(drop=True)\n",
    "    df3 = df3[[\"Team1\",\"Team2\",\"FG3_PCT_For\", \"FG3_PCT_Against\",\"PM1\",\"PM2\"]]\n",
    "    df3.iloc[:,2:] = df3.iloc[:,2:].astype(float)\n",
    "    df3[\"More_3PT_PCT\"] = df3[\"FG3_PCT_For\"] > (df3[\"FG3_PCT_Against\"] + 0.00) \n",
    "    df3[\"Win\"] = df3[\"PM1\"] > 0\n",
    "    df3[\"Loss\"] = df3[\"PM1\"] < 0\n",
    "    df3[\"Win_More_3PT_PCT\"] = df3[\"More_3PT_PCT\"] & df3[\"Win\"]\n",
    "    df3[\"Loss_More_3PT_PCT\"] = df3[\"More_3PT_PCT\"] & df3[\"Loss\"]\n",
    "    df4 = df3.groupby(\"Team1\")[[\"Win_More_3PT_PCT\",\"Loss_More_3PT_PCT\"]]\\\n",
    "        .agg({\"Win_More_3PT_PCT\":[\"sum\"],\"Loss_More_3PT_PCT\":[\"sum\"]})\n",
    "    df4.columns = [\"Win_More_3PT_PCT\",\"Loss_More_3PT_PCT\"]\n",
    "    df4 = df4.sort_values(by=\"Win_More_3PT_PCT\",ascending=False).reset_index().rename(columns={\"Team1\":\"Team\"})\n",
    "    df4.loc['Total']= df4.sum()\n",
    "    df4.loc['Total','Team'] = \"Total\"\n",
    "    df4.loc['Total','Team'] = season +1\n",
    "    dft = df4.tail(1)\n",
    "    dfa.append(dft)\n",
    "df_pw = pd.concat(dfa).reset_index(drop=True)\n",
    "df_pw = df_pw.rename(columns={\"Team\":\"Season\"})\n",
    "df_pw[\"Win_PCT\"] = (df_pw[\"Win_More_3PT_PCT\"]/(df_pw[\"Win_More_3PT_PCT\"]+df_pw[\"Loss_More_3PT_PCT\"])).round(3)"
   ]
  },
  {
   "cell_type": "code",
   "execution_count": null,
   "metadata": {},
   "outputs": [],
   "source": [
    "p = (\n",
    "    ggplot(df_pw)\n",
    "    + aes(x=\"Season\", y= \"Win_PCT\")\n",
    "    + geom_line(group=1)\n",
    "    + geom_point()\n",
    "    + theme_idv\n",
    "    + labs(\n",
    "            title= \"Team Win % When Having higher 3PT% than Opponent\",\n",
    "            caption=\"@SravanNBA | source:nba.com/stats\",\n",
    "            y = \"Win %\",\n",
    "        )\n",
    "    + theme(plot_title=element_text(face=\"bold\", size=12))\n",
    ")\n",
    "p.save(fig_DIR + \"FG3PCT_Wins_seasons.png\", width=5, height=4, dpi=300)\n",
    "p.draw()"
   ]
  },
  {
   "cell_type": "markdown",
   "metadata": {},
   "source": [
    "### Team 3P% > Opponent 3P% + 5%"
   ]
  },
  {
   "cell_type": "code",
   "execution_count": null,
   "metadata": {},
   "outputs": [],
   "source": [
    "dfa = []\n",
    "for season in range(2014,2024):\n",
    "    df = pd.read_csv(box_DIR + f\"NBA_BoxScores_Standard_{season}.csv\")\n",
    "    df['Team_Split'] = df['MATCHUP'].str.replace(\"@\",\"\")\n",
    "    df['Team_Split'] = df['Team_Split'].str.replace(\"vs.\",\"\")\n",
    "    df[['Team1','Team2']] = df['Team_Split'].str.split(\"  \",expand=True)\n",
    "    df[[\"FG3M\",\"PLUS_MINUS\",\"FG3_PCT\"]] = df[[\"FG3M\",\"PLUS_MINUS\",\"FG3_PCT\"]].astype(str)\n",
    "    df1 = df.groupby(\"GAME_ID\")[[\"TEAM_ABBREVIATION\",\"FG3_PCT\",\"PLUS_MINUS\"]].agg(\",\".join).reset_index()\n",
    "    df1[[\"Team1\", \"Team2\"]] = df1[\"TEAM_ABBREVIATION\"].str.split(\",\", expand=True)\n",
    "    df1[[\"FG3_PCT_For\", \"FG3_PCT_Against\"]] = df1[\"FG3_PCT\"].str.split(\",\", expand=True)\n",
    "    df1[[\"PM1\", \"PM2\"]] = df1[\"PLUS_MINUS\"].str.split(\",\", expand=True)\n",
    "    df2 = df.groupby(\"GAME_ID\")[[\"TEAM_ABBREVIATION\",\"FG3_PCT\",\"PLUS_MINUS\"]].agg(\",\".join).reset_index()\n",
    "    df2[[\"Team2\", \"Team1\"]] = df2[\"TEAM_ABBREVIATION\"].str.split(\",\", expand=True)\n",
    "    df2[[\"FG3_PCT_Against\",\"FG3_PCT_For\"]] = df2[\"FG3_PCT\"].str.split(\",\", expand=True)\n",
    "    df2[[\"PM2\", \"PM1\"]] = df2[\"PLUS_MINUS\"].str.split(\",\", expand=True)\n",
    "    df3 = pd.concat([df1,df2]).sort_values(by=\"GAME_ID\").reset_index(drop=True)\n",
    "    df3 = df3[[\"Team1\",\"Team2\",\"FG3_PCT_For\", \"FG3_PCT_Against\",\"PM1\",\"PM2\"]]\n",
    "    df3.iloc[:,2:] = df3.iloc[:,2:].astype(float)\n",
    "    df3[\"More_3PT_PCT\"] = df3[\"FG3_PCT_For\"] > (df3[\"FG3_PCT_Against\"] + 0.05) \n",
    "    df3[\"Win\"] = df3[\"PM1\"] > 0\n",
    "    df3[\"Loss\"] = df3[\"PM1\"] < 0\n",
    "    df3[\"Win_More_3PT_PCT\"] = df3[\"More_3PT_PCT\"] & df3[\"Win\"]\n",
    "    df3[\"Loss_More_3PT_PCT\"] = df3[\"More_3PT_PCT\"] & df3[\"Loss\"]\n",
    "    df4 = df3.groupby(\"Team1\")[[\"Win_More_3PT_PCT\",\"Loss_More_3PT_PCT\"]]\\\n",
    "        .agg({\"Win_More_3PT_PCT\":[\"sum\"],\"Loss_More_3PT_PCT\":[\"sum\"]})\n",
    "    df4.columns = [\"Win_More_3PT_PCT\",\"Loss_More_3PT_PCT\"]\n",
    "    df4 = df4.sort_values(by=\"Win_More_3PT_PCT\",ascending=False).reset_index().rename(columns={\"Team1\":\"Team\"})\n",
    "    df4.loc['Total']= df4.sum()\n",
    "    df4.loc['Total','Team'] = \"Total\"\n",
    "    df4.loc['Total','Team'] = season +1\n",
    "    dft = df4.tail(1)\n",
    "    dfa.append(dft)\n",
    "df_pw = pd.concat(dfa).reset_index(drop=True)\n",
    "df_pw = df_pw.rename(columns={\"Team\":\"Season\"})\n",
    "df_pw[\"Win_PCT\"] = (df_pw[\"Win_More_3PT_PCT\"]/(df_pw[\"Win_More_3PT_PCT\"]+df_pw[\"Loss_More_3PT_PCT\"])).round(3)"
   ]
  },
  {
   "cell_type": "code",
   "execution_count": null,
   "metadata": {},
   "outputs": [],
   "source": [
    "p = (\n",
    "    ggplot(df_pw)\n",
    "    + aes(x=\"Season\", y= \"Win_PCT\")\n",
    "    + geom_line(group=1)\n",
    "    + geom_point()\n",
    "    + theme_idv\n",
    "    + labs(\n",
    "            title= \"Team Win % When Having 5% higher 3PT% than Opponent\",\n",
    "            caption=\"@SravanNBA | source:nba.com/stats\",\n",
    "            y = \"Win %\",\n",
    "        )\n",
    "    + theme(plot_title=element_text(face=\"bold\", size=12))\n",
    ")\n",
    "p.save(fig_DIR + \"FG3PCT_Wins_seasons_1.png\", width=5, height=4, dpi=300)\n",
    "p.draw()"
   ]
  }
 ],
 "metadata": {
  "kernelspec": {
   "display_name": "nba-ub9Z_EQq-py3.11",
   "language": "python",
   "name": "python3"
  },
  "language_info": {
   "codemirror_mode": {
    "name": "ipython",
    "version": 3
   },
   "file_extension": ".py",
   "mimetype": "text/x-python",
   "name": "python",
   "nbconvert_exporter": "python",
   "pygments_lexer": "ipython3",
   "version": "3.11.6"
  }
 },
 "nbformat": 4,
 "nbformat_minor": 2
}
