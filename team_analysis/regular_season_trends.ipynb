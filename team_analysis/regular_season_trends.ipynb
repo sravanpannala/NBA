{
 "cells": [
  {
   "cell_type": "code",
   "execution_count": null,
   "metadata": {},
   "outputs": [],
   "source": [
    "import os, sys\n",
    "\n",
    "sys.path.append(os.path.dirname(os.path.dirname(os.path.abspath(\"__file__\"))))\n",
    "from nbafuns import *\n",
    "from nba_api.stats.endpoints import leaguedashteamstats\n",
    "import cv2\n",
    "import matplotlib.image as image\n",
    "fig_DIR = \"../figs/team_leaders/\"\n",
    "box_DIR = \"../data/box/\"\n",
    "img_DIR_T = \"../data/images/teams/\"\n",
    "img_DIR_P = \"../data/images/players/\"\n"
   ]
  },
  {
   "cell_type": "code",
   "execution_count": null,
   "metadata": {},
   "outputs": [],
   "source": [
    "dfa = []\n",
    "for year in range(2003,2024):\n",
    "    stats = leaguedashteamstats.LeagueDashTeamStats(\n",
    "        measure_type_detailed_defense=\"Advanced\",\n",
    "        season = get_ss(year)\n",
    "    )\n",
    "    df1 = stats.get_data_frames()[0]\n",
    "    df1 = df1.sort_values(\"W_PCT\",ascending=False).reset_index(drop=True)\n",
    "    df1[\"OPTS\"] = df1[\"OFF_RATING\"]*df1[\"POSS\"]\n",
    "    df1[\"DPTS\"] = df1[\"DEF_RATING\"]*df1[\"POSS\"]\n",
    "    lavg_Rtg = round(df1[\"OPTS\"].sum()/df1[\"POSS\"].sum(),2)\n",
    "    df1[\"rOFF_RATING\"] = df1[\"OFF_RATING\"] - lavg_Rtg\n",
    "    df1[\"rDEF_RATING\"] = df1[\"DEF_RATING\"] - lavg_Rtg\n",
    "    df1[\"Season\"] = year + 1\n",
    "    dfa.append(df1)\n",
    "df2 = pd.concat(dfa)"
   ]
  },
  {
   "cell_type": "code",
   "execution_count": null,
   "metadata": {},
   "outputs": [],
   "source": [
    "df2[\"TEAM_NAME\"] = df2[\"TEAM_NAME\"].str.replace(\"Los Angeles Clippers\",\"LA Clippers\")\n",
    "df2[\"TEAM_NAME\"] = df2[\"TEAM_NAME\"].str.replace(\"New Orleans/Oklahoma City Hornets\",\"New Orleans Hornets\")\n",
    "df2[\"url\"]= img_DIR_T + df2[\"TEAM_NAME\"] + \".png\"\n",
    "# df3 = df2.query(\"OFF_RATING_RANK == 1\")\n",
    "df3 = df2.nsmallest(20,\"rOFF_RATING\")"
   ]
  },
  {
   "cell_type": "code",
   "execution_count": null,
   "metadata": {},
   "outputs": [],
   "source": [
    "yvar = \"rOFF_RATING\"\n",
    "p = (\n",
    "    ggplot(df3,aes(x=\"Season\",y=yvar,image=\"url\"))\n",
    "    # + geom_point(size=0.1)\n",
    "    # + geom_line(size=1)\n",
    "    + geom_image(size=0.07)\n",
    "    # + geom_smooth(se=False,color=\"red\",size=2)\n",
    "    # + geom_image(aes(x=\"Season\",y=yvar,image=\"url\"),size=0.06)\n",
    "    + labs(\n",
    "        title=f\"NBA 20 Worst Relative Offensive Ratings\",\n",
    "        subtitle=\"Last 20 Seasons\",\n",
    "        # subtitle=\"rOff Rtg = Off Rtg - League Avg Off Rtg\",\n",
    "        caption=\"@sradjoker | source:nba.com/stats\",\n",
    "        x=\"Season\",\n",
    "        y=\"rOff Rating\"\n",
    "    )\n",
    "    # + scale_y_continuous(breaks=range(6,14))\n",
    "    + scale_x_continuous(breaks=range(2004,2025,4))\n",
    "    + coord_cartesian(xlim=[2004,2024])\n",
    "    + theme_idv\n",
    "    + theme(\n",
    "        plot_title=element_text(size=14),\n",
    "        # axis_title_y=element_blank(),\n",
    "        figure_size=(5,4),\n",
    "        # plot_margin=0.01,\n",
    "    )\n",
    ")\n",
    "p"
   ]
  }
 ],
 "metadata": {
  "kernelspec": {
   "display_name": "nba-ub9Z_EQq-py3.11",
   "language": "python",
   "name": "python3"
  },
  "language_info": {
   "codemirror_mode": {
    "name": "ipython",
    "version": 3
   },
   "file_extension": ".py",
   "mimetype": "text/x-python",
   "name": "python",
   "nbconvert_exporter": "python",
   "pygments_lexer": "ipython3",
   "version": "3.11.6"
  }
 },
 "nbformat": 4,
 "nbformat_minor": 2
}
