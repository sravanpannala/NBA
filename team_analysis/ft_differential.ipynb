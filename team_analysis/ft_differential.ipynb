{
 "cells": [
  {
   "cell_type": "code",
   "execution_count": null,
   "metadata": {
    "metadata": {}
   },
   "outputs": [],
   "source": [
    "import os, sys\n",
    "\n",
    "sys.path.append(os.path.dirname(os.path.dirname(os.path.abspath(\"__file__\"))))\n",
    "from nbafuns import *\n",
    "\n",
    "box_DIR = \"../data/box/\"\n",
    "img_DIR_T = \"../data/images/teams/\"\n",
    "fig_DIR = \"../figs/teams/\""
   ]
  },
  {
   "cell_type": "code",
   "execution_count": null,
   "metadata": {
    "metadata": {}
   },
   "outputs": [],
   "source": [
    "dfa = []\n",
    "for year in range(2019,2024):\n",
    "    df1 = pd.read_parquet(box_DIR + f\"NBA_Box_T_Base_{year}.parquet\")\n",
    "    df1.insert(0,\"GAME_ID\",df1.pop(\"GAME_ID\"))\n",
    "    df4 = df1.groupby(\"GAME_ID\")\n",
    "    df4_1 = df4.nth(0)\n",
    "    df4_2 = df4.nth(1)\n",
    "    df4_1.columns = [\"GAME_ID\"] + [s + \"1\" for s in df4_1.columns if s != \"GAME_ID\"]\n",
    "    df4_2.columns = [\"GAME_ID\"] + [s + \"2\" for s in df4_2.columns if s != \"GAME_ID\"]\n",
    "    df4_3 = pd.merge(df4_1, df4_2, on=\"GAME_ID\")\n",
    "    df4_4 = df4.nth(1)\n",
    "    df4_5 = df4.nth(0)\n",
    "    df4_4.columns = [\"GAME_ID\"] + [s + \"1\" for s in df4_4.columns if s != \"GAME_ID\"]\n",
    "    df4_5.columns = [\"GAME_ID\"] + [s + \"2\" for s in df4_5.columns if s != \"GAME_ID\"]\n",
    "    df4_6 = pd.merge(df4_4, df4_5, on=\"GAME_ID\")\n",
    "    df5 = pd.concat([df4_3,df4_6])\n",
    "    df5[\"FT_Diff\"] = df5[\"FTA1\"] - df5[\"FTA2\"]\n",
    "    df6 = pd.DataFrame(df5.groupby(\"TEAM_NAME1\")[\"FT_Diff\"].sum()).reset_index()\n",
    "    df6.columns = [\"Team\",\"FT_Diff\"]\n",
    "    df6[\"Season\"] = year + 1\n",
    "    dfa.append(df6)\n"
   ]
  },
  {
   "cell_type": "code",
   "execution_count": null,
   "metadata": {
    "metadata": {}
   },
   "outputs": [],
   "source": [
    "df7 = pd.concat(dfa)\n",
    "df7 = df7.sort_values(\"FT_Diff\",ascending=False).reset_index(drop=True).reset_index()\n",
    "df7[\"index\"] += 1  \n",
    "df7[\"T\"]= df7[\"Team\"]\n",
    "df7.insert(1,\"T\",df7.pop(\"T\"))\n",
    "df7.insert(3,\"Season\",df7.pop(\"Season\"))\n",
    "df8 = df7.head(10)"
   ]
  },
  {
   "cell_type": "code",
   "execution_count": null,
   "metadata": {
    "metadata": {}
   },
   "outputs": [],
   "source": [
    "t = (\n",
    "    GT(df8)\n",
    "    .tab_header(\n",
    "        title=md(\"Highest FT Differential, Past 5 Seasons\"),\n",
    "        # subtitle=\"Daily measurements in New York City (May 1-10, 1973)\"\n",
    "    )\n",
    "    .tab_source_note(source_note=\"@sradjoker | source: nba.com/stats via nba_api\")\n",
    "    .cols_label(\n",
    "        index = \"#\",\n",
    "        T = \"\",\n",
    "        FT_Diff = \"FT Diff\",\n",
    "    )\n",
    "    .fmt_image(\n",
    "        columns=\"T\",\n",
    "        path = img_DIR_T,\n",
    "        file_pattern=\"{}.png\"\n",
    "    )\n",
    "    .cols_align(align=\"center\")\n",
    "    .cols_align(align=\"left\", columns=\"Team\")\n",
    "    .tab_options(\n",
    "        heading_title_font_size=\"150%\",\n",
    "        heading_subtitle_font_size=\"110%\",\n",
    "        # heading_title_font_weight='bold',\n",
    "        table_background_color=\"floralwhite\",\n",
    "        column_labels_font_size=\"105%\",\n",
    "        column_labels_font_weight='bold',\n",
    "        row_group_font_weight='bold',\n",
    "        row_group_background_color=\"#E5E1D8\",\n",
    "        table_font_size=10,\n",
    "        table_font_names=\"Consolas\", \n",
    "        data_row_padding = \"3px\",\n",
    "        table_margin_left = 1,\n",
    "        table_margin_right = 1,\n",
    "    )\n",
    ")\n",
    "t.save(fig_DIR + \"ft_diff.png\",scale=3,expand=2,web_driver=\"edge\")\n",
    "t"
   ]
  },
  {
   "cell_type": "code",
   "execution_count": null,
   "metadata": {
    "metadata": {}
   },
   "outputs": [],
   "source": []
  }
 ],
 "metadata": {
  "kernelspec": {
   "display_name": "nba-ub9Z_EQq-py3.11",
   "language": "python",
   "name": "python3"
  },
  "language_info": {
   "codemirror_mode": {
    "name": "ipython",
    "version": 3
   },
   "file_extension": ".py",
   "mimetype": "text/x-python",
   "name": "python",
   "nbconvert_exporter": "python",
   "pygments_lexer": "ipython3",
   "version": "3.11.6"
  }
 },
 "nbformat": 4,
 "nbformat_minor": 2
}
