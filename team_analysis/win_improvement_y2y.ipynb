{
 "cells": [
  {
   "cell_type": "code",
   "execution_count": null,
   "metadata": {},
   "outputs": [],
   "source": [
    "import os, sys\n",
    "\n",
    "sys.path.append(os.path.dirname(os.path.dirname(os.path.abspath(\"__file__\"))))\n",
    "from nbafuns import *\n",
    "from nba_api.stats.endpoints import leaguedashteamstats\n",
    "\n",
    "img_DIR_T = \"../data/images/teams/\"\n",
    "fig_DIR = \"../figs/teams/\"\n",
    "box_DIR = \"../data/box/\""
   ]
  },
  {
   "cell_type": "code",
   "execution_count": null,
   "metadata": {},
   "outputs": [],
   "source": [
    "season = 2023\n",
    "stats = leaguegamelog.LeagueGameLog(player_or_team_abbreviation=\"T\",season=season,season_type_all_star=\"Regular Season\",)\n",
    "df1 = stats.get_data_frames()[0]\n",
    "season = 2024\n",
    "stats = leaguegamelog.LeagueGameLog(player_or_team_abbreviation=\"T\",season=season,season_type_all_star=\"Regular Season\",)\n",
    "df2 = stats.get_data_frames()[0]"
   ]
  },
  {
   "cell_type": "code",
   "execution_count": null,
   "metadata": {},
   "outputs": [],
   "source": [
    "df1[\"GAME_DATE\"] = pd.to_datetime(df1[\"GAME_DATE\"])\n",
    "df2[\"GAME_DATE\"] = pd.to_datetime(df2[\"GAME_DATE\"])\n",
    "df1[\"Win\"] = np.where(df1[\"WL\"] == \"W\", 1,0)\n",
    "df2[\"Win\"] = np.where(df2[\"WL\"] == \"W\", 1,0)"
   ]
  },
  {
   "cell_type": "code",
   "execution_count": null,
   "metadata": {},
   "outputs": [],
   "source": [
    "ty = datetime.today()\n",
    "ly = ty - dt.timedelta(days=366)\n",
    "df3 = df1.query(f\"GAME_DATE <'{ly}'\").reset_index(drop=True)"
   ]
  },
  {
   "cell_type": "code",
   "execution_count": null,
   "metadata": {},
   "outputs": [],
   "source": [
    "df4 = df3.groupby([\"TEAM_ID\",\"TEAM_NAME\"])[[\"Win\"]].sum()\n",
    "df4 = df4.reset_index()\n",
    "df5 = df2.groupby([\"TEAM_ID\",\"TEAM_NAME\"])[[\"Win\"]].sum()\n",
    "df5 = df5.reset_index()"
   ]
  },
  {
   "cell_type": "code",
   "execution_count": null,
   "metadata": {},
   "outputs": [],
   "source": [
    "df6 = pd.merge(df4,df5,on=[\"TEAM_ID\",\"TEAM_NAME\"],suffixes=[\"s\",\"\"])\n",
    "df6[\"image\"] = img_DIR_T + df6[\"TEAM_NAME\"] + \".png\"\n",
    "df6 = df6.sort_values(\"Win\").reset_index(drop=True)\n",
    "teams = df6[\"TEAM_NAME\"].to_list()\n",
    "df6[\"Team\"] = pd.Categorical(df6[\"TEAM_NAME\"],categories=teams,ordered=True)"
   ]
  },
  {
   "cell_type": "code",
   "execution_count": null,
   "metadata": {},
   "outputs": [],
   "source": [
    "from plotnine import arrow"
   ]
  },
  {
   "cell_type": "code",
   "execution_count": null,
   "metadata": {},
   "outputs": [],
   "source": [
    "arrowstyle=\"wedge,shrink_factor=0.4,tail_width=0.6\""
   ]
  },
  {
   "cell_type": "markdown",
   "metadata": {},
   "source": [
    " plt.annotate(xy=(starting_x, starting_y), xytext=(ending_x, ending_y), text=\"\", size=6, alpha=0.9, zorder=2,\n",
    "                 arrowprops=dict(arrowstyle=\"wedge,shrink_factor=0.4,tail_width=0.6\", ec=team_style['outer_color'],\n",
    "                                 fc=team_style['inner_color']))"
   ]
  },
  {
   "cell_type": "code",
   "execution_count": null,
   "metadata": {},
   "outputs": [],
   "source": [
    "data = df6.copy()\n",
    "p = (\n",
    "    ggplot(data)\n",
    "    + aes(x=\"Wins\",xend=\"Win\",y=\"Team\",yend=\"Team\",image = \"image\")\n",
    "    + geom_segment(size=1.2,arrow=arrow(ends=\"last\",type=\"closed\",length=0.05))\n",
    "    # + geom_segment(size=1.2)\n",
    "    # + geom_point()\n",
    "    + geom_image(aes(x=\"Wins\"),size=0.08)\n",
    "    + theme_idv\n",
    "    + theme(\n",
    "        figure_size=(8,10),\n",
    "        axis_title_y=element_blank(),\n",
    "        axis_title_x=element_text(size=14)\n",
    "    )\n",
    "    + labs(\n",
    "        title=\"Comparison of Wins: Last Season vs This Season\",\n",
    "        subtitle=\"As of \" + ty.strftime(\"%b %d, %Y\") + \" , The team logos represent last season's wins on this day\\nSorted by win total this season\",\n",
    "        caption=\"bsky: @sradjoker.cc | x:@SravanNBA | source: nba.com/stats\"\n",
    "    )\n",
    ")\n",
    "p"
   ]
  },
  {
   "cell_type": "code",
   "execution_count": null,
   "metadata": {},
   "outputs": [],
   "source": [
    "df6 = pd.merge(df4,df5,on=[\"TEAM_ID\",\"TEAM_NAME\"],suffixes=[\"s\",\"\"])\n",
    "df6[\"Diff\"] = df6[\"Win\"] - df6[\"Wins\"]\n",
    "df6[\"image\"] = img_DIR_T + df6[\"TEAM_NAME\"] + \".png\"\n",
    "df6 = df6.sort_values(\"Diff\").reset_index(drop=True)\n",
    "teams = df6[\"TEAM_NAME\"].to_list()\n",
    "df6[\"Team\"] = pd.Categorical(df6[\"TEAM_NAME\"],categories=teams,ordered=True)"
   ]
  },
  {
   "cell_type": "code",
   "execution_count": null,
   "metadata": {},
   "outputs": [],
   "source": [
    "data = df6.copy()\n",
    "p = (\n",
    "    ggplot(data)\n",
    "    + aes(x=\"Wins\",xend=\"Win\",y=\"Team\",yend=\"Team\",image = \"image\")\n",
    "    + geom_segment(size=1.2,arrow=arrow(ends=\"last\",type=\"closed\",length=0.05))\n",
    "    # + geom_segment(size=1.2)\n",
    "    # + geom_point()\n",
    "    + geom_image(aes(x=\"Wins\"),size=0.08)\n",
    "    + theme_idv\n",
    "    + theme(\n",
    "        figure_size=(8,10),\n",
    "        axis_title_y=element_blank(),\n",
    "        axis_title_x=element_text(size=14)\n",
    "    )\n",
    "    + labs(\n",
    "        title=\"Comparison of Wins: Last Season vs This Season\",\n",
    "        subtitle=\"As of \" + ty.strftime(\"%b %d, %Y\") + \" , The team logos represent last season's wins on this day\\nSorted by largest improvments\",\n",
    "        caption=\"bsky: @sradjoker.cc | x:@SravanNBA | source: nba.com/stats\"\n",
    "    )\n",
    ")\n",
    "p"
   ]
  }
 ],
 "metadata": {
  "kernelspec": {
   "display_name": "dav-ub9Z_EQq-py3.12",
   "language": "python",
   "name": "python3"
  },
  "language_info": {
   "codemirror_mode": {
    "name": "ipython",
    "version": 3
   },
   "file_extension": ".py",
   "mimetype": "text/x-python",
   "name": "python",
   "nbconvert_exporter": "python",
   "pygments_lexer": "ipython3",
   "version": "3.12.0"
  }
 },
 "nbformat": 4,
 "nbformat_minor": 2
}
