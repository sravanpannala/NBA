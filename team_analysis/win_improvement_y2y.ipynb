{
 "cells": [
  {
   "cell_type": "code",
   "execution_count": null,
   "metadata": {},
   "outputs": [],
   "source": [
    "import os, sys\n",
    "\n",
    "sys.path.append(os.path.dirname(os.path.dirname(os.path.abspath(\"__file__\"))))\n",
    "from nbafuns import *\n",
    "from nba_api.stats.endpoints import leaguedashteamstats\n",
    "\n",
    "img_DIR_T = \"../data/images/teams/\"\n",
    "fig_DIR = \"../figs/teams/\"\n",
    "box_DIR = \"../data/box/\""
   ]
  },
  {
   "cell_type": "code",
   "execution_count": null,
   "metadata": {},
   "outputs": [],
   "source": [
    "season = 2023\n",
    "stats = leaguegamelog.LeagueGameLog(player_or_team_abbreviation=\"T\",season=season,season_type_all_star=\"Regular Season\",)\n",
    "df1 = stats.get_data_frames()[0]\n",
    "season = 2024\n",
    "stats = leaguegamelog.LeagueGameLog(player_or_team_abbreviation=\"T\",season=season,season_type_all_star=\"Regular Season\",)\n",
    "df2 = stats.get_data_frames()[0]"
   ]
  },
  {
   "cell_type": "code",
   "execution_count": null,
   "metadata": {},
   "outputs": [],
   "source": [
    "df1[\"GAME_DATE\"] = pd.to_datetime(df1[\"GAME_DATE\"])\n",
    "df2[\"GAME_DATE\"] = pd.to_datetime(df2[\"GAME_DATE\"])\n",
    "df1[\"Win\"] = np.where(df1[\"WL\"] == \"W\", 1,0)\n",
    "df2[\"Win\"] = np.where(df2[\"WL\"] == \"W\", 1,0)"
   ]
  },
  {
   "cell_type": "code",
   "execution_count": null,
   "metadata": {},
   "outputs": [],
   "source": [
    "ty = datetime.today()\n",
    "ly = ty - dt.timedelta(days=366)\n",
    "df3 = df1.query(f\"GAME_DATE <'{ly}'\").reset_index(drop=True)"
   ]
  },
  {
   "cell_type": "code",
   "execution_count": null,
   "metadata": {},
   "outputs": [],
   "source": [
    "df4 = df3.groupby([\"TEAM_ID\",\"TEAM_NAME\"])[[\"Win\"]].sum()\n",
    "df4 = df4.reset_index()\n",
    "df5 = df2.groupby([\"TEAM_ID\",\"TEAM_NAME\"])[[\"Win\"]].sum()\n",
    "df5 = df5.reset_index()"
   ]
  },
  {
   "cell_type": "code",
   "execution_count": null,
   "metadata": {},
   "outputs": [],
   "source": [
    "df6 = pd.merge(df4,df5,on=[\"TEAM_ID\",\"TEAM_NAME\"],suffixes=[\"s\",\"\"])\n",
    "df6[\"image\"] = img_DIR_T + df6[\"TEAM_NAME\"] + \".png\"\n",
    "df6 = df6.sort_values(\"Win\").reset_index(drop=True)\n",
    "teams = df6[\"TEAM_NAME\"].to_list()\n",
    "df6[\"Team\"] = pd.Categorical(df6[\"TEAM_NAME\"],categories=teams,ordered=True)"
   ]
  },
  {
   "cell_type": "code",
   "execution_count": null,
   "metadata": {},
   "outputs": [],
   "source": [
    "arrowstyle=\"wedge,shrink_factor=0.4,tail_width=0.6\""
   ]
  },
  {
   "cell_type": "markdown",
   "metadata": {},
   "source": [
    " plt.annotate(xy=(starting_x, starting_y), xytext=(ending_x, ending_y), text=\"\", size=6, alpha=0.9, zorder=2,\n",
    "                 arrowprops=dict(arrowstyle=\"wedge,shrink_factor=0.4,tail_width=0.6\", ec=team_style['outer_color'],\n",
    "                                 fc=team_style['inner_color']))"
   ]
  },
  {
   "cell_type": "code",
   "execution_count": null,
   "metadata": {},
   "outputs": [],
   "source": [
    "data = df6.copy()\n",
    "p = (\n",
    "    ggplot(data)\n",
    "    + aes(x=\"Wins\",xend=\"Win\",y=\"Team\",yend=\"Team\",image = \"image\")\n",
    "    + geom_segment(size=1.2,arrow=arrow(ends=\"last\",type=\"closed\",length=0.05))\n",
    "    # + geom_segment(size=1.2)\n",
    "    # + geom_point()\n",
    "    + geom_image(aes(x=\"Wins\"),size=0.08)\n",
    "    + theme_idv\n",
    "    + theme_xkcd(base_size=14)\n",
    "    + theme(\n",
    "        figure_size=(8,10),\n",
    "        axis_title_y=element_blank(),\n",
    "        axis_title_x=element_text(size=14),\n",
    "        plot_subtitle=element_text(size=12),\n",
    "        plot_title=element_text(size=18,weight=\"bold\"),\n",
    "        text=element_text(family=[\"Comic Sans MS\"]),\n",
    "        plot_caption=element_text(ha=\"left\"),\n",
    "        panel_grid_major_x=element_line(color=\"grey\",linetype=\"dashed\",size=0.2),\n",
    "        panel_grid_minor_x=element_line(color=\"grey\",linetype=\"dashed\",size=0.2)\n",
    "    )\n",
    "    + labs(\n",
    "        title=\"Comparison of Wins: Last Season vs This Season\",\n",
    "        subtitle=\"As of \" + ty.strftime(\"%b %d, %Y\") + \" , The team logos represent last season's wins on this day\\nSorted by win total this season\",\n",
    "        caption=\"socials:@sradjoker | source: nba.com/stats\"\n",
    "    )\n",
    ")\n",
    "p.save(fig_DIR + \"win_improvement_y2y.png\",verbose=False,dpi=200)\n",
    "p"
   ]
  },
  {
   "cell_type": "code",
   "execution_count": null,
   "metadata": {},
   "outputs": [],
   "source": [
    "p.theme.getp(\"dpi\")"
   ]
  },
  {
   "cell_type": "code",
   "execution_count": null,
   "metadata": {},
   "outputs": [],
   "source": [
    "df7 = pd.merge(df4,df5,on=[\"TEAM_ID\",\"TEAM_NAME\"],suffixes=[\"s\",\"\"])\n",
    "df7[\"Diff\"] = df7[\"Win\"] - df7[\"Wins\"]\n",
    "df7[\"image\"] = img_DIR_T + df7[\"TEAM_NAME\"] + \".png\"\n",
    "df7 = df7.sort_values(\"Diff\").reset_index(drop=True)\n",
    "teams = df7[\"TEAM_NAME\"].to_list()\n",
    "df7[\"Team\"] = pd.Categorical(df7[\"TEAM_NAME\"],categories=teams,ordered=True)"
   ]
  },
  {
   "cell_type": "code",
   "execution_count": null,
   "metadata": {},
   "outputs": [],
   "source": [
    "data = df7.copy()\n",
    "p = (\n",
    "    ggplot(data)\n",
    "    + aes(x=\"Wins\",xend=\"Win\",y=\"Team\",yend=\"Team\",image = \"image\")\n",
    "    + geom_segment(size=1.2,arrow=arrow(ends=\"last\",type=\"closed\",length=0.05))\n",
    "    # + geom_segment(size=1.2)\n",
    "    # + geom_point()\n",
    "    + geom_image(aes(x=\"Wins\"),size=0.08)\n",
    "    + theme_xkcd(base_size=14)\n",
    "    + theme(\n",
    "        figure_size=(8,10),\n",
    "        axis_title_y=element_blank(),\n",
    "        axis_title_x=element_text(size=14),\n",
    "        plot_subtitle=element_text(size=12),\n",
    "        plot_title=element_text(size=18,weight=\"bold\"),\n",
    "        text=element_text(family=[\"Comic Sans MS\"]),\n",
    "        plot_caption=element_text(ha=\"left\"),\n",
    "        panel_grid_major_x=element_line(color=\"grey\",linetype=\"dashed\",size=0.2),\n",
    "        panel_grid_minor_x=element_line(color=\"grey\",linetype=\"dashed\",size=0.2)\n",
    "    )\n",
    "    + labs(\n",
    "        title=\"Comparison of Wins: Last Season vs This Season\",\n",
    "        subtitle=\"As of \" + ty.strftime(\"%b %d, %Y\") + \" , The team logos represent last season's wins on this day\\nSorted by largest improvments\",\n",
    "        caption=\"bsky: @sradjoker.cc | x:@sradjoker | source: nba.com/stats\"\n",
    "    )\n",
    ")\n",
    "p"
   ]
  },
  {
   "cell_type": "code",
   "execution_count": null,
   "metadata": {},
   "outputs": [],
   "source": []
  }
 ],
 "metadata": {
  "kernelspec": {
   "display_name": "Python 3 (ipykernel)",
   "language": "python",
   "name": "python3"
  },
  "language_info": {
   "codemirror_mode": {
    "name": "ipython",
    "version": 3
   },
   "file_extension": ".py",
   "mimetype": "text/x-python",
   "name": "python",
   "nbconvert_exporter": "python",
   "pygments_lexer": "ipython3",
   "version": "3.12.9"
  }
 },
 "nbformat": 4,
 "nbformat_minor": 4
}
