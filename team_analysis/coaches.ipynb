{
 "cells": [
  {
   "cell_type": "code",
   "execution_count": null,
   "metadata": {},
   "outputs": [],
   "source": [
    "import os, sys\n",
    "\n",
    "sys.path.append(os.path.dirname(os.path.dirname(os.path.abspath(\"__file__\"))))\n",
    "from nbafuns import *\n",
    "\n",
    "img_DIR_T = \"../data/images/teams/\"\n",
    "fig_DIR = \"../figs/teams/\""
   ]
  },
  {
   "cell_type": "code",
   "execution_count": null,
   "metadata": {},
   "outputs": [],
   "source": [
    "dft = pd.read_csv(\"../data/NBA_teams_colors_logos.csv\")\n",
    "dft = dft.sort_values(\"nameTeam\")\n",
    "teams1 = dft[\"teamTricode\"].to_list()"
   ]
  },
  {
   "cell_type": "code",
   "execution_count": null,
   "metadata": {},
   "outputs": [],
   "source": [
    "teams2 = ['ATL','BOS','NJN','CHA','CHI','CLE','DAL','DEN','DET','GSW','HOU','IND','LAC','LAL','MEM','MIA','MIL','MIN','NOH','NYK','OKC','ORL','PHI','PHO','POR','SAC','SAS','TOR','UTA','WAS']"
   ]
  },
  {
   "cell_type": "code",
   "execution_count": null,
   "metadata": {},
   "outputs": [],
   "source": [
    "dfa = []\n",
    "for t in teams2:\n",
    "    url = f\"https://www.basketball-reference.com/teams/{t}/coaches.html\"\n",
    "    df1 = pd.read_html(url)\n",
    "    df1 = df1[0]\n",
    "    dfa.append(df1)\n",
    "    time.sleep(3)"
   ]
  },
  {
   "cell_type": "code",
   "execution_count": null,
   "metadata": {},
   "outputs": [],
   "source": [
    "dfb = []\n",
    "for t,d in zip(teams1,dfa):\n",
    "   df1 = d.copy()\n",
    "   df1.columns = ['Rk', 'Coach', 'From', 'To', 'Yrs', 'G_RS', 'W_RS', 'L_RS', 'WL_P_RS', 'W_500_RS',\n",
    "      'Plyfs', 'G_PS', 'W_PS', 'L_PS', 'WL_P_PS', 'Conf', 'Champ']\n",
    "   df1 = df1.drop(df1[df1[\"From\"].isna()].index,axis=0)\n",
    "   df1 = df1.query(\"From != 'From'\")\n",
    "   df1[\"From\"] = df1[\"From\"].astype(float)\n",
    "   df1[\"To\"] = df1[\"To\"].astype(float)\n",
    "   df1[\"Team\"] = t\n",
    "   df1 = df1.sort_values([\"From\",\"To\"])\n",
    "   dfb.append(df1)\n",
    "df2 = pd.concat(dfb)\n",
    "df2 = df2.iloc[:-1,]"
   ]
  },
  {
   "cell_type": "code",
   "execution_count": null,
   "metadata": {},
   "outputs": [],
   "source": [
    "\n",
    "df2[\"From\"] = df2[\"From\"].astype(int)\n",
    "df2[\"To\"] = df2[\"To\"].astype(int)\n",
    "df2[\"Yrs\"] = df2[\"Yrs\"].astype(int)"
   ]
  },
  {
   "cell_type": "code",
   "execution_count": null,
   "metadata": {},
   "outputs": [],
   "source": [
    "df3 = df2.query(\"To > 2013\")"
   ]
  },
  {
   "cell_type": "code",
   "execution_count": null,
   "metadata": {},
   "outputs": [],
   "source": [
    "teams1"
   ]
  },
  {
   "cell_type": "code",
   "execution_count": null,
   "metadata": {},
   "outputs": [],
   "source": [
    "t = teams1[5]\n",
    "df3.query(f\"Team == '{t}'\")"
   ]
  },
  {
   "cell_type": "code",
   "execution_count": null,
   "metadata": {},
   "outputs": [],
   "source": [
    "df4 = df3.groupby(\"Team\")[[\"Yrs\"]].agg({\"Yrs\":[\"mean\",\"count\"]}).reset_index()\n",
    "df4.columns = [\"Team\",\"Years\",\"Coaches\"]\n",
    "df4[\"Years\"] = df4[\"Years\"].round(2)\n",
    "df4 = df4.sort_values(\"Coaches\").reset_index(drop=True).reset_index()\n",
    "df4[\"index\"] +=1\n",
    "df5 = pd.merge(dft[[\"teamTricode\",\"nameTeam\"]],df4,left_on=\"teamTricode\",right_on=\"Team\")\n",
    "df5 = df5.sort_values(\"index\")\n",
    "df5 = df5[['index','nameTeam','Team','Years', 'Coaches']]\n"
   ]
  },
  {
   "cell_type": "code",
   "execution_count": null,
   "metadata": {},
   "outputs": [],
   "source": [
    "# df6 = df5.head(10)"
   ]
  },
  {
   "cell_type": "code",
   "execution_count": null,
   "metadata": {},
   "outputs": [],
   "source": [
    "# t = (\n",
    "#     GT(df6)\n",
    "#     .tab_header(\n",
    "#         title=md(\"Coaching Stability\"),\n",
    "#         subtitle=\"Since 2000\"\n",
    "#     )\n",
    "#     .tab_source_note(source_note=\"@sradjoker | source: basketballreference\")\n",
    "#     .cols_label(\n",
    "#         nameTeam = \"\",\n",
    "#         Years = \"Avg Coach Yrs\",\n",
    "#     )\n",
    "#     .fmt_image(\n",
    "#         columns=\"nameTeam\",\n",
    "#         path = img_DIR_T,\n",
    "#         file_pattern=\"{}.png\"\n",
    "#     )\n",
    "#     .cols_align(align=\"center\")\n",
    "#     .cols_align(align=\"left\", columns=\"Team\")\n",
    "#     .tab_options(\n",
    "#         heading_title_font_size=\"150%\",\n",
    "#         heading_subtitle_font_size=\"110%\",\n",
    "#         # heading_title_font_weight='bold',\n",
    "#         table_background_color=\"floralwhite\",\n",
    "#         column_labels_font_size=\"105%\",\n",
    "#         column_labels_font_weight='bold',\n",
    "#         row_group_font_weight='bold',\n",
    "#         row_group_background_color=\"#E5E1D8\",\n",
    "#         table_font_size=10,\n",
    "#         table_font_names=\"Consolas\", \n",
    "#         data_row_padding = \"3px\",\n",
    "#         table_margin_left = 1,\n",
    "#         table_margin_right = 1,\n",
    "#     )\n",
    "# )\n",
    "# t.save(fig_DIR + \"coaching_stability.png\",scale=3,expand=2,web_driver=\"edge\")\n",
    "# t"
   ]
  },
  {
   "cell_type": "code",
   "execution_count": null,
   "metadata": {},
   "outputs": [],
   "source": [
    "df5"
   ]
  }
 ],
 "metadata": {
  "kernelspec": {
   "display_name": "nba-ub9Z_EQq-py3.11",
   "language": "python",
   "name": "python3"
  },
  "language_info": {
   "codemirror_mode": {
    "name": "ipython",
    "version": 3
   },
   "file_extension": ".py",
   "mimetype": "text/x-python",
   "name": "python",
   "nbconvert_exporter": "python",
   "pygments_lexer": "ipython3",
   "version": "3.11.6"
  }
 },
 "nbformat": 4,
 "nbformat_minor": 2
}
