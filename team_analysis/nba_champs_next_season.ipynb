{
 "cells": [
  {
   "cell_type": "code",
   "execution_count": null,
   "metadata": {},
   "outputs": [],
   "source": [
    "import os, sys\n",
    "\n",
    "sys.path.append(os.path.dirname(os.path.dirname(os.path.abspath(\"__file__\"))))\n",
    "from nbafuns import *\n",
    "from nba_api.stats.endpoints import leaguedashteamstats\n",
    "\n",
    "\n",
    "fig_DIR = \"../figs/team_ratings/\"\n",
    "box_DIR = \"../data/box/\""
   ]
  },
  {
   "cell_type": "code",
   "execution_count": null,
   "metadata": {},
   "outputs": [],
   "source": [
    "cols1 = ['TEAM_NAME', 'GP', 'W', 'L', 'W_PCT',\n",
    "       'OFF_RATING', 'DEF_RATING', 'NET_RATING', 'EFG_PCT', 'TS_PCT', 'E_PACE', 'PACE', 'POSS',\n",
    "       \"W_RANK\", \"L_RANK\",\n",
    "       'W_PCT_RANK', 'OFF_RATING_RANK', 'DEF_RATING_RANK',\n",
    "       'NET_RATING_RANK',]"
   ]
  },
  {
   "cell_type": "code",
   "execution_count": null,
   "metadata": {},
   "outputs": [],
   "source": [
    "dfa = []\n",
    "for year in range(2014,2024):\n",
    "    stats = leaguedashteamstats.LeagueDashTeamStats(\n",
    "        measure_type_detailed_defense=\"Advanced\",\n",
    "        season = get_ss(year)\n",
    "    )\n",
    "    df1 = stats.get_data_frames()[0]\n",
    "    df1 = df1.sort_values(\"W_PCT\",ascending=False).reset_index(drop=True)\n",
    "    time.sleep(0.6)\n",
    "    stats = leaguedashteamstats.LeagueDashTeamStats(\n",
    "        measure_type_detailed_defense=\"Advanced\",\n",
    "        season_type_all_star=\"Playoffs\",\n",
    "        season=get_ss(year)\n",
    "    )\n",
    "    df2 = stats.get_data_frames()[0]\n",
    "    df2 = df2.sort_values(\"W\",ascending=False).reset_index(drop=True)\n",
    "    df1 = df1[cols1]\n",
    "    df2 = df2[cols1]\n",
    "    df3 = pd.merge(df2,df1,on=[\"TEAM_NAME\"],how=\"left\")\n",
    "    df3[\"season\"] = year + 1\n",
    "    \n",
    "    time.sleep(0.6)\n",
    "    stats = leaguegamelog.LeagueGameLog(\n",
    "        player_or_team_abbreviation=\"T\",\n",
    "        season=get_ss(year),\n",
    "        season_type_all_star=\"Playoffs\",\n",
    "    )\n",
    "    df4 = stats.get_data_frames()[0]\n",
    "    df4[\"Round\"] = df4[\"GAME_ID\"].str[-3]\n",
    "    df4[\"Win\"] = df4[\"WL\"] == \"W\"\n",
    "    df4[\"Loss\"] = df4[\"WL\"] == \"L\"\n",
    "    df5 = df4.groupby([\"TEAM_NAME\",\"Round\"])[[\"Win\",\"Loss\"]].sum().reset_index()\n",
    "    df6 = df5.groupby([\"TEAM_NAME\"])[[\"Round\"]].count().reset_index()\n",
    "    df7 = pd.merge(df3,df6,on=\"TEAM_NAME\",how=\"left\")\n",
    "    dfa.append(df7)\n",
    "    time.sleep(0.6)\n",
    "df8 = pd.concat(dfa)\n",
    "df8 = df8.rename(columns={\"Round\":\"Round_x\"})"
   ]
  },
  {
   "cell_type": "code",
   "execution_count": null,
   "metadata": {},
   "outputs": [],
   "source": [
    "df8"
   ]
  },
  {
   "cell_type": "code",
   "execution_count": null,
   "metadata": {},
   "outputs": [],
   "source": [
    "qus = [\"Round_x > 0\",\"Round_x > 1\",\"Round_x > 2\",\"Round_x > 3\",\"Round_x > 1 & W_RANK_x == 1\"]\n",
    "scenario = [\"Playoffs\",\"2nd Round\",\"Conf Finals\",\"Finals\",\"Championship\"]"
   ]
  },
  {
   "cell_type": "code",
   "execution_count": null,
   "metadata": {},
   "outputs": [],
   "source": [
    "dfb = []\n",
    "for q,s in zip(qus,scenario):\n",
    "    df9 = df8.query(q)\n",
    "    df9[\"Scenario\"] = s\n",
    "    dfb.append(df9)\n",
    "df10 = pd.concat(dfb)"
   ]
  },
  {
   "cell_type": "code",
   "execution_count": null,
   "metadata": {},
   "outputs": [],
   "source": [
    "df11 = df10[[\"TEAM_NAME\",\"season\",\"Scenario\"]]"
   ]
  }
 ],
 "metadata": {
  "kernelspec": {
   "display_name": "dav-ub9Z_EQq-py3.12",
   "language": "python",
   "name": "python3"
  },
  "language_info": {
   "codemirror_mode": {
    "name": "ipython",
    "version": 3
   },
   "file_extension": ".py",
   "mimetype": "text/x-python",
   "name": "python",
   "nbconvert_exporter": "python",
   "pygments_lexer": "ipython3",
   "version": "3.12.0"
  }
 },
 "nbformat": 4,
 "nbformat_minor": 2
}
