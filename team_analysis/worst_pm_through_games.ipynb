{
 "cells": [
  {
   "cell_type": "code",
   "execution_count": null,
   "metadata": {},
   "outputs": [],
   "source": [
    "import os, sys\n",
    "\n",
    "sys.path.append(os.path.dirname(os.path.dirname(os.path.abspath(\"__file__\"))))\n",
    "from nbafuns import *\n",
    "\n",
    "\n",
    "fig_DIR = \"../figs/team_ratings/\"\n",
    "box_DIR = \"../data/boxscores_team/\""
   ]
  },
  {
   "cell_type": "code",
   "execution_count": null,
   "metadata": {},
   "outputs": [],
   "source": [
    "dfb = []\n",
    "for season in range(2004,2024):\n",
    "    df = pd.read_csv(box_DIR + f\"NBA_BoxScores_Standard_{season}.csv\")\n",
    "    df['Team_Split'] = df['MATCHUP'].str.replace(\"@\",\"\")\n",
    "    df['Team_Split'] = df['Team_Split'].str.replace(\"vs.\",\"\")\n",
    "    df[['Team1','Team2']] = df['Team_Split'].str.split(\"  \",expand=True)\n",
    "    df1 = df.groupby(\"TEAM_NAME\")[[\"TEAM_NAME\",\"GAME_DATE\",\"PLUS_MINUS\"]]\n",
    "    keys = list(df1.groups)\n",
    "    dfa = []\n",
    "    for key in keys:\n",
    "        df1t = df1.get_group(key)\n",
    "        df1t[\"PM\"] = df1t[\"PLUS_MINUS\"].cumsum()\n",
    "        df1t = df1t.reset_index(drop=True).reset_index()\n",
    "        df1t[\"index\"] +=1\n",
    "        df1t = df1t.rename(columns={\"index\":\"Games\",\"TEAM_NAME\":\"Team\"}).drop(columns = [\"PLUS_MINUS\"])\n",
    "        dfa.append(df1t)\n",
    "    df2 = pd.concat(dfa)\n",
    "    df2[\"Season\"] = season + 1\n",
    "    dfb.append(df2)\n",
    "df3 = pd.concat(dfb)\n",
    "df3 = df3[[\"Season\",\"Team\",\"Games\",\"PM\"]]"
   ]
  },
  {
   "cell_type": "code",
   "execution_count": null,
   "metadata": {},
   "outputs": [],
   "source": [
    "n = 29\n",
    "df4 = df3.query(f\"Games < {n}\").reset_index(drop=True)"
   ]
  },
  {
   "cell_type": "code",
   "execution_count": null,
   "metadata": {},
   "outputs": [],
   "source": [
    "dff = df4.query(f\"Games == {n-1}\").sort_values(\"PM\",ascending=False).head(10)"
   ]
  },
  {
   "cell_type": "code",
   "execution_count": null,
   "metadata": {},
   "outputs": [],
   "source": [
    "df5 = pd.merge(df4,dff,how=\"inner\",on=[\"Season\",\"Team\"],suffixes=[\"\",\"_x\"]).drop(columns=[\"Games_x\",\"PM_x\"])"
   ]
  },
  {
   "cell_type": "code",
   "execution_count": null,
   "metadata": {},
   "outputs": [],
   "source": [
    "df5[\"ST\"] = df5[\"Season\"].astype(str) + \" \" + df5[\"Team\"]"
   ]
  },
  {
   "cell_type": "code",
   "execution_count": null,
   "metadata": {},
   "outputs": [],
   "source": [
    "import matplotlib as mpl"
   ]
  },
  {
   "cell_type": "code",
   "execution_count": null,
   "metadata": {},
   "outputs": [],
   "source": [
    "df_teams = pd.read_csv(\"../data/NBA_teams_colors_logos.csv\")"
   ]
  },
  {
   "cell_type": "code",
   "execution_count": null,
   "metadata": {},
   "outputs": [],
   "source": [
    "df_teams[\"Team\"] =df_teams[\"nameTeam\"]"
   ]
  },
  {
   "cell_type": "code",
   "execution_count": null,
   "metadata": {},
   "outputs": [],
   "source": [
    "df6 = pd.merge(df5,df_teams,on=\"Team\")"
   ]
  },
  {
   "cell_type": "code",
   "execution_count": null,
   "metadata": {},
   "outputs": [],
   "source": [
    "cmap=mpl.colormaps[\"tab10\"].resampled(10)"
   ]
  },
  {
   "cell_type": "code",
   "execution_count": null,
   "metadata": {},
   "outputs": [],
   "source": [
    "colors =[]\n",
    "for i in np.linspace(0,1,10):\n",
    "    print(cmap(i))\n",
    "    colors.append(cmap(i))"
   ]
  },
  {
   "cell_type": "code",
   "execution_count": null,
   "metadata": {},
   "outputs": [],
   "source": [
    "p = (\n",
    "    ggplot(df6,aes(x=\"Games\",y=\"PM\",color=\"ST\"))\n",
    "    + geom_line(size=1)\n",
    "    # + scale_color_gradientn(colors=colors)\n",
    "    # + theme(legend_title=element_blank())\n",
    "    + theme_idv\n",
    "    + theme(figure_size=(8,5))\n",
    "    + labs(\n",
    "        title = \"Teams with Best +/- Through 28 Games\",\n",
    "        subtitle = \"Over the Past 20 Seasons\",\n",
    "        caption = \"@sradjoker | Source = nba.com/stats\",\n",
    "    )\n",
    "    + theme(\n",
    "        legend_title=element_blank()\n",
    "    )\n",
    ")\n",
    "p.draw()\n",
    "p.save(\"Best_pm.png\",dpi=300)"
   ]
  }
 ],
 "metadata": {
  "kernelspec": {
   "display_name": "nba-ub9Z_EQq-py3.11",
   "language": "python",
   "name": "python3"
  },
  "language_info": {
   "codemirror_mode": {
    "name": "ipython",
    "version": 3
   },
   "file_extension": ".py",
   "mimetype": "text/x-python",
   "name": "python",
   "nbconvert_exporter": "python",
   "pygments_lexer": "ipython3",
   "version": "3.11.6"
  }
 },
 "nbformat": 4,
 "nbformat_minor": 2
}
