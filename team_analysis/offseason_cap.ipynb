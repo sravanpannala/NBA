{
 "cells": [
  {
   "cell_type": "code",
   "execution_count": null,
   "metadata": {},
   "outputs": [],
   "source": [
    "import os, sys\n",
    "\n",
    "sys.path.append(os.path.dirname(os.path.dirname(os.path.abspath(\"__file__\"))))\n",
    "from nbafuns import *\n",
    "\n",
    "img_DIR_T = \"../data/images/teams/\"\n",
    "fig_DIR = \"../figs/teams/\""
   ]
  },
  {
   "cell_type": "code",
   "execution_count": null,
   "metadata": {},
   "outputs": [],
   "source": [
    "url = \"https://www.spotrac.com/nba/cap/_/year/2024/sort/cap_active/dir/desc\"\n",
    "df = pd.read_html(url)\n",
    "df = df[0]\n"
   ]
  },
  {
   "cell_type": "code",
   "execution_count": null,
   "metadata": {},
   "outputs": [],
   "source": [
    "df1 = df.copy()\n",
    "df1[\"Team\"]=df1[\"Team\"].str.split(\" \",expand=True).iloc[:,0]\n",
    "df1[\"Active\"] = df1[\"Active\"].str.replace(\"$\",\"\")\n",
    "df1[\"Active\"] = df1[\"Active\"].str.replace(\",\",\"\")\n",
    "df1[\"Active\"] = df1[\"Active\"].astype(float)\n",
    "df1[\"Active\"] = df1[\"Active\"]\n",
    "df2 = df1[[\"Team\",\"Active\"]]\n",
    "df2.columns = [\"Team\",\"Cap\"]"
   ]
  },
  {
   "cell_type": "code",
   "execution_count": null,
   "metadata": {},
   "outputs": [],
   "source": [
    "dft = pd.read_csv(\"../data/NBA_teams_colors_logos.csv\")\n",
    "dft = dft[[\"teamTricode\",\"nameTeam\"]]\n",
    "dft.columns = [\"Team\",\"T\"]"
   ]
  },
  {
   "cell_type": "code",
   "execution_count": null,
   "metadata": {},
   "outputs": [],
   "source": [
    "df3 = pd.merge(dft,df2,on=\"Team\")\n",
    "df3 = df3[[\"T\",\"Team\",\"Cap\"]]\n",
    "df3 = df3.sort_values(\"Cap\",ascending = False).reset_index(drop=True)"
   ]
  },
  {
   "cell_type": "code",
   "execution_count": null,
   "metadata": {},
   "outputs": [],
   "source": [
    "cap = 141_000_000\n",
    "ap1 = 178_655_000\n",
    "ap2 = 189_486_000"
   ]
  },
  {
   "cell_type": "code",
   "execution_count": null,
   "metadata": {},
   "outputs": [],
   "source": [
    "df3[\"Status\"] = \"\"\n",
    "idx = df3[\"Cap\"] < cap\n",
    "df3.loc[idx,\"Status\"] = \"Under the Cap\"\n",
    "idx = df3[\"Cap\"] >= cap\n",
    "df3.loc[idx,\"Status\"] = \"Over the Cap\"\n",
    "idx = df3[\"Cap\"] >= ap1\n",
    "df3.loc[idx,\"Status\"] = \"Above 1st Apron\"\n",
    "idx = df3[\"Cap\"] >= ap2\n",
    "df3.loc[idx,\"Status\"] = \"Above 2nd Apron\""
   ]
  },
  {
   "cell_type": "code",
   "execution_count": null,
   "metadata": {},
   "outputs": [],
   "source": [
    "df31 = df3.query(f\"Cap >= {ap1}\")\n",
    "df31[\"sp1\"] = -df31[\"Cap\"] + ap1\n",
    "df31[\"sp2\"] = -df31[\"Cap\"] + ap2"
   ]
  },
  {
   "cell_type": "code",
   "execution_count": null,
   "metadata": {},
   "outputs": [],
   "source": [
    "t = (\n",
    "    GT(df31,groupname_col=\"Status\",rowname_col=\"Team\")\n",
    "    .tab_header(\n",
    "        title=md(\"Cap Outlook: Teams Above 1st Apron\"),\n",
    "    )\n",
    "    .tab_source_note(source_note=\"@sradjoker | source: spotrac.com/nba\")\n",
    "    .cols_label(\n",
    "        T = \"\",\n",
    "        Cap = \"Salary\",\n",
    "        sp2 = \"Space till 2nd Apron\",\n",
    "        sp1 = \"Space above 1st Apron\",\n",
    "    )\n",
    "    .fmt_image(\n",
    "        columns=\"T\",\n",
    "        path = img_DIR_T,\n",
    "        file_pattern=\"{}.png\"\n",
    "    )\n",
    "    .fmt_number(\n",
    "        columns = [\"Cap\",\"sp1\",\"sp2\"],\n",
    "        decimals = 0,\n",
    "    )\n",
    "    .cols_align(align=\"center\")\n",
    "    .cols_align(align=\"left\", columns=\"Team\")\n",
    "    .tab_options(\n",
    "        heading_title_font_size=\"150%\",\n",
    "        heading_subtitle_font_size=\"110%\",\n",
    "        # heading_title_font_weight='bold',\n",
    "        table_background_color=\"floralwhite\",\n",
    "        column_labels_font_size=\"105%\",\n",
    "        column_labels_font_weight='bold',\n",
    "        row_group_font_weight='bold',\n",
    "        row_group_background_color=\"#E5E1D8\",\n",
    "        table_font_size=10,\n",
    "        table_font_names=\"Consolas\", \n",
    "        data_row_padding = \"3px\",\n",
    "        table_margin_left = 1,\n",
    "        table_margin_right = 1,\n",
    "    )\n",
    ")\n",
    "t.save(fig_DIR + \"Cap_apron_2024.png\",scale=3,expand=2,web_driver=\"edge\")\n",
    "t"
   ]
  },
  {
   "cell_type": "code",
   "execution_count": null,
   "metadata": {},
   "outputs": [],
   "source": [
    "df32 = df3.query(f\"Cap >= {cap} & Cap < {ap1}\")\n",
    "df32[\"sp1\"] = -df32[\"Cap\"] + cap\n",
    "df32[\"sp2\"] = -df32[\"Cap\"] + ap1\n",
    "df32 = df32.drop(columns=\"Status\")"
   ]
  },
  {
   "cell_type": "code",
   "execution_count": null,
   "metadata": {},
   "outputs": [],
   "source": [
    "t = (\n",
    "    GT(df32,rowname_col=\"Team\")\n",
    "    .tab_header(\n",
    "        title=md(\"Cap Outlook: Teams Above Cap\"),\n",
    "    )\n",
    "    .tab_source_note(source_note=\"@sradjoker | source: spotrac.com/nba\")\n",
    "    .cols_label(\n",
    "        T = \"\",\n",
    "        Cap = \"Salary\",\n",
    "        sp2 = \"Space below 1st Apron\",\n",
    "        sp1 = \"Space above Cap\",\n",
    "    )\n",
    "    .fmt_image(\n",
    "        columns=\"T\",\n",
    "        path = img_DIR_T,\n",
    "        file_pattern=\"{}.png\"\n",
    "    )\n",
    "    .fmt_number(\n",
    "        columns = [\"Cap\",\"sp1\",\"sp2\"],\n",
    "        decimals = 0,\n",
    "    )\n",
    "    .cols_align(align=\"center\")\n",
    "    .cols_align(align=\"left\", columns=\"Team\")\n",
    "    .tab_options(\n",
    "        heading_title_font_size=\"150%\",\n",
    "        heading_subtitle_font_size=\"110%\",\n",
    "        # heading_title_font_weight='bold',\n",
    "        table_background_color=\"floralwhite\",\n",
    "        column_labels_font_size=\"105%\",\n",
    "        column_labels_font_weight='bold',\n",
    "        row_group_font_weight='bold',\n",
    "        row_group_background_color=\"#E5E1D8\",\n",
    "        table_font_size=10,\n",
    "        table_font_names=\"Consolas\", \n",
    "        data_row_padding = \"3px\",\n",
    "        table_margin_left = 1,\n",
    "        table_margin_right = 1,\n",
    "    )\n",
    ")\n",
    "t.save(fig_DIR + \"Cap_above_2024.png\",scale=3,expand=2,web_driver=\"edge\")\n",
    "t"
   ]
  },
  {
   "cell_type": "code",
   "execution_count": null,
   "metadata": {},
   "outputs": [],
   "source": [
    "df33 = df3.query(f\"Cap < {cap}\")\n",
    "df33[\"sp1\"] = -df33[\"Cap\"] + cap\n",
    "df33 = df33.drop(columns=\"Status\")"
   ]
  },
  {
   "cell_type": "code",
   "execution_count": null,
   "metadata": {},
   "outputs": [],
   "source": [
    "t = (\n",
    "    GT(df33,rowname_col=\"Team\")\n",
    "    .tab_header(\n",
    "        title=md(\"Cap Outlook: Teams Below Cap\"),\n",
    "    )\n",
    "    .tab_source_note(source_note=\"@sradjoker | source: spotrac.com/nba\")\n",
    "    .cols_label(\n",
    "        T = \"\",\n",
    "        Cap = \"Salary\",\n",
    "        sp1 = \"Space below Cap\",\n",
    "    )\n",
    "    .fmt_image(\n",
    "        columns=\"T\",\n",
    "        path = img_DIR_T,\n",
    "        file_pattern=\"{}.png\"\n",
    "    )\n",
    "    .fmt_number(\n",
    "        columns = [\"Cap\",\"sp1\"],\n",
    "        decimals = 0,\n",
    "    )\n",
    "    .cols_align(align=\"center\")\n",
    "    .cols_align(align=\"left\", columns=\"Team\")\n",
    "    .tab_options(\n",
    "        heading_title_font_size=\"150%\",\n",
    "        heading_subtitle_font_size=\"110%\",\n",
    "        # heading_title_font_weight='bold',\n",
    "        table_background_color=\"floralwhite\",\n",
    "        column_labels_font_size=\"105%\",\n",
    "        column_labels_font_weight='bold',\n",
    "        row_group_font_weight='bold',\n",
    "        row_group_background_color=\"#E5E1D8\",\n",
    "        table_font_size=10,\n",
    "        table_font_names=\"Consolas\", \n",
    "        data_row_padding = \"3px\",\n",
    "        table_margin_left = 1,\n",
    "        table_margin_right = 1,\n",
    "    )\n",
    ")\n",
    "t.save(fig_DIR + \"Cap_below_2024.png\",scale=3,expand=2,web_driver=\"edge\")\n",
    "t"
   ]
  }
 ],
 "metadata": {
  "kernelspec": {
   "display_name": "nba-ub9Z_EQq-py3.11",
   "language": "python",
   "name": "python3"
  },
  "language_info": {
   "codemirror_mode": {
    "name": "ipython",
    "version": 3
   },
   "file_extension": ".py",
   "mimetype": "text/x-python",
   "name": "python",
   "nbconvert_exporter": "python",
   "pygments_lexer": "ipython3",
   "version": "3.11.6"
  }
 },
 "nbformat": 4,
 "nbformat_minor": 2
}
