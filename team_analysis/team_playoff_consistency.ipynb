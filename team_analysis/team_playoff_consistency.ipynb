{
 "cells": [
  {
   "cell_type": "code",
   "execution_count": null,
   "metadata": {},
   "outputs": [],
   "source": [
    "import os, sys\n",
    "\n",
    "sys.path.append(os.path.dirname(os.path.dirname(os.path.abspath(\"__file__\"))))\n",
    "from nbafuns import *\n",
    "from nba_api.stats.endpoints import leaguedashteamstats\n",
    "\n",
    "img_DIR_T = \"../data/images/teams/\"\n",
    "fig_DIR = \"../figs/teams/\"\n",
    "box_DIR = \"../data/box/\""
   ]
  },
  {
   "cell_type": "code",
   "execution_count": null,
   "metadata": {},
   "outputs": [],
   "source": [
    "cols1 = ['TEAM_NAME', 'GP', 'W', 'L', 'W_PCT',\n",
    "       'OFF_RATING', 'DEF_RATING', 'NET_RATING', 'EFG_PCT', 'TS_PCT', 'E_PACE', 'PACE', 'POSS',\n",
    "       \"W_RANK\", \"L_RANK\",\n",
    "       'W_PCT_RANK', 'OFF_RATING_RANK', 'DEF_RATING_RANK',\n",
    "       'NET_RATING_RANK',]"
   ]
  },
  {
   "cell_type": "code",
   "execution_count": null,
   "metadata": {},
   "outputs": [],
   "source": [
    "dfa = []\n",
    "for year in range(2014,2024):\n",
    "    stats = leaguedashteamstats.LeagueDashTeamStats(\n",
    "        measure_type_detailed_defense=\"Advanced\",\n",
    "        season_type_all_star=\"Playoffs\",\n",
    "        season=get_ss(year)\n",
    "    )\n",
    "    df2 = stats.get_data_frames()[0]\n",
    "    df2 = df2.sort_values(\"W\",ascending=False).reset_index(drop=True)\n",
    "    df3 = df2[cols1]\n",
    "    df3[\"season\"] = year + 1\n",
    "    time.sleep(0.6)\n",
    "    stats = leaguegamelog.LeagueGameLog(\n",
    "        player_or_team_abbreviation=\"T\",\n",
    "        season=get_ss(year),\n",
    "        season_type_all_star=\"Playoffs\",\n",
    "    )\n",
    "    df4 = stats.get_data_frames()[0]\n",
    "    df4[\"Round\"] = df4[\"GAME_ID\"].str[-3]\n",
    "    df4[\"Win\"] = df4[\"WL\"] == \"W\"\n",
    "    df4[\"Loss\"] = df4[\"WL\"] == \"L\"\n",
    "    df5 = df4.groupby([\"TEAM_NAME\",\"Round\"])[[\"Win\",\"Loss\"]].sum().reset_index()\n",
    "    df6 = df5.groupby([\"TEAM_NAME\"])[[\"Round\"]].count().reset_index()\n",
    "    df7 = pd.merge(df3,df6,on=\"TEAM_NAME\",how=\"left\")\n",
    "    dfa.append(df7)\n",
    "    time.sleep(0.6)\n",
    "df8 = pd.concat(dfa)"
   ]
  },
  {
   "cell_type": "code",
   "execution_count": null,
   "metadata": {},
   "outputs": [],
   "source": [
    "qus = [\"Round == 0\",\"Round == 1\",\"Round == 2\",\"Round == 3\",\"Round == 4 & W_RANK == 2\",\"Round == 4 & W_RANK == 1\"]\n",
    "scenario = [\"Miss Playoffs\",\"1st Round\",\"2nd Round\",\"Conf Finals\",\"Finals\",\"Championship\"]\n",
    "scenario_dict = {\"Miss Playoffs\":0,\"1st Round\":1,\"2nd Round\":2,\"Conf Finals\":3,\"Finals\":4,\"Championship\":5}\n",
    "dfb = []\n",
    "for q,s in zip(qus,scenario):\n",
    "    df9 = df8.query(q)\n",
    "    df9[\"scenario\"] = s\n",
    "    dfb.append(df9)\n",
    "df10 = pd.concat(dfb)\n",
    "df11 = df10[[\"TEAM_NAME\",\"season\",\"scenario\"]]\n",
    "# df11[\"scenario\"] = pd.Categorical(df11[\"scenario\"],categories=scenario,ordered=True) "
   ]
  },
  {
   "cell_type": "code",
   "execution_count": null,
   "metadata": {},
   "outputs": [],
   "source": [
    "from plotnine import scale_y_discrete"
   ]
  },
  {
   "cell_type": "code",
   "execution_count": null,
   "metadata": {},
   "outputs": [],
   "source": [
    "team = \"Golden State Warriors\"\n",
    "data = df11.query(f\"TEAM_NAME == '{team}'\")\n",
    "ds = pd.DataFrame({\"season\":np.arange(2015,2025)})\n",
    "data = pd.merge(data,ds,how=\"right\")\n",
    "data[\"scenario\"] = data[\"scenario\"].fillna(\"Miss Playoffs\")\n",
    "data[\"round\"] = data[\"scenario\"].map(scenario_dict)\n",
    "data[\"TEAM_NAME\"] = team\n",
    "data[\"scenario\"] = pd.Categorical(data[\"scenario\"],categories=scenario,ordered=True) \n",
    "data[\"image\"]= img_DIR_T + data[\"TEAM_NAME\"] + \".png\"\n",
    "p = (\n",
    "    ggplot(data)\n",
    "    + aes(x=\"season\",y=\"scenario\",group=\"TEAM_NAME\",image=\"image\")\n",
    "    + geom_point()\n",
    "    + geom_line(size=2)\n",
    "    + geom_image()\n",
    "    + scale_y_discrete(drop=False)\n",
    "    + scale_x_continuous(breaks=np.arange(2015,2024,2))\n",
    "    + theme_idv\n",
    "    + theme(\n",
    "        axis_title_x=element_blank(),\n",
    "        axis_title_y=element_blank(),\n",
    "        axis_text_y=element_text(size=12)\n",
    "    )\n",
    "    + labs(\n",
    "        title=f\"{team} Playoff History\",\n",
    "        subtitle=\"Past 10 Seasons\",\n",
    "        caption=\"bsky:@sradjoker.cc | x:@sradjoker | source: nba.com/stats\"\n",
    "    )\n",
    ")\n",
    "p"
   ]
  },
  {
   "cell_type": "code",
   "execution_count": null,
   "metadata": {},
   "outputs": [],
   "source": [
    "\n",
    "data[\"round\"].astype(int).mean()"
   ]
  }
 ],
 "metadata": {
  "kernelspec": {
   "display_name": "nba-ub9Z_EQq-py3.11",
   "language": "python",
   "name": "python3"
  },
  "language_info": {
   "codemirror_mode": {
    "name": "ipython",
    "version": 3
   },
   "file_extension": ".py",
   "mimetype": "text/x-python",
   "name": "python",
   "nbconvert_exporter": "python",
   "pygments_lexer": "ipython3",
   "version": "3.11.6"
  }
 },
 "nbformat": 4,
 "nbformat_minor": 2
}
