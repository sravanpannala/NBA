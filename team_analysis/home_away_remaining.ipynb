{
 "cells": [
  {
   "cell_type": "code",
   "execution_count": null,
   "metadata": {},
   "outputs": [],
   "source": [
    "import os, sys\n",
    "\n",
    "sys.path.append(os.path.dirname(os.path.dirname(os.path.abspath(\"__file__\"))))\n",
    "from nbafuns import *\n",
    "\n",
    "fig_DIR = \"../figs/team_ratings/\"\n",
    "box_DIR = \"../data/box/\""
   ]
  },
  {
   "cell_type": "code",
   "execution_count": null,
   "metadata": {},
   "outputs": [],
   "source": [
    "team_dict, team_list  = get_teams()"
   ]
  },
  {
   "cell_type": "code",
   "execution_count": null,
   "metadata": {},
   "outputs": [],
   "source": [
    "from nba_api.stats.endpoints import scoreboard"
   ]
  },
  {
   "cell_type": "code",
   "execution_count": null,
   "metadata": {},
   "outputs": [],
   "source": [
    "dfa = []\n",
    "for do in range(60):\n",
    "    stats = scoreboard.Scoreboard(\n",
    "        game_date = \"2024-02-25\",\n",
    "        league_id=\"00\",\n",
    "        day_offset=do,\n",
    "    )\n",
    "    df1 = stats.get_data_frames()[0]\n",
    "    dfa.append(df1)\n",
    "    time.sleep(0.6)"
   ]
  },
  {
   "cell_type": "code",
   "execution_count": null,
   "metadata": {},
   "outputs": [],
   "source": [
    "df = pd.concat(dfa)"
   ]
  },
  {
   "cell_type": "code",
   "execution_count": null,
   "metadata": {},
   "outputs": [],
   "source": [
    "df = df[~df.duplicated(keep=\"last\")].reset_index(drop=True)"
   ]
  },
  {
   "cell_type": "code",
   "execution_count": null,
   "metadata": {},
   "outputs": [],
   "source": [
    "df[\"Home_Team\"] = df[\"HOME_TEAM_ID\"].map(team_dict)\n",
    "df[\"Away_Team\"] = df[\"VISITOR_TEAM_ID\"].map(team_dict)"
   ]
  },
  {
   "cell_type": "code",
   "execution_count": null,
   "metadata": {},
   "outputs": [],
   "source": [
    "dfh = pd.DataFrame( df[\"Home_Team\"].value_counts()).reset_index()\n",
    "dfh = dfh.rename(columns={\"Home_Team\":\"Team\",\"count\":\"Home\"})\n",
    "dfv = pd.DataFrame( df[\"Away_Team\"].value_counts()).reset_index()\n",
    "dfv = dfv.rename(columns={\"Away_Team\":\"Team\",\"count\":\"Away\"})"
   ]
  },
  {
   "cell_type": "code",
   "execution_count": null,
   "metadata": {},
   "outputs": [],
   "source": [
    "df2 = pd.merge(dfh,dfv)"
   ]
  },
  {
   "cell_type": "code",
   "execution_count": null,
   "metadata": {},
   "outputs": [],
   "source": [
    "df2[\"Diff\"] = df2[\"Home\"] - df2[\"Away\"]"
   ]
  },
  {
   "cell_type": "code",
   "execution_count": null,
   "metadata": {},
   "outputs": [],
   "source": [
    "df2 = df2.sort_values(\"Diff\",ascending=False)"
   ]
  },
  {
   "cell_type": "code",
   "execution_count": null,
   "metadata": {},
   "outputs": [],
   "source": [
    "%reload_ext rpy2.ipython"
   ]
  },
  {
   "cell_type": "code",
   "execution_count": null,
   "metadata": {},
   "outputs": [],
   "source": [
    "%%R -i df2\n",
    "df <- df2\n",
    "library(tidyverse)\n",
    "library(gt)\n",
    "library(gtExtras)\n",
    "df %>% \n",
    "  gt()%>%\n",
    "  tab_header(\n",
    "    title = md(\"**Remaining Home - Away Games**\"),\n",
    "    ) %>%\n",
    "    gt_plt_bar(column = Diff, keep_column = TRUE, color = \"red\") %>%\n",
    "    data_color(columns = c(Diff), palette = \"PiYG\") %>%\n",
    "    tab_options(\n",
    "        table.background.color = \"floralwhite\",\n",
    "        column_labels.font.size = 12,\n",
    "        column_labels.font.weight = 'bold',\n",
    "        row_group.font.weight = 'bold',\n",
    "        row_group.background.color = \"#E5E1D8\",\n",
    "        table.font.size = 10,\n",
    "        heading.title.font.size = 16,\n",
    "        heading.subtitle.font.size = 12.5,\n",
    "        table.font.names = \"Consolas\", \n",
    "        data_row.padding = px(2)\n",
    "    ) %>% \n",
    "    tab_source_note(\n",
    "    source_note = \"@SravanNBA | Source: nba.com/stats\" ) %>% gtsave(\"../figs/team_leaders/home_away.png\",size=5) "
   ]
  }
 ],
 "metadata": {
  "kernelspec": {
   "display_name": "nba-ub9Z_EQq-py3.11",
   "language": "python",
   "name": "python3"
  },
  "language_info": {
   "codemirror_mode": {
    "name": "ipython",
    "version": 3
   },
   "file_extension": ".py",
   "mimetype": "text/x-python",
   "name": "python",
   "nbconvert_exporter": "python",
   "pygments_lexer": "ipython3",
   "version": "3.11.6"
  }
 },
 "nbformat": 4,
 "nbformat_minor": 2
}
