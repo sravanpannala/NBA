{
 "cells": [
  {
   "cell_type": "code",
   "execution_count": null,
   "metadata": {},
   "outputs": [],
   "source": [
    "import os, sys\n",
    "\n",
    "sys.path.append(os.path.dirname(os.path.dirname(os.path.abspath(\"__file__\"))))\n",
    "from nbafuns import *\n",
    "from nba_api.stats.endpoints import leaguedashplayerstats\n",
    "\n",
    "data_DIR = \"../fdata/player_boxscores/\"\n",
    "fig_DIR_p = \"../figs/player_leaders/\"\n",
    "fig_DIR_t = \"../figs/team_leaders/\""
   ]
  },
  {
   "cell_type": "code",
   "execution_count": null,
   "metadata": {},
   "outputs": [],
   "source": [
    "season = \"2023\"\n",
    "league = \"NBA\"\n",
    "df = pd.read_parquet(data_DIR + league + \"_Player_BoxScores_\" + \"Indv\" + \"_\" + season + \".parquet\")\n",
    "df['Team_Split'] = df['MATCHUP'].str.replace(\"@\",\"\")\n",
    "df['Team_Split'] = df['Team_Split'].str.replace(\"vs.\",\"\")\n",
    "df[['Team1','Team2']] = df['Team_Split'].str.split(\"  \",expand=True)"
   ]
  },
  {
   "cell_type": "markdown",
   "metadata": {},
   "source": [
    "# 30 PTS For and Against"
   ]
  },
  {
   "cell_type": "code",
   "execution_count": null,
   "metadata": {},
   "outputs": [],
   "source": [
    "df1 = df.query(\"PTS >=30\").reset_index(drop=True)\n",
    "df2 = df1.groupby(\"Team1\")[[\"PTS\"]].agg({\"PTS\":[\"count\"]})\n",
    "df2.columns = [\"For_30\"]\n",
    "df3 = df2.reset_index().rename(columns={\"Team1\":\"Team\"})\n",
    "df2 = df1.groupby(\"Team2\")[[\"PTS\"]].agg({\"PTS\":[\"count\"]})\n",
    "df2.columns = [\"Against_30\"]\n",
    "df4 = df2.reset_index().rename(columns={\"Team2\":\"Team\"})\n",
    "df5 = pd.merge(df3,df4,on=\"Team\")\n",
    "df5[\"Diff_30\"] = df5[\"For_30\"] - df5[\"Against_30\"]\n",
    "df5 = df5.sort_values(by=\"Diff_30\",ascending=False).reset_index()\n",
    "df5 = df5.drop(columns=[\"index\"])\n",
    "df1 = df.query(\"PTS >=20\").reset_index(drop=True)\n",
    "df2 = df1.groupby(\"Team1\")[[\"PTS\"]].agg({\"PTS\":[\"count\"]})\n",
    "df2.columns = [\"For_20\"]\n",
    "df3 = df2.reset_index().rename(columns={\"Team1\":\"Team\"})\n",
    "df2 = df1.groupby(\"Team2\")[[\"PTS\"]].agg({\"PTS\":[\"count\"]})\n",
    "df2.columns = [\"Against_20\"]\n",
    "df4 = df2.reset_index().rename(columns={\"Team2\":\"Team\"})\n",
    "df6 = pd.merge(df3,df4,on=\"Team\")\n",
    "df6[\"Diff_20\"] = df6[\"For_20\"] - df6[\"Against_20\"]\n",
    "df6 = df6.sort_values(by=\"Diff_20\",ascending=False).reset_index()\n",
    "df6 = df6.drop(columns=[\"index\"])\n",
    "df7 = pd.merge(df5,df6,on=\"Team\")"
   ]
  },
  {
   "cell_type": "code",
   "execution_count": null,
   "metadata": {},
   "outputs": [],
   "source": [
    "df5 = df5.reset_index()\n",
    "df5[\"index\"] = df5[\"index\"] +1"
   ]
  },
  {
   "cell_type": "code",
   "execution_count": null,
   "metadata": {},
   "outputs": [],
   "source": [
    "d = (\n",
    "    gt.GT(data=df5.iloc[:15], rowname_col = \"index\")\n",
    "    .cols_label(For_30= \"30 PTS For\", Against_30=\"30 PTS Against\", Diff_30=\"Difference\")\n",
    "    .cols_align(align=\"center\", columns=[\"For_30\",\"Against_30\",\"Diff_30\"])\n",
    "    .tab_header(\n",
    "        title=\"Most 30 PT Games For - Against\",\n",
    "        subtitle = \"Differential between most 30 PT games scored by a team and against a team\",\n",
    "    )\n",
    "    .tab_source_note(\n",
    "        source_note = \"@SravanNBA | source: nba.com/stats\"\n",
    "    )\n",
    ")"
   ]
  },
  {
   "cell_type": "code",
   "execution_count": null,
   "metadata": {},
   "outputs": [],
   "source": [
    "d1 = (\n",
    "    gt.GT(data=df5.iloc[15:], rowname_col = \"index\")\n",
    "    .cols_label(For_30= \"30 PTS For\", Against_30=\"30 PTS Against\", Diff_30=\"Difference\")\n",
    "    .cols_align(align=\"center\", columns=[\"For_30\",\"Against_30\",\"Diff_30\"])\n",
    "    .tab_header(\n",
    "        title=\"Most 30 PT Games For - Against\",\n",
    "        subtitle = \"Differential between most 30 PT games scored by a team and against a team\",\n",
    "    )\n",
    "    .tab_source_note(\n",
    "        source_note = \"@SravanNBA | source: nba.com/stats\"\n",
    "    )\n",
    ")"
   ]
  },
  {
   "cell_type": "code",
   "execution_count": null,
   "metadata": {},
   "outputs": [],
   "source": [
    "from html2image import Html2Image\n",
    "hti = Html2Image()"
   ]
  },
  {
   "cell_type": "code",
   "execution_count": null,
   "metadata": {},
   "outputs": [],
   "source": [
    "hti.screenshot(html_str=d._render_as_html(), save_as=\"test1.png\", size=(500, 750))"
   ]
  },
  {
   "cell_type": "code",
   "execution_count": null,
   "metadata": {},
   "outputs": [],
   "source": [
    "hti.screenshot(html_str=d1._render_as_html(), save_as=\"test2.png\", size=(500, 750))"
   ]
  },
  {
   "cell_type": "markdown",
   "metadata": {},
   "source": [
    "# 3PT differential"
   ]
  },
  {
   "cell_type": "code",
   "execution_count": null,
   "metadata": {},
   "outputs": [],
   "source": [
    "season = \"2023\"\n",
    "league = \"NBA\"\n",
    "df = pd.read_parquet(data_DIR + league + \"_Player_BoxScores_\" + \"Indv\" + \"_\" + season + \".parquet\")\n",
    "df['Team_Split'] = df['MATCHUP'].str.replace(\"@\",\"\")\n",
    "df['Team_Split'] = df['Team_Split'].str.replace(\"vs.\",\"\")\n",
    "df[['Team1','Team2']] = df['Team_Split'].str.split(\"  \",expand=True)"
   ]
  },
  {
   "cell_type": "code",
   "execution_count": null,
   "metadata": {},
   "outputs": [],
   "source": [
    "df1 = df.query(\"FG3M > 5\").sort_values(by=\"FG3M\", ascending=False).reset_index(drop=True)\n",
    "df2 = df1.groupby(\"Team1\")[[\"FG3M\"]].agg({\"FG3M\":[\"count\"]})\n",
    "df2.columns = [\"FG3M_5\"]\n",
    "df3 = df2.sort_values(by=\"FG3M_5\",ascending=False).reset_index().rename(columns={\"Team1\":\"Team\"})"
   ]
  },
  {
   "cell_type": "code",
   "execution_count": null,
   "metadata": {},
   "outputs": [],
   "source": [
    "df1 = df.query(\"FG3M > 5\").sort_values(by=\"FG3M\", ascending=False).reset_index(drop=True)\n",
    "df2 = df1.groupby(\"Team2\")[[\"FG3M\"]].agg({\"FG3M\":[\"count\"]})\n",
    "df2.columns = [\"FG3M_5\"]\n",
    "df4 = df2.sort_values(by=\"FG3M_5\",ascending=False).reset_index().rename(columns={\"Team1\":\"Team\"})"
   ]
  }
 ],
 "metadata": {
  "kernelspec": {
   "display_name": "nba-ub9Z_EQq-py3.11",
   "language": "python",
   "name": "python3"
  },
  "language_info": {
   "codemirror_mode": {
    "name": "ipython",
    "version": 3
   },
   "file_extension": ".py",
   "mimetype": "text/x-python",
   "name": "python",
   "nbconvert_exporter": "python",
   "pygments_lexer": "ipython3",
   "version": "3.11.6"
  }
 },
 "nbformat": 4,
 "nbformat_minor": 2
}
