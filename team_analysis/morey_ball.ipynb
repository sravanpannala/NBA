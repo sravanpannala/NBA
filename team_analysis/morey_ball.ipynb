{
 "cells": [
  {
   "cell_type": "code",
   "execution_count": null,
   "metadata": {},
   "outputs": [],
   "source": [
    "import os, sys\n",
    "\n",
    "sys.path.append(os.path.dirname(os.path.dirname(os.path.abspath(\"__file__\"))))\n",
    "from nbafuns import *\n",
    "\n",
    "pd.options.mode.chained_assignment = None\n",
    "\n",
    "shots_DIR = \"../data/ShotLocationData/\""
   ]
  },
  {
   "cell_type": "code",
   "execution_count": null,
   "metadata": {},
   "outputs": [],
   "source": [
    "league = \"NBA\"\n",
    "season = \"2023\"\n",
    "df = pd.read_parquet(shots_DIR + league + \"_Shot_Details_\" + season + \".parquet\")\n",
    "teams_dict, teams_list = get_teams(league=\"NBA\")\n",
    "all_shots = df.copy()"
   ]
  },
  {
   "cell_type": "code",
   "execution_count": null,
   "metadata": {},
   "outputs": [],
   "source": [
    "all_shots.columns = map(str.lower, all_shots.columns)\n",
    "all_shots = all_shots.rename(columns={\"shot_made_flag\":\"shot_made\"})\n",
    "all_shots[\"loc_x\"] = all_shots[\"loc_x\"]/10\n",
    "all_shots[\"loc_y\"] = all_shots[\"loc_y\"]/10\n",
    "all_shots['fg2'] = np.where(all_shots['shot_type'] == '2PT Field Goal', 1, 0)\n",
    "all_shots['fg3'] = np.where(all_shots['shot_type'] == '3PT Field Goal', 1, 0)\n",
    "all_shots[\"points\"] = (2*all_shots['fg2'] + 3*all_shots['fg3'])*all_shots[\"shot_made\"]\n",
    "all_shots[\"game_date\"] = pd.to_datetime(all_shots[\"game_date\"], format=\"%Y%m%d\")\n",
    "# shots = all_shots.loc[all_shots['shot_distance'] <= 32].reset_index(drop=True)"
   ]
  },
  {
   "cell_type": "code",
   "execution_count": null,
   "metadata": {},
   "outputs": [],
   "source": [
    "shots1 = all_shots[ all_shots[\"shot_zone_basic\"].isin([\"Restricted Area\",'Above the Break 3','Left Corner 3', 'Right Corner 3'])].reset_index(drop=True)\n",
    "date_d = pd.to_datetime(dt.date(2023,12,19))\n",
    "shots = shots1.query(f\"(game_date < '{date_d}') & (team_name == 'Memphis Grizzlies')\")\n",
    "# shots = shots1[shots1[\"game_date\"] >= date_d]"
   ]
  },
  {
   "cell_type": "code",
   "execution_count": null,
   "metadata": {},
   "outputs": [],
   "source": [
    "fg0 = (shots\n",
    "      .groupby(['team_id'])[['points', 'shot_made']]\n",
    "      .agg({'points': ['sum', 'count'],\n",
    "           'shot_made': ['sum'],}))\n",
    "fg0.columns = ['PTS', 'number_of_shots', 'number_of_makes']\n",
    "fg = fg0.reset_index()\n",
    "fg['eFG'] = np.round(fg['PTS']/fg['number_of_shots']/2, 3)\n",
    "fg = fg.rename(columns = {'number_of_shots': 'FGA',\n",
    "                           'number_of_makes': 'FGM'})\n",
    "fg[\"team_id\"] = fg[\"team_id\"].map(teams_dict)\n",
    "fg = fg.rename(columns={\"team_id\":\"Team\"})\n",
    "# fg = fg[['player_id', 'FGA', 'FGM', 'eFG', 'xeFG', 'PTS', 'xPTS', 'Shot_Making']]\n",
    "fg = fg.sort_values(\"FGA\",ascending=False)"
   ]
  },
  {
   "cell_type": "code",
   "execution_count": null,
   "metadata": {},
   "outputs": [],
   "source": [
    "fg"
   ]
  },
  {
   "cell_type": "code",
   "execution_count": null,
   "metadata": {},
   "outputs": [],
   "source": [
    "dfgdfg"
   ]
  },
  {
   "cell_type": "code",
   "execution_count": null,
   "metadata": {},
   "outputs": [],
   "source": [
    "%reload_ext rpy2.ipython"
   ]
  },
  {
   "cell_type": "code",
   "execution_count": null,
   "metadata": {},
   "outputs": [],
   "source": [
    "%%R -i fg\n",
    "library(tidyverse)\n",
    "library(gt)\n",
    "df <- fg\n",
    "df %>% \n",
    "  gt()%>%\n",
    "  tab_header(\n",
    "    title = md(\"**Most MoreyBall Shot Attempts 2023-24**\"),\n",
    "    subtitle = \"Moreyball = Shots at Rim + 3PT Shots\" \n",
    "    ) %>%\n",
    "    data_color(columns = c(eFG,FGM,FGA), palette = \"PRGn\") %>%\n",
    "    # cols_align(align = \"center\",columns = c(Shot_Making))  %>%\n",
    "    cols_label(\n",
    "      eFG = \"eFG%\"\n",
    "    ) %>%\n",
    "    fmt_percent(\n",
    "      columns = eFG,\n",
    "      decimals = 1\n",
    "    ) %>%\n",
    "    tab_options(\n",
    "        table.background.color = \"floralwhite\",\n",
    "        column_labels.font.size = 12,\n",
    "        column_labels.font.weight = 'bold',\n",
    "        row_group.font.weight = 'bold',\n",
    "        row_group.background.color = \"#E5E1D8\",\n",
    "        table.font.size = 10,\n",
    "        heading.title.font.size = 16,\n",
    "        heading.subtitle.font.size = 12.5,\n",
    "        table.font.names = \"Consolas\", \n",
    "        data_row.padding = px(2)\n",
    "    ) %>% \n",
    "    tab_source_note(\n",
    "    source_note = \"eFG%: Effective Field Goal %\")  %>% \n",
    "    tab_source_note(\n",
    "    source_note = \"@SravanNBA | Source: nba.com/stats\" ) %>% gtsave(\"../figs/team_leaders/moreyball.png\",zoom=5) "
   ]
  }
 ],
 "metadata": {
  "kernelspec": {
   "display_name": "nba-ub9Z_EQq-py3.11",
   "language": "python",
   "name": "python3"
  },
  "language_info": {
   "codemirror_mode": {
    "name": "ipython",
    "version": 3
   },
   "file_extension": ".py",
   "mimetype": "text/x-python",
   "name": "python",
   "nbconvert_exporter": "python",
   "pygments_lexer": "ipython3",
   "version": "3.11.6"
  }
 },
 "nbformat": 4,
 "nbformat_minor": 2
}
