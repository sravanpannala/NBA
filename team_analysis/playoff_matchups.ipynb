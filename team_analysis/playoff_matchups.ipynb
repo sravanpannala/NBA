{
 "cells": [
  {
   "cell_type": "code",
   "execution_count": null,
   "metadata": {
    "metadata": {}
   },
   "outputs": [],
   "source": [
    "import os, sys\n",
    "\n",
    "sys.path.append(os.path.dirname(os.path.dirname(os.path.abspath(\"__file__\"))))\n",
    "from nbafuns import *\n",
    "\n",
    "box_DIR = \"../data/box/\""
   ]
  },
  {
   "cell_type": "code",
   "execution_count": null,
   "metadata": {
    "metadata": {}
   },
   "outputs": [],
   "source": [
    "dfa = []\n",
    "for year in range(2013,2023):\n",
    "    df1 = pd.read_parquet(box_DIR + f\"NBA_Box_T_Base_{year}.parquet\")\n",
    "    df1[[\"Team1\",\"HA\",\"Team2\"]] =  df1[\"MATCHUP\"].str.split(\" \",expand=True)\n",
    "    df1[\"W\"] = df1[\"WL\"] == \"W\"\n",
    "    df1[\"L\"] = df1[\"WL\"] == \"L\"\n",
    "    df2 = pd.read_parquet(box_DIR + f\"NBA_Box_T_Base_{year}_PS.parquet\")\n",
    "    df2[[\"Team1\",\"HA\",\"Team2\"]] =  df2[\"MATCHUP\"].str.split(\" \",expand=True)\n",
    "    df2[\"W\"] = df2[\"WL\"] == \"W\"\n",
    "    df2[\"L\"] = df2[\"WL\"] == \"L\"\n",
    "    df1g = df1.groupby([\"Team1\",\"Team2\"])\n",
    "    df2g = df2.groupby([\"Team1\",\"Team2\"])\n",
    "    keys = list(df2g.groups)\n",
    "    for key in keys:\n",
    "        df31 = df1g.get_group(key)\n",
    "        df32 = df2g.get_group(key)\n",
    "        df4 = pd.DataFrame({\"Team1\":key[0],\"Team2\":key[1],\"W1\":df31[\"W\"].sum(),\"L1\":df31[\"L\"].sum(),\"W2\":df32[\"W\"].sum(),\"L2\":df32[\"L\"].sum(),\"MOV1\":df31[\"PLUS_MINUS\"].mean(),\"MOV2\":df32[\"PLUS_MINUS\"].mean()},index=[0])\n",
    "        df4[\"Season\"] = year + 1\n",
    "        dfa.append(df4)\n",
    "df5 = pd.concat(dfa).reset_index(drop=True)"
   ]
  },
  {
   "cell_type": "code",
   "execution_count": null,
   "metadata": {
    "metadata": {}
   },
   "outputs": [],
   "source": [
    "df5[\"WP_1\"] = round(df5[\"W1\"]/(df5[\"W1\"]+df5[\"L1\"]),3)\n",
    "df5[\"WP_2\"] = round(df5[\"W2\"]/(df5[\"W2\"]+df5[\"L2\"]),3)\n",
    "df5[\"Season\"] = df5[\"Season\"].astype(\"category\")"
   ]
  },
  {
   "cell_type": "code",
   "execution_count": null,
   "metadata": {
    "metadata": {}
   },
   "outputs": [],
   "source": [
    "r = df5[\"WP_1\"].corr(df5[\"WP_2\"])\n",
    "r2 = r **2\n",
    "print(r2)"
   ]
  },
  {
   "cell_type": "code",
   "execution_count": null,
   "metadata": {
    "metadata": {}
   },
   "outputs": [],
   "source": [
    "df5"
   ]
  },
  {
   "cell_type": "code",
   "execution_count": null,
   "metadata": {
    "metadata": {}
   },
   "outputs": [],
   "source": [
    "p = (\n",
    "    ggplot(df5, aes(x=\"WP_1\",y=\"WP_2\"))\n",
    "    + geom_jitter(aes(color=\"Season\"),show_legend=False)\n",
    "    + geom_smooth(method=\"lm\")\n",
    "    + scale_x_continuous(labels=percent_format())\n",
    "    + scale_y_continuous(labels=percent_format())\n",
    "    + annotate('label', x=0.1, y=1, label=f'r^2={r2:0.3f}', size=14)\n",
    "    + theme_idv\n",
    "    + labs(\n",
    "        title=\"Regular Season vs Playoffs Matchups\",\n",
    "        subtitle=\"Jitter plot to reduce overplotting \",\n",
    "        x=\"Win Percent: Regular Season\",\n",
    "        y=\"Win Percent: Playoffs\",\n",
    "        caption=\"@sradjoker  | source: nba.com/stats via nba_api\"\n",
    "    )\n",
    ")\n",
    "p"
   ]
  },
  {
   "cell_type": "code",
   "execution_count": null,
   "metadata": {
    "metadata": {}
   },
   "outputs": [],
   "source": [
    "r = df5[\"MOV1\"].corr(df5[\"MOV2\"])\n",
    "r2 = r **2\n",
    "p = (\n",
    "    ggplot(df5, aes(x=\"MOV1\",y=\"MOV2\"))\n",
    "    # + geom_jitter(aes(color=\"Season\"),show_legend=False)\n",
    "    + geom_point(aes(color=\"Season\"))\n",
    "    + geom_smooth(method=\"lm\")\n",
    "    # + scale_x_continuous(labels=percent_format())\n",
    "    # + scale_y_continuous(labels=percent_format())\n",
    "    + annotate('label', x=-16, y=20, label=f'r^2={r2:0.3f}', size=14)\n",
    "    + theme_idv\n",
    "    + labs(\n",
    "        title=\"Regular Season vs Playoffs Matchups\",\n",
    "        # subtitle=\"Jitter plot to reduce overplotting \",\n",
    "        x=\"Avg Margin of Victory: Regular Season\",\n",
    "        y=\"Avg Margin of Victory: Playoffs\",\n",
    "        caption=\"@sradjoker  | source: nba.com/stats via nba_api\"\n",
    "    )\n",
    ")\n",
    "p"
   ]
  }
 ],
 "metadata": {
  "kernelspec": {
   "display_name": "nba-ub9Z_EQq-py3.11",
   "language": "python",
   "name": "python3"
  },
  "language_info": {
   "codemirror_mode": {
    "name": "ipython",
    "version": 3
   },
   "file_extension": ".py",
   "mimetype": "text/x-python",
   "name": "python",
   "nbconvert_exporter": "python",
   "pygments_lexer": "ipython3",
   "version": "3.11.6"
  }
 },
 "nbformat": 4,
 "nbformat_minor": 2
}
