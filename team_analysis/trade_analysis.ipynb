{
 "cells": [
  {
   "cell_type": "code",
   "execution_count": null,
   "metadata": {},
   "outputs": [],
   "source": [
    "import os, sys\n",
    "\n",
    "sys.path.append(os.path.dirname(os.path.dirname(os.path.abspath(\"__file__\"))))\n",
    "from nbafuns import *\n",
    "\n",
    "pd.options.mode.chained_assignment = None\n",
    "\n",
    "data_DIR = \"../data/injuries/\"\n",
    "fig_DIR = \"../figs/analysis/\""
   ]
  },
  {
   "cell_type": "code",
   "execution_count": null,
   "metadata": {},
   "outputs": [],
   "source": [
    "df = pd.read_parquet(data_DIR + \"all_trades.parquet\")"
   ]
  },
  {
   "cell_type": "code",
   "execution_count": null,
   "metadata": {},
   "outputs": [],
   "source": [
    "df[\"Team\"] = df[\"Team\"].str.replace(\"Clippets\",\"Clippers\")\n",
    "df[\"Team\"] = df[\"Team\"].str.replace(\"Grizzles\",\"Grizzlies\")\n",
    "df[\"Team\"] = df[\"Team\"].str.replace(\"Lakerse\",\"Lakers\")\n",
    "df[\"Notes\"] = df[\"Notes\"].str.replace(\"Clippets\",\"Clippers\")\n",
    "df[\"Notes\"] = df[\"Notes\"].str.replace(\"Grizzles\",\"Grizzlies\")\n",
    "df[\"Notes\"] = df[\"Notes\"].str.replace(\"Lakerse\",\"Lakers\")\n",
    "df = df[~(df[\"Notes\"].str.contains(\"void\"))]"
   ]
  },
  {
   "cell_type": "code",
   "execution_count": null,
   "metadata": {},
   "outputs": [],
   "source": [
    "df1 = df[df[\"Notes\"].str.contains(\"trade\")]\n",
    "df1 = df1[df1[\"Date\"] >= \"2010-07-01\"].reset_index(drop=True)\n",
    "df1[\"tradetype\"] = df1[\"Notes\"].str.split(' ').str[0]\n",
    "df1 = df1[~(df1[\"tradetype\"] == \"earlier\")].reset_index(drop=True)\n",
    "df1 = df1.rename(columns={\"Team\":\"Team1\"})"
   ]
  },
  {
   "cell_type": "code",
   "execution_count": null,
   "metadata": {},
   "outputs": [],
   "source": [
    "df1_1 = df1[df1[\"tradetype\"] == \"trade\"].reset_index(drop=True)\n",
    "df1_1[\"Team2\"] = df1_1[\"Notes\"].str.split(' ').str[-1]\n",
    "df1_1.insert(2,\"Team2\",df1_1.pop(\"Team2\"))"
   ]
  },
  {
   "cell_type": "code",
   "execution_count": null,
   "metadata": {},
   "outputs": [],
   "source": [
    "df1_2 = df1[df1[\"tradetype\"] == \"3-team\"].reset_index(drop=True)\n",
    "df1_2[\"Team2\"] = df1_2[\"Notes\"].str.split(' ').str[-2]\n",
    "df1_2[\"Team3\"] = df1_2[\"Notes\"].str.split(' ').str[-1]\n",
    "df1_2.insert(2,\"Team2\",df1_2.pop(\"Team2\"))\n",
    "df1_2.insert(3,\"Team3\",df1_2.pop(\"Team3\"))\n",
    "df1_2[\"Team2\"] = df1_2[\"Team2\"].str.replace(\",\",\"\")\n",
    "df1_21 = df1_2.drop(columns= \"Team3\")\n",
    "df1_22 = df1_2.drop(columns= \"Team2\")\n",
    "df1_22 = df1_22.rename(columns={\"Team3\":\"Team2\"})\n",
    "df1_2 = pd.concat([df1_21,df1_22]).sort_values([\"Date\",\"Team1\"]).reset_index(drop=True)"
   ]
  },
  {
   "cell_type": "code",
   "execution_count": null,
   "metadata": {},
   "outputs": [],
   "source": [
    "df1_3 = df1[df1[\"tradetype\"] == \"4-team\"].reset_index(drop=True)\n",
    "df1_3[\"Team2\"] = df1_3[\"Notes\"].str.split(' ').str[-3]\n",
    "df1_3[\"Team3\"] = df1_3[\"Notes\"].str.split(' ').str[-2]\n",
    "df1_3[\"Team4\"] = df1_3[\"Notes\"].str.split(' ').str[-1]\n",
    "df1_3.insert(2,\"Team2\",df1_3.pop(\"Team2\"))\n",
    "df1_3.insert(3,\"Team3\",df1_3.pop(\"Team3\"))\n",
    "df1_3.insert(4,\"Team4\",df1_3.pop(\"Team4\"))\n",
    "df1_3[\"Team2\"] = df1_3[\"Team2\"].str.replace(\",\",\"\")\n",
    "df1_3[\"Team3\"] = df1_3[\"Team3\"].str.replace(\",\",\"\")\n",
    "df1_31 = df1_3.drop(columns= [\"Team3\",\"Team4\"])\n",
    "df1_32 = df1_3.drop(columns= [\"Team2\",\"Team4\"])\n",
    "df1_33 = df1_3.drop(columns= [\"Team2\",\"Team3\"])\n",
    "df1_32 = df1_32.rename(columns={\"Team3\":\"Team2\"})\n",
    "df1_33 = df1_33.rename(columns={\"Team4\":\"Team2\"})\n",
    "df1_3 = pd.concat([df1_31,df1_32,df1_33]).sort_values([\"Date\",\"Team1\"]).reset_index(drop=True)\n",
    "\n",
    "df1_4 = df1[df1[\"tradetype\"] == \"5-team\"].reset_index(drop=True)\n",
    "df1_4[\"Team2\"] = df1_4[\"Notes\"].str.split(' ').str[-4]\n",
    "df1_4[\"Team3\"] = df1_4[\"Notes\"].str.split(' ').str[-3]\n",
    "df1_4[\"Team4\"] = df1_4[\"Notes\"].str.split(' ').str[-2]\n",
    "df1_4[\"Team5\"] = df1_4[\"Notes\"].str.split(' ').str[-1]\n",
    "df1_4.insert(2,\"Team2\",df1_4.pop(\"Team2\"))\n",
    "df1_4.insert(3,\"Team3\",df1_4.pop(\"Team3\"))\n",
    "df1_4.insert(4,\"Team4\",df1_4.pop(\"Team4\"))\n",
    "df1_4.insert(5,\"Team5\",df1_4.pop(\"Team5\"))\n",
    "df1_4[\"Team2\"] = df1_4[\"Team2\"].str.replace(\",\",\"\")\n",
    "df1_4[\"Team3\"] = df1_4[\"Team3\"].str.replace(\",\",\"\")\n",
    "df1_4[\"Team4\"] = df1_4[\"Team4\"].str.replace(\",\",\"\")\n",
    "df1_41 = df1_4.drop(columns= [\"Team3\",\"Team4\",\"Team5\"])\n",
    "df1_42 = df1_4.drop(columns= [\"Team2\",\"Team4\",\"Team5\"])\n",
    "df1_43 = df1_4.drop(columns= [\"Team2\",\"Team3\",\"Team5\"])\n",
    "df1_44 = df1_4.drop(columns= [\"Team2\",\"Team3\",\"Team4\"])\n",
    "df1_42 = df1_42.rename(columns={\"Team3\":\"Team2\"})\n",
    "df1_43 = df1_43.rename(columns={\"Team4\":\"Team2\"})\n",
    "df1_44 = df1_44.rename(columns={\"Team5\":\"Team2\"})\n",
    "df1_4 = pd.concat([df1_41,df1_42,df1_43,df1_44]).sort_values([\"Date\",\"Team1\"]).reset_index(drop=True)\n",
    "\n",
    "df2 = pd.concat([df1_1,df1_2,df1_3,df1_4]).sort_values([\"Date\",\"Team1\"]).reset_index(drop=True)"
   ]
  },
  {
   "cell_type": "code",
   "execution_count": null,
   "metadata": {},
   "outputs": [],
   "source": [
    "deadlines_0 = [\"2020-01-31\",\"2021-03-19\",\"2022-02-04\",\"2023-02-03\",\"2024-02-02\",\"2025-01-31\"]\n",
    "deadlines_1 = [\"2020-02-06\",\"2021-03-25\",\"2022-02-10\",\"2023-02-09\",\"2024-02-08\",\"2025-02-06\"]\n",
    "deadlines_2 = [\"2020-02-04\",\"2021-03-23\",\"2022-02-08\",\"2023-02-07\",\"2024-02-06\",\"2025-02-04\"]\n",
    "#season start\n",
    "deadlines_3 = [\"2019-10-22\",\"2020-12-22\",\"2021-10-19\",\"2022-10-18\",\"2023-10-24\",\"2024-10-22\"]"
   ]
  },
  {
   "cell_type": "code",
   "execution_count": null,
   "metadata": {},
   "outputs": [],
   "source": [
    "ii = 0\n",
    "s = df2.query(f\"Date>='{deadlines_3[ii]}'\").query(f\"Date<='{deadlines_2[ii]}'\")[\"tradetype\"].value_counts()\n",
    "df3 = pd.DataFrame(s)\n",
    "df3"
   ]
  },
  {
   "cell_type": "code",
   "execution_count": null,
   "metadata": {},
   "outputs": [],
   "source": [
    "nos3 = []\n",
    "nos3.append(5)\n",
    "nos3.append(14/2 + 12/4)\n",
    "nos3.append(14/2 + 12/3)\n",
    "nos3.append(5)\n",
    "nos3.append(8/2 + 12/3 + 1)\n",
    "nos3 = [int(ns) for ns in nos3]"
   ]
  },
  {
   "cell_type": "code",
   "execution_count": null,
   "metadata": {},
   "outputs": [],
   "source": [
    "nos2 = []\n",
    "nos2.append(28/2 + 12/3 + 12/4 )\n",
    "nos2.append(42/2 + 12/3 + 12/4)\n",
    "nos2.append(34/2 + 18/3 + 12/4)\n",
    "nos2.append(22/2 + 12/3 + 48/4)\n",
    "nos2.append(8/2 + 12/3 + 1 + 19)\n",
    "nos2 = [int(ns) for ns in nos2]"
   ]
  },
  {
   "cell_type": "code",
   "execution_count": null,
   "metadata": {},
   "outputs": [],
   "source": [
    "nos1 = []\n",
    "nos1.append(0)\n",
    "nos1.append(2)\n",
    "nos1.append(4)\n",
    "nos1.append(3)\n",
    "nos1.append(0)"
   ]
  },
  {
   "cell_type": "code",
   "execution_count": null,
   "metadata": {},
   "outputs": [],
   "source": [
    "ii = 5\n",
    "s = df2.query(f\"Date>='{deadlines_0[ii]}'\").query(f\"Date<='{deadlines_1[ii]}'\")[\"tradetype\"].value_counts()\n",
    "df3 = pd.DataFrame(s)\n",
    "df3"
   ]
  },
  {
   "cell_type": "code",
   "execution_count": null,
   "metadata": {},
   "outputs": [],
   "source": [
    "nos = []\n",
    "nos.append(18/2 + 12/3 + 12/4 )\n",
    "nos.append(32/2 + 12/3)\n",
    "nos.append(28/2 + 6/3 + 12/4)\n",
    "nos.append(18/2 + 12/3 + 48/4)\n",
    "nos.append(34/2 + 12/3)\n",
    "nos.append(8/2 + 12/3)"
   ]
  },
  {
   "cell_type": "code",
   "execution_count": null,
   "metadata": {},
   "outputs": [],
   "source": [
    "nos = [int(ns) for ns in nos]"
   ]
  },
  {
   "cell_type": "code",
   "execution_count": null,
   "metadata": {},
   "outputs": [],
   "source": [
    "dfp = pd.DataFrame({\"Season\":np.arange(2020,2026),\"Trades\":nos})"
   ]
  },
  {
   "cell_type": "code",
   "execution_count": null,
   "metadata": {},
   "outputs": [],
   "source": [
    "dfp1 = pd.DataFrame({\"Season\":np.arange(2020,2025),\"Trades\":nos1})"
   ]
  },
  {
   "cell_type": "code",
   "execution_count": null,
   "metadata": {},
   "outputs": [],
   "source": [
    "dfp2 = pd.DataFrame({\"Season\":np.arange(2020,2025),\"Trades\":nos2})"
   ]
  },
  {
   "cell_type": "code",
   "execution_count": null,
   "metadata": {},
   "outputs": [],
   "source": [
    "dfp3 = pd.DataFrame({\"Season\":np.arange(2020,2025),\"Trades\":nos3})"
   ]
  },
  {
   "cell_type": "code",
   "execution_count": null,
   "metadata": {},
   "outputs": [],
   "source": [
    "theme_idv = theme_xkcd(base_size=16)\n",
    "theme_idv += theme(\n",
    "    text=element_text(family=[\"Comic Sans MS\"]),\n",
    "    plot_title=element_text(face=\"bold\", size=20),\n",
    "    plot_caption=element_text(size=10,ha='left'),\n",
    ")"
   ]
  },
  {
   "cell_type": "code",
   "execution_count": null,
   "metadata": {},
   "outputs": [],
   "source": [
    "p = (\n",
    "    ggplot(dfp)\n",
    "    + aes(x=\"Season\",y=\"Trades\")\n",
    "    + geom_bar(stat=\"identity\", alpha=0.75)\n",
    "    + theme_idv\n",
    "    + geom_text(aes(label = \"Trades\", y=\"Trades\"),size=10,nudge_y=+2,format_string =\"{:0.0f} Trades\")\n",
    "    + labs(\n",
    "        title = \"Trades During the NBA Trade Deadline Week\",\n",
    "        caption = \"bsky:@sradjoker.cc | X:@SravanNBA | source: prosportstransactions\"\n",
    "    )\n",
    "    + theme(\n",
    "        plot_title=element_text(face=\"bold\", size=18),\n",
    "        axis_text_x=element_text(size=14)\n",
    "    )\n",
    ")\n",
    "# p.save(fig_DIR + \"NBA_Trade_Deadline.png\",dpi=300,verbose=False)\n",
    "p"
   ]
  },
  {
   "cell_type": "code",
   "execution_count": null,
   "metadata": {},
   "outputs": [],
   "source": [
    "p = (\n",
    "    ggplot(dfp1)\n",
    "    + aes(x=\"Season\",y=\"Trades\")\n",
    "    + geom_bar(stat=\"identity\", alpha=0.75)\n",
    "    + theme_idv\n",
    "    + geom_text(aes(label = \"Trades\", y=\"Trades\"),size=10,nudge_y=+0.5,format_string =\"{:0.0f} Trades\")\n",
    "    + labs(\n",
    "        title = \"Trades During the NBA Trade Deadline Week\",\n",
    "        subtitle = \"Excluding Last Two Days\",\n",
    "        caption = \"@SravanNBA | source: prosportstransactions\"\n",
    "    )\n",
    "    + theme(\n",
    "        plot_title=element_text(face=\"bold\", size=20),\n",
    "        axis_text_x=element_text(size=14)\n",
    "    )\n",
    ")\n",
    "p.save(fig_DIR + \"NBA_Trade_Deadline_1.png\",dpi=300)\n",
    "p"
   ]
  },
  {
   "cell_type": "code",
   "execution_count": null,
   "metadata": {},
   "outputs": [],
   "source": [
    "p = (\n",
    "    ggplot(dfp2)\n",
    "    + aes(x=\"Season\",y=\"Trades\")\n",
    "    + geom_bar(stat=\"identity\", alpha=0.75)\n",
    "    + theme_idv\n",
    "    + geom_text(aes(label = \"Trades\", y=\"Trades\"),size=10,nudge_y=+0.5,format_string =\"{:0.0f} Trades\")\n",
    "    + labs(\n",
    "        title = \"Trades During the NBA Season\",\n",
    "        # subtitle = \"Excluding Last Two Days\",\n",
    "        caption = \"@SravanNBA | source: prosportstransactions\"\n",
    "    )\n",
    "    + theme(\n",
    "        plot_title=element_text(face=\"bold\", size=20),\n",
    "        axis_text_x=element_text(size=14)\n",
    "    )\n",
    ")\n",
    "p.save(fig_DIR + \"NBA_In_Season_Trades_1.png\",dpi=300)\n",
    "p"
   ]
  },
  {
   "cell_type": "code",
   "execution_count": null,
   "metadata": {},
   "outputs": [],
   "source": [
    "p = (\n",
    "    ggplot(dfp3)\n",
    "    + aes(x=\"Season\",y=\"Trades\")\n",
    "    + geom_bar(stat=\"identity\", alpha=0.75)\n",
    "    + theme_idv\n",
    "    + geom_text(aes(label = \"Trades\", y=\"Trades\"),size=10,nudge_y=+0.5,format_string =\"{:0.0f} Trades\")\n",
    "    + labs(\n",
    "        title = \"Trades During the NBA Season\",\n",
    "        subtitle = \"Excluding Last Two Days\",\n",
    "        caption = \"@SravanNBA | source: prosportstransactions\"\n",
    "    )\n",
    "    + theme(\n",
    "        plot_title=element_text(face=\"bold\", size=20),\n",
    "        axis_text_x=element_text(size=14)\n",
    "    )\n",
    ")\n",
    "p.save(fig_DIR + \"NBA_In_Season_Trades_2.png\",dpi=300)\n",
    "p"
   ]
  }
 ],
 "metadata": {
  "kernelspec": {
   "display_name": "plot",
   "language": "python",
   "name": "python3"
  },
  "language_info": {
   "codemirror_mode": {
    "name": "ipython",
    "version": 3
   },
   "file_extension": ".py",
   "mimetype": "text/x-python",
   "name": "python",
   "nbconvert_exporter": "python",
   "pygments_lexer": "ipython3",
   "version": "3.10.16"
  }
 },
 "nbformat": 4,
 "nbformat_minor": 2
}
