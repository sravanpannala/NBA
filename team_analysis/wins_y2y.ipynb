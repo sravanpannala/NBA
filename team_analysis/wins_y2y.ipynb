{
 "cells": [
  {
   "cell_type": "code",
   "execution_count": null,
   "metadata": {},
   "outputs": [],
   "source": [
    "import os, sys\n",
    "\n",
    "sys.path.append(os.path.dirname(os.path.dirname(os.path.abspath(\"__file__\"))))\n",
    "from nbafuns import *\n",
    "\n",
    "box_DIR = \"../data/box/\"\n",
    "img_DIR_T = \"../data/images/teams/\"\n",
    "fig_DIR = \"../figs/teams/\""
   ]
  },
  {
   "cell_type": "code",
   "execution_count": null,
   "metadata": {},
   "outputs": [],
   "source": [
    "seasons = np.arange(2015,2025)\n",
    "df1 = get_box(PT=\"T\",measure=\"Base\",cum=True,seasons=seasons)\n",
    "df1[\"mid\"] = np.where((df1[\"w_pct\"]>=0.45) & (df1[\"w_pct\"]<=0.55),1,0)\n",
    "# df1[\"mid\"] = np.where((df1[\"w_pct\"]>=0.475) & (df1[\"w_pct\"]<=0.525),1,0)"
   ]
  },
  {
   "cell_type": "code",
   "execution_count": null,
   "metadata": {},
   "outputs": [],
   "source": [
    "teams = df1[\"team_name\"].unique()\n",
    "teams"
   ]
  },
  {
   "cell_type": "code",
   "execution_count": null,
   "metadata": {},
   "outputs": [],
   "source": [
    "data = df1.copy()\n",
    "team = 'Philadelphia 76ers'\n",
    "data = data.query(f\"team_name == '{team}'\")\n",
    "p = (\n",
    "    ggplot(data)\n",
    "    + aes(x=\"season\",y=\"w_pct\")\n",
    "    + geom_point(size=1.5)\n",
    "    + geom_line(size=1.2)\n",
    "    # + geom_hline(yintercept=0.5)\n",
    "    + geom_hline(yintercept=0.48)\n",
    "    + geom_hline(yintercept=0.52)\n",
    "    # + geom_text(aes(label=\"w_pct\"),size=8)\n",
    "    + scale_y_continuous(labels=percent_format())\n",
    "    + scale_x_continuous(breaks=range(2016,2026,2))\n",
    "    + theme_idv\n",
    "    + theme(\n",
    "        # figure_size=(8,5)\n",
    "    )\n",
    "    + labs(\n",
    "        title=f\"{team} Win %\",\n",
    "        subtitle=\"Last 10 seasons\",\n",
    "        x=\"Season\",\n",
    "        y=\"Win %\",\n",
    "        caption=\"bsky:@sradjoker.cc | x:@sradjoker | source: nba.com/stats\"\n",
    "    )\n",
    ")\n",
    "p"
   ]
  },
  {
   "cell_type": "markdown",
   "metadata": {},
   "source": [
    "## Mid Teams"
   ]
  },
  {
   "cell_type": "code",
   "execution_count": null,
   "metadata": {},
   "outputs": [],
   "source": [
    "df2 = df1.groupby([\"team_name\"])[[\"mid\"]].sum()\n",
    "df2 = df2.reset_index().sort_values(\"mid\",ascending=False).reset_index(drop=True).reset_index()\n",
    "teams2 = df2[\"team_name\"].to_list()\n",
    "teams2.reverse()\n",
    "df_teams = pd.read_csv(\"../data/\" + \"NBA_teams_colors_logos.csv\")\n",
    "df_teams[\"team_name\"] = df_teams[\"nameTeam\"]\n",
    "df_teams = df_teams[[\"team_name\",\"colorsTeam\"]]\n",
    "df3 = pd.merge(df2,df_teams)\n",
    "df3[\"team_name\"] = pd.Categorical(df3[\"team_name\"],categories=teams2,ordered=True)"
   ]
  },
  {
   "cell_type": "code",
   "execution_count": null,
   "metadata": {},
   "outputs": [],
   "source": [
    "pnba = labs(\n",
    "    caption=\"bsky:@sradjoker.cc | x:@sradjoker | source: nba.com/stats\",\n",
    ")"
   ]
  },
  {
   "cell_type": "code",
   "execution_count": null,
   "metadata": {},
   "outputs": [],
   "source": [
    "\n",
    "p = (\n",
    "    ggplot(df3)\n",
    "    + aes(x=\"team_name\",y=\"mid\",fill=\"colorsTeam\")\n",
    "    + geom_col(alpha=0.75,show_legend=False)\n",
    "    + coord_flip()\n",
    "    + scale_color_identity(aesthetics=[\"fill\"])\n",
    "    + theme_idv\n",
    "    + labs(\n",
    "        x=\"Seasons\",\n",
    "        y=\"\",\n",
    "        title=\"Number of Mid Seasons over the past 10 years\",\n",
    "        subtitle=\"Mid: Win % between 45 and 55. Corresponds to 37-45 wins in 82 game season\",\n",
    "        # subtitle=\"Mid: Win % between 47.5 and 52.5. Corresponds to 39-43 wins in 82 game season\",\n",
    "    )\n",
    "    + pnba\n",
    "    + theme(\n",
    "        figure_size=(8,10)\n",
    "    )\n",
    ")\n",
    "p"
   ]
  },
  {
   "cell_type": "markdown",
   "metadata": {},
   "source": [
    "## Players on Mid Teams"
   ]
  },
  {
   "cell_type": "code",
   "execution_count": null,
   "metadata": {},
   "outputs": [],
   "source": [
    "seasons = np.arange(2015,2025)\n",
    "df1 = get_box(PT=\"P\",measure=\"Base\",cum=True,seasons=seasons)\n",
    "df1[\"mid\"] = np.where((df1[\"w_pct\"]>=0.45) & (df1[\"w_pct\"]<=0.55),1,0)"
   ]
  },
  {
   "cell_type": "code",
   "execution_count": null,
   "metadata": {},
   "outputs": [],
   "source": [
    "df1.columns"
   ]
  },
  {
   "cell_type": "code",
   "execution_count": null,
   "metadata": {},
   "outputs": [],
   "source": [
    "df2"
   ]
  },
  {
   "cell_type": "code",
   "execution_count": null,
   "metadata": {},
   "outputs": [],
   "source": [
    "df2 = df1.groupby([\"player_id\",\"player_name\"])[[\"mid\"]].sum()\n",
    "df2 = df2.reset_index().sort_values(\"mid\",ascending=False).reset_index(drop=True).reset_index()\n",
    "players = df2[\"player_name\"].to_list()\n",
    "players.reverse()\n",
    "df2[\"player_name\"] = pd.Categorical(df2[\"player_name\"],categories=players,ordered=True)"
   ]
  },
  {
   "cell_type": "code",
   "execution_count": null,
   "metadata": {},
   "outputs": [],
   "source": [
    "df2.head(12)"
   ]
  },
  {
   "cell_type": "code",
   "execution_count": null,
   "metadata": {},
   "outputs": [],
   "source": [
    "data = df2.head(12)\n",
    "p = (\n",
    "    ggplot(data)\n",
    "    + aes(x=\"player_name\",y=\"mid\")\n",
    "    + geom_col(alpha=0.75,show_legend=False)\n",
    "    + coord_flip()\n",
    "    + theme_idv\n",
    "    + labs(\n",
    "        x=\"\",\n",
    "        y=\"Seasons\",\n",
    "        title=\"Number of Mid Seasons over the past 10 years\",\n",
    "        subtitle=\"Mid: Win % between 45 and 55. Corresponds to 37-45 wins in 82 game season\",\n",
    "        # subtitle=\"Mid: Win % between 47.5 and 52.5. Corresponds to 39-43 wins in 82 game season\",\n",
    "    )\n",
    "    + pnba\n",
    "    + theme(\n",
    "        figure_size=(7,5)\n",
    "    )\n",
    ")\n",
    "p"
   ]
  }
 ],
 "metadata": {
  "kernelspec": {
   "display_name": "dav-ub9Z_EQq-py3.12",
   "language": "python",
   "name": "python3"
  },
  "language_info": {
   "codemirror_mode": {
    "name": "ipython",
    "version": 3
   },
   "file_extension": ".py",
   "mimetype": "text/x-python",
   "name": "python",
   "nbconvert_exporter": "python",
   "pygments_lexer": "ipython3",
   "version": "3.12.0"
  }
 },
 "nbformat": 4,
 "nbformat_minor": 2
}
