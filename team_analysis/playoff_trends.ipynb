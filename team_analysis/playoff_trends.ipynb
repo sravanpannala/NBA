{
 "cells": [
  {
   "cell_type": "code",
   "execution_count": null,
   "metadata": {},
   "outputs": [],
   "source": [
    "import os, sys\n",
    "\n",
    "sys.path.append(os.path.dirname(os.path.dirname(os.path.abspath(\"__file__\"))))\n",
    "from nbafuns import *\n",
    "from nba_api.stats.endpoints import leaguedashteamstats\n",
    "import cv2\n",
    "import matplotlib.image as image\n",
    "fig_DIR = \"../figs/team_leaders/\"\n",
    "box_DIR = \"../data/box/\"\n",
    "img_DIR_T = \"../data/images/teams/\"\n",
    "img_DIR_P = \"../data/images/players/\"\n"
   ]
  },
  {
   "cell_type": "markdown",
   "metadata": {},
   "source": [
    "## Playoff Scoring Distribution"
   ]
  },
  {
   "cell_type": "code",
   "execution_count": null,
   "metadata": {},
   "outputs": [],
   "source": [
    "dfa = []\n",
    "for year in range(2003,2023):\n",
    "    stats = leaguedashteamstats.LeagueDashTeamStats(\n",
    "            measure_type_detailed_defense=\"Scoring\",\n",
    "            season_type_all_star=\"Playoffs\",\n",
    "            season=get_ss(year)\n",
    "        )\n",
    "    df1 = stats.get_data_frames()[0]\n",
    "    df2 = df1.query(\"W_RANK  == 1\")\n",
    "    df2[\"Season\"] = year + 1\n",
    "    dfa.append(df2)\n",
    "df3 = pd.concat(dfa)\n",
    "df3 = df3.reset_index(drop=True)\n",
    "df3[\"url\"]= img_DIR_T + df3[\"TEAM_NAME\"] + \".png\"\n",
    "# df3[\"image\"]=df3[\"url\"].apply(image.imread)"
   ]
  },
  {
   "cell_type": "code",
   "execution_count": null,
   "metadata": {},
   "outputs": [],
   "source": [
    "yvar = \"PCT_AST_2PM\"\n",
    "title = \"Unassisted 2PT\"\n",
    "p = (\n",
    "    ggplot(df3,aes(x=\"Season\",y=yvar,image=\"url\"))\n",
    "    + geom_line(size=2)\n",
    "    + geom_image(size=0.06)\n",
    "    # + geom_smooth(se=False,color=\"red\",size=2)\n",
    "    # + geom_image(aes(x=\"Season\",y=yvar,image=\"url\"),size=0.06)\n",
    "    + labs(\n",
    "        title=f\"NBA Champions Percentage of Points:{title}\",\n",
    "        # subtitle=\"red line: Trend line using Local regression\",\n",
    "        caption=\"@sradjoker | source:nba.com/stats\",\n",
    "        x=\"Season\",\n",
    "        y=\"Percentage of Points\"\n",
    "    )\n",
    "    + scale_y_continuous(labels=percent_format())\n",
    "    # + scale_x_continuous(breaks=range(2013,2024,2))\n",
    "    + theme_idv\n",
    "    + theme(\n",
    "        plot_title=element_text(size=14),\n",
    "        axis_title_y=element_blank(),\n",
    "        figure_size=(5,4)\n",
    "    )\n",
    ")\n",
    "p"
   ]
  },
  {
   "cell_type": "code",
   "execution_count": null,
   "metadata": {},
   "outputs": [],
   "source": [
    "dfa = []\n",
    "for year in range(2003,2023):\n",
    "    stats = leaguedashteamstats.LeagueDashTeamStats(\n",
    "            measure_type_detailed_defense=\"Scoring\",\n",
    "            season_type_all_star=\"Playoffs\",\n",
    "            season=get_ss(year)\n",
    "        )\n",
    "    df1 = stats.get_data_frames()[0]\n",
    "    df2 = df1.query(\"W_RANK  == 1\")\n",
    "    stats = leaguedashteamstats.LeagueDashTeamStats(\n",
    "            measure_type_detailed_defense=\"Scoring\",\n",
    "            season_type_all_star=\"Regular Season\",\n",
    "            season=get_ss(year)\n",
    "        )\n",
    "    df3 = stats.get_data_frames()[0]\n",
    "    df4 = pd.merge(df2,df3,on=[\"TEAM_ID\",\"TEAM_NAME\"])\n",
    "    df4[\"Season\"] = year + 1\n",
    "    dfa.append(df4)\n",
    "df5 = pd.concat(dfa)\n",
    "df5 = df5.reset_index(drop=True)\n",
    "# df5[\"url\"]= img_DIR_T + df5[\"TEAM_NAME\"] + \".png\""
   ]
  },
  {
   "cell_type": "code",
   "execution_count": null,
   "metadata": {},
   "outputs": [],
   "source": [
    "df6 = df5[['TEAM_NAME',\"PCT_PTS_2PT_MR_x\",\"PCT_PTS_2PT_MR_y\",\"Season\",'url']]\n",
    "df6[\"url\"]= img_DIR_T + df6[\"TEAM_NAME\"] + \".png\""
   ]
  },
  {
   "cell_type": "code",
   "execution_count": null,
   "metadata": {},
   "outputs": [],
   "source": [
    "df7 = pd.melt(df6, id_vars=[\"TEAM_NAME\",\"Season\",\"url\"], value_vars=[\"PCT_PTS_2PT_MR_x\",\"PCT_PTS_2PT_MR_y\"])\n",
    "df7[\"variable\"] = df7[\"variable\"].str.replace(\"PCT_PTS_2PT_MR_x\",\"Playoffs\")\n",
    "df7[\"variable\"] = df7[\"variable\"].str.replace(\"PCT_PTS_2PT_MR_y\",\"Regular Season\")\n",
    "df7 = df7.rename(columns={\"variable\":\"Segment\"})"
   ]
  },
  {
   "cell_type": "code",
   "execution_count": null,
   "metadata": {},
   "outputs": [],
   "source": [
    "kwargs_legend = {\"alpha\":0.0}\n",
    "p = (\n",
    "    ggplot(df7,aes(x=\"Season\",y=\"value\",color=\"Segment\",image=\"url\"))\n",
    "    + geom_point(size=2)\n",
    "    # + geom_line(size=2)\n",
    "    # + geom_image(size=0.06)\n",
    "    + geom_smooth(se=False,size=2)\n",
    "    # + geom_image(aes(x=\"Season\",y=yvar,image=\"url\"),size=0.06)\n",
    "    + labs(\n",
    "        title=f\"NBA Champions Percentage of Points: Mid Range Shots\",\n",
    "        # subtitle=\"red line: Trend line using Local regression\",\n",
    "        caption=\"@sradjoker | source:nba.com/stats\",\n",
    "        x=\"Season\",\n",
    "        y=\"Percentage of Points\"\n",
    "    )\n",
    "    + scale_y_continuous(labels=percent_format())\n",
    "    + scale_color_manual(values=[\"blue\",\"red\"])\n",
    "    + scale_x_continuous(breaks=range(2004,2024,2))\n",
    "    + theme_idv\n",
    "    + theme(\n",
    "        plot_title=element_text(size=16),\n",
    "        axis_title_y=element_blank(),\n",
    "        # figure_size=(6,4)\n",
    "    )\n",
    "    + theme(\n",
    "        legend_title=element_blank(),\n",
    "        legend_position = [0.8,0.85],\n",
    "        legend_direction = \"vertical\",\n",
    "        legend_box_margin=0,\n",
    "        legend_background=element_rect(color=\"grey\", size=0.001,**kwargs_legend), # type: ignore\n",
    "        legend_box_background = element_blank(),\n",
    "        legend_text=element_text(size=12),\n",
    "    )\n",
    ")\n",
    "p"
   ]
  },
  {
   "cell_type": "markdown",
   "metadata": {},
   "source": [
    "## Playoffs vs Regular Season"
   ]
  },
  {
   "cell_type": "code",
   "execution_count": null,
   "metadata": {},
   "outputs": [],
   "source": [
    "cols1 = ['TEAM_NAME', 'GP', 'W', 'L', 'W_PCT',\n",
    "       'OFF_RATING', 'DEF_RATING', 'NET_RATING', 'EFG_PCT', 'TS_PCT', 'E_PACE', 'PACE', 'POSS',\n",
    "       \"W_RANK\", \"L_RANK\",\n",
    "       'W_PCT_RANK', 'OFF_RATING_RANK', 'DEF_RATING_RANK',\n",
    "       'NET_RATING_RANK',]"
   ]
  },
  {
   "cell_type": "code",
   "execution_count": null,
   "metadata": {},
   "outputs": [],
   "source": [
    "dfa = []\n",
    "dfb = []\n",
    "for year in range(2003,2023):\n",
    "    stats = leaguedashteamstats.LeagueDashTeamStats(\n",
    "        measure_type_detailed_defense=\"Advanced\",\n",
    "        season = get_ss(year)\n",
    "    )\n",
    "    df1 = stats.get_data_frames()[0]\n",
    "    df1 = df1.sort_values(\"W_PCT\",ascending=False).reset_index(drop=True)\n",
    "    stats = leaguedashteamstats.LeagueDashTeamStats(\n",
    "        measure_type_detailed_defense=\"Advanced\",\n",
    "        season_type_all_star=\"Playoffs\",\n",
    "        season=get_ss(year)\n",
    "    )\n",
    "    df2 = stats.get_data_frames()[0]\n",
    "    df2 = df2.sort_values(\"W\",ascending=False).reset_index(drop=True)\n",
    "    df1 = df1[cols1]\n",
    "    df2 = df2[cols1]\n",
    "    df3 = pd.merge(df2,df1,on=[\"TEAM_NAME\"])\n",
    "    df3[\"Season\"] = year + 1\n",
    "    stats = leaguegamelog.LeagueGameLog(\n",
    "        player_or_team_abbreviation=\"T\",\n",
    "        season=get_ss(year),\n",
    "        season_type_all_star=\"Playoffs\",\n",
    "    )\n",
    "    df4 = stats.get_data_frames()[0]\n",
    "    df4[\"Round_x\"] = df4[\"GAME_ID\"].str[-3]\n",
    "    df4[\"Win\"] = df4[\"WL\"] == \"W\"\n",
    "    df4[\"Loss\"] = df4[\"WL\"] == \"L\"\n",
    "    df5 = pd.merge(df3,df4,on=\"TEAM_NAME\")\n",
    "    dfa.append(df3)\n",
    "    dfb.append(df5)\n",
    "df6 = pd.concat(dfa)\n",
    "df7 = pd.concat(dfb)"
   ]
  },
  {
   "cell_type": "code",
   "execution_count": null,
   "metadata": {},
   "outputs": [],
   "source": [
    "df6.columns"
   ]
  },
  {
   "cell_type": "code",
   "execution_count": null,
   "metadata": {},
   "outputs": [],
   "source": [
    "xvar = \"OFF_RATING_y\"\n",
    "yvar = \"OFF_RATING_x\"\n",
    "\n",
    "r2 = (df6[xvar].corr(df6[yvar]))**2\n",
    "p = (\n",
    "    ggplot(df6,aes(x=xvar,y=yvar))\n",
    "    + geom_point(color=\"red\")\n",
    "    # + geom_smooth(method=\"lm\",color=\"red\",size=2)\n",
    "    + geom_abline(intercept = 0, slope = 1, color = \"black\",size = 2,linetype=\"--\")\n",
    "    + labs(\n",
    "        title=\"Regular Season vs Playoffs: Offensive Rating\",\n",
    "        subtitle=\"Last 20 Seasons: From 2004-2023 | Each Dot is a Playoff Team\\nTeams above black line have better playoff offenses\",\n",
    "        caption=\"@sradjoker | source:nba.com/stats\",\n",
    "        x=\"Regular Season\",\n",
    "        y=\"Playoffs\"\n",
    "    )\n",
    "    + annotate('label', x=102, y=120, label=f'r^2={r2:0.3f}', size=14)\n",
    "    + theme_idv\n",
    "    + theme(\n",
    "        figure_size=(5*1.1,4*1.1)\n",
    "    )\n",
    ")\n",
    "p"
   ]
  },
  {
   "cell_type": "code",
   "execution_count": null,
   "metadata": {},
   "outputs": [],
   "source": [
    "xvar = \"OFF_RATING_y\"\n",
    "yvar = \"OFF_RATING_x\"\n",
    "fig = px.scatter(df6, x=xvar, y=yvar,width=800, height=600, hover_name=\"TEAM_NAME\",hover_data=[\"Season\"],color_discrete_sequence =[\"red\"])\n",
    "# fig_line = px.line(df, x = \"RAPM\", y = \"RAPM\",color_discrete_sequence=[\"black\"])\n",
    "# fig = go.Figure(data = fig_10.data + fig_line.data)\n",
    "fig.update_layout( width=800, height=600, showlegend=True)\n",
    "fig.update_layout( title=dict(\n",
    "                        text=\"Regular Season vs Playoffs: Offensive Rating\",\n",
    "                        xanchor=\"auto\",\n",
    "                        yanchor=\"middle\",\n",
    "                        font=dict(family=\"Arial, Tahoma, Helvetica\", size=25, color=\"Black\")\n",
    "                    ),\n",
    "            )\n",
    "fig.update_xaxes(title_text=xvar)\n",
    "fig.update_yaxes(title_text=yvar)\n",
    "fig.update_layout(legend=dict(\n",
    "    yanchor=\"top\",\n",
    "    y=0.99,\n",
    "    xanchor=\"left\",\n",
    "    x=0.01\n",
    "))\n",
    "fig.show()"
   ]
  },
  {
   "cell_type": "code",
   "execution_count": null,
   "metadata": {},
   "outputs": [],
   "source": [
    "yvar1 = \"OFF_RATING_y\"\n",
    "yvar2 = \"OFF_RATING_x\"\n",
    "kwargs_legend = {\"alpha\":0.0}\n",
    "p = (\n",
    "    ggplot(df6)\n",
    "    + geom_smooth(aes(x=\"Season\",y=yvar1,color=\"'blue'\"),size=2)\n",
    "    + geom_smooth(aes(x=\"Season\",y=yvar2,color=\"'red'\"),size=2)\n",
    "    + scale_color_identity(guide='legend', labels=['Regular Season','Playoffs'])\n",
    "    + labs(\n",
    "        title=\"Regular Season vs Playoffs: Offensive Rating\",\n",
    "        # subtitle=\"Last 20 Seasons: From 2004-2023 | Each Dot is a Playoff Team\\nTeams above black line have better playoff offenses\",\n",
    "        # caption=\"@sradjoker | source:nba.com/stats\",\n",
    "        x=\"Season\",\n",
    "        y=\"Offensive Rating\"\n",
    "    )\n",
    "    + theme_idv\n",
    "    + theme(\n",
    "        figure_size=(5*1.1,4*1.1),\n",
    "    )\n",
    "    + theme(\n",
    "        legend_title=element_blank(),\n",
    "        legend_position = [0.3,0.85],\n",
    "        legend_direction = \"vertical\",\n",
    "        legend_box_margin=0,\n",
    "        legend_background=element_rect(color=\"grey\", size=0.001,**kwargs_legend), # type: ignore\n",
    "        legend_box_background = element_blank(),\n",
    "    )\n",
    ")\n",
    "p"
   ]
  },
  {
   "cell_type": "code",
   "execution_count": null,
   "metadata": {},
   "outputs": [],
   "source": [
    "# df5 = df4.groupby([\"TEAM_NAME\",\"Round\"])[[\"Win\",\"Loss\"]].sum().reset_index()\n",
    "# df6 = df5.groupby([\"TEAM_NAME\"])[[\"Round\"]].count().reset_index()"
   ]
  },
  {
   "cell_type": "markdown",
   "metadata": {},
   "source": [
    "## Player Regular Season vs Playoffs"
   ]
  },
  {
   "cell_type": "code",
   "execution_count": null,
   "metadata": {},
   "outputs": [],
   "source": [
    "from nba_api.stats.endpoints import leaguedashplayerstats"
   ]
  },
  {
   "cell_type": "code",
   "execution_count": null,
   "metadata": {},
   "outputs": [],
   "source": [
    "dfa = []\n",
    "for year in range(2003,2023):\n",
    "    stats = leaguedashplayerstats.LeagueDashPlayerStats(\n",
    "        measure_type_detailed_defense=\"Base\",\n",
    "        per_mode_detailed=\"PerGame\",\n",
    "        season_type_all_star=\"Regular Season\",\n",
    "        season=get_ss(year),\n",
    "    )\n",
    "    df1 = stats.get_data_frames()[0]\n",
    "    stats = leaguedashplayerstats.LeagueDashPlayerStats(\n",
    "        measure_type_detailed_defense=\"Base\",\n",
    "        per_mode_detailed=\"PerGame\",\n",
    "        season_type_all_star=\"Playoffs\",\n",
    "        season=get_ss(year),\n",
    "    )\n",
    "    df2 = stats.get_data_frames()[0]\n",
    "    df3 = pd.merge(df2,df1,on=[\"PLAYER_ID\",\"PLAYER_NAME\"])\n",
    "    df4 = df3.query(\"GP_x > 3 & GP_y > 3 & MIN_x >= 15 & MIN_y >= 15\")\n",
    "    df4[\"Season\"] = year + 1\n",
    "    dfa.append(df4)\n",
    "df5 = pd.concat(dfa)\n",
    "df5[\"image\"] = img_DIR_P + df5[\"PLAYER_ID\"].astype(str) + \".png\""
   ]
  },
  {
   "cell_type": "code",
   "execution_count": null,
   "metadata": {},
   "outputs": [],
   "source": [
    "df6 = df5.query(\"PTS_y >= 25 & Season > 2012\")\n",
    "len(df6)"
   ]
  },
  {
   "cell_type": "code",
   "execution_count": null,
   "metadata": {},
   "outputs": [],
   "source": [
    "data = df6\n",
    "xvar = \"PTS_y\"\n",
    "yvar = \"PTS_x\"\n",
    "r2 = (data[xvar].corr(data[yvar]))**2\n",
    "adjust_text_dict = {\n",
    "    # 'expand_points': (0, 0),\n",
    "    'arrowprops': {\n",
    "        'arrowstyle': '->',\n",
    "        'color': 'red'\n",
    "    }\n",
    "}\n",
    "p = (\n",
    "    ggplot(data,aes(x=xvar,y=yvar,image=\"image\"))\n",
    "    + geom_point(color=\"blue\")\n",
    "    # + geom_image(size=0.15)\n",
    "    # + geom_smooth(method=\"lm\",color=\"red\",size=2)\n",
    "    # + geom_text(aes(y = data[yvar] -0.5,label = \"Season\"),adjust_text=adjust_text_dict,size=8)\n",
    "    + geom_text(aes(y = data[yvar],label = data[\"Season\"].astype(str) + \" \" + data[\"PLAYER_NAME\"]),adjust_text=adjust_text_dict,size=8)\n",
    "    + geom_abline(intercept = 0, slope = 1, color = \"black\",size = 2,linetype=\"--\")\n",
    "    + labs(\n",
    "        title=\"Regular Season vs Playoffs: Points\",\n",
    "        subtitle=\"Last 10 Seasons | Each Dot is a Playoff Player | Min 25 Pts Per Game\\nPlayers above black line have better playoff numbers\",\n",
    "        caption=\"@sradjoker | source:nba.com/stats\",\n",
    "        x=\"Regular Season\",\n",
    "        y=\"Playoffs\"\n",
    "    )\n",
    "    + annotate('label', x=35, y=16, label=f'r^2={r2:0.3f}', size=14)\n",
    "    + theme_xkcd(base_size=16,stroke_size=1)\n",
    "    + theme(\n",
    "        plot_title=element_text(size=24),\n",
    "        figure_size=(10,8),\n",
    "    )\n",
    ")\n",
    "p.draw()"
   ]
  },
  {
   "cell_type": "code",
   "execution_count": null,
   "metadata": {},
   "outputs": [],
   "source": [
    "xvar = \"FG3M_y\"\n",
    "yvar = \"FG3M_x\"\n",
    "fig = px.scatter(df5, x=xvar, y=yvar,width=800, height=600, hover_name=\"PLAYER_NAME\",hover_data=[\"Season\"],color_discrete_sequence =[\"red\"])\n",
    "# fig_line = px.line(df, x = \"RAPM\", y = \"RAPM\",color_discrete_sequence=[\"black\"])\n",
    "# fig = go.Figure(data = fig_10.data + fig_line.data)\n",
    "fig.update_layout( width=800, height=600, showlegend=True)\n",
    "fig.update_layout( title=dict(\n",
    "                        text=\"Regular Season vs Playoffs: Offensive Rating\",\n",
    "                        xanchor=\"auto\",\n",
    "                        yanchor=\"middle\",\n",
    "                        font=dict(family=\"Arial, Tahoma, Helvetica\", size=25, color=\"Black\")\n",
    "                    ),\n",
    "            )\n",
    "fig.update_xaxes(title_text=xvar)\n",
    "fig.update_yaxes(title_text=yvar)\n",
    "fig.update_layout(legend=dict(\n",
    "    yanchor=\"top\",\n",
    "    y=0.99,\n",
    "    xanchor=\"left\",\n",
    "    x=0.01\n",
    "))\n",
    "fig.show()"
   ]
  }
 ],
 "metadata": {
  "kernelspec": {
   "display_name": "nba-ub9Z_EQq-py3.11",
   "language": "python",
   "name": "python3"
  },
  "language_info": {
   "codemirror_mode": {
    "name": "ipython",
    "version": 3
   },
   "file_extension": ".py",
   "mimetype": "text/x-python",
   "name": "python",
   "nbconvert_exporter": "python",
   "pygments_lexer": "ipython3",
   "version": "3.11.6"
  }
 },
 "nbformat": 4,
 "nbformat_minor": 2
}
