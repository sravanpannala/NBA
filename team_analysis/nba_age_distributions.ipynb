{
 "cells": [
  {
   "cell_type": "code",
   "execution_count": null,
   "metadata": {},
   "outputs": [],
   "source": [
    "import os, sys\n",
    "\n",
    "sys.path.append(os.path.dirname(os.path.dirname(os.path.abspath(\"__file__\"))))\n",
    "from nbafuns import *\n",
    "\n",
    "pd.options.mode.chained_assignment = None\n",
    "\n",
    "box_DIR = \"../data/boxscores_player/\"\n",
    "stats_DIR = \"../data/all_in_one_metrics/\"\n",
    "\n",
    "fig_DIR = \"../figs/analysis/\""
   ]
  },
  {
   "cell_type": "code",
   "execution_count": null,
   "metadata": {},
   "outputs": [],
   "source": [
    "df = pd.read_csv(stats_DIR + \"NBA_LEBRON_FULL.csv\")"
   ]
  },
  {
   "cell_type": "code",
   "execution_count": null,
   "metadata": {},
   "outputs": [],
   "source": [
    "df[\"LEBRON_Mins\"] = df[\"Mins\"] * df[\"LEBRON\"]\n",
    "df[\"LEBRON_Wins_Mins\"] = df[\"Mins\"] * df[\"LEBRON_WinsAdded\"]"
   ]
  },
  {
   "cell_type": "code",
   "execution_count": null,
   "metadata": {},
   "outputs": [],
   "source": [
    "df.columns"
   ]
  },
  {
   "cell_type": "code",
   "execution_count": null,
   "metadata": {},
   "outputs": [],
   "source": [
    "season1 = \"2022-23\"\n",
    "df1 = df[df[\"Season\"] == season1]\n",
    "season2 = \"2021-22\"\n",
    "df2 = df[df[\"Season\"] == season2]"
   ]
  },
  {
   "cell_type": "code",
   "execution_count": null,
   "metadata": {},
   "outputs": [],
   "source": [
    "# p = (\n",
    "#     ggplot() #=\"LEBRON_WinsAdded\"\n",
    "#     # + geom_density(aes(x=\"Age\", weight = \"LEBRON_WinsAdded\" ))\n",
    "#     + geom_density(data = df1,mapping = aes(x=\"Age\", weight=\"LEBRON_Mins\", fill=\"Season\"),alpha=0.5)\n",
    "#     + geom_density(data = df2,mapping = aes(x=\"Age\", weight=\"LEBRON_Mins\", fill=\"Season\"),alpha=0.5)\n",
    "#     + scale_fill_manual(values = [\"blue\",\"red\"])\n",
    "#     + theme_idv\n",
    "#     + labs(\n",
    "#         title = f\"NBA Age Distribution {season1} vs {season2}\",\n",
    "#         subtitle = \"Weighed by Mins Played and LEBRON\",\n",
    "#         caption = \"@sradjoker | source: bball-index.com\",\n",
    "#     )\n",
    "# )\n",
    "# p.save(fig_DIR + f\"Player Age Distribution {season}.png\",dpi=300)\n",
    "# p"
   ]
  },
  {
   "cell_type": "code",
   "execution_count": null,
   "metadata": {},
   "outputs": [],
   "source": [
    "dfp = pd.read_csv(\"../data/NBA_players_database.csv\")"
   ]
  },
  {
   "cell_type": "code",
   "execution_count": null,
   "metadata": {},
   "outputs": [],
   "source": [
    "dfp.info()"
   ]
  },
  {
   "cell_type": "code",
   "execution_count": null,
   "metadata": {},
   "outputs": [],
   "source": [
    "df[\"year\"] = df[\"Season\"].apply(lambda x: x[:-3]).astype(int)"
   ]
  },
  {
   "cell_type": "code",
   "execution_count": null,
   "metadata": {},
   "outputs": [],
   "source": [
    "dfm = pd.merge(df,dfp,left_on=\"PLAYER_ID\", right_on=\"pID\")"
   ]
  },
  {
   "cell_type": "code",
   "execution_count": null,
   "metadata": {},
   "outputs": [],
   "source": [
    "dfm[\"Exp\"] = dfm[\"year\"] - dfm[\"From\"] +1"
   ]
  },
  {
   "cell_type": "code",
   "execution_count": null,
   "metadata": {},
   "outputs": [],
   "source": [
    "dfm[[\"PLAYER_NAME\",\"year\",\"From\",\"To\",\"Exp\"]]"
   ]
  },
  {
   "cell_type": "code",
   "execution_count": null,
   "metadata": {},
   "outputs": [],
   "source": [
    "dfm.query(\"Exp>1 & Age == 23 \")"
   ]
  },
  {
   "cell_type": "code",
   "execution_count": null,
   "metadata": {},
   "outputs": [],
   "source": [
    "df1 = dfm.query(\"Exp>2 & Age == 23 \")\n",
    "df2 = dfm.query(\"Exp==1 & Age > 22 \")"
   ]
  },
  {
   "cell_type": "code",
   "execution_count": null,
   "metadata": {},
   "outputs": [],
   "source": [
    "len(df2)"
   ]
  },
  {
   "cell_type": "code",
   "execution_count": null,
   "metadata": {},
   "outputs": [],
   "source": [
    "# fig, ax = plt.subplots(1,1)\n",
    "# sns.scatterplot(dfm,x=\"Age\",y=\"Exp\")\n",
    "# plt.show();"
   ]
  },
  {
   "cell_type": "code",
   "execution_count": null,
   "metadata": {},
   "outputs": [],
   "source": [
    "p = (\n",
    "    ggplot() #=\"LEBRON_WinsAdded\"\n",
    "    # + geom_density(aes(x=\"Age\", weight = \"LEBRON_WinsAdded\" ))\n",
    "    + geom_density(data = df1,mapping = aes(x=\"LEBRON\"),alpha=0.5, fill=\"red\")\n",
    "    + geom_density(data = df2,mapping = aes(x=\"LEBRON\"),alpha=0.5, fill=\"blue\")\n",
    "    # + geom_point(data = df2,mapping = aes(x=\"Age\", weight=\"LEBRON_Mins\", fill=\"Season\"),alpha=0.5)\n",
    "    # + scale_fill_manual(values = [\"blue\",\"red\"])\n",
    "    + theme_idv\n",
    "    + labs(\n",
    "        title = f\"NBA LEBRON Distribution Young Players vs Old Rookies\",\n",
    "        subtitle = \"blue: Young Players: Exp>2 and Age 23 | red: Exp = 1 and Age 23 or more\",\n",
    "        caption = \"@sradjoker | source: bball-index.com\",\n",
    "    )\n",
    ")\n",
    "p.save(fig_DIR + f\"Player Age Distribution young vs old.png\",dpi=300)\n",
    "p"
   ]
  },
  {
   "cell_type": "code",
   "execution_count": null,
   "metadata": {},
   "outputs": [],
   "source": [
    "dfa = dfm.query(\"Exp == 1\").groupby(\"Age\")"
   ]
  },
  {
   "cell_type": "code",
   "execution_count": null,
   "metadata": {},
   "outputs": [],
   "source": [
    "dfb = []\n",
    "keys =  list(dfa.groups)\n",
    "for key in keys:\n",
    "    lid = dfa.get_group(key)[\"PLAYER_ID\"].unique()\n",
    "    dfk = dfm[dfm[\"PLAYER_ID\"].isin(lid)]\n",
    "    dfke = dfk.groupby(\"Exp\")\n",
    "    ke = list(dfke.groups)\n",
    "    for k in ke:\n",
    "        sums = dfke.get_group(k)[[\"Mins\",\"LEBRON_Wins_Mins\"]].sum()\n",
    "        lavg = sums.iloc[1]/sums.iloc[0]\n",
    "        dfkk = pd.DataFrame({\"S1_Age\": key,\"Exp\":k,\"aLEBRON\":lavg},index = [0])\n",
    "        dfb.append(dfkk)"
   ]
  },
  {
   "cell_type": "code",
   "execution_count": null,
   "metadata": {},
   "outputs": [],
   "source": [
    "dfc = pd.concat(dfb)\n",
    "dfd = dfc[(dfc[\"S1_Age\"] <25) & (dfc[\"Exp\"] <7) ]"
   ]
  },
  {
   "cell_type": "code",
   "execution_count": null,
   "metadata": {},
   "outputs": [],
   "source": [
    "dfd[\"S1_Age\"] = dfd[\"S1_Age\"].astype(\"category\")"
   ]
  },
  {
   "cell_type": "code",
   "execution_count": null,
   "metadata": {},
   "outputs": [],
   "source": []
  },
  {
   "cell_type": "code",
   "execution_count": null,
   "metadata": {},
   "outputs": [],
   "source": [
    "p = (\n",
    "    ggplot(data = dfd) #=\"LEBRON_WinsAdded\"\n",
    "    + geom_point(aes(x=\"Exp\",y=\"aLEBRON\",group=\"S1_Age\",color=\"S1_Age\"))\n",
    "    + geom_line(aes(x=\"Exp\",y=\"aLEBRON\",group=\"S1_Age\",color=\"S1_Age\"),size=2)\n",
    "    + scale_color_manual([\"red\",\"green\",\"blue\",\"black\",\"cyan\",\"orange\"], name =\"1st Season Age\")\n",
    "    + theme_idv\n",
    "    + labs(\n",
    "        title = f\"avg LEBRON vs Exp for Draft Age Groups\",\n",
    "        subtitle = \"LEBRON averaged by minutes played\",\n",
    "        caption = \"@sradjoker | source: bball-index.com\",\n",
    "    )\n",
    ")\n",
    "# p.save(fig_DIR + f\"LEBRON vs Exp.png\",dpi=300)\n",
    "p"
   ]
  }
 ],
 "metadata": {
  "kernelspec": {
   "display_name": "nba-ub9Z_EQq-py3.11",
   "language": "python",
   "name": "python3"
  },
  "language_info": {
   "codemirror_mode": {
    "name": "ipython",
    "version": 3
   },
   "file_extension": ".py",
   "mimetype": "text/x-python",
   "name": "python",
   "nbconvert_exporter": "python",
   "pygments_lexer": "ipython3",
   "version": "3.11.6"
  }
 },
 "nbformat": 4,
 "nbformat_minor": 2
}
