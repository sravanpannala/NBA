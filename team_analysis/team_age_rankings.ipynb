{
 "cells": [
  {
   "cell_type": "code",
   "execution_count": null,
   "metadata": {},
   "outputs": [],
   "source": [
    "import os, sys\n",
    "\n",
    "sys.path.append(os.path.dirname(os.path.dirname(os.path.abspath(\"__file__\"))))\n",
    "from nbafuns import *\n",
    "\n",
    "fig_DIR = \"../figs/teams/\"\n",
    "box_DIR = \"../data/box/\""
   ]
  },
  {
   "cell_type": "code",
   "execution_count": null,
   "metadata": {},
   "outputs": [],
   "source": [
    "year = 2024\n",
    "df1 = pd.read_parquet(box_DIR + f\"NBA_Box_P_Cum_Adv_{year}.parquet\")"
   ]
  },
  {
   "cell_type": "code",
   "execution_count": null,
   "metadata": {},
   "outputs": [],
   "source": [
    "df2 = df1[['PLAYER_ID', 'PLAYER_NAME', 'TEAM_ID', 'TEAM_ABBREVIATION',\n",
    "       'AGE','GP' ,'MIN', 'USG_PCT', ]]\n",
    "df2 = df2.query(\"MIN > 10 & GP > 10\").reset_index(drop=True)\n",
    "df2"
   ]
  },
  {
   "cell_type": "code",
   "execution_count": null,
   "metadata": {},
   "outputs": [],
   "source": [
    "p = (\n",
    "    ggplot(df2) #=\"LEBRON_WinsAdded\"\n",
    "    + aes(x=\"MIN\")\n",
    "    # + geom_density()\n",
    "    + geom_violin(stat=\"density\",draw_quantiles=[0.5,0.75,0.9], alpha=0.5, show_legend=False, size=1)\n",
    "    # + geom_density(aes(x=\"USG_PCT\", weight = \"LEBRON_WinsAdded\" ))\n",
    "    # + geom_point(data = df2,mapping = aes(x=\"Age\", weight=\"LEBRON_Mins\", fill=\"Season\"),alpha=0.5)\n",
    "    # + scale_fill_manual(values = [\"blue\",\"red\"])\n",
    "    # + scale_y_continuous(labels=percent_format(),breaks=np.arange(0,0.45,0.05))\n",
    "    # + coord_flip(xlim=[0,0.5])\n",
    "    + theme_idv\n",
    "    + labs(\n",
    "        title = f\"NBA Usage% Distribution\",\n",
    "        subtitle = \"Minimum 10 Minutes per Game\",\n",
    "        caption = \"bsky:@sradjoker.cc | x:@sradjoker | source: nba.com/stats\",\n",
    "    )\n",
    ")\n",
    "# p.save(fig_DIR + f\"Player Age Distribution young vs old.png\",dpi=300)\n",
    "p"
   ]
  }
 ],
 "metadata": {
  "kernelspec": {
   "display_name": "nba-ub9Z_EQq-py3.11",
   "language": "python",
   "name": "python3"
  },
  "language_info": {
   "codemirror_mode": {
    "name": "ipython",
    "version": 3
   },
   "file_extension": ".py",
   "mimetype": "text/x-python",
   "name": "python",
   "nbconvert_exporter": "python",
   "pygments_lexer": "ipython3",
   "version": "3.11.6"
  }
 },
 "nbformat": 4,
 "nbformat_minor": 2
}
