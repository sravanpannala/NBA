{
 "cells": [
  {
   "cell_type": "code",
   "execution_count": null,
   "metadata": {},
   "outputs": [],
   "source": [
    "import os, sys\n",
    "\n",
    "sys.path.append(os.path.dirname(os.path.dirname(os.path.abspath(\"__file__\"))))\n",
    "from nbafuns import *\n",
    "\n",
    "fig_DIR = \"../figs/team_leaders/\"\n",
    "data_DIR = \"../data/misc/\""
   ]
  },
  {
   "cell_type": "code",
   "execution_count": null,
   "metadata": {},
   "outputs": [],
   "source": [
    "from nba_api.stats.endpoints import leaguedashteamstats, leaguedashplayerstats\n"
   ]
  },
  {
   "cell_type": "code",
   "execution_count": null,
   "metadata": {},
   "outputs": [],
   "source": []
  },
  {
   "cell_type": "code",
   "execution_count": null,
   "metadata": {},
   "outputs": [],
   "source": [
    "stats = leaguedashteamstats.LeagueDashTeamStats(\n",
    "    measure_type_detailed_defense=\"Base\",\n",
    "    per_mode_detailed=\"PerGame\",\n",
    "    date_to_nullable=\"01-31-2024\"\n",
    ")\n",
    "df1 = stats.get_data_frames()[0]\n",
    "df1 = df1[[\"TEAM_NAME\",\"FTA\"]]\n",
    "stats = leaguedashteamstats.LeagueDashTeamStats(\n",
    "    measure_type_detailed_defense=\"Base\",\n",
    "    per_mode_detailed=\"PerGame\",\n",
    "    date_from_nullable=\"02-01-2024\"\n",
    ")\n",
    "df2 = stats.get_data_frames()[0]\n",
    "df2 = df2[[\"TEAM_NAME\",\"FTA\"]]"
   ]
  },
  {
   "cell_type": "code",
   "execution_count": null,
   "metadata": {},
   "outputs": [],
   "source": [
    "df3 = pd.merge(df1,df2,on=\"TEAM_NAME\",suffixes=[\" before\",\" after\"])\n",
    "df3 = df3.rename(columns={\"TEAM_NAME\":\"Team\"})\n",
    "df3[\"Diff\"] = df3[\"FTA after\"]-df3[\"FTA before\"]\n",
    "df3 = df3.sort_values(\"Diff\",ascending=True).reset_index(drop=True)"
   ]
  },
  {
   "cell_type": "code",
   "execution_count": null,
   "metadata": {},
   "outputs": [],
   "source": [
    "%reload_ext rpy2.ipython"
   ]
  },
  {
   "cell_type": "code",
   "execution_count": null,
   "metadata": {},
   "outputs": [],
   "source": [
    "%%R -i df3\n",
    "df <- df3\n",
    "library(tidyverse)\n",
    "library(gt)\n",
    "library(gtExtras)\n",
    "df %>% \n",
    "  gt()%>%\n",
    "  tab_header(\n",
    "    title = md(\"**Free Throw Attempts Change after Jan 31, 2024**\"),\n",
    "    ) %>%\n",
    "    gt_plt_bar(column = Diff, keep_column = TRUE, color = \"red\") %>%\n",
    "    data_color(columns = c(\"FTA before\",\"FTA after\"), palette = \"PiYG\") %>%\n",
    "    tab_options(\n",
    "        table.background.color = \"floralwhite\",\n",
    "        column_labels.font.size = 12,\n",
    "        column_labels.font.weight = 'bold',\n",
    "        row_group.font.weight = 'bold',\n",
    "        row_group.background.color = \"#E5E1D8\",\n",
    "        table.font.size = 10,\n",
    "        heading.title.font.size = 16,\n",
    "        heading.subtitle.font.size = 12.5,\n",
    "        table.font.names = \"Consolas\", \n",
    "        data_row.padding = px(2),\n",
    "        table.margin.left = 1,\n",
    "        table.margin.right = 1,\n",
    "    ) %>% \n",
    "    tab_source_note(\n",
    "    source_note = \"@sradjoker | Source: nba.com/stats\" ) %>% gtsave(\"../figs/team_leaders/ft_diff.png\",size=5) "
   ]
  },
  {
   "cell_type": "code",
   "execution_count": null,
   "metadata": {},
   "outputs": [],
   "source": [
    "stats = leaguedashplayerstats.LeagueDashPlayerStats(\n",
    "    measure_type_detailed_defense=\"Base\",\n",
    "    per_mode_detailed=\"PerGame\",\n",
    "    date_to_nullable=\"01-31-2024\"\n",
    ")\n",
    "df1 = stats.get_data_frames()[0]\n",
    "df1 = df1[df1[\"GP\"]>5]\n",
    "df1 = df1[[\"PLAYER_NAME\",\"FTA\"]]\n",
    "stats = leaguedashplayerstats.LeagueDashPlayerStats(\n",
    "    measure_type_detailed_defense=\"Base\",\n",
    "    per_mode_detailed=\"PerGame\",\n",
    "    date_from_nullable=\"02-01-2024\"\n",
    ")\n",
    "df2 = stats.get_data_frames()[0]\n",
    "df2 = df2[df2[\"GP\"]>5]\n",
    "df2 = df2[[\"PLAYER_NAME\",\"FTA\"]]"
   ]
  },
  {
   "cell_type": "code",
   "execution_count": null,
   "metadata": {},
   "outputs": [],
   "source": [
    "df3 = pd.merge(df1,df2,on=[\"PLAYER_NAME\"],suffixes=[\" before\",\" after\"])\n",
    "df3 = df3.rename(columns={\"PLAYER_NAME\":\"Player\"})\n",
    "df3[\"Diff\"] = df3[\"FTA after\"]-df3[\"FTA before\"]\n",
    "df3 = df3.sort_values(\"Diff\",ascending=True).reset_index(drop=True)"
   ]
  },
  {
   "cell_type": "code",
   "execution_count": null,
   "metadata": {},
   "outputs": [],
   "source": [
    "df4 = df3.nsmallest(20,\"Diff\")\n",
    "df4 = df4.reset_index(drop=True).reset_index()\n",
    "df4[\"index\"] +=1"
   ]
  },
  {
   "cell_type": "code",
   "execution_count": null,
   "metadata": {},
   "outputs": [],
   "source": [
    "%%R -i df4\n",
    "df <- df4\n",
    "library(tidyverse)\n",
    "library(gt)\n",
    "library(gtExtras)\n",
    "df %>% \n",
    "  gt()%>%\n",
    "  tab_header(\n",
    "    title = md(\"**Free Throw Attempts Change after Jan 31, 2024**\"),\n",
    "    subtitle = md(\"Min 5 games played before and after\"),\n",
    "    ) %>%\n",
    "    gt_plt_bar(column = Diff, keep_column = TRUE, color = \"red\") %>%\n",
    "    data_color(columns = c(\"FTA before\",\"FTA after\"), palette = \"PiYG\") %>%\n",
    "    cols_label(\n",
    "      index = \"#\"\n",
    "    ) %>%\n",
    "    tab_options(\n",
    "        table.background.color = \"floralwhite\",\n",
    "        column_labels.font.size = 12,\n",
    "        column_labels.font.weight = 'bold',\n",
    "        row_group.font.weight = 'bold',\n",
    "        row_group.background.color = \"#E5E1D8\",\n",
    "        table.font.size = 10,\n",
    "        heading.title.font.size = 16,\n",
    "        heading.subtitle.font.size = 12.5,\n",
    "        table.font.names = \"Consolas\", \n",
    "        data_row.padding = px(2),\n",
    "        table.margin.left = 1,\n",
    "        table.margin.right = 1,\n",
    "    ) %>% \n",
    "    tab_source_note(\n",
    "    source_note = \"@sradjoker | Source: nba.com/stats\" ) %>% gtsave(\"../figs/team_leaders/ft_diff_player.png\",size=5) "
   ]
  },
  {
   "cell_type": "code",
   "execution_count": null,
   "metadata": {},
   "outputs": [],
   "source": [
    "dfadfsd"
   ]
  },
  {
   "cell_type": "code",
   "execution_count": null,
   "metadata": {},
   "outputs": [],
   "source": [
    "# df1 = pd.read_csv(data_DIR + \"pbpstats_fouls_1.csv\")\n",
    "# df2 = pd.read_csv(data_DIR + \"pbpstats_fouls_2.csv\")\n",
    "df1 = pd.read_csv(data_DIR + \"pbpstats_fta_1.csv\")\n",
    "df2 = pd.read_csv(data_DIR + \"pbpstats_fta_2.csv\")"
   ]
  },
  {
   "cell_type": "code",
   "execution_count": null,
   "metadata": {},
   "outputs": [],
   "source": [
    "df2[\"GamesPlayed\"].sum()"
   ]
  },
  {
   "cell_type": "code",
   "execution_count": null,
   "metadata": {},
   "outputs": [],
   "source": [
    "cols = df1.columns\n",
    "for col in cols[2:]:\n",
    "    df1[col] = df1[col]/df1[\"GamesPlayed\"]\n",
    "    df2[col] = df2[col]/df2[\"GamesPlayed\"]"
   ]
  },
  {
   "cell_type": "code",
   "execution_count": null,
   "metadata": {},
   "outputs": [],
   "source": [
    "df1[\"Name\"] = 0\n",
    "df2[\"Name\"] = 0\n",
    "df3 = pd.DataFrame(df1.mean())\n",
    "df3 = df3.reset_index()\n",
    "df4 = pd.DataFrame(df2.mean())\n",
    "df4 = df4.reset_index()"
   ]
  },
  {
   "cell_type": "code",
   "execution_count": null,
   "metadata": {},
   "outputs": [],
   "source": [
    "df5 = pd.merge(df3,df4,on=\"index\")\n",
    "df5 = df5.iloc[2:]\n",
    "df5 = df5.reset_index(drop=True)"
   ]
  },
  {
   "cell_type": "code",
   "execution_count": null,
   "metadata": {},
   "outputs": [],
   "source": [
    "df5.columns = [\"Foul Type\",\"Before\",\"After\"]"
   ]
  },
  {
   "cell_type": "code",
   "execution_count": null,
   "metadata": {},
   "outputs": [],
   "source": [
    "df5[\"Before\"] = df5[\"Before\"].round(2)\n",
    "df5[\"After\"] = df5[\"After\"].round(2)"
   ]
  },
  {
   "cell_type": "code",
   "execution_count": null,
   "metadata": {},
   "outputs": [],
   "source": [
    "df5"
   ]
  },
  {
   "cell_type": "code",
   "execution_count": null,
   "metadata": {},
   "outputs": [],
   "source": [
    "# df6 = df5.drop(8,axis=0)\n",
    "# df6 = df6.drop(9,axis=0)\n",
    "df6 = df5.iloc[:7]"
   ]
  },
  {
   "cell_type": "code",
   "execution_count": null,
   "metadata": {},
   "outputs": [],
   "source": [
    "df6[\"Decrease\"] = -(df6[\"After\"]-df6[\"Before\"])/df6[\"Before\"]*100"
   ]
  },
  {
   "cell_type": "code",
   "execution_count": null,
   "metadata": {},
   "outputs": [],
   "source": [
    "df6[\"Decrease\"] = df6[\"Decrease\"].round(1)"
   ]
  },
  {
   "cell_type": "code",
   "execution_count": null,
   "metadata": {},
   "outputs": [],
   "source": [
    "%%R -i df6\n",
    "df <- df6\n",
    "library(tidyverse)\n",
    "library(gt)\n",
    "library(gtExtras)\n",
    "df %>% \n",
    "  gt()%>%\n",
    "  tab_header(\n",
    "    title = md(\"**FTA Change after Jan 31, 2024**\"),\n",
    "    subtitle = \"Change in various FTA types\"\n",
    "    ) %>%\n",
    "    # data_color(columns = c(Decrease), palette = \"PiYG\",reverse=TRUE) %>%\n",
    "    gt_plt_bar(column = Decrease, keep_column = TRUE, color = \"red\") %>%\n",
    "    cols_label(\n",
    "      Decrease = \"Decrease [%]\"\n",
    "    ) %>%\n",
    "    tab_options(\n",
    "        table.background.color = \"floralwhite\",\n",
    "        column_labels.font.size = 12,\n",
    "        column_labels.font.weight = 'bold',\n",
    "        row_group.font.weight = 'bold',\n",
    "        row_group.background.color = \"#E5E1D8\",\n",
    "        table.font.size = 10,\n",
    "        heading.title.font.size = 16,\n",
    "        heading.subtitle.font.size = 12.5,\n",
    "        table.font.names = \"Consolas\", \n",
    "        data_row.padding = px(2),\n",
    "        table.margin.left = 1,\n",
    "        table.margin.right = 1,\n",
    "    ) %>% \n",
    "    tab_source_note(\n",
    "    source_note = \"@sradjoker | Source: pbpstats.com\" ) %>% gtsave(\"../figs/team_leaders/fta_diff_league.png\",size=5) "
   ]
  },
  {
   "cell_type": "code",
   "execution_count": null,
   "metadata": {},
   "outputs": [],
   "source": [
    "asda"
   ]
  },
  {
   "cell_type": "code",
   "execution_count": null,
   "metadata": {},
   "outputs": [],
   "source": [
    "data_DIR1 = \"../data/injuries/\""
   ]
  },
  {
   "cell_type": "code",
   "execution_count": null,
   "metadata": {},
   "outputs": [],
   "source": [
    "year = 2023\n",
    "dfinj = pd.read_parquet(data_DIR1 + f'NBA_prosptran_injuries_only_{year}.parquet')"
   ]
  },
  {
   "cell_type": "code",
   "execution_count": null,
   "metadata": {},
   "outputs": [],
   "source": [
    "df1 = dfinj[dfinj[\"Date\"]> \"2023-10-24\"]\n",
    "df1 = df1[df1[\"Out\"]]"
   ]
  },
  {
   "cell_type": "code",
   "execution_count": null,
   "metadata": {},
   "outputs": [],
   "source": [
    "df2 = df1[df1[\"Date\"] < \"2024-02-01\"]\n",
    "df3 = df1[df1[\"Date\"] > \"2024-01-31\"]"
   ]
  },
  {
   "cell_type": "code",
   "execution_count": null,
   "metadata": {},
   "outputs": [],
   "source": [
    "len(df2)"
   ]
  },
  {
   "cell_type": "code",
   "execution_count": null,
   "metadata": {},
   "outputs": [],
   "source": [
    "len(df2)/1422"
   ]
  },
  {
   "cell_type": "code",
   "execution_count": null,
   "metadata": {},
   "outputs": [],
   "source": [
    "len(df3)"
   ]
  },
  {
   "cell_type": "code",
   "execution_count": null,
   "metadata": {},
   "outputs": [],
   "source": [
    "len(df3)/506"
   ]
  },
  {
   "cell_type": "code",
   "execution_count": null,
   "metadata": {},
   "outputs": [],
   "source": []
  },
  {
   "cell_type": "markdown",
   "metadata": {},
   "source": [
    "# FTA Year to Year Trends"
   ]
  },
  {
   "cell_type": "code",
   "execution_count": null,
   "metadata": {},
   "outputs": [],
   "source": [
    "from nba_api.stats.endpoints import leaguedashteamstats"
   ]
  },
  {
   "cell_type": "code",
   "execution_count": null,
   "metadata": {},
   "outputs": [],
   "source": [
    "dfa = []\n",
    "for year in tqdm(range(1996,2024)):\n",
    "    season = str(year) + \"-\" + str(year + 1)[-2:]\n",
    "    stats = leaguedashteamstats.LeagueDashTeamStats(per_mode_detailed=\"PerGame\", season_type_all_star=\"Regular Season\", season = season)\n",
    "    df = stats.get_data_frames()[0]\n",
    "    df = df[['FGM', 'FGA',\n",
    "           'FG_PCT', 'FG3M', 'FG3A', 'FG3_PCT', 'FTM', 'FTA', 'FT_PCT', 'OREB',\n",
    "           'DREB', 'REB', 'AST', 'TOV', 'STL', 'BLK', 'BLKA', 'PF', 'PFD', 'PTS',\n",
    "           'PLUS_MINUS',]]\n",
    "    dfm = pd.DataFrame(df.mean()).T\n",
    "    dfm[\"season\"]=year+1\n",
    "    dfa.append(dfm)\n",
    "    time.sleep(1)"
   ]
  },
  {
   "cell_type": "code",
   "execution_count": null,
   "metadata": {},
   "outputs": [],
   "source": [
    "df.columns"
   ]
  },
  {
   "cell_type": "code",
   "execution_count": null,
   "metadata": {},
   "outputs": [],
   "source": []
  },
  {
   "cell_type": "code",
   "execution_count": null,
   "metadata": {},
   "outputs": [],
   "source": [
    "dft = pd.concat(dfa)\n",
    "dft.head()"
   ]
  },
  {
   "cell_type": "code",
   "execution_count": null,
   "metadata": {},
   "outputs": [],
   "source": [
    "dft[\"FG2A\"] = dft[\"FGA\"] - dft[\"FG3A\"]\n",
    "dft[\"FG2M\"] = dft[\"FGM\"] - dft[\"FG3M\"]\n",
    "dft[\"FTA_FG2A\"] = dft[\"FTA\"]/dft[\"FG2A\"]"
   ]
  },
  {
   "cell_type": "code",
   "execution_count": null,
   "metadata": {},
   "outputs": [],
   "source": [
    "dft[\"PT2_PCT\"] = (dft[\"FG2M\"]*2)/dft[\"PTS\"]\n",
    "dft[\"PT3_PCT\"] = (dft[\"FG3M\"]*3)/dft[\"PTS\"]\n",
    "dft[\"PTF_PCT\"] = (dft[\"FTM\"]*1)/dft[\"PTS\"]"
   ]
  },
  {
   "cell_type": "code",
   "execution_count": null,
   "metadata": {},
   "outputs": [],
   "source": [
    "p = (\n",
    "    ggplot(dft)\n",
    "    + aes(x=\"season\", y= \"FTA\")\n",
    "    + geom_line(group=1)\n",
    "    + geom_point()\n",
    "    + scale_x_continuous(breaks=range(1997,2024,5))\n",
    "    + theme_idv\n",
    "    + labs(\n",
    "            title= \"FTA per Game 1996-2024\",\n",
    "            caption=\"@sradjoker | source:nba.com/stats\",\n",
    "        )\n",
    ")\n",
    "p.save(fig_DIR + \"FTA_seasons.png\", width=5, height=4, dpi=300)\n",
    "p.draw()"
   ]
  },
  {
   "cell_type": "code",
   "execution_count": null,
   "metadata": {},
   "outputs": [],
   "source": [
    "p = (\n",
    "    ggplot(dft)\n",
    "    + aes(x=\"season\", y= \"PTS\")\n",
    "    + geom_line(group=1)\n",
    "    + geom_point()\n",
    "    + scale_x_continuous(breaks=range(1997,2024,5))\n",
    "    + theme_idv\n",
    "    + labs(\n",
    "            title= \"Points Scored per Game 1996-2024\",\n",
    "            caption=\"@sradjoker | source:nba.com/stats\",\n",
    "        )\n",
    ")\n",
    "p.save(fig_DIR + \"PTS_seasons.png\", width=5, height=4, dpi=300)\n",
    "p.draw()"
   ]
  },
  {
   "cell_type": "code",
   "execution_count": null,
   "metadata": {},
   "outputs": [],
   "source": [
    "p = (\n",
    "    ggplot(dft)\n",
    "    + aes(x=\"season\", y= \"FTA_FG2A\")\n",
    "    + geom_line(group=1)\n",
    "    + geom_point()\n",
    "    + scale_x_continuous(breaks=range(1997,2024,5))\n",
    "    + theme_idv\n",
    "    + labs(\n",
    "            title= \"FTA/FG2A per Game 1996-2024\",\n",
    "            caption=\"@sradjoker | source:nba.com/stats\",\n",
    "            y=\"FTA/FG2A\"\n",
    "        )\n",
    ")\n",
    "p.save(fig_DIR + \"FTA_FG2A_seasons.png\", width=5, height=4, dpi=300)\n",
    "p.draw()"
   ]
  },
  {
   "cell_type": "code",
   "execution_count": null,
   "metadata": {},
   "outputs": [],
   "source": [
    "from mizani.formatters import percent_format"
   ]
  },
  {
   "cell_type": "code",
   "execution_count": null,
   "metadata": {},
   "outputs": [],
   "source": [
    "p = (\n",
    "    ggplot(dft)\n",
    "    + geom_line(aes(x=\"season\",y=\"PT2_PCT\",color=\"'blue'\"), group=1)\n",
    "    + geom_point(aes(x=\"season\",y=\"PT2_PCT\",color=\"'blue'\"))\n",
    "    + geom_line(aes(x=\"season\",y=\"PT3_PCT\",color=\"'red'\"), group=1)\n",
    "    + geom_point(aes(x=\"season\",y=\"PT3_PCT\",color=\"'red'\"))\n",
    "    + geom_line(aes(x=\"season\",y=\"PTF_PCT\",color=\"'green'\"), group=1)\n",
    "    + geom_point(aes(x=\"season\",y=\"PTF_PCT\",color=\"'green'\"))\n",
    "    + scale_y_continuous(labels=percent_format())\n",
    "    + scale_x_continuous(breaks=range(1997,2024,5))\n",
    "    + theme_idv\n",
    "    + labs(\n",
    "            title= \"Percentage of Points from 2s,3s and FTs 1996-2024\",\n",
    "            caption=\"@sradjoker | source:nba.com/stats\",\n",
    "            y=\"Percentage of Points\"\n",
    "        )\n",
    "    + scale_color_identity(guide='legend',name='Shot', labels=['2s','3s','FTs'])\n",
    ")\n",
    "p.save(fig_DIR + \"PCT_PTS_seasons.png\", width=5, height=4, dpi=300)\n",
    "p.draw()"
   ]
  }
 ],
 "metadata": {
  "kernelspec": {
   "display_name": "nba-ub9Z_EQq-py3.11",
   "language": "python",
   "name": "python3"
  },
  "language_info": {
   "codemirror_mode": {
    "name": "ipython",
    "version": 3
   },
   "file_extension": ".py",
   "mimetype": "text/x-python",
   "name": "python",
   "nbconvert_exporter": "python",
   "pygments_lexer": "ipython3",
   "version": "3.11.6"
  }
 },
 "nbformat": 4,
 "nbformat_minor": 2
}
