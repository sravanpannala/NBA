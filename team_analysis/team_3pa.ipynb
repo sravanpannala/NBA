{
 "cells": [
  {
   "cell_type": "code",
   "execution_count": null,
   "metadata": {},
   "outputs": [],
   "source": [
    "import os, sys\n",
    "\n",
    "sys.path.append(os.path.dirname(os.path.dirname(os.path.abspath(\"__file__\"))))\n",
    "from nbafuns import *\n",
    "\n",
    "fig_DIR = \"../figs/teams/\"\n",
    "box_DIR = \"../data/box/\""
   ]
  },
  {
   "cell_type": "code",
   "execution_count": null,
   "metadata": {},
   "outputs": [],
   "source": [
    "dfa = []\n",
    "for season in range(2019,2025):\n",
    "    df1 = pd.read_parquet(box_DIR + f\"NBA_Box_T_Cum_Base_{season}.parquet\")\n",
    "    df2 = df1\n",
    "    df2[\"Season\"] = season +1\n",
    "    dfa.append(df2)\n",
    "df3 = pd.concat(dfa)"
   ]
  },
  {
   "cell_type": "code",
   "execution_count": null,
   "metadata": {},
   "outputs": [],
   "source": [
    "df3.columns"
   ]
  },
  {
   "cell_type": "code",
   "execution_count": null,
   "metadata": {},
   "outputs": [],
   "source": [
    "t = \"Cleveland Cavaliers\"\n",
    "df4 = df3.query(f\"TEAM_NAME == '{t}'\")\n",
    "df4[\"St\"] = df4[\"FG3A_RANK\"].astype(str)\n",
    "df4"
   ]
  },
  {
   "cell_type": "code",
   "execution_count": null,
   "metadata": {},
   "outputs": [],
   "source": [
    "p = (\n",
    "    ggplot(df4)\n",
    "    + aes(x=\"Season\",y=\"FG3A_RANK\")\n",
    "    + geom_point(size=2)\n",
    "    + geom_line(size=1.5)\n",
    "    # + geom_bar(stat=\"identity\", alpha=0.5)\n",
    "    + geom_text(aes(label=\"St\"), size=16,nudge_y=1)\n",
    "    + theme_idv\n",
    "    +theme(\n",
    "        plot_title=element_text(size=20)\n",
    "    )\n",
    "    + scale_y_reverse()\n",
    "    + labs(\n",
    "        title=f\"{t} 3PT Attempts Rank\",\n",
    "        y=\"3PT Attempts Rank\",\n",
    "        caption=\"bsky:@sradjoker.cc | x:@sradjoker | source:nba.com/stats\"\n",
    "    )\n",
    ")\n",
    "p"
   ]
  }
 ],
 "metadata": {
  "kernelspec": {
   "display_name": "nba-ub9Z_EQq-py3.11",
   "language": "python",
   "name": "python3"
  },
  "language_info": {
   "codemirror_mode": {
    "name": "ipython",
    "version": 3
   },
   "file_extension": ".py",
   "mimetype": "text/x-python",
   "name": "python",
   "nbconvert_exporter": "python",
   "pygments_lexer": "ipython3",
   "version": "3.11.6"
  }
 },
 "nbformat": 4,
 "nbformat_minor": 2
}
