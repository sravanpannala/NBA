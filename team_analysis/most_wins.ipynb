{
 "cells": [
  {
   "cell_type": "code",
   "execution_count": null,
   "metadata": {
    "metadata": {}
   },
   "outputs": [],
   "source": [
    "import os, sys\n",
    "\n",
    "sys.path.append(os.path.dirname(os.path.dirname(os.path.abspath(\"__file__\"))))\n",
    "from nbafuns import *\n",
    "\n",
    "fig_DIR = \"../figs/teams/\"\n",
    "box_DIR = \"../data/box/\"\n",
    "img_DIR_T = \"../data/images/teams/\""
   ]
  },
  {
   "cell_type": "code",
   "execution_count": null,
   "metadata": {
    "metadata": {}
   },
   "outputs": [],
   "source": [
    "dfa = []\n",
    "for year in range(2018,2023):\n",
    "    stats = leaguedashteamstats.LeagueDashTeamStats(\n",
    "        measure_type_detailed_defense=\"Base\",\n",
    "        season_type_all_star=\"Playoffs\",\n",
    "        season=get_ss(year),\n",
    "    )\n",
    "    df1 = stats.get_data_frames()[0]\n",
    "    df1['Season'] = year + 1\n",
    "    dfa.append(df1)\n",
    "df2 = pd.concat(dfa)"
   ]
  },
  {
   "cell_type": "code",
   "execution_count": null,
   "metadata": {
    "metadata": {}
   },
   "outputs": [],
   "source": [
    "df3 = df2.groupby(\"TEAM_NAME\")[\"W\"].sum().reset_index().sort_values(\"W\",ascending=False).reset_index(drop=True)\n",
    "df3.index +=1\n",
    "df3 = df3.reset_index().head(10)\n",
    "df3[\"T\"] = df3[\"TEAM_NAME\"]\n",
    "df3.insert(1,\"T\",df3.pop(\"T\"))"
   ]
  },
  {
   "cell_type": "code",
   "execution_count": null,
   "metadata": {
    "metadata": {}
   },
   "outputs": [],
   "source": [
    "t = (\n",
    "    GT(df3)\n",
    "    .tab_header(\n",
    "        title=md(\"Teams with Most Playoff Wins\"),\n",
    "        subtitle=\"Last 5 Seasons\"\n",
    "    )\n",
    "    .tab_source_note(source_note=\"@sradjoker | source: nba.com/stats\")\n",
    "    .cols_label(\n",
    "        index = \"#\",\n",
    "        T = \"\",\n",
    "        TEAM_NAME = \"Team\",\n",
    "        W = \"Wins\",\n",
    "    )\n",
    "    .cols_align(align=\"center\")\n",
    "    .cols_align(align=\"left\", columns=\"TEAM_NAME\")\n",
    "    .fmt_image(\n",
    "        columns=\"T\",\n",
    "        path = img_DIR_T,\n",
    "        file_pattern=\"{}.png\"\n",
    "    )\n",
    "    .tab_options(\n",
    "        heading_title_font_size=\"120%\",\n",
    "        heading_subtitle_font_size=\"110%\",\n",
    "        # heading_title_font_weight='bold',\n",
    "        table_background_color=\"floralwhite\",\n",
    "        column_labels_font_size=\"105%\",\n",
    "        column_labels_font_weight='bold',\n",
    "        row_group_font_weight='bold',\n",
    "        row_group_background_color=\"#E5E1D8\",\n",
    "        table_font_size=10,\n",
    "        table_font_names=\"Consolas\", \n",
    "        data_row_padding = \"3px\",\n",
    "        table_margin_left = 1,\n",
    "        table_margin_right = 1,\n",
    "    )\n",
    "    # .save(fig_DIR + \"net_season_segment.png\")\n",
    ")\n",
    "t.save(fig_DIR + \"Most_Wins_PS_5.png\",scale=3,expand=2,web_driver=\"edge\")\n",
    "t"
   ]
  }
 ],
 "metadata": {
  "kernelspec": {
   "display_name": "nba-ub9Z_EQq-py3.11",
   "language": "python",
   "name": "python3"
  },
  "language_info": {
   "codemirror_mode": {
    "name": "ipython",
    "version": 3
   },
   "file_extension": ".py",
   "mimetype": "text/x-python",
   "name": "python",
   "nbconvert_exporter": "python",
   "pygments_lexer": "ipython3",
   "version": "3.11.6"
  }
 },
 "nbformat": 4,
 "nbformat_minor": 2
}
