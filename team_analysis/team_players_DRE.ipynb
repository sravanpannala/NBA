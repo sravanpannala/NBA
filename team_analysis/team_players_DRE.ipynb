{
 "cells": [
  {
   "cell_type": "code",
   "execution_count": null,
   "metadata": {},
   "outputs": [],
   "source": [
    "import os, sys\n",
    "\n",
    "sys.path.append(os.path.dirname(os.path.dirname(os.path.abspath(\"__file__\"))))\n",
    "from nbafuns import *\n",
    "\n",
    "player_dict = get_players_pbp()\n",
    "teams_dict, teams_list = get_teams()\n",
    "\n",
    "box_DIR = \"../data/box/\"\n",
    "img_DIR_P = \"../data/images/players/\"\n",
    "fig_DIR = \"../figs/players/\""
   ]
  },
  {
   "cell_type": "code",
   "execution_count": null,
   "metadata": {},
   "outputs": [],
   "source": [
    "seasons = np.arange(2024,2025)\n",
    "df1 = get_box(\"P\",\"Base\",False,seasons)\n",
    "df1[\"game_id\"] = df1[\"game_id\"].astype(int)\n",
    "df2 = get_box(\"P\",\"Adv\",False,seasons)\n",
    "df2 = df2[[\"gameid\",\"personid\",\"possessions\"]]\n",
    "df2.columns = ['game_id','player_id',\"poss\"]\n",
    "df3 = pd.merge(df1,df2,on=['game_id','player_id'])\n",
    "df3[\"dre\"] = -8.42364*df3[\"poss\"]/100+0.79231*df3[\"pts\"]-0.71944*(df3[\"fga\"]-df3[\"fg3a\"])-0.55233*df3[\"fg3a\"]-0.15944*df3[\"fta\"]+0.13479*df3[\"oreb\"]+0.3996*df3[\"dreb\"]+0.54415*df3[\"ast\"]+1.68007*df3[\"stl\"]+0.76387*df3[\"blk\"]-1.3599*df3[\"tov\"]-0.10838*df3[\"pf\"]\n",
    "\n",
    "df3[\"gmsc\"] = df3[\"pts\"]+0.4*df3[\"fgm\"]-0.7*df3[\"fga\"]-0.4*(df3[\"fta\"]-df3[\"ftm\"])+0.7*df3[\"oreb\"]+0.3*df3[\"dreb\"]+df3[\"stl\"]+0.7*df3[\"ast\"]+0.7*df3[\"blk\"]-0.4*df3[\"pf\"]-df3[\"tov\"]"
   ]
  }
 ],
 "metadata": {
  "kernelspec": {
   "display_name": "dav-ub9Z_EQq-py3.12",
   "language": "python",
   "name": "python3"
  },
  "language_info": {
   "name": "python",
   "version": "3.12.0"
  }
 },
 "nbformat": 4,
 "nbformat_minor": 2
}
